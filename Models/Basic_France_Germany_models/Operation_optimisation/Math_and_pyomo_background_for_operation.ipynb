{
 "cells": [
  {
   "cell_type": "markdown",
   "source": [
    "# Mathematical model description\n",
    "\n",
    "## 1. Introduction <a class=\"anchor\" id=\"1.introduction\"></a>\n",
    "\n",
    "This document completes [Math_and_pyomo_background_for_operation.ipynb](../../Basic_France_models/Operation_optimisation/Math_and_pyomo_background_for_operation.ipynb)\n",
    "that gives equation in the multi-node case. If you are interesed in more details and in how to use pyomo, you should go back to this file.\n",
    "\n",
    " ## 2. Description <a class=\"anchor\" id=\"2.Math\"></a>\n",
    "\n",
    "#TODO add congestion constraint\n",
    "\n",
    "\\begin{align}\n",
    "&\\text{Cost function }& &\\min_{x}  \\sum_z \\sum_t \\sum_i \\pi_{iz} x_{itz}\\;\\;\\; & & \\pi_{iz} \\text{ marginal cost}\\\\\n",
    "&\\text{Power limit }   & &\\text{ s.t.} \\;\\; 0 \\leq x_{itz}\\leq a_{itz} \\bar{x_{iz}} & &\\bar{x_{iz}} \\text{ installed power, }  a_{itz} \\text{ availability}\\\\\n",
    "&\\text{Meet demand }   & & \\sum_i x_{itz} \\geq  C_{tz}  && C_{tz} \\text{ Consumption}\\\\\n",
    "&\\text{Stock limit }   & &\\sum_t x_{it}\\leq E_i && E_i=\\bar{x_i}*N_i \\text{ Energy capacity limit}\\\\\n",
    "&\\text{ramp limit }   & &rc^-_i *x_{it}\\leq x_{it}-x_{i(t+1)}\\leq rc^+_i *x_{it} && rc^+_i rc^-_i\\text{ ramp limit}\\\\\n",
    "\\end{align}\n"
   ],
   "metadata": {
    "collapsed": false,
    "pycharm": {
     "name": "#%% md\n"
    }
   }
  },
  {
   "cell_type": "code",
   "execution_count": null,
   "outputs": [],
   "source": [],
   "metadata": {
    "collapsed": false,
    "pycharm": {
     "name": "#%%\n"
    }
   }
  }
 ],
 "metadata": {
  "kernelspec": {
   "display_name": "Python 3",
   "language": "python",
   "name": "python3"
  },
  "language_info": {
   "codemirror_mode": {
    "name": "ipython",
    "version": 2
   },
   "file_extension": ".py",
   "mimetype": "text/x-python",
   "name": "python",
   "nbconvert_exporter": "python",
   "pygments_lexer": "ipython2",
   "version": "2.7.6"
  }
 },
 "nbformat": 4,
 "nbformat_minor": 0
}