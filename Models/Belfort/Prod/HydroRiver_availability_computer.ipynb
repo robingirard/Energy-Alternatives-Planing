{
 "cells": [
  {
   "cell_type": "code",
   "execution_count": 38,
   "id": "369a4e4f",
   "metadata": {},
   "outputs": [],
   "source": [
    "import csv\n",
    "import pandas as pd\n",
    "import datetime as dt"
   ]
  },
  {
   "cell_type": "code",
   "execution_count": 39,
   "id": "00f3c5a5",
   "metadata": {},
   "outputs": [],
   "source": [
    "Hydro_df=pd.read_csv('eCO2mix_hydro_river_2019.csv',sep=';',decimal=',',parse_dates=['Date'])\n",
    "Hydro_df['day']=Hydro_df['Date'].apply(lambda x: x.dayofyear)"
   ]
  },
  {
   "cell_type": "code",
   "execution_count": 40,
   "id": "9d4e3d82",
   "metadata": {},
   "outputs": [],
   "source": [
    "Availability_day_df=Hydro_df.groupby(['day']).mean()/8785\n",
    "Availability_day_df=Availability_day_df.rename(columns={\"Hydraulique fil de l'eau et ecluse\":\"availability\"})\n",
    "Hydro_new_df=Hydro_df.join(Availability_day_df,on='day')"
   ]
  },
  {
   "cell_type": "code",
   "execution_count": 44,
   "id": "0e5e740d",
   "metadata": {},
   "outputs": [],
   "source": [
    "Hydro_new_df[['Date','availability']].set_index('Date').to_csv(\"availability_hydro_river.csv\",sep=';',decimal='.',encoding='utf-8')"
   ]
  },
  {
   "cell_type": "code",
   "execution_count": null,
   "id": "7b9c87f5",
   "metadata": {},
   "outputs": [],
   "source": []
  }
 ],
 "metadata": {
  "kernelspec": {
   "display_name": "energyalternatives",
   "language": "python",
   "name": "energyalternatives"
  },
  "language_info": {
   "codemirror_mode": {
    "name": "ipython",
    "version": 3
   },
   "file_extension": ".py",
   "mimetype": "text/x-python",
   "name": "python",
   "nbconvert_exporter": "python",
   "pygments_lexer": "ipython3",
   "version": "3.10.4"
  }
 },
 "nbformat": 4,
 "nbformat_minor": 5
}
