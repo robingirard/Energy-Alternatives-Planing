{
 "cells": [
  {
   "cell_type": "code",
   "execution_count": 74,
   "id": "ca3b2835",
   "metadata": {},
   "outputs": [],
   "source": [
    "import pandas as pd\n",
    "import numpy as np\n",
    "from sklearn.linear_model import LinearRegression"
   ]
  },
  {
   "cell_type": "markdown",
   "id": "3a5200fa",
   "metadata": {},
   "source": [
    "# Detailed"
   ]
  },
  {
   "cell_type": "code",
   "execution_count": 75,
   "id": "077bf1a7",
   "metadata": {},
   "outputs": [],
   "source": [
    "x=np.array([\n",
    "            [401,1396,4437,1299],\n",
    "            [411,1271,5085,1325],\n",
    "            [440,1334,4030,1101],\n",
    "            [451,1758,4312,941],\n",
    "            ])\n",
    "\n",
    "y=np.array([\n",
    "    [2298,1434,976,612+316+612+410,1355],\n",
    "    [2598,1587,1067,997+136+621+436,1461],\n",
    "    [2173,1341,907,892+115+394+375,1284],\n",
    "    [2340,1443,984,861+114+457+406,1330]\n",
    "]).T[4]\n",
    "#y : ethylene, propylene, C4, aromatics, gas/h2\n",
    "#x : propane, butane, naphta, specific cracking gasoline"
   ]
  },
  {
   "cell_type": "code",
   "execution_count": 76,
   "id": "9b70ff9b",
   "metadata": {},
   "outputs": [
    {
     "name": "stdout",
     "output_type": "stream",
     "text": [
      "1.0\n"
     ]
    }
   ],
   "source": [
    "model_linRegMul = LinearRegression()\n",
    "#entrainement du modèle\n",
    "model_linRegMul.fit(x, y)\n",
    "#précision du modèle\n",
    "precision = model_linRegMul.score(x, y)\n",
    "print(precision)\n",
    "print(model_linRegMul.coef_)\n",
    "print(model_linRegMul.intercept_)"
   ]
  },
  {
   "cell_type": "markdown",
   "id": "65f4f050",
   "metadata": {},
   "source": [
    "# Simple"
   ]
  },
  {
   "cell_type": "code",
   "execution_count": 93,
   "id": "9b3f34fa",
   "metadata": {},
   "outputs": [],
   "source": [
    "x=np.array([\n",
    "            [401+1396,4437+1299],\n",
    "            [411+1271,5085+1325],\n",
    "            [440+1334,4030+1101],\n",
    "            [451+1758,4312+941],\n",
    "            ])\n",
    "\n",
    "y=np.array([\n",
    "    [2298,1434,976,612+316+612+410,1355],\n",
    "    [2598,1587,1067,997+136+621+436,1461],\n",
    "    [2173,1341,907,892+115+394+375,1284],\n",
    "    [2340,1443,984,861+114+457+406,1330]\n",
    "]).T[4]\n",
    "#y : ethylene, propylene, C4, aromatics, gas/h2\n",
    "#x : gas (propane, butane), oil (naphta, specific cracking gasoline)"
   ]
  },
  {
   "cell_type": "code",
   "execution_count": 94,
   "id": "81920f9a",
   "metadata": {},
   "outputs": [
    {
     "name": "stdout",
     "output_type": "stream",
     "text": [
      "0.987514784686655\n",
      "[0.07249875 0.14295505]\n",
      "417.05927960385304\n"
     ]
    }
   ],
   "source": [
    "model_linRegMul = LinearRegression()\n",
    "#entrainement du modèle\n",
    "model_linRegMul.fit(x, y)\n",
    "#précision du modèle\n",
    "precision = model_linRegMul.score(x, y)\n",
    "print(precision)\n",
    "print(model_linRegMul.coef_)\n",
    "print(model_linRegMul.intercept_)"
   ]
  },
  {
   "cell_type": "markdown",
   "id": "6acac531",
   "metadata": {},
   "source": [
    "# Simple (no intercept)"
   ]
  },
  {
   "cell_type": "code",
   "execution_count": 105,
   "id": "2adbfdad",
   "metadata": {},
   "outputs": [],
   "source": [
    "x=np.array([\n",
    "            [401+1396,4437+1299],\n",
    "            [411+1271,5085+1325],\n",
    "            [440+1334,4030+1101],\n",
    "            [451+1758,4312+941],\n",
    "            ])\n",
    "\n",
    "y=np.array([\n",
    "    [2298,1434,976,612+316+612+410,1355],\n",
    "    [2598,1587,1067,997+136+621+436,1461],\n",
    "    [2173,1341,907,892+115+394+375,1284],\n",
    "    [2340,1443,984,861+114+457+406,1330]\n",
    "]).T[0]\n",
    "#y : ethylene, propylene, C4, aromatics, gas/h2\n",
    "#x : gas (propane, butane), oil (naphta, specific cracking gasoline)"
   ]
  },
  {
   "cell_type": "code",
   "execution_count": 106,
   "id": "3d5e62c3",
   "metadata": {},
   "outputs": [
    {
     "name": "stdout",
     "output_type": "stream",
     "text": [
      "0.9272854704899125\n",
      "[0.26870997 0.32870777]\n",
      "0.0\n"
     ]
    }
   ],
   "source": [
    "model_linRegMul = LinearRegression(fit_intercept=False)\n",
    "#entrainement du modèle\n",
    "model_linRegMul.fit(x, y)\n",
    "#précision du modèle\n",
    "precision = model_linRegMul.score(x, y)\n",
    "print(precision)\n",
    "print(model_linRegMul.coef_)\n",
    "print(model_linRegMul.intercept_)"
   ]
  },
  {
   "cell_type": "code",
   "execution_count": null,
   "id": "c04fc00b",
   "metadata": {},
   "outputs": [],
   "source": []
  }
 ],
 "metadata": {
  "kernelspec": {
   "display_name": "Python 3 (ipykernel)",
   "language": "python",
   "name": "python3"
  },
  "language_info": {
   "codemirror_mode": {
    "name": "ipython",
    "version": 3
   },
   "file_extension": ".py",
   "mimetype": "text/x-python",
   "name": "python",
   "nbconvert_exporter": "python",
   "pygments_lexer": "ipython3",
   "version": "3.10.2"
  }
 },
 "nbformat": 4,
 "nbformat_minor": 5
}
