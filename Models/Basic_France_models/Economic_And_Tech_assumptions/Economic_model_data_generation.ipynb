{
 "cells": [
  {
   "cell_type": "markdown",
   "metadata": {
    "pycharm": {
     "name": "#%% md\n"
    }
   },
   "source": [
    "# Economic assumptions\n",
    "### Table of Contents\n",
    "\n",
    "* [1. Introduction ](#1.introduction)\n",
    "* [2. Loading Economic assumption and computing annualized costs (marginal and fixed)](#2.Loading)\n",
    "    * [2.2 General economic assumptions](#2.1.Loading)\n",
    "    * [2.2 Production economic assumptions](#2.2.Loading)\n",
    "    * [2.3 Compute variable and fixed annualized costs](#2.3.Loading)\n",
    "* [3. Generation of assumption files for the Planning/operation tool](#3.Loading)\n",
    "    * [3.1 Technical on the electric mix. ](#3.1.Loading)\n",
    "    * [3.2 Generating file for operation ](#3.2.operation)\n",
    "    * [3.3 Generating file for Planning ](#3.3.Planning)\n",
    "* [4. A first evaluation of System Cost](#4.SystemCost)\n",
    "    * [4.1 System cost computation](#4.1SystemCost)\n",
    "* [5. Multi-zone case](#5.multizone)\n",
    "    * [5.1 Production data](#5.1.multizone)\n",
    "    * [5.2 Multizone Operation](#5.2.multizone)\n",
    "    * [5.3 Multizone Planning](#5.3.multizone)\n",
    "\n",
    "\n",
    "## 1. Introduction  <a class=\"anchor\" id=\"1.introduction\"></a>\n",
    "In this file we learn how to compute a set of annualized costs that are used in the Planning tool\n",
    "For each technology it is only two numbers :\n",
    " - variable cost [€/MWh]\n",
    " - fixed annualized [€/kW/year]\n",
    "\n",
    "These are obtained from a set of general economic assumptions\n",
    " - discounting rate [%]\n",
    " - carbon tax [€/t]\n",
    "\n",
    "and assumptions per production technology (eventually per area)\n",
    " - CAPEX [€/kW]\n",
    " - Cost of dismantling [€/kW]\n",
    " - fixed operation and maintenance cost [€/kW/year]\n",
    " - variable cost [€/MWh]\n",
    " - life length [year]\n",
    " - construction length [year]\n",
    " - CO2 Emissions [gCO2/kWh]\n",
    "\n",
    "\n",
    "Before you start here you should be familiar with annualized cost of electricity (variable and fixed cost) and levelised cost of energy.\n",
    "In [my post here on lcoe](https://www.energy-alternatives.eu/2020/08/20/decomposition-lcoe.html) you will find all sources for\n",
    "formulae and economic assumptions (in french, if there are people that would be willing to contribute to a translation that would be great !!)\n",
    "and also [this one on the role of power and enery in system cost](https://www.energy-alternatives.eu/2020/05/07/mix-de-production-delectricite-energie-et-puissance.html).\n",
    "An old excel file [here](https://docs.google.com/spreadsheets/d/1wWWu0YwsvkzmEG8XDRnsIoEegmALqZL-9XPxWx3z2Qo/edit?usp=sharing) contains similar stuff.\n",
    "Side remark : to make all this be interactive in jupyter notebook, I'm using package [qgrid](https://github.com/quantopian/qgrid)."
   ]
  },
  {
   "cell_type": "code",
   "execution_count": 10,
   "metadata": {
    "pycharm": {
     "name": "#%%\n"
    },
    "scrolled": true
   },
   "outputs": [],
   "source": [
    "#region importation of modules\n",
    "import os\n",
    "OperationOutputFolder='../Operation_optimisation/Data/'\n",
    "PlanningOutputFolder='../Operation_optimisation/Data/'\n",
    "import pandas as pd\n",
    "import qgrid # great package https://github.com/quantopian/qgrid\n",
    "import numpy as np\n",
    "#endregion"
   ]
  },
  {
   "cell_type": "markdown",
   "metadata": {
    "pycharm": {
     "name": "#%% md\n"
    }
   },
   "source": [
    "## 2. Loading Economic assumption and computing annualized costs (marginal and fixed) <a class=\"anchor\" id=\"2.Loading\"></a>\n",
    "\n",
    "### 2.2 General economic assumptions <a class=\"anchor\" id=\"2.1.Loading\"></a>"
   ]
  },
  {
   "cell_type": "code",
   "execution_count": 11,
   "metadata": {
    "pycharm": {
     "name": "#%%\n"
    }
   },
   "outputs": [
    {
     "data": {
      "text/plain": "QgridWidget(grid_options={'fullWidthRows': True, 'syncColumnCellResize': True, 'forceFitColumns': True, 'defau…",
      "application/vnd.jupyter.widget-view+json": {
       "version_major": 2,
       "version_minor": 0,
       "model_id": "69fdae8b6c1c4e5fac788e5f17344092"
      }
     },
     "metadata": {},
     "output_type": "display_data"
    }
   ],
   "source": [
    "#region - general economic assumption\n",
    "General = pd.read_csv('GeneralEconomicAssumptions.csv',sep=',',decimal='.',skiprows=0,comment=\"#\")\n",
    "col_def = {}#  { 'A': { 'editable': True } }\n",
    "qgrid_widget = qgrid.show_grid(General, show_toolbar=True, column_definitions=col_def)\n",
    "qgrid_widget\n",
    "#endregion"
   ]
  },
  {
   "cell_type": "code",
   "execution_count": 12,
   "metadata": {
    "pycharm": {
     "name": "#%%\n"
    }
   },
   "outputs": [
    {
     "data": {
      "text/plain": "   discountPercent  carbonTaxEurosPerT\n0                4                  40",
      "text/html": "<div>\n<style scoped>\n    .dataframe tbody tr th:only-of-type {\n        vertical-align: middle;\n    }\n\n    .dataframe tbody tr th {\n        vertical-align: top;\n    }\n\n    .dataframe thead th {\n        text-align: right;\n    }\n</style>\n<table border=\"1\" class=\"dataframe\">\n  <thead>\n    <tr style=\"text-align: right;\">\n      <th></th>\n      <th>discountPercent</th>\n      <th>carbonTaxEurosPerT</th>\n    </tr>\n  </thead>\n  <tbody>\n    <tr>\n      <th>0</th>\n      <td>4</td>\n      <td>40</td>\n    </tr>\n  </tbody>\n</table>\n</div>"
     },
     "execution_count": 12,
     "metadata": {},
     "output_type": "execute_result"
    }
   ],
   "source": [
    "General=qgrid_widget.get_changed_df()\n",
    "General\n",
    "\n"
   ]
  },
  {
   "cell_type": "markdown",
   "metadata": {
    "pycharm": {
     "name": "#%% md\n"
    }
   },
   "source": [
    "### 2.2 Production economic assumptions  <a class=\"anchor\" id=\"2.2.Loading\"></a>"
   ]
  },
  {
   "cell_type": "code",
   "execution_count": 13,
   "metadata": {
    "pycharm": {
     "name": "#%%\n"
    }
   },
   "outputs": [
    {
     "data": {
      "text/plain": "QgridWidget(grid_options={'fullWidthRows': True, 'syncColumnCellResize': True, 'forceFitColumns': True, 'defau…",
      "application/vnd.jupyter.widget-view+json": {
       "version_major": 2,
       "version_minor": 0,
       "model_id": "e87f08307dbc4e478ae3d3fc92648060"
      }
     },
     "metadata": {},
     "output_type": "display_data"
    }
   ],
   "source": [
    "#region - general production assumption\n",
    "Production = pd.read_csv('ProductionEconomicAssumptions.csv',sep=',',decimal='.',skiprows=0,comment=\"#\")\n",
    "Production=Production[Production[\"AREAS\"]==\"FR\"]\n",
    "qgrid_widget = qgrid.show_grid(Production, show_toolbar=True, column_definitions=col_def)\n",
    "qgrid_widget\n",
    "\n",
    "#endregion"
   ]
  },
  {
   "cell_type": "code",
   "execution_count": 14,
   "metadata": {
    "pycharm": {
     "name": "#%%\n"
    }
   },
   "outputs": [
    {
     "data": {
      "text/plain": "    YEAR AREAS             TECHNOLOGIES  CAPEX  dismantling  Variable  FOM  \\\n0   2019    FR                      TAC    600          100        60   36   \n1   2019    FR                     Coal   1100          100        40   36   \n2   2019    FR                      CCG    900          100        50   36   \n3   2019    FR                  OldNuke      0         1000         7  150   \n4   2019    FR              NukeCarrene   1587         1000         7  150   \n5   2019    FR                  NewNuke   5000         1000         7  150   \n6   2019    FR              WindOnShore   1300           50         0   45   \n7   2019    FR             WindOffShore   2500          100         0  114   \n8   2019    FR           HydroReservoir   1500           10         0   20   \n9   2019    FR               HydroRiver   1500           10         0   20   \n10  2019    FR                    Solar    800           30         0   20   \n11  2019    FR  ResidentialRoofTopSolar   1400           30         0    5   \n12  2019    FR        IndusRoofTopSolar   1000           30         0   20   \n13  2019    FR              curtailment      0            0      3000    0   \n\n    LL  CL  CO2Emission  \n0   30   2          600  \n1   30   2         1000  \n2   30   2          470  \n3   60   0            0  \n4   60   0            0  \n5   80  10            0  \n6   30   2            0  \n7   30   3            0  \n8   80  10            0  \n9   80  10            0  \n10  25   1            0  \n11  25   0            0  \n12  25   1            0  \n13   1   0            0  ",
      "text/html": "<div>\n<style scoped>\n    .dataframe tbody tr th:only-of-type {\n        vertical-align: middle;\n    }\n\n    .dataframe tbody tr th {\n        vertical-align: top;\n    }\n\n    .dataframe thead th {\n        text-align: right;\n    }\n</style>\n<table border=\"1\" class=\"dataframe\">\n  <thead>\n    <tr style=\"text-align: right;\">\n      <th></th>\n      <th>YEAR</th>\n      <th>AREAS</th>\n      <th>TECHNOLOGIES</th>\n      <th>CAPEX</th>\n      <th>dismantling</th>\n      <th>Variable</th>\n      <th>FOM</th>\n      <th>LL</th>\n      <th>CL</th>\n      <th>CO2Emission</th>\n    </tr>\n  </thead>\n  <tbody>\n    <tr>\n      <th>0</th>\n      <td>2019</td>\n      <td>FR</td>\n      <td>TAC</td>\n      <td>600</td>\n      <td>100</td>\n      <td>60</td>\n      <td>36</td>\n      <td>30</td>\n      <td>2</td>\n      <td>600</td>\n    </tr>\n    <tr>\n      <th>1</th>\n      <td>2019</td>\n      <td>FR</td>\n      <td>Coal</td>\n      <td>1100</td>\n      <td>100</td>\n      <td>40</td>\n      <td>36</td>\n      <td>30</td>\n      <td>2</td>\n      <td>1000</td>\n    </tr>\n    <tr>\n      <th>2</th>\n      <td>2019</td>\n      <td>FR</td>\n      <td>CCG</td>\n      <td>900</td>\n      <td>100</td>\n      <td>50</td>\n      <td>36</td>\n      <td>30</td>\n      <td>2</td>\n      <td>470</td>\n    </tr>\n    <tr>\n      <th>3</th>\n      <td>2019</td>\n      <td>FR</td>\n      <td>OldNuke</td>\n      <td>0</td>\n      <td>1000</td>\n      <td>7</td>\n      <td>150</td>\n      <td>60</td>\n      <td>0</td>\n      <td>0</td>\n    </tr>\n    <tr>\n      <th>4</th>\n      <td>2019</td>\n      <td>FR</td>\n      <td>NukeCarrene</td>\n      <td>1587</td>\n      <td>1000</td>\n      <td>7</td>\n      <td>150</td>\n      <td>60</td>\n      <td>0</td>\n      <td>0</td>\n    </tr>\n    <tr>\n      <th>5</th>\n      <td>2019</td>\n      <td>FR</td>\n      <td>NewNuke</td>\n      <td>5000</td>\n      <td>1000</td>\n      <td>7</td>\n      <td>150</td>\n      <td>80</td>\n      <td>10</td>\n      <td>0</td>\n    </tr>\n    <tr>\n      <th>6</th>\n      <td>2019</td>\n      <td>FR</td>\n      <td>WindOnShore</td>\n      <td>1300</td>\n      <td>50</td>\n      <td>0</td>\n      <td>45</td>\n      <td>30</td>\n      <td>2</td>\n      <td>0</td>\n    </tr>\n    <tr>\n      <th>7</th>\n      <td>2019</td>\n      <td>FR</td>\n      <td>WindOffShore</td>\n      <td>2500</td>\n      <td>100</td>\n      <td>0</td>\n      <td>114</td>\n      <td>30</td>\n      <td>3</td>\n      <td>0</td>\n    </tr>\n    <tr>\n      <th>8</th>\n      <td>2019</td>\n      <td>FR</td>\n      <td>HydroReservoir</td>\n      <td>1500</td>\n      <td>10</td>\n      <td>0</td>\n      <td>20</td>\n      <td>80</td>\n      <td>10</td>\n      <td>0</td>\n    </tr>\n    <tr>\n      <th>9</th>\n      <td>2019</td>\n      <td>FR</td>\n      <td>HydroRiver</td>\n      <td>1500</td>\n      <td>10</td>\n      <td>0</td>\n      <td>20</td>\n      <td>80</td>\n      <td>10</td>\n      <td>0</td>\n    </tr>\n    <tr>\n      <th>10</th>\n      <td>2019</td>\n      <td>FR</td>\n      <td>Solar</td>\n      <td>800</td>\n      <td>30</td>\n      <td>0</td>\n      <td>20</td>\n      <td>25</td>\n      <td>1</td>\n      <td>0</td>\n    </tr>\n    <tr>\n      <th>11</th>\n      <td>2019</td>\n      <td>FR</td>\n      <td>ResidentialRoofTopSolar</td>\n      <td>1400</td>\n      <td>30</td>\n      <td>0</td>\n      <td>5</td>\n      <td>25</td>\n      <td>0</td>\n      <td>0</td>\n    </tr>\n    <tr>\n      <th>12</th>\n      <td>2019</td>\n      <td>FR</td>\n      <td>IndusRoofTopSolar</td>\n      <td>1000</td>\n      <td>30</td>\n      <td>0</td>\n      <td>20</td>\n      <td>25</td>\n      <td>1</td>\n      <td>0</td>\n    </tr>\n    <tr>\n      <th>13</th>\n      <td>2019</td>\n      <td>FR</td>\n      <td>curtailment</td>\n      <td>0</td>\n      <td>0</td>\n      <td>3000</td>\n      <td>0</td>\n      <td>1</td>\n      <td>0</td>\n      <td>0</td>\n    </tr>\n  </tbody>\n</table>\n</div>"
     },
     "execution_count": 14,
     "metadata": {},
     "output_type": "execute_result"
    }
   ],
   "source": [
    "Production=qgrid_widget.get_changed_df()\n",
    "Production"
   ]
  },
  {
   "cell_type": "markdown",
   "metadata": {
    "pycharm": {
     "name": "#%% md\n"
    }
   },
   "source": [
    "### 2.3 Compute variable and fixed annualized costs <a class=\"anchor\" id=\"2.3.Loading\"></a>\n",
    "For each technology it is only two numbers :\n",
    " - variable cost [€/MWh]\n",
    " - fixed annualized [€/kW/year]\n",
    "\n",
    "The formula used here is explained [in this post](https://www.energy-alternatives.eu/2020/08/20/decomposition-lcoe.html)"
   ]
  },
  {
   "cell_type": "code",
   "execution_count": 6,
   "metadata": {
    "pycharm": {
     "name": "#%%\n"
    }
   },
   "outputs": [
    {
     "data": {
      "text/plain": "    YEAR AREAS             TECHNOLOGIES  CAPEX  dismantling  Variable  FOM  \\\n0   2019    FR                      TAC    600          100        60   36   \n1   2019    FR                     Coal   1100          100        40   36   \n2   2019    FR                      CCG    900          100        50   36   \n3   2019    FR                  OldNuke      0         1000         7  150   \n4   2019    FR              NukeCarrene   1587         1000         7  150   \n5   2019    FR                  NewNuke   5000         1000         7  150   \n6   2019    FR              WindOnShore   1300           50         0   45   \n7   2019    FR             WindOffShore   2500          100         0  114   \n8   2019    FR           HydroReservoir   1500           10         0   20   \n9   2019    FR               HydroRiver   1500           10         0   20   \n10  2019    FR                    Solar    800           30         0   20   \n11  2019    FR  ResidentialRoofTopSolar   1400           30         0    5   \n12  2019    FR        IndusRoofTopSolar   1000           30         0   20   \n13  2019    FR              curtailment      0            0      3000    0   \n\n    LL  CL  CO2Emission    LLr  capacityCost  energyCost  \n0   30   2          600  17.98      100200.0        84.0  \n1   30   2         1000  17.98      128010.0        80.0  \n2   30   2          470  17.98      116890.0        68.8  \n3   60   0            0  23.53      245060.0         7.0  \n4   60   0            0  23.53      312510.0         7.0  \n5   80  10            0  24.87      394430.0         7.0  \n6   30   2            0  17.98      132720.0         0.0  \n7   30   3            0  17.98      283880.0         0.0  \n8   80  10            0  24.87       80750.0         0.0  \n9   80  10            0  24.87       80750.0         0.0  \n10  25   1            0  16.25       80480.0         0.0  \n11  25   0            0  16.25      102410.0         0.0  \n12  25   1            0  16.25       92790.0         0.0  \n13   1   0            0   1.00           0.0      3000.0  ",
      "text/html": "<div>\n<style scoped>\n    .dataframe tbody tr th:only-of-type {\n        vertical-align: middle;\n    }\n\n    .dataframe tbody tr th {\n        vertical-align: top;\n    }\n\n    .dataframe thead th {\n        text-align: right;\n    }\n</style>\n<table border=\"1\" class=\"dataframe\">\n  <thead>\n    <tr style=\"text-align: right;\">\n      <th></th>\n      <th>YEAR</th>\n      <th>AREAS</th>\n      <th>TECHNOLOGIES</th>\n      <th>CAPEX</th>\n      <th>dismantling</th>\n      <th>Variable</th>\n      <th>FOM</th>\n      <th>LL</th>\n      <th>CL</th>\n      <th>CO2Emission</th>\n      <th>LLr</th>\n      <th>capacityCost</th>\n      <th>energyCost</th>\n    </tr>\n  </thead>\n  <tbody>\n    <tr>\n      <th>0</th>\n      <td>2019</td>\n      <td>FR</td>\n      <td>TAC</td>\n      <td>600</td>\n      <td>100</td>\n      <td>60</td>\n      <td>36</td>\n      <td>30</td>\n      <td>2</td>\n      <td>600</td>\n      <td>17.98</td>\n      <td>100200.0</td>\n      <td>84.0</td>\n    </tr>\n    <tr>\n      <th>1</th>\n      <td>2019</td>\n      <td>FR</td>\n      <td>Coal</td>\n      <td>1100</td>\n      <td>100</td>\n      <td>40</td>\n      <td>36</td>\n      <td>30</td>\n      <td>2</td>\n      <td>1000</td>\n      <td>17.98</td>\n      <td>128010.0</td>\n      <td>80.0</td>\n    </tr>\n    <tr>\n      <th>2</th>\n      <td>2019</td>\n      <td>FR</td>\n      <td>CCG</td>\n      <td>900</td>\n      <td>100</td>\n      <td>50</td>\n      <td>36</td>\n      <td>30</td>\n      <td>2</td>\n      <td>470</td>\n      <td>17.98</td>\n      <td>116890.0</td>\n      <td>68.8</td>\n    </tr>\n    <tr>\n      <th>3</th>\n      <td>2019</td>\n      <td>FR</td>\n      <td>OldNuke</td>\n      <td>0</td>\n      <td>1000</td>\n      <td>7</td>\n      <td>150</td>\n      <td>60</td>\n      <td>0</td>\n      <td>0</td>\n      <td>23.53</td>\n      <td>245060.0</td>\n      <td>7.0</td>\n    </tr>\n    <tr>\n      <th>4</th>\n      <td>2019</td>\n      <td>FR</td>\n      <td>NukeCarrene</td>\n      <td>1587</td>\n      <td>1000</td>\n      <td>7</td>\n      <td>150</td>\n      <td>60</td>\n      <td>0</td>\n      <td>0</td>\n      <td>23.53</td>\n      <td>312510.0</td>\n      <td>7.0</td>\n    </tr>\n    <tr>\n      <th>5</th>\n      <td>2019</td>\n      <td>FR</td>\n      <td>NewNuke</td>\n      <td>5000</td>\n      <td>1000</td>\n      <td>7</td>\n      <td>150</td>\n      <td>80</td>\n      <td>10</td>\n      <td>0</td>\n      <td>24.87</td>\n      <td>394430.0</td>\n      <td>7.0</td>\n    </tr>\n    <tr>\n      <th>6</th>\n      <td>2019</td>\n      <td>FR</td>\n      <td>WindOnShore</td>\n      <td>1300</td>\n      <td>50</td>\n      <td>0</td>\n      <td>45</td>\n      <td>30</td>\n      <td>2</td>\n      <td>0</td>\n      <td>17.98</td>\n      <td>132720.0</td>\n      <td>0.0</td>\n    </tr>\n    <tr>\n      <th>7</th>\n      <td>2019</td>\n      <td>FR</td>\n      <td>WindOffShore</td>\n      <td>2500</td>\n      <td>100</td>\n      <td>0</td>\n      <td>114</td>\n      <td>30</td>\n      <td>3</td>\n      <td>0</td>\n      <td>17.98</td>\n      <td>283880.0</td>\n      <td>0.0</td>\n    </tr>\n    <tr>\n      <th>8</th>\n      <td>2019</td>\n      <td>FR</td>\n      <td>HydroReservoir</td>\n      <td>1500</td>\n      <td>10</td>\n      <td>0</td>\n      <td>20</td>\n      <td>80</td>\n      <td>10</td>\n      <td>0</td>\n      <td>24.87</td>\n      <td>80750.0</td>\n      <td>0.0</td>\n    </tr>\n    <tr>\n      <th>9</th>\n      <td>2019</td>\n      <td>FR</td>\n      <td>HydroRiver</td>\n      <td>1500</td>\n      <td>10</td>\n      <td>0</td>\n      <td>20</td>\n      <td>80</td>\n      <td>10</td>\n      <td>0</td>\n      <td>24.87</td>\n      <td>80750.0</td>\n      <td>0.0</td>\n    </tr>\n    <tr>\n      <th>10</th>\n      <td>2019</td>\n      <td>FR</td>\n      <td>Solar</td>\n      <td>800</td>\n      <td>30</td>\n      <td>0</td>\n      <td>20</td>\n      <td>25</td>\n      <td>1</td>\n      <td>0</td>\n      <td>16.25</td>\n      <td>80480.0</td>\n      <td>0.0</td>\n    </tr>\n    <tr>\n      <th>11</th>\n      <td>2019</td>\n      <td>FR</td>\n      <td>ResidentialRoofTopSolar</td>\n      <td>1400</td>\n      <td>30</td>\n      <td>0</td>\n      <td>5</td>\n      <td>25</td>\n      <td>0</td>\n      <td>0</td>\n      <td>16.25</td>\n      <td>102410.0</td>\n      <td>0.0</td>\n    </tr>\n    <tr>\n      <th>12</th>\n      <td>2019</td>\n      <td>FR</td>\n      <td>IndusRoofTopSolar</td>\n      <td>1000</td>\n      <td>30</td>\n      <td>0</td>\n      <td>20</td>\n      <td>25</td>\n      <td>1</td>\n      <td>0</td>\n      <td>16.25</td>\n      <td>92790.0</td>\n      <td>0.0</td>\n    </tr>\n    <tr>\n      <th>13</th>\n      <td>2019</td>\n      <td>FR</td>\n      <td>curtailment</td>\n      <td>0</td>\n      <td>0</td>\n      <td>3000</td>\n      <td>0</td>\n      <td>1</td>\n      <td>0</td>\n      <td>0</td>\n      <td>1.00</td>\n      <td>0.0</td>\n      <td>3000.0</td>\n    </tr>\n  </tbody>\n</table>\n</div>"
     },
     "execution_count": 6,
     "metadata": {},
     "output_type": "execute_result"
    }
   ],
   "source": [
    "\n",
    "r=(General.discountPercent[0]/100)\n",
    "#r=0.05\n",
    "#Production.CAPEX[6]=1100\n",
    "#Production.CAPEX[5]=6000\n",
    "Production=Production.assign(\n",
    "    LLr = round((1+r)/r*(1-(1+r)**(-Production['LL'])),2))\n",
    "Production = Production.assign(\n",
    "    capacityCost = round(Production.CAPEX/Production.LLr+ Production.dismantling/(1+r)**(Production.LL) +Production.FOM,2)*1000,\n",
    "    energyCost = round(Production.Variable + Production.CO2Emission*General.carbonTaxEurosPerT[0]/10**3,2)\n",
    ")\n",
    "\n",
    "Production\n",
    "## Storage economic assumptions\n",
    "\n"
   ]
  },
  {
   "cell_type": "markdown",
   "metadata": {
    "pycharm": {
     "name": "#%% md\n"
    }
   },
   "source": [
    "## 3. Generation of assumption files for the Planning/operation tool <a class=\"anchor\" id=\"3.Loading\"></a>\n",
    "### 3.1 Technical on the electric mix. <a class=\"anchor\" id=\"3.1.Loading\"></a>"
   ]
  },
  {
   "cell_type": "code",
   "execution_count": 7,
   "metadata": {
    "pycharm": {
     "name": "#%%\n"
    }
   },
   "outputs": [
    {
     "data": {
      "text/plain": "    YEAR_x AREAS             TECHNOLOGIES  capacity  ProducedEnergy  \\\n0     2019    FR                      TAC      4000             3.2   \n1     2019    FR                     Coal      2000             1.0   \n2     2019    FR                      CCG     12000            38.6   \n3     2019    FR                  OldNuke     63000           413.0   \n4     2019    FR              NukeCarrene         0             0.0   \n5     2019    FR                  NewNuke         0             0.0   \n6     2019    FR              WindOnShore     14900            29.0   \n7     2019    FR             WindOffShore         0             0.0   \n8     2019    FR           HydroReservoir      7000            33.0   \n9     2019    FR               HydroRiver     10000            30.0   \n10    2019    FR                    Solar      9600            11.0   \n11    2019    FR  ResidentialRoofTopSolar         0             0.0   \n12    2019    FR        IndusRoofTopSolar         0             0.0   \n13    2019    FR              curtailment     10000             0.0   \n\n    EnergyNbhourCap  RampConstraintPlus  RampConstraintMoins  \\\n0                 0                0.00                 0.00   \n1                 0                0.06                 0.06   \n2                 0                0.06                 0.06   \n3                 0                0.04                 0.04   \n4                 0                0.00                 0.00   \n5                 0                0.00                 0.00   \n6                 0                0.00                 0.00   \n7                 0                0.00                 0.00   \n8              2100                0.00                 0.00   \n9                 0                0.00                 0.00   \n10                0                0.00                 0.00   \n11                0                0.00                 0.00   \n12                0                0.00                 0.00   \n13                0                0.00                 0.00   \n\n    RampConstraintPlus2  RampConstraintMoins2  ...  CAPEX  dismantling  \\\n0                     0                     0  ...    600          100   \n1                     0                     0  ...   1100          100   \n2                     0                     0  ...    900          100   \n3                     0                     0  ...      0         1000   \n4                     0                     0  ...   1587         1000   \n5                     0                     0  ...   5000         1000   \n6                     0                     0  ...   1300           50   \n7                     0                     0  ...   2500          100   \n8                     0                     0  ...   1500           10   \n9                     0                     0  ...   1500           10   \n10                    0                     0  ...    800           30   \n11                    0                     0  ...   1400           30   \n12                    0                     0  ...   1000           30   \n13                    0                     0  ...      0            0   \n\n    Variable  FOM  LL  CL  CO2Emission    LLr  capacityCost  energyCost  \n0         60   36  30   2          600  17.98      100200.0        84.0  \n1         40   36  30   2         1000  17.98      128010.0        80.0  \n2         50   36  30   2          470  17.98      116890.0        68.8  \n3          7  150  60   0            0  23.53      245060.0         7.0  \n4          7  150  60   0            0  23.53      312510.0         7.0  \n5          7  150  80  10            0  24.87      394430.0         7.0  \n6          0   45  30   2            0  17.98      132720.0         0.0  \n7          0  114  30   3            0  17.98      283880.0         0.0  \n8          0   20  80  10            0  24.87       80750.0         0.0  \n9          0   20  80  10            0  24.87       80750.0         0.0  \n10         0   20  25   1            0  16.25       80480.0         0.0  \n11         0    5  25   0            0  16.25      102410.0         0.0  \n12         0   20  25   1            0  16.25       92790.0         0.0  \n13      3000    0   1   0            0   1.00           0.0      3000.0  \n\n[14 rows x 21 columns]",
      "text/html": "<div>\n<style scoped>\n    .dataframe tbody tr th:only-of-type {\n        vertical-align: middle;\n    }\n\n    .dataframe tbody tr th {\n        vertical-align: top;\n    }\n\n    .dataframe thead th {\n        text-align: right;\n    }\n</style>\n<table border=\"1\" class=\"dataframe\">\n  <thead>\n    <tr style=\"text-align: right;\">\n      <th></th>\n      <th>YEAR_x</th>\n      <th>AREAS</th>\n      <th>TECHNOLOGIES</th>\n      <th>capacity</th>\n      <th>ProducedEnergy</th>\n      <th>EnergyNbhourCap</th>\n      <th>RampConstraintPlus</th>\n      <th>RampConstraintMoins</th>\n      <th>RampConstraintPlus2</th>\n      <th>RampConstraintMoins2</th>\n      <th>...</th>\n      <th>CAPEX</th>\n      <th>dismantling</th>\n      <th>Variable</th>\n      <th>FOM</th>\n      <th>LL</th>\n      <th>CL</th>\n      <th>CO2Emission</th>\n      <th>LLr</th>\n      <th>capacityCost</th>\n      <th>energyCost</th>\n    </tr>\n  </thead>\n  <tbody>\n    <tr>\n      <th>0</th>\n      <td>2019</td>\n      <td>FR</td>\n      <td>TAC</td>\n      <td>4000</td>\n      <td>3.2</td>\n      <td>0</td>\n      <td>0.00</td>\n      <td>0.00</td>\n      <td>0</td>\n      <td>0</td>\n      <td>...</td>\n      <td>600</td>\n      <td>100</td>\n      <td>60</td>\n      <td>36</td>\n      <td>30</td>\n      <td>2</td>\n      <td>600</td>\n      <td>17.98</td>\n      <td>100200.0</td>\n      <td>84.0</td>\n    </tr>\n    <tr>\n      <th>1</th>\n      <td>2019</td>\n      <td>FR</td>\n      <td>Coal</td>\n      <td>2000</td>\n      <td>1.0</td>\n      <td>0</td>\n      <td>0.06</td>\n      <td>0.06</td>\n      <td>0</td>\n      <td>0</td>\n      <td>...</td>\n      <td>1100</td>\n      <td>100</td>\n      <td>40</td>\n      <td>36</td>\n      <td>30</td>\n      <td>2</td>\n      <td>1000</td>\n      <td>17.98</td>\n      <td>128010.0</td>\n      <td>80.0</td>\n    </tr>\n    <tr>\n      <th>2</th>\n      <td>2019</td>\n      <td>FR</td>\n      <td>CCG</td>\n      <td>12000</td>\n      <td>38.6</td>\n      <td>0</td>\n      <td>0.06</td>\n      <td>0.06</td>\n      <td>0</td>\n      <td>0</td>\n      <td>...</td>\n      <td>900</td>\n      <td>100</td>\n      <td>50</td>\n      <td>36</td>\n      <td>30</td>\n      <td>2</td>\n      <td>470</td>\n      <td>17.98</td>\n      <td>116890.0</td>\n      <td>68.8</td>\n    </tr>\n    <tr>\n      <th>3</th>\n      <td>2019</td>\n      <td>FR</td>\n      <td>OldNuke</td>\n      <td>63000</td>\n      <td>413.0</td>\n      <td>0</td>\n      <td>0.04</td>\n      <td>0.04</td>\n      <td>0</td>\n      <td>0</td>\n      <td>...</td>\n      <td>0</td>\n      <td>1000</td>\n      <td>7</td>\n      <td>150</td>\n      <td>60</td>\n      <td>0</td>\n      <td>0</td>\n      <td>23.53</td>\n      <td>245060.0</td>\n      <td>7.0</td>\n    </tr>\n    <tr>\n      <th>4</th>\n      <td>2019</td>\n      <td>FR</td>\n      <td>NukeCarrene</td>\n      <td>0</td>\n      <td>0.0</td>\n      <td>0</td>\n      <td>0.00</td>\n      <td>0.00</td>\n      <td>0</td>\n      <td>0</td>\n      <td>...</td>\n      <td>1587</td>\n      <td>1000</td>\n      <td>7</td>\n      <td>150</td>\n      <td>60</td>\n      <td>0</td>\n      <td>0</td>\n      <td>23.53</td>\n      <td>312510.0</td>\n      <td>7.0</td>\n    </tr>\n    <tr>\n      <th>5</th>\n      <td>2019</td>\n      <td>FR</td>\n      <td>NewNuke</td>\n      <td>0</td>\n      <td>0.0</td>\n      <td>0</td>\n      <td>0.00</td>\n      <td>0.00</td>\n      <td>0</td>\n      <td>0</td>\n      <td>...</td>\n      <td>5000</td>\n      <td>1000</td>\n      <td>7</td>\n      <td>150</td>\n      <td>80</td>\n      <td>10</td>\n      <td>0</td>\n      <td>24.87</td>\n      <td>394430.0</td>\n      <td>7.0</td>\n    </tr>\n    <tr>\n      <th>6</th>\n      <td>2019</td>\n      <td>FR</td>\n      <td>WindOnShore</td>\n      <td>14900</td>\n      <td>29.0</td>\n      <td>0</td>\n      <td>0.00</td>\n      <td>0.00</td>\n      <td>0</td>\n      <td>0</td>\n      <td>...</td>\n      <td>1300</td>\n      <td>50</td>\n      <td>0</td>\n      <td>45</td>\n      <td>30</td>\n      <td>2</td>\n      <td>0</td>\n      <td>17.98</td>\n      <td>132720.0</td>\n      <td>0.0</td>\n    </tr>\n    <tr>\n      <th>7</th>\n      <td>2019</td>\n      <td>FR</td>\n      <td>WindOffShore</td>\n      <td>0</td>\n      <td>0.0</td>\n      <td>0</td>\n      <td>0.00</td>\n      <td>0.00</td>\n      <td>0</td>\n      <td>0</td>\n      <td>...</td>\n      <td>2500</td>\n      <td>100</td>\n      <td>0</td>\n      <td>114</td>\n      <td>30</td>\n      <td>3</td>\n      <td>0</td>\n      <td>17.98</td>\n      <td>283880.0</td>\n      <td>0.0</td>\n    </tr>\n    <tr>\n      <th>8</th>\n      <td>2019</td>\n      <td>FR</td>\n      <td>HydroReservoir</td>\n      <td>7000</td>\n      <td>33.0</td>\n      <td>2100</td>\n      <td>0.00</td>\n      <td>0.00</td>\n      <td>0</td>\n      <td>0</td>\n      <td>...</td>\n      <td>1500</td>\n      <td>10</td>\n      <td>0</td>\n      <td>20</td>\n      <td>80</td>\n      <td>10</td>\n      <td>0</td>\n      <td>24.87</td>\n      <td>80750.0</td>\n      <td>0.0</td>\n    </tr>\n    <tr>\n      <th>9</th>\n      <td>2019</td>\n      <td>FR</td>\n      <td>HydroRiver</td>\n      <td>10000</td>\n      <td>30.0</td>\n      <td>0</td>\n      <td>0.00</td>\n      <td>0.00</td>\n      <td>0</td>\n      <td>0</td>\n      <td>...</td>\n      <td>1500</td>\n      <td>10</td>\n      <td>0</td>\n      <td>20</td>\n      <td>80</td>\n      <td>10</td>\n      <td>0</td>\n      <td>24.87</td>\n      <td>80750.0</td>\n      <td>0.0</td>\n    </tr>\n    <tr>\n      <th>10</th>\n      <td>2019</td>\n      <td>FR</td>\n      <td>Solar</td>\n      <td>9600</td>\n      <td>11.0</td>\n      <td>0</td>\n      <td>0.00</td>\n      <td>0.00</td>\n      <td>0</td>\n      <td>0</td>\n      <td>...</td>\n      <td>800</td>\n      <td>30</td>\n      <td>0</td>\n      <td>20</td>\n      <td>25</td>\n      <td>1</td>\n      <td>0</td>\n      <td>16.25</td>\n      <td>80480.0</td>\n      <td>0.0</td>\n    </tr>\n    <tr>\n      <th>11</th>\n      <td>2019</td>\n      <td>FR</td>\n      <td>ResidentialRoofTopSolar</td>\n      <td>0</td>\n      <td>0.0</td>\n      <td>0</td>\n      <td>0.00</td>\n      <td>0.00</td>\n      <td>0</td>\n      <td>0</td>\n      <td>...</td>\n      <td>1400</td>\n      <td>30</td>\n      <td>0</td>\n      <td>5</td>\n      <td>25</td>\n      <td>0</td>\n      <td>0</td>\n      <td>16.25</td>\n      <td>102410.0</td>\n      <td>0.0</td>\n    </tr>\n    <tr>\n      <th>12</th>\n      <td>2019</td>\n      <td>FR</td>\n      <td>IndusRoofTopSolar</td>\n      <td>0</td>\n      <td>0.0</td>\n      <td>0</td>\n      <td>0.00</td>\n      <td>0.00</td>\n      <td>0</td>\n      <td>0</td>\n      <td>...</td>\n      <td>1000</td>\n      <td>30</td>\n      <td>0</td>\n      <td>20</td>\n      <td>25</td>\n      <td>1</td>\n      <td>0</td>\n      <td>16.25</td>\n      <td>92790.0</td>\n      <td>0.0</td>\n    </tr>\n    <tr>\n      <th>13</th>\n      <td>2019</td>\n      <td>FR</td>\n      <td>curtailment</td>\n      <td>10000</td>\n      <td>0.0</td>\n      <td>0</td>\n      <td>0.00</td>\n      <td>0.00</td>\n      <td>0</td>\n      <td>0</td>\n      <td>...</td>\n      <td>0</td>\n      <td>0</td>\n      <td>3000</td>\n      <td>0</td>\n      <td>1</td>\n      <td>0</td>\n      <td>0</td>\n      <td>1.00</td>\n      <td>0.0</td>\n      <td>3000.0</td>\n    </tr>\n  </tbody>\n</table>\n<p>14 rows × 21 columns</p>\n</div>"
     },
     "execution_count": 7,
     "metadata": {},
     "output_type": "execute_result"
    }
   ],
   "source": [
    "#region - general economic assumption\n",
    "ProductionTech = pd.read_csv('ProductionTechnicalAssumptions.csv',sep=',',decimal='.',skiprows=0,comment=\"#\")\n",
    "ProductionTech=ProductionTech[ProductionTech[\"AREAS\"]==\"FR\"]\n",
    "qgrid_widget = qgrid.show_grid(ProductionTech, show_toolbar=True, column_definitions=col_def)\n",
    "qgrid_widget\n",
    "ProductionTech=qgrid_widget.get_changed_df()\n",
    "ProductionTechPlus=ProductionTech.merge(Production, how='inner', left_on=[\"AREAS\",\"TECHNOLOGIES\"], right_on=[\"AREAS\",\"TECHNOLOGIES\"])\n",
    "ProductionTechPlus\n",
    "#endregion"
   ]
  },
  {
   "cell_type": "markdown",
   "metadata": {
    "pycharm": {
     "name": "#%% md\n"
    }
   },
   "source": [
    "Assumptions on installed power and produced energy\n",
    "\n",
    "### 3.2 Generating file for Operation <a class=\"anchor\" id=\"3.2.operation\"></a>"
   ]
  },
  {
   "cell_type": "code",
   "execution_count": 8,
   "metadata": {
    "pycharm": {
     "name": "#%%\n"
    }
   },
   "outputs": [],
   "source": [
    "\n",
    "SelectedCols=[\"TECHNOLOGIES\",\"energyCost\",\"capacity\",\"EnergyNbhourCap\"]\n",
    "ProductionTechPlus[SelectedCols].to_csv(OperationOutputFolder+'Gestion-Simple_TECHNOLOGIES.csv',sep=',',decimal='.', index=False)\n",
    "\n",
    "SelectedCols=[\"TECHNOLOGIES\",\"energyCost\",\"capacity\",\"EnergyNbhourCap\",\"RampConstraintPlus\",\"RampConstraintMoins\",\"RampConstraintPlus2\",\"RampConstraintMoins2\"]\n",
    "ProductionTechPlus[SelectedCols].to_csv(OperationOutputFolder+'Gestion-RAMP1Bis_TECHNOLOGIES.csv',sep=',',decimal='.', index=False)\n"
   ]
  },
  {
   "cell_type": "markdown",
   "metadata": {
    "pycharm": {
     "name": "#%% md\n"
    }
   },
   "source": [
    "### 3.3 Generating file for Planning <a class=\"anchor\" id=\"3.3.Planning\"></a>"
   ]
  },
  {
   "cell_type": "code",
   "execution_count": 9,
   "metadata": {
    "pycharm": {
     "name": "#%%\n"
    }
   },
   "outputs": [
    {
     "name": "stderr",
     "output_type": "stream",
     "text": [
      "/Users/robin.girard/opt/anaconda3/envs/energyalternatives/lib/python3.10/site-packages/pandas/core/indexing.py:1732: SettingWithCopyWarning: \n",
      "A value is trying to be set on a copy of a slice from a DataFrame\n",
      "\n",
      "See the caveats in the documentation: https://pandas.pydata.org/pandas-docs/stable/user_guide/indexing.html#returning-a-view-versus-a-copy\n",
      "  self._setitem_single_block(indexer, value, name)\n"
     ]
    },
    {
     "data": {
      "text/plain": "5    65.738333\nName: capacityCost, dtype: float64"
     },
     "execution_count": 9,
     "metadata": {},
     "output_type": "execute_result"
    }
   ],
   "source": [
    "ProductionTechPlus=ProductionTechPlus.assign(\n",
    "    minCapacity = ProductionTechPlus[\"capacity\"]*0.9,\n",
    "    maxCapacity = ProductionTechPlus[\"capacity\"]*100\n",
    ")\n",
    "\n",
    "ProductionTechPlus.maxCapacity.loc[ProductionTechPlus.TECHNOLOGIES==\"HydroRiver\"]=ProductionTechPlus.capacity.loc[ProductionTechPlus.TECHNOLOGIES==\"HydroRiver\"]\n",
    "ProductionTechPlus.maxCapacity.loc[ProductionTechPlus.TECHNOLOGIES==\"HydroReservoir\"]=ProductionTechPlus.capacity.loc[ProductionTechPlus.TECHNOLOGIES==\"HydroReservoir\"]\n",
    "\n",
    "SelectedCols=[\"TECHNOLOGIES\",\"energyCost\",\"capacityCost\",\"EnergyNbhourCap\",\t\"minCapacity\",\"maxCapacity\"]\n",
    "ProductionTechPlus[SelectedCols].to_csv(PlanningOutputFolder+'Planning-Simple_TECHNOLOGIES.csv',sep=',',decimal='.', index=False)\n",
    "\n",
    "SelectedCols=[\"TECHNOLOGIES\",\"energyCost\",\"capacityCost\",\"EnergyNbhourCap\",\"minCapacity\",\"maxCapacity\",\"RampConstraintPlus\",\"RampConstraintMoins\",\"RampConstraintPlus2\",\"RampConstraintMoins2\"]\n",
    "ProductionTechPlus[SelectedCols].to_csv(PlanningOutputFolder+'Planning-RAMP1BIS_TECHNOLOGIES.csv',sep=',',decimal='.', index=False)\n",
    "\n",
    "ProductionTechPlus.capacityCost[ProductionTechPlus.TECHNOLOGIES==\"NewNuke\"]/6000\n",
    "\n"
   ]
  },
  {
   "cell_type": "markdown",
   "metadata": {
    "pycharm": {
     "name": "#%% md\n"
    }
   },
   "source": [
    "## 4. A first evaluation of System Cost <a class=\"anchor\" id=\"3.SystemCost\"></a>\n",
    "Here we propose a first evaluation of system cost, it is similar to\n",
    " -  that proposed [in this post on the role of power and enery in system cost](https://www.energy-alternatives.eu/2020/05/07/mix-de-production-delectricite-energie-et-puissance.html).\n",
    " - and the one in an old excel file [here](https://docs.google.com/spreadsheets/d/1wWWu0YwsvkzmEG8XDRnsIoEegmALqZL-9XPxWx3z2Qo/edit?usp=sharing) contains similar stuff.\n",
    "\n",
    "For that purpose, we only need\n",
    " - to use results from the preceding section (alpha and beta)\n",
    " - make assumptions of the installed power and yearly produced energy for each production mean.\n",
    "\n",
    "For now we are not looking at how the equilibrium is done between production and consumption."
   ]
  },
  {
   "cell_type": "markdown",
   "metadata": {
    "pycharm": {
     "name": "#%% md\n"
    }
   },
   "source": [
    "### 4.1 System cost computation <a class=\"anchor\" id=\"3.2SystemCost\"></a>"
   ]
  }
 ],
 "metadata": {
  "kernelspec": {
   "name": "energyalternatives",
   "language": "python",
   "display_name": "energyalternatives"
  },
  "language_info": {
   "codemirror_mode": {
    "name": "ipython",
    "version": 3
   },
   "file_extension": ".py",
   "mimetype": "text/x-python",
   "name": "python",
   "nbconvert_exporter": "python",
   "pygments_lexer": "ipython3",
   "version": "3.10.4"
  }
 },
 "nbformat": 4,
 "nbformat_minor": 1
}