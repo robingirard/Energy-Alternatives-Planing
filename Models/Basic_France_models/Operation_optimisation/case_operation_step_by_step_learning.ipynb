{
 "cells": [
  {
   "cell_type": "markdown",
   "metadata": {
    "pycharm": {
     "name": "#%% md\n"
    }
   },
   "source": [
    "# One node operation Step by step learning\n",
    "\n",
    "This page was generated from notebook Models/Basic_France_model/Operation_optimisation/case_operation_step_by_step_learning.ipynb\n",
    "with nbconvert\n",
    "\n",
    "This file contains a step by step learning of one node operation optimisation.\n",
    "If you're lost, you can go back to\n",
    " - [one node model README](https://github.com/robingirard/Energy-Alternatives-Planing/blob/master/Models/Basic_France_models/README.md) it gives planing tools and [consumption models](https://robingirard.github.io/Energy-Alternatives-Planing/Models/Basic_France_models/Consumption/Consumption_TS_manipulation_examples.html)\n",
    " - [two node models README](https://github.com/robingirard/Energy-Alternatives-Planing/blob/master/Models/Basic_France_Germany_models/README.md) for step by step learning with two nodes (France and Germany).\n",
    " - [Mode complete 7 node model README](https://github.com/robingirard/Energy-Alternatives-Planing/blob/master/Models/Seven_node_Europe/README.md) for a more complete European model to do prospective analysis\n",
    "\n",
    "### Table of Contents\n",
    "\n",
    "* [1. Introduction](#1.introduction)\n",
    "* [2. First basic problem](#fbp)\n",
    "    * [2.1. Math and first step with pyomo for solving the problem](#math)\n",
    "    * [2.2. Variables ](#variables)\n",
    "    * [2.3. Constraints](#constraints)\n",
    "* [3. Extensions of this operation problem ](#temporal)\n",
    "    * [3.1. Linear temporal coupling with ramp constraints ](#ramp)\n",
    "    * [3.2. Linear spatial coupling with spatial constraints - Problem Op3 Multi-Area -](#spatial)\n",
    "* [4. Storage operation ](#storage)\n",
    "    * [4.1. Optimisation of a storage market participation](#storageMarket)\n",
    "    * [4.2. Simultaneous optimisation of storage and electric system](#storagecoupling)\n",
    "* [5. Complete French case ](#France)\n",
    "\n",
    "## 1. Introduction <a class=\"anchor\" id=\"1.introduction\"></a>\n",
    "\n",
    "This document will gives a chance to understand\n",
    " - how to do a simulation of the hourly operation of an electric system for a year\n",
    " - understand the mathematical formulation of the optimisation problem\n",
    " - learn to analyse de results of the optimisation and in particular the Lagrange multipliers\n",
    " - get in touch with pyomo (a python package to write optimisation problems)\n",
    "\n",
    "It proposes to enter the subject by increasing progressively\n",
    "the number of variables and constraints in the optimisation problem, hence moving toward more realism through the document, introducing:\n",
    " - ramp constraints that implies a simple temporal coupling\n",
    " - spatially indexed variables and congestion constraints that implies a simple spatial coupling.\n",
    " - storage constraints that implies a temporal coupling\n",
    "\n",
    "It relies on different test cases that allow to\n",
    " - consider different production means (nuclear, thermal, solar, onshore wind power, offshore wind power, hydro, curtailement of consumption, storage)\n",
    " - consider different meteorological years for France\n",
    " - consider different countries in the multi-zone case (France, Germany, GB, Spain)\n",
    "\n",
    "If, after reading this file, you want to build your own pyomo model you can create it in f_operationModels.py by adding a function that mimics the other ones. You can create you test case by adding a case_XXX.py and/or case_XXX.ipynb file in this folder.\n",
    "\n",
    "\n",
    "Let us start by loading libraries"
   ]
  },
  {
   "cell_type": "code",
   "execution_count": 1,
   "metadata": {
    "pycharm": {
     "name": "#%%\n"
    }
   },
   "outputs": [
    {
     "ename": "ModuleNotFoundError",
     "evalue": "No module named 'functions'",
     "output_type": "error",
     "traceback": [
      "\u001B[0;31m---------------------------------------------------------------------------\u001B[0m",
      "\u001B[0;31mModuleNotFoundError\u001B[0m                       Traceback (most recent call last)",
      "\u001B[0;32m/var/folders/zt/7cz1y9md79l_h08bbqymt4w9z8xlw7/T/ipykernel_2305/4030600206.py\u001B[0m in \u001B[0;36m<module>\u001B[0;34m\u001B[0m\n\u001B[1;32m     12\u001B[0m \u001B[0;32mimport\u001B[0m \u001B[0msys\u001B[0m\u001B[0;34m\u001B[0m\u001B[0;34m\u001B[0m\u001B[0m\n\u001B[1;32m     13\u001B[0m \u001B[0;34m\u001B[0m\u001B[0m\n\u001B[0;32m---> 14\u001B[0;31m \u001B[0;32mfrom\u001B[0m \u001B[0mfunctions\u001B[0m\u001B[0;34m.\u001B[0m\u001B[0mf_graphicalTools\u001B[0m \u001B[0;32mimport\u001B[0m \u001B[0;34m*\u001B[0m\u001B[0;34m\u001B[0m\u001B[0;34m\u001B[0m\u001B[0m\n\u001B[0m\u001B[1;32m     15\u001B[0m \u001B[0;32mfrom\u001B[0m \u001B[0mfunctions\u001B[0m\u001B[0;34m.\u001B[0m\u001B[0mf_consumptionModels\u001B[0m \u001B[0;32mimport\u001B[0m \u001B[0;34m*\u001B[0m\u001B[0;34m\u001B[0m\u001B[0;34m\u001B[0m\u001B[0m\n\u001B[1;32m     16\u001B[0m \u001B[0;34m\u001B[0m\u001B[0m\n",
      "\u001B[0;31mModuleNotFoundError\u001B[0m: No module named 'functions'"
     ]
    }
   ],
   "source": [
    "#region importation of modules\n",
    "import os\n",
    "import numpy as np\n",
    "import pandas as pd\n",
    "import csv\n",
    "\n",
    "import datetime\n",
    "import copy\n",
    "import plotly.graph_objects as go\n",
    "import matplotlib.pyplot as plt\n",
    "from sklearn import linear_model\n",
    "import sys\n",
    "\n",
    "\n",
    "#endregion\n",
    "\n",
    "#region Solver and data location definition\n",
    "import os\n",
    "import sys\n",
    "if os.path.basename(os.getcwd())=='Operation_optimisation':\n",
    "    sys.path.append('../../../')\n",
    "\n",
    "from functions.f_graphicalTools import *\n",
    "from functions.f_consumptionModels import *\n",
    "## locally defined models\n",
    "from Models.Basic_France_models.Operation_optimisation.f_operationModels import *\n",
    "\n",
    "InputFolder='Data/input/'\n",
    "GraphicalResultsFolder=\"GraphicalResults/\"\n",
    "\n",
    "if sys.platform != 'win32':\n",
    "    myhost = os.uname()[1]\n",
    "else : myhost = \"\"\n",
    "if (myhost==\"jupyter-sop\"):\n",
    "    ## for https://jupyter-sop.mines-paristech.fr/ users, you need to\n",
    "    #  (1) run the following to loanch the license server\n",
    "    if (os.system(\"/opt/mosek/9.2/tools/platform/linux64x86/bin/lmgrd -c /opt/mosek/9.2/tools/platform/linux64x86/bin/mosek.lic -l lmgrd.log\")==0):\n",
    "        os.system(\"/opt/mosek/9.2/tools/platform/linux64x86/bin/lmutil lmstat -c 27007@127.0.0.1 -a\")\n",
    "    #  (2) definition of license\n",
    "    os.environ[\"MOSEKLM_LICENSE_FILE\"] = '@jupyter-sop'\n",
    "\n",
    "BaseSolverPath='/Users/robin.girard/Documents/Code/Packages/solvers/ampl_macosx64' ### change this to the folder with knitro ampl ...\n",
    "## in order to obtain more solver see see https://ampl.com/products/solvers/open-source/\n",
    "## for eduction this site provides also several professional solvers, that are more efficient than e.g. cbc\n",
    "sys.path.append(BaseSolverPath)\n",
    "solvers= ['gurobi','knitro','cbc'] # try 'glpk', 'cplex'\n",
    "solverpath= {}\n",
    "for solver in solvers : solverpath[solver]=BaseSolverPath+'/'+solver\n",
    "solver= 'mosek' ## no need for solverpath with mosek.\n",
    "#endregion\n",
    "\n",
    "InputConsumptionFolder='../Consumption/Data/'\n",
    "InputProductionFolder='../Production/Data/'\n",
    "InputOperationFolder='Data/'\n"
   ]
  },
  {
   "cell_type": "markdown",
   "metadata": {
    "pycharm": {
     "name": "#%% md\n"
    }
   },
   "source": [
    "\n",
    "\n",
    "## 2. First basic problem <a class=\"anchor\" id=\"fbp\"></a>\n",
    "In this section we propose a simple version of the optimisation problem with a mathematical description.\n",
    "This allows us to discuss the use of pyomo (a python package to write optimisation problems).\n",
    "### 2.1. Math and first step with pyomo for solving problem<a class=\"anchor\" id=\"math\"></a>\n",
    "\n",
    "**Mathematical formulation as a linear programming problem**\n",
    "\n",
    "\\begin{align}\n",
    "&\\text{Cost function }& &\\min_{x}  \\sum_t \\sum_i \\pi_i x_{it}\\;\\;\\; & & \\pi_i \\text{ marginal cost}\\\\\n",
    "&\\text{Power limit }   & &\\text{ s.t.} \\;\\; 0 \\leq x_{it}\\leq a_{it} \\bar{x_i} & &\\bar{x_i} \\text{ installed power, }  a_{it} \\text{ availability}\\\\\n",
    "&\\text{Meet demand }   & & \\sum_i x_{it} \\geq  C_t  && C_t \\text{ Consumption}\\\\\n",
    "&\\text{Stock limit }   & &\\sum_t x_{it}\\leq E_i && E_i=\\bar{x_i}*N_i \\text{ Energy capacity limit}\\\\\n",
    "\\end{align}\n",
    "\n",
    "This is linear programing and could be transformed into something like\n",
    "\n",
    "$\n",
    "\\begin{align}\n",
    "& \\min_y & c^Ty \\\\\n",
    "& Ay\\leq b\n",
    "\\end{align}\n",
    "$\n",
    "\n",
    " with a well chosen parameter matrix $A$, parameter vector $b$ and $c$ and variable vector $y$. While increasing complexity of the problem,\n",
    " this can become very painful.\n",
    "\n",
    "\n",
    "With the Python package Pyomo it is almost sufficient to write the mathematical equations. Pyomo is then charged of building the matrix form,\n",
    "and you just have to think about problem formulation. Pyomo is similar to other tools such as GAMS, AMPL, ...\n",
    "\n",
    "\n",
    "**Principles of a pyomo model**\n",
    "To build a model, Pyomo needs three different kinds of data : sets, parameters and variables.\n",
    "\n",
    " - *Sets* are dimensions, here the time and the name of technology plus a mix of these two :\n",
    "Date, TECHNOLOGIES and Date_TECHNOLOGIES (product set).\n",
    "\n",
    " - *Parameters* are tables indexed by set whose values are specified by the user.\n",
    "Here is the list of the parameters we use in the simplest cases : energycost, EnergyNbhourCap, capacity,\n",
    "availability factor, area consumption.\n",
    "\n",
    " - *Variable* are tables indexed by set whose values are found by the solver :\n",
    "the energy produced by each mean of production.\n",
    "\n",
    "Now if you wish to learn more about pyomo and to see how the optimisation problem is writen in pyomo language,\n",
    "take look at function GetElectricSystemModel_GestionSingleNode  (by doing a control-click on it in the code that follos a bit later,\n",
    "otherwise it is in f_operationModels.py).\n",
    "We will use this function in the following exemple.\n",
    "\n",
    "**First simulation -- description of case_step_by_step_learning**\n",
    "\n",
    "If you want to give it a try, use the case_step_by_step_learning.py or case_step_by_step_learning.ipynb.\n",
    "There, we start with a simple test case, with only two production means (nuke and thermal) but you can run\n",
    "this with more than that, and change the installed power. If you want to change assumptions you will need to\n",
    "change the csv files that are loaded below.\n"
   ]
  },
  {
   "cell_type": "code",
   "execution_count": null,
   "metadata": {
    "pycharm": {
     "name": "#%%\n"
    }
   },
   "outputs": [],
   "source": [
    "#region I - Simple single area : loading parameters\n",
    "year=2013;\n",
    "#### reading areaConsumption availabilityFactor and TechParameters CSV files\n",
    "areaConsumption = pd.read_csv(InputConsumptionFolder+'areaConsumption'+str(year)+'_FR.csv',sep=',',decimal='.',skiprows=0,parse_dates=['Date']).set_index([\"Date\"])\n",
    "availabilityFactor = pd.read_csv(InputProductionFolder+'availabilityFactor'+str(year)+'_FR.csv',sep=',',decimal='.',skiprows=0,parse_dates=['Date']).set_index([\"Date\",\"TECHNOLOGIES\"])\n",
    "TechParameters = pd.read_csv(InputOperationFolder+'Gestion-Simple_TECHNOLOGIES.csv',sep=',',decimal='.',skiprows=0).set_index([\"TECHNOLOGIES\"])\n",
    "\n",
    "#### Selection of subset\n",
    "Selected_TECHNOLOGIES=['OldNuke','CCG'] #you can add technologies here\n",
    "availabilityFactor=availabilityFactor.loc[(slice(None),Selected_TECHNOLOGIES),:]\n",
    "TechParameters=TechParameters.loc[Selected_TECHNOLOGIES,:]\n",
    "TechParameters.loc[\"CCG\",'capacity']=100000 ## margin to make everything work\n",
    "#TechParameters.loc[\"WindOnShore\",'capacity']=117000\n",
    "#TechParameters.loc[\"Solar\",'capacity']=67000\n",
    "#endregion"
   ]
  },
  {
   "cell_type": "markdown",
   "metadata": {
    "pycharm": {
     "name": "#%% md\n"
    }
   },
   "source": [
    "**First simulation -- running the optimisation**\n",
    "\n",
    "Now we run the optimisation script and load optimised variables.\n",
    "\n",
    "At this stage, or later, you might be willing to to see the pyomo model. If it is the case, dig into function\n",
    "GetElectricSystemModel_GestionSingleNode (by doing a control-click on it, otherwise it is in f_operationModels.py)"
   ]
  },
  {
   "cell_type": "code",
   "execution_count": null,
   "metadata": {
    "pycharm": {
     "name": "#%%\n"
    }
   },
   "outputs": [],
   "source": [
    "#region I - Simple single area  : Solving and loading results\n",
    "model = GetElectricSystemModel_GestionSingleNode(Parameters = {\"areaConsumption\" : areaConsumption,\n",
    "                                                               \"availabilityFactor\" : availabilityFactor,\n",
    "                                                               \"TechParameters\" : TechParameters})\n",
    "if solver in solverpath :  opt = SolverFactory(solver,executable=solverpath[solver])\n",
    "else : opt = SolverFactory(solver)\n",
    "results=opt.solve(model)\n",
    "## result analysis\n",
    "Variables=getVariables_panda_indexed(model)\n",
    "\n",
    "\n",
    "extractCosts(Variables)\n",
    "#extractEnergyCapacity(Variables)\n",
    "#pour avoir la production en KWh de chaque moyen de prod chaque heure\n",
    "### Check sum Prod = Consumption\n",
    "production_df=Variables['energy'].pivot(index=\"Date\",columns='TECHNOLOGIES', values='energy')\n",
    "Delta=(production_df.sum(axis=1) - areaConsumption.areaConsumption);\n",
    "#endregion"
   ]
  },
  {
   "cell_type": "markdown",
   "metadata": {
    "pycharm": {
     "name": "#%% md\n"
    }
   },
   "source": [
    "We have analysed the result of the optimisation first with the dictionary **variables** that contains all optimized variables.\n",
    "The most important variable here is 'energy'. The other one 'energyCosts' can be computed from 'energy' and it is somehow redundant.\n",
    "\n",
    "## 2.2 Analysing results : lagrange multipliers <a class=\"anchor\" id=\"optiofope\"></a>\n",
    "\n",
    "Lagrange multiplier might be more difficult to understand for those who still lack a good optimisation course (the one at second semester of first year of MINES ParisTech is perfect).\n",
    "In cases you want to dig this, you can have a look at Boyd's course, e.g. starting with [lecture 8](https://www.youtube.com/watch?v=FJVmflArCXc) or before.\n",
    "The most important message here is that lagrange multipliers associated to the demand constraint (here called 'energyCtr') are meant to mimic market prices.\n",
    "Lagrange multiplier associated to this constraint at time t is the marginal cost that one would pay to increase $C_t$ by a small amount. They can be used to simulate market prices.\n"
   ]
  },
  {
   "cell_type": "code",
   "execution_count": null,
   "metadata": {
    "pycharm": {
     "name": "#%%\n"
    }
   },
   "outputs": [],
   "source": [
    "#region I - Simple single area  : visualisation and lagrange multipliers\n",
    "### representation des résultats\n",
    "fig=MyStackedPlotly(y_df=production_df,Conso = areaConsumption)\n",
    "fig=fig.update_layout(title_text=\"Production électrique (en KWh)\", xaxis_title=\"heures de l'année\")\n",
    "#plotly.offline.plot(fig, filename='file.html') ## offline\n",
    "fig.show()\n",
    "print(production_df)\n",
    "#### lagrange multipliers\n",
    "Constraints= getConstraintsDual_panda(model)\n",
    "\n",
    "# Analyse energyCtr\n",
    "energyCtrDual=Constraints['energyCtr']; energyCtrDual['energyCtr']=energyCtrDual['energyCtr']\n",
    "energyCtrDual\n",
    "round(energyCtrDual.energyCtr,2).unique()\n",
    "\n",
    "# Analyse CapacityCtr\n",
    "CapacityCtrDual=Constraints['CapacityCtr'].pivot(index=\"Date\",columns='TECHNOLOGIES', values='CapacityCtr');\n",
    "round(CapacityCtrDual,2)\n",
    "round(CapacityCtrDual.OldNuke,2).unique() ## if you increase by Delta the installed capacity of nuke you decrease by xxx the cost when nuke is not sufficient\n",
    "round(CapacityCtrDual.CCG,2).unique() ## increasing the capacity of CCG as no effect on prices\n",
    "#endregion"
   ]
  },
  {
   "cell_type": "markdown",
   "metadata": {
    "pycharm": {
     "name": "#%% md\n"
    }
   },
   "source": [
    "\n",
    "We have the **Lagrange multipliers** associated to each (active) **constraint** (zero means unactive constraint) in dictionary 'Constraints'.\n",
    "We have three different constraints : the energy constraint, the capacity constraint and the storage constraint (unactive here)\n",
    "Try understanding the meaning of lagrange multipliers, here and in the next Sections.\n",
    "\n",
    "\n",
    "## 3. Extensions of this operation problem <a class=\"anchor\" id=\"temporal\"></a>\n",
    "### 3.1.  Linear temporal coupling with ramp constraints <a class=\"anchor\" id=\"ramp\"></a>\n",
    "In the this section, we will increase the complexity of the problem\n",
    "given in Section 2 and add : dependency on area z (country),\n",
    " a congestion constraint, ramp constraints.\n",
    "\n",
    "\\begin{align}\n",
    "&\\text{Cost function }& &\\min_{x}  \\sum_z \\sum_t \\sum_i \\pi_{iz} x_{itz}\\;\\;\\; & & \\pi_{iz} \\text{ marginal cost}\\\\\n",
    "&\\text{Power limit }   & &\\text{ s.t.} \\;\\; 0 \\leq x_{itz}\\leq a_{itz} \\bar{x_{iz}} & &\\bar{x_{iz}} \\text{ installed power, }  a_{itz} \\text{ availability}\\\\\n",
    "&\\text{Meet demand }   & & \\sum_i x_{itz} \\geq  C_{tz}  && C_{tz} \\text{ Consumption}\\\\\n",
    "&\\text{Stock limit }   & &\\sum_t x_{it}\\leq E_i && E_i=\\bar{x_i}*N_i \\text{ Energy capacity limit}\\\\\n",
    "&\\text{ramp limit }   & &rc^-_i *x_{it}\\leq x_{it}-x_{i(t+1)}\\leq rc^+_i *x_{it} && rc^+_i rc^-_i\\text{ ramp limit}\\\\\n",
    "\\end{align}\n"
   ]
  },
  {
   "cell_type": "code",
   "execution_count": null,
   "metadata": {
    "pycharm": {
     "name": "#%%\n"
    }
   },
   "outputs": [],
   "source": [
    "#region II - Ramp Ctrs Single area : loading parameters loading parameterscase with ramp constraints\n",
    "year=2013\n",
    "Selected_TECHNOLOGIES=['OldNuke', 'CCG',\"curtailment\"] #you'll add 'Solar' after\n",
    "\n",
    "#### reading areaConsumption availabilityFactor and TechParameters CSV files\n",
    "areaConsumption = pd.read_csv(InputConsumptionFolder+'areaConsumption'+str(year)+'_FR.csv',sep=',',decimal='.',skiprows=0,parse_dates=['Date']).set_index([\"Date\"])\n",
    "availabilityFactor = pd.read_csv(InputProductionFolder+'availabilityFactor'+str(year)+'_FR.csv',sep=',',decimal='.',skiprows=0,parse_dates=['Date']).set_index([\"Date\",\"TECHNOLOGIES\"])\n",
    "TechParameters = pd.read_csv(InputOperationFolder+'Gestion-RAMP1_TECHNOLOGIES.csv',sep=',',decimal='.',skiprows=0).set_index([\"TECHNOLOGIES\"])\n",
    "\n",
    "#### Selection of subset\n",
    "availabilityFactor=availabilityFactor.loc[(slice(None),Selected_TECHNOLOGIES),:]\n",
    "TechParameters=TechParameters.loc[Selected_TECHNOLOGIES,:]\n",
    "\n",
    "TechParameters.loc[\"CCG\",'capacity']=100000 ## margin to make everything work\n",
    "TechParameters.loc[\"OldNuke\",'RampConstraintMoins']=0.01 ## a bit strong to put in light the effect\n",
    "TechParameters.loc[\"OldNuke\",'RampConstraintPlus']=0.02 ## a bit strong to put in light the effect\n",
    "#endregion\n"
   ]
  },
  {
   "cell_type": "code",
   "execution_count": null,
   "metadata": {
    "pycharm": {
     "name": "#%%\n"
    }
   },
   "outputs": [],
   "source": [
    "#region II - Ramp Ctrs Single area : solving and loading results\n",
    "model = GetElectricSystemModel_GestionSingleNode(Parameters = {\"areaConsumption\" : areaConsumption,\n",
    "                                                               \"availabilityFactor\" : availabilityFactor,\n",
    "                                                               \"TechParameters\" : TechParameters})\n",
    "opt = SolverFactory(solver)\n",
    "results=opt.solve(model)\n",
    "Variables=getVariables_panda_indexed(model)\n",
    "\n",
    "\n",
    "#pour avoir la production en KWh de chaque moyen de prod chaque heure\n",
    "production_df=Variables['energy'].pivot(index=\"Date\",columns='TECHNOLOGIES', values='energy')\n",
    "### Check sum Prod = Consumption\n",
    "Delta=(production_df.sum(axis=1) - areaConsumption.areaConsumption);\n",
    "abs(Delta).max()\n",
    "print(production_df.loc[:,'OldNuke'].diff(1).max()/TechParameters.loc[\"OldNuke\",\"capacity\"])\n",
    "print(production_df.loc[:,'OldNuke'].diff(1).min()/TechParameters.loc[\"OldNuke\",\"capacity\"])\n",
    "\n",
    "\n",
    "\n",
    "print(production_df.sum(axis=0)/10**6) ### energies produites TWh\n",
    "print(Variables['energyCosts']) #pour avoir le coût de chaque moyen de prod à l'année\n",
    "#endregion\n"
   ]
  },
  {
   "cell_type": "code",
   "execution_count": null,
   "metadata": {
    "pycharm": {
     "name": "#%%\n"
    }
   },
   "outputs": [],
   "source": [
    "#region II - Ramp Ctrs Single area : visualisation and lagrange multipliers\n",
    "\n",
    "\n",
    "### representation des résultats\n",
    "Date_d=pd.date_range(start=str(year)+\"-01-01 00:00:00\",end=str(year)+\"-12-31 23:00:00\",   freq=\"1H\")\n",
    "production_df.index=Date_d; areaConsumption.index=Date_d;\n",
    "fig=MyStackedPlotly(y_df=production_df,Conso = areaConsumption)\n",
    "fig=fig.update_layout(title_text=\"Production électrique (en KWh)\", xaxis_title=\"heures de l'année\")\n",
    "#plotly.offline.plot(fig, filename='file.html') ## offline\n",
    "fig.show()\n",
    "\n",
    "#### lagrange multipliers\n",
    "Constraints= getConstraintsDual_panda(model)\n",
    "\n",
    "# Analyse energyCtr\n",
    "energyCtrDual=Constraints['energyCtr']; energyCtrDual['energyCtr']=energyCtrDual['energyCtr']\n",
    "energyCtrDual\n",
    "round(energyCtrDual.energyCtr,2).unique()\n",
    "\n",
    "# Analyse CapacityCtr\n",
    "CapacityCtrDual=Constraints['CapacityCtr'].pivot(index=\"Date\",columns='TECHNOLOGIES', values='CapacityCtr');\n",
    "round(CapacityCtrDual,2)\n",
    "round(CapacityCtrDual.OldNuke,2).unique() ## if you increase by Delta the installed capacity of nuke you decrease by xxx the cost when nuke is not sufficient\n",
    "round(CapacityCtrDual.CCG,2).unique() ## increasing the capacity of CCG as no effect on prices\n",
    "#endregion"
   ]
  },
  {
   "cell_type": "markdown",
   "metadata": {
    "pycharm": {
     "name": "#%% md\n"
    }
   },
   "source": [
    "Again you can have to look at lagrange multipliers. Try adding renewable production. \n",
    "\n",
    "Try modifying the ramp constraint to generate negative lagrange multipliers.## 4. Storage operation <a class=\"anchor\" id=\"storage\"></a>\n",
    "### 4.1. Optimisation of a storage market participation <a class=\"anchor\" id=\"storageMarket\"></a>\n",
    "Just have a look at optim-Storage.ipynb\n",
    "\n",
    "### 4.2. Simultaneous optimisation of storage and electric system <a class=\"anchor\" id=\"storagecoupling\"></a>\n",
    "\n",
    "The optimisation problème is the same as before. Is this section, we only add the contraints regarding the storage :\n",
    "\n",
    "\\begin{align}\n",
    "&\\text{Cost function }& &\\min_{x}  \\sum_t \\sum_i \\pi_i x_{it}\\;\\;\\; & & \\pi_i \\text{ marginal cost}\\\\\n",
    "&\\text{Power limit }   & &\\text{ s.t.} \\;\\; 0 \\leq x_{it}\\leq a_{it} \\bar{x_i} & &\\bar{x_i} \\text{ installed power, }  a_{it} \\text{ availability}\\\\\n",
    "&\\text{Meet demand }   & & \\sum_i x_{it}+\\sum_j (z_{out_{jt}}-z_{in_{jt}}) \\geq  C_t  && C_t \\text{ Consumption}, z_{jt} \\text{ storage}\\\\\n",
    "&\\text{Stock limit }   & &\\sum_t x_{it}\\leq E_i && E_i=\\bar{x_i}*N_i \\text{ Energy capacity limit}\\\\\n",
    "\\end{align}\n",
    "\n",
    "Adding several storages to this operation problem is done here :\n",
    "\\begin{align}\n",
    "&\\text{storage power constraint}& &0\\leq z_{in/out_{jt}}\\leq p_{\\max} \\\\\n",
    "&\\text{storage energy constraint}& &0\\leq \\sum_{k=1}^t \\left( z_{in_{jk}}.\\eta_{in_j}-\\frac{z_{out_{jk}}}{\\eta_{out_j}} \\right)\\leq c_{\\max} && \\eta_j \\text{ Storage efficiency (in/out)} \\\\\n",
    "\\end{align}\n",
    "\n",
    "By introducing a new variable representing the storage level at any time t, the last equation become :\n",
    "\\begin{align}\n",
    "\\text{storage energy constraint}& &0\\leq  s_{jt} \\leq c_{\\max} \\\\\n",
    "\\text{where}& & s_{jt} = s_{j,t-1}.(1-\\delta_j) + z_{in_{jk}}.\\eta_{in_j}-\\frac{z_{out_{jk}}}{\\eta_{out_j}} && \\delta_j \\text{ Storage dissipation}\\\\\n",
    "\\end{align}\n",
    "\n",
    "This model is implemented in function GetElectricSystemModel_GestionSingleNode_with1Storage in file\n",
    "f_operationModels.py. The idea of this modelis quite general and a version exists also\n",
    "in the multi-node case and for planing problems (in file Planing_optimisation/f_planingModels.py)"
   ]
  },
  {
   "cell_type": "markdown",
   "metadata": {
    "pycharm": {
     "name": "#%% md\n"
    }
   },
   "source": []
  },
  {
   "cell_type": "code",
   "execution_count": null,
   "metadata": {
    "pycharm": {
     "name": "#%%\n"
    }
   },
   "outputs": [],
   "source": [
    "#region III Ramp+Storage single area : loading parameters\n",
    "year=2013\n",
    "Selected_TECHNOLOGIES=['OldNuke','WindOnShore', 'CCG',\"curtailment\"]\n",
    "\n",
    "#### reading CSV files\n",
    "areaConsumption = pd.read_csv(InputConsumptionFolder+'areaConsumption'+str(year)+'_FR.csv',sep=',',decimal='.',skiprows=0,parse_dates=['Date']).set_index([\"Date\"])\n",
    "availabilityFactor = pd.read_csv(InputProductionFolder+'availabilityFactor'+str(year)+'_FR.csv',sep=',',decimal='.',skiprows=0,parse_dates=['Date']).set_index([\"Date\",\"TECHNOLOGIES\"])\n",
    "TechParameters = pd.read_csv(InputOperationFolder+'Gestion-RAMP1_TECHNOLOGIES.csv',sep=',',decimal='.',skiprows=0).set_index([\"TECHNOLOGIES\"])\n",
    "StorageParameters = pd.read_csv(InputOperationFolder+'Gestion-RAMP1_STOCK_TECHNO.csv',sep=',',decimal='.',skiprows=0).set_index([\"STOCK_TECHNO\"])\n",
    "\n",
    "#### Selection of subset\n",
    "availabilityFactor=availabilityFactor.loc[(slice(None),Selected_TECHNOLOGIES),:]\n",
    "TechParameters=TechParameters.loc[Selected_TECHNOLOGIES,:]\n",
    "TechParameters.loc[\"CCG\",'capacity']=100000 ## margin to make everything work\n",
    "TechParameters.loc[\"OldNuke\",'RampConstraintMoins']=0.02 ## a bit strong to put in light the effect\n",
    "TechParameters.loc[\"OldNuke\",'RampConstraintPlus']=0.02 ## a bit strong to put in light the effect\n",
    "#endregion"
   ]
  },
  {
   "cell_type": "code",
   "execution_count": null,
   "metadata": {
    "pycharm": {
     "name": "#%%\n"
    },
    "scrolled": false
   },
   "outputs": [],
   "source": [
    "#region III Ramp+Storage single area : solving and loading results\n",
    "model= GetElectricSystemModel_GestionSingleNode_withStorage(Parameters = {\"areaConsumption\" : areaConsumption,\n",
    "                                                               \"availabilityFactor\" : availabilityFactor,\n",
    "                                                               \"TechParameters\" : TechParameters,\n",
    "                                                               \"StorageParameters\" : StorageParameters})\n",
    "\n",
    "if solver in solverpath :  opt = SolverFactory(solver,executable=solverpath[solver])\n",
    "else : opt = SolverFactory(solver)\n",
    "results=opt.solve(model)\n",
    "Variables = getVariables_panda_indexed(model)\n",
    "Constraints = getConstraintsDual_panda(model)\n",
    "\n",
    "production_df=Variables['energy'].pivot(index=\"Date\",columns='TECHNOLOGIES', values='energy')\n",
    "production_df.loc[:,'Storage'] = Variables['storageOut'].pivot(index='Date',columns='STOCK_TECHNO',values='storageOut').sum(axis=1)-Variables['storageIn'].pivot(index='Date',columns='STOCK_TECHNO',values='storageIn').sum(axis=1) ### put storage in the production time series\n",
    "production_df.sum(axis=0)/10**6 ### energies produites TWh\n",
    "production_df[production_df>0].sum(axis=0)/10**6 ### energies produites TWh\n",
    "production_df.max(axis=0)/1000 ### Pmax en GW\n",
    "\n",
    "Date_d=pd.date_range(start=str(year)+\"-01-01 00:00:00\",end=str(year)+\"-12-31 23:00:00\",   freq=\"1H\")\n",
    "production_df.index=Date_d; areaConsumption.index=Date_d;\n",
    "fig=MyStackedPlotly(y_df=production_df, Conso=areaConsumption)\n",
    "fig=fig.update_layout(title_text=\"Production électrique (en KWh)\", xaxis_title=\"heures de l'année\")\n",
    "#plotly.offline.plot(fig, filename=GraphicalResultsFolder+'file.html') ## offline\n",
    "fig.show()\n",
    "\n",
    "\n",
    "#endregion"
   ]
  },
  {
   "cell_type": "markdown",
   "metadata": {
    "pycharm": {
     "name": "#%% md\n"
    }
   },
   "source": [
    "If you want to contribute here, try improving the visualisation tools (with respect to storage, multizone, integration of interconnexions ...)"
   ]
  },
  {
   "cell_type": "markdown",
   "metadata": {
    "pycharm": {
     "name": "#%% md\n"
    }
   },
   "source": [
    "## 5. Complete French case <a class=\"anchor\" id=\"France\"></a>\n",
    "If you want to contribute here :\n",
    "  - try improving the visualisation tools (with respect to storage, multizone, integration of interconnexions ...)\n",
    "  - propose new cases with new dataset (new years, new countries, new set of countries, several nodes for a country, new technos ...)\n",
    "\n"
   ]
  },
  {
   "cell_type": "code",
   "execution_count": null,
   "metadata": {
    "pycharm": {
     "name": "#%%\n"
    }
   },
   "outputs": [],
   "source": [
    "#region \"simple\" France loading parameters selecting technologies\n",
    "Zones=\"FR\"\n",
    "year=2013\n",
    "\n",
    "Selected_TECHNOLOGIES=['OldNuke','Coal','CCG','TAC', 'WindOnShore','HydroReservoir','HydroRiver','Solar','curtailment']\n",
    "\n",
    "#### reading CSV files\n",
    "areaConsumption = pd.read_csv(InputConsumptionFolder+'areaConsumption'+str(year)+'_FR.csv',\n",
    "                                sep=',',decimal='.',skiprows=0,parse_dates=['Date']).set_index([\"Date\"])\n",
    "availabilityFactor = pd.read_csv(InputProductionFolder+'availabilityFactor'+str(year)+'_FR.csv',\n",
    "                                sep=',',decimal='.',skiprows=0,parse_dates=['Date']).set_index([\"Date\",\"TECHNOLOGIES\"])\n",
    "TechParameters = pd.read_csv(InputOperationFolder+'Gestion-Simple_TECHNOLOGIES.csv',\n",
    "                             sep=',',decimal='.',skiprows=0).set_index([\"TECHNOLOGIES\"])\n",
    "StorageParameters = pd.read_csv(InputOperationFolder+'Gestion-RAMP1_STOCK_TECHNO.csv',\n",
    "                                sep=',',decimal='.',skiprows=0).set_index([\"STOCK_TECHNO\"])\n",
    "\n",
    "#### Selection of subset\n",
    "availabilityFactor=availabilityFactor.loc[(slice(None),Selected_TECHNOLOGIES),:]\n",
    "TechParameters=TechParameters.loc[Selected_TECHNOLOGIES,:]\n",
    "#TechParameters.loc[TechParameters.TECHNOLOGIES==\"CCG\",'capacity']=15000 ## margin to make everything work\n",
    "#endregion"
   ]
  },
  {
   "cell_type": "code",
   "execution_count": null,
   "metadata": {
    "pycharm": {
     "name": "#%%\n"
    }
   },
   "outputs": [],
   "source": [
    "#region \"simple\" France : solving and loading results\n",
    "model= GetElectricSystemModel_GestionSingleNode_withStorage(Parameters = {\"areaConsumption\" : areaConsumption,\n",
    "                                                               \"availabilityFactor\" : availabilityFactor,\n",
    "                                                               \"TechParameters\" : TechParameters,\n",
    "                                                               \"StorageParameters\" : StorageParameters})\n",
    "if solver in solverpath :  opt = SolverFactory(solver,executable=solverpath[solver])\n",
    "else : opt = SolverFactory(solver)\n",
    "results=opt.solve(model)\n",
    "Variables = getVariables_panda_indexed(model)\n",
    "Constraints = getConstraintsDual_panda(model)\n",
    "\n",
    "\n",
    "production_df=Variables['energy'].pivot(index=\"Date\",columns='TECHNOLOGIES', values='energy')\n",
    "production_df.loc[:,'Storage'] = Variables['storageOut'].pivot(index='Date',columns='STOCK_TECHNO',values='storageOut').sum(axis=1)-Variables['storageIn'].pivot(index='Date',columns='STOCK_TECHNO',values='storageIn').sum(axis=1) ### put storage in the production time series\n",
    "Delta= production_df.sum(axis=1)-areaConsumption[\"areaConsumption\"]\n",
    "sum(abs(Delta))\n",
    "production_df.sum(axis=0)/10**6 ### energies produites TWh\n",
    "production_df[production_df>0].sum(axis=0)/10**6 ### energies produites TWh\n",
    "production_df.max(axis=0)/1000 ### Pmax en GW\n",
    "\n",
    "Date_d=pd.date_range(start=str(year)+\"-01-01 00:00:00\",end=str(year)+\"-12-31 23:00:00\",   freq=\"1H\")\n",
    "production_df.index=Date_d; areaConsumption.index=Date_d;\n",
    "fig=MyStackedPlotly(y_df=production_df, Conso=areaConsumption)\n",
    "fig=fig.update_layout(title_text=\"Production électrique (en KWh)\", xaxis_title=\"heures de l'année\")\n",
    "#plotly.offline.plot(fig, filename='file.html') ## offline\n",
    "fig.show()\n",
    "#endregion"
   ]
  }
 ],
 "metadata": {
  "kernelspec": {
   "display_name": "energyalternatives",
   "language": "python",
   "name": "energyalternatives"
  },
  "language_info": {
   "codemirror_mode": {
    "name": "ipython",
    "version": 3
   },
   "file_extension": ".py",
   "mimetype": "text/x-python",
   "name": "python",
   "nbconvert_exporter": "python",
   "pygments_lexer": "ipython3",
   "version": "3.10.2"
  }
 },
 "nbformat": 4,
 "nbformat_minor": 4
}