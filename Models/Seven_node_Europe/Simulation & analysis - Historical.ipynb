{
 "cells": [
  {
   "cell_type": "code",
   "execution_count": 1,
   "metadata": {},
   "outputs": [],
   "source": [
    "import matplotlib.pyplot as plt\n",
    "import pandas as pd\n",
    "import plotly.graph_objs as go\n",
    "import plotly.express as px\n",
    "import numpy as np\n",
    "import os\n",
    "import sys\n",
    "import pickle\n",
    "import seaborn as sns\n",
    "sns.set_theme(style=\"whitegrid\")\n",
    "import warnings\n",
    "warnings.filterwarnings(\"ignore\")"
   ]
  },
  {
   "cell_type": "markdown",
   "metadata": {},
   "source": [
    "# 1. Simulation running or results extraction"
   ]
  },
  {
   "cell_type": "code",
   "execution_count": 2,
   "metadata": {},
   "outputs": [
    {
     "name": "stdout",
     "output_type": "stream",
     "text": [
      "\t Model creation at 0:00:00.579468\n",
      "\t Start solving at 0:04:21.337535\n"
     ]
    },
    {
     "ename": "Error",
     "evalue": "rescode.err_huge_aij(1380): The A matrix contains a huge value of  1.0e+20 in constraint '' (1287750) at variable 'x31' (30).",
     "output_type": "error",
     "traceback": [
      "\u001b[0;31m---------------------------------------------------------------------------\u001b[0m",
      "\u001b[0;31mError\u001b[0m                                     Traceback (most recent call last)",
      "\u001b[0;32m/var/folders/zt/7cz1y9md79l_h08bbqymt4w9z8xlw7/T/ipykernel_50954/1083775598.py\u001b[0m in \u001b[0;36m<module>\u001b[0;34m\u001b[0m\n\u001b[1;32m      6\u001b[0m \u001b[0;32mif\u001b[0m \u001b[0mos\u001b[0m\u001b[0;34m.\u001b[0m\u001b[0mpath\u001b[0m\u001b[0;34m.\u001b[0m\u001b[0mbasename\u001b[0m\u001b[0;34m(\u001b[0m\u001b[0mos\u001b[0m\u001b[0;34m.\u001b[0m\u001b[0mgetcwd\u001b[0m\u001b[0;34m(\u001b[0m\u001b[0;34m)\u001b[0m\u001b[0;34m)\u001b[0m \u001b[0;34m==\u001b[0m \u001b[0;34m\"Seven_node_Europe\"\u001b[0m\u001b[0;34m:\u001b[0m\u001b[0;34m\u001b[0m\u001b[0;34m\u001b[0m\u001b[0m\n\u001b[1;32m      7\u001b[0m     \u001b[0mos\u001b[0m\u001b[0;34m.\u001b[0m\u001b[0mchdir\u001b[0m\u001b[0;34m(\u001b[0m\u001b[0;34m'../..'\u001b[0m\u001b[0;34m)\u001b[0m\u001b[0;34m\u001b[0m\u001b[0;34m\u001b[0m\u001b[0m\n\u001b[0;32m----> 8\u001b[0;31m \u001b[0;32mfrom\u001b[0m \u001b[0mMain_historical\u001b[0m \u001b[0;32mimport\u001b[0m \u001b[0;34m*\u001b[0m\u001b[0;34m\u001b[0m\u001b[0;34m\u001b[0m\u001b[0m\n\u001b[0m\u001b[1;32m      9\u001b[0m \u001b[0;34m\u001b[0m\u001b[0m\n\u001b[1;32m     10\u001b[0m \u001b[0mVariables\u001b[0m\u001b[0;34m=\u001b[0m\u001b[0mmain_historical\u001b[0m\u001b[0;34m(\u001b[0m\u001b[0myear\u001b[0m\u001b[0;34m,\u001b[0m\u001b[0mnumber_of_sub_techs\u001b[0m\u001b[0;34m)\u001b[0m\u001b[0;34m\u001b[0m\u001b[0;34m\u001b[0m\u001b[0m\n",
      "\u001b[0;32m~/Documents/Code/Etude/Energy-Alternatives-Planing/Models/Seven_node_Europe/Main_historical.py\u001b[0m in \u001b[0;36m<module>\u001b[0;34m\u001b[0m\n\u001b[1;32m    116\u001b[0m     \u001b[0mprint\u001b[0m\u001b[0;34m(\u001b[0m\u001b[0;34m'\\t Total duration: {}'\u001b[0m\u001b[0;34m.\u001b[0m\u001b[0mformat\u001b[0m\u001b[0;34m(\u001b[0m\u001b[0mend_time\u001b[0m \u001b[0;34m-\u001b[0m \u001b[0mstart_time\u001b[0m\u001b[0;34m)\u001b[0m\u001b[0;34m)\u001b[0m\u001b[0;34m\u001b[0m\u001b[0;34m\u001b[0m\u001b[0m\n\u001b[1;32m    117\u001b[0m     \u001b[0;32mreturn\u001b[0m \u001b[0mVariables\u001b[0m\u001b[0;34m\u001b[0m\u001b[0;34m\u001b[0m\u001b[0m\n\u001b[0;32m--> 118\u001b[0;31m \u001b[0mmain_historical\u001b[0m\u001b[0;34m(\u001b[0m\u001b[0myear\u001b[0m\u001b[0;34m=\u001b[0m\u001b[0;36m2018\u001b[0m\u001b[0;34m,\u001b[0m\u001b[0mnumber_of_sub_techs\u001b[0m\u001b[0;34m=\u001b[0m\u001b[0;36m1\u001b[0m\u001b[0;34m)\u001b[0m\u001b[0;34m\u001b[0m\u001b[0;34m\u001b[0m\u001b[0m\n\u001b[0m",
      "\u001b[0;32m~/Documents/Code/Etude/Energy-Alternatives-Planing/Models/Seven_node_Europe/Main_historical.py\u001b[0m in \u001b[0;36mmain_historical\u001b[0;34m(year, number_of_sub_techs, error_deactivation)\u001b[0m\n\u001b[1;32m    101\u001b[0m         \u001b[0mopt\u001b[0m \u001b[0;34m=\u001b[0m \u001b[0mSolverFactory\u001b[0m\u001b[0;34m(\u001b[0m\u001b[0msolver\u001b[0m\u001b[0;34m,\u001b[0m\u001b[0mexecutable\u001b[0m\u001b[0;34m=\u001b[0m\u001b[0msolver_path\u001b[0m\u001b[0;34m,\u001b[0m\u001b[0mtee\u001b[0m\u001b[0;34m=\u001b[0m\u001b[0mtee_value\u001b[0m\u001b[0;34m)\u001b[0m\u001b[0;31m#'C:/Program Files/Artelys/Knitro 13.0.1/knitroampl/knitroampl')\u001b[0m\u001b[0;34m\u001b[0m\u001b[0;34m\u001b[0m\u001b[0m\n\u001b[1;32m    102\u001b[0m \u001b[0;34m\u001b[0m\u001b[0m\n\u001b[0;32m--> 103\u001b[0;31m     \u001b[0mresults\u001b[0m\u001b[0;34m=\u001b[0m\u001b[0mopt\u001b[0m\u001b[0;34m.\u001b[0m\u001b[0msolve\u001b[0m\u001b[0;34m(\u001b[0m\u001b[0mmodel\u001b[0m\u001b[0;34m)\u001b[0m\u001b[0;34m\u001b[0m\u001b[0;34m\u001b[0m\u001b[0m\n\u001b[0m\u001b[1;32m    104\u001b[0m     \u001b[0mend_time\u001b[0m \u001b[0;34m=\u001b[0m \u001b[0mdatetime\u001b[0m\u001b[0;34m.\u001b[0m\u001b[0mnow\u001b[0m\u001b[0;34m(\u001b[0m\u001b[0;34m)\u001b[0m\u001b[0;34m\u001b[0m\u001b[0;34m\u001b[0m\u001b[0m\n\u001b[1;32m    105\u001b[0m     \u001b[0mprint\u001b[0m\u001b[0;34m(\u001b[0m\u001b[0;34m'\\t Solved at {}'\u001b[0m\u001b[0;34m.\u001b[0m\u001b[0mformat\u001b[0m\u001b[0;34m(\u001b[0m\u001b[0mend_time\u001b[0m \u001b[0;34m-\u001b[0m \u001b[0mstart_time\u001b[0m\u001b[0;34m)\u001b[0m\u001b[0;34m)\u001b[0m\u001b[0;34m\u001b[0m\u001b[0;34m\u001b[0m\u001b[0m\n",
      "\u001b[0;32m~/opt/anaconda3/envs/energyalternatives/lib/python3.10/site-packages/pyomo/solvers/plugins/solvers/direct_solver.py\u001b[0m in \u001b[0;36msolve\u001b[0;34m(self, *args, **kwds)\u001b[0m\n\u001b[1;32m    118\u001b[0m             \u001b[0minitial_time\u001b[0m \u001b[0;34m=\u001b[0m \u001b[0mtime\u001b[0m\u001b[0;34m.\u001b[0m\u001b[0mtime\u001b[0m\u001b[0;34m(\u001b[0m\u001b[0;34m)\u001b[0m\u001b[0;34m\u001b[0m\u001b[0;34m\u001b[0m\u001b[0m\n\u001b[1;32m    119\u001b[0m \u001b[0;34m\u001b[0m\u001b[0m\n\u001b[0;32m--> 120\u001b[0;31m             \u001b[0mself\u001b[0m\u001b[0;34m.\u001b[0m\u001b[0m_presolve\u001b[0m\u001b[0;34m(\u001b[0m\u001b[0;34m*\u001b[0m\u001b[0margs\u001b[0m\u001b[0;34m,\u001b[0m \u001b[0;34m**\u001b[0m\u001b[0mkwds\u001b[0m\u001b[0;34m)\u001b[0m\u001b[0;34m\u001b[0m\u001b[0;34m\u001b[0m\u001b[0m\n\u001b[0m\u001b[1;32m    121\u001b[0m \u001b[0;34m\u001b[0m\u001b[0m\n\u001b[1;32m    122\u001b[0m             \u001b[0mpresolve_completion_time\u001b[0m \u001b[0;34m=\u001b[0m \u001b[0mtime\u001b[0m\u001b[0;34m.\u001b[0m\u001b[0mtime\u001b[0m\u001b[0;34m(\u001b[0m\u001b[0;34m)\u001b[0m\u001b[0;34m\u001b[0m\u001b[0;34m\u001b[0m\u001b[0m\n",
      "\u001b[0;32m~/opt/anaconda3/envs/energyalternatives/lib/python3.10/site-packages/pyomo/solvers/plugins/solvers/direct_solver.py\u001b[0m in \u001b[0;36m_presolve\u001b[0;34m(self, *args, **kwds)\u001b[0m\n\u001b[1;32m     61\u001b[0m             \u001b[0;32mraise\u001b[0m \u001b[0mValueError\u001b[0m\u001b[0;34m(\u001b[0m\u001b[0mmsg\u001b[0m\u001b[0;34m)\u001b[0m\u001b[0;34m\u001b[0m\u001b[0;34m\u001b[0m\u001b[0m\n\u001b[1;32m     62\u001b[0m \u001b[0;34m\u001b[0m\u001b[0m\n\u001b[0;32m---> 63\u001b[0;31m         \u001b[0mself\u001b[0m\u001b[0;34m.\u001b[0m\u001b[0m_set_instance\u001b[0m\u001b[0;34m(\u001b[0m\u001b[0mmodel\u001b[0m\u001b[0;34m,\u001b[0m \u001b[0mkwds\u001b[0m\u001b[0;34m)\u001b[0m\u001b[0;34m\u001b[0m\u001b[0;34m\u001b[0m\u001b[0m\n\u001b[0m\u001b[1;32m     64\u001b[0m \u001b[0;34m\u001b[0m\u001b[0m\n\u001b[1;32m     65\u001b[0m         \u001b[0mDirectOrPersistentSolver\u001b[0m\u001b[0;34m.\u001b[0m\u001b[0m_presolve\u001b[0m\u001b[0;34m(\u001b[0m\u001b[0mself\u001b[0m\u001b[0;34m,\u001b[0m \u001b[0;34m**\u001b[0m\u001b[0mkwds\u001b[0m\u001b[0;34m)\u001b[0m\u001b[0;34m\u001b[0m\u001b[0;34m\u001b[0m\u001b[0m\n",
      "\u001b[0;32m~/opt/anaconda3/envs/energyalternatives/lib/python3.10/site-packages/pyomo/solvers/plugins/solvers/mosek_direct.py\u001b[0m in \u001b[0;36m_set_instance\u001b[0;34m(self, model, kwds)\u001b[0m\n\u001b[1;32m    190\u001b[0m                          + \"Reason: {}\".format(err_msg))\n\u001b[1;32m    191\u001b[0m             \u001b[0;32mraise\u001b[0m\u001b[0;34m\u001b[0m\u001b[0;34m\u001b[0m\u001b[0m\n\u001b[0;32m--> 192\u001b[0;31m         \u001b[0mself\u001b[0m\u001b[0;34m.\u001b[0m\u001b[0m_add_block\u001b[0m\u001b[0;34m(\u001b[0m\u001b[0mmodel\u001b[0m\u001b[0;34m)\u001b[0m\u001b[0;34m\u001b[0m\u001b[0;34m\u001b[0m\u001b[0m\n\u001b[0m\u001b[1;32m    193\u001b[0m \u001b[0;34m\u001b[0m\u001b[0m\n\u001b[1;32m    194\u001b[0m     \u001b[0;32mdef\u001b[0m \u001b[0m_get_cone_data\u001b[0m\u001b[0;34m(\u001b[0m\u001b[0mself\u001b[0m\u001b[0;34m,\u001b[0m \u001b[0mcon\u001b[0m\u001b[0;34m)\u001b[0m\u001b[0;34m:\u001b[0m\u001b[0;34m\u001b[0m\u001b[0;34m\u001b[0m\u001b[0m\n",
      "\u001b[0;32m~/opt/anaconda3/envs/energyalternatives/lib/python3.10/site-packages/pyomo/solvers/plugins/solvers/mosek_direct.py\u001b[0m in \u001b[0;36m_add_block\u001b[0;34m(self, block)\u001b[0m\n\u001b[1;32m    452\u001b[0m                     \u001b[0;32mcontinue\u001b[0m  \u001b[0;31m# non-binding, so skip\u001b[0m\u001b[0;34m\u001b[0m\u001b[0;34m\u001b[0m\u001b[0m\n\u001b[1;32m    453\u001b[0m                 \u001b[0mcon_list\u001b[0m\u001b[0;34m.\u001b[0m\u001b[0mappend\u001b[0m\u001b[0;34m(\u001b[0m\u001b[0mcon\u001b[0m\u001b[0;34m)\u001b[0m\u001b[0;34m\u001b[0m\u001b[0;34m\u001b[0m\u001b[0m\n\u001b[0;32m--> 454\u001b[0;31m             \u001b[0mself\u001b[0m\u001b[0;34m.\u001b[0m\u001b[0m_add_constraints\u001b[0m\u001b[0;34m(\u001b[0m\u001b[0mcon_list\u001b[0m\u001b[0;34m)\u001b[0m\u001b[0;34m\u001b[0m\u001b[0;34m\u001b[0m\u001b[0m\n\u001b[0m\u001b[1;32m    455\u001b[0m \u001b[0;34m\u001b[0m\u001b[0m\n\u001b[1;32m    456\u001b[0m             for con in sub_block.component_data_objects(\n",
      "\u001b[0;32m~/opt/anaconda3/envs/energyalternatives/lib/python3.10/site-packages/pyomo/solvers/plugins/solvers/mosek_direct.py\u001b[0m in \u001b[0;36m_add_constraints\u001b[0;34m(self, con_seq)\u001b[0m\n\u001b[1;32m    353\u001b[0m             \u001b[0mqcsubk\u001b[0m \u001b[0;34m=\u001b[0m \u001b[0mtuple\u001b[0m\u001b[0;34m(\u001b[0m\u001b[0mi\u001b[0m \u001b[0;32mfor\u001b[0m \u001b[0mi\u001b[0m \u001b[0;32min\u001b[0m \u001b[0msub\u001b[0m \u001b[0;32mfor\u001b[0m \u001b[0mj\u001b[0m \u001b[0;32min\u001b[0m \u001b[0mrange\u001b[0m\u001b[0;34m(\u001b[0m\u001b[0mlen\u001b[0m\u001b[0;34m(\u001b[0m\u001b[0mq_is\u001b[0m\u001b[0;34m[\u001b[0m\u001b[0mi\u001b[0m\u001b[0;34m-\u001b[0m\u001b[0mcon_num\u001b[0m\u001b[0;34m]\u001b[0m\u001b[0;34m)\u001b[0m\u001b[0;34m)\u001b[0m\u001b[0;34m)\u001b[0m\u001b[0;34m\u001b[0m\u001b[0;34m\u001b[0m\u001b[0m\n\u001b[1;32m    354\u001b[0m             \u001b[0mself\u001b[0m\u001b[0;34m.\u001b[0m\u001b[0m_solver_model\u001b[0m\u001b[0;34m.\u001b[0m\u001b[0mappendcons\u001b[0m\u001b[0;34m(\u001b[0m\u001b[0mnum_lq\u001b[0m\u001b[0;34m)\u001b[0m\u001b[0;34m\u001b[0m\u001b[0;34m\u001b[0m\u001b[0m\n\u001b[0;32m--> 355\u001b[0;31m             \u001b[0mself\u001b[0m\u001b[0;34m.\u001b[0m\u001b[0m_solver_model\u001b[0m\u001b[0;34m.\u001b[0m\u001b[0mputarowlist\u001b[0m\u001b[0;34m(\u001b[0m\u001b[0msub\u001b[0m\u001b[0;34m,\u001b[0m \u001b[0mptrb\u001b[0m\u001b[0;34m,\u001b[0m \u001b[0mptre\u001b[0m\u001b[0;34m,\u001b[0m \u001b[0masubs\u001b[0m\u001b[0;34m,\u001b[0m \u001b[0mavals\u001b[0m\u001b[0;34m)\u001b[0m\u001b[0;34m\u001b[0m\u001b[0;34m\u001b[0m\u001b[0m\n\u001b[0m\u001b[1;32m    356\u001b[0m             \u001b[0mself\u001b[0m\u001b[0;34m.\u001b[0m\u001b[0m_solver_model\u001b[0m\u001b[0;34m.\u001b[0m\u001b[0mputqcon\u001b[0m\u001b[0;34m(\u001b[0m\u001b[0mqcsubk\u001b[0m\u001b[0;34m,\u001b[0m \u001b[0mqcsubi\u001b[0m\u001b[0;34m,\u001b[0m \u001b[0mqcsubj\u001b[0m\u001b[0;34m,\u001b[0m \u001b[0mqcval\u001b[0m\u001b[0;34m)\u001b[0m\u001b[0;34m\u001b[0m\u001b[0;34m\u001b[0m\u001b[0m\n\u001b[1;32m    357\u001b[0m             \u001b[0mself\u001b[0m\u001b[0;34m.\u001b[0m\u001b[0m_solver_model\u001b[0m\u001b[0;34m.\u001b[0m\u001b[0mputconboundlist\u001b[0m\u001b[0;34m(\u001b[0m\u001b[0msub\u001b[0m\u001b[0;34m,\u001b[0m \u001b[0mbound_types\u001b[0m\u001b[0;34m,\u001b[0m \u001b[0mlbs\u001b[0m\u001b[0;34m,\u001b[0m \u001b[0mubs\u001b[0m\u001b[0;34m)\u001b[0m\u001b[0;34m\u001b[0m\u001b[0;34m\u001b[0m\u001b[0m\n",
      "\u001b[0;32m~/opt/anaconda3/envs/energyalternatives/lib/python3.10/site-packages/mosek/__init__.py\u001b[0m in \u001b[0;36mputarowlist\u001b[0;34m(self, *args, **kwds)\u001b[0m\n\u001b[1;32m  11365\u001b[0m         \u001b[0;34m[\u001b[0m\u001b[0msub\u001b[0m \u001b[0;34m:\u001b[0m \u001b[0marray\u001b[0m\u001b[0;34m(\u001b[0m\u001b[0mint32\u001b[0m\u001b[0;34m)\u001b[0m\u001b[0;34m]\u001b[0m  \u001b[0mIndexes\u001b[0m \u001b[0mof\u001b[0m \u001b[0mrows\u001b[0m \u001b[0;32mor\u001b[0m \u001b[0mcolumns\u001b[0m \u001b[0mthat\u001b[0m \u001b[0mshould\u001b[0m \u001b[0mbe\u001b[0m \u001b[0mreplaced\u001b[0m\u001b[0;34m.\u001b[0m\u001b[0;34m\u001b[0m\u001b[0;34m\u001b[0m\u001b[0m\n\u001b[1;32m  11366\u001b[0m       \"\"\"\n\u001b[0;32m> 11367\u001b[0;31m       \u001b[0;32mreturn\u001b[0m \u001b[0mself\u001b[0m\u001b[0;34m.\u001b[0m\u001b[0m__putarowlist64_OOOOO_6\u001b[0m\u001b[0;34m(\u001b[0m\u001b[0;34m*\u001b[0m\u001b[0margs\u001b[0m\u001b[0;34m,\u001b[0m\u001b[0;34m**\u001b[0m\u001b[0mkwds\u001b[0m\u001b[0;34m)\u001b[0m\u001b[0;34m\u001b[0m\u001b[0;34m\u001b[0m\u001b[0m\n\u001b[0m\u001b[1;32m  11368\u001b[0m     \u001b[0;32mdef\u001b[0m \u001b[0m__putacolslice64_iiOOOO_7\u001b[0m\u001b[0;34m(\u001b[0m\u001b[0mself\u001b[0m\u001b[0;34m,\u001b[0m\u001b[0mfirst\u001b[0m\u001b[0;34m,\u001b[0m\u001b[0mlast\u001b[0m\u001b[0;34m,\u001b[0m\u001b[0mptrb\u001b[0m\u001b[0;34m,\u001b[0m\u001b[0mptre\u001b[0m\u001b[0;34m,\u001b[0m\u001b[0masub\u001b[0m\u001b[0;34m,\u001b[0m\u001b[0maval\u001b[0m\u001b[0;34m)\u001b[0m\u001b[0;34m:\u001b[0m\u001b[0;34m\u001b[0m\u001b[0;34m\u001b[0m\u001b[0m\n\u001b[1;32m  11369\u001b[0m       \u001b[0;32mif\u001b[0m \u001b[0mptrb\u001b[0m \u001b[0;32mis\u001b[0m \u001b[0;32mNone\u001b[0m\u001b[0;34m:\u001b[0m\u001b[0;34m\u001b[0m\u001b[0;34m\u001b[0m\u001b[0m\n",
      "\u001b[0;32m~/opt/anaconda3/envs/energyalternatives/lib/python3.10/site-packages/mosek/__init__.py\u001b[0m in \u001b[0;36m__putarowlist64_OOOOO_6\u001b[0;34m(self, sub, ptrb, ptre, asub, aval)\u001b[0m\n\u001b[1;32m  11353\u001b[0m       \u001b[0;32mif\u001b[0m \u001b[0m_res_putarowlist64\u001b[0m \u001b[0;34m!=\u001b[0m \u001b[0;36m0\u001b[0m\u001b[0;34m:\u001b[0m\u001b[0;34m\u001b[0m\u001b[0;34m\u001b[0m\u001b[0m\n\u001b[1;32m  11354\u001b[0m         \u001b[0m_\u001b[0m\u001b[0;34m,\u001b[0m\u001b[0m_msg_putarowlist64\u001b[0m \u001b[0;34m=\u001b[0m \u001b[0mself\u001b[0m\u001b[0;34m.\u001b[0m\u001b[0m__getlasterror\u001b[0m\u001b[0;34m(\u001b[0m\u001b[0m_res_putarowlist64\u001b[0m\u001b[0;34m)\u001b[0m\u001b[0;34m\u001b[0m\u001b[0;34m\u001b[0m\u001b[0m\n\u001b[0;32m> 11355\u001b[0;31m         \u001b[0;32mraise\u001b[0m \u001b[0mError\u001b[0m\u001b[0;34m(\u001b[0m\u001b[0mrescode\u001b[0m\u001b[0;34m(\u001b[0m\u001b[0m_res_putarowlist64\u001b[0m\u001b[0;34m)\u001b[0m\u001b[0;34m,\u001b[0m\u001b[0m_msg_putarowlist64\u001b[0m\u001b[0;34m)\u001b[0m\u001b[0;34m\u001b[0m\u001b[0;34m\u001b[0m\u001b[0m\n\u001b[0m\u001b[1;32m  11356\u001b[0m     \u001b[0;32mdef\u001b[0m \u001b[0mputarowlist\u001b[0m\u001b[0;34m(\u001b[0m\u001b[0mself\u001b[0m\u001b[0;34m,\u001b[0m\u001b[0;34m*\u001b[0m\u001b[0margs\u001b[0m\u001b[0;34m,\u001b[0m\u001b[0;34m**\u001b[0m\u001b[0mkwds\u001b[0m\u001b[0;34m)\u001b[0m\u001b[0;34m:\u001b[0m\u001b[0;34m\u001b[0m\u001b[0;34m\u001b[0m\u001b[0m\n\u001b[1;32m  11357\u001b[0m       \"\"\"\n",
      "\u001b[0;31mError\u001b[0m: rescode.err_huge_aij(1380): The A matrix contains a huge value of  1.0e+20 in constraint '' (1287750) at variable 'x31' (30)."
     ]
    }
   ],
   "source": [
    "#Run this for simulation\n",
    "year=2018 #must be between 2017 and 2019\n",
    "number_of_sub_techs=5\n",
    "consumption=pd.read_csv('Input data/'+str(year)+'/'+str(year)+'_MultiNodeAreaConsumption.csv')\n",
    "\n",
    "if os.path.basename(os.getcwd()) == \"Seven_node_Europe\":\n",
    "    os.chdir('../..')\n",
    "from Main_historical import *\n",
    "\n",
    "Variables=main_historical(year,number_of_sub_techs)"
   ]
  },
  {
   "cell_type": "code",
   "execution_count": null,
   "metadata": {},
   "outputs": [],
   "source": [
    "#Run this to load a result file\n",
    "year=2018 #must be between 2017 and 2019\n",
    "consumption=pd.read_csv('Input data/'+str(year)+'/'+str(year)+'_MultiNodeAreaConsumption.csv')\n",
    "with open(\"Result_\"+str(year)+\".pickle\", 'rb') as f:\n",
    "    Variables=pickle.load(f)"
   ]
  },
  {
   "cell_type": "markdown",
   "metadata": {},
   "source": [
    "# 2. Preliminary calculations"
   ]
  },
  {
   "cell_type": "code",
   "execution_count": null,
   "metadata": {},
   "outputs": [],
   "source": [
    "states=[\"Historical\"]\n",
    "exch_list=[Variables[\"exchange\"]]\n",
    "data=[Variables[\"energy\"]]\n",
    "data_stor=[Variables[\"storageOut\"]]\n",
    "data_capa=[Variables[\"capacity\"]]\n",
    "data_stor_capa=[Variables[\"Pmax\"]]\n",
    "colors=[\"black\"]"
   ]
  },
  {
   "cell_type": "code",
   "execution_count": null,
   "metadata": {},
   "outputs": [],
   "source": [
    "#subtechs list\n",
    "l=data_capa[0]\n",
    "l=l.TECHNOLOGIES.unique()\n",
    "u=[]\n",
    "n_list=[]\n",
    "for tech_name in l:\n",
    "    if tech_name[:4]==\"Coal\" and tech_name!=\"Coal\":\n",
    "        n_list.append(tech_name[4:])"
   ]
  },
  {
   "cell_type": "markdown",
   "metadata": {},
   "source": [
    "# 3. Results plot"
   ]
  },
  {
   "cell_type": "markdown",
   "metadata": {},
   "source": [
    "## a. Capacity"
   ]
  },
  {
   "cell_type": "code",
   "execution_count": null,
   "metadata": {},
   "outputs": [],
   "source": [
    "# total_consum=round(consum.areaConsumption.sum()/10**6,2)\n",
    "tech_list=[\"OldNuke\",\"NewNuke\",\"Coal\",\"Lignite\",\"CCG\",\"TAC\",\"HydroRiver\",\"HydroReservoir\",'HydroStorage',\"Biomass\",\n",
    "           \"WindOnShore\",\"WindOffShore\",\"Solar\",\"Battery\"]\n",
    "\n",
    "\n",
    "\n",
    "df_capa=pd.DataFrame(columns=[\"TECHNOLOGIES\"]+states)\n",
    "df_capa[\"TECHNOLOGIES\"]=np.array(tech_list)\n",
    "# print(len(data))\n",
    "for i in range(len(data)):\n",
    "    capa=data_capa[i]\n",
    "    for t in tech_list:\n",
    "        t_list=[t]\n",
    "        if len(n_list)>0:\n",
    "            for j in range(len(n_list)):\n",
    "                t_list.append(t+n_list[j])\n",
    "\n",
    "        if t not in [\"HydroStorage\",\"Battery\"] :\n",
    "            val=round(capa[capa.TECHNOLOGIES.isin(t_list)].capacity.to_numpy().sum()/10**3,2)\n",
    "    #         print(val)\n",
    "            df_capa.loc[df_capa.TECHNOLOGIES==t,states[i]]=val\n",
    "        else:\n",
    "            u=data_stor_capa[i]\n",
    "            val=round(u[u.STOCK_TECHNO==t].Pmax.to_numpy().sum()/10**3,2)\n",
    "#             print(val)\n",
    "            df_capa.loc[df_capa.TECHNOLOGIES==t,states[i]]=val\n",
    "total_capa=df_capa[states[0]].sum()"
   ]
  },
  {
   "cell_type": "code",
   "execution_count": null,
   "metadata": {},
   "outputs": [],
   "source": [
    "df_capa"
   ]
  },
  {
   "cell_type": "code",
   "execution_count": null,
   "metadata": {
    "scrolled": false
   },
   "outputs": [],
   "source": [
    "tech_list=[\"OldNuke\",\"NewNuke\",\"Coal\",\"Lignite\",\"CCG\",\"TAC\",\"HydroRiver\",\"HydroReservoir\",'HydroStorage',\"Biomass\",\n",
    "           \"WindOnShore\",\"WindOffShore\",\"Solar\",\"Battery\"]\n",
    "\n",
    "for area in [\"FR\",\"DE\",\"GB\",\"BE\",\"IT\",\"ES\",\"CH\"]:\n",
    "    print(\"\\nCapacities installed for \"+area)\n",
    "    df_capa=pd.DataFrame(columns=[\"TECHNOLOGIES\"]+states)\n",
    "    df_capa[\"TECHNOLOGIES\"]=np.array(tech_list)\n",
    "    # print(len(data))\n",
    "    for i in range(len(data)):\n",
    "        capa=data_capa[i]\n",
    "        capa=capa[capa.AREAS==area]\n",
    "        for t in tech_list:\n",
    "            t_list=[t]\n",
    "            if len(n_list)>0:\n",
    "                for j in range(len(n_list)):\n",
    "                    t_list.append(t+n_list[j])\n",
    "\n",
    "            if t not in [\"HydroStorage\",\"Battery\"] :\n",
    "                val=round(capa[capa.TECHNOLOGIES.isin(t_list)].capacity.to_numpy().sum()/10**3,2)\n",
    "        #         print(val)\n",
    "                df_capa.loc[df_capa.TECHNOLOGIES==t,states[i]]=val\n",
    "            else:\n",
    "                u=data_stor_capa[i]\n",
    "                u=u[u.AREAS==area]\n",
    "                val=round(u[u.STOCK_TECHNO==t].Pmax.to_numpy().sum()/10**3,2)\n",
    "    #             print(val)\n",
    "                df_capa.loc[df_capa.TECHNOLOGIES==t,states[i]]=val\n",
    "    print(df_capa)"
   ]
  },
  {
   "cell_type": "markdown",
   "metadata": {},
   "source": [
    "## b. Production"
   ]
  },
  {
   "cell_type": "code",
   "execution_count": null,
   "metadata": {},
   "outputs": [],
   "source": [
    "country=\"FR\"\n",
    "p=Variables[\"capacity\"]\n",
    "p=p[p.AREAS==country]\n",
    "p"
   ]
  },
  {
   "cell_type": "markdown",
   "metadata": {},
   "source": [
    "### i. Production at the 7 nodes scale "
   ]
  },
  {
   "cell_type": "code",
   "execution_count": null,
   "metadata": {},
   "outputs": [],
   "source": [
    "# total_consum=round(consum.areaConsumption.sum()/10**6,2)\n",
    "tech_list=[\"OldNuke\",\"NewNuke\",\"Coal\",\"Lignite\",\"CCG\",\"TAC\",\"HydroRiver\",\"HydroReservoir\",'HydroStorage',\"Biomass\",\n",
    "           \"WindOnShore\",\"WindOffShore\",\"Solar\",\"Battery\",\"curtailment\"]\n",
    "\n",
    "\n",
    "\n",
    "df_prod=pd.DataFrame(columns=[\"TECHNOLOGIES\"]+states)\n",
    "df_prod[\"TECHNOLOGIES\"]=np.array(tech_list)\n",
    "\n",
    "for i in range(len(data)):\n",
    "    prod=data[i]\n",
    "    for t in tech_list:\n",
    "        t_list=[t]\n",
    "        if len(n_list)>0:\n",
    "            for j in range(len(n_list)):\n",
    "                t_list.append(t+n_list[j])\n",
    "\n",
    "        if t!=\"HydroStorage\":\n",
    "            val=round(prod[prod.TECHNOLOGIES.isin(t_list)].energy.to_numpy().sum()/10**6,2)\n",
    "    #         print(val)\n",
    "            df_prod.loc[df_prod.TECHNOLOGIES==t,states[i]]=val\n",
    "        else:\n",
    "            u=data_stor[i]\n",
    "            val=round(u[u.STOCK_TECHNO==t].storageOut.to_numpy().sum()/10**6,2)\n",
    "\n",
    "            df_prod.loc[df_prod.TECHNOLOGIES==t,states[i]]=val\n",
    "total_prod=df_prod[states[0]].sum()"
   ]
  },
  {
   "cell_type": "code",
   "execution_count": null,
   "metadata": {},
   "outputs": [],
   "source": [
    "df_prod_bar=pd.DataFrame(columns=[\"TECHNOLOGIES\",\"Production (TWh)\",\"Production (%)\",\"Scenario\"])\n",
    "for c in df_prod.columns[1:]:\n",
    "    u=df_prod[[\"TECHNOLOGIES\",c]]\n",
    "    u.rename(columns={c:\"Production (TWh)\"},inplace=True)\n",
    "    u[\"Production (%)\"]=u[\"Production (TWh)\"]/u[\"Production (TWh)\"].sum()*100\n",
    "    u[\"Scenario\"]=c\n",
    "    df_prod_bar=pd.concat([df_prod_bar,u],ignore_index=True)"
   ]
  },
  {
   "cell_type": "code",
   "execution_count": null,
   "metadata": {},
   "outputs": [],
   "source": [
    "import plotly.express as px\n",
    "fig = px.bar(df_prod_bar, x='Scenario', y='Production (%)', color=\"TECHNOLOGIES\")\n",
    "fig.show()"
   ]
  },
  {
   "cell_type": "code",
   "execution_count": null,
   "metadata": {},
   "outputs": [],
   "source": [
    "fig = px.pie(df_prod_bar, values='Production (TWh)', names='TECHNOLOGIES', title='Production per technology (in %)')\n",
    "fig.show()"
   ]
  },
  {
   "cell_type": "markdown",
   "metadata": {},
   "source": [
    "### ii. Production at country scale"
   ]
  },
  {
   "cell_type": "code",
   "execution_count": null,
   "metadata": {},
   "outputs": [],
   "source": [
    "# total_consum=round(consum.areaConsumption.sum()/10**6,2)\n",
    "countries=[\"FR\",\"DE\",\"BE\",\"GB\",\"IT\",\"CH\",\"ES\"]\n",
    "tech_list=[\"OldNuke\",\"NewNuke\",\"Biomass\",\"Coal\",\"Lignite\",\"CCG\",\"TAC\",\"HydroRiver\",\"HydroReservoir\",'HydroStorage','Battery',\n",
    "            \"WindOnShore\",\"WindOffShore\",\"Solar\"]\n",
    "\n",
    "\n",
    "\n",
    "df_prod_country=pd.DataFrame(columns=[\"AREAS\",\"TECHNOLOGIES\",\"State\",\"Production (TWh)\"])\n",
    "\n",
    "\n",
    "for i in range(len(states)):\n",
    "    prod=data[i]\n",
    "    for c in countries:\n",
    "        for t in tech_list:\n",
    "            t_list=[t]\n",
    "            if len(n_list)>0:\n",
    "                for j in range(len(n_list)):\n",
    "                    t_list.append(t+n_list[j])\n",
    "            if t not in [\"HydroStorage\",\"Battery\"]:\n",
    "                val=round(prod[(prod.TECHNOLOGIES.isin(t_list)) & (prod.AREAS==c)].energy.to_numpy().sum()/10**6,2)\n",
    "                array=np.array([[c,t,states[i],val]])\n",
    "                df_prod_country=pd.concat([df_prod_country,\n",
    "                                           pd.DataFrame(array,columns=[\"AREAS\",\"TECHNOLOGIES\",\"State\",\"Production (TWh)\"])])\n",
    "            else:\n",
    "                u=data_stor[i]\n",
    "                val=round(u[(u.STOCK_TECHNO==t) & (u.AREAS==c)].storageOut.to_numpy().sum()/10**6,2)\n",
    "                array=np.array([[c,t,states[i],val]])\n",
    "                df_prod_country=pd.concat([df_prod_country,\n",
    "                                           pd.DataFrame(array,columns=[\"AREAS\",\"TECHNOLOGIES\",\"State\",\"Production (TWh)\"])])\n",
    "\n",
    "df_prod_country[\"Production (TWh)\"]=df_prod_country[\"Production (TWh)\"].astype('float')\n",
    "                \n",
    "# comparison_per_country=df_prod_country.copy()\n",
    "# for country in countries:\n",
    "#     total_prod=df_prod[states[0]].sum()\n",
    "#     total_consum=round(consum[consum.AREAS==country].areaConsumption.sum()/10**6,2)\n",
    "#     comparison_per_country.loc[comparison_per_country.AREAS==country,\"Production (TWh)\"]= comparison_per_country.loc[comparison_per_country.AREAS==country,\"Production (TWh)\"].astype(float)/total_consum\n",
    "    \n",
    "# comparison_per_country[\"Difference with historical\"]=np.zeros(len(comparison_per_country))\n",
    "# for state in states:\n",
    "#     comparison_per_country.loc[comparison_per_country.State==state,\"Difference with \"+states[0]]=(comparison_per_country.loc[comparison_per_country.State==state,\"Production (TWh)\"]-comparison_per_country.loc[comparison_per_country.State==\"Historical\",\"Production (TWh)\"])*100                "
   ]
  },
  {
   "cell_type": "code",
   "execution_count": null,
   "metadata": {
    "scrolled": true
   },
   "outputs": [],
   "source": [
    "from  matplotlib.ticker import PercentFormatter\n",
    "g = sns.catplot(x=\"State\", y=\"Production (TWh)\",hue=\"AREAS\",col=\"TECHNOLOGIES\",col_wrap=3,kind=\"bar\",\n",
    "                data=df_prod_country)\n",
    "# for ax in g.axes.flat:\n",
    "#     ax.yaxis.set_major_formatter(PercentFormatter())\n",
    "\n",
    "plt.show()"
   ]
  },
  {
   "cell_type": "code",
   "execution_count": null,
   "metadata": {},
   "outputs": [],
   "source": [
    "country=\"FR\"\n",
    "p=Variables[\"energy\"]\n",
    "p=p[p.AREAS==country]\n",
    "storout=Variables[\"storageOut\"]\n",
    "#print(\"HydroStorage\",round(storout[storout.AREAS==country].storageOut.sum()/10**6,2),\"TWh\")\n",
    "storout=storout[(storout.AREAS==country) & (storout.STOCK_TECHNO!=\"Battery\")]\n",
    "storout=storout.rename(columns={'STOCK_TECHNO':'TECHNOLOGIES',\"storageOut\":\"energy\"})\n",
    "p=pd.concat([p,storout],ignore_index=True)\n",
    "tot=0\n",
    "for t in p.TECHNOLOGIES.unique():\n",
    "    l=p[p.TECHNOLOGIES==t]\n",
    "    print(t,round(l.energy.sum()/10**6,2),\"TWh\")\n",
    "    tot+=l.energy.sum()\n",
    "print(\"Total produced\",round(tot/10**6,2),\"TWh\")"
   ]
  },
  {
   "cell_type": "code",
   "execution_count": null,
   "metadata": {},
   "outputs": [],
   "source": [
    "tech_list=[\"OldNuke\",\"NewNuke\",\"Biomass\",\"Coal\",\"CCG\",\"HydroRiver\",\"HydroReservoir\",'HydroStorage',\n",
    "           \"WindOnShore\",\"WindOffShore\",\"Solar\",\"curtailment\"]\n",
    "sorted_df=pd.DataFrame(columns=[\"Date\",\"TECHNOLOGIES\",\"energy\"])\n",
    "for i in range(len(tech_list)):\n",
    "    d=p[p.TECHNOLOGIES==tech_list[i]].sort_values(by=\"Date\")\n",
    "    sorted_df=pd.concat([sorted_df,d[[\"Date\",\"TECHNOLOGIES\",\"energy\"]]],ignore_index=True)\n",
    "fig = px.area(sorted_df, x=\"Date\", y=\"energy\", color=\"TECHNOLOGIES\",line_group=\"TECHNOLOGIES\",title=country+\" simulations\")\n",
    "consum=consumption[consumption.AREAS==country]\n",
    "fig.add_scatter(x=consum.Date, y=consum.areaConsumption, name=\"Consumption\",mode=\"lines\",line_color=\"black\")\n",
    "fig.show()"
   ]
  },
  {
   "cell_type": "markdown",
   "metadata": {},
   "source": [
    "## c. HydroStorage operations"
   ]
  },
  {
   "cell_type": "code",
   "execution_count": null,
   "metadata": {
    "scrolled": true
   },
   "outputs": [],
   "source": [
    "stocklevels=[Variables[\"stockLevel\"]]\n",
    "for area in stocklevels[0].AREAS.unique():\n",
    "    fig, ax = plt.subplots(1,figsize=(20,10))\n",
    "    fig.suptitle(area+\" Hydrostorage stock level\")\n",
    "    v=stocklevels[0]\n",
    "    u=v[v.AREAS==area]\n",
    "    u=u[u.STOCK_TECHNO==\"HydroStorage\"]\n",
    "    ax.plot(u.Date,u.stockLevel,\"o\",color=colors[0],label=states[0])\n",
    "    ax.legend()\n",
    "    ax.set_ylabel(\"Storage (MWh)\")\n",
    "    plt.xlabel(\"Date\")"
   ]
  },
  {
   "cell_type": "markdown",
   "metadata": {},
   "source": [
    "## d. Exchanges"
   ]
  },
  {
   "cell_type": "code",
   "execution_count": null,
   "metadata": {
    "scrolled": true
   },
   "outputs": [],
   "source": [
    "\n",
    "c1,c2=\"FR\",\"CH\"\n",
    "\n",
    "plt.figure(figsize=(10,5))\n",
    "\n",
    "fig=plt.figure(figsize=(20,5))\n",
    "plt.title(c1+'-'+c2+\" exchanges\")\n",
    "    \n",
    "u=exch_list[0]\n",
    "v=u[(u.AREAS==c1)&(u.AREAS1==c2)]\n",
    "v.TIMESTAMP=pd.to_datetime(v.TIMESTAMP)\n",
    "plt.scatter(v.TIMESTAMP,v.exchange,label=states[0],s=20,alpha=0.3,color=colors[0])\n",
    "plt.legend()\n",
    "plt.ylabel('Exchanges (MW)')\n",
    "# plt.subplots_adjust(left=None, bottom=0, right=None, top=1, wspace=0.2, hspace=None)\n",
    "plt.xlabel(\"Date\")"
   ]
  },
  {
   "cell_type": "code",
   "execution_count": null,
   "metadata": {},
   "outputs": [],
   "source": [
    "ext_fr=[\"DE\",\"BE\",\"GB\",\"IT\",\"CH\",\"ES\"]\n",
    "exchanges_fr=pd.DataFrame(columns=[\"state\",'countries',\"Exchanges (TWh)\"])\n",
    "other_exchanges=pd.DataFrame(columns=[\"state\",'countries',\"Exchanges (TWh)\"])\n",
    "\n",
    "for i in range(len(exch_list)):\n",
    "    s=0\n",
    "    exchange=exch_list[i]\n",
    "    for c in [\"DE\",\"BE\",\"GB\",\"IT\",\"CH\",\"ES\"]:\n",
    "        value=round(exchange[(exchange.AREAS==\"FR\") & (exchange.AREAS1==c)].exchange.sum()/10**6,2)\n",
    "        s+=value\n",
    "        u=pd.DataFrame(np.array([[states[i],c,\n",
    "                                 value]]),\n",
    "                       columns=[\"state\",'countries',\"Exchanges (TWh)\"])\n",
    "        exchanges_fr=pd.concat([exchanges_fr,u],ignore_index=True)\n",
    "\n",
    "    u=pd.DataFrame(np.array([[states[i],\"Total\",\n",
    "                                 s]]),\n",
    "                       columns=[\"state\",'countries',\"Exchanges (TWh)\"])\n",
    "    exchanges_fr=pd.concat([exchanges_fr,u],ignore_index=True)\n",
    "\n",
    "    for a,b in [[\"CH\",\"DE\"],[\"CH\",\"IT\"],[\"DE\",\"IT\"]]:\n",
    "        value=round(exchange[(exchange.AREAS==a) & (exchange.AREAS1==b)].exchange.sum()/10**6,2)\n",
    "        u=pd.DataFrame(np.array([[states[i],a+\"-\"+b,\n",
    "                                 value]]),\n",
    "                       columns=[\"state\",'countries',\"Exchanges (TWh)\"])\n",
    "        other_exchanges=pd.concat([other_exchanges,u],ignore_index=True)\n",
    "        \n",
    "exchanges_fr[\"Exchanges (TWh)\"]=exchanges_fr[\"Exchanges (TWh)\"].astype(float)\n",
    "other_exchanges[\"Exchanges (TWh)\"]=other_exchanges[\"Exchanges (TWh)\"].astype(float)"
   ]
  },
  {
   "cell_type": "code",
   "execution_count": null,
   "metadata": {},
   "outputs": [],
   "source": [
    "ax = sns.barplot(x=\"countries\", y=\"Exchanges (TWh)\", hue=\"state\",data=exchanges_fr)\n",
    "ax.title.set_text(\"France exchanges\")"
   ]
  },
  {
   "cell_type": "code",
   "execution_count": null,
   "metadata": {},
   "outputs": [],
   "source": [
    "ax = sns.barplot(x=\"countries\", y=\"Exchanges (TWh)\", hue=\"state\",data=other_exchanges)\n",
    "ax.title.set_text(\"Other exchanges\")"
   ]
  },
  {
   "cell_type": "markdown",
   "metadata": {},
   "source": [
    "## e. Cost "
   ]
  },
  {
   "cell_type": "code",
   "execution_count": null,
   "metadata": {},
   "outputs": [],
   "source": [
    "capacityCost=np.array([Variables['capacityCosts'].capacityCosts.sum()/10**9])"
   ]
  },
  {
   "cell_type": "code",
   "execution_count": null,
   "metadata": {},
   "outputs": [],
   "source": [
    "energyCost=np.array([Variables['energyCosts'].energyCosts.sum()/10**9])"
   ]
  },
  {
   "cell_type": "code",
   "execution_count": null,
   "metadata": {},
   "outputs": [],
   "source": [
    "ax=sns.barplot(x=[\"Scenario\"],y=capacityCost)\n",
    "plt.ylabel(\"B€/year\")\n",
    "plt.title(\"Annualized capacity cost\")\n",
    "ax.bar_label(ax.containers[0])"
   ]
  },
  {
   "cell_type": "code",
   "execution_count": null,
   "metadata": {},
   "outputs": [],
   "source": [
    "ax=sns.barplot(x=[\"Scenario\"],y=energyCost)\n",
    "plt.ylabel(\"B€/year\")\n",
    "plt.title(\"Annualized energy cost\")\n",
    "ax.bar_label(ax.containers[0])"
   ]
  },
  {
   "cell_type": "code",
   "execution_count": null,
   "metadata": {},
   "outputs": [],
   "source": [
    "ax=sns.barplot(x=[\"Scenario\"],y=energyCost+capacityCost)\n",
    "plt.ylabel(\"B€/year\")\n",
    "plt.title(\"Annualized total cost\")\n",
    "ax.bar_label(ax.containers[0])"
   ]
  },
  {
   "cell_type": "code",
   "execution_count": null,
   "metadata": {},
   "outputs": [],
   "source": [
    "tot_cost=energyCost+capacityCost\n",
    "ax=sns.barplot(x=[\"Scenario\"],y=tot_cost*10**9/np.array([total_prod])*10**-6)\n",
    "plt.ylabel(\"€/MWh\")\n",
    "plt.title(\"Cost of electricity\")\n",
    "ax.bar_label(ax.containers[0])"
   ]
  }
 ],
 "metadata": {
  "kernelspec": {
   "display_name": "energyalternatives",
   "language": "python",
   "name": "energyalternatives"
  },
  "language_info": {
   "codemirror_mode": {
    "name": "ipython",
    "version": 3
   },
   "file_extension": ".py",
   "mimetype": "text/x-python",
   "name": "python",
   "nbconvert_exporter": "python",
   "pygments_lexer": "ipython3",
   "version": "3.10.2"
  }
 },
 "nbformat": 4,
 "nbformat_minor": 5
}
