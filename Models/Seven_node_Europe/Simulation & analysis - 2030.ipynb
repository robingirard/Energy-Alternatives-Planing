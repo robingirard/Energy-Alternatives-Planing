{
 "cells": [
  {
   "cell_type": "code",
   "execution_count": null,
   "id": "dd6cde2f",
   "metadata": {},
   "outputs": [],
   "source": [
    "import matplotlib.pyplot as plt\n",
    "import pandas as pd\n",
    "import plotly.graph_objs as go\n",
    "import plotly.express as px\n",
    "import numpy as np\n",
    "import os\n",
    "import sys\n",
    "import pickle\n",
    "import seaborn as sns\n",
    "sns.set_theme(style=\"whitegrid\")\n",
    "import warnings\n",
    "warnings.filterwarnings(\"ignore\")"
   ]
  },
  {
   "cell_type": "markdown",
   "id": "f9680d2a",
   "metadata": {},
   "source": [
    "# 1. Simulation running or results extraction"
   ]
  },
  {
   "cell_type": "code",
   "execution_count": null,
   "id": "16e6318b",
   "metadata": {},
   "outputs": [],
   "source": [
    "#Run this for simulation\n",
    "\n",
    "weather_year=2018 #must be between 2017 and 2019\n",
    "carbon_tax=60\n",
    "gas_price_coef=1\n",
    "coal_price_coef=1 \n",
    "number_of_sub_techs=5\n",
    "fr_flex_consum={'conso':{\"nbVE\":5,\"steel_twh\":5,\"H2_twh\":25},'ratio':{\"VE_ratio\":0,\"steel_ratio\":0,\"H2_ratio\":0}}\n",
    "\n",
    "if os.path.basename(os.getcwd()) == \"Seven_node_Europe\":\n",
    "    os.chdir('../..')\n",
    "    \n",
    "from Main_2030 import *\n",
    "Variables=main_2030(weather_year,carbon_tax,gas_price_coef,coal_price_coef,number_of_sub_techs,fr_flex_consum)"
   ]
  },
  {
   "cell_type": "code",
   "execution_count": null,
   "id": "e79c40d0",
   "metadata": {},
   "outputs": [],
   "source": [
    "#Run this to load a result file\n",
    "with open(\"Result_2030.pickle\", 'rb') as f:\n",
    "    Variables=pickle.load(f)"
   ]
  },
  {
   "cell_type": "markdown",
   "id": "e773b218",
   "metadata": {},
   "source": [
    "# 2. Preliminary calculations"
   ]
  },
  {
   "cell_type": "code",
   "execution_count": null,
   "id": "af39636a",
   "metadata": {},
   "outputs": [],
   "source": [
    "states=[\"2030\"]\n",
    "exch_list=[Variables[\"exchange\"]]\n",
    "data=[Variables[\"energy\"]]\n",
    "data_stor=[Variables[\"storageOut\"]]\n",
    "data_capa=[Variables[\"capacity\"]]\n",
    "data_stor_capa=[Variables[\"Pmax\"]]\n",
    "consumption=Variables['total_consumption']\n",
    "consumption[\"Date\"]=pd.to_datetime(consumption[\"Date\"])\n",
    "consumption.sort_values(by='Date', inplace=True)\n",
    "consumption.reset_index(inplace=True,drop=True)\n",
    "colors=[\"black\"]"
   ]
  },
  {
   "cell_type": "code",
   "execution_count": null,
   "id": "67aa35f2",
   "metadata": {},
   "outputs": [],
   "source": [
    "#subtechs list\n",
    "l=data_capa[0]\n",
    "l=l.TECHNOLOGIES.unique()\n",
    "u=[]\n",
    "n_list=[]\n",
    "for tech_name in l:\n",
    "    if tech_name[:4]==\"Coal\" and tech_name!=\"Coal\":\n",
    "        n_list.append(tech_name[4:])"
   ]
  },
  {
   "cell_type": "markdown",
   "id": "a37272cb",
   "metadata": {},
   "source": [
    "# 3. Results plot"
   ]
  },
  {
   "cell_type": "markdown",
   "id": "d4ef34e5",
   "metadata": {},
   "source": [
    "## a. Capacity"
   ]
  },
  {
   "cell_type": "code",
   "execution_count": null,
   "id": "99f66acc",
   "metadata": {},
   "outputs": [],
   "source": [
    "# total_consum=round(consum.areaConsumption.sum()/10**6,2)\n",
    "tech_list=[\"OldNuke\",\"NewNuke\",\"Coal\",\"Lignite\",\"CCG\",\"TAC\",\"HydroRiver\",\"HydroReservoir\",'HydroStorage',\"Biomass\",\n",
    "           \"WindOnShore\",\"WindOffShore\",\"Solar\",\"Battery\"]\n",
    "\n",
    "\n",
    "\n",
    "df_capa=pd.DataFrame(columns=[\"TECHNOLOGIES\"]+states)\n",
    "df_capa[\"TECHNOLOGIES\"]=np.array(tech_list)\n",
    "# print(len(data))\n",
    "for i in range(len(data)):\n",
    "    capa=data_capa[i]\n",
    "    for t in tech_list:\n",
    "        t_list=[t]\n",
    "        if len(n_list)>0:\n",
    "            for j in range(len(n_list)):\n",
    "                t_list.append(t+n_list[j])\n",
    "\n",
    "        if t not in [\"HydroStorage\",\"Battery\"] :\n",
    "            val=round(capa[capa.TECHNOLOGIES.isin(t_list)].capacity.to_numpy().sum()/10**3,2)\n",
    "    #         print(val)\n",
    "            df_capa.loc[df_capa.TECHNOLOGIES==t,states[i]]=val\n",
    "        else:\n",
    "            u=data_stor_capa[i]\n",
    "            val=round(u[u.STOCK_TECHNO==t].Pmax.to_numpy().sum()/10**3,2)\n",
    "#             print(val)\n",
    "            df_capa.loc[df_capa.TECHNOLOGIES==t,states[i]]=val\n",
    "total_capa=df_capa[states[0]].sum()"
   ]
  },
  {
   "cell_type": "code",
   "execution_count": null,
   "id": "1e596bc0",
   "metadata": {},
   "outputs": [],
   "source": [
    "df_capa"
   ]
  },
  {
   "cell_type": "code",
   "execution_count": null,
   "id": "052937b6",
   "metadata": {
    "scrolled": false
   },
   "outputs": [],
   "source": [
    "tech_list=[\"OldNuke\",\"NewNuke\",\"Coal\",\"Lignite\",\"CCG\",\"TAC\",\"HydroRiver\",\"HydroReservoir\",'HydroStorage',\"Biomass\",\n",
    "           \"WindOnShore\",\"WindOffShore\",\"Solar\",\"Battery\"]\n",
    "\n",
    "for area in [\"FR\",\"DE\",\"GB\",\"BE\",\"IT\",\"ES\",\"CH\"]:\n",
    "    print(\"\\nCapacities installed for \"+area)\n",
    "    df_capa=pd.DataFrame(columns=[\"TECHNOLOGIES\"]+states)\n",
    "    df_capa[\"TECHNOLOGIES\"]=np.array(tech_list)\n",
    "    # print(len(data))\n",
    "    for i in range(len(data)):\n",
    "        capa=data_capa[i]\n",
    "        capa=capa[capa.AREAS==area]\n",
    "        for t in tech_list:\n",
    "            t_list=[t]\n",
    "            if len(n_list)>0:\n",
    "                for j in range(len(n_list)):\n",
    "                    t_list.append(t+n_list[j])\n",
    "\n",
    "            if t not in [\"HydroStorage\",\"Battery\"] :\n",
    "                val=round(capa[capa.TECHNOLOGIES.isin(t_list)].capacity.to_numpy().sum()/10**3,2)\n",
    "        #         print(val)\n",
    "                df_capa.loc[df_capa.TECHNOLOGIES==t,states[i]]=val\n",
    "            else:\n",
    "                u=data_stor_capa[i]\n",
    "                u=u[u.AREAS==area]\n",
    "                val=round(u[u.STOCK_TECHNO==t].Pmax.to_numpy().sum()/10**3,2)\n",
    "    #             print(val)\n",
    "                df_capa.loc[df_capa.TECHNOLOGIES==t,states[i]]=val\n",
    "    print(df_capa)"
   ]
  },
  {
   "cell_type": "markdown",
   "id": "ffffe7f2",
   "metadata": {},
   "source": [
    "## b. Production"
   ]
  },
  {
   "cell_type": "code",
   "execution_count": null,
   "id": "fa6e06bd",
   "metadata": {},
   "outputs": [],
   "source": [
    "country=\"FR\"\n",
    "p=Variables[\"capacity\"]\n",
    "p=p[p.AREAS==country]\n",
    "p"
   ]
  },
  {
   "cell_type": "markdown",
   "id": "37ba3f50",
   "metadata": {},
   "source": [
    "### i. Production at the 7 nodes scale "
   ]
  },
  {
   "cell_type": "code",
   "execution_count": null,
   "id": "3783a0be",
   "metadata": {},
   "outputs": [],
   "source": [
    "# total_consum=round(consum.areaConsumption.sum()/10**6,2)\n",
    "tech_list=[\"OldNuke\",\"NewNuke\",\"Coal\",\"Lignite\",\"CCG\",\"TAC\",\"HydroRiver\",\"HydroReservoir\",'HydroStorage',\"Biomass\",\n",
    "           \"WindOnShore\",\"WindOffShore\",\"Solar\",\"Battery\",\"curtailment\"]\n",
    "\n",
    "\n",
    "\n",
    "df_prod=pd.DataFrame(columns=[\"TECHNOLOGIES\"]+states)\n",
    "df_prod[\"TECHNOLOGIES\"]=np.array(tech_list)\n",
    "\n",
    "for i in range(len(data)):\n",
    "    prod=data[i]\n",
    "    for t in tech_list:\n",
    "        t_list=[t]\n",
    "        if len(n_list)>0:\n",
    "            for j in range(len(n_list)):\n",
    "                t_list.append(t+n_list[j])\n",
    "\n",
    "        if t!=\"HydroStorage\":\n",
    "            val=round(prod[prod.TECHNOLOGIES.isin(t_list)].energy.to_numpy().sum()/10**6,2)\n",
    "    #         print(val)\n",
    "            df_prod.loc[df_prod.TECHNOLOGIES==t,states[i]]=val\n",
    "        else:\n",
    "            u=data_stor[i]\n",
    "            val=round(u[u.STOCK_TECHNO==t].storageOut.to_numpy().sum()/10**6,2)\n",
    "\n",
    "            df_prod.loc[df_prod.TECHNOLOGIES==t,states[i]]=val\n",
    "total_prod=df_prod[states[0]].sum()"
   ]
  },
  {
   "cell_type": "code",
   "execution_count": null,
   "id": "ecec3226",
   "metadata": {},
   "outputs": [],
   "source": [
    "df_prod_bar=pd.DataFrame(columns=[\"TECHNOLOGIES\",\"Production (TWh)\",\"Production (%)\",\"Scenario\"])\n",
    "for c in df_prod.columns[1:]:\n",
    "    u=df_prod[[\"TECHNOLOGIES\",c]]\n",
    "    u.rename(columns={c:\"Production (TWh)\"},inplace=True)\n",
    "    u[\"Production (%)\"]=u[\"Production (TWh)\"]/u[\"Production (TWh)\"].sum()*100\n",
    "    u[\"Scenario\"]=c\n",
    "    df_prod_bar=pd.concat([df_prod_bar,u],ignore_index=True)"
   ]
  },
  {
   "cell_type": "code",
   "execution_count": null,
   "id": "2abe874a",
   "metadata": {},
   "outputs": [],
   "source": [
    "import plotly.express as px\n",
    "fig = px.bar(df_prod_bar, x='Scenario', y='Production (%)', color=\"TECHNOLOGIES\")\n",
    "fig.show()"
   ]
  },
  {
   "cell_type": "code",
   "execution_count": null,
   "id": "d7997935",
   "metadata": {},
   "outputs": [],
   "source": [
    "fig = px.pie(df_prod_bar, values='Production (TWh)', names='TECHNOLOGIES', title='Production per technology (in %)')\n",
    "fig.show()"
   ]
  },
  {
   "cell_type": "markdown",
   "id": "526d66fc",
   "metadata": {},
   "source": [
    "### ii. Production at country scale"
   ]
  },
  {
   "cell_type": "code",
   "execution_count": null,
   "id": "52fa20ec",
   "metadata": {},
   "outputs": [],
   "source": [
    "# total_consum=round(consum.areaConsumption.sum()/10**6,2)\n",
    "countries=[\"FR\",\"DE\",\"BE\",\"GB\",\"IT\",\"CH\",\"ES\"]\n",
    "tech_list=[\"OldNuke\",\"NewNuke\",\"Biomass\",\"Coal\",\"Lignite\",\"CCG\",\"TAC\",\"HydroRiver\",\"HydroReservoir\",'HydroStorage','Battery',\n",
    "            \"WindOnShore\",\"WindOffShore\",\"Solar\"]\n",
    "\n",
    "\n",
    "\n",
    "df_prod_country=pd.DataFrame(columns=[\"AREAS\",\"TECHNOLOGIES\",\"State\",\"Production (TWh)\"])\n",
    "\n",
    "\n",
    "for i in range(len(states)):\n",
    "    prod=data[i]\n",
    "    for c in countries:\n",
    "        for t in tech_list:\n",
    "            t_list=[t]\n",
    "            if len(n_list)>0:\n",
    "                for j in range(len(n_list)):\n",
    "                    t_list.append(t+n_list[j])\n",
    "            if t not in [\"HydroStorage\",\"Battery\"]:\n",
    "                val=round(prod[(prod.TECHNOLOGIES.isin(t_list)) & (prod.AREAS==c)].energy.to_numpy().sum()/10**6,2)\n",
    "                array=np.array([[c,t,states[i],val]])\n",
    "                df_prod_country=pd.concat([df_prod_country,\n",
    "                                           pd.DataFrame(array,columns=[\"AREAS\",\"TECHNOLOGIES\",\"State\",\"Production (TWh)\"])])\n",
    "            else:\n",
    "                u=data_stor[i]\n",
    "                val=round(u[(u.STOCK_TECHNO==t) & (u.AREAS==c)].storageOut.to_numpy().sum()/10**6,2)\n",
    "                array=np.array([[c,t,states[i],val]])\n",
    "                df_prod_country=pd.concat([df_prod_country,\n",
    "                                           pd.DataFrame(array,columns=[\"AREAS\",\"TECHNOLOGIES\",\"State\",\"Production (TWh)\"])])\n",
    "\n",
    "df_prod_country[\"Production (TWh)\"]=df_prod_country[\"Production (TWh)\"].astype('float')\n",
    "                \n",
    "# comparison_per_country=df_prod_country.copy()\n",
    "# for country in countries:\n",
    "#     total_prod=df_prod[states[0]].sum()\n",
    "#     total_consum=round(consum[consum.AREAS==country].areaConsumption.sum()/10**6,2)\n",
    "#     comparison_per_country.loc[comparison_per_country.AREAS==country,\"Production (TWh)\"]= comparison_per_country.loc[comparison_per_country.AREAS==country,\"Production (TWh)\"].astype(float)/total_consum\n",
    "    \n",
    "# comparison_per_country[\"Difference with historical\"]=np.zeros(len(comparison_per_country))\n",
    "# for state in states:\n",
    "#     comparison_per_country.loc[comparison_per_country.State==state,\"Difference with \"+states[0]]=(comparison_per_country.loc[comparison_per_country.State==state,\"Production (TWh)\"]-comparison_per_country.loc[comparison_per_country.State==\"Historical\",\"Production (TWh)\"])*100                "
   ]
  },
  {
   "cell_type": "code",
   "execution_count": null,
   "id": "12f0eb02",
   "metadata": {
    "scrolled": true
   },
   "outputs": [],
   "source": [
    "from  matplotlib.ticker import PercentFormatter\n",
    "g = sns.catplot(x=\"State\", y=\"Production (TWh)\",hue=\"AREAS\",col=\"TECHNOLOGIES\",col_wrap=3,kind=\"bar\",\n",
    "                data=df_prod_country)\n",
    "# for ax in g.axes.flat:\n",
    "#     ax.yaxis.set_major_formatter(PercentFormatter())\n",
    "\n",
    "plt.show()"
   ]
  },
  {
   "cell_type": "code",
   "execution_count": null,
   "id": "998cedd5",
   "metadata": {},
   "outputs": [],
   "source": [
    "country=\"CH\"\n",
    "p=Variables[\"energy\"]\n",
    "p=p[p.AREAS==country]\n",
    "storout=Variables[\"storageOut\"]\n",
    "#print(\"HydroStorage\",round(storout[storout.AREAS==country].storageOut.sum()/10**6,2),\"TWh\")\n",
    "storout=storout[(storout.AREAS==country) & (storout.STOCK_TECHNO!=\"Battery\")]\n",
    "storout=storout.rename(columns={'STOCK_TECHNO':'TECHNOLOGIES',\"storageOut\":\"energy\"})\n",
    "p=pd.concat([p,storout],ignore_index=True)\n",
    "tot=0\n",
    "for t in p.TECHNOLOGIES.unique():\n",
    "    l=p[p.TECHNOLOGIES==t]\n",
    "    print(t,round(l.energy.sum()/10**6,2),\"TWh\")\n",
    "    tot+=l.energy.sum()\n",
    "print(\"Total produced\",round(tot/10**6,2),\"TWh\")"
   ]
  },
  {
   "cell_type": "code",
   "execution_count": null,
   "id": "b7ee8435",
   "metadata": {},
   "outputs": [],
   "source": [
    "tech_list=[\"OldNuke\",\"NewNuke\",\"Biomass\",\"Coal\",\"CCG\",\"HydroRiver\",\"HydroReservoir\",'HydroStorage',\n",
    "           \"WindOnShore\",\"WindOffShore\",\"Solar\",\"curtailment\"]\n",
    "sorted_df=pd.DataFrame(columns=[\"Date\",\"TECHNOLOGIES\",\"energy\"])\n",
    "for i in range(len(tech_list)):\n",
    "    d=p[p.TECHNOLOGIES==tech_list[i]].sort_values(by=\"Date\")\n",
    "    sorted_df=pd.concat([sorted_df,d[[\"Date\",\"TECHNOLOGIES\",\"energy\"]]],ignore_index=True)\n",
    "fig = px.area(sorted_df, x=\"Date\", y=\"energy\", color=\"TECHNOLOGIES\",line_group=\"TECHNOLOGIES\",title=country+\" simulations\")\n",
    "consum=consumption[consumption.AREAS==country]\n",
    "fig.add_scatter(x=consum.Date, y=consum[\"total_consumption\"], name=\"Consumption\",mode=\"lines\",line_color=\"black\")\n",
    "fig.show()"
   ]
  },
  {
   "cell_type": "markdown",
   "id": "91be5543",
   "metadata": {},
   "source": [
    "## c. HydroStorage operations"
   ]
  },
  {
   "cell_type": "code",
   "execution_count": null,
   "id": "89306c63",
   "metadata": {
    "scrolled": true
   },
   "outputs": [],
   "source": [
    "stocklevels=[Variables[\"stockLevel\"]]\n",
    "for area in stocklevels[0].AREAS.unique():\n",
    "    fig, ax = plt.subplots(1,figsize=(20,10))\n",
    "    fig.suptitle(area+\" Hydrostorage stock level\")\n",
    "    v=stocklevels[0]\n",
    "    u=v[v.AREAS==area]\n",
    "    u=u[u.STOCK_TECHNO==\"HydroStorage\"]\n",
    "    ax.plot(u.Date,u.stockLevel,\"o\",color=colors[0],label=states[0])\n",
    "    ax.legend()\n",
    "    ax.set_ylabel(\"Storage (MWh)\")\n",
    "    plt.xlabel(\"Date\")"
   ]
  },
  {
   "cell_type": "markdown",
   "id": "603e21d2",
   "metadata": {},
   "source": [
    "## d. Exchanges"
   ]
  },
  {
   "cell_type": "code",
   "execution_count": null,
   "id": "bdc79028",
   "metadata": {
    "scrolled": true
   },
   "outputs": [],
   "source": [
    "\n",
    "c1,c2=\"FR\",\"CH\"\n",
    "\n",
    "plt.figure(figsize=(10,5))\n",
    "\n",
    "fig=plt.figure(figsize=(20,5))\n",
    "plt.title(c1+'-'+c2+\" exchanges\")\n",
    "    \n",
    "u=exch_list[0]\n",
    "v=u[(u.AREAS==c1)&(u.AREAS1==c2)]\n",
    "v.TIMESTAMP=pd.to_datetime(v.TIMESTAMP)\n",
    "plt.scatter(v.TIMESTAMP,v.exchange,label=states[0],s=20,alpha=0.3,color=colors[0])\n",
    "plt.legend()\n",
    "plt.ylabel('Exchanges (MW)')\n",
    "# plt.subplots_adjust(left=None, bottom=0, right=None, top=1, wspace=0.2, hspace=None)\n",
    "plt.xlabel(\"Date\")"
   ]
  },
  {
   "cell_type": "code",
   "execution_count": null,
   "id": "c0ed4473",
   "metadata": {},
   "outputs": [],
   "source": [
    "ext_fr=[\"DE\",\"BE\",\"GB\",\"IT\",\"CH\",\"ES\"]\n",
    "exchanges_fr=pd.DataFrame(columns=[\"state\",'countries',\"Exchanges (TWh)\"])\n",
    "other_exchanges=pd.DataFrame(columns=[\"state\",'countries',\"Exchanges (TWh)\"])\n",
    "\n",
    "for i in range(len(exch_list)):\n",
    "    s=0\n",
    "    exchange=exch_list[i]\n",
    "    for c in [\"DE\",\"BE\",\"GB\",\"IT\",\"CH\",\"ES\"]:\n",
    "        value=round(exchange[(exchange.AREAS==\"FR\") & (exchange.AREAS1==c)].exchange.sum()/10**6,2)\n",
    "        s+=value\n",
    "        u=pd.DataFrame(np.array([[states[i],c,\n",
    "                                 value]]),\n",
    "                       columns=[\"state\",'countries',\"Exchanges (TWh)\"])\n",
    "        exchanges_fr=pd.concat([exchanges_fr,u],ignore_index=True)\n",
    "\n",
    "    u=pd.DataFrame(np.array([[states[i],\"Total\",\n",
    "                                 s]]),\n",
    "                       columns=[\"state\",'countries',\"Exchanges (TWh)\"])\n",
    "    exchanges_fr=pd.concat([exchanges_fr,u],ignore_index=True)\n",
    "\n",
    "    for a,b in [[\"CH\",\"DE\"],[\"CH\",\"IT\"],[\"DE\",\"IT\"]]:\n",
    "        value=round(exchange[(exchange.AREAS==a) & (exchange.AREAS1==b)].exchange.sum()/10**6,2)\n",
    "        u=pd.DataFrame(np.array([[states[i],a+\"-\"+b,\n",
    "                                 value]]),\n",
    "                       columns=[\"state\",'countries',\"Exchanges (TWh)\"])\n",
    "        other_exchanges=pd.concat([other_exchanges,u],ignore_index=True)\n",
    "        \n",
    "exchanges_fr[\"Exchanges (TWh)\"]=exchanges_fr[\"Exchanges (TWh)\"].astype(float)\n",
    "other_exchanges[\"Exchanges (TWh)\"]=other_exchanges[\"Exchanges (TWh)\"].astype(float)"
   ]
  },
  {
   "cell_type": "code",
   "execution_count": null,
   "id": "34298d03",
   "metadata": {},
   "outputs": [],
   "source": [
    "ax = sns.barplot(x=\"countries\", y=\"Exchanges (TWh)\", hue=\"state\",data=exchanges_fr)\n",
    "ax.title.set_text(\"France exchanges\")"
   ]
  },
  {
   "cell_type": "code",
   "execution_count": null,
   "id": "5be8baac",
   "metadata": {},
   "outputs": [],
   "source": [
    "ax = sns.barplot(x=\"countries\", y=\"Exchanges (TWh)\", hue=\"state\",data=other_exchanges)\n",
    "ax.title.set_text(\"Other exchanges\")"
   ]
  },
  {
   "cell_type": "markdown",
   "id": "d85d9449",
   "metadata": {},
   "source": [
    "## e. Cost "
   ]
  },
  {
   "cell_type": "code",
   "execution_count": null,
   "id": "e57b6efb",
   "metadata": {},
   "outputs": [],
   "source": [
    "capacityCost=np.array([Variables['capacityCosts'].capacityCosts.sum()/10**9])"
   ]
  },
  {
   "cell_type": "code",
   "execution_count": null,
   "id": "32c2f7c2",
   "metadata": {},
   "outputs": [],
   "source": [
    "energyCost=np.array([Variables['energyCosts'].energyCosts.sum()/10**9])"
   ]
  },
  {
   "cell_type": "code",
   "execution_count": null,
   "id": "bce5f626",
   "metadata": {},
   "outputs": [],
   "source": [
    "ax=sns.barplot(x=[\"Scenario\"],y=capacityCost)\n",
    "plt.ylabel(\"B€/year\")\n",
    "plt.title(\"Annualized capacity cost\")\n",
    "ax.bar_label(ax.containers[0])"
   ]
  },
  {
   "cell_type": "code",
   "execution_count": null,
   "id": "fde629cd",
   "metadata": {},
   "outputs": [],
   "source": [
    "ax=sns.barplot(x=[\"Scenario\"],y=energyCost)\n",
    "plt.ylabel(\"B€/year\")\n",
    "plt.title(\"Annualized energy cost\")\n",
    "ax.bar_label(ax.containers[0])"
   ]
  },
  {
   "cell_type": "code",
   "execution_count": null,
   "id": "f7a4f516",
   "metadata": {},
   "outputs": [],
   "source": [
    "ax=sns.barplot(x=[\"Scenario\"],y=energyCost+capacityCost)\n",
    "plt.ylabel(\"B€/year\")\n",
    "plt.title(\"Annualized total cost\")\n",
    "ax.bar_label(ax.containers[0])"
   ]
  },
  {
   "cell_type": "code",
   "execution_count": null,
   "id": "7f20028a",
   "metadata": {},
   "outputs": [],
   "source": [
    "tot_cost=energyCost+capacityCost\n",
    "ax=sns.barplot(x=[\"Scenario\"],y=tot_cost*10**9/np.array([total_prod])*10**-6)\n",
    "plt.ylabel(\"€/MWh\")\n",
    "plt.title(\"Cost of electricity\")\n",
    "ax.bar_label(ax.containers[0])"
   ]
  }
 ],
 "metadata": {
  "kernelspec": {
   "display_name": "Python 3 (ipykernel)",
   "language": "python",
   "name": "python3"
  },
  "language_info": {
   "codemirror_mode": {
    "name": "ipython",
    "version": 3
   },
   "file_extension": ".py",
   "mimetype": "text/x-python",
   "name": "python",
   "nbconvert_exporter": "python",
   "pygments_lexer": "ipython3",
   "version": "3.10.2"
  }
 },
 "nbformat": 4,
 "nbformat_minor": 5
}
