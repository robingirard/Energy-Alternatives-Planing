{
 "cells": [
  {
   "cell_type": "code",
   "execution_count": null,
   "id": "2288f199",
   "metadata": {},
   "outputs": [],
   "source": [
    "import matplotlib.pyplot as plt\n",
    "import pandas as pd\n",
    "import plotly.graph_objs as go\n",
    "from plotly.subplots import make_subplots\n",
    "import plotly.express as px\n",
    "import numpy as np\n",
    "import os\n",
    "import sys\n",
    "import pickle\n",
    "import seaborn as sns\n",
    "sns.set_theme(style=\"whitegrid\")\n",
    "import warnings\n",
    "warnings.filterwarnings(\"ignore\")\n",
    "colors = [\"#004776\",\"#b8e1ff\",\"#72c5fe\",\"#2baaff\",\"#f8b740\",\"#005f9e\",\"#000000\",\n",
    "          \"#e7e7e7\",\"#fef3e8\",\"#e8f1ff\",\"#ebf5ff\",\"#c69131\",\"#2087cb\"]# Set your custom color palette\n",
    "customPalette = sns.set_palette(sns.color_palette(colors))"
   ]
  },
  {
   "cell_type": "markdown",
   "id": "a13dd4f3",
   "metadata": {},
   "source": [
    "# Running simulation"
   ]
  },
  {
   "cell_type": "code",
   "execution_count": null,
   "id": "2f184880",
   "metadata": {},
   "outputs": [],
   "source": [
    "# #Excel file import\n",
    "# xls_file=pd.ExcelFile(\"Multinode_input.xlsx\")\n",
    "# #Launching simulation (can take up to 30mn depending on the machine)\n",
    "# if os.path.basename(os.getcwd()) == \"ES_Electric_System_Subjects\":\n",
    "#     os.chdir('../..')\n",
    "# from Simulation import *\n",
    "# Variables=Simulation_multinode(xls_file)\n",
    "# del xls_file\n",
    "# if \"Models\" in os.listdir():\n",
    "#     os.chdir('Models/ES_Electric_System_Subjects')"
   ]
  },
  {
   "cell_type": "code",
   "execution_count": null,
   "id": "5c5d138a",
   "metadata": {},
   "outputs": [],
   "source": [
    "with open(\"Result.pickle\", 'rb') as f:\n",
    "    Variables=pickle.load(f)"
   ]
  },
  {
   "cell_type": "markdown",
   "id": "f94670de",
   "metadata": {},
   "source": [
    "# Data extraction"
   ]
  },
  {
   "cell_type": "code",
   "execution_count": null,
   "id": "4af1c658",
   "metadata": {},
   "outputs": [],
   "source": [
    "data=[Variables[\"energy\"]]\n",
    "data_stor=[Variables[\"storageOut\"]]\n",
    "data_capa=[Variables[\"capacity\"]]\n",
    "data_stor_capa=[Variables[\"Pmax\"]]\n",
    "cost_capacity=Variables['capacityCosts']\n",
    "cost_energy=Variables['energyCosts']\n",
    "flex_capacity_cost=Variables['consumption_power_cost']\n",
    "\n",
    "\n",
    "consumption=Variables['total_consumption']\n",
    "consumption[\"Date\"]=pd.to_datetime(consumption[\"Date\"])\n",
    "consumption.sort_values(by='Date', inplace=True)\n",
    "consumption.reset_index(inplace=True,drop=True)\n",
    "countries=[\"FR\",\"DE\",\"GB\",\"IT\",\"ES\",\"BE\",\"CH\"]"
   ]
  },
  {
   "cell_type": "markdown",
   "id": "86da0f62",
   "metadata": {},
   "source": [
    "# Results plot"
   ]
  },
  {
   "cell_type": "markdown",
   "id": "f24c1ba7",
   "metadata": {},
   "source": [
    "### Installed capacity"
   ]
  },
  {
   "cell_type": "code",
   "execution_count": null,
   "id": "2a5b5f8a",
   "metadata": {},
   "outputs": [],
   "source": [
    "tech_list=data[0].TECHNOLOGIES.unique().tolist()+data_stor[0].STOCK_TECHNO.unique().tolist()\n",
    "temp=pd.DataFrame(columns=[\"AREAS\",\"TECHNOLOGIES\",\"Capacity (GW)\"])\n",
    "\n",
    "df_capa=pd.DataFrame(columns=[\"AREAS\",\"TECHNOLOGIES\",\"Capacity (GW)\"])\n",
    "df_capa[\"TECHNOLOGIES\"]=np.array(tech_list)\n",
    "df_capa[\"AREAS\"]=np.array(len(tech_list)*[\"All\"])\n",
    "for i in range(len(data)):\n",
    "    capa=data_capa[i]\n",
    "    for t in tech_list:\n",
    "        t_list=[t]\n",
    "        if t not in [\"HydroStorage\",\"Battery\",\"PtGtP\"] :\n",
    "            val=round(capa[capa.TECHNOLOGIES.isin(t_list)].capacity.to_numpy().sum()/10**3,2)\n",
    "\n",
    "            df_capa.loc[df_capa.TECHNOLOGIES==t,\"Capacity (GW)\"]=val\n",
    "        else:\n",
    "            u=data_stor_capa[i]\n",
    "            val=round(u[u.STOCK_TECHNO==t].Pmax.to_numpy().sum()/10**3,2)\n",
    "\n",
    "            df_capa.loc[df_capa.TECHNOLOGIES==t,\"Capacity (GW)\"]=val\n",
    "temp=pd.concat([temp,df_capa],ignore_index=True)\n",
    "\n",
    "for area in countries:\n",
    "    df_capa=pd.DataFrame(columns=[\"AREAS\",\"TECHNOLOGIES\",\"Capacity (GW)\"])\n",
    "    df_capa[\"TECHNOLOGIES\"]=np.array(tech_list)\n",
    "    df_capa[\"AREAS\"]=np.array(len(tech_list)*[area])\n",
    "    for i in range(len(data)):\n",
    "        capa=data_capa[i]\n",
    "        capa=capa.loc[capa.AREAS==area]\n",
    "        for t in tech_list:\n",
    "            t_list=[t]\n",
    "            if t not in [\"HydroStorage\",\"Battery\",\"PtGtP\",\"Battery1h\",\"Battery4h\"] :\n",
    "                val=round(capa[capa.TECHNOLOGIES.isin(t_list)].capacity.to_numpy().sum()/10**3,2)\n",
    "\n",
    "                df_capa.loc[df_capa.TECHNOLOGIES==t,\"Capacity (GW)\"]=val\n",
    "            else:\n",
    "                u=data_stor_capa[i]\n",
    "                u=u.loc[u.AREAS==area]\n",
    "                val=round(u[u.STOCK_TECHNO==t].Pmax.to_numpy().sum()/10**3,2)\n",
    "\n",
    "                df_capa.loc[df_capa.TECHNOLOGIES==t,\"Capacity (GW)\"]=val\n",
    "    temp=pd.concat([temp,df_capa],ignore_index=True)\n",
    "df_capa=temp"
   ]
  },
  {
   "cell_type": "code",
   "execution_count": null,
   "id": "e463b283",
   "metadata": {
    "scrolled": false
   },
   "outputs": [],
   "source": [
    "df_capa[df_capa.AREAS==\"FR\"]"
   ]
  },
  {
   "cell_type": "markdown",
   "id": "6811feaa",
   "metadata": {},
   "source": [
    "### Production"
   ]
  },
  {
   "cell_type": "code",
   "execution_count": null,
   "id": "32506448",
   "metadata": {},
   "outputs": [],
   "source": [
    "tech_list=data[0].TECHNOLOGIES.unique().tolist()+data_stor[0].STOCK_TECHNO.unique().tolist()\n",
    "temp=pd.DataFrame(columns=[\"AREAS\",\"TECHNOLOGIES\",\"Production (TWh)\"])\n",
    "\n",
    "df_prod=pd.DataFrame(columns=[\"AREAS\",\"TECHNOLOGIES\",\"Production (TWh)\"])\n",
    "df_prod[\"TECHNOLOGIES\"]=np.array(tech_list)\n",
    "df_prod[\"AREAS\"]=\"All\"\n",
    "newtech_list=[]\n",
    "for i in range(len(data)):\n",
    "    prod=data[i]\n",
    "    for t in tech_list:\n",
    "        t_list=[t]\n",
    "        if t not in [\"HydroStorage\",\"Battery\",\"PtGtP\",\"Battery1h\",\"Battery4h\"] :\n",
    "            val=round(prod[prod.TECHNOLOGIES.isin(t_list)].energy.to_numpy().sum()/10**6,2)\n",
    "            if val!=0:\n",
    "                df_prod.loc[df_prod.TECHNOLOGIES==t,\"Production (TWh)\"]=val\n",
    "                newtech_list.append(t)\n",
    "        else:\n",
    "            u=data_stor[i]\n",
    "            val=round(u[u.STOCK_TECHNO==t].storageOut.to_numpy().sum()/10**6,2)\n",
    "            if val!=0:\n",
    "                df_prod.loc[df_prod.TECHNOLOGIES==t,\"Production (TWh)\"]=val\n",
    "                newtech_list.append(t)\n",
    "temp=pd.concat([temp,df_prod],ignore_index=True)            \n",
    "\n",
    "tech_list=newtech_list\n",
    "\n",
    "for area in countries:\n",
    "    df_prod=pd.DataFrame(columns=[\"AREAS\",\"TECHNOLOGIES\",\"Production (TWh)\"])\n",
    "    df_prod[\"TECHNOLOGIES\"]=np.array(tech_list)\n",
    "    df_prod[\"AREAS\"]=area\n",
    "    for i in range(len(data)):\n",
    "        prod=data[i]\n",
    "        prod=prod.loc[prod.AREAS==area]\n",
    "        for t in tech_list:\n",
    "            t_list=[t]\n",
    "            if t not in [\"HydroStorage\",\"Battery\",\"PtGtP\",\"Battery1h\",\"Battery4h\"] :\n",
    "                val=round(prod[prod.TECHNOLOGIES.isin(t_list)].energy.to_numpy().sum()/10**6,2)\n",
    "                df_prod.loc[df_prod.TECHNOLOGIES==t,\"Production (TWh)\"]=val\n",
    "            else:\n",
    "                u=data_stor[i]\n",
    "                u=u.loc[u.AREAS==area]\n",
    "                val=round(u[u.STOCK_TECHNO==t].storageOut.to_numpy().sum()/10**6,2)\n",
    "\n",
    "                df_prod.loc[df_prod.TECHNOLOGIES==t,\"Production (TWh)\"]=val\n",
    "    temp=pd.concat([temp,df_prod],ignore_index=True)    \n",
    "    \n",
    "df_prod=temp            \n",
    "\n",
    "\n",
    "\n",
    "###Graph generation\n",
    "specs=[[{'type':'domain',\"colspan\": len(countries)}]+[None]*(len(countries)-1),\n",
    "       [{'type':'domain'}]*len(countries)]\n",
    "fig = make_subplots(rows=2, cols=len(countries),specs=specs,subplot_titles=df_prod.AREAS.unique())\n",
    "\n",
    "areas=[\"All\"]+countries\n",
    "for i in range(len(areas)):\n",
    "    area=areas[i] \n",
    "    df_prod_bar=pd.DataFrame(columns=[\"AREAS\",\"TECHNOLOGIES\",\"Production (TWh)\",\"Production (%)\"])\n",
    "    for c in df_prod.columns[2:]:\n",
    "        u=df_prod[[\"AREAS\",\"TECHNOLOGIES\",c]]\n",
    "        u=u[u.AREAS==area]\n",
    "        u.rename(columns={c:\"Production (TWh)\"},inplace=True)\n",
    "        u[\"Production (%)\"]=u[\"Production (TWh)\"]/u[\"Production (TWh)\"].sum()*100\n",
    "        df_prod_bar=pd.concat([df_prod_bar,u],ignore_index=True)\n",
    "    if area==\"All\":\n",
    "        fig.add_trace(go.Pie(labels=u[\"TECHNOLOGIES\"], values=u[\"Production (TWh)\"], name=area), 1,1)\n",
    "    else:\n",
    "        fig.add_trace(go.Pie(labels=u[\"TECHNOLOGIES\"], values=u[\"Production (TWh)\"], name=area), 2,i)\n",
    "    fig.update_traces(textposition='inside')\n",
    "    fig.update_layout(uniformtext_minsize=8, uniformtext_mode='hide')\n",
    "fig.show()"
   ]
  },
  {
   "cell_type": "code",
   "execution_count": null,
   "id": "7e6b840c",
   "metadata": {
    "scrolled": false
   },
   "outputs": [],
   "source": [
    "\n",
    "\n",
    "sorted_df=pd.DataFrame(columns=[\"Date\",\"TECHNOLOGIES\",\"energy\"])\n",
    "for i in range(len(countries)):\n",
    "    area=countries[i]\n",
    "    p=Variables[\"energy\"]\n",
    "    p=p[p.AREAS==area]\n",
    "    storout=Variables[\"storageOut\"]\n",
    "    storout=storout[storout.AREAS==area]\n",
    "    storout=storout.rename(columns={'STOCK_TECHNO':'TECHNOLOGIES',\"storageOut\":\"energy\"})\n",
    "    p=pd.concat([p,storout],ignore_index=True)\n",
    "\n",
    "    for i in range(len(tech_list)):\n",
    "        d=p[p.TECHNOLOGIES==tech_list[i]].sort_values(by=\"Date\")\n",
    "        sorted_df=pd.concat([sorted_df,d[[\"Date\",\"TECHNOLOGIES\",\"energy\"]]],ignore_index=True)\n",
    "    fig=px.area(sorted_df, x=\"Date\", y=\"energy\", color=\"TECHNOLOGIES\",line_group=\"TECHNOLOGIES\",title=area+\" simulations\")#,color_discrete_sequence=colors[:-3])\n",
    "    consum=consumption[consumption.AREAS==area]\n",
    "    fig.add_scatter(x=consum.Date, y=consum[\"total_consumption\"], name=\"Consumption\",mode=\"lines\",line_color=\"black\")\n",
    "    fig.show()"
   ]
  },
  {
   "cell_type": "markdown",
   "id": "948e033b",
   "metadata": {},
   "source": [
    "# Flexibility"
   ]
  },
  {
   "cell_type": "code",
   "execution_count": null,
   "id": "b8922695",
   "metadata": {},
   "outputs": [],
   "source": [
    "flex_ratio=Variables[\"flex\"].sort_values(by='Date').set_index([\"Date\",\"FLEX_CONSUM\",\"AREAS\"])\n",
    "flex_consumption=Variables[\"flex_consumption\"].sort_values(by='Date').set_index([\"Date\",\"FLEX_CONSUM\",\"AREAS\"]).rename(columns={\"flex_consumption\":\"Flexed\"})\n",
    "flex_consumption[\"Initial\"]=flex_consumption[\"Flexed\"]*1/(1-flex_ratio[\"flex\"])\n",
    "flex_consumption.reset_index(inplace=True)"
   ]
  },
  {
   "cell_type": "markdown",
   "id": "6fff6680",
   "metadata": {},
   "source": [
    "### H2 flexibility"
   ]
  },
  {
   "cell_type": "code",
   "execution_count": null,
   "id": "aec36d52",
   "metadata": {
    "scrolled": true
   },
   "outputs": [],
   "source": [
    "flex_consum=\"H2\"\n",
    "v=flex_consumption[flex_consumption[\"FLEX_CONSUM\"]==flex_consum]\n",
    "for area in v.AREAS.unique():\n",
    "    u=v[v.AREAS==area]\n",
    "    u.interpolate(method=\"pad\",inplace=True)\n",
    "    fig=go.Figure()\n",
    "    fig.add_trace(go.Scatter(x=u[\"Date\"], y=u[\"Initial\"], mode='lines', line=dict(color=colors[0]),\n",
    "        name=\"Initial\",\n",
    "        connectgaps=True))\n",
    "    fig.add_trace(go.Scatter(x=u[\"Date\"], y=u[\"Flexed\"], mode='lines',line=dict(color=colors[1]),\n",
    "        name=\"Flexed\",\n",
    "        connectgaps=True))\n",
    "    fig.update_layout(\n",
    "    title=flex_consum+\" intial vs flexibilized consumption in \"+area,\n",
    "    xaxis_title=\"Date\",\n",
    "    yaxis_title=\"Load (MW)\",\n",
    "    legend_title=\"Load type\"\n",
    "    )\n",
    "    fig.show()"
   ]
  },
  {
   "cell_type": "markdown",
   "id": "c8bcfe8d",
   "metadata": {},
   "source": [
    "### EV flexibility"
   ]
  },
  {
   "cell_type": "code",
   "execution_count": null,
   "id": "06342de9",
   "metadata": {},
   "outputs": [],
   "source": [
    "flex_consum=\"EV\"\n",
    "v=flex_consumption[flex_consumption[\"FLEX_CONSUM\"]==flex_consum]\n",
    "for area in v.AREAS.unique():\n",
    "    u=v[v.AREAS==area]\n",
    "    u.interpolate(method=\"pad\",inplace=True)\n",
    "    fig=go.Figure()\n",
    "    fig.add_trace(go.Scatter(x=u[\"Date\"], y=u[\"Initial\"], mode='lines',line=dict(color=colors[0]),\n",
    "        name=\"Initial\",\n",
    "        connectgaps=True))\n",
    "    fig.add_trace(go.Scatter(x=u[\"Date\"], y=u[\"Flexed\"], mode='lines',line=dict(color=colors[1]),\n",
    "        name=\"Flexed\",\n",
    "        connectgaps=True))\n",
    "    fig.update_layout(\n",
    "    title=flex_consum+\" intial vs flexibilized consumption in \"+area,\n",
    "    xaxis_title=\"Date\",\n",
    "    yaxis_title=\"Load (MW)\",\n",
    "    legend_title=\"Load type\"\n",
    "    )\n",
    "    fig.show()"
   ]
  },
  {
   "cell_type": "markdown",
   "id": "f9847e19",
   "metadata": {},
   "source": [
    "# Costs"
   ]
  },
  {
   "cell_type": "code",
   "execution_count": null,
   "id": "e63184f4",
   "metadata": {},
   "outputs": [],
   "source": [
    "tech_list=[\"OldNuke\",\"NewNuke\",\"Coal\",\"Lignite\",\"CCG\",\"TAC\",\"HydroRiver\",\"HydroReservoir\",\"Biomass\",\n",
    "           \"WindOnShore\",\"WindOffShore\",\"Solar\",\"curtailment\"]\n",
    "\n",
    "Costs=pd.DataFrame(columns=[\"AREAS\",'Type','Cost (B€)','Electricity produced (TWh)',\"Electricity cost (€/MWh)\"])\n",
    "cost_list=[cost_capacity,cost_energy,flex_capacity_cost]\n",
    "cost_types=[\"CAPEX\",\"Energy\",\"Flexibility\"]\n",
    "for area in [\"All\"]+countries:\n",
    "    prod=df_prod.loc[df_prod.AREAS==area,\"Production (TWh)\"].sum()\n",
    "    flex_cost=0\n",
    "    if area==\"All\":\n",
    "        for i in range(len(cost_list)):\n",
    "            if cost_types[i]!=\"Flexibility\":\n",
    "                cost=cost_list[i]\n",
    "                cost=cost[cost.columns[-1]].sum()*1e-9\n",
    "                cost_type=cost_types[i]\n",
    "                elec_cost=cost*1000/prod\n",
    "                df_cost=pd.DataFrame(np.array([[area,cost_type,cost,prod,elec_cost]]),\n",
    "                                     columns=[\"AREAS\",'Type','Cost (B€)','Electricity produced (TWh)',\"Electricity cost (€/MWh)\"])\n",
    "                Costs=pd.concat([Costs,df_cost],ignore_index=True)\n",
    "            else:\n",
    "                cost=cost_list[i]\n",
    "                cost=cost[cost.columns[-1]].sum()*1e-9\n",
    "                flex_cost+=cost\n",
    "                flex_elec_cost=flex_cost*1000/prod\n",
    "                df_cost=pd.DataFrame(np.array([[area,\"Flexibility\",flex_cost,prod,flex_elec_cost]]),\n",
    "                                     columns=[\"AREAS\",'Type','Cost (B€)','Electricity produced (TWh)',\"Electricity cost (€/MWh)\"])\n",
    "    else:\n",
    "        for i in range(len(cost_list)):\n",
    "            if cost_types[i]!=\"Flexibility\":\n",
    "                cost=cost_list[i]\n",
    "                cost=cost[cost.AREAS==area]\n",
    "                cost=cost[cost.columns[-1]].sum()*1e-9\n",
    "                cost_type=cost_types[i]\n",
    "                elec_cost=cost*1000/prod\n",
    "                df_cost=pd.DataFrame(np.array([[area,cost_type,cost,prod,elec_cost]]),\n",
    "                                     columns=[\"AREAS\",'Type','Cost (B€)','Electricity produced (TWh)',\"Electricity cost (€/MWh)\"])\n",
    "                Costs=pd.concat([Costs,df_cost],ignore_index=True)\n",
    "            else:\n",
    "                cost=cost_list[i]\n",
    "                cost=cost[cost.columns[-1]].sum()*1e-9\n",
    "                flex_cost+=cost\n",
    "                flex_elec_cost=flex_cost*1000/prod\n",
    "                df_cost=pd.DataFrame(np.array([[area,\"Flexibility\",flex_cost,prod,flex_elec_cost]]),\n",
    "                                     columns=[\"AREAS\",'Type','Cost (B€)','Electricity produced (TWh)',\"Electricity cost (€/MWh)\"])\n",
    "    Costs=pd.concat([Costs,df_cost],ignore_index=True)\n",
    "    \n",
    "Costs.set_index([\"AREAS\",\"Type\"],inplace=True)"
   ]
  },
  {
   "cell_type": "code",
   "execution_count": null,
   "id": "943d58a4",
   "metadata": {},
   "outputs": [],
   "source": [
    "c=Costs[\"Electricity cost (€/MWh)\"].astype(\"float\")\n",
    "t_list=[\"CAPEX\",\"Energy\",\"Flexibility\"]\n",
    "color=[\"#004776\",\"#72c5fe\",\"#f8b740\"]\n",
    "fig=go.Figure()\n",
    "for i in range(len(df_prod.AREAS.unique())):\n",
    "    area=df_prod.AREAS.unique()[i]\n",
    "    for t in range(3):\n",
    "        b=None\n",
    "        if t==1:\n",
    "            b=c[area,t_list[t-1]]\n",
    "        if t==2:\n",
    "            b=c[area,t_list[t-1]]+c[area,t_list[t-2]]\n",
    "        \n",
    "        show_legend=False\n",
    "        if area==df_prod.AREAS.unique()[-1]:\n",
    "            show_legend=True\n",
    "        fig.add_trace(go.Bar(x=[area],\n",
    "                   y=[c[area,t_list[t]]],name=t_list[t],offsetgroup=1,marker_color=color[t],base=b,showlegend=show_legend))\n",
    "\n",
    "fig.update_layout(\n",
    "    title='Electricity production price',\n",
    "    xaxis_tickfont_size=14,\n",
    "    yaxis=dict(\n",
    "        title='Electricity price (€/MWh)',\n",
    "        titlefont_size=16,\n",
    "        tickfont_size=14))\n",
    "fig.show()"
   ]
  },
  {
   "cell_type": "code",
   "execution_count": null,
   "id": "53b001c3",
   "metadata": {},
   "outputs": [],
   "source": []
  }
 ],
 "metadata": {
  "kernelspec": {
   "display_name": "Python 3 (ipykernel)",
   "language": "python",
   "name": "python3"
  },
  "language_info": {
   "codemirror_mode": {
    "name": "ipython",
    "version": 3
   },
   "file_extension": ".py",
   "mimetype": "text/x-python",
   "name": "python",
   "nbconvert_exporter": "python",
   "pygments_lexer": "ipython3",
   "version": "3.10.2"
  }
 },
 "nbformat": 4,
 "nbformat_minor": 5
}
