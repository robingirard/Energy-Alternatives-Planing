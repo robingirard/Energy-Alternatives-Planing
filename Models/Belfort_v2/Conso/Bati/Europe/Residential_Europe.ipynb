{
 "cells": [
  {
   "cell_type": "code",
   "execution_count": 1,
   "id": "dcead1cd",
   "metadata": {},
   "outputs": [],
   "source": [
    "import csv\n",
    "import pandas as pd\n",
    "import matplotlib.pyplot as plt\n",
    "import numpy as np\n",
    "#from scipy.special import gamma\n",
    "from scipy.stats import beta"
   ]
  },
  {
   "cell_type": "code",
   "execution_count": 2,
   "id": "b7ea4cdd",
   "metadata": {},
   "outputs": [],
   "source": [
    "x_min=0\n",
    "x_max=500\n",
    "def f_alpha(mu,sigma):\n",
    "    return mu**2*(1-mu)/sigma**2-mu\n",
    "\n",
    "def f_beta(mu,sigma):\n",
    "    return mu*(1-mu)**2/sigma**2-1+mu\n",
    "\n",
    "mu=114\n",
    "sigma=0.5*mu\n",
    "a=f_alpha(mu/(x_max-x_min),sigma/(x_max-x_min))\n",
    "b=f_beta(mu/(x_max-x_min),sigma/(x_max-x_min))"
   ]
  },
  {
   "cell_type": "code",
   "execution_count": 3,
   "id": "a06fcbd2",
   "metadata": {},
   "outputs": [
    {
     "data": {
      "text/plain": [
       "[<matplotlib.lines.Line2D at 0x145cb7fa0>]"
      ]
     },
     "execution_count": 3,
     "metadata": {},
     "output_type": "execute_result"
    },
    {
     "data": {
      "image/png": "[encoded data removed]",
      "text/plain": [
       "<Figure size 432x288 with 1 Axes>"
      ]
     },
     "metadata": {
      "needs_background": "light"
     },
     "output_type": "display_data"
    }
   ],
   "source": [
    "fig, ax = plt.subplots(1, 1)\n",
    "x = np.linspace(0,\n",
    "                x_max, 1000)\n",
    "ax.plot(x, beta.pdf(x, a, b,0,x_max))\n",
    "        #,\n",
    "       #'r-', lw=5, alpha=0.6, label='beta pdf')"
   ]
  },
  {
   "cell_type": "code",
   "execution_count": 4,
   "id": "d16bd9fa",
   "metadata": {},
   "outputs": [],
   "source": [
    "def create_database(N_households_df,E_sqm_df,E_min=0,E_max=500,sigma_out_of_mu=0.5):\n",
    "    L_heating_sys=N_households_df.index.get_level_values('Heating_system').unique().to_list()\n",
    "    dict_base={'Heating_system':[],'Energy_consumption':[],'Surface':[],'Number':[]}\n",
    "    for hs in L_heating_sys:\n",
    "        N=N_households_df.loc[hs,'Number']\n",
    "        mu=E_sqm_df.loc[hs,'Energy_per_sqm']\n",
    "        if N>0:\n",
    "            sigma=sigma_out_of_mu*mu\n",
    "            a=f_alpha(mu/(E_max-E_min),sigma/(E_max-E_min))\n",
    "            b=f_beta(mu/(E_max-E_min),sigma/(E_max-E_min))\n",
    "        for E in range(int(round(E_max))):\n",
    "            dict_base['Heating_system'].append(hs)\n",
    "            dict_base['Energy_consumption'].append(E)\n",
    "            dict_base['Surface'].append(N_households_df.loc[hs,'Surface_avg'])\n",
    "            if N>0:\n",
    "                dict_base['Number'].append(int(round(N_households_df.loc[hs,'Number']*(beta.pdf(E,a,b,E_min,E_max)\\\n",
    "                                                                         +beta.pdf(E+1,a,b,E_min,E_max))/2)))\n",
    "            else:\n",
    "                dict_base['Number'].append(0)\n",
    "    return pd.DataFrame(dict_base).set_index(['Heating_system','Energy_consumption'])"
   ]
  },
  {
   "cell_type": "code",
   "execution_count": 5,
   "id": "a43f881d",
   "metadata": {},
   "outputs": [],
   "source": [
    "# Creation of the database for each country\n",
    "N_households_df=pd.read_excel('Parameters_residential.xlsx',sheet_name=\"Number_of_households\")\n",
    "E_sqm_df=pd.read_excel('Parameters_residential.xlsx',sheet_name=\"Energy_per_sqm\")\n",
    "\n",
    "N_households_dict={}\n",
    "E_sqm_dict={}\n",
    "\n",
    "L_areas=list(N_households_df['AREA'].unique())\n",
    "for area in L_areas:\n",
    "    N_households_dict[area]=N_households_df[N_households_df.AREA==area].drop('AREA',axis=1).set_index('Heating_system')\n",
    "    E_sqm_dict[area]=E_sqm_df[E_sqm_df.AREA==area].drop('AREA',axis=1).set_index('Heating_system')\n",
    "    \n",
    "Base_dict={}\n",
    "for area in L_areas:\n",
    "    Base_dict[area]=create_database(N_households_dict[area],E_sqm_dict[area])\n"
   ]
  },
  {
   "cell_type": "code",
   "execution_count": 6,
   "id": "817d9728",
   "metadata": {},
   "outputs": [],
   "source": [
    "def renovate(Database,N_reno,threshold,efficiency=0.3):\n",
    "    Database_ret=Database.copy()\n",
    "    E_max=max(Database.index.get_level_values('Energy_consumption'))\n",
    "    L_heating_sys=Database.index.get_level_values('Heating_system').unique().to_list()\n",
    "    N_to_renovate=0\n",
    "    for E in range(int(np.floor(threshold)),E_max+1):\n",
    "        for hs in L_heating_sys:\n",
    "            N_to_renovate+=Database.loc[(hs,E),'Number']\n",
    "    p_reno=min(N_reno/max(N_to_renovate,1),1)\n",
    "    for E in range(int(np.floor(threshold)),E_max+1):\n",
    "        E_new=int(round(E*(1-efficiency)))\n",
    "        for hs in L_heating_sys:\n",
    "            n=Database_ret.loc[(hs,E),'Number']\n",
    "            n_renovated=min(int(round(n*p_reno)),n)\n",
    "            Database_ret.loc[(hs,E),'Number']=n-n_renovated\n",
    "            Database_ret.loc[(hs,E_new),'Number']+=n_renovated\n",
    "    return Database_ret"
   ]
  },
  {
   "cell_type": "code",
   "execution_count": 8,
   "id": "06d50d9f",
   "metadata": {},
   "outputs": [
    {
     "name": "stdout",
     "output_type": "stream",
     "text": [
      "43.30907724176037\n",
      "43.13564637673578\n"
     ]
    }
   ],
   "source": [
    "# Test renovation Spain\n",
    "N=Base_dict['ES']['Number'].sum()\n",
    "L_heating_sys=Base_dict['ES'].index.get_level_values('Heating_system').unique().to_list()\n",
    "E_sum=0\n",
    "for E in range(500):\n",
    "    for hs in L_heating_sys:\n",
    "        E_sum+=(E+1/2)*Base_dict['ES'].loc[(hs,E),'Number']\n",
    "print(E_sum/N)\n",
    "db_ES_reno=renovate(Base_dict['ES'],120000,73.31)\n",
    "E_sum=0\n",
    "for E in range(500):\n",
    "    for hs in L_heating_sys:\n",
    "        E_sum+=(E+1/2)*db_ES_reno.loc[(hs,E),'Number']\n",
    "print(E_sum/N)"
   ]
  },
  {
   "cell_type": "code",
   "execution_count": null,
   "id": "ead3a60f",
   "metadata": {},
   "outputs": [],
   "source": []
  }
 ],
 "metadata": {
  "kernelspec": {
   "display_name": "energyalternatives",
   "language": "python",
   "name": "energyalternatives"
  },
  "language_info": {
   "codemirror_mode": {
    "name": "ipython",
    "version": 3
   },
   "file_extension": ".py",
   "mimetype": "text/x-python",
   "name": "python",
   "nbconvert_exporter": "python",
   "pygments_lexer": "ipython3",
   "version": "3.10.4"
  }
 },
 "nbformat": 4,
 "nbformat_minor": 5
}
