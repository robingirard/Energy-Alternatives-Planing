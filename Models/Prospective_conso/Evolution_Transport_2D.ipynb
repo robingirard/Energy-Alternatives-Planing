{
 "cells": [
  {
   "cell_type": "code",
   "execution_count": 28,
   "metadata": {
    "pycharm": {
     "name": "#%%\n"
    }
   },
   "outputs": [],
   "source": [
    "#region Chargement des packages\n",
    "import sys\n",
    "import os\n",
    "if os.path.basename(os.getcwd())=='Prospective_conso':\n",
    "    sys.path.append('../../')\n",
    "from functions.f_notebook import hide_toggle\n",
    "import pandas as pd\n",
    "from functions.f_tools import *\n",
    "from functions.f_graphicalTools import *\n",
    "from Models.Prospective_conso.f_evolution_tools import *\n",
    "import qgrid # great package https://github.com/quantopian/qgrid\n",
    "from mycolorpy import colorlist as mcp\n",
    "import numpy as np\n",
    "import time\n",
    "from functools import partial\n",
    "dpe_colors = ['#009900', '#33cc33', '#B3FF00', '#e6e600', '#FFB300', '#FF4D00', '#FF0000',\"#000000\"]\n",
    "Graphic_folder = \"Graphics/\"\n",
    "Data_folder = \"data/\"\n",
    "#endregion"
   ]
  },
  {
   "cell_type": "markdown",
   "source": [
    "# Modélisation de l'évolution de la consommation et des émissions dans le secteur du transport en France"
   ],
   "metadata": {
    "collapsed": false,
    "pycharm": {
     "name": "#%% md\n"
    }
   }
  },
  {
   "cell_type": "markdown",
   "source": [
    "## Introduction <a class=\"anchor\" id=\"intro\"></a>"
   ],
   "metadata": {
    "collapsed": false,
    "pycharm": {
     "name": "#%% md\n"
    }
   }
  },
  {
   "cell_type": "markdown",
   "source": [
    "### Table of Contents\n",
    "\n",
    "* [1. Introduction](#intro)\n",
    "* [2. Hypothèses de modélisation du transport de voyageurs](#initialstate)\n",
    "* [3. Hypothèses de modélisation du fret](#decarbonization)\n",
    "* [4. Simulation](#simulation)\n",
    "    * [4.1 Etat actuel du parc](#actuel)\n",
    "    * [4.2 Résultats de la simulation prospective](#prospective)\n",
    "* [5. Biblioraphie](#biblio)"
   ],
   "metadata": {
    "collapsed": false,
    "pycharm": {
     "name": "#%% md\n"
    }
   }
  },
  {
   "cell_type": "markdown",
   "metadata": {
    "pycharm": {
     "name": "#%% md\n"
    }
   },
   "source": [
    "## 2. Hypothèses de modélisation du transport de voyageurs <a class=\"anchor\" id=\"initialstate\"></a>"
   ]
  },
  {
   "cell_type": "code",
   "execution_count": 29,
   "metadata": {
    "pycharm": {
     "name": "#%%\n"
    }
   },
   "outputs": [],
   "source": [
    "#region chargement des données voyageurs\n",
    "#start = time.process_time()\n",
    "dim_names=[\"Categorie\",\"year\",\"Vecteur\"];\n",
    "Index_names = [\"Categorie\"];Energy_system_name=\"Categorie\"\n",
    "data_set_from_excel =  pd.read_excel(Data_folder+\"Hypotheses_Transport_1D.xlsx\", None);\n",
    "sim_param = extract_sim_param(data_set_from_excel,Index_names = Index_names,dim_names=dim_names,Energy_system_name=Energy_system_name)\n",
    "sim_param[\"init_sim_stock\"]=create_initial_parc(sim_param).sort_index()\n",
    "sim_param[\"volume_variable_name\"] = \"Mds_voy_km\"\n",
    "sim_param[\"retrofit_improvement\"]=pd.DataFrame([sim_param[\"retrofit_improvement\"]]*len(sim_param['base_index_year']),index =sim_param['base_index_year'])[0]\n",
    "Para_2_fill = {param : sim_param[\"base_index_year\"] for param in [\"retrofit_change_Mds_voy_km\",\"retrofit_Transition\"]}\n",
    "sim_param = interpolate_sim_param(sim_param)\n",
    "sim_param[\"retrofit_change_Mds_voy_km\"]=sim_param[\"retrofit_change_total_proportion_Mds_voy_km\"].diff().fillna(0)\n",
    "sim_param   =   complete_parameters(sim_param,Para_2_fill=Para_2_fill)\n",
    "sim_param[\"retrofit_change_Mds_voy_km\"]=sim_param[\"retrofit_change_Mds_voy_km\"]*sim_param[\"init_sim_stock\"][\"Mds_voy_km\"]\n",
    "sim_param[\"init_sim_stock\"][\"energy_need_per_Mds_voy_km\"] = sim_param[\"init_sim_stock\"].apply(\n",
    "                            lambda x: 1 /(100*x[\"remplissage\"]), axis=1).fillna(0)\n",
    "sim_param=set_model_functions(sim_param)\n",
    "sim_param[\"retrofit_Transition\"]=sim_param[\"retrofit_Transition\"].fillna(0)\n",
    "sim_param_voyageurs = sim_param\n",
    "#end = time.process_time()\n",
    "#print(\"Chargement des données, des modèles et interpolation terminés en : \"+str(end-start)+\" secondes\")\n",
    "#endregion"
   ]
  },
  {
   "cell_type": "markdown",
   "metadata": {
    "pycharm": {
     "name": "#%% md\n"
    }
   },
   "source": [
    "## 3. Hypothèses de modélisation du fret <a class=\"anchor\" id=\"decarbonization\"></a>"
   ]
  },
  {
   "cell_type": "code",
   "execution_count": 30,
   "metadata": {
    "pycharm": {
     "name": "#%%\n"
    }
   },
   "outputs": [],
   "source": [
    "dim_names=[\"Categorie\",\"year\",\"Vecteur\"];\n",
    "Index_names = [\"Categorie\"];Energy_system_name=\"Categorie\"\n",
    "data_set_from_excel =  pd.read_excel(Data_folder+\"Hypotheses_Transport_Fret_1D.xlsx\", None);\n",
    "sim_param = extract_sim_param(data_set_from_excel,Index_names = Index_names,dim_names=dim_names,Energy_system_name=Energy_system_name)"
   ]
  },
  {
   "cell_type": "code",
   "execution_count": 31,
   "metadata": {
    "pycharm": {
     "name": "#%%\n"
    }
   },
   "outputs": [
    {
     "data": {
      "text/plain": "QgridWidget(grid_options={'fullWidthRows': True, 'syncColumnCellResize': True, 'forceFitColumns': True, 'defau…",
      "application/vnd.jupyter.widget-view+json": {
       "version_major": 2,
       "version_minor": 0,
       "model_id": "3daf4df9340e41108701487259bfa294"
      }
     },
     "metadata": {},
     "output_type": "display_data"
    }
   ],
   "source": [
    "## for those able to make qgrid work, you should be able to modify the table sim_param['retrofit_Transition'] within the interface below\n",
    "#https://github.com/quantopian/qgrid\n",
    "col_def = { col :  { 'editable': True } for col in sim_param['retrofit_Transition'].columns}\n",
    "qgrid_widget = qgrid.show_grid(sim_param['retrofit_Transition'], show_toolbar=True, column_definitions=col_def)\n",
    "qgrid_widget"
   ]
  },
  {
   "cell_type": "code",
   "execution_count": 32,
   "metadata": {},
   "outputs": [],
   "source": [
    "sim_param['retrofit_Transition']=qgrid_widget.get_changed_df()"
   ]
  },
  {
   "cell_type": "code",
   "execution_count": 33,
   "metadata": {
    "pycharm": {
     "name": "#%%\n"
    }
   },
   "outputs": [],
   "source": [
    "#region chargement des données fret\n",
    "#start = time.process_time()\n",
    "\n",
    "sim_param[\"init_sim_stock\"]=create_initial_parc(sim_param).sort_index()\n",
    "sim_param[\"volume_variable_name\"] = \"Mds_t_km\"\n",
    "sim_param[\"retrofit_improvement\"]=pd.DataFrame([sim_param[\"retrofit_improvement\"]]*len(sim_param['base_index_year']),index =sim_param['base_index_year'])[0]\n",
    "Para_2_fill = {param : sim_param[\"base_index_year\"] for param in [\"retrofit_change_Mds_t_km\",\"retrofit_Transition\"]}\n",
    "sim_param = interpolate_sim_param(sim_param)\n",
    "sim_param[\"retrofit_change_Mds_t_km\"]=sim_param[\"retrofit_change_total_proportion_Mds_t_km\"].diff().fillna(0)\n",
    "sim_param   =   complete_parameters(sim_param,Para_2_fill=Para_2_fill)\n",
    "sim_param[\"retrofit_change_Mds_t_km\"]=sim_param[\"retrofit_change_Mds_t_km\"]*sim_param[\"init_sim_stock\"][\"Mds_t_km\"]\n",
    "sim_param[\"init_sim_stock\"][\"energy_need_per_Mds_t_km\"] = sim_param[\"init_sim_stock\"].apply(lambda x: 1 /(100), axis=1).fillna(0)\n",
    "sim_param=set_model_functions(sim_param)\n",
    "sim_param[\"retrofit_Transition\"]=sim_param[\"retrofit_Transition\"].fillna(0)\n",
    "sim_param_fret = sim_param\n",
    "#end = time.process_time()\n",
    "#print(\"Chargement des données, des modèles et interpolation terminés en : \"+str(end-start)+\" secondes\")\n",
    "#endregion"
   ]
  },
  {
   "cell_type": "markdown",
   "metadata": {
    "pycharm": {
     "name": "#%% md\n"
    }
   },
   "source": [
    "## 4.Simulation <a class=\"anchor\" id=\"simulation\"></a>"
   ]
  },
  {
   "cell_type": "code",
   "execution_count": 34,
   "metadata": {
    "pycharm": {
     "name": "#%%\n"
    }
   },
   "outputs": [
    {
     "name": "stdout",
     "output_type": "stream",
     "text": [
      "Computing: [########################################] 29/29\r\n",
      "\n",
      "Computing: [########################################] 29/29\r\n",
      "\n"
     ]
    }
   ],
   "source": [
    "#region simulation\n",
    "sim_stock_voyageurs = launch_simulation(sim_param_voyageurs)\n",
    "sim_stock_df_voyageurs = pd.concat(sim_stock_voyageurs, axis=0).reset_index().\\\n",
    "    rename(columns={\"level_0\":\"year\"}).set_index([ \"year\"  ,  Energy_system_name  , \"old_new\"])\n",
    "sim_stock_fret = launch_simulation(sim_param_fret)\n",
    "sim_stock_df_fret = pd.concat(sim_stock_fret, axis=0).reset_index().\\\n",
    "    rename(columns={\"level_0\":\"year\"}).set_index([ \"year\"  ,  Energy_system_name  , \"old_new\"])\n",
    "sim_stock_df = pd.concat([sim_stock_df_voyageurs,sim_stock_df_fret])\n",
    "#endregion"
   ]
  },
  {
   "cell_type": "markdown",
   "source": [
    "### 4.1 Situation initiale <a class=\"anchor\" id=\"actuel\"></a>"
   ],
   "metadata": {
    "collapsed": false,
    "pycharm": {
     "name": "#%% md\n"
    }
   }
  },
  {
   "cell_type": "code",
   "execution_count": 35,
   "outputs": [
    {
     "data": {
      "application/vnd.plotly.v1+json": {
       "data": [
        {
         "alignmentgroup": "True",
         "hovertemplate": "Categorie=Bus et cars GNV<br>class=%{x}<br>Conso=%{y}<extra></extra>",
         "legendgroup": "Bus et cars GNV",
         "marker": {
          "color": "#f7babb",
          "pattern": {
           "shape": ""
          }
         },
         "name": "Bus et cars GNV",
         "offsetgroup": "Bus et cars GNV",
         "orientation": "v",
         "showlegend": true,
         "textposition": "auto",
         "x": [
          1
         ],
         "xaxis": "x",
         "y": [
          0.029854859999999886
         ],
         "yaxis": "y",
         "type": "bar"
        },
        {
         "alignmentgroup": "True",
         "hovertemplate": "Categorie=Bus et cars H2<br>class=%{x}<br>Conso=%{y}<extra></extra>",
         "legendgroup": "Bus et cars H2",
         "marker": {
          "color": "#f18486",
          "pattern": {
           "shape": ""
          }
         },
         "name": "Bus et cars H2",
         "offsetgroup": "Bus et cars H2",
         "orientation": "v",
         "showlegend": true,
         "textposition": "auto",
         "x": [
          1
         ],
         "xaxis": "x",
         "y": [
          0.004394249999999881
         ],
         "yaxis": "y",
         "type": "bar"
        },
        {
         "alignmentgroup": "True",
         "hovertemplate": "Categorie=Bus et cars diesel<br>class=%{x}<br>Conso=%{y}<extra></extra>",
         "legendgroup": "Bus et cars diesel",
         "marker": {
          "color": "#eb4f50",
          "pattern": {
           "shape": ""
          }
         },
         "name": "Bus et cars diesel",
         "offsetgroup": "Bus et cars diesel",
         "orientation": "v",
         "showlegend": true,
         "textposition": "auto",
         "x": [
          1
         ],
         "xaxis": "x",
         "y": [
          9.2210895
         ],
         "yaxis": "y",
         "type": "bar"
        },
        {
         "alignmentgroup": "True",
         "hovertemplate": "Categorie=Bus et cars électrique<br>class=%{x}<br>Conso=%{y}<extra></extra>",
         "legendgroup": "Bus et cars électrique",
         "marker": {
          "color": "#e41a1c",
          "pattern": {
           "shape": ""
          }
         },
         "name": "Bus et cars électrique",
         "offsetgroup": "Bus et cars électrique",
         "orientation": "v",
         "showlegend": true,
         "textposition": "auto",
         "x": [
          1
         ],
         "xaxis": "x",
         "y": [
          0.004126061249999926
         ],
         "yaxis": "y",
         "type": "bar"
        },
        {
         "alignmentgroup": "True",
         "hovertemplate": "Categorie=Rail long<br>class=%{x}<br>Conso=%{y}<extra></extra>",
         "legendgroup": "Rail long",
         "marker": {
          "color": "#90bbde",
          "pattern": {
           "shape": ""
          }
         },
         "name": "Rail long",
         "offsetgroup": "Rail long",
         "orientation": "v",
         "showlegend": true,
         "textposition": "auto",
         "x": [
          2
         ],
         "xaxis": "x",
         "y": [
          2.5759239523662254
         ],
         "yaxis": "y",
         "type": "bar"
        },
        {
         "alignmentgroup": "True",
         "hovertemplate": "Categorie=camion fret H2<br>class=%{x}<br>Conso=%{y}<extra></extra>",
         "legendgroup": "camion fret H2",
         "marker": {
          "color": "#377eb8",
          "pattern": {
           "shape": ""
          }
         },
         "name": "camion fret H2",
         "offsetgroup": "camion fret H2",
         "orientation": "v",
         "showlegend": true,
         "textposition": "auto",
         "x": [
          2
         ],
         "xaxis": "x",
         "y": [
          0.13500000000000004
         ],
         "yaxis": "y",
         "type": "bar"
        },
        {
         "alignmentgroup": "True",
         "hovertemplate": "Categorie=Camion fret<br>class=%{x}<br>Conso=%{y}<extra></extra>",
         "legendgroup": "Camion fret",
         "marker": {
          "color": "#5f9dcf",
          "pattern": {
           "shape": ""
          }
         },
         "name": "Camion fret",
         "offsetgroup": "Camion fret",
         "orientation": "v",
         "showlegend": true,
         "textposition": "auto",
         "x": [
          2
         ],
         "xaxis": "x",
         "y": [
          149.6925
         ],
         "yaxis": "y",
         "type": "bar"
        },
        {
         "alignmentgroup": "True",
         "hovertemplate": "Categorie=Rail court<br>class=%{x}<br>Conso=%{y}<extra></extra>",
         "legendgroup": "Rail court",
         "marker": {
          "color": "#c0d9ec",
          "pattern": {
           "shape": ""
          }
         },
         "name": "Rail court",
         "offsetgroup": "Rail court",
         "orientation": "v",
         "showlegend": true,
         "textposition": "auto",
         "x": [
          2
         ],
         "xaxis": "x",
         "y": [
          5.115799733525535
         ],
         "yaxis": "y",
         "type": "bar"
        },
        {
         "alignmentgroup": "True",
         "hovertemplate": "Categorie=VP électrique<br>class=%{x}<br>Conso=%{y}<extra></extra>",
         "legendgroup": "VP électrique",
         "marker": {
          "color": "#984ea3",
          "pattern": {
           "shape": ""
          }
         },
         "name": "VP électrique",
         "offsetgroup": "VP électrique",
         "orientation": "v",
         "showlegend": true,
         "textposition": "auto",
         "x": [
          3
         ],
         "xaxis": "x",
         "y": [
          0.2975848935000044
         ],
         "yaxis": "y",
         "type": "bar"
        },
        {
         "alignmentgroup": "True",
         "hovertemplate": "Categorie=VP fuel<br>class=%{x}<br>Conso=%{y}<extra></extra>",
         "legendgroup": "VP fuel",
         "marker": {
          "color": "#be89c6",
          "pattern": {
           "shape": ""
          }
         },
         "name": "VP fuel",
         "offsetgroup": "VP fuel",
         "orientation": "v",
         "showlegend": true,
         "textposition": "auto",
         "x": [
          3
         ],
         "xaxis": "x",
         "y": [
          239.89875
         ],
         "yaxis": "y",
         "type": "bar"
        },
        {
         "alignmentgroup": "True",
         "hovertemplate": "Categorie=VP GNV<br>class=%{x}<br>Conso=%{y}<extra></extra>",
         "legendgroup": "VP GNV",
         "marker": {
          "color": "#e1c8e5",
          "pattern": {
           "shape": ""
          }
         },
         "name": "VP GNV",
         "offsetgroup": "VP GNV",
         "orientation": "v",
         "showlegend": true,
         "textposition": "auto",
         "x": [
          3
         ],
         "xaxis": "x",
         "y": [
          0.40069250000000184
         ],
         "yaxis": "y",
         "type": "bar"
        },
        {
         "alignmentgroup": "True",
         "hovertemplate": "Categorie=VUL électrique<br>class=%{x}<br>Conso=%{y}<extra></extra>",
         "legendgroup": "VUL électrique",
         "marker": {
          "color": "#ff7f00",
          "pattern": {
           "shape": ""
          }
         },
         "name": "VUL électrique",
         "offsetgroup": "VUL électrique",
         "orientation": "v",
         "showlegend": true,
         "textposition": "auto",
         "x": [
          4
         ],
         "xaxis": "x",
         "y": [
          0.04310311254600114
         ],
         "yaxis": "y",
         "type": "bar"
        },
        {
         "alignmentgroup": "True",
         "hovertemplate": "Categorie=VUL GNV<br>class=%{x}<br>Conso=%{y}<extra></extra>",
         "legendgroup": "VUL GNV",
         "marker": {
          "color": "#ffd9b2",
          "pattern": {
           "shape": ""
          }
         },
         "name": "VUL GNV",
         "offsetgroup": "VUL GNV",
         "orientation": "v",
         "showlegend": true,
         "textposition": "auto",
         "x": [
          4
         ],
         "xaxis": "x",
         "y": [
          2.1416825606745005
         ],
         "yaxis": "y",
         "type": "bar"
        },
        {
         "alignmentgroup": "True",
         "hovertemplate": "Categorie=VUL fuel<br>class=%{x}<br>Conso=%{y}<extra></extra>",
         "legendgroup": "VUL fuel",
         "marker": {
          "color": "#ffac59",
          "pattern": {
           "shape": ""
          }
         },
         "name": "VUL fuel",
         "offsetgroup": "VUL fuel",
         "orientation": "v",
         "showlegend": true,
         "textposition": "auto",
         "x": [
          4
         ],
         "xaxis": "x",
         "y": [
          76.31456065695
         ],
         "yaxis": "y",
         "type": "bar"
        },
        {
         "alignmentgroup": "True",
         "hovertemplate": "Categorie=aerien_outre_mer<br>class=%{x}<br>Conso=%{y}<extra></extra>",
         "legendgroup": "aerien_outre_mer",
         "marker": {
          "color": "#a65628",
          "pattern": {
           "shape": ""
          }
         },
         "name": "aerien_outre_mer",
         "offsetgroup": "aerien_outre_mer",
         "orientation": "v",
         "showlegend": true,
         "textposition": "auto",
         "x": [
          5
         ],
         "xaxis": "x",
         "y": [
          6.531700000000001
         ],
         "yaxis": "y",
         "type": "bar"
        },
        {
         "alignmentgroup": "True",
         "hovertemplate": "Categorie=aerien_interne<br>class=%{x}<br>Conso=%{y}<extra></extra>",
         "legendgroup": "aerien_interne",
         "marker": {
          "color": "#d98c60",
          "pattern": {
           "shape": ""
          }
         },
         "name": "aerien_interne",
         "offsetgroup": "aerien_interne",
         "orientation": "v",
         "showlegend": true,
         "textposition": "auto",
         "x": [
          5
         ],
         "xaxis": "x",
         "y": [
          3.7388520000000005
         ],
         "yaxis": "y",
         "type": "bar"
        },
        {
         "alignmentgroup": "True",
         "hovertemplate": "Categorie=aerien_international<br>class=%{x}<br>Conso=%{y}<extra></extra>",
         "legendgroup": "aerien_international",
         "marker": {
          "color": "#edcab6",
          "pattern": {
           "shape": ""
          }
         },
         "name": "aerien_international",
         "offsetgroup": "aerien_international",
         "orientation": "v",
         "showlegend": true,
         "textposition": "auto",
         "x": [
          5
         ],
         "xaxis": "x",
         "y": [
          70.76008333333334
         ],
         "yaxis": "y",
         "type": "bar"
        },
        {
         "alignmentgroup": "True",
         "hovertemplate": "Categorie=deux roues électrique<br>class=%{x}<br>Conso=%{y}<extra></extra>",
         "legendgroup": "deux roues électrique",
         "marker": {
          "color": "#f781bf",
          "pattern": {
           "shape": ""
          }
         },
         "name": "deux roues électrique",
         "offsetgroup": "deux roues électrique",
         "orientation": "v",
         "showlegend": true,
         "textposition": "auto",
         "x": [
          6
         ],
         "xaxis": "x",
         "y": [
          0.019550922786757408
         ],
         "yaxis": "y",
         "type": "bar"
        },
        {
         "alignmentgroup": "True",
         "hovertemplate": "Categorie=deux roues diesel<br>class=%{x}<br>Conso=%{y}<extra></extra>",
         "legendgroup": "deux roues diesel",
         "marker": {
          "color": "#fdd9ec",
          "pattern": {
           "shape": ""
          }
         },
         "name": "deux roues diesel",
         "offsetgroup": "deux roues diesel",
         "orientation": "v",
         "showlegend": true,
         "textposition": "auto",
         "x": [
          6
         ],
         "xaxis": "x",
         "y": [
          5.431930693069307
         ],
         "yaxis": "y",
         "type": "bar"
        },
        {
         "alignmentgroup": "True",
         "hovertemplate": "Categorie=Train fret<br>class=%{x}<br>Conso=%{y}<extra></extra>",
         "legendgroup": "Train fret",
         "marker": {
          "color": "#999999",
          "pattern": {
           "shape": ""
          }
         },
         "name": "Train fret",
         "offsetgroup": "Train fret",
         "orientation": "v",
         "showlegend": true,
         "textposition": "auto",
         "x": [
          7
         ],
         "xaxis": "x",
         "y": [
          1.6082400000000003
         ],
         "yaxis": "y",
         "type": "bar"
        },
        {
         "alignmentgroup": "True",
         "hovertemplate": "Categorie=Bateau fret  international<br>class=%{x}<br>Conso=%{y}<extra></extra>",
         "legendgroup": "Bateau fret  international",
         "marker": {
          "color": "#bdbdbd",
          "pattern": {
           "shape": ""
          }
         },
         "name": "Bateau fret  international",
         "offsetgroup": "Bateau fret  international",
         "orientation": "v",
         "showlegend": true,
         "textposition": "auto",
         "x": [
          7
         ],
         "xaxis": "x",
         "y": [
          4.294966083333334
         ],
         "yaxis": "y",
         "type": "bar"
        },
        {
         "alignmentgroup": "True",
         "hovertemplate": "Categorie=Avion fret  international<br>class=%{x}<br>Conso=%{y}<extra></extra>",
         "legendgroup": "Avion fret  international",
         "marker": {
          "color": "#e0e0e0",
          "pattern": {
           "shape": ""
          }
         },
         "name": "Avion fret  international",
         "offsetgroup": "Avion fret  international",
         "orientation": "v",
         "showlegend": true,
         "textposition": "auto",
         "x": [
          7
         ],
         "xaxis": "x",
         "y": [
          29.4377125
         ],
         "yaxis": "y",
         "type": "bar"
        }
       ],
       "layout": {
        "template": {
         "data": {
          "histogram2dcontour": [
           {
            "type": "histogram2dcontour",
            "colorbar": {
             "outlinewidth": 0,
             "ticks": ""
            },
            "colorscale": [
             [
              0.0,
              "#0d0887"
             ],
             [
              0.1111111111111111,
              "#46039f"
             ],
             [
              0.2222222222222222,
              "#7201a8"
             ],
             [
              0.3333333333333333,
              "#9c179e"
             ],
             [
              0.4444444444444444,
              "#bd3786"
             ],
             [
              0.5555555555555556,
              "#d8576b"
             ],
             [
              0.6666666666666666,
              "#ed7953"
             ],
             [
              0.7777777777777778,
              "#fb9f3a"
             ],
             [
              0.8888888888888888,
              "#fdca26"
             ],
             [
              1.0,
              "#f0f921"
             ]
            ]
           }
          ],
          "choropleth": [
           {
            "type": "choropleth",
            "colorbar": {
             "outlinewidth": 0,
             "ticks": ""
            }
           }
          ],
          "histogram2d": [
           {
            "type": "histogram2d",
            "colorbar": {
             "outlinewidth": 0,
             "ticks": ""
            },
            "colorscale": [
             [
              0.0,
              "#0d0887"
             ],
             [
              0.1111111111111111,
              "#46039f"
             ],
             [
              0.2222222222222222,
              "#7201a8"
             ],
             [
              0.3333333333333333,
              "#9c179e"
             ],
             [
              0.4444444444444444,
              "#bd3786"
             ],
             [
              0.5555555555555556,
              "#d8576b"
             ],
             [
              0.6666666666666666,
              "#ed7953"
             ],
             [
              0.7777777777777778,
              "#fb9f3a"
             ],
             [
              0.8888888888888888,
              "#fdca26"
             ],
             [
              1.0,
              "#f0f921"
             ]
            ]
           }
          ],
          "heatmap": [
           {
            "type": "heatmap",
            "colorbar": {
             "outlinewidth": 0,
             "ticks": ""
            },
            "colorscale": [
             [
              0.0,
              "#0d0887"
             ],
             [
              0.1111111111111111,
              "#46039f"
             ],
             [
              0.2222222222222222,
              "#7201a8"
             ],
             [
              0.3333333333333333,
              "#9c179e"
             ],
             [
              0.4444444444444444,
              "#bd3786"
             ],
             [
              0.5555555555555556,
              "#d8576b"
             ],
             [
              0.6666666666666666,
              "#ed7953"
             ],
             [
              0.7777777777777778,
              "#fb9f3a"
             ],
             [
              0.8888888888888888,
              "#fdca26"
             ],
             [
              1.0,
              "#f0f921"
             ]
            ]
           }
          ],
          "heatmapgl": [
           {
            "type": "heatmapgl",
            "colorbar": {
             "outlinewidth": 0,
             "ticks": ""
            },
            "colorscale": [
             [
              0.0,
              "#0d0887"
             ],
             [
              0.1111111111111111,
              "#46039f"
             ],
             [
              0.2222222222222222,
              "#7201a8"
             ],
             [
              0.3333333333333333,
              "#9c179e"
             ],
             [
              0.4444444444444444,
              "#bd3786"
             ],
             [
              0.5555555555555556,
              "#d8576b"
             ],
             [
              0.6666666666666666,
              "#ed7953"
             ],
             [
              0.7777777777777778,
              "#fb9f3a"
             ],
             [
              0.8888888888888888,
              "#fdca26"
             ],
             [
              1.0,
              "#f0f921"
             ]
            ]
           }
          ],
          "contourcarpet": [
           {
            "type": "contourcarpet",
            "colorbar": {
             "outlinewidth": 0,
             "ticks": ""
            }
           }
          ],
          "contour": [
           {
            "type": "contour",
            "colorbar": {
             "outlinewidth": 0,
             "ticks": ""
            },
            "colorscale": [
             [
              0.0,
              "#0d0887"
             ],
             [
              0.1111111111111111,
              "#46039f"
             ],
             [
              0.2222222222222222,
              "#7201a8"
             ],
             [
              0.3333333333333333,
              "#9c179e"
             ],
             [
              0.4444444444444444,
              "#bd3786"
             ],
             [
              0.5555555555555556,
              "#d8576b"
             ],
             [
              0.6666666666666666,
              "#ed7953"
             ],
             [
              0.7777777777777778,
              "#fb9f3a"
             ],
             [
              0.8888888888888888,
              "#fdca26"
             ],
             [
              1.0,
              "#f0f921"
             ]
            ]
           }
          ],
          "surface": [
           {
            "type": "surface",
            "colorbar": {
             "outlinewidth": 0,
             "ticks": ""
            },
            "colorscale": [
             [
              0.0,
              "#0d0887"
             ],
             [
              0.1111111111111111,
              "#46039f"
             ],
             [
              0.2222222222222222,
              "#7201a8"
             ],
             [
              0.3333333333333333,
              "#9c179e"
             ],
             [
              0.4444444444444444,
              "#bd3786"
             ],
             [
              0.5555555555555556,
              "#d8576b"
             ],
             [
              0.6666666666666666,
              "#ed7953"
             ],
             [
              0.7777777777777778,
              "#fb9f3a"
             ],
             [
              0.8888888888888888,
              "#fdca26"
             ],
             [
              1.0,
              "#f0f921"
             ]
            ]
           }
          ],
          "mesh3d": [
           {
            "type": "mesh3d",
            "colorbar": {
             "outlinewidth": 0,
             "ticks": ""
            }
           }
          ],
          "scatter": [
           {
            "fillpattern": {
             "fillmode": "overlay",
             "size": 10,
             "solidity": 0.2
            },
            "type": "scatter"
           }
          ],
          "parcoords": [
           {
            "type": "parcoords",
            "line": {
             "colorbar": {
              "outlinewidth": 0,
              "ticks": ""
             }
            }
           }
          ],
          "scatterpolargl": [
           {
            "type": "scatterpolargl",
            "marker": {
             "colorbar": {
              "outlinewidth": 0,
              "ticks": ""
             }
            }
           }
          ],
          "bar": [
           {
            "error_x": {
             "color": "#2a3f5f"
            },
            "error_y": {
             "color": "#2a3f5f"
            },
            "marker": {
             "line": {
              "color": "#E5ECF6",
              "width": 0.5
             },
             "pattern": {
              "fillmode": "overlay",
              "size": 10,
              "solidity": 0.2
             }
            },
            "type": "bar"
           }
          ],
          "scattergeo": [
           {
            "type": "scattergeo",
            "marker": {
             "colorbar": {
              "outlinewidth": 0,
              "ticks": ""
             }
            }
           }
          ],
          "scatterpolar": [
           {
            "type": "scatterpolar",
            "marker": {
             "colorbar": {
              "outlinewidth": 0,
              "ticks": ""
             }
            }
           }
          ],
          "histogram": [
           {
            "marker": {
             "pattern": {
              "fillmode": "overlay",
              "size": 10,
              "solidity": 0.2
             }
            },
            "type": "histogram"
           }
          ],
          "scattergl": [
           {
            "type": "scattergl",
            "marker": {
             "colorbar": {
              "outlinewidth": 0,
              "ticks": ""
             }
            }
           }
          ],
          "scatter3d": [
           {
            "type": "scatter3d",
            "line": {
             "colorbar": {
              "outlinewidth": 0,
              "ticks": ""
             }
            },
            "marker": {
             "colorbar": {
              "outlinewidth": 0,
              "ticks": ""
             }
            }
           }
          ],
          "scattermapbox": [
           {
            "type": "scattermapbox",
            "marker": {
             "colorbar": {
              "outlinewidth": 0,
              "ticks": ""
             }
            }
           }
          ],
          "scatterternary": [
           {
            "type": "scatterternary",
            "marker": {
             "colorbar": {
              "outlinewidth": 0,
              "ticks": ""
             }
            }
           }
          ],
          "scattercarpet": [
           {
            "type": "scattercarpet",
            "marker": {
             "colorbar": {
              "outlinewidth": 0,
              "ticks": ""
             }
            }
           }
          ],
          "carpet": [
           {
            "aaxis": {
             "endlinecolor": "#2a3f5f",
             "gridcolor": "white",
             "linecolor": "white",
             "minorgridcolor": "white",
             "startlinecolor": "#2a3f5f"
            },
            "baxis": {
             "endlinecolor": "#2a3f5f",
             "gridcolor": "white",
             "linecolor": "white",
             "minorgridcolor": "white",
             "startlinecolor": "#2a3f5f"
            },
            "type": "carpet"
           }
          ],
          "table": [
           {
            "cells": {
             "fill": {
              "color": "#EBF0F8"
             },
             "line": {
              "color": "white"
             }
            },
            "header": {
             "fill": {
              "color": "#C8D4E3"
             },
             "line": {
              "color": "white"
             }
            },
            "type": "table"
           }
          ],
          "barpolar": [
           {
            "marker": {
             "line": {
              "color": "#E5ECF6",
              "width": 0.5
             },
             "pattern": {
              "fillmode": "overlay",
              "size": 10,
              "solidity": 0.2
             }
            },
            "type": "barpolar"
           }
          ],
          "pie": [
           {
            "automargin": true,
            "type": "pie"
           }
          ]
         },
         "layout": {
          "autotypenumbers": "strict",
          "colorway": [
           "#636efa",
           "#EF553B",
           "#00cc96",
           "#ab63fa",
           "#FFA15A",
           "#19d3f3",
           "#FF6692",
           "#B6E880",
           "#FF97FF",
           "#FECB52"
          ],
          "font": {
           "color": "#2a3f5f"
          },
          "hovermode": "closest",
          "hoverlabel": {
           "align": "left"
          },
          "paper_bgcolor": "white",
          "plot_bgcolor": "#E5ECF6",
          "polar": {
           "bgcolor": "#E5ECF6",
           "angularaxis": {
            "gridcolor": "white",
            "linecolor": "white",
            "ticks": ""
           },
           "radialaxis": {
            "gridcolor": "white",
            "linecolor": "white",
            "ticks": ""
           }
          },
          "ternary": {
           "bgcolor": "#E5ECF6",
           "aaxis": {
            "gridcolor": "white",
            "linecolor": "white",
            "ticks": ""
           },
           "baxis": {
            "gridcolor": "white",
            "linecolor": "white",
            "ticks": ""
           },
           "caxis": {
            "gridcolor": "white",
            "linecolor": "white",
            "ticks": ""
           }
          },
          "coloraxis": {
           "colorbar": {
            "outlinewidth": 0,
            "ticks": ""
           }
          },
          "colorscale": {
           "sequential": [
            [
             0.0,
             "#0d0887"
            ],
            [
             0.1111111111111111,
             "#46039f"
            ],
            [
             0.2222222222222222,
             "#7201a8"
            ],
            [
             0.3333333333333333,
             "#9c179e"
            ],
            [
             0.4444444444444444,
             "#bd3786"
            ],
            [
             0.5555555555555556,
             "#d8576b"
            ],
            [
             0.6666666666666666,
             "#ed7953"
            ],
            [
             0.7777777777777778,
             "#fb9f3a"
            ],
            [
             0.8888888888888888,
             "#fdca26"
            ],
            [
             1.0,
             "#f0f921"
            ]
           ],
           "sequentialminus": [
            [
             0.0,
             "#0d0887"
            ],
            [
             0.1111111111111111,
             "#46039f"
            ],
            [
             0.2222222222222222,
             "#7201a8"
            ],
            [
             0.3333333333333333,
             "#9c179e"
            ],
            [
             0.4444444444444444,
             "#bd3786"
            ],
            [
             0.5555555555555556,
             "#d8576b"
            ],
            [
             0.6666666666666666,
             "#ed7953"
            ],
            [
             0.7777777777777778,
             "#fb9f3a"
            ],
            [
             0.8888888888888888,
             "#fdca26"
            ],
            [
             1.0,
             "#f0f921"
            ]
           ],
           "diverging": [
            [
             0,
             "#8e0152"
            ],
            [
             0.1,
             "#c51b7d"
            ],
            [
             0.2,
             "#de77ae"
            ],
            [
             0.3,
             "#f1b6da"
            ],
            [
             0.4,
             "#fde0ef"
            ],
            [
             0.5,
             "#f7f7f7"
            ],
            [
             0.6,
             "#e6f5d0"
            ],
            [
             0.7,
             "#b8e186"
            ],
            [
             0.8,
             "#7fbc41"
            ],
            [
             0.9,
             "#4d9221"
            ],
            [
             1,
             "#276419"
            ]
           ]
          },
          "xaxis": {
           "gridcolor": "white",
           "linecolor": "white",
           "ticks": "",
           "title": {
            "standoff": 15
           },
           "zerolinecolor": "white",
           "automargin": true,
           "zerolinewidth": 2
          },
          "yaxis": {
           "gridcolor": "white",
           "linecolor": "white",
           "ticks": "",
           "title": {
            "standoff": 15
           },
           "zerolinecolor": "white",
           "automargin": true,
           "zerolinewidth": 2
          },
          "scene": {
           "xaxis": {
            "backgroundcolor": "#E5ECF6",
            "gridcolor": "white",
            "linecolor": "white",
            "showbackground": true,
            "ticks": "",
            "zerolinecolor": "white",
            "gridwidth": 2
           },
           "yaxis": {
            "backgroundcolor": "#E5ECF6",
            "gridcolor": "white",
            "linecolor": "white",
            "showbackground": true,
            "ticks": "",
            "zerolinecolor": "white",
            "gridwidth": 2
           },
           "zaxis": {
            "backgroundcolor": "#E5ECF6",
            "gridcolor": "white",
            "linecolor": "white",
            "showbackground": true,
            "ticks": "",
            "zerolinecolor": "white",
            "gridwidth": 2
           }
          },
          "shapedefaults": {
           "line": {
            "color": "#2a3f5f"
           }
          },
          "annotationdefaults": {
           "arrowcolor": "#2a3f5f",
           "arrowhead": 0,
           "arrowwidth": 1
          },
          "geo": {
           "bgcolor": "white",
           "landcolor": "#E5ECF6",
           "subunitcolor": "white",
           "showland": true,
           "showlakes": true,
           "lakecolor": "white"
          },
          "title": {
           "x": 0.05
          },
          "mapbox": {
           "style": "light"
          }
         }
        },
        "xaxis": {
         "anchor": "y",
         "domain": [
          0.0,
          1.0
         ],
         "title": {
          "text": "Categorie"
         }
        },
        "yaxis": {
         "anchor": "x",
         "domain": [
          0.0,
          1.0
         ],
         "title": {
          "text": "Conso [TWh]"
         }
        },
        "legend": {
         "title": {
          "text": "Categorie"
         },
         "tracegroupgap": 0
        },
        "title": {
         "text": "Conso énergie finale par mode de transport (en TWh)"
        },
        "barmode": "relative"
       },
       "config": {
        "plotlyServerURL": "https://plot.ly"
       }
      },
      "text/html": "<div>                            <div id=\"6b09bdc1-1974-4bb4-9f91-6751a8d70be2\" class=\"plotly-graph-div\" style=\"height:525px; width:100%;\"></div>            <script type=\"text/javascript\">                require([\"plotly\"], function(Plotly) {                    window.PLOTLYENV=window.PLOTLYENV || {};                                    if (document.getElementById(\"6b09bdc1-1974-4bb4-9f91-6751a8d70be2\")) {                    Plotly.newPlot(                        \"6b09bdc1-1974-4bb4-9f91-6751a8d70be2\",                        [{\"alignmentgroup\":\"True\",\"hovertemplate\":\"Categorie=Bus et cars GNV<br>class=%{x}<br>Conso=%{y}<extra></extra>\",\"legendgroup\":\"Bus et cars GNV\",\"marker\":{\"color\":\"#f7babb\",\"pattern\":{\"shape\":\"\"}},\"name\":\"Bus et cars GNV\",\"offsetgroup\":\"Bus et cars GNV\",\"orientation\":\"v\",\"showlegend\":true,\"textposition\":\"auto\",\"x\":[1],\"xaxis\":\"x\",\"y\":[0.029854859999999886],\"yaxis\":\"y\",\"type\":\"bar\"},{\"alignmentgroup\":\"True\",\"hovertemplate\":\"Categorie=Bus et cars H2<br>class=%{x}<br>Conso=%{y}<extra></extra>\",\"legendgroup\":\"Bus et cars H2\",\"marker\":{\"color\":\"#f18486\",\"pattern\":{\"shape\":\"\"}},\"name\":\"Bus et cars H2\",\"offsetgroup\":\"Bus et cars H2\",\"orientation\":\"v\",\"showlegend\":true,\"textposition\":\"auto\",\"x\":[1],\"xaxis\":\"x\",\"y\":[0.004394249999999881],\"yaxis\":\"y\",\"type\":\"bar\"},{\"alignmentgroup\":\"True\",\"hovertemplate\":\"Categorie=Bus et cars diesel<br>class=%{x}<br>Conso=%{y}<extra></extra>\",\"legendgroup\":\"Bus et cars diesel\",\"marker\":{\"color\":\"#eb4f50\",\"pattern\":{\"shape\":\"\"}},\"name\":\"Bus et cars diesel\",\"offsetgroup\":\"Bus et cars diesel\",\"orientation\":\"v\",\"showlegend\":true,\"textposition\":\"auto\",\"x\":[1],\"xaxis\":\"x\",\"y\":[9.2210895],\"yaxis\":\"y\",\"type\":\"bar\"},{\"alignmentgroup\":\"True\",\"hovertemplate\":\"Categorie=Bus et cars \\u00e9lectrique<br>class=%{x}<br>Conso=%{y}<extra></extra>\",\"legendgroup\":\"Bus et cars \\u00e9lectrique\",\"marker\":{\"color\":\"#e41a1c\",\"pattern\":{\"shape\":\"\"}},\"name\":\"Bus et cars \\u00e9lectrique\",\"offsetgroup\":\"Bus et cars \\u00e9lectrique\",\"orientation\":\"v\",\"showlegend\":true,\"textposition\":\"auto\",\"x\":[1],\"xaxis\":\"x\",\"y\":[0.004126061249999926],\"yaxis\":\"y\",\"type\":\"bar\"},{\"alignmentgroup\":\"True\",\"hovertemplate\":\"Categorie=Rail long<br>class=%{x}<br>Conso=%{y}<extra></extra>\",\"legendgroup\":\"Rail long\",\"marker\":{\"color\":\"#90bbde\",\"pattern\":{\"shape\":\"\"}},\"name\":\"Rail long\",\"offsetgroup\":\"Rail long\",\"orientation\":\"v\",\"showlegend\":true,\"textposition\":\"auto\",\"x\":[2],\"xaxis\":\"x\",\"y\":[2.5759239523662254],\"yaxis\":\"y\",\"type\":\"bar\"},{\"alignmentgroup\":\"True\",\"hovertemplate\":\"Categorie=camion fret H2<br>class=%{x}<br>Conso=%{y}<extra></extra>\",\"legendgroup\":\"camion fret H2\",\"marker\":{\"color\":\"#377eb8\",\"pattern\":{\"shape\":\"\"}},\"name\":\"camion fret H2\",\"offsetgroup\":\"camion fret H2\",\"orientation\":\"v\",\"showlegend\":true,\"textposition\":\"auto\",\"x\":[2],\"xaxis\":\"x\",\"y\":[0.13500000000000004],\"yaxis\":\"y\",\"type\":\"bar\"},{\"alignmentgroup\":\"True\",\"hovertemplate\":\"Categorie=Camion fret<br>class=%{x}<br>Conso=%{y}<extra></extra>\",\"legendgroup\":\"Camion fret\",\"marker\":{\"color\":\"#5f9dcf\",\"pattern\":{\"shape\":\"\"}},\"name\":\"Camion fret\",\"offsetgroup\":\"Camion fret\",\"orientation\":\"v\",\"showlegend\":true,\"textposition\":\"auto\",\"x\":[2],\"xaxis\":\"x\",\"y\":[149.6925],\"yaxis\":\"y\",\"type\":\"bar\"},{\"alignmentgroup\":\"True\",\"hovertemplate\":\"Categorie=Rail court<br>class=%{x}<br>Conso=%{y}<extra></extra>\",\"legendgroup\":\"Rail court\",\"marker\":{\"color\":\"#c0d9ec\",\"pattern\":{\"shape\":\"\"}},\"name\":\"Rail court\",\"offsetgroup\":\"Rail court\",\"orientation\":\"v\",\"showlegend\":true,\"textposition\":\"auto\",\"x\":[2],\"xaxis\":\"x\",\"y\":[5.115799733525535],\"yaxis\":\"y\",\"type\":\"bar\"},{\"alignmentgroup\":\"True\",\"hovertemplate\":\"Categorie=VP \\u00e9lectrique<br>class=%{x}<br>Conso=%{y}<extra></extra>\",\"legendgroup\":\"VP \\u00e9lectrique\",\"marker\":{\"color\":\"#984ea3\",\"pattern\":{\"shape\":\"\"}},\"name\":\"VP \\u00e9lectrique\",\"offsetgroup\":\"VP \\u00e9lectrique\",\"orientation\":\"v\",\"showlegend\":true,\"textposition\":\"auto\",\"x\":[3],\"xaxis\":\"x\",\"y\":[0.2975848935000044],\"yaxis\":\"y\",\"type\":\"bar\"},{\"alignmentgroup\":\"True\",\"hovertemplate\":\"Categorie=VP fuel<br>class=%{x}<br>Conso=%{y}<extra></extra>\",\"legendgroup\":\"VP fuel\",\"marker\":{\"color\":\"#be89c6\",\"pattern\":{\"shape\":\"\"}},\"name\":\"VP fuel\",\"offsetgroup\":\"VP fuel\",\"orientation\":\"v\",\"showlegend\":true,\"textposition\":\"auto\",\"x\":[3],\"xaxis\":\"x\",\"y\":[239.89875],\"yaxis\":\"y\",\"type\":\"bar\"},{\"alignmentgroup\":\"True\",\"hovertemplate\":\"Categorie=VP GNV<br>class=%{x}<br>Conso=%{y}<extra></extra>\",\"legendgroup\":\"VP GNV\",\"marker\":{\"color\":\"#e1c8e5\",\"pattern\":{\"shape\":\"\"}},\"name\":\"VP GNV\",\"offsetgroup\":\"VP GNV\",\"orientation\":\"v\",\"showlegend\":true,\"textposition\":\"auto\",\"x\":[3],\"xaxis\":\"x\",\"y\":[0.40069250000000184],\"yaxis\":\"y\",\"type\":\"bar\"},{\"alignmentgroup\":\"True\",\"hovertemplate\":\"Categorie=VUL \\u00e9lectrique<br>class=%{x}<br>Conso=%{y}<extra></extra>\",\"legendgroup\":\"VUL \\u00e9lectrique\",\"marker\":{\"color\":\"#ff7f00\",\"pattern\":{\"shape\":\"\"}},\"name\":\"VUL \\u00e9lectrique\",\"offsetgroup\":\"VUL \\u00e9lectrique\",\"orientation\":\"v\",\"showlegend\":true,\"textposition\":\"auto\",\"x\":[4],\"xaxis\":\"x\",\"y\":[0.04310311254600114],\"yaxis\":\"y\",\"type\":\"bar\"},{\"alignmentgroup\":\"True\",\"hovertemplate\":\"Categorie=VUL GNV<br>class=%{x}<br>Conso=%{y}<extra></extra>\",\"legendgroup\":\"VUL GNV\",\"marker\":{\"color\":\"#ffd9b2\",\"pattern\":{\"shape\":\"\"}},\"name\":\"VUL GNV\",\"offsetgroup\":\"VUL GNV\",\"orientation\":\"v\",\"showlegend\":true,\"textposition\":\"auto\",\"x\":[4],\"xaxis\":\"x\",\"y\":[2.1416825606745005],\"yaxis\":\"y\",\"type\":\"bar\"},{\"alignmentgroup\":\"True\",\"hovertemplate\":\"Categorie=VUL fuel<br>class=%{x}<br>Conso=%{y}<extra></extra>\",\"legendgroup\":\"VUL fuel\",\"marker\":{\"color\":\"#ffac59\",\"pattern\":{\"shape\":\"\"}},\"name\":\"VUL fuel\",\"offsetgroup\":\"VUL fuel\",\"orientation\":\"v\",\"showlegend\":true,\"textposition\":\"auto\",\"x\":[4],\"xaxis\":\"x\",\"y\":[76.31456065695],\"yaxis\":\"y\",\"type\":\"bar\"},{\"alignmentgroup\":\"True\",\"hovertemplate\":\"Categorie=aerien_outre_mer<br>class=%{x}<br>Conso=%{y}<extra></extra>\",\"legendgroup\":\"aerien_outre_mer\",\"marker\":{\"color\":\"#a65628\",\"pattern\":{\"shape\":\"\"}},\"name\":\"aerien_outre_mer\",\"offsetgroup\":\"aerien_outre_mer\",\"orientation\":\"v\",\"showlegend\":true,\"textposition\":\"auto\",\"x\":[5],\"xaxis\":\"x\",\"y\":[6.531700000000001],\"yaxis\":\"y\",\"type\":\"bar\"},{\"alignmentgroup\":\"True\",\"hovertemplate\":\"Categorie=aerien_interne<br>class=%{x}<br>Conso=%{y}<extra></extra>\",\"legendgroup\":\"aerien_interne\",\"marker\":{\"color\":\"#d98c60\",\"pattern\":{\"shape\":\"\"}},\"name\":\"aerien_interne\",\"offsetgroup\":\"aerien_interne\",\"orientation\":\"v\",\"showlegend\":true,\"textposition\":\"auto\",\"x\":[5],\"xaxis\":\"x\",\"y\":[3.7388520000000005],\"yaxis\":\"y\",\"type\":\"bar\"},{\"alignmentgroup\":\"True\",\"hovertemplate\":\"Categorie=aerien_international<br>class=%{x}<br>Conso=%{y}<extra></extra>\",\"legendgroup\":\"aerien_international\",\"marker\":{\"color\":\"#edcab6\",\"pattern\":{\"shape\":\"\"}},\"name\":\"aerien_international\",\"offsetgroup\":\"aerien_international\",\"orientation\":\"v\",\"showlegend\":true,\"textposition\":\"auto\",\"x\":[5],\"xaxis\":\"x\",\"y\":[70.76008333333334],\"yaxis\":\"y\",\"type\":\"bar\"},{\"alignmentgroup\":\"True\",\"hovertemplate\":\"Categorie=deux roues \\u00e9lectrique<br>class=%{x}<br>Conso=%{y}<extra></extra>\",\"legendgroup\":\"deux roues \\u00e9lectrique\",\"marker\":{\"color\":\"#f781bf\",\"pattern\":{\"shape\":\"\"}},\"name\":\"deux roues \\u00e9lectrique\",\"offsetgroup\":\"deux roues \\u00e9lectrique\",\"orientation\":\"v\",\"showlegend\":true,\"textposition\":\"auto\",\"x\":[6],\"xaxis\":\"x\",\"y\":[0.019550922786757408],\"yaxis\":\"y\",\"type\":\"bar\"},{\"alignmentgroup\":\"True\",\"hovertemplate\":\"Categorie=deux roues diesel<br>class=%{x}<br>Conso=%{y}<extra></extra>\",\"legendgroup\":\"deux roues diesel\",\"marker\":{\"color\":\"#fdd9ec\",\"pattern\":{\"shape\":\"\"}},\"name\":\"deux roues diesel\",\"offsetgroup\":\"deux roues diesel\",\"orientation\":\"v\",\"showlegend\":true,\"textposition\":\"auto\",\"x\":[6],\"xaxis\":\"x\",\"y\":[5.431930693069307],\"yaxis\":\"y\",\"type\":\"bar\"},{\"alignmentgroup\":\"True\",\"hovertemplate\":\"Categorie=Train fret<br>class=%{x}<br>Conso=%{y}<extra></extra>\",\"legendgroup\":\"Train fret\",\"marker\":{\"color\":\"#999999\",\"pattern\":{\"shape\":\"\"}},\"name\":\"Train fret\",\"offsetgroup\":\"Train fret\",\"orientation\":\"v\",\"showlegend\":true,\"textposition\":\"auto\",\"x\":[7],\"xaxis\":\"x\",\"y\":[1.6082400000000003],\"yaxis\":\"y\",\"type\":\"bar\"},{\"alignmentgroup\":\"True\",\"hovertemplate\":\"Categorie=Bateau fret  international<br>class=%{x}<br>Conso=%{y}<extra></extra>\",\"legendgroup\":\"Bateau fret  international\",\"marker\":{\"color\":\"#bdbdbd\",\"pattern\":{\"shape\":\"\"}},\"name\":\"Bateau fret  international\",\"offsetgroup\":\"Bateau fret  international\",\"orientation\":\"v\",\"showlegend\":true,\"textposition\":\"auto\",\"x\":[7],\"xaxis\":\"x\",\"y\":[4.294966083333334],\"yaxis\":\"y\",\"type\":\"bar\"},{\"alignmentgroup\":\"True\",\"hovertemplate\":\"Categorie=Avion fret  international<br>class=%{x}<br>Conso=%{y}<extra></extra>\",\"legendgroup\":\"Avion fret  international\",\"marker\":{\"color\":\"#e0e0e0\",\"pattern\":{\"shape\":\"\"}},\"name\":\"Avion fret  international\",\"offsetgroup\":\"Avion fret  international\",\"orientation\":\"v\",\"showlegend\":true,\"textposition\":\"auto\",\"x\":[7],\"xaxis\":\"x\",\"y\":[29.4377125],\"yaxis\":\"y\",\"type\":\"bar\"}],                        {\"template\":{\"data\":{\"histogram2dcontour\":[{\"type\":\"histogram2dcontour\",\"colorbar\":{\"outlinewidth\":0,\"ticks\":\"\"},\"colorscale\":[[0.0,\"#0d0887\"],[0.1111111111111111,\"#46039f\"],[0.2222222222222222,\"#7201a8\"],[0.3333333333333333,\"#9c179e\"],[0.4444444444444444,\"#bd3786\"],[0.5555555555555556,\"#d8576b\"],[0.6666666666666666,\"#ed7953\"],[0.7777777777777778,\"#fb9f3a\"],[0.8888888888888888,\"#fdca26\"],[1.0,\"#f0f921\"]]}],\"choropleth\":[{\"type\":\"choropleth\",\"colorbar\":{\"outlinewidth\":0,\"ticks\":\"\"}}],\"histogram2d\":[{\"type\":\"histogram2d\",\"colorbar\":{\"outlinewidth\":0,\"ticks\":\"\"},\"colorscale\":[[0.0,\"#0d0887\"],[0.1111111111111111,\"#46039f\"],[0.2222222222222222,\"#7201a8\"],[0.3333333333333333,\"#9c179e\"],[0.4444444444444444,\"#bd3786\"],[0.5555555555555556,\"#d8576b\"],[0.6666666666666666,\"#ed7953\"],[0.7777777777777778,\"#fb9f3a\"],[0.8888888888888888,\"#fdca26\"],[1.0,\"#f0f921\"]]}],\"heatmap\":[{\"type\":\"heatmap\",\"colorbar\":{\"outlinewidth\":0,\"ticks\":\"\"},\"colorscale\":[[0.0,\"#0d0887\"],[0.1111111111111111,\"#46039f\"],[0.2222222222222222,\"#7201a8\"],[0.3333333333333333,\"#9c179e\"],[0.4444444444444444,\"#bd3786\"],[0.5555555555555556,\"#d8576b\"],[0.6666666666666666,\"#ed7953\"],[0.7777777777777778,\"#fb9f3a\"],[0.8888888888888888,\"#fdca26\"],[1.0,\"#f0f921\"]]}],\"heatmapgl\":[{\"type\":\"heatmapgl\",\"colorbar\":{\"outlinewidth\":0,\"ticks\":\"\"},\"colorscale\":[[0.0,\"#0d0887\"],[0.1111111111111111,\"#46039f\"],[0.2222222222222222,\"#7201a8\"],[0.3333333333333333,\"#9c179e\"],[0.4444444444444444,\"#bd3786\"],[0.5555555555555556,\"#d8576b\"],[0.6666666666666666,\"#ed7953\"],[0.7777777777777778,\"#fb9f3a\"],[0.8888888888888888,\"#fdca26\"],[1.0,\"#f0f921\"]]}],\"contourcarpet\":[{\"type\":\"contourcarpet\",\"colorbar\":{\"outlinewidth\":0,\"ticks\":\"\"}}],\"contour\":[{\"type\":\"contour\",\"colorbar\":{\"outlinewidth\":0,\"ticks\":\"\"},\"colorscale\":[[0.0,\"#0d0887\"],[0.1111111111111111,\"#46039f\"],[0.2222222222222222,\"#7201a8\"],[0.3333333333333333,\"#9c179e\"],[0.4444444444444444,\"#bd3786\"],[0.5555555555555556,\"#d8576b\"],[0.6666666666666666,\"#ed7953\"],[0.7777777777777778,\"#fb9f3a\"],[0.8888888888888888,\"#fdca26\"],[1.0,\"#f0f921\"]]}],\"surface\":[{\"type\":\"surface\",\"colorbar\":{\"outlinewidth\":0,\"ticks\":\"\"},\"colorscale\":[[0.0,\"#0d0887\"],[0.1111111111111111,\"#46039f\"],[0.2222222222222222,\"#7201a8\"],[0.3333333333333333,\"#9c179e\"],[0.4444444444444444,\"#bd3786\"],[0.5555555555555556,\"#d8576b\"],[0.6666666666666666,\"#ed7953\"],[0.7777777777777778,\"#fb9f3a\"],[0.8888888888888888,\"#fdca26\"],[1.0,\"#f0f921\"]]}],\"mesh3d\":[{\"type\":\"mesh3d\",\"colorbar\":{\"outlinewidth\":0,\"ticks\":\"\"}}],\"scatter\":[{\"fillpattern\":{\"fillmode\":\"overlay\",\"size\":10,\"solidity\":0.2},\"type\":\"scatter\"}],\"parcoords\":[{\"type\":\"parcoords\",\"line\":{\"colorbar\":{\"outlinewidth\":0,\"ticks\":\"\"}}}],\"scatterpolargl\":[{\"type\":\"scatterpolargl\",\"marker\":{\"colorbar\":{\"outlinewidth\":0,\"ticks\":\"\"}}}],\"bar\":[{\"error_x\":{\"color\":\"#2a3f5f\"},\"error_y\":{\"color\":\"#2a3f5f\"},\"marker\":{\"line\":{\"color\":\"#E5ECF6\",\"width\":0.5},\"pattern\":{\"fillmode\":\"overlay\",\"size\":10,\"solidity\":0.2}},\"type\":\"bar\"}],\"scattergeo\":[{\"type\":\"scattergeo\",\"marker\":{\"colorbar\":{\"outlinewidth\":0,\"ticks\":\"\"}}}],\"scatterpolar\":[{\"type\":\"scatterpolar\",\"marker\":{\"colorbar\":{\"outlinewidth\":0,\"ticks\":\"\"}}}],\"histogram\":[{\"marker\":{\"pattern\":{\"fillmode\":\"overlay\",\"size\":10,\"solidity\":0.2}},\"type\":\"histogram\"}],\"scattergl\":[{\"type\":\"scattergl\",\"marker\":{\"colorbar\":{\"outlinewidth\":0,\"ticks\":\"\"}}}],\"scatter3d\":[{\"type\":\"scatter3d\",\"line\":{\"colorbar\":{\"outlinewidth\":0,\"ticks\":\"\"}},\"marker\":{\"colorbar\":{\"outlinewidth\":0,\"ticks\":\"\"}}}],\"scattermapbox\":[{\"type\":\"scattermapbox\",\"marker\":{\"colorbar\":{\"outlinewidth\":0,\"ticks\":\"\"}}}],\"scatterternary\":[{\"type\":\"scatterternary\",\"marker\":{\"colorbar\":{\"outlinewidth\":0,\"ticks\":\"\"}}}],\"scattercarpet\":[{\"type\":\"scattercarpet\",\"marker\":{\"colorbar\":{\"outlinewidth\":0,\"ticks\":\"\"}}}],\"carpet\":[{\"aaxis\":{\"endlinecolor\":\"#2a3f5f\",\"gridcolor\":\"white\",\"linecolor\":\"white\",\"minorgridcolor\":\"white\",\"startlinecolor\":\"#2a3f5f\"},\"baxis\":{\"endlinecolor\":\"#2a3f5f\",\"gridcolor\":\"white\",\"linecolor\":\"white\",\"minorgridcolor\":\"white\",\"startlinecolor\":\"#2a3f5f\"},\"type\":\"carpet\"}],\"table\":[{\"cells\":{\"fill\":{\"color\":\"#EBF0F8\"},\"line\":{\"color\":\"white\"}},\"header\":{\"fill\":{\"color\":\"#C8D4E3\"},\"line\":{\"color\":\"white\"}},\"type\":\"table\"}],\"barpolar\":[{\"marker\":{\"line\":{\"color\":\"#E5ECF6\",\"width\":0.5},\"pattern\":{\"fillmode\":\"overlay\",\"size\":10,\"solidity\":0.2}},\"type\":\"barpolar\"}],\"pie\":[{\"automargin\":true,\"type\":\"pie\"}]},\"layout\":{\"autotypenumbers\":\"strict\",\"colorway\":[\"#636efa\",\"#EF553B\",\"#00cc96\",\"#ab63fa\",\"#FFA15A\",\"#19d3f3\",\"#FF6692\",\"#B6E880\",\"#FF97FF\",\"#FECB52\"],\"font\":{\"color\":\"#2a3f5f\"},\"hovermode\":\"closest\",\"hoverlabel\":{\"align\":\"left\"},\"paper_bgcolor\":\"white\",\"plot_bgcolor\":\"#E5ECF6\",\"polar\":{\"bgcolor\":\"#E5ECF6\",\"angularaxis\":{\"gridcolor\":\"white\",\"linecolor\":\"white\",\"ticks\":\"\"},\"radialaxis\":{\"gridcolor\":\"white\",\"linecolor\":\"white\",\"ticks\":\"\"}},\"ternary\":{\"bgcolor\":\"#E5ECF6\",\"aaxis\":{\"gridcolor\":\"white\",\"linecolor\":\"white\",\"ticks\":\"\"},\"baxis\":{\"gridcolor\":\"white\",\"linecolor\":\"white\",\"ticks\":\"\"},\"caxis\":{\"gridcolor\":\"white\",\"linecolor\":\"white\",\"ticks\":\"\"}},\"coloraxis\":{\"colorbar\":{\"outlinewidth\":0,\"ticks\":\"\"}},\"colorscale\":{\"sequential\":[[0.0,\"#0d0887\"],[0.1111111111111111,\"#46039f\"],[0.2222222222222222,\"#7201a8\"],[0.3333333333333333,\"#9c179e\"],[0.4444444444444444,\"#bd3786\"],[0.5555555555555556,\"#d8576b\"],[0.6666666666666666,\"#ed7953\"],[0.7777777777777778,\"#fb9f3a\"],[0.8888888888888888,\"#fdca26\"],[1.0,\"#f0f921\"]],\"sequentialminus\":[[0.0,\"#0d0887\"],[0.1111111111111111,\"#46039f\"],[0.2222222222222222,\"#7201a8\"],[0.3333333333333333,\"#9c179e\"],[0.4444444444444444,\"#bd3786\"],[0.5555555555555556,\"#d8576b\"],[0.6666666666666666,\"#ed7953\"],[0.7777777777777778,\"#fb9f3a\"],[0.8888888888888888,\"#fdca26\"],[1.0,\"#f0f921\"]],\"diverging\":[[0,\"#8e0152\"],[0.1,\"#c51b7d\"],[0.2,\"#de77ae\"],[0.3,\"#f1b6da\"],[0.4,\"#fde0ef\"],[0.5,\"#f7f7f7\"],[0.6,\"#e6f5d0\"],[0.7,\"#b8e186\"],[0.8,\"#7fbc41\"],[0.9,\"#4d9221\"],[1,\"#276419\"]]},\"xaxis\":{\"gridcolor\":\"white\",\"linecolor\":\"white\",\"ticks\":\"\",\"title\":{\"standoff\":15},\"zerolinecolor\":\"white\",\"automargin\":true,\"zerolinewidth\":2},\"yaxis\":{\"gridcolor\":\"white\",\"linecolor\":\"white\",\"ticks\":\"\",\"title\":{\"standoff\":15},\"zerolinecolor\":\"white\",\"automargin\":true,\"zerolinewidth\":2},\"scene\":{\"xaxis\":{\"backgroundcolor\":\"#E5ECF6\",\"gridcolor\":\"white\",\"linecolor\":\"white\",\"showbackground\":true,\"ticks\":\"\",\"zerolinecolor\":\"white\",\"gridwidth\":2},\"yaxis\":{\"backgroundcolor\":\"#E5ECF6\",\"gridcolor\":\"white\",\"linecolor\":\"white\",\"showbackground\":true,\"ticks\":\"\",\"zerolinecolor\":\"white\",\"gridwidth\":2},\"zaxis\":{\"backgroundcolor\":\"#E5ECF6\",\"gridcolor\":\"white\",\"linecolor\":\"white\",\"showbackground\":true,\"ticks\":\"\",\"zerolinecolor\":\"white\",\"gridwidth\":2}},\"shapedefaults\":{\"line\":{\"color\":\"#2a3f5f\"}},\"annotationdefaults\":{\"arrowcolor\":\"#2a3f5f\",\"arrowhead\":0,\"arrowwidth\":1},\"geo\":{\"bgcolor\":\"white\",\"landcolor\":\"#E5ECF6\",\"subunitcolor\":\"white\",\"showland\":true,\"showlakes\":true,\"lakecolor\":\"white\"},\"title\":{\"x\":0.05},\"mapbox\":{\"style\":\"light\"}}},\"xaxis\":{\"anchor\":\"y\",\"domain\":[0.0,1.0],\"title\":{\"text\":\"Categorie\"}},\"yaxis\":{\"anchor\":\"x\",\"domain\":[0.0,1.0],\"title\":{\"text\":\"Conso [TWh]\"}},\"legend\":{\"title\":{\"text\":\"Categorie\"},\"tracegroupgap\":0},\"title\":{\"text\":\"Conso \\u00e9nergie finale par mode de transport (en TWh)\"},\"barmode\":\"relative\"},                        {\"responsive\": true}                    ).then(function(){\n                            \nvar gd = document.getElementById('6b09bdc1-1974-4bb4-9f91-6751a8d70be2');\nvar x = new MutationObserver(function (mutations, observer) {{\n        var display = window.getComputedStyle(gd).display;\n        if (!display || display === 'none') {{\n            console.log([gd, 'removed!']);\n            Plotly.purge(gd);\n            observer.disconnect();\n        }}\n}});\n\n// Listen for the removal of the full notebook cells\nvar notebookContainer = gd.closest('#notebook-container');\nif (notebookContainer) {{\n    x.observe(notebookContainer, {childList: true});\n}}\n\n// Listen for the clearing of the current output cell\nvar outputEl = gd.closest('.output');\nif (outputEl) {{\n    x.observe(outputEl, {childList: true});\n}}\n\n                        })                };                });            </script>        </div>"
     },
     "metadata": {},
     "output_type": "display_data"
    }
   ],
   "source": [
    "### categories pour avoir des groupes de couleurs dans les graphiques\n",
    "col_class_dict={'Bus et cars GNV' : 1, 'Bus et cars H2':1, 'Bus et cars diesel':1, 'Bus et cars électrique':1,\n",
    " 'Rail court':2, 'Rail long':2, 'Camion fret' : 2,'camion fret H2' : 2,\n",
    "                'VP GNV':3, 'VP fuel':3, 'VP électrique':3,\n",
    " 'VUL GNV':4, 'VUL fuel':4, 'VUL électrique':4,\n",
    " 'aerien_international':5, 'aerien_interne':5, 'aerien_outre_mer':5,\n",
    " 'deux roues diesel':6, 'deux roues électrique':6,\n",
    " 'Avion fret  international': 7, 'Bateau fret  international': 7,'Train fret':7}\n",
    "\n",
    "import plotly.express as px\n",
    "Var = \"Conso\"\n",
    "y_df = sim_stock_df.loc[(2021,slice(None),slice(None))].groupby([Energy_system_name])[Var].sum().to_frame().reset_index()\n",
    "#y_df.loc[:,\"Categorie\"]=pd.MultiIndex.from_tuples([(str(col_class_dict[key]),key) for key in y_df.Categorie])\n",
    "color_dict = gen_grouped_color_map(col_class_dict)\n",
    "y_df[\"class\"]=[col_class_dict[cat] for cat in y_df[\"Categorie\"]]\n",
    "y_df=y_df.sort_values(by=['class'])\n",
    "fig = px.bar(y_df,x=\"class\", y=Var, color=\"Categorie\", title=\"Wide-Form Input\",color_discrete_map=color_dict)\n",
    "fig=fig.update_layout(title_text=\"Conso énergie finale par mode de transport (en TWh)\", xaxis_title=\"Categorie\",yaxis_title=\"Conso [TWh]\")\n",
    "fig.show()"
   ],
   "metadata": {
    "collapsed": false,
    "pycharm": {
     "name": "#%%\n"
    }
   }
  },
  {
   "cell_type": "code",
   "execution_count": 36,
   "outputs": [
    {
     "data": {
      "application/vnd.plotly.v1+json": {
       "data": [
        {
         "alignmentgroup": "True",
         "hovertemplate": "Categorie=Bus et cars GNV<br>class=%{x}<br>emissions=%{y}<extra></extra>",
         "legendgroup": "Bus et cars GNV",
         "marker": {
          "color": "#f7babb",
          "pattern": {
           "shape": ""
          }
         },
         "name": "Bus et cars GNV",
         "offsetgroup": "Bus et cars GNV",
         "orientation": "v",
         "showlegend": true,
         "textposition": "auto",
         "x": [
          1
         ],
         "xaxis": "x",
         "y": [
          6.474523971999976
         ],
         "yaxis": "y",
         "type": "bar"
        },
        {
         "alignmentgroup": "True",
         "hovertemplate": "Categorie=Bus et cars H2<br>class=%{x}<br>emissions=%{y}<extra></extra>",
         "legendgroup": "Bus et cars H2",
         "marker": {
          "color": "#f18486",
          "pattern": {
           "shape": ""
          }
         },
         "name": "Bus et cars H2",
         "offsetgroup": "Bus et cars H2",
         "orientation": "v",
         "showlegend": true,
         "textposition": "auto",
         "x": [
          1
         ],
         "xaxis": "x",
         "y": [
          0.5097329999999862
         ],
         "yaxis": "y",
         "type": "bar"
        },
        {
         "alignmentgroup": "True",
         "hovertemplate": "Categorie=Bus et cars diesel<br>class=%{x}<br>emissions=%{y}<extra></extra>",
         "legendgroup": "Bus et cars diesel",
         "marker": {
          "color": "#eb4f50",
          "pattern": {
           "shape": ""
          }
         },
         "name": "Bus et cars diesel",
         "offsetgroup": "Bus et cars diesel",
         "orientation": "v",
         "showlegend": true,
         "textposition": "auto",
         "x": [
          1
         ],
         "xaxis": "x",
         "y": [
          2395.0243128
         ],
         "yaxis": "y",
         "type": "bar"
        },
        {
         "alignmentgroup": "True",
         "hovertemplate": "Categorie=Bus et cars électrique<br>class=%{x}<br>emissions=%{y}<extra></extra>",
         "legendgroup": "Bus et cars électrique",
         "marker": {
          "color": "#e41a1c",
          "pattern": {
           "shape": ""
          }
         },
         "name": "Bus et cars électrique",
         "offsetgroup": "Bus et cars électrique",
         "orientation": "v",
         "showlegend": true,
         "textposition": "auto",
         "x": [
          1
         ],
         "xaxis": "x",
         "y": [
          0.2393115524999957
         ],
         "yaxis": "y",
         "type": "bar"
        },
        {
         "alignmentgroup": "True",
         "hovertemplate": "Categorie=Rail long<br>class=%{x}<br>emissions=%{y}<extra></extra>",
         "legendgroup": "Rail long",
         "marker": {
          "color": "#90bbde",
          "pattern": {
           "shape": ""
          }
         },
         "name": "Rail long",
         "offsetgroup": "Rail long",
         "orientation": "v",
         "showlegend": true,
         "textposition": "auto",
         "x": [
          2
         ],
         "xaxis": "x",
         "y": [
          149.40358923724108
         ],
         "yaxis": "y",
         "type": "bar"
        },
        {
         "alignmentgroup": "True",
         "hovertemplate": "Categorie=camion fret H2<br>class=%{x}<br>emissions=%{y}<extra></extra>",
         "legendgroup": "camion fret H2",
         "marker": {
          "color": "#377eb8",
          "pattern": {
           "shape": ""
          }
         },
         "name": "camion fret H2",
         "offsetgroup": "camion fret H2",
         "orientation": "v",
         "showlegend": true,
         "textposition": "auto",
         "x": [
          2
         ],
         "xaxis": "x",
         "y": [
          15.660000000000004
         ],
         "yaxis": "y",
         "type": "bar"
        },
        {
         "alignmentgroup": "True",
         "hovertemplate": "Categorie=Camion fret<br>class=%{x}<br>emissions=%{y}<extra></extra>",
         "legendgroup": "Camion fret",
         "marker": {
          "color": "#5f9dcf",
          "pattern": {
           "shape": ""
          }
         },
         "name": "Camion fret",
         "offsetgroup": "Camion fret",
         "orientation": "v",
         "showlegend": true,
         "textposition": "auto",
         "x": [
          2
         ],
         "xaxis": "x",
         "y": [
          38880.132000000005
         ],
         "yaxis": "y",
         "type": "bar"
        },
        {
         "alignmentgroup": "True",
         "hovertemplate": "Categorie=Rail court<br>class=%{x}<br>emissions=%{y}<extra></extra>",
         "legendgroup": "Rail court",
         "marker": {
          "color": "#c0d9ec",
          "pattern": {
           "shape": ""
          }
         },
         "name": "Rail court",
         "offsetgroup": "Rail court",
         "orientation": "v",
         "showlegend": true,
         "textposition": "auto",
         "x": [
          2
         ],
         "xaxis": "x",
         "y": [
          296.71638454448106
         ],
         "yaxis": "y",
         "type": "bar"
        },
        {
         "alignmentgroup": "True",
         "hovertemplate": "Categorie=VP électrique<br>class=%{x}<br>emissions=%{y}<extra></extra>",
         "legendgroup": "VP électrique",
         "marker": {
          "color": "#984ea3",
          "pattern": {
           "shape": ""
          }
         },
         "name": "VP électrique",
         "offsetgroup": "VP électrique",
         "orientation": "v",
         "showlegend": true,
         "textposition": "auto",
         "x": [
          3
         ],
         "xaxis": "x",
         "y": [
          17.259923823000253
         ],
         "yaxis": "y",
         "type": "bar"
        },
        {
         "alignmentgroup": "True",
         "hovertemplate": "Categorie=VP fuel<br>class=%{x}<br>emissions=%{y}<extra></extra>",
         "legendgroup": "VP fuel",
         "marker": {
          "color": "#be89c6",
          "pattern": {
           "shape": ""
          }
         },
         "name": "VP fuel",
         "offsetgroup": "VP fuel",
         "orientation": "v",
         "showlegend": true,
         "textposition": "auto",
         "x": [
          3
         ],
         "xaxis": "x",
         "y": [
          62309.702000000005
         ],
         "yaxis": "y",
         "type": "bar"
        },
        {
         "alignmentgroup": "True",
         "hovertemplate": "Categorie=VP GNV<br>class=%{x}<br>emissions=%{y}<extra></extra>",
         "legendgroup": "VP GNV",
         "marker": {
          "color": "#e1c8e5",
          "pattern": {
           "shape": ""
          }
         },
         "name": "VP GNV",
         "offsetgroup": "VP GNV",
         "orientation": "v",
         "showlegend": true,
         "textposition": "auto",
         "x": [
          3
         ],
         "xaxis": "x",
         "y": [
          86.89684683333373
         ],
         "yaxis": "y",
         "type": "bar"
        },
        {
         "alignmentgroup": "True",
         "hovertemplate": "Categorie=VUL électrique<br>class=%{x}<br>emissions=%{y}<extra></extra>",
         "legendgroup": "VUL électrique",
         "marker": {
          "color": "#ff7f00",
          "pattern": {
           "shape": ""
          }
         },
         "name": "VUL électrique",
         "offsetgroup": "VUL électrique",
         "orientation": "v",
         "showlegend": true,
         "textposition": "auto",
         "x": [
          4
         ],
         "xaxis": "x",
         "y": [
          2.499980527668066
         ],
         "yaxis": "y",
         "type": "bar"
        },
        {
         "alignmentgroup": "True",
         "hovertemplate": "Categorie=VUL GNV<br>class=%{x}<br>emissions=%{y}<extra></extra>",
         "legendgroup": "VUL GNV",
         "marker": {
          "color": "#ffd9b2",
          "pattern": {
           "shape": ""
          }
         },
         "name": "VUL GNV",
         "offsetgroup": "VUL GNV",
         "orientation": "v",
         "showlegend": true,
         "textposition": "auto",
         "x": [
          4
         ],
         "xaxis": "x",
         "y": [
          464.4595579916101
         ],
         "yaxis": "y",
         "type": "bar"
        },
        {
         "alignmentgroup": "True",
         "hovertemplate": "Categorie=VUL fuel<br>class=%{x}<br>emissions=%{y}<extra></extra>",
         "legendgroup": "VUL fuel",
         "marker": {
          "color": "#ffac59",
          "pattern": {
           "shape": ""
          }
         },
         "name": "VUL fuel",
         "offsetgroup": "VUL fuel",
         "orientation": "v",
         "showlegend": true,
         "textposition": "auto",
         "x": [
          4
         ],
         "xaxis": "x",
         "y": [
          19821.435221298478
         ],
         "yaxis": "y",
         "type": "bar"
        },
        {
         "alignmentgroup": "True",
         "hovertemplate": "Categorie=aerien_outre_mer<br>class=%{x}<br>emissions=%{y}<extra></extra>",
         "legendgroup": "aerien_outre_mer",
         "marker": {
          "color": "#a65628",
          "pattern": {
           "shape": ""
          }
         },
         "name": "aerien_outre_mer",
         "offsetgroup": "aerien_outre_mer",
         "orientation": "v",
         "showlegend": true,
         "textposition": "auto",
         "x": [
          5
         ],
         "xaxis": "x",
         "y": [
          1696.5002133333337
         ],
         "yaxis": "y",
         "type": "bar"
        },
        {
         "alignmentgroup": "True",
         "hovertemplate": "Categorie=aerien_interne<br>class=%{x}<br>emissions=%{y}<extra></extra>",
         "legendgroup": "aerien_interne",
         "marker": {
          "color": "#d98c60",
          "pattern": {
           "shape": ""
          }
         },
         "name": "aerien_interne",
         "offsetgroup": "aerien_interne",
         "orientation": "v",
         "showlegend": true,
         "textposition": "auto",
         "x": [
          5
         ],
         "xaxis": "x",
         "y": [
          971.1044928000002
         ],
         "yaxis": "y",
         "type": "bar"
        },
        {
         "alignmentgroup": "True",
         "hovertemplate": "Categorie=aerien_international<br>class=%{x}<br>emissions=%{y}<extra></extra>",
         "legendgroup": "aerien_international",
         "marker": {
          "color": "#edcab6",
          "pattern": {
           "shape": ""
          }
         },
         "name": "aerien_international",
         "offsetgroup": "aerien_international",
         "orientation": "v",
         "showlegend": true,
         "textposition": "auto",
         "x": [
          5
         ],
         "xaxis": "x",
         "y": [
          18378.752311111115
         ],
         "yaxis": "y",
         "type": "bar"
        },
        {
         "alignmentgroup": "True",
         "hovertemplate": "Categorie=deux roues électrique<br>class=%{x}<br>emissions=%{y}<extra></extra>",
         "legendgroup": "deux roues électrique",
         "marker": {
          "color": "#f781bf",
          "pattern": {
           "shape": ""
          }
         },
         "name": "deux roues électrique",
         "offsetgroup": "deux roues électrique",
         "orientation": "v",
         "showlegend": true,
         "textposition": "auto",
         "x": [
          6
         ],
         "xaxis": "x",
         "y": [
          1.1339535216319296
         ],
         "yaxis": "y",
         "type": "bar"
        },
        {
         "alignmentgroup": "True",
         "hovertemplate": "Categorie=deux roues diesel<br>class=%{x}<br>emissions=%{y}<extra></extra>",
         "legendgroup": "deux roues diesel",
         "marker": {
          "color": "#fdd9ec",
          "pattern": {
           "shape": ""
          }
         },
         "name": "deux roues diesel",
         "offsetgroup": "deux roues diesel",
         "orientation": "v",
         "showlegend": true,
         "textposition": "auto",
         "x": [
          6
         ],
         "xaxis": "x",
         "y": [
          1410.853465346535
         ],
         "yaxis": "y",
         "type": "bar"
        },
        {
         "alignmentgroup": "True",
         "hovertemplate": "Categorie=Train fret<br>class=%{x}<br>emissions=%{y}<extra></extra>",
         "legendgroup": "Train fret",
         "marker": {
          "color": "#999999",
          "pattern": {
           "shape": ""
          }
         },
         "name": "Train fret",
         "offsetgroup": "Train fret",
         "orientation": "v",
         "showlegend": true,
         "textposition": "auto",
         "x": [
          7
         ],
         "xaxis": "x",
         "y": [
          93.27792000000001
         ],
         "yaxis": "y",
         "type": "bar"
        },
        {
         "alignmentgroup": "True",
         "hovertemplate": "Categorie=Bateau fret  international<br>class=%{x}<br>emissions=%{y}<extra></extra>",
         "legendgroup": "Bateau fret  international",
         "marker": {
          "color": "#bdbdbd",
          "pattern": {
           "shape": ""
          }
         },
         "name": "Bateau fret  international",
         "offsetgroup": "Bateau fret  international",
         "orientation": "v",
         "showlegend": true,
         "textposition": "auto",
         "x": [
          7
         ],
         "xaxis": "x",
         "y": [
          1115.545857377778
         ],
         "yaxis": "y",
         "type": "bar"
        },
        {
         "alignmentgroup": "True",
         "hovertemplate": "Categorie=Avion fret  international<br>class=%{x}<br>emissions=%{y}<extra></extra>",
         "legendgroup": "Avion fret  international",
         "marker": {
          "color": "#e0e0e0",
          "pattern": {
           "shape": ""
          }
         },
         "name": "Avion fret  international",
         "offsetgroup": "Avion fret  international",
         "orientation": "v",
         "showlegend": true,
         "textposition": "auto",
         "x": [
          7
         ],
         "xaxis": "x",
         "y": [
          7645.955193333334
         ],
         "yaxis": "y",
         "type": "bar"
        }
       ],
       "layout": {
        "template": {
         "data": {
          "histogram2dcontour": [
           {
            "type": "histogram2dcontour",
            "colorbar": {
             "outlinewidth": 0,
             "ticks": ""
            },
            "colorscale": [
             [
              0.0,
              "#0d0887"
             ],
             [
              0.1111111111111111,
              "#46039f"
             ],
             [
              0.2222222222222222,
              "#7201a8"
             ],
             [
              0.3333333333333333,
              "#9c179e"
             ],
             [
              0.4444444444444444,
              "#bd3786"
             ],
             [
              0.5555555555555556,
              "#d8576b"
             ],
             [
              0.6666666666666666,
              "#ed7953"
             ],
             [
              0.7777777777777778,
              "#fb9f3a"
             ],
             [
              0.8888888888888888,
              "#fdca26"
             ],
             [
              1.0,
              "#f0f921"
             ]
            ]
           }
          ],
          "choropleth": [
           {
            "type": "choropleth",
            "colorbar": {
             "outlinewidth": 0,
             "ticks": ""
            }
           }
          ],
          "histogram2d": [
           {
            "type": "histogram2d",
            "colorbar": {
             "outlinewidth": 0,
             "ticks": ""
            },
            "colorscale": [
             [
              0.0,
              "#0d0887"
             ],
             [
              0.1111111111111111,
              "#46039f"
             ],
             [
              0.2222222222222222,
              "#7201a8"
             ],
             [
              0.3333333333333333,
              "#9c179e"
             ],
             [
              0.4444444444444444,
              "#bd3786"
             ],
             [
              0.5555555555555556,
              "#d8576b"
             ],
             [
              0.6666666666666666,
              "#ed7953"
             ],
             [
              0.7777777777777778,
              "#fb9f3a"
             ],
             [
              0.8888888888888888,
              "#fdca26"
             ],
             [
              1.0,
              "#f0f921"
             ]
            ]
           }
          ],
          "heatmap": [
           {
            "type": "heatmap",
            "colorbar": {
             "outlinewidth": 0,
             "ticks": ""
            },
            "colorscale": [
             [
              0.0,
              "#0d0887"
             ],
             [
              0.1111111111111111,
              "#46039f"
             ],
             [
              0.2222222222222222,
              "#7201a8"
             ],
             [
              0.3333333333333333,
              "#9c179e"
             ],
             [
              0.4444444444444444,
              "#bd3786"
             ],
             [
              0.5555555555555556,
              "#d8576b"
             ],
             [
              0.6666666666666666,
              "#ed7953"
             ],
             [
              0.7777777777777778,
              "#fb9f3a"
             ],
             [
              0.8888888888888888,
              "#fdca26"
             ],
             [
              1.0,
              "#f0f921"
             ]
            ]
           }
          ],
          "heatmapgl": [
           {
            "type": "heatmapgl",
            "colorbar": {
             "outlinewidth": 0,
             "ticks": ""
            },
            "colorscale": [
             [
              0.0,
              "#0d0887"
             ],
             [
              0.1111111111111111,
              "#46039f"
             ],
             [
              0.2222222222222222,
              "#7201a8"
             ],
             [
              0.3333333333333333,
              "#9c179e"
             ],
             [
              0.4444444444444444,
              "#bd3786"
             ],
             [
              0.5555555555555556,
              "#d8576b"
             ],
             [
              0.6666666666666666,
              "#ed7953"
             ],
             [
              0.7777777777777778,
              "#fb9f3a"
             ],
             [
              0.8888888888888888,
              "#fdca26"
             ],
             [
              1.0,
              "#f0f921"
             ]
            ]
           }
          ],
          "contourcarpet": [
           {
            "type": "contourcarpet",
            "colorbar": {
             "outlinewidth": 0,
             "ticks": ""
            }
           }
          ],
          "contour": [
           {
            "type": "contour",
            "colorbar": {
             "outlinewidth": 0,
             "ticks": ""
            },
            "colorscale": [
             [
              0.0,
              "#0d0887"
             ],
             [
              0.1111111111111111,
              "#46039f"
             ],
             [
              0.2222222222222222,
              "#7201a8"
             ],
             [
              0.3333333333333333,
              "#9c179e"
             ],
             [
              0.4444444444444444,
              "#bd3786"
             ],
             [
              0.5555555555555556,
              "#d8576b"
             ],
             [
              0.6666666666666666,
              "#ed7953"
             ],
             [
              0.7777777777777778,
              "#fb9f3a"
             ],
             [
              0.8888888888888888,
              "#fdca26"
             ],
             [
              1.0,
              "#f0f921"
             ]
            ]
           }
          ],
          "surface": [
           {
            "type": "surface",
            "colorbar": {
             "outlinewidth": 0,
             "ticks": ""
            },
            "colorscale": [
             [
              0.0,
              "#0d0887"
             ],
             [
              0.1111111111111111,
              "#46039f"
             ],
             [
              0.2222222222222222,
              "#7201a8"
             ],
             [
              0.3333333333333333,
              "#9c179e"
             ],
             [
              0.4444444444444444,
              "#bd3786"
             ],
             [
              0.5555555555555556,
              "#d8576b"
             ],
             [
              0.6666666666666666,
              "#ed7953"
             ],
             [
              0.7777777777777778,
              "#fb9f3a"
             ],
             [
              0.8888888888888888,
              "#fdca26"
             ],
             [
              1.0,
              "#f0f921"
             ]
            ]
           }
          ],
          "mesh3d": [
           {
            "type": "mesh3d",
            "colorbar": {
             "outlinewidth": 0,
             "ticks": ""
            }
           }
          ],
          "scatter": [
           {
            "fillpattern": {
             "fillmode": "overlay",
             "size": 10,
             "solidity": 0.2
            },
            "type": "scatter"
           }
          ],
          "parcoords": [
           {
            "type": "parcoords",
            "line": {
             "colorbar": {
              "outlinewidth": 0,
              "ticks": ""
             }
            }
           }
          ],
          "scatterpolargl": [
           {
            "type": "scatterpolargl",
            "marker": {
             "colorbar": {
              "outlinewidth": 0,
              "ticks": ""
             }
            }
           }
          ],
          "bar": [
           {
            "error_x": {
             "color": "#2a3f5f"
            },
            "error_y": {
             "color": "#2a3f5f"
            },
            "marker": {
             "line": {
              "color": "#E5ECF6",
              "width": 0.5
             },
             "pattern": {
              "fillmode": "overlay",
              "size": 10,
              "solidity": 0.2
             }
            },
            "type": "bar"
           }
          ],
          "scattergeo": [
           {
            "type": "scattergeo",
            "marker": {
             "colorbar": {
              "outlinewidth": 0,
              "ticks": ""
             }
            }
           }
          ],
          "scatterpolar": [
           {
            "type": "scatterpolar",
            "marker": {
             "colorbar": {
              "outlinewidth": 0,
              "ticks": ""
             }
            }
           }
          ],
          "histogram": [
           {
            "marker": {
             "pattern": {
              "fillmode": "overlay",
              "size": 10,
              "solidity": 0.2
             }
            },
            "type": "histogram"
           }
          ],
          "scattergl": [
           {
            "type": "scattergl",
            "marker": {
             "colorbar": {
              "outlinewidth": 0,
              "ticks": ""
             }
            }
           }
          ],
          "scatter3d": [
           {
            "type": "scatter3d",
            "line": {
             "colorbar": {
              "outlinewidth": 0,
              "ticks": ""
             }
            },
            "marker": {
             "colorbar": {
              "outlinewidth": 0,
              "ticks": ""
             }
            }
           }
          ],
          "scattermapbox": [
           {
            "type": "scattermapbox",
            "marker": {
             "colorbar": {
              "outlinewidth": 0,
              "ticks": ""
             }
            }
           }
          ],
          "scatterternary": [
           {
            "type": "scatterternary",
            "marker": {
             "colorbar": {
              "outlinewidth": 0,
              "ticks": ""
             }
            }
           }
          ],
          "scattercarpet": [
           {
            "type": "scattercarpet",
            "marker": {
             "colorbar": {
              "outlinewidth": 0,
              "ticks": ""
             }
            }
           }
          ],
          "carpet": [
           {
            "aaxis": {
             "endlinecolor": "#2a3f5f",
             "gridcolor": "white",
             "linecolor": "white",
             "minorgridcolor": "white",
             "startlinecolor": "#2a3f5f"
            },
            "baxis": {
             "endlinecolor": "#2a3f5f",
             "gridcolor": "white",
             "linecolor": "white",
             "minorgridcolor": "white",
             "startlinecolor": "#2a3f5f"
            },
            "type": "carpet"
           }
          ],
          "table": [
           {
            "cells": {
             "fill": {
              "color": "#EBF0F8"
             },
             "line": {
              "color": "white"
             }
            },
            "header": {
             "fill": {
              "color": "#C8D4E3"
             },
             "line": {
              "color": "white"
             }
            },
            "type": "table"
           }
          ],
          "barpolar": [
           {
            "marker": {
             "line": {
              "color": "#E5ECF6",
              "width": 0.5
             },
             "pattern": {
              "fillmode": "overlay",
              "size": 10,
              "solidity": 0.2
             }
            },
            "type": "barpolar"
           }
          ],
          "pie": [
           {
            "automargin": true,
            "type": "pie"
           }
          ]
         },
         "layout": {
          "autotypenumbers": "strict",
          "colorway": [
           "#636efa",
           "#EF553B",
           "#00cc96",
           "#ab63fa",
           "#FFA15A",
           "#19d3f3",
           "#FF6692",
           "#B6E880",
           "#FF97FF",
           "#FECB52"
          ],
          "font": {
           "color": "#2a3f5f"
          },
          "hovermode": "closest",
          "hoverlabel": {
           "align": "left"
          },
          "paper_bgcolor": "white",
          "plot_bgcolor": "#E5ECF6",
          "polar": {
           "bgcolor": "#E5ECF6",
           "angularaxis": {
            "gridcolor": "white",
            "linecolor": "white",
            "ticks": ""
           },
           "radialaxis": {
            "gridcolor": "white",
            "linecolor": "white",
            "ticks": ""
           }
          },
          "ternary": {
           "bgcolor": "#E5ECF6",
           "aaxis": {
            "gridcolor": "white",
            "linecolor": "white",
            "ticks": ""
           },
           "baxis": {
            "gridcolor": "white",
            "linecolor": "white",
            "ticks": ""
           },
           "caxis": {
            "gridcolor": "white",
            "linecolor": "white",
            "ticks": ""
           }
          },
          "coloraxis": {
           "colorbar": {
            "outlinewidth": 0,
            "ticks": ""
           }
          },
          "colorscale": {
           "sequential": [
            [
             0.0,
             "#0d0887"
            ],
            [
             0.1111111111111111,
             "#46039f"
            ],
            [
             0.2222222222222222,
             "#7201a8"
            ],
            [
             0.3333333333333333,
             "#9c179e"
            ],
            [
             0.4444444444444444,
             "#bd3786"
            ],
            [
             0.5555555555555556,
             "#d8576b"
            ],
            [
             0.6666666666666666,
             "#ed7953"
            ],
            [
             0.7777777777777778,
             "#fb9f3a"
            ],
            [
             0.8888888888888888,
             "#fdca26"
            ],
            [
             1.0,
             "#f0f921"
            ]
           ],
           "sequentialminus": [
            [
             0.0,
             "#0d0887"
            ],
            [
             0.1111111111111111,
             "#46039f"
            ],
            [
             0.2222222222222222,
             "#7201a8"
            ],
            [
             0.3333333333333333,
             "#9c179e"
            ],
            [
             0.4444444444444444,
             "#bd3786"
            ],
            [
             0.5555555555555556,
             "#d8576b"
            ],
            [
             0.6666666666666666,
             "#ed7953"
            ],
            [
             0.7777777777777778,
             "#fb9f3a"
            ],
            [
             0.8888888888888888,
             "#fdca26"
            ],
            [
             1.0,
             "#f0f921"
            ]
           ],
           "diverging": [
            [
             0,
             "#8e0152"
            ],
            [
             0.1,
             "#c51b7d"
            ],
            [
             0.2,
             "#de77ae"
            ],
            [
             0.3,
             "#f1b6da"
            ],
            [
             0.4,
             "#fde0ef"
            ],
            [
             0.5,
             "#f7f7f7"
            ],
            [
             0.6,
             "#e6f5d0"
            ],
            [
             0.7,
             "#b8e186"
            ],
            [
             0.8,
             "#7fbc41"
            ],
            [
             0.9,
             "#4d9221"
            ],
            [
             1,
             "#276419"
            ]
           ]
          },
          "xaxis": {
           "gridcolor": "white",
           "linecolor": "white",
           "ticks": "",
           "title": {
            "standoff": 15
           },
           "zerolinecolor": "white",
           "automargin": true,
           "zerolinewidth": 2
          },
          "yaxis": {
           "gridcolor": "white",
           "linecolor": "white",
           "ticks": "",
           "title": {
            "standoff": 15
           },
           "zerolinecolor": "white",
           "automargin": true,
           "zerolinewidth": 2
          },
          "scene": {
           "xaxis": {
            "backgroundcolor": "#E5ECF6",
            "gridcolor": "white",
            "linecolor": "white",
            "showbackground": true,
            "ticks": "",
            "zerolinecolor": "white",
            "gridwidth": 2
           },
           "yaxis": {
            "backgroundcolor": "#E5ECF6",
            "gridcolor": "white",
            "linecolor": "white",
            "showbackground": true,
            "ticks": "",
            "zerolinecolor": "white",
            "gridwidth": 2
           },
           "zaxis": {
            "backgroundcolor": "#E5ECF6",
            "gridcolor": "white",
            "linecolor": "white",
            "showbackground": true,
            "ticks": "",
            "zerolinecolor": "white",
            "gridwidth": 2
           }
          },
          "shapedefaults": {
           "line": {
            "color": "#2a3f5f"
           }
          },
          "annotationdefaults": {
           "arrowcolor": "#2a3f5f",
           "arrowhead": 0,
           "arrowwidth": 1
          },
          "geo": {
           "bgcolor": "white",
           "landcolor": "#E5ECF6",
           "subunitcolor": "white",
           "showland": true,
           "showlakes": true,
           "lakecolor": "white"
          },
          "title": {
           "x": 0.05
          },
          "mapbox": {
           "style": "light"
          }
         }
        },
        "xaxis": {
         "anchor": "y",
         "domain": [
          0.0,
          1.0
         ],
         "title": {
          "text": "Categorie"
         }
        },
        "yaxis": {
         "anchor": "x",
         "domain": [
          0.0,
          1.0
         ],
         "title": {
          "text": "Emissions [MTCO2]"
         }
        },
        "legend": {
         "title": {
          "text": "Categorie"
         },
         "tracegroupgap": 0
        },
        "title": {
         "text": "Emissions par mode de transport (en MTCO2)"
        },
        "barmode": "relative"
       },
       "config": {
        "plotlyServerURL": "https://plot.ly"
       }
      },
      "text/html": "<div>                            <div id=\"7da8445c-563b-4bbd-b829-f27a1f67b91e\" class=\"plotly-graph-div\" style=\"height:525px; width:100%;\"></div>            <script type=\"text/javascript\">                require([\"plotly\"], function(Plotly) {                    window.PLOTLYENV=window.PLOTLYENV || {};                                    if (document.getElementById(\"7da8445c-563b-4bbd-b829-f27a1f67b91e\")) {                    Plotly.newPlot(                        \"7da8445c-563b-4bbd-b829-f27a1f67b91e\",                        [{\"alignmentgroup\":\"True\",\"hovertemplate\":\"Categorie=Bus et cars GNV<br>class=%{x}<br>emissions=%{y}<extra></extra>\",\"legendgroup\":\"Bus et cars GNV\",\"marker\":{\"color\":\"#f7babb\",\"pattern\":{\"shape\":\"\"}},\"name\":\"Bus et cars GNV\",\"offsetgroup\":\"Bus et cars GNV\",\"orientation\":\"v\",\"showlegend\":true,\"textposition\":\"auto\",\"x\":[1],\"xaxis\":\"x\",\"y\":[6.474523971999976],\"yaxis\":\"y\",\"type\":\"bar\"},{\"alignmentgroup\":\"True\",\"hovertemplate\":\"Categorie=Bus et cars H2<br>class=%{x}<br>emissions=%{y}<extra></extra>\",\"legendgroup\":\"Bus et cars H2\",\"marker\":{\"color\":\"#f18486\",\"pattern\":{\"shape\":\"\"}},\"name\":\"Bus et cars H2\",\"offsetgroup\":\"Bus et cars H2\",\"orientation\":\"v\",\"showlegend\":true,\"textposition\":\"auto\",\"x\":[1],\"xaxis\":\"x\",\"y\":[0.5097329999999862],\"yaxis\":\"y\",\"type\":\"bar\"},{\"alignmentgroup\":\"True\",\"hovertemplate\":\"Categorie=Bus et cars diesel<br>class=%{x}<br>emissions=%{y}<extra></extra>\",\"legendgroup\":\"Bus et cars diesel\",\"marker\":{\"color\":\"#eb4f50\",\"pattern\":{\"shape\":\"\"}},\"name\":\"Bus et cars diesel\",\"offsetgroup\":\"Bus et cars diesel\",\"orientation\":\"v\",\"showlegend\":true,\"textposition\":\"auto\",\"x\":[1],\"xaxis\":\"x\",\"y\":[2395.0243128],\"yaxis\":\"y\",\"type\":\"bar\"},{\"alignmentgroup\":\"True\",\"hovertemplate\":\"Categorie=Bus et cars \\u00e9lectrique<br>class=%{x}<br>emissions=%{y}<extra></extra>\",\"legendgroup\":\"Bus et cars \\u00e9lectrique\",\"marker\":{\"color\":\"#e41a1c\",\"pattern\":{\"shape\":\"\"}},\"name\":\"Bus et cars \\u00e9lectrique\",\"offsetgroup\":\"Bus et cars \\u00e9lectrique\",\"orientation\":\"v\",\"showlegend\":true,\"textposition\":\"auto\",\"x\":[1],\"xaxis\":\"x\",\"y\":[0.2393115524999957],\"yaxis\":\"y\",\"type\":\"bar\"},{\"alignmentgroup\":\"True\",\"hovertemplate\":\"Categorie=Rail long<br>class=%{x}<br>emissions=%{y}<extra></extra>\",\"legendgroup\":\"Rail long\",\"marker\":{\"color\":\"#90bbde\",\"pattern\":{\"shape\":\"\"}},\"name\":\"Rail long\",\"offsetgroup\":\"Rail long\",\"orientation\":\"v\",\"showlegend\":true,\"textposition\":\"auto\",\"x\":[2],\"xaxis\":\"x\",\"y\":[149.40358923724108],\"yaxis\":\"y\",\"type\":\"bar\"},{\"alignmentgroup\":\"True\",\"hovertemplate\":\"Categorie=camion fret H2<br>class=%{x}<br>emissions=%{y}<extra></extra>\",\"legendgroup\":\"camion fret H2\",\"marker\":{\"color\":\"#377eb8\",\"pattern\":{\"shape\":\"\"}},\"name\":\"camion fret H2\",\"offsetgroup\":\"camion fret H2\",\"orientation\":\"v\",\"showlegend\":true,\"textposition\":\"auto\",\"x\":[2],\"xaxis\":\"x\",\"y\":[15.660000000000004],\"yaxis\":\"y\",\"type\":\"bar\"},{\"alignmentgroup\":\"True\",\"hovertemplate\":\"Categorie=Camion fret<br>class=%{x}<br>emissions=%{y}<extra></extra>\",\"legendgroup\":\"Camion fret\",\"marker\":{\"color\":\"#5f9dcf\",\"pattern\":{\"shape\":\"\"}},\"name\":\"Camion fret\",\"offsetgroup\":\"Camion fret\",\"orientation\":\"v\",\"showlegend\":true,\"textposition\":\"auto\",\"x\":[2],\"xaxis\":\"x\",\"y\":[38880.132000000005],\"yaxis\":\"y\",\"type\":\"bar\"},{\"alignmentgroup\":\"True\",\"hovertemplate\":\"Categorie=Rail court<br>class=%{x}<br>emissions=%{y}<extra></extra>\",\"legendgroup\":\"Rail court\",\"marker\":{\"color\":\"#c0d9ec\",\"pattern\":{\"shape\":\"\"}},\"name\":\"Rail court\",\"offsetgroup\":\"Rail court\",\"orientation\":\"v\",\"showlegend\":true,\"textposition\":\"auto\",\"x\":[2],\"xaxis\":\"x\",\"y\":[296.71638454448106],\"yaxis\":\"y\",\"type\":\"bar\"},{\"alignmentgroup\":\"True\",\"hovertemplate\":\"Categorie=VP \\u00e9lectrique<br>class=%{x}<br>emissions=%{y}<extra></extra>\",\"legendgroup\":\"VP \\u00e9lectrique\",\"marker\":{\"color\":\"#984ea3\",\"pattern\":{\"shape\":\"\"}},\"name\":\"VP \\u00e9lectrique\",\"offsetgroup\":\"VP \\u00e9lectrique\",\"orientation\":\"v\",\"showlegend\":true,\"textposition\":\"auto\",\"x\":[3],\"xaxis\":\"x\",\"y\":[17.259923823000253],\"yaxis\":\"y\",\"type\":\"bar\"},{\"alignmentgroup\":\"True\",\"hovertemplate\":\"Categorie=VP fuel<br>class=%{x}<br>emissions=%{y}<extra></extra>\",\"legendgroup\":\"VP fuel\",\"marker\":{\"color\":\"#be89c6\",\"pattern\":{\"shape\":\"\"}},\"name\":\"VP fuel\",\"offsetgroup\":\"VP fuel\",\"orientation\":\"v\",\"showlegend\":true,\"textposition\":\"auto\",\"x\":[3],\"xaxis\":\"x\",\"y\":[62309.702000000005],\"yaxis\":\"y\",\"type\":\"bar\"},{\"alignmentgroup\":\"True\",\"hovertemplate\":\"Categorie=VP GNV<br>class=%{x}<br>emissions=%{y}<extra></extra>\",\"legendgroup\":\"VP GNV\",\"marker\":{\"color\":\"#e1c8e5\",\"pattern\":{\"shape\":\"\"}},\"name\":\"VP GNV\",\"offsetgroup\":\"VP GNV\",\"orientation\":\"v\",\"showlegend\":true,\"textposition\":\"auto\",\"x\":[3],\"xaxis\":\"x\",\"y\":[86.89684683333373],\"yaxis\":\"y\",\"type\":\"bar\"},{\"alignmentgroup\":\"True\",\"hovertemplate\":\"Categorie=VUL \\u00e9lectrique<br>class=%{x}<br>emissions=%{y}<extra></extra>\",\"legendgroup\":\"VUL \\u00e9lectrique\",\"marker\":{\"color\":\"#ff7f00\",\"pattern\":{\"shape\":\"\"}},\"name\":\"VUL \\u00e9lectrique\",\"offsetgroup\":\"VUL \\u00e9lectrique\",\"orientation\":\"v\",\"showlegend\":true,\"textposition\":\"auto\",\"x\":[4],\"xaxis\":\"x\",\"y\":[2.499980527668066],\"yaxis\":\"y\",\"type\":\"bar\"},{\"alignmentgroup\":\"True\",\"hovertemplate\":\"Categorie=VUL GNV<br>class=%{x}<br>emissions=%{y}<extra></extra>\",\"legendgroup\":\"VUL GNV\",\"marker\":{\"color\":\"#ffd9b2\",\"pattern\":{\"shape\":\"\"}},\"name\":\"VUL GNV\",\"offsetgroup\":\"VUL GNV\",\"orientation\":\"v\",\"showlegend\":true,\"textposition\":\"auto\",\"x\":[4],\"xaxis\":\"x\",\"y\":[464.4595579916101],\"yaxis\":\"y\",\"type\":\"bar\"},{\"alignmentgroup\":\"True\",\"hovertemplate\":\"Categorie=VUL fuel<br>class=%{x}<br>emissions=%{y}<extra></extra>\",\"legendgroup\":\"VUL fuel\",\"marker\":{\"color\":\"#ffac59\",\"pattern\":{\"shape\":\"\"}},\"name\":\"VUL fuel\",\"offsetgroup\":\"VUL fuel\",\"orientation\":\"v\",\"showlegend\":true,\"textposition\":\"auto\",\"x\":[4],\"xaxis\":\"x\",\"y\":[19821.435221298478],\"yaxis\":\"y\",\"type\":\"bar\"},{\"alignmentgroup\":\"True\",\"hovertemplate\":\"Categorie=aerien_outre_mer<br>class=%{x}<br>emissions=%{y}<extra></extra>\",\"legendgroup\":\"aerien_outre_mer\",\"marker\":{\"color\":\"#a65628\",\"pattern\":{\"shape\":\"\"}},\"name\":\"aerien_outre_mer\",\"offsetgroup\":\"aerien_outre_mer\",\"orientation\":\"v\",\"showlegend\":true,\"textposition\":\"auto\",\"x\":[5],\"xaxis\":\"x\",\"y\":[1696.5002133333337],\"yaxis\":\"y\",\"type\":\"bar\"},{\"alignmentgroup\":\"True\",\"hovertemplate\":\"Categorie=aerien_interne<br>class=%{x}<br>emissions=%{y}<extra></extra>\",\"legendgroup\":\"aerien_interne\",\"marker\":{\"color\":\"#d98c60\",\"pattern\":{\"shape\":\"\"}},\"name\":\"aerien_interne\",\"offsetgroup\":\"aerien_interne\",\"orientation\":\"v\",\"showlegend\":true,\"textposition\":\"auto\",\"x\":[5],\"xaxis\":\"x\",\"y\":[971.1044928000002],\"yaxis\":\"y\",\"type\":\"bar\"},{\"alignmentgroup\":\"True\",\"hovertemplate\":\"Categorie=aerien_international<br>class=%{x}<br>emissions=%{y}<extra></extra>\",\"legendgroup\":\"aerien_international\",\"marker\":{\"color\":\"#edcab6\",\"pattern\":{\"shape\":\"\"}},\"name\":\"aerien_international\",\"offsetgroup\":\"aerien_international\",\"orientation\":\"v\",\"showlegend\":true,\"textposition\":\"auto\",\"x\":[5],\"xaxis\":\"x\",\"y\":[18378.752311111115],\"yaxis\":\"y\",\"type\":\"bar\"},{\"alignmentgroup\":\"True\",\"hovertemplate\":\"Categorie=deux roues \\u00e9lectrique<br>class=%{x}<br>emissions=%{y}<extra></extra>\",\"legendgroup\":\"deux roues \\u00e9lectrique\",\"marker\":{\"color\":\"#f781bf\",\"pattern\":{\"shape\":\"\"}},\"name\":\"deux roues \\u00e9lectrique\",\"offsetgroup\":\"deux roues \\u00e9lectrique\",\"orientation\":\"v\",\"showlegend\":true,\"textposition\":\"auto\",\"x\":[6],\"xaxis\":\"x\",\"y\":[1.1339535216319296],\"yaxis\":\"y\",\"type\":\"bar\"},{\"alignmentgroup\":\"True\",\"hovertemplate\":\"Categorie=deux roues diesel<br>class=%{x}<br>emissions=%{y}<extra></extra>\",\"legendgroup\":\"deux roues diesel\",\"marker\":{\"color\":\"#fdd9ec\",\"pattern\":{\"shape\":\"\"}},\"name\":\"deux roues diesel\",\"offsetgroup\":\"deux roues diesel\",\"orientation\":\"v\",\"showlegend\":true,\"textposition\":\"auto\",\"x\":[6],\"xaxis\":\"x\",\"y\":[1410.853465346535],\"yaxis\":\"y\",\"type\":\"bar\"},{\"alignmentgroup\":\"True\",\"hovertemplate\":\"Categorie=Train fret<br>class=%{x}<br>emissions=%{y}<extra></extra>\",\"legendgroup\":\"Train fret\",\"marker\":{\"color\":\"#999999\",\"pattern\":{\"shape\":\"\"}},\"name\":\"Train fret\",\"offsetgroup\":\"Train fret\",\"orientation\":\"v\",\"showlegend\":true,\"textposition\":\"auto\",\"x\":[7],\"xaxis\":\"x\",\"y\":[93.27792000000001],\"yaxis\":\"y\",\"type\":\"bar\"},{\"alignmentgroup\":\"True\",\"hovertemplate\":\"Categorie=Bateau fret  international<br>class=%{x}<br>emissions=%{y}<extra></extra>\",\"legendgroup\":\"Bateau fret  international\",\"marker\":{\"color\":\"#bdbdbd\",\"pattern\":{\"shape\":\"\"}},\"name\":\"Bateau fret  international\",\"offsetgroup\":\"Bateau fret  international\",\"orientation\":\"v\",\"showlegend\":true,\"textposition\":\"auto\",\"x\":[7],\"xaxis\":\"x\",\"y\":[1115.545857377778],\"yaxis\":\"y\",\"type\":\"bar\"},{\"alignmentgroup\":\"True\",\"hovertemplate\":\"Categorie=Avion fret  international<br>class=%{x}<br>emissions=%{y}<extra></extra>\",\"legendgroup\":\"Avion fret  international\",\"marker\":{\"color\":\"#e0e0e0\",\"pattern\":{\"shape\":\"\"}},\"name\":\"Avion fret  international\",\"offsetgroup\":\"Avion fret  international\",\"orientation\":\"v\",\"showlegend\":true,\"textposition\":\"auto\",\"x\":[7],\"xaxis\":\"x\",\"y\":[7645.955193333334],\"yaxis\":\"y\",\"type\":\"bar\"}],                        {\"template\":{\"data\":{\"histogram2dcontour\":[{\"type\":\"histogram2dcontour\",\"colorbar\":{\"outlinewidth\":0,\"ticks\":\"\"},\"colorscale\":[[0.0,\"#0d0887\"],[0.1111111111111111,\"#46039f\"],[0.2222222222222222,\"#7201a8\"],[0.3333333333333333,\"#9c179e\"],[0.4444444444444444,\"#bd3786\"],[0.5555555555555556,\"#d8576b\"],[0.6666666666666666,\"#ed7953\"],[0.7777777777777778,\"#fb9f3a\"],[0.8888888888888888,\"#fdca26\"],[1.0,\"#f0f921\"]]}],\"choropleth\":[{\"type\":\"choropleth\",\"colorbar\":{\"outlinewidth\":0,\"ticks\":\"\"}}],\"histogram2d\":[{\"type\":\"histogram2d\",\"colorbar\":{\"outlinewidth\":0,\"ticks\":\"\"},\"colorscale\":[[0.0,\"#0d0887\"],[0.1111111111111111,\"#46039f\"],[0.2222222222222222,\"#7201a8\"],[0.3333333333333333,\"#9c179e\"],[0.4444444444444444,\"#bd3786\"],[0.5555555555555556,\"#d8576b\"],[0.6666666666666666,\"#ed7953\"],[0.7777777777777778,\"#fb9f3a\"],[0.8888888888888888,\"#fdca26\"],[1.0,\"#f0f921\"]]}],\"heatmap\":[{\"type\":\"heatmap\",\"colorbar\":{\"outlinewidth\":0,\"ticks\":\"\"},\"colorscale\":[[0.0,\"#0d0887\"],[0.1111111111111111,\"#46039f\"],[0.2222222222222222,\"#7201a8\"],[0.3333333333333333,\"#9c179e\"],[0.4444444444444444,\"#bd3786\"],[0.5555555555555556,\"#d8576b\"],[0.6666666666666666,\"#ed7953\"],[0.7777777777777778,\"#fb9f3a\"],[0.8888888888888888,\"#fdca26\"],[1.0,\"#f0f921\"]]}],\"heatmapgl\":[{\"type\":\"heatmapgl\",\"colorbar\":{\"outlinewidth\":0,\"ticks\":\"\"},\"colorscale\":[[0.0,\"#0d0887\"],[0.1111111111111111,\"#46039f\"],[0.2222222222222222,\"#7201a8\"],[0.3333333333333333,\"#9c179e\"],[0.4444444444444444,\"#bd3786\"],[0.5555555555555556,\"#d8576b\"],[0.6666666666666666,\"#ed7953\"],[0.7777777777777778,\"#fb9f3a\"],[0.8888888888888888,\"#fdca26\"],[1.0,\"#f0f921\"]]}],\"contourcarpet\":[{\"type\":\"contourcarpet\",\"colorbar\":{\"outlinewidth\":0,\"ticks\":\"\"}}],\"contour\":[{\"type\":\"contour\",\"colorbar\":{\"outlinewidth\":0,\"ticks\":\"\"},\"colorscale\":[[0.0,\"#0d0887\"],[0.1111111111111111,\"#46039f\"],[0.2222222222222222,\"#7201a8\"],[0.3333333333333333,\"#9c179e\"],[0.4444444444444444,\"#bd3786\"],[0.5555555555555556,\"#d8576b\"],[0.6666666666666666,\"#ed7953\"],[0.7777777777777778,\"#fb9f3a\"],[0.8888888888888888,\"#fdca26\"],[1.0,\"#f0f921\"]]}],\"surface\":[{\"type\":\"surface\",\"colorbar\":{\"outlinewidth\":0,\"ticks\":\"\"},\"colorscale\":[[0.0,\"#0d0887\"],[0.1111111111111111,\"#46039f\"],[0.2222222222222222,\"#7201a8\"],[0.3333333333333333,\"#9c179e\"],[0.4444444444444444,\"#bd3786\"],[0.5555555555555556,\"#d8576b\"],[0.6666666666666666,\"#ed7953\"],[0.7777777777777778,\"#fb9f3a\"],[0.8888888888888888,\"#fdca26\"],[1.0,\"#f0f921\"]]}],\"mesh3d\":[{\"type\":\"mesh3d\",\"colorbar\":{\"outlinewidth\":0,\"ticks\":\"\"}}],\"scatter\":[{\"fillpattern\":{\"fillmode\":\"overlay\",\"size\":10,\"solidity\":0.2},\"type\":\"scatter\"}],\"parcoords\":[{\"type\":\"parcoords\",\"line\":{\"colorbar\":{\"outlinewidth\":0,\"ticks\":\"\"}}}],\"scatterpolargl\":[{\"type\":\"scatterpolargl\",\"marker\":{\"colorbar\":{\"outlinewidth\":0,\"ticks\":\"\"}}}],\"bar\":[{\"error_x\":{\"color\":\"#2a3f5f\"},\"error_y\":{\"color\":\"#2a3f5f\"},\"marker\":{\"line\":{\"color\":\"#E5ECF6\",\"width\":0.5},\"pattern\":{\"fillmode\":\"overlay\",\"size\":10,\"solidity\":0.2}},\"type\":\"bar\"}],\"scattergeo\":[{\"type\":\"scattergeo\",\"marker\":{\"colorbar\":{\"outlinewidth\":0,\"ticks\":\"\"}}}],\"scatterpolar\":[{\"type\":\"scatterpolar\",\"marker\":{\"colorbar\":{\"outlinewidth\":0,\"ticks\":\"\"}}}],\"histogram\":[{\"marker\":{\"pattern\":{\"fillmode\":\"overlay\",\"size\":10,\"solidity\":0.2}},\"type\":\"histogram\"}],\"scattergl\":[{\"type\":\"scattergl\",\"marker\":{\"colorbar\":{\"outlinewidth\":0,\"ticks\":\"\"}}}],\"scatter3d\":[{\"type\":\"scatter3d\",\"line\":{\"colorbar\":{\"outlinewidth\":0,\"ticks\":\"\"}},\"marker\":{\"colorbar\":{\"outlinewidth\":0,\"ticks\":\"\"}}}],\"scattermapbox\":[{\"type\":\"scattermapbox\",\"marker\":{\"colorbar\":{\"outlinewidth\":0,\"ticks\":\"\"}}}],\"scatterternary\":[{\"type\":\"scatterternary\",\"marker\":{\"colorbar\":{\"outlinewidth\":0,\"ticks\":\"\"}}}],\"scattercarpet\":[{\"type\":\"scattercarpet\",\"marker\":{\"colorbar\":{\"outlinewidth\":0,\"ticks\":\"\"}}}],\"carpet\":[{\"aaxis\":{\"endlinecolor\":\"#2a3f5f\",\"gridcolor\":\"white\",\"linecolor\":\"white\",\"minorgridcolor\":\"white\",\"startlinecolor\":\"#2a3f5f\"},\"baxis\":{\"endlinecolor\":\"#2a3f5f\",\"gridcolor\":\"white\",\"linecolor\":\"white\",\"minorgridcolor\":\"white\",\"startlinecolor\":\"#2a3f5f\"},\"type\":\"carpet\"}],\"table\":[{\"cells\":{\"fill\":{\"color\":\"#EBF0F8\"},\"line\":{\"color\":\"white\"}},\"header\":{\"fill\":{\"color\":\"#C8D4E3\"},\"line\":{\"color\":\"white\"}},\"type\":\"table\"}],\"barpolar\":[{\"marker\":{\"line\":{\"color\":\"#E5ECF6\",\"width\":0.5},\"pattern\":{\"fillmode\":\"overlay\",\"size\":10,\"solidity\":0.2}},\"type\":\"barpolar\"}],\"pie\":[{\"automargin\":true,\"type\":\"pie\"}]},\"layout\":{\"autotypenumbers\":\"strict\",\"colorway\":[\"#636efa\",\"#EF553B\",\"#00cc96\",\"#ab63fa\",\"#FFA15A\",\"#19d3f3\",\"#FF6692\",\"#B6E880\",\"#FF97FF\",\"#FECB52\"],\"font\":{\"color\":\"#2a3f5f\"},\"hovermode\":\"closest\",\"hoverlabel\":{\"align\":\"left\"},\"paper_bgcolor\":\"white\",\"plot_bgcolor\":\"#E5ECF6\",\"polar\":{\"bgcolor\":\"#E5ECF6\",\"angularaxis\":{\"gridcolor\":\"white\",\"linecolor\":\"white\",\"ticks\":\"\"},\"radialaxis\":{\"gridcolor\":\"white\",\"linecolor\":\"white\",\"ticks\":\"\"}},\"ternary\":{\"bgcolor\":\"#E5ECF6\",\"aaxis\":{\"gridcolor\":\"white\",\"linecolor\":\"white\",\"ticks\":\"\"},\"baxis\":{\"gridcolor\":\"white\",\"linecolor\":\"white\",\"ticks\":\"\"},\"caxis\":{\"gridcolor\":\"white\",\"linecolor\":\"white\",\"ticks\":\"\"}},\"coloraxis\":{\"colorbar\":{\"outlinewidth\":0,\"ticks\":\"\"}},\"colorscale\":{\"sequential\":[[0.0,\"#0d0887\"],[0.1111111111111111,\"#46039f\"],[0.2222222222222222,\"#7201a8\"],[0.3333333333333333,\"#9c179e\"],[0.4444444444444444,\"#bd3786\"],[0.5555555555555556,\"#d8576b\"],[0.6666666666666666,\"#ed7953\"],[0.7777777777777778,\"#fb9f3a\"],[0.8888888888888888,\"#fdca26\"],[1.0,\"#f0f921\"]],\"sequentialminus\":[[0.0,\"#0d0887\"],[0.1111111111111111,\"#46039f\"],[0.2222222222222222,\"#7201a8\"],[0.3333333333333333,\"#9c179e\"],[0.4444444444444444,\"#bd3786\"],[0.5555555555555556,\"#d8576b\"],[0.6666666666666666,\"#ed7953\"],[0.7777777777777778,\"#fb9f3a\"],[0.8888888888888888,\"#fdca26\"],[1.0,\"#f0f921\"]],\"diverging\":[[0,\"#8e0152\"],[0.1,\"#c51b7d\"],[0.2,\"#de77ae\"],[0.3,\"#f1b6da\"],[0.4,\"#fde0ef\"],[0.5,\"#f7f7f7\"],[0.6,\"#e6f5d0\"],[0.7,\"#b8e186\"],[0.8,\"#7fbc41\"],[0.9,\"#4d9221\"],[1,\"#276419\"]]},\"xaxis\":{\"gridcolor\":\"white\",\"linecolor\":\"white\",\"ticks\":\"\",\"title\":{\"standoff\":15},\"zerolinecolor\":\"white\",\"automargin\":true,\"zerolinewidth\":2},\"yaxis\":{\"gridcolor\":\"white\",\"linecolor\":\"white\",\"ticks\":\"\",\"title\":{\"standoff\":15},\"zerolinecolor\":\"white\",\"automargin\":true,\"zerolinewidth\":2},\"scene\":{\"xaxis\":{\"backgroundcolor\":\"#E5ECF6\",\"gridcolor\":\"white\",\"linecolor\":\"white\",\"showbackground\":true,\"ticks\":\"\",\"zerolinecolor\":\"white\",\"gridwidth\":2},\"yaxis\":{\"backgroundcolor\":\"#E5ECF6\",\"gridcolor\":\"white\",\"linecolor\":\"white\",\"showbackground\":true,\"ticks\":\"\",\"zerolinecolor\":\"white\",\"gridwidth\":2},\"zaxis\":{\"backgroundcolor\":\"#E5ECF6\",\"gridcolor\":\"white\",\"linecolor\":\"white\",\"showbackground\":true,\"ticks\":\"\",\"zerolinecolor\":\"white\",\"gridwidth\":2}},\"shapedefaults\":{\"line\":{\"color\":\"#2a3f5f\"}},\"annotationdefaults\":{\"arrowcolor\":\"#2a3f5f\",\"arrowhead\":0,\"arrowwidth\":1},\"geo\":{\"bgcolor\":\"white\",\"landcolor\":\"#E5ECF6\",\"subunitcolor\":\"white\",\"showland\":true,\"showlakes\":true,\"lakecolor\":\"white\"},\"title\":{\"x\":0.05},\"mapbox\":{\"style\":\"light\"}}},\"xaxis\":{\"anchor\":\"y\",\"domain\":[0.0,1.0],\"title\":{\"text\":\"Categorie\"}},\"yaxis\":{\"anchor\":\"x\",\"domain\":[0.0,1.0],\"title\":{\"text\":\"Emissions [MTCO2]\"}},\"legend\":{\"title\":{\"text\":\"Categorie\"},\"tracegroupgap\":0},\"title\":{\"text\":\"Emissions par mode de transport (en MTCO2)\"},\"barmode\":\"relative\"},                        {\"responsive\": true}                    ).then(function(){\n                            \nvar gd = document.getElementById('7da8445c-563b-4bbd-b829-f27a1f67b91e');\nvar x = new MutationObserver(function (mutations, observer) {{\n        var display = window.getComputedStyle(gd).display;\n        if (!display || display === 'none') {{\n            console.log([gd, 'removed!']);\n            Plotly.purge(gd);\n            observer.disconnect();\n        }}\n}});\n\n// Listen for the removal of the full notebook cells\nvar notebookContainer = gd.closest('#notebook-container');\nif (notebookContainer) {{\n    x.observe(notebookContainer, {childList: true});\n}}\n\n// Listen for the clearing of the current output cell\nvar outputEl = gd.closest('.output');\nif (outputEl) {{\n    x.observe(outputEl, {childList: true});\n}}\n\n                        })                };                });            </script>        </div>"
     },
     "metadata": {},
     "output_type": "display_data"
    }
   ],
   "source": [
    "Var = \"emissions\"\n",
    "y_df = sim_stock_df.loc[(2021,slice(None),slice(None))].groupby([Energy_system_name])[Var].sum().to_frame().reset_index()\n",
    "#y_df.loc[:,\"Categorie\"]=pd.MultiIndex.from_tuples([(str(col_class_dict[key]),key) for key in y_df.Categorie])\n",
    "color_dict = gen_grouped_color_map(col_class_dict)\n",
    "y_df[\"class\"]=[col_class_dict[cat] for cat in y_df[\"Categorie\"]]\n",
    "y_df=y_df.sort_values(by=['class'])\n",
    "fig = px.bar(y_df,x=\"class\", y=Var, color=\"Categorie\", title=\"Wide-Form Input\",color_discrete_map=color_dict)\n",
    "fig=fig.update_layout(title_text=\"Emissions par mode de transport (en MTCO2)\", xaxis_title=\"Categorie\",yaxis_title=\"Emissions [MTCO2]\")\n",
    "fig.show()"
   ],
   "metadata": {
    "collapsed": false,
    "pycharm": {
     "name": "#%%\n"
    }
   }
  },
  {
   "cell_type": "markdown",
   "metadata": {
    "pycharm": {
     "name": "#%% md\n"
    }
   },
   "source": [
    "### 4.2 Résultats de la simulation prospective <a class=\"anchor\" id=\"prospective\"></a>"
   ]
  },
  {
   "cell_type": "code",
   "execution_count": 37,
   "metadata": {
    "pycharm": {
     "name": "#%%\n"
    }
   },
   "outputs": [
    {
     "data": {
      "application/vnd.plotly.v1+json": {
       "data": [
        {
         "fill": "tozeroy",
         "fillcolor": "#f7babb",
         "mode": "none",
         "name": "1_Bus et cars GNV",
         "x": [
          2021,
          2022,
          2023,
          2024,
          2025,
          2026,
          2027,
          2028,
          2029,
          2030,
          2031,
          2032,
          2033,
          2034,
          2035,
          2036,
          2037,
          2038,
          2039,
          2040,
          2041,
          2042,
          2043,
          2044,
          2045,
          2046,
          2047,
          2048,
          2049
         ],
         "y": [
          0.029854859999999886,
          0.033949719999999774,
          0.08581794666666645,
          0.13768617333333316,
          0.18955439999999982,
          0.2714515999999999,
          0.35334879999999996,
          0.43524599999999997,
          0.5171432,
          0.5990404,
          0.7136964800000001,
          0.82835256,
          0.9430086400000001,
          1.0576647199999998,
          1.1723207999999998,
          1.2214591199999998,
          1.2705974399999997,
          1.31973576,
          1.36887408,
          1.4180123999999998,
          1.4507712799999997,
          1.4835301599999995,
          1.5162890399999998,
          1.5490479199999998,
          1.5818067999999994,
          1.5981862399999998,
          1.61456568,
          1.6309451199999998,
          1.64732456
         ],
         "type": "scatter"
        },
        {
         "fill": "tonexty",
         "fillcolor": "#f18486",
         "mode": "none",
         "name": "1_Bus et cars H2",
         "x": [
          2021,
          2022,
          2023,
          2024,
          2025,
          2026,
          2027,
          2028,
          2029,
          2030,
          2031,
          2032,
          2033,
          2034,
          2035,
          2036,
          2037,
          2038,
          2039,
          2040,
          2041,
          2042,
          2043,
          2044,
          2045,
          2046,
          2047,
          2048,
          2049
         ],
         "y": [
          0.03424910999999976,
          0.042738219999999535,
          0.15026694666666623,
          0.257795673333333,
          0.3653243999999996,
          0.5351065999999998,
          0.7048887999999999,
          0.874671,
          1.0444532,
          1.2142354000000002,
          1.4519304800000001,
          1.68962556,
          1.92732064,
          2.1650157199999995,
          2.4027108,
          2.50458012,
          2.60644944,
          2.70831876,
          2.8101880800000005,
          2.9120574,
          2.97997028,
          3.0478831599999996,
          3.1157960399999993,
          3.18370892,
          3.2516217999999997,
          3.2855782399999995,
          3.3195346799999994,
          3.3534911199999997,
          3.3874475599999996
         ],
         "type": "scatter"
        },
        {
         "fill": "tonexty",
         "fillcolor": "#eb4f50",
         "mode": "none",
         "name": "1_Bus et cars diesel",
         "x": [
          2021,
          2022,
          2023,
          2024,
          2025,
          2026,
          2027,
          2028,
          2029,
          2030,
          2031,
          2032,
          2033,
          2034,
          2035,
          2036,
          2037,
          2038,
          2039,
          2040,
          2041,
          2042,
          2043,
          2044,
          2045,
          2046,
          2047,
          2048,
          2049
         ],
         "y": [
          9.255338609999999,
          9.24071722,
          9.055512946666667,
          8.870308673333334,
          8.6851044,
          8.392676600000001,
          8.100248800000001,
          7.807821,
          7.5153932,
          7.2229654,
          6.81356648,
          6.404167559999999,
          5.99476864,
          5.58536972,
          5.1759708,
          5.00051412,
          4.825057439999999,
          4.649600759999999,
          4.47414408,
          4.2986874,
          4.18171628,
          4.064745159999999,
          3.9477740399999997,
          3.83080292,
          3.7138318,
          3.6553462399999996,
          3.5968606799999994,
          3.5383751199999995,
          3.4798895599999997
         ],
         "type": "scatter"
        },
        {
         "fill": "tonexty",
         "fillcolor": "#e41a1c",
         "mode": "none",
         "name": "1_Bus et cars électrique",
         "x": [
          2021,
          2022,
          2023,
          2024,
          2025,
          2026,
          2027,
          2028,
          2029,
          2030,
          2031,
          2032,
          2033,
          2034,
          2035,
          2036,
          2037,
          2038,
          2039,
          2040,
          2041,
          2042,
          2043,
          2044,
          2045,
          2046,
          2047,
          2048,
          2049
         ],
         "y": [
          9.259464671249999,
          9.2475893425,
          9.097168511666666,
          8.946747680833333,
          8.79632685,
          8.558820275000002,
          8.321313700000001,
          8.083807125,
          7.8463005500000005,
          7.608793974999999,
          7.27628477,
          6.943775564999999,
          6.61126636,
          6.278757155,
          5.94624795,
          5.803744005,
          5.661240059999999,
          5.518736114999999,
          5.37623217,
          5.233728225,
          5.1387255949999995,
          5.043722964999999,
          4.948720334999999,
          4.853717704999999,
          4.758715075,
          4.71121376,
          4.663712444999999,
          4.616211129999999,
          4.568709815
         ],
         "type": "scatter"
        },
        {
         "fill": "tonexty",
         "fillcolor": "#c0d9ec",
         "mode": "none",
         "name": "2_Camion fret",
         "x": [
          2021,
          2022,
          2023,
          2024,
          2025,
          2026,
          2027,
          2028,
          2029,
          2030,
          2031,
          2032,
          2033,
          2034,
          2035,
          2036,
          2037,
          2038,
          2039,
          2040,
          2041,
          2042,
          2043,
          2044,
          2045,
          2046,
          2047,
          2048,
          2049
         ],
         "y": [
          158.95196467124998,
          158.63258934249998,
          154.58716851166668,
          150.54174768083334,
          146.49632685,
          140.10882027500003,
          133.7213137,
          127.33380712499999,
          120.94630054999999,
          114.558793975,
          105.61628477000001,
          96.673775565,
          87.73126636,
          78.788757155,
          69.84624795,
          66.013744005,
          62.18124006,
          58.348736114999994,
          54.516232170000016,
          50.683728225,
          48.128725595,
          45.573722965,
          43.01872033500001,
          40.463717705000015,
          37.90871507500001,
          36.63121376000001,
          35.353712445000006,
          34.07621113,
          32.798709814999995
         ],
         "type": "scatter"
        },
        {
         "fill": "tonexty",
         "fillcolor": "#90bbde",
         "mode": "none",
         "name": "2_Rail court",
         "x": [
          2021,
          2022,
          2023,
          2024,
          2025,
          2026,
          2027,
          2028,
          2029,
          2030,
          2031,
          2032,
          2033,
          2034,
          2035,
          2036,
          2037,
          2038,
          2039,
          2040,
          2041,
          2042,
          2043,
          2044,
          2045,
          2046,
          2047,
          2048,
          2049
         ],
         "y": [
          164.06776440477552,
          163.76140061386306,
          159.8807925956387,
          156.0001845774143,
          152.11957655918988,
          145.99230074094086,
          139.8650249226918,
          133.73774910444274,
          127.61047328619367,
          121.48319746794463,
          112.90501132239596,
          104.3268251768473,
          95.74863903129862,
          87.17045288574995,
          78.59226674020128,
          74.91590124925185,
          71.23953575830242,
          67.56317026735297,
          63.88680477640357,
          60.21043928545413,
          57.759528958154505,
          55.30861863085488,
          52.85770830355527,
          50.40679797625565,
          47.95588764895603,
          46.73043248530622,
          45.504977321656405,
          44.279522158006586,
          43.05406699435677
         ],
         "type": "scatter"
        },
        {
         "fill": "tonexty",
         "fillcolor": "#5f9dcf",
         "mode": "none",
         "name": "2_Rail long",
         "x": [
          2021,
          2022,
          2023,
          2024,
          2025,
          2026,
          2027,
          2028,
          2029,
          2030,
          2031,
          2032,
          2033,
          2034,
          2035,
          2036,
          2037,
          2038,
          2039,
          2040,
          2041,
          2042,
          2043,
          2044,
          2045,
          2046,
          2047,
          2048,
          2049
         ],
         "y": [
          166.64368835714174,
          166.3373929607552,
          162.4576512731925,
          158.57790958562978,
          154.69816789806703,
          148.57225997033643,
          142.44635204260578,
          136.32044411487516,
          130.1945361871445,
          124.06862825941391,
          115.49235716059104,
          106.91608606176815,
          98.33981496294528,
          89.76354386412241,
          81.18727276529953,
          77.51172800866115,
          73.83618325202278,
          70.16063849538439,
          66.48509373874603,
          62.80954898210765,
          60.359185811015394,
          57.90882263992314,
          55.4584594688309,
          53.00809629773865,
          50.5577331266464,
          49.33255154110027,
          48.10736995555414,
          46.88218837000801,
          45.657006784461885
         ],
         "type": "scatter"
        },
        {
         "fill": "tonexty",
         "fillcolor": "#377eb8",
         "mode": "none",
         "name": "2_camion fret H2",
         "x": [
          2021,
          2022,
          2023,
          2024,
          2025,
          2026,
          2027,
          2028,
          2029,
          2030,
          2031,
          2032,
          2033,
          2034,
          2035,
          2036,
          2037,
          2038,
          2039,
          2040,
          2041,
          2042,
          2043,
          2044,
          2045,
          2046,
          2047,
          2048,
          2049
         ],
         "y": [
          166.77868835714173,
          166.60739296075522,
          164.4376512731925,
          162.26790958562978,
          160.098167898067,
          156.67225997033643,
          153.2463520426058,
          149.82044411487516,
          146.39453618714452,
          142.96862825941392,
          138.17235716059102,
          133.37608606176818,
          128.57981496294528,
          123.78354386412241,
          118.98727276529954,
          116.93172800866115,
          114.87618325202277,
          112.8206384953844,
          110.76509373874605,
          108.70954898210766,
          107.3391858110154,
          105.96882263992316,
          104.59845946883091,
          103.22809629773865,
          101.85773312664641,
          101.17255154110026,
          100.48736995555414,
          99.80218837000801,
          99.11700678446189
         ],
         "type": "scatter"
        },
        {
         "fill": "tonexty",
         "fillcolor": "#e1c8e5",
         "mode": "none",
         "name": "3_VP GNV",
         "x": [
          2021,
          2022,
          2023,
          2024,
          2025,
          2026,
          2027,
          2028,
          2029,
          2030,
          2031,
          2032,
          2033,
          2034,
          2035,
          2036,
          2037,
          2038,
          2039,
          2040,
          2041,
          2042,
          2043,
          2044,
          2045,
          2046,
          2047,
          2048,
          2049
         ],
         "y": [
          167.17938085714172,
          167.06211129408857,
          165.57669682874806,
          164.09128236340757,
          162.60586789806703,
          160.2604766370031,
          157.91508537593913,
          155.56969411487515,
          153.2243028538112,
          150.87891159274727,
          147.5953638272577,
          144.31181606176818,
          141.0282682962786,
          137.74472053078907,
          134.46117276529952,
          133.05393800866116,
          131.64670325202277,
          130.23946849538441,
          128.83223373874605,
          127.42499898210767,
          126.48684247768207,
          125.5486859732565,
          124.61052946883092,
          123.67237296440533,
          122.73421645997975,
          122.26513820776694,
          121.79605995555414,
          121.32698170334135,
          120.85790345112855
         ],
         "type": "scatter"
        },
        {
         "fill": "tonexty",
         "fillcolor": "#be89c6",
         "mode": "none",
         "name": "3_VP fuel",
         "x": [
          2021,
          2022,
          2023,
          2024,
          2025,
          2026,
          2027,
          2028,
          2029,
          2030,
          2031,
          2032,
          2033,
          2034,
          2035,
          2036,
          2037,
          2038,
          2039,
          2040,
          2041,
          2042,
          2043,
          2044,
          2045,
          2046,
          2047,
          2048,
          2049
         ],
         "y": [
          407.07813085714173,
          406.3596112940885,
          397.25836349541476,
          388.15711569674085,
          379.05586789806694,
          364.6854766370031,
          350.3150853759391,
          335.9446941148751,
          321.5743028538111,
          307.2039115927472,
          287.08536382725765,
          266.9668160617681,
          246.84826829627855,
          226.72972053078902,
          206.61117276529947,
          197.98893800866108,
          189.36670325202272,
          180.7444684953843,
          172.122233738746,
          163.4999989821076,
          157.75184247768198,
          152.00368597325644,
          146.25552946883087,
          140.50737296440525,
          134.75921645997968,
          131.8851382077669,
          129.0110599555541,
          126.13698170334126,
          123.26290345112848
         ],
         "type": "scatter"
        },
        {
         "fill": "tonexty",
         "fillcolor": "#984ea3",
         "mode": "none",
         "name": "3_VP électrique",
         "x": [
          2021,
          2022,
          2023,
          2024,
          2025,
          2026,
          2027,
          2028,
          2029,
          2030,
          2031,
          2032,
          2033,
          2034,
          2035,
          2036,
          2037,
          2038,
          2039,
          2040,
          2041,
          2042,
          2043,
          2044,
          2045,
          2046,
          2047,
          2048,
          2049
         ],
         "y": [
          407.37571575064175,
          406.7903550810885,
          399.3757866000814,
          391.9612181190742,
          384.5466496380669,
          372.8394362470031,
          361.1322228559391,
          349.42500946487513,
          337.71779607381114,
          326.0105826827472,
          309.62048393525765,
          293.2303851877681,
          276.84028644027853,
          260.45018769278903,
          244.0600889452995,
          237.0357609106611,
          230.01143287602275,
          222.98710484138434,
          215.96277680674598,
          208.93844877210762,
          204.255563415682,
          199.57267805925642,
          194.88979270283087,
          190.20690734640527,
          185.5240219899797,
          183.1825793117669,
          180.8411366335541,
          178.4996939553413,
          176.1582512771285
         ],
         "type": "scatter"
        },
        {
         "fill": "tonexty",
         "fillcolor": "#ffd9b2",
         "mode": "none",
         "name": "4_VUL GNV",
         "x": [
          2021,
          2022,
          2023,
          2024,
          2025,
          2026,
          2027,
          2028,
          2029,
          2030,
          2031,
          2032,
          2033,
          2034,
          2035,
          2036,
          2037,
          2038,
          2039,
          2040,
          2041,
          2042,
          2043,
          2044,
          2045,
          2046,
          2047,
          2048,
          2049
         ],
         "y": [
          409.51739831131624,
          408.94872020243747,
          401.74546415664076,
          394.5422081108439,
          387.33895206504695,
          375.9653898874731,
          364.5918277098991,
          353.2182655323251,
          341.8447033547511,
          330.47114117717723,
          314.54815412857363,
          298.6251670799701,
          282.70218003136654,
          266.77919298276305,
          250.8562059341595,
          244.0320686276151,
          237.20793132107076,
          230.3837940145263,
          223.55965670798201,
          216.7355194014376,
          212.186094530408,
          207.6366696593784,
          203.08724478834887,
          198.53781991731927,
          193.9883950462897,
          191.7136826107749,
          189.4389701752601,
          187.1642577397453,
          184.88954530423052
         ],
         "type": "scatter"
        },
        {
         "fill": "tonexty",
         "fillcolor": "#ffac59",
         "mode": "none",
         "name": "4_VUL fuel",
         "x": [
          2021,
          2022,
          2023,
          2024,
          2025,
          2026,
          2027,
          2028,
          2029,
          2030,
          2031,
          2032,
          2033,
          2034,
          2035,
          2036,
          2037,
          2038,
          2039,
          2040,
          2041,
          2042,
          2043,
          2044,
          2045,
          2046,
          2047,
          2048,
          2049
         ],
         "y": [
          485.83195896826624,
          485.07201629633744,
          475.44607578524074,
          465.82013527414387,
          456.19419476304694,
          440.9953413244731,
          425.7964878858991,
          410.5976344473251,
          395.3987810087511,
          380.1999275701772,
          358.92153275617363,
          337.64313794217003,
          316.36474312816654,
          295.086348314163,
          273.8079535001595,
          264.68864143701506,
          255.56932937387074,
          246.4500173107263,
          237.330705247582,
          228.2113931844376,
          222.13185180900797,
          216.05231043357844,
          209.97276905814886,
          203.89322768271927,
          197.8136863072897,
          194.7739156195749,
          191.7341449318601,
          188.69437424414528,
          185.65460355643052
         ],
         "type": "scatter"
        },
        {
         "fill": "tonexty",
         "fillcolor": "#ff7f00",
         "mode": "none",
         "name": "4_VUL électrique",
         "x": [
          2021,
          2022,
          2023,
          2024,
          2025,
          2026,
          2027,
          2028,
          2029,
          2030,
          2031,
          2032,
          2033,
          2034,
          2035,
          2036,
          2037,
          2038,
          2039,
          2040,
          2041,
          2042,
          2043,
          2044,
          2045,
          2046,
          2047,
          2048,
          2049
         ],
         "y": [
          485.87506208081226,
          485.15157052142945,
          475.9873441025821,
          466.82311768373455,
          457.65889126488696,
          443.1890600772331,
          428.71922888957914,
          414.2493977019251,
          399.7795665142711,
          385.30973532661716,
          365.0519716639016,
          344.794208001186,
          324.5364443384705,
          304.27868067575497,
          284.0209170130395,
          275.3390183004471,
          266.6571195878547,
          257.9752208752623,
          249.29332216267,
          240.6114234500776,
          234.823490975016,
          229.03555849995445,
          223.24762602489287,
          217.45969354983126,
          211.67176107476968,
          208.7777948372389,
          205.8838285997081,
          202.9898623621773,
          200.09589612464652
         ],
         "type": "scatter"
        },
        {
         "fill": "tonexty",
         "fillcolor": "#edcab6",
         "mode": "none",
         "name": "5_aerien_international",
         "x": [
          2021,
          2022,
          2023,
          2024,
          2025,
          2026,
          2027,
          2028,
          2029,
          2030,
          2031,
          2032,
          2033,
          2034,
          2035,
          2036,
          2037,
          2038,
          2039,
          2040,
          2041,
          2042,
          2043,
          2044,
          2045,
          2046,
          2047,
          2048,
          2049
         ],
         "y": [
          556.6351454141457,
          555.8939594103183,
          546.5056033618414,
          537.1172473133643,
          527.728891264887,
          512.9051711883442,
          498.08145111180136,
          483.2577310352584,
          468.43401095871553,
          453.6102908821727,
          432.8570827750127,
          412.10387466785266,
          391.35066656069273,
          370.59745845353274,
          349.84425034637286,
          340.9500183004471,
          332.0557862545214,
          323.16155420859565,
          314.26732216267004,
          305.37309011674427,
          299.4436020861271,
          293.51411405551,
          287.5846260248928,
          281.6551379942757,
          275.72564996365855,
          272.76090594835,
          269.79616193304145,
          266.8314179177329,
          263.8666739024243
         ],
         "type": "scatter"
        },
        {
         "fill": "tonexty",
         "fillcolor": "#d98c60",
         "mode": "none",
         "name": "5_aerien_interne",
         "x": [
          2021,
          2022,
          2023,
          2024,
          2025,
          2026,
          2027,
          2028,
          2029,
          2030,
          2031,
          2032,
          2033,
          2034,
          2035,
          2036,
          2037,
          2038,
          2039,
          2040,
          2041,
          2042,
          2043,
          2044,
          2045,
          2046,
          2047,
          2048,
          2049
         ],
         "y": [
          560.3739974141456,
          559.6276634103185,
          550.1740993618413,
          540.720535313364,
          531.2669712648869,
          516.3402911883442,
          501.4136111118013,
          486.48693103525846,
          471.5602509587156,
          456.63357088217276,
          435.73621877501273,
          414.8388666678528,
          393.9415145606928,
          373.04416245353286,
          352.14681034637283,
          343.1908023004471,
          334.2347942545214,
          325.27878620859565,
          316.32277816267003,
          307.3667701167443,
          301.3960980861271,
          295.42542605551,
          289.45475402489285,
          283.4840819942757,
          277.5134099636586,
          274.52807394834997,
          271.54273793304145,
          268.5574019177328,
          265.5720659024243
         ],
         "type": "scatter"
        },
        {
         "fill": "tonexty",
         "fillcolor": "#a65628",
         "mode": "none",
         "name": "5_aerien_outre_mer",
         "x": [
          2021,
          2022,
          2023,
          2024,
          2025,
          2026,
          2027,
          2028,
          2029,
          2030,
          2031,
          2032,
          2033,
          2034,
          2035,
          2036,
          2037,
          2038,
          2039,
          2040,
          2041,
          2042,
          2043,
          2044,
          2045,
          2046,
          2047,
          2048,
          2049
         ],
         "y": [
          566.9056974141456,
          566.1577300769851,
          556.6834771396191,
          547.209224202253,
          537.7349712648869,
          522.7756245216775,
          507.81627777846796,
          492.85693103525847,
          477.8975842920489,
          462.9382375488394,
          441.9951521083461,
          421.05206666785284,
          400.10898122735944,
          379.16589578686614,
          358.2228103463728,
          349.2472023004471,
          340.2715942545214,
          331.2959862085957,
          322.32037816267,
          313.34477011674426,
          307.36103141946046,
          301.37729272217666,
          295.39355402489286,
          289.40981532760907,
          283.42607663032527,
          280.43420728168337,
          277.4423379330415,
          274.4504685843995,
          271.45859923575756
         ],
         "type": "scatter"
        },
        {
         "fill": "tonexty",
         "fillcolor": "#fdd9ec",
         "mode": "none",
         "name": "6_deux roues diesel",
         "x": [
          2021,
          2022,
          2023,
          2024,
          2025,
          2026,
          2027,
          2028,
          2029,
          2030,
          2031,
          2032,
          2033,
          2034,
          2035,
          2036,
          2037,
          2038,
          2039,
          2040,
          2041,
          2042,
          2043,
          2044,
          2045,
          2046,
          2047,
          2048,
          2049
         ],
         "y": [
          572.3376281072149,
          571.5760469086682,
          561.9293517270778,
          552.2826565454874,
          542.6359613638967,
          527.4043373929646,
          512.1727134220323,
          496.9410894511,
          481.70946548016775,
          466.4778415092355,
          445.1535679499302,
          423.82929439062514,
          402.5050208313198,
          381.1807472720147,
          359.85647371270943,
          350.7174993301501,
          341.5785249475907,
          332.43955056503137,
          323.300576182472,
          314.1616017999126,
          308.0689522115397,
          301.97630262316676,
          295.88365303479384,
          289.791003446421,
          283.69835385804805,
          280.65202906386156,
          277.60570426967513,
          274.55937947548864,
          271.5130546813021
         ],
         "type": "scatter"
        },
        {
         "fill": "tonexty",
         "fillcolor": "#f781bf",
         "mode": "none",
         "name": "6_deux roues électrique",
         "x": [
          2021,
          2022,
          2023,
          2024,
          2025,
          2026,
          2027,
          2028,
          2029,
          2030,
          2031,
          2032,
          2033,
          2034,
          2035,
          2036,
          2037,
          2038,
          2039,
          2040,
          2041,
          2042,
          2043,
          2044,
          2045,
          2046,
          2047,
          2048,
          2049
         ],
         "y": [
          572.3571790300016,
          571.5992696042417,
          561.999083544617,
          552.3988974849921,
          542.7987114253671,
          527.64052291017,
          512.4823343949729,
          497.32414587977576,
          482.1659573645786,
          467.00776884938153,
          445.7863049281055,
          424.56484100682957,
          403.34337708555347,
          382.12191316427754,
          360.9004492430015,
          351.80553613388327,
          342.71062302476497,
          333.61570991564673,
          324.52079680652844,
          315.42588369741014,
          309.36260829133124,
          303.2993328852524,
          297.23605747917355,
          291.1727820730947,
          285.10950666701586,
          282.0778689639764,
          279.046231260937,
          276.01459355789757,
          272.98295585485806
         ],
         "type": "scatter"
        },
        {
         "fill": "tonexty",
         "fillcolor": "#e0e0e0",
         "mode": "none",
         "name": "7_Avion fret  international",
         "x": [
          2021,
          2022,
          2023,
          2024,
          2025,
          2026,
          2027,
          2028,
          2029,
          2030,
          2031,
          2032,
          2033,
          2034,
          2035,
          2036,
          2037,
          2038,
          2039,
          2040,
          2041,
          2042,
          2043,
          2044,
          2045,
          2046,
          2047,
          2048,
          2049
         ],
         "y": [
          601.7948915300016,
          601.0163612709083,
          591.1549779890614,
          581.2935947072142,
          571.4322114253671,
          555.8616062435034,
          540.2910010616396,
          524.7203958797758,
          509.14979069791195,
          493.5791855160482,
          471.7803382614388,
          449.9814910068296,
          428.18264375222014,
          406.3837964976109,
          384.5849492430016,
          375.2425861338833,
          365.900223024765,
          356.5578599156467,
          347.2154968065284,
          337.8731336974102,
          331.6448916246645,
          325.416649551919,
          319.1884074791736,
          312.9601654064281,
          306.7319233336825,
          303.61780229730977,
          300.503681260937,
          297.3895602245642,
          294.27543918819146
         ],
         "type": "scatter"
        },
        {
         "fill": "tonexty",
         "fillcolor": "#bdbdbd",
         "mode": "none",
         "name": "7_Bateau fret  international",
         "x": [
          2021,
          2022,
          2023,
          2024,
          2025,
          2026,
          2027,
          2028,
          2029,
          2030,
          2031,
          2032,
          2033,
          2034,
          2035,
          2036,
          2037,
          2038,
          2039,
          2040,
          2041,
          2042,
          2043,
          2044,
          2045,
          2046,
          2047,
          2048,
          2049
         ],
         "y": [
          606.0898576133349,
          605.3102864931305,
          595.435718970543,
          585.561151447955,
          575.686583925367,
          560.0951615212812,
          544.5037391171951,
          528.9123167131091,
          513.320894309023,
          497.72947190493704,
          475.90148053921666,
          454.07348917349617,
          432.24549780777573,
          410.41750644205536,
          388.5895150763349,
          379.2346616338833,
          369.87980819143166,
          360.52495474898,
          351.1701013065284,
          341.81524786407675,
          335.5786789024423,
          329.3421099408079,
          323.10554097917355,
          316.86897201753914,
          310.6324030559047,
          307.51411857508754,
          304.39583409427036,
          301.2775496134532,
          298.1592651326359
         ],
         "type": "scatter"
        },
        {
         "fill": "tonexty",
         "fillcolor": "#999999",
         "mode": "none",
         "name": "7_Train fret",
         "x": [
          2021,
          2022,
          2023,
          2024,
          2025,
          2026,
          2027,
          2028,
          2029,
          2030,
          2031,
          2032,
          2033,
          2034,
          2035,
          2036,
          2037,
          2038,
          2039,
          2040,
          2041,
          2042,
          2043,
          2044,
          2045,
          2046,
          2047,
          2048,
          2049
         ],
         "y": [
          607.6980976133348,
          606.9267664931305,
          597.1565723038763,
          587.3863781146217,
          577.6161839253671,
          562.1895615212811,
          546.7629391171952,
          531.3363167131091,
          515.909694309023,
          500.48307190493705,
          478.88580053921663,
          457.2885291734961,
          435.6912578077757,
          414.09398644205527,
          392.4967150763349,
          383.2407416338833,
          373.98476819143167,
          364.7287947489801,
          355.47282130652843,
          346.2168478640768,
          340.0461989024423,
          333.87554994080796,
          327.70490097917354,
          321.53425201753913,
          315.3636030559047,
          312.2782785750874,
          309.1929540942703,
          306.1076296134532,
          303.0223051326359
         ],
         "type": "scatter"
        }
       ],
       "layout": {
        "template": {
         "data": {
          "histogram2dcontour": [
           {
            "type": "histogram2dcontour",
            "colorbar": {
             "outlinewidth": 0,
             "ticks": ""
            },
            "colorscale": [
             [
              0.0,
              "#0d0887"
             ],
             [
              0.1111111111111111,
              "#46039f"
             ],
             [
              0.2222222222222222,
              "#7201a8"
             ],
             [
              0.3333333333333333,
              "#9c179e"
             ],
             [
              0.4444444444444444,
              "#bd3786"
             ],
             [
              0.5555555555555556,
              "#d8576b"
             ],
             [
              0.6666666666666666,
              "#ed7953"
             ],
             [
              0.7777777777777778,
              "#fb9f3a"
             ],
             [
              0.8888888888888888,
              "#fdca26"
             ],
             [
              1.0,
              "#f0f921"
             ]
            ]
           }
          ],
          "choropleth": [
           {
            "type": "choropleth",
            "colorbar": {
             "outlinewidth": 0,
             "ticks": ""
            }
           }
          ],
          "histogram2d": [
           {
            "type": "histogram2d",
            "colorbar": {
             "outlinewidth": 0,
             "ticks": ""
            },
            "colorscale": [
             [
              0.0,
              "#0d0887"
             ],
             [
              0.1111111111111111,
              "#46039f"
             ],
             [
              0.2222222222222222,
              "#7201a8"
             ],
             [
              0.3333333333333333,
              "#9c179e"
             ],
             [
              0.4444444444444444,
              "#bd3786"
             ],
             [
              0.5555555555555556,
              "#d8576b"
             ],
             [
              0.6666666666666666,
              "#ed7953"
             ],
             [
              0.7777777777777778,
              "#fb9f3a"
             ],
             [
              0.8888888888888888,
              "#fdca26"
             ],
             [
              1.0,
              "#f0f921"
             ]
            ]
           }
          ],
          "heatmap": [
           {
            "type": "heatmap",
            "colorbar": {
             "outlinewidth": 0,
             "ticks": ""
            },
            "colorscale": [
             [
              0.0,
              "#0d0887"
             ],
             [
              0.1111111111111111,
              "#46039f"
             ],
             [
              0.2222222222222222,
              "#7201a8"
             ],
             [
              0.3333333333333333,
              "#9c179e"
             ],
             [
              0.4444444444444444,
              "#bd3786"
             ],
             [
              0.5555555555555556,
              "#d8576b"
             ],
             [
              0.6666666666666666,
              "#ed7953"
             ],
             [
              0.7777777777777778,
              "#fb9f3a"
             ],
             [
              0.8888888888888888,
              "#fdca26"
             ],
             [
              1.0,
              "#f0f921"
             ]
            ]
           }
          ],
          "heatmapgl": [
           {
            "type": "heatmapgl",
            "colorbar": {
             "outlinewidth": 0,
             "ticks": ""
            },
            "colorscale": [
             [
              0.0,
              "#0d0887"
             ],
             [
              0.1111111111111111,
              "#46039f"
             ],
             [
              0.2222222222222222,
              "#7201a8"
             ],
             [
              0.3333333333333333,
              "#9c179e"
             ],
             [
              0.4444444444444444,
              "#bd3786"
             ],
             [
              0.5555555555555556,
              "#d8576b"
             ],
             [
              0.6666666666666666,
              "#ed7953"
             ],
             [
              0.7777777777777778,
              "#fb9f3a"
             ],
             [
              0.8888888888888888,
              "#fdca26"
             ],
             [
              1.0,
              "#f0f921"
             ]
            ]
           }
          ],
          "contourcarpet": [
           {
            "type": "contourcarpet",
            "colorbar": {
             "outlinewidth": 0,
             "ticks": ""
            }
           }
          ],
          "contour": [
           {
            "type": "contour",
            "colorbar": {
             "outlinewidth": 0,
             "ticks": ""
            },
            "colorscale": [
             [
              0.0,
              "#0d0887"
             ],
             [
              0.1111111111111111,
              "#46039f"
             ],
             [
              0.2222222222222222,
              "#7201a8"
             ],
             [
              0.3333333333333333,
              "#9c179e"
             ],
             [
              0.4444444444444444,
              "#bd3786"
             ],
             [
              0.5555555555555556,
              "#d8576b"
             ],
             [
              0.6666666666666666,
              "#ed7953"
             ],
             [
              0.7777777777777778,
              "#fb9f3a"
             ],
             [
              0.8888888888888888,
              "#fdca26"
             ],
             [
              1.0,
              "#f0f921"
             ]
            ]
           }
          ],
          "surface": [
           {
            "type": "surface",
            "colorbar": {
             "outlinewidth": 0,
             "ticks": ""
            },
            "colorscale": [
             [
              0.0,
              "#0d0887"
             ],
             [
              0.1111111111111111,
              "#46039f"
             ],
             [
              0.2222222222222222,
              "#7201a8"
             ],
             [
              0.3333333333333333,
              "#9c179e"
             ],
             [
              0.4444444444444444,
              "#bd3786"
             ],
             [
              0.5555555555555556,
              "#d8576b"
             ],
             [
              0.6666666666666666,
              "#ed7953"
             ],
             [
              0.7777777777777778,
              "#fb9f3a"
             ],
             [
              0.8888888888888888,
              "#fdca26"
             ],
             [
              1.0,
              "#f0f921"
             ]
            ]
           }
          ],
          "mesh3d": [
           {
            "type": "mesh3d",
            "colorbar": {
             "outlinewidth": 0,
             "ticks": ""
            }
           }
          ],
          "scatter": [
           {
            "fillpattern": {
             "fillmode": "overlay",
             "size": 10,
             "solidity": 0.2
            },
            "type": "scatter"
           }
          ],
          "parcoords": [
           {
            "type": "parcoords",
            "line": {
             "colorbar": {
              "outlinewidth": 0,
              "ticks": ""
             }
            }
           }
          ],
          "scatterpolargl": [
           {
            "type": "scatterpolargl",
            "marker": {
             "colorbar": {
              "outlinewidth": 0,
              "ticks": ""
             }
            }
           }
          ],
          "bar": [
           {
            "error_x": {
             "color": "#2a3f5f"
            },
            "error_y": {
             "color": "#2a3f5f"
            },
            "marker": {
             "line": {
              "color": "#E5ECF6",
              "width": 0.5
             },
             "pattern": {
              "fillmode": "overlay",
              "size": 10,
              "solidity": 0.2
             }
            },
            "type": "bar"
           }
          ],
          "scattergeo": [
           {
            "type": "scattergeo",
            "marker": {
             "colorbar": {
              "outlinewidth": 0,
              "ticks": ""
             }
            }
           }
          ],
          "scatterpolar": [
           {
            "type": "scatterpolar",
            "marker": {
             "colorbar": {
              "outlinewidth": 0,
              "ticks": ""
             }
            }
           }
          ],
          "histogram": [
           {
            "marker": {
             "pattern": {
              "fillmode": "overlay",
              "size": 10,
              "solidity": 0.2
             }
            },
            "type": "histogram"
           }
          ],
          "scattergl": [
           {
            "type": "scattergl",
            "marker": {
             "colorbar": {
              "outlinewidth": 0,
              "ticks": ""
             }
            }
           }
          ],
          "scatter3d": [
           {
            "type": "scatter3d",
            "line": {
             "colorbar": {
              "outlinewidth": 0,
              "ticks": ""
             }
            },
            "marker": {
             "colorbar": {
              "outlinewidth": 0,
              "ticks": ""
             }
            }
           }
          ],
          "scattermapbox": [
           {
            "type": "scattermapbox",
            "marker": {
             "colorbar": {
              "outlinewidth": 0,
              "ticks": ""
             }
            }
           }
          ],
          "scatterternary": [
           {
            "type": "scatterternary",
            "marker": {
             "colorbar": {
              "outlinewidth": 0,
              "ticks": ""
             }
            }
           }
          ],
          "scattercarpet": [
           {
            "type": "scattercarpet",
            "marker": {
             "colorbar": {
              "outlinewidth": 0,
              "ticks": ""
             }
            }
           }
          ],
          "carpet": [
           {
            "aaxis": {
             "endlinecolor": "#2a3f5f",
             "gridcolor": "white",
             "linecolor": "white",
             "minorgridcolor": "white",
             "startlinecolor": "#2a3f5f"
            },
            "baxis": {
             "endlinecolor": "#2a3f5f",
             "gridcolor": "white",
             "linecolor": "white",
             "minorgridcolor": "white",
             "startlinecolor": "#2a3f5f"
            },
            "type": "carpet"
           }
          ],
          "table": [
           {
            "cells": {
             "fill": {
              "color": "#EBF0F8"
             },
             "line": {
              "color": "white"
             }
            },
            "header": {
             "fill": {
              "color": "#C8D4E3"
             },
             "line": {
              "color": "white"
             }
            },
            "type": "table"
           }
          ],
          "barpolar": [
           {
            "marker": {
             "line": {
              "color": "#E5ECF6",
              "width": 0.5
             },
             "pattern": {
              "fillmode": "overlay",
              "size": 10,
              "solidity": 0.2
             }
            },
            "type": "barpolar"
           }
          ],
          "pie": [
           {
            "automargin": true,
            "type": "pie"
           }
          ]
         },
         "layout": {
          "autotypenumbers": "strict",
          "colorway": [
           "#636efa",
           "#EF553B",
           "#00cc96",
           "#ab63fa",
           "#FFA15A",
           "#19d3f3",
           "#FF6692",
           "#B6E880",
           "#FF97FF",
           "#FECB52"
          ],
          "font": {
           "color": "#2a3f5f"
          },
          "hovermode": "closest",
          "hoverlabel": {
           "align": "left"
          },
          "paper_bgcolor": "white",
          "plot_bgcolor": "#E5ECF6",
          "polar": {
           "bgcolor": "#E5ECF6",
           "angularaxis": {
            "gridcolor": "white",
            "linecolor": "white",
            "ticks": ""
           },
           "radialaxis": {
            "gridcolor": "white",
            "linecolor": "white",
            "ticks": ""
           }
          },
          "ternary": {
           "bgcolor": "#E5ECF6",
           "aaxis": {
            "gridcolor": "white",
            "linecolor": "white",
            "ticks": ""
           },
           "baxis": {
            "gridcolor": "white",
            "linecolor": "white",
            "ticks": ""
           },
           "caxis": {
            "gridcolor": "white",
            "linecolor": "white",
            "ticks": ""
           }
          },
          "coloraxis": {
           "colorbar": {
            "outlinewidth": 0,
            "ticks": ""
           }
          },
          "colorscale": {
           "sequential": [
            [
             0.0,
             "#0d0887"
            ],
            [
             0.1111111111111111,
             "#46039f"
            ],
            [
             0.2222222222222222,
             "#7201a8"
            ],
            [
             0.3333333333333333,
             "#9c179e"
            ],
            [
             0.4444444444444444,
             "#bd3786"
            ],
            [
             0.5555555555555556,
             "#d8576b"
            ],
            [
             0.6666666666666666,
             "#ed7953"
            ],
            [
             0.7777777777777778,
             "#fb9f3a"
            ],
            [
             0.8888888888888888,
             "#fdca26"
            ],
            [
             1.0,
             "#f0f921"
            ]
           ],
           "sequentialminus": [
            [
             0.0,
             "#0d0887"
            ],
            [
             0.1111111111111111,
             "#46039f"
            ],
            [
             0.2222222222222222,
             "#7201a8"
            ],
            [
             0.3333333333333333,
             "#9c179e"
            ],
            [
             0.4444444444444444,
             "#bd3786"
            ],
            [
             0.5555555555555556,
             "#d8576b"
            ],
            [
             0.6666666666666666,
             "#ed7953"
            ],
            [
             0.7777777777777778,
             "#fb9f3a"
            ],
            [
             0.8888888888888888,
             "#fdca26"
            ],
            [
             1.0,
             "#f0f921"
            ]
           ],
           "diverging": [
            [
             0,
             "#8e0152"
            ],
            [
             0.1,
             "#c51b7d"
            ],
            [
             0.2,
             "#de77ae"
            ],
            [
             0.3,
             "#f1b6da"
            ],
            [
             0.4,
             "#fde0ef"
            ],
            [
             0.5,
             "#f7f7f7"
            ],
            [
             0.6,
             "#e6f5d0"
            ],
            [
             0.7,
             "#b8e186"
            ],
            [
             0.8,
             "#7fbc41"
            ],
            [
             0.9,
             "#4d9221"
            ],
            [
             1,
             "#276419"
            ]
           ]
          },
          "xaxis": {
           "gridcolor": "white",
           "linecolor": "white",
           "ticks": "",
           "title": {
            "standoff": 15
           },
           "zerolinecolor": "white",
           "automargin": true,
           "zerolinewidth": 2
          },
          "yaxis": {
           "gridcolor": "white",
           "linecolor": "white",
           "ticks": "",
           "title": {
            "standoff": 15
           },
           "zerolinecolor": "white",
           "automargin": true,
           "zerolinewidth": 2
          },
          "scene": {
           "xaxis": {
            "backgroundcolor": "#E5ECF6",
            "gridcolor": "white",
            "linecolor": "white",
            "showbackground": true,
            "ticks": "",
            "zerolinecolor": "white",
            "gridwidth": 2
           },
           "yaxis": {
            "backgroundcolor": "#E5ECF6",
            "gridcolor": "white",
            "linecolor": "white",
            "showbackground": true,
            "ticks": "",
            "zerolinecolor": "white",
            "gridwidth": 2
           },
           "zaxis": {
            "backgroundcolor": "#E5ECF6",
            "gridcolor": "white",
            "linecolor": "white",
            "showbackground": true,
            "ticks": "",
            "zerolinecolor": "white",
            "gridwidth": 2
           }
          },
          "shapedefaults": {
           "line": {
            "color": "#2a3f5f"
           }
          },
          "annotationdefaults": {
           "arrowcolor": "#2a3f5f",
           "arrowhead": 0,
           "arrowwidth": 1
          },
          "geo": {
           "bgcolor": "white",
           "landcolor": "#E5ECF6",
           "subunitcolor": "white",
           "showland": true,
           "showlakes": true,
           "lakecolor": "white"
          },
          "title": {
           "x": 0.05
          },
          "mapbox": {
           "style": "light"
          }
         }
        },
        "xaxis": {
         "rangeslider": {
          "visible": true
         },
         "title": {
          "text": "Année"
         }
        },
        "title": {
         "text": "Conso énergie finale par mode de transport (en TWh)"
        },
        "yaxis": {
         "title": {
          "text": "Conso [TWh]"
         }
        }
       },
       "config": {
        "plotlyServerURL": "https://plot.ly"
       }
      },
      "text/html": "<div>                            <div id=\"45f60146-0dc6-41b9-9a12-7d9cb14a1f40\" class=\"plotly-graph-div\" style=\"height:525px; width:100%;\"></div>            <script type=\"text/javascript\">                require([\"plotly\"], function(Plotly) {                    window.PLOTLYENV=window.PLOTLYENV || {};                                    if (document.getElementById(\"45f60146-0dc6-41b9-9a12-7d9cb14a1f40\")) {                    Plotly.newPlot(                        \"45f60146-0dc6-41b9-9a12-7d9cb14a1f40\",                        [{\"fill\":\"tozeroy\",\"fillcolor\":\"#f7babb\",\"mode\":\"none\",\"name\":\"1_Bus et cars GNV\",\"x\":[2021,2022,2023,2024,2025,2026,2027,2028,2029,2030,2031,2032,2033,2034,2035,2036,2037,2038,2039,2040,2041,2042,2043,2044,2045,2046,2047,2048,2049],\"y\":[0.029854859999999886,0.033949719999999774,0.08581794666666645,0.13768617333333316,0.18955439999999982,0.2714515999999999,0.35334879999999996,0.43524599999999997,0.5171432,0.5990404,0.7136964800000001,0.82835256,0.9430086400000001,1.0576647199999998,1.1723207999999998,1.2214591199999998,1.2705974399999997,1.31973576,1.36887408,1.4180123999999998,1.4507712799999997,1.4835301599999995,1.5162890399999998,1.5490479199999998,1.5818067999999994,1.5981862399999998,1.61456568,1.6309451199999998,1.64732456],\"type\":\"scatter\"},{\"fill\":\"tonexty\",\"fillcolor\":\"#f18486\",\"mode\":\"none\",\"name\":\"1_Bus et cars H2\",\"x\":[2021,2022,2023,2024,2025,2026,2027,2028,2029,2030,2031,2032,2033,2034,2035,2036,2037,2038,2039,2040,2041,2042,2043,2044,2045,2046,2047,2048,2049],\"y\":[0.03424910999999976,0.042738219999999535,0.15026694666666623,0.257795673333333,0.3653243999999996,0.5351065999999998,0.7048887999999999,0.874671,1.0444532,1.2142354000000002,1.4519304800000001,1.68962556,1.92732064,2.1650157199999995,2.4027108,2.50458012,2.60644944,2.70831876,2.8101880800000005,2.9120574,2.97997028,3.0478831599999996,3.1157960399999993,3.18370892,3.2516217999999997,3.2855782399999995,3.3195346799999994,3.3534911199999997,3.3874475599999996],\"type\":\"scatter\"},{\"fill\":\"tonexty\",\"fillcolor\":\"#eb4f50\",\"mode\":\"none\",\"name\":\"1_Bus et cars diesel\",\"x\":[2021,2022,2023,2024,2025,2026,2027,2028,2029,2030,2031,2032,2033,2034,2035,2036,2037,2038,2039,2040,2041,2042,2043,2044,2045,2046,2047,2048,2049],\"y\":[9.255338609999999,9.24071722,9.055512946666667,8.870308673333334,8.6851044,8.392676600000001,8.100248800000001,7.807821,7.5153932,7.2229654,6.81356648,6.404167559999999,5.99476864,5.58536972,5.1759708,5.00051412,4.825057439999999,4.649600759999999,4.47414408,4.2986874,4.18171628,4.064745159999999,3.9477740399999997,3.83080292,3.7138318,3.6553462399999996,3.5968606799999994,3.5383751199999995,3.4798895599999997],\"type\":\"scatter\"},{\"fill\":\"tonexty\",\"fillcolor\":\"#e41a1c\",\"mode\":\"none\",\"name\":\"1_Bus et cars \\u00e9lectrique\",\"x\":[2021,2022,2023,2024,2025,2026,2027,2028,2029,2030,2031,2032,2033,2034,2035,2036,2037,2038,2039,2040,2041,2042,2043,2044,2045,2046,2047,2048,2049],\"y\":[9.259464671249999,9.2475893425,9.097168511666666,8.946747680833333,8.79632685,8.558820275000002,8.321313700000001,8.083807125,7.8463005500000005,7.608793974999999,7.27628477,6.943775564999999,6.61126636,6.278757155,5.94624795,5.803744005,5.661240059999999,5.518736114999999,5.37623217,5.233728225,5.1387255949999995,5.043722964999999,4.948720334999999,4.853717704999999,4.758715075,4.71121376,4.663712444999999,4.616211129999999,4.568709815],\"type\":\"scatter\"},{\"fill\":\"tonexty\",\"fillcolor\":\"#c0d9ec\",\"mode\":\"none\",\"name\":\"2_Camion fret\",\"x\":[2021,2022,2023,2024,2025,2026,2027,2028,2029,2030,2031,2032,2033,2034,2035,2036,2037,2038,2039,2040,2041,2042,2043,2044,2045,2046,2047,2048,2049],\"y\":[158.95196467124998,158.63258934249998,154.58716851166668,150.54174768083334,146.49632685,140.10882027500003,133.7213137,127.33380712499999,120.94630054999999,114.558793975,105.61628477000001,96.673775565,87.73126636,78.788757155,69.84624795,66.013744005,62.18124006,58.348736114999994,54.516232170000016,50.683728225,48.128725595,45.573722965,43.01872033500001,40.463717705000015,37.90871507500001,36.63121376000001,35.353712445000006,34.07621113,32.798709814999995],\"type\":\"scatter\"},{\"fill\":\"tonexty\",\"fillcolor\":\"#90bbde\",\"mode\":\"none\",\"name\":\"2_Rail court\",\"x\":[2021,2022,2023,2024,2025,2026,2027,2028,2029,2030,2031,2032,2033,2034,2035,2036,2037,2038,2039,2040,2041,2042,2043,2044,2045,2046,2047,2048,2049],\"y\":[164.06776440477552,163.76140061386306,159.8807925956387,156.0001845774143,152.11957655918988,145.99230074094086,139.8650249226918,133.73774910444274,127.61047328619367,121.48319746794463,112.90501132239596,104.3268251768473,95.74863903129862,87.17045288574995,78.59226674020128,74.91590124925185,71.23953575830242,67.56317026735297,63.88680477640357,60.21043928545413,57.759528958154505,55.30861863085488,52.85770830355527,50.40679797625565,47.95588764895603,46.73043248530622,45.504977321656405,44.279522158006586,43.05406699435677],\"type\":\"scatter\"},{\"fill\":\"tonexty\",\"fillcolor\":\"#5f9dcf\",\"mode\":\"none\",\"name\":\"2_Rail long\",\"x\":[2021,2022,2023,2024,2025,2026,2027,2028,2029,2030,2031,2032,2033,2034,2035,2036,2037,2038,2039,2040,2041,2042,2043,2044,2045,2046,2047,2048,2049],\"y\":[166.64368835714174,166.3373929607552,162.4576512731925,158.57790958562978,154.69816789806703,148.57225997033643,142.44635204260578,136.32044411487516,130.1945361871445,124.06862825941391,115.49235716059104,106.91608606176815,98.33981496294528,89.76354386412241,81.18727276529953,77.51172800866115,73.83618325202278,70.16063849538439,66.48509373874603,62.80954898210765,60.359185811015394,57.90882263992314,55.4584594688309,53.00809629773865,50.5577331266464,49.33255154110027,48.10736995555414,46.88218837000801,45.657006784461885],\"type\":\"scatter\"},{\"fill\":\"tonexty\",\"fillcolor\":\"#377eb8\",\"mode\":\"none\",\"name\":\"2_camion fret H2\",\"x\":[2021,2022,2023,2024,2025,2026,2027,2028,2029,2030,2031,2032,2033,2034,2035,2036,2037,2038,2039,2040,2041,2042,2043,2044,2045,2046,2047,2048,2049],\"y\":[166.77868835714173,166.60739296075522,164.4376512731925,162.26790958562978,160.098167898067,156.67225997033643,153.2463520426058,149.82044411487516,146.39453618714452,142.96862825941392,138.17235716059102,133.37608606176818,128.57981496294528,123.78354386412241,118.98727276529954,116.93172800866115,114.87618325202277,112.8206384953844,110.76509373874605,108.70954898210766,107.3391858110154,105.96882263992316,104.59845946883091,103.22809629773865,101.85773312664641,101.17255154110026,100.48736995555414,99.80218837000801,99.11700678446189],\"type\":\"scatter\"},{\"fill\":\"tonexty\",\"fillcolor\":\"#e1c8e5\",\"mode\":\"none\",\"name\":\"3_VP GNV\",\"x\":[2021,2022,2023,2024,2025,2026,2027,2028,2029,2030,2031,2032,2033,2034,2035,2036,2037,2038,2039,2040,2041,2042,2043,2044,2045,2046,2047,2048,2049],\"y\":[167.17938085714172,167.06211129408857,165.57669682874806,164.09128236340757,162.60586789806703,160.2604766370031,157.91508537593913,155.56969411487515,153.2243028538112,150.87891159274727,147.5953638272577,144.31181606176818,141.0282682962786,137.74472053078907,134.46117276529952,133.05393800866116,131.64670325202277,130.23946849538441,128.83223373874605,127.42499898210767,126.48684247768207,125.5486859732565,124.61052946883092,123.67237296440533,122.73421645997975,122.26513820776694,121.79605995555414,121.32698170334135,120.85790345112855],\"type\":\"scatter\"},{\"fill\":\"tonexty\",\"fillcolor\":\"#be89c6\",\"mode\":\"none\",\"name\":\"3_VP fuel\",\"x\":[2021,2022,2023,2024,2025,2026,2027,2028,2029,2030,2031,2032,2033,2034,2035,2036,2037,2038,2039,2040,2041,2042,2043,2044,2045,2046,2047,2048,2049],\"y\":[407.07813085714173,406.3596112940885,397.25836349541476,388.15711569674085,379.05586789806694,364.6854766370031,350.3150853759391,335.9446941148751,321.5743028538111,307.2039115927472,287.08536382725765,266.9668160617681,246.84826829627855,226.72972053078902,206.61117276529947,197.98893800866108,189.36670325202272,180.7444684953843,172.122233738746,163.4999989821076,157.75184247768198,152.00368597325644,146.25552946883087,140.50737296440525,134.75921645997968,131.8851382077669,129.0110599555541,126.13698170334126,123.26290345112848],\"type\":\"scatter\"},{\"fill\":\"tonexty\",\"fillcolor\":\"#984ea3\",\"mode\":\"none\",\"name\":\"3_VP \\u00e9lectrique\",\"x\":[2021,2022,2023,2024,2025,2026,2027,2028,2029,2030,2031,2032,2033,2034,2035,2036,2037,2038,2039,2040,2041,2042,2043,2044,2045,2046,2047,2048,2049],\"y\":[407.37571575064175,406.7903550810885,399.3757866000814,391.9612181190742,384.5466496380669,372.8394362470031,361.1322228559391,349.42500946487513,337.71779607381114,326.0105826827472,309.62048393525765,293.2303851877681,276.84028644027853,260.45018769278903,244.0600889452995,237.0357609106611,230.01143287602275,222.98710484138434,215.96277680674598,208.93844877210762,204.255563415682,199.57267805925642,194.88979270283087,190.20690734640527,185.5240219899797,183.1825793117669,180.8411366335541,178.4996939553413,176.1582512771285],\"type\":\"scatter\"},{\"fill\":\"tonexty\",\"fillcolor\":\"#ffd9b2\",\"mode\":\"none\",\"name\":\"4_VUL GNV\",\"x\":[2021,2022,2023,2024,2025,2026,2027,2028,2029,2030,2031,2032,2033,2034,2035,2036,2037,2038,2039,2040,2041,2042,2043,2044,2045,2046,2047,2048,2049],\"y\":[409.51739831131624,408.94872020243747,401.74546415664076,394.5422081108439,387.33895206504695,375.9653898874731,364.5918277098991,353.2182655323251,341.8447033547511,330.47114117717723,314.54815412857363,298.6251670799701,282.70218003136654,266.77919298276305,250.8562059341595,244.0320686276151,237.20793132107076,230.3837940145263,223.55965670798201,216.7355194014376,212.186094530408,207.6366696593784,203.08724478834887,198.53781991731927,193.9883950462897,191.7136826107749,189.4389701752601,187.1642577397453,184.88954530423052],\"type\":\"scatter\"},{\"fill\":\"tonexty\",\"fillcolor\":\"#ffac59\",\"mode\":\"none\",\"name\":\"4_VUL fuel\",\"x\":[2021,2022,2023,2024,2025,2026,2027,2028,2029,2030,2031,2032,2033,2034,2035,2036,2037,2038,2039,2040,2041,2042,2043,2044,2045,2046,2047,2048,2049],\"y\":[485.83195896826624,485.07201629633744,475.44607578524074,465.82013527414387,456.19419476304694,440.9953413244731,425.7964878858991,410.5976344473251,395.3987810087511,380.1999275701772,358.92153275617363,337.64313794217003,316.36474312816654,295.086348314163,273.8079535001595,264.68864143701506,255.56932937387074,246.4500173107263,237.330705247582,228.2113931844376,222.13185180900797,216.05231043357844,209.97276905814886,203.89322768271927,197.8136863072897,194.7739156195749,191.7341449318601,188.69437424414528,185.65460355643052],\"type\":\"scatter\"},{\"fill\":\"tonexty\",\"fillcolor\":\"#ff7f00\",\"mode\":\"none\",\"name\":\"4_VUL \\u00e9lectrique\",\"x\":[2021,2022,2023,2024,2025,2026,2027,2028,2029,2030,2031,2032,2033,2034,2035,2036,2037,2038,2039,2040,2041,2042,2043,2044,2045,2046,2047,2048,2049],\"y\":[485.87506208081226,485.15157052142945,475.9873441025821,466.82311768373455,457.65889126488696,443.1890600772331,428.71922888957914,414.2493977019251,399.7795665142711,385.30973532661716,365.0519716639016,344.794208001186,324.5364443384705,304.27868067575497,284.0209170130395,275.3390183004471,266.6571195878547,257.9752208752623,249.29332216267,240.6114234500776,234.823490975016,229.03555849995445,223.24762602489287,217.45969354983126,211.67176107476968,208.7777948372389,205.8838285997081,202.9898623621773,200.09589612464652],\"type\":\"scatter\"},{\"fill\":\"tonexty\",\"fillcolor\":\"#edcab6\",\"mode\":\"none\",\"name\":\"5_aerien_international\",\"x\":[2021,2022,2023,2024,2025,2026,2027,2028,2029,2030,2031,2032,2033,2034,2035,2036,2037,2038,2039,2040,2041,2042,2043,2044,2045,2046,2047,2048,2049],\"y\":[556.6351454141457,555.8939594103183,546.5056033618414,537.1172473133643,527.728891264887,512.9051711883442,498.08145111180136,483.2577310352584,468.43401095871553,453.6102908821727,432.8570827750127,412.10387466785266,391.35066656069273,370.59745845353274,349.84425034637286,340.9500183004471,332.0557862545214,323.16155420859565,314.26732216267004,305.37309011674427,299.4436020861271,293.51411405551,287.5846260248928,281.6551379942757,275.72564996365855,272.76090594835,269.79616193304145,266.8314179177329,263.8666739024243],\"type\":\"scatter\"},{\"fill\":\"tonexty\",\"fillcolor\":\"#d98c60\",\"mode\":\"none\",\"name\":\"5_aerien_interne\",\"x\":[2021,2022,2023,2024,2025,2026,2027,2028,2029,2030,2031,2032,2033,2034,2035,2036,2037,2038,2039,2040,2041,2042,2043,2044,2045,2046,2047,2048,2049],\"y\":[560.3739974141456,559.6276634103185,550.1740993618413,540.720535313364,531.2669712648869,516.3402911883442,501.4136111118013,486.48693103525846,471.5602509587156,456.63357088217276,435.73621877501273,414.8388666678528,393.9415145606928,373.04416245353286,352.14681034637283,343.1908023004471,334.2347942545214,325.27878620859565,316.32277816267003,307.3667701167443,301.3960980861271,295.42542605551,289.45475402489285,283.4840819942757,277.5134099636586,274.52807394834997,271.54273793304145,268.5574019177328,265.5720659024243],\"type\":\"scatter\"},{\"fill\":\"tonexty\",\"fillcolor\":\"#a65628\",\"mode\":\"none\",\"name\":\"5_aerien_outre_mer\",\"x\":[2021,2022,2023,2024,2025,2026,2027,2028,2029,2030,2031,2032,2033,2034,2035,2036,2037,2038,2039,2040,2041,2042,2043,2044,2045,2046,2047,2048,2049],\"y\":[566.9056974141456,566.1577300769851,556.6834771396191,547.209224202253,537.7349712648869,522.7756245216775,507.81627777846796,492.85693103525847,477.8975842920489,462.9382375488394,441.9951521083461,421.05206666785284,400.10898122735944,379.16589578686614,358.2228103463728,349.2472023004471,340.2715942545214,331.2959862085957,322.32037816267,313.34477011674426,307.36103141946046,301.37729272217666,295.39355402489286,289.40981532760907,283.42607663032527,280.43420728168337,277.4423379330415,274.4504685843995,271.45859923575756],\"type\":\"scatter\"},{\"fill\":\"tonexty\",\"fillcolor\":\"#fdd9ec\",\"mode\":\"none\",\"name\":\"6_deux roues diesel\",\"x\":[2021,2022,2023,2024,2025,2026,2027,2028,2029,2030,2031,2032,2033,2034,2035,2036,2037,2038,2039,2040,2041,2042,2043,2044,2045,2046,2047,2048,2049],\"y\":[572.3376281072149,571.5760469086682,561.9293517270778,552.2826565454874,542.6359613638967,527.4043373929646,512.1727134220323,496.9410894511,481.70946548016775,466.4778415092355,445.1535679499302,423.82929439062514,402.5050208313198,381.1807472720147,359.85647371270943,350.7174993301501,341.5785249475907,332.43955056503137,323.300576182472,314.1616017999126,308.0689522115397,301.97630262316676,295.88365303479384,289.791003446421,283.69835385804805,280.65202906386156,277.60570426967513,274.55937947548864,271.5130546813021],\"type\":\"scatter\"},{\"fill\":\"tonexty\",\"fillcolor\":\"#f781bf\",\"mode\":\"none\",\"name\":\"6_deux roues \\u00e9lectrique\",\"x\":[2021,2022,2023,2024,2025,2026,2027,2028,2029,2030,2031,2032,2033,2034,2035,2036,2037,2038,2039,2040,2041,2042,2043,2044,2045,2046,2047,2048,2049],\"y\":[572.3571790300016,571.5992696042417,561.999083544617,552.3988974849921,542.7987114253671,527.64052291017,512.4823343949729,497.32414587977576,482.1659573645786,467.00776884938153,445.7863049281055,424.56484100682957,403.34337708555347,382.12191316427754,360.9004492430015,351.80553613388327,342.71062302476497,333.61570991564673,324.52079680652844,315.42588369741014,309.36260829133124,303.2993328852524,297.23605747917355,291.1727820730947,285.10950666701586,282.0778689639764,279.046231260937,276.01459355789757,272.98295585485806],\"type\":\"scatter\"},{\"fill\":\"tonexty\",\"fillcolor\":\"#e0e0e0\",\"mode\":\"none\",\"name\":\"7_Avion fret  international\",\"x\":[2021,2022,2023,2024,2025,2026,2027,2028,2029,2030,2031,2032,2033,2034,2035,2036,2037,2038,2039,2040,2041,2042,2043,2044,2045,2046,2047,2048,2049],\"y\":[601.7948915300016,601.0163612709083,591.1549779890614,581.2935947072142,571.4322114253671,555.8616062435034,540.2910010616396,524.7203958797758,509.14979069791195,493.5791855160482,471.7803382614388,449.9814910068296,428.18264375222014,406.3837964976109,384.5849492430016,375.2425861338833,365.900223024765,356.5578599156467,347.2154968065284,337.8731336974102,331.6448916246645,325.416649551919,319.1884074791736,312.9601654064281,306.7319233336825,303.61780229730977,300.503681260937,297.3895602245642,294.27543918819146],\"type\":\"scatter\"},{\"fill\":\"tonexty\",\"fillcolor\":\"#bdbdbd\",\"mode\":\"none\",\"name\":\"7_Bateau fret  international\",\"x\":[2021,2022,2023,2024,2025,2026,2027,2028,2029,2030,2031,2032,2033,2034,2035,2036,2037,2038,2039,2040,2041,2042,2043,2044,2045,2046,2047,2048,2049],\"y\":[606.0898576133349,605.3102864931305,595.435718970543,585.561151447955,575.686583925367,560.0951615212812,544.5037391171951,528.9123167131091,513.320894309023,497.72947190493704,475.90148053921666,454.07348917349617,432.24549780777573,410.41750644205536,388.5895150763349,379.2346616338833,369.87980819143166,360.52495474898,351.1701013065284,341.81524786407675,335.5786789024423,329.3421099408079,323.10554097917355,316.86897201753914,310.6324030559047,307.51411857508754,304.39583409427036,301.2775496134532,298.1592651326359],\"type\":\"scatter\"},{\"fill\":\"tonexty\",\"fillcolor\":\"#999999\",\"mode\":\"none\",\"name\":\"7_Train fret\",\"x\":[2021,2022,2023,2024,2025,2026,2027,2028,2029,2030,2031,2032,2033,2034,2035,2036,2037,2038,2039,2040,2041,2042,2043,2044,2045,2046,2047,2048,2049],\"y\":[607.6980976133348,606.9267664931305,597.1565723038763,587.3863781146217,577.6161839253671,562.1895615212811,546.7629391171952,531.3363167131091,515.909694309023,500.48307190493705,478.88580053921663,457.2885291734961,435.6912578077757,414.09398644205527,392.4967150763349,383.2407416338833,373.98476819143167,364.7287947489801,355.47282130652843,346.2168478640768,340.0461989024423,333.87554994080796,327.70490097917354,321.53425201753913,315.3636030559047,312.2782785750874,309.1929540942703,306.1076296134532,303.0223051326359],\"type\":\"scatter\"}],                        {\"template\":{\"data\":{\"histogram2dcontour\":[{\"type\":\"histogram2dcontour\",\"colorbar\":{\"outlinewidth\":0,\"ticks\":\"\"},\"colorscale\":[[0.0,\"#0d0887\"],[0.1111111111111111,\"#46039f\"],[0.2222222222222222,\"#7201a8\"],[0.3333333333333333,\"#9c179e\"],[0.4444444444444444,\"#bd3786\"],[0.5555555555555556,\"#d8576b\"],[0.6666666666666666,\"#ed7953\"],[0.7777777777777778,\"#fb9f3a\"],[0.8888888888888888,\"#fdca26\"],[1.0,\"#f0f921\"]]}],\"choropleth\":[{\"type\":\"choropleth\",\"colorbar\":{\"outlinewidth\":0,\"ticks\":\"\"}}],\"histogram2d\":[{\"type\":\"histogram2d\",\"colorbar\":{\"outlinewidth\":0,\"ticks\":\"\"},\"colorscale\":[[0.0,\"#0d0887\"],[0.1111111111111111,\"#46039f\"],[0.2222222222222222,\"#7201a8\"],[0.3333333333333333,\"#9c179e\"],[0.4444444444444444,\"#bd3786\"],[0.5555555555555556,\"#d8576b\"],[0.6666666666666666,\"#ed7953\"],[0.7777777777777778,\"#fb9f3a\"],[0.8888888888888888,\"#fdca26\"],[1.0,\"#f0f921\"]]}],\"heatmap\":[{\"type\":\"heatmap\",\"colorbar\":{\"outlinewidth\":0,\"ticks\":\"\"},\"colorscale\":[[0.0,\"#0d0887\"],[0.1111111111111111,\"#46039f\"],[0.2222222222222222,\"#7201a8\"],[0.3333333333333333,\"#9c179e\"],[0.4444444444444444,\"#bd3786\"],[0.5555555555555556,\"#d8576b\"],[0.6666666666666666,\"#ed7953\"],[0.7777777777777778,\"#fb9f3a\"],[0.8888888888888888,\"#fdca26\"],[1.0,\"#f0f921\"]]}],\"heatmapgl\":[{\"type\":\"heatmapgl\",\"colorbar\":{\"outlinewidth\":0,\"ticks\":\"\"},\"colorscale\":[[0.0,\"#0d0887\"],[0.1111111111111111,\"#46039f\"],[0.2222222222222222,\"#7201a8\"],[0.3333333333333333,\"#9c179e\"],[0.4444444444444444,\"#bd3786\"],[0.5555555555555556,\"#d8576b\"],[0.6666666666666666,\"#ed7953\"],[0.7777777777777778,\"#fb9f3a\"],[0.8888888888888888,\"#fdca26\"],[1.0,\"#f0f921\"]]}],\"contourcarpet\":[{\"type\":\"contourcarpet\",\"colorbar\":{\"outlinewidth\":0,\"ticks\":\"\"}}],\"contour\":[{\"type\":\"contour\",\"colorbar\":{\"outlinewidth\":0,\"ticks\":\"\"},\"colorscale\":[[0.0,\"#0d0887\"],[0.1111111111111111,\"#46039f\"],[0.2222222222222222,\"#7201a8\"],[0.3333333333333333,\"#9c179e\"],[0.4444444444444444,\"#bd3786\"],[0.5555555555555556,\"#d8576b\"],[0.6666666666666666,\"#ed7953\"],[0.7777777777777778,\"#fb9f3a\"],[0.8888888888888888,\"#fdca26\"],[1.0,\"#f0f921\"]]}],\"surface\":[{\"type\":\"surface\",\"colorbar\":{\"outlinewidth\":0,\"ticks\":\"\"},\"colorscale\":[[0.0,\"#0d0887\"],[0.1111111111111111,\"#46039f\"],[0.2222222222222222,\"#7201a8\"],[0.3333333333333333,\"#9c179e\"],[0.4444444444444444,\"#bd3786\"],[0.5555555555555556,\"#d8576b\"],[0.6666666666666666,\"#ed7953\"],[0.7777777777777778,\"#fb9f3a\"],[0.8888888888888888,\"#fdca26\"],[1.0,\"#f0f921\"]]}],\"mesh3d\":[{\"type\":\"mesh3d\",\"colorbar\":{\"outlinewidth\":0,\"ticks\":\"\"}}],\"scatter\":[{\"fillpattern\":{\"fillmode\":\"overlay\",\"size\":10,\"solidity\":0.2},\"type\":\"scatter\"}],\"parcoords\":[{\"type\":\"parcoords\",\"line\":{\"colorbar\":{\"outlinewidth\":0,\"ticks\":\"\"}}}],\"scatterpolargl\":[{\"type\":\"scatterpolargl\",\"marker\":{\"colorbar\":{\"outlinewidth\":0,\"ticks\":\"\"}}}],\"bar\":[{\"error_x\":{\"color\":\"#2a3f5f\"},\"error_y\":{\"color\":\"#2a3f5f\"},\"marker\":{\"line\":{\"color\":\"#E5ECF6\",\"width\":0.5},\"pattern\":{\"fillmode\":\"overlay\",\"size\":10,\"solidity\":0.2}},\"type\":\"bar\"}],\"scattergeo\":[{\"type\":\"scattergeo\",\"marker\":{\"colorbar\":{\"outlinewidth\":0,\"ticks\":\"\"}}}],\"scatterpolar\":[{\"type\":\"scatterpolar\",\"marker\":{\"colorbar\":{\"outlinewidth\":0,\"ticks\":\"\"}}}],\"histogram\":[{\"marker\":{\"pattern\":{\"fillmode\":\"overlay\",\"size\":10,\"solidity\":0.2}},\"type\":\"histogram\"}],\"scattergl\":[{\"type\":\"scattergl\",\"marker\":{\"colorbar\":{\"outlinewidth\":0,\"ticks\":\"\"}}}],\"scatter3d\":[{\"type\":\"scatter3d\",\"line\":{\"colorbar\":{\"outlinewidth\":0,\"ticks\":\"\"}},\"marker\":{\"colorbar\":{\"outlinewidth\":0,\"ticks\":\"\"}}}],\"scattermapbox\":[{\"type\":\"scattermapbox\",\"marker\":{\"colorbar\":{\"outlinewidth\":0,\"ticks\":\"\"}}}],\"scatterternary\":[{\"type\":\"scatterternary\",\"marker\":{\"colorbar\":{\"outlinewidth\":0,\"ticks\":\"\"}}}],\"scattercarpet\":[{\"type\":\"scattercarpet\",\"marker\":{\"colorbar\":{\"outlinewidth\":0,\"ticks\":\"\"}}}],\"carpet\":[{\"aaxis\":{\"endlinecolor\":\"#2a3f5f\",\"gridcolor\":\"white\",\"linecolor\":\"white\",\"minorgridcolor\":\"white\",\"startlinecolor\":\"#2a3f5f\"},\"baxis\":{\"endlinecolor\":\"#2a3f5f\",\"gridcolor\":\"white\",\"linecolor\":\"white\",\"minorgridcolor\":\"white\",\"startlinecolor\":\"#2a3f5f\"},\"type\":\"carpet\"}],\"table\":[{\"cells\":{\"fill\":{\"color\":\"#EBF0F8\"},\"line\":{\"color\":\"white\"}},\"header\":{\"fill\":{\"color\":\"#C8D4E3\"},\"line\":{\"color\":\"white\"}},\"type\":\"table\"}],\"barpolar\":[{\"marker\":{\"line\":{\"color\":\"#E5ECF6\",\"width\":0.5},\"pattern\":{\"fillmode\":\"overlay\",\"size\":10,\"solidity\":0.2}},\"type\":\"barpolar\"}],\"pie\":[{\"automargin\":true,\"type\":\"pie\"}]},\"layout\":{\"autotypenumbers\":\"strict\",\"colorway\":[\"#636efa\",\"#EF553B\",\"#00cc96\",\"#ab63fa\",\"#FFA15A\",\"#19d3f3\",\"#FF6692\",\"#B6E880\",\"#FF97FF\",\"#FECB52\"],\"font\":{\"color\":\"#2a3f5f\"},\"hovermode\":\"closest\",\"hoverlabel\":{\"align\":\"left\"},\"paper_bgcolor\":\"white\",\"plot_bgcolor\":\"#E5ECF6\",\"polar\":{\"bgcolor\":\"#E5ECF6\",\"angularaxis\":{\"gridcolor\":\"white\",\"linecolor\":\"white\",\"ticks\":\"\"},\"radialaxis\":{\"gridcolor\":\"white\",\"linecolor\":\"white\",\"ticks\":\"\"}},\"ternary\":{\"bgcolor\":\"#E5ECF6\",\"aaxis\":{\"gridcolor\":\"white\",\"linecolor\":\"white\",\"ticks\":\"\"},\"baxis\":{\"gridcolor\":\"white\",\"linecolor\":\"white\",\"ticks\":\"\"},\"caxis\":{\"gridcolor\":\"white\",\"linecolor\":\"white\",\"ticks\":\"\"}},\"coloraxis\":{\"colorbar\":{\"outlinewidth\":0,\"ticks\":\"\"}},\"colorscale\":{\"sequential\":[[0.0,\"#0d0887\"],[0.1111111111111111,\"#46039f\"],[0.2222222222222222,\"#7201a8\"],[0.3333333333333333,\"#9c179e\"],[0.4444444444444444,\"#bd3786\"],[0.5555555555555556,\"#d8576b\"],[0.6666666666666666,\"#ed7953\"],[0.7777777777777778,\"#fb9f3a\"],[0.8888888888888888,\"#fdca26\"],[1.0,\"#f0f921\"]],\"sequentialminus\":[[0.0,\"#0d0887\"],[0.1111111111111111,\"#46039f\"],[0.2222222222222222,\"#7201a8\"],[0.3333333333333333,\"#9c179e\"],[0.4444444444444444,\"#bd3786\"],[0.5555555555555556,\"#d8576b\"],[0.6666666666666666,\"#ed7953\"],[0.7777777777777778,\"#fb9f3a\"],[0.8888888888888888,\"#fdca26\"],[1.0,\"#f0f921\"]],\"diverging\":[[0,\"#8e0152\"],[0.1,\"#c51b7d\"],[0.2,\"#de77ae\"],[0.3,\"#f1b6da\"],[0.4,\"#fde0ef\"],[0.5,\"#f7f7f7\"],[0.6,\"#e6f5d0\"],[0.7,\"#b8e186\"],[0.8,\"#7fbc41\"],[0.9,\"#4d9221\"],[1,\"#276419\"]]},\"xaxis\":{\"gridcolor\":\"white\",\"linecolor\":\"white\",\"ticks\":\"\",\"title\":{\"standoff\":15},\"zerolinecolor\":\"white\",\"automargin\":true,\"zerolinewidth\":2},\"yaxis\":{\"gridcolor\":\"white\",\"linecolor\":\"white\",\"ticks\":\"\",\"title\":{\"standoff\":15},\"zerolinecolor\":\"white\",\"automargin\":true,\"zerolinewidth\":2},\"scene\":{\"xaxis\":{\"backgroundcolor\":\"#E5ECF6\",\"gridcolor\":\"white\",\"linecolor\":\"white\",\"showbackground\":true,\"ticks\":\"\",\"zerolinecolor\":\"white\",\"gridwidth\":2},\"yaxis\":{\"backgroundcolor\":\"#E5ECF6\",\"gridcolor\":\"white\",\"linecolor\":\"white\",\"showbackground\":true,\"ticks\":\"\",\"zerolinecolor\":\"white\",\"gridwidth\":2},\"zaxis\":{\"backgroundcolor\":\"#E5ECF6\",\"gridcolor\":\"white\",\"linecolor\":\"white\",\"showbackground\":true,\"ticks\":\"\",\"zerolinecolor\":\"white\",\"gridwidth\":2}},\"shapedefaults\":{\"line\":{\"color\":\"#2a3f5f\"}},\"annotationdefaults\":{\"arrowcolor\":\"#2a3f5f\",\"arrowhead\":0,\"arrowwidth\":1},\"geo\":{\"bgcolor\":\"white\",\"landcolor\":\"#E5ECF6\",\"subunitcolor\":\"white\",\"showland\":true,\"showlakes\":true,\"lakecolor\":\"white\"},\"title\":{\"x\":0.05},\"mapbox\":{\"style\":\"light\"}}},\"xaxis\":{\"rangeslider\":{\"visible\":true},\"title\":{\"text\":\"Ann\\u00e9e\"}},\"title\":{\"text\":\"Conso \\u00e9nergie finale par mode de transport (en TWh)\"},\"yaxis\":{\"title\":{\"text\":\"Conso [TWh]\"}}},                        {\"responsive\": true}                    ).then(function(){\n                            \nvar gd = document.getElementById('45f60146-0dc6-41b9-9a12-7d9cb14a1f40');\nvar x = new MutationObserver(function (mutations, observer) {{\n        var display = window.getComputedStyle(gd).display;\n        if (!display || display === 'none') {{\n            console.log([gd, 'removed!']);\n            Plotly.purge(gd);\n            observer.disconnect();\n        }}\n}});\n\n// Listen for the removal of the full notebook cells\nvar notebookContainer = gd.closest('#notebook-container');\nif (notebookContainer) {{\n    x.observe(notebookContainer, {childList: true});\n}}\n\n// Listen for the clearing of the current output cell\nvar outputEl = gd.closest('.output');\nif (outputEl) {{\n    x.observe(outputEl, {childList: true});\n}}\n\n                        })                };                });            </script>        </div>"
     },
     "metadata": {},
     "output_type": "display_data"
    }
   ],
   "source": [
    "#region représentations graphiques\n",
    "\n",
    "Var = \"Conso\"\n",
    "y_df = sim_stock_df.groupby([\"year\",Energy_system_name])[Var].sum().to_frame().reset_index().\\\n",
    "    pivot(index=['year'], columns=Energy_system_name).loc[[year for year in sim_param[\"years\"][1:]],Var]\n",
    "y_df.columns=pd.MultiIndex.from_tuples([(str(col_class_dict[key]),key) for key in y_df.columns])\n",
    "\n",
    "fig = MyStackedPlotly(y_df=y_df)\n",
    "fig=fig.update_layout(title_text=\"Conso énergie finale par mode de transport (en TWh)\", xaxis_title=\"Année\",yaxis_title=\"Conso [TWh]\")\n",
    "#plotly.offline.plot(fig, filename=Graphic_folder+'file.html') ## offline\n",
    "fig.show()\n",
    "\n",
    "#endregion"
   ]
  },
  {
   "cell_type": "code",
   "execution_count": 38,
   "metadata": {
    "pycharm": {
     "name": "#%%\n"
    }
   },
   "outputs": [
    {
     "data": {
      "application/vnd.plotly.v1+json": {
       "data": [
        {
         "fill": "tozeroy",
         "fillcolor": "#f7babb",
         "mode": "none",
         "name": "1_Bus et cars GNV",
         "x": [
          2021,
          2022,
          2023,
          2024,
          2025,
          2026,
          2027,
          2028,
          2029,
          2030,
          2031,
          2032,
          2033,
          2034,
          2035,
          2036,
          2037,
          2038,
          2039,
          2040,
          2041,
          2042,
          2043,
          2044,
          2045,
          2046,
          2047,
          2048,
          2049
         ],
         "y": [
          0.006474523971999976,
          0.0070185387813332875,
          0.016871808314666625,
          0.025673881787555523,
          0.033424759199999966,
          0.04511525591999997,
          0.05514596938666666,
          0.0635168996,
          0.07022804656,
          0.07527941026666668,
          0.08245573332266667,
          0.08730835982400002,
          0.08983728977066668,
          0.09004252316266664,
          0.08792405999999998,
          0.0875379036,
          0.08682415839999999,
          0.0857828244,
          0.08441390160000001,
          0.08271738999999996,
          0.07979242039999998,
          0.07664905826666664,
          0.07328730359999998,
          0.06970715639999997,
          0.06590861666666664,
          0.061263805866666646,
          0.0565097988,
          0.05164659546666666,
          0.04667419586666665
         ],
         "type": "scatter"
        },
        {
         "fill": "tonexty",
         "fillcolor": "#f18486",
         "mode": "none",
         "name": "1_Bus et cars H2",
         "x": [
          2021,
          2022,
          2023,
          2024,
          2025,
          2026,
          2027,
          2028,
          2029,
          2030,
          2031,
          2032,
          2033,
          2034,
          2035,
          2036,
          2037,
          2038,
          2039,
          2040,
          2041,
          2042,
          2043,
          2044,
          2045,
          2046,
          2047,
          2048,
          2049
         ],
         "y": [
          0.006984256971999963,
          0.00800285078133326,
          0.0238323003146666,
          0.0381652697875555,
          0.05100175919999995,
          0.07042613591999997,
          0.08748764938666664,
          0.10218629959999999,
          0.11452208655999999,
          0.12449501026666668,
          0.1385615173226667,
          0.14932001582400004,
          0.1567705057706667,
          0.16091298716266664,
          0.16174746,
          0.16281433560000003,
          0.1634130064,
          0.1635434724,
          0.1632057336,
          0.16239979,
          0.15931076839999997,
          0.15590961026666667,
          0.15219631559999997,
          0.14817088439999998,
          0.14383331666666666,
          0.13775890986666664,
          0.13152843479999998,
          0.12514189146666668,
          0.11859927986666663
         ],
         "type": "scatter"
        },
        {
         "fill": "tonexty",
         "fillcolor": "#eb4f50",
         "mode": "none",
         "name": "1_Bus et cars diesel",
         "x": [
          2021,
          2022,
          2023,
          2024,
          2025,
          2026,
          2027,
          2028,
          2029,
          2030,
          2031,
          2032,
          2033,
          2034,
          2035,
          2036,
          2037,
          2038,
          2039,
          2040,
          2041,
          2042,
          2043,
          2044,
          2045,
          2046,
          2047,
          2048,
          2049
         ],
         "y": [
          2.402008569772,
          2.3577798859813335,
          2.2608300955146663,
          2.1648818132542225,
          2.0699350392,
          1.9436708239200002,
          1.8189879373866669,
          1.6958863795999999,
          1.57436615056,
          1.4544272502666666,
          1.3023939717226667,
          1.1525745534239997,
          1.0049689953706669,
          0.8595772975626668,
          0.7163994600000001,
          0.6553453116000001,
          0.5953020303999998,
          0.5362696163999998,
          0.47824806960000005,
          0.42123738999999993,
          0.3804320323999999,
          0.3403005862666666,
          0.3008430516,
          0.2620594284,
          0.2239497166666667,
          0.20086598186666665,
          0.1781192028,
          0.1557093794666667,
          0.1336365118666666
         ],
         "type": "scatter"
        },
        {
         "fill": "tonexty",
         "fillcolor": "#e41a1c",
         "mode": "none",
         "name": "1_Bus et cars électrique",
         "x": [
          2021,
          2022,
          2023,
          2024,
          2025,
          2026,
          2027,
          2028,
          2029,
          2030,
          2031,
          2032,
          2033,
          2034,
          2035,
          2036,
          2037,
          2038,
          2039,
          2040,
          2041,
          2042,
          2043,
          2044,
          2045,
          2046,
          2047,
          2048,
          2049
         ],
         "y": [
          2.4022478813245,
          2.3581647248413335,
          2.263079496024666,
          2.1688566416442225,
          2.0754961617000003,
          1.9516457203200002,
          1.8291569227866669,
          1.7080297691,
          1.58826425926,
          1.4698603932666667,
          1.3199772667426668,
          1.1720004416039997,
          1.025929917850667,
          0.8817656954826668,
          0.7395077745,
          0.6789067215600001,
          0.6192725988399999,
          0.5606054063399998,
          0.5029051440600001,
          0.44617181199999995,
          0.4053142745899999,
          0.3651013573266666,
          0.32553306021,
          0.28660938324,
          0.2483303264166667,
          0.22479897898666665,
          0.20158994163,
          0.1787032143466667,
          0.15613879713666662
         ],
         "type": "scatter"
        },
        {
         "fill": "tonexty",
         "fillcolor": "#c0d9ec",
         "mode": "none",
         "name": "2_Camion fret",
         "x": [
          2021,
          2022,
          2023,
          2024,
          2025,
          2026,
          2027,
          2028,
          2029,
          2030,
          2031,
          2032,
          2033,
          2034,
          2035,
          2036,
          2037,
          2038,
          2039,
          2040,
          2041,
          2042,
          2043,
          2044,
          2045,
          2046,
          2047,
          2048,
          2049
         ],
         "y": [
          41.2823798813245,
          40.52105272484133,
          38.81016749602467,
          37.13338197497756,
          35.4906961617,
          33.31316572032,
          31.189476922786664,
          29.1196297691,
          27.103624259260002,
          25.141460393266666,
          22.66631326674267,
          20.266544441604,
          17.94215391785067,
          15.693141695482668,
          13.5195077745,
          12.560346721560002,
          11.621832598840001,
          10.703965406340002,
          9.806745144060004,
          8.930171812,
          8.31547427459,
          7.714541357326667,
          7.127373060210002,
          6.553969383240003,
          5.9943303264166685,
          5.672478978986667,
          5.35750994163,
          5.0494232143466675,
          4.7482187971366665
         ],
         "type": "scatter"
        },
        {
         "fill": "tonexty",
         "fillcolor": "#90bbde",
         "mode": "none",
         "name": "2_Rail court",
         "x": [
          2021,
          2022,
          2023,
          2024,
          2025,
          2026,
          2027,
          2028,
          2029,
          2030,
          2031,
          2032,
          2033,
          2034,
          2035,
          2036,
          2037,
          2038,
          2039,
          2040,
          2041,
          2042,
          2043,
          2044,
          2045,
          2046,
          2047,
          2048,
          2049
         ],
         "y": [
          41.57909626586898,
          40.80826615603767,
          39.09602319655916,
          37.417220693599766,
          35.7718586471595,
          33.59557278268516,
          31.472087639030487,
          29.401403216195483,
          27.383519514180136,
          25.41843653298445,
          22.943284875733717,
          20.542054227630505,
          18.214744588674826,
          15.961355958866665,
          13.781888338206038,
          12.821476667391389,
          11.881503742191336,
          10.961969562605885,
          10.062874128635034,
          9.184217440278776,
          8.565875162032018,
          7.96115871419499,
          7.370068096767699,
          6.792603309750138,
          6.228764353142309,
          5.901394603426941,
          5.580837768916441,
          5.267093849610808,
          4.96016284551004
         ],
         "type": "scatter"
        },
        {
         "fill": "tonexty",
         "fillcolor": "#5f9dcf",
         "mode": "none",
         "name": "2_Rail long",
         "x": [
          2021,
          2022,
          2023,
          2024,
          2025,
          2026,
          2027,
          2028,
          2029,
          2030,
          2031,
          2032,
          2033,
          2034,
          2035,
          2036,
          2037,
          2038,
          2039,
          2040,
          2041,
          2042,
          2043,
          2044,
          2045,
          2046,
          2047,
          2048,
          2049
         ],
         "y": [
          41.72849985510622,
          40.952521727463626,
          39.235173565147065,
          37.55126239402697,
          35.90078821410336,
          33.719410825696144,
          31.59082868654653,
          29.51504179665451,
          27.49205015602007,
          25.52185376464322,
          23.04160401758513,
          20.635267619487657,
          18.30284457035081,
          16.044334870174584,
          13.859738518958984,
          12.897620919000728,
          11.955940970344653,
          11.034698672990764,
          10.133894026939062,
          9.253527032189536,
          8.6334662402064,
          8.027030549091386,
          7.434219958844498,
          6.85503446946573,
          6.289474080955085,
          5.960375968691606,
          5.638090406862191,
          5.322617395466839,
          5.013956934505546
         ],
         "type": "scatter"
        },
        {
         "fill": "tonexty",
         "fillcolor": "#377eb8",
         "mode": "none",
         "name": "2_camion fret H2",
         "x": [
          2021,
          2022,
          2023,
          2024,
          2025,
          2026,
          2027,
          2028,
          2029,
          2030,
          2031,
          2032,
          2033,
          2034,
          2035,
          2036,
          2037,
          2038,
          2039,
          2040,
          2041,
          2042,
          2043,
          2044,
          2045,
          2046,
          2047,
          2048,
          2049
         ],
         "y": [
          41.744159855106226,
          40.982761727463625,
          39.44901356514706,
          37.93502239402697,
          36.44078821410336,
          34.49701082569615,
          32.58442868654653,
          30.70304179665451,
          28.85285015602007,
          27.033853764643222,
          24.76528401758513,
          22.540387619487657,
          20.359164570350814,
          18.221614870174584,
          16.12773851895899,
          15.210260919000728,
          14.308900970344654,
          13.423658672990765,
          12.554534026939061,
          11.701527032189537,
          11.076426240206402,
          10.462070549091388,
          9.858459958844499,
          9.26559446946573,
          8.683474080955087,
          8.310455968691606,
          7.942810406862191,
          7.580537395466839,
          7.223636934505546
         ],
         "type": "scatter"
        },
        {
         "fill": "tonexty",
         "fillcolor": "#e1c8e5",
         "mode": "none",
         "name": "3_VP GNV",
         "x": [
          2021,
          2022,
          2023,
          2024,
          2025,
          2026,
          2027,
          2028,
          2029,
          2030,
          2031,
          2032,
          2033,
          2034,
          2035,
          2036,
          2037,
          2038,
          2039,
          2040,
          2041,
          2042,
          2043,
          2044,
          2045,
          2046,
          2047,
          2048,
          2049
         ],
         "y": [
          41.83105670193955,
          41.0767671642414,
          39.67294992136929,
          38.27502063798994,
          36.88297931410336,
          35.093372435696146,
          33.313062335435426,
          31.542049013321176,
          29.780332469353407,
          28.027912703532113,
          25.853955387807353,
          23.693013561487657,
          21.545087224573034,
          19.410176377063472,
          17.288281018958987,
          16.36568596900073,
          15.454886503677987,
          14.555882622990765,
          13.668674326939062,
          12.79326161552287,
          12.129547356873069,
          11.473696821313611,
          10.8257100088445,
          10.185586919465731,
          9.553327553177308,
          9.119005124247163,
          8.688614556862191,
          8.262155851022394,
          7.839629006727767
         ],
         "type": "scatter"
        },
        {
         "fill": "tonexty",
         "fillcolor": "#be89c6",
         "mode": "none",
         "name": "3_VP fuel",
         "x": [
          2021,
          2022,
          2023,
          2024,
          2025,
          2026,
          2027,
          2028,
          2029,
          2030,
          2031,
          2032,
          2033,
          2034,
          2035,
          2036,
          2037,
          2038,
          2039,
          2040,
          2041,
          2042,
          2043,
          2044,
          2045,
          2046,
          2047,
          2048,
          2049
         ],
         "y": [
          104.14075870193955,
          102.20930183090807,
          97.87138458803597,
          93.60434374910102,
          89.40817931410335,
          83.82829243569614,
          78.36031566876873,
          73.00424901332117,
          67.76009246935338,
          62.627846036865435,
          56.132584721140674,
          49.79399756148764,
          43.61208455790636,
          37.586845710396794,
          31.718281018958976,
          29.179525969000718,
          26.69104650367797,
          24.25284262299075,
          21.86491432693905,
          19.527261615522857,
          17.882307356873053,
          16.270870154646932,
          14.692950008844488,
          13.14854691946572,
          11.63766088651063,
          10.760818457580484,
          9.90073455686218,
          9.057409184355715,
          8.230842340061088
         ],
         "type": "scatter"
        },
        {
         "fill": "tonexty",
         "fillcolor": "#984ea3",
         "mode": "none",
         "name": "3_VP électrique",
         "x": [
          2021,
          2022,
          2023,
          2024,
          2025,
          2026,
          2027,
          2028,
          2029,
          2030,
          2031,
          2032,
          2033,
          2034,
          2035,
          2036,
          2037,
          2038,
          2039,
          2040,
          2041,
          2042,
          2043,
          2044,
          2045,
          2046,
          2047,
          2048,
          2049
         ],
         "y": [
          104.15801862576255,
          102.23342348298007,
          97.98572543568797,
          93.80215707506235,
          89.68271840110334,
          84.21968249697615,
          78.85790399284873,
          73.59738288872117,
          68.43811918459338,
          63.38011288046543,
          56.98891928524468,
          50.73948605002364,
          44.63181317480236,
          38.66590065958079,
          32.841748504358975,
          30.32489944079272,
          27.85619541956597,
          25.435636440678753,
          23.063222504131055,
          20.738953609922856,
          19.091404101261052,
          17.475951287492265,
          15.892595168616488,
          14.341335744633719,
          12.822173015543964,
          11.923560455937817,
          11.04099624377818,
          10.174480379065049,
          9.324012861798423
         ],
         "type": "scatter"
        },
        {
         "fill": "tonexty",
         "fillcolor": "#ffd9b2",
         "mode": "none",
         "name": "4_VUL GNV",
         "x": [
          2021,
          2022,
          2023,
          2024,
          2025,
          2026,
          2027,
          2028,
          2029,
          2030,
          2031,
          2032,
          2033,
          2034,
          2035,
          2036,
          2037,
          2038,
          2039,
          2040,
          2041,
          2042,
          2043,
          2044,
          2045,
          2046,
          2047,
          2048,
          2049
         ],
         "y": [
          104.62247818375417,
          102.67962949906696,
          98.45160404330753,
          94.28342567552767,
          90.17509439572748,
          84.73921599202227,
          79.39783299039009,
          74.15094539083104,
          68.99855319334503,
          63.94065639793214,
          57.55822944824578,
          51.30809606146173,
          45.19025623758001,
          39.204709976600576,
          33.351457278523476,
          30.82630149384109,
          28.34795614664425,
          25.916421236932983,
          23.53169676470727,
          21.193782729967104,
          19.527583312570982,
          17.892590853498568,
          16.288805352749858,
          14.71622681032485,
          13.17485522622355,
          12.25058608239979,
          11.34192041773789,
          10.448858232237843,
          9.571399525899647
         ],
         "type": "scatter"
        },
        {
         "fill": "tonexty",
         "fillcolor": "#ffac59",
         "mode": "none",
         "name": "4_VUL fuel",
         "x": [
          2021,
          2022,
          2023,
          2024,
          2025,
          2026,
          2027,
          2028,
          2029,
          2030,
          2031,
          2032,
          2033,
          2034,
          2035,
          2036,
          2037,
          2038,
          2039,
          2040,
          2041,
          2042,
          2043,
          2044,
          2045,
          2046,
          2047,
          2048,
          2049
         ],
         "y": [
          124.44391340505265,
          122.12659420785528,
          116.96519768441183,
          111.88432182305188,
          106.88396662377548,
          100.24235641460307,
          93.72788409293088,
          87.34054965875903,
          81.08035311208742,
          74.94729445291614,
          67.19021083567682,
          59.61112026093789,
          52.210022728699364,
          44.986918238961216,
          37.94180679172347,
          34.902531861562686,
          31.922308300922648,
          29.00113610980338,
          26.139015288204867,
          23.335945836127102,
          21.357602651833382,
          19.41862704722017,
          17.519019022287456,
          15.65877857703525,
          13.837905711463549,
          12.77286584923499,
          11.72750977684669,
          10.701837494298642,
          9.695849001590844
         ],
         "type": "scatter"
        },
        {
         "fill": "tonexty",
         "fillcolor": "#ff7f00",
         "mode": "none",
         "name": "4_VUL électrique",
         "x": [
          2021,
          2022,
          2023,
          2024,
          2025,
          2026,
          2027,
          2028,
          2029,
          2030,
          2031,
          2032,
          2033,
          2034,
          2035,
          2036,
          2037,
          2038,
          2039,
          2040,
          2041,
          2042,
          2043,
          2044,
          2045,
          2046,
          2047,
          2048,
          2049
         ],
         "y": [
          124.44641338558033,
          122.13104924446043,
          116.99442617354826,
          111.9364769083506,
          106.95720144886748,
          100.34765491473554,
          93.86233017910016,
          87.50122724196143,
          81.26434610331927,
          75.15168676317374,
          67.42316751417049,
          59.86855878306246,
          52.4878605698497,
          45.28107287453216,
          38.24819569710987,
          35.21494291622336,
          32.24015828705686,
          29.32384180961039,
          26.465993483883942,
          23.6666133098775,
          21.68758527014959,
          19.74753599823503,
          17.84646549413381,
          15.984373757845937,
          14.161260789371415,
          13.09028711150204,
          12.038802817539345,
          11.006807907483324,
          9.994302381333975
         ],
         "type": "scatter"
        },
        {
         "fill": "tonexty",
         "fillcolor": "#edcab6",
         "mode": "none",
         "name": "5_aerien_international",
         "x": [
          2021,
          2022,
          2023,
          2024,
          2025,
          2026,
          2027,
          2028,
          2029,
          2030,
          2031,
          2032,
          2033,
          2034,
          2035,
          2036,
          2037,
          2038,
          2039,
          2040,
          2041,
          2042,
          2043,
          2044,
          2045,
          2046,
          2047,
          2048,
          2049
         ],
         "y": [
          142.82516569669144,
          140.2033715259419,
          134.7086128994742,
          129.29444065156048,
          123.96085478220081,
          116.96797580362443,
          110.10233847539645,
          103.36394279751698,
          96.75278876998594,
          90.26887639280338,
          82.14139696602234,
          74.19205584972913,
          66.42085304392377,
          58.82778854860623,
          51.41286236377654,
          48.16218024955669,
          44.97109873150131,
          41.83961780961039,
          38.76773748388394,
          35.755457754321945,
          33.57768571459403,
          31.439647405642436,
          29.34134282746714,
          27.28277198006816,
          25.26393486344549,
          24.010071407798335,
          22.776074817539346,
          21.56194509266851,
          20.36768223318583
         ],
         "type": "scatter"
        },
        {
         "fill": "tonexty",
         "fillcolor": "#d98c60",
         "mode": "none",
         "name": "5_aerien_interne",
         "x": [
          2021,
          2022,
          2023,
          2024,
          2025,
          2026,
          2027,
          2028,
          2029,
          2030,
          2031,
          2032,
          2033,
          2034,
          2035,
          2036,
          2037,
          2038,
          2039,
          2040,
          2041,
          2042,
          2043,
          2044,
          2045,
          2046,
          2047,
          2048,
          2049
         ],
         "y": [
          143.79627018949145,
          141.1572084411419,
          135.63013909467418,
          130.18421256836046,
          124.8194288622008,
          117.78690841162441,
          110.88250820339647,
          104.106228237517,
          97.45806851398594,
          90.93802903280337,
          82.76636142042233,
          74.77406214732915,
          66.96113121352377,
          59.32756861900624,
          51.87337436377655,
          48.60436162555669,
          45.3952789555013,
          42.24612635361039,
          39.156903819883944,
          36.12761135432196,
          33.93694497859403,
          31.786231981642434,
          29.67547236346714,
          27.60466612406816,
          25.573813263445487,
          24.311668079798338,
          23.069499585539347,
          21.84730778066851,
          20.64509266518583
         ],
         "type": "scatter"
        },
        {
         "fill": "tonexty",
         "fillcolor": "#a65628",
         "mode": "none",
         "name": "5_aerien_outre_mer",
         "x": [
          2021,
          2022,
          2023,
          2024,
          2025,
          2026,
          2027,
          2028,
          2029,
          2030,
          2031,
          2032,
          2033,
          2034,
          2035,
          2036,
          2037,
          2038,
          2039,
          2040,
          2041,
          2042,
          2043,
          2044,
          2045,
          2046,
          2047,
          2048,
          2049
         ],
         "y": [
          145.49277040282476,
          142.82542280558633,
          137.26529479245198,
          131.78648614465675,
          126.3889968622008,
          119.32109187829109,
          112.38158589228534,
          105.57047890418366,
          98.88777091398593,
          92.33346192169225,
          84.12496721597789,
          76.09623110732913,
          68.247253595746,
          60.578034681228466,
          53.088574363776544,
          49.79949122555669,
          46.57044268883464,
          43.40142875361039,
          40.292449419883944,
          37.24350468765528,
          35.03449271192737,
          32.865503803864655,
          30.736537963467143,
          28.64759519073483,
          26.59867548566771,
          25.319648168687223,
          24.060632385539346,
          22.821628136224064,
          21.602635420741386
         ],
         "type": "scatter"
        },
        {
         "fill": "tonexty",
         "fillcolor": "#fdd9ec",
         "mode": "none",
         "name": "6_deux roues diesel",
         "x": [
          2021,
          2022,
          2023,
          2024,
          2025,
          2026,
          2027,
          2028,
          2029,
          2030,
          2031,
          2032,
          2033,
          2034,
          2035,
          2036,
          2037,
          2038,
          2039,
          2040,
          2041,
          2042,
          2043,
          2044,
          2045,
          2046,
          2047,
          2048,
          2049
         ],
         "y": [
          146.9036238681713,
          144.2096221455203,
          138.58305848882162,
          133.03928570461275,
          127.57830379289386,
          120.42457702680593,
          113.40157269096521,
          106.50929078537177,
          99.74773131002554,
          93.11689426492657,
          84.81055401465775,
          76.68722516673508,
          68.74690772115855,
          60.989601677928135,
          53.415307037043874,
          50.08962983941808,
          46.824858530418794,
          43.62099311004603,
          40.47803357829979,
          37.39597993518004,
          35.16475013766995,
          32.97412426591086,
          30.824102319902785,
          28.71468429964572,
          26.645870205139655,
          25.356823086178974,
          24.088077930093803,
          22.83963473688413,
          21.611493506549966
         ],
         "type": "scatter"
        },
        {
         "fill": "tonexty",
         "fillcolor": "#f781bf",
         "mode": "none",
         "name": "6_deux roues électrique",
         "x": [
          2021,
          2022,
          2023,
          2024,
          2025,
          2026,
          2027,
          2028,
          2029,
          2030,
          2031,
          2032,
          2033,
          2034,
          2035,
          2036,
          2037,
          2038,
          2039,
          2040,
          2041,
          2042,
          2043,
          2044,
          2045,
          2046,
          2047,
          2048,
          2049
         ],
         "y": [
          146.90475782169295,
          144.21092261647243,
          138.58682400696873,
          133.04533023346698,
          127.58644129596738,
          120.4359139316318,
          113.41581525572047,
          106.5261452682335,
          99.7669039691708,
          93.1380913585324,
          84.83459801982842,
          76.71370484491844,
          68.7754118338025,
          61.01971898648055,
          53.44662630295264,
          50.12154558566092,
          46.857312008631126,
          43.65392557186326,
          40.51138627535733,
          37.42969411911331,
          35.19838519574453,
          33.00764103255036,
          30.857461629530818,
          28.747846986685893,
          26.678797104015572,
          25.38914212391491,
          24.119769523901564,
          22.870679303975518,
          21.641871464136788
         ],
         "type": "scatter"
        },
        {
         "fill": "tonexty",
         "fillcolor": "#e0e0e0",
         "mode": "none",
         "name": "7_Avion fret  international",
         "x": [
          2021,
          2022,
          2023,
          2024,
          2025,
          2026,
          2027,
          2028,
          2029,
          2030,
          2031,
          2032,
          2033,
          2034,
          2035,
          2036,
          2037,
          2038,
          2039,
          2040,
          2041,
          2042,
          2043,
          2044,
          2045,
          2046,
          2047,
          2048,
          2049
         ],
         "y": [
          154.5507130150263,
          151.72600896758357,
          145.91078469141317,
          140.18039413420775,
          134.5348372959674,
          127.16382019829847,
          119.9267510779427,
          112.82362993490018,
          105.8544567691708,
          99.01923158075464,
          90.47703618871732,
          82.12236796491844,
          73.95522690935803,
          65.9756130220361,
          58.183526302952636,
          54.74645678566092,
          51.37155414196447,
          48.05881837186326,
          44.808249475357336,
          41.61984745244664,
          39.29832532907786,
          37.01824778810592,
          34.779614829530814,
          32.582426453352554,
          30.42668265957113,
          29.06529074613714,
          27.724621123901564,
          26.404673792864404,
          25.105448753025676
         ],
         "type": "scatter"
        },
        {
         "fill": "tonexty",
         "fillcolor": "#bdbdbd",
         "mode": "none",
         "name": "7_Bateau fret  international",
         "x": [
          2021,
          2022,
          2023,
          2024,
          2025,
          2026,
          2027,
          2028,
          2029,
          2030,
          2031,
          2032,
          2033,
          2034,
          2035,
          2036,
          2037,
          2038,
          2039,
          2040,
          2041,
          2042,
          2043,
          2044,
          2045,
          2046,
          2047,
          2048,
          2049
         ],
         "y": [
          155.6662588724041,
          152.82296373102056,
          146.98610682596131,
          141.23419614538795,
          135.56723168930074,
          128.17309977652067,
          120.91309348135012,
          113.78721280378907,
          106.79545774383746,
          99.93782830149539,
          91.37159880581362,
          82.99314517478511,
          74.8024674084099,
          66.79956550668794,
          58.98443946961931,
          55.53422635099425,
          52.14624672107557,
          48.820500579863264,
          45.55698792735733,
          42.35570876355775,
          40.02214218818897,
          37.7300646052911,
          35.47947601486415,
          33.270376416908114,
          31.102765811422984,
          29.73026205754454,
          28.378502799901565,
          27.047488038494034,
          25.73721777332197
         ],
         "type": "scatter"
        },
        {
         "fill": "tonexty",
         "fillcolor": "#999999",
         "mode": "none",
         "name": "7_Train fret",
         "x": [
          2021,
          2022,
          2023,
          2024,
          2025,
          2026,
          2027,
          2028,
          2029,
          2030,
          2031,
          2032,
          2033,
          2034,
          2035,
          2036,
          2037,
          2038,
          2039,
          2040,
          2041,
          2042,
          2043,
          2044,
          2045,
          2046,
          2047,
          2048,
          2049
         ],
         "y": [
          155.7595367924041,
          152.9134866110206,
          147.0790329059613,
          141.32910793205463,
          135.66371168930075,
          128.27363097652068,
          121.01701668135013,
          113.89386880378906,
          106.90418734383746,
          100.04797230149538,
          91.48500296581362,
          83.1088866147851,
          74.91962324840988,
          66.91721286668795,
          59.10165546961931,
          55.65173803099425,
          52.26392224107557,
          48.93820809986326,
          45.67459560735733,
          42.47308476355775,
          40.13829770818897,
          37.84491175195777,
          35.59292689486415,
          33.38234313690811,
          31.213160478089648,
          29.83824968421121,
          28.484039439901565,
          27.150529745160703,
          25.83772059998864
         ],
         "type": "scatter"
        }
       ],
       "layout": {
        "template": {
         "data": {
          "histogram2dcontour": [
           {
            "type": "histogram2dcontour",
            "colorbar": {
             "outlinewidth": 0,
             "ticks": ""
            },
            "colorscale": [
             [
              0.0,
              "#0d0887"
             ],
             [
              0.1111111111111111,
              "#46039f"
             ],
             [
              0.2222222222222222,
              "#7201a8"
             ],
             [
              0.3333333333333333,
              "#9c179e"
             ],
             [
              0.4444444444444444,
              "#bd3786"
             ],
             [
              0.5555555555555556,
              "#d8576b"
             ],
             [
              0.6666666666666666,
              "#ed7953"
             ],
             [
              0.7777777777777778,
              "#fb9f3a"
             ],
             [
              0.8888888888888888,
              "#fdca26"
             ],
             [
              1.0,
              "#f0f921"
             ]
            ]
           }
          ],
          "choropleth": [
           {
            "type": "choropleth",
            "colorbar": {
             "outlinewidth": 0,
             "ticks": ""
            }
           }
          ],
          "histogram2d": [
           {
            "type": "histogram2d",
            "colorbar": {
             "outlinewidth": 0,
             "ticks": ""
            },
            "colorscale": [
             [
              0.0,
              "#0d0887"
             ],
             [
              0.1111111111111111,
              "#46039f"
             ],
             [
              0.2222222222222222,
              "#7201a8"
             ],
             [
              0.3333333333333333,
              "#9c179e"
             ],
             [
              0.4444444444444444,
              "#bd3786"
             ],
             [
              0.5555555555555556,
              "#d8576b"
             ],
             [
              0.6666666666666666,
              "#ed7953"
             ],
             [
              0.7777777777777778,
              "#fb9f3a"
             ],
             [
              0.8888888888888888,
              "#fdca26"
             ],
             [
              1.0,
              "#f0f921"
             ]
            ]
           }
          ],
          "heatmap": [
           {
            "type": "heatmap",
            "colorbar": {
             "outlinewidth": 0,
             "ticks": ""
            },
            "colorscale": [
             [
              0.0,
              "#0d0887"
             ],
             [
              0.1111111111111111,
              "#46039f"
             ],
             [
              0.2222222222222222,
              "#7201a8"
             ],
             [
              0.3333333333333333,
              "#9c179e"
             ],
             [
              0.4444444444444444,
              "#bd3786"
             ],
             [
              0.5555555555555556,
              "#d8576b"
             ],
             [
              0.6666666666666666,
              "#ed7953"
             ],
             [
              0.7777777777777778,
              "#fb9f3a"
             ],
             [
              0.8888888888888888,
              "#fdca26"
             ],
             [
              1.0,
              "#f0f921"
             ]
            ]
           }
          ],
          "heatmapgl": [
           {
            "type": "heatmapgl",
            "colorbar": {
             "outlinewidth": 0,
             "ticks": ""
            },
            "colorscale": [
             [
              0.0,
              "#0d0887"
             ],
             [
              0.1111111111111111,
              "#46039f"
             ],
             [
              0.2222222222222222,
              "#7201a8"
             ],
             [
              0.3333333333333333,
              "#9c179e"
             ],
             [
              0.4444444444444444,
              "#bd3786"
             ],
             [
              0.5555555555555556,
              "#d8576b"
             ],
             [
              0.6666666666666666,
              "#ed7953"
             ],
             [
              0.7777777777777778,
              "#fb9f3a"
             ],
             [
              0.8888888888888888,
              "#fdca26"
             ],
             [
              1.0,
              "#f0f921"
             ]
            ]
           }
          ],
          "contourcarpet": [
           {
            "type": "contourcarpet",
            "colorbar": {
             "outlinewidth": 0,
             "ticks": ""
            }
           }
          ],
          "contour": [
           {
            "type": "contour",
            "colorbar": {
             "outlinewidth": 0,
             "ticks": ""
            },
            "colorscale": [
             [
              0.0,
              "#0d0887"
             ],
             [
              0.1111111111111111,
              "#46039f"
             ],
             [
              0.2222222222222222,
              "#7201a8"
             ],
             [
              0.3333333333333333,
              "#9c179e"
             ],
             [
              0.4444444444444444,
              "#bd3786"
             ],
             [
              0.5555555555555556,
              "#d8576b"
             ],
             [
              0.6666666666666666,
              "#ed7953"
             ],
             [
              0.7777777777777778,
              "#fb9f3a"
             ],
             [
              0.8888888888888888,
              "#fdca26"
             ],
             [
              1.0,
              "#f0f921"
             ]
            ]
           }
          ],
          "surface": [
           {
            "type": "surface",
            "colorbar": {
             "outlinewidth": 0,
             "ticks": ""
            },
            "colorscale": [
             [
              0.0,
              "#0d0887"
             ],
             [
              0.1111111111111111,
              "#46039f"
             ],
             [
              0.2222222222222222,
              "#7201a8"
             ],
             [
              0.3333333333333333,
              "#9c179e"
             ],
             [
              0.4444444444444444,
              "#bd3786"
             ],
             [
              0.5555555555555556,
              "#d8576b"
             ],
             [
              0.6666666666666666,
              "#ed7953"
             ],
             [
              0.7777777777777778,
              "#fb9f3a"
             ],
             [
              0.8888888888888888,
              "#fdca26"
             ],
             [
              1.0,
              "#f0f921"
             ]
            ]
           }
          ],
          "mesh3d": [
           {
            "type": "mesh3d",
            "colorbar": {
             "outlinewidth": 0,
             "ticks": ""
            }
           }
          ],
          "scatter": [
           {
            "fillpattern": {
             "fillmode": "overlay",
             "size": 10,
             "solidity": 0.2
            },
            "type": "scatter"
           }
          ],
          "parcoords": [
           {
            "type": "parcoords",
            "line": {
             "colorbar": {
              "outlinewidth": 0,
              "ticks": ""
             }
            }
           }
          ],
          "scatterpolargl": [
           {
            "type": "scatterpolargl",
            "marker": {
             "colorbar": {
              "outlinewidth": 0,
              "ticks": ""
             }
            }
           }
          ],
          "bar": [
           {
            "error_x": {
             "color": "#2a3f5f"
            },
            "error_y": {
             "color": "#2a3f5f"
            },
            "marker": {
             "line": {
              "color": "#E5ECF6",
              "width": 0.5
             },
             "pattern": {
              "fillmode": "overlay",
              "size": 10,
              "solidity": 0.2
             }
            },
            "type": "bar"
           }
          ],
          "scattergeo": [
           {
            "type": "scattergeo",
            "marker": {
             "colorbar": {
              "outlinewidth": 0,
              "ticks": ""
             }
            }
           }
          ],
          "scatterpolar": [
           {
            "type": "scatterpolar",
            "marker": {
             "colorbar": {
              "outlinewidth": 0,
              "ticks": ""
             }
            }
           }
          ],
          "histogram": [
           {
            "marker": {
             "pattern": {
              "fillmode": "overlay",
              "size": 10,
              "solidity": 0.2
             }
            },
            "type": "histogram"
           }
          ],
          "scattergl": [
           {
            "type": "scattergl",
            "marker": {
             "colorbar": {
              "outlinewidth": 0,
              "ticks": ""
             }
            }
           }
          ],
          "scatter3d": [
           {
            "type": "scatter3d",
            "line": {
             "colorbar": {
              "outlinewidth": 0,
              "ticks": ""
             }
            },
            "marker": {
             "colorbar": {
              "outlinewidth": 0,
              "ticks": ""
             }
            }
           }
          ],
          "scattermapbox": [
           {
            "type": "scattermapbox",
            "marker": {
             "colorbar": {
              "outlinewidth": 0,
              "ticks": ""
             }
            }
           }
          ],
          "scatterternary": [
           {
            "type": "scatterternary",
            "marker": {
             "colorbar": {
              "outlinewidth": 0,
              "ticks": ""
             }
            }
           }
          ],
          "scattercarpet": [
           {
            "type": "scattercarpet",
            "marker": {
             "colorbar": {
              "outlinewidth": 0,
              "ticks": ""
             }
            }
           }
          ],
          "carpet": [
           {
            "aaxis": {
             "endlinecolor": "#2a3f5f",
             "gridcolor": "white",
             "linecolor": "white",
             "minorgridcolor": "white",
             "startlinecolor": "#2a3f5f"
            },
            "baxis": {
             "endlinecolor": "#2a3f5f",
             "gridcolor": "white",
             "linecolor": "white",
             "minorgridcolor": "white",
             "startlinecolor": "#2a3f5f"
            },
            "type": "carpet"
           }
          ],
          "table": [
           {
            "cells": {
             "fill": {
              "color": "#EBF0F8"
             },
             "line": {
              "color": "white"
             }
            },
            "header": {
             "fill": {
              "color": "#C8D4E3"
             },
             "line": {
              "color": "white"
             }
            },
            "type": "table"
           }
          ],
          "barpolar": [
           {
            "marker": {
             "line": {
              "color": "#E5ECF6",
              "width": 0.5
             },
             "pattern": {
              "fillmode": "overlay",
              "size": 10,
              "solidity": 0.2
             }
            },
            "type": "barpolar"
           }
          ],
          "pie": [
           {
            "automargin": true,
            "type": "pie"
           }
          ]
         },
         "layout": {
          "autotypenumbers": "strict",
          "colorway": [
           "#636efa",
           "#EF553B",
           "#00cc96",
           "#ab63fa",
           "#FFA15A",
           "#19d3f3",
           "#FF6692",
           "#B6E880",
           "#FF97FF",
           "#FECB52"
          ],
          "font": {
           "color": "#2a3f5f"
          },
          "hovermode": "closest",
          "hoverlabel": {
           "align": "left"
          },
          "paper_bgcolor": "white",
          "plot_bgcolor": "#E5ECF6",
          "polar": {
           "bgcolor": "#E5ECF6",
           "angularaxis": {
            "gridcolor": "white",
            "linecolor": "white",
            "ticks": ""
           },
           "radialaxis": {
            "gridcolor": "white",
            "linecolor": "white",
            "ticks": ""
           }
          },
          "ternary": {
           "bgcolor": "#E5ECF6",
           "aaxis": {
            "gridcolor": "white",
            "linecolor": "white",
            "ticks": ""
           },
           "baxis": {
            "gridcolor": "white",
            "linecolor": "white",
            "ticks": ""
           },
           "caxis": {
            "gridcolor": "white",
            "linecolor": "white",
            "ticks": ""
           }
          },
          "coloraxis": {
           "colorbar": {
            "outlinewidth": 0,
            "ticks": ""
           }
          },
          "colorscale": {
           "sequential": [
            [
             0.0,
             "#0d0887"
            ],
            [
             0.1111111111111111,
             "#46039f"
            ],
            [
             0.2222222222222222,
             "#7201a8"
            ],
            [
             0.3333333333333333,
             "#9c179e"
            ],
            [
             0.4444444444444444,
             "#bd3786"
            ],
            [
             0.5555555555555556,
             "#d8576b"
            ],
            [
             0.6666666666666666,
             "#ed7953"
            ],
            [
             0.7777777777777778,
             "#fb9f3a"
            ],
            [
             0.8888888888888888,
             "#fdca26"
            ],
            [
             1.0,
             "#f0f921"
            ]
           ],
           "sequentialminus": [
            [
             0.0,
             "#0d0887"
            ],
            [
             0.1111111111111111,
             "#46039f"
            ],
            [
             0.2222222222222222,
             "#7201a8"
            ],
            [
             0.3333333333333333,
             "#9c179e"
            ],
            [
             0.4444444444444444,
             "#bd3786"
            ],
            [
             0.5555555555555556,
             "#d8576b"
            ],
            [
             0.6666666666666666,
             "#ed7953"
            ],
            [
             0.7777777777777778,
             "#fb9f3a"
            ],
            [
             0.8888888888888888,
             "#fdca26"
            ],
            [
             1.0,
             "#f0f921"
            ]
           ],
           "diverging": [
            [
             0,
             "#8e0152"
            ],
            [
             0.1,
             "#c51b7d"
            ],
            [
             0.2,
             "#de77ae"
            ],
            [
             0.3,
             "#f1b6da"
            ],
            [
             0.4,
             "#fde0ef"
            ],
            [
             0.5,
             "#f7f7f7"
            ],
            [
             0.6,
             "#e6f5d0"
            ],
            [
             0.7,
             "#b8e186"
            ],
            [
             0.8,
             "#7fbc41"
            ],
            [
             0.9,
             "#4d9221"
            ],
            [
             1,
             "#276419"
            ]
           ]
          },
          "xaxis": {
           "gridcolor": "white",
           "linecolor": "white",
           "ticks": "",
           "title": {
            "standoff": 15
           },
           "zerolinecolor": "white",
           "automargin": true,
           "zerolinewidth": 2
          },
          "yaxis": {
           "gridcolor": "white",
           "linecolor": "white",
           "ticks": "",
           "title": {
            "standoff": 15
           },
           "zerolinecolor": "white",
           "automargin": true,
           "zerolinewidth": 2
          },
          "scene": {
           "xaxis": {
            "backgroundcolor": "#E5ECF6",
            "gridcolor": "white",
            "linecolor": "white",
            "showbackground": true,
            "ticks": "",
            "zerolinecolor": "white",
            "gridwidth": 2
           },
           "yaxis": {
            "backgroundcolor": "#E5ECF6",
            "gridcolor": "white",
            "linecolor": "white",
            "showbackground": true,
            "ticks": "",
            "zerolinecolor": "white",
            "gridwidth": 2
           },
           "zaxis": {
            "backgroundcolor": "#E5ECF6",
            "gridcolor": "white",
            "linecolor": "white",
            "showbackground": true,
            "ticks": "",
            "zerolinecolor": "white",
            "gridwidth": 2
           }
          },
          "shapedefaults": {
           "line": {
            "color": "#2a3f5f"
           }
          },
          "annotationdefaults": {
           "arrowcolor": "#2a3f5f",
           "arrowhead": 0,
           "arrowwidth": 1
          },
          "geo": {
           "bgcolor": "white",
           "landcolor": "#E5ECF6",
           "subunitcolor": "white",
           "showland": true,
           "showlakes": true,
           "lakecolor": "white"
          },
          "title": {
           "x": 0.05
          },
          "mapbox": {
           "style": "light"
          }
         }
        },
        "xaxis": {
         "rangeslider": {
          "visible": true
         },
         "title": {
          "text": "Année"
         }
        },
        "title": {
         "text": "Emissions de GES par mode de transport (en MtCO2e)"
        },
        "yaxis": {
         "title": {
          "text": "Conso [MtCO2e]"
         }
        }
       },
       "config": {
        "plotlyServerURL": "https://plot.ly"
       }
      },
      "text/html": "<div>                            <div id=\"687d2e06-20bd-40c1-a944-548f0d90ad31\" class=\"plotly-graph-div\" style=\"height:525px; width:100%;\"></div>            <script type=\"text/javascript\">                require([\"plotly\"], function(Plotly) {                    window.PLOTLYENV=window.PLOTLYENV || {};                                    if (document.getElementById(\"687d2e06-20bd-40c1-a944-548f0d90ad31\")) {                    Plotly.newPlot(                        \"687d2e06-20bd-40c1-a944-548f0d90ad31\",                        [{\"fill\":\"tozeroy\",\"fillcolor\":\"#f7babb\",\"mode\":\"none\",\"name\":\"1_Bus et cars GNV\",\"x\":[2021,2022,2023,2024,2025,2026,2027,2028,2029,2030,2031,2032,2033,2034,2035,2036,2037,2038,2039,2040,2041,2042,2043,2044,2045,2046,2047,2048,2049],\"y\":[0.006474523971999976,0.0070185387813332875,0.016871808314666625,0.025673881787555523,0.033424759199999966,0.04511525591999997,0.05514596938666666,0.0635168996,0.07022804656,0.07527941026666668,0.08245573332266667,0.08730835982400002,0.08983728977066668,0.09004252316266664,0.08792405999999998,0.0875379036,0.08682415839999999,0.0857828244,0.08441390160000001,0.08271738999999996,0.07979242039999998,0.07664905826666664,0.07328730359999998,0.06970715639999997,0.06590861666666664,0.061263805866666646,0.0565097988,0.05164659546666666,0.04667419586666665],\"type\":\"scatter\"},{\"fill\":\"tonexty\",\"fillcolor\":\"#f18486\",\"mode\":\"none\",\"name\":\"1_Bus et cars H2\",\"x\":[2021,2022,2023,2024,2025,2026,2027,2028,2029,2030,2031,2032,2033,2034,2035,2036,2037,2038,2039,2040,2041,2042,2043,2044,2045,2046,2047,2048,2049],\"y\":[0.006984256971999963,0.00800285078133326,0.0238323003146666,0.0381652697875555,0.05100175919999995,0.07042613591999997,0.08748764938666664,0.10218629959999999,0.11452208655999999,0.12449501026666668,0.1385615173226667,0.14932001582400004,0.1567705057706667,0.16091298716266664,0.16174746,0.16281433560000003,0.1634130064,0.1635434724,0.1632057336,0.16239979,0.15931076839999997,0.15590961026666667,0.15219631559999997,0.14817088439999998,0.14383331666666666,0.13775890986666664,0.13152843479999998,0.12514189146666668,0.11859927986666663],\"type\":\"scatter\"},{\"fill\":\"tonexty\",\"fillcolor\":\"#eb4f50\",\"mode\":\"none\",\"name\":\"1_Bus et cars diesel\",\"x\":[2021,2022,2023,2024,2025,2026,2027,2028,2029,2030,2031,2032,2033,2034,2035,2036,2037,2038,2039,2040,2041,2042,2043,2044,2045,2046,2047,2048,2049],\"y\":[2.402008569772,2.3577798859813335,2.2608300955146663,2.1648818132542225,2.0699350392,1.9436708239200002,1.8189879373866669,1.6958863795999999,1.57436615056,1.4544272502666666,1.3023939717226667,1.1525745534239997,1.0049689953706669,0.8595772975626668,0.7163994600000001,0.6553453116000001,0.5953020303999998,0.5362696163999998,0.47824806960000005,0.42123738999999993,0.3804320323999999,0.3403005862666666,0.3008430516,0.2620594284,0.2239497166666667,0.20086598186666665,0.1781192028,0.1557093794666667,0.1336365118666666],\"type\":\"scatter\"},{\"fill\":\"tonexty\",\"fillcolor\":\"#e41a1c\",\"mode\":\"none\",\"name\":\"1_Bus et cars \\u00e9lectrique\",\"x\":[2021,2022,2023,2024,2025,2026,2027,2028,2029,2030,2031,2032,2033,2034,2035,2036,2037,2038,2039,2040,2041,2042,2043,2044,2045,2046,2047,2048,2049],\"y\":[2.4022478813245,2.3581647248413335,2.263079496024666,2.1688566416442225,2.0754961617000003,1.9516457203200002,1.8291569227866669,1.7080297691,1.58826425926,1.4698603932666667,1.3199772667426668,1.1720004416039997,1.025929917850667,0.8817656954826668,0.7395077745,0.6789067215600001,0.6192725988399999,0.5606054063399998,0.5029051440600001,0.44617181199999995,0.4053142745899999,0.3651013573266666,0.32553306021,0.28660938324,0.2483303264166667,0.22479897898666665,0.20158994163,0.1787032143466667,0.15613879713666662],\"type\":\"scatter\"},{\"fill\":\"tonexty\",\"fillcolor\":\"#c0d9ec\",\"mode\":\"none\",\"name\":\"2_Camion fret\",\"x\":[2021,2022,2023,2024,2025,2026,2027,2028,2029,2030,2031,2032,2033,2034,2035,2036,2037,2038,2039,2040,2041,2042,2043,2044,2045,2046,2047,2048,2049],\"y\":[41.2823798813245,40.52105272484133,38.81016749602467,37.13338197497756,35.4906961617,33.31316572032,31.189476922786664,29.1196297691,27.103624259260002,25.141460393266666,22.66631326674267,20.266544441604,17.94215391785067,15.693141695482668,13.5195077745,12.560346721560002,11.621832598840001,10.703965406340002,9.806745144060004,8.930171812,8.31547427459,7.714541357326667,7.127373060210002,6.553969383240003,5.9943303264166685,5.672478978986667,5.35750994163,5.0494232143466675,4.7482187971366665],\"type\":\"scatter\"},{\"fill\":\"tonexty\",\"fillcolor\":\"#90bbde\",\"mode\":\"none\",\"name\":\"2_Rail court\",\"x\":[2021,2022,2023,2024,2025,2026,2027,2028,2029,2030,2031,2032,2033,2034,2035,2036,2037,2038,2039,2040,2041,2042,2043,2044,2045,2046,2047,2048,2049],\"y\":[41.57909626586898,40.80826615603767,39.09602319655916,37.417220693599766,35.7718586471595,33.59557278268516,31.472087639030487,29.401403216195483,27.383519514180136,25.41843653298445,22.943284875733717,20.542054227630505,18.214744588674826,15.961355958866665,13.781888338206038,12.821476667391389,11.881503742191336,10.961969562605885,10.062874128635034,9.184217440278776,8.565875162032018,7.96115871419499,7.370068096767699,6.792603309750138,6.228764353142309,5.901394603426941,5.580837768916441,5.267093849610808,4.96016284551004],\"type\":\"scatter\"},{\"fill\":\"tonexty\",\"fillcolor\":\"#5f9dcf\",\"mode\":\"none\",\"name\":\"2_Rail long\",\"x\":[2021,2022,2023,2024,2025,2026,2027,2028,2029,2030,2031,2032,2033,2034,2035,2036,2037,2038,2039,2040,2041,2042,2043,2044,2045,2046,2047,2048,2049],\"y\":[41.72849985510622,40.952521727463626,39.235173565147065,37.55126239402697,35.90078821410336,33.719410825696144,31.59082868654653,29.51504179665451,27.49205015602007,25.52185376464322,23.04160401758513,20.635267619487657,18.30284457035081,16.044334870174584,13.859738518958984,12.897620919000728,11.955940970344653,11.034698672990764,10.133894026939062,9.253527032189536,8.6334662402064,8.027030549091386,7.434219958844498,6.85503446946573,6.289474080955085,5.960375968691606,5.638090406862191,5.322617395466839,5.013956934505546],\"type\":\"scatter\"},{\"fill\":\"tonexty\",\"fillcolor\":\"#377eb8\",\"mode\":\"none\",\"name\":\"2_camion fret H2\",\"x\":[2021,2022,2023,2024,2025,2026,2027,2028,2029,2030,2031,2032,2033,2034,2035,2036,2037,2038,2039,2040,2041,2042,2043,2044,2045,2046,2047,2048,2049],\"y\":[41.744159855106226,40.982761727463625,39.44901356514706,37.93502239402697,36.44078821410336,34.49701082569615,32.58442868654653,30.70304179665451,28.85285015602007,27.033853764643222,24.76528401758513,22.540387619487657,20.359164570350814,18.221614870174584,16.12773851895899,15.210260919000728,14.308900970344654,13.423658672990765,12.554534026939061,11.701527032189537,11.076426240206402,10.462070549091388,9.858459958844499,9.26559446946573,8.683474080955087,8.310455968691606,7.942810406862191,7.580537395466839,7.223636934505546],\"type\":\"scatter\"},{\"fill\":\"tonexty\",\"fillcolor\":\"#e1c8e5\",\"mode\":\"none\",\"name\":\"3_VP GNV\",\"x\":[2021,2022,2023,2024,2025,2026,2027,2028,2029,2030,2031,2032,2033,2034,2035,2036,2037,2038,2039,2040,2041,2042,2043,2044,2045,2046,2047,2048,2049],\"y\":[41.83105670193955,41.0767671642414,39.67294992136929,38.27502063798994,36.88297931410336,35.093372435696146,33.313062335435426,31.542049013321176,29.780332469353407,28.027912703532113,25.853955387807353,23.693013561487657,21.545087224573034,19.410176377063472,17.288281018958987,16.36568596900073,15.454886503677987,14.555882622990765,13.668674326939062,12.79326161552287,12.129547356873069,11.473696821313611,10.8257100088445,10.185586919465731,9.553327553177308,9.119005124247163,8.688614556862191,8.262155851022394,7.839629006727767],\"type\":\"scatter\"},{\"fill\":\"tonexty\",\"fillcolor\":\"#be89c6\",\"mode\":\"none\",\"name\":\"3_VP fuel\",\"x\":[2021,2022,2023,2024,2025,2026,2027,2028,2029,2030,2031,2032,2033,2034,2035,2036,2037,2038,2039,2040,2041,2042,2043,2044,2045,2046,2047,2048,2049],\"y\":[104.14075870193955,102.20930183090807,97.87138458803597,93.60434374910102,89.40817931410335,83.82829243569614,78.36031566876873,73.00424901332117,67.76009246935338,62.627846036865435,56.132584721140674,49.79399756148764,43.61208455790636,37.586845710396794,31.718281018958976,29.179525969000718,26.69104650367797,24.25284262299075,21.86491432693905,19.527261615522857,17.882307356873053,16.270870154646932,14.692950008844488,13.14854691946572,11.63766088651063,10.760818457580484,9.90073455686218,9.057409184355715,8.230842340061088],\"type\":\"scatter\"},{\"fill\":\"tonexty\",\"fillcolor\":\"#984ea3\",\"mode\":\"none\",\"name\":\"3_VP \\u00e9lectrique\",\"x\":[2021,2022,2023,2024,2025,2026,2027,2028,2029,2030,2031,2032,2033,2034,2035,2036,2037,2038,2039,2040,2041,2042,2043,2044,2045,2046,2047,2048,2049],\"y\":[104.15801862576255,102.23342348298007,97.98572543568797,93.80215707506235,89.68271840110334,84.21968249697615,78.85790399284873,73.59738288872117,68.43811918459338,63.38011288046543,56.98891928524468,50.73948605002364,44.63181317480236,38.66590065958079,32.841748504358975,30.32489944079272,27.85619541956597,25.435636440678753,23.063222504131055,20.738953609922856,19.091404101261052,17.475951287492265,15.892595168616488,14.341335744633719,12.822173015543964,11.923560455937817,11.04099624377818,10.174480379065049,9.324012861798423],\"type\":\"scatter\"},{\"fill\":\"tonexty\",\"fillcolor\":\"#ffd9b2\",\"mode\":\"none\",\"name\":\"4_VUL GNV\",\"x\":[2021,2022,2023,2024,2025,2026,2027,2028,2029,2030,2031,2032,2033,2034,2035,2036,2037,2038,2039,2040,2041,2042,2043,2044,2045,2046,2047,2048,2049],\"y\":[104.62247818375417,102.67962949906696,98.45160404330753,94.28342567552767,90.17509439572748,84.73921599202227,79.39783299039009,74.15094539083104,68.99855319334503,63.94065639793214,57.55822944824578,51.30809606146173,45.19025623758001,39.204709976600576,33.351457278523476,30.82630149384109,28.34795614664425,25.916421236932983,23.53169676470727,21.193782729967104,19.527583312570982,17.892590853498568,16.288805352749858,14.71622681032485,13.17485522622355,12.25058608239979,11.34192041773789,10.448858232237843,9.571399525899647],\"type\":\"scatter\"},{\"fill\":\"tonexty\",\"fillcolor\":\"#ffac59\",\"mode\":\"none\",\"name\":\"4_VUL fuel\",\"x\":[2021,2022,2023,2024,2025,2026,2027,2028,2029,2030,2031,2032,2033,2034,2035,2036,2037,2038,2039,2040,2041,2042,2043,2044,2045,2046,2047,2048,2049],\"y\":[124.44391340505265,122.12659420785528,116.96519768441183,111.88432182305188,106.88396662377548,100.24235641460307,93.72788409293088,87.34054965875903,81.08035311208742,74.94729445291614,67.19021083567682,59.61112026093789,52.210022728699364,44.986918238961216,37.94180679172347,34.902531861562686,31.922308300922648,29.00113610980338,26.139015288204867,23.335945836127102,21.357602651833382,19.41862704722017,17.519019022287456,15.65877857703525,13.837905711463549,12.77286584923499,11.72750977684669,10.701837494298642,9.695849001590844],\"type\":\"scatter\"},{\"fill\":\"tonexty\",\"fillcolor\":\"#ff7f00\",\"mode\":\"none\",\"name\":\"4_VUL \\u00e9lectrique\",\"x\":[2021,2022,2023,2024,2025,2026,2027,2028,2029,2030,2031,2032,2033,2034,2035,2036,2037,2038,2039,2040,2041,2042,2043,2044,2045,2046,2047,2048,2049],\"y\":[124.44641338558033,122.13104924446043,116.99442617354826,111.9364769083506,106.95720144886748,100.34765491473554,93.86233017910016,87.50122724196143,81.26434610331927,75.15168676317374,67.42316751417049,59.86855878306246,52.4878605698497,45.28107287453216,38.24819569710987,35.21494291622336,32.24015828705686,29.32384180961039,26.465993483883942,23.6666133098775,21.68758527014959,19.74753599823503,17.84646549413381,15.984373757845937,14.161260789371415,13.09028711150204,12.038802817539345,11.006807907483324,9.994302381333975],\"type\":\"scatter\"},{\"fill\":\"tonexty\",\"fillcolor\":\"#edcab6\",\"mode\":\"none\",\"name\":\"5_aerien_international\",\"x\":[2021,2022,2023,2024,2025,2026,2027,2028,2029,2030,2031,2032,2033,2034,2035,2036,2037,2038,2039,2040,2041,2042,2043,2044,2045,2046,2047,2048,2049],\"y\":[142.82516569669144,140.2033715259419,134.7086128994742,129.29444065156048,123.96085478220081,116.96797580362443,110.10233847539645,103.36394279751698,96.75278876998594,90.26887639280338,82.14139696602234,74.19205584972913,66.42085304392377,58.82778854860623,51.41286236377654,48.16218024955669,44.97109873150131,41.83961780961039,38.76773748388394,35.755457754321945,33.57768571459403,31.439647405642436,29.34134282746714,27.28277198006816,25.26393486344549,24.010071407798335,22.776074817539346,21.56194509266851,20.36768223318583],\"type\":\"scatter\"},{\"fill\":\"tonexty\",\"fillcolor\":\"#d98c60\",\"mode\":\"none\",\"name\":\"5_aerien_interne\",\"x\":[2021,2022,2023,2024,2025,2026,2027,2028,2029,2030,2031,2032,2033,2034,2035,2036,2037,2038,2039,2040,2041,2042,2043,2044,2045,2046,2047,2048,2049],\"y\":[143.79627018949145,141.1572084411419,135.63013909467418,130.18421256836046,124.8194288622008,117.78690841162441,110.88250820339647,104.106228237517,97.45806851398594,90.93802903280337,82.76636142042233,74.77406214732915,66.96113121352377,59.32756861900624,51.87337436377655,48.60436162555669,45.3952789555013,42.24612635361039,39.156903819883944,36.12761135432196,33.93694497859403,31.786231981642434,29.67547236346714,27.60466612406816,25.573813263445487,24.311668079798338,23.069499585539347,21.84730778066851,20.64509266518583],\"type\":\"scatter\"},{\"fill\":\"tonexty\",\"fillcolor\":\"#a65628\",\"mode\":\"none\",\"name\":\"5_aerien_outre_mer\",\"x\":[2021,2022,2023,2024,2025,2026,2027,2028,2029,2030,2031,2032,2033,2034,2035,2036,2037,2038,2039,2040,2041,2042,2043,2044,2045,2046,2047,2048,2049],\"y\":[145.49277040282476,142.82542280558633,137.26529479245198,131.78648614465675,126.3889968622008,119.32109187829109,112.38158589228534,105.57047890418366,98.88777091398593,92.33346192169225,84.12496721597789,76.09623110732913,68.247253595746,60.578034681228466,53.088574363776544,49.79949122555669,46.57044268883464,43.40142875361039,40.292449419883944,37.24350468765528,35.03449271192737,32.865503803864655,30.736537963467143,28.64759519073483,26.59867548566771,25.319648168687223,24.060632385539346,22.821628136224064,21.602635420741386],\"type\":\"scatter\"},{\"fill\":\"tonexty\",\"fillcolor\":\"#fdd9ec\",\"mode\":\"none\",\"name\":\"6_deux roues diesel\",\"x\":[2021,2022,2023,2024,2025,2026,2027,2028,2029,2030,2031,2032,2033,2034,2035,2036,2037,2038,2039,2040,2041,2042,2043,2044,2045,2046,2047,2048,2049],\"y\":[146.9036238681713,144.2096221455203,138.58305848882162,133.03928570461275,127.57830379289386,120.42457702680593,113.40157269096521,106.50929078537177,99.74773131002554,93.11689426492657,84.81055401465775,76.68722516673508,68.74690772115855,60.989601677928135,53.415307037043874,50.08962983941808,46.824858530418794,43.62099311004603,40.47803357829979,37.39597993518004,35.16475013766995,32.97412426591086,30.824102319902785,28.71468429964572,26.645870205139655,25.356823086178974,24.088077930093803,22.83963473688413,21.611493506549966],\"type\":\"scatter\"},{\"fill\":\"tonexty\",\"fillcolor\":\"#f781bf\",\"mode\":\"none\",\"name\":\"6_deux roues \\u00e9lectrique\",\"x\":[2021,2022,2023,2024,2025,2026,2027,2028,2029,2030,2031,2032,2033,2034,2035,2036,2037,2038,2039,2040,2041,2042,2043,2044,2045,2046,2047,2048,2049],\"y\":[146.90475782169295,144.21092261647243,138.58682400696873,133.04533023346698,127.58644129596738,120.4359139316318,113.41581525572047,106.5261452682335,99.7669039691708,93.1380913585324,84.83459801982842,76.71370484491844,68.7754118338025,61.01971898648055,53.44662630295264,50.12154558566092,46.857312008631126,43.65392557186326,40.51138627535733,37.42969411911331,35.19838519574453,33.00764103255036,30.857461629530818,28.747846986685893,26.678797104015572,25.38914212391491,24.119769523901564,22.870679303975518,21.641871464136788],\"type\":\"scatter\"},{\"fill\":\"tonexty\",\"fillcolor\":\"#e0e0e0\",\"mode\":\"none\",\"name\":\"7_Avion fret  international\",\"x\":[2021,2022,2023,2024,2025,2026,2027,2028,2029,2030,2031,2032,2033,2034,2035,2036,2037,2038,2039,2040,2041,2042,2043,2044,2045,2046,2047,2048,2049],\"y\":[154.5507130150263,151.72600896758357,145.91078469141317,140.18039413420775,134.5348372959674,127.16382019829847,119.9267510779427,112.82362993490018,105.8544567691708,99.01923158075464,90.47703618871732,82.12236796491844,73.95522690935803,65.9756130220361,58.183526302952636,54.74645678566092,51.37155414196447,48.05881837186326,44.808249475357336,41.61984745244664,39.29832532907786,37.01824778810592,34.779614829530814,32.582426453352554,30.42668265957113,29.06529074613714,27.724621123901564,26.404673792864404,25.105448753025676],\"type\":\"scatter\"},{\"fill\":\"tonexty\",\"fillcolor\":\"#bdbdbd\",\"mode\":\"none\",\"name\":\"7_Bateau fret  international\",\"x\":[2021,2022,2023,2024,2025,2026,2027,2028,2029,2030,2031,2032,2033,2034,2035,2036,2037,2038,2039,2040,2041,2042,2043,2044,2045,2046,2047,2048,2049],\"y\":[155.6662588724041,152.82296373102056,146.98610682596131,141.23419614538795,135.56723168930074,128.17309977652067,120.91309348135012,113.78721280378907,106.79545774383746,99.93782830149539,91.37159880581362,82.99314517478511,74.8024674084099,66.79956550668794,58.98443946961931,55.53422635099425,52.14624672107557,48.820500579863264,45.55698792735733,42.35570876355775,40.02214218818897,37.7300646052911,35.47947601486415,33.270376416908114,31.102765811422984,29.73026205754454,28.378502799901565,27.047488038494034,25.73721777332197],\"type\":\"scatter\"},{\"fill\":\"tonexty\",\"fillcolor\":\"#999999\",\"mode\":\"none\",\"name\":\"7_Train fret\",\"x\":[2021,2022,2023,2024,2025,2026,2027,2028,2029,2030,2031,2032,2033,2034,2035,2036,2037,2038,2039,2040,2041,2042,2043,2044,2045,2046,2047,2048,2049],\"y\":[155.7595367924041,152.9134866110206,147.0790329059613,141.32910793205463,135.66371168930075,128.27363097652068,121.01701668135013,113.89386880378906,106.90418734383746,100.04797230149538,91.48500296581362,83.1088866147851,74.91962324840988,66.91721286668795,59.10165546961931,55.65173803099425,52.26392224107557,48.93820809986326,45.67459560735733,42.47308476355775,40.13829770818897,37.84491175195777,35.59292689486415,33.38234313690811,31.213160478089648,29.83824968421121,28.484039439901565,27.150529745160703,25.83772059998864],\"type\":\"scatter\"}],                        {\"template\":{\"data\":{\"histogram2dcontour\":[{\"type\":\"histogram2dcontour\",\"colorbar\":{\"outlinewidth\":0,\"ticks\":\"\"},\"colorscale\":[[0.0,\"#0d0887\"],[0.1111111111111111,\"#46039f\"],[0.2222222222222222,\"#7201a8\"],[0.3333333333333333,\"#9c179e\"],[0.4444444444444444,\"#bd3786\"],[0.5555555555555556,\"#d8576b\"],[0.6666666666666666,\"#ed7953\"],[0.7777777777777778,\"#fb9f3a\"],[0.8888888888888888,\"#fdca26\"],[1.0,\"#f0f921\"]]}],\"choropleth\":[{\"type\":\"choropleth\",\"colorbar\":{\"outlinewidth\":0,\"ticks\":\"\"}}],\"histogram2d\":[{\"type\":\"histogram2d\",\"colorbar\":{\"outlinewidth\":0,\"ticks\":\"\"},\"colorscale\":[[0.0,\"#0d0887\"],[0.1111111111111111,\"#46039f\"],[0.2222222222222222,\"#7201a8\"],[0.3333333333333333,\"#9c179e\"],[0.4444444444444444,\"#bd3786\"],[0.5555555555555556,\"#d8576b\"],[0.6666666666666666,\"#ed7953\"],[0.7777777777777778,\"#fb9f3a\"],[0.8888888888888888,\"#fdca26\"],[1.0,\"#f0f921\"]]}],\"heatmap\":[{\"type\":\"heatmap\",\"colorbar\":{\"outlinewidth\":0,\"ticks\":\"\"},\"colorscale\":[[0.0,\"#0d0887\"],[0.1111111111111111,\"#46039f\"],[0.2222222222222222,\"#7201a8\"],[0.3333333333333333,\"#9c179e\"],[0.4444444444444444,\"#bd3786\"],[0.5555555555555556,\"#d8576b\"],[0.6666666666666666,\"#ed7953\"],[0.7777777777777778,\"#fb9f3a\"],[0.8888888888888888,\"#fdca26\"],[1.0,\"#f0f921\"]]}],\"heatmapgl\":[{\"type\":\"heatmapgl\",\"colorbar\":{\"outlinewidth\":0,\"ticks\":\"\"},\"colorscale\":[[0.0,\"#0d0887\"],[0.1111111111111111,\"#46039f\"],[0.2222222222222222,\"#7201a8\"],[0.3333333333333333,\"#9c179e\"],[0.4444444444444444,\"#bd3786\"],[0.5555555555555556,\"#d8576b\"],[0.6666666666666666,\"#ed7953\"],[0.7777777777777778,\"#fb9f3a\"],[0.8888888888888888,\"#fdca26\"],[1.0,\"#f0f921\"]]}],\"contourcarpet\":[{\"type\":\"contourcarpet\",\"colorbar\":{\"outlinewidth\":0,\"ticks\":\"\"}}],\"contour\":[{\"type\":\"contour\",\"colorbar\":{\"outlinewidth\":0,\"ticks\":\"\"},\"colorscale\":[[0.0,\"#0d0887\"],[0.1111111111111111,\"#46039f\"],[0.2222222222222222,\"#7201a8\"],[0.3333333333333333,\"#9c179e\"],[0.4444444444444444,\"#bd3786\"],[0.5555555555555556,\"#d8576b\"],[0.6666666666666666,\"#ed7953\"],[0.7777777777777778,\"#fb9f3a\"],[0.8888888888888888,\"#fdca26\"],[1.0,\"#f0f921\"]]}],\"surface\":[{\"type\":\"surface\",\"colorbar\":{\"outlinewidth\":0,\"ticks\":\"\"},\"colorscale\":[[0.0,\"#0d0887\"],[0.1111111111111111,\"#46039f\"],[0.2222222222222222,\"#7201a8\"],[0.3333333333333333,\"#9c179e\"],[0.4444444444444444,\"#bd3786\"],[0.5555555555555556,\"#d8576b\"],[0.6666666666666666,\"#ed7953\"],[0.7777777777777778,\"#fb9f3a\"],[0.8888888888888888,\"#fdca26\"],[1.0,\"#f0f921\"]]}],\"mesh3d\":[{\"type\":\"mesh3d\",\"colorbar\":{\"outlinewidth\":0,\"ticks\":\"\"}}],\"scatter\":[{\"fillpattern\":{\"fillmode\":\"overlay\",\"size\":10,\"solidity\":0.2},\"type\":\"scatter\"}],\"parcoords\":[{\"type\":\"parcoords\",\"line\":{\"colorbar\":{\"outlinewidth\":0,\"ticks\":\"\"}}}],\"scatterpolargl\":[{\"type\":\"scatterpolargl\",\"marker\":{\"colorbar\":{\"outlinewidth\":0,\"ticks\":\"\"}}}],\"bar\":[{\"error_x\":{\"color\":\"#2a3f5f\"},\"error_y\":{\"color\":\"#2a3f5f\"},\"marker\":{\"line\":{\"color\":\"#E5ECF6\",\"width\":0.5},\"pattern\":{\"fillmode\":\"overlay\",\"size\":10,\"solidity\":0.2}},\"type\":\"bar\"}],\"scattergeo\":[{\"type\":\"scattergeo\",\"marker\":{\"colorbar\":{\"outlinewidth\":0,\"ticks\":\"\"}}}],\"scatterpolar\":[{\"type\":\"scatterpolar\",\"marker\":{\"colorbar\":{\"outlinewidth\":0,\"ticks\":\"\"}}}],\"histogram\":[{\"marker\":{\"pattern\":{\"fillmode\":\"overlay\",\"size\":10,\"solidity\":0.2}},\"type\":\"histogram\"}],\"scattergl\":[{\"type\":\"scattergl\",\"marker\":{\"colorbar\":{\"outlinewidth\":0,\"ticks\":\"\"}}}],\"scatter3d\":[{\"type\":\"scatter3d\",\"line\":{\"colorbar\":{\"outlinewidth\":0,\"ticks\":\"\"}},\"marker\":{\"colorbar\":{\"outlinewidth\":0,\"ticks\":\"\"}}}],\"scattermapbox\":[{\"type\":\"scattermapbox\",\"marker\":{\"colorbar\":{\"outlinewidth\":0,\"ticks\":\"\"}}}],\"scatterternary\":[{\"type\":\"scatterternary\",\"marker\":{\"colorbar\":{\"outlinewidth\":0,\"ticks\":\"\"}}}],\"scattercarpet\":[{\"type\":\"scattercarpet\",\"marker\":{\"colorbar\":{\"outlinewidth\":0,\"ticks\":\"\"}}}],\"carpet\":[{\"aaxis\":{\"endlinecolor\":\"#2a3f5f\",\"gridcolor\":\"white\",\"linecolor\":\"white\",\"minorgridcolor\":\"white\",\"startlinecolor\":\"#2a3f5f\"},\"baxis\":{\"endlinecolor\":\"#2a3f5f\",\"gridcolor\":\"white\",\"linecolor\":\"white\",\"minorgridcolor\":\"white\",\"startlinecolor\":\"#2a3f5f\"},\"type\":\"carpet\"}],\"table\":[{\"cells\":{\"fill\":{\"color\":\"#EBF0F8\"},\"line\":{\"color\":\"white\"}},\"header\":{\"fill\":{\"color\":\"#C8D4E3\"},\"line\":{\"color\":\"white\"}},\"type\":\"table\"}],\"barpolar\":[{\"marker\":{\"line\":{\"color\":\"#E5ECF6\",\"width\":0.5},\"pattern\":{\"fillmode\":\"overlay\",\"size\":10,\"solidity\":0.2}},\"type\":\"barpolar\"}],\"pie\":[{\"automargin\":true,\"type\":\"pie\"}]},\"layout\":{\"autotypenumbers\":\"strict\",\"colorway\":[\"#636efa\",\"#EF553B\",\"#00cc96\",\"#ab63fa\",\"#FFA15A\",\"#19d3f3\",\"#FF6692\",\"#B6E880\",\"#FF97FF\",\"#FECB52\"],\"font\":{\"color\":\"#2a3f5f\"},\"hovermode\":\"closest\",\"hoverlabel\":{\"align\":\"left\"},\"paper_bgcolor\":\"white\",\"plot_bgcolor\":\"#E5ECF6\",\"polar\":{\"bgcolor\":\"#E5ECF6\",\"angularaxis\":{\"gridcolor\":\"white\",\"linecolor\":\"white\",\"ticks\":\"\"},\"radialaxis\":{\"gridcolor\":\"white\",\"linecolor\":\"white\",\"ticks\":\"\"}},\"ternary\":{\"bgcolor\":\"#E5ECF6\",\"aaxis\":{\"gridcolor\":\"white\",\"linecolor\":\"white\",\"ticks\":\"\"},\"baxis\":{\"gridcolor\":\"white\",\"linecolor\":\"white\",\"ticks\":\"\"},\"caxis\":{\"gridcolor\":\"white\",\"linecolor\":\"white\",\"ticks\":\"\"}},\"coloraxis\":{\"colorbar\":{\"outlinewidth\":0,\"ticks\":\"\"}},\"colorscale\":{\"sequential\":[[0.0,\"#0d0887\"],[0.1111111111111111,\"#46039f\"],[0.2222222222222222,\"#7201a8\"],[0.3333333333333333,\"#9c179e\"],[0.4444444444444444,\"#bd3786\"],[0.5555555555555556,\"#d8576b\"],[0.6666666666666666,\"#ed7953\"],[0.7777777777777778,\"#fb9f3a\"],[0.8888888888888888,\"#fdca26\"],[1.0,\"#f0f921\"]],\"sequentialminus\":[[0.0,\"#0d0887\"],[0.1111111111111111,\"#46039f\"],[0.2222222222222222,\"#7201a8\"],[0.3333333333333333,\"#9c179e\"],[0.4444444444444444,\"#bd3786\"],[0.5555555555555556,\"#d8576b\"],[0.6666666666666666,\"#ed7953\"],[0.7777777777777778,\"#fb9f3a\"],[0.8888888888888888,\"#fdca26\"],[1.0,\"#f0f921\"]],\"diverging\":[[0,\"#8e0152\"],[0.1,\"#c51b7d\"],[0.2,\"#de77ae\"],[0.3,\"#f1b6da\"],[0.4,\"#fde0ef\"],[0.5,\"#f7f7f7\"],[0.6,\"#e6f5d0\"],[0.7,\"#b8e186\"],[0.8,\"#7fbc41\"],[0.9,\"#4d9221\"],[1,\"#276419\"]]},\"xaxis\":{\"gridcolor\":\"white\",\"linecolor\":\"white\",\"ticks\":\"\",\"title\":{\"standoff\":15},\"zerolinecolor\":\"white\",\"automargin\":true,\"zerolinewidth\":2},\"yaxis\":{\"gridcolor\":\"white\",\"linecolor\":\"white\",\"ticks\":\"\",\"title\":{\"standoff\":15},\"zerolinecolor\":\"white\",\"automargin\":true,\"zerolinewidth\":2},\"scene\":{\"xaxis\":{\"backgroundcolor\":\"#E5ECF6\",\"gridcolor\":\"white\",\"linecolor\":\"white\",\"showbackground\":true,\"ticks\":\"\",\"zerolinecolor\":\"white\",\"gridwidth\":2},\"yaxis\":{\"backgroundcolor\":\"#E5ECF6\",\"gridcolor\":\"white\",\"linecolor\":\"white\",\"showbackground\":true,\"ticks\":\"\",\"zerolinecolor\":\"white\",\"gridwidth\":2},\"zaxis\":{\"backgroundcolor\":\"#E5ECF6\",\"gridcolor\":\"white\",\"linecolor\":\"white\",\"showbackground\":true,\"ticks\":\"\",\"zerolinecolor\":\"white\",\"gridwidth\":2}},\"shapedefaults\":{\"line\":{\"color\":\"#2a3f5f\"}},\"annotationdefaults\":{\"arrowcolor\":\"#2a3f5f\",\"arrowhead\":0,\"arrowwidth\":1},\"geo\":{\"bgcolor\":\"white\",\"landcolor\":\"#E5ECF6\",\"subunitcolor\":\"white\",\"showland\":true,\"showlakes\":true,\"lakecolor\":\"white\"},\"title\":{\"x\":0.05},\"mapbox\":{\"style\":\"light\"}}},\"xaxis\":{\"rangeslider\":{\"visible\":true},\"title\":{\"text\":\"Ann\\u00e9e\"}},\"title\":{\"text\":\"Emissions de GES par mode de transport (en MtCO2e)\"},\"yaxis\":{\"title\":{\"text\":\"Conso [MtCO2e]\"}}},                        {\"responsive\": true}                    ).then(function(){\n                            \nvar gd = document.getElementById('687d2e06-20bd-40c1-a944-548f0d90ad31');\nvar x = new MutationObserver(function (mutations, observer) {{\n        var display = window.getComputedStyle(gd).display;\n        if (!display || display === 'none') {{\n            console.log([gd, 'removed!']);\n            Plotly.purge(gd);\n            observer.disconnect();\n        }}\n}});\n\n// Listen for the removal of the full notebook cells\nvar notebookContainer = gd.closest('#notebook-container');\nif (notebookContainer) {{\n    x.observe(notebookContainer, {childList: true});\n}}\n\n// Listen for the clearing of the current output cell\nvar outputEl = gd.closest('.output');\nif (outputEl) {{\n    x.observe(outputEl, {childList: true});\n}}\n\n                        })                };                });            </script>        </div>"
     },
     "metadata": {},
     "output_type": "display_data"
    }
   ],
   "source": [
    "Var = \"emissions\"\n",
    "y_df = sim_stock_df.groupby([\"year\",Energy_system_name])[Var].sum().to_frame().reset_index().\\\n",
    "    pivot(index=['year'], columns=Energy_system_name).loc[[year for year in sim_param[\"years\"][1:]],Var]/10**3\n",
    "y_df.columns=pd.MultiIndex.from_tuples([(str(col_class_dict[key]),key) for key in y_df.columns])\n",
    "\n",
    "fig = MyStackedPlotly(y_df=y_df)\n",
    "fig=fig.update_layout(title_text=\"Emissions de GES par mode de transport (en MtCO2e)\", xaxis_title=\"Année\",yaxis_title=\"Conso [MtCO2e]\")\n",
    "#plotly.offline.plot(fig, filename=Graphic_folder+'file.html') ## offline\n",
    "fig.show()\n"
   ]
  },
  {
   "cell_type": "code",
   "execution_count": 39,
   "metadata": {},
   "outputs": [
    {
     "data": {
      "application/vnd.plotly.v1+json": {
       "data": [
        {
         "fill": "tozeroy",
         "mode": "none",
         "name": "conso_gaz",
         "x": [
          2021,
          2022,
          2023,
          2024,
          2025,
          2026,
          2027,
          2028,
          2029,
          2030,
          2031,
          2032,
          2033,
          2034,
          2035,
          2036,
          2037,
          2038,
          2039,
          2040,
          2041,
          2042,
          2043,
          2044,
          2045,
          2046,
          2047,
          2048,
          2049
         ],
         "y": [
          2.5722299206745025,
          2.6470331746823375,
          3.594541058781562,
          4.542048942880786,
          5.489556826980008,
          6.985621907136675,
          8.481686987293342,
          9.977752067450009,
          11.473817147606674,
          12.969882227763343,
          15.064373339982675,
          17.15886445220201,
          19.25335556442134,
          21.34784667664067,
          23.44233778886,
          24.339976836954005,
          25.237615885048008,
          26.135254933142008,
          27.032893981236008,
          27.930533029330007,
          28.528959061392673,
          29.127385093455338,
          29.725811125518007,
          30.32423715758067,
          30.922663189643334,
          31.22187620567467,
          31.521089221706,
          31.820302237737334,
          32.11951525376867
         ],
         "type": "scatter"
        },
        {
         "fill": "tonexty",
         "mode": "none",
         "name": "conso_H2",
         "x": [
          2021,
          2022,
          2023,
          2024,
          2025,
          2026,
          2027,
          2028,
          2029,
          2030,
          2031,
          2032,
          2033,
          2034,
          2035,
          2036,
          2037,
          2038,
          2039,
          2040,
          2041,
          2042,
          2043,
          2044,
          2045,
          2046,
          2047,
          2048,
          2049
         ],
         "y": [
          2.7116241706745026,
          2.925821674682337,
          5.6389900587815625,
          8.352158442880787,
          11.065326826980009,
          15.349276907136677,
          19.63322698729334,
          23.917177067450012,
          28.201127147606677,
          32.48507722776334,
          38.48260733998268,
          44.480137452202015,
          50.47766756442134,
          56.475197676640676,
          62.47272778886001,
          65.04309783695402,
          67.61346788504801,
          70.18383793314202,
          72.75420798123602,
          75.32457802933001,
          77.03815806139268,
          78.75173809345534,
          80.46531812551802,
          82.17889815758068,
          83.89247818964334,
          84.74926820567467,
          85.60605822170601,
          86.46284823773733,
          87.31963825376866
         ],
         "type": "scatter"
        },
        {
         "fill": "tonexty",
         "mode": "none",
         "name": "conso_électrique",
         "x": [
          2021,
          2022,
          2023,
          2024,
          2025,
          2026,
          2027,
          2028,
          2029,
          2030,
          2031,
          2032,
          2033,
          2034,
          2035,
          2036,
          2037,
          2038,
          2039,
          2040,
          2041,
          2042,
          2043,
          2044,
          2045,
          2046,
          2047,
          2048,
          2049
         ],
         "y": [
          12.375952846649026,
          12.787498123103095,
          18.000404958187858,
          23.213311793272617,
          28.42621862835737,
          36.65712415743856,
          44.888029686519744,
          53.11893521560094,
          61.349840744682126,
          69.58074627376331,
          81.10401401447697,
          92.62728175519064,
          104.1505494959043,
          115.67381723661796,
          127.19708497733164,
          132.13562829478036,
          137.07417161222907,
          142.01271492967777,
          146.95125824712647,
          151.88980156457518,
          155.1821637762077,
          158.47452598784017,
          161.76688819947265,
          165.0592504111051,
          168.35161262273758,
          169.9977937285538,
          171.64397483437006,
          173.29015594018628,
          174.9363370460025
         ],
         "type": "scatter"
        },
        {
         "fill": "tonexty",
         "mode": "none",
         "name": "conso_fuel",
         "x": [
          2021,
          2022,
          2023,
          2024,
          2025,
          2026,
          2027,
          2028,
          2029,
          2030,
          2031,
          2032,
          2033,
          2034,
          2035,
          2036,
          2037,
          2038,
          2039,
          2040,
          2041,
          2042,
          2043,
          2044,
          2045,
          2046,
          2047,
          2048,
          2049
         ],
         "y": [
          607.6980976133351,
          606.9267664931307,
          597.1565723038761,
          587.3863781146217,
          577.6161839253672,
          562.1895615212812,
          546.7629391171952,
          531.3363167131091,
          515.909694309023,
          500.4830719049371,
          478.8858005392166,
          457.28852917349616,
          435.69125780777574,
          414.0939864420553,
          392.4967150763349,
          383.24074163388326,
          373.9847681914316,
          364.72879474898,
          355.47282130652843,
          346.2168478640767,
          340.04619890244237,
          333.87554994080796,
          327.70490097917354,
          321.5342520175392,
          315.3636030559047,
          312.2782785750875,
          309.19295409427036,
          306.1076296134531,
          303.0223051326359
         ],
         "type": "scatter"
        }
       ],
       "layout": {
        "template": {
         "data": {
          "histogram2dcontour": [
           {
            "type": "histogram2dcontour",
            "colorbar": {
             "outlinewidth": 0,
             "ticks": ""
            },
            "colorscale": [
             [
              0.0,
              "#0d0887"
             ],
             [
              0.1111111111111111,
              "#46039f"
             ],
             [
              0.2222222222222222,
              "#7201a8"
             ],
             [
              0.3333333333333333,
              "#9c179e"
             ],
             [
              0.4444444444444444,
              "#bd3786"
             ],
             [
              0.5555555555555556,
              "#d8576b"
             ],
             [
              0.6666666666666666,
              "#ed7953"
             ],
             [
              0.7777777777777778,
              "#fb9f3a"
             ],
             [
              0.8888888888888888,
              "#fdca26"
             ],
             [
              1.0,
              "#f0f921"
             ]
            ]
           }
          ],
          "choropleth": [
           {
            "type": "choropleth",
            "colorbar": {
             "outlinewidth": 0,
             "ticks": ""
            }
           }
          ],
          "histogram2d": [
           {
            "type": "histogram2d",
            "colorbar": {
             "outlinewidth": 0,
             "ticks": ""
            },
            "colorscale": [
             [
              0.0,
              "#0d0887"
             ],
             [
              0.1111111111111111,
              "#46039f"
             ],
             [
              0.2222222222222222,
              "#7201a8"
             ],
             [
              0.3333333333333333,
              "#9c179e"
             ],
             [
              0.4444444444444444,
              "#bd3786"
             ],
             [
              0.5555555555555556,
              "#d8576b"
             ],
             [
              0.6666666666666666,
              "#ed7953"
             ],
             [
              0.7777777777777778,
              "#fb9f3a"
             ],
             [
              0.8888888888888888,
              "#fdca26"
             ],
             [
              1.0,
              "#f0f921"
             ]
            ]
           }
          ],
          "heatmap": [
           {
            "type": "heatmap",
            "colorbar": {
             "outlinewidth": 0,
             "ticks": ""
            },
            "colorscale": [
             [
              0.0,
              "#0d0887"
             ],
             [
              0.1111111111111111,
              "#46039f"
             ],
             [
              0.2222222222222222,
              "#7201a8"
             ],
             [
              0.3333333333333333,
              "#9c179e"
             ],
             [
              0.4444444444444444,
              "#bd3786"
             ],
             [
              0.5555555555555556,
              "#d8576b"
             ],
             [
              0.6666666666666666,
              "#ed7953"
             ],
             [
              0.7777777777777778,
              "#fb9f3a"
             ],
             [
              0.8888888888888888,
              "#fdca26"
             ],
             [
              1.0,
              "#f0f921"
             ]
            ]
           }
          ],
          "heatmapgl": [
           {
            "type": "heatmapgl",
            "colorbar": {
             "outlinewidth": 0,
             "ticks": ""
            },
            "colorscale": [
             [
              0.0,
              "#0d0887"
             ],
             [
              0.1111111111111111,
              "#46039f"
             ],
             [
              0.2222222222222222,
              "#7201a8"
             ],
             [
              0.3333333333333333,
              "#9c179e"
             ],
             [
              0.4444444444444444,
              "#bd3786"
             ],
             [
              0.5555555555555556,
              "#d8576b"
             ],
             [
              0.6666666666666666,
              "#ed7953"
             ],
             [
              0.7777777777777778,
              "#fb9f3a"
             ],
             [
              0.8888888888888888,
              "#fdca26"
             ],
             [
              1.0,
              "#f0f921"
             ]
            ]
           }
          ],
          "contourcarpet": [
           {
            "type": "contourcarpet",
            "colorbar": {
             "outlinewidth": 0,
             "ticks": ""
            }
           }
          ],
          "contour": [
           {
            "type": "contour",
            "colorbar": {
             "outlinewidth": 0,
             "ticks": ""
            },
            "colorscale": [
             [
              0.0,
              "#0d0887"
             ],
             [
              0.1111111111111111,
              "#46039f"
             ],
             [
              0.2222222222222222,
              "#7201a8"
             ],
             [
              0.3333333333333333,
              "#9c179e"
             ],
             [
              0.4444444444444444,
              "#bd3786"
             ],
             [
              0.5555555555555556,
              "#d8576b"
             ],
             [
              0.6666666666666666,
              "#ed7953"
             ],
             [
              0.7777777777777778,
              "#fb9f3a"
             ],
             [
              0.8888888888888888,
              "#fdca26"
             ],
             [
              1.0,
              "#f0f921"
             ]
            ]
           }
          ],
          "surface": [
           {
            "type": "surface",
            "colorbar": {
             "outlinewidth": 0,
             "ticks": ""
            },
            "colorscale": [
             [
              0.0,
              "#0d0887"
             ],
             [
              0.1111111111111111,
              "#46039f"
             ],
             [
              0.2222222222222222,
              "#7201a8"
             ],
             [
              0.3333333333333333,
              "#9c179e"
             ],
             [
              0.4444444444444444,
              "#bd3786"
             ],
             [
              0.5555555555555556,
              "#d8576b"
             ],
             [
              0.6666666666666666,
              "#ed7953"
             ],
             [
              0.7777777777777778,
              "#fb9f3a"
             ],
             [
              0.8888888888888888,
              "#fdca26"
             ],
             [
              1.0,
              "#f0f921"
             ]
            ]
           }
          ],
          "mesh3d": [
           {
            "type": "mesh3d",
            "colorbar": {
             "outlinewidth": 0,
             "ticks": ""
            }
           }
          ],
          "scatter": [
           {
            "fillpattern": {
             "fillmode": "overlay",
             "size": 10,
             "solidity": 0.2
            },
            "type": "scatter"
           }
          ],
          "parcoords": [
           {
            "type": "parcoords",
            "line": {
             "colorbar": {
              "outlinewidth": 0,
              "ticks": ""
             }
            }
           }
          ],
          "scatterpolargl": [
           {
            "type": "scatterpolargl",
            "marker": {
             "colorbar": {
              "outlinewidth": 0,
              "ticks": ""
             }
            }
           }
          ],
          "bar": [
           {
            "error_x": {
             "color": "#2a3f5f"
            },
            "error_y": {
             "color": "#2a3f5f"
            },
            "marker": {
             "line": {
              "color": "#E5ECF6",
              "width": 0.5
             },
             "pattern": {
              "fillmode": "overlay",
              "size": 10,
              "solidity": 0.2
             }
            },
            "type": "bar"
           }
          ],
          "scattergeo": [
           {
            "type": "scattergeo",
            "marker": {
             "colorbar": {
              "outlinewidth": 0,
              "ticks": ""
             }
            }
           }
          ],
          "scatterpolar": [
           {
            "type": "scatterpolar",
            "marker": {
             "colorbar": {
              "outlinewidth": 0,
              "ticks": ""
             }
            }
           }
          ],
          "histogram": [
           {
            "marker": {
             "pattern": {
              "fillmode": "overlay",
              "size": 10,
              "solidity": 0.2
             }
            },
            "type": "histogram"
           }
          ],
          "scattergl": [
           {
            "type": "scattergl",
            "marker": {
             "colorbar": {
              "outlinewidth": 0,
              "ticks": ""
             }
            }
           }
          ],
          "scatter3d": [
           {
            "type": "scatter3d",
            "line": {
             "colorbar": {
              "outlinewidth": 0,
              "ticks": ""
             }
            },
            "marker": {
             "colorbar": {
              "outlinewidth": 0,
              "ticks": ""
             }
            }
           }
          ],
          "scattermapbox": [
           {
            "type": "scattermapbox",
            "marker": {
             "colorbar": {
              "outlinewidth": 0,
              "ticks": ""
             }
            }
           }
          ],
          "scatterternary": [
           {
            "type": "scatterternary",
            "marker": {
             "colorbar": {
              "outlinewidth": 0,
              "ticks": ""
             }
            }
           }
          ],
          "scattercarpet": [
           {
            "type": "scattercarpet",
            "marker": {
             "colorbar": {
              "outlinewidth": 0,
              "ticks": ""
             }
            }
           }
          ],
          "carpet": [
           {
            "aaxis": {
             "endlinecolor": "#2a3f5f",
             "gridcolor": "white",
             "linecolor": "white",
             "minorgridcolor": "white",
             "startlinecolor": "#2a3f5f"
            },
            "baxis": {
             "endlinecolor": "#2a3f5f",
             "gridcolor": "white",
             "linecolor": "white",
             "minorgridcolor": "white",
             "startlinecolor": "#2a3f5f"
            },
            "type": "carpet"
           }
          ],
          "table": [
           {
            "cells": {
             "fill": {
              "color": "#EBF0F8"
             },
             "line": {
              "color": "white"
             }
            },
            "header": {
             "fill": {
              "color": "#C8D4E3"
             },
             "line": {
              "color": "white"
             }
            },
            "type": "table"
           }
          ],
          "barpolar": [
           {
            "marker": {
             "line": {
              "color": "#E5ECF6",
              "width": 0.5
             },
             "pattern": {
              "fillmode": "overlay",
              "size": 10,
              "solidity": 0.2
             }
            },
            "type": "barpolar"
           }
          ],
          "pie": [
           {
            "automargin": true,
            "type": "pie"
           }
          ]
         },
         "layout": {
          "autotypenumbers": "strict",
          "colorway": [
           "#636efa",
           "#EF553B",
           "#00cc96",
           "#ab63fa",
           "#FFA15A",
           "#19d3f3",
           "#FF6692",
           "#B6E880",
           "#FF97FF",
           "#FECB52"
          ],
          "font": {
           "color": "#2a3f5f"
          },
          "hovermode": "closest",
          "hoverlabel": {
           "align": "left"
          },
          "paper_bgcolor": "white",
          "plot_bgcolor": "#E5ECF6",
          "polar": {
           "bgcolor": "#E5ECF6",
           "angularaxis": {
            "gridcolor": "white",
            "linecolor": "white",
            "ticks": ""
           },
           "radialaxis": {
            "gridcolor": "white",
            "linecolor": "white",
            "ticks": ""
           }
          },
          "ternary": {
           "bgcolor": "#E5ECF6",
           "aaxis": {
            "gridcolor": "white",
            "linecolor": "white",
            "ticks": ""
           },
           "baxis": {
            "gridcolor": "white",
            "linecolor": "white",
            "ticks": ""
           },
           "caxis": {
            "gridcolor": "white",
            "linecolor": "white",
            "ticks": ""
           }
          },
          "coloraxis": {
           "colorbar": {
            "outlinewidth": 0,
            "ticks": ""
           }
          },
          "colorscale": {
           "sequential": [
            [
             0.0,
             "#0d0887"
            ],
            [
             0.1111111111111111,
             "#46039f"
            ],
            [
             0.2222222222222222,
             "#7201a8"
            ],
            [
             0.3333333333333333,
             "#9c179e"
            ],
            [
             0.4444444444444444,
             "#bd3786"
            ],
            [
             0.5555555555555556,
             "#d8576b"
            ],
            [
             0.6666666666666666,
             "#ed7953"
            ],
            [
             0.7777777777777778,
             "#fb9f3a"
            ],
            [
             0.8888888888888888,
             "#fdca26"
            ],
            [
             1.0,
             "#f0f921"
            ]
           ],
           "sequentialminus": [
            [
             0.0,
             "#0d0887"
            ],
            [
             0.1111111111111111,
             "#46039f"
            ],
            [
             0.2222222222222222,
             "#7201a8"
            ],
            [
             0.3333333333333333,
             "#9c179e"
            ],
            [
             0.4444444444444444,
             "#bd3786"
            ],
            [
             0.5555555555555556,
             "#d8576b"
            ],
            [
             0.6666666666666666,
             "#ed7953"
            ],
            [
             0.7777777777777778,
             "#fb9f3a"
            ],
            [
             0.8888888888888888,
             "#fdca26"
            ],
            [
             1.0,
             "#f0f921"
            ]
           ],
           "diverging": [
            [
             0,
             "#8e0152"
            ],
            [
             0.1,
             "#c51b7d"
            ],
            [
             0.2,
             "#de77ae"
            ],
            [
             0.3,
             "#f1b6da"
            ],
            [
             0.4,
             "#fde0ef"
            ],
            [
             0.5,
             "#f7f7f7"
            ],
            [
             0.6,
             "#e6f5d0"
            ],
            [
             0.7,
             "#b8e186"
            ],
            [
             0.8,
             "#7fbc41"
            ],
            [
             0.9,
             "#4d9221"
            ],
            [
             1,
             "#276419"
            ]
           ]
          },
          "xaxis": {
           "gridcolor": "white",
           "linecolor": "white",
           "ticks": "",
           "title": {
            "standoff": 15
           },
           "zerolinecolor": "white",
           "automargin": true,
           "zerolinewidth": 2
          },
          "yaxis": {
           "gridcolor": "white",
           "linecolor": "white",
           "ticks": "",
           "title": {
            "standoff": 15
           },
           "zerolinecolor": "white",
           "automargin": true,
           "zerolinewidth": 2
          },
          "scene": {
           "xaxis": {
            "backgroundcolor": "#E5ECF6",
            "gridcolor": "white",
            "linecolor": "white",
            "showbackground": true,
            "ticks": "",
            "zerolinecolor": "white",
            "gridwidth": 2
           },
           "yaxis": {
            "backgroundcolor": "#E5ECF6",
            "gridcolor": "white",
            "linecolor": "white",
            "showbackground": true,
            "ticks": "",
            "zerolinecolor": "white",
            "gridwidth": 2
           },
           "zaxis": {
            "backgroundcolor": "#E5ECF6",
            "gridcolor": "white",
            "linecolor": "white",
            "showbackground": true,
            "ticks": "",
            "zerolinecolor": "white",
            "gridwidth": 2
           }
          },
          "shapedefaults": {
           "line": {
            "color": "#2a3f5f"
           }
          },
          "annotationdefaults": {
           "arrowcolor": "#2a3f5f",
           "arrowhead": 0,
           "arrowwidth": 1
          },
          "geo": {
           "bgcolor": "white",
           "landcolor": "#E5ECF6",
           "subunitcolor": "white",
           "showland": true,
           "showlakes": true,
           "lakecolor": "white"
          },
          "title": {
           "x": 0.05
          },
          "mapbox": {
           "style": "light"
          }
         }
        },
        "xaxis": {
         "rangeslider": {
          "visible": true
         },
         "title": {
          "text": "Année"
         }
        },
        "title": {
         "text": "Conso énergie finale par vecteur (en TWh)"
        },
        "yaxis": {
         "title": {
          "text": "Conso [TWh]"
         }
        }
       },
       "config": {
        "plotlyServerURL": "https://plot.ly"
       }
      },
      "text/html": "<div>                            <div id=\"7e4cab0f-1e7f-4e03-9964-dc627012eda8\" class=\"plotly-graph-div\" style=\"height:525px; width:100%;\"></div>            <script type=\"text/javascript\">                require([\"plotly\"], function(Plotly) {                    window.PLOTLYENV=window.PLOTLYENV || {};                                    if (document.getElementById(\"7e4cab0f-1e7f-4e03-9964-dc627012eda8\")) {                    Plotly.newPlot(                        \"7e4cab0f-1e7f-4e03-9964-dc627012eda8\",                        [{\"fill\":\"tozeroy\",\"mode\":\"none\",\"name\":\"conso_gaz\",\"x\":[2021,2022,2023,2024,2025,2026,2027,2028,2029,2030,2031,2032,2033,2034,2035,2036,2037,2038,2039,2040,2041,2042,2043,2044,2045,2046,2047,2048,2049],\"y\":[2.5722299206745025,2.6470331746823375,3.594541058781562,4.542048942880786,5.489556826980008,6.985621907136675,8.481686987293342,9.977752067450009,11.473817147606674,12.969882227763343,15.064373339982675,17.15886445220201,19.25335556442134,21.34784667664067,23.44233778886,24.339976836954005,25.237615885048008,26.135254933142008,27.032893981236008,27.930533029330007,28.528959061392673,29.127385093455338,29.725811125518007,30.32423715758067,30.922663189643334,31.22187620567467,31.521089221706,31.820302237737334,32.11951525376867],\"type\":\"scatter\"},{\"fill\":\"tonexty\",\"mode\":\"none\",\"name\":\"conso_H2\",\"x\":[2021,2022,2023,2024,2025,2026,2027,2028,2029,2030,2031,2032,2033,2034,2035,2036,2037,2038,2039,2040,2041,2042,2043,2044,2045,2046,2047,2048,2049],\"y\":[2.7116241706745026,2.925821674682337,5.6389900587815625,8.352158442880787,11.065326826980009,15.349276907136677,19.63322698729334,23.917177067450012,28.201127147606677,32.48507722776334,38.48260733998268,44.480137452202015,50.47766756442134,56.475197676640676,62.47272778886001,65.04309783695402,67.61346788504801,70.18383793314202,72.75420798123602,75.32457802933001,77.03815806139268,78.75173809345534,80.46531812551802,82.17889815758068,83.89247818964334,84.74926820567467,85.60605822170601,86.46284823773733,87.31963825376866],\"type\":\"scatter\"},{\"fill\":\"tonexty\",\"mode\":\"none\",\"name\":\"conso_\\u00e9lectrique\",\"x\":[2021,2022,2023,2024,2025,2026,2027,2028,2029,2030,2031,2032,2033,2034,2035,2036,2037,2038,2039,2040,2041,2042,2043,2044,2045,2046,2047,2048,2049],\"y\":[12.375952846649026,12.787498123103095,18.000404958187858,23.213311793272617,28.42621862835737,36.65712415743856,44.888029686519744,53.11893521560094,61.349840744682126,69.58074627376331,81.10401401447697,92.62728175519064,104.1505494959043,115.67381723661796,127.19708497733164,132.13562829478036,137.07417161222907,142.01271492967777,146.95125824712647,151.88980156457518,155.1821637762077,158.47452598784017,161.76688819947265,165.0592504111051,168.35161262273758,169.9977937285538,171.64397483437006,173.29015594018628,174.9363370460025],\"type\":\"scatter\"},{\"fill\":\"tonexty\",\"mode\":\"none\",\"name\":\"conso_fuel\",\"x\":[2021,2022,2023,2024,2025,2026,2027,2028,2029,2030,2031,2032,2033,2034,2035,2036,2037,2038,2039,2040,2041,2042,2043,2044,2045,2046,2047,2048,2049],\"y\":[607.6980976133351,606.9267664931307,597.1565723038761,587.3863781146217,577.6161839253672,562.1895615212812,546.7629391171952,531.3363167131091,515.909694309023,500.4830719049371,478.8858005392166,457.28852917349616,435.69125780777574,414.0939864420553,392.4967150763349,383.24074163388326,373.9847681914316,364.72879474898,355.47282130652843,346.2168478640767,340.04619890244237,333.87554994080796,327.70490097917354,321.5342520175392,315.3636030559047,312.2782785750875,309.19295409427036,306.1076296134531,303.0223051326359],\"type\":\"scatter\"}],                        {\"template\":{\"data\":{\"histogram2dcontour\":[{\"type\":\"histogram2dcontour\",\"colorbar\":{\"outlinewidth\":0,\"ticks\":\"\"},\"colorscale\":[[0.0,\"#0d0887\"],[0.1111111111111111,\"#46039f\"],[0.2222222222222222,\"#7201a8\"],[0.3333333333333333,\"#9c179e\"],[0.4444444444444444,\"#bd3786\"],[0.5555555555555556,\"#d8576b\"],[0.6666666666666666,\"#ed7953\"],[0.7777777777777778,\"#fb9f3a\"],[0.8888888888888888,\"#fdca26\"],[1.0,\"#f0f921\"]]}],\"choropleth\":[{\"type\":\"choropleth\",\"colorbar\":{\"outlinewidth\":0,\"ticks\":\"\"}}],\"histogram2d\":[{\"type\":\"histogram2d\",\"colorbar\":{\"outlinewidth\":0,\"ticks\":\"\"},\"colorscale\":[[0.0,\"#0d0887\"],[0.1111111111111111,\"#46039f\"],[0.2222222222222222,\"#7201a8\"],[0.3333333333333333,\"#9c179e\"],[0.4444444444444444,\"#bd3786\"],[0.5555555555555556,\"#d8576b\"],[0.6666666666666666,\"#ed7953\"],[0.7777777777777778,\"#fb9f3a\"],[0.8888888888888888,\"#fdca26\"],[1.0,\"#f0f921\"]]}],\"heatmap\":[{\"type\":\"heatmap\",\"colorbar\":{\"outlinewidth\":0,\"ticks\":\"\"},\"colorscale\":[[0.0,\"#0d0887\"],[0.1111111111111111,\"#46039f\"],[0.2222222222222222,\"#7201a8\"],[0.3333333333333333,\"#9c179e\"],[0.4444444444444444,\"#bd3786\"],[0.5555555555555556,\"#d8576b\"],[0.6666666666666666,\"#ed7953\"],[0.7777777777777778,\"#fb9f3a\"],[0.8888888888888888,\"#fdca26\"],[1.0,\"#f0f921\"]]}],\"heatmapgl\":[{\"type\":\"heatmapgl\",\"colorbar\":{\"outlinewidth\":0,\"ticks\":\"\"},\"colorscale\":[[0.0,\"#0d0887\"],[0.1111111111111111,\"#46039f\"],[0.2222222222222222,\"#7201a8\"],[0.3333333333333333,\"#9c179e\"],[0.4444444444444444,\"#bd3786\"],[0.5555555555555556,\"#d8576b\"],[0.6666666666666666,\"#ed7953\"],[0.7777777777777778,\"#fb9f3a\"],[0.8888888888888888,\"#fdca26\"],[1.0,\"#f0f921\"]]}],\"contourcarpet\":[{\"type\":\"contourcarpet\",\"colorbar\":{\"outlinewidth\":0,\"ticks\":\"\"}}],\"contour\":[{\"type\":\"contour\",\"colorbar\":{\"outlinewidth\":0,\"ticks\":\"\"},\"colorscale\":[[0.0,\"#0d0887\"],[0.1111111111111111,\"#46039f\"],[0.2222222222222222,\"#7201a8\"],[0.3333333333333333,\"#9c179e\"],[0.4444444444444444,\"#bd3786\"],[0.5555555555555556,\"#d8576b\"],[0.6666666666666666,\"#ed7953\"],[0.7777777777777778,\"#fb9f3a\"],[0.8888888888888888,\"#fdca26\"],[1.0,\"#f0f921\"]]}],\"surface\":[{\"type\":\"surface\",\"colorbar\":{\"outlinewidth\":0,\"ticks\":\"\"},\"colorscale\":[[0.0,\"#0d0887\"],[0.1111111111111111,\"#46039f\"],[0.2222222222222222,\"#7201a8\"],[0.3333333333333333,\"#9c179e\"],[0.4444444444444444,\"#bd3786\"],[0.5555555555555556,\"#d8576b\"],[0.6666666666666666,\"#ed7953\"],[0.7777777777777778,\"#fb9f3a\"],[0.8888888888888888,\"#fdca26\"],[1.0,\"#f0f921\"]]}],\"mesh3d\":[{\"type\":\"mesh3d\",\"colorbar\":{\"outlinewidth\":0,\"ticks\":\"\"}}],\"scatter\":[{\"fillpattern\":{\"fillmode\":\"overlay\",\"size\":10,\"solidity\":0.2},\"type\":\"scatter\"}],\"parcoords\":[{\"type\":\"parcoords\",\"line\":{\"colorbar\":{\"outlinewidth\":0,\"ticks\":\"\"}}}],\"scatterpolargl\":[{\"type\":\"scatterpolargl\",\"marker\":{\"colorbar\":{\"outlinewidth\":0,\"ticks\":\"\"}}}],\"bar\":[{\"error_x\":{\"color\":\"#2a3f5f\"},\"error_y\":{\"color\":\"#2a3f5f\"},\"marker\":{\"line\":{\"color\":\"#E5ECF6\",\"width\":0.5},\"pattern\":{\"fillmode\":\"overlay\",\"size\":10,\"solidity\":0.2}},\"type\":\"bar\"}],\"scattergeo\":[{\"type\":\"scattergeo\",\"marker\":{\"colorbar\":{\"outlinewidth\":0,\"ticks\":\"\"}}}],\"scatterpolar\":[{\"type\":\"scatterpolar\",\"marker\":{\"colorbar\":{\"outlinewidth\":0,\"ticks\":\"\"}}}],\"histogram\":[{\"marker\":{\"pattern\":{\"fillmode\":\"overlay\",\"size\":10,\"solidity\":0.2}},\"type\":\"histogram\"}],\"scattergl\":[{\"type\":\"scattergl\",\"marker\":{\"colorbar\":{\"outlinewidth\":0,\"ticks\":\"\"}}}],\"scatter3d\":[{\"type\":\"scatter3d\",\"line\":{\"colorbar\":{\"outlinewidth\":0,\"ticks\":\"\"}},\"marker\":{\"colorbar\":{\"outlinewidth\":0,\"ticks\":\"\"}}}],\"scattermapbox\":[{\"type\":\"scattermapbox\",\"marker\":{\"colorbar\":{\"outlinewidth\":0,\"ticks\":\"\"}}}],\"scatterternary\":[{\"type\":\"scatterternary\",\"marker\":{\"colorbar\":{\"outlinewidth\":0,\"ticks\":\"\"}}}],\"scattercarpet\":[{\"type\":\"scattercarpet\",\"marker\":{\"colorbar\":{\"outlinewidth\":0,\"ticks\":\"\"}}}],\"carpet\":[{\"aaxis\":{\"endlinecolor\":\"#2a3f5f\",\"gridcolor\":\"white\",\"linecolor\":\"white\",\"minorgridcolor\":\"white\",\"startlinecolor\":\"#2a3f5f\"},\"baxis\":{\"endlinecolor\":\"#2a3f5f\",\"gridcolor\":\"white\",\"linecolor\":\"white\",\"minorgridcolor\":\"white\",\"startlinecolor\":\"#2a3f5f\"},\"type\":\"carpet\"}],\"table\":[{\"cells\":{\"fill\":{\"color\":\"#EBF0F8\"},\"line\":{\"color\":\"white\"}},\"header\":{\"fill\":{\"color\":\"#C8D4E3\"},\"line\":{\"color\":\"white\"}},\"type\":\"table\"}],\"barpolar\":[{\"marker\":{\"line\":{\"color\":\"#E5ECF6\",\"width\":0.5},\"pattern\":{\"fillmode\":\"overlay\",\"size\":10,\"solidity\":0.2}},\"type\":\"barpolar\"}],\"pie\":[{\"automargin\":true,\"type\":\"pie\"}]},\"layout\":{\"autotypenumbers\":\"strict\",\"colorway\":[\"#636efa\",\"#EF553B\",\"#00cc96\",\"#ab63fa\",\"#FFA15A\",\"#19d3f3\",\"#FF6692\",\"#B6E880\",\"#FF97FF\",\"#FECB52\"],\"font\":{\"color\":\"#2a3f5f\"},\"hovermode\":\"closest\",\"hoverlabel\":{\"align\":\"left\"},\"paper_bgcolor\":\"white\",\"plot_bgcolor\":\"#E5ECF6\",\"polar\":{\"bgcolor\":\"#E5ECF6\",\"angularaxis\":{\"gridcolor\":\"white\",\"linecolor\":\"white\",\"ticks\":\"\"},\"radialaxis\":{\"gridcolor\":\"white\",\"linecolor\":\"white\",\"ticks\":\"\"}},\"ternary\":{\"bgcolor\":\"#E5ECF6\",\"aaxis\":{\"gridcolor\":\"white\",\"linecolor\":\"white\",\"ticks\":\"\"},\"baxis\":{\"gridcolor\":\"white\",\"linecolor\":\"white\",\"ticks\":\"\"},\"caxis\":{\"gridcolor\":\"white\",\"linecolor\":\"white\",\"ticks\":\"\"}},\"coloraxis\":{\"colorbar\":{\"outlinewidth\":0,\"ticks\":\"\"}},\"colorscale\":{\"sequential\":[[0.0,\"#0d0887\"],[0.1111111111111111,\"#46039f\"],[0.2222222222222222,\"#7201a8\"],[0.3333333333333333,\"#9c179e\"],[0.4444444444444444,\"#bd3786\"],[0.5555555555555556,\"#d8576b\"],[0.6666666666666666,\"#ed7953\"],[0.7777777777777778,\"#fb9f3a\"],[0.8888888888888888,\"#fdca26\"],[1.0,\"#f0f921\"]],\"sequentialminus\":[[0.0,\"#0d0887\"],[0.1111111111111111,\"#46039f\"],[0.2222222222222222,\"#7201a8\"],[0.3333333333333333,\"#9c179e\"],[0.4444444444444444,\"#bd3786\"],[0.5555555555555556,\"#d8576b\"],[0.6666666666666666,\"#ed7953\"],[0.7777777777777778,\"#fb9f3a\"],[0.8888888888888888,\"#fdca26\"],[1.0,\"#f0f921\"]],\"diverging\":[[0,\"#8e0152\"],[0.1,\"#c51b7d\"],[0.2,\"#de77ae\"],[0.3,\"#f1b6da\"],[0.4,\"#fde0ef\"],[0.5,\"#f7f7f7\"],[0.6,\"#e6f5d0\"],[0.7,\"#b8e186\"],[0.8,\"#7fbc41\"],[0.9,\"#4d9221\"],[1,\"#276419\"]]},\"xaxis\":{\"gridcolor\":\"white\",\"linecolor\":\"white\",\"ticks\":\"\",\"title\":{\"standoff\":15},\"zerolinecolor\":\"white\",\"automargin\":true,\"zerolinewidth\":2},\"yaxis\":{\"gridcolor\":\"white\",\"linecolor\":\"white\",\"ticks\":\"\",\"title\":{\"standoff\":15},\"zerolinecolor\":\"white\",\"automargin\":true,\"zerolinewidth\":2},\"scene\":{\"xaxis\":{\"backgroundcolor\":\"#E5ECF6\",\"gridcolor\":\"white\",\"linecolor\":\"white\",\"showbackground\":true,\"ticks\":\"\",\"zerolinecolor\":\"white\",\"gridwidth\":2},\"yaxis\":{\"backgroundcolor\":\"#E5ECF6\",\"gridcolor\":\"white\",\"linecolor\":\"white\",\"showbackground\":true,\"ticks\":\"\",\"zerolinecolor\":\"white\",\"gridwidth\":2},\"zaxis\":{\"backgroundcolor\":\"#E5ECF6\",\"gridcolor\":\"white\",\"linecolor\":\"white\",\"showbackground\":true,\"ticks\":\"\",\"zerolinecolor\":\"white\",\"gridwidth\":2}},\"shapedefaults\":{\"line\":{\"color\":\"#2a3f5f\"}},\"annotationdefaults\":{\"arrowcolor\":\"#2a3f5f\",\"arrowhead\":0,\"arrowwidth\":1},\"geo\":{\"bgcolor\":\"white\",\"landcolor\":\"#E5ECF6\",\"subunitcolor\":\"white\",\"showland\":true,\"showlakes\":true,\"lakecolor\":\"white\"},\"title\":{\"x\":0.05},\"mapbox\":{\"style\":\"light\"}}},\"xaxis\":{\"rangeslider\":{\"visible\":true},\"title\":{\"text\":\"Ann\\u00e9e\"}},\"title\":{\"text\":\"Conso \\u00e9nergie finale par vecteur (en TWh)\"},\"yaxis\":{\"title\":{\"text\":\"Conso [TWh]\"}}},                        {\"responsive\": true}                    ).then(function(){\n                            \nvar gd = document.getElementById('7e4cab0f-1e7f-4e03-9964-dc627012eda8');\nvar x = new MutationObserver(function (mutations, observer) {{\n        var display = window.getComputedStyle(gd).display;\n        if (!display || display === 'none') {{\n            console.log([gd, 'removed!']);\n            Plotly.purge(gd);\n            observer.disconnect();\n        }}\n}});\n\n// Listen for the removal of the full notebook cells\nvar notebookContainer = gd.closest('#notebook-container');\nif (notebookContainer) {{\n    x.observe(notebookContainer, {childList: true});\n}}\n\n// Listen for the clearing of the current output cell\nvar outputEl = gd.closest('.output');\nif (outputEl) {{\n    x.observe(outputEl, {childList: true});\n}}\n\n                        })                };                });            </script>        </div>"
     },
     "metadata": {},
     "output_type": "display_data"
    }
   ],
   "source": [
    "y_df = sim_stock_df.groupby([\"year\"])[[ 'conso_'+Vecteur for Vecteur in sim_param[\"Vecteurs\"]]].sum().loc[[year for year in sim_param[\"years\"][1:]],:]\n",
    "fig = MyStackedPlotly(y_df=y_df)\n",
    "fig=fig.update_layout(title_text=\"Conso énergie finale par vecteur (en TWh)\", xaxis_title=\"Année\",yaxis_title=\"Conso [TWh]\")\n",
    "#plotly.offline.plot(fig, filename=Graphic_folder+'file.html') ## offline\n",
    "fig.show()"
   ]
  },
  {
   "cell_type": "code",
   "execution_count": 40,
   "metadata": {},
   "outputs": [
    {
     "data": {
      "application/vnd.plotly.v1+json": {
       "data": [
        {
         "fill": "tozeroy",
         "mode": "none",
         "name": "emissions_gaz",
         "x": [
          2021,
          2022,
          2023,
          2024,
          2025,
          2026,
          2027,
          2028,
          2029,
          2030,
          2031,
          2032,
          2033,
          2034,
          2035,
          2036,
          2037,
          2038,
          2039,
          2040,
          2041,
          2042,
          2043,
          2044,
          2045,
          2046,
          2047,
          2048,
          2049
         ],
         "y": [
          557.8309287969438,
          547.2299916459954,
          706.6867721564549,
          846.9407262158372,
          967.9918538241416,
          1161.0103609661155,
          1323.7086158169143,
          1456.086618376538,
          1558.1443686449866,
          1629.88186662226,
          1740.4372665459987,
          1808.5443132620921,
          1834.20300677054,
          1817.4133470713423,
          1758.1753341645003,
          1744.3650066483706,
          1724.5704188116138,
          1698.7915706542303,
          1667.0284621762203,
          1629.2810933775836,
          1569.092748376597,
          1504.9148964951924,
          1436.74753773337,
          1364.59067209113,
          1288.4442995684722,
          1196.8385878841952,
          1103.23812275971,
          1007.6429041950155,
          910.0529321901122
         ],
         "type": "scatter"
        },
        {
         "fill": "tonexty",
         "mode": "none",
         "name": "emissions_H2",
         "x": [
          2021,
          2022,
          2023,
          2024,
          2025,
          2026,
          2027,
          2028,
          2029,
          2030,
          2031,
          2032,
          2033,
          2034,
          2035,
          2036,
          2037,
          2038,
          2039,
          2040,
          2041,
          2042,
          2043,
          2044,
          2045,
          2046,
          2047,
          2048,
          2049
         ],
         "y": [
          574.0006617969437,
          578.4543036459953,
          927.487264156455,
          1243.1921142158374,
          1525.5688538241416,
          1963.9212409661156,
          2349.650295816914,
          2682.756018376538,
          2963.2384086449865,
          3191.09746662226,
          3520.2230505459993,
          3775.6759692620926,
          3957.45622277054,
          4065.5638110713426,
          4099.998734164501,
          4132.2814386483715,
          4154.119266811615,
          4165.51221865423,
          4166.4602941762205,
          4156.963493377584,
          4091.571096376597,
          4019.2154484951934,
          3939.896549733371,
          3853.614400091131,
          3760.368999568473,
          3623.413691884196,
          3482.97675875971,
          3339.0582001950156,
          3191.658016190112
         ],
         "type": "scatter"
        },
        {
         "fill": "tonexty",
         "mode": "none",
         "name": "emissions_électrique",
         "x": [
          2021,
          2022,
          2023,
          2024,
          2025,
          2026,
          2027,
          2028,
          2029,
          2030,
          2031,
          2032,
          2033,
          2034,
          2035,
          2036,
          2037,
          2038,
          2039,
          2040,
          2041,
          2042,
          2043,
          2044,
          2045,
          2046,
          2047,
          2048,
          2049
         ],
         "y": [
          1134.5317250034661,
          1130.7081847575578,
          1595.0036687243949,
          2015.9720884362123,
          2393.6134438930094,
          2986.697908980606,
          3511.3712199813285,
          3967.633376895179,
          4355.484379722156,
          4674.924228462259,
          5139.836504176783,
          5508.9731641696835,
          5782.3342084409605,
          5959.919636990616,
          6041.729449818649,
          6100.3289987446105,
          6145.326106990805,
          6176.720774557231,
          6194.513001443894,
          6198.702787650789,
          6123.315244961786,
          6038.859408486276,
          5945.335278224252,
          5842.742854175717,
          5731.082136340672,
          5555.713603736123,
          5375.810924238319,
          5191.374097847261,
          5002.403124562945
         ],
         "type": "scatter"
        },
        {
         "fill": "tonexty",
         "mode": "none",
         "name": "emissions_fuel",
         "x": [
          2021,
          2022,
          2023,
          2024,
          2025,
          2026,
          2027,
          2028,
          2029,
          2030,
          2031,
          2032,
          2033,
          2034,
          2035,
          2036,
          2037,
          2038,
          2039,
          2040,
          2041,
          2042,
          2043,
          2044,
          2045,
          2046,
          2047,
          2048,
          2049
         ],
         "y": [
          155759.53679240405,
          152913.4866110206,
          147079.0329059613,
          141329.10793205467,
          135663.71168930072,
          128273.6309765207,
          121017.01668135013,
          113893.86880378907,
          106904.18734383748,
          100047.97230149538,
          91485.00296581359,
          83108.88661478511,
          74919.62324840989,
          66917.21286668794,
          59101.655469619305,
          55651.73803099425,
          52263.92224107557,
          48938.20809986326,
          45674.595607357325,
          42473.08476355775,
          40138.29770818896,
          37844.91175195777,
          35592.926894864155,
          33382.34313690811,
          31213.16047808965,
          29838.249684211212,
          28484.039439901564,
          27150.529745160708,
          25837.720599988643
         ],
         "type": "scatter"
        }
       ],
       "layout": {
        "template": {
         "data": {
          "histogram2dcontour": [
           {
            "type": "histogram2dcontour",
            "colorbar": {
             "outlinewidth": 0,
             "ticks": ""
            },
            "colorscale": [
             [
              0.0,
              "#0d0887"
             ],
             [
              0.1111111111111111,
              "#46039f"
             ],
             [
              0.2222222222222222,
              "#7201a8"
             ],
             [
              0.3333333333333333,
              "#9c179e"
             ],
             [
              0.4444444444444444,
              "#bd3786"
             ],
             [
              0.5555555555555556,
              "#d8576b"
             ],
             [
              0.6666666666666666,
              "#ed7953"
             ],
             [
              0.7777777777777778,
              "#fb9f3a"
             ],
             [
              0.8888888888888888,
              "#fdca26"
             ],
             [
              1.0,
              "#f0f921"
             ]
            ]
           }
          ],
          "choropleth": [
           {
            "type": "choropleth",
            "colorbar": {
             "outlinewidth": 0,
             "ticks": ""
            }
           }
          ],
          "histogram2d": [
           {
            "type": "histogram2d",
            "colorbar": {
             "outlinewidth": 0,
             "ticks": ""
            },
            "colorscale": [
             [
              0.0,
              "#0d0887"
             ],
             [
              0.1111111111111111,
              "#46039f"
             ],
             [
              0.2222222222222222,
              "#7201a8"
             ],
             [
              0.3333333333333333,
              "#9c179e"
             ],
             [
              0.4444444444444444,
              "#bd3786"
             ],
             [
              0.5555555555555556,
              "#d8576b"
             ],
             [
              0.6666666666666666,
              "#ed7953"
             ],
             [
              0.7777777777777778,
              "#fb9f3a"
             ],
             [
              0.8888888888888888,
              "#fdca26"
             ],
             [
              1.0,
              "#f0f921"
             ]
            ]
           }
          ],
          "heatmap": [
           {
            "type": "heatmap",
            "colorbar": {
             "outlinewidth": 0,
             "ticks": ""
            },
            "colorscale": [
             [
              0.0,
              "#0d0887"
             ],
             [
              0.1111111111111111,
              "#46039f"
             ],
             [
              0.2222222222222222,
              "#7201a8"
             ],
             [
              0.3333333333333333,
              "#9c179e"
             ],
             [
              0.4444444444444444,
              "#bd3786"
             ],
             [
              0.5555555555555556,
              "#d8576b"
             ],
             [
              0.6666666666666666,
              "#ed7953"
             ],
             [
              0.7777777777777778,
              "#fb9f3a"
             ],
             [
              0.8888888888888888,
              "#fdca26"
             ],
             [
              1.0,
              "#f0f921"
             ]
            ]
           }
          ],
          "heatmapgl": [
           {
            "type": "heatmapgl",
            "colorbar": {
             "outlinewidth": 0,
             "ticks": ""
            },
            "colorscale": [
             [
              0.0,
              "#0d0887"
             ],
             [
              0.1111111111111111,
              "#46039f"
             ],
             [
              0.2222222222222222,
              "#7201a8"
             ],
             [
              0.3333333333333333,
              "#9c179e"
             ],
             [
              0.4444444444444444,
              "#bd3786"
             ],
             [
              0.5555555555555556,
              "#d8576b"
             ],
             [
              0.6666666666666666,
              "#ed7953"
             ],
             [
              0.7777777777777778,
              "#fb9f3a"
             ],
             [
              0.8888888888888888,
              "#fdca26"
             ],
             [
              1.0,
              "#f0f921"
             ]
            ]
           }
          ],
          "contourcarpet": [
           {
            "type": "contourcarpet",
            "colorbar": {
             "outlinewidth": 0,
             "ticks": ""
            }
           }
          ],
          "contour": [
           {
            "type": "contour",
            "colorbar": {
             "outlinewidth": 0,
             "ticks": ""
            },
            "colorscale": [
             [
              0.0,
              "#0d0887"
             ],
             [
              0.1111111111111111,
              "#46039f"
             ],
             [
              0.2222222222222222,
              "#7201a8"
             ],
             [
              0.3333333333333333,
              "#9c179e"
             ],
             [
              0.4444444444444444,
              "#bd3786"
             ],
             [
              0.5555555555555556,
              "#d8576b"
             ],
             [
              0.6666666666666666,
              "#ed7953"
             ],
             [
              0.7777777777777778,
              "#fb9f3a"
             ],
             [
              0.8888888888888888,
              "#fdca26"
             ],
             [
              1.0,
              "#f0f921"
             ]
            ]
           }
          ],
          "surface": [
           {
            "type": "surface",
            "colorbar": {
             "outlinewidth": 0,
             "ticks": ""
            },
            "colorscale": [
             [
              0.0,
              "#0d0887"
             ],
             [
              0.1111111111111111,
              "#46039f"
             ],
             [
              0.2222222222222222,
              "#7201a8"
             ],
             [
              0.3333333333333333,
              "#9c179e"
             ],
             [
              0.4444444444444444,
              "#bd3786"
             ],
             [
              0.5555555555555556,
              "#d8576b"
             ],
             [
              0.6666666666666666,
              "#ed7953"
             ],
             [
              0.7777777777777778,
              "#fb9f3a"
             ],
             [
              0.8888888888888888,
              "#fdca26"
             ],
             [
              1.0,
              "#f0f921"
             ]
            ]
           }
          ],
          "mesh3d": [
           {
            "type": "mesh3d",
            "colorbar": {
             "outlinewidth": 0,
             "ticks": ""
            }
           }
          ],
          "scatter": [
           {
            "fillpattern": {
             "fillmode": "overlay",
             "size": 10,
             "solidity": 0.2
            },
            "type": "scatter"
           }
          ],
          "parcoords": [
           {
            "type": "parcoords",
            "line": {
             "colorbar": {
              "outlinewidth": 0,
              "ticks": ""
             }
            }
           }
          ],
          "scatterpolargl": [
           {
            "type": "scatterpolargl",
            "marker": {
             "colorbar": {
              "outlinewidth": 0,
              "ticks": ""
             }
            }
           }
          ],
          "bar": [
           {
            "error_x": {
             "color": "#2a3f5f"
            },
            "error_y": {
             "color": "#2a3f5f"
            },
            "marker": {
             "line": {
              "color": "#E5ECF6",
              "width": 0.5
             },
             "pattern": {
              "fillmode": "overlay",
              "size": 10,
              "solidity": 0.2
             }
            },
            "type": "bar"
           }
          ],
          "scattergeo": [
           {
            "type": "scattergeo",
            "marker": {
             "colorbar": {
              "outlinewidth": 0,
              "ticks": ""
             }
            }
           }
          ],
          "scatterpolar": [
           {
            "type": "scatterpolar",
            "marker": {
             "colorbar": {
              "outlinewidth": 0,
              "ticks": ""
             }
            }
           }
          ],
          "histogram": [
           {
            "marker": {
             "pattern": {
              "fillmode": "overlay",
              "size": 10,
              "solidity": 0.2
             }
            },
            "type": "histogram"
           }
          ],
          "scattergl": [
           {
            "type": "scattergl",
            "marker": {
             "colorbar": {
              "outlinewidth": 0,
              "ticks": ""
             }
            }
           }
          ],
          "scatter3d": [
           {
            "type": "scatter3d",
            "line": {
             "colorbar": {
              "outlinewidth": 0,
              "ticks": ""
             }
            },
            "marker": {
             "colorbar": {
              "outlinewidth": 0,
              "ticks": ""
             }
            }
           }
          ],
          "scattermapbox": [
           {
            "type": "scattermapbox",
            "marker": {
             "colorbar": {
              "outlinewidth": 0,
              "ticks": ""
             }
            }
           }
          ],
          "scatterternary": [
           {
            "type": "scatterternary",
            "marker": {
             "colorbar": {
              "outlinewidth": 0,
              "ticks": ""
             }
            }
           }
          ],
          "scattercarpet": [
           {
            "type": "scattercarpet",
            "marker": {
             "colorbar": {
              "outlinewidth": 0,
              "ticks": ""
             }
            }
           }
          ],
          "carpet": [
           {
            "aaxis": {
             "endlinecolor": "#2a3f5f",
             "gridcolor": "white",
             "linecolor": "white",
             "minorgridcolor": "white",
             "startlinecolor": "#2a3f5f"
            },
            "baxis": {
             "endlinecolor": "#2a3f5f",
             "gridcolor": "white",
             "linecolor": "white",
             "minorgridcolor": "white",
             "startlinecolor": "#2a3f5f"
            },
            "type": "carpet"
           }
          ],
          "table": [
           {
            "cells": {
             "fill": {
              "color": "#EBF0F8"
             },
             "line": {
              "color": "white"
             }
            },
            "header": {
             "fill": {
              "color": "#C8D4E3"
             },
             "line": {
              "color": "white"
             }
            },
            "type": "table"
           }
          ],
          "barpolar": [
           {
            "marker": {
             "line": {
              "color": "#E5ECF6",
              "width": 0.5
             },
             "pattern": {
              "fillmode": "overlay",
              "size": 10,
              "solidity": 0.2
             }
            },
            "type": "barpolar"
           }
          ],
          "pie": [
           {
            "automargin": true,
            "type": "pie"
           }
          ]
         },
         "layout": {
          "autotypenumbers": "strict",
          "colorway": [
           "#636efa",
           "#EF553B",
           "#00cc96",
           "#ab63fa",
           "#FFA15A",
           "#19d3f3",
           "#FF6692",
           "#B6E880",
           "#FF97FF",
           "#FECB52"
          ],
          "font": {
           "color": "#2a3f5f"
          },
          "hovermode": "closest",
          "hoverlabel": {
           "align": "left"
          },
          "paper_bgcolor": "white",
          "plot_bgcolor": "#E5ECF6",
          "polar": {
           "bgcolor": "#E5ECF6",
           "angularaxis": {
            "gridcolor": "white",
            "linecolor": "white",
            "ticks": ""
           },
           "radialaxis": {
            "gridcolor": "white",
            "linecolor": "white",
            "ticks": ""
           }
          },
          "ternary": {
           "bgcolor": "#E5ECF6",
           "aaxis": {
            "gridcolor": "white",
            "linecolor": "white",
            "ticks": ""
           },
           "baxis": {
            "gridcolor": "white",
            "linecolor": "white",
            "ticks": ""
           },
           "caxis": {
            "gridcolor": "white",
            "linecolor": "white",
            "ticks": ""
           }
          },
          "coloraxis": {
           "colorbar": {
            "outlinewidth": 0,
            "ticks": ""
           }
          },
          "colorscale": {
           "sequential": [
            [
             0.0,
             "#0d0887"
            ],
            [
             0.1111111111111111,
             "#46039f"
            ],
            [
             0.2222222222222222,
             "#7201a8"
            ],
            [
             0.3333333333333333,
             "#9c179e"
            ],
            [
             0.4444444444444444,
             "#bd3786"
            ],
            [
             0.5555555555555556,
             "#d8576b"
            ],
            [
             0.6666666666666666,
             "#ed7953"
            ],
            [
             0.7777777777777778,
             "#fb9f3a"
            ],
            [
             0.8888888888888888,
             "#fdca26"
            ],
            [
             1.0,
             "#f0f921"
            ]
           ],
           "sequentialminus": [
            [
             0.0,
             "#0d0887"
            ],
            [
             0.1111111111111111,
             "#46039f"
            ],
            [
             0.2222222222222222,
             "#7201a8"
            ],
            [
             0.3333333333333333,
             "#9c179e"
            ],
            [
             0.4444444444444444,
             "#bd3786"
            ],
            [
             0.5555555555555556,
             "#d8576b"
            ],
            [
             0.6666666666666666,
             "#ed7953"
            ],
            [
             0.7777777777777778,
             "#fb9f3a"
            ],
            [
             0.8888888888888888,
             "#fdca26"
            ],
            [
             1.0,
             "#f0f921"
            ]
           ],
           "diverging": [
            [
             0,
             "#8e0152"
            ],
            [
             0.1,
             "#c51b7d"
            ],
            [
             0.2,
             "#de77ae"
            ],
            [
             0.3,
             "#f1b6da"
            ],
            [
             0.4,
             "#fde0ef"
            ],
            [
             0.5,
             "#f7f7f7"
            ],
            [
             0.6,
             "#e6f5d0"
            ],
            [
             0.7,
             "#b8e186"
            ],
            [
             0.8,
             "#7fbc41"
            ],
            [
             0.9,
             "#4d9221"
            ],
            [
             1,
             "#276419"
            ]
           ]
          },
          "xaxis": {
           "gridcolor": "white",
           "linecolor": "white",
           "ticks": "",
           "title": {
            "standoff": 15
           },
           "zerolinecolor": "white",
           "automargin": true,
           "zerolinewidth": 2
          },
          "yaxis": {
           "gridcolor": "white",
           "linecolor": "white",
           "ticks": "",
           "title": {
            "standoff": 15
           },
           "zerolinecolor": "white",
           "automargin": true,
           "zerolinewidth": 2
          },
          "scene": {
           "xaxis": {
            "backgroundcolor": "#E5ECF6",
            "gridcolor": "white",
            "linecolor": "white",
            "showbackground": true,
            "ticks": "",
            "zerolinecolor": "white",
            "gridwidth": 2
           },
           "yaxis": {
            "backgroundcolor": "#E5ECF6",
            "gridcolor": "white",
            "linecolor": "white",
            "showbackground": true,
            "ticks": "",
            "zerolinecolor": "white",
            "gridwidth": 2
           },
           "zaxis": {
            "backgroundcolor": "#E5ECF6",
            "gridcolor": "white",
            "linecolor": "white",
            "showbackground": true,
            "ticks": "",
            "zerolinecolor": "white",
            "gridwidth": 2
           }
          },
          "shapedefaults": {
           "line": {
            "color": "#2a3f5f"
           }
          },
          "annotationdefaults": {
           "arrowcolor": "#2a3f5f",
           "arrowhead": 0,
           "arrowwidth": 1
          },
          "geo": {
           "bgcolor": "white",
           "landcolor": "#E5ECF6",
           "subunitcolor": "white",
           "showland": true,
           "showlakes": true,
           "lakecolor": "white"
          },
          "title": {
           "x": 0.05
          },
          "mapbox": {
           "style": "light"
          }
         }
        },
        "xaxis": {
         "rangeslider": {
          "visible": true
         },
         "title": {
          "text": "Année"
         }
        },
        "title": {
         "text": "Emissions par vecteur [MT CO2]"
        },
        "yaxis": {
         "title": {
          "text": "CO2 [MT]"
         }
        }
       },
       "config": {
        "plotlyServerURL": "https://plot.ly"
       }
      },
      "text/html": "<div>                            <div id=\"0e95aa49-97a9-412c-9bb6-b5a821a774d0\" class=\"plotly-graph-div\" style=\"height:525px; width:100%;\"></div>            <script type=\"text/javascript\">                require([\"plotly\"], function(Plotly) {                    window.PLOTLYENV=window.PLOTLYENV || {};                                    if (document.getElementById(\"0e95aa49-97a9-412c-9bb6-b5a821a774d0\")) {                    Plotly.newPlot(                        \"0e95aa49-97a9-412c-9bb6-b5a821a774d0\",                        [{\"fill\":\"tozeroy\",\"mode\":\"none\",\"name\":\"emissions_gaz\",\"x\":[2021,2022,2023,2024,2025,2026,2027,2028,2029,2030,2031,2032,2033,2034,2035,2036,2037,2038,2039,2040,2041,2042,2043,2044,2045,2046,2047,2048,2049],\"y\":[557.8309287969438,547.2299916459954,706.6867721564549,846.9407262158372,967.9918538241416,1161.0103609661155,1323.7086158169143,1456.086618376538,1558.1443686449866,1629.88186662226,1740.4372665459987,1808.5443132620921,1834.20300677054,1817.4133470713423,1758.1753341645003,1744.3650066483706,1724.5704188116138,1698.7915706542303,1667.0284621762203,1629.2810933775836,1569.092748376597,1504.9148964951924,1436.74753773337,1364.59067209113,1288.4442995684722,1196.8385878841952,1103.23812275971,1007.6429041950155,910.0529321901122],\"type\":\"scatter\"},{\"fill\":\"tonexty\",\"mode\":\"none\",\"name\":\"emissions_H2\",\"x\":[2021,2022,2023,2024,2025,2026,2027,2028,2029,2030,2031,2032,2033,2034,2035,2036,2037,2038,2039,2040,2041,2042,2043,2044,2045,2046,2047,2048,2049],\"y\":[574.0006617969437,578.4543036459953,927.487264156455,1243.1921142158374,1525.5688538241416,1963.9212409661156,2349.650295816914,2682.756018376538,2963.2384086449865,3191.09746662226,3520.2230505459993,3775.6759692620926,3957.45622277054,4065.5638110713426,4099.998734164501,4132.2814386483715,4154.119266811615,4165.51221865423,4166.4602941762205,4156.963493377584,4091.571096376597,4019.2154484951934,3939.896549733371,3853.614400091131,3760.368999568473,3623.413691884196,3482.97675875971,3339.0582001950156,3191.658016190112],\"type\":\"scatter\"},{\"fill\":\"tonexty\",\"mode\":\"none\",\"name\":\"emissions_\\u00e9lectrique\",\"x\":[2021,2022,2023,2024,2025,2026,2027,2028,2029,2030,2031,2032,2033,2034,2035,2036,2037,2038,2039,2040,2041,2042,2043,2044,2045,2046,2047,2048,2049],\"y\":[1134.5317250034661,1130.7081847575578,1595.0036687243949,2015.9720884362123,2393.6134438930094,2986.697908980606,3511.3712199813285,3967.633376895179,4355.484379722156,4674.924228462259,5139.836504176783,5508.9731641696835,5782.3342084409605,5959.919636990616,6041.729449818649,6100.3289987446105,6145.326106990805,6176.720774557231,6194.513001443894,6198.702787650789,6123.315244961786,6038.859408486276,5945.335278224252,5842.742854175717,5731.082136340672,5555.713603736123,5375.810924238319,5191.374097847261,5002.403124562945],\"type\":\"scatter\"},{\"fill\":\"tonexty\",\"mode\":\"none\",\"name\":\"emissions_fuel\",\"x\":[2021,2022,2023,2024,2025,2026,2027,2028,2029,2030,2031,2032,2033,2034,2035,2036,2037,2038,2039,2040,2041,2042,2043,2044,2045,2046,2047,2048,2049],\"y\":[155759.53679240405,152913.4866110206,147079.0329059613,141329.10793205467,135663.71168930072,128273.6309765207,121017.01668135013,113893.86880378907,106904.18734383748,100047.97230149538,91485.00296581359,83108.88661478511,74919.62324840989,66917.21286668794,59101.655469619305,55651.73803099425,52263.92224107557,48938.20809986326,45674.595607357325,42473.08476355775,40138.29770818896,37844.91175195777,35592.926894864155,33382.34313690811,31213.16047808965,29838.249684211212,28484.039439901564,27150.529745160708,25837.720599988643],\"type\":\"scatter\"}],                        {\"template\":{\"data\":{\"histogram2dcontour\":[{\"type\":\"histogram2dcontour\",\"colorbar\":{\"outlinewidth\":0,\"ticks\":\"\"},\"colorscale\":[[0.0,\"#0d0887\"],[0.1111111111111111,\"#46039f\"],[0.2222222222222222,\"#7201a8\"],[0.3333333333333333,\"#9c179e\"],[0.4444444444444444,\"#bd3786\"],[0.5555555555555556,\"#d8576b\"],[0.6666666666666666,\"#ed7953\"],[0.7777777777777778,\"#fb9f3a\"],[0.8888888888888888,\"#fdca26\"],[1.0,\"#f0f921\"]]}],\"choropleth\":[{\"type\":\"choropleth\",\"colorbar\":{\"outlinewidth\":0,\"ticks\":\"\"}}],\"histogram2d\":[{\"type\":\"histogram2d\",\"colorbar\":{\"outlinewidth\":0,\"ticks\":\"\"},\"colorscale\":[[0.0,\"#0d0887\"],[0.1111111111111111,\"#46039f\"],[0.2222222222222222,\"#7201a8\"],[0.3333333333333333,\"#9c179e\"],[0.4444444444444444,\"#bd3786\"],[0.5555555555555556,\"#d8576b\"],[0.6666666666666666,\"#ed7953\"],[0.7777777777777778,\"#fb9f3a\"],[0.8888888888888888,\"#fdca26\"],[1.0,\"#f0f921\"]]}],\"heatmap\":[{\"type\":\"heatmap\",\"colorbar\":{\"outlinewidth\":0,\"ticks\":\"\"},\"colorscale\":[[0.0,\"#0d0887\"],[0.1111111111111111,\"#46039f\"],[0.2222222222222222,\"#7201a8\"],[0.3333333333333333,\"#9c179e\"],[0.4444444444444444,\"#bd3786\"],[0.5555555555555556,\"#d8576b\"],[0.6666666666666666,\"#ed7953\"],[0.7777777777777778,\"#fb9f3a\"],[0.8888888888888888,\"#fdca26\"],[1.0,\"#f0f921\"]]}],\"heatmapgl\":[{\"type\":\"heatmapgl\",\"colorbar\":{\"outlinewidth\":0,\"ticks\":\"\"},\"colorscale\":[[0.0,\"#0d0887\"],[0.1111111111111111,\"#46039f\"],[0.2222222222222222,\"#7201a8\"],[0.3333333333333333,\"#9c179e\"],[0.4444444444444444,\"#bd3786\"],[0.5555555555555556,\"#d8576b\"],[0.6666666666666666,\"#ed7953\"],[0.7777777777777778,\"#fb9f3a\"],[0.8888888888888888,\"#fdca26\"],[1.0,\"#f0f921\"]]}],\"contourcarpet\":[{\"type\":\"contourcarpet\",\"colorbar\":{\"outlinewidth\":0,\"ticks\":\"\"}}],\"contour\":[{\"type\":\"contour\",\"colorbar\":{\"outlinewidth\":0,\"ticks\":\"\"},\"colorscale\":[[0.0,\"#0d0887\"],[0.1111111111111111,\"#46039f\"],[0.2222222222222222,\"#7201a8\"],[0.3333333333333333,\"#9c179e\"],[0.4444444444444444,\"#bd3786\"],[0.5555555555555556,\"#d8576b\"],[0.6666666666666666,\"#ed7953\"],[0.7777777777777778,\"#fb9f3a\"],[0.8888888888888888,\"#fdca26\"],[1.0,\"#f0f921\"]]}],\"surface\":[{\"type\":\"surface\",\"colorbar\":{\"outlinewidth\":0,\"ticks\":\"\"},\"colorscale\":[[0.0,\"#0d0887\"],[0.1111111111111111,\"#46039f\"],[0.2222222222222222,\"#7201a8\"],[0.3333333333333333,\"#9c179e\"],[0.4444444444444444,\"#bd3786\"],[0.5555555555555556,\"#d8576b\"],[0.6666666666666666,\"#ed7953\"],[0.7777777777777778,\"#fb9f3a\"],[0.8888888888888888,\"#fdca26\"],[1.0,\"#f0f921\"]]}],\"mesh3d\":[{\"type\":\"mesh3d\",\"colorbar\":{\"outlinewidth\":0,\"ticks\":\"\"}}],\"scatter\":[{\"fillpattern\":{\"fillmode\":\"overlay\",\"size\":10,\"solidity\":0.2},\"type\":\"scatter\"}],\"parcoords\":[{\"type\":\"parcoords\",\"line\":{\"colorbar\":{\"outlinewidth\":0,\"ticks\":\"\"}}}],\"scatterpolargl\":[{\"type\":\"scatterpolargl\",\"marker\":{\"colorbar\":{\"outlinewidth\":0,\"ticks\":\"\"}}}],\"bar\":[{\"error_x\":{\"color\":\"#2a3f5f\"},\"error_y\":{\"color\":\"#2a3f5f\"},\"marker\":{\"line\":{\"color\":\"#E5ECF6\",\"width\":0.5},\"pattern\":{\"fillmode\":\"overlay\",\"size\":10,\"solidity\":0.2}},\"type\":\"bar\"}],\"scattergeo\":[{\"type\":\"scattergeo\",\"marker\":{\"colorbar\":{\"outlinewidth\":0,\"ticks\":\"\"}}}],\"scatterpolar\":[{\"type\":\"scatterpolar\",\"marker\":{\"colorbar\":{\"outlinewidth\":0,\"ticks\":\"\"}}}],\"histogram\":[{\"marker\":{\"pattern\":{\"fillmode\":\"overlay\",\"size\":10,\"solidity\":0.2}},\"type\":\"histogram\"}],\"scattergl\":[{\"type\":\"scattergl\",\"marker\":{\"colorbar\":{\"outlinewidth\":0,\"ticks\":\"\"}}}],\"scatter3d\":[{\"type\":\"scatter3d\",\"line\":{\"colorbar\":{\"outlinewidth\":0,\"ticks\":\"\"}},\"marker\":{\"colorbar\":{\"outlinewidth\":0,\"ticks\":\"\"}}}],\"scattermapbox\":[{\"type\":\"scattermapbox\",\"marker\":{\"colorbar\":{\"outlinewidth\":0,\"ticks\":\"\"}}}],\"scatterternary\":[{\"type\":\"scatterternary\",\"marker\":{\"colorbar\":{\"outlinewidth\":0,\"ticks\":\"\"}}}],\"scattercarpet\":[{\"type\":\"scattercarpet\",\"marker\":{\"colorbar\":{\"outlinewidth\":0,\"ticks\":\"\"}}}],\"carpet\":[{\"aaxis\":{\"endlinecolor\":\"#2a3f5f\",\"gridcolor\":\"white\",\"linecolor\":\"white\",\"minorgridcolor\":\"white\",\"startlinecolor\":\"#2a3f5f\"},\"baxis\":{\"endlinecolor\":\"#2a3f5f\",\"gridcolor\":\"white\",\"linecolor\":\"white\",\"minorgridcolor\":\"white\",\"startlinecolor\":\"#2a3f5f\"},\"type\":\"carpet\"}],\"table\":[{\"cells\":{\"fill\":{\"color\":\"#EBF0F8\"},\"line\":{\"color\":\"white\"}},\"header\":{\"fill\":{\"color\":\"#C8D4E3\"},\"line\":{\"color\":\"white\"}},\"type\":\"table\"}],\"barpolar\":[{\"marker\":{\"line\":{\"color\":\"#E5ECF6\",\"width\":0.5},\"pattern\":{\"fillmode\":\"overlay\",\"size\":10,\"solidity\":0.2}},\"type\":\"barpolar\"}],\"pie\":[{\"automargin\":true,\"type\":\"pie\"}]},\"layout\":{\"autotypenumbers\":\"strict\",\"colorway\":[\"#636efa\",\"#EF553B\",\"#00cc96\",\"#ab63fa\",\"#FFA15A\",\"#19d3f3\",\"#FF6692\",\"#B6E880\",\"#FF97FF\",\"#FECB52\"],\"font\":{\"color\":\"#2a3f5f\"},\"hovermode\":\"closest\",\"hoverlabel\":{\"align\":\"left\"},\"paper_bgcolor\":\"white\",\"plot_bgcolor\":\"#E5ECF6\",\"polar\":{\"bgcolor\":\"#E5ECF6\",\"angularaxis\":{\"gridcolor\":\"white\",\"linecolor\":\"white\",\"ticks\":\"\"},\"radialaxis\":{\"gridcolor\":\"white\",\"linecolor\":\"white\",\"ticks\":\"\"}},\"ternary\":{\"bgcolor\":\"#E5ECF6\",\"aaxis\":{\"gridcolor\":\"white\",\"linecolor\":\"white\",\"ticks\":\"\"},\"baxis\":{\"gridcolor\":\"white\",\"linecolor\":\"white\",\"ticks\":\"\"},\"caxis\":{\"gridcolor\":\"white\",\"linecolor\":\"white\",\"ticks\":\"\"}},\"coloraxis\":{\"colorbar\":{\"outlinewidth\":0,\"ticks\":\"\"}},\"colorscale\":{\"sequential\":[[0.0,\"#0d0887\"],[0.1111111111111111,\"#46039f\"],[0.2222222222222222,\"#7201a8\"],[0.3333333333333333,\"#9c179e\"],[0.4444444444444444,\"#bd3786\"],[0.5555555555555556,\"#d8576b\"],[0.6666666666666666,\"#ed7953\"],[0.7777777777777778,\"#fb9f3a\"],[0.8888888888888888,\"#fdca26\"],[1.0,\"#f0f921\"]],\"sequentialminus\":[[0.0,\"#0d0887\"],[0.1111111111111111,\"#46039f\"],[0.2222222222222222,\"#7201a8\"],[0.3333333333333333,\"#9c179e\"],[0.4444444444444444,\"#bd3786\"],[0.5555555555555556,\"#d8576b\"],[0.6666666666666666,\"#ed7953\"],[0.7777777777777778,\"#fb9f3a\"],[0.8888888888888888,\"#fdca26\"],[1.0,\"#f0f921\"]],\"diverging\":[[0,\"#8e0152\"],[0.1,\"#c51b7d\"],[0.2,\"#de77ae\"],[0.3,\"#f1b6da\"],[0.4,\"#fde0ef\"],[0.5,\"#f7f7f7\"],[0.6,\"#e6f5d0\"],[0.7,\"#b8e186\"],[0.8,\"#7fbc41\"],[0.9,\"#4d9221\"],[1,\"#276419\"]]},\"xaxis\":{\"gridcolor\":\"white\",\"linecolor\":\"white\",\"ticks\":\"\",\"title\":{\"standoff\":15},\"zerolinecolor\":\"white\",\"automargin\":true,\"zerolinewidth\":2},\"yaxis\":{\"gridcolor\":\"white\",\"linecolor\":\"white\",\"ticks\":\"\",\"title\":{\"standoff\":15},\"zerolinecolor\":\"white\",\"automargin\":true,\"zerolinewidth\":2},\"scene\":{\"xaxis\":{\"backgroundcolor\":\"#E5ECF6\",\"gridcolor\":\"white\",\"linecolor\":\"white\",\"showbackground\":true,\"ticks\":\"\",\"zerolinecolor\":\"white\",\"gridwidth\":2},\"yaxis\":{\"backgroundcolor\":\"#E5ECF6\",\"gridcolor\":\"white\",\"linecolor\":\"white\",\"showbackground\":true,\"ticks\":\"\",\"zerolinecolor\":\"white\",\"gridwidth\":2},\"zaxis\":{\"backgroundcolor\":\"#E5ECF6\",\"gridcolor\":\"white\",\"linecolor\":\"white\",\"showbackground\":true,\"ticks\":\"\",\"zerolinecolor\":\"white\",\"gridwidth\":2}},\"shapedefaults\":{\"line\":{\"color\":\"#2a3f5f\"}},\"annotationdefaults\":{\"arrowcolor\":\"#2a3f5f\",\"arrowhead\":0,\"arrowwidth\":1},\"geo\":{\"bgcolor\":\"white\",\"landcolor\":\"#E5ECF6\",\"subunitcolor\":\"white\",\"showland\":true,\"showlakes\":true,\"lakecolor\":\"white\"},\"title\":{\"x\":0.05},\"mapbox\":{\"style\":\"light\"}}},\"xaxis\":{\"rangeslider\":{\"visible\":true},\"title\":{\"text\":\"Ann\\u00e9e\"}},\"title\":{\"text\":\"Emissions par vecteur [MT CO2]\"},\"yaxis\":{\"title\":{\"text\":\"CO2 [MT]\"}}},                        {\"responsive\": true}                    ).then(function(){\n                            \nvar gd = document.getElementById('0e95aa49-97a9-412c-9bb6-b5a821a774d0');\nvar x = new MutationObserver(function (mutations, observer) {{\n        var display = window.getComputedStyle(gd).display;\n        if (!display || display === 'none') {{\n            console.log([gd, 'removed!']);\n            Plotly.purge(gd);\n            observer.disconnect();\n        }}\n}});\n\n// Listen for the removal of the full notebook cells\nvar notebookContainer = gd.closest('#notebook-container');\nif (notebookContainer) {{\n    x.observe(notebookContainer, {childList: true});\n}}\n\n// Listen for the clearing of the current output cell\nvar outputEl = gd.closest('.output');\nif (outputEl) {{\n    x.observe(outputEl, {childList: true});\n}}\n\n                        })                };                });            </script>        </div>"
     },
     "metadata": {},
     "output_type": "display_data"
    }
   ],
   "source": [
    "y_df = sim_stock_df.groupby([\"year\"])[[ 'emissions_'+Vecteur for Vecteur in sim_param[\"Vecteurs\"]]].sum().loc[[year for year in sim_param[\"years\"][1:]],:]\n",
    "fig = MyStackedPlotly(y_df=y_df)\n",
    "fig=fig.update_layout(title_text=\"Emissions par vecteur [MT CO2]\", xaxis_title=\"Année\",yaxis_title=\"CO2 [MT]\")\n",
    "#plotly.offline.plot(fig, filename=Graphic_folder+'file.html') ## offline\n",
    "fig.show()"
   ]
  },
  {
   "cell_type": "markdown",
   "source": [
    "## 5. Bibliographie <a class=\"biblio\" id=\"initialstate\"></a>\n",
    "\n",
    "- [Guide très complet du gouvernement](https://www.ecologie.gouv.fr/sites/default/files/Info%20GES_Guide%20m%C3%A9thodo.pdf) donne les consommations et les émissions pour toutes les sortes de transports et les analyses qui permettent d'obtenir ces valeurs.\n",
    "\n",
    "- [Les chiffres clés du transport](https://www.statistiques.developpement-durable.gouv.fr/edition-numerique/chiffres-cles-transports-2022/) du SDES\n",
    "\n",
    "- [Données et études statistiques du SDES sur le transport](https://www.statistiques.developpement-durable.gouv.fr/transports)\n",
    "\n",
    "- [Etude Prospective de France stratégie](https://www.strategie.gouv.fr/sites/strategie.gouv.fr/files/atoms/files/prospective_2040-2060_des_transports_et_des_mobilites_-_rapport_de_synthese_-_fevrier_2022.pdf) février 2022\n",
    "\n",
    "- [Etude prospective de l'ADEME](https://librairie.ademe.fr/cadic/6531/transitions2050-rapport-compresse.pdf?modal=false) \"transition 2050\" le transport est p172\n",
    "\n",
    "- [Article sur le transport maritime mondial](https://www.polytechnique-insights.com/dossiers/energie/les-innovations-bas-carbone-du-fret-maritime/comment-reduire-lempreinte-carbone-du-fret-maritime/#note-4)\n",
    "\n",
    "- [Rapport parlementaire de 2021](http://www.senat.fr/rap/r20-604/r20-604_mono.html) Transport de marchandises face aux impératifs environnementaux\n",
    "\n",
    "- [Un document du lobby de l'avition](https://protectiondelaerien.fr/info-ou-infox-lavion-est-il-un-moyen-de-transport-efficace/) pas inintéressant. Le problème n'est pas l'inefficacité de l'avion mais la démesure du besoin de distance/vitesse.\n"
   ],
   "metadata": {
    "collapsed": false,
    "pycharm": {
     "name": "#%% md\n"
    }
   }
  }
 ],
 "metadata": {
  "kernelspec": {
   "display_name": "energyalternatives",
   "language": "python",
   "name": "energyalternatives"
  },
  "language_info": {
   "codemirror_mode": {
    "name": "ipython",
    "version": 3
   },
   "file_extension": ".py",
   "mimetype": "text/x-python",
   "name": "python",
   "nbconvert_exporter": "python",
   "pygments_lexer": "ipython3",
   "version": "3.10.2"
  }
 },
 "nbformat": 4,
 "nbformat_minor": 1
}