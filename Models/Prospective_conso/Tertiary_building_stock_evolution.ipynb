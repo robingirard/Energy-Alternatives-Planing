{
 "cells": [
  {
   "cell_type": "code",
   "metadata": {
    "collapsed": true,
    "pycharm": {
     "name": "#%%\n"
    }
   },
   "source": [
    "# Tertiary building stock evolution\n",
    "\n",
    "## *Defining an initial configuration and energy retrofit pathways*\n",
    "\n",
    "### Table of Contents\n",
    "\n",
    "* [1. Introduction](#intro)\n",
    "* [2. Input data structure](#inputdata)\n",
    "* [3. Simulation of retrofit pathways](#simulation)\n",
    "* [4. Representation of the results](#representation)\n",
    "\n",
    "\n",
    "## 1. Introduction <a class=\"anchor\" id=\"intro\"></a>\n",
    "\n",
    "This document will help you understand the modeling we developed to represent a building stock (tertiary in this case) and energy retrofit pathways which can be applied to modify this initial state.\n",
    "\n",
    "## 2. Input data structure <a class=\"anchor\" id=\"inputdata\"></a>\n",
    "\n",
    "All the data input are stored in the excel file data/Hypotheses_tertiaire_1D.xlsx. There are different excel sheets in the document, each of which represents input data indexed on different variables.\n",
    "\n",
    "### 2.1. Global 0-Dim inputs\n",
    "In this first sheet, global 0D values are defined:\n",
    "- Initial state of the building stock: the heat need of existing buildings and the share of need due to space heating\n",
    "- Parameters of newly built buildings: the heat need of new buildings and the area of newly build buildings per year\n",
    "- Horizon parameters such as the start and end date of the simulation and the final retrofited share\n",
    "\n",
    "### 2.2. Inputs indexed by Energy-source\n",
    "Some values are indexed by the energy source, such as:\n",
    "- The initial surface heated by each energy source\n",
    "- The energy repartition by fuel, including efficiency and energy share along the year (for hybrid systems)\n",
    "\n",
    "\n",
    "### 2.3. Input indexed by year\n",
    "\n",
    "### 2.4. Inputs indexed by Energy-source x\n",
    "\n",
    "### 2.5. Retrofit transition matrix\n",
    "\n",
    "\n",
    "## 3. Simulation of retrofit pathways <a class=\"anchor\" id=\"simulation\"></a>\n",
    "\n",
    "## 3. Representation of the results <a class=\"anchor\" id=\"representation\"></a>"
   ],
   "execution_count": null,
   "outputs": []
  }
 ],
 "metadata": {
  "kernelspec": {
   "display_name": "Python 3",
   "language": "python",
   "name": "python3"
  },
  "language_info": {
   "codemirror_mode": {
    "name": "ipython",
    "version": 2
   },
   "file_extension": ".py",
   "mimetype": "text/x-python",
   "name": "python",
   "nbconvert_exporter": "python",
   "pygments_lexer": "ipython2",
   "version": "2.7.6"
  }
 },
 "nbformat": 4,
 "nbformat_minor": 0
}