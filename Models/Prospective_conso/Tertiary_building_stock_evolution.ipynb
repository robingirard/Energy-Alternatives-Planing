{
 "cells": [
  {
   "cell_type": "code",
   "execution_count": 5,
   "outputs": [
    {
     "name": "stdout",
     "output_type": "stream",
     "text": [
      "C:\\Users\\kv6345\\OneDrive - ENGIE\\Documents\\5-Python\\Energy-Alternatives-Planing\\Models\n"
     ]
    }
   ],
   "source": [
    "#region Chargement des packages\n",
    "#from IPython import get_ipython;\n",
    "#get_ipython().magic('reset -sf')\n",
    "import pandas as pd\n",
    "from functions.f_tools import *\n",
    "from functions.f_graphicalTools import *\n",
    "from Models.Prospective_conso.f_evolution_tools import *\n",
    "from mycolorpy import colorlist as mcp\n",
    "import numpy as np\n",
    "import time\n",
    "dpe_colors = ['#009900', '#33cc33', '#B3FF00', '#e6e600', '#FFB300', '#FF4D00', '#FF0000',\"#000000\"]\n",
    "\n",
    "import os\n",
    "if os.path.basename(os.getcwd())==\"Prospective_conso\":\n",
    "    os.chdir('..') ## to work at project root  like in any IDE\n",
    "# print(os.getcwd())\n",
    "Graphic_folder = \"Prospective_conso/Graphics/\"\n",
    "Data_folder = \"Prospective_conso/data/\"\n",
    "pd.options.display.width = 0\n",
    "pd.set_option('display.max_rows', 500)\n",
    "pd.set_option('display.max_columns', 500)\n",
    "pd.set_option('display.width', 1000)\n",
    "#endregion"
   ],
   "metadata": {
    "collapsed": false,
    "pycharm": {
     "name": "#%%\n"
    }
   }
  },
  {
   "cell_type": "markdown",
   "metadata": {
    "collapsed": true,
    "pycharm": {
     "name": "#%% md\n"
    }
   },
   "source": [
    "# Tertiary building stock evolution\n",
    "\n",
    "## *Defining an initial configuration and energy retrofit pathways*\n",
    "\n",
    "### Table of Contents\n",
    "\n",
    "* [1. Introduction](#intro)\n",
    "* [2. Simulation of retrofit pathways](#simulation)\n",
    "* [3. Representation of the results](#representation)\n",
    "* [4. Input data structure](#inputdata)\n",
    "\n",
    "\n",
    "## 1. Introduction <a class=\"anchor\" id=\"intro\"></a>\n",
    "\n",
    "This document will help you understand the modeling we developed to represent a building stock (tertiary in this case) and energy retrofit pathways which can be applied to modify this initial state.\n",
    "\n",
    "\n",
    "## 2. Simulation of retrofit pathways <a class=\"anchor\" id=\"simulation\"></a>\n",
    "First and foremost, we load the input data, stored in an excel file. More detail on the input structure and content can be found in [Section 4](#inputdata). These input data are extracted from the different sheets and stored in sim_param dictionnary."
   ]
  },
  {
   "cell_type": "code",
   "source": [
    "data_set_from_excel =  pd.read_excel(Data_folder+\"Hypotheses_tertiary_BASIC.xlsx\", None);\n",
    "sim_param = extract_sim_param(data_set_from_excel,Index_names = [\"Energy_source\"],\n",
    "                              dim_names=[\"Energy_source\",\"year\"])\n",
    "sim_param[\"init_sim_stock\"]=create_initial_parc(sim_param).sort_index()"
   ],
   "metadata": {
    "collapsed": false,
    "pycharm": {
     "name": "#%%\n"
    }
   },
   "execution_count": 7,
   "outputs": []
  },
  {
   "cell_type": "markdown",
   "source": [
    "For parameters indexed along year, an interpolation is performed if some data is missing (e.g. retrofit_improvement - representing the mean retrofit impact on the heating demand - starting at 15% in 2020 and reaching 30% in 2050)."
   ],
   "metadata": {
    "collapsed": false,
    "pycharm": {
     "name": "#%% md\n"
    }
   }
  },
  {
   "cell_type": "code",
   "execution_count": 8,
   "outputs": [
    {
     "name": "stderr",
     "output_type": "stream",
     "text": [
      "C:\\Users\\kv6345\\OneDrive - ENGIE\\Documents\\5-Python\\Energy-Alternatives-Planing\\Models\\Prospective_conso\\f_evolution_tools.py:137: FutureWarning: The frame.append method is deprecated and will be removed from pandas in a future version. Use pandas.concat instead.\n",
      "  df=df.append(to_append_df)\n",
      "C:\\Users\\kv6345\\OneDrive - ENGIE\\Documents\\5-Python\\Energy-Alternatives-Planing\\Models\\Prospective_conso\\f_evolution_tools.py:137: FutureWarning: The frame.append method is deprecated and will be removed from pandas in a future version. Use pandas.concat instead.\n",
      "  df=df.append(to_append_df)\n",
      "C:\\Users\\kv6345\\OneDrive - ENGIE\\Documents\\5-Python\\Energy-Alternatives-Planing\\Models\\Prospective_conso\\f_evolution_tools.py:137: FutureWarning: The frame.append method is deprecated and will be removed from pandas in a future version. Use pandas.concat instead.\n",
      "  df=df.append(to_append_df)\n",
      "C:\\Users\\kv6345\\OneDrive - ENGIE\\Documents\\5-Python\\Energy-Alternatives-Planing\\Models\\Prospective_conso\\f_evolution_tools.py:137: FutureWarning: The frame.append method is deprecated and will be removed from pandas in a future version. Use pandas.concat instead.\n",
      "  df=df.append(to_append_df)\n",
      "C:\\Users\\kv6345\\OneDrive - ENGIE\\Documents\\5-Python\\Energy-Alternatives-Planing\\Models\\Prospective_conso\\f_evolution_tools.py:137: FutureWarning: The frame.append method is deprecated and will be removed from pandas in a future version. Use pandas.concat instead.\n",
      "  df=df.append(to_append_df)\n",
      "C:\\Users\\kv6345\\OneDrive - ENGIE\\Documents\\5-Python\\Energy-Alternatives-Planing\\Models\\Prospective_conso\\f_evolution_tools.py:137: FutureWarning: The frame.append method is deprecated and will be removed from pandas in a future version. Use pandas.concat instead.\n",
      "  df=df.append(to_append_df)\n",
      "C:\\Users\\kv6345\\OneDrive - ENGIE\\Documents\\5-Python\\Energy-Alternatives-Planing\\Models\\Prospective_conso\\f_evolution_tools.py:137: FutureWarning: The frame.append method is deprecated and will be removed from pandas in a future version. Use pandas.concat instead.\n",
      "  df=df.append(to_append_df)\n",
      "C:\\Users\\kv6345\\OneDrive - ENGIE\\Documents\\5-Python\\Energy-Alternatives-Planing\\Models\\Prospective_conso\\f_evolution_tools.py:137: FutureWarning: The frame.append method is deprecated and will be removed from pandas in a future version. Use pandas.concat instead.\n",
      "  df=df.append(to_append_df)\n",
      "C:\\Users\\kv6345\\OneDrive - ENGIE\\Documents\\5-Python\\Energy-Alternatives-Planing\\Models\\Prospective_conso\\f_evolution_tools.py:137: FutureWarning: The frame.append method is deprecated and will be removed from pandas in a future version. Use pandas.concat instead.\n",
      "  df=df.append(to_append_df)\n"
     ]
    }
   ],
   "source": [
    "Pameter_to_fill_along_index_year = {param : sim_param[\"base_index_year\"] for param in [\"retrofit_improvement\",\"retrofit_change_surface\",\"retrofit_Transition\", \"new_energy\",\"new_yearly_repartition_per_Energy_source\"]}\n",
    "sim_param   =   complete_parameters(sim_param,Para_2_fill=Pameter_to_fill_along_index_year)"
   ],
   "metadata": {
    "collapsed": false,
    "pycharm": {
     "name": "#%%\n"
    }
   }
  },
  {
   "cell_type": "markdown",
   "source": [
    "\n",
    "## 3. Representation of the results <a class=\"anchor\" id=\"representation\"></a>\n"
   ],
   "metadata": {
    "collapsed": false
   }
  },
  {
   "cell_type": "code",
   "execution_count": null,
   "outputs": [],
   "source": [
    "fdf"
   ],
   "metadata": {
    "collapsed": false,
    "pycharm": {
     "name": "#%%\n"
    }
   }
  },
  {
   "cell_type": "markdown",
   "source": [
    "## 4. Input data structure <a class=\"anchor\" id=\"inputdata\"></a>\n",
    "\n",
    "All the data input are stored in the excel file data/Hypotheses_tertiaire_1D.xlsx. There are different excel sheets in the document, each of which represents input data indexed on different variables.\n",
    "\n",
    "### 4.1. Global 0-Dim inputs\n",
    "In this first sheet, global 0D values are defined:\n",
    "- Initial state of the building stock: the heat need of existing buildings and the share of need due to space heating\n",
    "- Parameters of newly built buildings: the heat need of new buildings and the area of newly build buildings per year\n",
    "- Horizon parameters such as the start and end date of the simulation and the final retrofited share\n",
    "\n",
    "### 4.2. Inputs indexed by Energy-source\n",
    "Some values are indexed by the energy source, such as:\n",
    "- The initial surface heated by each energy source\n",
    "- The energy repartition by fuel, including efficiency and energy share along the year (for hybrid systems)\n",
    "- The surface to be retrofitted by energy source. These surfaces are estimated to guarantee that 100% of buildings are retrofitted by 2050.\n",
    "\n",
    "\n",
    "### 4.3. Input indexed by year\n",
    "\n",
    "### 4.4. Inputs indexed by Energy-source x\n",
    "\n",
    "### 4.5. Retrofit transition matrix\n",
    "\n"
   ],
   "metadata": {
    "collapsed": false,
    "pycharm": {
     "name": "#%% md\n"
    }
   }
  }
 ],
 "metadata": {
  "kernelspec": {
   "name": "energyalternatives",
   "language": "python",
   "display_name": "energyalternatives"
  },
  "language_info": {
   "codemirror_mode": {
    "name": "ipython",
    "version": 2
   },
   "file_extension": ".py",
   "mimetype": "text/x-python",
   "name": "python",
   "nbconvert_exporter": "python",
   "pygments_lexer": "ipython2",
   "version": "2.7.6"
  }
 },
 "nbformat": 4,
 "nbformat_minor": 0
}