{
 "cells": [
  {
   "cell_type": "code",
   "execution_count": null,
   "outputs": [],
   "source": [
    "#region Chargement des packages\n",
    "#from IPython import get_ipython;\n",
    "#get_ipython().magic('reset -sf')\n",
    "import os\n",
    "import sys\n",
    "if os.path.basename(os.getcwd())=='Prospective_conso':\n",
    "    sys.path.append('../../')\n",
    "from functions.f_notebook import hide_toggle\n",
    "\n",
    "import warnings\n",
    "warnings.simplefilter(action='ignore', category=FutureWarning)\n",
    "import pandas as pd\n",
    "pd.options.mode.chained_assignment = None  # default='warn'\n",
    "from functions.f_tools import *\n",
    "from functions.f_graphicalTools import *\n",
    "from Models.Prospective_conso.f_evolution_tools import *\n",
    "from mycolorpy import colorlist as mcp\n",
    "import qgrid # great package https://github.com/quantopian/qgrid\n",
    "import numpy as np\n",
    "import time\n",
    "from plotnine import *\n",
    "from functools import reduce\n",
    "dpe_colors = ['#009900', '#33cc33', '#B3FF00', '#e6e600', '#FFB300', '#FF4D00', '#FF0000',\"#000000\"]\n",
    "\n",
    "# print(os.getcwd())\n",
    "Graphic_folder = \"Graphics/\"\n",
    "Data_folder = \"data/\"\n",
    "# endregion"
   ],
   "metadata": {
    "collapsed": false,
    "pycharm": {
     "name": "#%%\n"
    }
   }
  },
  {
   "cell_type": "markdown",
   "source": [
    "# Tertiary building stock evolution\n",
    "\n",
    "## *Defining an initial configuration and energy retrofit pathways*\n",
    "\n",
    "### Table of Contents\n",
    "\n",
    "* [1. Introduction](#intro)\n",
    "* [2. Initial state of the building stock](#initialstate)\n",
    "* [3. Decarbonization of building stock heating](#decarbonization)\n",
    "    * [3.1 An example path towards emission reduction ](#firstpath)\n",
    "    * [3.2 Achieving SNBC objectives through electrification](#electrification)\n",
    "    * [3.3 Technical constraints and alternative paths](#alternatives)\n",
    "* [4. Input data structure](#inputdata)\n",
    "\n",
    "\n",
    "## 1. Introduction <a class=\"anchor\" id=\"intro\"></a>\n",
    "\n",
    "This notebook will guide you through the undersanding of the heating demand in french residential and tertiary sectors. First of all, a basic representation of the building stock is used to characterise the initial state of the buildings and heating systems. Then, different modification can be applied to this initial situation in order to draw paths towards 2050, with the aim of reducing carbon emissions.not\n",
    "\n",
    "This guided work shall permit you to draw yourself some paths towards a cleaner future for building heating sector, considering technical and temporal constraints.\n",
    "\n",
    "The scope of this work is Metropolitan France and all the data used in this work are extracted from french governemental institutions, such as ADEME, SDES, INSEE...\n",
    "\n",
    "## 2. Initial state of the building stock <a class=\"anchor\" id=\"initialstate\"></a>\n",
    "\n",
    "First and foremost, we load the input data, stored in an excel file. More detail on the input structure and content can be found in [Section 4](#inputdata). These input data are extracted from the different sheets and stored in sim_param dictionnary."
   ],
   "metadata": {
    "collapsed": false,
    "pycharm": {
     "name": "#%% md\n"
    }
   }
  },
  {
   "cell_type": "code",
   "execution_count": null,
   "outputs": [],
   "source": [
    "#Four dimensions in the dataset\n",
    "dim_names = [\"Energy_source\", \"building_type\", \"Vecteur\", \"year\"];\n",
    "#Two main indexes\n",
    "Index_names = [\"Energy_source\", \"building_type\"];\n",
    "Energy_system_name = \"Energy_source\"\n",
    "#Reading the data\n",
    "data_set_from_excel = pd.read_excel(Data_folder + \"Hypotheses_residential_tertiary_BASIC.xlsx\", None);\n",
    "#Extracting info from sheets and creating indexes etc\n",
    "sim_param = extract_sim_param(data_set_from_excel, Index_names=Index_names, dim_names=dim_names,\n",
    "                              Energy_system_name=Energy_system_name)\n",
    "#Creating the initial building description\n",
    "sim_param[\"init_sim_stock\"] = create_initial_parc(sim_param).sort_index()\n",
    "sim_param[\"volume_variable_name\"] = \"surface\"\n",
    "sim_param[\"init_sim_stock\"][\"surface\"] = sim_param[\"init_sim_stock\"][\"surface\"] * sim_param[\"init_sim_stock\"][\"IPONDL\"]\n",
    "\n",
    "# We adjust energy need for electricity considering the primary energy factor\n",
    "sim_param[\"init_sim_stock\"][\"conso_unitaire_elec\"]=sim_param[\"init_sim_stock\"][\"conso_unitaire_elec\"]/2.3\n",
    "sim_param_copy4plot=sim_param.copy()\n"
   ]
  },
  {
   "cell_type": "markdown",
   "source": [
    "The initial state of French building stock can be summarized and vizualized ploting a few graphs. Fot this, we gather all the info in a single dataframe (emission factors, efficiencies, etc.)."
   ],
   "metadata": {
    "collapsed": false,
    "pycharm": {
     "name": "#%% md\n"
    }
   }
  },
  {
   "cell_type": "code",
   "execution_count": 150,
   "metadata": {
    "pycharm": {
     "name": "#%%\n"
    }
   },
   "outputs": [
    {
     "name": "stdout",
     "output_type": "stream",
     "text": [
      "Conso totale :384.0 TWh et conso d'élec :52.0 TWh\n",
      "Besoin énergétique bâtiments :117.0 kWh/m²\n"
     ]
    },
    {
     "data": {
      "image/png": "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\n",
      "text/plain": [
       "<Figure size 640x480 with 1 Axes>"
      ]
     },
     "metadata": {},
     "output_type": "display_data"
    }
   ],
   "source": [
    "# region plot data shaping\n",
    "init_stock=sim_param_copy4plot[\"init_sim_stock\"].copy()\n",
    "\n",
    "\n",
    "init_stock=init_stock.drop(['IPONDL'],axis=1)\n",
    "init_stock=pd.melt(init_stock,id_vars=['proportion_energy_need','energy_need_per_surface','surface'],value_name='conso_unitaire',ignore_index=False)\n",
    "init_stock[['v1','v2','Vecteur']]=init_stock['variable'].str.split('_',expand=True)\n",
    "init_stock=init_stock.drop(['v1','v2','variable'],axis=1)\n",
    "init_stock=init_stock.reset_index()\n",
    "init_stock=init_stock[init_stock['conso_unitaire'] > 0]\n",
    "\n",
    "init_stock=init_stock.set_index([\"Energy_source\", \"building_type\", \"Vecteur\"])\n",
    "\n",
    "data_frames=[init_stock,sim_param_copy4plot['seasonal_efficiency'],sim_param_copy4plot['peak_efficiency'],sim_param_copy4plot['direct_emissions'],sim_param_copy4plot['indirect_emissions']]\n",
    "\n",
    "init_stock = reduce(lambda  left,right: pd.merge(left,right,\n",
    "                                            left_index=True,right_index=True), data_frames)\n",
    "\n",
    "init_stock=init_stock.reset_index().set_index([\"Energy_source\", \"building_type\", \"Vecteur\"])\n",
    "init_stock['Besoin']=init_stock['proportion_energy_need']*init_stock['energy_need_per_surface']*init_stock['surface']*init_stock['conso_unitaire']/10**9\n",
    "init_stock['Consumption']=init_stock['Besoin']/init_stock['seasonal_efficiency']\n",
    "init_stock['Emissions']=init_stock['Consumption']*(init_stock['indirect_emissions']+init_stock['direct_emissions'])/10**3\n",
    "\n",
    "initial_need=init_stock['Besoin'].sum()\n",
    "initial_emissions=init_stock['Emissions'].sum()\n",
    "initial_consumption=init_stock['Consumption'].sum()\n",
    "initial_need_surface=initial_need*10**9/(init_stock['surface']*init_stock['conso_unitaire']).sum()\n",
    "# endregion\n",
    "print(\"Conso totale :\"+str(round(initial_consumption,0))+ \" TWh et conso d'élec :\"+\n",
    "      str(round(init_stock.loc[(slice(None),slice(None),\"elec\"),\"Consumption\"].sum(),0))+\" TWh\")\n",
    "print(\"Besoin énergétique bâtiments :\"+str(round(initial_need_surface,0))+ \" kWh/m²\")\n",
    "\n",
    "## Drawing the energy consumption by energy vector\n",
    "forplot=init_stock.groupby(['building_type','Vecteur']).agg('sum').reset_index()\n",
    "fig=(\n",
    "    ggplot(forplot)+\n",
    "    geom_col(aes(x='building_type',y=\"Consumption\",fill='Vecteur'))+\n",
    "    ylab(\"Consommation (TWh)\")+\n",
    "    xlab('')\n",
    ")\n",
    "p = fig.draw()"
   ]
  },
  {
   "cell_type": "code",
   "execution_count": 151,
   "metadata": {},
   "outputs": [
    {
     "data": {
      "text/plain": [
       "359.335741542894"
      ]
     },
     "execution_count": 151,
     "metadata": {},
     "output_type": "execute_result"
    }
   ],
   "source": [
    "initial_need"
   ]
  },
  {
   "cell_type": "code",
   "execution_count": 152,
   "metadata": {
    "collapsed": false,
    "pycharm": {
     "name": "#%%\n"
    }
   },
   "outputs": [
    {
     "data": {
      "image/png": "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\n",
      "text/plain": [
       "<Figure size 640x480 with 1 Axes>"
      ]
     },
     "metadata": {},
     "output_type": "display_data"
    }
   ],
   "source": [
    "## Drawing the CO2 emissions by energy vector\n",
    "fig=(\n",
    "    ggplot(forplot)+\n",
    "    geom_col(aes(x='building_type',y=\"Emissions\",fill='Vecteur'))+\n",
    "    ylab(\"Emissions (MtCO2)\")+\n",
    "    xlab('')\n",
    ")\n",
    "p = fig.draw()"
   ]
  },
  {
   "cell_type": "code",
   "execution_count": 153,
   "metadata": {
    "collapsed": false,
    "pycharm": {
     "name": "#%%\n"
    }
   }
  },
  {
   "cell_type": "code",
   "execution_count": null,
   "outputs": [],
   "source": [
    "## Drawing the energy surface by energy source\n",
    "forplot2=init_stock.groupby(['Energy_source','building_type'])[\"surface\"].agg('mean').reset_index().filter(['Energy_source','building_type','surface','Consumption','Emissions'])\n",
    "forplot2[\"surface\"]=forplot2[\"surface\"]/10**6\n",
    "\n",
    "fig=(\n",
    "    ggplot(forplot2)+\n",
    "    geom_col(aes(x='building_type',y=\"surface\",fill='Energy_source'))+\n",
    "    ylab(\"Surface (Mm²)\")+\n",
    "    xlab('')\n",
    ")\n",
    "p = fig.draw()"
   ],
   "metadata": {
    "collapsed": false,
    "pycharm": {
     "name": "#%%\n"
    }
   }
  },
  {
   "cell_type": "markdown",
   "source": [
    "We can see that GHG emissions mainly come from gas an fuel, as electricity and wood have a low emission factor. Replacing the heating systems burning such fuels is thus the priority. Also, heating network are mainly used in apartments and teritary buildings.\n"
   ]
  },
  {
   "cell_type": "markdown",
   "source": [
    "## 3. Decarbonization of building stock heating <a class=\"anchor\" id=\"decarbonization\"></a>\n",
    "For drawing the scenarios towards 2050, some pre-processing is needed to interpolathe the evolution of some parameters indexed along year."
   ],
   "metadata": {
    "collapsed": false,
    "pycharm": {
     "name": "#%% md\n"
    }
   },
   "source": [
    "## 3. Decarbonization of building stock heating <a class=\"anchor\" id=\"decarbonization\"></a>\n",
    "We define some functions which will permit to estimate all the indicators, year by year. The three indicators we monitor are energy consumption, GHG emissions and electricity peak The heating need and final consumption are then calculated for each energy_source."
   ]
  },
  {
   "cell_type": "code",
   "execution_count": 162,
   "metadata": {
    "pycharm": {
     "name": "#%%\n"
    }
   },
   "outputs": [],
   "source": [
    "def f_Compute_conso(x,sim_param,Vecteur):\n",
    "    conso_unitaire = x[\"conso_unitaire_\"+Vecteur]\n",
    "    Energy_source = x.name[sim_param['base_index'].names.index('Energy_source')]\n",
    "    seasonal_efficiency=sim_param[\"seasonal_efficiency\"][(Energy_source,Vecteur)]\n",
    "    conso_unitaire=conso_unitaire/seasonal_efficiency\n",
    "    return x[\"energy_need_per_\"+sim_param[\"volume_variable_name\"]] * x[sim_param[\"volume_variable_name\"]]*x[\"proportion_energy_need\"]*conso_unitaire\n",
    "def f_Compute_conso_totale(x,sim_param):\n",
    "    res=0.\n",
    "    for Vecteur in sim_param[\"Vecteurs\"]:\n",
    "        res+=x[\"conso_\"+Vecteur]\n",
    "    return res\n",
    "\n",
    "def f_Compute_besoin(x,sim_param,Vecteur):\n",
    "    conso_unitaire = x[\"conso_unitaire_\"+Vecteur]\n",
    "    return x[\"energy_need_per_surface\"] * x[\"surface\"]*x[\"proportion_energy_need\"]*conso_unitaire\n",
    "\n",
    "def f_Compute_besoin_total(x,sim_param):\n",
    "    res=0.\n",
    "    for Vecteur in sim_param[\"Vecteurs\"]:\n",
    "        res+=x[\"Besoin_\"+Vecteur]\n",
    "    return res\n",
    "\n",
    "def f_compute_emissions(x, sim_param, year, Vecteur):\n",
    "    return sim_param[\"direct_emissions\"].loc[Vecteur, year] * x[\"conso_\" + Vecteur] + \\\n",
    "           sim_param[\"indirect_emissions\"].loc[Vecteur, year] * x[\"conso_\" + Vecteur]\n",
    "\n",
    "def f_Compute_emissions_totale(x, sim_param):\n",
    "    res = 0.\n",
    "    for Vecteur in sim_param[\"Vecteurs\"]:\n",
    "        res += x[\"emissions_\" + Vecteur]\n",
    "    return res\n",
    "\n",
    "def f_Compute_electrical_peak(x, sim_param):\n",
    "    Energy_source = x.name[sim_param['base_index'].names.index('Energy_source')]\n",
    "    return x[\"conso_elec\"] * 1.5 / 35  / sim_param[\"peak_efficiency\"][(Energy_source,\"elec\")]*sim_param[\"share_peak\"][(Energy_source,\"elec\")]"
   ]
  },
  {
   "cell_type": "markdown",
   "metadata": {},
   "source": [
    "For drawing the scenarios towards 2050, some pre-processing is needed to interpolahe the evolution of some parameters indexed along year."
   ]
  },
  {
   "cell_type": "code",
   "execution_count": 163,
   "metadata": {
    "pycharm": {
     "name": "#%%\n"
    }
   },
   "outputs": [],
   "source": [
    "def update_inputs(data_set_from_excel,sim_param,Index_names,dim_names):\n",
    "    sim_param = interpolate_sim_param(sim_param)\n",
    "    sim_param[\"retrofit_change_surface\"]=sim_param[\"retrofit_change_total_proportion_surface\"].diff().fillna(0)\n",
    "\n",
    "    Para_2_fill = {param: sim_param[\"base_index_year\"] for param in\n",
    "                       [\"retrofit_improvement\", \"retrofit_change_surface\", \"retrofit_Transition\"]}\n",
    "    sim_param = complete_parameters(sim_param, Para_2_fill=Para_2_fill)\n",
    "    sim_param[\"retrofit_change_surface\"]=sim_param[\"retrofit_change_surface\"]*sim_param[\"init_sim_stock\"][\"surface\"]\n",
    "\n",
    "    sim_param = complete_missing_indexes(data_set_from_excel, sim_param, Index_names, dim_names)\n",
    "    \n",
    "    for Vecteur in sim_param[\"Vecteurs\"]:\n",
    "        sim_param[\"f_Compute_conso_\"+Vecteur]={\"conso_\"+Vecteur : partial(f_Compute_conso,Vecteur =Vecteur)}\n",
    "    sim_param[\"f_Compute_conso_totale\"]={\"Conso\" : lambda x,sim_param: f_Compute_conso_totale(x,sim_param)}\n",
    "\n",
    "    for Vecteur in sim_param[\"Vecteurs\"]:\n",
    "        sim_param[\"f_Compute_besoin_\"+Vecteur]={\"Besoin_\"+Vecteur : partial(f_Compute_besoin,Vecteur =Vecteur)}\n",
    "    sim_param[\"f_Compute_besoin_total\"]={\"Besoin\" : lambda x,sim_param: f_Compute_besoin_total(x,sim_param)}\n",
    "    \n",
    "    for Vecteur in sim_param[\"Vecteurs\"]:\n",
    "        sim_param[\"f_Compute_emissions_\"+Vecteur]={\"emissions_\"+Vecteur : partial(f_compute_emissions,Vecteur =Vecteur)}\n",
    "    sim_param[\"f_Compute_emissions_totale\"]={\"emissions\" : lambda x,sim_param: f_Compute_emissions_totale(x,sim_param)}\n",
    "\n",
    "    sim_param[\"f_Compute_electrical_peak_totale\"] = {\n",
    "        \"electrical_peak\": lambda x, sim_param: f_Compute_electrical_peak(x, sim_param)}\n",
    " \n",
    "    return sim_param\n",
    "\n",
    "sim_param=update_inputs(data_set_from_excel,sim_param,Index_names,dim_names)"
   ]
  },
  {
   "cell_type": "markdown",
   "metadata": {
    "collapsed": false,
    "pycharm": {
     "name": "#%%\n"
    }
   }
  },
  {
   "cell_type": "markdown",
   "source": [
    "The retrofit scenario is defined by two elements:\n",
    "1. The retrofit transition matrix: defines the switch from one heating system to another\n",
    "2. The thermal retrofit savings: defines in what extent the energy need is reduced when buildings are retrofitted"
   ]
  },
  {
   "cell_type": "code",
   "execution_count": 164,
   "metadata": {
    "collapsed": false,
    "pycharm": {
     "name": "#%%\n"
    }
   },
   "outputs": [
    {
     "data": {
      "text/html": [
       "<div>\n",
       "<style scoped>\n",
       "    .dataframe tbody tr th:only-of-type {\n",
       "        vertical-align: middle;\n",
       "    }\n",
       "\n",
       "    .dataframe tbody tr th {\n",
       "        vertical-align: top;\n",
       "    }\n",
       "\n",
       "    .dataframe thead th {\n",
       "        text-align: right;\n",
       "    }\n",
       "</style>\n",
       "<table border=\"1\" class=\"dataframe\">\n",
       "  <thead>\n",
       "    <tr style=\"text-align: right;\">\n",
       "      <th>Energy_source</th>\n",
       "      <th>Biomasse</th>\n",
       "      <th>Chaudière fioul</th>\n",
       "      <th>Chaudière gaz</th>\n",
       "      <th>Chauffage urbain</th>\n",
       "      <th>Chauffage électrique</th>\n",
       "      <th>Pompes à chaleur air-air</th>\n",
       "      <th>Pompes à chaleur air-eau</th>\n",
       "      <th>Pompes à chaleur hybride</th>\n",
       "    </tr>\n",
       "  </thead>\n",
       "  <tbody>\n",
       "    <tr>\n",
       "      <th>Biomasse</th>\n",
       "      <td>1.000000</td>\n",
       "      <td>0.0</td>\n",
       "      <td>0.000000</td>\n",
       "      <td>0.000000</td>\n",
       "      <td>0.000000</td>\n",
       "      <td>0.000000</td>\n",
       "      <td>0.000000</td>\n",
       "      <td>0.0</td>\n",
       "    </tr>\n",
       "    <tr>\n",
       "      <th>Chaudière fioul</th>\n",
       "      <td>0.037922</td>\n",
       "      <td>0.0</td>\n",
       "      <td>0.000000</td>\n",
       "      <td>0.150208</td>\n",
       "      <td>0.000000</td>\n",
       "      <td>0.090828</td>\n",
       "      <td>0.721041</td>\n",
       "      <td>0.0</td>\n",
       "    </tr>\n",
       "    <tr>\n",
       "      <th>Chaudière gaz</th>\n",
       "      <td>0.036064</td>\n",
       "      <td>0.0</td>\n",
       "      <td>0.176909</td>\n",
       "      <td>0.151599</td>\n",
       "      <td>0.000000</td>\n",
       "      <td>0.064450</td>\n",
       "      <td>0.569147</td>\n",
       "      <td>0.0</td>\n",
       "    </tr>\n",
       "    <tr>\n",
       "      <th>Chauffage urbain</th>\n",
       "      <td>0.000000</td>\n",
       "      <td>0.0</td>\n",
       "      <td>0.000000</td>\n",
       "      <td>1.000000</td>\n",
       "      <td>0.000000</td>\n",
       "      <td>0.000000</td>\n",
       "      <td>0.000000</td>\n",
       "      <td>0.0</td>\n",
       "    </tr>\n",
       "    <tr>\n",
       "      <th>Chauffage électrique</th>\n",
       "      <td>0.031719</td>\n",
       "      <td>0.0</td>\n",
       "      <td>0.000000</td>\n",
       "      <td>0.158977</td>\n",
       "      <td>0.295539</td>\n",
       "      <td>0.513765</td>\n",
       "      <td>0.000000</td>\n",
       "      <td>0.0</td>\n",
       "    </tr>\n",
       "    <tr>\n",
       "      <th>Pompes à chaleur air-air</th>\n",
       "      <td>0.000000</td>\n",
       "      <td>0.0</td>\n",
       "      <td>0.000000</td>\n",
       "      <td>0.000000</td>\n",
       "      <td>0.000000</td>\n",
       "      <td>1.000000</td>\n",
       "      <td>0.000000</td>\n",
       "      <td>0.0</td>\n",
       "    </tr>\n",
       "    <tr>\n",
       "      <th>Pompes à chaleur air-eau</th>\n",
       "      <td>0.000000</td>\n",
       "      <td>0.0</td>\n",
       "      <td>0.000000</td>\n",
       "      <td>0.000000</td>\n",
       "      <td>0.000000</td>\n",
       "      <td>0.000000</td>\n",
       "      <td>1.000000</td>\n",
       "      <td>0.0</td>\n",
       "    </tr>\n",
       "    <tr>\n",
       "      <th>Pompes à chaleur hybride</th>\n",
       "      <td>0.000000</td>\n",
       "      <td>0.0</td>\n",
       "      <td>0.000000</td>\n",
       "      <td>0.000000</td>\n",
       "      <td>0.000000</td>\n",
       "      <td>0.000000</td>\n",
       "      <td>0.000000</td>\n",
       "      <td>1.0</td>\n",
       "    </tr>\n",
       "  </tbody>\n",
       "</table>\n",
       "</div>"
      ],
      "text/plain": [
       "Energy_source             Biomasse  Chaudière fioul  Chaudière gaz  \\\n",
       "Biomasse                  1.000000              0.0       0.000000   \n",
       "Chaudière fioul           0.037922              0.0       0.000000   \n",
       "Chaudière gaz             0.036064              0.0       0.176909   \n",
       "Chauffage urbain          0.000000              0.0       0.000000   \n",
       "Chauffage électrique      0.031719              0.0       0.000000   \n",
       "Pompes à chaleur air-air  0.000000              0.0       0.000000   \n",
       "Pompes à chaleur air-eau  0.000000              0.0       0.000000   \n",
       "Pompes à chaleur hybride  0.000000              0.0       0.000000   \n",
       "\n",
       "Energy_source             Chauffage urbain  Chauffage électrique  \\\n",
       "Biomasse                          0.000000              0.000000   \n",
       "Chaudière fioul                   0.150208              0.000000   \n",
       "Chaudière gaz                     0.151599              0.000000   \n",
       "Chauffage urbain                  1.000000              0.000000   \n",
       "Chauffage électrique              0.158977              0.295539   \n",
       "Pompes à chaleur air-air          0.000000              0.000000   \n",
       "Pompes à chaleur air-eau          0.000000              0.000000   \n",
       "Pompes à chaleur hybride          0.000000              0.000000   \n",
       "\n",
       "Energy_source             Pompes à chaleur air-air  Pompes à chaleur air-eau  \\\n",
       "Biomasse                                  0.000000                  0.000000   \n",
       "Chaudière fioul                           0.090828                  0.721041   \n",
       "Chaudière gaz                             0.064450                  0.569147   \n",
       "Chauffage urbain                          0.000000                  0.000000   \n",
       "Chauffage électrique                      0.513765                  0.000000   \n",
       "Pompes à chaleur air-air                  1.000000                  0.000000   \n",
       "Pompes à chaleur air-eau                  0.000000                  1.000000   \n",
       "Pompes à chaleur hybride                  0.000000                  0.000000   \n",
       "\n",
       "Energy_source             Pompes à chaleur hybride  \n",
       "Biomasse                                       0.0  \n",
       "Chaudière fioul                                0.0  \n",
       "Chaudière gaz                                  0.0  \n",
       "Chauffage urbain                               0.0  \n",
       "Chauffage électrique                           0.0  \n",
       "Pompes à chaleur air-air                       0.0  \n",
       "Pompes à chaleur air-eau                       0.0  \n",
       "Pompes à chaleur hybride                       1.0  "
      ]
     },
     "execution_count": 164,
     "metadata": {},
     "output_type": "execute_result"
    }
   }
  },
  {
   "cell_type": "code",
   "execution_count": null,
   "outputs": [],
   "source": [
    "#Transition matrix for apartments\n",
    "b_type=\"apartment\"\n",
    "transition_matrix=sim_param['retrofit_Transition'].copy().rename_axis(columns=None).reset_index()\n",
    "transition_matrix.loc[(transition_matrix[\"year\"]==2020) & (transition_matrix[\"building_type\"]==b_type)].drop([\\\n",
    "                                        \"old_new\",\"building_type\",\"year\"],axis=1).set_index('Energy_source').transpose()"
   ],
   "metadata": {
    "collapsed": false,
    "pycharm": {
     "name": "#%%\n"
    }
   }
  },
  {
   "cell_type": "code",
   "execution_count": 165,
   "metadata": {
    "collapsed": false,
    "pycharm": {
     "name": "#%%\n"
    }
   },
   "outputs": [
    {
     "data": {
      "text/html": [
       "<div>\n",
       "<style scoped>\n",
       "    .dataframe tbody tr th:only-of-type {\n",
       "        vertical-align: middle;\n",
       "    }\n",
       "\n",
       "    .dataframe tbody tr th {\n",
       "        vertical-align: top;\n",
       "    }\n",
       "\n",
       "    .dataframe thead th {\n",
       "        text-align: right;\n",
       "    }\n",
       "</style>\n",
       "<table border=\"1\" class=\"dataframe\">\n",
       "  <thead>\n",
       "    <tr style=\"text-align: right;\">\n",
       "      <th></th>\n",
       "      <th>retrofit_improvement</th>\n",
       "    </tr>\n",
       "    <tr>\n",
       "      <th>year</th>\n",
       "      <th></th>\n",
       "    </tr>\n",
       "  </thead>\n",
       "  <tbody>\n",
       "    <tr>\n",
       "      <th>2020</th>\n",
       "      <td>0.050000</td>\n",
       "    </tr>\n",
       "    <tr>\n",
       "      <th>2021</th>\n",
       "      <td>0.051667</td>\n",
       "    </tr>\n",
       "    <tr>\n",
       "      <th>2022</th>\n",
       "      <td>0.053333</td>\n",
       "    </tr>\n",
       "    <tr>\n",
       "      <th>2023</th>\n",
       "      <td>0.055000</td>\n",
       "    </tr>\n",
       "    <tr>\n",
       "      <th>2024</th>\n",
       "      <td>0.056667</td>\n",
       "    </tr>\n",
       "    <tr>\n",
       "      <th>2025</th>\n",
       "      <td>0.058333</td>\n",
       "    </tr>\n",
       "    <tr>\n",
       "      <th>2026</th>\n",
       "      <td>0.060000</td>\n",
       "    </tr>\n",
       "    <tr>\n",
       "      <th>2027</th>\n",
       "      <td>0.061667</td>\n",
       "    </tr>\n",
       "    <tr>\n",
       "      <th>2028</th>\n",
       "      <td>0.063333</td>\n",
       "    </tr>\n",
       "    <tr>\n",
       "      <th>2029</th>\n",
       "      <td>0.065000</td>\n",
       "    </tr>\n",
       "    <tr>\n",
       "      <th>2030</th>\n",
       "      <td>0.066667</td>\n",
       "    </tr>\n",
       "    <tr>\n",
       "      <th>2031</th>\n",
       "      <td>0.068333</td>\n",
       "    </tr>\n",
       "    <tr>\n",
       "      <th>2032</th>\n",
       "      <td>0.070000</td>\n",
       "    </tr>\n",
       "    <tr>\n",
       "      <th>2033</th>\n",
       "      <td>0.071667</td>\n",
       "    </tr>\n",
       "    <tr>\n",
       "      <th>2034</th>\n",
       "      <td>0.073333</td>\n",
       "    </tr>\n",
       "    <tr>\n",
       "      <th>2035</th>\n",
       "      <td>0.075000</td>\n",
       "    </tr>\n",
       "    <tr>\n",
       "      <th>2036</th>\n",
       "      <td>0.076667</td>\n",
       "    </tr>\n",
       "    <tr>\n",
       "      <th>2037</th>\n",
       "      <td>0.078333</td>\n",
       "    </tr>\n",
       "    <tr>\n",
       "      <th>2038</th>\n",
       "      <td>0.080000</td>\n",
       "    </tr>\n",
       "    <tr>\n",
       "      <th>2039</th>\n",
       "      <td>0.081667</td>\n",
       "    </tr>\n",
       "    <tr>\n",
       "      <th>2040</th>\n",
       "      <td>0.083333</td>\n",
       "    </tr>\n",
       "    <tr>\n",
       "      <th>2041</th>\n",
       "      <td>0.085000</td>\n",
       "    </tr>\n",
       "    <tr>\n",
       "      <th>2042</th>\n",
       "      <td>0.086667</td>\n",
       "    </tr>\n",
       "    <tr>\n",
       "      <th>2043</th>\n",
       "      <td>0.088333</td>\n",
       "    </tr>\n",
       "    <tr>\n",
       "      <th>2044</th>\n",
       "      <td>0.090000</td>\n",
       "    </tr>\n",
       "    <tr>\n",
       "      <th>2045</th>\n",
       "      <td>0.091667</td>\n",
       "    </tr>\n",
       "    <tr>\n",
       "      <th>2046</th>\n",
       "      <td>0.093333</td>\n",
       "    </tr>\n",
       "    <tr>\n",
       "      <th>2047</th>\n",
       "      <td>0.095000</td>\n",
       "    </tr>\n",
       "    <tr>\n",
       "      <th>2048</th>\n",
       "      <td>0.096667</td>\n",
       "    </tr>\n",
       "    <tr>\n",
       "      <th>2049</th>\n",
       "      <td>0.098333</td>\n",
       "    </tr>\n",
       "  </tbody>\n",
       "</table>\n",
       "</div>"
      ],
      "text/plain": [
       "      retrofit_improvement\n",
       "year                      \n",
       "2020              0.050000\n",
       "2021              0.051667\n",
       "2022              0.053333\n",
       "2023              0.055000\n",
       "2024              0.056667\n",
       "2025              0.058333\n",
       "2026              0.060000\n",
       "2027              0.061667\n",
       "2028              0.063333\n",
       "2029              0.065000\n",
       "2030              0.066667\n",
       "2031              0.068333\n",
       "2032              0.070000\n",
       "2033              0.071667\n",
       "2034              0.073333\n",
       "2035              0.075000\n",
       "2036              0.076667\n",
       "2037              0.078333\n",
       "2038              0.080000\n",
       "2039              0.081667\n",
       "2040              0.083333\n",
       "2041              0.085000\n",
       "2042              0.086667\n",
       "2043              0.088333\n",
       "2044              0.090000\n",
       "2045              0.091667\n",
       "2046              0.093333\n",
       "2047              0.095000\n",
       "2048              0.096667\n",
       "2049              0.098333"
      ]
     },
     "execution_count": 165,
     "metadata": {},
     "output_type": "execute_result"
    }
   }
  },
  {
   "cell_type": "markdown",
   "source": [
    "\n",
    "### 3.1 An example path towards emission reduction <a class=\"anchor\" id=\"firstpath\"></a>\n",
    "Considering all the inputs described above, we can launch the simulation of the scenario. The simulation function calculates the surface to be retrofitted each year, the energy need of the surface after retrofit and the energy_source which will provide the energy_need and the switches from one energy source to another."
   ],
   "metadata": {
    "collapsed": false,
    "pycharm": {
     "name": "#%% md\n"
    }
   }
  },
  {
   "cell_type": "code",
   "execution_count": null,
   "outputs": [],
   "source": [
    "sim_stock = launch_simulation(sim_param)"
   ],
   "metadata": {
    "collapsed": false,
    "pycharm": {
     "name": "#%%\n"
    }
   }
  },
  {
   "cell_type": "markdown",
   "source": [
    "We collect the output data into a dataframe we can exploit to do some plot and analysis."
   ],
   "metadata": {
    "collapsed": false,
    "pycharm": {
     "name": "#%% md\n"
    }
   }
  },
  {
   "cell_type": "markdown",
   "source": [
    "Here comes the evolution of energy needs of buildings, splitted by building type."
   ],
   "metadata": {
    "collapsed": false,
    "pycharm": {
     "name": "#%% md\n"
    }
   }
  },
  {
   "cell_type": "code",
   "execution_count": null,
   "outputs": [],
   "source": [
    "sim_stock_df = pd.concat(sim_stock, axis=0).reset_index().\\\n",
    "    rename(columns={\"level_0\":\"year\"}).set_index([ \"year\"  ,  \"Energy_source\"  , \"old_new\"])"
   ],
   "metadata": {
    "collapsed": false,
    "pycharm": {
     "name": "#%%\n"
    }
   }
  },
  {
   "cell_type": "code",
   "execution_count": 166,
   "metadata": {
    "collapsed": false,
    "pycharm": {
     "name": "#%%\n"
    }
   }
  },
  {
   "cell_type": "markdown",
   "source": [
    "But it is also possible to plot the evolution of energy consumption or GHG emissions due to heating."
   ],
   "metadata": {
    "collapsed": false,
    "pycharm": {
     "name": "#%% md\n"
    }
   }
  },
  {
   "cell_type": "code",
   "execution_count": null,
   "outputs": [],
   "source": [
    "Var = \"Conso\"\n",
    "y_df = sim_stock_df.groupby([\"year\", \"Energy_source\"])[Var].sum().to_frame().reset_index(). \\\n",
    "           pivot(index=['year'], columns='Energy_source').loc[[year for year in sim_param[\"years\"][1:]], Var] / 10 ** 9\n",
    "fig = MyStackedPlotly(y_df=y_df)\n",
    "fig = fig.update_layout(title_text=\"Conso d'énergie par mode de chauffage (en TWh)\", xaxis_title=\"Année\",\n",
    "                        yaxis_title=\"Consommation [TWh]\")\n",
    "fig.show()"
   ],
   "metadata": {
    "collapsed": false,
    "pycharm": {
     "name": "#%%\n"
    }
   }
  },
  {
   "cell_type": "code",
   "execution_count": null,
   "outputs": [],
   "source": [
    "Var = \"emissions\"\n",
    "y_df = sim_stock_df.groupby([\"year\", \"Energy_source\"])[Var].sum().to_frame().reset_index(). \\\n",
    "           pivot(index=['year'], columns='Energy_source').loc[[year for year in sim_param[\"years\"][1:]], Var] / 10 ** 12\n",
    "\n",
    "fig = MyStackedPlotly(y_df=y_df)\n",
    "fig = fig.update_layout(title_text=\"Emissions de GES par mode de chauffage (en MtCO2e)\", xaxis_title=\"Année\",\n",
    "                        yaxis_title=\"Emissions [MtCO2e]\")\n",
    "fig.show()"
   ],
   "metadata": {
    "collapsed": false,
    "pycharm": {
     "name": "#%%\n"
    }
   }
  },
  {
   "cell_type": "markdown",
   "source": [
    "One key indicator of the decarbonization pathways is the reduction of GHG emissions. In the case of this first scenario, we can vizualize the following key indicators:"
   ],
   "metadata": {
    "collapsed": false,
    "pycharm": {
     "name": "#%% md\n"
    }
   }
  },
  {
   "cell_type": "code",
   "execution_count": null,
   "outputs": [],
   "source": [
    "emission_reduction=sim_stock_df.copy().reset_index()\n",
    "emission_reduction=(initial_emissions-emission_reduction[emission_reduction[\"year\"]==2049][\"emissions\"].sum()/10**12)/initial_emissions\n",
    "\n",
    "energy_cons_reduction=sim_stock_df.copy().reset_index()\n",
    "energy_cons_reduction=(initial_consumption-energy_cons_reduction[energy_cons_reduction[\"year\"]==2049][\"Conso\"].sum()/10**9)/initial_consumption\n",
    "\n",
    "energy_need_reduction=sim_stock_df.copy().reset_index()\n",
    "energy_need_reduction=(initial_need-energy_need_reduction[energy_need_reduction[\"year\"]==2049][\"Besoin\"].sum()/10**9)/initial_need\n",
    "\n",
    "print(\"Réduction des émissions de GES: \" + str(np.round(emission_reduction*100,2)) + \"%\")\n",
    "print(\"Réduction de la consommation: \" + str(np.round(energy_cons_reduction*100,2)) + \"%\")\n",
    "print(\"Réduction du besoin: \" + str(np.round(energy_need_reduction*100,2)) + \"%\")\n"
   ],
   "metadata": {
    "collapsed": false,
    "pycharm": {
     "name": "#%%\n"
    }
   }
  },
  {
   "cell_type": "markdown",
   "source": [
    "### 3.2 Achieving SNBC objectives through electrification <a class=\"anchor\" id=\"electrification\"></a>\n",
    "The french national decarbonisation strategy targets to reduce by 95% emissions from heating by 2050 (respect to 2015).\n",
    "As you can observe in the previous graphs, the SNBC objectives are not met by the proposed scenario.\n",
    "One way of reducing heating emissions is the electrification of heating systems. By modifying the shift proportions in the retrofit matrix, propose a scenario with a strong electricity penetration (electric heating, heat pumps) which gets clother the SNBC objectives (CAUTION: All rows should sum up to 1):"
   ],
   "metadata": {
    "collapsed": false,
    "pycharm": {
     "name": "#%% md\n"
    }
   }
  },
  {
   "cell_type": "code",
   "execution_count": null,
   "outputs": [],
   "source": [
    "sim_param = extract_sim_param(data_set_from_excel, Index_names=Index_names, dim_names=dim_names,\n",
    "                              Energy_system_name=Energy_system_name)\n",
    "#Creating the initial building description\n",
    "sim_param[\"init_sim_stock\"] = create_initial_parc(sim_param).sort_index()\n",
    "sim_param[\"volume_variable_name\"] = \"surface\"\n",
    "sim_param[\"init_sim_stock\"][\"surface\"] = sim_param[\"init_sim_stock\"][\"surface\"] * sim_param[\"init_sim_stock\"][\"IPONDL\"]\n",
    "\n",
    "# We adjust energy need for electricity considering the primary energy factor\n",
    "sim_param[\"init_sim_stock\"][\"conso_unitaire_elec\"]=sim_param[\"init_sim_stock\"][\"conso_unitaire_elec\"]/2.3\n",
    "\n",
    "## for those able to make qgrid work, you should be able to modify the table sim_param['retrofit_Transition'] within the interface below\n",
    "#https://github.com/quantopian/qgrid\n",
    "col_def = { col :  { 'editable': True } for col in sim_param['retrofit_Transition'].columns}\n",
    "qgrid_widget = qgrid.show_grid(sim_param['retrofit_Transition'], show_toolbar=True, column_definitions=col_def)\n",
    "qgrid_widget"
   ],
   "metadata": {
    "collapsed": false,
    "pycharm": {
     "name": "#%%\n"
    }
   }
  },
  {
   "cell_type": "code",
   "execution_count": 167,
   "metadata": {
    "collapsed": false,
    "pycharm": {
     "name": "#%%\n"
    }
   }
  },
  {
   "cell_type": "markdown",
   "source": [
    "We relaunch all the data preparation with this new retrofit transition matrix."
   ],
   "metadata": {
    "collapsed": false,
    "pycharm": {
     "name": "#%% md\n"
    }
   }
  },
  {
   "cell_type": "code",
   "execution_count": null,
   "outputs": [],
   "source": [
    "sim_param = interpolate_sim_param(sim_param)\n",
    "sim_param[\"retrofit_change_surface\"]=sim_param[\"retrofit_change_total_proportion_surface\"].diff().fillna(0)\n",
    "\n",
    "Para_2_fill = {param: sim_param[\"base_index_year\"] for param in\n",
    "               [\"retrofit_improvement\", \"retrofit_change_surface\", \"retrofit_Transition\"]}\n",
    "sim_param = complete_parameters(sim_param, Para_2_fill=Para_2_fill)\n",
    "sim_param[\"retrofit_change_surface\"]=sim_param[\"retrofit_change_surface\"]*sim_param[\"init_sim_stock\"][\"surface\"]\n",
    "\n",
    "sim_param = complete_missing_indexes(data_set_from_excel, sim_param, Index_names, dim_names)\n",
    "\n",
    "for Vecteur in sim_param[\"Vecteurs\"]:\n",
    "    sim_param[\"f_Compute_conso_\"+Vecteur]={\"conso_\"+Vecteur : partial(f_Compute_conso,Vecteur =Vecteur)}\n",
    "sim_param[\"f_Compute_conso_totale\"]={\"Conso\" : lambda x,sim_param: f_Compute_conso_totale(x,sim_param)}\n",
    "\n",
    "sim_param[\"f_Compute_besoin\"]={\"Besoin\" : f_Compute_besoin}\n",
    "\n",
    "for Vecteur in sim_param[\"Vecteurs\"]:\n",
    "    sim_param[\"f_Compute_emissions_\"+Vecteur]={\"emissions_\"+Vecteur : partial(f_compute_emissions,Vecteur =Vecteur)}\n",
    "sim_param[\"f_Compute_emissions_totale\"]={\"emissions\" : lambda x,sim_param: f_Compute_emissions_totale(x,sim_param)}\n",
    "\n",
    "# A new function to calculate the electrical peak on the grid\n",
    "def f_Compute_electrical_peak(x, sim_param):\n",
    "    Energy_source = x.name[sim_param['base_index'].names.index('Energy_source')]\n",
    "    return x[\"conso_elec\"] * 1.5 / 35  / sim_param[\"peak_efficiency\"][(Energy_source,\"elec\")]\n",
    "sim_param[\"f_Compute_electrical_peak_totale\"] = {\n",
    "    \"electrical_peak\": lambda x, sim_param: f_Compute_electrical_peak(x, sim_param)}\n",
    "\n",
    "# We lanch the simulation\n",
    "sim_stock_new = launch_simulation(sim_param)"
   ],
   "metadata": {
    "collapsed": false,
    "pycharm": {
     "name": "#%%\n"
    }
   }
  },
  {
   "cell_type": "code",
   "execution_count": 168,
   "metadata": {
    "collapsed": false,
    "pycharm": {
     "name": "#%%\n"
    }
   },
   "outputs": [
    {
     "data": {
      "application/vnd.plotly.v1+json": {
       "config": {
        "plotlyServerURL": "https://plot.ly"
       },
       "data": [
        {
         "fill": "tozeroy",
         "mode": "none",
         "name": "apartment",
         "type": "scatter",
         "x": [
          2021,
          2022,
          2023,
          2024,
          2025,
          2026,
          2027,
          2028,
          2029,
          2030,
          2031,
          2032,
          2033,
          2034,
          2035,
          2036,
          2037,
          2038,
          2039,
          2040,
          2041,
          2042,
          2043,
          2044,
          2045,
          2046,
          2047,
          2048,
          2049
         ],
         "y": [
          63.341619249490904,
          63.290858249921165,
          62.64548339379615,
          61.99770634276296,
          61.34752709682158,
          60.317135348111734,
          59.28295066007318,
          58.2449730327059,
          57.20320246600991,
          56.15763895998521,
          54.68853993649042,
          53.21413079793545,
          51.73441154432027,
          50.24938217564489,
          48.7590426919093,
          48.11805000671111,
          47.47478155791569,
          46.82923734552304,
          46.18141736953316,
          45.53132162994606,
          45.09640729448983,
          44.65997578330212,
          44.222027096382924,
          43.78256123373225,
          43.34157819535008,
          43.120328088293256,
          42.89831939337069,
          42.67555211058238,
          42.45202623992832
         ]
        },
        {
         "fill": "tonexty",
         "mode": "none",
         "name": "house",
         "type": "scatter",
         "x": [
          2021,
          2022,
          2023,
          2024,
          2025,
          2026,
          2027,
          2028,
          2029,
          2030,
          2031,
          2032,
          2033,
          2034,
          2035,
          2036,
          2037,
          2038,
          2039,
          2040,
          2041,
          2042,
          2043,
          2044,
          2045,
          2046,
          2047,
          2048,
          2049
         ],
         "y": [
          232.92660111284476,
          232.71210950220294,
          229.98049482613786,
          227.23415920880421,
          224.47310265020204,
          220.0902960714588,
          215.68424590123885,
          211.25495213954227,
          206.80241478636904,
          202.32663384171912,
          196.02799949114194,
          189.6968241124974,
          183.3331077057856,
          176.93685027100645,
          170.50805180815996,
          167.73890631205404,
          164.95581466106213,
          162.15877685518421,
          159.3477928944203,
          156.52286277877042,
          154.63027859841313,
          152.72839698146524,
          150.81721792792663,
          148.89674143779737,
          146.96696751107746,
          145.99743182942217,
          145.02324742947155,
          144.04441431122558,
          143.06093247468428
         ]
        },
        {
         "fill": "tonexty",
         "mode": "none",
         "name": "tertiary",
         "type": "scatter",
         "x": [
          2021,
          2022,
          2023,
          2024,
          2025,
          2026,
          2027,
          2028,
          2029,
          2030,
          2031,
          2032,
          2033,
          2034,
          2035,
          2036,
          2037,
          2038,
          2039,
          2040,
          2041,
          2042,
          2043,
          2044,
          2045,
          2046,
          2047,
          2048,
          2049
         ],
         "y": [
          359.0353262508081,
          358.7333473667293,
          354.88847600315347,
          351.0237991410002,
          347.13931678026955,
          340.97465173925684,
          334.778714858385,
          328.55150613765414,
          322.2930255770642,
          316.0032731766152,
          307.15383924018386,
          298.26062472794985,
          289.3236296399132,
          280.34285397607374,
          271.31829773643165,
          267.43186767266957,
          263.52667450499206,
          259.6027182333991,
          255.6599988578907,
          251.69851637846688,
          249.04501932290736,
          246.37901353140424,
          243.70049900395747,
          241.00947574056704,
          238.30594374123302,
          236.9479233735942,
          235.58364863798357,
          234.21311953440107,
          232.8363360628468
         ]
        }
       ],
       "layout": {
        "template": {
         "data": {
          "bar": [
           {
            "error_x": {
             "color": "#2a3f5f"
            },
            "error_y": {
             "color": "#2a3f5f"
            },
            "marker": {
             "line": {
              "color": "#E5ECF6",
              "width": 0.5
             },
             "pattern": {
              "fillmode": "overlay",
              "size": 10,
              "solidity": 0.2
             }
            },
            "type": "bar"
           }
          ],
          "barpolar": [
           {
            "marker": {
             "line": {
              "color": "#E5ECF6",
              "width": 0.5
             },
             "pattern": {
              "fillmode": "overlay",
              "size": 10,
              "solidity": 0.2
             }
            },
            "type": "barpolar"
           }
          ],
          "carpet": [
           {
            "aaxis": {
             "endlinecolor": "#2a3f5f",
             "gridcolor": "white",
             "linecolor": "white",
             "minorgridcolor": "white",
             "startlinecolor": "#2a3f5f"
            },
            "baxis": {
             "endlinecolor": "#2a3f5f",
             "gridcolor": "white",
             "linecolor": "white",
             "minorgridcolor": "white",
             "startlinecolor": "#2a3f5f"
            },
            "type": "carpet"
           }
          ],
          "choropleth": [
           {
            "colorbar": {
             "outlinewidth": 0,
             "ticks": ""
            },
            "type": "choropleth"
           }
          ],
          "contour": [
           {
            "colorbar": {
             "outlinewidth": 0,
             "ticks": ""
            },
            "colorscale": [
             [
              0,
              "#0d0887"
             ],
             [
              0.1111111111111111,
              "#46039f"
             ],
             [
              0.2222222222222222,
              "#7201a8"
             ],
             [
              0.3333333333333333,
              "#9c179e"
             ],
             [
              0.4444444444444444,
              "#bd3786"
             ],
             [
              0.5555555555555556,
              "#d8576b"
             ],
             [
              0.6666666666666666,
              "#ed7953"
             ],
             [
              0.7777777777777778,
              "#fb9f3a"
             ],
             [
              0.8888888888888888,
              "#fdca26"
             ],
             [
              1,
              "#f0f921"
             ]
            ],
            "type": "contour"
           }
          ],
          "contourcarpet": [
           {
            "colorbar": {
             "outlinewidth": 0,
             "ticks": ""
            },
            "type": "contourcarpet"
           }
          ],
          "heatmap": [
           {
            "colorbar": {
             "outlinewidth": 0,
             "ticks": ""
            },
            "colorscale": [
             [
              0,
              "#0d0887"
             ],
             [
              0.1111111111111111,
              "#46039f"
             ],
             [
              0.2222222222222222,
              "#7201a8"
             ],
             [
              0.3333333333333333,
              "#9c179e"
             ],
             [
              0.4444444444444444,
              "#bd3786"
             ],
             [
              0.5555555555555556,
              "#d8576b"
             ],
             [
              0.6666666666666666,
              "#ed7953"
             ],
             [
              0.7777777777777778,
              "#fb9f3a"
             ],
             [
              0.8888888888888888,
              "#fdca26"
             ],
             [
              1,
              "#f0f921"
             ]
            ],
            "type": "heatmap"
           }
          ],
          "heatmapgl": [
           {
            "colorbar": {
             "outlinewidth": 0,
             "ticks": ""
            },
            "colorscale": [
             [
              0,
              "#0d0887"
             ],
             [
              0.1111111111111111,
              "#46039f"
             ],
             [
              0.2222222222222222,
              "#7201a8"
             ],
             [
              0.3333333333333333,
              "#9c179e"
             ],
             [
              0.4444444444444444,
              "#bd3786"
             ],
             [
              0.5555555555555556,
              "#d8576b"
             ],
             [
              0.6666666666666666,
              "#ed7953"
             ],
             [
              0.7777777777777778,
              "#fb9f3a"
             ],
             [
              0.8888888888888888,
              "#fdca26"
             ],
             [
              1,
              "#f0f921"
             ]
            ],
            "type": "heatmapgl"
           }
          ],
          "histogram": [
           {
            "marker": {
             "pattern": {
              "fillmode": "overlay",
              "size": 10,
              "solidity": 0.2
             }
            },
            "type": "histogram"
           }
          ],
          "histogram2d": [
           {
            "colorbar": {
             "outlinewidth": 0,
             "ticks": ""
            },
            "colorscale": [
             [
              0,
              "#0d0887"
             ],
             [
              0.1111111111111111,
              "#46039f"
             ],
             [
              0.2222222222222222,
              "#7201a8"
             ],
             [
              0.3333333333333333,
              "#9c179e"
             ],
             [
              0.4444444444444444,
              "#bd3786"
             ],
             [
              0.5555555555555556,
              "#d8576b"
             ],
             [
              0.6666666666666666,
              "#ed7953"
             ],
             [
              0.7777777777777778,
              "#fb9f3a"
             ],
             [
              0.8888888888888888,
              "#fdca26"
             ],
             [
              1,
              "#f0f921"
             ]
            ],
            "type": "histogram2d"
           }
          ],
          "histogram2dcontour": [
           {
            "colorbar": {
             "outlinewidth": 0,
             "ticks": ""
            },
            "colorscale": [
             [
              0,
              "#0d0887"
             ],
             [
              0.1111111111111111,
              "#46039f"
             ],
             [
              0.2222222222222222,
              "#7201a8"
             ],
             [
              0.3333333333333333,
              "#9c179e"
             ],
             [
              0.4444444444444444,
              "#bd3786"
             ],
             [
              0.5555555555555556,
              "#d8576b"
             ],
             [
              0.6666666666666666,
              "#ed7953"
             ],
             [
              0.7777777777777778,
              "#fb9f3a"
             ],
             [
              0.8888888888888888,
              "#fdca26"
             ],
             [
              1,
              "#f0f921"
             ]
            ],
            "type": "histogram2dcontour"
           }
          ],
          "mesh3d": [
           {
            "colorbar": {
             "outlinewidth": 0,
             "ticks": ""
            },
            "type": "mesh3d"
           }
          ],
          "parcoords": [
           {
            "line": {
             "colorbar": {
              "outlinewidth": 0,
              "ticks": ""
             }
            },
            "type": "parcoords"
           }
          ],
          "pie": [
           {
            "automargin": true,
            "type": "pie"
           }
          ],
          "scatter": [
           {
            "fillpattern": {
             "fillmode": "overlay",
             "size": 10,
             "solidity": 0.2
            },
            "type": "scatter"
           }
          ],
          "scatter3d": [
           {
            "line": {
             "colorbar": {
              "outlinewidth": 0,
              "ticks": ""
             }
            },
            "marker": {
             "colorbar": {
              "outlinewidth": 0,
              "ticks": ""
             }
            },
            "type": "scatter3d"
           }
          ],
          "scattercarpet": [
           {
            "marker": {
             "colorbar": {
              "outlinewidth": 0,
              "ticks": ""
             }
            },
            "type": "scattercarpet"
           }
          ],
          "scattergeo": [
           {
            "marker": {
             "colorbar": {
              "outlinewidth": 0,
              "ticks": ""
             }
            },
            "type": "scattergeo"
           }
          ],
          "scattergl": [
           {
            "marker": {
             "colorbar": {
              "outlinewidth": 0,
              "ticks": ""
             }
            },
            "type": "scattergl"
           }
          ],
          "scattermapbox": [
           {
            "marker": {
             "colorbar": {
              "outlinewidth": 0,
              "ticks": ""
             }
            },
            "type": "scattermapbox"
           }
          ],
          "scatterpolar": [
           {
            "marker": {
             "colorbar": {
              "outlinewidth": 0,
              "ticks": ""
             }
            },
            "type": "scatterpolar"
           }
          ],
          "scatterpolargl": [
           {
            "marker": {
             "colorbar": {
              "outlinewidth": 0,
              "ticks": ""
             }
            },
            "type": "scatterpolargl"
           }
          ],
          "scatterternary": [
           {
            "marker": {
             "colorbar": {
              "outlinewidth": 0,
              "ticks": ""
             }
            },
            "type": "scatterternary"
           }
          ],
          "surface": [
           {
            "colorbar": {
             "outlinewidth": 0,
             "ticks": ""
            },
            "colorscale": [
             [
              0,
              "#0d0887"
             ],
             [
              0.1111111111111111,
              "#46039f"
             ],
             [
              0.2222222222222222,
              "#7201a8"
             ],
             [
              0.3333333333333333,
              "#9c179e"
             ],
             [
              0.4444444444444444,
              "#bd3786"
             ],
             [
              0.5555555555555556,
              "#d8576b"
             ],
             [
              0.6666666666666666,
              "#ed7953"
             ],
             [
              0.7777777777777778,
              "#fb9f3a"
             ],
             [
              0.8888888888888888,
              "#fdca26"
             ],
             [
              1,
              "#f0f921"
             ]
            ],
            "type": "surface"
           }
          ],
          "table": [
           {
            "cells": {
             "fill": {
              "color": "#EBF0F8"
             },
             "line": {
              "color": "white"
             }
            },
            "header": {
             "fill": {
              "color": "#C8D4E3"
             },
             "line": {
              "color": "white"
             }
            },
            "type": "table"
           }
          ]
         },
         "layout": {
          "annotationdefaults": {
           "arrowcolor": "#2a3f5f",
           "arrowhead": 0,
           "arrowwidth": 1
          },
          "autotypenumbers": "strict",
          "coloraxis": {
           "colorbar": {
            "outlinewidth": 0,
            "ticks": ""
           }
          },
          "colorscale": {
           "diverging": [
            [
             0,
             "#8e0152"
            ],
            [
             0.1,
             "#c51b7d"
            ],
            [
             0.2,
             "#de77ae"
            ],
            [
             0.3,
             "#f1b6da"
            ],
            [
             0.4,
             "#fde0ef"
            ],
            [
             0.5,
             "#f7f7f7"
            ],
            [
             0.6,
             "#e6f5d0"
            ],
            [
             0.7,
             "#b8e186"
            ],
            [
             0.8,
             "#7fbc41"
            ],
            [
             0.9,
             "#4d9221"
            ],
            [
             1,
             "#276419"
            ]
           ],
           "sequential": [
            [
             0,
             "#0d0887"
            ],
            [
             0.1111111111111111,
             "#46039f"
            ],
            [
             0.2222222222222222,
             "#7201a8"
            ],
            [
             0.3333333333333333,
             "#9c179e"
            ],
            [
             0.4444444444444444,
             "#bd3786"
            ],
            [
             0.5555555555555556,
             "#d8576b"
            ],
            [
             0.6666666666666666,
             "#ed7953"
            ],
            [
             0.7777777777777778,
             "#fb9f3a"
            ],
            [
             0.8888888888888888,
             "#fdca26"
            ],
            [
             1,
             "#f0f921"
            ]
           ],
           "sequentialminus": [
            [
             0,
             "#0d0887"
            ],
            [
             0.1111111111111111,
             "#46039f"
            ],
            [
             0.2222222222222222,
             "#7201a8"
            ],
            [
             0.3333333333333333,
             "#9c179e"
            ],
            [
             0.4444444444444444,
             "#bd3786"
            ],
            [
             0.5555555555555556,
             "#d8576b"
            ],
            [
             0.6666666666666666,
             "#ed7953"
            ],
            [
             0.7777777777777778,
             "#fb9f3a"
            ],
            [
             0.8888888888888888,
             "#fdca26"
            ],
            [
             1,
             "#f0f921"
            ]
           ]
          },
          "colorway": [
           "#636efa",
           "#EF553B",
           "#00cc96",
           "#ab63fa",
           "#FFA15A",
           "#19d3f3",
           "#FF6692",
           "#B6E880",
           "#FF97FF",
           "#FECB52"
          ],
          "font": {
           "color": "#2a3f5f"
          },
          "geo": {
           "bgcolor": "white",
           "lakecolor": "white",
           "landcolor": "#E5ECF6",
           "showlakes": true,
           "showland": true,
           "subunitcolor": "white"
          },
          "hoverlabel": {
           "align": "left"
          },
          "hovermode": "closest",
          "mapbox": {
           "style": "light"
          },
          "paper_bgcolor": "white",
          "plot_bgcolor": "#E5ECF6",
          "polar": {
           "angularaxis": {
            "gridcolor": "white",
            "linecolor": "white",
            "ticks": ""
           },
           "bgcolor": "#E5ECF6",
           "radialaxis": {
            "gridcolor": "white",
            "linecolor": "white",
            "ticks": ""
           }
          },
          "scene": {
           "xaxis": {
            "backgroundcolor": "#E5ECF6",
            "gridcolor": "white",
            "gridwidth": 2,
            "linecolor": "white",
            "showbackground": true,
            "ticks": "",
            "zerolinecolor": "white"
           },
           "yaxis": {
            "backgroundcolor": "#E5ECF6",
            "gridcolor": "white",
            "gridwidth": 2,
            "linecolor": "white",
            "showbackground": true,
            "ticks": "",
            "zerolinecolor": "white"
           },
           "zaxis": {
            "backgroundcolor": "#E5ECF6",
            "gridcolor": "white",
            "gridwidth": 2,
            "linecolor": "white",
            "showbackground": true,
            "ticks": "",
            "zerolinecolor": "white"
           }
          },
          "shapedefaults": {
           "line": {
            "color": "#2a3f5f"
           }
          },
          "ternary": {
           "aaxis": {
            "gridcolor": "white",
            "linecolor": "white",
            "ticks": ""
           },
           "baxis": {
            "gridcolor": "white",
            "linecolor": "white",
            "ticks": ""
           },
           "bgcolor": "#E5ECF6",
           "caxis": {
            "gridcolor": "white",
            "linecolor": "white",
            "ticks": ""
           }
          },
          "title": {
           "x": 0.05
          },
          "xaxis": {
           "automargin": true,
           "gridcolor": "white",
           "linecolor": "white",
           "ticks": "",
           "title": {
            "standoff": 15
           },
           "zerolinecolor": "white",
           "zerolinewidth": 2
          },
          "yaxis": {
           "automargin": true,
           "gridcolor": "white",
           "linecolor": "white",
           "ticks": "",
           "title": {
            "standoff": 15
           },
           "zerolinecolor": "white",
           "zerolinewidth": 2
          }
         }
        },
        "title": {
         "text": "Besoin d'énergie de chauffage par vecteur énergétique (en TWh)"
        },
        "xaxis": {
         "rangeslider": {
          "visible": true
         },
         "title": {
          "text": "Année"
         }
        },
        "yaxis": {
         "title": {
          "text": "Besoin [TWh]"
         }
        }
       }
      },
      "text/html": [
       "<div>                            <div id=\"b0be716c-534d-4f85-9ccb-e84ce7632c28\" class=\"plotly-graph-div\" style=\"height:525px; width:100%;\"></div>            <script type=\"text/javascript\">                require([\"plotly\"], function(Plotly) {                    window.PLOTLYENV=window.PLOTLYENV || {};                                    if (document.getElementById(\"b0be716c-534d-4f85-9ccb-e84ce7632c28\")) {                    Plotly.newPlot(                        \"b0be716c-534d-4f85-9ccb-e84ce7632c28\",                        [{\"fill\":\"tozeroy\",\"mode\":\"none\",\"name\":\"apartment\",\"x\":[2021,2022,2023,2024,2025,2026,2027,2028,2029,2030,2031,2032,2033,2034,2035,2036,2037,2038,2039,2040,2041,2042,2043,2044,2045,2046,2047,2048,2049],\"y\":[63.341619249490904,63.290858249921165,62.64548339379615,61.99770634276296,61.34752709682158,60.317135348111734,59.28295066007318,58.2449730327059,57.20320246600991,56.15763895998521,54.68853993649042,53.21413079793545,51.73441154432027,50.24938217564489,48.7590426919093,48.11805000671111,47.47478155791569,46.82923734552304,46.18141736953316,45.53132162994606,45.09640729448983,44.65997578330212,44.222027096382924,43.78256123373225,43.34157819535008,43.120328088293256,42.89831939337069,42.67555211058238,42.45202623992832],\"type\":\"scatter\"},{\"fill\":\"tonexty\",\"mode\":\"none\",\"name\":\"house\",\"x\":[2021,2022,2023,2024,2025,2026,2027,2028,2029,2030,2031,2032,2033,2034,2035,2036,2037,2038,2039,2040,2041,2042,2043,2044,2045,2046,2047,2048,2049],\"y\":[232.92660111284476,232.71210950220294,229.98049482613786,227.23415920880421,224.47310265020204,220.0902960714588,215.68424590123885,211.25495213954227,206.80241478636904,202.32663384171912,196.02799949114194,189.6968241124974,183.3331077057856,176.93685027100645,170.50805180815996,167.73890631205404,164.95581466106213,162.15877685518421,159.3477928944203,156.52286277877042,154.63027859841313,152.72839698146524,150.81721792792663,148.89674143779737,146.96696751107746,145.99743182942217,145.02324742947155,144.04441431122558,143.06093247468428],\"type\":\"scatter\"},{\"fill\":\"tonexty\",\"mode\":\"none\",\"name\":\"tertiary\",\"x\":[2021,2022,2023,2024,2025,2026,2027,2028,2029,2030,2031,2032,2033,2034,2035,2036,2037,2038,2039,2040,2041,2042,2043,2044,2045,2046,2047,2048,2049],\"y\":[359.0353262508081,358.7333473667293,354.88847600315347,351.0237991410002,347.13931678026955,340.97465173925684,334.778714858385,328.55150613765414,322.2930255770642,316.0032731766152,307.15383924018386,298.26062472794985,289.3236296399132,280.34285397607374,271.31829773643165,267.43186767266957,263.52667450499206,259.6027182333991,255.6599988578907,251.69851637846688,249.04501932290736,246.37901353140424,243.70049900395747,241.00947574056704,238.30594374123302,236.9479233735942,235.58364863798357,234.21311953440107,232.8363360628468],\"type\":\"scatter\"}],                        {\"template\":{\"data\":{\"histogram2dcontour\":[{\"type\":\"histogram2dcontour\",\"colorbar\":{\"outlinewidth\":0,\"ticks\":\"\"},\"colorscale\":[[0.0,\"#0d0887\"],[0.1111111111111111,\"#46039f\"],[0.2222222222222222,\"#7201a8\"],[0.3333333333333333,\"#9c179e\"],[0.4444444444444444,\"#bd3786\"],[0.5555555555555556,\"#d8576b\"],[0.6666666666666666,\"#ed7953\"],[0.7777777777777778,\"#fb9f3a\"],[0.8888888888888888,\"#fdca26\"],[1.0,\"#f0f921\"]]}],\"choropleth\":[{\"type\":\"choropleth\",\"colorbar\":{\"outlinewidth\":0,\"ticks\":\"\"}}],\"histogram2d\":[{\"type\":\"histogram2d\",\"colorbar\":{\"outlinewidth\":0,\"ticks\":\"\"},\"colorscale\":[[0.0,\"#0d0887\"],[0.1111111111111111,\"#46039f\"],[0.2222222222222222,\"#7201a8\"],[0.3333333333333333,\"#9c179e\"],[0.4444444444444444,\"#bd3786\"],[0.5555555555555556,\"#d8576b\"],[0.6666666666666666,\"#ed7953\"],[0.7777777777777778,\"#fb9f3a\"],[0.8888888888888888,\"#fdca26\"],[1.0,\"#f0f921\"]]}],\"heatmap\":[{\"type\":\"heatmap\",\"colorbar\":{\"outlinewidth\":0,\"ticks\":\"\"},\"colorscale\":[[0.0,\"#0d0887\"],[0.1111111111111111,\"#46039f\"],[0.2222222222222222,\"#7201a8\"],[0.3333333333333333,\"#9c179e\"],[0.4444444444444444,\"#bd3786\"],[0.5555555555555556,\"#d8576b\"],[0.6666666666666666,\"#ed7953\"],[0.7777777777777778,\"#fb9f3a\"],[0.8888888888888888,\"#fdca26\"],[1.0,\"#f0f921\"]]}],\"heatmapgl\":[{\"type\":\"heatmapgl\",\"colorbar\":{\"outlinewidth\":0,\"ticks\":\"\"},\"colorscale\":[[0.0,\"#0d0887\"],[0.1111111111111111,\"#46039f\"],[0.2222222222222222,\"#7201a8\"],[0.3333333333333333,\"#9c179e\"],[0.4444444444444444,\"#bd3786\"],[0.5555555555555556,\"#d8576b\"],[0.6666666666666666,\"#ed7953\"],[0.7777777777777778,\"#fb9f3a\"],[0.8888888888888888,\"#fdca26\"],[1.0,\"#f0f921\"]]}],\"contourcarpet\":[{\"type\":\"contourcarpet\",\"colorbar\":{\"outlinewidth\":0,\"ticks\":\"\"}}],\"contour\":[{\"type\":\"contour\",\"colorbar\":{\"outlinewidth\":0,\"ticks\":\"\"},\"colorscale\":[[0.0,\"#0d0887\"],[0.1111111111111111,\"#46039f\"],[0.2222222222222222,\"#7201a8\"],[0.3333333333333333,\"#9c179e\"],[0.4444444444444444,\"#bd3786\"],[0.5555555555555556,\"#d8576b\"],[0.6666666666666666,\"#ed7953\"],[0.7777777777777778,\"#fb9f3a\"],[0.8888888888888888,\"#fdca26\"],[1.0,\"#f0f921\"]]}],\"surface\":[{\"type\":\"surface\",\"colorbar\":{\"outlinewidth\":0,\"ticks\":\"\"},\"colorscale\":[[0.0,\"#0d0887\"],[0.1111111111111111,\"#46039f\"],[0.2222222222222222,\"#7201a8\"],[0.3333333333333333,\"#9c179e\"],[0.4444444444444444,\"#bd3786\"],[0.5555555555555556,\"#d8576b\"],[0.6666666666666666,\"#ed7953\"],[0.7777777777777778,\"#fb9f3a\"],[0.8888888888888888,\"#fdca26\"],[1.0,\"#f0f921\"]]}],\"mesh3d\":[{\"type\":\"mesh3d\",\"colorbar\":{\"outlinewidth\":0,\"ticks\":\"\"}}],\"scatter\":[{\"fillpattern\":{\"fillmode\":\"overlay\",\"size\":10,\"solidity\":0.2},\"type\":\"scatter\"}],\"parcoords\":[{\"type\":\"parcoords\",\"line\":{\"colorbar\":{\"outlinewidth\":0,\"ticks\":\"\"}}}],\"scatterpolargl\":[{\"type\":\"scatterpolargl\",\"marker\":{\"colorbar\":{\"outlinewidth\":0,\"ticks\":\"\"}}}],\"bar\":[{\"error_x\":{\"color\":\"#2a3f5f\"},\"error_y\":{\"color\":\"#2a3f5f\"},\"marker\":{\"line\":{\"color\":\"#E5ECF6\",\"width\":0.5},\"pattern\":{\"fillmode\":\"overlay\",\"size\":10,\"solidity\":0.2}},\"type\":\"bar\"}],\"scattergeo\":[{\"type\":\"scattergeo\",\"marker\":{\"colorbar\":{\"outlinewidth\":0,\"ticks\":\"\"}}}],\"scatterpolar\":[{\"type\":\"scatterpolar\",\"marker\":{\"colorbar\":{\"outlinewidth\":0,\"ticks\":\"\"}}}],\"histogram\":[{\"marker\":{\"pattern\":{\"fillmode\":\"overlay\",\"size\":10,\"solidity\":0.2}},\"type\":\"histogram\"}],\"scattergl\":[{\"type\":\"scattergl\",\"marker\":{\"colorbar\":{\"outlinewidth\":0,\"ticks\":\"\"}}}],\"scatter3d\":[{\"type\":\"scatter3d\",\"line\":{\"colorbar\":{\"outlinewidth\":0,\"ticks\":\"\"}},\"marker\":{\"colorbar\":{\"outlinewidth\":0,\"ticks\":\"\"}}}],\"scattermapbox\":[{\"type\":\"scattermapbox\",\"marker\":{\"colorbar\":{\"outlinewidth\":0,\"ticks\":\"\"}}}],\"scatterternary\":[{\"type\":\"scatterternary\",\"marker\":{\"colorbar\":{\"outlinewidth\":0,\"ticks\":\"\"}}}],\"scattercarpet\":[{\"type\":\"scattercarpet\",\"marker\":{\"colorbar\":{\"outlinewidth\":0,\"ticks\":\"\"}}}],\"carpet\":[{\"aaxis\":{\"endlinecolor\":\"#2a3f5f\",\"gridcolor\":\"white\",\"linecolor\":\"white\",\"minorgridcolor\":\"white\",\"startlinecolor\":\"#2a3f5f\"},\"baxis\":{\"endlinecolor\":\"#2a3f5f\",\"gridcolor\":\"white\",\"linecolor\":\"white\",\"minorgridcolor\":\"white\",\"startlinecolor\":\"#2a3f5f\"},\"type\":\"carpet\"}],\"table\":[{\"cells\":{\"fill\":{\"color\":\"#EBF0F8\"},\"line\":{\"color\":\"white\"}},\"header\":{\"fill\":{\"color\":\"#C8D4E3\"},\"line\":{\"color\":\"white\"}},\"type\":\"table\"}],\"barpolar\":[{\"marker\":{\"line\":{\"color\":\"#E5ECF6\",\"width\":0.5},\"pattern\":{\"fillmode\":\"overlay\",\"size\":10,\"solidity\":0.2}},\"type\":\"barpolar\"}],\"pie\":[{\"automargin\":true,\"type\":\"pie\"}]},\"layout\":{\"autotypenumbers\":\"strict\",\"colorway\":[\"#636efa\",\"#EF553B\",\"#00cc96\",\"#ab63fa\",\"#FFA15A\",\"#19d3f3\",\"#FF6692\",\"#B6E880\",\"#FF97FF\",\"#FECB52\"],\"font\":{\"color\":\"#2a3f5f\"},\"hovermode\":\"closest\",\"hoverlabel\":{\"align\":\"left\"},\"paper_bgcolor\":\"white\",\"plot_bgcolor\":\"#E5ECF6\",\"polar\":{\"bgcolor\":\"#E5ECF6\",\"angularaxis\":{\"gridcolor\":\"white\",\"linecolor\":\"white\",\"ticks\":\"\"},\"radialaxis\":{\"gridcolor\":\"white\",\"linecolor\":\"white\",\"ticks\":\"\"}},\"ternary\":{\"bgcolor\":\"#E5ECF6\",\"aaxis\":{\"gridcolor\":\"white\",\"linecolor\":\"white\",\"ticks\":\"\"},\"baxis\":{\"gridcolor\":\"white\",\"linecolor\":\"white\",\"ticks\":\"\"},\"caxis\":{\"gridcolor\":\"white\",\"linecolor\":\"white\",\"ticks\":\"\"}},\"coloraxis\":{\"colorbar\":{\"outlinewidth\":0,\"ticks\":\"\"}},\"colorscale\":{\"sequential\":[[0.0,\"#0d0887\"],[0.1111111111111111,\"#46039f\"],[0.2222222222222222,\"#7201a8\"],[0.3333333333333333,\"#9c179e\"],[0.4444444444444444,\"#bd3786\"],[0.5555555555555556,\"#d8576b\"],[0.6666666666666666,\"#ed7953\"],[0.7777777777777778,\"#fb9f3a\"],[0.8888888888888888,\"#fdca26\"],[1.0,\"#f0f921\"]],\"sequentialminus\":[[0.0,\"#0d0887\"],[0.1111111111111111,\"#46039f\"],[0.2222222222222222,\"#7201a8\"],[0.3333333333333333,\"#9c179e\"],[0.4444444444444444,\"#bd3786\"],[0.5555555555555556,\"#d8576b\"],[0.6666666666666666,\"#ed7953\"],[0.7777777777777778,\"#fb9f3a\"],[0.8888888888888888,\"#fdca26\"],[1.0,\"#f0f921\"]],\"diverging\":[[0,\"#8e0152\"],[0.1,\"#c51b7d\"],[0.2,\"#de77ae\"],[0.3,\"#f1b6da\"],[0.4,\"#fde0ef\"],[0.5,\"#f7f7f7\"],[0.6,\"#e6f5d0\"],[0.7,\"#b8e186\"],[0.8,\"#7fbc41\"],[0.9,\"#4d9221\"],[1,\"#276419\"]]},\"xaxis\":{\"gridcolor\":\"white\",\"linecolor\":\"white\",\"ticks\":\"\",\"title\":{\"standoff\":15},\"zerolinecolor\":\"white\",\"automargin\":true,\"zerolinewidth\":2},\"yaxis\":{\"gridcolor\":\"white\",\"linecolor\":\"white\",\"ticks\":\"\",\"title\":{\"standoff\":15},\"zerolinecolor\":\"white\",\"automargin\":true,\"zerolinewidth\":2},\"scene\":{\"xaxis\":{\"backgroundcolor\":\"#E5ECF6\",\"gridcolor\":\"white\",\"linecolor\":\"white\",\"showbackground\":true,\"ticks\":\"\",\"zerolinecolor\":\"white\",\"gridwidth\":2},\"yaxis\":{\"backgroundcolor\":\"#E5ECF6\",\"gridcolor\":\"white\",\"linecolor\":\"white\",\"showbackground\":true,\"ticks\":\"\",\"zerolinecolor\":\"white\",\"gridwidth\":2},\"zaxis\":{\"backgroundcolor\":\"#E5ECF6\",\"gridcolor\":\"white\",\"linecolor\":\"white\",\"showbackground\":true,\"ticks\":\"\",\"zerolinecolor\":\"white\",\"gridwidth\":2}},\"shapedefaults\":{\"line\":{\"color\":\"#2a3f5f\"}},\"annotationdefaults\":{\"arrowcolor\":\"#2a3f5f\",\"arrowhead\":0,\"arrowwidth\":1},\"geo\":{\"bgcolor\":\"white\",\"landcolor\":\"#E5ECF6\",\"subunitcolor\":\"white\",\"showland\":true,\"showlakes\":true,\"lakecolor\":\"white\"},\"title\":{\"x\":0.05},\"mapbox\":{\"style\":\"light\"}}},\"xaxis\":{\"rangeslider\":{\"visible\":true},\"title\":{\"text\":\"Ann\\u00e9e\"}},\"title\":{\"text\":\"Besoin d'\\u00e9nergie de chauffage par vecteur \\u00e9nerg\\u00e9tique (en TWh)\"},\"yaxis\":{\"title\":{\"text\":\"Besoin [TWh]\"}}},                        {\"responsive\": true}                    ).then(function(){\n",
       "                            \n",
       "var gd = document.getElementById('b0be716c-534d-4f85-9ccb-e84ce7632c28');\n",
       "var x = new MutationObserver(function (mutations, observer) {{\n",
       "        var display = window.getComputedStyle(gd).display;\n",
       "        if (!display || display === 'none') {{\n",
       "            console.log([gd, 'removed!']);\n",
       "            Plotly.purge(gd);\n",
       "            observer.disconnect();\n",
       "        }}\n",
       "}});\n",
       "\n",
       "// Listen for the removal of the full notebook cells\n",
       "var notebookContainer = gd.closest('#notebook-container');\n",
       "if (notebookContainer) {{\n",
       "    x.observe(notebookContainer, {childList: true});\n",
       "}}\n",
       "\n",
       "// Listen for the clearing of the current output cell\n",
       "var outputEl = gd.closest('.output');\n",
       "if (outputEl) {{\n",
       "    x.observe(outputEl, {childList: true});\n",
       "}}\n",
       "\n",
       "                        })                };                });            </script>        </div>"
      ]
     },
     "metadata": {},
     "output_type": "display_data"
    }
   ],
   "source": [
    "Var = \"Besoin\"\n",
    "y_df = sim_stock_df.groupby([\"year\", \"building_type\"])[Var].sum().to_frame().reset_index(). \\\n",
    "           pivot(index=['year'], columns='building_type').loc[[year for year in sim_param[\"years\"][1:]], Var] / 10 ** 9\n",
    "fig = MyStackedPlotly(y_df=y_df)\n",
    "fig = fig.update_layout(title_text=\"Besoin d'énergie de chauffage par vecteur énergétique (en TWh)\", xaxis_title=\"Année\",\n",
    "                        yaxis_title=\"Besoin [TWh]\")\n",
    "fig.show()"
   ]
  },
  {
   "cell_type": "markdown",
   "metadata": {
    "pycharm": {
     "name": "#%% md\n"
    }
   },
   "source": [
    "But it is also possible to plot the evolution of energy consumption or GHG emissions due to heating."
   ]
  },
  {
   "cell_type": "code",
   "execution_count": 169,
   "metadata": {
    "pycharm": {
     "name": "#%%\n"
    }
   },
   "outputs": [
    {
     "data": {
      "application/vnd.plotly.v1+json": {
       "config": {
        "plotlyServerURL": "https://plot.ly"
       },
       "data": [
        {
         "fill": "tozeroy",
         "mode": "none",
         "name": "Biomasse",
         "type": "scatter",
         "x": [
          2021,
          2022,
          2023,
          2024,
          2025,
          2026,
          2027,
          2028,
          2029,
          2030,
          2031,
          2032,
          2033,
          2034,
          2035,
          2036,
          2037,
          2038,
          2039,
          2040,
          2041,
          2042,
          2043,
          2044,
          2045,
          2046,
          2047,
          2048,
          2049
         ],
         "y": [
          67.50015945258465,
          67.51569422865556,
          67.70475227201428,
          67.88609452850011,
          68.05972099811304,
          68.32168523401833,
          68.57146664854535,
          68.80906524169413,
          69.0344810134646,
          69.24771396385682,
          69.52918414447637,
          69.79359837516634,
          70.04095665592672,
          70.27125898675756,
          70.48450536765878,
          70.56858698093237,
          70.64535890137897,
          70.71482112899864,
          70.77697366379132,
          70.83181650575705,
          70.86350527184956,
          70.89032090939078,
          70.91226341838066,
          70.92933279881926,
          70.94152905070656,
          70.94519061237455,
          70.94641560976687,
          70.94520404288356,
          70.94155591172459
         ]
        },
        {
         "fill": "tonexty",
         "mode": "none",
         "name": "Chaudière fioul",
         "type": "scatter",
         "x": [
          2021,
          2022,
          2023,
          2024,
          2025,
          2026,
          2027,
          2028,
          2029,
          2030,
          2031,
          2032,
          2033,
          2034,
          2035,
          2036,
          2037,
          2038,
          2039,
          2040,
          2041,
          2042,
          2043,
          2044,
          2045,
          2046,
          2047,
          2048,
          2049
         ],
         "y": [
          140.99963820986966,
          140.83096376599752,
          138.68670502341067,
          136.53473049395095,
          134.3750401776183,
          130.95282001466222,
          127.51841703032783,
          124.0718312246152,
          120.61306259752426,
          117.14211114905508,
          112.26572317126868,
          107.37227924355267,
          102.46177936590709,
          97.53422353833197,
          92.58961176082721,
          90.46318273478396,
          88.32944401591372,
          86.18839560421654,
          84.04003749969239,
          81.88436970234127,
          80.44238470888922,
          78.99552658688587,
          77.5437953363312,
          76.08719095722523,
          74.62571344956798,
          73.89253813146368,
          73.15692624908372,
          72.41887780242813,
          71.67839279149688
         ]
        },
        {
         "fill": "tonexty",
         "mode": "none",
         "name": "Chaudière gaz",
         "type": "scatter",
         "x": [
          2021,
          2022,
          2023,
          2024,
          2025,
          2026,
          2027,
          2028,
          2029,
          2030,
          2031,
          2032,
          2033,
          2034,
          2035,
          2036,
          2037,
          2038,
          2039,
          2040,
          2041,
          2042,
          2043,
          2044,
          2045,
          2046,
          2047,
          2048,
          2049
         ],
         "y": [
          306.7768747261174,
          306.26098725336044,
          299.7165694089498,
          293.16230837504975,
          286.5982041516604,
          276.2182871839572,
          265.82282833811286,
          255.4118276141275,
          244.98528501200104,
          234.54320053173353,
          219.90252362996148,
          205.2400880987919,
          190.55589393822484,
          175.8499411482603,
          161.12222972889816,
          154.80102827942977,
          148.47050170307674,
          142.13064999983905,
          135.78147316971672,
          129.42297121270974,
          125.17775315678198,
          120.92631834959779,
          116.6686667911572,
          112.40479848146015,
          108.13471342050669,
          105.99656251440172,
          103.85530323266855,
          101.71093557530716,
          99.56345954231756
         ]
        },
        {
         "fill": "tonexty",
         "mode": "none",
         "name": "Chauffage urbain",
         "type": "scatter",
         "x": [
          2021,
          2022,
          2023,
          2024,
          2025,
          2026,
          2027,
          2028,
          2029,
          2030,
          2031,
          2032,
          2033,
          2034,
          2035,
          2036,
          2037,
          2038,
          2039,
          2040,
          2041,
          2042,
          2043,
          2044,
          2045,
          2046,
          2047,
          2048,
          2049
         ],
         "y": [
          331.7926299527913,
          331.42226342913915,
          326.71484672093226,
          321.99132260411227,
          317.25169107867924,
          309.74262960386966,
          302.20813537861824,
          294.6482084029252,
          287.06284867679045,
          279.4520562002141,
          268.76134088238865,
          258.03501971394485,
          247.27309269488273,
          236.47555982520225,
          225.6424211049033,
          220.98438771736733,
          216.31109467956634,
          211.62254199150033,
          206.9187296531693,
          202.19965766457327,
          199.0434365719992,
          195.8770423792485,
          192.7004750863211,
          189.51373469321703,
          186.31682119993627,
          184.71327790320748,
          183.10464805639046,
          181.49093165948506,
          179.8721287124913
         ]
        },
        {
         "fill": "tonexty",
         "mode": "none",
         "name": "Chauffage électrique",
         "type": "scatter",
         "x": [
          2021,
          2022,
          2023,
          2024,
          2025,
          2026,
          2027,
          2028,
          2029,
          2030,
          2031,
          2032,
          2033,
          2034,
          2035,
          2036,
          2037,
          2038,
          2039,
          2040,
          2041,
          2042,
          2043,
          2044,
          2045,
          2046,
          2047,
          2048,
          2049
         ],
         "y": [
          379.3438150449499,
          378.8866949529013,
          373.0792692090506,
          367.2546055539656,
          361.41270398764624,
          352.161431128351,
          342.8829405144751,
          333.5772321460188,
          324.24430602298185,
          314.8841621453645,
          301.7418558602873,
          288.56144471879736,
          275.34292872089475,
          262.0863078665794,
          248.79158215585116,
          243.07751191279078,
          237.34711101698207,
          231.60037946842505,
          225.8373172671197,
          220.05792441306605,
          216.19410874186468,
          212.31940596883118,
          208.43381609396542,
          204.53733911726746,
          200.62997503873726,
          198.670849448556,
          196.7062803074587,
          194.7362676154453,
          192.76081137251578
         ]
        },
        {
         "fill": "tonexty",
         "mode": "none",
         "name": "Pompes à chaleur air-air",
         "type": "scatter",
         "x": [
          2021,
          2022,
          2023,
          2024,
          2025,
          2026,
          2027,
          2028,
          2029,
          2030,
          2031,
          2032,
          2033,
          2034,
          2035,
          2036,
          2037,
          2038,
          2039,
          2040,
          2041,
          2042,
          2043,
          2044,
          2045,
          2046,
          2047,
          2048,
          2049
         ],
         "y": [
          381.08915289795306,
          380.66352719495393,
          375.2538412177573,
          369.8257281680201,
          364.3791880457423,
          355.75029247497645,
          347.09230152651475,
          338.40521520035753,
          329.68903349650446,
          320.9437564149558,
          308.65963497201363,
          296.3347800002975,
          283.96919149980744,
          271.5628694705434,
          259.11581391250525,
          253.76390430387153,
          248.39453746862037,
          243.0077134067518,
          237.60343211826583,
          232.18169360316244,
          228.55556310868187,
          224.91779446312307,
          221.26838766648598,
          217.6073427187706,
          213.93465961997694,
          212.0924989950409,
          210.2445192945658,
          208.39072051855157,
          206.53110266699818
         ]
        },
        {
         "fill": "tonexty",
         "mode": "none",
         "name": "Pompes à chaleur air-eau",
         "type": "scatter",
         "x": [
          2021,
          2022,
          2023,
          2024,
          2025,
          2026,
          2027,
          2028,
          2029,
          2030,
          2031,
          2032,
          2033,
          2034,
          2035,
          2036,
          2037,
          2038,
          2039,
          2040,
          2041,
          2042,
          2043,
          2044,
          2045,
          2046,
          2047,
          2048,
          2049
         ],
         "y": [
          383.3759658592657,
          382.98255184235006,
          377.97992350123957,
          372.95791103328406,
          367.9165144384838,
          359.92580803588595,
          351.90449511721704,
          343.8525756824773,
          335.77004973166646,
          327.6569172647848,
          316.25568268865095,
          304.8115989900178,
          293.3246661688853,
          281.79488422525344,
          270.22225315912215,
          265.2441902211376,
          260.24776337351045,
          255.23297261624077,
          250.1998179493285,
          245.14829937277364,
          241.76837771530865,
          238.3762134514153,
          234.97180658109357,
          231.55515710434344,
          228.12626502116493,
          226.4056976763614,
          224.67900902834376,
          222.94619907711194,
          221.2072678226659
         ]
        },
        {
         "fill": "tonexty",
         "mode": "none",
         "name": "Pompes à chaleur hybride",
         "type": "scatter",
         "x": [
          2021,
          2022,
          2023,
          2024,
          2025,
          2026,
          2027,
          2028,
          2029,
          2030,
          2031,
          2032,
          2033,
          2034,
          2035,
          2036,
          2037,
          2038,
          2039,
          2040,
          2041,
          2042,
          2043,
          2044,
          2045,
          2046,
          2047,
          2048,
          2049
         ],
         "y": [
          383.37596585926565,
          382.98255184235,
          377.97992350123945,
          372.95791103328406,
          367.9165144384837,
          359.92580803588595,
          351.90449511721704,
          343.8525756824773,
          335.77004973166646,
          327.65691726478474,
          316.25568268865095,
          304.8115989900178,
          293.3246661688853,
          281.79488422525344,
          270.22225315912215,
          265.2441902211376,
          260.2477633735105,
          255.23297261624077,
          250.1998179493285,
          245.1482993727736,
          241.76837771530865,
          238.3762134514153,
          234.97180658109357,
          231.5551571043434,
          228.12626502116493,
          226.40569767636143,
          224.67900902834376,
          222.94619907711194,
          221.20726782266587
         ]
        }
       ],
       "layout": {
        "template": {
         "data": {
          "bar": [
           {
            "error_x": {
             "color": "#2a3f5f"
            },
            "error_y": {
             "color": "#2a3f5f"
            },
            "marker": {
             "line": {
              "color": "#E5ECF6",
              "width": 0.5
             },
             "pattern": {
              "fillmode": "overlay",
              "size": 10,
              "solidity": 0.2
             }
            },
            "type": "bar"
           }
          ],
          "barpolar": [
           {
            "marker": {
             "line": {
              "color": "#E5ECF6",
              "width": 0.5
             },
             "pattern": {
              "fillmode": "overlay",
              "size": 10,
              "solidity": 0.2
             }
            },
            "type": "barpolar"
           }
          ],
          "carpet": [
           {
            "aaxis": {
             "endlinecolor": "#2a3f5f",
             "gridcolor": "white",
             "linecolor": "white",
             "minorgridcolor": "white",
             "startlinecolor": "#2a3f5f"
            },
            "baxis": {
             "endlinecolor": "#2a3f5f",
             "gridcolor": "white",
             "linecolor": "white",
             "minorgridcolor": "white",
             "startlinecolor": "#2a3f5f"
            },
            "type": "carpet"
           }
          ],
          "choropleth": [
           {
            "colorbar": {
             "outlinewidth": 0,
             "ticks": ""
            },
            "type": "choropleth"
           }
          ],
          "contour": [
           {
            "colorbar": {
             "outlinewidth": 0,
             "ticks": ""
            },
            "colorscale": [
             [
              0,
              "#0d0887"
             ],
             [
              0.1111111111111111,
              "#46039f"
             ],
             [
              0.2222222222222222,
              "#7201a8"
             ],
             [
              0.3333333333333333,
              "#9c179e"
             ],
             [
              0.4444444444444444,
              "#bd3786"
             ],
             [
              0.5555555555555556,
              "#d8576b"
             ],
             [
              0.6666666666666666,
              "#ed7953"
             ],
             [
              0.7777777777777778,
              "#fb9f3a"
             ],
             [
              0.8888888888888888,
              "#fdca26"
             ],
             [
              1,
              "#f0f921"
             ]
            ],
            "type": "contour"
           }
          ],
          "contourcarpet": [
           {
            "colorbar": {
             "outlinewidth": 0,
             "ticks": ""
            },
            "type": "contourcarpet"
           }
          ],
          "heatmap": [
           {
            "colorbar": {
             "outlinewidth": 0,
             "ticks": ""
            },
            "colorscale": [
             [
              0,
              "#0d0887"
             ],
             [
              0.1111111111111111,
              "#46039f"
             ],
             [
              0.2222222222222222,
              "#7201a8"
             ],
             [
              0.3333333333333333,
              "#9c179e"
             ],
             [
              0.4444444444444444,
              "#bd3786"
             ],
             [
              0.5555555555555556,
              "#d8576b"
             ],
             [
              0.6666666666666666,
              "#ed7953"
             ],
             [
              0.7777777777777778,
              "#fb9f3a"
             ],
             [
              0.8888888888888888,
              "#fdca26"
             ],
             [
              1,
              "#f0f921"
             ]
            ],
            "type": "heatmap"
           }
          ],
          "heatmapgl": [
           {
            "colorbar": {
             "outlinewidth": 0,
             "ticks": ""
            },
            "colorscale": [
             [
              0,
              "#0d0887"
             ],
             [
              0.1111111111111111,
              "#46039f"
             ],
             [
              0.2222222222222222,
              "#7201a8"
             ],
             [
              0.3333333333333333,
              "#9c179e"
             ],
             [
              0.4444444444444444,
              "#bd3786"
             ],
             [
              0.5555555555555556,
              "#d8576b"
             ],
             [
              0.6666666666666666,
              "#ed7953"
             ],
             [
              0.7777777777777778,
              "#fb9f3a"
             ],
             [
              0.8888888888888888,
              "#fdca26"
             ],
             [
              1,
              "#f0f921"
             ]
            ],
            "type": "heatmapgl"
           }
          ],
          "histogram": [
           {
            "marker": {
             "pattern": {
              "fillmode": "overlay",
              "size": 10,
              "solidity": 0.2
             }
            },
            "type": "histogram"
           }
          ],
          "histogram2d": [
           {
            "colorbar": {
             "outlinewidth": 0,
             "ticks": ""
            },
            "colorscale": [
             [
              0,
              "#0d0887"
             ],
             [
              0.1111111111111111,
              "#46039f"
             ],
             [
              0.2222222222222222,
              "#7201a8"
             ],
             [
              0.3333333333333333,
              "#9c179e"
             ],
             [
              0.4444444444444444,
              "#bd3786"
             ],
             [
              0.5555555555555556,
              "#d8576b"
             ],
             [
              0.6666666666666666,
              "#ed7953"
             ],
             [
              0.7777777777777778,
              "#fb9f3a"
             ],
             [
              0.8888888888888888,
              "#fdca26"
             ],
             [
              1,
              "#f0f921"
             ]
            ],
            "type": "histogram2d"
           }
          ],
          "histogram2dcontour": [
           {
            "colorbar": {
             "outlinewidth": 0,
             "ticks": ""
            },
            "colorscale": [
             [
              0,
              "#0d0887"
             ],
             [
              0.1111111111111111,
              "#46039f"
             ],
             [
              0.2222222222222222,
              "#7201a8"
             ],
             [
              0.3333333333333333,
              "#9c179e"
             ],
             [
              0.4444444444444444,
              "#bd3786"
             ],
             [
              0.5555555555555556,
              "#d8576b"
             ],
             [
              0.6666666666666666,
              "#ed7953"
             ],
             [
              0.7777777777777778,
              "#fb9f3a"
             ],
             [
              0.8888888888888888,
              "#fdca26"
             ],
             [
              1,
              "#f0f921"
             ]
            ],
            "type": "histogram2dcontour"
           }
          ],
          "mesh3d": [
           {
            "colorbar": {
             "outlinewidth": 0,
             "ticks": ""
            },
            "type": "mesh3d"
           }
          ],
          "parcoords": [
           {
            "line": {
             "colorbar": {
              "outlinewidth": 0,
              "ticks": ""
             }
            },
            "type": "parcoords"
           }
          ],
          "pie": [
           {
            "automargin": true,
            "type": "pie"
           }
          ],
          "scatter": [
           {
            "fillpattern": {
             "fillmode": "overlay",
             "size": 10,
             "solidity": 0.2
            },
            "type": "scatter"
           }
          ],
          "scatter3d": [
           {
            "line": {
             "colorbar": {
              "outlinewidth": 0,
              "ticks": ""
             }
            },
            "marker": {
             "colorbar": {
              "outlinewidth": 0,
              "ticks": ""
             }
            },
            "type": "scatter3d"
           }
          ],
          "scattercarpet": [
           {
            "marker": {
             "colorbar": {
              "outlinewidth": 0,
              "ticks": ""
             }
            },
            "type": "scattercarpet"
           }
          ],
          "scattergeo": [
           {
            "marker": {
             "colorbar": {
              "outlinewidth": 0,
              "ticks": ""
             }
            },
            "type": "scattergeo"
           }
          ],
          "scattergl": [
           {
            "marker": {
             "colorbar": {
              "outlinewidth": 0,
              "ticks": ""
             }
            },
            "type": "scattergl"
           }
          ],
          "scattermapbox": [
           {
            "marker": {
             "colorbar": {
              "outlinewidth": 0,
              "ticks": ""
             }
            },
            "type": "scattermapbox"
           }
          ],
          "scatterpolar": [
           {
            "marker": {
             "colorbar": {
              "outlinewidth": 0,
              "ticks": ""
             }
            },
            "type": "scatterpolar"
           }
          ],
          "scatterpolargl": [
           {
            "marker": {
             "colorbar": {
              "outlinewidth": 0,
              "ticks": ""
             }
            },
            "type": "scatterpolargl"
           }
          ],
          "scatterternary": [
           {
            "marker": {
             "colorbar": {
              "outlinewidth": 0,
              "ticks": ""
             }
            },
            "type": "scatterternary"
           }
          ],
          "surface": [
           {
            "colorbar": {
             "outlinewidth": 0,
             "ticks": ""
            },
            "colorscale": [
             [
              0,
              "#0d0887"
             ],
             [
              0.1111111111111111,
              "#46039f"
             ],
             [
              0.2222222222222222,
              "#7201a8"
             ],
             [
              0.3333333333333333,
              "#9c179e"
             ],
             [
              0.4444444444444444,
              "#bd3786"
             ],
             [
              0.5555555555555556,
              "#d8576b"
             ],
             [
              0.6666666666666666,
              "#ed7953"
             ],
             [
              0.7777777777777778,
              "#fb9f3a"
             ],
             [
              0.8888888888888888,
              "#fdca26"
             ],
             [
              1,
              "#f0f921"
             ]
            ],
            "type": "surface"
           }
          ],
          "table": [
           {
            "cells": {
             "fill": {
              "color": "#EBF0F8"
             },
             "line": {
              "color": "white"
             }
            },
            "header": {
             "fill": {
              "color": "#C8D4E3"
             },
             "line": {
              "color": "white"
             }
            },
            "type": "table"
           }
          ]
         },
         "layout": {
          "annotationdefaults": {
           "arrowcolor": "#2a3f5f",
           "arrowhead": 0,
           "arrowwidth": 1
          },
          "autotypenumbers": "strict",
          "coloraxis": {
           "colorbar": {
            "outlinewidth": 0,
            "ticks": ""
           }
          },
          "colorscale": {
           "diverging": [
            [
             0,
             "#8e0152"
            ],
            [
             0.1,
             "#c51b7d"
            ],
            [
             0.2,
             "#de77ae"
            ],
            [
             0.3,
             "#f1b6da"
            ],
            [
             0.4,
             "#fde0ef"
            ],
            [
             0.5,
             "#f7f7f7"
            ],
            [
             0.6,
             "#e6f5d0"
            ],
            [
             0.7,
             "#b8e186"
            ],
            [
             0.8,
             "#7fbc41"
            ],
            [
             0.9,
             "#4d9221"
            ],
            [
             1,
             "#276419"
            ]
           ],
           "sequential": [
            [
             0,
             "#0d0887"
            ],
            [
             0.1111111111111111,
             "#46039f"
            ],
            [
             0.2222222222222222,
             "#7201a8"
            ],
            [
             0.3333333333333333,
             "#9c179e"
            ],
            [
             0.4444444444444444,
             "#bd3786"
            ],
            [
             0.5555555555555556,
             "#d8576b"
            ],
            [
             0.6666666666666666,
             "#ed7953"
            ],
            [
             0.7777777777777778,
             "#fb9f3a"
            ],
            [
             0.8888888888888888,
             "#fdca26"
            ],
            [
             1,
             "#f0f921"
            ]
           ],
           "sequentialminus": [
            [
             0,
             "#0d0887"
            ],
            [
             0.1111111111111111,
             "#46039f"
            ],
            [
             0.2222222222222222,
             "#7201a8"
            ],
            [
             0.3333333333333333,
             "#9c179e"
            ],
            [
             0.4444444444444444,
             "#bd3786"
            ],
            [
             0.5555555555555556,
             "#d8576b"
            ],
            [
             0.6666666666666666,
             "#ed7953"
            ],
            [
             0.7777777777777778,
             "#fb9f3a"
            ],
            [
             0.8888888888888888,
             "#fdca26"
            ],
            [
             1,
             "#f0f921"
            ]
           ]
          },
          "colorway": [
           "#636efa",
           "#EF553B",
           "#00cc96",
           "#ab63fa",
           "#FFA15A",
           "#19d3f3",
           "#FF6692",
           "#B6E880",
           "#FF97FF",
           "#FECB52"
          ],
          "font": {
           "color": "#2a3f5f"
          },
          "geo": {
           "bgcolor": "white",
           "lakecolor": "white",
           "landcolor": "#E5ECF6",
           "showlakes": true,
           "showland": true,
           "subunitcolor": "white"
          },
          "hoverlabel": {
           "align": "left"
          },
          "hovermode": "closest",
          "mapbox": {
           "style": "light"
          },
          "paper_bgcolor": "white",
          "plot_bgcolor": "#E5ECF6",
          "polar": {
           "angularaxis": {
            "gridcolor": "white",
            "linecolor": "white",
            "ticks": ""
           },
           "bgcolor": "#E5ECF6",
           "radialaxis": {
            "gridcolor": "white",
            "linecolor": "white",
            "ticks": ""
           }
          },
          "scene": {
           "xaxis": {
            "backgroundcolor": "#E5ECF6",
            "gridcolor": "white",
            "gridwidth": 2,
            "linecolor": "white",
            "showbackground": true,
            "ticks": "",
            "zerolinecolor": "white"
           },
           "yaxis": {
            "backgroundcolor": "#E5ECF6",
            "gridcolor": "white",
            "gridwidth": 2,
            "linecolor": "white",
            "showbackground": true,
            "ticks": "",
            "zerolinecolor": "white"
           },
           "zaxis": {
            "backgroundcolor": "#E5ECF6",
            "gridcolor": "white",
            "gridwidth": 2,
            "linecolor": "white",
            "showbackground": true,
            "ticks": "",
            "zerolinecolor": "white"
           }
          },
          "shapedefaults": {
           "line": {
            "color": "#2a3f5f"
           }
          },
          "ternary": {
           "aaxis": {
            "gridcolor": "white",
            "linecolor": "white",
            "ticks": ""
           },
           "baxis": {
            "gridcolor": "white",
            "linecolor": "white",
            "ticks": ""
           },
           "bgcolor": "#E5ECF6",
           "caxis": {
            "gridcolor": "white",
            "linecolor": "white",
            "ticks": ""
           }
          },
          "title": {
           "x": 0.05
          },
          "xaxis": {
           "automargin": true,
           "gridcolor": "white",
           "linecolor": "white",
           "ticks": "",
           "title": {
            "standoff": 15
           },
           "zerolinecolor": "white",
           "zerolinewidth": 2
          },
          "yaxis": {
           "automargin": true,
           "gridcolor": "white",
           "linecolor": "white",
           "ticks": "",
           "title": {
            "standoff": 15
           },
           "zerolinecolor": "white",
           "zerolinewidth": 2
          }
         }
        },
        "title": {
         "text": "Conso d'énergie par mode de chauffage (en TWh)"
        },
        "xaxis": {
         "rangeslider": {
          "visible": true
         },
         "title": {
          "text": "Année"
         }
        },
        "yaxis": {
         "title": {
          "text": "Consommation [TWh]"
         }
        }
       }
      },
      "text/html": [
       "<div>                            <div id=\"74a1643f-1dc3-402d-a761-9c105500e08e\" class=\"plotly-graph-div\" style=\"height:525px; width:100%;\"></div>            <script type=\"text/javascript\">                require([\"plotly\"], function(Plotly) {                    window.PLOTLYENV=window.PLOTLYENV || {};                                    if (document.getElementById(\"74a1643f-1dc3-402d-a761-9c105500e08e\")) {                    Plotly.newPlot(                        \"74a1643f-1dc3-402d-a761-9c105500e08e\",                        [{\"fill\":\"tozeroy\",\"mode\":\"none\",\"name\":\"Biomasse\",\"x\":[2021,2022,2023,2024,2025,2026,2027,2028,2029,2030,2031,2032,2033,2034,2035,2036,2037,2038,2039,2040,2041,2042,2043,2044,2045,2046,2047,2048,2049],\"y\":[67.50015945258465,67.51569422865556,67.70475227201428,67.88609452850011,68.05972099811304,68.32168523401833,68.57146664854535,68.80906524169413,69.0344810134646,69.24771396385682,69.52918414447637,69.79359837516634,70.04095665592672,70.27125898675756,70.48450536765878,70.56858698093237,70.64535890137897,70.71482112899864,70.77697366379132,70.83181650575705,70.86350527184956,70.89032090939078,70.91226341838066,70.92933279881926,70.94152905070656,70.94519061237455,70.94641560976687,70.94520404288356,70.94155591172459],\"type\":\"scatter\"},{\"fill\":\"tonexty\",\"mode\":\"none\",\"name\":\"Chaudi\\u00e8re fioul\",\"x\":[2021,2022,2023,2024,2025,2026,2027,2028,2029,2030,2031,2032,2033,2034,2035,2036,2037,2038,2039,2040,2041,2042,2043,2044,2045,2046,2047,2048,2049],\"y\":[140.99963820986966,140.83096376599752,138.68670502341067,136.53473049395095,134.3750401776183,130.95282001466222,127.51841703032783,124.0718312246152,120.61306259752426,117.14211114905508,112.26572317126868,107.37227924355267,102.46177936590709,97.53422353833197,92.58961176082721,90.46318273478396,88.32944401591372,86.18839560421654,84.04003749969239,81.88436970234127,80.44238470888922,78.99552658688587,77.5437953363312,76.08719095722523,74.62571344956798,73.89253813146368,73.15692624908372,72.41887780242813,71.67839279149688],\"type\":\"scatter\"},{\"fill\":\"tonexty\",\"mode\":\"none\",\"name\":\"Chaudi\\u00e8re gaz\",\"x\":[2021,2022,2023,2024,2025,2026,2027,2028,2029,2030,2031,2032,2033,2034,2035,2036,2037,2038,2039,2040,2041,2042,2043,2044,2045,2046,2047,2048,2049],\"y\":[306.7768747261174,306.26098725336044,299.7165694089498,293.16230837504975,286.5982041516604,276.2182871839572,265.82282833811286,255.4118276141275,244.98528501200104,234.54320053173353,219.90252362996148,205.2400880987919,190.55589393822484,175.8499411482603,161.12222972889816,154.80102827942977,148.47050170307674,142.13064999983905,135.78147316971672,129.42297121270974,125.17775315678198,120.92631834959779,116.6686667911572,112.40479848146015,108.13471342050669,105.99656251440172,103.85530323266855,101.71093557530716,99.56345954231756],\"type\":\"scatter\"},{\"fill\":\"tonexty\",\"mode\":\"none\",\"name\":\"Chauffage urbain\",\"x\":[2021,2022,2023,2024,2025,2026,2027,2028,2029,2030,2031,2032,2033,2034,2035,2036,2037,2038,2039,2040,2041,2042,2043,2044,2045,2046,2047,2048,2049],\"y\":[331.7926299527913,331.42226342913915,326.71484672093226,321.99132260411227,317.25169107867924,309.74262960386966,302.20813537861824,294.6482084029252,287.06284867679045,279.4520562002141,268.76134088238865,258.03501971394485,247.27309269488273,236.47555982520225,225.6424211049033,220.98438771736733,216.31109467956634,211.62254199150033,206.9187296531693,202.19965766457327,199.0434365719992,195.8770423792485,192.7004750863211,189.51373469321703,186.31682119993627,184.71327790320748,183.10464805639046,181.49093165948506,179.8721287124913],\"type\":\"scatter\"},{\"fill\":\"tonexty\",\"mode\":\"none\",\"name\":\"Chauffage \\u00e9lectrique\",\"x\":[2021,2022,2023,2024,2025,2026,2027,2028,2029,2030,2031,2032,2033,2034,2035,2036,2037,2038,2039,2040,2041,2042,2043,2044,2045,2046,2047,2048,2049],\"y\":[379.3438150449499,378.8866949529013,373.0792692090506,367.2546055539656,361.41270398764624,352.161431128351,342.8829405144751,333.5772321460188,324.24430602298185,314.8841621453645,301.7418558602873,288.56144471879736,275.34292872089475,262.0863078665794,248.79158215585116,243.07751191279078,237.34711101698207,231.60037946842505,225.8373172671197,220.05792441306605,216.19410874186468,212.31940596883118,208.43381609396542,204.53733911726746,200.62997503873726,198.670849448556,196.7062803074587,194.7362676154453,192.76081137251578],\"type\":\"scatter\"},{\"fill\":\"tonexty\",\"mode\":\"none\",\"name\":\"Pompes \\u00e0 chaleur air-air\",\"x\":[2021,2022,2023,2024,2025,2026,2027,2028,2029,2030,2031,2032,2033,2034,2035,2036,2037,2038,2039,2040,2041,2042,2043,2044,2045,2046,2047,2048,2049],\"y\":[381.08915289795306,380.66352719495393,375.2538412177573,369.8257281680201,364.3791880457423,355.75029247497645,347.09230152651475,338.40521520035753,329.68903349650446,320.9437564149558,308.65963497201363,296.3347800002975,283.96919149980744,271.5628694705434,259.11581391250525,253.76390430387153,248.39453746862037,243.0077134067518,237.60343211826583,232.18169360316244,228.55556310868187,224.91779446312307,221.26838766648598,217.6073427187706,213.93465961997694,212.0924989950409,210.2445192945658,208.39072051855157,206.53110266699818],\"type\":\"scatter\"},{\"fill\":\"tonexty\",\"mode\":\"none\",\"name\":\"Pompes \\u00e0 chaleur air-eau\",\"x\":[2021,2022,2023,2024,2025,2026,2027,2028,2029,2030,2031,2032,2033,2034,2035,2036,2037,2038,2039,2040,2041,2042,2043,2044,2045,2046,2047,2048,2049],\"y\":[383.3759658592657,382.98255184235006,377.97992350123957,372.95791103328406,367.9165144384838,359.92580803588595,351.90449511721704,343.8525756824773,335.77004973166646,327.6569172647848,316.25568268865095,304.8115989900178,293.3246661688853,281.79488422525344,270.22225315912215,265.2441902211376,260.24776337351045,255.23297261624077,250.1998179493285,245.14829937277364,241.76837771530865,238.3762134514153,234.97180658109357,231.55515710434344,228.12626502116493,226.4056976763614,224.67900902834376,222.94619907711194,221.2072678226659],\"type\":\"scatter\"},{\"fill\":\"tonexty\",\"mode\":\"none\",\"name\":\"Pompes \\u00e0 chaleur hybride\",\"x\":[2021,2022,2023,2024,2025,2026,2027,2028,2029,2030,2031,2032,2033,2034,2035,2036,2037,2038,2039,2040,2041,2042,2043,2044,2045,2046,2047,2048,2049],\"y\":[383.37596585926565,382.98255184235,377.97992350123945,372.95791103328406,367.9165144384837,359.92580803588595,351.90449511721704,343.8525756824773,335.77004973166646,327.65691726478474,316.25568268865095,304.8115989900178,293.3246661688853,281.79488422525344,270.22225315912215,265.2441902211376,260.2477633735105,255.23297261624077,250.1998179493285,245.1482993727736,241.76837771530865,238.3762134514153,234.97180658109357,231.5551571043434,228.12626502116493,226.40569767636143,224.67900902834376,222.94619907711194,221.20726782266587],\"type\":\"scatter\"}],                        {\"template\":{\"data\":{\"histogram2dcontour\":[{\"type\":\"histogram2dcontour\",\"colorbar\":{\"outlinewidth\":0,\"ticks\":\"\"},\"colorscale\":[[0.0,\"#0d0887\"],[0.1111111111111111,\"#46039f\"],[0.2222222222222222,\"#7201a8\"],[0.3333333333333333,\"#9c179e\"],[0.4444444444444444,\"#bd3786\"],[0.5555555555555556,\"#d8576b\"],[0.6666666666666666,\"#ed7953\"],[0.7777777777777778,\"#fb9f3a\"],[0.8888888888888888,\"#fdca26\"],[1.0,\"#f0f921\"]]}],\"choropleth\":[{\"type\":\"choropleth\",\"colorbar\":{\"outlinewidth\":0,\"ticks\":\"\"}}],\"histogram2d\":[{\"type\":\"histogram2d\",\"colorbar\":{\"outlinewidth\":0,\"ticks\":\"\"},\"colorscale\":[[0.0,\"#0d0887\"],[0.1111111111111111,\"#46039f\"],[0.2222222222222222,\"#7201a8\"],[0.3333333333333333,\"#9c179e\"],[0.4444444444444444,\"#bd3786\"],[0.5555555555555556,\"#d8576b\"],[0.6666666666666666,\"#ed7953\"],[0.7777777777777778,\"#fb9f3a\"],[0.8888888888888888,\"#fdca26\"],[1.0,\"#f0f921\"]]}],\"heatmap\":[{\"type\":\"heatmap\",\"colorbar\":{\"outlinewidth\":0,\"ticks\":\"\"},\"colorscale\":[[0.0,\"#0d0887\"],[0.1111111111111111,\"#46039f\"],[0.2222222222222222,\"#7201a8\"],[0.3333333333333333,\"#9c179e\"],[0.4444444444444444,\"#bd3786\"],[0.5555555555555556,\"#d8576b\"],[0.6666666666666666,\"#ed7953\"],[0.7777777777777778,\"#fb9f3a\"],[0.8888888888888888,\"#fdca26\"],[1.0,\"#f0f921\"]]}],\"heatmapgl\":[{\"type\":\"heatmapgl\",\"colorbar\":{\"outlinewidth\":0,\"ticks\":\"\"},\"colorscale\":[[0.0,\"#0d0887\"],[0.1111111111111111,\"#46039f\"],[0.2222222222222222,\"#7201a8\"],[0.3333333333333333,\"#9c179e\"],[0.4444444444444444,\"#bd3786\"],[0.5555555555555556,\"#d8576b\"],[0.6666666666666666,\"#ed7953\"],[0.7777777777777778,\"#fb9f3a\"],[0.8888888888888888,\"#fdca26\"],[1.0,\"#f0f921\"]]}],\"contourcarpet\":[{\"type\":\"contourcarpet\",\"colorbar\":{\"outlinewidth\":0,\"ticks\":\"\"}}],\"contour\":[{\"type\":\"contour\",\"colorbar\":{\"outlinewidth\":0,\"ticks\":\"\"},\"colorscale\":[[0.0,\"#0d0887\"],[0.1111111111111111,\"#46039f\"],[0.2222222222222222,\"#7201a8\"],[0.3333333333333333,\"#9c179e\"],[0.4444444444444444,\"#bd3786\"],[0.5555555555555556,\"#d8576b\"],[0.6666666666666666,\"#ed7953\"],[0.7777777777777778,\"#fb9f3a\"],[0.8888888888888888,\"#fdca26\"],[1.0,\"#f0f921\"]]}],\"surface\":[{\"type\":\"surface\",\"colorbar\":{\"outlinewidth\":0,\"ticks\":\"\"},\"colorscale\":[[0.0,\"#0d0887\"],[0.1111111111111111,\"#46039f\"],[0.2222222222222222,\"#7201a8\"],[0.3333333333333333,\"#9c179e\"],[0.4444444444444444,\"#bd3786\"],[0.5555555555555556,\"#d8576b\"],[0.6666666666666666,\"#ed7953\"],[0.7777777777777778,\"#fb9f3a\"],[0.8888888888888888,\"#fdca26\"],[1.0,\"#f0f921\"]]}],\"mesh3d\":[{\"type\":\"mesh3d\",\"colorbar\":{\"outlinewidth\":0,\"ticks\":\"\"}}],\"scatter\":[{\"fillpattern\":{\"fillmode\":\"overlay\",\"size\":10,\"solidity\":0.2},\"type\":\"scatter\"}],\"parcoords\":[{\"type\":\"parcoords\",\"line\":{\"colorbar\":{\"outlinewidth\":0,\"ticks\":\"\"}}}],\"scatterpolargl\":[{\"type\":\"scatterpolargl\",\"marker\":{\"colorbar\":{\"outlinewidth\":0,\"ticks\":\"\"}}}],\"bar\":[{\"error_x\":{\"color\":\"#2a3f5f\"},\"error_y\":{\"color\":\"#2a3f5f\"},\"marker\":{\"line\":{\"color\":\"#E5ECF6\",\"width\":0.5},\"pattern\":{\"fillmode\":\"overlay\",\"size\":10,\"solidity\":0.2}},\"type\":\"bar\"}],\"scattergeo\":[{\"type\":\"scattergeo\",\"marker\":{\"colorbar\":{\"outlinewidth\":0,\"ticks\":\"\"}}}],\"scatterpolar\":[{\"type\":\"scatterpolar\",\"marker\":{\"colorbar\":{\"outlinewidth\":0,\"ticks\":\"\"}}}],\"histogram\":[{\"marker\":{\"pattern\":{\"fillmode\":\"overlay\",\"size\":10,\"solidity\":0.2}},\"type\":\"histogram\"}],\"scattergl\":[{\"type\":\"scattergl\",\"marker\":{\"colorbar\":{\"outlinewidth\":0,\"ticks\":\"\"}}}],\"scatter3d\":[{\"type\":\"scatter3d\",\"line\":{\"colorbar\":{\"outlinewidth\":0,\"ticks\":\"\"}},\"marker\":{\"colorbar\":{\"outlinewidth\":0,\"ticks\":\"\"}}}],\"scattermapbox\":[{\"type\":\"scattermapbox\",\"marker\":{\"colorbar\":{\"outlinewidth\":0,\"ticks\":\"\"}}}],\"scatterternary\":[{\"type\":\"scatterternary\",\"marker\":{\"colorbar\":{\"outlinewidth\":0,\"ticks\":\"\"}}}],\"scattercarpet\":[{\"type\":\"scattercarpet\",\"marker\":{\"colorbar\":{\"outlinewidth\":0,\"ticks\":\"\"}}}],\"carpet\":[{\"aaxis\":{\"endlinecolor\":\"#2a3f5f\",\"gridcolor\":\"white\",\"linecolor\":\"white\",\"minorgridcolor\":\"white\",\"startlinecolor\":\"#2a3f5f\"},\"baxis\":{\"endlinecolor\":\"#2a3f5f\",\"gridcolor\":\"white\",\"linecolor\":\"white\",\"minorgridcolor\":\"white\",\"startlinecolor\":\"#2a3f5f\"},\"type\":\"carpet\"}],\"table\":[{\"cells\":{\"fill\":{\"color\":\"#EBF0F8\"},\"line\":{\"color\":\"white\"}},\"header\":{\"fill\":{\"color\":\"#C8D4E3\"},\"line\":{\"color\":\"white\"}},\"type\":\"table\"}],\"barpolar\":[{\"marker\":{\"line\":{\"color\":\"#E5ECF6\",\"width\":0.5},\"pattern\":{\"fillmode\":\"overlay\",\"size\":10,\"solidity\":0.2}},\"type\":\"barpolar\"}],\"pie\":[{\"automargin\":true,\"type\":\"pie\"}]},\"layout\":{\"autotypenumbers\":\"strict\",\"colorway\":[\"#636efa\",\"#EF553B\",\"#00cc96\",\"#ab63fa\",\"#FFA15A\",\"#19d3f3\",\"#FF6692\",\"#B6E880\",\"#FF97FF\",\"#FECB52\"],\"font\":{\"color\":\"#2a3f5f\"},\"hovermode\":\"closest\",\"hoverlabel\":{\"align\":\"left\"},\"paper_bgcolor\":\"white\",\"plot_bgcolor\":\"#E5ECF6\",\"polar\":{\"bgcolor\":\"#E5ECF6\",\"angularaxis\":{\"gridcolor\":\"white\",\"linecolor\":\"white\",\"ticks\":\"\"},\"radialaxis\":{\"gridcolor\":\"white\",\"linecolor\":\"white\",\"ticks\":\"\"}},\"ternary\":{\"bgcolor\":\"#E5ECF6\",\"aaxis\":{\"gridcolor\":\"white\",\"linecolor\":\"white\",\"ticks\":\"\"},\"baxis\":{\"gridcolor\":\"white\",\"linecolor\":\"white\",\"ticks\":\"\"},\"caxis\":{\"gridcolor\":\"white\",\"linecolor\":\"white\",\"ticks\":\"\"}},\"coloraxis\":{\"colorbar\":{\"outlinewidth\":0,\"ticks\":\"\"}},\"colorscale\":{\"sequential\":[[0.0,\"#0d0887\"],[0.1111111111111111,\"#46039f\"],[0.2222222222222222,\"#7201a8\"],[0.3333333333333333,\"#9c179e\"],[0.4444444444444444,\"#bd3786\"],[0.5555555555555556,\"#d8576b\"],[0.6666666666666666,\"#ed7953\"],[0.7777777777777778,\"#fb9f3a\"],[0.8888888888888888,\"#fdca26\"],[1.0,\"#f0f921\"]],\"sequentialminus\":[[0.0,\"#0d0887\"],[0.1111111111111111,\"#46039f\"],[0.2222222222222222,\"#7201a8\"],[0.3333333333333333,\"#9c179e\"],[0.4444444444444444,\"#bd3786\"],[0.5555555555555556,\"#d8576b\"],[0.6666666666666666,\"#ed7953\"],[0.7777777777777778,\"#fb9f3a\"],[0.8888888888888888,\"#fdca26\"],[1.0,\"#f0f921\"]],\"diverging\":[[0,\"#8e0152\"],[0.1,\"#c51b7d\"],[0.2,\"#de77ae\"],[0.3,\"#f1b6da\"],[0.4,\"#fde0ef\"],[0.5,\"#f7f7f7\"],[0.6,\"#e6f5d0\"],[0.7,\"#b8e186\"],[0.8,\"#7fbc41\"],[0.9,\"#4d9221\"],[1,\"#276419\"]]},\"xaxis\":{\"gridcolor\":\"white\",\"linecolor\":\"white\",\"ticks\":\"\",\"title\":{\"standoff\":15},\"zerolinecolor\":\"white\",\"automargin\":true,\"zerolinewidth\":2},\"yaxis\":{\"gridcolor\":\"white\",\"linecolor\":\"white\",\"ticks\":\"\",\"title\":{\"standoff\":15},\"zerolinecolor\":\"white\",\"automargin\":true,\"zerolinewidth\":2},\"scene\":{\"xaxis\":{\"backgroundcolor\":\"#E5ECF6\",\"gridcolor\":\"white\",\"linecolor\":\"white\",\"showbackground\":true,\"ticks\":\"\",\"zerolinecolor\":\"white\",\"gridwidth\":2},\"yaxis\":{\"backgroundcolor\":\"#E5ECF6\",\"gridcolor\":\"white\",\"linecolor\":\"white\",\"showbackground\":true,\"ticks\":\"\",\"zerolinecolor\":\"white\",\"gridwidth\":2},\"zaxis\":{\"backgroundcolor\":\"#E5ECF6\",\"gridcolor\":\"white\",\"linecolor\":\"white\",\"showbackground\":true,\"ticks\":\"\",\"zerolinecolor\":\"white\",\"gridwidth\":2}},\"shapedefaults\":{\"line\":{\"color\":\"#2a3f5f\"}},\"annotationdefaults\":{\"arrowcolor\":\"#2a3f5f\",\"arrowhead\":0,\"arrowwidth\":1},\"geo\":{\"bgcolor\":\"white\",\"landcolor\":\"#E5ECF6\",\"subunitcolor\":\"white\",\"showland\":true,\"showlakes\":true,\"lakecolor\":\"white\"},\"title\":{\"x\":0.05},\"mapbox\":{\"style\":\"light\"}}},\"xaxis\":{\"rangeslider\":{\"visible\":true},\"title\":{\"text\":\"Ann\\u00e9e\"}},\"title\":{\"text\":\"Conso d'\\u00e9nergie par mode de chauffage (en TWh)\"},\"yaxis\":{\"title\":{\"text\":\"Consommation [TWh]\"}}},                        {\"responsive\": true}                    ).then(function(){\n",
       "                            \n",
       "var gd = document.getElementById('74a1643f-1dc3-402d-a761-9c105500e08e');\n",
       "var x = new MutationObserver(function (mutations, observer) {{\n",
       "        var display = window.getComputedStyle(gd).display;\n",
       "        if (!display || display === 'none') {{\n",
       "            console.log([gd, 'removed!']);\n",
       "            Plotly.purge(gd);\n",
       "            observer.disconnect();\n",
       "        }}\n",
       "}});\n",
       "\n",
       "// Listen for the removal of the full notebook cells\n",
       "var notebookContainer = gd.closest('#notebook-container');\n",
       "if (notebookContainer) {{\n",
       "    x.observe(notebookContainer, {childList: true});\n",
       "}}\n",
       "\n",
       "// Listen for the clearing of the current output cell\n",
       "var outputEl = gd.closest('.output');\n",
       "if (outputEl) {{\n",
       "    x.observe(outputEl, {childList: true});\n",
       "}}\n",
       "\n",
       "                        })                };                });            </script>        </div>"
      ]
     },
     "metadata": {},
     "output_type": "display_data"
    }
   ],
   "source": [
    "Var = \"Conso\"\n",
    "y_df = sim_stock_df.groupby([\"year\", \"Energy_source\"])[Var].sum().to_frame().reset_index(). \\\n",
    "           pivot(index=['year'], columns='Energy_source').loc[[year for year in sim_param[\"years\"][1:]], Var] / 10 ** 9\n",
    "fig = MyStackedPlotly(y_df=y_df)\n",
    "fig = fig.update_layout(title_text=\"Conso d'énergie par mode de chauffage (en TWh)\", xaxis_title=\"Année\",\n",
    "                        yaxis_title=\"Consommation [TWh]\")\n",
    "fig.show()"
   ]
  },
  {
   "cell_type": "code",
   "execution_count": 170,
   "metadata": {
    "pycharm": {
     "name": "#%%\n"
    }
   },
   "outputs": [
    {
     "data": {
      "application/vnd.plotly.v1+json": {
       "config": {
        "plotlyServerURL": "https://plot.ly"
       },
       "data": [
        {
         "fill": "tozeroy",
         "mode": "none",
         "name": "Biomasse",
         "type": "scatter",
         "x": [
          2021,
          2022,
          2023,
          2024,
          2025,
          2026,
          2027,
          2028,
          2029,
          2030,
          2031,
          2032,
          2033,
          2034,
          2035,
          2036,
          2037,
          2038,
          2039,
          2040,
          2041,
          2042,
          2043,
          2044,
          2045,
          2046,
          2047,
          2048,
          2049
         ],
         "y": [
          1.8225043052197856,
          1.8229237441737003,
          1.8280283113443858,
          1.832924552269503,
          1.8376124669490517,
          1.8446855013184948,
          1.8514295995107246,
          1.857844761525741,
          1.8639309873635443,
          1.8696882770241345,
          1.8772879719008622,
          1.8844271561294912,
          1.891105829710022,
          1.8973239926424539,
          1.9030816449267873,
          1.9053518484851741,
          1.9074246903372325,
          1.9093001704829633,
          1.9109782889223654,
          1.9124590456554402,
          1.9133146423399383,
          1.9140386645535508,
          1.914631112296278,
          1.9150919855681199,
          1.9154212843690772,
          1.9155201465341123,
          1.9155532214637059,
          1.915520509157856,
          1.9154220096165637
         ]
        },
        {
         "fill": "tonexty",
         "mode": "none",
         "name": "Chaudière fioul",
         "type": "scatter",
         "x": [
          2021,
          2022,
          2023,
          2024,
          2025,
          2026,
          2027,
          2028,
          2029,
          2030,
          2031,
          2032,
          2033,
          2034,
          2035,
          2036,
          2037,
          2038,
          2039,
          2040,
          2041,
          2042,
          2043,
          2044,
          2045,
          2046,
          2047,
          2048,
          2049
         ],
         "y": [
          26.00383281636655,
          25.9436474219592,
          25.1810907665538,
          24.418325784902827,
          23.65535247700629,
          22.45032884415033,
          21.244976275117153,
          20.03929476990677,
          18.833284328519174,
          17.62694495095436,
          15.93760931171553,
          14.247813161828596,
          12.557556501293565,
          10.866839330110434,
          9.175661648279203,
          8.450673851502346,
          7.725488693019164,
          7.000106172829653,
          6.2745262909338155,
          5.54874904733165,
          5.064765977125987,
          4.580651332449437,
          4.096405113302006,
          3.612027319683687,
          3.127517951594483,
          2.8851974803144373,
          2.6428112217989503,
          2.4003591760480196,
          2.157841343061647
         ]
        },
        {
         "fill": "tonexty",
         "mode": "none",
         "name": "Chaudière gaz",
         "type": "scatter",
         "x": [
          2021,
          2022,
          2023,
          2024,
          2025,
          2026,
          2027,
          2028,
          2029,
          2030,
          2031,
          2032,
          2033,
          2034,
          2035,
          2036,
          2037,
          2038,
          2039,
          2040,
          2041,
          2042,
          2043,
          2044,
          2045,
          2046,
          2047,
          2048,
          2049
         ],
         "y": [
          63.635265505554784,
          63.49626275359059,
          61.734869982071174,
          59.972785963912266,
          58.21001069911384,
          55.42558989158029,
          52.64007764198436,
          49.85347395032607,
          47.0657788166054,
          44.27699224082236,
          40.371163015838796,
          36.4638057719679,
          32.554920509209694,
          28.644507227564166,
          24.73256592703131,
          23.05536479013695,
          21.377508788005166,
          19.69899792063596,
          18.01983218802934,
          16.34001159018529,
          15.21969461479764,
          14.098941062585045,
          12.977750933547505,
          11.85612422768501,
          10.73406094499757,
          10.172811015241374,
          9.611342797072703,
          9.049656290491559,
          8.48775149549794
         ]
        },
        {
         "fill": "tonexty",
         "mode": "none",
         "name": "Chauffage urbain",
         "type": "scatter",
         "x": [
          2021,
          2022,
          2023,
          2024,
          2025,
          2026,
          2027,
          2028,
          2029,
          2030,
          2031,
          2032,
          2033,
          2034,
          2035,
          2036,
          2037,
          2038,
          2039,
          2040,
          2041,
          2042,
          2043,
          2044,
          2045,
          2046,
          2047,
          2048,
          2049
         ],
         "y": [
          68.32967209988195,
          68.21797751818487,
          66.80131270588318,
          65.38278111610968,
          63.96238274886434,
          61.716700941416214,
          59.46807159059152,
          57.21649469639027,
          54.96197025881246,
          52.70449827785808,
          49.53991094379478,
          46.37119704900427,
          43.1983565934866,
          40.021389577241735,
          36.84029600026968,
          35.47520165554143,
          34.10833878478725,
          32.73970738800713,
          31.36930746520109,
          29.997139016369097,
          29.081181033130477,
          28.164044032541234,
          27.24572801460137,
          26.32623297931088,
          25.405558926669762,
          24.944632391673892,
          24.48311634800271,
          24.021010795656213,
          23.558315734634405
         ]
        },
        {
         "fill": "tonexty",
         "mode": "none",
         "name": "Chauffage électrique",
         "type": "scatter",
         "x": [
          2021,
          2022,
          2023,
          2024,
          2025,
          2026,
          2027,
          2028,
          2029,
          2030,
          2031,
          2032,
          2033,
          2034,
          2035,
          2036,
          2037,
          2038,
          2039,
          2040,
          2041,
          2042,
          2043,
          2044,
          2045,
          2046,
          2047,
          2048,
          2049
         ],
         "y": [
          72.08621572216248,
          71.96766760856207,
          70.46410208244453,
          68.95858046914809,
          67.45110276867274,
          65.06778626185024,
          62.68138119632421,
          60.29188757209466,
          57.899305389161576,
          55.50363464752496,
          52.145371627048775,
          48.782784624387624,
          45.41587363954155,
          42.04463867251053,
          38.669079723294566,
          37.22055846697989,
          35.77018407544309,
          34.31795654868419,
          32.86387588670317,
          31.407942089500025,
          30.43608413454985,
          29.462990756118266,
          28.48866195420527,
          27.513097728810862,
          26.53629807993504,
          26.047280543756425,
          25.557645295837105,
          25.067392336177072,
          24.576521664776337
         ]
        },
        {
         "fill": "tonexty",
         "mode": "none",
         "name": "Pompes à chaleur air-air",
         "type": "scatter",
         "x": [
          2021,
          2022,
          2023,
          2024,
          2025,
          2026,
          2027,
          2028,
          2029,
          2030,
          2031,
          2032,
          2033,
          2034,
          2035,
          2036,
          2037,
          2038,
          2039,
          2040,
          2041,
          2042,
          2043,
          2044,
          2045,
          2046,
          2047,
          2048,
          2049
         ],
         "y": [
          72.22409741254972,
          72.10803735568423,
          70.63589327113236,
          69.1616991556584,
          67.68545500926233,
          65.35130630823366,
          63.013920716275344,
          60.67329823338742,
          58.32943885956986,
          55.982342594822676,
          52.691876176875155,
          49.39687811162613,
          46.09734839907565,
          42.793287039223685,
          39.48469403207024,
          38.064783465875266,
          36.642930765122514,
          35.219135929812005,
          33.793398959943715,
          32.36571985551764,
          31.41263902952841,
          30.458263447167326,
          29.502593108434393,
          28.545628013329612,
          27.587368161852975,
          27.107590857928734,
          26.627166175818566,
          26.146094115522466,
          25.664374677040446
         ]
        },
        {
         "fill": "tonexty",
         "mode": "none",
         "name": "Pompes à chaleur air-eau",
         "type": "scatter",
         "x": [
          2021,
          2022,
          2023,
          2024,
          2025,
          2026,
          2027,
          2028,
          2029,
          2030,
          2031,
          2032,
          2033,
          2034,
          2035,
          2036,
          2037,
          2038,
          2039,
          2040,
          2041,
          2042,
          2043,
          2044,
          2045,
          2046,
          2047,
          2048,
          2049
         ],
         "y": [
          72.40475563649342,
          72.29124030282853,
          70.85125377152745,
          69.40914160201426,
          67.9649037942889,
          65.68117203754551,
          63.394084009940826,
          61.103639711474884,
          58.80983914214766,
          56.51268230195917,
          53.2919639464895,
          50.066546811814035,
          46.8364308979328,
          43.60161620484578,
          40.36210273255297,
          38.97172605333929,
          37.57933561160883,
          36.18493140736163,
          34.78851344059767,
          33.390081711316924,
          32.45645138345193,
          31.521478547242413,
          30.585163202688392,
          29.647505349789867,
          28.708504988546824,
          28.23833355375305,
          27.767490864787025,
          27.295976921648734,
          26.823791724338193
         ]
        },
        {
         "fill": "tonexty",
         "mode": "none",
         "name": "Pompes à chaleur hybride",
         "type": "scatter",
         "x": [
          2021,
          2022,
          2023,
          2024,
          2025,
          2026,
          2027,
          2028,
          2029,
          2030,
          2031,
          2032,
          2033,
          2034,
          2035,
          2036,
          2037,
          2038,
          2039,
          2040,
          2041,
          2042,
          2043,
          2044,
          2045,
          2046,
          2047,
          2048,
          2049
         ],
         "y": [
          72.40475563649343,
          72.29124030282854,
          70.85125377152747,
          69.40914160201426,
          67.9649037942889,
          65.68117203754551,
          63.394084009940826,
          61.103639711474884,
          58.80983914214766,
          56.51268230195917,
          53.2919639464895,
          50.06654681181404,
          46.8364308979328,
          43.601616204845776,
          40.36210273255297,
          38.97172605333928,
          37.57933561160885,
          36.18493140736163,
          34.78851344059766,
          33.390081711316924,
          32.45645138345192,
          31.521478547242417,
          30.585163202688392,
          29.647505349789864,
          28.708504988546828,
          28.23833355375305,
          27.767490864787025,
          27.29597692164874,
          26.823791724338196
         ]
        }
       ],
       "layout": {
        "template": {
         "data": {
          "bar": [
           {
            "error_x": {
             "color": "#2a3f5f"
            },
            "error_y": {
             "color": "#2a3f5f"
            },
            "marker": {
             "line": {
              "color": "#E5ECF6",
              "width": 0.5
             },
             "pattern": {
              "fillmode": "overlay",
              "size": 10,
              "solidity": 0.2
             }
            },
            "type": "bar"
           }
          ],
          "barpolar": [
           {
            "marker": {
             "line": {
              "color": "#E5ECF6",
              "width": 0.5
             },
             "pattern": {
              "fillmode": "overlay",
              "size": 10,
              "solidity": 0.2
             }
            },
            "type": "barpolar"
           }
          ],
          "carpet": [
           {
            "aaxis": {
             "endlinecolor": "#2a3f5f",
             "gridcolor": "white",
             "linecolor": "white",
             "minorgridcolor": "white",
             "startlinecolor": "#2a3f5f"
            },
            "baxis": {
             "endlinecolor": "#2a3f5f",
             "gridcolor": "white",
             "linecolor": "white",
             "minorgridcolor": "white",
             "startlinecolor": "#2a3f5f"
            },
            "type": "carpet"
           }
          ],
          "choropleth": [
           {
            "colorbar": {
             "outlinewidth": 0,
             "ticks": ""
            },
            "type": "choropleth"
           }
          ],
          "contour": [
           {
            "colorbar": {
             "outlinewidth": 0,
             "ticks": ""
            },
            "colorscale": [
             [
              0,
              "#0d0887"
             ],
             [
              0.1111111111111111,
              "#46039f"
             ],
             [
              0.2222222222222222,
              "#7201a8"
             ],
             [
              0.3333333333333333,
              "#9c179e"
             ],
             [
              0.4444444444444444,
              "#bd3786"
             ],
             [
              0.5555555555555556,
              "#d8576b"
             ],
             [
              0.6666666666666666,
              "#ed7953"
             ],
             [
              0.7777777777777778,
              "#fb9f3a"
             ],
             [
              0.8888888888888888,
              "#fdca26"
             ],
             [
              1,
              "#f0f921"
             ]
            ],
            "type": "contour"
           }
          ],
          "contourcarpet": [
           {
            "colorbar": {
             "outlinewidth": 0,
             "ticks": ""
            },
            "type": "contourcarpet"
           }
          ],
          "heatmap": [
           {
            "colorbar": {
             "outlinewidth": 0,
             "ticks": ""
            },
            "colorscale": [
             [
              0,
              "#0d0887"
             ],
             [
              0.1111111111111111,
              "#46039f"
             ],
             [
              0.2222222222222222,
              "#7201a8"
             ],
             [
              0.3333333333333333,
              "#9c179e"
             ],
             [
              0.4444444444444444,
              "#bd3786"
             ],
             [
              0.5555555555555556,
              "#d8576b"
             ],
             [
              0.6666666666666666,
              "#ed7953"
             ],
             [
              0.7777777777777778,
              "#fb9f3a"
             ],
             [
              0.8888888888888888,
              "#fdca26"
             ],
             [
              1,
              "#f0f921"
             ]
            ],
            "type": "heatmap"
           }
          ],
          "heatmapgl": [
           {
            "colorbar": {
             "outlinewidth": 0,
             "ticks": ""
            },
            "colorscale": [
             [
              0,
              "#0d0887"
             ],
             [
              0.1111111111111111,
              "#46039f"
             ],
             [
              0.2222222222222222,
              "#7201a8"
             ],
             [
              0.3333333333333333,
              "#9c179e"
             ],
             [
              0.4444444444444444,
              "#bd3786"
             ],
             [
              0.5555555555555556,
              "#d8576b"
             ],
             [
              0.6666666666666666,
              "#ed7953"
             ],
             [
              0.7777777777777778,
              "#fb9f3a"
             ],
             [
              0.8888888888888888,
              "#fdca26"
             ],
             [
              1,
              "#f0f921"
             ]
            ],
            "type": "heatmapgl"
           }
          ],
          "histogram": [
           {
            "marker": {
             "pattern": {
              "fillmode": "overlay",
              "size": 10,
              "solidity": 0.2
             }
            },
            "type": "histogram"
           }
          ],
          "histogram2d": [
           {
            "colorbar": {
             "outlinewidth": 0,
             "ticks": ""
            },
            "colorscale": [
             [
              0,
              "#0d0887"
             ],
             [
              0.1111111111111111,
              "#46039f"
             ],
             [
              0.2222222222222222,
              "#7201a8"
             ],
             [
              0.3333333333333333,
              "#9c179e"
             ],
             [
              0.4444444444444444,
              "#bd3786"
             ],
             [
              0.5555555555555556,
              "#d8576b"
             ],
             [
              0.6666666666666666,
              "#ed7953"
             ],
             [
              0.7777777777777778,
              "#fb9f3a"
             ],
             [
              0.8888888888888888,
              "#fdca26"
             ],
             [
              1,
              "#f0f921"
             ]
            ],
            "type": "histogram2d"
           }
          ],
          "histogram2dcontour": [
           {
            "colorbar": {
             "outlinewidth": 0,
             "ticks": ""
            },
            "colorscale": [
             [
              0,
              "#0d0887"
             ],
             [
              0.1111111111111111,
              "#46039f"
             ],
             [
              0.2222222222222222,
              "#7201a8"
             ],
             [
              0.3333333333333333,
              "#9c179e"
             ],
             [
              0.4444444444444444,
              "#bd3786"
             ],
             [
              0.5555555555555556,
              "#d8576b"
             ],
             [
              0.6666666666666666,
              "#ed7953"
             ],
             [
              0.7777777777777778,
              "#fb9f3a"
             ],
             [
              0.8888888888888888,
              "#fdca26"
             ],
             [
              1,
              "#f0f921"
             ]
            ],
            "type": "histogram2dcontour"
           }
          ],
          "mesh3d": [
           {
            "colorbar": {
             "outlinewidth": 0,
             "ticks": ""
            },
            "type": "mesh3d"
           }
          ],
          "parcoords": [
           {
            "line": {
             "colorbar": {
              "outlinewidth": 0,
              "ticks": ""
             }
            },
            "type": "parcoords"
           }
          ],
          "pie": [
           {
            "automargin": true,
            "type": "pie"
           }
          ],
          "scatter": [
           {
            "fillpattern": {
             "fillmode": "overlay",
             "size": 10,
             "solidity": 0.2
            },
            "type": "scatter"
           }
          ],
          "scatter3d": [
           {
            "line": {
             "colorbar": {
              "outlinewidth": 0,
              "ticks": ""
             }
            },
            "marker": {
             "colorbar": {
              "outlinewidth": 0,
              "ticks": ""
             }
            },
            "type": "scatter3d"
           }
          ],
          "scattercarpet": [
           {
            "marker": {
             "colorbar": {
              "outlinewidth": 0,
              "ticks": ""
             }
            },
            "type": "scattercarpet"
           }
          ],
          "scattergeo": [
           {
            "marker": {
             "colorbar": {
              "outlinewidth": 0,
              "ticks": ""
             }
            },
            "type": "scattergeo"
           }
          ],
          "scattergl": [
           {
            "marker": {
             "colorbar": {
              "outlinewidth": 0,
              "ticks": ""
             }
            },
            "type": "scattergl"
           }
          ],
          "scattermapbox": [
           {
            "marker": {
             "colorbar": {
              "outlinewidth": 0,
              "ticks": ""
             }
            },
            "type": "scattermapbox"
           }
          ],
          "scatterpolar": [
           {
            "marker": {
             "colorbar": {
              "outlinewidth": 0,
              "ticks": ""
             }
            },
            "type": "scatterpolar"
           }
          ],
          "scatterpolargl": [
           {
            "marker": {
             "colorbar": {
              "outlinewidth": 0,
              "ticks": ""
             }
            },
            "type": "scatterpolargl"
           }
          ],
          "scatterternary": [
           {
            "marker": {
             "colorbar": {
              "outlinewidth": 0,
              "ticks": ""
             }
            },
            "type": "scatterternary"
           }
          ],
          "surface": [
           {
            "colorbar": {
             "outlinewidth": 0,
             "ticks": ""
            },
            "colorscale": [
             [
              0,
              "#0d0887"
             ],
             [
              0.1111111111111111,
              "#46039f"
             ],
             [
              0.2222222222222222,
              "#7201a8"
             ],
             [
              0.3333333333333333,
              "#9c179e"
             ],
             [
              0.4444444444444444,
              "#bd3786"
             ],
             [
              0.5555555555555556,
              "#d8576b"
             ],
             [
              0.6666666666666666,
              "#ed7953"
             ],
             [
              0.7777777777777778,
              "#fb9f3a"
             ],
             [
              0.8888888888888888,
              "#fdca26"
             ],
             [
              1,
              "#f0f921"
             ]
            ],
            "type": "surface"
           }
          ],
          "table": [
           {
            "cells": {
             "fill": {
              "color": "#EBF0F8"
             },
             "line": {
              "color": "white"
             }
            },
            "header": {
             "fill": {
              "color": "#C8D4E3"
             },
             "line": {
              "color": "white"
             }
            },
            "type": "table"
           }
          ]
         },
         "layout": {
          "annotationdefaults": {
           "arrowcolor": "#2a3f5f",
           "arrowhead": 0,
           "arrowwidth": 1
          },
          "autotypenumbers": "strict",
          "coloraxis": {
           "colorbar": {
            "outlinewidth": 0,
            "ticks": ""
           }
          },
          "colorscale": {
           "diverging": [
            [
             0,
             "#8e0152"
            ],
            [
             0.1,
             "#c51b7d"
            ],
            [
             0.2,
             "#de77ae"
            ],
            [
             0.3,
             "#f1b6da"
            ],
            [
             0.4,
             "#fde0ef"
            ],
            [
             0.5,
             "#f7f7f7"
            ],
            [
             0.6,
             "#e6f5d0"
            ],
            [
             0.7,
             "#b8e186"
            ],
            [
             0.8,
             "#7fbc41"
            ],
            [
             0.9,
             "#4d9221"
            ],
            [
             1,
             "#276419"
            ]
           ],
           "sequential": [
            [
             0,
             "#0d0887"
            ],
            [
             0.1111111111111111,
             "#46039f"
            ],
            [
             0.2222222222222222,
             "#7201a8"
            ],
            [
             0.3333333333333333,
             "#9c179e"
            ],
            [
             0.4444444444444444,
             "#bd3786"
            ],
            [
             0.5555555555555556,
             "#d8576b"
            ],
            [
             0.6666666666666666,
             "#ed7953"
            ],
            [
             0.7777777777777778,
             "#fb9f3a"
            ],
            [
             0.8888888888888888,
             "#fdca26"
            ],
            [
             1,
             "#f0f921"
            ]
           ],
           "sequentialminus": [
            [
             0,
             "#0d0887"
            ],
            [
             0.1111111111111111,
             "#46039f"
            ],
            [
             0.2222222222222222,
             "#7201a8"
            ],
            [
             0.3333333333333333,
             "#9c179e"
            ],
            [
             0.4444444444444444,
             "#bd3786"
            ],
            [
             0.5555555555555556,
             "#d8576b"
            ],
            [
             0.6666666666666666,
             "#ed7953"
            ],
            [
             0.7777777777777778,
             "#fb9f3a"
            ],
            [
             0.8888888888888888,
             "#fdca26"
            ],
            [
             1,
             "#f0f921"
            ]
           ]
          },
          "colorway": [
           "#636efa",
           "#EF553B",
           "#00cc96",
           "#ab63fa",
           "#FFA15A",
           "#19d3f3",
           "#FF6692",
           "#B6E880",
           "#FF97FF",
           "#FECB52"
          ],
          "font": {
           "color": "#2a3f5f"
          },
          "geo": {
           "bgcolor": "white",
           "lakecolor": "white",
           "landcolor": "#E5ECF6",
           "showlakes": true,
           "showland": true,
           "subunitcolor": "white"
          },
          "hoverlabel": {
           "align": "left"
          },
          "hovermode": "closest",
          "mapbox": {
           "style": "light"
          },
          "paper_bgcolor": "white",
          "plot_bgcolor": "#E5ECF6",
          "polar": {
           "angularaxis": {
            "gridcolor": "white",
            "linecolor": "white",
            "ticks": ""
           },
           "bgcolor": "#E5ECF6",
           "radialaxis": {
            "gridcolor": "white",
            "linecolor": "white",
            "ticks": ""
           }
          },
          "scene": {
           "xaxis": {
            "backgroundcolor": "#E5ECF6",
            "gridcolor": "white",
            "gridwidth": 2,
            "linecolor": "white",
            "showbackground": true,
            "ticks": "",
            "zerolinecolor": "white"
           },
           "yaxis": {
            "backgroundcolor": "#E5ECF6",
            "gridcolor": "white",
            "gridwidth": 2,
            "linecolor": "white",
            "showbackground": true,
            "ticks": "",
            "zerolinecolor": "white"
           },
           "zaxis": {
            "backgroundcolor": "#E5ECF6",
            "gridcolor": "white",
            "gridwidth": 2,
            "linecolor": "white",
            "showbackground": true,
            "ticks": "",
            "zerolinecolor": "white"
           }
          },
          "shapedefaults": {
           "line": {
            "color": "#2a3f5f"
           }
          },
          "ternary": {
           "aaxis": {
            "gridcolor": "white",
            "linecolor": "white",
            "ticks": ""
           },
           "baxis": {
            "gridcolor": "white",
            "linecolor": "white",
            "ticks": ""
           },
           "bgcolor": "#E5ECF6",
           "caxis": {
            "gridcolor": "white",
            "linecolor": "white",
            "ticks": ""
           }
          },
          "title": {
           "x": 0.05
          },
          "xaxis": {
           "automargin": true,
           "gridcolor": "white",
           "linecolor": "white",
           "ticks": "",
           "title": {
            "standoff": 15
           },
           "zerolinecolor": "white",
           "zerolinewidth": 2
          },
          "yaxis": {
           "automargin": true,
           "gridcolor": "white",
           "linecolor": "white",
           "ticks": "",
           "title": {
            "standoff": 15
           },
           "zerolinecolor": "white",
           "zerolinewidth": 2
          }
         }
        },
        "title": {
         "text": "Emissions de GES par mode de chauffage (en MtCO2e)"
        },
        "xaxis": {
         "rangeslider": {
          "visible": true
         },
         "title": {
          "text": "Année"
         }
        },
        "yaxis": {
         "title": {
          "text": "Emissions [MtCO2e]"
         }
        }
       }
      },
      "text/html": [
       "<div>                            <div id=\"f6fe4187-eb9b-4ea2-8f0a-6e6ecb954ecf\" class=\"plotly-graph-div\" style=\"height:525px; width:100%;\"></div>            <script type=\"text/javascript\">                require([\"plotly\"], function(Plotly) {                    window.PLOTLYENV=window.PLOTLYENV || {};                                    if (document.getElementById(\"f6fe4187-eb9b-4ea2-8f0a-6e6ecb954ecf\")) {                    Plotly.newPlot(                        \"f6fe4187-eb9b-4ea2-8f0a-6e6ecb954ecf\",                        [{\"fill\":\"tozeroy\",\"mode\":\"none\",\"name\":\"Biomasse\",\"x\":[2021,2022,2023,2024,2025,2026,2027,2028,2029,2030,2031,2032,2033,2034,2035,2036,2037,2038,2039,2040,2041,2042,2043,2044,2045,2046,2047,2048,2049],\"y\":[1.8225043052197856,1.8229237441737003,1.8280283113443858,1.832924552269503,1.8376124669490517,1.8446855013184948,1.8514295995107246,1.857844761525741,1.8639309873635443,1.8696882770241345,1.8772879719008622,1.8844271561294912,1.891105829710022,1.8973239926424539,1.9030816449267873,1.9053518484851741,1.9074246903372325,1.9093001704829633,1.9109782889223654,1.9124590456554402,1.9133146423399383,1.9140386645535508,1.914631112296278,1.9150919855681199,1.9154212843690772,1.9155201465341123,1.9155532214637059,1.915520509157856,1.9154220096165637],\"type\":\"scatter\"},{\"fill\":\"tonexty\",\"mode\":\"none\",\"name\":\"Chaudi\\u00e8re fioul\",\"x\":[2021,2022,2023,2024,2025,2026,2027,2028,2029,2030,2031,2032,2033,2034,2035,2036,2037,2038,2039,2040,2041,2042,2043,2044,2045,2046,2047,2048,2049],\"y\":[26.00383281636655,25.9436474219592,25.1810907665538,24.418325784902827,23.65535247700629,22.45032884415033,21.244976275117153,20.03929476990677,18.833284328519174,17.62694495095436,15.93760931171553,14.247813161828596,12.557556501293565,10.866839330110434,9.175661648279203,8.450673851502346,7.725488693019164,7.000106172829653,6.2745262909338155,5.54874904733165,5.064765977125987,4.580651332449437,4.096405113302006,3.612027319683687,3.127517951594483,2.8851974803144373,2.6428112217989503,2.4003591760480196,2.157841343061647],\"type\":\"scatter\"},{\"fill\":\"tonexty\",\"mode\":\"none\",\"name\":\"Chaudi\\u00e8re gaz\",\"x\":[2021,2022,2023,2024,2025,2026,2027,2028,2029,2030,2031,2032,2033,2034,2035,2036,2037,2038,2039,2040,2041,2042,2043,2044,2045,2046,2047,2048,2049],\"y\":[63.635265505554784,63.49626275359059,61.734869982071174,59.972785963912266,58.21001069911384,55.42558989158029,52.64007764198436,49.85347395032607,47.0657788166054,44.27699224082236,40.371163015838796,36.4638057719679,32.554920509209694,28.644507227564166,24.73256592703131,23.05536479013695,21.377508788005166,19.69899792063596,18.01983218802934,16.34001159018529,15.21969461479764,14.098941062585045,12.977750933547505,11.85612422768501,10.73406094499757,10.172811015241374,9.611342797072703,9.049656290491559,8.48775149549794],\"type\":\"scatter\"},{\"fill\":\"tonexty\",\"mode\":\"none\",\"name\":\"Chauffage urbain\",\"x\":[2021,2022,2023,2024,2025,2026,2027,2028,2029,2030,2031,2032,2033,2034,2035,2036,2037,2038,2039,2040,2041,2042,2043,2044,2045,2046,2047,2048,2049],\"y\":[68.32967209988195,68.21797751818487,66.80131270588318,65.38278111610968,63.96238274886434,61.716700941416214,59.46807159059152,57.21649469639027,54.96197025881246,52.70449827785808,49.53991094379478,46.37119704900427,43.1983565934866,40.021389577241735,36.84029600026968,35.47520165554143,34.10833878478725,32.73970738800713,31.36930746520109,29.997139016369097,29.081181033130477,28.164044032541234,27.24572801460137,26.32623297931088,25.405558926669762,24.944632391673892,24.48311634800271,24.021010795656213,23.558315734634405],\"type\":\"scatter\"},{\"fill\":\"tonexty\",\"mode\":\"none\",\"name\":\"Chauffage \\u00e9lectrique\",\"x\":[2021,2022,2023,2024,2025,2026,2027,2028,2029,2030,2031,2032,2033,2034,2035,2036,2037,2038,2039,2040,2041,2042,2043,2044,2045,2046,2047,2048,2049],\"y\":[72.08621572216248,71.96766760856207,70.46410208244453,68.95858046914809,67.45110276867274,65.06778626185024,62.68138119632421,60.29188757209466,57.899305389161576,55.50363464752496,52.145371627048775,48.782784624387624,45.41587363954155,42.04463867251053,38.669079723294566,37.22055846697989,35.77018407544309,34.31795654868419,32.86387588670317,31.407942089500025,30.43608413454985,29.462990756118266,28.48866195420527,27.513097728810862,26.53629807993504,26.047280543756425,25.557645295837105,25.067392336177072,24.576521664776337],\"type\":\"scatter\"},{\"fill\":\"tonexty\",\"mode\":\"none\",\"name\":\"Pompes \\u00e0 chaleur air-air\",\"x\":[2021,2022,2023,2024,2025,2026,2027,2028,2029,2030,2031,2032,2033,2034,2035,2036,2037,2038,2039,2040,2041,2042,2043,2044,2045,2046,2047,2048,2049],\"y\":[72.22409741254972,72.10803735568423,70.63589327113236,69.1616991556584,67.68545500926233,65.35130630823366,63.013920716275344,60.67329823338742,58.32943885956986,55.982342594822676,52.691876176875155,49.39687811162613,46.09734839907565,42.793287039223685,39.48469403207024,38.064783465875266,36.642930765122514,35.219135929812005,33.793398959943715,32.36571985551764,31.41263902952841,30.458263447167326,29.502593108434393,28.545628013329612,27.587368161852975,27.107590857928734,26.627166175818566,26.146094115522466,25.664374677040446],\"type\":\"scatter\"},{\"fill\":\"tonexty\",\"mode\":\"none\",\"name\":\"Pompes \\u00e0 chaleur air-eau\",\"x\":[2021,2022,2023,2024,2025,2026,2027,2028,2029,2030,2031,2032,2033,2034,2035,2036,2037,2038,2039,2040,2041,2042,2043,2044,2045,2046,2047,2048,2049],\"y\":[72.40475563649342,72.29124030282853,70.85125377152745,69.40914160201426,67.9649037942889,65.68117203754551,63.394084009940826,61.103639711474884,58.80983914214766,56.51268230195917,53.2919639464895,50.066546811814035,46.8364308979328,43.60161620484578,40.36210273255297,38.97172605333929,37.57933561160883,36.18493140736163,34.78851344059767,33.390081711316924,32.45645138345193,31.521478547242413,30.585163202688392,29.647505349789867,28.708504988546824,28.23833355375305,27.767490864787025,27.295976921648734,26.823791724338193],\"type\":\"scatter\"},{\"fill\":\"tonexty\",\"mode\":\"none\",\"name\":\"Pompes \\u00e0 chaleur hybride\",\"x\":[2021,2022,2023,2024,2025,2026,2027,2028,2029,2030,2031,2032,2033,2034,2035,2036,2037,2038,2039,2040,2041,2042,2043,2044,2045,2046,2047,2048,2049],\"y\":[72.40475563649343,72.29124030282854,70.85125377152747,69.40914160201426,67.9649037942889,65.68117203754551,63.394084009940826,61.103639711474884,58.80983914214766,56.51268230195917,53.2919639464895,50.06654681181404,46.8364308979328,43.601616204845776,40.36210273255297,38.97172605333928,37.57933561160885,36.18493140736163,34.78851344059766,33.390081711316924,32.45645138345192,31.521478547242417,30.585163202688392,29.647505349789864,28.708504988546828,28.23833355375305,27.767490864787025,27.29597692164874,26.823791724338196],\"type\":\"scatter\"}],                        {\"template\":{\"data\":{\"histogram2dcontour\":[{\"type\":\"histogram2dcontour\",\"colorbar\":{\"outlinewidth\":0,\"ticks\":\"\"},\"colorscale\":[[0.0,\"#0d0887\"],[0.1111111111111111,\"#46039f\"],[0.2222222222222222,\"#7201a8\"],[0.3333333333333333,\"#9c179e\"],[0.4444444444444444,\"#bd3786\"],[0.5555555555555556,\"#d8576b\"],[0.6666666666666666,\"#ed7953\"],[0.7777777777777778,\"#fb9f3a\"],[0.8888888888888888,\"#fdca26\"],[1.0,\"#f0f921\"]]}],\"choropleth\":[{\"type\":\"choropleth\",\"colorbar\":{\"outlinewidth\":0,\"ticks\":\"\"}}],\"histogram2d\":[{\"type\":\"histogram2d\",\"colorbar\":{\"outlinewidth\":0,\"ticks\":\"\"},\"colorscale\":[[0.0,\"#0d0887\"],[0.1111111111111111,\"#46039f\"],[0.2222222222222222,\"#7201a8\"],[0.3333333333333333,\"#9c179e\"],[0.4444444444444444,\"#bd3786\"],[0.5555555555555556,\"#d8576b\"],[0.6666666666666666,\"#ed7953\"],[0.7777777777777778,\"#fb9f3a\"],[0.8888888888888888,\"#fdca26\"],[1.0,\"#f0f921\"]]}],\"heatmap\":[{\"type\":\"heatmap\",\"colorbar\":{\"outlinewidth\":0,\"ticks\":\"\"},\"colorscale\":[[0.0,\"#0d0887\"],[0.1111111111111111,\"#46039f\"],[0.2222222222222222,\"#7201a8\"],[0.3333333333333333,\"#9c179e\"],[0.4444444444444444,\"#bd3786\"],[0.5555555555555556,\"#d8576b\"],[0.6666666666666666,\"#ed7953\"],[0.7777777777777778,\"#fb9f3a\"],[0.8888888888888888,\"#fdca26\"],[1.0,\"#f0f921\"]]}],\"heatmapgl\":[{\"type\":\"heatmapgl\",\"colorbar\":{\"outlinewidth\":0,\"ticks\":\"\"},\"colorscale\":[[0.0,\"#0d0887\"],[0.1111111111111111,\"#46039f\"],[0.2222222222222222,\"#7201a8\"],[0.3333333333333333,\"#9c179e\"],[0.4444444444444444,\"#bd3786\"],[0.5555555555555556,\"#d8576b\"],[0.6666666666666666,\"#ed7953\"],[0.7777777777777778,\"#fb9f3a\"],[0.8888888888888888,\"#fdca26\"],[1.0,\"#f0f921\"]]}],\"contourcarpet\":[{\"type\":\"contourcarpet\",\"colorbar\":{\"outlinewidth\":0,\"ticks\":\"\"}}],\"contour\":[{\"type\":\"contour\",\"colorbar\":{\"outlinewidth\":0,\"ticks\":\"\"},\"colorscale\":[[0.0,\"#0d0887\"],[0.1111111111111111,\"#46039f\"],[0.2222222222222222,\"#7201a8\"],[0.3333333333333333,\"#9c179e\"],[0.4444444444444444,\"#bd3786\"],[0.5555555555555556,\"#d8576b\"],[0.6666666666666666,\"#ed7953\"],[0.7777777777777778,\"#fb9f3a\"],[0.8888888888888888,\"#fdca26\"],[1.0,\"#f0f921\"]]}],\"surface\":[{\"type\":\"surface\",\"colorbar\":{\"outlinewidth\":0,\"ticks\":\"\"},\"colorscale\":[[0.0,\"#0d0887\"],[0.1111111111111111,\"#46039f\"],[0.2222222222222222,\"#7201a8\"],[0.3333333333333333,\"#9c179e\"],[0.4444444444444444,\"#bd3786\"],[0.5555555555555556,\"#d8576b\"],[0.6666666666666666,\"#ed7953\"],[0.7777777777777778,\"#fb9f3a\"],[0.8888888888888888,\"#fdca26\"],[1.0,\"#f0f921\"]]}],\"mesh3d\":[{\"type\":\"mesh3d\",\"colorbar\":{\"outlinewidth\":0,\"ticks\":\"\"}}],\"scatter\":[{\"fillpattern\":{\"fillmode\":\"overlay\",\"size\":10,\"solidity\":0.2},\"type\":\"scatter\"}],\"parcoords\":[{\"type\":\"parcoords\",\"line\":{\"colorbar\":{\"outlinewidth\":0,\"ticks\":\"\"}}}],\"scatterpolargl\":[{\"type\":\"scatterpolargl\",\"marker\":{\"colorbar\":{\"outlinewidth\":0,\"ticks\":\"\"}}}],\"bar\":[{\"error_x\":{\"color\":\"#2a3f5f\"},\"error_y\":{\"color\":\"#2a3f5f\"},\"marker\":{\"line\":{\"color\":\"#E5ECF6\",\"width\":0.5},\"pattern\":{\"fillmode\":\"overlay\",\"size\":10,\"solidity\":0.2}},\"type\":\"bar\"}],\"scattergeo\":[{\"type\":\"scattergeo\",\"marker\":{\"colorbar\":{\"outlinewidth\":0,\"ticks\":\"\"}}}],\"scatterpolar\":[{\"type\":\"scatterpolar\",\"marker\":{\"colorbar\":{\"outlinewidth\":0,\"ticks\":\"\"}}}],\"histogram\":[{\"marker\":{\"pattern\":{\"fillmode\":\"overlay\",\"size\":10,\"solidity\":0.2}},\"type\":\"histogram\"}],\"scattergl\":[{\"type\":\"scattergl\",\"marker\":{\"colorbar\":{\"outlinewidth\":0,\"ticks\":\"\"}}}],\"scatter3d\":[{\"type\":\"scatter3d\",\"line\":{\"colorbar\":{\"outlinewidth\":0,\"ticks\":\"\"}},\"marker\":{\"colorbar\":{\"outlinewidth\":0,\"ticks\":\"\"}}}],\"scattermapbox\":[{\"type\":\"scattermapbox\",\"marker\":{\"colorbar\":{\"outlinewidth\":0,\"ticks\":\"\"}}}],\"scatterternary\":[{\"type\":\"scatterternary\",\"marker\":{\"colorbar\":{\"outlinewidth\":0,\"ticks\":\"\"}}}],\"scattercarpet\":[{\"type\":\"scattercarpet\",\"marker\":{\"colorbar\":{\"outlinewidth\":0,\"ticks\":\"\"}}}],\"carpet\":[{\"aaxis\":{\"endlinecolor\":\"#2a3f5f\",\"gridcolor\":\"white\",\"linecolor\":\"white\",\"minorgridcolor\":\"white\",\"startlinecolor\":\"#2a3f5f\"},\"baxis\":{\"endlinecolor\":\"#2a3f5f\",\"gridcolor\":\"white\",\"linecolor\":\"white\",\"minorgridcolor\":\"white\",\"startlinecolor\":\"#2a3f5f\"},\"type\":\"carpet\"}],\"table\":[{\"cells\":{\"fill\":{\"color\":\"#EBF0F8\"},\"line\":{\"color\":\"white\"}},\"header\":{\"fill\":{\"color\":\"#C8D4E3\"},\"line\":{\"color\":\"white\"}},\"type\":\"table\"}],\"barpolar\":[{\"marker\":{\"line\":{\"color\":\"#E5ECF6\",\"width\":0.5},\"pattern\":{\"fillmode\":\"overlay\",\"size\":10,\"solidity\":0.2}},\"type\":\"barpolar\"}],\"pie\":[{\"automargin\":true,\"type\":\"pie\"}]},\"layout\":{\"autotypenumbers\":\"strict\",\"colorway\":[\"#636efa\",\"#EF553B\",\"#00cc96\",\"#ab63fa\",\"#FFA15A\",\"#19d3f3\",\"#FF6692\",\"#B6E880\",\"#FF97FF\",\"#FECB52\"],\"font\":{\"color\":\"#2a3f5f\"},\"hovermode\":\"closest\",\"hoverlabel\":{\"align\":\"left\"},\"paper_bgcolor\":\"white\",\"plot_bgcolor\":\"#E5ECF6\",\"polar\":{\"bgcolor\":\"#E5ECF6\",\"angularaxis\":{\"gridcolor\":\"white\",\"linecolor\":\"white\",\"ticks\":\"\"},\"radialaxis\":{\"gridcolor\":\"white\",\"linecolor\":\"white\",\"ticks\":\"\"}},\"ternary\":{\"bgcolor\":\"#E5ECF6\",\"aaxis\":{\"gridcolor\":\"white\",\"linecolor\":\"white\",\"ticks\":\"\"},\"baxis\":{\"gridcolor\":\"white\",\"linecolor\":\"white\",\"ticks\":\"\"},\"caxis\":{\"gridcolor\":\"white\",\"linecolor\":\"white\",\"ticks\":\"\"}},\"coloraxis\":{\"colorbar\":{\"outlinewidth\":0,\"ticks\":\"\"}},\"colorscale\":{\"sequential\":[[0.0,\"#0d0887\"],[0.1111111111111111,\"#46039f\"],[0.2222222222222222,\"#7201a8\"],[0.3333333333333333,\"#9c179e\"],[0.4444444444444444,\"#bd3786\"],[0.5555555555555556,\"#d8576b\"],[0.6666666666666666,\"#ed7953\"],[0.7777777777777778,\"#fb9f3a\"],[0.8888888888888888,\"#fdca26\"],[1.0,\"#f0f921\"]],\"sequentialminus\":[[0.0,\"#0d0887\"],[0.1111111111111111,\"#46039f\"],[0.2222222222222222,\"#7201a8\"],[0.3333333333333333,\"#9c179e\"],[0.4444444444444444,\"#bd3786\"],[0.5555555555555556,\"#d8576b\"],[0.6666666666666666,\"#ed7953\"],[0.7777777777777778,\"#fb9f3a\"],[0.8888888888888888,\"#fdca26\"],[1.0,\"#f0f921\"]],\"diverging\":[[0,\"#8e0152\"],[0.1,\"#c51b7d\"],[0.2,\"#de77ae\"],[0.3,\"#f1b6da\"],[0.4,\"#fde0ef\"],[0.5,\"#f7f7f7\"],[0.6,\"#e6f5d0\"],[0.7,\"#b8e186\"],[0.8,\"#7fbc41\"],[0.9,\"#4d9221\"],[1,\"#276419\"]]},\"xaxis\":{\"gridcolor\":\"white\",\"linecolor\":\"white\",\"ticks\":\"\",\"title\":{\"standoff\":15},\"zerolinecolor\":\"white\",\"automargin\":true,\"zerolinewidth\":2},\"yaxis\":{\"gridcolor\":\"white\",\"linecolor\":\"white\",\"ticks\":\"\",\"title\":{\"standoff\":15},\"zerolinecolor\":\"white\",\"automargin\":true,\"zerolinewidth\":2},\"scene\":{\"xaxis\":{\"backgroundcolor\":\"#E5ECF6\",\"gridcolor\":\"white\",\"linecolor\":\"white\",\"showbackground\":true,\"ticks\":\"\",\"zerolinecolor\":\"white\",\"gridwidth\":2},\"yaxis\":{\"backgroundcolor\":\"#E5ECF6\",\"gridcolor\":\"white\",\"linecolor\":\"white\",\"showbackground\":true,\"ticks\":\"\",\"zerolinecolor\":\"white\",\"gridwidth\":2},\"zaxis\":{\"backgroundcolor\":\"#E5ECF6\",\"gridcolor\":\"white\",\"linecolor\":\"white\",\"showbackground\":true,\"ticks\":\"\",\"zerolinecolor\":\"white\",\"gridwidth\":2}},\"shapedefaults\":{\"line\":{\"color\":\"#2a3f5f\"}},\"annotationdefaults\":{\"arrowcolor\":\"#2a3f5f\",\"arrowhead\":0,\"arrowwidth\":1},\"geo\":{\"bgcolor\":\"white\",\"landcolor\":\"#E5ECF6\",\"subunitcolor\":\"white\",\"showland\":true,\"showlakes\":true,\"lakecolor\":\"white\"},\"title\":{\"x\":0.05},\"mapbox\":{\"style\":\"light\"}}},\"xaxis\":{\"rangeslider\":{\"visible\":true},\"title\":{\"text\":\"Ann\\u00e9e\"}},\"title\":{\"text\":\"Emissions de GES par mode de chauffage (en MtCO2e)\"},\"yaxis\":{\"title\":{\"text\":\"Emissions [MtCO2e]\"}}},                        {\"responsive\": true}                    ).then(function(){\n",
       "                            \n",
       "var gd = document.getElementById('f6fe4187-eb9b-4ea2-8f0a-6e6ecb954ecf');\n",
       "var x = new MutationObserver(function (mutations, observer) {{\n",
       "        var display = window.getComputedStyle(gd).display;\n",
       "        if (!display || display === 'none') {{\n",
       "            console.log([gd, 'removed!']);\n",
       "            Plotly.purge(gd);\n",
       "            observer.disconnect();\n",
       "        }}\n",
       "}});\n",
       "\n",
       "// Listen for the removal of the full notebook cells\n",
       "var notebookContainer = gd.closest('#notebook-container');\n",
       "if (notebookContainer) {{\n",
       "    x.observe(notebookContainer, {childList: true});\n",
       "}}\n",
       "\n",
       "// Listen for the clearing of the current output cell\n",
       "var outputEl = gd.closest('.output');\n",
       "if (outputEl) {{\n",
       "    x.observe(outputEl, {childList: true});\n",
       "}}\n",
       "\n",
       "                        })                };                });            </script>        </div>"
      ]
     },
     "metadata": {},
     "output_type": "display_data"
    }
   ],
   "source": [
    "Var = \"emissions\"\n",
    "y_df = sim_stock_df.groupby([\"year\", \"Energy_source\"])[Var].sum().to_frame().reset_index(). \\\n",
    "           pivot(index=['year'], columns='Energy_source').loc[[year for year in sim_param[\"years\"][1:]], Var] / 10 ** 12\n",
    "\n",
    "fig = MyStackedPlotly(y_df=y_df)\n",
    "fig = fig.update_layout(title_text=\"Emissions de GES par mode de chauffage (en MtCO2e)\", xaxis_title=\"Année\",\n",
    "                        yaxis_title=\"Emissions [MtCO2e]\")\n",
    "fig.show()"
   ]
  },
  {
   "cell_type": "markdown",
   "metadata": {
    "pycharm": {
     "name": "#%% md\n"
    }
   },
   "source": [
    "One key indicator of the decarbonization pathways is the reduction of GHG emissions. In the case of this first scenario, we can vizualize the following key indicators:"
   ]
  },
  {
   "cell_type": "code",
   "execution_count": 171,
   "metadata": {
    "pycharm": {
     "name": "#%%\n"
    }
   },
   "outputs": [
    {
     "name": "stdout",
     "output_type": "stream",
     "text": [
      "Réduction des émissions de GES: 63.01%\n",
      "Réduction de la consommation: 42.36%\n",
      "Réduction du besoin: 35.2%\n"
     ]
    }
   ],
   "source": [
    "emission_reduction=sim_stock_df.copy().reset_index()\n",
    "emission_reduction=(initial_emissions-emission_reduction[emission_reduction[\"year\"]==2049][\"emissions\"].sum()/10**12)/initial_emissions\n",
    "\n",
    "energy_cons_reduction=sim_stock_df.copy().reset_index()\n",
    "energy_cons_reduction=(initial_consumption-energy_cons_reduction[energy_cons_reduction[\"year\"]==2049][\"Conso\"].sum()/10**9)/initial_consumption\n",
    "\n",
    "energy_need_reduction=sim_stock_df.copy().reset_index()\n",
    "energy_need_reduction=(initial_need-energy_need_reduction[energy_need_reduction[\"year\"]==2049][\"Besoin\"].sum()/10**9)/initial_need\n",
    "\n",
    "print(\"Réduction des émissions de GES: \" + str(np.round(emission_reduction*100,2)) + \"%\")\n",
    "print(\"Réduction de la consommation: \" + str(np.round(energy_cons_reduction*100,2)) + \"%\")\n",
    "print(\"Réduction du besoin: \" + str(np.round(energy_need_reduction*100,2)) + \"%\")\n"
   ]
  },
  {
   "cell_type": "markdown",
   "metadata": {
    "pycharm": {
     "name": "#%% md\n"
    }
   },
   "source": [
    "### 3.2 Achieving SNBC objectives through electrification <a class=\"anchor\" id=\"electrification\"></a>\n",
    "The french national decarbonisation strategy targets to reduce by 95% emissions from heating by 2050 (respect to 2015).\n",
    "As you can observe in the previous graphs, the SNBC objectives are not met by the proposed scenario.\n",
    "One way of reducing heating emissions is the electrification of heating systems. By modifying the shift proportions in the retrofit matrix, propose a scenario with a strong electricity penetration (electric heating, heat pumps) which gets clother the SNBC objectives (CAUTION: All rows should sum up to 1):"
   ]
  },
  {
   "cell_type": "code",
   "execution_count": 172,
   "metadata": {},
   "outputs": [
    {
     "data": {
      "application/vnd.jupyter.widget-view+json": {
       "model_id": "8090ccc543a5487d9ec7b599283525b8",
       "version_major": 2,
       "version_minor": 0
      },
      "text/plain": [
       "QgridWidget(grid_options={'fullWidthRows': True, 'syncColumnCellResize': True, 'forceFitColumns': True, 'defau…"
      ]
     },
     "metadata": {},
     "output_type": "display_data"
    }
   ],
   "source": [
    "sim_param = extract_sim_param(data_set_from_excel, Index_names=Index_names, dim_names=dim_names,\n",
    "                              Energy_system_name=Energy_system_name)\n",
    "#Creating the initial building description\n",
    "sim_param[\"init_sim_stock\"] = create_initial_parc(sim_param).sort_index()\n",
    "sim_param[\"volume_variable_name\"] = \"surface\"\n",
    "sim_param[\"init_sim_stock\"][\"surface\"] = sim_param[\"init_sim_stock\"][\"surface\"] * sim_param[\"init_sim_stock\"][\"IPONDL\"]\n",
    "\n",
    "# We adjust energy need for electricity considering the primary energy factor\n",
    "sim_param[\"init_sim_stock\"][\"conso_unitaire_elec\"]=sim_param[\"init_sim_stock\"][\"conso_unitaire_elec\"]/2.3\n",
    "\n",
    "## for those able to make qgrid work, you should be able to modify the table sim_param['retrofit_Transition'] within the interface below\n",
    "#https://github.com/quantopian/qgrid\n",
    "col_def = { col :  { 'editable': True } for col in sim_param['retrofit_Transition'].columns}\n",
    "qgrid_widget = qgrid.show_grid(sim_param['retrofit_Transition'], show_toolbar=True, column_definitions=col_def)\n",
    "qgrid_widget"
   ]
  },
  {
   "cell_type": "code",
   "execution_count": 173,
   "metadata": {
    "pycharm": {
     "name": "#%%\n"
    }
   },
   "outputs": [
    {
     "name": "stdout",
     "output_type": "stream",
     "text": [
      "Computing: [########################################] 29/29\n",
      "\n"
     ]
    }
   ],
   "source": [
    "retrofit_transition_electrified=qgrid_widget.get_changed_df()\n",
    "sim_param['retrofit_Transition']=retrofit_transition_electrified.copy()\n",
    "\n",
    "sim_param=update_inputs(data_set_from_excel,sim_param,Index_names,dim_names)\n",
    "\n",
    "# We lanch the simulation\n",
    "sim_stock_new = launch_simulation(sim_param)\n",
    "\n",
    "sim_stock_new_df = pd.concat(sim_stock_new, axis=0).reset_index().\\\n",
    "    rename(columns={\"level_0\":\"year\"}).set_index([ \"year\"  ,  \"Energy_source\"  , \"old_new\"])"
   ]
  },
  {
   "cell_type": "code",
   "execution_count": 174,
   "metadata": {
    "pycharm": {
     "name": "#%%\n"
    }
   },
   "outputs": [
    {
     "data": {
      "application/vnd.plotly.v1+json": {
       "config": {
        "plotlyServerURL": "https://plot.ly"
       },
       "data": [
        {
         "fill": "tozeroy",
         "mode": "none",
         "name": "Biomasse",
         "type": "scatter",
         "x": [
          2021,
          2022,
          2023,
          2024,
          2025,
          2026,
          2027,
          2028,
          2029,
          2030,
          2031,
          2032,
          2033,
          2034,
          2035,
          2036,
          2037,
          2038,
          2039,
          2040,
          2041,
          2042,
          2043,
          2044,
          2045,
          2046,
          2047,
          2048,
          2049
         ],
         "y": [
          67.50015945258465,
          67.51569422865556,
          67.70475227201428,
          67.88609452850011,
          68.05972099811304,
          68.32168523401833,
          68.57146664854535,
          68.80906524169413,
          69.0344810134646,
          69.24771396385682,
          69.52918414447637,
          69.79359837516634,
          70.04095665592672,
          70.27125898675756,
          70.48450536765878,
          70.56858698093237,
          70.64535890137897,
          70.71482112899864,
          70.77697366379132,
          70.83181650575705,
          70.86350527184956,
          70.89032090939078,
          70.91226341838066,
          70.92933279881926,
          70.94152905070656,
          70.94519061237455,
          70.94641560976687,
          70.94520404288356,
          70.94155591172459
         ]
        },
        {
         "fill": "tonexty",
         "mode": "none",
         "name": "Chaudière fioul",
         "type": "scatter",
         "x": [
          2021,
          2022,
          2023,
          2024,
          2025,
          2026,
          2027,
          2028,
          2029,
          2030,
          2031,
          2032,
          2033,
          2034,
          2035,
          2036,
          2037,
          2038,
          2039,
          2040,
          2041,
          2042,
          2043,
          2044,
          2045,
          2046,
          2047,
          2048,
          2049
         ],
         "y": [
          140.99963820986966,
          140.83096376599752,
          138.68670502341067,
          136.53473049395095,
          134.3750401776183,
          130.95282001466222,
          127.51841703032783,
          124.0718312246152,
          120.61306259752426,
          117.14211114905508,
          112.26572317126868,
          107.37227924355267,
          102.46177936590709,
          97.53422353833197,
          92.58961176082721,
          90.46318273478396,
          88.32944401591372,
          86.18839560421654,
          84.04003749969239,
          81.88436970234127,
          80.44238470888922,
          78.99552658688587,
          77.5437953363312,
          76.08719095722523,
          74.62571344956798,
          73.89253813146368,
          73.15692624908372,
          72.41887780242813,
          71.67839279149688
         ]
        },
        {
         "fill": "tonexty",
         "mode": "none",
         "name": "Chaudière gaz",
         "type": "scatter",
         "x": [
          2021,
          2022,
          2023,
          2024,
          2025,
          2026,
          2027,
          2028,
          2029,
          2030,
          2031,
          2032,
          2033,
          2034,
          2035,
          2036,
          2037,
          2038,
          2039,
          2040,
          2041,
          2042,
          2043,
          2044,
          2045,
          2046,
          2047,
          2048,
          2049
         ],
         "y": [
          306.7768747261174,
          306.26098725336044,
          299.7165694089498,
          293.16230837504975,
          286.5982041516604,
          276.2182871839572,
          265.82282833811286,
          255.4118276141275,
          244.98528501200104,
          234.54320053173353,
          219.90252362996148,
          205.2400880987919,
          190.55589393822484,
          175.8499411482603,
          161.12222972889816,
          154.80102827942977,
          148.47050170307674,
          142.13064999983905,
          135.78147316971672,
          129.42297121270974,
          125.17775315678198,
          120.92631834959779,
          116.6686667911572,
          112.40479848146015,
          108.13471342050669,
          105.99656251440172,
          103.85530323266855,
          101.71093557530716,
          99.56345954231756
         ]
        },
        {
         "fill": "tonexty",
         "mode": "none",
         "name": "Chauffage urbain",
         "type": "scatter",
         "x": [
          2021,
          2022,
          2023,
          2024,
          2025,
          2026,
          2027,
          2028,
          2029,
          2030,
          2031,
          2032,
          2033,
          2034,
          2035,
          2036,
          2037,
          2038,
          2039,
          2040,
          2041,
          2042,
          2043,
          2044,
          2045,
          2046,
          2047,
          2048,
          2049
         ],
         "y": [
          331.7926299527913,
          331.42226342913915,
          326.71484672093226,
          321.99132260411227,
          317.25169107867924,
          309.74262960386966,
          302.20813537861824,
          294.6482084029252,
          287.06284867679045,
          279.4520562002141,
          268.76134088238865,
          258.03501971394485,
          247.27309269488273,
          236.47555982520225,
          225.6424211049033,
          220.98438771736733,
          216.31109467956634,
          211.62254199150033,
          206.9187296531693,
          202.19965766457327,
          199.0434365719992,
          195.8770423792485,
          192.7004750863211,
          189.51373469321703,
          186.31682119993627,
          184.71327790320748,
          183.10464805639046,
          181.49093165948506,
          179.8721287124913
         ]
        },
        {
         "fill": "tonexty",
         "mode": "none",
         "name": "Chauffage électrique",
         "type": "scatter",
         "x": [
          2021,
          2022,
          2023,
          2024,
          2025,
          2026,
          2027,
          2028,
          2029,
          2030,
          2031,
          2032,
          2033,
          2034,
          2035,
          2036,
          2037,
          2038,
          2039,
          2040,
          2041,
          2042,
          2043,
          2044,
          2045,
          2046,
          2047,
          2048,
          2049
         ],
         "y": [
          379.3438150449499,
          378.8866949529013,
          373.0792692090506,
          367.2546055539656,
          361.41270398764624,
          352.161431128351,
          342.8829405144751,
          333.5772321460188,
          324.24430602298185,
          314.8841621453645,
          301.7418558602873,
          288.56144471879736,
          275.34292872089475,
          262.0863078665794,
          248.79158215585116,
          243.07751191279078,
          237.34711101698207,
          231.60037946842505,
          225.8373172671197,
          220.05792441306605,
          216.19410874186468,
          212.31940596883118,
          208.43381609396542,
          204.53733911726746,
          200.62997503873726,
          198.670849448556,
          196.7062803074587,
          194.7362676154453,
          192.76081137251578
         ]
        },
        {
         "fill": "tonexty",
         "mode": "none",
         "name": "Pompes à chaleur air-air",
         "type": "scatter",
         "x": [
          2021,
          2022,
          2023,
          2024,
          2025,
          2026,
          2027,
          2028,
          2029,
          2030,
          2031,
          2032,
          2033,
          2034,
          2035,
          2036,
          2037,
          2038,
          2039,
          2040,
          2041,
          2042,
          2043,
          2044,
          2045,
          2046,
          2047,
          2048,
          2049
         ],
         "y": [
          381.08915289795306,
          380.66352719495393,
          375.2538412177573,
          369.8257281680201,
          364.3791880457423,
          355.75029247497645,
          347.09230152651475,
          338.40521520035753,
          329.68903349650446,
          320.9437564149558,
          308.65963497201363,
          296.3347800002975,
          283.96919149980744,
          271.5628694705434,
          259.11581391250525,
          253.76390430387153,
          248.39453746862037,
          243.0077134067518,
          237.60343211826583,
          232.18169360316244,
          228.55556310868187,
          224.91779446312307,
          221.26838766648598,
          217.6073427187706,
          213.93465961997694,
          212.0924989950409,
          210.2445192945658,
          208.39072051855157,
          206.53110266699818
         ]
        },
        {
         "fill": "tonexty",
         "mode": "none",
         "name": "Pompes à chaleur air-eau",
         "type": "scatter",
         "x": [
          2021,
          2022,
          2023,
          2024,
          2025,
          2026,
          2027,
          2028,
          2029,
          2030,
          2031,
          2032,
          2033,
          2034,
          2035,
          2036,
          2037,
          2038,
          2039,
          2040,
          2041,
          2042,
          2043,
          2044,
          2045,
          2046,
          2047,
          2048,
          2049
         ],
         "y": [
          383.3759658592657,
          382.98255184235006,
          377.97992350123957,
          372.95791103328406,
          367.9165144384838,
          359.92580803588595,
          351.90449511721704,
          343.8525756824773,
          335.77004973166646,
          327.6569172647848,
          316.25568268865095,
          304.8115989900178,
          293.3246661688853,
          281.79488422525344,
          270.22225315912215,
          265.2441902211376,
          260.24776337351045,
          255.23297261624077,
          250.1998179493285,
          245.14829937277364,
          241.76837771530865,
          238.3762134514153,
          234.97180658109357,
          231.55515710434344,
          228.12626502116493,
          226.4056976763614,
          224.67900902834376,
          222.94619907711194,
          221.2072678226659
         ]
        },
        {
         "fill": "tonexty",
         "mode": "none",
         "name": "Pompes à chaleur hybride",
         "type": "scatter",
         "x": [
          2021,
          2022,
          2023,
          2024,
          2025,
          2026,
          2027,
          2028,
          2029,
          2030,
          2031,
          2032,
          2033,
          2034,
          2035,
          2036,
          2037,
          2038,
          2039,
          2040,
          2041,
          2042,
          2043,
          2044,
          2045,
          2046,
          2047,
          2048,
          2049
         ],
         "y": [
          383.37596585926565,
          382.98255184235,
          377.97992350123945,
          372.95791103328406,
          367.9165144384837,
          359.92580803588595,
          351.90449511721704,
          343.8525756824773,
          335.77004973166646,
          327.65691726478474,
          316.25568268865095,
          304.8115989900178,
          293.3246661688853,
          281.79488422525344,
          270.22225315912215,
          265.2441902211376,
          260.2477633735105,
          255.23297261624077,
          250.1998179493285,
          245.1482993727736,
          241.76837771530865,
          238.3762134514153,
          234.97180658109357,
          231.5551571043434,
          228.12626502116493,
          226.40569767636143,
          224.67900902834376,
          222.94619907711194,
          221.20726782266587
         ]
        }
       ],
       "layout": {
        "template": {
         "data": {
          "bar": [
           {
            "error_x": {
             "color": "#2a3f5f"
            },
            "error_y": {
             "color": "#2a3f5f"
            },
            "marker": {
             "line": {
              "color": "#E5ECF6",
              "width": 0.5
             },
             "pattern": {
              "fillmode": "overlay",
              "size": 10,
              "solidity": 0.2
             }
            },
            "type": "bar"
           }
          ],
          "barpolar": [
           {
            "marker": {
             "line": {
              "color": "#E5ECF6",
              "width": 0.5
             },
             "pattern": {
              "fillmode": "overlay",
              "size": 10,
              "solidity": 0.2
             }
            },
            "type": "barpolar"
           }
          ],
          "carpet": [
           {
            "aaxis": {
             "endlinecolor": "#2a3f5f",
             "gridcolor": "white",
             "linecolor": "white",
             "minorgridcolor": "white",
             "startlinecolor": "#2a3f5f"
            },
            "baxis": {
             "endlinecolor": "#2a3f5f",
             "gridcolor": "white",
             "linecolor": "white",
             "minorgridcolor": "white",
             "startlinecolor": "#2a3f5f"
            },
            "type": "carpet"
           }
          ],
          "choropleth": [
           {
            "colorbar": {
             "outlinewidth": 0,
             "ticks": ""
            },
            "type": "choropleth"
           }
          ],
          "contour": [
           {
            "colorbar": {
             "outlinewidth": 0,
             "ticks": ""
            },
            "colorscale": [
             [
              0,
              "#0d0887"
             ],
             [
              0.1111111111111111,
              "#46039f"
             ],
             [
              0.2222222222222222,
              "#7201a8"
             ],
             [
              0.3333333333333333,
              "#9c179e"
             ],
             [
              0.4444444444444444,
              "#bd3786"
             ],
             [
              0.5555555555555556,
              "#d8576b"
             ],
             [
              0.6666666666666666,
              "#ed7953"
             ],
             [
              0.7777777777777778,
              "#fb9f3a"
             ],
             [
              0.8888888888888888,
              "#fdca26"
             ],
             [
              1,
              "#f0f921"
             ]
            ],
            "type": "contour"
           }
          ],
          "contourcarpet": [
           {
            "colorbar": {
             "outlinewidth": 0,
             "ticks": ""
            },
            "type": "contourcarpet"
           }
          ],
          "heatmap": [
           {
            "colorbar": {
             "outlinewidth": 0,
             "ticks": ""
            },
            "colorscale": [
             [
              0,
              "#0d0887"
             ],
             [
              0.1111111111111111,
              "#46039f"
             ],
             [
              0.2222222222222222,
              "#7201a8"
             ],
             [
              0.3333333333333333,
              "#9c179e"
             ],
             [
              0.4444444444444444,
              "#bd3786"
             ],
             [
              0.5555555555555556,
              "#d8576b"
             ],
             [
              0.6666666666666666,
              "#ed7953"
             ],
             [
              0.7777777777777778,
              "#fb9f3a"
             ],
             [
              0.8888888888888888,
              "#fdca26"
             ],
             [
              1,
              "#f0f921"
             ]
            ],
            "type": "heatmap"
           }
          ],
          "heatmapgl": [
           {
            "colorbar": {
             "outlinewidth": 0,
             "ticks": ""
            },
            "colorscale": [
             [
              0,
              "#0d0887"
             ],
             [
              0.1111111111111111,
              "#46039f"
             ],
             [
              0.2222222222222222,
              "#7201a8"
             ],
             [
              0.3333333333333333,
              "#9c179e"
             ],
             [
              0.4444444444444444,
              "#bd3786"
             ],
             [
              0.5555555555555556,
              "#d8576b"
             ],
             [
              0.6666666666666666,
              "#ed7953"
             ],
             [
              0.7777777777777778,
              "#fb9f3a"
             ],
             [
              0.8888888888888888,
              "#fdca26"
             ],
             [
              1,
              "#f0f921"
             ]
            ],
            "type": "heatmapgl"
           }
          ],
          "histogram": [
           {
            "marker": {
             "pattern": {
              "fillmode": "overlay",
              "size": 10,
              "solidity": 0.2
             }
            },
            "type": "histogram"
           }
          ],
          "histogram2d": [
           {
            "colorbar": {
             "outlinewidth": 0,
             "ticks": ""
            },
            "colorscale": [
             [
              0,
              "#0d0887"
             ],
             [
              0.1111111111111111,
              "#46039f"
             ],
             [
              0.2222222222222222,
              "#7201a8"
             ],
             [
              0.3333333333333333,
              "#9c179e"
             ],
             [
              0.4444444444444444,
              "#bd3786"
             ],
             [
              0.5555555555555556,
              "#d8576b"
             ],
             [
              0.6666666666666666,
              "#ed7953"
             ],
             [
              0.7777777777777778,
              "#fb9f3a"
             ],
             [
              0.8888888888888888,
              "#fdca26"
             ],
             [
              1,
              "#f0f921"
             ]
            ],
            "type": "histogram2d"
           }
          ],
          "histogram2dcontour": [
           {
            "colorbar": {
             "outlinewidth": 0,
             "ticks": ""
            },
            "colorscale": [
             [
              0,
              "#0d0887"
             ],
             [
              0.1111111111111111,
              "#46039f"
             ],
             [
              0.2222222222222222,
              "#7201a8"
             ],
             [
              0.3333333333333333,
              "#9c179e"
             ],
             [
              0.4444444444444444,
              "#bd3786"
             ],
             [
              0.5555555555555556,
              "#d8576b"
             ],
             [
              0.6666666666666666,
              "#ed7953"
             ],
             [
              0.7777777777777778,
              "#fb9f3a"
             ],
             [
              0.8888888888888888,
              "#fdca26"
             ],
             [
              1,
              "#f0f921"
             ]
            ],
            "type": "histogram2dcontour"
           }
          ],
          "mesh3d": [
           {
            "colorbar": {
             "outlinewidth": 0,
             "ticks": ""
            },
            "type": "mesh3d"
           }
          ],
          "parcoords": [
           {
            "line": {
             "colorbar": {
              "outlinewidth": 0,
              "ticks": ""
             }
            },
            "type": "parcoords"
           }
          ],
          "pie": [
           {
            "automargin": true,
            "type": "pie"
           }
          ],
          "scatter": [
           {
            "fillpattern": {
             "fillmode": "overlay",
             "size": 10,
             "solidity": 0.2
            },
            "type": "scatter"
           }
          ],
          "scatter3d": [
           {
            "line": {
             "colorbar": {
              "outlinewidth": 0,
              "ticks": ""
             }
            },
            "marker": {
             "colorbar": {
              "outlinewidth": 0,
              "ticks": ""
             }
            },
            "type": "scatter3d"
           }
          ],
          "scattercarpet": [
           {
            "marker": {
             "colorbar": {
              "outlinewidth": 0,
              "ticks": ""
             }
            },
            "type": "scattercarpet"
           }
          ],
          "scattergeo": [
           {
            "marker": {
             "colorbar": {
              "outlinewidth": 0,
              "ticks": ""
             }
            },
            "type": "scattergeo"
           }
          ],
          "scattergl": [
           {
            "marker": {
             "colorbar": {
              "outlinewidth": 0,
              "ticks": ""
             }
            },
            "type": "scattergl"
           }
          ],
          "scattermapbox": [
           {
            "marker": {
             "colorbar": {
              "outlinewidth": 0,
              "ticks": ""
             }
            },
            "type": "scattermapbox"
           }
          ],
          "scatterpolar": [
           {
            "marker": {
             "colorbar": {
              "outlinewidth": 0,
              "ticks": ""
             }
            },
            "type": "scatterpolar"
           }
          ],
          "scatterpolargl": [
           {
            "marker": {
             "colorbar": {
              "outlinewidth": 0,
              "ticks": ""
             }
            },
            "type": "scatterpolargl"
           }
          ],
          "scatterternary": [
           {
            "marker": {
             "colorbar": {
              "outlinewidth": 0,
              "ticks": ""
             }
            },
            "type": "scatterternary"
           }
          ],
          "surface": [
           {
            "colorbar": {
             "outlinewidth": 0,
             "ticks": ""
            },
            "colorscale": [
             [
              0,
              "#0d0887"
             ],
             [
              0.1111111111111111,
              "#46039f"
             ],
             [
              0.2222222222222222,
              "#7201a8"
             ],
             [
              0.3333333333333333,
              "#9c179e"
             ],
             [
              0.4444444444444444,
              "#bd3786"
             ],
             [
              0.5555555555555556,
              "#d8576b"
             ],
             [
              0.6666666666666666,
              "#ed7953"
             ],
             [
              0.7777777777777778,
              "#fb9f3a"
             ],
             [
              0.8888888888888888,
              "#fdca26"
             ],
             [
              1,
              "#f0f921"
             ]
            ],
            "type": "surface"
           }
          ],
          "table": [
           {
            "cells": {
             "fill": {
              "color": "#EBF0F8"
             },
             "line": {
              "color": "white"
             }
            },
            "header": {
             "fill": {
              "color": "#C8D4E3"
             },
             "line": {
              "color": "white"
             }
            },
            "type": "table"
           }
          ]
         },
         "layout": {
          "annotationdefaults": {
           "arrowcolor": "#2a3f5f",
           "arrowhead": 0,
           "arrowwidth": 1
          },
          "autotypenumbers": "strict",
          "coloraxis": {
           "colorbar": {
            "outlinewidth": 0,
            "ticks": ""
           }
          },
          "colorscale": {
           "diverging": [
            [
             0,
             "#8e0152"
            ],
            [
             0.1,
             "#c51b7d"
            ],
            [
             0.2,
             "#de77ae"
            ],
            [
             0.3,
             "#f1b6da"
            ],
            [
             0.4,
             "#fde0ef"
            ],
            [
             0.5,
             "#f7f7f7"
            ],
            [
             0.6,
             "#e6f5d0"
            ],
            [
             0.7,
             "#b8e186"
            ],
            [
             0.8,
             "#7fbc41"
            ],
            [
             0.9,
             "#4d9221"
            ],
            [
             1,
             "#276419"
            ]
           ],
           "sequential": [
            [
             0,
             "#0d0887"
            ],
            [
             0.1111111111111111,
             "#46039f"
            ],
            [
             0.2222222222222222,
             "#7201a8"
            ],
            [
             0.3333333333333333,
             "#9c179e"
            ],
            [
             0.4444444444444444,
             "#bd3786"
            ],
            [
             0.5555555555555556,
             "#d8576b"
            ],
            [
             0.6666666666666666,
             "#ed7953"
            ],
            [
             0.7777777777777778,
             "#fb9f3a"
            ],
            [
             0.8888888888888888,
             "#fdca26"
            ],
            [
             1,
             "#f0f921"
            ]
           ],
           "sequentialminus": [
            [
             0,
             "#0d0887"
            ],
            [
             0.1111111111111111,
             "#46039f"
            ],
            [
             0.2222222222222222,
             "#7201a8"
            ],
            [
             0.3333333333333333,
             "#9c179e"
            ],
            [
             0.4444444444444444,
             "#bd3786"
            ],
            [
             0.5555555555555556,
             "#d8576b"
            ],
            [
             0.6666666666666666,
             "#ed7953"
            ],
            [
             0.7777777777777778,
             "#fb9f3a"
            ],
            [
             0.8888888888888888,
             "#fdca26"
            ],
            [
             1,
             "#f0f921"
            ]
           ]
          },
          "colorway": [
           "#636efa",
           "#EF553B",
           "#00cc96",
           "#ab63fa",
           "#FFA15A",
           "#19d3f3",
           "#FF6692",
           "#B6E880",
           "#FF97FF",
           "#FECB52"
          ],
          "font": {
           "color": "#2a3f5f"
          },
          "geo": {
           "bgcolor": "white",
           "lakecolor": "white",
           "landcolor": "#E5ECF6",
           "showlakes": true,
           "showland": true,
           "subunitcolor": "white"
          },
          "hoverlabel": {
           "align": "left"
          },
          "hovermode": "closest",
          "mapbox": {
           "style": "light"
          },
          "paper_bgcolor": "white",
          "plot_bgcolor": "#E5ECF6",
          "polar": {
           "angularaxis": {
            "gridcolor": "white",
            "linecolor": "white",
            "ticks": ""
           },
           "bgcolor": "#E5ECF6",
           "radialaxis": {
            "gridcolor": "white",
            "linecolor": "white",
            "ticks": ""
           }
          },
          "scene": {
           "xaxis": {
            "backgroundcolor": "#E5ECF6",
            "gridcolor": "white",
            "gridwidth": 2,
            "linecolor": "white",
            "showbackground": true,
            "ticks": "",
            "zerolinecolor": "white"
           },
           "yaxis": {
            "backgroundcolor": "#E5ECF6",
            "gridcolor": "white",
            "gridwidth": 2,
            "linecolor": "white",
            "showbackground": true,
            "ticks": "",
            "zerolinecolor": "white"
           },
           "zaxis": {
            "backgroundcolor": "#E5ECF6",
            "gridcolor": "white",
            "gridwidth": 2,
            "linecolor": "white",
            "showbackground": true,
            "ticks": "",
            "zerolinecolor": "white"
           }
          },
          "shapedefaults": {
           "line": {
            "color": "#2a3f5f"
           }
          },
          "ternary": {
           "aaxis": {
            "gridcolor": "white",
            "linecolor": "white",
            "ticks": ""
           },
           "baxis": {
            "gridcolor": "white",
            "linecolor": "white",
            "ticks": ""
           },
           "bgcolor": "#E5ECF6",
           "caxis": {
            "gridcolor": "white",
            "linecolor": "white",
            "ticks": ""
           }
          },
          "title": {
           "x": 0.05
          },
          "xaxis": {
           "automargin": true,
           "gridcolor": "white",
           "linecolor": "white",
           "ticks": "",
           "title": {
            "standoff": 15
           },
           "zerolinecolor": "white",
           "zerolinewidth": 2
          },
          "yaxis": {
           "automargin": true,
           "gridcolor": "white",
           "linecolor": "white",
           "ticks": "",
           "title": {
            "standoff": 15
           },
           "zerolinecolor": "white",
           "zerolinewidth": 2
          }
         }
        },
        "title": {
         "text": "Conso d'énergie par mode de chauffage (en TWh)"
        },
        "xaxis": {
         "rangeslider": {
          "visible": true
         },
         "title": {
          "text": "Année"
         }
        },
        "yaxis": {
         "title": {
          "text": "Consommation [TWh]"
         }
        }
       }
      },
      "text/html": [
       "<div>                            <div id=\"f939043c-8080-465e-94ff-c9f81ed9a5be\" class=\"plotly-graph-div\" style=\"height:525px; width:100%;\"></div>            <script type=\"text/javascript\">                require([\"plotly\"], function(Plotly) {                    window.PLOTLYENV=window.PLOTLYENV || {};                                    if (document.getElementById(\"f939043c-8080-465e-94ff-c9f81ed9a5be\")) {                    Plotly.newPlot(                        \"f939043c-8080-465e-94ff-c9f81ed9a5be\",                        [{\"fill\":\"tozeroy\",\"mode\":\"none\",\"name\":\"Biomasse\",\"x\":[2021,2022,2023,2024,2025,2026,2027,2028,2029,2030,2031,2032,2033,2034,2035,2036,2037,2038,2039,2040,2041,2042,2043,2044,2045,2046,2047,2048,2049],\"y\":[67.50015945258465,67.51569422865556,67.70475227201428,67.88609452850011,68.05972099811304,68.32168523401833,68.57146664854535,68.80906524169413,69.0344810134646,69.24771396385682,69.52918414447637,69.79359837516634,70.04095665592672,70.27125898675756,70.48450536765878,70.56858698093237,70.64535890137897,70.71482112899864,70.77697366379132,70.83181650575705,70.86350527184956,70.89032090939078,70.91226341838066,70.92933279881926,70.94152905070656,70.94519061237455,70.94641560976687,70.94520404288356,70.94155591172459],\"type\":\"scatter\"},{\"fill\":\"tonexty\",\"mode\":\"none\",\"name\":\"Chaudi\\u00e8re fioul\",\"x\":[2021,2022,2023,2024,2025,2026,2027,2028,2029,2030,2031,2032,2033,2034,2035,2036,2037,2038,2039,2040,2041,2042,2043,2044,2045,2046,2047,2048,2049],\"y\":[140.99963820986966,140.83096376599752,138.68670502341067,136.53473049395095,134.3750401776183,130.95282001466222,127.51841703032783,124.0718312246152,120.61306259752426,117.14211114905508,112.26572317126868,107.37227924355267,102.46177936590709,97.53422353833197,92.58961176082721,90.46318273478396,88.32944401591372,86.18839560421654,84.04003749969239,81.88436970234127,80.44238470888922,78.99552658688587,77.5437953363312,76.08719095722523,74.62571344956798,73.89253813146368,73.15692624908372,72.41887780242813,71.67839279149688],\"type\":\"scatter\"},{\"fill\":\"tonexty\",\"mode\":\"none\",\"name\":\"Chaudi\\u00e8re gaz\",\"x\":[2021,2022,2023,2024,2025,2026,2027,2028,2029,2030,2031,2032,2033,2034,2035,2036,2037,2038,2039,2040,2041,2042,2043,2044,2045,2046,2047,2048,2049],\"y\":[306.7768747261174,306.26098725336044,299.7165694089498,293.16230837504975,286.5982041516604,276.2182871839572,265.82282833811286,255.4118276141275,244.98528501200104,234.54320053173353,219.90252362996148,205.2400880987919,190.55589393822484,175.8499411482603,161.12222972889816,154.80102827942977,148.47050170307674,142.13064999983905,135.78147316971672,129.42297121270974,125.17775315678198,120.92631834959779,116.6686667911572,112.40479848146015,108.13471342050669,105.99656251440172,103.85530323266855,101.71093557530716,99.56345954231756],\"type\":\"scatter\"},{\"fill\":\"tonexty\",\"mode\":\"none\",\"name\":\"Chauffage urbain\",\"x\":[2021,2022,2023,2024,2025,2026,2027,2028,2029,2030,2031,2032,2033,2034,2035,2036,2037,2038,2039,2040,2041,2042,2043,2044,2045,2046,2047,2048,2049],\"y\":[331.7926299527913,331.42226342913915,326.71484672093226,321.99132260411227,317.25169107867924,309.74262960386966,302.20813537861824,294.6482084029252,287.06284867679045,279.4520562002141,268.76134088238865,258.03501971394485,247.27309269488273,236.47555982520225,225.6424211049033,220.98438771736733,216.31109467956634,211.62254199150033,206.9187296531693,202.19965766457327,199.0434365719992,195.8770423792485,192.7004750863211,189.51373469321703,186.31682119993627,184.71327790320748,183.10464805639046,181.49093165948506,179.8721287124913],\"type\":\"scatter\"},{\"fill\":\"tonexty\",\"mode\":\"none\",\"name\":\"Chauffage \\u00e9lectrique\",\"x\":[2021,2022,2023,2024,2025,2026,2027,2028,2029,2030,2031,2032,2033,2034,2035,2036,2037,2038,2039,2040,2041,2042,2043,2044,2045,2046,2047,2048,2049],\"y\":[379.3438150449499,378.8866949529013,373.0792692090506,367.2546055539656,361.41270398764624,352.161431128351,342.8829405144751,333.5772321460188,324.24430602298185,314.8841621453645,301.7418558602873,288.56144471879736,275.34292872089475,262.0863078665794,248.79158215585116,243.07751191279078,237.34711101698207,231.60037946842505,225.8373172671197,220.05792441306605,216.19410874186468,212.31940596883118,208.43381609396542,204.53733911726746,200.62997503873726,198.670849448556,196.7062803074587,194.7362676154453,192.76081137251578],\"type\":\"scatter\"},{\"fill\":\"tonexty\",\"mode\":\"none\",\"name\":\"Pompes \\u00e0 chaleur air-air\",\"x\":[2021,2022,2023,2024,2025,2026,2027,2028,2029,2030,2031,2032,2033,2034,2035,2036,2037,2038,2039,2040,2041,2042,2043,2044,2045,2046,2047,2048,2049],\"y\":[381.08915289795306,380.66352719495393,375.2538412177573,369.8257281680201,364.3791880457423,355.75029247497645,347.09230152651475,338.40521520035753,329.68903349650446,320.9437564149558,308.65963497201363,296.3347800002975,283.96919149980744,271.5628694705434,259.11581391250525,253.76390430387153,248.39453746862037,243.0077134067518,237.60343211826583,232.18169360316244,228.55556310868187,224.91779446312307,221.26838766648598,217.6073427187706,213.93465961997694,212.0924989950409,210.2445192945658,208.39072051855157,206.53110266699818],\"type\":\"scatter\"},{\"fill\":\"tonexty\",\"mode\":\"none\",\"name\":\"Pompes \\u00e0 chaleur air-eau\",\"x\":[2021,2022,2023,2024,2025,2026,2027,2028,2029,2030,2031,2032,2033,2034,2035,2036,2037,2038,2039,2040,2041,2042,2043,2044,2045,2046,2047,2048,2049],\"y\":[383.3759658592657,382.98255184235006,377.97992350123957,372.95791103328406,367.9165144384838,359.92580803588595,351.90449511721704,343.8525756824773,335.77004973166646,327.6569172647848,316.25568268865095,304.8115989900178,293.3246661688853,281.79488422525344,270.22225315912215,265.2441902211376,260.24776337351045,255.23297261624077,250.1998179493285,245.14829937277364,241.76837771530865,238.3762134514153,234.97180658109357,231.55515710434344,228.12626502116493,226.4056976763614,224.67900902834376,222.94619907711194,221.2072678226659],\"type\":\"scatter\"},{\"fill\":\"tonexty\",\"mode\":\"none\",\"name\":\"Pompes \\u00e0 chaleur hybride\",\"x\":[2021,2022,2023,2024,2025,2026,2027,2028,2029,2030,2031,2032,2033,2034,2035,2036,2037,2038,2039,2040,2041,2042,2043,2044,2045,2046,2047,2048,2049],\"y\":[383.37596585926565,382.98255184235,377.97992350123945,372.95791103328406,367.9165144384837,359.92580803588595,351.90449511721704,343.8525756824773,335.77004973166646,327.65691726478474,316.25568268865095,304.8115989900178,293.3246661688853,281.79488422525344,270.22225315912215,265.2441902211376,260.2477633735105,255.23297261624077,250.1998179493285,245.1482993727736,241.76837771530865,238.3762134514153,234.97180658109357,231.5551571043434,228.12626502116493,226.40569767636143,224.67900902834376,222.94619907711194,221.20726782266587],\"type\":\"scatter\"}],                        {\"template\":{\"data\":{\"histogram2dcontour\":[{\"type\":\"histogram2dcontour\",\"colorbar\":{\"outlinewidth\":0,\"ticks\":\"\"},\"colorscale\":[[0.0,\"#0d0887\"],[0.1111111111111111,\"#46039f\"],[0.2222222222222222,\"#7201a8\"],[0.3333333333333333,\"#9c179e\"],[0.4444444444444444,\"#bd3786\"],[0.5555555555555556,\"#d8576b\"],[0.6666666666666666,\"#ed7953\"],[0.7777777777777778,\"#fb9f3a\"],[0.8888888888888888,\"#fdca26\"],[1.0,\"#f0f921\"]]}],\"choropleth\":[{\"type\":\"choropleth\",\"colorbar\":{\"outlinewidth\":0,\"ticks\":\"\"}}],\"histogram2d\":[{\"type\":\"histogram2d\",\"colorbar\":{\"outlinewidth\":0,\"ticks\":\"\"},\"colorscale\":[[0.0,\"#0d0887\"],[0.1111111111111111,\"#46039f\"],[0.2222222222222222,\"#7201a8\"],[0.3333333333333333,\"#9c179e\"],[0.4444444444444444,\"#bd3786\"],[0.5555555555555556,\"#d8576b\"],[0.6666666666666666,\"#ed7953\"],[0.7777777777777778,\"#fb9f3a\"],[0.8888888888888888,\"#fdca26\"],[1.0,\"#f0f921\"]]}],\"heatmap\":[{\"type\":\"heatmap\",\"colorbar\":{\"outlinewidth\":0,\"ticks\":\"\"},\"colorscale\":[[0.0,\"#0d0887\"],[0.1111111111111111,\"#46039f\"],[0.2222222222222222,\"#7201a8\"],[0.3333333333333333,\"#9c179e\"],[0.4444444444444444,\"#bd3786\"],[0.5555555555555556,\"#d8576b\"],[0.6666666666666666,\"#ed7953\"],[0.7777777777777778,\"#fb9f3a\"],[0.8888888888888888,\"#fdca26\"],[1.0,\"#f0f921\"]]}],\"heatmapgl\":[{\"type\":\"heatmapgl\",\"colorbar\":{\"outlinewidth\":0,\"ticks\":\"\"},\"colorscale\":[[0.0,\"#0d0887\"],[0.1111111111111111,\"#46039f\"],[0.2222222222222222,\"#7201a8\"],[0.3333333333333333,\"#9c179e\"],[0.4444444444444444,\"#bd3786\"],[0.5555555555555556,\"#d8576b\"],[0.6666666666666666,\"#ed7953\"],[0.7777777777777778,\"#fb9f3a\"],[0.8888888888888888,\"#fdca26\"],[1.0,\"#f0f921\"]]}],\"contourcarpet\":[{\"type\":\"contourcarpet\",\"colorbar\":{\"outlinewidth\":0,\"ticks\":\"\"}}],\"contour\":[{\"type\":\"contour\",\"colorbar\":{\"outlinewidth\":0,\"ticks\":\"\"},\"colorscale\":[[0.0,\"#0d0887\"],[0.1111111111111111,\"#46039f\"],[0.2222222222222222,\"#7201a8\"],[0.3333333333333333,\"#9c179e\"],[0.4444444444444444,\"#bd3786\"],[0.5555555555555556,\"#d8576b\"],[0.6666666666666666,\"#ed7953\"],[0.7777777777777778,\"#fb9f3a\"],[0.8888888888888888,\"#fdca26\"],[1.0,\"#f0f921\"]]}],\"surface\":[{\"type\":\"surface\",\"colorbar\":{\"outlinewidth\":0,\"ticks\":\"\"},\"colorscale\":[[0.0,\"#0d0887\"],[0.1111111111111111,\"#46039f\"],[0.2222222222222222,\"#7201a8\"],[0.3333333333333333,\"#9c179e\"],[0.4444444444444444,\"#bd3786\"],[0.5555555555555556,\"#d8576b\"],[0.6666666666666666,\"#ed7953\"],[0.7777777777777778,\"#fb9f3a\"],[0.8888888888888888,\"#fdca26\"],[1.0,\"#f0f921\"]]}],\"mesh3d\":[{\"type\":\"mesh3d\",\"colorbar\":{\"outlinewidth\":0,\"ticks\":\"\"}}],\"scatter\":[{\"fillpattern\":{\"fillmode\":\"overlay\",\"size\":10,\"solidity\":0.2},\"type\":\"scatter\"}],\"parcoords\":[{\"type\":\"parcoords\",\"line\":{\"colorbar\":{\"outlinewidth\":0,\"ticks\":\"\"}}}],\"scatterpolargl\":[{\"type\":\"scatterpolargl\",\"marker\":{\"colorbar\":{\"outlinewidth\":0,\"ticks\":\"\"}}}],\"bar\":[{\"error_x\":{\"color\":\"#2a3f5f\"},\"error_y\":{\"color\":\"#2a3f5f\"},\"marker\":{\"line\":{\"color\":\"#E5ECF6\",\"width\":0.5},\"pattern\":{\"fillmode\":\"overlay\",\"size\":10,\"solidity\":0.2}},\"type\":\"bar\"}],\"scattergeo\":[{\"type\":\"scattergeo\",\"marker\":{\"colorbar\":{\"outlinewidth\":0,\"ticks\":\"\"}}}],\"scatterpolar\":[{\"type\":\"scatterpolar\",\"marker\":{\"colorbar\":{\"outlinewidth\":0,\"ticks\":\"\"}}}],\"histogram\":[{\"marker\":{\"pattern\":{\"fillmode\":\"overlay\",\"size\":10,\"solidity\":0.2}},\"type\":\"histogram\"}],\"scattergl\":[{\"type\":\"scattergl\",\"marker\":{\"colorbar\":{\"outlinewidth\":0,\"ticks\":\"\"}}}],\"scatter3d\":[{\"type\":\"scatter3d\",\"line\":{\"colorbar\":{\"outlinewidth\":0,\"ticks\":\"\"}},\"marker\":{\"colorbar\":{\"outlinewidth\":0,\"ticks\":\"\"}}}],\"scattermapbox\":[{\"type\":\"scattermapbox\",\"marker\":{\"colorbar\":{\"outlinewidth\":0,\"ticks\":\"\"}}}],\"scatterternary\":[{\"type\":\"scatterternary\",\"marker\":{\"colorbar\":{\"outlinewidth\":0,\"ticks\":\"\"}}}],\"scattercarpet\":[{\"type\":\"scattercarpet\",\"marker\":{\"colorbar\":{\"outlinewidth\":0,\"ticks\":\"\"}}}],\"carpet\":[{\"aaxis\":{\"endlinecolor\":\"#2a3f5f\",\"gridcolor\":\"white\",\"linecolor\":\"white\",\"minorgridcolor\":\"white\",\"startlinecolor\":\"#2a3f5f\"},\"baxis\":{\"endlinecolor\":\"#2a3f5f\",\"gridcolor\":\"white\",\"linecolor\":\"white\",\"minorgridcolor\":\"white\",\"startlinecolor\":\"#2a3f5f\"},\"type\":\"carpet\"}],\"table\":[{\"cells\":{\"fill\":{\"color\":\"#EBF0F8\"},\"line\":{\"color\":\"white\"}},\"header\":{\"fill\":{\"color\":\"#C8D4E3\"},\"line\":{\"color\":\"white\"}},\"type\":\"table\"}],\"barpolar\":[{\"marker\":{\"line\":{\"color\":\"#E5ECF6\",\"width\":0.5},\"pattern\":{\"fillmode\":\"overlay\",\"size\":10,\"solidity\":0.2}},\"type\":\"barpolar\"}],\"pie\":[{\"automargin\":true,\"type\":\"pie\"}]},\"layout\":{\"autotypenumbers\":\"strict\",\"colorway\":[\"#636efa\",\"#EF553B\",\"#00cc96\",\"#ab63fa\",\"#FFA15A\",\"#19d3f3\",\"#FF6692\",\"#B6E880\",\"#FF97FF\",\"#FECB52\"],\"font\":{\"color\":\"#2a3f5f\"},\"hovermode\":\"closest\",\"hoverlabel\":{\"align\":\"left\"},\"paper_bgcolor\":\"white\",\"plot_bgcolor\":\"#E5ECF6\",\"polar\":{\"bgcolor\":\"#E5ECF6\",\"angularaxis\":{\"gridcolor\":\"white\",\"linecolor\":\"white\",\"ticks\":\"\"},\"radialaxis\":{\"gridcolor\":\"white\",\"linecolor\":\"white\",\"ticks\":\"\"}},\"ternary\":{\"bgcolor\":\"#E5ECF6\",\"aaxis\":{\"gridcolor\":\"white\",\"linecolor\":\"white\",\"ticks\":\"\"},\"baxis\":{\"gridcolor\":\"white\",\"linecolor\":\"white\",\"ticks\":\"\"},\"caxis\":{\"gridcolor\":\"white\",\"linecolor\":\"white\",\"ticks\":\"\"}},\"coloraxis\":{\"colorbar\":{\"outlinewidth\":0,\"ticks\":\"\"}},\"colorscale\":{\"sequential\":[[0.0,\"#0d0887\"],[0.1111111111111111,\"#46039f\"],[0.2222222222222222,\"#7201a8\"],[0.3333333333333333,\"#9c179e\"],[0.4444444444444444,\"#bd3786\"],[0.5555555555555556,\"#d8576b\"],[0.6666666666666666,\"#ed7953\"],[0.7777777777777778,\"#fb9f3a\"],[0.8888888888888888,\"#fdca26\"],[1.0,\"#f0f921\"]],\"sequentialminus\":[[0.0,\"#0d0887\"],[0.1111111111111111,\"#46039f\"],[0.2222222222222222,\"#7201a8\"],[0.3333333333333333,\"#9c179e\"],[0.4444444444444444,\"#bd3786\"],[0.5555555555555556,\"#d8576b\"],[0.6666666666666666,\"#ed7953\"],[0.7777777777777778,\"#fb9f3a\"],[0.8888888888888888,\"#fdca26\"],[1.0,\"#f0f921\"]],\"diverging\":[[0,\"#8e0152\"],[0.1,\"#c51b7d\"],[0.2,\"#de77ae\"],[0.3,\"#f1b6da\"],[0.4,\"#fde0ef\"],[0.5,\"#f7f7f7\"],[0.6,\"#e6f5d0\"],[0.7,\"#b8e186\"],[0.8,\"#7fbc41\"],[0.9,\"#4d9221\"],[1,\"#276419\"]]},\"xaxis\":{\"gridcolor\":\"white\",\"linecolor\":\"white\",\"ticks\":\"\",\"title\":{\"standoff\":15},\"zerolinecolor\":\"white\",\"automargin\":true,\"zerolinewidth\":2},\"yaxis\":{\"gridcolor\":\"white\",\"linecolor\":\"white\",\"ticks\":\"\",\"title\":{\"standoff\":15},\"zerolinecolor\":\"white\",\"automargin\":true,\"zerolinewidth\":2},\"scene\":{\"xaxis\":{\"backgroundcolor\":\"#E5ECF6\",\"gridcolor\":\"white\",\"linecolor\":\"white\",\"showbackground\":true,\"ticks\":\"\",\"zerolinecolor\":\"white\",\"gridwidth\":2},\"yaxis\":{\"backgroundcolor\":\"#E5ECF6\",\"gridcolor\":\"white\",\"linecolor\":\"white\",\"showbackground\":true,\"ticks\":\"\",\"zerolinecolor\":\"white\",\"gridwidth\":2},\"zaxis\":{\"backgroundcolor\":\"#E5ECF6\",\"gridcolor\":\"white\",\"linecolor\":\"white\",\"showbackground\":true,\"ticks\":\"\",\"zerolinecolor\":\"white\",\"gridwidth\":2}},\"shapedefaults\":{\"line\":{\"color\":\"#2a3f5f\"}},\"annotationdefaults\":{\"arrowcolor\":\"#2a3f5f\",\"arrowhead\":0,\"arrowwidth\":1},\"geo\":{\"bgcolor\":\"white\",\"landcolor\":\"#E5ECF6\",\"subunitcolor\":\"white\",\"showland\":true,\"showlakes\":true,\"lakecolor\":\"white\"},\"title\":{\"x\":0.05},\"mapbox\":{\"style\":\"light\"}}},\"xaxis\":{\"rangeslider\":{\"visible\":true},\"title\":{\"text\":\"Ann\\u00e9e\"}},\"title\":{\"text\":\"Conso d'\\u00e9nergie par mode de chauffage (en TWh)\"},\"yaxis\":{\"title\":{\"text\":\"Consommation [TWh]\"}}},                        {\"responsive\": true}                    ).then(function(){\n",
       "                            \n",
       "var gd = document.getElementById('f939043c-8080-465e-94ff-c9f81ed9a5be');\n",
       "var x = new MutationObserver(function (mutations, observer) {{\n",
       "        var display = window.getComputedStyle(gd).display;\n",
       "        if (!display || display === 'none') {{\n",
       "            console.log([gd, 'removed!']);\n",
       "            Plotly.purge(gd);\n",
       "            observer.disconnect();\n",
       "        }}\n",
       "}});\n",
       "\n",
       "// Listen for the removal of the full notebook cells\n",
       "var notebookContainer = gd.closest('#notebook-container');\n",
       "if (notebookContainer) {{\n",
       "    x.observe(notebookContainer, {childList: true});\n",
       "}}\n",
       "\n",
       "// Listen for the clearing of the current output cell\n",
       "var outputEl = gd.closest('.output');\n",
       "if (outputEl) {{\n",
       "    x.observe(outputEl, {childList: true});\n",
       "}}\n",
       "\n",
       "                        })                };                });            </script>        </div>"
      ]
     },
     "metadata": {},
     "output_type": "display_data"
    }
   ],
   "source": [
    "Var = \"Conso\"\n",
    "y_df = sim_stock_new_df.groupby([\"year\", \"Energy_source\"])[Var].sum().to_frame().reset_index(). \\\n",
    "           pivot(index=['year'], columns='Energy_source').loc[[year for year in sim_param[\"years\"][1:]], Var] / 10 ** 9\n",
    "fig = MyStackedPlotly(y_df=y_df)\n",
    "fig = fig.update_layout(title_text=\"Conso d'énergie par mode de chauffage (en TWh)\", xaxis_title=\"Année\",\n",
    "                        yaxis_title=\"Consommation [TWh]\")\n",
    "fig.show()"
   ],
   "metadata": {
    "collapsed": false,
    "pycharm": {
     "name": "#%%\n"
    }
   }
  },
  {
   "cell_type": "code",
   "execution_count": null,
   "outputs": [],
   "source": [
    "Var = \"Besoin\"\n",
    "y_df = sim_stock_new_df.groupby([\"year\", \"building_type\"])[Var].sum().to_frame().reset_index(). \\\n",
    "           pivot(index=['year'], columns='building_type').loc[[year for year in sim_param[\"years\"][1:]], Var] / 10 ** 9\n",
    "fig = MyStackedPlotly(y_df=y_df)\n",
    "fig = fig.update_layout(title_text=\"Besoin d'énergie de chauffage par vecteur énergétique (en TWh)\", xaxis_title=\"Année\",\n",
    "                        yaxis_title=\"Besoin [TWh]\")\n",
    "fig.show()"
   ],
   "metadata": {
    "collapsed": false,
    "pycharm": {
     "name": "#%%\n"
    }
   }
  },
  {
   "cell_type": "code",
   "execution_count": null,
   "outputs": [],
   "source": [
    "emission_reduction=sim_stock_new_df.copy().reset_index()\n",
    "emission_reduction=(initial_emissions-emission_reduction[emission_reduction[\"year\"]==2049][\"emissions\"].sum()/10**12)/initial_emissions\n",
    "\n",
    "energy_cons_reduction=sim_stock_new_df.copy().reset_index()\n",
    "energy_cons_reduction=(initial_consumption-energy_cons_reduction[energy_cons_reduction[\"year\"]==2049][\"Conso\"].sum()/10**9)/initial_consumption\n",
    "\n",
    "energy_need_reduction=sim_stock_new_df.copy().reset_index()\n",
    "energy_need_reduction=(initial_need-energy_need_reduction[energy_need_reduction[\"year\"]==2049][\"Besoin\"].sum()/10**9)/initial_need\n",
    "\n",
    "print(\"Réduction des émissions de GES: \" + str(np.round(emission_reduction*100,2)) + \"%\")\n",
    "print(\"Réduction de la consommation: \" + str(np.round(energy_cons_reduction*100,2)) + \"%\")\n",
    "print(\"Réduction du besoin: \" + str(np.round(energy_need_reduction*100,2)) + \"%\")\n"
   ],
   "metadata": {
    "collapsed": false,
    "pycharm": {
     "name": "#%%\n"
    }
   }
  },
  {
   "cell_type": "markdown",
   "source": [
    "This new stock configuration, highly electrified, also impacts the electrical grid. Vizualize the new electrical peak and compare it with French installed capacity."
   ],
   "metadata": {
    "collapsed": false,
    "pycharm": {
     "name": "#%% md\n"
    }
   }
  },
  {
   "cell_type": "code",
   "execution_count": null,
   "outputs": [],
   "source": [
    "final_stock=sim_stock_new_df.copy().reset_index()\n",
    "\n",
    "themosensitivity_init=np.sum(final_stock[final_stock[\"year\"]==2021]['electrical_peak']/10**9)\n",
    "themosensitivity=np.sum(final_stock[final_stock[\"year\"]==2049]['electrical_peak']/10**9)\n",
    "\n",
    "print(\"Termosensibilité: \" + str(np.round(themosensitivity,2)) + \"GW/°C\")\n",
    "peak_power=themosensitivity*(15-T_base)\n",
    "print(\"Nouveau pic électrique: \" + str(np.round(peak_power,1)) +\"GW\")\n",
    "print(\"Augmentation du pic électrique: +\" + str(np.round((peak_power-initial_peak_power)/initial_peak_power*100,1)) +\"%\")\n",
    "themosensitivity"
   ],
   "metadata": {
    "collapsed": false,
    "pycharm": {
     "name": "#%%\n"
    }
   }
  },
  {
   "cell_type": "code",
   "execution_count": 175,
   "metadata": {
    "pycharm": {
     "name": "#%%\n"
    }
   },
   "outputs": [
    {
     "name": "stdout",
     "output_type": "stream",
     "text": [
      "Réduction des émissions de GES: 63.01%\n",
      "Réduction de la consommation: 42.36%\n",
      "Réduction du besoin: 35.2%\n",
      "Besoin final du parc: 63.75kWh/m²\n"
     ]
    }
   ],
   "source": [
    "emission_reduction=sim_stock_new_df.copy().reset_index()\n",
    "emission_reduction=(initial_emissions-emission_reduction[emission_reduction[\"year\"]==2049][\"emissions\"].sum()/10**12)/initial_emissions\n",
    "\n",
    "energy_cons_reduction=sim_stock_new_df.copy().reset_index()\n",
    "energy_cons_reduction=(initial_consumption-energy_cons_reduction[energy_cons_reduction[\"year\"]==2049][\"Conso\"].sum()/10**9)/initial_consumption\n",
    "\n",
    "energy_need=sim_stock_new_df.copy().reset_index()\n",
    "energy_need_reduction=(initial_need-energy_need[energy_need[\"year\"]==2049][\"Besoin\"].sum()/10**9)/initial_need\n",
    "\n",
    "surface_energy_need=(energy_need[energy_need[\"year\"]==2049][\"Besoin\"].sum())/(energy_need[energy_need[\"year\"]==2049][\"surface\"].sum())\n",
    "\n",
    "print(\"Réduction des émissions de GES: \" + str(np.round(emission_reduction*100,2)) + \"%\")\n",
    "print(\"Réduction de la consommation: \" + str(np.round(energy_cons_reduction*100,2)) + \"%\")\n",
    "print(\"Réduction du besoin: \" + str(np.round(energy_need_reduction*100,2)) + \"%\")\n",
    "print(\"Besoin final du parc: \" + str(np.round(surface_energy_need,2)) + \"kWh/m²\")"
   ]
  },
  {
   "cell_type": "markdown",
   "metadata": {},
   "source": [
    "This new stock configuration, highly electrified, also impacts the electrical grid. We can first estimate what was the power peak in th einitial stock, and then vizualize the peak evolution with the new installed heating systems.\n",
    "\n",
    "For the electricity peak, knowing that the actual residential electricity demand (about 35 TWh) represent a thermosensitivity of 1.5kW/°C (based on Enedis observations), we can estimate the global thermosensitivity due to electric heating in the residential and tertiary sectors."
   ]
  },
  {
   "cell_type": "code",
   "execution_count": 186,
   "metadata": {
    "pycharm": {
     "name": "#%%\n"
    }
   },
   "outputs": [
    {
     "name": "stdout",
     "output_type": "stream",
     "text": [
      "Thermosensibilité initiale:2.18GW/°C\n"
     ]
    }
   ],
   "source": [
    "init_stock_init=init_stock.copy().reset_index()\n",
    "init_stock_init=init_stock_init[init_stock_init[\"Vecteur\"]=='elec']\n",
    "themosensitivity=np.sum(init_stock_init['Consumption']*1.5/35/init_stock_init['peak_efficiency'])\n",
    "print(\"Thermosensibilité initiale: \" + str(np.round(themosensitivity,2)) + \" GW/°C\")"
   ]
  },
  {
   "cell_type": "markdown",
   "metadata": {
    "pycharm": {
     "name": "#%% md\n"
    }
   },
   "source": [
    "The peak electricity demand can thus be estimated by calculating the peak power at a very cold temperature (typically -5°C). Compare this value with French installed power capacity."
   ]
  },
  {
   "cell_type": "code",
   "execution_count": 187,
   "metadata": {
    "pycharm": {
     "name": "#%%\n"
    }
   },
   "outputs": [
    {
     "name": "stdout",
     "output_type": "stream",
     "text": [
      "Pic électrique initial: 43.6GW\n"
     ]
    }
   ],
   "source": [
    "T_base=-5\n",
    "initial_peak_power=themosensitivity*(15-T_base)\n",
    "print(\"Pic électrique initial: \" + str(np.round(initial_peak_power,1)) +\"GW\")"
   ]
  },
  {
   "cell_type": "code",
   "execution_count": 176,
   "metadata": {
    "pycharm": {
     "name": "#%%\n"
    }
   },
   "outputs": [
    {
     "name": "stdout",
     "output_type": "stream",
     "text": [
      "Termosensibilité: 1.56GW/°C\n",
      "Nouveau pic électrique: 31.2GW\n",
      "Ajout de puissance lors du pic électrique: -12.4GW\n",
      "Augmentation du pic électrique: -28.3%\n"
     ]
    }
   ],
   "source": [
    "final_stock=sim_stock_new_df.copy().reset_index()\n",
    "\n",
    "themosensitivity_init=np.sum(final_stock[final_stock[\"year\"]==2021]['electrical_peak']/10**9)\n",
    "themosensitivity=np.sum(final_stock[final_stock[\"year\"]==2049]['electrical_peak']/10**9)\n",
    "\n",
    "print(\"Termosensibilité: \" + str(np.round(themosensitivity,2)) + \"GW/°C\")\n",
    "peak_power=themosensitivity*(15-T_base)\n",
    "print(\"Nouveau pic électrique: \" + str(np.round(peak_power,1)) +\"GW\")\n",
    "print(\"Ajout de puissance lors du pic électrique: \" + str(np.round(peak_power-initial_peak_power,1)) +\"GW\")\n",
    "print(\"Augmentation du pic électrique: \" + str(np.round((peak_power-initial_peak_power)/initial_peak_power*100,1)) +\"%\")"
   ]
  },
  {
   "cell_type": "markdown",
   "metadata": {
    "pycharm": {
     "name": "#%% md\n"
    }
   },
   "source": [
    "### 3.3 Technical constraints and alternative paths <a class=\"anchor\" id=\"alternatives\"></a>\n",
    "The previous analysis highlighted the fact that it is not possible to simply electrify all heating uses, otherwise a high increase of the electericity peak demand is not compatible with the power production system.\n",
    "\n",
    "#### 3.3.1 Hybrid heat pumps\n",
    "One of the main solutions which can be discussed to reduce the electric heating peak demand while evoluting towards SNBC targets is the uptake of hybrid heat pumps (which are basically a heat pump with a gas boiler providing heat during the coldest days of the year).\n",
    "Design a scenarios for this decarbonization option, and discuss the results."
   ]
  },
  {
   "cell_type": "code",
   "execution_count": 177,
   "metadata": {},
   "outputs": [
    {
     "data": {
      "application/vnd.jupyter.widget-view+json": {
       "model_id": "969d5cc74d8e470ea9e91384f9fab1a5",
       "version_major": 2,
       "version_minor": 0
      },
      "text/plain": [
       "QgridWidget(grid_options={'fullWidthRows': True, 'syncColumnCellResize': True, 'forceFitColumns': True, 'defau…"
      ]
     },
     "metadata": {},
     "output_type": "display_data"
    }
   ],
   "source": [
    "## First scenario: deployment of Hybrid heat_pumps instead of A/W\n",
    "sim_param = extract_sim_param(data_set_from_excel, Index_names=Index_names, dim_names=dim_names,\n",
    "                              Energy_system_name=Energy_system_name)\n",
    "#Creating the initial building description\n",
    "sim_param[\"init_sim_stock\"] = create_initial_parc(sim_param).sort_index()\n",
    "sim_param[\"volume_variable_name\"] = \"surface\"\n",
    "sim_param[\"init_sim_stock\"][\"surface\"] = sim_param[\"init_sim_stock\"][\"surface\"] * sim_param[\"init_sim_stock\"][\"IPONDL\"]\n",
    "\n",
    "# We adjust energy need for electricity considering the primary energy factor\n",
    "sim_param[\"init_sim_stock\"][\"conso_unitaire_elec\"]=sim_param[\"init_sim_stock\"][\"conso_unitaire_elec\"]/2.3\n",
    "\n",
    "## for those able to make qgrid work, you should be able to modify the table sim_param['retrofit_Transition'] within the interface below\n",
    "#https://github.com/quantopian/qgrid\n",
    "col_def = { col :  { 'editable': True } for col in sim_param['retrofit_Transition'].columns}\n",
    "qgrid_widget = qgrid.show_grid(sim_param['retrofit_Transition'], show_toolbar=True, column_definitions=col_def)\n",
    "qgrid_widget\n"
   ]
  },
  {
   "cell_type": "code",
   "execution_count": 178,
   "metadata": {},
   "outputs": [
    {
     "name": "stdout",
     "output_type": "stream",
     "text": [
      "Computing: [########################################] 29/29\n",
      "\n"
     ]
    }
   ],
   "source": [
    "retrofit_transition_Hybrid_HP=qgrid_widget.get_changed_df()\n",
    "sim_param['retrofit_Transition']=retrofit_transition_Hybrid_HP.copy()\n",
    "sim_param=update_inputs(data_set_from_excel,sim_param,Index_names,dim_names)\n",
    "\n",
    "# We lanch the simulation\n",
    "sim_stock_new2 = launch_simulation(sim_param)\n",
    "\n",
    "sim_stock_new2_df = pd.concat(sim_stock_new2, axis=0).reset_index().\\\n",
    "    rename(columns={\"level_0\":\"year\"}).set_index([ \"year\"  ,  \"Energy_source\"  , \"old_new\"])"
   ]
  },
  {
   "cell_type": "code",
   "execution_count": 179,
   "metadata": {},
   "outputs": [
    {
     "name": "stdout",
     "output_type": "stream",
     "text": [
      "Réduction des émissions de GES: 63.01%\n",
      "Réduction de la consommation: 42.36%\n",
      "Réduction du besoin: 35.2%\n",
      "Besoin final du parc: 63.75kWh/m²\n",
      "--------------------------------------------------------\n",
      "Termosensibilité: 1.56GW/°C\n",
      "Nouveau pic électrique: 31.2GW\n",
      "Ajout de puissance lors du pic électrique: -12.4GW\n",
      "Augmentation du pic électrique: -28.3%\n"
     ]
    }
   ],
   "source": [
    "final_stock=sim_stock_new2_df.copy().reset_index()\n",
    "emission_reduction=(initial_emissions-final_stock[final_stock[\"year\"]==2049][\"emissions\"].sum()/10**12)/initial_emissions\n",
    "\n",
    "energy_cons_reduction=sim_stock_new_df.copy().reset_index()\n",
    "energy_cons_reduction=(initial_consumption-final_stock[final_stock[\"year\"]==2049][\"Conso\"].sum()/10**9)/initial_consumption\n",
    "\n",
    "energy_need=sim_stock_new_df.copy().reset_index()\n",
    "energy_need_reduction=(initial_need-final_stock[final_stock[\"year\"]==2049][\"Besoin\"].sum()/10**9)/initial_need\n",
    "\n",
    "surface_energy_need=(final_stock[final_stock[\"year\"]==2049][\"Besoin\"].sum())/(final_stock[final_stock[\"year\"]==2049][\"surface\"].sum())\n",
    "\n",
    "print(\"Réduction des émissions de GES: \" + str(np.round(emission_reduction*100,2)) + \"%\")\n",
    "print(\"Réduction de la consommation: \" + str(np.round(energy_cons_reduction*100,2)) + \"%\")\n",
    "print(\"Réduction du besoin: \" + str(np.round(energy_need_reduction*100,2)) + \"%\")\n",
    "print(\"Besoin final du parc: \" + str(np.round(surface_energy_need,2)) + \"kWh/m²\")\n",
    "\n",
    "print('--------------------------------------------------------')\n",
    "themosensitivity_init=np.sum(final_stock[final_stock[\"year\"]==2021]['electrical_peak']/10**9)\n",
    "themosensitivity=np.sum(final_stock[final_stock[\"year\"]==2049]['electrical_peak']/10**9)\n",
    "\n",
    "print(\"Termosensibilité: \" + str(np.round(themosensitivity,2)) + \"GW/°C\")\n",
    "peak_power=themosensitivity*(15-T_base)\n",
    "print(\"Nouveau pic électrique: \" + str(np.round(peak_power,1)) +\"GW\")\n",
    "print(\"Ajout de puissance lors du pic électrique: \" + str(np.round(peak_power-initial_peak_power,1)) +\"GW\")\n",
    "print(\"Augmentation du pic électrique: \" + str(np.round((peak_power-initial_peak_power)/initial_peak_power*100,1)) +\"%\")"
   ]
  },
  {
   "cell_type": "markdown",
   "metadata": {},
   "source": [
    "#### 3.3.2 Biogas in the mix\n",
    "Another way of reducing the GHG emissions is to use biogas instead of natural gas. You can define here the share of biogas in the final mix (2050) and observe the impact on GHG emissions."
   ]
  },
  {
   "cell_type": "code",
   "execution_count": 180,
   "metadata": {},
   "outputs": [],
   "source": [
    "# Second scenario: change the share of biogas in the mix in 2050\n",
    "# define the final share of biogas in the gas mix in 2050\n",
    "biogas_share_2050=0.5"
   ]
  },
  {
   "cell_type": "code",
   "execution_count": 181,
   "metadata": {},
   "outputs": [
    {
     "name": "stdout",
     "output_type": "stream",
     "text": [
      "Computing: [########################################] 29/29\n",
      "\n"
     ]
    }
   ],
   "source": [
    "sim_param = extract_sim_param(data_set_from_excel, Index_names=Index_names, dim_names=dim_names,\n",
    "                              Energy_system_name=Energy_system_name)\n",
    "#Creating the initial building description\n",
    "sim_param[\"init_sim_stock\"] = create_initial_parc(sim_param).sort_index()\n",
    "sim_param[\"volume_variable_name\"] = \"surface\"\n",
    "sim_param[\"init_sim_stock\"][\"surface\"] = sim_param[\"init_sim_stock\"][\"surface\"] * sim_param[\"init_sim_stock\"][\"IPONDL\"]\n",
    "\n",
    "# We adjust energy need for electricity considering the primary energy factor\n",
    "sim_param[\"init_sim_stock\"][\"conso_unitaire_elec\"]=sim_param[\"init_sim_stock\"][\"conso_unitaire_elec\"]/2.3\n",
    "\n",
    "\n",
    "emissions_dir_2050=sim_param[\"direct_emissions\"].copy().reset_index()\n",
    "emissions_dir_2050['year']=2050\n",
    "initial_emissions_dir=emissions_dir_2050.loc[emissions_dir_2050['Vecteur']=='gaz','direct_emissions']\n",
    "emissions_indir_2050=sim_param[\"indirect_emissions\"].copy().reset_index()\n",
    "emissions_indir_2050['year']=2050\n",
    "initial_emissions_indir=emissions_indir_2050.loc[emissions_indir_2050['Vecteur']=='gaz','indirect_emissions']\n",
    "\n",
    "emissions_dir_2050.loc[emissions_dir_2050['Vecteur']=='gaz','direct_emissions']=initial_emissions_dir*(1-biogas_share_2050)\n",
    "emissions_indir_2050.loc[emissions_2050['Vecteur']=='gaz','indirect_emissions']=initial_emissions_indir*(1-biogas_share_2050)\n",
    "\n",
    "sim_param[\"direct_emissions\"]=pd.concat([sim_param[\"direct_emissions\"],emissions_dir_2050.set_index(['Vecteur','year']).squeeze()])\n",
    "sim_param[\"indirect_emissions\"]=pd.concat([sim_param[\"indirect_emissions\"],emissions_indir_2050.set_index(['Vecteur','year']).squeeze()])\n",
    "\n",
    "# sim_param[\"direct_emissions\"]\n",
    "# sim_param[\"indirect_emissions\"]\n",
    "sim_param=update_inputs(data_set_from_excel,sim_param,Index_names,dim_names)\n",
    "\n",
    "# We lanch the simulation\n",
    "sim_stock_new3 = launch_simulation(sim_param)\n",
    "\n",
    "sim_stock_new3_df = pd.concat(sim_stock_new3, axis=0).reset_index().\\\n",
    "    rename(columns={\"level_0\":\"year\"}).set_index([ \"year\"  ,  \"Energy_source\"  , \"old_new\"])"
   ]
  },
  {
   "cell_type": "code",
   "execution_count": 182,
   "metadata": {},
   "outputs": [
    {
     "name": "stdout",
     "output_type": "stream",
     "text": [
      "Réduction des émissions de GES: 71.51%\n",
      "Réduction de la consommation: 42.36%\n",
      "Réduction du besoin: 35.2%\n",
      "Besoin final du parc: 63.75kWh/m²\n",
      "Consommation finale de biogaz: 28.08TWh\n"
     ]
    }
   ],
   "source": [
    "emission_reduction=sim_stock_new3_df.copy().reset_index()\n",
    "emission_reduction=(initial_emissions-emission_reduction[emission_reduction[\"year\"]==2049][\"emissions\"].sum()/10**12)/initial_emissions\n",
    "\n",
    "energy_cons_reduction=sim_stock_new3_df.copy().reset_index()\n",
    "energy_cons_reduction=(initial_consumption-energy_cons_reduction[energy_cons_reduction[\"year\"]==2049][\"Conso\"].sum()/10**9)/initial_consumption\n",
    "\n",
    "energy_need=sim_stock_new3_df.copy().reset_index()\n",
    "energy_need_reduction=(initial_need-energy_need[energy_need[\"year\"]==2049][\"Besoin\"].sum()/10**9)/initial_need\n",
    "\n",
    "surface_energy_need=(energy_need[energy_need[\"year\"]==2049][\"Besoin\"].sum())/(energy_need[energy_need[\"year\"]==2049][\"surface\"].sum())\n",
    "\n",
    "print(\"Réduction des émissions de GES: \" + str(np.round(emission_reduction*100,2)) + \"%\")\n",
    "print(\"Réduction de la consommation: \" + str(np.round(energy_cons_reduction*100,2)) + \"%\")\n",
    "print(\"Réduction du besoin: \" + str(np.round(energy_need_reduction*100,2)) + \"%\")\n",
    "print(\"Besoin final du parc: \" + str(np.round(surface_energy_need,2)) + \"kWh/m²\")\n",
    "\n",
    "sim_stock_copy=sim_stock_new3_df.copy().reset_index()\n",
    "sim_stock_copy\n",
    "conso_biogaz_2050=sim_stock_copy[sim_stock_copy[\"year\"]==2049][\"conso_gaz\"].sum()/10**9*biogas_share_2050\n",
    "\n",
    "print(\"Consommation finale de biogaz: \" + str(np.round(conso_biogaz_2050,2)) + \"TWh\")"
   ]
  },
  {
   "cell_type": "markdown",
   "metadata": {},
   "source": [
    "French biogas potential in 2050 is estimated between 120-150TWh for 1G biogas and 40-80TWh for 2G biogas.\n",
    "\n",
    "#### 3.3.3 Thermal retrofit of buildings\n",
    "Retrofitting buildings permits to reduce the thermal energy needs, and thus final energy consumption and emissions.\n",
    "In this example, you can edit the mean energy need reduction due to thermal retrofit (in % of the energy need).\n"
   ]
  },
  {
   "cell_type": "code",
   "execution_count": 183,
   "metadata": {},
   "outputs": [
    {
     "data": {
      "application/vnd.jupyter.widget-view+json": {
       "model_id": "033f2e07554d4572b6e055f21844f37d",
       "version_major": 2,
       "version_minor": 0
      },
      "text/plain": [
       "QgridWidget(grid_options={'fullWidthRows': True, 'syncColumnCellResize': True, 'forceFitColumns': True, 'defau…"
      ]
     },
     "metadata": {},
     "output_type": "display_data"
    }
   ],
   "source": [
    "## First scenario: deployment of Hybrid heat_pumps instead of A/W\n",
    "sim_param = extract_sim_param(data_set_from_excel, Index_names=Index_names, dim_names=dim_names,\n",
    "                              Energy_system_name=Energy_system_name)\n",
    "#Creating the initial building description\n",
    "sim_param[\"init_sim_stock\"] = create_initial_parc(sim_param).sort_index()\n",
    "sim_param[\"volume_variable_name\"] = \"surface\"\n",
    "sim_param[\"init_sim_stock\"][\"surface\"] = sim_param[\"init_sim_stock\"][\"surface\"] * sim_param[\"init_sim_stock\"][\"IPONDL\"]\n",
    "\n",
    "# We adjust energy need for electricity considering the primary energy factor\n",
    "sim_param[\"init_sim_stock\"][\"conso_unitaire_elec\"]=sim_param[\"init_sim_stock\"][\"conso_unitaire_elec\"]/2.3\n",
    "\n",
    "## for those able to make qgrid work, you should be able to modify the table sim_param['retrofit_Transition'] within the interface below\n",
    "#https://github.com/quantopian/qgrid\n",
    "qgrid_widget = qgrid.show_grid(sim_param['retrofit_improvement'], show_toolbar=True, column_definitions=col_def)\n",
    "qgrid_widget\n"
   ]
  },
  {
   "cell_type": "code",
   "execution_count": 184,
   "metadata": {},
   "outputs": [
    {
     "name": "stdout",
     "output_type": "stream",
     "text": [
      "Computing: [########################################] 29/29\n",
      "\n"
     ]
    }
   ],
   "source": [
    "retrofit_transition_thermal_retrofit=qgrid_widget.get_changed_df()\n",
    "sim_param['retrofit_improvement']=retrofit_transition_thermal_retrofit.copy().squeeze()\n",
    "sim_param=update_inputs(data_set_from_excel,sim_param,Index_names,dim_names)\n",
    "\n",
    "# We lanch the simulation\n",
    "sim_stock_new4 = launch_simulation(sim_param)\n",
    "\n",
    "sim_stock_new4_df = pd.concat(sim_stock_new4, axis=0).reset_index().\\\n",
    "    rename(columns={\"level_0\":\"year\"}).set_index([ \"year\"  ,  \"Energy_source\"  , \"old_new\"])"
   ]
  },
  {
   "cell_type": "code",
   "execution_count": 185,
   "metadata": {
    "pycharm": {
     "name": "#%%\n"
    }
   },
   "outputs": [
    {
     "data": {
      "application/vnd.plotly.v1+json": {
       "config": {
        "plotlyServerURL": "https://plot.ly"
       },
       "data": [
        {
         "fill": "tozeroy",
         "mode": "none",
         "name": "apartment",
         "type": "scatter",
         "x": [
          2021,
          2022,
          2023,
          2024,
          2025,
          2026,
          2027,
          2028,
          2029,
          2030,
          2031,
          2032,
          2033,
          2034,
          2035,
          2036,
          2037,
          2038,
          2039,
          2040,
          2041,
          2042,
          2043,
          2044,
          2045,
          2046,
          2047,
          2048,
          2049
         ],
         "y": [
          63.324361375545266,
          63.25615285506343,
          62.38737387247715,
          61.51379050007449,
          60.63540273785546,
          59.24088881358905,
          57.83878901066521,
          56.42910332908393,
          55.01183176884522,
          53.58697432994909,
          51.58155368537411,
          49.565512810678726,
          47.538851705862946,
          45.50157037092676,
          43.45366880587017,
          42.571445179365746,
          41.68467002566687,
          40.79334334477353,
          39.89746513668574,
          38.99703540140349,
          38.39371455975235,
          37.787359366638235,
          37.177969822061165,
          36.56554592602111,
          35.95008767851808,
          35.64084137903509,
          35.3300779038206,
          35.01779725287464,
          34.70399942619717
         ]
        },
        {
         "fill": "tonexty",
         "mode": "none",
         "name": "house",
         "type": "scatter",
         "x": [
          2021,
          2022,
          2023,
          2024,
          2025,
          2026,
          2027,
          2028,
          2029,
          2030,
          2031,
          2032,
          2033,
          2034,
          2035,
          2036,
          2037,
          2038,
          2039,
          2040,
          2041,
          2042,
          2043,
          2044,
          2045,
          2046,
          2047,
          2048,
          2049
         ],
         "y": [
          232.85099128245528,
          232.56070019445752,
          228.8665566103093,
          225.15528988998426,
          221.4269000334825,
          215.51293215030597,
          209.57192773632406,
          203.60388679153675,
          197.6088093159441,
          191.5866953095461,
          183.11788455746128,
          174.611222662249,
          166.0667096239092,
          157.48434544244185,
          148.86413011784694,
          145.15353020310877,
          141.4267083698874,
          137.68366461818277,
          133.92439894799492,
          130.14891135932388,
          127.62110502122101,
          125.082484070796,
          122.53304850804886,
          119.97279833297955,
          117.40173354558809,
          116.11079384573128,
          114.81444683971338,
          113.51269252753445,
          112.20553090919441
         ]
        },
        {
         "fill": "tonexty",
         "mode": "none",
         "name": "tertiary",
         "type": "scatter",
         "x": [
          2021,
          2022,
          2023,
          2024,
          2025,
          2026,
          2027,
          2028,
          2029,
          2030,
          2031,
          2032,
          2033,
          2034,
          2035,
          2036,
          2037,
          2038,
          2039,
          2040,
          2041,
          2042,
          2043,
          2044,
          2045,
          2046,
          2047,
          2048,
          2049
         ],
         "y": [
          358.92318789027865,
          358.5084795862848,
          353.22821548490185,
          347.9206591327244,
          342.58581052975245,
          334.119272339595,
          325.60964112186736,
          317.0569168765696,
          308.46109960370154,
          299.8221893032634,
          287.66738464405154,
          275.45224974624153,
          263.17678460983325,
          250.84098923482665,
          238.44486362122177,
          233.10638254170613,
          227.74204564564837,
          222.35185293304852,
          216.93580440390653,
          211.49390005822244,
          207.8487266167383,
          204.18631596422608,
          200.50666810068583,
          196.80978302611743,
          193.095660740521,
          191.2299809922087,
          189.35568263838238,
          187.47276567904206,
          185.58123011418763
         ]
        }
       ],
       "layout": {
        "template": {
         "data": {
          "bar": [
           {
            "error_x": {
             "color": "#2a3f5f"
            },
            "error_y": {
             "color": "#2a3f5f"
            },
            "marker": {
             "line": {
              "color": "#E5ECF6",
              "width": 0.5
             },
             "pattern": {
              "fillmode": "overlay",
              "size": 10,
              "solidity": 0.2
             }
            },
            "type": "bar"
           }
          ],
          "barpolar": [
           {
            "marker": {
             "line": {
              "color": "#E5ECF6",
              "width": 0.5
             },
             "pattern": {
              "fillmode": "overlay",
              "size": 10,
              "solidity": 0.2
             }
            },
            "type": "barpolar"
           }
          ],
          "carpet": [
           {
            "aaxis": {
             "endlinecolor": "#2a3f5f",
             "gridcolor": "white",
             "linecolor": "white",
             "minorgridcolor": "white",
             "startlinecolor": "#2a3f5f"
            },
            "baxis": {
             "endlinecolor": "#2a3f5f",
             "gridcolor": "white",
             "linecolor": "white",
             "minorgridcolor": "white",
             "startlinecolor": "#2a3f5f"
            },
            "type": "carpet"
           }
          ],
          "choropleth": [
           {
            "colorbar": {
             "outlinewidth": 0,
             "ticks": ""
            },
            "type": "choropleth"
           }
          ],
          "contour": [
           {
            "colorbar": {
             "outlinewidth": 0,
             "ticks": ""
            },
            "colorscale": [
             [
              0,
              "#0d0887"
             ],
             [
              0.1111111111111111,
              "#46039f"
             ],
             [
              0.2222222222222222,
              "#7201a8"
             ],
             [
              0.3333333333333333,
              "#9c179e"
             ],
             [
              0.4444444444444444,
              "#bd3786"
             ],
             [
              0.5555555555555556,
              "#d8576b"
             ],
             [
              0.6666666666666666,
              "#ed7953"
             ],
             [
              0.7777777777777778,
              "#fb9f3a"
             ],
             [
              0.8888888888888888,
              "#fdca26"
             ],
             [
              1,
              "#f0f921"
             ]
            ],
            "type": "contour"
           }
          ],
          "contourcarpet": [
           {
            "colorbar": {
             "outlinewidth": 0,
             "ticks": ""
            },
            "type": "contourcarpet"
           }
          ],
          "heatmap": [
           {
            "colorbar": {
             "outlinewidth": 0,
             "ticks": ""
            },
            "colorscale": [
             [
              0,
              "#0d0887"
             ],
             [
              0.1111111111111111,
              "#46039f"
             ],
             [
              0.2222222222222222,
              "#7201a8"
             ],
             [
              0.3333333333333333,
              "#9c179e"
             ],
             [
              0.4444444444444444,
              "#bd3786"
             ],
             [
              0.5555555555555556,
              "#d8576b"
             ],
             [
              0.6666666666666666,
              "#ed7953"
             ],
             [
              0.7777777777777778,
              "#fb9f3a"
             ],
             [
              0.8888888888888888,
              "#fdca26"
             ],
             [
              1,
              "#f0f921"
             ]
            ],
            "type": "heatmap"
           }
          ],
          "heatmapgl": [
           {
            "colorbar": {
             "outlinewidth": 0,
             "ticks": ""
            },
            "colorscale": [
             [
              0,
              "#0d0887"
             ],
             [
              0.1111111111111111,
              "#46039f"
             ],
             [
              0.2222222222222222,
              "#7201a8"
             ],
             [
              0.3333333333333333,
              "#9c179e"
             ],
             [
              0.4444444444444444,
              "#bd3786"
             ],
             [
              0.5555555555555556,
              "#d8576b"
             ],
             [
              0.6666666666666666,
              "#ed7953"
             ],
             [
              0.7777777777777778,
              "#fb9f3a"
             ],
             [
              0.8888888888888888,
              "#fdca26"
             ],
             [
              1,
              "#f0f921"
             ]
            ],
            "type": "heatmapgl"
           }
          ],
          "histogram": [
           {
            "marker": {
             "pattern": {
              "fillmode": "overlay",
              "size": 10,
              "solidity": 0.2
             }
            },
            "type": "histogram"
           }
          ],
          "histogram2d": [
           {
            "colorbar": {
             "outlinewidth": 0,
             "ticks": ""
            },
            "colorscale": [
             [
              0,
              "#0d0887"
             ],
             [
              0.1111111111111111,
              "#46039f"
             ],
             [
              0.2222222222222222,
              "#7201a8"
             ],
             [
              0.3333333333333333,
              "#9c179e"
             ],
             [
              0.4444444444444444,
              "#bd3786"
             ],
             [
              0.5555555555555556,
              "#d8576b"
             ],
             [
              0.6666666666666666,
              "#ed7953"
             ],
             [
              0.7777777777777778,
              "#fb9f3a"
             ],
             [
              0.8888888888888888,
              "#fdca26"
             ],
             [
              1,
              "#f0f921"
             ]
            ],
            "type": "histogram2d"
           }
          ],
          "histogram2dcontour": [
           {
            "colorbar": {
             "outlinewidth": 0,
             "ticks": ""
            },
            "colorscale": [
             [
              0,
              "#0d0887"
             ],
             [
              0.1111111111111111,
              "#46039f"
             ],
             [
              0.2222222222222222,
              "#7201a8"
             ],
             [
              0.3333333333333333,
              "#9c179e"
             ],
             [
              0.4444444444444444,
              "#bd3786"
             ],
             [
              0.5555555555555556,
              "#d8576b"
             ],
             [
              0.6666666666666666,
              "#ed7953"
             ],
             [
              0.7777777777777778,
              "#fb9f3a"
             ],
             [
              0.8888888888888888,
              "#fdca26"
             ],
             [
              1,
              "#f0f921"
             ]
            ],
            "type": "histogram2dcontour"
           }
          ],
          "mesh3d": [
           {
            "colorbar": {
             "outlinewidth": 0,
             "ticks": ""
            },
            "type": "mesh3d"
           }
          ],
          "parcoords": [
           {
            "line": {
             "colorbar": {
              "outlinewidth": 0,
              "ticks": ""
             }
            },
            "type": "parcoords"
           }
          ],
          "pie": [
           {
            "automargin": true,
            "type": "pie"
           }
          ],
          "scatter": [
           {
            "fillpattern": {
             "fillmode": "overlay",
             "size": 10,
             "solidity": 0.2
            },
            "type": "scatter"
           }
          ],
          "scatter3d": [
           {
            "line": {
             "colorbar": {
              "outlinewidth": 0,
              "ticks": ""
             }
            },
            "marker": {
             "colorbar": {
              "outlinewidth": 0,
              "ticks": ""
             }
            },
            "type": "scatter3d"
           }
          ],
          "scattercarpet": [
           {
            "marker": {
             "colorbar": {
              "outlinewidth": 0,
              "ticks": ""
             }
            },
            "type": "scattercarpet"
           }
          ],
          "scattergeo": [
           {
            "marker": {
             "colorbar": {
              "outlinewidth": 0,
              "ticks": ""
             }
            },
            "type": "scattergeo"
           }
          ],
          "scattergl": [
           {
            "marker": {
             "colorbar": {
              "outlinewidth": 0,
              "ticks": ""
             }
            },
            "type": "scattergl"
           }
          ],
          "scattermapbox": [
           {
            "marker": {
             "colorbar": {
              "outlinewidth": 0,
              "ticks": ""
             }
            },
            "type": "scattermapbox"
           }
          ],
          "scatterpolar": [
           {
            "marker": {
             "colorbar": {
              "outlinewidth": 0,
              "ticks": ""
             }
            },
            "type": "scatterpolar"
           }
          ],
          "scatterpolargl": [
           {
            "marker": {
             "colorbar": {
              "outlinewidth": 0,
              "ticks": ""
             }
            },
            "type": "scatterpolargl"
           }
          ],
          "scatterternary": [
           {
            "marker": {
             "colorbar": {
              "outlinewidth": 0,
              "ticks": ""
             }
            },
            "type": "scatterternary"
           }
          ],
          "surface": [
           {
            "colorbar": {
             "outlinewidth": 0,
             "ticks": ""
            },
            "colorscale": [
             [
              0,
              "#0d0887"
             ],
             [
              0.1111111111111111,
              "#46039f"
             ],
             [
              0.2222222222222222,
              "#7201a8"
             ],
             [
              0.3333333333333333,
              "#9c179e"
             ],
             [
              0.4444444444444444,
              "#bd3786"
             ],
             [
              0.5555555555555556,
              "#d8576b"
             ],
             [
              0.6666666666666666,
              "#ed7953"
             ],
             [
              0.7777777777777778,
              "#fb9f3a"
             ],
             [
              0.8888888888888888,
              "#fdca26"
             ],
             [
              1,
              "#f0f921"
             ]
            ],
            "type": "surface"
           }
          ],
          "table": [
           {
            "cells": {
             "fill": {
              "color": "#EBF0F8"
             },
             "line": {
              "color": "white"
             }
            },
            "header": {
             "fill": {
              "color": "#C8D4E3"
             },
             "line": {
              "color": "white"
             }
            },
            "type": "table"
           }
          ]
         },
         "layout": {
          "annotationdefaults": {
           "arrowcolor": "#2a3f5f",
           "arrowhead": 0,
           "arrowwidth": 1
          },
          "autotypenumbers": "strict",
          "coloraxis": {
           "colorbar": {
            "outlinewidth": 0,
            "ticks": ""
           }
          },
          "colorscale": {
           "diverging": [
            [
             0,
             "#8e0152"
            ],
            [
             0.1,
             "#c51b7d"
            ],
            [
             0.2,
             "#de77ae"
            ],
            [
             0.3,
             "#f1b6da"
            ],
            [
             0.4,
             "#fde0ef"
            ],
            [
             0.5,
             "#f7f7f7"
            ],
            [
             0.6,
             "#e6f5d0"
            ],
            [
             0.7,
             "#b8e186"
            ],
            [
             0.8,
             "#7fbc41"
            ],
            [
             0.9,
             "#4d9221"
            ],
            [
             1,
             "#276419"
            ]
           ],
           "sequential": [
            [
             0,
             "#0d0887"
            ],
            [
             0.1111111111111111,
             "#46039f"
            ],
            [
             0.2222222222222222,
             "#7201a8"
            ],
            [
             0.3333333333333333,
             "#9c179e"
            ],
            [
             0.4444444444444444,
             "#bd3786"
            ],
            [
             0.5555555555555556,
             "#d8576b"
            ],
            [
             0.6666666666666666,
             "#ed7953"
            ],
            [
             0.7777777777777778,
             "#fb9f3a"
            ],
            [
             0.8888888888888888,
             "#fdca26"
            ],
            [
             1,
             "#f0f921"
            ]
           ],
           "sequentialminus": [
            [
             0,
             "#0d0887"
            ],
            [
             0.1111111111111111,
             "#46039f"
            ],
            [
             0.2222222222222222,
             "#7201a8"
            ],
            [
             0.3333333333333333,
             "#9c179e"
            ],
            [
             0.4444444444444444,
             "#bd3786"
            ],
            [
             0.5555555555555556,
             "#d8576b"
            ],
            [
             0.6666666666666666,
             "#ed7953"
            ],
            [
             0.7777777777777778,
             "#fb9f3a"
            ],
            [
             0.8888888888888888,
             "#fdca26"
            ],
            [
             1,
             "#f0f921"
            ]
           ]
          },
          "colorway": [
           "#636efa",
           "#EF553B",
           "#00cc96",
           "#ab63fa",
           "#FFA15A",
           "#19d3f3",
           "#FF6692",
           "#B6E880",
           "#FF97FF",
           "#FECB52"
          ],
          "font": {
           "color": "#2a3f5f"
          },
          "geo": {
           "bgcolor": "white",
           "lakecolor": "white",
           "landcolor": "#E5ECF6",
           "showlakes": true,
           "showland": true,
           "subunitcolor": "white"
          },
          "hoverlabel": {
           "align": "left"
          },
          "hovermode": "closest",
          "mapbox": {
           "style": "light"
          },
          "paper_bgcolor": "white",
          "plot_bgcolor": "#E5ECF6",
          "polar": {
           "angularaxis": {
            "gridcolor": "white",
            "linecolor": "white",
            "ticks": ""
           },
           "bgcolor": "#E5ECF6",
           "radialaxis": {
            "gridcolor": "white",
            "linecolor": "white",
            "ticks": ""
           }
          },
          "scene": {
           "xaxis": {
            "backgroundcolor": "#E5ECF6",
            "gridcolor": "white",
            "gridwidth": 2,
            "linecolor": "white",
            "showbackground": true,
            "ticks": "",
            "zerolinecolor": "white"
           },
           "yaxis": {
            "backgroundcolor": "#E5ECF6",
            "gridcolor": "white",
            "gridwidth": 2,
            "linecolor": "white",
            "showbackground": true,
            "ticks": "",
            "zerolinecolor": "white"
           },
           "zaxis": {
            "backgroundcolor": "#E5ECF6",
            "gridcolor": "white",
            "gridwidth": 2,
            "linecolor": "white",
            "showbackground": true,
            "ticks": "",
            "zerolinecolor": "white"
           }
          },
          "shapedefaults": {
           "line": {
            "color": "#2a3f5f"
           }
          },
          "ternary": {
           "aaxis": {
            "gridcolor": "white",
            "linecolor": "white",
            "ticks": ""
           },
           "baxis": {
            "gridcolor": "white",
            "linecolor": "white",
            "ticks": ""
           },
           "bgcolor": "#E5ECF6",
           "caxis": {
            "gridcolor": "white",
            "linecolor": "white",
            "ticks": ""
           }
          },
          "title": {
           "x": 0.05
          },
          "xaxis": {
           "automargin": true,
           "gridcolor": "white",
           "linecolor": "white",
           "ticks": "",
           "title": {
            "standoff": 15
           },
           "zerolinecolor": "white",
           "zerolinewidth": 2
          },
          "yaxis": {
           "automargin": true,
           "gridcolor": "white",
           "linecolor": "white",
           "ticks": "",
           "title": {
            "standoff": 15
           },
           "zerolinecolor": "white",
           "zerolinewidth": 2
          }
         }
        },
        "title": {
         "text": "Besoin d'énergie de chauffage par vecteur énergétique (en TWh)"
        },
        "xaxis": {
         "rangeslider": {
          "visible": true
         },
         "title": {
          "text": "Année"
         }
        },
        "yaxis": {
         "title": {
          "text": "Besoin [TWh]"
         }
        }
       }
      },
      "text/html": [
       "<div>                            <div id=\"a5b19323-3ecc-494c-bd65-0c51fcc7367c\" class=\"plotly-graph-div\" style=\"height:525px; width:100%;\"></div>            <script type=\"text/javascript\">                require([\"plotly\"], function(Plotly) {                    window.PLOTLYENV=window.PLOTLYENV || {};                                    if (document.getElementById(\"a5b19323-3ecc-494c-bd65-0c51fcc7367c\")) {                    Plotly.newPlot(                        \"a5b19323-3ecc-494c-bd65-0c51fcc7367c\",                        [{\"fill\":\"tozeroy\",\"mode\":\"none\",\"name\":\"apartment\",\"x\":[2021,2022,2023,2024,2025,2026,2027,2028,2029,2030,2031,2032,2033,2034,2035,2036,2037,2038,2039,2040,2041,2042,2043,2044,2045,2046,2047,2048,2049],\"y\":[63.324361375545266,63.25615285506343,62.38737387247715,61.51379050007449,60.63540273785546,59.24088881358905,57.83878901066521,56.42910332908393,55.01183176884522,53.58697432994909,51.58155368537411,49.565512810678726,47.538851705862946,45.50157037092676,43.45366880587017,42.571445179365746,41.68467002566687,40.79334334477353,39.89746513668574,38.99703540140349,38.39371455975235,37.787359366638235,37.177969822061165,36.56554592602111,35.95008767851808,35.64084137903509,35.3300779038206,35.01779725287464,34.70399942619717],\"type\":\"scatter\"},{\"fill\":\"tonexty\",\"mode\":\"none\",\"name\":\"house\",\"x\":[2021,2022,2023,2024,2025,2026,2027,2028,2029,2030,2031,2032,2033,2034,2035,2036,2037,2038,2039,2040,2041,2042,2043,2044,2045,2046,2047,2048,2049],\"y\":[232.85099128245528,232.56070019445752,228.8665566103093,225.15528988998426,221.4269000334825,215.51293215030597,209.57192773632406,203.60388679153675,197.6088093159441,191.5866953095461,183.11788455746128,174.611222662249,166.0667096239092,157.48434544244185,148.86413011784694,145.15353020310877,141.4267083698874,137.68366461818277,133.92439894799492,130.14891135932388,127.62110502122101,125.082484070796,122.53304850804886,119.97279833297955,117.40173354558809,116.11079384573128,114.81444683971338,113.51269252753445,112.20553090919441],\"type\":\"scatter\"},{\"fill\":\"tonexty\",\"mode\":\"none\",\"name\":\"tertiary\",\"x\":[2021,2022,2023,2024,2025,2026,2027,2028,2029,2030,2031,2032,2033,2034,2035,2036,2037,2038,2039,2040,2041,2042,2043,2044,2045,2046,2047,2048,2049],\"y\":[358.92318789027865,358.5084795862848,353.22821548490185,347.9206591327244,342.58581052975245,334.119272339595,325.60964112186736,317.0569168765696,308.46109960370154,299.8221893032634,287.66738464405154,275.45224974624153,263.17678460983325,250.84098923482665,238.44486362122177,233.10638254170613,227.74204564564837,222.35185293304852,216.93580440390653,211.49390005822244,207.8487266167383,204.18631596422608,200.50666810068583,196.80978302611743,193.095660740521,191.2299809922087,189.35568263838238,187.47276567904206,185.58123011418763],\"type\":\"scatter\"}],                        {\"template\":{\"data\":{\"histogram2dcontour\":[{\"type\":\"histogram2dcontour\",\"colorbar\":{\"outlinewidth\":0,\"ticks\":\"\"},\"colorscale\":[[0.0,\"#0d0887\"],[0.1111111111111111,\"#46039f\"],[0.2222222222222222,\"#7201a8\"],[0.3333333333333333,\"#9c179e\"],[0.4444444444444444,\"#bd3786\"],[0.5555555555555556,\"#d8576b\"],[0.6666666666666666,\"#ed7953\"],[0.7777777777777778,\"#fb9f3a\"],[0.8888888888888888,\"#fdca26\"],[1.0,\"#f0f921\"]]}],\"choropleth\":[{\"type\":\"choropleth\",\"colorbar\":{\"outlinewidth\":0,\"ticks\":\"\"}}],\"histogram2d\":[{\"type\":\"histogram2d\",\"colorbar\":{\"outlinewidth\":0,\"ticks\":\"\"},\"colorscale\":[[0.0,\"#0d0887\"],[0.1111111111111111,\"#46039f\"],[0.2222222222222222,\"#7201a8\"],[0.3333333333333333,\"#9c179e\"],[0.4444444444444444,\"#bd3786\"],[0.5555555555555556,\"#d8576b\"],[0.6666666666666666,\"#ed7953\"],[0.7777777777777778,\"#fb9f3a\"],[0.8888888888888888,\"#fdca26\"],[1.0,\"#f0f921\"]]}],\"heatmap\":[{\"type\":\"heatmap\",\"colorbar\":{\"outlinewidth\":0,\"ticks\":\"\"},\"colorscale\":[[0.0,\"#0d0887\"],[0.1111111111111111,\"#46039f\"],[0.2222222222222222,\"#7201a8\"],[0.3333333333333333,\"#9c179e\"],[0.4444444444444444,\"#bd3786\"],[0.5555555555555556,\"#d8576b\"],[0.6666666666666666,\"#ed7953\"],[0.7777777777777778,\"#fb9f3a\"],[0.8888888888888888,\"#fdca26\"],[1.0,\"#f0f921\"]]}],\"heatmapgl\":[{\"type\":\"heatmapgl\",\"colorbar\":{\"outlinewidth\":0,\"ticks\":\"\"},\"colorscale\":[[0.0,\"#0d0887\"],[0.1111111111111111,\"#46039f\"],[0.2222222222222222,\"#7201a8\"],[0.3333333333333333,\"#9c179e\"],[0.4444444444444444,\"#bd3786\"],[0.5555555555555556,\"#d8576b\"],[0.6666666666666666,\"#ed7953\"],[0.7777777777777778,\"#fb9f3a\"],[0.8888888888888888,\"#fdca26\"],[1.0,\"#f0f921\"]]}],\"contourcarpet\":[{\"type\":\"contourcarpet\",\"colorbar\":{\"outlinewidth\":0,\"ticks\":\"\"}}],\"contour\":[{\"type\":\"contour\",\"colorbar\":{\"outlinewidth\":0,\"ticks\":\"\"},\"colorscale\":[[0.0,\"#0d0887\"],[0.1111111111111111,\"#46039f\"],[0.2222222222222222,\"#7201a8\"],[0.3333333333333333,\"#9c179e\"],[0.4444444444444444,\"#bd3786\"],[0.5555555555555556,\"#d8576b\"],[0.6666666666666666,\"#ed7953\"],[0.7777777777777778,\"#fb9f3a\"],[0.8888888888888888,\"#fdca26\"],[1.0,\"#f0f921\"]]}],\"surface\":[{\"type\":\"surface\",\"colorbar\":{\"outlinewidth\":0,\"ticks\":\"\"},\"colorscale\":[[0.0,\"#0d0887\"],[0.1111111111111111,\"#46039f\"],[0.2222222222222222,\"#7201a8\"],[0.3333333333333333,\"#9c179e\"],[0.4444444444444444,\"#bd3786\"],[0.5555555555555556,\"#d8576b\"],[0.6666666666666666,\"#ed7953\"],[0.7777777777777778,\"#fb9f3a\"],[0.8888888888888888,\"#fdca26\"],[1.0,\"#f0f921\"]]}],\"mesh3d\":[{\"type\":\"mesh3d\",\"colorbar\":{\"outlinewidth\":0,\"ticks\":\"\"}}],\"scatter\":[{\"fillpattern\":{\"fillmode\":\"overlay\",\"size\":10,\"solidity\":0.2},\"type\":\"scatter\"}],\"parcoords\":[{\"type\":\"parcoords\",\"line\":{\"colorbar\":{\"outlinewidth\":0,\"ticks\":\"\"}}}],\"scatterpolargl\":[{\"type\":\"scatterpolargl\",\"marker\":{\"colorbar\":{\"outlinewidth\":0,\"ticks\":\"\"}}}],\"bar\":[{\"error_x\":{\"color\":\"#2a3f5f\"},\"error_y\":{\"color\":\"#2a3f5f\"},\"marker\":{\"line\":{\"color\":\"#E5ECF6\",\"width\":0.5},\"pattern\":{\"fillmode\":\"overlay\",\"size\":10,\"solidity\":0.2}},\"type\":\"bar\"}],\"scattergeo\":[{\"type\":\"scattergeo\",\"marker\":{\"colorbar\":{\"outlinewidth\":0,\"ticks\":\"\"}}}],\"scatterpolar\":[{\"type\":\"scatterpolar\",\"marker\":{\"colorbar\":{\"outlinewidth\":0,\"ticks\":\"\"}}}],\"histogram\":[{\"marker\":{\"pattern\":{\"fillmode\":\"overlay\",\"size\":10,\"solidity\":0.2}},\"type\":\"histogram\"}],\"scattergl\":[{\"type\":\"scattergl\",\"marker\":{\"colorbar\":{\"outlinewidth\":0,\"ticks\":\"\"}}}],\"scatter3d\":[{\"type\":\"scatter3d\",\"line\":{\"colorbar\":{\"outlinewidth\":0,\"ticks\":\"\"}},\"marker\":{\"colorbar\":{\"outlinewidth\":0,\"ticks\":\"\"}}}],\"scattermapbox\":[{\"type\":\"scattermapbox\",\"marker\":{\"colorbar\":{\"outlinewidth\":0,\"ticks\":\"\"}}}],\"scatterternary\":[{\"type\":\"scatterternary\",\"marker\":{\"colorbar\":{\"outlinewidth\":0,\"ticks\":\"\"}}}],\"scattercarpet\":[{\"type\":\"scattercarpet\",\"marker\":{\"colorbar\":{\"outlinewidth\":0,\"ticks\":\"\"}}}],\"carpet\":[{\"aaxis\":{\"endlinecolor\":\"#2a3f5f\",\"gridcolor\":\"white\",\"linecolor\":\"white\",\"minorgridcolor\":\"white\",\"startlinecolor\":\"#2a3f5f\"},\"baxis\":{\"endlinecolor\":\"#2a3f5f\",\"gridcolor\":\"white\",\"linecolor\":\"white\",\"minorgridcolor\":\"white\",\"startlinecolor\":\"#2a3f5f\"},\"type\":\"carpet\"}],\"table\":[{\"cells\":{\"fill\":{\"color\":\"#EBF0F8\"},\"line\":{\"color\":\"white\"}},\"header\":{\"fill\":{\"color\":\"#C8D4E3\"},\"line\":{\"color\":\"white\"}},\"type\":\"table\"}],\"barpolar\":[{\"marker\":{\"line\":{\"color\":\"#E5ECF6\",\"width\":0.5},\"pattern\":{\"fillmode\":\"overlay\",\"size\":10,\"solidity\":0.2}},\"type\":\"barpolar\"}],\"pie\":[{\"automargin\":true,\"type\":\"pie\"}]},\"layout\":{\"autotypenumbers\":\"strict\",\"colorway\":[\"#636efa\",\"#EF553B\",\"#00cc96\",\"#ab63fa\",\"#FFA15A\",\"#19d3f3\",\"#FF6692\",\"#B6E880\",\"#FF97FF\",\"#FECB52\"],\"font\":{\"color\":\"#2a3f5f\"},\"hovermode\":\"closest\",\"hoverlabel\":{\"align\":\"left\"},\"paper_bgcolor\":\"white\",\"plot_bgcolor\":\"#E5ECF6\",\"polar\":{\"bgcolor\":\"#E5ECF6\",\"angularaxis\":{\"gridcolor\":\"white\",\"linecolor\":\"white\",\"ticks\":\"\"},\"radialaxis\":{\"gridcolor\":\"white\",\"linecolor\":\"white\",\"ticks\":\"\"}},\"ternary\":{\"bgcolor\":\"#E5ECF6\",\"aaxis\":{\"gridcolor\":\"white\",\"linecolor\":\"white\",\"ticks\":\"\"},\"baxis\":{\"gridcolor\":\"white\",\"linecolor\":\"white\",\"ticks\":\"\"},\"caxis\":{\"gridcolor\":\"white\",\"linecolor\":\"white\",\"ticks\":\"\"}},\"coloraxis\":{\"colorbar\":{\"outlinewidth\":0,\"ticks\":\"\"}},\"colorscale\":{\"sequential\":[[0.0,\"#0d0887\"],[0.1111111111111111,\"#46039f\"],[0.2222222222222222,\"#7201a8\"],[0.3333333333333333,\"#9c179e\"],[0.4444444444444444,\"#bd3786\"],[0.5555555555555556,\"#d8576b\"],[0.6666666666666666,\"#ed7953\"],[0.7777777777777778,\"#fb9f3a\"],[0.8888888888888888,\"#fdca26\"],[1.0,\"#f0f921\"]],\"sequentialminus\":[[0.0,\"#0d0887\"],[0.1111111111111111,\"#46039f\"],[0.2222222222222222,\"#7201a8\"],[0.3333333333333333,\"#9c179e\"],[0.4444444444444444,\"#bd3786\"],[0.5555555555555556,\"#d8576b\"],[0.6666666666666666,\"#ed7953\"],[0.7777777777777778,\"#fb9f3a\"],[0.8888888888888888,\"#fdca26\"],[1.0,\"#f0f921\"]],\"diverging\":[[0,\"#8e0152\"],[0.1,\"#c51b7d\"],[0.2,\"#de77ae\"],[0.3,\"#f1b6da\"],[0.4,\"#fde0ef\"],[0.5,\"#f7f7f7\"],[0.6,\"#e6f5d0\"],[0.7,\"#b8e186\"],[0.8,\"#7fbc41\"],[0.9,\"#4d9221\"],[1,\"#276419\"]]},\"xaxis\":{\"gridcolor\":\"white\",\"linecolor\":\"white\",\"ticks\":\"\",\"title\":{\"standoff\":15},\"zerolinecolor\":\"white\",\"automargin\":true,\"zerolinewidth\":2},\"yaxis\":{\"gridcolor\":\"white\",\"linecolor\":\"white\",\"ticks\":\"\",\"title\":{\"standoff\":15},\"zerolinecolor\":\"white\",\"automargin\":true,\"zerolinewidth\":2},\"scene\":{\"xaxis\":{\"backgroundcolor\":\"#E5ECF6\",\"gridcolor\":\"white\",\"linecolor\":\"white\",\"showbackground\":true,\"ticks\":\"\",\"zerolinecolor\":\"white\",\"gridwidth\":2},\"yaxis\":{\"backgroundcolor\":\"#E5ECF6\",\"gridcolor\":\"white\",\"linecolor\":\"white\",\"showbackground\":true,\"ticks\":\"\",\"zerolinecolor\":\"white\",\"gridwidth\":2},\"zaxis\":{\"backgroundcolor\":\"#E5ECF6\",\"gridcolor\":\"white\",\"linecolor\":\"white\",\"showbackground\":true,\"ticks\":\"\",\"zerolinecolor\":\"white\",\"gridwidth\":2}},\"shapedefaults\":{\"line\":{\"color\":\"#2a3f5f\"}},\"annotationdefaults\":{\"arrowcolor\":\"#2a3f5f\",\"arrowhead\":0,\"arrowwidth\":1},\"geo\":{\"bgcolor\":\"white\",\"landcolor\":\"#E5ECF6\",\"subunitcolor\":\"white\",\"showland\":true,\"showlakes\":true,\"lakecolor\":\"white\"},\"title\":{\"x\":0.05},\"mapbox\":{\"style\":\"light\"}}},\"xaxis\":{\"rangeslider\":{\"visible\":true},\"title\":{\"text\":\"Ann\\u00e9e\"}},\"title\":{\"text\":\"Besoin d'\\u00e9nergie de chauffage par vecteur \\u00e9nerg\\u00e9tique (en TWh)\"},\"yaxis\":{\"title\":{\"text\":\"Besoin [TWh]\"}}},                        {\"responsive\": true}                    ).then(function(){\n",
       "                            \n",
       "var gd = document.getElementById('a5b19323-3ecc-494c-bd65-0c51fcc7367c');\n",
       "var x = new MutationObserver(function (mutations, observer) {{\n",
       "        var display = window.getComputedStyle(gd).display;\n",
       "        if (!display || display === 'none') {{\n",
       "            console.log([gd, 'removed!']);\n",
       "            Plotly.purge(gd);\n",
       "            observer.disconnect();\n",
       "        }}\n",
       "}});\n",
       "\n",
       "// Listen for the removal of the full notebook cells\n",
       "var notebookContainer = gd.closest('#notebook-container');\n",
       "if (notebookContainer) {{\n",
       "    x.observe(notebookContainer, {childList: true});\n",
       "}}\n",
       "\n",
       "// Listen for the clearing of the current output cell\n",
       "var outputEl = gd.closest('.output');\n",
       "if (outputEl) {{\n",
       "    x.observe(outputEl, {childList: true});\n",
       "}}\n",
       "\n",
       "                        })                };                });            </script>        </div>"
      ]
     },
     "metadata": {},
     "output_type": "display_data"
    },
    {
     "name": "stdout",
     "output_type": "stream",
     "text": [
      "Réduction des émissions de GES: 70.3%\n",
      "Réduction de la consommation: 54.15%\n",
      "Réduction du besoin: 48.35%\n",
      "Besoin final du parc: 50.81kWh/m²\n"
     ]
    },
    {
     "data": {
      "text/plain": [
       "359.335741542894"
      ]
     },
     "execution_count": 185,
     "metadata": {},
     "output_type": "execute_result"
    }
   ],
   "source": [
    "Var = \"Besoin\"\n",
    "y_df = sim_stock_new4_df.groupby([\"year\", \"building_type\"])[Var].sum().to_frame().reset_index(). \\\n",
    "           pivot(index=['year'], columns='building_type').loc[[year for year in sim_param[\"years\"][1:]], Var] / 10 ** 9\n",
    "fig = MyStackedPlotly(y_df=y_df)\n",
    "fig = fig.update_layout(title_text=\"Besoin d'énergie de chauffage par vecteur énergétique (en TWh)\", xaxis_title=\"Année\",\n",
    "                        yaxis_title=\"Besoin [TWh]\")\n",
    "fig.show()\n",
    "\n",
    "emission_reduction=sim_stock_new4_df.copy().reset_index()\n",
    "emission_reduction=(initial_emissions-emission_reduction[emission_reduction[\"year\"]==2049][\"emissions\"].sum()/10**12)/initial_emissions\n",
    "\n",
    "energy_cons_reduction=sim_stock_new4_df.copy().reset_index()\n",
    "energy_cons_reduction=(initial_consumption-energy_cons_reduction[energy_cons_reduction[\"year\"]==2049][\"Conso\"].sum()/10**9)/initial_consumption\n",
    "\n",
    "energy_need=sim_stock_new4_df.copy().reset_index()\n",
    "energy_need_reduction=(initial_need-energy_need[energy_need[\"year\"]==2049][\"Besoin\"].sum()/10**9)/initial_need\n",
    "\n",
    "surface_energy_need=(energy_need[energy_need[\"year\"]==2049][\"Besoin\"].sum())/(energy_need[energy_need[\"year\"]==2049][\"surface\"].sum())\n",
    "\n",
    "print(\"Réduction des émissions de GES: \" + str(np.round(emission_reduction*100,2)) + \"%\")\n",
    "print(\"Réduction de la consommation: \" + str(np.round(energy_cons_reduction*100,2)) + \"%\")\n",
    "print(\"Réduction du besoin: \" + str(np.round(energy_need_reduction*100,2)) + \"%\")\n",
    "print(\"Besoin final du parc: \" + str(np.round(surface_energy_need,2)) + \"kWh/m²\")\n",
    "initial_need"
   ]
  },
  {
   "cell_type": "markdown",
   "metadata": {},
   "source": [
    "### 3.4 Achieving SNBC target by combining all the options <a class=\"anchor\" id=\"final\"></a>\n",
    "At the end, we have the impression that each scenario cannot represent a solution on its own. A combination of all technical solution might permit to meet SNBC targets.\n",
    "You must now design a scenario which uses the following levers:\n",
    "1. Thermal retrofit of buildings\n",
    "2. Electrification of heating (using hybrid heat-pumps to reduce the peak)\n",
    "3. Injection of biomethane in the mix\n",
    "\n",
    "You can, if you want, try to adjust other parameters such as the heat networks carbon content, the share of wood heating in the mix, ..."
   ]
  },
  {
   "cell_type": "code",
   "execution_count": null,
   "metadata": {},
   "outputs": [],
   "source": [
    "## design here some new options"
   ]
  },
  {
   "cell_type": "markdown",
   "metadata": {},
   "source": [
    "## 5 Bibliography\n",
    "- Des données du SdeS sur le détail des consommation d'énergie du [résidentiel](https://www.statistiques.developpement-durable.gouv.fr/consommation-denergie-par-usage-du-residentiel) et du [tertiaire](https://www.statistiques.developpement-durable.gouv.fr/consommation-denergie-par-usage-du-tertiaire)\n",
    "- [La stratégie bas carbone](https://www.ecologie.gouv.fr/strategie-nationale-bas-carbone-snbc) introduite par la LTECV\n",
    "- Un [article de blog](https://www.energy-alternatives.eu/2020/03/22/une-contribution-a-la-reflexion-sur-la-strategie-nationale-bas-carbone-dans-le-batiment-partie-1-quels-modes-de-chauffage-a-lhorizon-2050.html#bibliographie) de Robin Girard sur la stratégie de rénovation de bâtiments en lien avec la SNBC\n",
    "- Un [article sur l'usage des pompes à chaleur](https://www.enertech.fr/81-du-bon-usage-des-pompes-a-chaleur/) publié par Enertech\n",
    "- La [base de données des DPE](https://www.data.gouv.fr/fr/posts/la-base-des-diagnostics-de-performance-energetique-dpe/) qui sert d'input au modèle"
   ]
  }
 ],
 "metadata": {
  "kernelspec": {
   "display_name": "energyalternatives",
   "language": "python",
   "name": "energyalternatives"
  },
  "language_info": {
   "codemirror_mode": {
    "name": "ipython",
    "version": 3
   },
   "file_extension": ".py",
   "mimetype": "text/x-python",
   "name": "python",
   "nbconvert_exporter": "python",
   "pygments_lexer": "ipython3",
   "version": "3.10.2"
  }
 },
 "nbformat": 4,
 "nbformat_minor": 1
}