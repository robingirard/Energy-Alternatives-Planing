{
 "cells": [
  {
   "cell_type": "code",
   "execution_count": null,
   "outputs": [],
   "source": [
    "#region Chargement des packages\n",
    "#from IPython import get_ipython;\n",
    "#get_ipython().magic('reset -sf')\n",
    "import os\n",
    "import sys\n",
    "if os.path.basename(os.getcwd())=='Prospective_conso':\n",
    "    sys.path.append('../../')\n",
    "from functions.f_notebook import hide_toggle\n",
    "\n",
    "import warnings\n",
    "warnings.simplefilter(action='ignore', category=FutureWarning)\n",
    "import pandas as pd\n",
    "from functions.f_tools import *\n",
    "from functions.f_graphicalTools import *\n",
    "from Models.Prospective_conso.f_evolution_tools import *\n",
    "from mycolorpy import colorlist as mcp\n",
    "import qgrid # great package https://github.com/quantopian/qgrid\n",
    "import numpy as np\n",
    "import time\n",
    "from plotnine import *\n",
    "from functools import reduce\n",
    "dpe_colors = ['#009900', '#33cc33', '#B3FF00', '#e6e600', '#FFB300', '#FF4D00', '#FF0000',\"#000000\"]\n",
    "\n",
    "# print(os.getcwd())\n",
    "Graphic_folder = \"Graphics/\"\n",
    "Data_folder = \"data/\"\n",
    "# endregion"
   ],
   "metadata": {
    "collapsed": false,
    "pycharm": {
     "name": "#%%\n"
    }
   }
  },
  {
   "cell_type": "markdown",
   "source": [
    "# Tertiary building stock evolution\n",
    "\n",
    "## *Defining an initial configuration and energy retrofit pathways*\n",
    "\n",
    "### Table of Contents\n",
    "\n",
    "* [1. Introduction](#intro)\n",
    "* [2. Initial state of the building stock](#initialstate)\n",
    "* [3. Decarbonization of building stock heating](#decarbonization)\n",
    "    * [3.1 An example path towards emission reduction ](#firstpath)\n",
    "    * [3.2 Achieving SNBC objectives through electrification](#electrification)\n",
    "    * [3.3 Technical constraints and alternative paths](#alternatives)\n",
    "* [4. Input data structure](#inputdata)\n",
    "\n",
    "\n",
    "## 1. Introduction <a class=\"anchor\" id=\"intro\"></a>\n",
    "\n",
    "This notebook will guide you through the undersanding of the heating demand in french residential and tertiary sectors. First of all, a basic representation of the building stock is used to characterise the initial state of the buildings and heating systems. Then, different modification can be applied to this initial situation in order to draw paths towards 2050, with the aim of reducing carbon emissions.not\n",
    "\n",
    "This guided work shall permit you to draw yourself some paths towards a cleaner future for building heating sector, considering technical and temporal constraints.\n",
    "\n",
    "The scope of this work is Metropolitan France and all the data used in this work are extracted from french governemental institutions, such as ADEME, SDES, INSEE...\n",
    "\n",
    "## 2. Initial state of the building stock <a class=\"anchor\" id=\"initialstate\"></a>\n",
    "\n",
    "First and foremost, we load the input data, stored in an excel file. More detail on the input structure and content can be found in [Section 4](#inputdata). These input data are extracted from the different sheets and stored in sim_param dictionnary."
   ],
   "metadata": {
    "collapsed": false,
    "pycharm": {
     "name": "#%% md\n"
    }
   }
  },
  {
   "cell_type": "code",
   "execution_count": null,
   "outputs": [],
   "source": [
    "#Four dimensions in the dataset\n",
    "dim_names = [\"Energy_source\", \"building_type\", \"Vecteur\", \"year\"];\n",
    "#Two main indexes\n",
    "Index_names = [\"Energy_source\", \"building_type\"];\n",
    "Energy_system_name = \"Energy_source\"\n",
    "#Reading the data\n",
    "data_set_from_excel = pd.read_excel(Data_folder + \"Hypotheses_residential_tertiary_BASIC.xlsx\", None);\n",
    "#Extracting info from sheets and creating indexes etc\n",
    "sim_param = extract_sim_param(data_set_from_excel, Index_names=Index_names, dim_names=dim_names,\n",
    "                              Energy_system_name=Energy_system_name)\n",
    "#Creating the initial building description\n",
    "sim_param[\"init_sim_stock\"] = create_initial_parc(sim_param).sort_index()\n",
    "sim_param[\"volume_variable_name\"] = \"surface\"\n",
    "sim_param[\"init_sim_stock\"][\"surface\"] = sim_param[\"init_sim_stock\"][\"surface\"] * sim_param[\"init_sim_stock\"][\"IPONDL\"]\n",
    "\n",
    "# We adjust energy need for electricity considering the primary energy factor\n",
    "sim_param[\"init_sim_stock\"][\"conso_unitaire_elec\"]=sim_param[\"init_sim_stock\"][\"conso_unitaire_elec\"]/2.3\n",
    "sim_param_copy4plot=sim_param.copy()"
   ],
   "metadata": {
    "collapsed": false,
    "pycharm": {
     "name": "#%%\n"
    }
   }
  },
  {
   "cell_type": "markdown",
   "source": [
    "The initial state of French building stock can be summarized and vizualized ploting a few graphs. Fot this, we gather all the info in a single dataframe (emission factors, efficiencies, etc.)."
   ],
   "metadata": {
    "collapsed": false,
    "pycharm": {
     "name": "#%% md\n"
    }
   }
  },
  {
   "cell_type": "code",
   "execution_count": null,
   "outputs": [],
   "source": [
    "# region plot data shaping\n",
    "init_stock=sim_param_copy4plot[\"init_sim_stock\"].copy()\n",
    "\n",
    "\n",
    "init_stock=init_stock.drop(['IPONDL'],axis=1)\n",
    "init_stock=pd.melt(init_stock,id_vars=['proportion_energy_need','energy_need_per_surface','surface'],value_name='conso_unitaire',ignore_index=False)\n",
    "init_stock[['v1','v2','Vecteur']]=init_stock['variable'].str.split('_',expand=True)\n",
    "init_stock=init_stock.drop(['v1','v2','variable'],axis=1)\n",
    "init_stock=init_stock.reset_index()\n",
    "init_stock=init_stock[init_stock['conso_unitaire'] > 0]\n",
    "\n",
    "init_stock=init_stock.set_index([\"Energy_source\", \"building_type\", \"Vecteur\"])\n",
    "\n",
    "data_frames=[init_stock,sim_param_copy4plot['seasonal_efficiency'],sim_param_copy4plot['peak_efficiency'],sim_param_copy4plot['direct_emissions'],sim_param_copy4plot['indirect_emissions']]\n",
    "\n",
    "init_stock = reduce(lambda  left,right: pd.merge(left,right,\n",
    "                                            left_index=True,right_index=True), data_frames)\n",
    "\n",
    "init_stock=init_stock.reset_index().set_index([\"Energy_source\", \"building_type\", \"Vecteur\"])\n",
    "init_stock['Besoin']=init_stock['proportion_energy_need']*init_stock['energy_need_per_surface']*init_stock['surface']*init_stock['conso_unitaire']/10**9\n",
    "init_stock['Consumption']=init_stock['Besoin']/init_stock['seasonal_efficiency']\n",
    "init_stock['Emissions']=init_stock['Consumption']*(init_stock['indirect_emissions']+init_stock['direct_emissions'])/10**3\n",
    "\n",
    "initial_need=init_stock['Besoin'].sum()\n",
    "initial_emissions=init_stock['Emissions'].sum()\n",
    "initial_consumption=init_stock['Consumption'].sum()\n",
    "# endregion\n",
    "print(\"Conso totale :\"+str(round(init_stock.Consumption.sum(),0))+ \" TWh et conso d'élec :\"+\n",
    "      str(round(init_stock.loc[(slice(None),slice(None),\"elec\"),\"Consumption\"].sum(),0))+\" TWh\")\n",
    "\n",
    "## Drawing the energy consumption by energy vector\n",
    "forplot=init_stock.groupby(['building_type','Vecteur']).agg('sum').reset_index()\n",
    "fig=(\n",
    "    ggplot(forplot)+\n",
    "    geom_col(aes(x='building_type',y=\"Consumption\",fill='Vecteur'))+\n",
    "    ylab(\"Consommation (TWh)\")+\n",
    "    xlab('')\n",
    ")\n",
    "p = fig.draw()"
   ],
   "metadata": {
    "collapsed": false,
    "pycharm": {
     "name": "#%%\n"
    }
   }
  },
  {
   "cell_type": "code",
   "execution_count": null,
   "outputs": [],
   "source": [
    "## Drawing the CO2 emissions by energy vector\n",
    "fig=(\n",
    "    ggplot(forplot)+\n",
    "    geom_col(aes(x='building_type',y=\"Emissions\",fill='Vecteur'))+\n",
    "    ylab(\"Emissions (MtCO2)\")+\n",
    "    xlab('')\n",
    ")\n",
    "p = fig.draw()"
   ],
   "metadata": {
    "collapsed": false,
    "pycharm": {
     "name": "#%%\n"
    }
   }
  },
  {
   "cell_type": "code",
   "execution_count": null,
   "outputs": [],
   "source": [
    "## Drawing the energy surface by energy source\n",
    "forplot2=init_stock.groupby(['Energy_source','building_type'])[\"surface\"].agg('mean').reset_index().filter(['Energy_source','building_type','surface','Consumption','Emissions'])\n",
    "forplot2[\"surface\"]=forplot2[\"surface\"]/10**6\n",
    "\n",
    "fig=(\n",
    "    ggplot(forplot2)+\n",
    "    geom_col(aes(x='building_type',y=\"surface\",fill='Energy_source'))+\n",
    "    ylab(\"Surface (Mm²)\")+\n",
    "    xlab('')\n",
    ")\n",
    "p = fig.draw()"
   ],
   "metadata": {
    "collapsed": false,
    "pycharm": {
     "name": "#%%\n"
    }
   }
  },
  {
   "cell_type": "markdown",
   "source": [
    "We can see that GHG emissions mainly come from gas an fuel, as electricity and wood have a low emission factor. Replacing the heating systems burning such fuels is thus the priority. Also, heating network are mainly used in apartments and teritary buildings.\n",
    "\n",
    "For the electricity peak, knowing that the actual residential electricity demand (about 35 TWh) represent a thermosensitivity of 1.5kW/°C (based on Enedis observations), we can estimate the global thermosensitivity due to electric heating in the residential and tertiary sectors."
   ],
   "metadata": {
    "collapsed": false,
    "pycharm": {
     "name": "#%% md\n"
    }
   }
  },
  {
   "cell_type": "code",
   "execution_count": null,
   "outputs": [],
   "source": [
    "init_stock_init=init_stock.copy().reset_index()\n",
    "init_stock_init=init_stock_init[init_stock_init[\"Vecteur\"]=='elec']\n",
    "themosensitivity=np.sum(init_stock_init['Consumption']*1.5/35/init_stock_init['peak_efficiency'])\n",
    "print(themosensitivity)"
   ],
   "metadata": {
    "collapsed": false,
    "pycharm": {
     "name": "#%%\n"
    }
   }
  },
  {
   "cell_type": "markdown",
   "source": [
    "The peak electricity demand can thus be estimated by calculating the peak power at a very cold temperature (typically -5°C). Compare this value with French installed power capacity."
   ],
   "metadata": {
    "collapsed": false,
    "pycharm": {
     "name": "#%% md\n"
    }
   }
  },
  {
   "cell_type": "code",
   "execution_count": null,
   "outputs": [],
   "source": [
    "T_base=-5\n",
    "initial_peak_power=themosensitivity*(15-T_base)\n",
    "initial_peak_power"
   ],
   "metadata": {
    "collapsed": false,
    "pycharm": {
     "name": "#%%\n"
    }
   }
  },
  {
   "cell_type": "markdown",
   "source": [
    "## 3. Decarbonization of building stock heating <a class=\"anchor\" id=\"decarbonization\"></a>\n",
    "For drawing the scenarios towards 2050, some pre-processing is needed to interpolathe the evolution of some parameters indexed along year."
   ],
   "metadata": {
    "collapsed": false,
    "pycharm": {
     "name": "#%% md\n"
    }
   }
  },
  {
   "cell_type": "code",
   "execution_count": null,
   "outputs": [],
   "source": [
    "sim_param = interpolate_sim_param(sim_param)\n",
    "sim_param[\"retrofit_change_surface\"]=sim_param[\"retrofit_change_total_proportion_surface\"].diff().fillna(0)\n",
    "\n",
    "Para_2_fill = {param: sim_param[\"base_index_year\"] for param in\n",
    "               [\"retrofit_improvement\", \"retrofit_change_surface\", \"retrofit_Transition\"]}\n",
    "sim_param = complete_parameters(sim_param, Para_2_fill=Para_2_fill)\n",
    "sim_param[\"retrofit_change_surface\"]=sim_param[\"retrofit_change_surface\"]*sim_param[\"init_sim_stock\"][\"surface\"]\n",
    "\n",
    "sim_param = complete_missing_indexes(data_set_from_excel, sim_param, Index_names, dim_names)\n"
   ],
   "metadata": {
    "collapsed": false,
    "pycharm": {
     "name": "#%%\n"
    }
   }
  },
  {
   "cell_type": "markdown",
   "source": [
    "We define some functions which will permit to estimate all the indicators, year by year. The three indicators we monitor are energy consumption, GHG emissions and electricity peak The heating need and final consumption are then calculated for each energy_source."
   ],
   "metadata": {
    "collapsed": false,
    "pycharm": {
     "name": "#%% md\n"
    }
   }
  },
  {
   "cell_type": "code",
   "execution_count": null,
   "outputs": [],
   "source": [
    "def f_Compute_conso(x,sim_param,Vecteur):\n",
    "    conso_unitaire = x[\"conso_unitaire_\"+Vecteur]\n",
    "    Energy_source = x.name[sim_param['base_index'].names.index('Energy_source')]\n",
    "    seasonal_efficiency=sim_param[\"seasonal_efficiency\"][(Energy_source,Vecteur)]\n",
    "    conso_unitaire=conso_unitaire/seasonal_efficiency\n",
    "    return x[\"energy_need_per_\"+sim_param[\"volume_variable_name\"]] * x[sim_param[\"volume_variable_name\"]]*x[\"proportion_energy_need\"]*conso_unitaire\n",
    "def f_Compute_conso_totale(x,sim_param):\n",
    "    res=0.\n",
    "    for Vecteur in sim_param[\"Vecteurs\"]:\n",
    "        res+=x[\"conso_\"+Vecteur]\n",
    "    return res\n",
    "\n",
    "#\n",
    "for Vecteur in sim_param[\"Vecteurs\"]:\n",
    "    sim_param[\"f_Compute_conso_\"+Vecteur]={\"conso_\"+Vecteur : partial(f_Compute_conso,Vecteur =Vecteur)}\n",
    "sim_param[\"f_Compute_conso_totale\"]={\"Conso\" : lambda x,sim_param: f_Compute_conso_totale(x,sim_param)}\n",
    "\n",
    "def f_Compute_besoin(x,sim_param): return x[\"energy_need_per_surface\"] * x[\"surface\"]*x[\"proportion_energy_need\"]\n",
    "sim_param[\"f_Compute_besoin\"]={\"Besoin\" : f_Compute_besoin}\n",
    "\n",
    "def f_compute_emissions(x, sim_param, year, Vecteur):\n",
    "    return sim_param[\"direct_emissions\"].loc[Vecteur, year] * x[\"conso_\" + Vecteur] + \\\n",
    "           sim_param[\"indirect_emissions\"].loc[Vecteur, year] * x[\"conso_\" + Vecteur]\n",
    "\n",
    "def f_Compute_emissions_totale(x, sim_param):\n",
    "    res = 0.\n",
    "    for Vecteur in sim_param[\"Vecteurs\"]:\n",
    "        res += x[\"emissions_\" + Vecteur]\n",
    "    return res\n",
    "\n",
    "for Vecteur in sim_param[\"Vecteurs\"]:\n",
    "    sim_param[\"f_Compute_emissions_\"+Vecteur]={\"emissions_\"+Vecteur : partial(f_compute_emissions,Vecteur =Vecteur)}\n",
    "sim_param[\"f_Compute_emissions_totale\"]={\"emissions\" : lambda x,sim_param: f_Compute_emissions_totale(x,sim_param)}\n"
   ],
   "metadata": {
    "collapsed": false,
    "pycharm": {
     "name": "#%%\n"
    }
   }
  },
  {
   "cell_type": "markdown",
   "source": [
    "The retrofit scenario is defined by two elements:\n",
    "1. The retrofit transition matrix: defines the switch from one heating system to another\n",
    "2. The thermal retrofit savings: defines in what extent the energy need is reduced when buildings are retrofitted"
   ],
   "metadata": {
    "collapsed": false,
    "pycharm": {
     "name": "#%% md\n"
    }
   }
  },
  {
   "cell_type": "code",
   "execution_count": null,
   "outputs": [],
   "source": [
    "#Transition matrix for apartments\n",
    "b_type=\"apartment\"\n",
    "transition_matrix=sim_param['retrofit_Transition'].copy().rename_axis(columns=None).reset_index()\n",
    "transition_matrix.loc[(transition_matrix[\"year\"]==2020) & (transition_matrix[\"building_type\"]==b_type)].drop([\\\n",
    "                                        \"old_new\",\"building_type\",\"year\"],axis=1).set_index('Energy_source').transpose()"
   ],
   "metadata": {
    "collapsed": false,
    "pycharm": {
     "name": "#%%\n"
    }
   }
  },
  {
   "cell_type": "code",
   "execution_count": null,
   "outputs": [],
   "source": [
    "retrofit_improvement=sim_param['retrofit_improvement'].copy().reset_index()\n",
    "retrofit_improvement.loc[(retrofit_improvement[\"Energy_source\"]==\"Biomasse\") & (retrofit_improvement[\"building_type\"]==\"apartment\")]\\\n",
    "                                        .drop(['Energy_source','building_type'],axis=1).set_index(\"year\")"
   ],
   "metadata": {
    "collapsed": false,
    "pycharm": {
     "name": "#%%\n"
    }
   }
  },
  {
   "cell_type": "markdown",
   "source": [
    "Let's now look at the first scenario results. We first initiate the simulation."
   ],
   "metadata": {
    "collapsed": false,
    "pycharm": {
     "name": "#%% md\n"
    }
   }
  },
  {
   "cell_type": "markdown",
   "source": [
    "\n",
    "### 3.1 An example path towards emission reduction <a class=\"anchor\" id=\"firstpath\"></a>\n",
    "Considering all the inputs described above, we can launch the simulation of the scenario. The simulation function calculates the surface to be retrofitted each year, the energy need of the surface after retrofit and the energy_source which will provide the energy_need and the switches from one energy source to another."
   ],
   "metadata": {
    "collapsed": false,
    "pycharm": {
     "name": "#%% md\n"
    }
   }
  },
  {
   "cell_type": "code",
   "execution_count": null,
   "outputs": [],
   "source": [
    "sim_stock = launch_simulation(sim_param)"
   ],
   "metadata": {
    "collapsed": false,
    "pycharm": {
     "name": "#%%\n"
    }
   }
  },
  {
   "cell_type": "markdown",
   "source": [
    "We collect the output data into a dataframe we can exploit to do some plot and analysis."
   ],
   "metadata": {
    "collapsed": false,
    "pycharm": {
     "name": "#%% md\n"
    }
   }
  },
  {
   "cell_type": "markdown",
   "source": [
    "Here comes the evolution of energy needs of buildings, splitted by building type."
   ],
   "metadata": {
    "collapsed": false,
    "pycharm": {
     "name": "#%% md\n"
    }
   }
  },
  {
   "cell_type": "code",
   "execution_count": null,
   "outputs": [],
   "source": [
    "sim_stock_df = pd.concat(sim_stock, axis=0).reset_index().\\\n",
    "    rename(columns={\"level_0\":\"year\"}).set_index([ \"year\"  ,  \"Energy_source\"  , \"old_new\"])"
   ],
   "metadata": {
    "collapsed": false,
    "pycharm": {
     "name": "#%%\n"
    }
   }
  },
  {
   "cell_type": "code",
   "execution_count": null,
   "outputs": [],
   "source": [
    "Var = \"Besoin\"\n",
    "y_df = sim_stock_df.groupby([\"year\", \"building_type\"])[Var].sum().to_frame().reset_index(). \\\n",
    "           pivot(index=['year'], columns='building_type').loc[[year for year in sim_param[\"years\"][1:]], Var] / 10 ** 9\n",
    "fig = MyStackedPlotly(y_df=y_df)\n",
    "fig = fig.update_layout(title_text=\"Besoin d'énergie de chauffage par vecteur énergétique (en TWh)\", xaxis_title=\"Année\",\n",
    "                        yaxis_title=\"Besoin [TWh]\")\n",
    "fig.show()"
   ],
   "metadata": {
    "collapsed": false,
    "pycharm": {
     "name": "#%%\n"
    }
   }
  },
  {
   "cell_type": "markdown",
   "source": [
    "But it is also possible to plot the evolution of energy consumption or GHG emissions due to heating."
   ],
   "metadata": {
    "collapsed": false,
    "pycharm": {
     "name": "#%% md\n"
    }
   }
  },
  {
   "cell_type": "code",
   "execution_count": null,
   "outputs": [],
   "source": [
    "Var = \"Conso\"\n",
    "y_df = sim_stock_df.groupby([\"year\", \"Energy_source\"])[Var].sum().to_frame().reset_index(). \\\n",
    "           pivot(index=['year'], columns='Energy_source').loc[[year for year in sim_param[\"years\"][1:]], Var] / 10 ** 9\n",
    "fig = MyStackedPlotly(y_df=y_df)\n",
    "fig = fig.update_layout(title_text=\"Conso d'énergie par mode de chauffage (en TWh)\", xaxis_title=\"Année\",\n",
    "                        yaxis_title=\"Consommation [TWh]\")\n",
    "fig.show()"
   ],
   "metadata": {
    "collapsed": false,
    "pycharm": {
     "name": "#%%\n"
    }
   }
  },
  {
   "cell_type": "code",
   "execution_count": null,
   "outputs": [],
   "source": [
    "Var = \"emissions\"\n",
    "y_df = sim_stock_df.groupby([\"year\", \"Energy_source\"])[Var].sum().to_frame().reset_index(). \\\n",
    "           pivot(index=['year'], columns='Energy_source').loc[[year for year in sim_param[\"years\"][1:]], Var] / 10 ** 12\n",
    "\n",
    "fig = MyStackedPlotly(y_df=y_df)\n",
    "fig = fig.update_layout(title_text=\"Emissions de GES par mode de chauffage (en MtCO2e)\", xaxis_title=\"Année\",\n",
    "                        yaxis_title=\"Emissions [MtCO2e]\")\n",
    "fig.show()"
   ],
   "metadata": {
    "collapsed": false,
    "pycharm": {
     "name": "#%%\n"
    }
   }
  },
  {
   "cell_type": "markdown",
   "source": [
    "One key indicator of the decarbonization pathways is the reduction of GHG emissions. In the case of this first scenario, we can vizualize the following key indicators:"
   ],
   "metadata": {
    "collapsed": false,
    "pycharm": {
     "name": "#%% md\n"
    }
   }
  },
  {
   "cell_type": "code",
   "execution_count": null,
   "outputs": [],
   "source": [
    "emission_reduction=sim_stock_df.copy().reset_index()\n",
    "emission_reduction=(initial_emissions-emission_reduction[emission_reduction[\"year\"]==2049][\"emissions\"].sum()/10**12)/initial_emissions\n",
    "\n",
    "energy_cons_reduction=sim_stock_df.copy().reset_index()\n",
    "energy_cons_reduction=(initial_consumption-energy_cons_reduction[energy_cons_reduction[\"year\"]==2049][\"Conso\"].sum()/10**9)/initial_consumption\n",
    "\n",
    "energy_need_reduction=sim_stock_df.copy().reset_index()\n",
    "energy_need_reduction=(initial_need-energy_need_reduction[energy_need_reduction[\"year\"]==2049][\"Besoin\"].sum()/10**9)/initial_need\n",
    "\n",
    "print(\"Réduction des émissions de GES: \" + str(np.round(emission_reduction*100,2)) + \"%\")\n",
    "print(\"Réduction de la consommation: \" + str(np.round(energy_cons_reduction*100,2)) + \"%\")\n",
    "print(\"Réduction du besoin: \" + str(np.round(energy_need_reduction*100,2)) + \"%\")\n"
   ],
   "metadata": {
    "collapsed": false,
    "pycharm": {
     "name": "#%%\n"
    }
   }
  },
  {
   "cell_type": "markdown",
   "source": [
    "### 3.2 Achieving SNBC objectives through electrification <a class=\"anchor\" id=\"electrification\"></a>\n",
    "The french national decarbonisation strategy targets to reduce by 95% emissions from heating by 2050 (respect to 2015).\n",
    "As you can observe in the previous graphs, the SNBC objectives are not met by the proposed scenario.\n",
    "One way of reducing heating emissions is the electrification of heating systems. By modifying the shift proportions in the retrofit matrix, propose a scenario with a strong electricity penetration (electric heating, heat pumps) which gets clother the SNBC objectives (CAUTION: All rows should sum up to 1):"
   ],
   "metadata": {
    "collapsed": false,
    "pycharm": {
     "name": "#%% md\n"
    }
   }
  },
  {
   "cell_type": "code",
   "execution_count": null,
   "outputs": [],
   "source": [
    "sim_param = extract_sim_param(data_set_from_excel, Index_names=Index_names, dim_names=dim_names,\n",
    "                              Energy_system_name=Energy_system_name)\n",
    "#Creating the initial building description\n",
    "sim_param[\"init_sim_stock\"] = create_initial_parc(sim_param).sort_index()\n",
    "sim_param[\"volume_variable_name\"] = \"surface\"\n",
    "sim_param[\"init_sim_stock\"][\"surface\"] = sim_param[\"init_sim_stock\"][\"surface\"] * sim_param[\"init_sim_stock\"][\"IPONDL\"]\n",
    "\n",
    "# We adjust energy need for electricity considering the primary energy factor\n",
    "sim_param[\"init_sim_stock\"][\"conso_unitaire_elec\"]=sim_param[\"init_sim_stock\"][\"conso_unitaire_elec\"]/2.3\n",
    "\n",
    "## for those able to make qgrid work, you should be able to modify the table sim_param['retrofit_Transition'] within the interface below\n",
    "#https://github.com/quantopian/qgrid\n",
    "col_def = { col :  { 'editable': True } for col in sim_param['retrofit_Transition'].columns}\n",
    "qgrid_widget = qgrid.show_grid(sim_param['retrofit_Transition'], show_toolbar=True, column_definitions=col_def)\n",
    "qgrid_widget"
   ],
   "metadata": {
    "collapsed": false,
    "pycharm": {
     "name": "#%%\n"
    }
   }
  },
  {
   "cell_type": "code",
   "execution_count": null,
   "outputs": [],
   "source": [
    "# retrofit_transition_electrified=qgrid_widget.get_changed_df()\n",
    "sim_param['retrofit_Transition']=retrofit_transition_electrified.copy()"
   ],
   "metadata": {
    "collapsed": false,
    "pycharm": {
     "name": "#%%\n"
    }
   }
  },
  {
   "cell_type": "markdown",
   "source": [
    "We relaunch all the data preparation with this new retrofit transition matrix."
   ],
   "metadata": {
    "collapsed": false,
    "pycharm": {
     "name": "#%% md\n"
    }
   }
  },
  {
   "cell_type": "code",
   "execution_count": null,
   "outputs": [],
   "source": [
    "sim_param = interpolate_sim_param(sim_param)\n",
    "sim_param[\"retrofit_change_surface\"]=sim_param[\"retrofit_change_total_proportion_surface\"].diff().fillna(0)\n",
    "\n",
    "Para_2_fill = {param: sim_param[\"base_index_year\"] for param in\n",
    "               [\"retrofit_improvement\", \"retrofit_change_surface\", \"retrofit_Transition\"]}\n",
    "sim_param = complete_parameters(sim_param, Para_2_fill=Para_2_fill)\n",
    "sim_param[\"retrofit_change_surface\"]=sim_param[\"retrofit_change_surface\"]*sim_param[\"init_sim_stock\"][\"surface\"]\n",
    "\n",
    "sim_param = complete_missing_indexes(data_set_from_excel, sim_param, Index_names, dim_names)\n",
    "\n",
    "for Vecteur in sim_param[\"Vecteurs\"]:\n",
    "    sim_param[\"f_Compute_conso_\"+Vecteur]={\"conso_\"+Vecteur : partial(f_Compute_conso,Vecteur =Vecteur)}\n",
    "sim_param[\"f_Compute_conso_totale\"]={\"Conso\" : lambda x,sim_param: f_Compute_conso_totale(x,sim_param)}\n",
    "\n",
    "sim_param[\"f_Compute_besoin\"]={\"Besoin\" : f_Compute_besoin}\n",
    "\n",
    "for Vecteur in sim_param[\"Vecteurs\"]:\n",
    "    sim_param[\"f_Compute_emissions_\"+Vecteur]={\"emissions_\"+Vecteur : partial(f_compute_emissions,Vecteur =Vecteur)}\n",
    "sim_param[\"f_Compute_emissions_totale\"]={\"emissions\" : lambda x,sim_param: f_Compute_emissions_totale(x,sim_param)}\n",
    "\n",
    "# A new function to calculate the electrical peak on the grid\n",
    "def f_Compute_electrical_peak(x, sim_param):\n",
    "    Energy_source = x.name[sim_param['base_index'].names.index('Energy_source')]\n",
    "    return x[\"conso_elec\"] * 1.5 / 35  / sim_param[\"peak_efficiency\"][(Energy_source,\"elec\")]\n",
    "sim_param[\"f_Compute_electrical_peak_totale\"] = {\n",
    "    \"electrical_peak\": lambda x, sim_param: f_Compute_electrical_peak(x, sim_param)}\n",
    "\n",
    "# We lanch the simulation\n",
    "sim_stock_new = launch_simulation(sim_param)"
   ],
   "metadata": {
    "collapsed": false,
    "pycharm": {
     "name": "#%%\n"
    }
   }
  },
  {
   "cell_type": "code",
   "execution_count": null,
   "outputs": [],
   "source": [
    "sim_stock_new_df = pd.concat(sim_stock_new, axis=0).reset_index().\\\n",
    "    rename(columns={\"level_0\":\"year\"}).set_index([ \"year\"  ,  \"Energy_source\"  , \"old_new\"])"
   ],
   "metadata": {
    "collapsed": false,
    "pycharm": {
     "name": "#%%\n"
    }
   }
  },
  {
   "cell_type": "code",
   "execution_count": null,
   "outputs": [],
   "source": [
    "Var = \"Conso\"\n",
    "y_df = sim_stock_new_df.groupby([\"year\", \"Energy_source\"])[Var].sum().to_frame().reset_index(). \\\n",
    "           pivot(index=['year'], columns='Energy_source').loc[[year for year in sim_param[\"years\"][1:]], Var] / 10 ** 9\n",
    "fig = MyStackedPlotly(y_df=y_df)\n",
    "fig = fig.update_layout(title_text=\"Conso d'énergie par mode de chauffage (en TWh)\", xaxis_title=\"Année\",\n",
    "                        yaxis_title=\"Consommation [TWh]\")\n",
    "fig.show()"
   ],
   "metadata": {
    "collapsed": false,
    "pycharm": {
     "name": "#%%\n"
    }
   }
  },
  {
   "cell_type": "code",
   "execution_count": null,
   "outputs": [],
   "source": [
    "Var = \"Besoin\"\n",
    "y_df = sim_stock_new_df.groupby([\"year\", \"building_type\"])[Var].sum().to_frame().reset_index(). \\\n",
    "           pivot(index=['year'], columns='building_type').loc[[year for year in sim_param[\"years\"][1:]], Var] / 10 ** 9\n",
    "fig = MyStackedPlotly(y_df=y_df)\n",
    "fig = fig.update_layout(title_text=\"Besoin d'énergie de chauffage par vecteur énergétique (en TWh)\", xaxis_title=\"Année\",\n",
    "                        yaxis_title=\"Besoin [TWh]\")\n",
    "fig.show()"
   ],
   "metadata": {
    "collapsed": false,
    "pycharm": {
     "name": "#%%\n"
    }
   }
  },
  {
   "cell_type": "code",
   "execution_count": null,
   "outputs": [],
   "source": [
    "emission_reduction=sim_stock_new_df.copy().reset_index()\n",
    "emission_reduction=(initial_emissions-emission_reduction[emission_reduction[\"year\"]==2049][\"emissions\"].sum()/10**12)/initial_emissions\n",
    "\n",
    "energy_cons_reduction=sim_stock_new_df.copy().reset_index()\n",
    "energy_cons_reduction=(initial_consumption-energy_cons_reduction[energy_cons_reduction[\"year\"]==2049][\"Conso\"].sum()/10**9)/initial_consumption\n",
    "\n",
    "energy_need_reduction=sim_stock_new_df.copy().reset_index()\n",
    "energy_need_reduction=(initial_need-energy_need_reduction[energy_need_reduction[\"year\"]==2049][\"Besoin\"].sum()/10**9)/initial_need\n",
    "\n",
    "print(\"Réduction des émissions de GES: \" + str(np.round(emission_reduction*100,2)) + \"%\")\n",
    "print(\"Réduction de la consommation: \" + str(np.round(energy_cons_reduction*100,2)) + \"%\")\n",
    "print(\"Réduction du besoin: \" + str(np.round(energy_need_reduction*100,2)) + \"%\")\n"
   ],
   "metadata": {
    "collapsed": false,
    "pycharm": {
     "name": "#%%\n"
    }
   }
  },
  {
   "cell_type": "markdown",
   "source": [
    "This new stock configuration, highly electrified, also impacts the electrical grid. Vizualize the new electrical peak and compare it with French installed capacity."
   ],
   "metadata": {
    "collapsed": false,
    "pycharm": {
     "name": "#%% md\n"
    }
   }
  },
  {
   "cell_type": "code",
   "execution_count": null,
   "outputs": [],
   "source": [
    "final_stock=sim_stock_new_df.copy().reset_index()\n",
    "\n",
    "themosensitivity_init=np.sum(final_stock[final_stock[\"year\"]==2021]['electrical_peak']/10**9)\n",
    "themosensitivity=np.sum(final_stock[final_stock[\"year\"]==2049]['electrical_peak']/10**9)\n",
    "\n",
    "print(\"Termosensibilité: \" + str(np.round(themosensitivity,2)) + \"GW/°C\")\n",
    "peak_power=themosensitivity*(15-T_base)\n",
    "print(\"Nouveau pic électrique: \" + str(np.round(peak_power,1)) +\"GW\")\n",
    "print(\"Augmentation du pic électrique: +\" + str(np.round((peak_power-initial_peak_power)/initial_peak_power*100,1)) +\"%\")\n",
    "themosensitivity"
   ],
   "metadata": {
    "collapsed": false,
    "pycharm": {
     "name": "#%%\n"
    }
   }
  },
  {
   "cell_type": "code",
   "execution_count": 184,
   "metadata": {
    "pycharm": {
     "name": "#%%\n"
    }
   },
   "outputs": [
    {
     "data": {
      "application/vnd.plotly.v1+json": {
       "config": {
        "plotlyServerURL": "https://plot.ly"
       },
       "data": [
        {
         "fill": "tozeroy",
         "mode": "none",
         "name": "apartment",
         "type": "scatter",
         "x": [
          2021,
          2022,
          2023,
          2024,
          2025,
          2026,
          2027,
          2028,
          2029,
          2030,
          2031,
          2032,
          2033,
          2034,
          2035,
          2036,
          2037,
          2038,
          2039,
          2040,
          2041,
          2042,
          2043,
          2044,
          2045,
          2046,
          2047,
          2048,
          2049
         ],
         "y": [
          77.98049965804952,
          77.93384979505626,
          77.33964175372162,
          76.7421239356338,
          76.14129634079279,
          75.18739522774933,
          74.22826815141136,
          73.26391511177889,
          72.29433610885191,
          71.31953114263044,
          69.94748784130805,
          68.56812819137335,
          67.18145219282636,
          65.78745984566706,
          64.38615114989545,
          63.782454702302346,
          63.17562267673254,
          62.56565507318603,
          61.952551891662814,
          61.3363131321629,
          60.923396907178486,
          60.50839029687626,
          60.09129330125626,
          59.672105920318444,
          59.25082815406282,
          59.03914407827611,
          58.8264148098305,
          58.61264034872599,
          58.397820694962576
         ]
        },
        {
         "fill": "tonexty",
         "mode": "none",
         "name": "house",
         "type": "scatter",
         "x": [
          2021,
          2022,
          2023,
          2024,
          2025,
          2026,
          2027,
          2028,
          2029,
          2030,
          2031,
          2032,
          2033,
          2034,
          2035,
          2036,
          2037,
          2038,
          2039,
          2040,
          2041,
          2042,
          2043,
          2044,
          2045,
          2046,
          2047,
          2048,
          2049
         ],
         "y": [
          281.7218747379416,
          281.5218556935066,
          278.9681282625088,
          276.3942479633562,
          273.80021479604886,
          269.67255263479296,
          265.51307015539794,
          261.3217673578639,
          257.09864424219074,
          252.84370080837854,
          246.84223155564672,
          240.79621385752014,
          234.7056477139989,
          228.570533125083,
          222.3908700907723,
          219.72335088518426,
          217.03673948871278,
          214.33103590135792,
          211.60624012311953,
          208.86235215399773,
          207.0203653806609,
          205.16565048006842,
          203.29820745222034,
          201.41803629711663,
          199.52513701475726,
          198.57232330994978,
          197.6131455415145,
          196.64760370945137,
          195.67569781376042
         ]
        },
        {
         "fill": "tonexty",
         "mode": "none",
         "name": "tertiary",
         "type": "scatter",
         "x": [
          2021,
          2022,
          2023,
          2024,
          2025,
          2026,
          2027,
          2028,
          2029,
          2030,
          2031,
          2032,
          2033,
          2034,
          2035,
          2036,
          2037,
          2038,
          2039,
          2040,
          2041,
          2042,
          2043,
          2044,
          2045,
          2046,
          2047,
          2048,
          2049
         ],
         "y": [
          432.8497924657213,
          432.64942607662977,
          430.0828811514908,
          427.4877655630378,
          424.86407931127076,
          420.6763052348268,
          416.44341958472904,
          412.1654223609777,
          407.84231356357236,
          403.47409319251335,
          397.29542846991535,
          391.053607544202,
          384.74863041537344,
          378.38049708342965,
          371.9492075483704,
          369.16587366058127,
          366.3554728286,
          363.51800505242636,
          360.65347033206046,
          357.7618686675023,
          355.81608959500204,
          353.8522658930402,
          351.870397561617,
          349.87048460073214,
          347.8525270103858,
          346.8345259004819,
          345.8075024758473,
          344.7714567364818,
          343.72638868238556
         ]
        }
       ],
       "layout": {
        "template": {
         "data": {
          "bar": [
           {
            "error_x": {
             "color": "#2a3f5f"
            },
            "error_y": {
             "color": "#2a3f5f"
            },
            "marker": {
             "line": {
              "color": "#E5ECF6",
              "width": 0.5
             },
             "pattern": {
              "fillmode": "overlay",
              "size": 10,
              "solidity": 0.2
             }
            },
            "type": "bar"
           }
          ],
          "barpolar": [
           {
            "marker": {
             "line": {
              "color": "#E5ECF6",
              "width": 0.5
             },
             "pattern": {
              "fillmode": "overlay",
              "size": 10,
              "solidity": 0.2
             }
            },
            "type": "barpolar"
           }
          ],
          "carpet": [
           {
            "aaxis": {
             "endlinecolor": "#2a3f5f",
             "gridcolor": "white",
             "linecolor": "white",
             "minorgridcolor": "white",
             "startlinecolor": "#2a3f5f"
            },
            "baxis": {
             "endlinecolor": "#2a3f5f",
             "gridcolor": "white",
             "linecolor": "white",
             "minorgridcolor": "white",
             "startlinecolor": "#2a3f5f"
            },
            "type": "carpet"
           }
          ],
          "choropleth": [
           {
            "colorbar": {
             "outlinewidth": 0,
             "ticks": ""
            },
            "type": "choropleth"
           }
          ],
          "contour": [
           {
            "colorbar": {
             "outlinewidth": 0,
             "ticks": ""
            },
            "colorscale": [
             [
              0,
              "#0d0887"
             ],
             [
              0.1111111111111111,
              "#46039f"
             ],
             [
              0.2222222222222222,
              "#7201a8"
             ],
             [
              0.3333333333333333,
              "#9c179e"
             ],
             [
              0.4444444444444444,
              "#bd3786"
             ],
             [
              0.5555555555555556,
              "#d8576b"
             ],
             [
              0.6666666666666666,
              "#ed7953"
             ],
             [
              0.7777777777777778,
              "#fb9f3a"
             ],
             [
              0.8888888888888888,
              "#fdca26"
             ],
             [
              1,
              "#f0f921"
             ]
            ],
            "type": "contour"
           }
          ],
          "contourcarpet": [
           {
            "colorbar": {
             "outlinewidth": 0,
             "ticks": ""
            },
            "type": "contourcarpet"
           }
          ],
          "heatmap": [
           {
            "colorbar": {
             "outlinewidth": 0,
             "ticks": ""
            },
            "colorscale": [
             [
              0,
              "#0d0887"
             ],
             [
              0.1111111111111111,
              "#46039f"
             ],
             [
              0.2222222222222222,
              "#7201a8"
             ],
             [
              0.3333333333333333,
              "#9c179e"
             ],
             [
              0.4444444444444444,
              "#bd3786"
             ],
             [
              0.5555555555555556,
              "#d8576b"
             ],
             [
              0.6666666666666666,
              "#ed7953"
             ],
             [
              0.7777777777777778,
              "#fb9f3a"
             ],
             [
              0.8888888888888888,
              "#fdca26"
             ],
             [
              1,
              "#f0f921"
             ]
            ],
            "type": "heatmap"
           }
          ],
          "heatmapgl": [
           {
            "colorbar": {
             "outlinewidth": 0,
             "ticks": ""
            },
            "colorscale": [
             [
              0,
              "#0d0887"
             ],
             [
              0.1111111111111111,
              "#46039f"
             ],
             [
              0.2222222222222222,
              "#7201a8"
             ],
             [
              0.3333333333333333,
              "#9c179e"
             ],
             [
              0.4444444444444444,
              "#bd3786"
             ],
             [
              0.5555555555555556,
              "#d8576b"
             ],
             [
              0.6666666666666666,
              "#ed7953"
             ],
             [
              0.7777777777777778,
              "#fb9f3a"
             ],
             [
              0.8888888888888888,
              "#fdca26"
             ],
             [
              1,
              "#f0f921"
             ]
            ],
            "type": "heatmapgl"
           }
          ],
          "histogram": [
           {
            "marker": {
             "pattern": {
              "fillmode": "overlay",
              "size": 10,
              "solidity": 0.2
             }
            },
            "type": "histogram"
           }
          ],
          "histogram2d": [
           {
            "colorbar": {
             "outlinewidth": 0,
             "ticks": ""
            },
            "colorscale": [
             [
              0,
              "#0d0887"
             ],
             [
              0.1111111111111111,
              "#46039f"
             ],
             [
              0.2222222222222222,
              "#7201a8"
             ],
             [
              0.3333333333333333,
              "#9c179e"
             ],
             [
              0.4444444444444444,
              "#bd3786"
             ],
             [
              0.5555555555555556,
              "#d8576b"
             ],
             [
              0.6666666666666666,
              "#ed7953"
             ],
             [
              0.7777777777777778,
              "#fb9f3a"
             ],
             [
              0.8888888888888888,
              "#fdca26"
             ],
             [
              1,
              "#f0f921"
             ]
            ],
            "type": "histogram2d"
           }
          ],
          "histogram2dcontour": [
           {
            "colorbar": {
             "outlinewidth": 0,
             "ticks": ""
            },
            "colorscale": [
             [
              0,
              "#0d0887"
             ],
             [
              0.1111111111111111,
              "#46039f"
             ],
             [
              0.2222222222222222,
              "#7201a8"
             ],
             [
              0.3333333333333333,
              "#9c179e"
             ],
             [
              0.4444444444444444,
              "#bd3786"
             ],
             [
              0.5555555555555556,
              "#d8576b"
             ],
             [
              0.6666666666666666,
              "#ed7953"
             ],
             [
              0.7777777777777778,
              "#fb9f3a"
             ],
             [
              0.8888888888888888,
              "#fdca26"
             ],
             [
              1,
              "#f0f921"
             ]
            ],
            "type": "histogram2dcontour"
           }
          ],
          "mesh3d": [
           {
            "colorbar": {
             "outlinewidth": 0,
             "ticks": ""
            },
            "type": "mesh3d"
           }
          ],
          "parcoords": [
           {
            "line": {
             "colorbar": {
              "outlinewidth": 0,
              "ticks": ""
             }
            },
            "type": "parcoords"
           }
          ],
          "pie": [
           {
            "automargin": true,
            "type": "pie"
           }
          ],
          "scatter": [
           {
            "fillpattern": {
             "fillmode": "overlay",
             "size": 10,
             "solidity": 0.2
            },
            "type": "scatter"
           }
          ],
          "scatter3d": [
           {
            "line": {
             "colorbar": {
              "outlinewidth": 0,
              "ticks": ""
             }
            },
            "marker": {
             "colorbar": {
              "outlinewidth": 0,
              "ticks": ""
             }
            },
            "type": "scatter3d"
           }
          ],
          "scattercarpet": [
           {
            "marker": {
             "colorbar": {
              "outlinewidth": 0,
              "ticks": ""
             }
            },
            "type": "scattercarpet"
           }
          ],
          "scattergeo": [
           {
            "marker": {
             "colorbar": {
              "outlinewidth": 0,
              "ticks": ""
             }
            },
            "type": "scattergeo"
           }
          ],
          "scattergl": [
           {
            "marker": {
             "colorbar": {
              "outlinewidth": 0,
              "ticks": ""
             }
            },
            "type": "scattergl"
           }
          ],
          "scattermapbox": [
           {
            "marker": {
             "colorbar": {
              "outlinewidth": 0,
              "ticks": ""
             }
            },
            "type": "scattermapbox"
           }
          ],
          "scatterpolar": [
           {
            "marker": {
             "colorbar": {
              "outlinewidth": 0,
              "ticks": ""
             }
            },
            "type": "scatterpolar"
           }
          ],
          "scatterpolargl": [
           {
            "marker": {
             "colorbar": {
              "outlinewidth": 0,
              "ticks": ""
             }
            },
            "type": "scatterpolargl"
           }
          ],
          "scatterternary": [
           {
            "marker": {
             "colorbar": {
              "outlinewidth": 0,
              "ticks": ""
             }
            },
            "type": "scatterternary"
           }
          ],
          "surface": [
           {
            "colorbar": {
             "outlinewidth": 0,
             "ticks": ""
            },
            "colorscale": [
             [
              0,
              "#0d0887"
             ],
             [
              0.1111111111111111,
              "#46039f"
             ],
             [
              0.2222222222222222,
              "#7201a8"
             ],
             [
              0.3333333333333333,
              "#9c179e"
             ],
             [
              0.4444444444444444,
              "#bd3786"
             ],
             [
              0.5555555555555556,
              "#d8576b"
             ],
             [
              0.6666666666666666,
              "#ed7953"
             ],
             [
              0.7777777777777778,
              "#fb9f3a"
             ],
             [
              0.8888888888888888,
              "#fdca26"
             ],
             [
              1,
              "#f0f921"
             ]
            ],
            "type": "surface"
           }
          ],
          "table": [
           {
            "cells": {
             "fill": {
              "color": "#EBF0F8"
             },
             "line": {
              "color": "white"
             }
            },
            "header": {
             "fill": {
              "color": "#C8D4E3"
             },
             "line": {
              "color": "white"
             }
            },
            "type": "table"
           }
          ]
         },
         "layout": {
          "annotationdefaults": {
           "arrowcolor": "#2a3f5f",
           "arrowhead": 0,
           "arrowwidth": 1
          },
          "autotypenumbers": "strict",
          "coloraxis": {
           "colorbar": {
            "outlinewidth": 0,
            "ticks": ""
           }
          },
          "colorscale": {
           "diverging": [
            [
             0,
             "#8e0152"
            ],
            [
             0.1,
             "#c51b7d"
            ],
            [
             0.2,
             "#de77ae"
            ],
            [
             0.3,
             "#f1b6da"
            ],
            [
             0.4,
             "#fde0ef"
            ],
            [
             0.5,
             "#f7f7f7"
            ],
            [
             0.6,
             "#e6f5d0"
            ],
            [
             0.7,
             "#b8e186"
            ],
            [
             0.8,
             "#7fbc41"
            ],
            [
             0.9,
             "#4d9221"
            ],
            [
             1,
             "#276419"
            ]
           ],
           "sequential": [
            [
             0,
             "#0d0887"
            ],
            [
             0.1111111111111111,
             "#46039f"
            ],
            [
             0.2222222222222222,
             "#7201a8"
            ],
            [
             0.3333333333333333,
             "#9c179e"
            ],
            [
             0.4444444444444444,
             "#bd3786"
            ],
            [
             0.5555555555555556,
             "#d8576b"
            ],
            [
             0.6666666666666666,
             "#ed7953"
            ],
            [
             0.7777777777777778,
             "#fb9f3a"
            ],
            [
             0.8888888888888888,
             "#fdca26"
            ],
            [
             1,
             "#f0f921"
            ]
           ],
           "sequentialminus": [
            [
             0,
             "#0d0887"
            ],
            [
             0.1111111111111111,
             "#46039f"
            ],
            [
             0.2222222222222222,
             "#7201a8"
            ],
            [
             0.3333333333333333,
             "#9c179e"
            ],
            [
             0.4444444444444444,
             "#bd3786"
            ],
            [
             0.5555555555555556,
             "#d8576b"
            ],
            [
             0.6666666666666666,
             "#ed7953"
            ],
            [
             0.7777777777777778,
             "#fb9f3a"
            ],
            [
             0.8888888888888888,
             "#fdca26"
            ],
            [
             1,
             "#f0f921"
            ]
           ]
          },
          "colorway": [
           "#636efa",
           "#EF553B",
           "#00cc96",
           "#ab63fa",
           "#FFA15A",
           "#19d3f3",
           "#FF6692",
           "#B6E880",
           "#FF97FF",
           "#FECB52"
          ],
          "font": {
           "color": "#2a3f5f"
          },
          "geo": {
           "bgcolor": "white",
           "lakecolor": "white",
           "landcolor": "#E5ECF6",
           "showlakes": true,
           "showland": true,
           "subunitcolor": "white"
          },
          "hoverlabel": {
           "align": "left"
          },
          "hovermode": "closest",
          "mapbox": {
           "style": "light"
          },
          "paper_bgcolor": "white",
          "plot_bgcolor": "#E5ECF6",
          "polar": {
           "angularaxis": {
            "gridcolor": "white",
            "linecolor": "white",
            "ticks": ""
           },
           "bgcolor": "#E5ECF6",
           "radialaxis": {
            "gridcolor": "white",
            "linecolor": "white",
            "ticks": ""
           }
          },
          "scene": {
           "xaxis": {
            "backgroundcolor": "#E5ECF6",
            "gridcolor": "white",
            "gridwidth": 2,
            "linecolor": "white",
            "showbackground": true,
            "ticks": "",
            "zerolinecolor": "white"
           },
           "yaxis": {
            "backgroundcolor": "#E5ECF6",
            "gridcolor": "white",
            "gridwidth": 2,
            "linecolor": "white",
            "showbackground": true,
            "ticks": "",
            "zerolinecolor": "white"
           },
           "zaxis": {
            "backgroundcolor": "#E5ECF6",
            "gridcolor": "white",
            "gridwidth": 2,
            "linecolor": "white",
            "showbackground": true,
            "ticks": "",
            "zerolinecolor": "white"
           }
          },
          "shapedefaults": {
           "line": {
            "color": "#2a3f5f"
           }
          },
          "ternary": {
           "aaxis": {
            "gridcolor": "white",
            "linecolor": "white",
            "ticks": ""
           },
           "baxis": {
            "gridcolor": "white",
            "linecolor": "white",
            "ticks": ""
           },
           "bgcolor": "#E5ECF6",
           "caxis": {
            "gridcolor": "white",
            "linecolor": "white",
            "ticks": ""
           }
          },
          "title": {
           "x": 0.05
          },
          "xaxis": {
           "automargin": true,
           "gridcolor": "white",
           "linecolor": "white",
           "ticks": "",
           "title": {
            "standoff": 15
           },
           "zerolinecolor": "white",
           "zerolinewidth": 2
          },
          "yaxis": {
           "automargin": true,
           "gridcolor": "white",
           "linecolor": "white",
           "ticks": "",
           "title": {
            "standoff": 15
           },
           "zerolinecolor": "white",
           "zerolinewidth": 2
          }
         }
        },
        "title": {
         "text": "Besoin d'énergie de chauffage par vecteur énergétique (en TWh)"
        },
        "xaxis": {
         "rangeslider": {
          "visible": true
         },
         "title": {
          "text": "Année"
         }
        },
        "yaxis": {
         "title": {
          "text": "Besoin [TWh]"
         }
        }
       }
      },
      "text/html": [
       "<div>                            <div id=\"c574dcfc-0b4d-450a-af9a-177742210708\" class=\"plotly-graph-div\" style=\"height:525px; width:100%;\"></div>            <script type=\"text/javascript\">                require([\"plotly\"], function(Plotly) {                    window.PLOTLYENV=window.PLOTLYENV || {};                                    if (document.getElementById(\"c574dcfc-0b4d-450a-af9a-177742210708\")) {                    Plotly.newPlot(                        \"c574dcfc-0b4d-450a-af9a-177742210708\",                        [{\"fill\":\"tozeroy\",\"mode\":\"none\",\"name\":\"apartment\",\"x\":[2021,2022,2023,2024,2025,2026,2027,2028,2029,2030,2031,2032,2033,2034,2035,2036,2037,2038,2039,2040,2041,2042,2043,2044,2045,2046,2047,2048,2049],\"y\":[77.98049965804952,77.93384979505626,77.33964175372162,76.7421239356338,76.14129634079279,75.18739522774933,74.22826815141136,73.26391511177889,72.29433610885191,71.31953114263044,69.94748784130805,68.56812819137335,67.18145219282636,65.78745984566706,64.38615114989545,63.782454702302346,63.17562267673254,62.56565507318603,61.952551891662814,61.3363131321629,60.923396907178486,60.50839029687626,60.09129330125626,59.672105920318444,59.25082815406282,59.03914407827611,58.8264148098305,58.61264034872599,58.397820694962576],\"type\":\"scatter\"},{\"fill\":\"tonexty\",\"mode\":\"none\",\"name\":\"house\",\"x\":[2021,2022,2023,2024,2025,2026,2027,2028,2029,2030,2031,2032,2033,2034,2035,2036,2037,2038,2039,2040,2041,2042,2043,2044,2045,2046,2047,2048,2049],\"y\":[281.7218747379416,281.5218556935066,278.9681282625088,276.3942479633562,273.80021479604886,269.67255263479296,265.51307015539794,261.3217673578639,257.09864424219074,252.84370080837854,246.84223155564672,240.79621385752014,234.7056477139989,228.570533125083,222.3908700907723,219.72335088518426,217.03673948871278,214.33103590135792,211.60624012311953,208.86235215399773,207.0203653806609,205.16565048006842,203.29820745222034,201.41803629711663,199.52513701475726,198.57232330994978,197.6131455415145,196.64760370945137,195.67569781376042],\"type\":\"scatter\"},{\"fill\":\"tonexty\",\"mode\":\"none\",\"name\":\"tertiary\",\"x\":[2021,2022,2023,2024,2025,2026,2027,2028,2029,2030,2031,2032,2033,2034,2035,2036,2037,2038,2039,2040,2041,2042,2043,2044,2045,2046,2047,2048,2049],\"y\":[432.8497924657213,432.64942607662977,430.0828811514908,427.4877655630378,424.86407931127076,420.6763052348268,416.44341958472904,412.1654223609777,407.84231356357236,403.47409319251335,397.29542846991535,391.053607544202,384.74863041537344,378.38049708342965,371.9492075483704,369.16587366058127,366.3554728286,363.51800505242636,360.65347033206046,357.7618686675023,355.81608959500204,353.8522658930402,351.870397561617,349.87048460073214,347.8525270103858,346.8345259004819,345.8075024758473,344.7714567364818,343.72638868238556],\"type\":\"scatter\"}],                        {\"template\":{\"data\":{\"histogram2dcontour\":[{\"type\":\"histogram2dcontour\",\"colorbar\":{\"outlinewidth\":0,\"ticks\":\"\"},\"colorscale\":[[0.0,\"#0d0887\"],[0.1111111111111111,\"#46039f\"],[0.2222222222222222,\"#7201a8\"],[0.3333333333333333,\"#9c179e\"],[0.4444444444444444,\"#bd3786\"],[0.5555555555555556,\"#d8576b\"],[0.6666666666666666,\"#ed7953\"],[0.7777777777777778,\"#fb9f3a\"],[0.8888888888888888,\"#fdca26\"],[1.0,\"#f0f921\"]]}],\"choropleth\":[{\"type\":\"choropleth\",\"colorbar\":{\"outlinewidth\":0,\"ticks\":\"\"}}],\"histogram2d\":[{\"type\":\"histogram2d\",\"colorbar\":{\"outlinewidth\":0,\"ticks\":\"\"},\"colorscale\":[[0.0,\"#0d0887\"],[0.1111111111111111,\"#46039f\"],[0.2222222222222222,\"#7201a8\"],[0.3333333333333333,\"#9c179e\"],[0.4444444444444444,\"#bd3786\"],[0.5555555555555556,\"#d8576b\"],[0.6666666666666666,\"#ed7953\"],[0.7777777777777778,\"#fb9f3a\"],[0.8888888888888888,\"#fdca26\"],[1.0,\"#f0f921\"]]}],\"heatmap\":[{\"type\":\"heatmap\",\"colorbar\":{\"outlinewidth\":0,\"ticks\":\"\"},\"colorscale\":[[0.0,\"#0d0887\"],[0.1111111111111111,\"#46039f\"],[0.2222222222222222,\"#7201a8\"],[0.3333333333333333,\"#9c179e\"],[0.4444444444444444,\"#bd3786\"],[0.5555555555555556,\"#d8576b\"],[0.6666666666666666,\"#ed7953\"],[0.7777777777777778,\"#fb9f3a\"],[0.8888888888888888,\"#fdca26\"],[1.0,\"#f0f921\"]]}],\"heatmapgl\":[{\"type\":\"heatmapgl\",\"colorbar\":{\"outlinewidth\":0,\"ticks\":\"\"},\"colorscale\":[[0.0,\"#0d0887\"],[0.1111111111111111,\"#46039f\"],[0.2222222222222222,\"#7201a8\"],[0.3333333333333333,\"#9c179e\"],[0.4444444444444444,\"#bd3786\"],[0.5555555555555556,\"#d8576b\"],[0.6666666666666666,\"#ed7953\"],[0.7777777777777778,\"#fb9f3a\"],[0.8888888888888888,\"#fdca26\"],[1.0,\"#f0f921\"]]}],\"contourcarpet\":[{\"type\":\"contourcarpet\",\"colorbar\":{\"outlinewidth\":0,\"ticks\":\"\"}}],\"contour\":[{\"type\":\"contour\",\"colorbar\":{\"outlinewidth\":0,\"ticks\":\"\"},\"colorscale\":[[0.0,\"#0d0887\"],[0.1111111111111111,\"#46039f\"],[0.2222222222222222,\"#7201a8\"],[0.3333333333333333,\"#9c179e\"],[0.4444444444444444,\"#bd3786\"],[0.5555555555555556,\"#d8576b\"],[0.6666666666666666,\"#ed7953\"],[0.7777777777777778,\"#fb9f3a\"],[0.8888888888888888,\"#fdca26\"],[1.0,\"#f0f921\"]]}],\"surface\":[{\"type\":\"surface\",\"colorbar\":{\"outlinewidth\":0,\"ticks\":\"\"},\"colorscale\":[[0.0,\"#0d0887\"],[0.1111111111111111,\"#46039f\"],[0.2222222222222222,\"#7201a8\"],[0.3333333333333333,\"#9c179e\"],[0.4444444444444444,\"#bd3786\"],[0.5555555555555556,\"#d8576b\"],[0.6666666666666666,\"#ed7953\"],[0.7777777777777778,\"#fb9f3a\"],[0.8888888888888888,\"#fdca26\"],[1.0,\"#f0f921\"]]}],\"mesh3d\":[{\"type\":\"mesh3d\",\"colorbar\":{\"outlinewidth\":0,\"ticks\":\"\"}}],\"scatter\":[{\"fillpattern\":{\"fillmode\":\"overlay\",\"size\":10,\"solidity\":0.2},\"type\":\"scatter\"}],\"parcoords\":[{\"type\":\"parcoords\",\"line\":{\"colorbar\":{\"outlinewidth\":0,\"ticks\":\"\"}}}],\"scatterpolargl\":[{\"type\":\"scatterpolargl\",\"marker\":{\"colorbar\":{\"outlinewidth\":0,\"ticks\":\"\"}}}],\"bar\":[{\"error_x\":{\"color\":\"#2a3f5f\"},\"error_y\":{\"color\":\"#2a3f5f\"},\"marker\":{\"line\":{\"color\":\"#E5ECF6\",\"width\":0.5},\"pattern\":{\"fillmode\":\"overlay\",\"size\":10,\"solidity\":0.2}},\"type\":\"bar\"}],\"scattergeo\":[{\"type\":\"scattergeo\",\"marker\":{\"colorbar\":{\"outlinewidth\":0,\"ticks\":\"\"}}}],\"scatterpolar\":[{\"type\":\"scatterpolar\",\"marker\":{\"colorbar\":{\"outlinewidth\":0,\"ticks\":\"\"}}}],\"histogram\":[{\"marker\":{\"pattern\":{\"fillmode\":\"overlay\",\"size\":10,\"solidity\":0.2}},\"type\":\"histogram\"}],\"scattergl\":[{\"type\":\"scattergl\",\"marker\":{\"colorbar\":{\"outlinewidth\":0,\"ticks\":\"\"}}}],\"scatter3d\":[{\"type\":\"scatter3d\",\"line\":{\"colorbar\":{\"outlinewidth\":0,\"ticks\":\"\"}},\"marker\":{\"colorbar\":{\"outlinewidth\":0,\"ticks\":\"\"}}}],\"scattermapbox\":[{\"type\":\"scattermapbox\",\"marker\":{\"colorbar\":{\"outlinewidth\":0,\"ticks\":\"\"}}}],\"scatterternary\":[{\"type\":\"scatterternary\",\"marker\":{\"colorbar\":{\"outlinewidth\":0,\"ticks\":\"\"}}}],\"scattercarpet\":[{\"type\":\"scattercarpet\",\"marker\":{\"colorbar\":{\"outlinewidth\":0,\"ticks\":\"\"}}}],\"carpet\":[{\"aaxis\":{\"endlinecolor\":\"#2a3f5f\",\"gridcolor\":\"white\",\"linecolor\":\"white\",\"minorgridcolor\":\"white\",\"startlinecolor\":\"#2a3f5f\"},\"baxis\":{\"endlinecolor\":\"#2a3f5f\",\"gridcolor\":\"white\",\"linecolor\":\"white\",\"minorgridcolor\":\"white\",\"startlinecolor\":\"#2a3f5f\"},\"type\":\"carpet\"}],\"table\":[{\"cells\":{\"fill\":{\"color\":\"#EBF0F8\"},\"line\":{\"color\":\"white\"}},\"header\":{\"fill\":{\"color\":\"#C8D4E3\"},\"line\":{\"color\":\"white\"}},\"type\":\"table\"}],\"barpolar\":[{\"marker\":{\"line\":{\"color\":\"#E5ECF6\",\"width\":0.5},\"pattern\":{\"fillmode\":\"overlay\",\"size\":10,\"solidity\":0.2}},\"type\":\"barpolar\"}],\"pie\":[{\"automargin\":true,\"type\":\"pie\"}]},\"layout\":{\"autotypenumbers\":\"strict\",\"colorway\":[\"#636efa\",\"#EF553B\",\"#00cc96\",\"#ab63fa\",\"#FFA15A\",\"#19d3f3\",\"#FF6692\",\"#B6E880\",\"#FF97FF\",\"#FECB52\"],\"font\":{\"color\":\"#2a3f5f\"},\"hovermode\":\"closest\",\"hoverlabel\":{\"align\":\"left\"},\"paper_bgcolor\":\"white\",\"plot_bgcolor\":\"#E5ECF6\",\"polar\":{\"bgcolor\":\"#E5ECF6\",\"angularaxis\":{\"gridcolor\":\"white\",\"linecolor\":\"white\",\"ticks\":\"\"},\"radialaxis\":{\"gridcolor\":\"white\",\"linecolor\":\"white\",\"ticks\":\"\"}},\"ternary\":{\"bgcolor\":\"#E5ECF6\",\"aaxis\":{\"gridcolor\":\"white\",\"linecolor\":\"white\",\"ticks\":\"\"},\"baxis\":{\"gridcolor\":\"white\",\"linecolor\":\"white\",\"ticks\":\"\"},\"caxis\":{\"gridcolor\":\"white\",\"linecolor\":\"white\",\"ticks\":\"\"}},\"coloraxis\":{\"colorbar\":{\"outlinewidth\":0,\"ticks\":\"\"}},\"colorscale\":{\"sequential\":[[0.0,\"#0d0887\"],[0.1111111111111111,\"#46039f\"],[0.2222222222222222,\"#7201a8\"],[0.3333333333333333,\"#9c179e\"],[0.4444444444444444,\"#bd3786\"],[0.5555555555555556,\"#d8576b\"],[0.6666666666666666,\"#ed7953\"],[0.7777777777777778,\"#fb9f3a\"],[0.8888888888888888,\"#fdca26\"],[1.0,\"#f0f921\"]],\"sequentialminus\":[[0.0,\"#0d0887\"],[0.1111111111111111,\"#46039f\"],[0.2222222222222222,\"#7201a8\"],[0.3333333333333333,\"#9c179e\"],[0.4444444444444444,\"#bd3786\"],[0.5555555555555556,\"#d8576b\"],[0.6666666666666666,\"#ed7953\"],[0.7777777777777778,\"#fb9f3a\"],[0.8888888888888888,\"#fdca26\"],[1.0,\"#f0f921\"]],\"diverging\":[[0,\"#8e0152\"],[0.1,\"#c51b7d\"],[0.2,\"#de77ae\"],[0.3,\"#f1b6da\"],[0.4,\"#fde0ef\"],[0.5,\"#f7f7f7\"],[0.6,\"#e6f5d0\"],[0.7,\"#b8e186\"],[0.8,\"#7fbc41\"],[0.9,\"#4d9221\"],[1,\"#276419\"]]},\"xaxis\":{\"gridcolor\":\"white\",\"linecolor\":\"white\",\"ticks\":\"\",\"title\":{\"standoff\":15},\"zerolinecolor\":\"white\",\"automargin\":true,\"zerolinewidth\":2},\"yaxis\":{\"gridcolor\":\"white\",\"linecolor\":\"white\",\"ticks\":\"\",\"title\":{\"standoff\":15},\"zerolinecolor\":\"white\",\"automargin\":true,\"zerolinewidth\":2},\"scene\":{\"xaxis\":{\"backgroundcolor\":\"#E5ECF6\",\"gridcolor\":\"white\",\"linecolor\":\"white\",\"showbackground\":true,\"ticks\":\"\",\"zerolinecolor\":\"white\",\"gridwidth\":2},\"yaxis\":{\"backgroundcolor\":\"#E5ECF6\",\"gridcolor\":\"white\",\"linecolor\":\"white\",\"showbackground\":true,\"ticks\":\"\",\"zerolinecolor\":\"white\",\"gridwidth\":2},\"zaxis\":{\"backgroundcolor\":\"#E5ECF6\",\"gridcolor\":\"white\",\"linecolor\":\"white\",\"showbackground\":true,\"ticks\":\"\",\"zerolinecolor\":\"white\",\"gridwidth\":2}},\"shapedefaults\":{\"line\":{\"color\":\"#2a3f5f\"}},\"annotationdefaults\":{\"arrowcolor\":\"#2a3f5f\",\"arrowhead\":0,\"arrowwidth\":1},\"geo\":{\"bgcolor\":\"white\",\"landcolor\":\"#E5ECF6\",\"subunitcolor\":\"white\",\"showland\":true,\"showlakes\":true,\"lakecolor\":\"white\"},\"title\":{\"x\":0.05},\"mapbox\":{\"style\":\"light\"}}},\"xaxis\":{\"rangeslider\":{\"visible\":true},\"title\":{\"text\":\"Ann\\u00e9e\"}},\"title\":{\"text\":\"Besoin d'\\u00e9nergie de chauffage par vecteur \\u00e9nerg\\u00e9tique (en TWh)\"},\"yaxis\":{\"title\":{\"text\":\"Besoin [TWh]\"}}},                        {\"responsive\": true}                    ).then(function(){\n",
       "                            \n",
       "var gd = document.getElementById('c574dcfc-0b4d-450a-af9a-177742210708');\n",
       "var x = new MutationObserver(function (mutations, observer) {{\n",
       "        var display = window.getComputedStyle(gd).display;\n",
       "        if (!display || display === 'none') {{\n",
       "            console.log([gd, 'removed!']);\n",
       "            Plotly.purge(gd);\n",
       "            observer.disconnect();\n",
       "        }}\n",
       "}});\n",
       "\n",
       "// Listen for the removal of the full notebook cells\n",
       "var notebookContainer = gd.closest('#notebook-container');\n",
       "if (notebookContainer) {{\n",
       "    x.observe(notebookContainer, {childList: true});\n",
       "}}\n",
       "\n",
       "// Listen for the clearing of the current output cell\n",
       "var outputEl = gd.closest('.output');\n",
       "if (outputEl) {{\n",
       "    x.observe(outputEl, {childList: true});\n",
       "}}\n",
       "\n",
       "                        })                };                });            </script>        </div>"
      ]
     },
     "metadata": {},
     "output_type": "display_data"
    }
   ],
   "source": [
    "Var = \"Besoin\"\n",
    "y_df = sim_stock_new_df.groupby([\"year\", \"building_type\"])[Var].sum().to_frame().reset_index(). \\\n",
    "           pivot(index=['year'], columns='building_type').loc[[year for year in sim_param[\"years\"][1:]], Var] / 10 ** 9\n",
    "fig = MyStackedPlotly(y_df=y_df)\n",
    "fig = fig.update_layout(title_text=\"Besoin d'énergie de chauffage par vecteur énergétique (en TWh)\", xaxis_title=\"Année\",\n",
    "                        yaxis_title=\"Besoin [TWh]\")\n",
    "fig.show()"
   ]
  },
  {
   "cell_type": "code",
   "execution_count": 193,
   "metadata": {
    "pycharm": {
     "name": "#%%\n"
    }
   },
   "outputs": [
    {
     "name": "stdout",
     "output_type": "stream",
     "text": [
      "Réduction des émissions de GES: 82.41%\n",
      "Réduction de la consommation: 57.98%\n",
      "Réduction du besoin: 3.66%\n",
      "Consommation finale du parc: 9404.5kWh/m²\n"
     ]
    }
   ],
   "source": [
    "emission_reduction=sim_stock_new_df.copy().reset_index()\n",
    "emission_reduction=(initial_emissions-emission_reduction[emission_reduction[\"year\"]==2049][\"emissions\"].sum()/10**12)/initial_emissions\n",
    "\n",
    "energy_cons_reduction=sim_stock_new_df.copy().reset_index()\n",
    "energy_cons_reduction=(initial_consumption-energy_cons_reduction[energy_cons_reduction[\"year\"]==2049][\"Conso\"].sum()/10**9)/initial_consumption\n",
    "\n",
    "energy_need=sim_stock_new_df.copy().reset_index()\n",
    "energy_need_reduction=(initial_need-energy_need[energy_need[\"year\"]==2049][\"Besoin\"].sum()/10**9)/initial_need\n",
    "\n",
    "surface_energy_need=(energy_need[energy_need[\"year\"]==2049][\"Besoin\"].sum())/(energy_need[energy_need[\"year\"]==2049][\"surface\"].sum())\n",
    "\n",
    "print(\"Réduction des émissions de GES: \" + str(np.round(emission_reduction*100,2)) + \"%\")\n",
    "print(\"Réduction de la consommation: \" + str(np.round(energy_cons_reduction*100,2)) + \"%\")\n",
    "print(\"Réduction du besoin: \" + str(np.round(energy_need_reduction*100,2)) + \"%\")\n",
    "print(\"Consommation finale du parc: \" + str(np.round(surface_energy_need*100,2)) + \"kWh/m²\")"
   ]
  },
  {
   "cell_type": "markdown",
   "metadata": {},
   "source": [
    "This new stock configuration, highly electrified, also impacts the electrical grid. Vizualize the new electrical peak and compare it with French installed capacity."
   ]
  },
  {
   "cell_type": "code",
   "execution_count": 188,
   "metadata": {
    "pycharm": {
     "name": "#%%\n"
    }
   },
   "outputs": [
    {
     "name": "stdout",
     "output_type": "stream",
     "text": [
      "Termosensibilité: 3.2GW/°C\n",
      "Nouveau pic électrique: 64.0GW\n",
      "Ajout de puissance lors du pic électrique: 20.4GW\n",
      "Augmentation du pic électrique: +46.8%\n"
     ]
    },
    {
     "data": {
      "text/plain": [
       "3.199070381147155"
      ]
     },
     "execution_count": 188,
     "metadata": {},
     "output_type": "execute_result"
    }
   ],
   "source": [
    "final_stock=sim_stock_new_df.copy().reset_index()\n",
    "\n",
    "themosensitivity_init=np.sum(final_stock[final_stock[\"year\"]==2021]['electrical_peak']/10**9)\n",
    "themosensitivity=np.sum(final_stock[final_stock[\"year\"]==2049]['electrical_peak']/10**9)\n",
    "\n",
    "print(\"Termosensibilité: \" + str(np.round(themosensitivity,2)) + \"GW/°C\")\n",
    "peak_power=themosensitivity*(15-T_base)\n",
    "print(\"Nouveau pic électrique: \" + str(np.round(peak_power,1)) +\"GW\")\n",
    "print(\"Ajout de puissance lors du pic électrique: \" + str(np.round(peak_power-initial_peak_power,1)) +\"GW\")\n",
    "print(\"Augmentation du pic électrique: +\" + str(np.round((peak_power-initial_peak_power)/initial_peak_power*100,1)) +\"%\")\n",
    "themosensitivity"
   ]
  },
  {
   "cell_type": "markdown",
   "metadata": {
    "pycharm": {
     "name": "#%% md\n"
    }
   },
   "source": [
    "### 3.3 Technical constraints and alternative paths <a class=\"anchor\" id=\"alternatives\"></a>\n",
    "The previous analysis highlighted the fact that it is not possible to simply electrify all heating uses, otherwise a high increase of the electericity peak demand is not compatible with the power production system.\n",
    "\n",
    "\n",
    "Two main solutions can be discussed to reduce the electric heating peak demand while evoluting towards SNBC targets: hybrid heat pumps (which are basically a heat pump with a gas boiler providing heat during the coldest days of the year) and the use of biogas to keep a high share of gas boilers in the heating systems mix.\n",
    "You can design two scenarios for both options, and discuss the results\n",
    "\n",
    "\n",
    "## 4. Input data structure <a class=\"anchor\" id=\"inputdata\"></a>\n",
    "\n",
    "All the data input are stored in the excel file data/Hypotheses_tertiaire_1D.xlsx. There are different excel sheets in the document, each of which represents input data indexed on different variables.\n",
    "\n",
    "### 4.1. Global 0-Dim inputs\n",
    "In this first sheet, global 0D values are defined:\n",
    "- Initial state of the building stock: the heat need of existing buildings and the share of need due to space heating\n",
    "- Parameters of newly built buildings: the heat need of new buildings and the area of newly build buildings per year\n",
    "- Horizon parameters such as the start and end date of the simulation and the final retrofited share\n",
    "\n",
    "### 4.2. Inputs indexed by Energy-source\n",
    "Some values are indexed by the energy source, such as:\n",
    "- The initial surface heated by each energy source\n",
    "- The energy repartition by fuel, including efficiency and energy share along the year (for hybrid systems)\n",
    "- The surface to be retrofitted by energy source. These surfaces are estimated to guarantee that 100% of buildings are retrofitted by 2050.\n",
    "\n",
    "\n",
    "### 4.3. Input indexed by year\n",
    "\n",
    "### 4.4. Inputs indexed by Energy-source x\n",
    "\n",
    "### 4.5. Retrofit transition matrix"
   ]
  }
 ],
 "metadata": {
  "kernelspec": {
   "display_name": "energyalternatives",
   "language": "python",
   "name": "energyalternatives"
  },
  "language_info": {
   "codemirror_mode": {
    "name": "ipython",
    "version": 3
   },
   "file_extension": ".py",
   "mimetype": "text/x-python",
   "name": "python",
   "nbconvert_exporter": "python",
   "pygments_lexer": "ipython3",
   "version": "3.10.2"
  }
 },
 "nbformat": 4,
 "nbformat_minor": 1
}