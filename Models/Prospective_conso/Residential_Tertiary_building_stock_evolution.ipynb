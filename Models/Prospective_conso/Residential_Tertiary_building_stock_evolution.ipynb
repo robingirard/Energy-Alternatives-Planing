{
 "cells": [
  {
   "cell_type": "code",
   "execution_count": 36,
   "metadata": {
    "pycharm": {
     "name": "#%%\n"
    }
   },
   "outputs": [],
   "source": [
    "#region Chargement des packages\n",
    "#from IPython import get_ipython;\n",
    "#get_ipython().magic('reset -sf')\n",
    "import os\n",
    "import sys\n",
    "if os.path.basename(os.getcwd())=='Prospective_conso':\n",
    "    sys.path.append('../../')\n",
    "from functions.f_notebook import hide_toggle\n",
    "import pandas as pd\n",
    "from functions.f_tools import *\n",
    "from functions.f_graphicalTools import *\n",
    "from Models.Prospective_conso.f_evolution_tools import *\n",
    "from mycolorpy import colorlist as mcp\n",
    "import numpy as np\n",
    "import time\n",
    "from plotnine import *\n",
    "from functools import reduce\n",
    "dpe_colors = ['#009900', '#33cc33', '#B3FF00', '#e6e600', '#FFB300', '#FF4D00', '#FF0000',\"#000000\"]\n",
    "\n",
    "# print(os.getcwd())\n",
    "Graphic_folder = \"Graphics/\"\n",
    "Data_folder = \"data/\"\n",
    "# endregion"
   ]
  },
  {
   "cell_type": "markdown",
   "metadata": {
    "pycharm": {
     "name": "#%% md\n"
    }
   },
   "source": [
    "# Tertiary building stock evolution\n",
    "\n",
    "## *Defining an initial configuration and energy retrofit pathways*\n",
    "\n",
    "### Table of Contents\n",
    "\n",
    "* [1. Introduction](#intro)\n",
    "* [2. Initial state of the building stock](#initialstate)\n",
    "* [3. Decarbonization of building stock heating](#decarbonization)\n",
    "    * [3.1 An example path towards emission reduction ](#firstpath)\n",
    "    * [3.2 Achieving SNBC objectives through electrification](#electrification)\n",
    "    * [3.3 Technical constraints and alternative paths](#alternatives)\n",
    "* [4. Input data structure](#inputdata)\n",
    "\n",
    "\n",
    "## 1. Introduction <a class=\"anchor\" id=\"intro\"></a>\n",
    "\n",
    "This notebook will guide you through the undersanding of the heating demand in french residential and tertiary sectors. First of all, a basic representation of the building stock is used to characterise the initial state of the buildings and heating systems. Then, different modification can be applied to this initial situation in order to draw paths towards 2050, with the aim of reducing carbon emissions.not\n",
    "\n",
    "This guided work shall permit you to draw yourself some paths towards a cleaner future for building heating sector, considering technical and temporal constraints.\n",
    "\n",
    "The scope of this work is Metropolitan France and all the data used in this work are extracted from french governemental institutions, such as ADEME, SDES, INSEE...\n",
    "\n",
    "## 2. Initial state of the building stock <a class=\"anchor\" id=\"initialstate\"></a>\n",
    "\n",
    "First and foremost, we load the input data, stored in an excel file. More detail on the input structure and content can be found in [Section 4](#inputdata). These input data are extracted from the different sheets and stored in sim_param dictionnary."
   ]
  },
  {
   "cell_type": "code",
   "execution_count": 37,
   "metadata": {
    "pycharm": {
     "name": "#%%\n"
    }
   },
   "outputs": [],
   "source": [
    "#Four dimensions in the dataset\n",
    "dim_names = [\"Energy_source\", \"building_type\", \"Vecteur\", \"year\"];\n",
    "#Two main indexes\n",
    "Index_names = [\"Energy_source\", \"building_type\"];\n",
    "Energy_system_name = \"Energy_source\"\n",
    "#Reading the data\n",
    "data_set_from_excel = pd.read_excel(Data_folder + \"Hypotheses_residential_tertiary_BASIC.xlsx\", None);\n",
    "#Extracting info from sheets and creating indexes etc\n",
    "sim_param = extract_sim_param(data_set_from_excel, Index_names=Index_names, dim_names=dim_names,\n",
    "                              Energy_system_name=Energy_system_name)\n",
    "#Creating the initial building description\n",
    "sim_param[\"init_sim_stock\"] = create_initial_parc(sim_param).sort_index()\n",
    "sim_param[\"volume_variable_name\"] = \"surface\"\n",
    "sim_param[\"init_sim_stock\"][\"surface\"] = sim_param[\"init_sim_stock\"][\"surface\"] * sim_param[\"init_sim_stock\"][\"IPONDL\"]\n",
    "sim_param_copy4plot=sim_param.copy()"
   ]
  },
  {
   "cell_type": "markdown",
   "metadata": {
    "pycharm": {
     "name": "#%% md\n"
    }
   },
   "source": [
    "The initial state of French building stock can be summarized and vizualized ploting a few graphs. Fot this, we gather all the info in a single dataframe (emission factors, efficiencies, etc.)."
   ]
  },
  {
   "cell_type": "code",
   "execution_count": 38,
   "metadata": {
    "pycharm": {
     "name": "#%%\n"
    }
   },
   "outputs": [
    {
     "name": "stdout",
     "output_type": "stream",
     "text": [
      "Conso totale :375.0 TWh et conso d'élec :46.0 TWh\n"
     ]
    },
    {
     "data": {
      "text/plain": "<Figure size 640x480 with 1 Axes>",
      "image/png": "[encoded data removed]"
     },
     "metadata": {},
     "output_type": "display_data"
    }
   ],
   "source": [
    "# region plot data shaping\n",
    "init_stock=sim_param_copy4plot[\"init_sim_stock\"].copy()\n",
    "\n",
    "\n",
    "init_stock=init_stock.drop(['IPONDL'],axis=1)\n",
    "init_stock=pd.melt(init_stock,id_vars=['proportion_energy_need','energy_need_per_surface','surface'],value_name='conso_unitaire',ignore_index=False)\n",
    "init_stock[['v1','v2','Vecteur']]=init_stock['variable'].str.split('_',expand=True)\n",
    "init_stock=init_stock.drop(['v1','v2','variable'],axis=1)\n",
    "init_stock=init_stock.reset_index()\n",
    "init_stock=init_stock[init_stock['conso_unitaire'] > 0]\n",
    "\n",
    "# We adjust energy need for electricity considering the primary energy factor\n",
    "init_stock[\"energy_need_per_surface\"]=init_stock[\"energy_need_per_surface\"]/((init_stock[\"Vecteur\"]==\"elec\") * 1.58 + 1)\n",
    "init_stock=init_stock.set_index([\"Energy_source\", \"building_type\", \"Vecteur\"])\n",
    "\n",
    "data_frames=[init_stock,sim_param_copy4plot['seasonal_efficiency'],sim_param_copy4plot['peak_efficiency'],sim_param_copy4plot['direct_emissions'],sim_param_copy4plot['indirect_emissions']]\n",
    "\n",
    "init_stock = reduce(lambda  left,right: pd.merge(left,right,\n",
    "                                            left_index=True,right_index=True), data_frames)\n",
    "\n",
    "init_stock=init_stock.reset_index().set_index([\"Energy_source\", \"building_type\", \"Vecteur\"])\n",
    "init_stock['Besoin']=init_stock['proportion_energy_need']*init_stock['energy_need_per_surface']*init_stock['surface']*init_stock['conso_unitaire']/10**9\n",
    "init_stock['Consumption']=init_stock['Besoin']/init_stock['seasonal_efficiency']\n",
    "init_stock['Emissions']=init_stock['Consumption']*(init_stock['indirect_emissions']+init_stock['direct_emissions'])/10**3\n",
    "\n",
    "initial_need=init_stock['Besoin'].sum()\n",
    "initial_emissions=init_stock['Emissions'].sum()\n",
    "initial_consumption=init_stock['Consumption'].sum()\n",
    "# endregion\n",
    "print(\"Conso totale :\"+str(round(init_stock.Consumption.sum(),0))+ \" TWh et conso d'élec :\"+\n",
    "      str(round(init_stock.loc[(slice(None),slice(None),\"elec\"),\"Consumption\"].sum(),0))+\" TWh\")\n",
    "\n",
    "## Drawing the energy consumption by energy vector\n",
    "forplot=init_stock.groupby(['building_type','Vecteur']).agg('sum').reset_index()\n",
    "fig=(\n",
    "    ggplot(forplot)+\n",
    "    geom_col(aes(x='building_type',y=\"Consumption\",fill='Vecteur'))+\n",
    "    ylab(\"Consommation (TWh)\")+\n",
    "    xlab('')\n",
    ")\n",
    "p = fig.draw()"
   ]
  },
  {
   "cell_type": "code",
   "execution_count": 39,
   "metadata": {
    "pycharm": {
     "name": "#%%\n"
    }
   },
   "outputs": [
    {
     "data": {
      "text/plain": "<Figure size 640x480 with 1 Axes>",
      "image/png": "[encoded data removed]"
     },
     "metadata": {},
     "output_type": "display_data"
    }
   ],
   "source": [
    "## Drawing the CO2 emissions by energy vector\n",
    "fig=(\n",
    "    ggplot(forplot)+\n",
    "    geom_col(aes(x='building_type',y=\"Emissions\",fill='Vecteur'))+\n",
    "    ylab(\"Emissions (MtCO2)\")+\n",
    "    xlab('')\n",
    ")\n",
    "p = fig.draw()"
   ]
  },
  {
   "cell_type": "code",
   "execution_count": 40,
   "metadata": {
    "pycharm": {
     "name": "#%%\n"
    }
   },
   "outputs": [
    {
     "data": {
      "text/plain": "<Figure size 640x480 with 1 Axes>",
      "image/png": "[encoded data removed]"
     },
     "metadata": {},
     "output_type": "display_data"
    }
   ],
   "source": [
    "## Drawing the energy surface by energy source\n",
    "forplot2=init_stock.groupby(['Energy_source','building_type'])[\"surface\"].agg('mean').reset_index().filter(['Energy_source','building_type','surface','Consumption','Emissions'])\n",
    "forplot2[\"surface\"]=forplot2[\"surface\"]/10**6\n",
    "\n",
    "fig=(\n",
    "    ggplot(forplot2)+\n",
    "    geom_col(aes(x='building_type',y=\"surface\",fill='Energy_source'))+\n",
    "    ylab(\"Surface (Mm²)\")+\n",
    "    xlab('')\n",
    ")\n",
    "p = fig.draw()"
   ]
  },
  {
   "cell_type": "markdown",
   "metadata": {
    "pycharm": {
     "name": "#%% md\n"
    }
   },
   "source": [
    "We can see that GHG emissions mainly come from gas an fuel, as electricity and wood have a low emission factor. Replacing the heating systems burning such fuels is thus the priority. Also, heating network are mainly used in apartments and teritary buildings.\n",
    "\n",
    "For the electricity peak, knowing that the actual residential electricity demand (about 35 TWh) represent a thermosensitivity of 1.5kW/°C (based on Enedis observations), we can estimate the global thermosensitivity due to electric heating in the residential and tertiary sectors."
   ]
  },
  {
   "cell_type": "code",
   "execution_count": 41,
   "metadata": {
    "pycharm": {
     "name": "#%%\n"
    }
   },
   "outputs": [
    {
     "name": "stdout",
     "output_type": "stream",
     "text": [
      "1.9429504504813717\n"
     ]
    }
   ],
   "source": [
    "init_stock_init=init_stock.copy().reset_index()\n",
    "init_stock_init=init_stock_init[init_stock_init[\"Vecteur\"]=='elec']\n",
    "themosensitivity=np.sum(init_stock_init['Consumption']*1.5/35/init_stock_init['peak_efficiency'])\n",
    "print(themosensitivity)"
   ]
  },
  {
   "cell_type": "markdown",
   "metadata": {
    "pycharm": {
     "name": "#%% md\n"
    }
   },
   "source": [
    "The peak electricity demand can thus be estimated by calculating the peak power at a very cold temperature (typically -5°C). Compare this value with French installed power capacity."
   ]
  },
  {
   "cell_type": "code",
   "execution_count": 42,
   "metadata": {
    "pycharm": {
     "name": "#%%\n"
    }
   },
   "outputs": [
    {
     "data": {
      "text/plain": "38.859009009627435"
     },
     "execution_count": 42,
     "metadata": {},
     "output_type": "execute_result"
    }
   ],
   "source": [
    "T_base=-5\n",
    "peak_power=themosensitivity*(15-T_base)\n",
    "peak_power"
   ]
  },
  {
   "cell_type": "markdown",
   "source": [
    "## 3. Decarbonization of building stock heating <a class=\"anchor\" id=\"decarbonization\"></a>\n",
    "For drawing the scenarios towards 2050, some pre-processing is needed to interpolathe the evolution of some parameters indexed along year."
   ],
   "metadata": {
    "collapsed": false,
    "pycharm": {
     "name": "#%% md\n"
    }
   }
  },
  {
   "cell_type": "code",
   "execution_count": 43,
   "metadata": {
    "pycharm": {
     "name": "#%%\n"
    }
   },
   "outputs": [],
   "source": [
    "sim_param = interpolate_sim_param(sim_param)\n",
    "sim_param[\"retrofit_change_surface\"]=sim_param[\"retrofit_change_total_proportion_surface\"].diff().fillna(0)\n",
    "\n",
    "Para_2_fill = {param: sim_param[\"base_index_year\"] for param in\n",
    "               [\"retrofit_improvement\", \"retrofit_change_surface\", \"retrofit_Transition\"]}\n",
    "sim_param = complete_parameters(sim_param, Para_2_fill=Para_2_fill)\n",
    "sim_param[\"retrofit_change_surface\"]=sim_param[\"retrofit_change_surface\"]*sim_param[\"init_sim_stock\"][\"surface\"]\n",
    "\n",
    "sim_param = complete_missing_indexes(data_set_from_excel, sim_param, Index_names, dim_names)\n"
   ]
  },
  {
   "cell_type": "markdown",
   "metadata": {
    "pycharm": {
     "name": "#%% md\n"
    }
   },
   "source": [
    "We define some functions which will permit to estimate all the indicators, year by year. The three indicators we monitor are energy consumption, GHG emissions and electricity peak The heating need and final consumption are then calculated for each energy_source."
   ]
  },
  {
   "cell_type": "code",
   "execution_count": 44,
   "metadata": {
    "pycharm": {
     "name": "#%%\n"
    }
   },
   "outputs": [],
   "source": [
    "def f_Compute_conso(x,sim_param,Vecteur):\n",
    "    conso_unitaire = x[\"conso_unitaire_\"+Vecteur]\n",
    "    Energy_source = x.name[sim_param['base_index'].names.index('Energy_source')]\n",
    "    seasonal_efficiency=sim_param[\"seasonal_efficiency\"][(Energy_source,Vecteur)]\n",
    "    conso_unitaire=conso_unitaire/seasonal_efficiency\n",
    "    return x[\"energy_need_per_\"+sim_param[\"volume_variable_name\"]] * x[sim_param[\"volume_variable_name\"]]*x[\"proportion_energy_need\"]*conso_unitaire\n",
    "def f_Compute_conso_totale(x,sim_param):\n",
    "    res=0.\n",
    "    for Vecteur in sim_param[\"Vecteurs\"]:\n",
    "        res+=x[\"conso_\"+Vecteur]\n",
    "    return res\n",
    "\n",
    "#\n",
    "for Vecteur in sim_param[\"Vecteurs\"]:\n",
    "    sim_param[\"f_Compute_conso_\"+Vecteur]={\"conso_\"+Vecteur : partial(f_Compute_conso,Vecteur =Vecteur)}\n",
    "sim_param[\"f_Compute_conso_totale\"]={\"Conso\" : lambda x,sim_param: f_Compute_conso_totale(x,sim_param)}\n",
    "\n",
    "def f_Compute_besoin(x,sim_param): return x[\"energy_need_per_surface\"] * x[\"surface\"]*x[\"proportion_energy_need\"]\n",
    "sim_param[\"f_Compute_besoin\"]={\"Besoin\" : f_Compute_besoin}\n",
    "\n",
    "def f_compute_emissions(x, sim_param, year, Vecteur):\n",
    "    return sim_param[\"direct_emissions\"].loc[Vecteur, year] * x[\"conso_\" + Vecteur] + \\\n",
    "           sim_param[\"indirect_emissions\"].loc[Vecteur, year] * x[\"conso_\" + Vecteur]\n",
    "\n",
    "def f_Compute_emissions_totale(x, sim_param):\n",
    "    res = 0.\n",
    "    for Vecteur in sim_param[\"Vecteurs\"]:\n",
    "        res += x[\"emissions_\" + Vecteur]\n",
    "    return res\n",
    "\n",
    "for Vecteur in sim_param[\"Vecteurs\"]:\n",
    "    sim_param[\"f_Compute_emissions_\"+Vecteur]={\"emissions_\"+Vecteur : partial(f_compute_emissions,Vecteur =Vecteur)}\n",
    "sim_param[\"f_Compute_emissions_totale\"]={\"emissions\" : lambda x,sim_param: f_Compute_emissions_totale(x,sim_param)}\n",
    "\n",
    "def f_Compute_electrical_peak(x, sim_param):\n",
    "    Energy_source = x.name[sim_param['base_index'].names.index('Energy_source')]\n",
    "    return x[\"conso_elec\"] * 1.5 / 35  / sim_param[\"peak_efficiency\"][(Energy_source,\"elec\")]\n",
    "sim_param[\"f_Compute_electrical_peak_totale\"] = {\n",
    "    \"electrical_peak\": lambda x, sim_param: f_Compute_electrical_peak(x, sim_param)}"
   ]
  },
  {
   "cell_type": "markdown",
   "metadata": {
    "pycharm": {
     "name": "#%% md\n"
    }
   },
   "source": [
    "The retrofit scenario is defined by two elements:\n",
    "1. The retrofit transition matrix: defines the switch from one heating system to another\n",
    "2. The thermal retrofit savings: defines in what extent the energy need is reduced when buildings are retrofitted"
   ]
  },
  {
   "cell_type": "code",
   "execution_count": 45,
   "metadata": {
    "pycharm": {
     "name": "#%%\n"
    }
   },
   "outputs": [
    {
     "data": {
      "text/plain": "Energy_source             Biomasse  Chaudière fioul  Chaudière gaz  \\\nBiomasse                  1.000000              0.0       0.000000   \nChaudière fioul           0.037922              0.0       0.000000   \nChaudière gaz             0.036064              0.0       0.176909   \nChauffage urbain          0.000000              0.0       0.000000   \nChauffage électrique      0.031719              0.0       0.000000   \nPompes à chaleur air-air  0.000000              0.0       0.000000   \nPompes à chaleur air-eau  0.000000              0.0       0.000000   \nPompes à chaleur hybride  0.000000              0.0       0.000000   \n\nEnergy_source             Chauffage urbain  Chauffage électrique  \\\nBiomasse                          0.000000              0.000000   \nChaudière fioul                   0.150208              0.000000   \nChaudière gaz                     0.151599              0.000000   \nChauffage urbain                  1.000000              0.000000   \nChauffage électrique              0.158977              0.295539   \nPompes à chaleur air-air          0.000000              0.000000   \nPompes à chaleur air-eau          0.000000              0.000000   \nPompes à chaleur hybride          0.000000              0.000000   \n\nEnergy_source             Pompes à chaleur air-air  Pompes à chaleur air-eau  \\\nBiomasse                                  0.000000                  0.000000   \nChaudière fioul                           0.090828                  0.721041   \nChaudière gaz                             0.064450                  0.569147   \nChauffage urbain                          0.000000                  0.000000   \nChauffage électrique                      0.513765                  0.000000   \nPompes à chaleur air-air                  1.000000                  0.000000   \nPompes à chaleur air-eau                  0.000000                  1.000000   \nPompes à chaleur hybride                  0.000000                  0.000000   \n\nEnergy_source             Pompes à chaleur hybride  \nBiomasse                                       0.0  \nChaudière fioul                                0.0  \nChaudière gaz                                  0.0  \nChauffage urbain                               0.0  \nChauffage électrique                           0.0  \nPompes à chaleur air-air                       0.0  \nPompes à chaleur air-eau                       0.0  \nPompes à chaleur hybride                       1.0  ",
      "text/html": "<div>\n<style scoped>\n    .dataframe tbody tr th:only-of-type {\n        vertical-align: middle;\n    }\n\n    .dataframe tbody tr th {\n        vertical-align: top;\n    }\n\n    .dataframe thead th {\n        text-align: right;\n    }\n</style>\n<table border=\"1\" class=\"dataframe\">\n  <thead>\n    <tr style=\"text-align: right;\">\n      <th>Energy_source</th>\n      <th>Biomasse</th>\n      <th>Chaudière fioul</th>\n      <th>Chaudière gaz</th>\n      <th>Chauffage urbain</th>\n      <th>Chauffage électrique</th>\n      <th>Pompes à chaleur air-air</th>\n      <th>Pompes à chaleur air-eau</th>\n      <th>Pompes à chaleur hybride</th>\n    </tr>\n  </thead>\n  <tbody>\n    <tr>\n      <th>Biomasse</th>\n      <td>1.000000</td>\n      <td>0.0</td>\n      <td>0.000000</td>\n      <td>0.000000</td>\n      <td>0.000000</td>\n      <td>0.000000</td>\n      <td>0.000000</td>\n      <td>0.0</td>\n    </tr>\n    <tr>\n      <th>Chaudière fioul</th>\n      <td>0.037922</td>\n      <td>0.0</td>\n      <td>0.000000</td>\n      <td>0.150208</td>\n      <td>0.000000</td>\n      <td>0.090828</td>\n      <td>0.721041</td>\n      <td>0.0</td>\n    </tr>\n    <tr>\n      <th>Chaudière gaz</th>\n      <td>0.036064</td>\n      <td>0.0</td>\n      <td>0.176909</td>\n      <td>0.151599</td>\n      <td>0.000000</td>\n      <td>0.064450</td>\n      <td>0.569147</td>\n      <td>0.0</td>\n    </tr>\n    <tr>\n      <th>Chauffage urbain</th>\n      <td>0.000000</td>\n      <td>0.0</td>\n      <td>0.000000</td>\n      <td>1.000000</td>\n      <td>0.000000</td>\n      <td>0.000000</td>\n      <td>0.000000</td>\n      <td>0.0</td>\n    </tr>\n    <tr>\n      <th>Chauffage électrique</th>\n      <td>0.031719</td>\n      <td>0.0</td>\n      <td>0.000000</td>\n      <td>0.158977</td>\n      <td>0.295539</td>\n      <td>0.513765</td>\n      <td>0.000000</td>\n      <td>0.0</td>\n    </tr>\n    <tr>\n      <th>Pompes à chaleur air-air</th>\n      <td>0.000000</td>\n      <td>0.0</td>\n      <td>0.000000</td>\n      <td>0.000000</td>\n      <td>0.000000</td>\n      <td>1.000000</td>\n      <td>0.000000</td>\n      <td>0.0</td>\n    </tr>\n    <tr>\n      <th>Pompes à chaleur air-eau</th>\n      <td>0.000000</td>\n      <td>0.0</td>\n      <td>0.000000</td>\n      <td>0.000000</td>\n      <td>0.000000</td>\n      <td>0.000000</td>\n      <td>1.000000</td>\n      <td>0.0</td>\n    </tr>\n    <tr>\n      <th>Pompes à chaleur hybride</th>\n      <td>0.000000</td>\n      <td>0.0</td>\n      <td>0.000000</td>\n      <td>0.000000</td>\n      <td>0.000000</td>\n      <td>0.000000</td>\n      <td>0.000000</td>\n      <td>1.0</td>\n    </tr>\n  </tbody>\n</table>\n</div>"
     },
     "execution_count": 45,
     "metadata": {},
     "output_type": "execute_result"
    }
   ],
   "source": [
    "#Transition matrix for apartments\n",
    "b_type=\"apartment\"\n",
    "transition_matrix=sim_param['retrofit_Transition'].copy().rename_axis(columns=None).reset_index()\n",
    "transition_matrix.loc[(transition_matrix[\"year\"]==2020) & (transition_matrix[\"building_type\"]==b_type)].drop([\\\n",
    "                                        \"old_new\",\"building_type\",\"year\"],axis=1).set_index('Energy_source').transpose()"
   ]
  },
  {
   "cell_type": "code",
   "execution_count": 46,
   "metadata": {
    "pycharm": {
     "name": "#%%\n"
    }
   },
   "outputs": [
    {
     "data": {
      "text/plain": "      retrofit_improvement\nyear                      \n2020                 0.200\n2021                 0.205\n2022                 0.210\n2023                 0.215\n2024                 0.220\n2025                 0.225\n2026                 0.230\n2027                 0.235\n2028                 0.240\n2029                 0.245\n2030                 0.250\n2031                 0.255\n2032                 0.260\n2033                 0.265\n2034                 0.270\n2035                 0.275\n2036                 0.280\n2037                 0.285\n2038                 0.290\n2039                 0.295\n2040                 0.300\n2041                 0.305\n2042                 0.310\n2043                 0.315\n2044                 0.320\n2045                 0.325\n2046                 0.330\n2047                 0.335\n2048                 0.340\n2049                 0.345",
      "text/html": "<div>\n<style scoped>\n    .dataframe tbody tr th:only-of-type {\n        vertical-align: middle;\n    }\n\n    .dataframe tbody tr th {\n        vertical-align: top;\n    }\n\n    .dataframe thead th {\n        text-align: right;\n    }\n</style>\n<table border=\"1\" class=\"dataframe\">\n  <thead>\n    <tr style=\"text-align: right;\">\n      <th></th>\n      <th>retrofit_improvement</th>\n    </tr>\n    <tr>\n      <th>year</th>\n      <th></th>\n    </tr>\n  </thead>\n  <tbody>\n    <tr>\n      <th>2020</th>\n      <td>0.200</td>\n    </tr>\n    <tr>\n      <th>2021</th>\n      <td>0.205</td>\n    </tr>\n    <tr>\n      <th>2022</th>\n      <td>0.210</td>\n    </tr>\n    <tr>\n      <th>2023</th>\n      <td>0.215</td>\n    </tr>\n    <tr>\n      <th>2024</th>\n      <td>0.220</td>\n    </tr>\n    <tr>\n      <th>2025</th>\n      <td>0.225</td>\n    </tr>\n    <tr>\n      <th>2026</th>\n      <td>0.230</td>\n    </tr>\n    <tr>\n      <th>2027</th>\n      <td>0.235</td>\n    </tr>\n    <tr>\n      <th>2028</th>\n      <td>0.240</td>\n    </tr>\n    <tr>\n      <th>2029</th>\n      <td>0.245</td>\n    </tr>\n    <tr>\n      <th>2030</th>\n      <td>0.250</td>\n    </tr>\n    <tr>\n      <th>2031</th>\n      <td>0.255</td>\n    </tr>\n    <tr>\n      <th>2032</th>\n      <td>0.260</td>\n    </tr>\n    <tr>\n      <th>2033</th>\n      <td>0.265</td>\n    </tr>\n    <tr>\n      <th>2034</th>\n      <td>0.270</td>\n    </tr>\n    <tr>\n      <th>2035</th>\n      <td>0.275</td>\n    </tr>\n    <tr>\n      <th>2036</th>\n      <td>0.280</td>\n    </tr>\n    <tr>\n      <th>2037</th>\n      <td>0.285</td>\n    </tr>\n    <tr>\n      <th>2038</th>\n      <td>0.290</td>\n    </tr>\n    <tr>\n      <th>2039</th>\n      <td>0.295</td>\n    </tr>\n    <tr>\n      <th>2040</th>\n      <td>0.300</td>\n    </tr>\n    <tr>\n      <th>2041</th>\n      <td>0.305</td>\n    </tr>\n    <tr>\n      <th>2042</th>\n      <td>0.310</td>\n    </tr>\n    <tr>\n      <th>2043</th>\n      <td>0.315</td>\n    </tr>\n    <tr>\n      <th>2044</th>\n      <td>0.320</td>\n    </tr>\n    <tr>\n      <th>2045</th>\n      <td>0.325</td>\n    </tr>\n    <tr>\n      <th>2046</th>\n      <td>0.330</td>\n    </tr>\n    <tr>\n      <th>2047</th>\n      <td>0.335</td>\n    </tr>\n    <tr>\n      <th>2048</th>\n      <td>0.340</td>\n    </tr>\n    <tr>\n      <th>2049</th>\n      <td>0.345</td>\n    </tr>\n  </tbody>\n</table>\n</div>"
     },
     "execution_count": 46,
     "metadata": {},
     "output_type": "execute_result"
    }
   ],
   "source": [
    "retrofit_improvement=sim_param['retrofit_improvement'].copy().reset_index()\n",
    "retrofit_improvement.loc[(retrofit_improvement[\"Energy_source\"]==\"Biomasse\") & (retrofit_improvement[\"building_type\"]==\"apartment\")]\\\n",
    "                                        .drop(['Energy_source','building_type'],axis=1).set_index(\"year\")"
   ]
  },
  {
   "cell_type": "markdown",
   "metadata": {
    "pycharm": {
     "name": "#%% md\n"
    }
   },
   "source": [
    "Let's now look at the first scenario results. We first initiate the simulation."
   ]
  },
  {
   "cell_type": "markdown",
   "metadata": {
    "pycharm": {
     "name": "#%% md\n"
    }
   },
   "source": [
    "\n",
    "### 3.1 An example path towards emission reduction <a class=\"anchor\" id=\"firstpath\"></a>\n",
    "Considering all the inputs described above, we can launch the simulation of the scenario. The simulation function calculates the surface to be retrofitted each year, the energy need of the surface after retrofit and the energy_source which will provide the energy_need and the switches from one energy source to another."
   ]
  },
  {
   "cell_type": "code",
   "execution_count": 47,
   "metadata": {
    "pycharm": {
     "name": "#%%\n"
    }
   },
   "outputs": [
    {
     "name": "stdout",
     "output_type": "stream",
     "text": [
      "Computing: [########################################] 29/29\r\n",
      "\n"
     ]
    }
   ],
   "source": [
    "sim_stock = launch_simulation(sim_param)"
   ]
  },
  {
   "cell_type": "markdown",
   "metadata": {
    "pycharm": {
     "name": "#%% md\n"
    }
   },
   "source": [
    "We collect the output data into a dataframe we can exploit to do some plot and analysis."
   ]
  },
  {
   "cell_type": "code",
   "execution_count": 48,
   "metadata": {
    "pycharm": {
     "name": "#%%\n"
    }
   },
   "outputs": [],
   "source": [
    "sim_stock_df = pd.concat(sim_stock, axis=0).reset_index().\\\n",
    "    rename(columns={\"level_0\":\"year\"}).set_index([ \"year\"  ,  \"Energy_source\"  , \"old_new\"])"
   ]
  },
  {
   "cell_type": "markdown",
   "metadata": {
    "pycharm": {
     "name": "#%% md\n"
    }
   },
   "source": [
    "Here comes the evolution of energy needs of buildings, splitted by building type."
   ]
  },
  {
   "cell_type": "code",
   "execution_count": 49,
   "metadata": {
    "pycharm": {
     "name": "#%%\n"
    }
   },
   "outputs": [
    {
     "data": {
      "application/vnd.plotly.v1+json": {
       "data": [
        {
         "fill": "tozeroy",
         "mode": "none",
         "name": "apartment",
         "x": [
          2021,
          2022,
          2023,
          2024,
          2025,
          2026,
          2027,
          2028,
          2029,
          2030,
          2031,
          2032,
          2033,
          2034,
          2035,
          2036,
          2037,
          2038,
          2039,
          2040,
          2041,
          2042,
          2043,
          2044,
          2045,
          2046,
          2047,
          2048,
          2049
         ],
         "y": [
          77.95316279452332,
          77.87867421024274,
          76.92548550096207,
          75.96263014995459,
          74.99010815722028,
          73.43928399754482,
          71.87319671935333,
          70.29184632264581,
          68.69523280742227,
          67.0833561736827,
          64.80536052052484,
          62.505996501444564,
          60.18526411644184,
          57.84316336551667,
          55.47969424866906,
          54.45762104176761,
          53.42638996375655,
          52.38600101463586,
          51.336454194405555,
          50.27774950306564,
          49.56584112809928,
          48.84782750572651,
          48.12370863594733,
          47.39348451876174,
          46.65715515416973,
          46.285937848170526,
          45.91166791846811,
          45.53434536506249,
          45.15397018795367
         ],
         "type": "scatter"
        },
        {
         "fill": "tonexty",
         "mode": "none",
         "name": "house",
         "x": [
          2021,
          2022,
          2023,
          2024,
          2025,
          2026,
          2027,
          2028,
          2029,
          2030,
          2031,
          2032,
          2033,
          2034,
          2035,
          2036,
          2037,
          2038,
          2039,
          2040,
          2041,
          2042,
          2043,
          2044,
          2045,
          2046,
          2047,
          2048,
          2049
         ],
         "y": [
          281.59998158810356,
          281.277638221341,
          277.1690078559957,
          273.03476310429636,
          268.8749039662431,
          262.2662615592843,
          255.61717538439825,
          248.9276454415849,
          242.19767173084432,
          235.4272542521764,
          225.89204850694313,
          216.30022148661166,
          206.65177319118197,
          196.94670362065415,
          187.18501277502804,
          182.97716472328904,
          178.74505041079374,
          174.488669837542,
          170.20802300353392,
          165.90310990876947,
          163.01699033842226,
          160.1146932609041,
          157.19621867621507,
          154.2615665843551,
          151.31073698532424,
          149.82723343222332,
          148.335641125537,
          146.83596006526517,
          145.32819025140793
         ],
         "type": "scatter"
        },
        {
         "fill": "tonexty",
         "mode": "none",
         "name": "tertiary",
         "x": [
          2021,
          2022,
          2023,
          2024,
          2025,
          2026,
          2027,
          2028,
          2029,
          2030,
          2031,
          2032,
          2033,
          2034,
          2035,
          2036,
          2037,
          2038,
          2039,
          2040,
          2041,
          2042,
          2043,
          2044,
          2045,
          2046,
          2047,
          2048,
          2049
         ],
         "y": [
          432.68227928669,
          432.31266555743224,
          427.5803549491443,
          422.7975076364992,
          417.96412361949695,
          410.2526698489296,
          402.4614212820088,
          394.5903779187347,
          386.6395397591074,
          378.60890680312656,
          367.2543079498588,
          355.7879963816963,
          344.2099720986391,
          332.5202351006874,
          320.71878538784074,
          315.61314434738017,
          310.45962642910774,
          305.2582316330231,
          300.0089599591266,
          294.71181140741805,
          291.148461121071,
          287.5531929161826,
          283.9260067927529,
          280.26690275078187,
          276.5758807902695,
          274.7144108507425,
          272.83698195194506,
          270.9435940938768,
          269.03424727653794
         ],
         "type": "scatter"
        }
       ],
       "layout": {
        "template": {
         "data": {
          "histogram2dcontour": [
           {
            "type": "histogram2dcontour",
            "colorbar": {
             "outlinewidth": 0,
             "ticks": ""
            },
            "colorscale": [
             [
              0.0,
              "#0d0887"
             ],
             [
              0.1111111111111111,
              "#46039f"
             ],
             [
              0.2222222222222222,
              "#7201a8"
             ],
             [
              0.3333333333333333,
              "#9c179e"
             ],
             [
              0.4444444444444444,
              "#bd3786"
             ],
             [
              0.5555555555555556,
              "#d8576b"
             ],
             [
              0.6666666666666666,
              "#ed7953"
             ],
             [
              0.7777777777777778,
              "#fb9f3a"
             ],
             [
              0.8888888888888888,
              "#fdca26"
             ],
             [
              1.0,
              "#f0f921"
             ]
            ]
           }
          ],
          "choropleth": [
           {
            "type": "choropleth",
            "colorbar": {
             "outlinewidth": 0,
             "ticks": ""
            }
           }
          ],
          "histogram2d": [
           {
            "type": "histogram2d",
            "colorbar": {
             "outlinewidth": 0,
             "ticks": ""
            },
            "colorscale": [
             [
              0.0,
              "#0d0887"
             ],
             [
              0.1111111111111111,
              "#46039f"
             ],
             [
              0.2222222222222222,
              "#7201a8"
             ],
             [
              0.3333333333333333,
              "#9c179e"
             ],
             [
              0.4444444444444444,
              "#bd3786"
             ],
             [
              0.5555555555555556,
              "#d8576b"
             ],
             [
              0.6666666666666666,
              "#ed7953"
             ],
             [
              0.7777777777777778,
              "#fb9f3a"
             ],
             [
              0.8888888888888888,
              "#fdca26"
             ],
             [
              1.0,
              "#f0f921"
             ]
            ]
           }
          ],
          "heatmap": [
           {
            "type": "heatmap",
            "colorbar": {
             "outlinewidth": 0,
             "ticks": ""
            },
            "colorscale": [
             [
              0.0,
              "#0d0887"
             ],
             [
              0.1111111111111111,
              "#46039f"
             ],
             [
              0.2222222222222222,
              "#7201a8"
             ],
             [
              0.3333333333333333,
              "#9c179e"
             ],
             [
              0.4444444444444444,
              "#bd3786"
             ],
             [
              0.5555555555555556,
              "#d8576b"
             ],
             [
              0.6666666666666666,
              "#ed7953"
             ],
             [
              0.7777777777777778,
              "#fb9f3a"
             ],
             [
              0.8888888888888888,
              "#fdca26"
             ],
             [
              1.0,
              "#f0f921"
             ]
            ]
           }
          ],
          "heatmapgl": [
           {
            "type": "heatmapgl",
            "colorbar": {
             "outlinewidth": 0,
             "ticks": ""
            },
            "colorscale": [
             [
              0.0,
              "#0d0887"
             ],
             [
              0.1111111111111111,
              "#46039f"
             ],
             [
              0.2222222222222222,
              "#7201a8"
             ],
             [
              0.3333333333333333,
              "#9c179e"
             ],
             [
              0.4444444444444444,
              "#bd3786"
             ],
             [
              0.5555555555555556,
              "#d8576b"
             ],
             [
              0.6666666666666666,
              "#ed7953"
             ],
             [
              0.7777777777777778,
              "#fb9f3a"
             ],
             [
              0.8888888888888888,
              "#fdca26"
             ],
             [
              1.0,
              "#f0f921"
             ]
            ]
           }
          ],
          "contourcarpet": [
           {
            "type": "contourcarpet",
            "colorbar": {
             "outlinewidth": 0,
             "ticks": ""
            }
           }
          ],
          "contour": [
           {
            "type": "contour",
            "colorbar": {
             "outlinewidth": 0,
             "ticks": ""
            },
            "colorscale": [
             [
              0.0,
              "#0d0887"
             ],
             [
              0.1111111111111111,
              "#46039f"
             ],
             [
              0.2222222222222222,
              "#7201a8"
             ],
             [
              0.3333333333333333,
              "#9c179e"
             ],
             [
              0.4444444444444444,
              "#bd3786"
             ],
             [
              0.5555555555555556,
              "#d8576b"
             ],
             [
              0.6666666666666666,
              "#ed7953"
             ],
             [
              0.7777777777777778,
              "#fb9f3a"
             ],
             [
              0.8888888888888888,
              "#fdca26"
             ],
             [
              1.0,
              "#f0f921"
             ]
            ]
           }
          ],
          "surface": [
           {
            "type": "surface",
            "colorbar": {
             "outlinewidth": 0,
             "ticks": ""
            },
            "colorscale": [
             [
              0.0,
              "#0d0887"
             ],
             [
              0.1111111111111111,
              "#46039f"
             ],
             [
              0.2222222222222222,
              "#7201a8"
             ],
             [
              0.3333333333333333,
              "#9c179e"
             ],
             [
              0.4444444444444444,
              "#bd3786"
             ],
             [
              0.5555555555555556,
              "#d8576b"
             ],
             [
              0.6666666666666666,
              "#ed7953"
             ],
             [
              0.7777777777777778,
              "#fb9f3a"
             ],
             [
              0.8888888888888888,
              "#fdca26"
             ],
             [
              1.0,
              "#f0f921"
             ]
            ]
           }
          ],
          "mesh3d": [
           {
            "type": "mesh3d",
            "colorbar": {
             "outlinewidth": 0,
             "ticks": ""
            }
           }
          ],
          "scatter": [
           {
            "fillpattern": {
             "fillmode": "overlay",
             "size": 10,
             "solidity": 0.2
            },
            "type": "scatter"
           }
          ],
          "parcoords": [
           {
            "type": "parcoords",
            "line": {
             "colorbar": {
              "outlinewidth": 0,
              "ticks": ""
             }
            }
           }
          ],
          "scatterpolargl": [
           {
            "type": "scatterpolargl",
            "marker": {
             "colorbar": {
              "outlinewidth": 0,
              "ticks": ""
             }
            }
           }
          ],
          "bar": [
           {
            "error_x": {
             "color": "#2a3f5f"
            },
            "error_y": {
             "color": "#2a3f5f"
            },
            "marker": {
             "line": {
              "color": "#E5ECF6",
              "width": 0.5
             },
             "pattern": {
              "fillmode": "overlay",
              "size": 10,
              "solidity": 0.2
             }
            },
            "type": "bar"
           }
          ],
          "scattergeo": [
           {
            "type": "scattergeo",
            "marker": {
             "colorbar": {
              "outlinewidth": 0,
              "ticks": ""
             }
            }
           }
          ],
          "scatterpolar": [
           {
            "type": "scatterpolar",
            "marker": {
             "colorbar": {
              "outlinewidth": 0,
              "ticks": ""
             }
            }
           }
          ],
          "histogram": [
           {
            "marker": {
             "pattern": {
              "fillmode": "overlay",
              "size": 10,
              "solidity": 0.2
             }
            },
            "type": "histogram"
           }
          ],
          "scattergl": [
           {
            "type": "scattergl",
            "marker": {
             "colorbar": {
              "outlinewidth": 0,
              "ticks": ""
             }
            }
           }
          ],
          "scatter3d": [
           {
            "type": "scatter3d",
            "line": {
             "colorbar": {
              "outlinewidth": 0,
              "ticks": ""
             }
            },
            "marker": {
             "colorbar": {
              "outlinewidth": 0,
              "ticks": ""
             }
            }
           }
          ],
          "scattermapbox": [
           {
            "type": "scattermapbox",
            "marker": {
             "colorbar": {
              "outlinewidth": 0,
              "ticks": ""
             }
            }
           }
          ],
          "scatterternary": [
           {
            "type": "scatterternary",
            "marker": {
             "colorbar": {
              "outlinewidth": 0,
              "ticks": ""
             }
            }
           }
          ],
          "scattercarpet": [
           {
            "type": "scattercarpet",
            "marker": {
             "colorbar": {
              "outlinewidth": 0,
              "ticks": ""
             }
            }
           }
          ],
          "carpet": [
           {
            "aaxis": {
             "endlinecolor": "#2a3f5f",
             "gridcolor": "white",
             "linecolor": "white",
             "minorgridcolor": "white",
             "startlinecolor": "#2a3f5f"
            },
            "baxis": {
             "endlinecolor": "#2a3f5f",
             "gridcolor": "white",
             "linecolor": "white",
             "minorgridcolor": "white",
             "startlinecolor": "#2a3f5f"
            },
            "type": "carpet"
           }
          ],
          "table": [
           {
            "cells": {
             "fill": {
              "color": "#EBF0F8"
             },
             "line": {
              "color": "white"
             }
            },
            "header": {
             "fill": {
              "color": "#C8D4E3"
             },
             "line": {
              "color": "white"
             }
            },
            "type": "table"
           }
          ],
          "barpolar": [
           {
            "marker": {
             "line": {
              "color": "#E5ECF6",
              "width": 0.5
             },
             "pattern": {
              "fillmode": "overlay",
              "size": 10,
              "solidity": 0.2
             }
            },
            "type": "barpolar"
           }
          ],
          "pie": [
           {
            "automargin": true,
            "type": "pie"
           }
          ]
         },
         "layout": {
          "autotypenumbers": "strict",
          "colorway": [
           "#636efa",
           "#EF553B",
           "#00cc96",
           "#ab63fa",
           "#FFA15A",
           "#19d3f3",
           "#FF6692",
           "#B6E880",
           "#FF97FF",
           "#FECB52"
          ],
          "font": {
           "color": "#2a3f5f"
          },
          "hovermode": "closest",
          "hoverlabel": {
           "align": "left"
          },
          "paper_bgcolor": "white",
          "plot_bgcolor": "#E5ECF6",
          "polar": {
           "bgcolor": "#E5ECF6",
           "angularaxis": {
            "gridcolor": "white",
            "linecolor": "white",
            "ticks": ""
           },
           "radialaxis": {
            "gridcolor": "white",
            "linecolor": "white",
            "ticks": ""
           }
          },
          "ternary": {
           "bgcolor": "#E5ECF6",
           "aaxis": {
            "gridcolor": "white",
            "linecolor": "white",
            "ticks": ""
           },
           "baxis": {
            "gridcolor": "white",
            "linecolor": "white",
            "ticks": ""
           },
           "caxis": {
            "gridcolor": "white",
            "linecolor": "white",
            "ticks": ""
           }
          },
          "coloraxis": {
           "colorbar": {
            "outlinewidth": 0,
            "ticks": ""
           }
          },
          "colorscale": {
           "sequential": [
            [
             0.0,
             "#0d0887"
            ],
            [
             0.1111111111111111,
             "#46039f"
            ],
            [
             0.2222222222222222,
             "#7201a8"
            ],
            [
             0.3333333333333333,
             "#9c179e"
            ],
            [
             0.4444444444444444,
             "#bd3786"
            ],
            [
             0.5555555555555556,
             "#d8576b"
            ],
            [
             0.6666666666666666,
             "#ed7953"
            ],
            [
             0.7777777777777778,
             "#fb9f3a"
            ],
            [
             0.8888888888888888,
             "#fdca26"
            ],
            [
             1.0,
             "#f0f921"
            ]
           ],
           "sequentialminus": [
            [
             0.0,
             "#0d0887"
            ],
            [
             0.1111111111111111,
             "#46039f"
            ],
            [
             0.2222222222222222,
             "#7201a8"
            ],
            [
             0.3333333333333333,
             "#9c179e"
            ],
            [
             0.4444444444444444,
             "#bd3786"
            ],
            [
             0.5555555555555556,
             "#d8576b"
            ],
            [
             0.6666666666666666,
             "#ed7953"
            ],
            [
             0.7777777777777778,
             "#fb9f3a"
            ],
            [
             0.8888888888888888,
             "#fdca26"
            ],
            [
             1.0,
             "#f0f921"
            ]
           ],
           "diverging": [
            [
             0,
             "#8e0152"
            ],
            [
             0.1,
             "#c51b7d"
            ],
            [
             0.2,
             "#de77ae"
            ],
            [
             0.3,
             "#f1b6da"
            ],
            [
             0.4,
             "#fde0ef"
            ],
            [
             0.5,
             "#f7f7f7"
            ],
            [
             0.6,
             "#e6f5d0"
            ],
            [
             0.7,
             "#b8e186"
            ],
            [
             0.8,
             "#7fbc41"
            ],
            [
             0.9,
             "#4d9221"
            ],
            [
             1,
             "#276419"
            ]
           ]
          },
          "xaxis": {
           "gridcolor": "white",
           "linecolor": "white",
           "ticks": "",
           "title": {
            "standoff": 15
           },
           "zerolinecolor": "white",
           "automargin": true,
           "zerolinewidth": 2
          },
          "yaxis": {
           "gridcolor": "white",
           "linecolor": "white",
           "ticks": "",
           "title": {
            "standoff": 15
           },
           "zerolinecolor": "white",
           "automargin": true,
           "zerolinewidth": 2
          },
          "scene": {
           "xaxis": {
            "backgroundcolor": "#E5ECF6",
            "gridcolor": "white",
            "linecolor": "white",
            "showbackground": true,
            "ticks": "",
            "zerolinecolor": "white",
            "gridwidth": 2
           },
           "yaxis": {
            "backgroundcolor": "#E5ECF6",
            "gridcolor": "white",
            "linecolor": "white",
            "showbackground": true,
            "ticks": "",
            "zerolinecolor": "white",
            "gridwidth": 2
           },
           "zaxis": {
            "backgroundcolor": "#E5ECF6",
            "gridcolor": "white",
            "linecolor": "white",
            "showbackground": true,
            "ticks": "",
            "zerolinecolor": "white",
            "gridwidth": 2
           }
          },
          "shapedefaults": {
           "line": {
            "color": "#2a3f5f"
           }
          },
          "annotationdefaults": {
           "arrowcolor": "#2a3f5f",
           "arrowhead": 0,
           "arrowwidth": 1
          },
          "geo": {
           "bgcolor": "white",
           "landcolor": "#E5ECF6",
           "subunitcolor": "white",
           "showland": true,
           "showlakes": true,
           "lakecolor": "white"
          },
          "title": {
           "x": 0.05
          },
          "mapbox": {
           "style": "light"
          }
         }
        },
        "xaxis": {
         "rangeslider": {
          "visible": true
         },
         "title": {
          "text": "Année"
         }
        },
        "title": {
         "text": "Besoin d'énergie de chauffage par vecteur énergétique (en TWh)"
        },
        "yaxis": {
         "title": {
          "text": "Besoin [TWh]"
         }
        }
       },
       "config": {
        "plotlyServerURL": "https://plot.ly"
       }
      },
      "text/html": "<div>                            <div id=\"af459273-a5bd-4cd4-8e08-4c9a3bbb8719\" class=\"plotly-graph-div\" style=\"height:525px; width:100%;\"></div>            <script type=\"text/javascript\">                require([\"plotly\"], function(Plotly) {                    window.PLOTLYENV=window.PLOTLYENV || {};                                    if (document.getElementById(\"af459273-a5bd-4cd4-8e08-4c9a3bbb8719\")) {                    Plotly.newPlot(                        \"af459273-a5bd-4cd4-8e08-4c9a3bbb8719\",                        [{\"fill\":\"tozeroy\",\"mode\":\"none\",\"name\":\"apartment\",\"x\":[2021,2022,2023,2024,2025,2026,2027,2028,2029,2030,2031,2032,2033,2034,2035,2036,2037,2038,2039,2040,2041,2042,2043,2044,2045,2046,2047,2048,2049],\"y\":[77.95316279452332,77.87867421024274,76.92548550096207,75.96263014995459,74.99010815722028,73.43928399754482,71.87319671935333,70.29184632264581,68.69523280742227,67.0833561736827,64.80536052052484,62.505996501444564,60.18526411644184,57.84316336551667,55.47969424866906,54.45762104176761,53.42638996375655,52.38600101463586,51.336454194405555,50.27774950306564,49.56584112809928,48.84782750572651,48.12370863594733,47.39348451876174,46.65715515416973,46.285937848170526,45.91166791846811,45.53434536506249,45.15397018795367],\"type\":\"scatter\"},{\"fill\":\"tonexty\",\"mode\":\"none\",\"name\":\"house\",\"x\":[2021,2022,2023,2024,2025,2026,2027,2028,2029,2030,2031,2032,2033,2034,2035,2036,2037,2038,2039,2040,2041,2042,2043,2044,2045,2046,2047,2048,2049],\"y\":[281.59998158810356,281.277638221341,277.1690078559957,273.03476310429636,268.8749039662431,262.2662615592843,255.61717538439825,248.9276454415849,242.19767173084432,235.4272542521764,225.89204850694313,216.30022148661166,206.65177319118197,196.94670362065415,187.18501277502804,182.97716472328904,178.74505041079374,174.488669837542,170.20802300353392,165.90310990876947,163.01699033842226,160.1146932609041,157.19621867621507,154.2615665843551,151.31073698532424,149.82723343222332,148.335641125537,146.83596006526517,145.32819025140793],\"type\":\"scatter\"},{\"fill\":\"tonexty\",\"mode\":\"none\",\"name\":\"tertiary\",\"x\":[2021,2022,2023,2024,2025,2026,2027,2028,2029,2030,2031,2032,2033,2034,2035,2036,2037,2038,2039,2040,2041,2042,2043,2044,2045,2046,2047,2048,2049],\"y\":[432.68227928669,432.31266555743224,427.5803549491443,422.7975076364992,417.96412361949695,410.2526698489296,402.4614212820088,394.5903779187347,386.6395397591074,378.60890680312656,367.2543079498588,355.7879963816963,344.2099720986391,332.5202351006874,320.71878538784074,315.61314434738017,310.45962642910774,305.2582316330231,300.0089599591266,294.71181140741805,291.148461121071,287.5531929161826,283.9260067927529,280.26690275078187,276.5758807902695,274.7144108507425,272.83698195194506,270.9435940938768,269.03424727653794],\"type\":\"scatter\"}],                        {\"template\":{\"data\":{\"histogram2dcontour\":[{\"type\":\"histogram2dcontour\",\"colorbar\":{\"outlinewidth\":0,\"ticks\":\"\"},\"colorscale\":[[0.0,\"#0d0887\"],[0.1111111111111111,\"#46039f\"],[0.2222222222222222,\"#7201a8\"],[0.3333333333333333,\"#9c179e\"],[0.4444444444444444,\"#bd3786\"],[0.5555555555555556,\"#d8576b\"],[0.6666666666666666,\"#ed7953\"],[0.7777777777777778,\"#fb9f3a\"],[0.8888888888888888,\"#fdca26\"],[1.0,\"#f0f921\"]]}],\"choropleth\":[{\"type\":\"choropleth\",\"colorbar\":{\"outlinewidth\":0,\"ticks\":\"\"}}],\"histogram2d\":[{\"type\":\"histogram2d\",\"colorbar\":{\"outlinewidth\":0,\"ticks\":\"\"},\"colorscale\":[[0.0,\"#0d0887\"],[0.1111111111111111,\"#46039f\"],[0.2222222222222222,\"#7201a8\"],[0.3333333333333333,\"#9c179e\"],[0.4444444444444444,\"#bd3786\"],[0.5555555555555556,\"#d8576b\"],[0.6666666666666666,\"#ed7953\"],[0.7777777777777778,\"#fb9f3a\"],[0.8888888888888888,\"#fdca26\"],[1.0,\"#f0f921\"]]}],\"heatmap\":[{\"type\":\"heatmap\",\"colorbar\":{\"outlinewidth\":0,\"ticks\":\"\"},\"colorscale\":[[0.0,\"#0d0887\"],[0.1111111111111111,\"#46039f\"],[0.2222222222222222,\"#7201a8\"],[0.3333333333333333,\"#9c179e\"],[0.4444444444444444,\"#bd3786\"],[0.5555555555555556,\"#d8576b\"],[0.6666666666666666,\"#ed7953\"],[0.7777777777777778,\"#fb9f3a\"],[0.8888888888888888,\"#fdca26\"],[1.0,\"#f0f921\"]]}],\"heatmapgl\":[{\"type\":\"heatmapgl\",\"colorbar\":{\"outlinewidth\":0,\"ticks\":\"\"},\"colorscale\":[[0.0,\"#0d0887\"],[0.1111111111111111,\"#46039f\"],[0.2222222222222222,\"#7201a8\"],[0.3333333333333333,\"#9c179e\"],[0.4444444444444444,\"#bd3786\"],[0.5555555555555556,\"#d8576b\"],[0.6666666666666666,\"#ed7953\"],[0.7777777777777778,\"#fb9f3a\"],[0.8888888888888888,\"#fdca26\"],[1.0,\"#f0f921\"]]}],\"contourcarpet\":[{\"type\":\"contourcarpet\",\"colorbar\":{\"outlinewidth\":0,\"ticks\":\"\"}}],\"contour\":[{\"type\":\"contour\",\"colorbar\":{\"outlinewidth\":0,\"ticks\":\"\"},\"colorscale\":[[0.0,\"#0d0887\"],[0.1111111111111111,\"#46039f\"],[0.2222222222222222,\"#7201a8\"],[0.3333333333333333,\"#9c179e\"],[0.4444444444444444,\"#bd3786\"],[0.5555555555555556,\"#d8576b\"],[0.6666666666666666,\"#ed7953\"],[0.7777777777777778,\"#fb9f3a\"],[0.8888888888888888,\"#fdca26\"],[1.0,\"#f0f921\"]]}],\"surface\":[{\"type\":\"surface\",\"colorbar\":{\"outlinewidth\":0,\"ticks\":\"\"},\"colorscale\":[[0.0,\"#0d0887\"],[0.1111111111111111,\"#46039f\"],[0.2222222222222222,\"#7201a8\"],[0.3333333333333333,\"#9c179e\"],[0.4444444444444444,\"#bd3786\"],[0.5555555555555556,\"#d8576b\"],[0.6666666666666666,\"#ed7953\"],[0.7777777777777778,\"#fb9f3a\"],[0.8888888888888888,\"#fdca26\"],[1.0,\"#f0f921\"]]}],\"mesh3d\":[{\"type\":\"mesh3d\",\"colorbar\":{\"outlinewidth\":0,\"ticks\":\"\"}}],\"scatter\":[{\"fillpattern\":{\"fillmode\":\"overlay\",\"size\":10,\"solidity\":0.2},\"type\":\"scatter\"}],\"parcoords\":[{\"type\":\"parcoords\",\"line\":{\"colorbar\":{\"outlinewidth\":0,\"ticks\":\"\"}}}],\"scatterpolargl\":[{\"type\":\"scatterpolargl\",\"marker\":{\"colorbar\":{\"outlinewidth\":0,\"ticks\":\"\"}}}],\"bar\":[{\"error_x\":{\"color\":\"#2a3f5f\"},\"error_y\":{\"color\":\"#2a3f5f\"},\"marker\":{\"line\":{\"color\":\"#E5ECF6\",\"width\":0.5},\"pattern\":{\"fillmode\":\"overlay\",\"size\":10,\"solidity\":0.2}},\"type\":\"bar\"}],\"scattergeo\":[{\"type\":\"scattergeo\",\"marker\":{\"colorbar\":{\"outlinewidth\":0,\"ticks\":\"\"}}}],\"scatterpolar\":[{\"type\":\"scatterpolar\",\"marker\":{\"colorbar\":{\"outlinewidth\":0,\"ticks\":\"\"}}}],\"histogram\":[{\"marker\":{\"pattern\":{\"fillmode\":\"overlay\",\"size\":10,\"solidity\":0.2}},\"type\":\"histogram\"}],\"scattergl\":[{\"type\":\"scattergl\",\"marker\":{\"colorbar\":{\"outlinewidth\":0,\"ticks\":\"\"}}}],\"scatter3d\":[{\"type\":\"scatter3d\",\"line\":{\"colorbar\":{\"outlinewidth\":0,\"ticks\":\"\"}},\"marker\":{\"colorbar\":{\"outlinewidth\":0,\"ticks\":\"\"}}}],\"scattermapbox\":[{\"type\":\"scattermapbox\",\"marker\":{\"colorbar\":{\"outlinewidth\":0,\"ticks\":\"\"}}}],\"scatterternary\":[{\"type\":\"scatterternary\",\"marker\":{\"colorbar\":{\"outlinewidth\":0,\"ticks\":\"\"}}}],\"scattercarpet\":[{\"type\":\"scattercarpet\",\"marker\":{\"colorbar\":{\"outlinewidth\":0,\"ticks\":\"\"}}}],\"carpet\":[{\"aaxis\":{\"endlinecolor\":\"#2a3f5f\",\"gridcolor\":\"white\",\"linecolor\":\"white\",\"minorgridcolor\":\"white\",\"startlinecolor\":\"#2a3f5f\"},\"baxis\":{\"endlinecolor\":\"#2a3f5f\",\"gridcolor\":\"white\",\"linecolor\":\"white\",\"minorgridcolor\":\"white\",\"startlinecolor\":\"#2a3f5f\"},\"type\":\"carpet\"}],\"table\":[{\"cells\":{\"fill\":{\"color\":\"#EBF0F8\"},\"line\":{\"color\":\"white\"}},\"header\":{\"fill\":{\"color\":\"#C8D4E3\"},\"line\":{\"color\":\"white\"}},\"type\":\"table\"}],\"barpolar\":[{\"marker\":{\"line\":{\"color\":\"#E5ECF6\",\"width\":0.5},\"pattern\":{\"fillmode\":\"overlay\",\"size\":10,\"solidity\":0.2}},\"type\":\"barpolar\"}],\"pie\":[{\"automargin\":true,\"type\":\"pie\"}]},\"layout\":{\"autotypenumbers\":\"strict\",\"colorway\":[\"#636efa\",\"#EF553B\",\"#00cc96\",\"#ab63fa\",\"#FFA15A\",\"#19d3f3\",\"#FF6692\",\"#B6E880\",\"#FF97FF\",\"#FECB52\"],\"font\":{\"color\":\"#2a3f5f\"},\"hovermode\":\"closest\",\"hoverlabel\":{\"align\":\"left\"},\"paper_bgcolor\":\"white\",\"plot_bgcolor\":\"#E5ECF6\",\"polar\":{\"bgcolor\":\"#E5ECF6\",\"angularaxis\":{\"gridcolor\":\"white\",\"linecolor\":\"white\",\"ticks\":\"\"},\"radialaxis\":{\"gridcolor\":\"white\",\"linecolor\":\"white\",\"ticks\":\"\"}},\"ternary\":{\"bgcolor\":\"#E5ECF6\",\"aaxis\":{\"gridcolor\":\"white\",\"linecolor\":\"white\",\"ticks\":\"\"},\"baxis\":{\"gridcolor\":\"white\",\"linecolor\":\"white\",\"ticks\":\"\"},\"caxis\":{\"gridcolor\":\"white\",\"linecolor\":\"white\",\"ticks\":\"\"}},\"coloraxis\":{\"colorbar\":{\"outlinewidth\":0,\"ticks\":\"\"}},\"colorscale\":{\"sequential\":[[0.0,\"#0d0887\"],[0.1111111111111111,\"#46039f\"],[0.2222222222222222,\"#7201a8\"],[0.3333333333333333,\"#9c179e\"],[0.4444444444444444,\"#bd3786\"],[0.5555555555555556,\"#d8576b\"],[0.6666666666666666,\"#ed7953\"],[0.7777777777777778,\"#fb9f3a\"],[0.8888888888888888,\"#fdca26\"],[1.0,\"#f0f921\"]],\"sequentialminus\":[[0.0,\"#0d0887\"],[0.1111111111111111,\"#46039f\"],[0.2222222222222222,\"#7201a8\"],[0.3333333333333333,\"#9c179e\"],[0.4444444444444444,\"#bd3786\"],[0.5555555555555556,\"#d8576b\"],[0.6666666666666666,\"#ed7953\"],[0.7777777777777778,\"#fb9f3a\"],[0.8888888888888888,\"#fdca26\"],[1.0,\"#f0f921\"]],\"diverging\":[[0,\"#8e0152\"],[0.1,\"#c51b7d\"],[0.2,\"#de77ae\"],[0.3,\"#f1b6da\"],[0.4,\"#fde0ef\"],[0.5,\"#f7f7f7\"],[0.6,\"#e6f5d0\"],[0.7,\"#b8e186\"],[0.8,\"#7fbc41\"],[0.9,\"#4d9221\"],[1,\"#276419\"]]},\"xaxis\":{\"gridcolor\":\"white\",\"linecolor\":\"white\",\"ticks\":\"\",\"title\":{\"standoff\":15},\"zerolinecolor\":\"white\",\"automargin\":true,\"zerolinewidth\":2},\"yaxis\":{\"gridcolor\":\"white\",\"linecolor\":\"white\",\"ticks\":\"\",\"title\":{\"standoff\":15},\"zerolinecolor\":\"white\",\"automargin\":true,\"zerolinewidth\":2},\"scene\":{\"xaxis\":{\"backgroundcolor\":\"#E5ECF6\",\"gridcolor\":\"white\",\"linecolor\":\"white\",\"showbackground\":true,\"ticks\":\"\",\"zerolinecolor\":\"white\",\"gridwidth\":2},\"yaxis\":{\"backgroundcolor\":\"#E5ECF6\",\"gridcolor\":\"white\",\"linecolor\":\"white\",\"showbackground\":true,\"ticks\":\"\",\"zerolinecolor\":\"white\",\"gridwidth\":2},\"zaxis\":{\"backgroundcolor\":\"#E5ECF6\",\"gridcolor\":\"white\",\"linecolor\":\"white\",\"showbackground\":true,\"ticks\":\"\",\"zerolinecolor\":\"white\",\"gridwidth\":2}},\"shapedefaults\":{\"line\":{\"color\":\"#2a3f5f\"}},\"annotationdefaults\":{\"arrowcolor\":\"#2a3f5f\",\"arrowhead\":0,\"arrowwidth\":1},\"geo\":{\"bgcolor\":\"white\",\"landcolor\":\"#E5ECF6\",\"subunitcolor\":\"white\",\"showland\":true,\"showlakes\":true,\"lakecolor\":\"white\"},\"title\":{\"x\":0.05},\"mapbox\":{\"style\":\"light\"}}},\"xaxis\":{\"rangeslider\":{\"visible\":true},\"title\":{\"text\":\"Ann\\u00e9e\"}},\"title\":{\"text\":\"Besoin d'\\u00e9nergie de chauffage par vecteur \\u00e9nerg\\u00e9tique (en TWh)\"},\"yaxis\":{\"title\":{\"text\":\"Besoin [TWh]\"}}},                        {\"responsive\": true}                    ).then(function(){\n                            \nvar gd = document.getElementById('af459273-a5bd-4cd4-8e08-4c9a3bbb8719');\nvar x = new MutationObserver(function (mutations, observer) {{\n        var display = window.getComputedStyle(gd).display;\n        if (!display || display === 'none') {{\n            console.log([gd, 'removed!']);\n            Plotly.purge(gd);\n            observer.disconnect();\n        }}\n}});\n\n// Listen for the removal of the full notebook cells\nvar notebookContainer = gd.closest('#notebook-container');\nif (notebookContainer) {{\n    x.observe(notebookContainer, {childList: true});\n}}\n\n// Listen for the clearing of the current output cell\nvar outputEl = gd.closest('.output');\nif (outputEl) {{\n    x.observe(outputEl, {childList: true});\n}}\n\n                        })                };                });            </script>        </div>"
     },
     "metadata": {},
     "output_type": "display_data"
    }
   ],
   "source": [
    "Var = \"Besoin\"\n",
    "y_df = sim_stock_df.groupby([\"year\", \"building_type\"])[Var].sum().to_frame().reset_index(). \\\n",
    "           pivot(index=['year'], columns='building_type').loc[[year for year in sim_param[\"years\"][1:]], Var] / 10 ** 9\n",
    "fig = MyStackedPlotly(y_df=y_df)\n",
    "fig = fig.update_layout(title_text=\"Besoin d'énergie de chauffage par vecteur énergétique (en TWh)\", xaxis_title=\"Année\",\n",
    "                        yaxis_title=\"Besoin [TWh]\")\n",
    "fig.show()"
   ]
  },
  {
   "cell_type": "markdown",
   "metadata": {
    "pycharm": {
     "name": "#%% md\n"
    }
   },
   "source": [
    "But it is also possible to plot the evolution of energy consumption or GHG emissions due to heating."
   ]
  },
  {
   "cell_type": "code",
   "execution_count": 50,
   "metadata": {
    "pycharm": {
     "name": "#%%\n"
    }
   },
   "outputs": [
    {
     "data": {
      "application/vnd.plotly.v1+json": {
       "data": [
        {
         "fill": "tozeroy",
         "mode": "none",
         "name": "Biomasse",
         "x": [
          2021,
          2022,
          2023,
          2024,
          2025,
          2026,
          2027,
          2028,
          2029,
          2030,
          2031,
          2032,
          2033,
          2034,
          2035,
          2036,
          2037,
          2038,
          2039,
          2040,
          2041,
          2042,
          2043,
          2044,
          2045,
          2046,
          2047,
          2048,
          2049
         ],
         "y": [
          67.46282037405459,
          67.44087610487249,
          67.15342666320257,
          66.85648852283587,
          66.55006168377238,
          66.05124767678247,
          65.53745151395552,
          65.00867319529155,
          64.46491272079052,
          63.906170090452484,
          63.10295538980737,
          62.27876567099042,
          61.4336009340016,
          60.56746117884095,
          59.680346405508445,
          59.2911650662923,
          58.89299443357392,
          58.48583450735333,
          58.06968528763053,
          57.644546774405484,
          57.35512823658733,
          57.05971683643435,
          56.758312573946554,
          56.45091544912394,
          56.137525461966504,
          55.9778340372204,
          55.81514618130688,
          55.649461894225944,
          55.480781175977604
         ],
         "type": "scatter"
        },
        {
         "fill": "tonexty",
         "mode": "none",
         "name": "Chaudière fioul",
         "x": [
          2021,
          2022,
          2023,
          2024,
          2025,
          2026,
          2027,
          2028,
          2029,
          2030,
          2031,
          2032,
          2033,
          2034,
          2035,
          2036,
          2037,
          2038,
          2039,
          2040,
          2041,
          2042,
          2043,
          2044,
          2045,
          2046,
          2047,
          2048,
          2049
         ],
         "y": [
          140.9622991313396,
          140.75614564221445,
          138.13537941459896,
          135.5051244882867,
          132.86538086327766,
          128.68238245742634,
          124.48440189573799,
          120.27143917821262,
          116.04349430485019,
          111.80056727565074,
          105.83949441659968,
          99.85744653937675,
          93.85442364398197,
          87.83042573041536,
          81.78545279867689,
          79.18576082014388,
          76.57707954810867,
          73.95940898257123,
          71.3327491235316,
          68.69709997098971,
          66.934007673627,
          65.16492251392944,
          63.389844491897094,
          61.60877360752992,
          59.82170986082792,
          58.92518155630953,
          58.02565682062373,
          57.12313565377051,
          56.217618055749895
         ],
         "type": "scatter"
        },
        {
         "fill": "tonexty",
         "mode": "none",
         "name": "Chaudière gaz",
         "x": [
          2021,
          2022,
          2023,
          2024,
          2025,
          2026,
          2027,
          2028,
          2029,
          2030,
          2031,
          2032,
          2033,
          2034,
          2035,
          2036,
          2037,
          2038,
          2039,
          2040,
          2041,
          2042,
          2043,
          2044,
          2045,
          2046,
          2047,
          2048,
          2049
         ],
         "y": [
          306.7285083157388,
          306.1639605571172,
          298.99945666893007,
          291.8213871684296,
          284.6297520556159,
          273.25311933173117,
          261.8550672199833,
          250.43559572037248,
          238.99470483289844,
          227.5323945575614,
          211.4551730290812,
          195.34796435759267,
          179.21076854309584,
          163.04358558559068,
          146.8464154850772,
          139.89191952356782,
          132.92457192934063,
          125.94437270239558,
          118.95132184273274,
          111.94541935035198,
          107.26624993361959,
          102.57851276174196,
          97.88220783471913,
          93.17733515255102,
          88.46389471523769,
          86.10289061900842,
          83.73760264520652,
          81.36803079383199,
          78.99417506488487
         ],
         "type": "scatter"
        },
        {
         "fill": "tonexty",
         "mode": "none",
         "name": "Chauffage urbain",
         "x": [
          2021,
          2022,
          2023,
          2024,
          2025,
          2026,
          2027,
          2028,
          2029,
          2030,
          2031,
          2032,
          2033,
          2034,
          2035,
          2036,
          2037,
          2038,
          2039,
          2040,
          2041,
          2042,
          2043,
          2044,
          2045,
          2046,
          2047,
          2048,
          2049
         ],
         "y": [
          328.7128322738321,
          328.24636138439996,
          322.3130669476381,
          316.3551093402554,
          310.3724885622519,
          300.88730338021344,
          291.3631763498263,
          281.8001074710905,
          272.19809674400585,
          262.5571441685727,
          249.00529197527797,
          235.39892119429507,
          221.73803182562403,
          208.02262386926478,
          194.25269732521735,
          188.3279351259021,
          182.3798078175776,
          176.40831540024394,
          170.41345787390105,
          164.39523523854893,
          160.36751007564135,
          156.3242081733943,
          152.26532953180782,
          148.19087415088183,
          144.10084203061632,
          142.04803760081387,
          139.98744480134164,
          137.91906363219965,
          135.84289409338797
         ],
         "type": "scatter"
        },
        {
         "fill": "tonexty",
         "mode": "none",
         "name": "Chauffage électrique",
         "x": [
          2021,
          2022,
          2023,
          2024,
          2025,
          2026,
          2027,
          2028,
          2029,
          2030,
          2031,
          2032,
          2033,
          2034,
          2035,
          2036,
          2037,
          2038,
          2039,
          2040,
          2041,
          2042,
          2043,
          2044,
          2045,
          2046,
          2047,
          2048,
          2049
         ],
         "y": [
          438.0672574013231,
          437.387823582777,
          428.752762815051,
          420.0888029811841,
          411.39594408117614,
          397.62474729251994,
          383.80792039943054,
          369.945463401908,
          356.03737629995226,
          342.0836590935634,
          322.48457285841255,
          302.8216044770553,
          283.09475394949163,
          263.3040212757215,
          243.44940645574493,
          234.9129077559522,
          226.3490309934996,
          217.75777616838712,
          209.13914328061475,
          200.49313233018248,
          194.710872988121,
          188.91036160428627,
          183.0915981786783,
          177.25458271129708,
          171.39931520214253,
          168.46255542667865,
          165.51666963032812,
          162.56165781309093,
          159.59751997496716
         ],
         "type": "scatter"
        },
        {
         "fill": "tonexty",
         "mode": "none",
         "name": "Pompes à chaleur air-air",
         "x": [
          2021,
          2022,
          2023,
          2024,
          2025,
          2026,
          2027,
          2028,
          2029,
          2030,
          2031,
          2032,
          2033,
          2034,
          2035,
          2036,
          2037,
          2038,
          2039,
          2040,
          2041,
          2042,
          2043,
          2044,
          2045,
          2046,
          2047,
          2048,
          2049
         ],
         "y": [
          442.067438907961,
          441.44618381022275,
          433.5432560643936,
          425.60663181075404,
          417.6363110493042,
          404.99838904520914,
          392.30726202878196,
          379.5629300000227,
          366.7653929589313,
          353.91465090550776,
          335.8491250134498,
          317.709112104127,
          299.4946121775391,
          281.20562523368625,
          262.84215127256846,
          254.9401679961187,
          247.00626171226966,
          239.04043242102136,
          231.0426801223738,
          223.013004816327,
          217.6386059406962,
          212.24292506013262,
          206.8259621746362,
          201.38771728420693,
          195.92819038884477,
          193.18778593869726,
          190.43674048608335,
          187.67505403100296,
          184.90272657345622
         ],
         "type": "scatter"
        },
        {
         "fill": "tonexty",
         "mode": "none",
         "name": "Pompes à chaleur air-eau",
         "x": [
          2021,
          2022,
          2023,
          2024,
          2025,
          2026,
          2027,
          2028,
          2029,
          2030,
          2031,
          2032,
          2033,
          2034,
          2035,
          2036,
          2037,
          2038,
          2039,
          2040,
          2041,
          2042,
          2043,
          2044,
          2045,
          2046,
          2047,
          2048,
          2049
         ],
         "y": [
          447.3161612490122,
          446.7577757118571,
          439.64557644092844,
          432.4940613697037,
          425.303230498183,
          413.8872094374197,
          402.40911079724174,
          390.86893457764893,
          379.26668077864144,
          367.60234940021917,
          351.1853768592473,
          334.6814957070948,
          318.0907059437617,
          301.4130075692478,
          284.6484005835533,
          277.4263224706068,
          270.1669978100115,
          262.87042660176724,
          255.5366088458742,
          248.16554454233236,
          243.22667064153848,
          238.26296570897873,
          233.2744297446531,
          228.26106274856159,
          223.2228647207041,
          220.69135019089242,
          218.1474201451978,
          215.59107458362016,
          213.02231350615966
         ],
         "type": "scatter"
        },
        {
         "fill": "tonexty",
         "mode": "none",
         "name": "Pompes à chaleur hybride",
         "x": [
          2021,
          2022,
          2023,
          2024,
          2025,
          2026,
          2027,
          2028,
          2029,
          2030,
          2031,
          2032,
          2033,
          2034,
          2035,
          2036,
          2037,
          2038,
          2039,
          2040,
          2041,
          2042,
          2043,
          2044,
          2045,
          2046,
          2047,
          2048,
          2049
         ],
         "y": [
          447.3161612490123,
          446.7577757118571,
          439.6455764409284,
          432.4940613697037,
          425.303230498183,
          413.88720943741976,
          402.40911079724174,
          390.868934577649,
          379.26668077864144,
          367.60234940021917,
          351.1853768592473,
          334.68149570709477,
          318.0907059437617,
          301.41300756924784,
          284.6484005835533,
          277.42632247060686,
          270.1669978100115,
          262.8704266017673,
          255.53660884587424,
          248.1655445423323,
          243.22667064153848,
          238.26296570897873,
          233.2744297446531,
          228.26106274856153,
          223.22286472070408,
          220.69135019089242,
          218.1474201451978,
          215.59107458362018,
          213.0223135061597
         ],
         "type": "scatter"
        }
       ],
       "layout": {
        "template": {
         "data": {
          "histogram2dcontour": [
           {
            "type": "histogram2dcontour",
            "colorbar": {
             "outlinewidth": 0,
             "ticks": ""
            },
            "colorscale": [
             [
              0.0,
              "#0d0887"
             ],
             [
              0.1111111111111111,
              "#46039f"
             ],
             [
              0.2222222222222222,
              "#7201a8"
             ],
             [
              0.3333333333333333,
              "#9c179e"
             ],
             [
              0.4444444444444444,
              "#bd3786"
             ],
             [
              0.5555555555555556,
              "#d8576b"
             ],
             [
              0.6666666666666666,
              "#ed7953"
             ],
             [
              0.7777777777777778,
              "#fb9f3a"
             ],
             [
              0.8888888888888888,
              "#fdca26"
             ],
             [
              1.0,
              "#f0f921"
             ]
            ]
           }
          ],
          "choropleth": [
           {
            "type": "choropleth",
            "colorbar": {
             "outlinewidth": 0,
             "ticks": ""
            }
           }
          ],
          "histogram2d": [
           {
            "type": "histogram2d",
            "colorbar": {
             "outlinewidth": 0,
             "ticks": ""
            },
            "colorscale": [
             [
              0.0,
              "#0d0887"
             ],
             [
              0.1111111111111111,
              "#46039f"
             ],
             [
              0.2222222222222222,
              "#7201a8"
             ],
             [
              0.3333333333333333,
              "#9c179e"
             ],
             [
              0.4444444444444444,
              "#bd3786"
             ],
             [
              0.5555555555555556,
              "#d8576b"
             ],
             [
              0.6666666666666666,
              "#ed7953"
             ],
             [
              0.7777777777777778,
              "#fb9f3a"
             ],
             [
              0.8888888888888888,
              "#fdca26"
             ],
             [
              1.0,
              "#f0f921"
             ]
            ]
           }
          ],
          "heatmap": [
           {
            "type": "heatmap",
            "colorbar": {
             "outlinewidth": 0,
             "ticks": ""
            },
            "colorscale": [
             [
              0.0,
              "#0d0887"
             ],
             [
              0.1111111111111111,
              "#46039f"
             ],
             [
              0.2222222222222222,
              "#7201a8"
             ],
             [
              0.3333333333333333,
              "#9c179e"
             ],
             [
              0.4444444444444444,
              "#bd3786"
             ],
             [
              0.5555555555555556,
              "#d8576b"
             ],
             [
              0.6666666666666666,
              "#ed7953"
             ],
             [
              0.7777777777777778,
              "#fb9f3a"
             ],
             [
              0.8888888888888888,
              "#fdca26"
             ],
             [
              1.0,
              "#f0f921"
             ]
            ]
           }
          ],
          "heatmapgl": [
           {
            "type": "heatmapgl",
            "colorbar": {
             "outlinewidth": 0,
             "ticks": ""
            },
            "colorscale": [
             [
              0.0,
              "#0d0887"
             ],
             [
              0.1111111111111111,
              "#46039f"
             ],
             [
              0.2222222222222222,
              "#7201a8"
             ],
             [
              0.3333333333333333,
              "#9c179e"
             ],
             [
              0.4444444444444444,
              "#bd3786"
             ],
             [
              0.5555555555555556,
              "#d8576b"
             ],
             [
              0.6666666666666666,
              "#ed7953"
             ],
             [
              0.7777777777777778,
              "#fb9f3a"
             ],
             [
              0.8888888888888888,
              "#fdca26"
             ],
             [
              1.0,
              "#f0f921"
             ]
            ]
           }
          ],
          "contourcarpet": [
           {
            "type": "contourcarpet",
            "colorbar": {
             "outlinewidth": 0,
             "ticks": ""
            }
           }
          ],
          "contour": [
           {
            "type": "contour",
            "colorbar": {
             "outlinewidth": 0,
             "ticks": ""
            },
            "colorscale": [
             [
              0.0,
              "#0d0887"
             ],
             [
              0.1111111111111111,
              "#46039f"
             ],
             [
              0.2222222222222222,
              "#7201a8"
             ],
             [
              0.3333333333333333,
              "#9c179e"
             ],
             [
              0.4444444444444444,
              "#bd3786"
             ],
             [
              0.5555555555555556,
              "#d8576b"
             ],
             [
              0.6666666666666666,
              "#ed7953"
             ],
             [
              0.7777777777777778,
              "#fb9f3a"
             ],
             [
              0.8888888888888888,
              "#fdca26"
             ],
             [
              1.0,
              "#f0f921"
             ]
            ]
           }
          ],
          "surface": [
           {
            "type": "surface",
            "colorbar": {
             "outlinewidth": 0,
             "ticks": ""
            },
            "colorscale": [
             [
              0.0,
              "#0d0887"
             ],
             [
              0.1111111111111111,
              "#46039f"
             ],
             [
              0.2222222222222222,
              "#7201a8"
             ],
             [
              0.3333333333333333,
              "#9c179e"
             ],
             [
              0.4444444444444444,
              "#bd3786"
             ],
             [
              0.5555555555555556,
              "#d8576b"
             ],
             [
              0.6666666666666666,
              "#ed7953"
             ],
             [
              0.7777777777777778,
              "#fb9f3a"
             ],
             [
              0.8888888888888888,
              "#fdca26"
             ],
             [
              1.0,
              "#f0f921"
             ]
            ]
           }
          ],
          "mesh3d": [
           {
            "type": "mesh3d",
            "colorbar": {
             "outlinewidth": 0,
             "ticks": ""
            }
           }
          ],
          "scatter": [
           {
            "fillpattern": {
             "fillmode": "overlay",
             "size": 10,
             "solidity": 0.2
            },
            "type": "scatter"
           }
          ],
          "parcoords": [
           {
            "type": "parcoords",
            "line": {
             "colorbar": {
              "outlinewidth": 0,
              "ticks": ""
             }
            }
           }
          ],
          "scatterpolargl": [
           {
            "type": "scatterpolargl",
            "marker": {
             "colorbar": {
              "outlinewidth": 0,
              "ticks": ""
             }
            }
           }
          ],
          "bar": [
           {
            "error_x": {
             "color": "#2a3f5f"
            },
            "error_y": {
             "color": "#2a3f5f"
            },
            "marker": {
             "line": {
              "color": "#E5ECF6",
              "width": 0.5
             },
             "pattern": {
              "fillmode": "overlay",
              "size": 10,
              "solidity": 0.2
             }
            },
            "type": "bar"
           }
          ],
          "scattergeo": [
           {
            "type": "scattergeo",
            "marker": {
             "colorbar": {
              "outlinewidth": 0,
              "ticks": ""
             }
            }
           }
          ],
          "scatterpolar": [
           {
            "type": "scatterpolar",
            "marker": {
             "colorbar": {
              "outlinewidth": 0,
              "ticks": ""
             }
            }
           }
          ],
          "histogram": [
           {
            "marker": {
             "pattern": {
              "fillmode": "overlay",
              "size": 10,
              "solidity": 0.2
             }
            },
            "type": "histogram"
           }
          ],
          "scattergl": [
           {
            "type": "scattergl",
            "marker": {
             "colorbar": {
              "outlinewidth": 0,
              "ticks": ""
             }
            }
           }
          ],
          "scatter3d": [
           {
            "type": "scatter3d",
            "line": {
             "colorbar": {
              "outlinewidth": 0,
              "ticks": ""
             }
            },
            "marker": {
             "colorbar": {
              "outlinewidth": 0,
              "ticks": ""
             }
            }
           }
          ],
          "scattermapbox": [
           {
            "type": "scattermapbox",
            "marker": {
             "colorbar": {
              "outlinewidth": 0,
              "ticks": ""
             }
            }
           }
          ],
          "scatterternary": [
           {
            "type": "scatterternary",
            "marker": {
             "colorbar": {
              "outlinewidth": 0,
              "ticks": ""
             }
            }
           }
          ],
          "scattercarpet": [
           {
            "type": "scattercarpet",
            "marker": {
             "colorbar": {
              "outlinewidth": 0,
              "ticks": ""
             }
            }
           }
          ],
          "carpet": [
           {
            "aaxis": {
             "endlinecolor": "#2a3f5f",
             "gridcolor": "white",
             "linecolor": "white",
             "minorgridcolor": "white",
             "startlinecolor": "#2a3f5f"
            },
            "baxis": {
             "endlinecolor": "#2a3f5f",
             "gridcolor": "white",
             "linecolor": "white",
             "minorgridcolor": "white",
             "startlinecolor": "#2a3f5f"
            },
            "type": "carpet"
           }
          ],
          "table": [
           {
            "cells": {
             "fill": {
              "color": "#EBF0F8"
             },
             "line": {
              "color": "white"
             }
            },
            "header": {
             "fill": {
              "color": "#C8D4E3"
             },
             "line": {
              "color": "white"
             }
            },
            "type": "table"
           }
          ],
          "barpolar": [
           {
            "marker": {
             "line": {
              "color": "#E5ECF6",
              "width": 0.5
             },
             "pattern": {
              "fillmode": "overlay",
              "size": 10,
              "solidity": 0.2
             }
            },
            "type": "barpolar"
           }
          ],
          "pie": [
           {
            "automargin": true,
            "type": "pie"
           }
          ]
         },
         "layout": {
          "autotypenumbers": "strict",
          "colorway": [
           "#636efa",
           "#EF553B",
           "#00cc96",
           "#ab63fa",
           "#FFA15A",
           "#19d3f3",
           "#FF6692",
           "#B6E880",
           "#FF97FF",
           "#FECB52"
          ],
          "font": {
           "color": "#2a3f5f"
          },
          "hovermode": "closest",
          "hoverlabel": {
           "align": "left"
          },
          "paper_bgcolor": "white",
          "plot_bgcolor": "#E5ECF6",
          "polar": {
           "bgcolor": "#E5ECF6",
           "angularaxis": {
            "gridcolor": "white",
            "linecolor": "white",
            "ticks": ""
           },
           "radialaxis": {
            "gridcolor": "white",
            "linecolor": "white",
            "ticks": ""
           }
          },
          "ternary": {
           "bgcolor": "#E5ECF6",
           "aaxis": {
            "gridcolor": "white",
            "linecolor": "white",
            "ticks": ""
           },
           "baxis": {
            "gridcolor": "white",
            "linecolor": "white",
            "ticks": ""
           },
           "caxis": {
            "gridcolor": "white",
            "linecolor": "white",
            "ticks": ""
           }
          },
          "coloraxis": {
           "colorbar": {
            "outlinewidth": 0,
            "ticks": ""
           }
          },
          "colorscale": {
           "sequential": [
            [
             0.0,
             "#0d0887"
            ],
            [
             0.1111111111111111,
             "#46039f"
            ],
            [
             0.2222222222222222,
             "#7201a8"
            ],
            [
             0.3333333333333333,
             "#9c179e"
            ],
            [
             0.4444444444444444,
             "#bd3786"
            ],
            [
             0.5555555555555556,
             "#d8576b"
            ],
            [
             0.6666666666666666,
             "#ed7953"
            ],
            [
             0.7777777777777778,
             "#fb9f3a"
            ],
            [
             0.8888888888888888,
             "#fdca26"
            ],
            [
             1.0,
             "#f0f921"
            ]
           ],
           "sequentialminus": [
            [
             0.0,
             "#0d0887"
            ],
            [
             0.1111111111111111,
             "#46039f"
            ],
            [
             0.2222222222222222,
             "#7201a8"
            ],
            [
             0.3333333333333333,
             "#9c179e"
            ],
            [
             0.4444444444444444,
             "#bd3786"
            ],
            [
             0.5555555555555556,
             "#d8576b"
            ],
            [
             0.6666666666666666,
             "#ed7953"
            ],
            [
             0.7777777777777778,
             "#fb9f3a"
            ],
            [
             0.8888888888888888,
             "#fdca26"
            ],
            [
             1.0,
             "#f0f921"
            ]
           ],
           "diverging": [
            [
             0,
             "#8e0152"
            ],
            [
             0.1,
             "#c51b7d"
            ],
            [
             0.2,
             "#de77ae"
            ],
            [
             0.3,
             "#f1b6da"
            ],
            [
             0.4,
             "#fde0ef"
            ],
            [
             0.5,
             "#f7f7f7"
            ],
            [
             0.6,
             "#e6f5d0"
            ],
            [
             0.7,
             "#b8e186"
            ],
            [
             0.8,
             "#7fbc41"
            ],
            [
             0.9,
             "#4d9221"
            ],
            [
             1,
             "#276419"
            ]
           ]
          },
          "xaxis": {
           "gridcolor": "white",
           "linecolor": "white",
           "ticks": "",
           "title": {
            "standoff": 15
           },
           "zerolinecolor": "white",
           "automargin": true,
           "zerolinewidth": 2
          },
          "yaxis": {
           "gridcolor": "white",
           "linecolor": "white",
           "ticks": "",
           "title": {
            "standoff": 15
           },
           "zerolinecolor": "white",
           "automargin": true,
           "zerolinewidth": 2
          },
          "scene": {
           "xaxis": {
            "backgroundcolor": "#E5ECF6",
            "gridcolor": "white",
            "linecolor": "white",
            "showbackground": true,
            "ticks": "",
            "zerolinecolor": "white",
            "gridwidth": 2
           },
           "yaxis": {
            "backgroundcolor": "#E5ECF6",
            "gridcolor": "white",
            "linecolor": "white",
            "showbackground": true,
            "ticks": "",
            "zerolinecolor": "white",
            "gridwidth": 2
           },
           "zaxis": {
            "backgroundcolor": "#E5ECF6",
            "gridcolor": "white",
            "linecolor": "white",
            "showbackground": true,
            "ticks": "",
            "zerolinecolor": "white",
            "gridwidth": 2
           }
          },
          "shapedefaults": {
           "line": {
            "color": "#2a3f5f"
           }
          },
          "annotationdefaults": {
           "arrowcolor": "#2a3f5f",
           "arrowhead": 0,
           "arrowwidth": 1
          },
          "geo": {
           "bgcolor": "white",
           "landcolor": "#E5ECF6",
           "subunitcolor": "white",
           "showland": true,
           "showlakes": true,
           "lakecolor": "white"
          },
          "title": {
           "x": 0.05
          },
          "mapbox": {
           "style": "light"
          }
         }
        },
        "xaxis": {
         "rangeslider": {
          "visible": true
         },
         "title": {
          "text": "Année"
         }
        },
        "title": {
         "text": "Conso d'énergie par mode de chauffage (en TWh)"
        },
        "yaxis": {
         "title": {
          "text": "Consommation [TWh]"
         }
        }
       },
       "config": {
        "plotlyServerURL": "https://plot.ly"
       }
      },
      "text/html": "<div>                            <div id=\"4c510950-b142-4c57-9868-26ac38938c11\" class=\"plotly-graph-div\" style=\"height:525px; width:100%;\"></div>            <script type=\"text/javascript\">                require([\"plotly\"], function(Plotly) {                    window.PLOTLYENV=window.PLOTLYENV || {};                                    if (document.getElementById(\"4c510950-b142-4c57-9868-26ac38938c11\")) {                    Plotly.newPlot(                        \"4c510950-b142-4c57-9868-26ac38938c11\",                        [{\"fill\":\"tozeroy\",\"mode\":\"none\",\"name\":\"Biomasse\",\"x\":[2021,2022,2023,2024,2025,2026,2027,2028,2029,2030,2031,2032,2033,2034,2035,2036,2037,2038,2039,2040,2041,2042,2043,2044,2045,2046,2047,2048,2049],\"y\":[67.46282037405459,67.44087610487249,67.15342666320257,66.85648852283587,66.55006168377238,66.05124767678247,65.53745151395552,65.00867319529155,64.46491272079052,63.906170090452484,63.10295538980737,62.27876567099042,61.4336009340016,60.56746117884095,59.680346405508445,59.2911650662923,58.89299443357392,58.48583450735333,58.06968528763053,57.644546774405484,57.35512823658733,57.05971683643435,56.758312573946554,56.45091544912394,56.137525461966504,55.9778340372204,55.81514618130688,55.649461894225944,55.480781175977604],\"type\":\"scatter\"},{\"fill\":\"tonexty\",\"mode\":\"none\",\"name\":\"Chaudi\\u00e8re fioul\",\"x\":[2021,2022,2023,2024,2025,2026,2027,2028,2029,2030,2031,2032,2033,2034,2035,2036,2037,2038,2039,2040,2041,2042,2043,2044,2045,2046,2047,2048,2049],\"y\":[140.9622991313396,140.75614564221445,138.13537941459896,135.5051244882867,132.86538086327766,128.68238245742634,124.48440189573799,120.27143917821262,116.04349430485019,111.80056727565074,105.83949441659968,99.85744653937675,93.85442364398197,87.83042573041536,81.78545279867689,79.18576082014388,76.57707954810867,73.95940898257123,71.3327491235316,68.69709997098971,66.934007673627,65.16492251392944,63.389844491897094,61.60877360752992,59.82170986082792,58.92518155630953,58.02565682062373,57.12313565377051,56.217618055749895],\"type\":\"scatter\"},{\"fill\":\"tonexty\",\"mode\":\"none\",\"name\":\"Chaudi\\u00e8re gaz\",\"x\":[2021,2022,2023,2024,2025,2026,2027,2028,2029,2030,2031,2032,2033,2034,2035,2036,2037,2038,2039,2040,2041,2042,2043,2044,2045,2046,2047,2048,2049],\"y\":[306.7285083157388,306.1639605571172,298.99945666893007,291.8213871684296,284.6297520556159,273.25311933173117,261.8550672199833,250.43559572037248,238.99470483289844,227.5323945575614,211.4551730290812,195.34796435759267,179.21076854309584,163.04358558559068,146.8464154850772,139.89191952356782,132.92457192934063,125.94437270239558,118.95132184273274,111.94541935035198,107.26624993361959,102.57851276174196,97.88220783471913,93.17733515255102,88.46389471523769,86.10289061900842,83.73760264520652,81.36803079383199,78.99417506488487],\"type\":\"scatter\"},{\"fill\":\"tonexty\",\"mode\":\"none\",\"name\":\"Chauffage urbain\",\"x\":[2021,2022,2023,2024,2025,2026,2027,2028,2029,2030,2031,2032,2033,2034,2035,2036,2037,2038,2039,2040,2041,2042,2043,2044,2045,2046,2047,2048,2049],\"y\":[328.7128322738321,328.24636138439996,322.3130669476381,316.3551093402554,310.3724885622519,300.88730338021344,291.3631763498263,281.8001074710905,272.19809674400585,262.5571441685727,249.00529197527797,235.39892119429507,221.73803182562403,208.02262386926478,194.25269732521735,188.3279351259021,182.3798078175776,176.40831540024394,170.41345787390105,164.39523523854893,160.36751007564135,156.3242081733943,152.26532953180782,148.19087415088183,144.10084203061632,142.04803760081387,139.98744480134164,137.91906363219965,135.84289409338797],\"type\":\"scatter\"},{\"fill\":\"tonexty\",\"mode\":\"none\",\"name\":\"Chauffage \\u00e9lectrique\",\"x\":[2021,2022,2023,2024,2025,2026,2027,2028,2029,2030,2031,2032,2033,2034,2035,2036,2037,2038,2039,2040,2041,2042,2043,2044,2045,2046,2047,2048,2049],\"y\":[438.0672574013231,437.387823582777,428.752762815051,420.0888029811841,411.39594408117614,397.62474729251994,383.80792039943054,369.945463401908,356.03737629995226,342.0836590935634,322.48457285841255,302.8216044770553,283.09475394949163,263.3040212757215,243.44940645574493,234.9129077559522,226.3490309934996,217.75777616838712,209.13914328061475,200.49313233018248,194.710872988121,188.91036160428627,183.0915981786783,177.25458271129708,171.39931520214253,168.46255542667865,165.51666963032812,162.56165781309093,159.59751997496716],\"type\":\"scatter\"},{\"fill\":\"tonexty\",\"mode\":\"none\",\"name\":\"Pompes \\u00e0 chaleur air-air\",\"x\":[2021,2022,2023,2024,2025,2026,2027,2028,2029,2030,2031,2032,2033,2034,2035,2036,2037,2038,2039,2040,2041,2042,2043,2044,2045,2046,2047,2048,2049],\"y\":[442.067438907961,441.44618381022275,433.5432560643936,425.60663181075404,417.6363110493042,404.99838904520914,392.30726202878196,379.5629300000227,366.7653929589313,353.91465090550776,335.8491250134498,317.709112104127,299.4946121775391,281.20562523368625,262.84215127256846,254.9401679961187,247.00626171226966,239.04043242102136,231.0426801223738,223.013004816327,217.6386059406962,212.24292506013262,206.8259621746362,201.38771728420693,195.92819038884477,193.18778593869726,190.43674048608335,187.67505403100296,184.90272657345622],\"type\":\"scatter\"},{\"fill\":\"tonexty\",\"mode\":\"none\",\"name\":\"Pompes \\u00e0 chaleur air-eau\",\"x\":[2021,2022,2023,2024,2025,2026,2027,2028,2029,2030,2031,2032,2033,2034,2035,2036,2037,2038,2039,2040,2041,2042,2043,2044,2045,2046,2047,2048,2049],\"y\":[447.3161612490122,446.7577757118571,439.64557644092844,432.4940613697037,425.303230498183,413.8872094374197,402.40911079724174,390.86893457764893,379.26668077864144,367.60234940021917,351.1853768592473,334.6814957070948,318.0907059437617,301.4130075692478,284.6484005835533,277.4263224706068,270.1669978100115,262.87042660176724,255.5366088458742,248.16554454233236,243.22667064153848,238.26296570897873,233.2744297446531,228.26106274856159,223.2228647207041,220.69135019089242,218.1474201451978,215.59107458362016,213.02231350615966],\"type\":\"scatter\"},{\"fill\":\"tonexty\",\"mode\":\"none\",\"name\":\"Pompes \\u00e0 chaleur hybride\",\"x\":[2021,2022,2023,2024,2025,2026,2027,2028,2029,2030,2031,2032,2033,2034,2035,2036,2037,2038,2039,2040,2041,2042,2043,2044,2045,2046,2047,2048,2049],\"y\":[447.3161612490123,446.7577757118571,439.6455764409284,432.4940613697037,425.303230498183,413.88720943741976,402.40911079724174,390.868934577649,379.26668077864144,367.60234940021917,351.1853768592473,334.68149570709477,318.0907059437617,301.41300756924784,284.6484005835533,277.42632247060686,270.1669978100115,262.8704266017673,255.53660884587424,248.1655445423323,243.22667064153848,238.26296570897873,233.2744297446531,228.26106274856153,223.22286472070408,220.69135019089242,218.1474201451978,215.59107458362018,213.0223135061597],\"type\":\"scatter\"}],                        {\"template\":{\"data\":{\"histogram2dcontour\":[{\"type\":\"histogram2dcontour\",\"colorbar\":{\"outlinewidth\":0,\"ticks\":\"\"},\"colorscale\":[[0.0,\"#0d0887\"],[0.1111111111111111,\"#46039f\"],[0.2222222222222222,\"#7201a8\"],[0.3333333333333333,\"#9c179e\"],[0.4444444444444444,\"#bd3786\"],[0.5555555555555556,\"#d8576b\"],[0.6666666666666666,\"#ed7953\"],[0.7777777777777778,\"#fb9f3a\"],[0.8888888888888888,\"#fdca26\"],[1.0,\"#f0f921\"]]}],\"choropleth\":[{\"type\":\"choropleth\",\"colorbar\":{\"outlinewidth\":0,\"ticks\":\"\"}}],\"histogram2d\":[{\"type\":\"histogram2d\",\"colorbar\":{\"outlinewidth\":0,\"ticks\":\"\"},\"colorscale\":[[0.0,\"#0d0887\"],[0.1111111111111111,\"#46039f\"],[0.2222222222222222,\"#7201a8\"],[0.3333333333333333,\"#9c179e\"],[0.4444444444444444,\"#bd3786\"],[0.5555555555555556,\"#d8576b\"],[0.6666666666666666,\"#ed7953\"],[0.7777777777777778,\"#fb9f3a\"],[0.8888888888888888,\"#fdca26\"],[1.0,\"#f0f921\"]]}],\"heatmap\":[{\"type\":\"heatmap\",\"colorbar\":{\"outlinewidth\":0,\"ticks\":\"\"},\"colorscale\":[[0.0,\"#0d0887\"],[0.1111111111111111,\"#46039f\"],[0.2222222222222222,\"#7201a8\"],[0.3333333333333333,\"#9c179e\"],[0.4444444444444444,\"#bd3786\"],[0.5555555555555556,\"#d8576b\"],[0.6666666666666666,\"#ed7953\"],[0.7777777777777778,\"#fb9f3a\"],[0.8888888888888888,\"#fdca26\"],[1.0,\"#f0f921\"]]}],\"heatmapgl\":[{\"type\":\"heatmapgl\",\"colorbar\":{\"outlinewidth\":0,\"ticks\":\"\"},\"colorscale\":[[0.0,\"#0d0887\"],[0.1111111111111111,\"#46039f\"],[0.2222222222222222,\"#7201a8\"],[0.3333333333333333,\"#9c179e\"],[0.4444444444444444,\"#bd3786\"],[0.5555555555555556,\"#d8576b\"],[0.6666666666666666,\"#ed7953\"],[0.7777777777777778,\"#fb9f3a\"],[0.8888888888888888,\"#fdca26\"],[1.0,\"#f0f921\"]]}],\"contourcarpet\":[{\"type\":\"contourcarpet\",\"colorbar\":{\"outlinewidth\":0,\"ticks\":\"\"}}],\"contour\":[{\"type\":\"contour\",\"colorbar\":{\"outlinewidth\":0,\"ticks\":\"\"},\"colorscale\":[[0.0,\"#0d0887\"],[0.1111111111111111,\"#46039f\"],[0.2222222222222222,\"#7201a8\"],[0.3333333333333333,\"#9c179e\"],[0.4444444444444444,\"#bd3786\"],[0.5555555555555556,\"#d8576b\"],[0.6666666666666666,\"#ed7953\"],[0.7777777777777778,\"#fb9f3a\"],[0.8888888888888888,\"#fdca26\"],[1.0,\"#f0f921\"]]}],\"surface\":[{\"type\":\"surface\",\"colorbar\":{\"outlinewidth\":0,\"ticks\":\"\"},\"colorscale\":[[0.0,\"#0d0887\"],[0.1111111111111111,\"#46039f\"],[0.2222222222222222,\"#7201a8\"],[0.3333333333333333,\"#9c179e\"],[0.4444444444444444,\"#bd3786\"],[0.5555555555555556,\"#d8576b\"],[0.6666666666666666,\"#ed7953\"],[0.7777777777777778,\"#fb9f3a\"],[0.8888888888888888,\"#fdca26\"],[1.0,\"#f0f921\"]]}],\"mesh3d\":[{\"type\":\"mesh3d\",\"colorbar\":{\"outlinewidth\":0,\"ticks\":\"\"}}],\"scatter\":[{\"fillpattern\":{\"fillmode\":\"overlay\",\"size\":10,\"solidity\":0.2},\"type\":\"scatter\"}],\"parcoords\":[{\"type\":\"parcoords\",\"line\":{\"colorbar\":{\"outlinewidth\":0,\"ticks\":\"\"}}}],\"scatterpolargl\":[{\"type\":\"scatterpolargl\",\"marker\":{\"colorbar\":{\"outlinewidth\":0,\"ticks\":\"\"}}}],\"bar\":[{\"error_x\":{\"color\":\"#2a3f5f\"},\"error_y\":{\"color\":\"#2a3f5f\"},\"marker\":{\"line\":{\"color\":\"#E5ECF6\",\"width\":0.5},\"pattern\":{\"fillmode\":\"overlay\",\"size\":10,\"solidity\":0.2}},\"type\":\"bar\"}],\"scattergeo\":[{\"type\":\"scattergeo\",\"marker\":{\"colorbar\":{\"outlinewidth\":0,\"ticks\":\"\"}}}],\"scatterpolar\":[{\"type\":\"scatterpolar\",\"marker\":{\"colorbar\":{\"outlinewidth\":0,\"ticks\":\"\"}}}],\"histogram\":[{\"marker\":{\"pattern\":{\"fillmode\":\"overlay\",\"size\":10,\"solidity\":0.2}},\"type\":\"histogram\"}],\"scattergl\":[{\"type\":\"scattergl\",\"marker\":{\"colorbar\":{\"outlinewidth\":0,\"ticks\":\"\"}}}],\"scatter3d\":[{\"type\":\"scatter3d\",\"line\":{\"colorbar\":{\"outlinewidth\":0,\"ticks\":\"\"}},\"marker\":{\"colorbar\":{\"outlinewidth\":0,\"ticks\":\"\"}}}],\"scattermapbox\":[{\"type\":\"scattermapbox\",\"marker\":{\"colorbar\":{\"outlinewidth\":0,\"ticks\":\"\"}}}],\"scatterternary\":[{\"type\":\"scatterternary\",\"marker\":{\"colorbar\":{\"outlinewidth\":0,\"ticks\":\"\"}}}],\"scattercarpet\":[{\"type\":\"scattercarpet\",\"marker\":{\"colorbar\":{\"outlinewidth\":0,\"ticks\":\"\"}}}],\"carpet\":[{\"aaxis\":{\"endlinecolor\":\"#2a3f5f\",\"gridcolor\":\"white\",\"linecolor\":\"white\",\"minorgridcolor\":\"white\",\"startlinecolor\":\"#2a3f5f\"},\"baxis\":{\"endlinecolor\":\"#2a3f5f\",\"gridcolor\":\"white\",\"linecolor\":\"white\",\"minorgridcolor\":\"white\",\"startlinecolor\":\"#2a3f5f\"},\"type\":\"carpet\"}],\"table\":[{\"cells\":{\"fill\":{\"color\":\"#EBF0F8\"},\"line\":{\"color\":\"white\"}},\"header\":{\"fill\":{\"color\":\"#C8D4E3\"},\"line\":{\"color\":\"white\"}},\"type\":\"table\"}],\"barpolar\":[{\"marker\":{\"line\":{\"color\":\"#E5ECF6\",\"width\":0.5},\"pattern\":{\"fillmode\":\"overlay\",\"size\":10,\"solidity\":0.2}},\"type\":\"barpolar\"}],\"pie\":[{\"automargin\":true,\"type\":\"pie\"}]},\"layout\":{\"autotypenumbers\":\"strict\",\"colorway\":[\"#636efa\",\"#EF553B\",\"#00cc96\",\"#ab63fa\",\"#FFA15A\",\"#19d3f3\",\"#FF6692\",\"#B6E880\",\"#FF97FF\",\"#FECB52\"],\"font\":{\"color\":\"#2a3f5f\"},\"hovermode\":\"closest\",\"hoverlabel\":{\"align\":\"left\"},\"paper_bgcolor\":\"white\",\"plot_bgcolor\":\"#E5ECF6\",\"polar\":{\"bgcolor\":\"#E5ECF6\",\"angularaxis\":{\"gridcolor\":\"white\",\"linecolor\":\"white\",\"ticks\":\"\"},\"radialaxis\":{\"gridcolor\":\"white\",\"linecolor\":\"white\",\"ticks\":\"\"}},\"ternary\":{\"bgcolor\":\"#E5ECF6\",\"aaxis\":{\"gridcolor\":\"white\",\"linecolor\":\"white\",\"ticks\":\"\"},\"baxis\":{\"gridcolor\":\"white\",\"linecolor\":\"white\",\"ticks\":\"\"},\"caxis\":{\"gridcolor\":\"white\",\"linecolor\":\"white\",\"ticks\":\"\"}},\"coloraxis\":{\"colorbar\":{\"outlinewidth\":0,\"ticks\":\"\"}},\"colorscale\":{\"sequential\":[[0.0,\"#0d0887\"],[0.1111111111111111,\"#46039f\"],[0.2222222222222222,\"#7201a8\"],[0.3333333333333333,\"#9c179e\"],[0.4444444444444444,\"#bd3786\"],[0.5555555555555556,\"#d8576b\"],[0.6666666666666666,\"#ed7953\"],[0.7777777777777778,\"#fb9f3a\"],[0.8888888888888888,\"#fdca26\"],[1.0,\"#f0f921\"]],\"sequentialminus\":[[0.0,\"#0d0887\"],[0.1111111111111111,\"#46039f\"],[0.2222222222222222,\"#7201a8\"],[0.3333333333333333,\"#9c179e\"],[0.4444444444444444,\"#bd3786\"],[0.5555555555555556,\"#d8576b\"],[0.6666666666666666,\"#ed7953\"],[0.7777777777777778,\"#fb9f3a\"],[0.8888888888888888,\"#fdca26\"],[1.0,\"#f0f921\"]],\"diverging\":[[0,\"#8e0152\"],[0.1,\"#c51b7d\"],[0.2,\"#de77ae\"],[0.3,\"#f1b6da\"],[0.4,\"#fde0ef\"],[0.5,\"#f7f7f7\"],[0.6,\"#e6f5d0\"],[0.7,\"#b8e186\"],[0.8,\"#7fbc41\"],[0.9,\"#4d9221\"],[1,\"#276419\"]]},\"xaxis\":{\"gridcolor\":\"white\",\"linecolor\":\"white\",\"ticks\":\"\",\"title\":{\"standoff\":15},\"zerolinecolor\":\"white\",\"automargin\":true,\"zerolinewidth\":2},\"yaxis\":{\"gridcolor\":\"white\",\"linecolor\":\"white\",\"ticks\":\"\",\"title\":{\"standoff\":15},\"zerolinecolor\":\"white\",\"automargin\":true,\"zerolinewidth\":2},\"scene\":{\"xaxis\":{\"backgroundcolor\":\"#E5ECF6\",\"gridcolor\":\"white\",\"linecolor\":\"white\",\"showbackground\":true,\"ticks\":\"\",\"zerolinecolor\":\"white\",\"gridwidth\":2},\"yaxis\":{\"backgroundcolor\":\"#E5ECF6\",\"gridcolor\":\"white\",\"linecolor\":\"white\",\"showbackground\":true,\"ticks\":\"\",\"zerolinecolor\":\"white\",\"gridwidth\":2},\"zaxis\":{\"backgroundcolor\":\"#E5ECF6\",\"gridcolor\":\"white\",\"linecolor\":\"white\",\"showbackground\":true,\"ticks\":\"\",\"zerolinecolor\":\"white\",\"gridwidth\":2}},\"shapedefaults\":{\"line\":{\"color\":\"#2a3f5f\"}},\"annotationdefaults\":{\"arrowcolor\":\"#2a3f5f\",\"arrowhead\":0,\"arrowwidth\":1},\"geo\":{\"bgcolor\":\"white\",\"landcolor\":\"#E5ECF6\",\"subunitcolor\":\"white\",\"showland\":true,\"showlakes\":true,\"lakecolor\":\"white\"},\"title\":{\"x\":0.05},\"mapbox\":{\"style\":\"light\"}}},\"xaxis\":{\"rangeslider\":{\"visible\":true},\"title\":{\"text\":\"Ann\\u00e9e\"}},\"title\":{\"text\":\"Conso d'\\u00e9nergie par mode de chauffage (en TWh)\"},\"yaxis\":{\"title\":{\"text\":\"Consommation [TWh]\"}}},                        {\"responsive\": true}                    ).then(function(){\n                            \nvar gd = document.getElementById('4c510950-b142-4c57-9868-26ac38938c11');\nvar x = new MutationObserver(function (mutations, observer) {{\n        var display = window.getComputedStyle(gd).display;\n        if (!display || display === 'none') {{\n            console.log([gd, 'removed!']);\n            Plotly.purge(gd);\n            observer.disconnect();\n        }}\n}});\n\n// Listen for the removal of the full notebook cells\nvar notebookContainer = gd.closest('#notebook-container');\nif (notebookContainer) {{\n    x.observe(notebookContainer, {childList: true});\n}}\n\n// Listen for the clearing of the current output cell\nvar outputEl = gd.closest('.output');\nif (outputEl) {{\n    x.observe(outputEl, {childList: true});\n}}\n\n                        })                };                });            </script>        </div>"
     },
     "metadata": {},
     "output_type": "display_data"
    }
   ],
   "source": [
    "Var = \"Conso\"\n",
    "y_df = sim_stock_df.groupby([\"year\", \"Energy_source\"])[Var].sum().to_frame().reset_index(). \\\n",
    "           pivot(index=['year'], columns='Energy_source').loc[[year for year in sim_param[\"years\"][1:]], Var] / 10 ** 9\n",
    "fig = MyStackedPlotly(y_df=y_df)\n",
    "fig = fig.update_layout(title_text=\"Conso d'énergie par mode de chauffage (en TWh)\", xaxis_title=\"Année\",\n",
    "                        yaxis_title=\"Consommation [TWh]\")\n",
    "fig.show()"
   ]
  },
  {
   "cell_type": "code",
   "execution_count": 51,
   "metadata": {
    "pycharm": {
     "name": "#%%\n"
    }
   },
   "outputs": [
    {
     "data": {
      "application/vnd.plotly.v1+json": {
       "data": [
        {
         "fill": "tozeroy",
         "mode": "none",
         "name": "Biomasse",
         "x": [
          2021,
          2022,
          2023,
          2024,
          2025,
          2026,
          2027,
          2028,
          2029,
          2030,
          2031,
          2032,
          2033,
          2034,
          2035,
          2036,
          2037,
          2038,
          2039,
          2040,
          2041,
          2042,
          2043,
          2044,
          2045,
          2046,
          2047,
          2048,
          2049
         ],
         "y": [
          1.8214961500994737,
          1.8209036548315571,
          1.8131425199064695,
          1.8051251901165684,
          1.7968516654618545,
          1.7833836872731268,
          1.7695111908767993,
          1.7552341762728716,
          1.7405526434613445,
          1.7254665924422172,
          1.703779795524799,
          1.6815266731167413,
          1.6587072252180433,
          1.6353214518287056,
          1.611369352948728,
          1.6008614567898918,
          1.5901108497064957,
          1.57911753169854,
          1.5678815027660242,
          1.5564027629089483,
          1.5485884623878579,
          1.5406123545837274,
          1.5324744394965568,
          1.5241747171263464,
          1.515713187473096,
          1.5114015190049508,
          1.5070089468952856,
          1.5025354711441004,
          1.4979810917513956
         ],
         "type": "scatter"
        },
        {
         "fill": "tonexty",
         "mode": "none",
         "name": "Chaudière fioul",
         "x": [
          2021,
          2022,
          2023,
          2024,
          2025,
          2026,
          2027,
          2028,
          2029,
          2030,
          2031,
          2032,
          2033,
          2034,
          2035,
          2036,
          2037,
          2038,
          2039,
          2040,
          2041,
          2042,
          2043,
          2044,
          2045,
          2046,
          2047,
          2048,
          2049
         ],
         "y": [
          26.00282466124624,
          25.941627332617056,
          25.166204975115885,
          24.390526422749893,
          23.614591675519094,
          22.389027030104963,
          21.16305786648323,
          19.936684184653902,
          18.709905984616974,
          17.482723266372446,
          15.764101135339466,
          14.044912678815844,
          12.325157896801585,
          10.604836789296685,
          8.883949356301143,
          8.146183459807064,
          7.408174852388427,
          6.66992353404523,
          5.9314295047774745,
          5.192692764585158,
          4.700039797173906,
          4.207225022479614,
          3.714248440502285,
          3.2211100512419133,
          2.727809854698502,
          2.481078852785276,
          2.23426694723053,
          1.987374138034264,
          1.7404004251964786
         ],
         "type": "scatter"
        },
        {
         "fill": "tonexty",
         "mode": "none",
         "name": "Chaudière gaz",
         "x": [
          2021,
          2022,
          2023,
          2024,
          2025,
          2026,
          2027,
          2028,
          2029,
          2030,
          2031,
          2032,
          2033,
          2034,
          2035,
          2036,
          2037,
          2038,
          2039,
          2040,
          2041,
          2042,
          2043,
          2044,
          2045,
          2046,
          2047,
          2048,
          2049
         ],
         "y": [
          63.63175414610487,
          63.48920131829999,
          61.68235051184904,
          59.87431805114234,
          58.065103936179874,
          55.20658430057216,
          52.34619889508693,
          49.483947719724185,
          46.61983077448393,
          43.75384805936616,
          39.73886018037277,
          35.72126022355086,
          31.70104818890043,
          27.67822407642148,
          23.652787886114012,
          21.926481485484302,
          20.199055622928086,
          18.470510298445358,
          16.74084551203613,
          15.010061263700393,
          13.855458790192227,
          12.700110008733056,
          11.544014919322885,
          10.387173521961705,
          9.229585816649518,
          8.650418810017923,
          8.070878649410824,
          7.490965334828223,
          6.9106788662701195
         ],
         "type": "scatter"
        },
        {
         "fill": "tonexty",
         "mode": "none",
         "name": "Chauffage urbain",
         "x": [
          2021,
          2022,
          2023,
          2024,
          2025,
          2026,
          2027,
          2028,
          2029,
          2030,
          2031,
          2032,
          2033,
          2034,
          2035,
          2036,
          2037,
          2038,
          2039,
          2040,
          2041,
          2042,
          2043,
          2044,
          2045,
          2046,
          2047,
          2048,
          2049
         ],
         "y": [
          68.31986126579562,
          68.19822310744343,
          66.65392491830562,
          65.10607854582472,
          63.55468399000067,
          61.09951124394726,
          58.638736103141554,
          56.172358567583544,
          53.700378637273246,
          51.222796312210654,
          47.74633770446981,
          44.262035744075746,
          40.76989043102847,
          37.26990176532797,
          33.76206974697427,
          32.255351730828444,
          30.74527227783124,
          29.23183138798266,
          27.715029061282706,
          26.194865297731372,
          25.179181830796225,
          24.161257405960164,
          23.14109202322319,
          22.118685682585294,
          21.094038384046478,
          20.58059425582661,
          20.066029648656283,
          19.550344562535496,
          19.033538997464248
         ],
         "type": "scatter"
        },
        {
         "fill": "tonexty",
         "mode": "none",
         "name": "Chauffage électrique",
         "x": [
          2021,
          2022,
          2023,
          2024,
          2025,
          2026,
          2027,
          2028,
          2029,
          2030,
          2031,
          2032,
          2033,
          2034,
          2035,
          2036,
          2037,
          2038,
          2039,
          2040,
          2041,
          2042,
          2043,
          2044,
          2045,
          2046,
          2047,
          2048,
          2049
         ],
         "y": [
          76.95886085086741,
          76.82039862111522,
          75.06266089183124,
          73.30104034345808,
          71.53553697599568,
          68.74176931301947,
          65.94187088306029,
          63.13584168611813,
          60.32368172219301,
          57.505390991284926,
          53.55120089423744,
          49.5884277234138,
          45.61707147881401,
          41.63713216043806,
          37.64860976828595,
          35.9355645686024,
          34.21884090872908,
          32.49843878866597,
          30.77435820841309,
          29.04659916797042,
          27.892307500882115,
          26.73556352700063,
          25.57636724632596,
          24.4147186588581,
          23.25061776459705,
          22.66734116406993,
          22.082838410146216,
          21.497109502825907,
          20.910154442109004
         ],
         "type": "scatter"
        },
        {
         "fill": "tonexty",
         "mode": "none",
         "name": "Pompes à chaleur air-air",
         "x": [
          2021,
          2022,
          2023,
          2024,
          2025,
          2026,
          2027,
          2028,
          2029,
          2030,
          2031,
          2032,
          2033,
          2034,
          2035,
          2036,
          2037,
          2038,
          2039,
          2040,
          2041,
          2042,
          2043,
          2044,
          2045,
          2046,
          2047,
          2048,
          2049
         ],
         "y": [
          77.2748751898918,
          77.14100907908343,
          75.4411098585293,
          73.73694882099412,
          72.0285259664778,
          69.32428701148193,
          66.61331887177906,
          63.89562154736919,
          61.17119503825235,
          58.44003934442853,
          54.607000514485385,
          50.76454082595246,
          46.91266027882976,
          43.05135887311727,
          39.18063660881501,
          37.517718127575556,
          35.850762135511914,
          34.179768632624075,
          32.50473761891206,
          30.825669094375836,
          29.70359840413556,
          28.57883604001249,
          27.451382002006635,
          26.321236290117977,
          25.188398904346524,
          24.6206343745194,
          24.051524007750878,
          23.481067804040958,
          22.90926576338964
         ],
         "type": "scatter"
        },
        {
         "fill": "tonexty",
         "mode": "none",
         "name": "Pompes à chaleur air-eau",
         "x": [
          2021,
          2022,
          2023,
          2024,
          2025,
          2026,
          2027,
          2028,
          2029,
          2030,
          2031,
          2032,
          2033,
          2034,
          2035,
          2036,
          2037,
          2038,
          2039,
          2040,
          2041,
          2042,
          2043,
          2044,
          2045,
          2046,
          2047,
          2048,
          2049
         ],
         "y": [
          77.68952425483485,
          77.56062483931255,
          75.92319316827556,
          74.28105575615113,
          72.63421260293923,
          70.02650382246657,
          67.41136492448737,
          64.78879590900166,
          62.15879677600945,
          59.521367525510726,
          55.81856441030339,
          52.10535913058692,
          48.38175168636134,
          44.64774207762663,
          40.90333030438281,
          39.29412433106012,
          37.680460287233515,
          36.062338172903,
          34.43975798806859,
          32.81271973273026,
          31.725055515502095,
          30.634419251271332,
          29.54081094003797,
          28.444230581801996,
          27.344678176563413,
          26.793415950442817,
          26.240667700820918,
          25.686433427697718,
          25.130713131073215
         ],
         "type": "scatter"
        },
        {
         "fill": "tonexty",
         "mode": "none",
         "name": "Pompes à chaleur hybride",
         "x": [
          2021,
          2022,
          2023,
          2024,
          2025,
          2026,
          2027,
          2028,
          2029,
          2030,
          2031,
          2032,
          2033,
          2034,
          2035,
          2036,
          2037,
          2038,
          2039,
          2040,
          2041,
          2042,
          2043,
          2044,
          2045,
          2046,
          2047,
          2048,
          2049
         ],
         "y": [
          77.68952425483486,
          77.56062483931254,
          75.92319316827556,
          74.28105575615113,
          72.63421260293923,
          70.02650382246657,
          67.41136492448736,
          64.78879590900166,
          62.15879677600945,
          59.521367525510726,
          55.81856441030339,
          52.105359130586926,
          48.38175168636134,
          44.64774207762664,
          40.90333030438281,
          39.29412433106011,
          37.680460287233515,
          36.062338172903004,
          34.439757988068585,
          32.81271973273026,
          31.7250555155021,
          30.634419251271332,
          29.54081094003797,
          28.444230581801996,
          27.344678176563413,
          26.793415950442817,
          26.240667700820918,
          25.686433427697715,
          25.130713131073215
         ],
         "type": "scatter"
        }
       ],
       "layout": {
        "template": {
         "data": {
          "histogram2dcontour": [
           {
            "type": "histogram2dcontour",
            "colorbar": {
             "outlinewidth": 0,
             "ticks": ""
            },
            "colorscale": [
             [
              0.0,
              "#0d0887"
             ],
             [
              0.1111111111111111,
              "#46039f"
             ],
             [
              0.2222222222222222,
              "#7201a8"
             ],
             [
              0.3333333333333333,
              "#9c179e"
             ],
             [
              0.4444444444444444,
              "#bd3786"
             ],
             [
              0.5555555555555556,
              "#d8576b"
             ],
             [
              0.6666666666666666,
              "#ed7953"
             ],
             [
              0.7777777777777778,
              "#fb9f3a"
             ],
             [
              0.8888888888888888,
              "#fdca26"
             ],
             [
              1.0,
              "#f0f921"
             ]
            ]
           }
          ],
          "choropleth": [
           {
            "type": "choropleth",
            "colorbar": {
             "outlinewidth": 0,
             "ticks": ""
            }
           }
          ],
          "histogram2d": [
           {
            "type": "histogram2d",
            "colorbar": {
             "outlinewidth": 0,
             "ticks": ""
            },
            "colorscale": [
             [
              0.0,
              "#0d0887"
             ],
             [
              0.1111111111111111,
              "#46039f"
             ],
             [
              0.2222222222222222,
              "#7201a8"
             ],
             [
              0.3333333333333333,
              "#9c179e"
             ],
             [
              0.4444444444444444,
              "#bd3786"
             ],
             [
              0.5555555555555556,
              "#d8576b"
             ],
             [
              0.6666666666666666,
              "#ed7953"
             ],
             [
              0.7777777777777778,
              "#fb9f3a"
             ],
             [
              0.8888888888888888,
              "#fdca26"
             ],
             [
              1.0,
              "#f0f921"
             ]
            ]
           }
          ],
          "heatmap": [
           {
            "type": "heatmap",
            "colorbar": {
             "outlinewidth": 0,
             "ticks": ""
            },
            "colorscale": [
             [
              0.0,
              "#0d0887"
             ],
             [
              0.1111111111111111,
              "#46039f"
             ],
             [
              0.2222222222222222,
              "#7201a8"
             ],
             [
              0.3333333333333333,
              "#9c179e"
             ],
             [
              0.4444444444444444,
              "#bd3786"
             ],
             [
              0.5555555555555556,
              "#d8576b"
             ],
             [
              0.6666666666666666,
              "#ed7953"
             ],
             [
              0.7777777777777778,
              "#fb9f3a"
             ],
             [
              0.8888888888888888,
              "#fdca26"
             ],
             [
              1.0,
              "#f0f921"
             ]
            ]
           }
          ],
          "heatmapgl": [
           {
            "type": "heatmapgl",
            "colorbar": {
             "outlinewidth": 0,
             "ticks": ""
            },
            "colorscale": [
             [
              0.0,
              "#0d0887"
             ],
             [
              0.1111111111111111,
              "#46039f"
             ],
             [
              0.2222222222222222,
              "#7201a8"
             ],
             [
              0.3333333333333333,
              "#9c179e"
             ],
             [
              0.4444444444444444,
              "#bd3786"
             ],
             [
              0.5555555555555556,
              "#d8576b"
             ],
             [
              0.6666666666666666,
              "#ed7953"
             ],
             [
              0.7777777777777778,
              "#fb9f3a"
             ],
             [
              0.8888888888888888,
              "#fdca26"
             ],
             [
              1.0,
              "#f0f921"
             ]
            ]
           }
          ],
          "contourcarpet": [
           {
            "type": "contourcarpet",
            "colorbar": {
             "outlinewidth": 0,
             "ticks": ""
            }
           }
          ],
          "contour": [
           {
            "type": "contour",
            "colorbar": {
             "outlinewidth": 0,
             "ticks": ""
            },
            "colorscale": [
             [
              0.0,
              "#0d0887"
             ],
             [
              0.1111111111111111,
              "#46039f"
             ],
             [
              0.2222222222222222,
              "#7201a8"
             ],
             [
              0.3333333333333333,
              "#9c179e"
             ],
             [
              0.4444444444444444,
              "#bd3786"
             ],
             [
              0.5555555555555556,
              "#d8576b"
             ],
             [
              0.6666666666666666,
              "#ed7953"
             ],
             [
              0.7777777777777778,
              "#fb9f3a"
             ],
             [
              0.8888888888888888,
              "#fdca26"
             ],
             [
              1.0,
              "#f0f921"
             ]
            ]
           }
          ],
          "surface": [
           {
            "type": "surface",
            "colorbar": {
             "outlinewidth": 0,
             "ticks": ""
            },
            "colorscale": [
             [
              0.0,
              "#0d0887"
             ],
             [
              0.1111111111111111,
              "#46039f"
             ],
             [
              0.2222222222222222,
              "#7201a8"
             ],
             [
              0.3333333333333333,
              "#9c179e"
             ],
             [
              0.4444444444444444,
              "#bd3786"
             ],
             [
              0.5555555555555556,
              "#d8576b"
             ],
             [
              0.6666666666666666,
              "#ed7953"
             ],
             [
              0.7777777777777778,
              "#fb9f3a"
             ],
             [
              0.8888888888888888,
              "#fdca26"
             ],
             [
              1.0,
              "#f0f921"
             ]
            ]
           }
          ],
          "mesh3d": [
           {
            "type": "mesh3d",
            "colorbar": {
             "outlinewidth": 0,
             "ticks": ""
            }
           }
          ],
          "scatter": [
           {
            "fillpattern": {
             "fillmode": "overlay",
             "size": 10,
             "solidity": 0.2
            },
            "type": "scatter"
           }
          ],
          "parcoords": [
           {
            "type": "parcoords",
            "line": {
             "colorbar": {
              "outlinewidth": 0,
              "ticks": ""
             }
            }
           }
          ],
          "scatterpolargl": [
           {
            "type": "scatterpolargl",
            "marker": {
             "colorbar": {
              "outlinewidth": 0,
              "ticks": ""
             }
            }
           }
          ],
          "bar": [
           {
            "error_x": {
             "color": "#2a3f5f"
            },
            "error_y": {
             "color": "#2a3f5f"
            },
            "marker": {
             "line": {
              "color": "#E5ECF6",
              "width": 0.5
             },
             "pattern": {
              "fillmode": "overlay",
              "size": 10,
              "solidity": 0.2
             }
            },
            "type": "bar"
           }
          ],
          "scattergeo": [
           {
            "type": "scattergeo",
            "marker": {
             "colorbar": {
              "outlinewidth": 0,
              "ticks": ""
             }
            }
           }
          ],
          "scatterpolar": [
           {
            "type": "scatterpolar",
            "marker": {
             "colorbar": {
              "outlinewidth": 0,
              "ticks": ""
             }
            }
           }
          ],
          "histogram": [
           {
            "marker": {
             "pattern": {
              "fillmode": "overlay",
              "size": 10,
              "solidity": 0.2
             }
            },
            "type": "histogram"
           }
          ],
          "scattergl": [
           {
            "type": "scattergl",
            "marker": {
             "colorbar": {
              "outlinewidth": 0,
              "ticks": ""
             }
            }
           }
          ],
          "scatter3d": [
           {
            "type": "scatter3d",
            "line": {
             "colorbar": {
              "outlinewidth": 0,
              "ticks": ""
             }
            },
            "marker": {
             "colorbar": {
              "outlinewidth": 0,
              "ticks": ""
             }
            }
           }
          ],
          "scattermapbox": [
           {
            "type": "scattermapbox",
            "marker": {
             "colorbar": {
              "outlinewidth": 0,
              "ticks": ""
             }
            }
           }
          ],
          "scatterternary": [
           {
            "type": "scatterternary",
            "marker": {
             "colorbar": {
              "outlinewidth": 0,
              "ticks": ""
             }
            }
           }
          ],
          "scattercarpet": [
           {
            "type": "scattercarpet",
            "marker": {
             "colorbar": {
              "outlinewidth": 0,
              "ticks": ""
             }
            }
           }
          ],
          "carpet": [
           {
            "aaxis": {
             "endlinecolor": "#2a3f5f",
             "gridcolor": "white",
             "linecolor": "white",
             "minorgridcolor": "white",
             "startlinecolor": "#2a3f5f"
            },
            "baxis": {
             "endlinecolor": "#2a3f5f",
             "gridcolor": "white",
             "linecolor": "white",
             "minorgridcolor": "white",
             "startlinecolor": "#2a3f5f"
            },
            "type": "carpet"
           }
          ],
          "table": [
           {
            "cells": {
             "fill": {
              "color": "#EBF0F8"
             },
             "line": {
              "color": "white"
             }
            },
            "header": {
             "fill": {
              "color": "#C8D4E3"
             },
             "line": {
              "color": "white"
             }
            },
            "type": "table"
           }
          ],
          "barpolar": [
           {
            "marker": {
             "line": {
              "color": "#E5ECF6",
              "width": 0.5
             },
             "pattern": {
              "fillmode": "overlay",
              "size": 10,
              "solidity": 0.2
             }
            },
            "type": "barpolar"
           }
          ],
          "pie": [
           {
            "automargin": true,
            "type": "pie"
           }
          ]
         },
         "layout": {
          "autotypenumbers": "strict",
          "colorway": [
           "#636efa",
           "#EF553B",
           "#00cc96",
           "#ab63fa",
           "#FFA15A",
           "#19d3f3",
           "#FF6692",
           "#B6E880",
           "#FF97FF",
           "#FECB52"
          ],
          "font": {
           "color": "#2a3f5f"
          },
          "hovermode": "closest",
          "hoverlabel": {
           "align": "left"
          },
          "paper_bgcolor": "white",
          "plot_bgcolor": "#E5ECF6",
          "polar": {
           "bgcolor": "#E5ECF6",
           "angularaxis": {
            "gridcolor": "white",
            "linecolor": "white",
            "ticks": ""
           },
           "radialaxis": {
            "gridcolor": "white",
            "linecolor": "white",
            "ticks": ""
           }
          },
          "ternary": {
           "bgcolor": "#E5ECF6",
           "aaxis": {
            "gridcolor": "white",
            "linecolor": "white",
            "ticks": ""
           },
           "baxis": {
            "gridcolor": "white",
            "linecolor": "white",
            "ticks": ""
           },
           "caxis": {
            "gridcolor": "white",
            "linecolor": "white",
            "ticks": ""
           }
          },
          "coloraxis": {
           "colorbar": {
            "outlinewidth": 0,
            "ticks": ""
           }
          },
          "colorscale": {
           "sequential": [
            [
             0.0,
             "#0d0887"
            ],
            [
             0.1111111111111111,
             "#46039f"
            ],
            [
             0.2222222222222222,
             "#7201a8"
            ],
            [
             0.3333333333333333,
             "#9c179e"
            ],
            [
             0.4444444444444444,
             "#bd3786"
            ],
            [
             0.5555555555555556,
             "#d8576b"
            ],
            [
             0.6666666666666666,
             "#ed7953"
            ],
            [
             0.7777777777777778,
             "#fb9f3a"
            ],
            [
             0.8888888888888888,
             "#fdca26"
            ],
            [
             1.0,
             "#f0f921"
            ]
           ],
           "sequentialminus": [
            [
             0.0,
             "#0d0887"
            ],
            [
             0.1111111111111111,
             "#46039f"
            ],
            [
             0.2222222222222222,
             "#7201a8"
            ],
            [
             0.3333333333333333,
             "#9c179e"
            ],
            [
             0.4444444444444444,
             "#bd3786"
            ],
            [
             0.5555555555555556,
             "#d8576b"
            ],
            [
             0.6666666666666666,
             "#ed7953"
            ],
            [
             0.7777777777777778,
             "#fb9f3a"
            ],
            [
             0.8888888888888888,
             "#fdca26"
            ],
            [
             1.0,
             "#f0f921"
            ]
           ],
           "diverging": [
            [
             0,
             "#8e0152"
            ],
            [
             0.1,
             "#c51b7d"
            ],
            [
             0.2,
             "#de77ae"
            ],
            [
             0.3,
             "#f1b6da"
            ],
            [
             0.4,
             "#fde0ef"
            ],
            [
             0.5,
             "#f7f7f7"
            ],
            [
             0.6,
             "#e6f5d0"
            ],
            [
             0.7,
             "#b8e186"
            ],
            [
             0.8,
             "#7fbc41"
            ],
            [
             0.9,
             "#4d9221"
            ],
            [
             1,
             "#276419"
            ]
           ]
          },
          "xaxis": {
           "gridcolor": "white",
           "linecolor": "white",
           "ticks": "",
           "title": {
            "standoff": 15
           },
           "zerolinecolor": "white",
           "automargin": true,
           "zerolinewidth": 2
          },
          "yaxis": {
           "gridcolor": "white",
           "linecolor": "white",
           "ticks": "",
           "title": {
            "standoff": 15
           },
           "zerolinecolor": "white",
           "automargin": true,
           "zerolinewidth": 2
          },
          "scene": {
           "xaxis": {
            "backgroundcolor": "#E5ECF6",
            "gridcolor": "white",
            "linecolor": "white",
            "showbackground": true,
            "ticks": "",
            "zerolinecolor": "white",
            "gridwidth": 2
           },
           "yaxis": {
            "backgroundcolor": "#E5ECF6",
            "gridcolor": "white",
            "linecolor": "white",
            "showbackground": true,
            "ticks": "",
            "zerolinecolor": "white",
            "gridwidth": 2
           },
           "zaxis": {
            "backgroundcolor": "#E5ECF6",
            "gridcolor": "white",
            "linecolor": "white",
            "showbackground": true,
            "ticks": "",
            "zerolinecolor": "white",
            "gridwidth": 2
           }
          },
          "shapedefaults": {
           "line": {
            "color": "#2a3f5f"
           }
          },
          "annotationdefaults": {
           "arrowcolor": "#2a3f5f",
           "arrowhead": 0,
           "arrowwidth": 1
          },
          "geo": {
           "bgcolor": "white",
           "landcolor": "#E5ECF6",
           "subunitcolor": "white",
           "showland": true,
           "showlakes": true,
           "lakecolor": "white"
          },
          "title": {
           "x": 0.05
          },
          "mapbox": {
           "style": "light"
          }
         }
        },
        "xaxis": {
         "rangeslider": {
          "visible": true
         },
         "title": {
          "text": "Année"
         }
        },
        "title": {
         "text": "Emissions de GES par mode de chauffage (en MtCO2e)"
        },
        "yaxis": {
         "title": {
          "text": "Emissions [MtCO2e]"
         }
        }
       },
       "config": {
        "plotlyServerURL": "https://plot.ly"
       }
      },
      "text/html": "<div>                            <div id=\"2a1ac950-f724-4617-9133-73fbcc7dcadf\" class=\"plotly-graph-div\" style=\"height:525px; width:100%;\"></div>            <script type=\"text/javascript\">                require([\"plotly\"], function(Plotly) {                    window.PLOTLYENV=window.PLOTLYENV || {};                                    if (document.getElementById(\"2a1ac950-f724-4617-9133-73fbcc7dcadf\")) {                    Plotly.newPlot(                        \"2a1ac950-f724-4617-9133-73fbcc7dcadf\",                        [{\"fill\":\"tozeroy\",\"mode\":\"none\",\"name\":\"Biomasse\",\"x\":[2021,2022,2023,2024,2025,2026,2027,2028,2029,2030,2031,2032,2033,2034,2035,2036,2037,2038,2039,2040,2041,2042,2043,2044,2045,2046,2047,2048,2049],\"y\":[1.8214961500994737,1.8209036548315571,1.8131425199064695,1.8051251901165684,1.7968516654618545,1.7833836872731268,1.7695111908767993,1.7552341762728716,1.7405526434613445,1.7254665924422172,1.703779795524799,1.6815266731167413,1.6587072252180433,1.6353214518287056,1.611369352948728,1.6008614567898918,1.5901108497064957,1.57911753169854,1.5678815027660242,1.5564027629089483,1.5485884623878579,1.5406123545837274,1.5324744394965568,1.5241747171263464,1.515713187473096,1.5114015190049508,1.5070089468952856,1.5025354711441004,1.4979810917513956],\"type\":\"scatter\"},{\"fill\":\"tonexty\",\"mode\":\"none\",\"name\":\"Chaudi\\u00e8re fioul\",\"x\":[2021,2022,2023,2024,2025,2026,2027,2028,2029,2030,2031,2032,2033,2034,2035,2036,2037,2038,2039,2040,2041,2042,2043,2044,2045,2046,2047,2048,2049],\"y\":[26.00282466124624,25.941627332617056,25.166204975115885,24.390526422749893,23.614591675519094,22.389027030104963,21.16305786648323,19.936684184653902,18.709905984616974,17.482723266372446,15.764101135339466,14.044912678815844,12.325157896801585,10.604836789296685,8.883949356301143,8.146183459807064,7.408174852388427,6.66992353404523,5.9314295047774745,5.192692764585158,4.700039797173906,4.207225022479614,3.714248440502285,3.2211100512419133,2.727809854698502,2.481078852785276,2.23426694723053,1.987374138034264,1.7404004251964786],\"type\":\"scatter\"},{\"fill\":\"tonexty\",\"mode\":\"none\",\"name\":\"Chaudi\\u00e8re gaz\",\"x\":[2021,2022,2023,2024,2025,2026,2027,2028,2029,2030,2031,2032,2033,2034,2035,2036,2037,2038,2039,2040,2041,2042,2043,2044,2045,2046,2047,2048,2049],\"y\":[63.63175414610487,63.48920131829999,61.68235051184904,59.87431805114234,58.065103936179874,55.20658430057216,52.34619889508693,49.483947719724185,46.61983077448393,43.75384805936616,39.73886018037277,35.72126022355086,31.70104818890043,27.67822407642148,23.652787886114012,21.926481485484302,20.199055622928086,18.470510298445358,16.74084551203613,15.010061263700393,13.855458790192227,12.700110008733056,11.544014919322885,10.387173521961705,9.229585816649518,8.650418810017923,8.070878649410824,7.490965334828223,6.9106788662701195],\"type\":\"scatter\"},{\"fill\":\"tonexty\",\"mode\":\"none\",\"name\":\"Chauffage urbain\",\"x\":[2021,2022,2023,2024,2025,2026,2027,2028,2029,2030,2031,2032,2033,2034,2035,2036,2037,2038,2039,2040,2041,2042,2043,2044,2045,2046,2047,2048,2049],\"y\":[68.31986126579562,68.19822310744343,66.65392491830562,65.10607854582472,63.55468399000067,61.09951124394726,58.638736103141554,56.172358567583544,53.700378637273246,51.222796312210654,47.74633770446981,44.262035744075746,40.76989043102847,37.26990176532797,33.76206974697427,32.255351730828444,30.74527227783124,29.23183138798266,27.715029061282706,26.194865297731372,25.179181830796225,24.161257405960164,23.14109202322319,22.118685682585294,21.094038384046478,20.58059425582661,20.066029648656283,19.550344562535496,19.033538997464248],\"type\":\"scatter\"},{\"fill\":\"tonexty\",\"mode\":\"none\",\"name\":\"Chauffage \\u00e9lectrique\",\"x\":[2021,2022,2023,2024,2025,2026,2027,2028,2029,2030,2031,2032,2033,2034,2035,2036,2037,2038,2039,2040,2041,2042,2043,2044,2045,2046,2047,2048,2049],\"y\":[76.95886085086741,76.82039862111522,75.06266089183124,73.30104034345808,71.53553697599568,68.74176931301947,65.94187088306029,63.13584168611813,60.32368172219301,57.505390991284926,53.55120089423744,49.5884277234138,45.61707147881401,41.63713216043806,37.64860976828595,35.9355645686024,34.21884090872908,32.49843878866597,30.77435820841309,29.04659916797042,27.892307500882115,26.73556352700063,25.57636724632596,24.4147186588581,23.25061776459705,22.66734116406993,22.082838410146216,21.497109502825907,20.910154442109004],\"type\":\"scatter\"},{\"fill\":\"tonexty\",\"mode\":\"none\",\"name\":\"Pompes \\u00e0 chaleur air-air\",\"x\":[2021,2022,2023,2024,2025,2026,2027,2028,2029,2030,2031,2032,2033,2034,2035,2036,2037,2038,2039,2040,2041,2042,2043,2044,2045,2046,2047,2048,2049],\"y\":[77.2748751898918,77.14100907908343,75.4411098585293,73.73694882099412,72.0285259664778,69.32428701148193,66.61331887177906,63.89562154736919,61.17119503825235,58.44003934442853,54.607000514485385,50.76454082595246,46.91266027882976,43.05135887311727,39.18063660881501,37.517718127575556,35.850762135511914,34.179768632624075,32.50473761891206,30.825669094375836,29.70359840413556,28.57883604001249,27.451382002006635,26.321236290117977,25.188398904346524,24.6206343745194,24.051524007750878,23.481067804040958,22.90926576338964],\"type\":\"scatter\"},{\"fill\":\"tonexty\",\"mode\":\"none\",\"name\":\"Pompes \\u00e0 chaleur air-eau\",\"x\":[2021,2022,2023,2024,2025,2026,2027,2028,2029,2030,2031,2032,2033,2034,2035,2036,2037,2038,2039,2040,2041,2042,2043,2044,2045,2046,2047,2048,2049],\"y\":[77.68952425483485,77.56062483931255,75.92319316827556,74.28105575615113,72.63421260293923,70.02650382246657,67.41136492448737,64.78879590900166,62.15879677600945,59.521367525510726,55.81856441030339,52.10535913058692,48.38175168636134,44.64774207762663,40.90333030438281,39.29412433106012,37.680460287233515,36.062338172903,34.43975798806859,32.81271973273026,31.725055515502095,30.634419251271332,29.54081094003797,28.444230581801996,27.344678176563413,26.793415950442817,26.240667700820918,25.686433427697718,25.130713131073215],\"type\":\"scatter\"},{\"fill\":\"tonexty\",\"mode\":\"none\",\"name\":\"Pompes \\u00e0 chaleur hybride\",\"x\":[2021,2022,2023,2024,2025,2026,2027,2028,2029,2030,2031,2032,2033,2034,2035,2036,2037,2038,2039,2040,2041,2042,2043,2044,2045,2046,2047,2048,2049],\"y\":[77.68952425483486,77.56062483931254,75.92319316827556,74.28105575615113,72.63421260293923,70.02650382246657,67.41136492448736,64.78879590900166,62.15879677600945,59.521367525510726,55.81856441030339,52.105359130586926,48.38175168636134,44.64774207762664,40.90333030438281,39.29412433106011,37.680460287233515,36.062338172903004,34.439757988068585,32.81271973273026,31.7250555155021,30.634419251271332,29.54081094003797,28.444230581801996,27.344678176563413,26.793415950442817,26.240667700820918,25.686433427697715,25.130713131073215],\"type\":\"scatter\"}],                        {\"template\":{\"data\":{\"histogram2dcontour\":[{\"type\":\"histogram2dcontour\",\"colorbar\":{\"outlinewidth\":0,\"ticks\":\"\"},\"colorscale\":[[0.0,\"#0d0887\"],[0.1111111111111111,\"#46039f\"],[0.2222222222222222,\"#7201a8\"],[0.3333333333333333,\"#9c179e\"],[0.4444444444444444,\"#bd3786\"],[0.5555555555555556,\"#d8576b\"],[0.6666666666666666,\"#ed7953\"],[0.7777777777777778,\"#fb9f3a\"],[0.8888888888888888,\"#fdca26\"],[1.0,\"#f0f921\"]]}],\"choropleth\":[{\"type\":\"choropleth\",\"colorbar\":{\"outlinewidth\":0,\"ticks\":\"\"}}],\"histogram2d\":[{\"type\":\"histogram2d\",\"colorbar\":{\"outlinewidth\":0,\"ticks\":\"\"},\"colorscale\":[[0.0,\"#0d0887\"],[0.1111111111111111,\"#46039f\"],[0.2222222222222222,\"#7201a8\"],[0.3333333333333333,\"#9c179e\"],[0.4444444444444444,\"#bd3786\"],[0.5555555555555556,\"#d8576b\"],[0.6666666666666666,\"#ed7953\"],[0.7777777777777778,\"#fb9f3a\"],[0.8888888888888888,\"#fdca26\"],[1.0,\"#f0f921\"]]}],\"heatmap\":[{\"type\":\"heatmap\",\"colorbar\":{\"outlinewidth\":0,\"ticks\":\"\"},\"colorscale\":[[0.0,\"#0d0887\"],[0.1111111111111111,\"#46039f\"],[0.2222222222222222,\"#7201a8\"],[0.3333333333333333,\"#9c179e\"],[0.4444444444444444,\"#bd3786\"],[0.5555555555555556,\"#d8576b\"],[0.6666666666666666,\"#ed7953\"],[0.7777777777777778,\"#fb9f3a\"],[0.8888888888888888,\"#fdca26\"],[1.0,\"#f0f921\"]]}],\"heatmapgl\":[{\"type\":\"heatmapgl\",\"colorbar\":{\"outlinewidth\":0,\"ticks\":\"\"},\"colorscale\":[[0.0,\"#0d0887\"],[0.1111111111111111,\"#46039f\"],[0.2222222222222222,\"#7201a8\"],[0.3333333333333333,\"#9c179e\"],[0.4444444444444444,\"#bd3786\"],[0.5555555555555556,\"#d8576b\"],[0.6666666666666666,\"#ed7953\"],[0.7777777777777778,\"#fb9f3a\"],[0.8888888888888888,\"#fdca26\"],[1.0,\"#f0f921\"]]}],\"contourcarpet\":[{\"type\":\"contourcarpet\",\"colorbar\":{\"outlinewidth\":0,\"ticks\":\"\"}}],\"contour\":[{\"type\":\"contour\",\"colorbar\":{\"outlinewidth\":0,\"ticks\":\"\"},\"colorscale\":[[0.0,\"#0d0887\"],[0.1111111111111111,\"#46039f\"],[0.2222222222222222,\"#7201a8\"],[0.3333333333333333,\"#9c179e\"],[0.4444444444444444,\"#bd3786\"],[0.5555555555555556,\"#d8576b\"],[0.6666666666666666,\"#ed7953\"],[0.7777777777777778,\"#fb9f3a\"],[0.8888888888888888,\"#fdca26\"],[1.0,\"#f0f921\"]]}],\"surface\":[{\"type\":\"surface\",\"colorbar\":{\"outlinewidth\":0,\"ticks\":\"\"},\"colorscale\":[[0.0,\"#0d0887\"],[0.1111111111111111,\"#46039f\"],[0.2222222222222222,\"#7201a8\"],[0.3333333333333333,\"#9c179e\"],[0.4444444444444444,\"#bd3786\"],[0.5555555555555556,\"#d8576b\"],[0.6666666666666666,\"#ed7953\"],[0.7777777777777778,\"#fb9f3a\"],[0.8888888888888888,\"#fdca26\"],[1.0,\"#f0f921\"]]}],\"mesh3d\":[{\"type\":\"mesh3d\",\"colorbar\":{\"outlinewidth\":0,\"ticks\":\"\"}}],\"scatter\":[{\"fillpattern\":{\"fillmode\":\"overlay\",\"size\":10,\"solidity\":0.2},\"type\":\"scatter\"}],\"parcoords\":[{\"type\":\"parcoords\",\"line\":{\"colorbar\":{\"outlinewidth\":0,\"ticks\":\"\"}}}],\"scatterpolargl\":[{\"type\":\"scatterpolargl\",\"marker\":{\"colorbar\":{\"outlinewidth\":0,\"ticks\":\"\"}}}],\"bar\":[{\"error_x\":{\"color\":\"#2a3f5f\"},\"error_y\":{\"color\":\"#2a3f5f\"},\"marker\":{\"line\":{\"color\":\"#E5ECF6\",\"width\":0.5},\"pattern\":{\"fillmode\":\"overlay\",\"size\":10,\"solidity\":0.2}},\"type\":\"bar\"}],\"scattergeo\":[{\"type\":\"scattergeo\",\"marker\":{\"colorbar\":{\"outlinewidth\":0,\"ticks\":\"\"}}}],\"scatterpolar\":[{\"type\":\"scatterpolar\",\"marker\":{\"colorbar\":{\"outlinewidth\":0,\"ticks\":\"\"}}}],\"histogram\":[{\"marker\":{\"pattern\":{\"fillmode\":\"overlay\",\"size\":10,\"solidity\":0.2}},\"type\":\"histogram\"}],\"scattergl\":[{\"type\":\"scattergl\",\"marker\":{\"colorbar\":{\"outlinewidth\":0,\"ticks\":\"\"}}}],\"scatter3d\":[{\"type\":\"scatter3d\",\"line\":{\"colorbar\":{\"outlinewidth\":0,\"ticks\":\"\"}},\"marker\":{\"colorbar\":{\"outlinewidth\":0,\"ticks\":\"\"}}}],\"scattermapbox\":[{\"type\":\"scattermapbox\",\"marker\":{\"colorbar\":{\"outlinewidth\":0,\"ticks\":\"\"}}}],\"scatterternary\":[{\"type\":\"scatterternary\",\"marker\":{\"colorbar\":{\"outlinewidth\":0,\"ticks\":\"\"}}}],\"scattercarpet\":[{\"type\":\"scattercarpet\",\"marker\":{\"colorbar\":{\"outlinewidth\":0,\"ticks\":\"\"}}}],\"carpet\":[{\"aaxis\":{\"endlinecolor\":\"#2a3f5f\",\"gridcolor\":\"white\",\"linecolor\":\"white\",\"minorgridcolor\":\"white\",\"startlinecolor\":\"#2a3f5f\"},\"baxis\":{\"endlinecolor\":\"#2a3f5f\",\"gridcolor\":\"white\",\"linecolor\":\"white\",\"minorgridcolor\":\"white\",\"startlinecolor\":\"#2a3f5f\"},\"type\":\"carpet\"}],\"table\":[{\"cells\":{\"fill\":{\"color\":\"#EBF0F8\"},\"line\":{\"color\":\"white\"}},\"header\":{\"fill\":{\"color\":\"#C8D4E3\"},\"line\":{\"color\":\"white\"}},\"type\":\"table\"}],\"barpolar\":[{\"marker\":{\"line\":{\"color\":\"#E5ECF6\",\"width\":0.5},\"pattern\":{\"fillmode\":\"overlay\",\"size\":10,\"solidity\":0.2}},\"type\":\"barpolar\"}],\"pie\":[{\"automargin\":true,\"type\":\"pie\"}]},\"layout\":{\"autotypenumbers\":\"strict\",\"colorway\":[\"#636efa\",\"#EF553B\",\"#00cc96\",\"#ab63fa\",\"#FFA15A\",\"#19d3f3\",\"#FF6692\",\"#B6E880\",\"#FF97FF\",\"#FECB52\"],\"font\":{\"color\":\"#2a3f5f\"},\"hovermode\":\"closest\",\"hoverlabel\":{\"align\":\"left\"},\"paper_bgcolor\":\"white\",\"plot_bgcolor\":\"#E5ECF6\",\"polar\":{\"bgcolor\":\"#E5ECF6\",\"angularaxis\":{\"gridcolor\":\"white\",\"linecolor\":\"white\",\"ticks\":\"\"},\"radialaxis\":{\"gridcolor\":\"white\",\"linecolor\":\"white\",\"ticks\":\"\"}},\"ternary\":{\"bgcolor\":\"#E5ECF6\",\"aaxis\":{\"gridcolor\":\"white\",\"linecolor\":\"white\",\"ticks\":\"\"},\"baxis\":{\"gridcolor\":\"white\",\"linecolor\":\"white\",\"ticks\":\"\"},\"caxis\":{\"gridcolor\":\"white\",\"linecolor\":\"white\",\"ticks\":\"\"}},\"coloraxis\":{\"colorbar\":{\"outlinewidth\":0,\"ticks\":\"\"}},\"colorscale\":{\"sequential\":[[0.0,\"#0d0887\"],[0.1111111111111111,\"#46039f\"],[0.2222222222222222,\"#7201a8\"],[0.3333333333333333,\"#9c179e\"],[0.4444444444444444,\"#bd3786\"],[0.5555555555555556,\"#d8576b\"],[0.6666666666666666,\"#ed7953\"],[0.7777777777777778,\"#fb9f3a\"],[0.8888888888888888,\"#fdca26\"],[1.0,\"#f0f921\"]],\"sequentialminus\":[[0.0,\"#0d0887\"],[0.1111111111111111,\"#46039f\"],[0.2222222222222222,\"#7201a8\"],[0.3333333333333333,\"#9c179e\"],[0.4444444444444444,\"#bd3786\"],[0.5555555555555556,\"#d8576b\"],[0.6666666666666666,\"#ed7953\"],[0.7777777777777778,\"#fb9f3a\"],[0.8888888888888888,\"#fdca26\"],[1.0,\"#f0f921\"]],\"diverging\":[[0,\"#8e0152\"],[0.1,\"#c51b7d\"],[0.2,\"#de77ae\"],[0.3,\"#f1b6da\"],[0.4,\"#fde0ef\"],[0.5,\"#f7f7f7\"],[0.6,\"#e6f5d0\"],[0.7,\"#b8e186\"],[0.8,\"#7fbc41\"],[0.9,\"#4d9221\"],[1,\"#276419\"]]},\"xaxis\":{\"gridcolor\":\"white\",\"linecolor\":\"white\",\"ticks\":\"\",\"title\":{\"standoff\":15},\"zerolinecolor\":\"white\",\"automargin\":true,\"zerolinewidth\":2},\"yaxis\":{\"gridcolor\":\"white\",\"linecolor\":\"white\",\"ticks\":\"\",\"title\":{\"standoff\":15},\"zerolinecolor\":\"white\",\"automargin\":true,\"zerolinewidth\":2},\"scene\":{\"xaxis\":{\"backgroundcolor\":\"#E5ECF6\",\"gridcolor\":\"white\",\"linecolor\":\"white\",\"showbackground\":true,\"ticks\":\"\",\"zerolinecolor\":\"white\",\"gridwidth\":2},\"yaxis\":{\"backgroundcolor\":\"#E5ECF6\",\"gridcolor\":\"white\",\"linecolor\":\"white\",\"showbackground\":true,\"ticks\":\"\",\"zerolinecolor\":\"white\",\"gridwidth\":2},\"zaxis\":{\"backgroundcolor\":\"#E5ECF6\",\"gridcolor\":\"white\",\"linecolor\":\"white\",\"showbackground\":true,\"ticks\":\"\",\"zerolinecolor\":\"white\",\"gridwidth\":2}},\"shapedefaults\":{\"line\":{\"color\":\"#2a3f5f\"}},\"annotationdefaults\":{\"arrowcolor\":\"#2a3f5f\",\"arrowhead\":0,\"arrowwidth\":1},\"geo\":{\"bgcolor\":\"white\",\"landcolor\":\"#E5ECF6\",\"subunitcolor\":\"white\",\"showland\":true,\"showlakes\":true,\"lakecolor\":\"white\"},\"title\":{\"x\":0.05},\"mapbox\":{\"style\":\"light\"}}},\"xaxis\":{\"rangeslider\":{\"visible\":true},\"title\":{\"text\":\"Ann\\u00e9e\"}},\"title\":{\"text\":\"Emissions de GES par mode de chauffage (en MtCO2e)\"},\"yaxis\":{\"title\":{\"text\":\"Emissions [MtCO2e]\"}}},                        {\"responsive\": true}                    ).then(function(){\n                            \nvar gd = document.getElementById('2a1ac950-f724-4617-9133-73fbcc7dcadf');\nvar x = new MutationObserver(function (mutations, observer) {{\n        var display = window.getComputedStyle(gd).display;\n        if (!display || display === 'none') {{\n            console.log([gd, 'removed!']);\n            Plotly.purge(gd);\n            observer.disconnect();\n        }}\n}});\n\n// Listen for the removal of the full notebook cells\nvar notebookContainer = gd.closest('#notebook-container');\nif (notebookContainer) {{\n    x.observe(notebookContainer, {childList: true});\n}}\n\n// Listen for the clearing of the current output cell\nvar outputEl = gd.closest('.output');\nif (outputEl) {{\n    x.observe(outputEl, {childList: true});\n}}\n\n                        })                };                });            </script>        </div>"
     },
     "metadata": {},
     "output_type": "display_data"
    }
   ],
   "source": [
    "Var = \"emissions\"\n",
    "y_df = sim_stock_df.groupby([\"year\", \"Energy_source\"])[Var].sum().to_frame().reset_index(). \\\n",
    "           pivot(index=['year'], columns='Energy_source').loc[[year for year in sim_param[\"years\"][1:]], Var] / 10 ** 12\n",
    "\n",
    "fig = MyStackedPlotly(y_df=y_df)\n",
    "fig = fig.update_layout(title_text=\"Emissions de GES par mode de chauffage (en MtCO2e)\", xaxis_title=\"Année\",\n",
    "                        yaxis_title=\"Emissions [MtCO2e]\")\n",
    "fig.show()"
   ]
  },
  {
   "cell_type": "markdown",
   "metadata": {
    "pycharm": {
     "name": "#%% md\n"
    }
   },
   "source": [
    "One key indicator of the decarbonization pathways is the reduction of GHG emissions. In the case of this first scenario, we can vizualize the following key indicators:"
   ]
  },
  {
   "cell_type": "code",
   "execution_count": 52,
   "metadata": {
    "pycharm": {
     "name": "#%%\n"
    }
   },
   "outputs": [
    {
     "name": "stdout",
     "output_type": "stream",
     "text": [
      "Réduction des émissions de GES: 65.13%\n",
      "Réduction de la consommation: 43.22%\n",
      "Réduction du besoin: 23.27%\n"
     ]
    }
   ],
   "source": [
    "emission_reduction=sim_stock_df.copy().reset_index()\n",
    "emission_reduction=(initial_emissions-emission_reduction[emission_reduction[\"year\"]==2049][\"emissions\"].sum()/10**12)/initial_emissions\n",
    "\n",
    "energy_cons_reduction=sim_stock_df.copy().reset_index()\n",
    "energy_cons_reduction=(initial_consumption-energy_cons_reduction[energy_cons_reduction[\"year\"]==2049][\"Conso\"].sum()/10**9)/initial_consumption\n",
    "\n",
    "energy_need_reduction=sim_stock_df.copy().reset_index()\n",
    "energy_need_reduction=(initial_need-energy_need_reduction[energy_need_reduction[\"year\"]==2049][\"Besoin\"].sum()/10**9)/initial_need\n",
    "\n",
    "print(\"Réduction des émissions de GES: \" + str(np.round(emission_reduction*100,2)) + \"%\")\n",
    "print(\"Réduction de la consommation: \" + str(np.round(energy_cons_reduction*100,2)) + \"%\")\n",
    "print(\"Réduction du besoin: \" + str(np.round(energy_need_reduction*100,2)) + \"%\")\n"
   ]
  },
  {
   "cell_type": "markdown",
   "metadata": {
    "pycharm": {
     "name": "#%% md\n"
    }
   },
   "source": [
    "### 3.2 Achieving SNBC objectives through electrification <a class=\"anchor\" id=\"electrification\"></a>\n",
    "The french national decarbonisation strategy targets to reduce by 95% emissions from heating by 2050 (respect to 2015).\n",
    "As you can observe in the previous graphs, the SNBC objectives are not met by the proposed scenario.\n",
    "One way of reducing heating emissions is the electrification of heating systems. By modifying the following proportions, propose a scenario with a strong electricity penetration (electric heating, heat pumps) which fulfills the SNBC objectives:"
   ]
  },
  {
   "cell_type": "code",
   "execution_count": 53,
   "metadata": {
    "pycharm": {
     "name": "#%%\n"
    }
   },
   "outputs": [],
   "source": [
    "from_gasboiler_to_electric=0.3\n",
    "from_gasboiler_to_AA_HP=0.4\n",
    "from_gasboiler_to_AW_HP=0.3\n",
    "\n",
    "from_network_to_electric=0\n",
    "from_network_to_AA_HP=0\n",
    "from_network_to_AW_HP=0\n"
   ]
  },
  {
   "cell_type": "code",
   "execution_count": 54,
   "metadata": {
    "pycharm": {
     "name": "#%%\n"
    }
   },
   "outputs": [],
   "source": [
    "test=sim_param['retrofit_Transition'].copy()\n",
    "gasboiler_to_electric=test.loc[[\"Chaudière gaz\"]].rename(index={'Chaudière gaz':'Chauffage électrique'})\n",
    "gasboiler_to_AA_HP=test.loc[[\"Chaudière gaz\"]].rename(index={'Chaudière gaz':'Pompes à chaleur air-air'})\n",
    "gasboiler_to_AW_HP=test.loc[[\"Chaudière gaz\"]].rename(index={'Chaudière gaz':'Pompes à chaleur air-eau'})\n",
    "\n",
    "network_to_electric=test.loc[[\"Chauffage urbain\"]].rename(index={'Chauffage urbain':'Chauffage électrique'})\n",
    "network_to_AA_HP=test.loc[[\"Chauffage urbain\"]].rename(index={'Chauffage urbain':'Pompes à chaleur air-air'})\n",
    "network_to_AW_HP=test.loc[[\"Chauffage urbain\"]].rename(index={'Chauffage urbain':'Pompes à chaleur air-eau'})\n",
    "\n",
    "\n",
    "test.loc[[\"Chauffage électrique\"]]=test.loc[[\"Chauffage électrique\"]]+gasboiler_to_electric*from_gasboiler_to_electric+network_to_electric*from_network_to_electric\n",
    "test.loc[[\"Pompes à chaleur air-air\"]]=test.loc[[\"Pompes à chaleur air-air\"]]+gasboiler_to_AA_HP*from_gasboiler_to_AA_HP+network_to_AA_HP*from_network_to_AA_HP\n",
    "test.loc[[\"Pompes à chaleur air-eau\"]]=test.loc[[\"Pompes à chaleur air-eau\"]]+gasboiler_to_AW_HP*from_gasboiler_to_AW_HP+network_to_AW_HP*from_network_to_AW_HP\n",
    "\n",
    "test.loc[['Chaudière gaz']]=test.loc[['Chaudière gaz']]*(1-(from_gasboiler_to_electric+from_gasboiler_to_AA_HP+from_gasboiler_to_AW_HP))\n",
    "test.loc[['Chauffage urbain']]=test.loc[[\"Chauffage urbain\"]]*(1-(from_network_to_electric+from_network_to_AA_HP+from_network_to_AW_HP))\n",
    "test.loc[[\"Chauffage électrique\"]]\n",
    "\n",
    "sim_param['retrofit_Transition']=test.copy()\n"
   ]
  },
  {
   "cell_type": "code",
   "execution_count": 55,
   "metadata": {
    "pycharm": {
     "name": "#%%\n"
    }
   },
   "outputs": [
    {
     "name": "stdout",
     "output_type": "stream",
     "text": [
      "Computing: [########################################] 29/29\r\n",
      "\n"
     ]
    }
   ],
   "source": [
    "sim_stock_new = launch_simulation(sim_param)"
   ]
  },
  {
   "cell_type": "code",
   "execution_count": 56,
   "metadata": {
    "pycharm": {
     "name": "#%%\n"
    }
   },
   "outputs": [],
   "source": [
    "sim_stock_new_df = pd.concat(sim_stock_new, axis=0).reset_index().\\\n",
    "    rename(columns={\"level_0\":\"year\"}).set_index([ \"year\"  ,  \"Energy_source\"  , \"old_new\"])"
   ]
  },
  {
   "cell_type": "code",
   "execution_count": 57,
   "metadata": {
    "pycharm": {
     "name": "#%%\n"
    }
   },
   "outputs": [
    {
     "name": "stdout",
     "output_type": "stream",
     "text": [
      "Réduction des émissions de GES: 70.43%\n",
      "Réduction de la consommation: 45.57%\n",
      "Réduction du besoin: 23.7%\n"
     ]
    }
   ],
   "source": [
    "emission_reduction=sim_stock_new_df.copy().reset_index()\n",
    "emission_reduction=(initial_emissions-emission_reduction[emission_reduction[\"year\"]==2049][\"emissions\"].sum()/10**12)/initial_emissions\n",
    "\n",
    "energy_cons_reduction=sim_stock_new_df.copy().reset_index()\n",
    "energy_cons_reduction=(initial_consumption-energy_cons_reduction[energy_cons_reduction[\"year\"]==2049][\"Conso\"].sum()/10**9)/initial_consumption\n",
    "\n",
    "energy_need_reduction=sim_stock_new_df.copy().reset_index()\n",
    "energy_need_reduction=(initial_need-energy_need_reduction[energy_need_reduction[\"year\"]==2049][\"Besoin\"].sum()/10**9)/initial_need\n",
    "\n",
    "print(\"Réduction des émissions de GES: \" + str(np.round(emission_reduction*100,2)) + \"%\")\n",
    "print(\"Réduction de la consommation: \" + str(np.round(energy_cons_reduction*100,2)) + \"%\")\n",
    "print(\"Réduction du besoin: \" + str(np.round(energy_need_reduction*100,2)) + \"%\")\n"
   ]
  },
  {
   "cell_type": "code",
   "execution_count": 58,
   "metadata": {
    "pycharm": {
     "name": "#%%\n"
    }
   },
   "outputs": [
    {
     "name": "stdout",
     "output_type": "stream",
     "text": [
      "Termosensibilité: 3.41GW/°C\n",
      "Augmentation du pic électrique: +68.3%\n"
     ]
    }
   ],
   "source": [
    "final_stock=sim_stock_new_df.copy().reset_index()\n",
    "final_stock\n",
    "themosensitivity=np.sum(final_stock[final_stock[\"year\"]==2049]['electrical_peak']/10**9)\n",
    "print(\"Termosensibilité: \" + str(np.round(themosensitivity,2)) + \"GW/°C\")\n",
    "peak_power=themosensitivity*(15-T_base)\n",
    "print(\"Augmentation du pic électrique: +\" + str(np.round(peak_power,1)) +\"%\")"
   ]
  },
  {
   "cell_type": "markdown",
   "metadata": {
    "pycharm": {
     "name": "#%% md\n"
    }
   },
   "source": [
    "### 3.3 Technical constraints and alternative paths <a class=\"anchor\" id=\"alternatives\"></a>\n",
    "Electrification comes with some technical constraints, such as the thermosensitivity (electrical peak in winter) and the energy volume available. Check if the scenario you previouly defined is compatible with french electrical grid and power production assets.\n",
    "\n",
    "\n",
    "Two main solutions can be discussed to reduce the heating peak demand while staying compatible with SNBC targets: hybrid heat pumps (which are basically a heat pump with a gas boiler providing heat during the coldest days of the year) and the use of biogas to keep a high share of gas boilers in the heating systems mix.\n",
    "You can design two scenarios for both options, and discuss the results\n",
    "\n",
    "\n",
    "## 4. Input data structure <a class=\"anchor\" id=\"inputdata\"></a>\n",
    "\n",
    "All the data input are stored in the excel file data/Hypotheses_tertiaire_1D.xlsx. There are different excel sheets in the document, each of which represents input data indexed on different variables.\n",
    "\n",
    "### 4.1. Global 0-Dim inputs\n",
    "In this first sheet, global 0D values are defined:\n",
    "- Initial state of the building stock: the heat need of existing buildings and the share of need due to space heating\n",
    "- Parameters of newly built buildings: the heat need of new buildings and the area of newly build buildings per year\n",
    "- Horizon parameters such as the start and end date of the simulation and the final retrofited share\n",
    "\n",
    "### 4.2. Inputs indexed by Energy-source\n",
    "Some values are indexed by the energy source, such as:\n",
    "- The initial surface heated by each energy source\n",
    "- The energy repartition by fuel, including efficiency and energy share along the year (for hybrid systems)\n",
    "- The surface to be retrofitted by energy source. These surfaces are estimated to guarantee that 100% of buildings are retrofitted by 2050.\n",
    "\n",
    "\n",
    "### 4.3. Input indexed by year\n",
    "\n",
    "### 4.4. Inputs indexed by Energy-source x\n",
    "\n",
    "### 4.5. Retrofit transition matrix"
   ]
  }
 ],
 "metadata": {
  "kernelspec": {
   "display_name": "energyalternatives",
   "language": "python",
   "name": "energyalternatives"
  },
  "language_info": {
   "codemirror_mode": {
    "name": "ipython",
    "version": 3
   },
   "file_extension": ".py",
   "mimetype": "text/x-python",
   "name": "python",
   "nbconvert_exporter": "python",
   "pygments_lexer": "ipython3",
   "version": "3.10.2"
  }
 },
 "nbformat": 4,
 "nbformat_minor": 1
}