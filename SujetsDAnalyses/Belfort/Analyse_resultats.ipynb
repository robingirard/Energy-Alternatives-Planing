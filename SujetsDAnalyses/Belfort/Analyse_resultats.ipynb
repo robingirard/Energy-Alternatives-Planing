{
 "cells": [
  {
   "cell_type": "code",
   "execution_count": 1,
   "id": "7878b15d",
   "metadata": {},
   "outputs": [],
   "source": [
    "import pickle\n",
    "import pandas as pd\n",
    "from datetime import timedelta\n",
    "import numpy as np"
   ]
  },
  {
   "cell_type": "code",
   "execution_count": 73,
   "id": "57950e02",
   "metadata": {},
   "outputs": [],
   "source": [
    "year=2030\n",
    "nuc=\"nuclear_plus\"\n",
    "bati_hyp=\"ref\"\n",
    "reindus=\"reindus\"\n",
    "with open(\"Results_\"+str(year)+\"_\"+nuc+\"_\"+bati_hyp+\"_\"+reindus+\".pickle\", 'rb') as f:\n",
    "    Variables=pickle.load(f)"
   ]
  },
  {
   "cell_type": "code",
   "execution_count": 74,
   "id": "476754c2",
   "metadata": {},
   "outputs": [
    {
     "name": "stdout",
     "output_type": "stream",
     "text": [
      "{'power_Dvar':                       TIME   TECHNOLOGIES    power_Dvar\n",
      "0      2019-02-28 02:00:00        OldNuke  47720.000000\n",
      "1      2019-02-28 02:00:00  NewHydroRiver     51.510104\n",
      "2      2019-02-28 02:00:00            CCG      0.000000\n",
      "3      2019-02-28 02:00:00   WindOffShore   2665.820000\n",
      "4      2019-02-28 02:00:00          Solar      0.000000\n",
      "...                    ...            ...           ...\n",
      "113875 2019-02-09 04:00:00        NewNuke    792.000000\n",
      "113876 2019-02-09 04:00:00     HydroRiver   5314.582954\n",
      "113877 2019-02-09 04:00:00    WindOnShore   3781.440000\n",
      "113878 2019-02-09 04:00:00        Biomass      0.000000\n",
      "113879 2019-02-09 04:00:00    curtailment      0.000000\n",
      "\n",
      "[113880 rows x 3 columns], 'energy_Pvar':                     TIME   energy_Pvar\n",
      "0    2019-02-28 02:00:00  58985.859394\n",
      "1    2019-07-07 08:00:00  40120.687216\n",
      "2    2019-01-31 02:00:00  73843.107587\n",
      "3    2019-07-29 10:00:00  52473.832361\n",
      "4    2019-03-15 18:00:00  69015.956999\n",
      "...                  ...           ...\n",
      "8755 2019-10-26 03:00:00  48502.652271\n",
      "8756 2019-12-13 10:00:00  82082.503679\n",
      "8757 2019-11-25 21:00:00  67501.188365\n",
      "8758 2019-05-27 08:00:00  50632.596018\n",
      "8759 2019-02-09 04:00:00  38923.168269\n",
      "\n",
      "[8760 rows x 2 columns], 'powerCosts_Pvar':       TECHNOLOGIES  powerCosts_Pvar\n",
      "0          OldNuke     3.412259e+09\n",
      "1    NewHydroRiver     0.000000e+00\n",
      "2              CCG     4.657402e+08\n",
      "3     WindOffShore     0.000000e+00\n",
      "4            Solar     0.000000e+00\n",
      "5             Coal    -0.000000e+00\n",
      "6              TAC    -0.000000e+00\n",
      "7   HydroReservoir     0.000000e+00\n",
      "8          NewNuke     1.073441e+08\n",
      "9       HydroRiver     0.000000e+00\n",
      "10     WindOnShore     0.000000e+00\n",
      "11         Biomass     2.395416e+08\n",
      "12     curtailment    -0.000000e+00, 'capacity_Dvar':       TECHNOLOGIES  capacity_Dvar\n",
      "0          OldNuke   59430.000000\n",
      "1    NewHydroRiver     102.649223\n",
      "2              CCG   12664.000000\n",
      "3     WindOffShore    8200.000000\n",
      "4            Solar   40600.000000\n",
      "5             Coal       0.000000\n",
      "6              TAC       0.000000\n",
      "7   HydroReservoir    8785.000000\n",
      "8          NewNuke    1650.000000\n",
      "9       HydroRiver   11030.000000\n",
      "10     WindOnShore   23400.000000\n",
      "11         Biomass    2031.000000\n",
      "12     curtailment       0.000000, 'capacityCosts_Pvar':       TECHNOLOGIES  capacityCosts_Pvar\n",
      "0          OldNuke        1.293701e+10\n",
      "1    NewHydroRiver        1.678385e+07\n",
      "2              CCG        1.040384e+09\n",
      "3     WindOffShore        1.625054e+09\n",
      "4            Solar        3.295287e+09\n",
      "5             Coal       -0.000000e+00\n",
      "6              TAC       -0.000000e+00\n",
      "7   HydroReservoir        6.200264e+08\n",
      "8          NewNuke        1.002867e+09\n",
      "9       HydroRiver        9.973124e+08\n",
      "10     WindOnShore        2.547323e+09\n",
      "11         Biomass        4.911315e+08\n",
      "12     curtailment        0.000000e+00, 'storageIn_Pvar':                      TIME      STOCK_TECHNO  storageIn_Pvar\n",
      "0     2019-02-28 02:00:00           Battery        0.000000\n",
      "1     2019-02-28 02:00:00      HydroStorage        0.000000\n",
      "2     2019-02-28 02:00:00  PowertoH2toPower     6537.562554\n",
      "3     2019-07-07 08:00:00           Battery        0.000000\n",
      "4     2019-07-07 08:00:00      HydroStorage        0.000000\n",
      "...                   ...               ...             ...\n",
      "26275 2019-05-27 08:00:00      HydroStorage        0.000000\n",
      "26276 2019-05-27 08:00:00  PowertoH2toPower     6537.562554\n",
      "26277 2019-02-09 04:00:00           Battery        0.000000\n",
      "26278 2019-02-09 04:00:00      HydroStorage        0.000000\n",
      "26279 2019-02-09 04:00:00  PowertoH2toPower     6537.562554\n",
      "\n",
      "[26280 rows x 3 columns], 'storageOut_Pvar':                      TIME      STOCK_TECHNO  storageOut_Pvar\n",
      "0     2019-02-28 02:00:00           Battery              0.0\n",
      "1     2019-02-28 02:00:00      HydroStorage              0.0\n",
      "2     2019-02-28 02:00:00  PowertoH2toPower              0.0\n",
      "3     2019-07-07 08:00:00           Battery              0.0\n",
      "4     2019-07-07 08:00:00      HydroStorage              0.0\n",
      "...                   ...               ...              ...\n",
      "26275 2019-05-27 08:00:00      HydroStorage              0.0\n",
      "26276 2019-05-27 08:00:00  PowertoH2toPower              0.0\n",
      "26277 2019-02-09 04:00:00           Battery              0.0\n",
      "26278 2019-02-09 04:00:00      HydroStorage              0.0\n",
      "26279 2019-02-09 04:00:00  PowertoH2toPower              0.0\n",
      "\n",
      "[26280 rows x 3 columns], 'stockLevel_Pvar':                      TIME      STOCK_TECHNO  stockLevel_Pvar\n",
      "0     2019-02-28 02:00:00           Battery      6155.248076\n",
      "1     2019-02-28 02:00:00      HydroStorage     58644.250712\n",
      "2     2019-02-28 02:00:00  PowertoH2toPower    140173.722973\n",
      "3     2019-07-07 08:00:00           Battery     13934.354750\n",
      "4     2019-07-07 08:00:00      HydroStorage     13654.981547\n",
      "...                   ...               ...              ...\n",
      "26275 2019-05-27 08:00:00      HydroStorage     57568.680987\n",
      "26276 2019-05-27 08:00:00  PowertoH2toPower    760841.154318\n",
      "26277 2019-02-09 04:00:00           Battery      7530.076650\n",
      "26278 2019-02-09 04:00:00      HydroStorage     47938.524409\n",
      "26279 2019-02-09 04:00:00  PowertoH2toPower    449060.877850\n",
      "\n",
      "[26280 rows x 3 columns], 'stockLevel_ini_Dvar':        STOCK_TECHNO  stockLevel_ini_Dvar\n",
      "0           Battery         2.399352e+04\n",
      "1      HydroStorage         8.359464e+04\n",
      "2  PowertoH2toPower         1.331982e+06, 'storageCosts_Pvar':        STOCK_TECHNO  storageCosts_Pvar\n",
      "0           Battery       8.293437e+08\n",
      "1      HydroStorage       4.874806e+08\n",
      "2  PowertoH2toPower       2.151005e+09, 'Pmax_in_Dvar':        STOCK_TECHNO  Pmax_in_Dvar\n",
      "0           Battery   9212.356899\n",
      "1      HydroStorage   5049.000000\n",
      "2  PowertoH2toPower   6537.562554, 'Pmax_out_Dvar':        STOCK_TECHNO  Pmax_out_Dvar\n",
      "0           Battery    9212.356899\n",
      "1      HydroStorage    5049.000000\n",
      "2  PowertoH2toPower    9546.599866, 'Cmax_Pvar':        STOCK_TECHNO     Cmax_Pvar\n",
      "0           Battery  2.399352e+04\n",
      "1      HydroStorage  9.088200e+04\n",
      "2  PowertoH2toPower  2.048751e+06, 'flexCosts_Pvar':   FLEX_CONSUM  flexCosts_Pvar\n",
      "0          EV    0.000000e+00\n",
      "1       Steel   -7.900519e+07, 'total_consumption_Pvar':                     TIME  total_consumption_Pvar\n",
      "0    2019-02-28 02:00:00            58985.859394\n",
      "1    2019-07-07 08:00:00            40120.687216\n",
      "2    2019-01-31 02:00:00            73843.107587\n",
      "3    2019-07-29 10:00:00            52473.832361\n",
      "4    2019-03-15 18:00:00            69015.956999\n",
      "...                  ...                     ...\n",
      "8755 2019-10-26 03:00:00            48502.652271\n",
      "8756 2019-12-13 10:00:00            82082.503679\n",
      "8757 2019-11-25 21:00:00            67501.188365\n",
      "8758 2019-05-27 08:00:00            50632.596018\n",
      "8759 2019-02-09 04:00:00            38923.168269\n",
      "\n",
      "[8760 rows x 2 columns], 'flex_consumption_Pvar':                      TIME FLEX_CONSUM  flex_consumption_Pvar\n",
      "0     2019-02-28 02:00:00          EV            4277.407561\n",
      "1     2019-02-28 02:00:00       Steel            4916.722055\n",
      "2     2019-07-07 08:00:00          EV             358.398962\n",
      "3     2019-07-07 08:00:00       Steel            4700.925381\n",
      "4     2019-01-31 02:00:00          EV               0.000000\n",
      "...                   ...         ...                    ...\n",
      "17515 2019-11-25 21:00:00       Steel            4916.722055\n",
      "17516 2019-05-27 08:00:00          EV             246.735867\n",
      "17517 2019-05-27 08:00:00       Steel            4916.722055\n",
      "17518 2019-02-09 04:00:00          EV            7492.679180\n",
      "17519 2019-02-09 04:00:00       Steel             264.540979\n",
      "\n",
      "[17520 rows x 3 columns], 'a_plus_Pvar':                      TIME FLEX_CONSUM  a_plus_Pvar\n",
      "0     2019-02-28 02:00:00          EV  3139.087090\n",
      "1     2019-02-28 02:00:00       Steel  1623.338900\n",
      "2     2019-07-07 08:00:00          EV     0.000000\n",
      "3     2019-07-07 08:00:00       Steel  2226.754128\n",
      "4     2019-01-31 02:00:00          EV     0.000000\n",
      "...                   ...         ...          ...\n",
      "17515 2019-11-25 21:00:00       Steel  1641.162859\n",
      "17516 2019-05-27 08:00:00          EV     0.000000\n",
      "17517 2019-05-27 08:00:00       Steel  1822.181790\n",
      "17518 2019-02-09 04:00:00          EV  6894.493710\n",
      "17519 2019-02-09 04:00:00       Steel     0.000000\n",
      "\n",
      "[17520 rows x 3 columns], 'a_minus_Pvar':                      TIME FLEX_CONSUM  a_minus_Pvar\n",
      "0     2019-02-28 02:00:00          EV     -0.000000\n",
      "1     2019-02-28 02:00:00       Steel      0.000000\n",
      "2     2019-07-07 08:00:00          EV     -0.000000\n",
      "3     2019-07-07 08:00:00       Steel      0.000000\n",
      "4     2019-01-31 02:00:00          EV   1238.213945\n",
      "...                   ...         ...           ...\n",
      "17515 2019-11-25 21:00:00       Steel      0.000000\n",
      "17516 2019-05-27 08:00:00          EV    246.735867\n",
      "17517 2019-05-27 08:00:00       Steel      0.000000\n",
      "17518 2019-02-09 04:00:00          EV     -0.000000\n",
      "17519 2019-02-09 04:00:00       Steel   2380.868808\n",
      "\n",
      "[17520 rows x 3 columns], 'flex_Dvar':                      TIME FLEX_CONSUM  flex_Dvar\n",
      "0     2019-02-28 02:00:00          EV  -2.757648\n",
      "1     2019-02-28 02:00:00       Steel  -0.492909\n",
      "2     2019-07-07 08:00:00          EV   0.000000\n",
      "3     2019-07-07 08:00:00       Steel  -0.900000\n",
      "4     2019-01-31 02:00:00          EV   1.000000\n",
      "...                   ...         ...        ...\n",
      "17515 2019-11-25 21:00:00       Steel  -0.501033\n",
      "17516 2019-05-27 08:00:00          EV   0.500000\n",
      "17517 2019-05-27 08:00:00       Steel  -0.588838\n",
      "17518 2019-02-09 04:00:00          EV -11.525679\n",
      "17519 2019-02-09 04:00:00       Steel   0.900000\n",
      "\n",
      "[17520 rows x 3 columns], 'increased_max_power_Dvar':   FLEX_CONSUM  increased_max_power_Dvar\n",
      "0          EV                      -0.0\n",
      "1       Steel                       0.0}\n"
     ]
    }
   ],
   "source": [
    "print(Variables)"
   ]
  },
  {
   "cell_type": "markdown",
   "id": "1c24b0c0",
   "metadata": {},
   "source": [
    "# 1. Capacity "
   ]
  },
  {
   "cell_type": "code",
   "execution_count": 75,
   "id": "446903cb",
   "metadata": {},
   "outputs": [
    {
     "data": {
      "text/html": [
       "<div>\n",
       "<style scoped>\n",
       "    .dataframe tbody tr th:only-of-type {\n",
       "        vertical-align: middle;\n",
       "    }\n",
       "\n",
       "    .dataframe tbody tr th {\n",
       "        vertical-align: top;\n",
       "    }\n",
       "\n",
       "    .dataframe thead th {\n",
       "        text-align: right;\n",
       "    }\n",
       "</style>\n",
       "<table border=\"1\" class=\"dataframe\">\n",
       "  <thead>\n",
       "    <tr style=\"text-align: right;\">\n",
       "      <th></th>\n",
       "      <th>TECHNOLOGIES</th>\n",
       "      <th>capacity_Dvar</th>\n",
       "    </tr>\n",
       "  </thead>\n",
       "  <tbody>\n",
       "    <tr>\n",
       "      <th>0</th>\n",
       "      <td>OldNuke</td>\n",
       "      <td>59430.000000</td>\n",
       "    </tr>\n",
       "    <tr>\n",
       "      <th>1</th>\n",
       "      <td>NewHydroRiver</td>\n",
       "      <td>102.649223</td>\n",
       "    </tr>\n",
       "    <tr>\n",
       "      <th>2</th>\n",
       "      <td>CCG</td>\n",
       "      <td>12664.000000</td>\n",
       "    </tr>\n",
       "    <tr>\n",
       "      <th>3</th>\n",
       "      <td>WindOffShore</td>\n",
       "      <td>8200.000000</td>\n",
       "    </tr>\n",
       "    <tr>\n",
       "      <th>4</th>\n",
       "      <td>Solar</td>\n",
       "      <td>40600.000000</td>\n",
       "    </tr>\n",
       "    <tr>\n",
       "      <th>5</th>\n",
       "      <td>Coal</td>\n",
       "      <td>0.000000</td>\n",
       "    </tr>\n",
       "    <tr>\n",
       "      <th>6</th>\n",
       "      <td>TAC</td>\n",
       "      <td>0.000000</td>\n",
       "    </tr>\n",
       "    <tr>\n",
       "      <th>7</th>\n",
       "      <td>HydroReservoir</td>\n",
       "      <td>8785.000000</td>\n",
       "    </tr>\n",
       "    <tr>\n",
       "      <th>8</th>\n",
       "      <td>NewNuke</td>\n",
       "      <td>1650.000000</td>\n",
       "    </tr>\n",
       "    <tr>\n",
       "      <th>9</th>\n",
       "      <td>HydroRiver</td>\n",
       "      <td>11030.000000</td>\n",
       "    </tr>\n",
       "    <tr>\n",
       "      <th>10</th>\n",
       "      <td>WindOnShore</td>\n",
       "      <td>23400.000000</td>\n",
       "    </tr>\n",
       "    <tr>\n",
       "      <th>11</th>\n",
       "      <td>Biomass</td>\n",
       "      <td>2031.000000</td>\n",
       "    </tr>\n",
       "    <tr>\n",
       "      <th>12</th>\n",
       "      <td>curtailment</td>\n",
       "      <td>0.000000</td>\n",
       "    </tr>\n",
       "  </tbody>\n",
       "</table>\n",
       "</div>"
      ],
      "text/plain": [
       "      TECHNOLOGIES  capacity_Dvar\n",
       "0          OldNuke   59430.000000\n",
       "1    NewHydroRiver     102.649223\n",
       "2              CCG   12664.000000\n",
       "3     WindOffShore    8200.000000\n",
       "4            Solar   40600.000000\n",
       "5             Coal       0.000000\n",
       "6              TAC       0.000000\n",
       "7   HydroReservoir    8785.000000\n",
       "8          NewNuke    1650.000000\n",
       "9       HydroRiver   11030.000000\n",
       "10     WindOnShore   23400.000000\n",
       "11         Biomass    2031.000000\n",
       "12     curtailment       0.000000"
      ]
     },
     "execution_count": 75,
     "metadata": {},
     "output_type": "execute_result"
    }
   ],
   "source": [
    "# Production means capacity (MW)\n",
    "Variables['capacity_Dvar']"
   ]
  },
  {
   "cell_type": "code",
   "execution_count": 76,
   "id": "800ca2a7",
   "metadata": {},
   "outputs": [
    {
     "data": {
      "text/html": [
       "<div>\n",
       "<style scoped>\n",
       "    .dataframe tbody tr th:only-of-type {\n",
       "        vertical-align: middle;\n",
       "    }\n",
       "\n",
       "    .dataframe tbody tr th {\n",
       "        vertical-align: top;\n",
       "    }\n",
       "\n",
       "    .dataframe thead th {\n",
       "        text-align: right;\n",
       "    }\n",
       "</style>\n",
       "<table border=\"1\" class=\"dataframe\">\n",
       "  <thead>\n",
       "    <tr style=\"text-align: right;\">\n",
       "      <th></th>\n",
       "      <th>STOCK_TECHNO</th>\n",
       "      <th>Pmax_in_Dvar</th>\n",
       "    </tr>\n",
       "  </thead>\n",
       "  <tbody>\n",
       "    <tr>\n",
       "      <th>0</th>\n",
       "      <td>Battery</td>\n",
       "      <td>9212.356899</td>\n",
       "    </tr>\n",
       "    <tr>\n",
       "      <th>1</th>\n",
       "      <td>HydroStorage</td>\n",
       "      <td>5049.000000</td>\n",
       "    </tr>\n",
       "    <tr>\n",
       "      <th>2</th>\n",
       "      <td>PowertoH2toPower</td>\n",
       "      <td>6537.562554</td>\n",
       "    </tr>\n",
       "  </tbody>\n",
       "</table>\n",
       "</div>"
      ],
      "text/plain": [
       "       STOCK_TECHNO  Pmax_in_Dvar\n",
       "0           Battery   9212.356899\n",
       "1      HydroStorage   5049.000000\n",
       "2  PowertoH2toPower   6537.562554"
      ]
     },
     "execution_count": 76,
     "metadata": {},
     "output_type": "execute_result"
    }
   ],
   "source": [
    "# Storage capacity\n",
    "Variables['Pmax_in_Dvar']"
   ]
  },
  {
   "cell_type": "code",
   "execution_count": 77,
   "id": "d51759a1",
   "metadata": {},
   "outputs": [
    {
     "data": {
      "text/html": [
       "<div>\n",
       "<style scoped>\n",
       "    .dataframe tbody tr th:only-of-type {\n",
       "        vertical-align: middle;\n",
       "    }\n",
       "\n",
       "    .dataframe tbody tr th {\n",
       "        vertical-align: top;\n",
       "    }\n",
       "\n",
       "    .dataframe thead th {\n",
       "        text-align: right;\n",
       "    }\n",
       "</style>\n",
       "<table border=\"1\" class=\"dataframe\">\n",
       "  <thead>\n",
       "    <tr style=\"text-align: right;\">\n",
       "      <th></th>\n",
       "      <th>STOCK_TECHNO</th>\n",
       "      <th>Pmax_out_Dvar</th>\n",
       "    </tr>\n",
       "  </thead>\n",
       "  <tbody>\n",
       "    <tr>\n",
       "      <th>0</th>\n",
       "      <td>Battery</td>\n",
       "      <td>9212.356899</td>\n",
       "    </tr>\n",
       "    <tr>\n",
       "      <th>1</th>\n",
       "      <td>HydroStorage</td>\n",
       "      <td>5049.000000</td>\n",
       "    </tr>\n",
       "    <tr>\n",
       "      <th>2</th>\n",
       "      <td>PowertoH2toPower</td>\n",
       "      <td>9546.599866</td>\n",
       "    </tr>\n",
       "  </tbody>\n",
       "</table>\n",
       "</div>"
      ],
      "text/plain": [
       "       STOCK_TECHNO  Pmax_out_Dvar\n",
       "0           Battery    9212.356899\n",
       "1      HydroStorage    5049.000000\n",
       "2  PowertoH2toPower    9546.599866"
      ]
     },
     "execution_count": 77,
     "metadata": {},
     "output_type": "execute_result"
    }
   ],
   "source": [
    "# Storage capacity\n",
    "Variables['Pmax_out_Dvar']"
   ]
  },
  {
   "cell_type": "code",
   "execution_count": 78,
   "id": "d8bc0fba",
   "metadata": {},
   "outputs": [
    {
     "data": {
      "text/html": [
       "<div>\n",
       "<style scoped>\n",
       "    .dataframe tbody tr th:only-of-type {\n",
       "        vertical-align: middle;\n",
       "    }\n",
       "\n",
       "    .dataframe tbody tr th {\n",
       "        vertical-align: top;\n",
       "    }\n",
       "\n",
       "    .dataframe thead th {\n",
       "        text-align: right;\n",
       "    }\n",
       "</style>\n",
       "<table border=\"1\" class=\"dataframe\">\n",
       "  <thead>\n",
       "    <tr style=\"text-align: right;\">\n",
       "      <th></th>\n",
       "      <th>STOCK_TECHNO</th>\n",
       "      <th>Cmax_Pvar</th>\n",
       "    </tr>\n",
       "  </thead>\n",
       "  <tbody>\n",
       "    <tr>\n",
       "      <th>0</th>\n",
       "      <td>Battery</td>\n",
       "      <td>2.399352e+04</td>\n",
       "    </tr>\n",
       "    <tr>\n",
       "      <th>1</th>\n",
       "      <td>HydroStorage</td>\n",
       "      <td>9.088200e+04</td>\n",
       "    </tr>\n",
       "    <tr>\n",
       "      <th>2</th>\n",
       "      <td>PowertoH2toPower</td>\n",
       "      <td>2.048751e+06</td>\n",
       "    </tr>\n",
       "  </tbody>\n",
       "</table>\n",
       "</div>"
      ],
      "text/plain": [
       "       STOCK_TECHNO     Cmax_Pvar\n",
       "0           Battery  2.399352e+04\n",
       "1      HydroStorage  9.088200e+04\n",
       "2  PowertoH2toPower  2.048751e+06"
      ]
     },
     "execution_count": 78,
     "metadata": {},
     "output_type": "execute_result"
    }
   ],
   "source": [
    "# Storage capacity\n",
    "Variables['Cmax_Pvar']"
   ]
  },
  {
   "cell_type": "code",
   "execution_count": 79,
   "id": "6a4c1be7",
   "metadata": {},
   "outputs": [
    {
     "data": {
      "text/plain": [
       "106414.29031587472"
      ]
     },
     "execution_count": 79,
     "metadata": {},
     "output_type": "execute_result"
    }
   ],
   "source": [
    "Variables['total_consumption_Pvar']['total_consumption_Pvar'].max()"
   ]
  },
  {
   "cell_type": "code",
   "execution_count": 80,
   "id": "27366257",
   "metadata": {},
   "outputs": [
    {
     "data": {
      "text/plain": [
       "2.741571686703414"
      ]
     },
     "execution_count": 80,
     "metadata": {},
     "output_type": "execute_result"
    }
   ],
   "source": [
    "2.399352e+04/(9212.356899*0.95)"
   ]
  },
  {
   "cell_type": "code",
   "execution_count": 73,
   "id": "c9e60f1a",
   "metadata": {},
   "outputs": [
    {
     "data": {
      "text/plain": [
       "TIME                      2019-12-31 23:00:00\n",
       "total_consumption_Pvar          138364.610149\n",
       "dtype: object"
      ]
     },
     "execution_count": 73,
     "metadata": {},
     "output_type": "execute_result"
    }
   ],
   "source": [
    "# Storage means capacity (MW)\n",
    "Variables['total_consumption_Pvar'].max()"
   ]
  },
  {
   "cell_type": "code",
   "execution_count": 74,
   "id": "d314c49f",
   "metadata": {},
   "outputs": [
    {
     "data": {
      "text/plain": [
       "TIME           2019-12-31 23:00:00\n",
       "energy_Pvar          138364.610149\n",
       "dtype: object"
      ]
     },
     "execution_count": 74,
     "metadata": {},
     "output_type": "execute_result"
    }
   ],
   "source": [
    "Variables['energy_Pvar'].max()"
   ]
  },
  {
   "cell_type": "code",
   "execution_count": 7,
   "id": "2abcb6a9",
   "metadata": {},
   "outputs": [
    {
     "name": "stdout",
     "output_type": "stream",
     "text": [
      "                     TIME    TECHNOLOGIES    power_Dvar\n",
      "40989 2019-12-31 23:00:00     WindOnShore   4432.600000\n",
      "40990 2019-12-31 23:00:00             CCG      0.000000\n",
      "40991 2019-12-31 23:00:00         OldNuke  15520.000000\n",
      "40992 2019-12-31 23:00:00             TAC      0.000000\n",
      "40993 2019-12-31 23:00:00    WindOffShore  10598.700000\n",
      "40994 2019-12-31 23:00:00  HydroReservoir   8785.000000\n",
      "40995 2019-12-31 23:00:00         Biomass   3000.000000\n",
      "40996 2019-12-31 23:00:00            Coal      0.000000\n",
      "40997 2019-12-31 23:00:00           Solar      0.000000\n",
      "40998 2019-12-31 23:00:00         NewNuke  21710.000000\n",
      "40999 2019-12-31 23:00:00      HydroRiver   8233.891861\n",
      "41000 2019-12-31 23:00:00   NewHydroRiver    895.799659\n",
      "41001 2019-12-31 23:00:00     curtailment      0.000000\n",
      "73175.99151963575\n",
      "                    TIME      STOCK_TECHNO  storageOut_Pvar\n",
      "9459 2019-12-31 23:00:00           Battery              0.0\n",
      "9460 2019-12-31 23:00:00  PowertoH2toPower              0.0\n",
      "9461 2019-12-31 23:00:00      HydroStorage              0.0\n",
      "                    TIME      STOCK_TECHNO  storageIn_Pvar\n",
      "9459 2019-12-31 23:00:00           Battery             0.0\n",
      "9460 2019-12-31 23:00:00  PowertoH2toPower             0.0\n",
      "9461 2019-12-31 23:00:00      HydroStorage             0.0\n",
      "                    TIME      STOCK_TECHNO  stockLevel_Pvar\n",
      "9459 2019-12-31 23:00:00           Battery     0.000000e+00\n",
      "9460 2019-12-31 23:00:00  PowertoH2toPower     5.920998e+06\n",
      "9461 2019-12-31 23:00:00      HydroStorage     6.553563e+04\n",
      "       STOCK_TECHNO  stockLevel_ini_Dvar\n",
      "0           Battery         0.000000e+00\n",
      "1  PowertoH2toPower         5.920998e+06\n",
      "2      HydroStorage         6.553563e+04\n"
     ]
    }
   ],
   "source": [
    "df=Variables['power_Dvar']\n",
    "print(df[df.TIME==pd.Timestamp('2019-12-31 23:00:00')])\n",
    "print(df[df.TIME==pd.Timestamp('2019-12-31 23:00:00')]['power_Dvar'].sum())\n",
    "df2=Variables['storageOut_Pvar']\n",
    "print(df2[df2.TIME==pd.Timestamp('2019-12-31 23:00:00')])\n",
    "df3=Variables['storageIn_Pvar']\n",
    "print(df3[df3.TIME==pd.Timestamp('2019-12-31 23:00:00')])\n",
    "df4=Variables['stockLevel_Pvar']\n",
    "print(df4[df4.TIME==pd.Timestamp('2019-12-31 23:00:00')])\n",
    "print(Variables['stockLevel_ini_Dvar'])"
   ]
  },
  {
   "cell_type": "code",
   "execution_count": 8,
   "id": "264e23e5",
   "metadata": {},
   "outputs": [
    {
     "name": "stdout",
     "output_type": "stream",
     "text": [
      "4.3655745685100555e-11\n",
      "0\n"
     ]
    }
   ],
   "source": [
    "df=Variables['power_Dvar']\n",
    "df2=Variables['storageOut_Pvar']\n",
    "df3=Variables['storageIn_Pvar']\n",
    "df=df.groupby('TIME')['power_Dvar'].sum()\n",
    "df2=df2.groupby('TIME')['storageOut_Pvar'].sum()\n",
    "df3=df3.groupby('TIME')['storageIn_Pvar'].sum()\n",
    "df_prod=pd.DataFrame()\n",
    "df_prod['Prod']=df+df2-df3\n",
    "#df_prod\n",
    "#df_prod=df_prod.set_index('TIME')\n",
    "\n",
    "df_diff=pd.DataFrame()\n",
    "df_diff['diff']=df_prod['Prod']-Variables['total_consumption_Pvar'].set_index('TIME')['total_consumption_Pvar']\n",
    "print(df_diff['diff'].max())\n",
    "N_err=0\n",
    "for i in df_diff.index:\n",
    "    if np.abs(df_diff.loc[i,'diff'])>1:\n",
    "        N_err+=1\n",
    "        print(df_diff.loc[i,'diff'])\n",
    "print(N_err)"
   ]
  },
  {
   "cell_type": "code",
   "execution_count": 9,
   "id": "4f93fd9a",
   "metadata": {},
   "outputs": [
    {
     "data": {
      "text/plain": [
       "Prod    73175.99152\n",
       "Name: 2019-12-31 23:00:00, dtype: float64"
      ]
     },
     "execution_count": 9,
     "metadata": {},
     "output_type": "execute_result"
    }
   ],
   "source": [
    "df_prod.loc[pd.Timestamp('2019-12-31 23:00:00')]"
   ]
  },
  {
   "cell_type": "code",
   "execution_count": 10,
   "id": "d302d22f",
   "metadata": {},
   "outputs": [
    {
     "data": {
      "text/plain": [
       "total_consumption_Pvar    73175.99152\n",
       "Name: 2019-12-31 23:00:00, dtype: float64"
      ]
     },
     "execution_count": 10,
     "metadata": {},
     "output_type": "execute_result"
    }
   ],
   "source": [
    "Variables['total_consumption_Pvar'].set_index('TIME').loc[pd.Timestamp('2019-12-31 23:00:00')]"
   ]
  },
  {
   "cell_type": "code",
   "execution_count": 21,
   "id": "843e26b2",
   "metadata": {},
   "outputs": [
    {
     "data": {
      "text/plain": [
       "TIME                      2019-12-31 23:00:00\n",
       "total_consumption_Pvar            155289.7205\n",
       "dtype: object"
      ]
     },
     "execution_count": 21,
     "metadata": {},
     "output_type": "execute_result"
    }
   ],
   "source": [
    "Variables['total_consumption_Pvar'].max()"
   ]
  },
  {
   "cell_type": "code",
   "execution_count": 12,
   "id": "c3d1deb0",
   "metadata": {},
   "outputs": [
    {
     "data": {
      "text/html": [
       "<div>\n",
       "<style scoped>\n",
       "    .dataframe tbody tr th:only-of-type {\n",
       "        vertical-align: middle;\n",
       "    }\n",
       "\n",
       "    .dataframe tbody tr th {\n",
       "        vertical-align: top;\n",
       "    }\n",
       "\n",
       "    .dataframe thead th {\n",
       "        text-align: right;\n",
       "    }\n",
       "</style>\n",
       "<table border=\"1\" class=\"dataframe\">\n",
       "  <thead>\n",
       "    <tr style=\"text-align: right;\">\n",
       "      <th></th>\n",
       "      <th>TIME</th>\n",
       "      <th>total_consumption_Pvar</th>\n",
       "    </tr>\n",
       "  </thead>\n",
       "  <tbody>\n",
       "    <tr>\n",
       "      <th>1290</th>\n",
       "      <td>2019-01-24 13:00:00</td>\n",
       "      <td>150448.942674</td>\n",
       "    </tr>\n",
       "  </tbody>\n",
       "</table>\n",
       "</div>"
      ],
      "text/plain": [
       "                    TIME  total_consumption_Pvar\n",
       "1290 2019-01-24 13:00:00           150448.942674"
      ]
     },
     "execution_count": 12,
     "metadata": {},
     "output_type": "execute_result"
    }
   ],
   "source": [
    "Variables['total_consumption_Pvar'][Variables['total_consumption_Pvar'].total_consumption_Pvar==Variables['total_consumption_Pvar']['total_consumption_Pvar'].max()]"
   ]
  },
  {
   "cell_type": "code",
   "execution_count": 13,
   "id": "dcd8f2f6",
   "metadata": {},
   "outputs": [
    {
     "data": {
      "text/plain": [
       "[8974.985765378075,\n",
       " 11252.569669328535,\n",
       " 10691.645219955992,\n",
       " 11170.426644899537,\n",
       " 13510.099229131103,\n",
       " 15473.200406998334,\n",
       " 16550.885092623164,\n",
       " 4425.99954355268,\n",
       " 5581.337750877695,\n",
       " 20919.870411678494,\n",
       " 21837.125896171616,\n",
       " 23312.874833511825,\n",
       " 28469.2682218418,\n",
       " 25998.15287218346,\n",
       " 27305.36161875611,\n",
       " 25600.720420410304,\n",
       " 20896.11392020079,\n",
       " 18139.698630793904,\n",
       " 17262.300474917676,\n",
       " 15669.700657177991,\n",
       " 15415.259850726845,\n",
       " 17359.40017950799,\n",
       " 25017.329324809274,\n",
       " 23867.510910719506]"
      ]
     },
     "execution_count": 13,
     "metadata": {},
     "output_type": "execute_result"
    }
   ],
   "source": [
    "d0=pd.Timestamp('2019-01-01 00:00:00')\n",
    "d1h=timedelta(hours=1)\n",
    "df=Variables['flex_consumption_Pvar']\n",
    "L_EV=[]\n",
    "for h in range(24):\n",
    "    L_EV.append(float(df[(df.TIME==d0+h*d1h)&(df.FLEX_CONSUM=='EV')]['flex_consumption_Pvar']))\n",
    "L_EV"
   ]
  },
  {
   "cell_type": "code",
   "execution_count": 32,
   "id": "e0838f3a",
   "metadata": {},
   "outputs": [
    {
     "data": {
      "text/plain": [
       "50.9856406845131"
      ]
     },
     "execution_count": 32,
     "metadata": {},
     "output_type": "execute_result"
    }
   ],
   "source": [
    "def Total_cost(Variables):\n",
    "    return 1/1e9*(Variables['powerCosts_Pvar']['powerCosts_Pvar'].sum()\\\n",
    "            +Variables['capacityCosts_Pvar']['capacityCosts_Pvar'].sum()\\\n",
    "            +Variables['storageCosts_Pvar']['storageCosts_Pvar'].sum()\\\n",
    "            +float(Variables['flexCosts_Pvar']['flexCosts_Pvar'].sum()))\n",
    "Total_cost(Variables)"
   ]
  },
  {
   "cell_type": "code",
   "execution_count": null,
   "id": "190adc31",
   "metadata": {},
   "outputs": [],
   "source": []
  }
 ],
 "metadata": {
  "kernelspec": {
   "display_name": "energyalternatives",
   "language": "python",
   "name": "energyalternatives"
  },
  "language_info": {
   "codemirror_mode": {
    "name": "ipython",
    "version": 3
   },
   "file_extension": ".py",
   "mimetype": "text/x-python",
   "name": "python",
   "nbconvert_exporter": "python",
   "pygments_lexer": "ipython3",
   "version": "3.10.4"
  }
 },
 "nbformat": 4,
 "nbformat_minor": 5
}
