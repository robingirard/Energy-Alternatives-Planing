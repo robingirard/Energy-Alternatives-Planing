{
 "cells": [
  {
   "cell_type": "code",
   "execution_count": 1,
   "id": "7878b15d",
   "metadata": {},
   "outputs": [],
   "source": [
    "import pickle\n",
    "import pandas as pd\n",
    "from datetime import timedelta\n",
    "import numpy as np"
   ]
  },
  {
   "cell_type": "code",
   "execution_count": 2,
   "id": "57950e02",
   "metadata": {},
   "outputs": [],
   "source": [
    "year=2050\n",
    "nuc=\"nuclear_plus\"\n",
    "bati_hyp=\"ref\"\n",
    "reindus=\"reindus\"\n",
    "with open(\"Results_\"+str(year)+\"_\"+nuc+\"_\"+bati_hyp+\"_\"+reindus+\".pickle\", 'rb') as f:\n",
    "    Variables=pickle.load(f)"
   ]
  },
  {
   "cell_type": "code",
   "execution_count": 3,
   "id": "476754c2",
   "metadata": {},
   "outputs": [
    {
     "name": "stdout",
     "output_type": "stream",
     "text": [
      "{'power_Dvar':                       TIME    TECHNOLOGIES    power_Dvar\n",
      "0      2019-04-29 08:00:00         Biomass   1827.900000\n",
      "1      2019-04-29 08:00:00           Solar   7645.493600\n",
      "2      2019-04-29 08:00:00     curtailment      0.000000\n",
      "3      2019-04-29 08:00:00   NewHydroRiver    759.612977\n",
      "4      2019-04-29 08:00:00             TAC      0.000000\n",
      "...                    ...             ...           ...\n",
      "113875 2019-01-27 03:00:00         OldNuke   3937.200000\n",
      "113876 2019-01-27 03:00:00    WindOffShore  60648.000000\n",
      "113877 2019-01-27 03:00:00  HydroReservoir      0.000000\n",
      "113878 2019-01-27 03:00:00            Coal      0.000000\n",
      "113879 2019-01-27 03:00:00         NewNuke   9028.800000\n",
      "\n",
      "[113880 rows x 3 columns], 'energy_Pvar':                     TIME   energy_Pvar\n",
      "0    2019-04-29 08:00:00  72146.429256\n",
      "1    2019-06-26 10:00:00  90012.103975\n",
      "2    2019-03-22 11:00:00  93985.843363\n",
      "3    2019-02-21 06:00:00  69565.098016\n",
      "4    2019-08-20 10:00:00  71648.959858\n",
      "...                  ...           ...\n",
      "8755 2019-06-16 05:00:00  39035.191534\n",
      "8756 2019-04-30 17:00:00  86860.290687\n",
      "8757 2019-06-13 07:00:00  64591.193700\n",
      "8758 2019-07-01 06:00:00  72443.666063\n",
      "8759 2019-01-27 03:00:00  84969.619785\n",
      "\n",
      "[8760 rows x 2 columns], 'powerCosts_Pvar':       TECHNOLOGIES  powerCosts_Pvar\n",
      "0          Biomass     3.459959e+08\n",
      "1            Solar     0.000000e+00\n",
      "2      curtailment    -0.000000e+00\n",
      "3    NewHydroRiver     0.000000e+00\n",
      "4              TAC    -0.000000e+00\n",
      "5       HydroRiver     0.000000e+00\n",
      "6      WindOnShore     0.000000e+00\n",
      "7              CCG    -0.000000e+00\n",
      "8          OldNuke     8.936169e+08\n",
      "9     WindOffShore     0.000000e+00\n",
      "10  HydroReservoir     0.000000e+00\n",
      "11            Coal    -0.000000e+00\n",
      "12         NewNuke     1.619939e+09, 'capacity_Dvar':       TECHNOLOGIES  capacity_Dvar\n",
      "0          Biomass         2031.0\n",
      "1            Solar       100000.0\n",
      "2      curtailment            0.0\n",
      "3    NewHydroRiver         1200.0\n",
      "4              TAC            0.0\n",
      "5       HydroRiver        11030.0\n",
      "6      WindOnShore        37000.0\n",
      "7              CCG            0.0\n",
      "8          OldNuke        15520.0\n",
      "9     WindOffShore        80000.0\n",
      "10  HydroReservoir         8785.0\n",
      "11            Coal            0.0\n",
      "12         NewNuke        25080.0, 'capacityCosts_Pvar':       TECHNOLOGIES  capacityCosts_Pvar\n",
      "0          Biomass        4.911315e+08\n",
      "1            Solar        5.975955e+09\n",
      "2      curtailment        0.000000e+00\n",
      "3    NewHydroRiver        1.962082e+08\n",
      "4              TAC       -0.000000e+00\n",
      "5       HydroRiver        9.973124e+08\n",
      "6      WindOnShore        2.776675e+09\n",
      "7              CCG       -0.000000e+00\n",
      "8          OldNuke        3.378468e+09\n",
      "9     WindOffShore        7.932349e+09\n",
      "10  HydroReservoir        6.200264e+08\n",
      "11            Coal       -0.000000e+00\n",
      "12         NewNuke        7.701216e+09, 'storageIn_Pvar':                      TIME      STOCK_TECHNO  storageIn_Pvar\n",
      "0     2019-04-29 08:00:00      HydroStorage    0.000000e+00\n",
      "1     2019-04-29 08:00:00           Battery    0.000000e+00\n",
      "2     2019-04-29 08:00:00  PowertoH2toPower    0.000000e+00\n",
      "3     2019-06-26 10:00:00      HydroStorage    5.706826e+03\n",
      "4     2019-06-26 10:00:00           Battery    4.290541e-10\n",
      "...                   ...               ...             ...\n",
      "26275 2019-07-01 06:00:00           Battery    0.000000e+00\n",
      "26276 2019-07-01 06:00:00  PowertoH2toPower    0.000000e+00\n",
      "26277 2019-01-27 03:00:00      HydroStorage    0.000000e+00\n",
      "26278 2019-01-27 03:00:00           Battery    0.000000e+00\n",
      "26279 2019-01-27 03:00:00  PowertoH2toPower    1.892075e+04\n",
      "\n",
      "[26280 rows x 3 columns], 'storageOut_Pvar':                      TIME      STOCK_TECHNO  storageOut_Pvar\n",
      "0     2019-04-29 08:00:00      HydroStorage         0.000000\n",
      "1     2019-04-29 08:00:00           Battery      1174.413402\n",
      "2     2019-04-29 08:00:00  PowertoH2toPower         0.000000\n",
      "3     2019-06-26 10:00:00      HydroStorage         0.000000\n",
      "4     2019-06-26 10:00:00           Battery         0.000000\n",
      "...                   ...               ...              ...\n",
      "26275 2019-07-01 06:00:00           Battery         0.000000\n",
      "26276 2019-07-01 06:00:00  PowertoH2toPower         0.000000\n",
      "26277 2019-01-27 03:00:00      HydroStorage         0.000000\n",
      "26278 2019-01-27 03:00:00           Battery         0.000000\n",
      "26279 2019-01-27 03:00:00  PowertoH2toPower         0.000000\n",
      "\n",
      "[26280 rows x 3 columns], 'stockLevel_Pvar':                      TIME      STOCK_TECHNO  stockLevel_Pvar\n",
      "0     2019-04-29 08:00:00      HydroStorage     2.708820e+05\n",
      "1     2019-04-29 08:00:00           Battery     1.161771e+04\n",
      "2     2019-04-29 08:00:00  PowertoH2toPower     1.894407e+06\n",
      "3     2019-06-26 10:00:00      HydroStorage     1.861773e+05\n",
      "4     2019-06-26 10:00:00           Battery     4.076014e-10\n",
      "...                   ...               ...              ...\n",
      "26275 2019-07-01 06:00:00           Battery     1.598750e+04\n",
      "26276 2019-07-01 06:00:00  PowertoH2toPower     9.874062e+05\n",
      "26277 2019-01-27 03:00:00      HydroStorage     3.630963e+04\n",
      "26278 2019-01-27 03:00:00           Battery     0.000000e+00\n",
      "26279 2019-01-27 03:00:00  PowertoH2toPower     1.745021e+05\n",
      "\n",
      "[26280 rows x 3 columns], 'stockLevel_ini_Dvar':        STOCK_TECHNO  stockLevel_ini_Dvar\n",
      "0      HydroStorage         2.055785e+04\n",
      "1           Battery         0.000000e+00\n",
      "2  PowertoH2toPower         2.246104e+06, 'storageCosts_Pvar':        STOCK_TECHNO  storageCosts_Pvar\n",
      "0      HydroStorage       1.452980e+09\n",
      "1           Battery       5.509600e+08\n",
      "2  PowertoH2toPower       2.604888e+09, 'Pmax_in_Dvar':        STOCK_TECHNO  Pmax_in_Dvar\n",
      "0      HydroStorage  15049.000000\n",
      "1           Battery  11768.451535\n",
      "2  PowertoH2toPower  18920.753711, 'Pmax_out_Dvar':        STOCK_TECHNO  Pmax_out_Dvar\n",
      "0      HydroStorage   15049.000000\n",
      "1           Battery   11768.451535\n",
      "2  PowertoH2toPower    6105.862596, 'Cmax_Pvar':        STOCK_TECHNO     Cmax_Pvar\n",
      "0      HydroStorage  2.708820e+05\n",
      "1           Battery  1.598750e+04\n",
      "2  PowertoH2toPower  3.216751e+06, 'flexCosts_Pvar':   FLEX_CONSUM  flexCosts_Pvar\n",
      "0          EV    3.991471e+08\n",
      "1       Steel   -1.036554e+09, 'total_consumption_Pvar':                     TIME  total_consumption_Pvar\n",
      "0    2019-04-29 08:00:00            72146.429256\n",
      "1    2019-06-26 10:00:00            90012.103975\n",
      "2    2019-03-22 11:00:00            93985.843363\n",
      "3    2019-02-21 06:00:00            69565.098016\n",
      "4    2019-08-20 10:00:00            71648.959858\n",
      "...                  ...                     ...\n",
      "8755 2019-06-16 05:00:00            39035.191534\n",
      "8756 2019-04-30 17:00:00            86860.290687\n",
      "8757 2019-06-13 07:00:00            64591.193700\n",
      "8758 2019-07-01 06:00:00            72443.666063\n",
      "8759 2019-01-27 03:00:00            84969.619785\n",
      "\n",
      "[8760 rows x 2 columns], 'flex_consumption_Pvar':                      TIME FLEX_CONSUM  flex_consumption_Pvar\n",
      "0     2019-04-29 08:00:00          EV            1307.116411\n",
      "1     2019-04-29 08:00:00       Steel            9388.815298\n",
      "2     2019-06-26 10:00:00          EV           13344.712479\n",
      "3     2019-06-26 10:00:00       Steel            9388.815298\n",
      "4     2019-03-22 11:00:00          EV           14774.117449\n",
      "...                   ...         ...                    ...\n",
      "17515 2019-06-13 07:00:00       Steel            9388.815298\n",
      "17516 2019-07-01 06:00:00          EV               0.000000\n",
      "17517 2019-07-01 06:00:00       Steel             563.770925\n",
      "17518 2019-01-27 03:00:00          EV           11252.888883\n",
      "17519 2019-01-27 03:00:00       Steel            9322.729276\n",
      "\n",
      "[17520 rows x 3 columns], 'a_plus_Pvar':                      TIME FLEX_CONSUM  a_plus_Pvar\n",
      "0     2019-04-29 08:00:00          EV     0.000000\n",
      "1     2019-04-29 08:00:00       Steel  4109.064797\n",
      "2     2019-06-26 10:00:00          EV  7610.521161\n",
      "3     2019-06-26 10:00:00       Steel  3340.951451\n",
      "4     2019-03-22 11:00:00          EV  7610.521161\n",
      "...                   ...         ...          ...\n",
      "17515 2019-06-13 07:00:00       Steel  3915.014928\n",
      "17516 2019-07-01 06:00:00          EV     0.000000\n",
      "17517 2019-07-01 06:00:00       Steel     0.000000\n",
      "17518 2019-01-27 03:00:00          EV  7764.799970\n",
      "17519 2019-01-27 03:00:00       Steel  4416.029657\n",
      "\n",
      "[17520 rows x 3 columns], 'a_minus_Pvar':                      TIME FLEX_CONSUM  a_minus_Pvar\n",
      "0     2019-04-29 08:00:00          EV   1307.116411\n",
      "1     2019-04-29 08:00:00       Steel      0.000000\n",
      "2     2019-06-26 10:00:00          EV     -0.000000\n",
      "3     2019-06-26 10:00:00       Steel      0.000000\n",
      "4     2019-03-22 11:00:00          EV     -0.000000\n",
      "...                   ...         ...           ...\n",
      "17515 2019-06-13 07:00:00       Steel      0.000000\n",
      "17516 2019-07-01 06:00:00          EV   1379.059115\n",
      "17517 2019-07-01 06:00:00       Steel   5073.938327\n",
      "17518 2019-01-27 03:00:00          EV     -0.000000\n",
      "17519 2019-01-27 03:00:00       Steel      0.000000\n",
      "\n",
      "[17520 rows x 3 columns], 'flex_Dvar':                      TIME FLEX_CONSUM  flex_Dvar\n",
      "0     2019-04-29 08:00:00          EV   0.500000\n",
      "1     2019-04-29 08:00:00       Steel  -0.778269\n",
      "2     2019-06-26 10:00:00          EV  -1.327218\n",
      "3     2019-06-26 10:00:00       Steel  -0.552418\n",
      "4     2019-03-22 11:00:00          EV  -1.062388\n",
      "...                   ...         ...        ...\n",
      "17515 2019-06-13 07:00:00       Steel  -0.715228\n",
      "17516 2019-07-01 06:00:00          EV   1.000000\n",
      "17517 2019-07-01 06:00:00       Steel   0.900000\n",
      "17518 2019-01-27 03:00:00          EV  -2.226090\n",
      "17519 2019-01-27 03:00:00       Steel  -0.900000\n",
      "\n",
      "[17520 rows x 3 columns], 'increased_max_power_Dvar':   FLEX_CONSUM  increased_max_power_Dvar\n",
      "0          EV               7610.521161\n",
      "1       Steel                  0.000000}\n"
     ]
    }
   ],
   "source": [
    "print(Variables)"
   ]
  },
  {
   "cell_type": "markdown",
   "id": "1c24b0c0",
   "metadata": {},
   "source": [
    "# 1. Capacity "
   ]
  },
  {
   "cell_type": "code",
   "execution_count": 4,
   "id": "446903cb",
   "metadata": {},
   "outputs": [
    {
     "data": {
      "text/html": [
       "<div>\n",
       "<style scoped>\n",
       "    .dataframe tbody tr th:only-of-type {\n",
       "        vertical-align: middle;\n",
       "    }\n",
       "\n",
       "    .dataframe tbody tr th {\n",
       "        vertical-align: top;\n",
       "    }\n",
       "\n",
       "    .dataframe thead th {\n",
       "        text-align: right;\n",
       "    }\n",
       "</style>\n",
       "<table border=\"1\" class=\"dataframe\">\n",
       "  <thead>\n",
       "    <tr style=\"text-align: right;\">\n",
       "      <th></th>\n",
       "      <th>TECHNOLOGIES</th>\n",
       "      <th>capacity_Dvar</th>\n",
       "    </tr>\n",
       "  </thead>\n",
       "  <tbody>\n",
       "    <tr>\n",
       "      <th>0</th>\n",
       "      <td>Biomass</td>\n",
       "      <td>2031.0</td>\n",
       "    </tr>\n",
       "    <tr>\n",
       "      <th>1</th>\n",
       "      <td>Solar</td>\n",
       "      <td>100000.0</td>\n",
       "    </tr>\n",
       "    <tr>\n",
       "      <th>2</th>\n",
       "      <td>curtailment</td>\n",
       "      <td>0.0</td>\n",
       "    </tr>\n",
       "    <tr>\n",
       "      <th>3</th>\n",
       "      <td>NewHydroRiver</td>\n",
       "      <td>1200.0</td>\n",
       "    </tr>\n",
       "    <tr>\n",
       "      <th>4</th>\n",
       "      <td>TAC</td>\n",
       "      <td>0.0</td>\n",
       "    </tr>\n",
       "    <tr>\n",
       "      <th>5</th>\n",
       "      <td>HydroRiver</td>\n",
       "      <td>11030.0</td>\n",
       "    </tr>\n",
       "    <tr>\n",
       "      <th>6</th>\n",
       "      <td>WindOnShore</td>\n",
       "      <td>37000.0</td>\n",
       "    </tr>\n",
       "    <tr>\n",
       "      <th>7</th>\n",
       "      <td>CCG</td>\n",
       "      <td>0.0</td>\n",
       "    </tr>\n",
       "    <tr>\n",
       "      <th>8</th>\n",
       "      <td>OldNuke</td>\n",
       "      <td>15520.0</td>\n",
       "    </tr>\n",
       "    <tr>\n",
       "      <th>9</th>\n",
       "      <td>WindOffShore</td>\n",
       "      <td>80000.0</td>\n",
       "    </tr>\n",
       "    <tr>\n",
       "      <th>10</th>\n",
       "      <td>HydroReservoir</td>\n",
       "      <td>8785.0</td>\n",
       "    </tr>\n",
       "    <tr>\n",
       "      <th>11</th>\n",
       "      <td>Coal</td>\n",
       "      <td>0.0</td>\n",
       "    </tr>\n",
       "    <tr>\n",
       "      <th>12</th>\n",
       "      <td>NewNuke</td>\n",
       "      <td>25080.0</td>\n",
       "    </tr>\n",
       "  </tbody>\n",
       "</table>\n",
       "</div>"
      ],
      "text/plain": [
       "      TECHNOLOGIES  capacity_Dvar\n",
       "0          Biomass         2031.0\n",
       "1            Solar       100000.0\n",
       "2      curtailment            0.0\n",
       "3    NewHydroRiver         1200.0\n",
       "4              TAC            0.0\n",
       "5       HydroRiver        11030.0\n",
       "6      WindOnShore        37000.0\n",
       "7              CCG            0.0\n",
       "8          OldNuke        15520.0\n",
       "9     WindOffShore        80000.0\n",
       "10  HydroReservoir         8785.0\n",
       "11            Coal            0.0\n",
       "12         NewNuke        25080.0"
      ]
     },
     "execution_count": 4,
     "metadata": {},
     "output_type": "execute_result"
    }
   ],
   "source": [
    "# Production means capacity (MW)\n",
    "Variables['capacity_Dvar']"
   ]
  },
  {
   "cell_type": "code",
   "execution_count": 5,
   "id": "c9e60f1a",
   "metadata": {},
   "outputs": [
    {
     "data": {
      "text/plain": [
       "TIME                      2019-12-31 23:00:00\n",
       "total_consumption_Pvar          141501.545248\n",
       "dtype: object"
      ]
     },
     "execution_count": 5,
     "metadata": {},
     "output_type": "execute_result"
    }
   ],
   "source": [
    "# Storage means capacity (MW)\n",
    "Variables['total_consumption_Pvar'].max()"
   ]
  },
  {
   "cell_type": "code",
   "execution_count": 6,
   "id": "d314c49f",
   "metadata": {},
   "outputs": [
    {
     "data": {
      "text/plain": [
       "TIME           2019-12-31 23:00:00\n",
       "energy_Pvar          141501.545248\n",
       "dtype: object"
      ]
     },
     "execution_count": 6,
     "metadata": {},
     "output_type": "execute_result"
    }
   ],
   "source": [
    "Variables['energy_Pvar'].max()"
   ]
  },
  {
   "cell_type": "code",
   "execution_count": 7,
   "id": "2abcb6a9",
   "metadata": {},
   "outputs": [
    {
     "name": "stdout",
     "output_type": "stream",
     "text": [
      "                     TIME    TECHNOLOGIES    power_Dvar\n",
      "61243 2019-12-31 23:00:00         Biomass   2031.000000\n",
      "61244 2019-12-31 23:00:00           Solar      0.000000\n",
      "61245 2019-12-31 23:00:00     curtailment      0.000000\n",
      "61246 2019-12-31 23:00:00   NewHydroRiver    895.799659\n",
      "61247 2019-12-31 23:00:00             TAC      0.000000\n",
      "61248 2019-12-31 23:00:00      HydroRiver   8233.891861\n",
      "61249 2019-12-31 23:00:00     WindOnShore   4432.600000\n",
      "61250 2019-12-31 23:00:00             CCG      0.000000\n",
      "61251 2019-12-31 23:00:00         OldNuke  15520.000000\n",
      "61252 2019-12-31 23:00:00    WindOffShore  17304.000000\n",
      "61253 2019-12-31 23:00:00  HydroReservoir   8785.000000\n",
      "61254 2019-12-31 23:00:00            Coal      0.000000\n",
      "61255 2019-12-31 23:00:00         NewNuke  21710.000000\n",
      "78912.29151963575\n",
      "                     TIME      STOCK_TECHNO  storageOut_Pvar\n",
      "14133 2019-12-31 23:00:00      HydroStorage              0.0\n",
      "14134 2019-12-31 23:00:00           Battery              0.0\n",
      "14135 2019-12-31 23:00:00  PowertoH2toPower              0.0\n",
      "                     TIME      STOCK_TECHNO  storageIn_Pvar\n",
      "14133 2019-12-31 23:00:00      HydroStorage             0.0\n",
      "14134 2019-12-31 23:00:00           Battery             0.0\n",
      "14135 2019-12-31 23:00:00  PowertoH2toPower             0.0\n",
      "                     TIME      STOCK_TECHNO  stockLevel_Pvar\n",
      "14133 2019-12-31 23:00:00      HydroStorage     2.055785e+04\n",
      "14134 2019-12-31 23:00:00           Battery     0.000000e+00\n",
      "14135 2019-12-31 23:00:00  PowertoH2toPower     2.246104e+06\n",
      "       STOCK_TECHNO  stockLevel_ini_Dvar\n",
      "0      HydroStorage         2.055785e+04\n",
      "1           Battery         0.000000e+00\n",
      "2  PowertoH2toPower         2.246104e+06\n"
     ]
    }
   ],
   "source": [
    "df=Variables['power_Dvar']\n",
    "print(df[df.TIME==pd.Timestamp('2019-12-31 23:00:00')])\n",
    "print(df[df.TIME==pd.Timestamp('2019-12-31 23:00:00')]['power_Dvar'].sum())\n",
    "df2=Variables['storageOut_Pvar']\n",
    "print(df2[df2.TIME==pd.Timestamp('2019-12-31 23:00:00')])\n",
    "df3=Variables['storageIn_Pvar']\n",
    "print(df3[df3.TIME==pd.Timestamp('2019-12-31 23:00:00')])\n",
    "df4=Variables['stockLevel_Pvar']\n",
    "print(df4[df4.TIME==pd.Timestamp('2019-12-31 23:00:00')])\n",
    "print(Variables['stockLevel_ini_Dvar'])"
   ]
  },
  {
   "cell_type": "code",
   "execution_count": 8,
   "id": "264e23e5",
   "metadata": {},
   "outputs": [
    {
     "name": "stdout",
     "output_type": "stream",
     "text": [
      "4.3655745685100555e-11\n",
      "0\n"
     ]
    }
   ],
   "source": [
    "df=Variables['power_Dvar']\n",
    "df2=Variables['storageOut_Pvar']\n",
    "df3=Variables['storageIn_Pvar']\n",
    "df=df.groupby('TIME')['power_Dvar'].sum()\n",
    "df2=df2.groupby('TIME')['storageOut_Pvar'].sum()\n",
    "df3=df3.groupby('TIME')['storageIn_Pvar'].sum()\n",
    "df_prod=pd.DataFrame()\n",
    "df_prod['Prod']=df+df2-df3\n",
    "#df_prod\n",
    "#df_prod=df_prod.set_index('TIME')\n",
    "\n",
    "df_diff=pd.DataFrame()\n",
    "df_diff['diff']=df_prod['Prod']-Variables['total_consumption_Pvar'].set_index('TIME')['total_consumption_Pvar']\n",
    "print(df_diff['diff'].max())\n",
    "N_err=0\n",
    "for i in df_diff.index:\n",
    "    if np.abs(df_diff.loc[i,'diff'])>1:\n",
    "        N_err+=1\n",
    "        print(df_diff.loc[i,'diff'])\n",
    "print(N_err)"
   ]
  },
  {
   "cell_type": "code",
   "execution_count": 11,
   "id": "4f93fd9a",
   "metadata": {},
   "outputs": [
    {
     "data": {
      "text/plain": [
       "Prod    78912.29152\n",
       "Name: 2019-12-31 23:00:00, dtype: float64"
      ]
     },
     "execution_count": 11,
     "metadata": {},
     "output_type": "execute_result"
    }
   ],
   "source": [
    "df_prod.loc[pd.Timestamp('2019-12-31 23:00:00')]"
   ]
  },
  {
   "cell_type": "code",
   "execution_count": 12,
   "id": "d302d22f",
   "metadata": {},
   "outputs": [
    {
     "data": {
      "text/plain": [
       "total_consumption_Pvar    78912.29152\n",
       "Name: 2019-12-31 23:00:00, dtype: float64"
      ]
     },
     "execution_count": 12,
     "metadata": {},
     "output_type": "execute_result"
    }
   ],
   "source": [
    "Variables['total_consumption_Pvar'].set_index('TIME').loc[pd.Timestamp('2019-12-31 23:00:00')]"
   ]
  },
  {
   "cell_type": "code",
   "execution_count": 13,
   "id": "843e26b2",
   "metadata": {},
   "outputs": [
    {
     "data": {
      "text/plain": [
       "TIME                      2019-12-31 23:00:00\n",
       "total_consumption_Pvar            153146.7491\n",
       "dtype: object"
      ]
     },
     "execution_count": 13,
     "metadata": {},
     "output_type": "execute_result"
    }
   ],
   "source": [
    "Variables['total_consumption_Pvar'].max()"
   ]
  },
  {
   "cell_type": "code",
   "execution_count": 16,
   "id": "c3d1deb0",
   "metadata": {},
   "outputs": [
    {
     "data": {
      "text/html": [
       "<div>\n",
       "<style scoped>\n",
       "    .dataframe tbody tr th:only-of-type {\n",
       "        vertical-align: middle;\n",
       "    }\n",
       "\n",
       "    .dataframe tbody tr th {\n",
       "        vertical-align: top;\n",
       "    }\n",
       "\n",
       "    .dataframe thead th {\n",
       "        text-align: right;\n",
       "    }\n",
       "</style>\n",
       "<table border=\"1\" class=\"dataframe\">\n",
       "  <thead>\n",
       "    <tr style=\"text-align: right;\">\n",
       "      <th></th>\n",
       "      <th>TIME</th>\n",
       "      <th>total_consumption_Pvar</th>\n",
       "    </tr>\n",
       "  </thead>\n",
       "  <tbody>\n",
       "    <tr>\n",
       "      <th>1203</th>\n",
       "      <td>2019-01-10 13:00:00</td>\n",
       "      <td>153146.7491</td>\n",
       "    </tr>\n",
       "  </tbody>\n",
       "</table>\n",
       "</div>"
      ],
      "text/plain": [
       "                    TIME  total_consumption_Pvar\n",
       "1203 2019-01-10 13:00:00             153146.7491"
      ]
     },
     "execution_count": 16,
     "metadata": {},
     "output_type": "execute_result"
    }
   ],
   "source": [
    "Variables['total_consumption_Pvar'][Variables['total_consumption_Pvar'].total_consumption_Pvar==Variables['total_consumption_Pvar']['total_consumption_Pvar'].max()]"
   ]
  },
  {
   "cell_type": "code",
   "execution_count": 9,
   "id": "dcd8f2f6",
   "metadata": {},
   "outputs": [
    {
     "data": {
      "text/plain": [
       "[29929.35293199346,\n",
       " 21464.0361360506,\n",
       " 17976.728180410577,\n",
       " 18475.496747266494,\n",
       " 20760.91851773587,\n",
       " 22658.34765789095,\n",
       " 23416.238072918135,\n",
       " 4425.99954355268,\n",
       " 5581.337750877695,\n",
       " 12706.86362579832,\n",
       " 13624.119110291438,\n",
       " 15099.86804763165,\n",
       " 18004.093045428912,\n",
       " 14151.765573617662,\n",
       " 16274.170792973928,\n",
       " 17205.05533142765,\n",
       " 16387.451581801648,\n",
       " 22159.791355977763,\n",
       " 19544.3739971731,\n",
       " 18341.039948151323,\n",
       " 17219.489715064927,\n",
       " 21504.79427419051,\n",
       " 35770.65262022089,\n",
       " 34963.622475400516]"
      ]
     },
     "execution_count": 9,
     "metadata": {},
     "output_type": "execute_result"
    }
   ],
   "source": [
    "d0=pd.Timestamp('2019-01-01 00:00:00')\n",
    "d1h=timedelta(hours=1)\n",
    "df=Variables['flex_consumption_Pvar']\n",
    "L_EV=[]\n",
    "for h in range(24):\n",
    "    L_EV.append(float(df[(df.TIME==d0+h*d1h)&(df.FLEX_CONSUM=='EV')]['flex_consumption_Pvar']))\n",
    "L_EV"
   ]
  },
  {
   "cell_type": "code",
   "execution_count": null,
   "id": "e0838f3a",
   "metadata": {},
   "outputs": [],
   "source": []
  }
 ],
 "metadata": {
  "kernelspec": {
   "display_name": "energyalternatives",
   "language": "python",
   "name": "energyalternatives"
  },
  "language_info": {
   "codemirror_mode": {
    "name": "ipython",
    "version": 3
   },
   "file_extension": ".py",
   "mimetype": "text/x-python",
   "name": "python",
   "nbconvert_exporter": "python",
   "pygments_lexer": "ipython3",
   "version": "3.10.4"
  }
 },
 "nbformat": 4,
 "nbformat_minor": 5
}
