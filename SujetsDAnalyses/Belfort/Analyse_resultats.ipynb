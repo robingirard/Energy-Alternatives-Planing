{
 "cells": [
  {
   "cell_type": "code",
   "execution_count": 75,
   "id": "7878b15d",
   "metadata": {},
   "outputs": [],
   "source": [
    "import pickle\n",
    "import pandas as pd\n",
    "from datetime import timedelta\n",
    "import numpy as np"
   ]
  },
  {
   "cell_type": "code",
   "execution_count": 105,
   "id": "57950e02",
   "metadata": {},
   "outputs": [],
   "source": [
    "year=2030\n",
    "nuc=\"nuclear_plus\"\n",
    "bati_hyp=\"ref\"\n",
    "reindus=\"reindus\"\n",
    "with open(\"Results_\"+str(year)+\"_\"+nuc+\"_\"+bati_hyp+\"_\"+reindus+\".pickle\", 'rb') as f:\n",
    "    Variables=pickle.load(f)"
   ]
  },
  {
   "cell_type": "code",
   "execution_count": 106,
   "id": "476754c2",
   "metadata": {},
   "outputs": [
    {
     "name": "stdout",
     "output_type": "stream",
     "text": [
      "{'power_Dvar':                       TIME    TECHNOLOGIES    power_Dvar\n",
      "0      2019-10-18 08:00:00             CCG      0.000000\n",
      "1      2019-10-18 08:00:00   NewHydroRiver    470.700057\n",
      "2      2019-10-18 08:00:00           Solar      3.474038\n",
      "3      2019-10-18 08:00:00             TAC      0.000000\n",
      "4      2019-10-18 08:00:00            Coal      0.000000\n",
      "...                    ...             ...           ...\n",
      "113875 2019-11-25 11:00:00      HydroRiver   6885.327357\n",
      "113876 2019-11-25 11:00:00     WindOnShore   4338.360000\n",
      "113877 2019-11-25 11:00:00         OldNuke  48500.000000\n",
      "113878 2019-11-25 11:00:00     curtailment      0.000000\n",
      "113879 2019-11-25 11:00:00  HydroReservoir      0.000000\n",
      "\n",
      "[113880 rows x 3 columns], 'energy_Pvar':                     TIME   energy_Pvar\n",
      "0    2019-10-18 08:00:00  56673.029598\n",
      "1    2019-02-05 06:00:00  46542.297602\n",
      "2    2019-02-13 11:00:00  88788.619195\n",
      "3    2019-04-16 01:00:00  54559.386089\n",
      "4    2019-06-07 20:00:00  50490.853466\n",
      "...                  ...           ...\n",
      "8755 2019-06-15 00:00:00  46826.613412\n",
      "8756 2019-12-04 12:00:00  74547.610477\n",
      "8757 2019-05-07 09:00:00  55173.971445\n",
      "8758 2019-12-29 23:00:00  67214.910930\n",
      "8759 2019-11-25 11:00:00  74293.843276\n",
      "\n",
      "[8760 rows x 2 columns], 'powerCosts_Pvar':       TECHNOLOGIES  powerCosts_Pvar\n",
      "0              CCG     4.903689e+08\n",
      "1    NewHydroRiver     0.000000e+00\n",
      "2            Solar     0.000000e+00\n",
      "3              TAC    -0.000000e+00\n",
      "4             Coal    -0.000000e+00\n",
      "5          Biomass     2.679602e+08\n",
      "6          NewNuke    -0.000000e+00\n",
      "7     WindOffShore     0.000000e+00\n",
      "8       HydroRiver     0.000000e+00\n",
      "9      WindOnShore     0.000000e+00\n",
      "10         OldNuke     3.585130e+09\n",
      "11     curtailment    -0.000000e+00\n",
      "12  HydroReservoir     0.000000e+00, 'capacity_Dvar':       TECHNOLOGIES  capacity_Dvar\n",
      "0              CCG        12664.0\n",
      "1    NewHydroRiver         1200.0\n",
      "2            Solar        31900.0\n",
      "3              TAC            0.0\n",
      "4             Coal            0.0\n",
      "5          Biomass         2031.0\n",
      "6          NewNuke            0.0\n",
      "7     WindOffShore         8200.0\n",
      "8       HydroRiver        11030.0\n",
      "9      WindOnShore        23400.0\n",
      "10         OldNuke        61080.0\n",
      "11     curtailment            0.0\n",
      "12  HydroReservoir         8785.0, 'capacityCosts_Pvar':       TECHNOLOGIES  capacityCosts_Pvar\n",
      "0              CCG        1.040384e+09\n",
      "1    NewHydroRiver        1.962082e+08\n",
      "2            Solar        2.589154e+09\n",
      "3              TAC       -0.000000e+00\n",
      "4             Coal       -0.000000e+00\n",
      "5          Biomass        4.911315e+08\n",
      "6          NewNuke       -0.000000e+00\n",
      "7     WindOffShore        1.625054e+09\n",
      "8       HydroRiver        9.973124e+08\n",
      "9      WindOnShore        2.547323e+09\n",
      "10         OldNuke        1.329619e+10\n",
      "11     curtailment        0.000000e+00\n",
      "12  HydroReservoir        6.200264e+08, 'storageIn_Pvar':                      TIME      STOCK_TECHNO  storageIn_Pvar\n",
      "0     2019-10-18 08:00:00           Battery        0.000000\n",
      "1     2019-10-18 08:00:00      HydroStorage        0.000000\n",
      "2     2019-10-18 08:00:00  PowertoH2toPower     6800.027704\n",
      "3     2019-02-05 06:00:00           Battery        0.000000\n",
      "4     2019-02-05 06:00:00      HydroStorage        0.000000\n",
      "...                   ...               ...             ...\n",
      "26275 2019-12-29 23:00:00      HydroStorage        0.000000\n",
      "26276 2019-12-29 23:00:00  PowertoH2toPower     6800.027704\n",
      "26277 2019-11-25 11:00:00           Battery        0.000000\n",
      "26278 2019-11-25 11:00:00      HydroStorage        0.000000\n",
      "26279 2019-11-25 11:00:00  PowertoH2toPower        0.000000\n",
      "\n",
      "[26280 rows x 3 columns], 'storageOut_Pvar':                      TIME      STOCK_TECHNO  storageOut_Pvar\n",
      "0     2019-10-18 08:00:00           Battery      2478.065184\n",
      "1     2019-10-18 08:00:00      HydroStorage         0.000000\n",
      "2     2019-10-18 08:00:00  PowertoH2toPower         0.000000\n",
      "3     2019-02-05 06:00:00           Battery         0.000000\n",
      "4     2019-02-05 06:00:00      HydroStorage         0.000000\n",
      "...                   ...               ...              ...\n",
      "26275 2019-12-29 23:00:00      HydroStorage         0.000000\n",
      "26276 2019-12-29 23:00:00  PowertoH2toPower         0.000000\n",
      "26277 2019-11-25 11:00:00           Battery         0.000000\n",
      "26278 2019-11-25 11:00:00      HydroStorage         0.000000\n",
      "26279 2019-11-25 11:00:00  PowertoH2toPower         0.000000\n",
      "\n",
      "[26280 rows x 3 columns], 'stockLevel_Pvar':                      TIME      STOCK_TECHNO  stockLevel_Pvar\n",
      "0     2019-10-18 08:00:00           Battery     1.538846e+04\n",
      "1     2019-10-18 08:00:00      HydroStorage     5.567831e+04\n",
      "2     2019-10-18 08:00:00  PowertoH2toPower     1.754094e+06\n",
      "3     2019-02-05 06:00:00           Battery     0.000000e+00\n",
      "4     2019-02-05 06:00:00      HydroStorage     1.274479e+04\n",
      "...                   ...               ...              ...\n",
      "26275 2019-12-29 23:00:00      HydroStorage     9.088200e+04\n",
      "26276 2019-12-29 23:00:00  PowertoH2toPower     1.673029e+06\n",
      "26277 2019-11-25 11:00:00           Battery     1.838829e+04\n",
      "26278 2019-11-25 11:00:00      HydroStorage     3.313400e+03\n",
      "26279 2019-11-25 11:00:00  PowertoH2toPower     9.284727e+05\n",
      "\n",
      "[26280 rows x 3 columns], 'stockLevel_ini_Dvar':        STOCK_TECHNO  stockLevel_ini_Dvar\n",
      "0           Battery         2.090323e+04\n",
      "1      HydroStorage         8.580058e+04\n",
      "2  PowertoH2toPower         1.570392e+06, 'storageCosts_Pvar':        STOCK_TECHNO  storageCosts_Pvar\n",
      "0           Battery       7.265702e+08\n",
      "1      HydroStorage       4.874806e+08\n",
      "2  PowertoH2toPower       2.273013e+09, 'Pmax_in_Dvar':        STOCK_TECHNO  Pmax_in_Dvar\n",
      "0           Battery   8230.587598\n",
      "1      HydroStorage   5049.000000\n",
      "2  PowertoH2toPower   6800.027704, 'Pmax_out_Dvar':        STOCK_TECHNO  Pmax_out_Dvar\n",
      "0           Battery    8230.587598\n",
      "1      HydroStorage    5049.000000\n",
      "2  PowertoH2toPower   10272.971234, 'Cmax_Pvar':        STOCK_TECHNO     Cmax_Pvar\n",
      "0           Battery  2.090323e+04\n",
      "1      HydroStorage  9.088200e+04\n",
      "2  PowertoH2toPower  2.102227e+06, 'flexCosts_Pvar':   FLEX_CONSUM  flexCosts_Pvar\n",
      "0       Steel   -7.659861e+07\n",
      "1          EV    0.000000e+00, 'total_consumption_Pvar':                     TIME  total_consumption_Pvar\n",
      "0    2019-10-18 08:00:00            56673.029598\n",
      "1    2019-02-05 06:00:00            46542.297602\n",
      "2    2019-02-13 11:00:00            88788.619195\n",
      "3    2019-04-16 01:00:00            54559.386089\n",
      "4    2019-06-07 20:00:00            50490.853466\n",
      "...                  ...                     ...\n",
      "8755 2019-06-15 00:00:00            46826.613412\n",
      "8756 2019-12-04 12:00:00            74547.610477\n",
      "8757 2019-05-07 09:00:00            55173.971445\n",
      "8758 2019-12-29 23:00:00            67214.910930\n",
      "8759 2019-11-25 11:00:00            74293.843276\n",
      "\n",
      "[8760 rows x 2 columns], 'flex_consumption_Pvar':                      TIME FLEX_CONSUM  flex_consumption_Pvar\n",
      "0     2019-10-18 08:00:00       Steel            4916.722055\n",
      "1     2019-10-18 08:00:00          EV             296.132143\n",
      "2     2019-02-05 06:00:00       Steel            3753.252666\n",
      "3     2019-02-05 06:00:00          EV               0.000000\n",
      "4     2019-02-13 11:00:00       Steel            3099.812630\n",
      "...                   ...         ...                    ...\n",
      "17515 2019-05-07 09:00:00          EV               0.000000\n",
      "17516 2019-12-29 23:00:00       Steel             293.531575\n",
      "17517 2019-12-29 23:00:00          EV            7928.891752\n",
      "17518 2019-11-25 11:00:00       Steel            3584.457419\n",
      "17519 2019-11-25 11:00:00          EV               0.000000\n",
      "\n",
      "[17520 rows x 3 columns], 'a_plus_Pvar':                      TIME FLEX_CONSUM  a_plus_Pvar\n",
      "0     2019-10-18 08:00:00       Steel  1585.136557\n",
      "1     2019-10-18 08:00:00          EV     0.000000\n",
      "2     2019-02-05 06:00:00       Steel  1284.303747\n",
      "3     2019-02-05 06:00:00          EV     0.000000\n",
      "4     2019-02-13 11:00:00       Steel     0.000000\n",
      "...                   ...         ...          ...\n",
      "17515 2019-05-07 09:00:00          EV     0.000000\n",
      "17516 2019-12-29 23:00:00       Steel     0.000000\n",
      "17517 2019-12-29 23:00:00          EV  6180.016490\n",
      "17518 2019-11-25 11:00:00       Steel   561.339056\n",
      "17519 2019-11-25 11:00:00          EV     0.000000\n",
      "\n",
      "[17520 rows x 3 columns], 'a_minus_Pvar':                      TIME FLEX_CONSUM  a_minus_Pvar\n",
      "0     2019-10-18 08:00:00       Steel      0.000000\n",
      "1     2019-10-18 08:00:00          EV    296.132143\n",
      "2     2019-02-05 06:00:00       Steel      0.000000\n",
      "3     2019-02-05 06:00:00          EV    459.263007\n",
      "4     2019-02-13 11:00:00       Steel    130.344491\n",
      "...                   ...         ...           ...\n",
      "17515 2019-05-07 09:00:00          EV    946.801720\n",
      "17516 2019-12-29 23:00:00       Steel   2641.784171\n",
      "17517 2019-12-29 23:00:00          EV     -0.000000\n",
      "17518 2019-11-25 11:00:00       Steel      0.000000\n",
      "17519 2019-11-25 11:00:00          EV   1491.838479\n",
      "\n",
      "[17520 rows x 3 columns], 'flex_Dvar':                      TIME FLEX_CONSUM  flex_Dvar\n",
      "0     2019-10-18 08:00:00       Steel  -0.475790\n",
      "1     2019-10-18 08:00:00          EV   0.500000\n",
      "2     2019-02-05 06:00:00       Steel  -0.520182\n",
      "3     2019-02-05 06:00:00          EV   1.000000\n",
      "4     2019-02-13 11:00:00       Steel   0.040352\n",
      "...                   ...         ...        ...\n",
      "17515 2019-05-07 09:00:00          EV   1.000000\n",
      "17516 2019-12-29 23:00:00       Steel   0.900000\n",
      "17517 2019-12-29 23:00:00          EV  -3.533709\n",
      "17518 2019-11-25 11:00:00       Steel  -0.185682\n",
      "17519 2019-11-25 11:00:00          EV   1.000000\n",
      "\n",
      "[17520 rows x 3 columns], 'increased_max_power_Dvar':   FLEX_CONSUM  increased_max_power_Dvar\n",
      "0       Steel                       0.0\n",
      "1          EV                      -0.0}\n"
     ]
    }
   ],
   "source": [
    "print(Variables)"
   ]
  },
  {
   "cell_type": "markdown",
   "id": "1c24b0c0",
   "metadata": {},
   "source": [
    "# 1. Capacity "
   ]
  },
  {
   "cell_type": "code",
   "execution_count": 107,
   "id": "446903cb",
   "metadata": {},
   "outputs": [
    {
     "data": {
      "text/html": [
       "<div>\n",
       "<style scoped>\n",
       "    .dataframe tbody tr th:only-of-type {\n",
       "        vertical-align: middle;\n",
       "    }\n",
       "\n",
       "    .dataframe tbody tr th {\n",
       "        vertical-align: top;\n",
       "    }\n",
       "\n",
       "    .dataframe thead th {\n",
       "        text-align: right;\n",
       "    }\n",
       "</style>\n",
       "<table border=\"1\" class=\"dataframe\">\n",
       "  <thead>\n",
       "    <tr style=\"text-align: right;\">\n",
       "      <th></th>\n",
       "      <th>TECHNOLOGIES</th>\n",
       "      <th>capacity_Dvar</th>\n",
       "    </tr>\n",
       "  </thead>\n",
       "  <tbody>\n",
       "    <tr>\n",
       "      <th>0</th>\n",
       "      <td>CCG</td>\n",
       "      <td>12664.0</td>\n",
       "    </tr>\n",
       "    <tr>\n",
       "      <th>1</th>\n",
       "      <td>NewHydroRiver</td>\n",
       "      <td>1200.0</td>\n",
       "    </tr>\n",
       "    <tr>\n",
       "      <th>2</th>\n",
       "      <td>Solar</td>\n",
       "      <td>31900.0</td>\n",
       "    </tr>\n",
       "    <tr>\n",
       "      <th>3</th>\n",
       "      <td>TAC</td>\n",
       "      <td>0.0</td>\n",
       "    </tr>\n",
       "    <tr>\n",
       "      <th>4</th>\n",
       "      <td>Coal</td>\n",
       "      <td>0.0</td>\n",
       "    </tr>\n",
       "    <tr>\n",
       "      <th>5</th>\n",
       "      <td>Biomass</td>\n",
       "      <td>2031.0</td>\n",
       "    </tr>\n",
       "    <tr>\n",
       "      <th>6</th>\n",
       "      <td>NewNuke</td>\n",
       "      <td>0.0</td>\n",
       "    </tr>\n",
       "    <tr>\n",
       "      <th>7</th>\n",
       "      <td>WindOffShore</td>\n",
       "      <td>8200.0</td>\n",
       "    </tr>\n",
       "    <tr>\n",
       "      <th>8</th>\n",
       "      <td>HydroRiver</td>\n",
       "      <td>11030.0</td>\n",
       "    </tr>\n",
       "    <tr>\n",
       "      <th>9</th>\n",
       "      <td>WindOnShore</td>\n",
       "      <td>23400.0</td>\n",
       "    </tr>\n",
       "    <tr>\n",
       "      <th>10</th>\n",
       "      <td>OldNuke</td>\n",
       "      <td>61080.0</td>\n",
       "    </tr>\n",
       "    <tr>\n",
       "      <th>11</th>\n",
       "      <td>curtailment</td>\n",
       "      <td>0.0</td>\n",
       "    </tr>\n",
       "    <tr>\n",
       "      <th>12</th>\n",
       "      <td>HydroReservoir</td>\n",
       "      <td>8785.0</td>\n",
       "    </tr>\n",
       "  </tbody>\n",
       "</table>\n",
       "</div>"
      ],
      "text/plain": [
       "      TECHNOLOGIES  capacity_Dvar\n",
       "0              CCG        12664.0\n",
       "1    NewHydroRiver         1200.0\n",
       "2            Solar        31900.0\n",
       "3              TAC            0.0\n",
       "4             Coal            0.0\n",
       "5          Biomass         2031.0\n",
       "6          NewNuke            0.0\n",
       "7     WindOffShore         8200.0\n",
       "8       HydroRiver        11030.0\n",
       "9      WindOnShore        23400.0\n",
       "10         OldNuke        61080.0\n",
       "11     curtailment            0.0\n",
       "12  HydroReservoir         8785.0"
      ]
     },
     "execution_count": 107,
     "metadata": {},
     "output_type": "execute_result"
    }
   ],
   "source": [
    "# Production means capacity (MW)\n",
    "Variables['capacity_Dvar']"
   ]
  },
  {
   "cell_type": "code",
   "execution_count": 73,
   "id": "c9e60f1a",
   "metadata": {},
   "outputs": [
    {
     "data": {
      "text/plain": [
       "TIME                      2019-12-31 23:00:00\n",
       "total_consumption_Pvar          138364.610149\n",
       "dtype: object"
      ]
     },
     "execution_count": 73,
     "metadata": {},
     "output_type": "execute_result"
    }
   ],
   "source": [
    "# Storage means capacity (MW)\n",
    "Variables['total_consumption_Pvar'].max()"
   ]
  },
  {
   "cell_type": "code",
   "execution_count": 74,
   "id": "d314c49f",
   "metadata": {},
   "outputs": [
    {
     "data": {
      "text/plain": [
       "TIME           2019-12-31 23:00:00\n",
       "energy_Pvar          138364.610149\n",
       "dtype: object"
      ]
     },
     "execution_count": 74,
     "metadata": {},
     "output_type": "execute_result"
    }
   ],
   "source": [
    "Variables['energy_Pvar'].max()"
   ]
  },
  {
   "cell_type": "code",
   "execution_count": 7,
   "id": "2abcb6a9",
   "metadata": {},
   "outputs": [
    {
     "name": "stdout",
     "output_type": "stream",
     "text": [
      "                     TIME    TECHNOLOGIES    power_Dvar\n",
      "40989 2019-12-31 23:00:00     WindOnShore   4432.600000\n",
      "40990 2019-12-31 23:00:00             CCG      0.000000\n",
      "40991 2019-12-31 23:00:00         OldNuke  15520.000000\n",
      "40992 2019-12-31 23:00:00             TAC      0.000000\n",
      "40993 2019-12-31 23:00:00    WindOffShore  10598.700000\n",
      "40994 2019-12-31 23:00:00  HydroReservoir   8785.000000\n",
      "40995 2019-12-31 23:00:00         Biomass   3000.000000\n",
      "40996 2019-12-31 23:00:00            Coal      0.000000\n",
      "40997 2019-12-31 23:00:00           Solar      0.000000\n",
      "40998 2019-12-31 23:00:00         NewNuke  21710.000000\n",
      "40999 2019-12-31 23:00:00      HydroRiver   8233.891861\n",
      "41000 2019-12-31 23:00:00   NewHydroRiver    895.799659\n",
      "41001 2019-12-31 23:00:00     curtailment      0.000000\n",
      "73175.99151963575\n",
      "                    TIME      STOCK_TECHNO  storageOut_Pvar\n",
      "9459 2019-12-31 23:00:00           Battery              0.0\n",
      "9460 2019-12-31 23:00:00  PowertoH2toPower              0.0\n",
      "9461 2019-12-31 23:00:00      HydroStorage              0.0\n",
      "                    TIME      STOCK_TECHNO  storageIn_Pvar\n",
      "9459 2019-12-31 23:00:00           Battery             0.0\n",
      "9460 2019-12-31 23:00:00  PowertoH2toPower             0.0\n",
      "9461 2019-12-31 23:00:00      HydroStorage             0.0\n",
      "                    TIME      STOCK_TECHNO  stockLevel_Pvar\n",
      "9459 2019-12-31 23:00:00           Battery     0.000000e+00\n",
      "9460 2019-12-31 23:00:00  PowertoH2toPower     5.920998e+06\n",
      "9461 2019-12-31 23:00:00      HydroStorage     6.553563e+04\n",
      "       STOCK_TECHNO  stockLevel_ini_Dvar\n",
      "0           Battery         0.000000e+00\n",
      "1  PowertoH2toPower         5.920998e+06\n",
      "2      HydroStorage         6.553563e+04\n"
     ]
    }
   ],
   "source": [
    "df=Variables['power_Dvar']\n",
    "print(df[df.TIME==pd.Timestamp('2019-12-31 23:00:00')])\n",
    "print(df[df.TIME==pd.Timestamp('2019-12-31 23:00:00')]['power_Dvar'].sum())\n",
    "df2=Variables['storageOut_Pvar']\n",
    "print(df2[df2.TIME==pd.Timestamp('2019-12-31 23:00:00')])\n",
    "df3=Variables['storageIn_Pvar']\n",
    "print(df3[df3.TIME==pd.Timestamp('2019-12-31 23:00:00')])\n",
    "df4=Variables['stockLevel_Pvar']\n",
    "print(df4[df4.TIME==pd.Timestamp('2019-12-31 23:00:00')])\n",
    "print(Variables['stockLevel_ini_Dvar'])"
   ]
  },
  {
   "cell_type": "code",
   "execution_count": 8,
   "id": "264e23e5",
   "metadata": {},
   "outputs": [
    {
     "name": "stdout",
     "output_type": "stream",
     "text": [
      "4.3655745685100555e-11\n",
      "0\n"
     ]
    }
   ],
   "source": [
    "df=Variables['power_Dvar']\n",
    "df2=Variables['storageOut_Pvar']\n",
    "df3=Variables['storageIn_Pvar']\n",
    "df=df.groupby('TIME')['power_Dvar'].sum()\n",
    "df2=df2.groupby('TIME')['storageOut_Pvar'].sum()\n",
    "df3=df3.groupby('TIME')['storageIn_Pvar'].sum()\n",
    "df_prod=pd.DataFrame()\n",
    "df_prod['Prod']=df+df2-df3\n",
    "#df_prod\n",
    "#df_prod=df_prod.set_index('TIME')\n",
    "\n",
    "df_diff=pd.DataFrame()\n",
    "df_diff['diff']=df_prod['Prod']-Variables['total_consumption_Pvar'].set_index('TIME')['total_consumption_Pvar']\n",
    "print(df_diff['diff'].max())\n",
    "N_err=0\n",
    "for i in df_diff.index:\n",
    "    if np.abs(df_diff.loc[i,'diff'])>1:\n",
    "        N_err+=1\n",
    "        print(df_diff.loc[i,'diff'])\n",
    "print(N_err)"
   ]
  },
  {
   "cell_type": "code",
   "execution_count": 9,
   "id": "4f93fd9a",
   "metadata": {},
   "outputs": [
    {
     "data": {
      "text/plain": [
       "Prod    73175.99152\n",
       "Name: 2019-12-31 23:00:00, dtype: float64"
      ]
     },
     "execution_count": 9,
     "metadata": {},
     "output_type": "execute_result"
    }
   ],
   "source": [
    "df_prod.loc[pd.Timestamp('2019-12-31 23:00:00')]"
   ]
  },
  {
   "cell_type": "code",
   "execution_count": 10,
   "id": "d302d22f",
   "metadata": {},
   "outputs": [
    {
     "data": {
      "text/plain": [
       "total_consumption_Pvar    73175.99152\n",
       "Name: 2019-12-31 23:00:00, dtype: float64"
      ]
     },
     "execution_count": 10,
     "metadata": {},
     "output_type": "execute_result"
    }
   ],
   "source": [
    "Variables['total_consumption_Pvar'].set_index('TIME').loc[pd.Timestamp('2019-12-31 23:00:00')]"
   ]
  },
  {
   "cell_type": "code",
   "execution_count": 21,
   "id": "843e26b2",
   "metadata": {},
   "outputs": [
    {
     "data": {
      "text/plain": [
       "TIME                      2019-12-31 23:00:00\n",
       "total_consumption_Pvar            155289.7205\n",
       "dtype: object"
      ]
     },
     "execution_count": 21,
     "metadata": {},
     "output_type": "execute_result"
    }
   ],
   "source": [
    "Variables['total_consumption_Pvar'].max()"
   ]
  },
  {
   "cell_type": "code",
   "execution_count": 12,
   "id": "c3d1deb0",
   "metadata": {},
   "outputs": [
    {
     "data": {
      "text/html": [
       "<div>\n",
       "<style scoped>\n",
       "    .dataframe tbody tr th:only-of-type {\n",
       "        vertical-align: middle;\n",
       "    }\n",
       "\n",
       "    .dataframe tbody tr th {\n",
       "        vertical-align: top;\n",
       "    }\n",
       "\n",
       "    .dataframe thead th {\n",
       "        text-align: right;\n",
       "    }\n",
       "</style>\n",
       "<table border=\"1\" class=\"dataframe\">\n",
       "  <thead>\n",
       "    <tr style=\"text-align: right;\">\n",
       "      <th></th>\n",
       "      <th>TIME</th>\n",
       "      <th>total_consumption_Pvar</th>\n",
       "    </tr>\n",
       "  </thead>\n",
       "  <tbody>\n",
       "    <tr>\n",
       "      <th>1290</th>\n",
       "      <td>2019-01-24 13:00:00</td>\n",
       "      <td>150448.942674</td>\n",
       "    </tr>\n",
       "  </tbody>\n",
       "</table>\n",
       "</div>"
      ],
      "text/plain": [
       "                    TIME  total_consumption_Pvar\n",
       "1290 2019-01-24 13:00:00           150448.942674"
      ]
     },
     "execution_count": 12,
     "metadata": {},
     "output_type": "execute_result"
    }
   ],
   "source": [
    "Variables['total_consumption_Pvar'][Variables['total_consumption_Pvar'].total_consumption_Pvar==Variables['total_consumption_Pvar']['total_consumption_Pvar'].max()]"
   ]
  },
  {
   "cell_type": "code",
   "execution_count": 13,
   "id": "dcd8f2f6",
   "metadata": {},
   "outputs": [
    {
     "data": {
      "text/plain": [
       "[8974.985765378075,\n",
       " 11252.569669328535,\n",
       " 10691.645219955992,\n",
       " 11170.426644899537,\n",
       " 13510.099229131103,\n",
       " 15473.200406998334,\n",
       " 16550.885092623164,\n",
       " 4425.99954355268,\n",
       " 5581.337750877695,\n",
       " 20919.870411678494,\n",
       " 21837.125896171616,\n",
       " 23312.874833511825,\n",
       " 28469.2682218418,\n",
       " 25998.15287218346,\n",
       " 27305.36161875611,\n",
       " 25600.720420410304,\n",
       " 20896.11392020079,\n",
       " 18139.698630793904,\n",
       " 17262.300474917676,\n",
       " 15669.700657177991,\n",
       " 15415.259850726845,\n",
       " 17359.40017950799,\n",
       " 25017.329324809274,\n",
       " 23867.510910719506]"
      ]
     },
     "execution_count": 13,
     "metadata": {},
     "output_type": "execute_result"
    }
   ],
   "source": [
    "d0=pd.Timestamp('2019-01-01 00:00:00')\n",
    "d1h=timedelta(hours=1)\n",
    "df=Variables['flex_consumption_Pvar']\n",
    "L_EV=[]\n",
    "for h in range(24):\n",
    "    L_EV.append(float(df[(df.TIME==d0+h*d1h)&(df.FLEX_CONSUM=='EV')]['flex_consumption_Pvar']))\n",
    "L_EV"
   ]
  },
  {
   "cell_type": "code",
   "execution_count": 102,
   "id": "e0838f3a",
   "metadata": {},
   "outputs": [
    {
     "data": {
      "text/plain": [
       "34.809780897527354"
      ]
     },
     "execution_count": 102,
     "metadata": {},
     "output_type": "execute_result"
    }
   ],
   "source": [
    "def Total_cost(Variables):\n",
    "    return 1/1e9*(Variables['powerCosts_Pvar']['powerCosts_Pvar'].sum()\\\n",
    "            +Variables['capacityCosts_Pvar']['capacityCosts_Pvar'].sum()\\\n",
    "            +Variables['storageCosts_Pvar']['storageCosts_Pvar'].sum()\\\n",
    "            +float(Variables['flexCosts_Pvar']['flexCosts_Pvar'].sum()))\n",
    "Total_cost(Variables)"
   ]
  },
  {
   "cell_type": "code",
   "execution_count": null,
   "id": "190adc31",
   "metadata": {},
   "outputs": [],
   "source": []
  }
 ],
 "metadata": {
  "kernelspec": {
   "display_name": "energyalternatives",
   "language": "python",
   "name": "energyalternatives"
  },
  "language_info": {
   "codemirror_mode": {
    "name": "ipython",
    "version": 3
   },
   "file_extension": ".py",
   "mimetype": "text/x-python",
   "name": "python",
   "nbconvert_exporter": "python",
   "pygments_lexer": "ipython3",
   "version": "3.10.4"
  }
 },
 "nbformat": 4,
 "nbformat_minor": 5
}
