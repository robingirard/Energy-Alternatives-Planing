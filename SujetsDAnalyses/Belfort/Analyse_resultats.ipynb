{
 "cells": [
  {
   "cell_type": "code",
   "execution_count": 1,
   "id": "7878b15d",
   "metadata": {},
   "outputs": [],
   "source": [
    "import pickle\n",
    "import pandas as pd\n",
    "from datetime import timedelta\n",
    "import numpy as np"
   ]
  },
  {
   "cell_type": "markdown",
   "id": "d16161eb",
   "metadata": {},
   "source": [
    "# 1. Import data"
   ]
  },
  {
   "cell_type": "code",
   "execution_count": 37,
   "id": "57950e02",
   "metadata": {},
   "outputs": [],
   "source": [
    "year=2050\n",
    "nuc=\"nuclear_plus\"\n",
    "type_result=\"multinode_\"#\"\" if singlenode\n",
    "bati_hyp=\"ref\"\n",
    "reindus=\"UNIDEN\"\n",
    "with open(\"Results_\"+type_result+str(year)+\"_\"+nuc+\"_\"+bati_hyp+\"_\"+reindus+\".pickle\", 'rb') as f:\n",
    "    Variables=pickle.load(f)"
   ]
  },
  {
   "cell_type": "code",
   "execution_count": 14,
   "id": "476754c2",
   "metadata": {},
   "outputs": [
    {
     "name": "stdout",
     "output_type": "stream",
     "text": [
      "{'power_Dvar':        AREAS                TIME   TECHNOLOGIES    power_Dvar\n",
      "0         IT 2019-10-07 22:00:00            TAC      0.000000\n",
      "1         IT 2019-10-07 22:00:00  NewHydroRiver      0.000000\n",
      "2         IT 2019-10-07 22:00:00   WindOffShore    331.000000\n",
      "3         IT 2019-10-07 22:00:00     HydroRiver   6060.872585\n",
      "4         IT 2019-10-07 22:00:00    curtailment      0.000000\n",
      "...      ...                 ...            ...           ...\n",
      "858475    ES 2019-04-21 17:00:00        Biomass      0.000000\n",
      "858476    ES 2019-04-21 17:00:00           Coal      0.000000\n",
      "858477    ES 2019-04-21 17:00:00    WindOnShore  11169.309928\n",
      "858478    ES 2019-04-21 17:00:00        NewNuke      0.000000\n",
      "858479    ES 2019-04-21 17:00:00        OldNuke      0.000000\n",
      "\n",
      "[858480 rows x 4 columns], 'exchange_Pvar':        AREAS AREAS                TIME  exchange_Pvar\n",
      "0         IT    IT 2019-10-07 22:00:00            0.0\n",
      "1         IT    IT 2019-06-04 14:00:00            0.0\n",
      "2         IT    IT 2019-04-02 12:00:00            0.0\n",
      "3         IT    IT 2019-04-16 10:00:00            0.0\n",
      "4         IT    IT 2019-10-11 04:00:00            0.0\n",
      "...      ...   ...                 ...            ...\n",
      "429235    ES    ES 2019-04-23 12:00:00            0.0\n",
      "429236    ES    ES 2019-07-23 08:00:00            0.0\n",
      "429237    ES    ES 2019-04-06 12:00:00            0.0\n",
      "429238    ES    ES 2019-08-10 15:00:00            0.0\n",
      "429239    ES    ES 2019-04-21 17:00:00            0.0\n",
      "\n",
      "[429240 rows x 4 columns], 'powerCosts_Pvar':    AREAS   TECHNOLOGIES  powerCosts_Pvar\n",
      "0     IT            TAC              0.0\n",
      "1     IT  NewHydroRiver              0.0\n",
      "2     IT   WindOffShore              0.0\n",
      "3     IT     HydroRiver              0.0\n",
      "4     IT    curtailment             -0.0\n",
      "..   ...            ...              ...\n",
      "93    ES        Biomass             -0.0\n",
      "94    ES           Coal             -0.0\n",
      "95    ES    WindOnShore              0.0\n",
      "96    ES        NewNuke             -0.0\n",
      "97    ES        OldNuke             -0.0\n",
      "\n",
      "[98 rows x 3 columns], 'capacity_Dvar':    AREAS   TECHNOLOGIES  capacity_Dvar\n",
      "0     IT            TAC            0.0\n",
      "1     IT  NewHydroRiver            0.0\n",
      "2     IT   WindOffShore         1000.0\n",
      "3     IT     HydroRiver        15890.0\n",
      "4     IT    curtailment            0.0\n",
      "..   ...            ...            ...\n",
      "93    ES        Biomass            0.0\n",
      "94    ES           Coal            0.0\n",
      "95    ES    WindOnShore        56235.0\n",
      "96    ES        NewNuke            0.0\n",
      "97    ES        OldNuke            0.0\n",
      "\n",
      "[98 rows x 3 columns], 'capacityCosts_Pvar':    AREAS   TECHNOLOGIES  capacityCosts_Pvar\n",
      "0     IT            TAC        0.000000e+00\n",
      "1     IT  NewHydroRiver        0.000000e+00\n",
      "2     IT   WindOffShore        1.597608e+08\n",
      "3     IT     HydroRiver        1.436745e+09\n",
      "4     IT    curtailment        0.000000e+00\n",
      "..   ...            ...                 ...\n",
      "93    ES        Biomass        0.000000e+00\n",
      "94    ES           Coal       -0.000000e+00\n",
      "95    ES    WindOnShore        4.970396e+09\n",
      "96    ES        NewNuke       -0.000000e+00\n",
      "97    ES        OldNuke       -0.000000e+00\n",
      "\n",
      "[98 rows x 3 columns], 'storageIn_Pvar':        AREAS                TIME      STOCK_TECHNO  storageIn_Pvar\n",
      "0         IT 2019-10-07 22:00:00      HydroStorage        0.000000\n",
      "1         IT 2019-10-07 22:00:00  PowertoH2toPower    10722.283940\n",
      "2         IT 2019-10-07 22:00:00           Battery        0.000000\n",
      "3         IT 2019-06-04 14:00:00      HydroStorage        0.000000\n",
      "4         IT 2019-06-04 14:00:00  PowertoH2toPower    10950.102861\n",
      "...      ...                 ...               ...             ...\n",
      "183955    ES 2019-08-10 15:00:00  PowertoH2toPower    24391.962974\n",
      "183956    ES 2019-08-10 15:00:00           Battery        0.000000\n",
      "183957    ES 2019-04-21 17:00:00      HydroStorage        0.000000\n",
      "183958    ES 2019-04-21 17:00:00  PowertoH2toPower    10221.620165\n",
      "183959    ES 2019-04-21 17:00:00           Battery        0.000000\n",
      "\n",
      "[183960 rows x 4 columns], 'storageOut_Pvar':        AREAS                TIME      STOCK_TECHNO  storageOut_Pvar\n",
      "0         IT 2019-10-07 22:00:00      HydroStorage              0.0\n",
      "1         IT 2019-10-07 22:00:00  PowertoH2toPower              0.0\n",
      "2         IT 2019-10-07 22:00:00           Battery              0.0\n",
      "3         IT 2019-06-04 14:00:00      HydroStorage              0.0\n",
      "4         IT 2019-06-04 14:00:00  PowertoH2toPower              0.0\n",
      "...      ...                 ...               ...              ...\n",
      "183955    ES 2019-08-10 15:00:00  PowertoH2toPower              0.0\n",
      "183956    ES 2019-08-10 15:00:00           Battery              0.0\n",
      "183957    ES 2019-04-21 17:00:00      HydroStorage              0.0\n",
      "183958    ES 2019-04-21 17:00:00  PowertoH2toPower              0.0\n",
      "183959    ES 2019-04-21 17:00:00           Battery              0.0\n",
      "\n",
      "[183960 rows x 4 columns], 'stockLevel_Pvar':        AREAS                TIME      STOCK_TECHNO  stockLevel_Pvar\n",
      "0         IT 2019-10-07 22:00:00      HydroStorage     2.122528e+05\n",
      "1         IT 2019-10-07 22:00:00  PowertoH2toPower     3.167736e+06\n",
      "2         IT 2019-10-07 22:00:00           Battery     4.920691e+03\n",
      "3         IT 2019-06-04 14:00:00      HydroStorage     1.058455e+05\n",
      "4         IT 2019-06-04 14:00:00  PowertoH2toPower     3.691150e+06\n",
      "...      ...                 ...               ...              ...\n",
      "183955    ES 2019-08-10 15:00:00  PowertoH2toPower     4.512842e+06\n",
      "183956    ES 2019-08-10 15:00:00           Battery     0.000000e+00\n",
      "183957    ES 2019-04-21 17:00:00      HydroStorage     1.580237e+05\n",
      "183958    ES 2019-04-21 17:00:00  PowertoH2toPower     1.149958e+06\n",
      "183959    ES 2019-04-21 17:00:00           Battery     0.000000e+00\n",
      "\n",
      "[183960 rows x 4 columns], 'stockLevel_ini_Dvar':    AREAS      STOCK_TECHNO  stockLevel_ini_Dvar\n",
      "0     IT      HydroStorage         1.243969e+05\n",
      "1     IT  PowertoH2toPower         1.602045e+06\n",
      "2     IT           Battery         0.000000e+00\n",
      "3     DE      HydroStorage         0.000000e+00\n",
      "4     DE  PowertoH2toPower         3.230769e+06\n",
      "5     DE           Battery         0.000000e+00\n",
      "6     BE      HydroStorage         4.708800e+03\n",
      "7     BE  PowertoH2toPower         4.462262e+05\n",
      "8     BE           Battery         0.000000e+00\n",
      "9     CH      HydroStorage         3.392278e+05\n",
      "10    CH  PowertoH2toPower         3.032754e+04\n",
      "11    CH           Battery         1.436018e+02\n",
      "12    GB      HydroStorage         7.634335e+04\n",
      "13    GB  PowertoH2toPower         1.196111e+06\n",
      "14    GB           Battery         0.000000e+00\n",
      "15    FR      HydroStorage         1.097890e+05\n",
      "16    FR  PowertoH2toPower         1.612601e+06\n",
      "17    FR           Battery         6.404327e+03\n",
      "18    ES      HydroStorage         7.899645e+04\n",
      "19    ES  PowertoH2toPower         1.358999e+06\n",
      "20    ES           Battery         0.000000e+00, 'storageCosts_Pvar':    AREAS      STOCK_TECHNO  storageCosts_Pvar\n",
      "0     IT      HydroStorage       1.751537e+09\n",
      "1     IT  PowertoH2toPower       1.555491e+09\n",
      "2     IT           Battery       1.972006e+08\n",
      "3     DE      HydroStorage       5.986096e+08\n",
      "4     DE  PowertoH2toPower       5.172217e+09\n",
      "5     DE           Battery       1.857040e+08\n",
      "6     BE      HydroStorage       1.262873e+08\n",
      "7     BE  PowertoH2toPower       4.933425e+08\n",
      "8     BE           Battery       4.791092e+07\n",
      "9     CH      HydroStorage       6.450501e+08\n",
      "10    CH  PowertoH2toPower       9.050395e+07\n",
      "11    CH           Battery       5.754956e+06\n",
      "12    GB      HydroStorage       7.445399e+08\n",
      "13    GB  PowertoH2toPower       1.239636e+09\n",
      "14    GB           Battery       2.756375e+08\n",
      "15    FR      HydroStorage       1.052298e+09\n",
      "16    FR  PowertoH2toPower       2.496901e+09\n",
      "17    FR           Battery       8.488466e+08\n",
      "18    ES      HydroStorage       1.544799e+09\n",
      "19    ES  PowertoH2toPower       3.408327e+09\n",
      "20    ES           Battery      -0.000000e+00, 'Pmax_in_Dvar':    AREAS      STOCK_TECHNO  Pmax_in_Dvar\n",
      "0     IT      HydroStorage  18141.261092\n",
      "1     IT  PowertoH2toPower  10950.102861\n",
      "2     IT           Battery   4674.656732\n",
      "3     DE      HydroStorage   6200.000000\n",
      "4     DE  PowertoH2toPower  30231.026984\n",
      "5     DE           Battery   4402.129460\n",
      "6     BE      HydroStorage   1308.000000\n",
      "7     BE  PowertoH2toPower   3538.279228\n",
      "8     BE           Battery   1135.732525\n",
      "9     CH      HydroStorage   6681.000000\n",
      "10    CH  PowertoH2toPower    653.476610\n",
      "11    CH           Battery    136.421722\n",
      "12    GB      HydroStorage   7711.449314\n",
      "13    GB  PowertoH2toPower   8893.456960\n",
      "14    GB           Battery   6534.012091\n",
      "15    FR      HydroStorage  10899.000000\n",
      "16    FR  PowertoH2toPower  17903.020893\n",
      "17    FR           Battery  18743.732433\n",
      "18    ES      HydroStorage  16000.000000\n",
      "19    ES  PowertoH2toPower  24391.962974\n",
      "20    ES           Battery      0.000000, 'Pmax_out_Dvar':    AREAS      STOCK_TECHNO  Pmax_out_Dvar\n",
      "0     IT      HydroStorage   18141.261092\n",
      "1     IT  PowertoH2toPower       0.000000\n",
      "2     IT           Battery    4674.656732\n",
      "3     DE      HydroStorage    6200.000000\n",
      "4     DE  PowertoH2toPower    8851.713804\n",
      "5     DE           Battery    4402.129460\n",
      "6     BE      HydroStorage    1308.000000\n",
      "7     BE  PowertoH2toPower       0.000000\n",
      "8     BE           Battery    1135.732525\n",
      "9     CH      HydroStorage    6681.000000\n",
      "10    CH  PowertoH2toPower       0.000000\n",
      "11    CH           Battery     136.421722\n",
      "12    GB      HydroStorage    7711.449314\n",
      "13    GB  PowertoH2toPower       0.000000\n",
      "14    GB           Battery    6534.012091\n",
      "15    FR      HydroStorage   10899.000000\n",
      "16    FR  PowertoH2toPower       0.000000\n",
      "17    FR           Battery   18743.732433\n",
      "18    ES      HydroStorage   16000.000000\n",
      "19    ES  PowertoH2toPower       0.000000\n",
      "20    ES           Battery      -0.000000, 'Cmax_Pvar':    AREAS      STOCK_TECHNO     Cmax_Pvar\n",
      "0     IT      HydroStorage  2.122528e+05\n",
      "1     IT  PowertoH2toPower  3.980221e+06\n",
      "2     IT           Battery  4.920691e+03\n",
      "3     DE      HydroStorage  3.348000e+04\n",
      "4     DE  PowertoH2toPower  7.449589e+06\n",
      "5     DE           Battery  4.633820e+03\n",
      "6     BE      HydroStorage  4.708800e+03\n",
      "7     BE  PowertoH2toPower  6.674839e+05\n",
      "8     BE           Battery  1.195508e+03\n",
      "9     CH      HydroStorage  3.908385e+05\n",
      "10    CH  PowertoH2toPower  8.258657e+04\n",
      "11    CH           Battery  1.436018e+02\n",
      "12    GB      HydroStorage  9.022396e+04\n",
      "13    GB  PowertoH2toPower  1.652431e+06\n",
      "14    GB           Battery  6.877907e+03\n",
      "15    FR      HydroStorage  1.961820e+05\n",
      "16    FR  PowertoH2toPower  3.422759e+06\n",
      "17    FR           Battery  2.232147e+04\n",
      "18    ES      HydroStorage  2.736000e+05\n",
      "19    ES  PowertoH2toPower  5.091729e+06\n",
      "20    ES           Battery  0.000000e+00, 'flexCosts_Pvar':    AREAS FLEX_CONSUM  flexCosts_Pvar\n",
      "0     IT       Steel    3.205874e+08\n",
      "1     IT          EV    6.819174e+08\n",
      "2     DE       Steel    7.439395e+08\n",
      "3     DE          EV    6.633569e+08\n",
      "4     BE       Steel    1.404208e+08\n",
      "5     BE          EV    1.179547e+08\n",
      "6     CH       Steel    5.633928e+05\n",
      "7     CH          EV    1.119867e+08\n",
      "8     GB       Steel    1.048623e+08\n",
      "9     GB          EV    1.227680e+08\n",
      "10    FR       Steel   -7.190958e+07\n",
      "11    FR          EV    8.651072e+08\n",
      "12    ES       Steel    4.901192e+07\n",
      "13    ES          EV    6.052864e+08, 'total_consumption_Pvar':       AREAS                TIME  total_consumption_Pvar\n",
      "0        IT 2019-10-07 22:00:00            38754.235854\n",
      "1        IT 2019-06-04 14:00:00            70891.201821\n",
      "2        IT 2019-04-02 12:00:00            65290.278356\n",
      "3        IT 2019-04-16 10:00:00            65499.666914\n",
      "4        IT 2019-10-11 04:00:00            30319.439945\n",
      "...     ...                 ...                     ...\n",
      "61315    ES 2019-04-23 12:00:00            47436.436090\n",
      "61316    ES 2019-07-23 08:00:00            37028.089170\n",
      "61317    ES 2019-04-06 12:00:00            48516.213689\n",
      "61318    ES 2019-08-10 15:00:00            49178.505954\n",
      "61319    ES 2019-04-21 17:00:00            26094.035175\n",
      "\n",
      "[61320 rows x 3 columns], 'flex_consumption_Pvar':        AREAS                TIME FLEX_CONSUM  flex_consumption_Pvar\n",
      "0         IT 2019-10-07 22:00:00       Steel            6622.861564\n",
      "1         IT 2019-10-07 22:00:00          EV               0.000000\n",
      "2         IT 2019-06-04 14:00:00       Steel            6622.861564\n",
      "3         IT 2019-06-04 14:00:00          EV           22014.961319\n",
      "4         IT 2019-04-02 12:00:00       Steel            6622.861564\n",
      "...      ...                 ...         ...                    ...\n",
      "122635    ES 2019-04-06 12:00:00          EV           12827.327885\n",
      "122636    ES 2019-08-10 15:00:00       Steel            3252.318393\n",
      "122637    ES 2019-08-10 15:00:00          EV           15100.028346\n",
      "122638    ES 2019-04-21 17:00:00       Steel            3252.318393\n",
      "122639    ES 2019-04-21 17:00:00          EV            1716.524735\n",
      "\n",
      "[122640 rows x 4 columns], 'a_plus_Pvar':        AREAS                TIME FLEX_CONSUM   a_plus_Pvar\n",
      "0         IT 2019-10-07 22:00:00       Steel   1468.997953\n",
      "1         IT 2019-10-07 22:00:00          EV      0.000000\n",
      "2         IT 2019-06-04 14:00:00       Steel   1468.997953\n",
      "3         IT 2019-06-04 14:00:00          EV  11850.586527\n",
      "4         IT 2019-04-02 12:00:00       Steel   1468.997953\n",
      "...      ...                 ...         ...           ...\n",
      "122635    ES 2019-04-06 12:00:00          EV  11540.969717\n",
      "122636    ES 2019-08-10 15:00:00       Steel    257.928291\n",
      "122637    ES 2019-08-10 15:00:00          EV  11540.969717\n",
      "122638    ES 2019-04-21 17:00:00       Steel    257.928291\n",
      "122639    ES 2019-04-21 17:00:00          EV      0.000000\n",
      "\n",
      "[122640 rows x 4 columns], 'a_minus_Pvar':        AREAS                TIME FLEX_CONSUM  a_minus_Pvar\n",
      "0         IT 2019-10-07 22:00:00       Steel      0.000000\n",
      "1         IT 2019-10-07 22:00:00          EV  11244.959085\n",
      "2         IT 2019-06-04 14:00:00       Steel      0.000000\n",
      "3         IT 2019-06-04 14:00:00          EV     -0.000000\n",
      "4         IT 2019-04-02 12:00:00       Steel      0.000000\n",
      "...      ...                 ...         ...           ...\n",
      "122635    ES 2019-04-06 12:00:00          EV   2875.447715\n",
      "122636    ES 2019-08-10 15:00:00       Steel      0.000000\n",
      "122637    ES 2019-08-10 15:00:00          EV     -0.000000\n",
      "122638    ES 2019-04-21 17:00:00       Steel      0.000000\n",
      "122639    ES 2019-04-21 17:00:00          EV   1716.524735\n",
      "\n",
      "[122640 rows x 4 columns], 'flex_Dvar':        AREAS                TIME FLEX_CONSUM  flex_Dvar\n",
      "0         IT 2019-10-07 22:00:00       Steel  -0.285028\n",
      "1         IT 2019-10-07 22:00:00          EV   1.000000\n",
      "2         IT 2019-06-04 14:00:00       Steel  -0.285028\n",
      "3         IT 2019-06-04 14:00:00          EV  -1.165894\n",
      "4         IT 2019-04-02 12:00:00       Steel  -0.285028\n",
      "...      ...                 ...         ...        ...\n",
      "122635    ES 2019-04-06 12:00:00          EV  -2.082154\n",
      "122636    ES 2019-08-10 15:00:00       Steel  -0.086137\n",
      "122637    ES 2019-08-10 15:00:00          EV  -3.242703\n",
      "122638    ES 2019-04-21 17:00:00       Steel  -0.086137\n",
      "122639    ES 2019-04-21 17:00:00          EV   0.500000\n",
      "\n",
      "[122640 rows x 4 columns], 'increased_max_power_Dvar':    AREAS FLEX_CONSUM  increased_max_power_Dvar\n",
      "0     IT       Steel               1468.997953\n",
      "1     IT          EV              13002.089837\n",
      "2     DE       Steel               3075.045281\n",
      "3     DE          EV              12648.198559\n",
      "4     BE       Steel                601.605479\n",
      "5     BE          EV               2249.037512\n",
      "6     CH       Steel                  2.875436\n",
      "7     CH          EV               2135.245624\n",
      "8     GB       Steel                495.559654\n",
      "9     GB          EV               2340.811329\n",
      "10    FR       Steel                  0.000000\n",
      "11    FR          EV              16494.962937\n",
      "12    ES       Steel                257.928291\n",
      "13    ES          EV              11540.969717}\n"
     ]
    }
   ],
   "source": [
    "print(Variables)"
   ]
  },
  {
   "cell_type": "code",
   "execution_count": null,
   "id": "4c01d7ef",
   "metadata": {},
   "outputs": [],
   "source": []
  },
  {
   "cell_type": "markdown",
   "id": "e904ec57",
   "metadata": {},
   "source": [
    "# 2. Tools"
   ]
  },
  {
   "cell_type": "markdown",
   "id": "3470f93d",
   "metadata": {},
   "source": [
    "## 2.1. Capacity"
   ]
  },
  {
   "cell_type": "code",
   "execution_count": 34,
   "id": "c289f565",
   "metadata": {},
   "outputs": [],
   "source": [
    "def prod_capa(area):\n",
    "    df=Variables['capacity_Dvar']\n",
    "    return df[df.AREAS==area].set_index('AREAS')[['TECHNOLOGIES','capacity_Dvar']]\n",
    "\n",
    "def stock_capa(area):\n",
    "    df1=Variables['Pmax_in_Dvar']\n",
    "    df2=Variables['Pmax_out_Dvar']\n",
    "    df3=Variables['Cmax_Pvar']\n",
    "    df1['Pmax_out_Dvar']=df2['Pmax_out_Dvar']\n",
    "    df1['Cmax_Pvar']=df3['Cmax_Pvar']\n",
    "    df1['hour_stock']=\n",
    "    return df1[df1.AREAS==area].set_index('AREAS')[['STOCK_TECHNO','Pmax_in_Dvar','Pmax_out_Dvar','Cmax_Pvar']]"
   ]
  },
  {
   "cell_type": "markdown",
   "id": "1c24b0c0",
   "metadata": {},
   "source": [
    "# 3. Capacity "
   ]
  },
  {
   "cell_type": "code",
   "execution_count": 38,
   "id": "446903cb",
   "metadata": {},
   "outputs": [
    {
     "data": {
      "text/html": [
       "<div>\n",
       "<style scoped>\n",
       "    .dataframe tbody tr th:only-of-type {\n",
       "        vertical-align: middle;\n",
       "    }\n",
       "\n",
       "    .dataframe tbody tr th {\n",
       "        vertical-align: top;\n",
       "    }\n",
       "\n",
       "    .dataframe thead th {\n",
       "        text-align: right;\n",
       "    }\n",
       "</style>\n",
       "<table border=\"1\" class=\"dataframe\">\n",
       "  <thead>\n",
       "    <tr style=\"text-align: right;\">\n",
       "      <th></th>\n",
       "      <th>TECHNOLOGIES</th>\n",
       "      <th>capacity_Dvar</th>\n",
       "    </tr>\n",
       "    <tr>\n",
       "      <th>AREAS</th>\n",
       "      <th></th>\n",
       "      <th></th>\n",
       "    </tr>\n",
       "  </thead>\n",
       "  <tbody>\n",
       "    <tr>\n",
       "      <th>FR</th>\n",
       "      <td>Solar</td>\n",
       "      <td>182039.181446</td>\n",
       "    </tr>\n",
       "    <tr>\n",
       "      <th>FR</th>\n",
       "      <td>curtailment</td>\n",
       "      <td>0.000000</td>\n",
       "    </tr>\n",
       "    <tr>\n",
       "      <th>FR</th>\n",
       "      <td>Coal</td>\n",
       "      <td>0.000000</td>\n",
       "    </tr>\n",
       "    <tr>\n",
       "      <th>FR</th>\n",
       "      <td>Geothermal</td>\n",
       "      <td>0.000000</td>\n",
       "    </tr>\n",
       "    <tr>\n",
       "      <th>FR</th>\n",
       "      <td>HydroReservoir</td>\n",
       "      <td>8785.000000</td>\n",
       "    </tr>\n",
       "    <tr>\n",
       "      <th>FR</th>\n",
       "      <td>WindOnShore</td>\n",
       "      <td>37000.000000</td>\n",
       "    </tr>\n",
       "    <tr>\n",
       "      <th>FR</th>\n",
       "      <td>HydroRiver</td>\n",
       "      <td>11030.000000</td>\n",
       "    </tr>\n",
       "    <tr>\n",
       "      <th>FR</th>\n",
       "      <td>Biomass</td>\n",
       "      <td>3000.000000</td>\n",
       "    </tr>\n",
       "    <tr>\n",
       "      <th>FR</th>\n",
       "      <td>TAC</td>\n",
       "      <td>0.000000</td>\n",
       "    </tr>\n",
       "    <tr>\n",
       "      <th>FR</th>\n",
       "      <td>WindOffShore</td>\n",
       "      <td>49000.000000</td>\n",
       "    </tr>\n",
       "    <tr>\n",
       "      <th>FR</th>\n",
       "      <td>OldNuke</td>\n",
       "      <td>13870.000000</td>\n",
       "    </tr>\n",
       "    <tr>\n",
       "      <th>FR</th>\n",
       "      <td>CCG</td>\n",
       "      <td>0.000000</td>\n",
       "    </tr>\n",
       "    <tr>\n",
       "      <th>FR</th>\n",
       "      <td>NewNuke</td>\n",
       "      <td>26730.000000</td>\n",
       "    </tr>\n",
       "    <tr>\n",
       "      <th>FR</th>\n",
       "      <td>NewHydroRiver</td>\n",
       "      <td>1200.000000</td>\n",
       "    </tr>\n",
       "  </tbody>\n",
       "</table>\n",
       "</div>"
      ],
      "text/plain": [
       "         TECHNOLOGIES  capacity_Dvar\n",
       "AREAS                               \n",
       "FR              Solar  182039.181446\n",
       "FR        curtailment       0.000000\n",
       "FR               Coal       0.000000\n",
       "FR         Geothermal       0.000000\n",
       "FR     HydroReservoir    8785.000000\n",
       "FR        WindOnShore   37000.000000\n",
       "FR         HydroRiver   11030.000000\n",
       "FR            Biomass    3000.000000\n",
       "FR                TAC       0.000000\n",
       "FR       WindOffShore   49000.000000\n",
       "FR            OldNuke   13870.000000\n",
       "FR                CCG       0.000000\n",
       "FR            NewNuke   26730.000000\n",
       "FR      NewHydroRiver    1200.000000"
      ]
     },
     "execution_count": 38,
     "metadata": {},
     "output_type": "execute_result"
    }
   ],
   "source": [
    "# Production means capacity (MW)\n",
    "prod_capa('FR')"
   ]
  },
  {
   "cell_type": "code",
   "execution_count": 39,
   "id": "800ca2a7",
   "metadata": {},
   "outputs": [
    {
     "data": {
      "text/html": [
       "<div>\n",
       "<style scoped>\n",
       "    .dataframe tbody tr th:only-of-type {\n",
       "        vertical-align: middle;\n",
       "    }\n",
       "\n",
       "    .dataframe tbody tr th {\n",
       "        vertical-align: top;\n",
       "    }\n",
       "\n",
       "    .dataframe thead th {\n",
       "        text-align: right;\n",
       "    }\n",
       "</style>\n",
       "<table border=\"1\" class=\"dataframe\">\n",
       "  <thead>\n",
       "    <tr style=\"text-align: right;\">\n",
       "      <th></th>\n",
       "      <th>STOCK_TECHNO</th>\n",
       "      <th>Pmax_in_Dvar</th>\n",
       "      <th>Pmax_out_Dvar</th>\n",
       "      <th>Cmax_Pvar</th>\n",
       "    </tr>\n",
       "    <tr>\n",
       "      <th>AREAS</th>\n",
       "      <th></th>\n",
       "      <th></th>\n",
       "      <th></th>\n",
       "      <th></th>\n",
       "    </tr>\n",
       "  </thead>\n",
       "  <tbody>\n",
       "    <tr>\n",
       "      <th>FR</th>\n",
       "      <td>Battery</td>\n",
       "      <td>10832.234168</td>\n",
       "      <td>10832.234168</td>\n",
       "      <td>1.140235e+04</td>\n",
       "    </tr>\n",
       "    <tr>\n",
       "      <th>FR</th>\n",
       "      <td>PowertoH2toPower</td>\n",
       "      <td>24661.678021</td>\n",
       "      <td>0.000000</td>\n",
       "      <td>2.766081e+06</td>\n",
       "    </tr>\n",
       "    <tr>\n",
       "      <th>FR</th>\n",
       "      <td>HydroStorage</td>\n",
       "      <td>10899.000000</td>\n",
       "      <td>10899.000000</td>\n",
       "      <td>1.961820e+05</td>\n",
       "    </tr>\n",
       "  </tbody>\n",
       "</table>\n",
       "</div>"
      ],
      "text/plain": [
       "           STOCK_TECHNO  Pmax_in_Dvar  Pmax_out_Dvar     Cmax_Pvar\n",
       "AREAS                                                             \n",
       "FR              Battery  10832.234168   10832.234168  1.140235e+04\n",
       "FR     PowertoH2toPower  24661.678021       0.000000  2.766081e+06\n",
       "FR         HydroStorage  10899.000000   10899.000000  1.961820e+05"
      ]
     },
     "execution_count": 39,
     "metadata": {},
     "output_type": "execute_result"
    }
   ],
   "source": [
    "# Storage capacity\n",
    "stock_capa('FR')\n",
    "#Variables['Pmax_in_Dvar']"
   ]
  },
  {
   "cell_type": "code",
   "execution_count": 40,
   "id": "6a4c1be7",
   "metadata": {},
   "outputs": [
    {
     "data": {
      "text/plain": [
       "156982.39567314554"
      ]
     },
     "execution_count": 40,
     "metadata": {},
     "output_type": "execute_result"
    }
   ],
   "source": [
    "Variables['total_consumption_Pvar']['total_consumption_Pvar'].max()"
   ]
  },
  {
   "cell_type": "code",
   "execution_count": 41,
   "id": "8cf732ee",
   "metadata": {},
   "outputs": [
    {
     "data": {
      "text/plain": [
       "844.8998137638106"
      ]
     },
     "execution_count": 41,
     "metadata": {},
     "output_type": "execute_result"
    }
   ],
   "source": [
    "Pow_df=Variables['power_Dvar']\n",
    "Pow_df=Pow_df[Pow_df.AREAS=='FR']\n",
    "Pow_df['power_Dvar'].sum()/1E6"
   ]
  },
  {
   "cell_type": "code",
   "execution_count": 42,
   "id": "04bf9914",
   "metadata": {},
   "outputs": [
    {
     "data": {
      "text/plain": [
       "717.2258681478339"
      ]
     },
     "execution_count": 42,
     "metadata": {},
     "output_type": "execute_result"
    }
   ],
   "source": [
    "Conso_df=Variables['total_consumption_Pvar']\n",
    "Conso_df=Conso_df[Conso_df.AREAS=='FR']\n",
    "Conso_df['total_consumption_Pvar'].sum()/1E6"
   ]
  },
  {
   "cell_type": "code",
   "execution_count": 43,
   "id": "8d1df5ed",
   "metadata": {},
   "outputs": [
    {
     "data": {
      "text/plain": [
       "128.35575017627718"
      ]
     },
     "execution_count": 43,
     "metadata": {},
     "output_type": "execute_result"
    }
   ],
   "source": [
    "P2H2_df=Variables['storageIn_Pvar']\n",
    "P2H2_df=P2H2_df[(P2H2_df.STOCK_TECHNO=='PowertoH2toPower')&(P2H2_df.AREAS=='FR')]\n",
    "P2H2_df['storageIn_Pvar'].sum()/1E6"
   ]
  },
  {
   "cell_type": "code",
   "execution_count": 44,
   "id": "06e857d6",
   "metadata": {},
   "outputs": [
    {
     "data": {
      "text/plain": [
       "0.0"
      ]
     },
     "execution_count": 44,
     "metadata": {},
     "output_type": "execute_result"
    }
   ],
   "source": [
    "H2P_df=Variables['storageOut_Pvar']\n",
    "H2P_df=H2P_df[(H2P_df.STOCK_TECHNO=='PowertoH2toPower')&(P2H2_df.AREAS=='FR')]\n",
    "H2P_df['storageOut_Pvar'].sum()/1E6"
   ]
  },
  {
   "cell_type": "code",
   "execution_count": 39,
   "id": "27366257",
   "metadata": {},
   "outputs": [
    {
     "data": {
      "text/plain": [
       "42.838765691073576"
      ]
     },
     "execution_count": 39,
     "metadata": {},
     "output_type": "execute_result"
    }
   ],
   "source": [
    "829.2152710940743-686.5192246872975-99.90221760406679+0.044936888363604995"
   ]
  },
  {
   "cell_type": "code",
   "execution_count": 73,
   "id": "c9e60f1a",
   "metadata": {},
   "outputs": [
    {
     "data": {
      "text/plain": [
       "TIME                      2019-12-31 23:00:00\n",
       "total_consumption_Pvar          138364.610149\n",
       "dtype: object"
      ]
     },
     "execution_count": 73,
     "metadata": {},
     "output_type": "execute_result"
    }
   ],
   "source": [
    "# Storage means capacity (MW)\n",
    "Variables['total_consumption_Pvar'].max()"
   ]
  },
  {
   "cell_type": "code",
   "execution_count": 74,
   "id": "d314c49f",
   "metadata": {},
   "outputs": [
    {
     "data": {
      "text/plain": [
       "TIME           2019-12-31 23:00:00\n",
       "energy_Pvar          138364.610149\n",
       "dtype: object"
      ]
     },
     "execution_count": 74,
     "metadata": {},
     "output_type": "execute_result"
    }
   ],
   "source": [
    "Variables['energy_Pvar'].max()"
   ]
  },
  {
   "cell_type": "code",
   "execution_count": 7,
   "id": "2abcb6a9",
   "metadata": {},
   "outputs": [
    {
     "name": "stdout",
     "output_type": "stream",
     "text": [
      "                     TIME    TECHNOLOGIES    power_Dvar\n",
      "40989 2019-12-31 23:00:00     WindOnShore   4432.600000\n",
      "40990 2019-12-31 23:00:00             CCG      0.000000\n",
      "40991 2019-12-31 23:00:00         OldNuke  15520.000000\n",
      "40992 2019-12-31 23:00:00             TAC      0.000000\n",
      "40993 2019-12-31 23:00:00    WindOffShore  10598.700000\n",
      "40994 2019-12-31 23:00:00  HydroReservoir   8785.000000\n",
      "40995 2019-12-31 23:00:00         Biomass   3000.000000\n",
      "40996 2019-12-31 23:00:00            Coal      0.000000\n",
      "40997 2019-12-31 23:00:00           Solar      0.000000\n",
      "40998 2019-12-31 23:00:00         NewNuke  21710.000000\n",
      "40999 2019-12-31 23:00:00      HydroRiver   8233.891861\n",
      "41000 2019-12-31 23:00:00   NewHydroRiver    895.799659\n",
      "41001 2019-12-31 23:00:00     curtailment      0.000000\n",
      "73175.99151963575\n",
      "                    TIME      STOCK_TECHNO  storageOut_Pvar\n",
      "9459 2019-12-31 23:00:00           Battery              0.0\n",
      "9460 2019-12-31 23:00:00  PowertoH2toPower              0.0\n",
      "9461 2019-12-31 23:00:00      HydroStorage              0.0\n",
      "                    TIME      STOCK_TECHNO  storageIn_Pvar\n",
      "9459 2019-12-31 23:00:00           Battery             0.0\n",
      "9460 2019-12-31 23:00:00  PowertoH2toPower             0.0\n",
      "9461 2019-12-31 23:00:00      HydroStorage             0.0\n",
      "                    TIME      STOCK_TECHNO  stockLevel_Pvar\n",
      "9459 2019-12-31 23:00:00           Battery     0.000000e+00\n",
      "9460 2019-12-31 23:00:00  PowertoH2toPower     5.920998e+06\n",
      "9461 2019-12-31 23:00:00      HydroStorage     6.553563e+04\n",
      "       STOCK_TECHNO  stockLevel_ini_Dvar\n",
      "0           Battery         0.000000e+00\n",
      "1  PowertoH2toPower         5.920998e+06\n",
      "2      HydroStorage         6.553563e+04\n"
     ]
    }
   ],
   "source": [
    "df=Variables['power_Dvar']\n",
    "print(df[df.TIME==pd.Timestamp('2019-12-31 23:00:00')])\n",
    "print(df[df.TIME==pd.Timestamp('2019-12-31 23:00:00')]['power_Dvar'].sum())\n",
    "df2=Variables['storageOut_Pvar']\n",
    "print(df2[df2.TIME==pd.Timestamp('2019-12-31 23:00:00')])\n",
    "df3=Variables['storageIn_Pvar']\n",
    "print(df3[df3.TIME==pd.Timestamp('2019-12-31 23:00:00')])\n",
    "df4=Variables['stockLevel_Pvar']\n",
    "print(df4[df4.TIME==pd.Timestamp('2019-12-31 23:00:00')])\n",
    "print(Variables['stockLevel_ini_Dvar'])"
   ]
  },
  {
   "cell_type": "code",
   "execution_count": 8,
   "id": "264e23e5",
   "metadata": {},
   "outputs": [
    {
     "name": "stdout",
     "output_type": "stream",
     "text": [
      "4.3655745685100555e-11\n",
      "0\n"
     ]
    }
   ],
   "source": [
    "df=Variables['power_Dvar']\n",
    "df2=Variables['storageOut_Pvar']\n",
    "df3=Variables['storageIn_Pvar']\n",
    "df=df.groupby('TIME')['power_Dvar'].sum()\n",
    "df2=df2.groupby('TIME')['storageOut_Pvar'].sum()\n",
    "df3=df3.groupby('TIME')['storageIn_Pvar'].sum()\n",
    "df_prod=pd.DataFrame()\n",
    "df_prod['Prod']=df+df2-df3\n",
    "#df_prod\n",
    "#df_prod=df_prod.set_index('TIME')\n",
    "\n",
    "df_diff=pd.DataFrame()\n",
    "df_diff['diff']=df_prod['Prod']-Variables['total_consumption_Pvar'].set_index('TIME')['total_consumption_Pvar']\n",
    "print(df_diff['diff'].max())\n",
    "N_err=0\n",
    "for i in df_diff.index:\n",
    "    if np.abs(df_diff.loc[i,'diff'])>1:\n",
    "        N_err+=1\n",
    "        print(df_diff.loc[i,'diff'])\n",
    "print(N_err)"
   ]
  },
  {
   "cell_type": "code",
   "execution_count": 9,
   "id": "4f93fd9a",
   "metadata": {},
   "outputs": [
    {
     "data": {
      "text/plain": [
       "Prod    73175.99152\n",
       "Name: 2019-12-31 23:00:00, dtype: float64"
      ]
     },
     "execution_count": 9,
     "metadata": {},
     "output_type": "execute_result"
    }
   ],
   "source": [
    "df_prod.loc[pd.Timestamp('2019-12-31 23:00:00')]"
   ]
  },
  {
   "cell_type": "code",
   "execution_count": 10,
   "id": "d302d22f",
   "metadata": {},
   "outputs": [
    {
     "data": {
      "text/plain": [
       "total_consumption_Pvar    73175.99152\n",
       "Name: 2019-12-31 23:00:00, dtype: float64"
      ]
     },
     "execution_count": 10,
     "metadata": {},
     "output_type": "execute_result"
    }
   ],
   "source": [
    "Variables['total_consumption_Pvar'].set_index('TIME').loc[pd.Timestamp('2019-12-31 23:00:00')]"
   ]
  },
  {
   "cell_type": "code",
   "execution_count": 21,
   "id": "843e26b2",
   "metadata": {},
   "outputs": [
    {
     "data": {
      "text/plain": [
       "TIME                      2019-12-31 23:00:00\n",
       "total_consumption_Pvar            155289.7205\n",
       "dtype: object"
      ]
     },
     "execution_count": 21,
     "metadata": {},
     "output_type": "execute_result"
    }
   ],
   "source": [
    "Variables['total_consumption_Pvar'].max()"
   ]
  },
  {
   "cell_type": "code",
   "execution_count": 12,
   "id": "c3d1deb0",
   "metadata": {},
   "outputs": [
    {
     "data": {
      "text/html": [
       "<div>\n",
       "<style scoped>\n",
       "    .dataframe tbody tr th:only-of-type {\n",
       "        vertical-align: middle;\n",
       "    }\n",
       "\n",
       "    .dataframe tbody tr th {\n",
       "        vertical-align: top;\n",
       "    }\n",
       "\n",
       "    .dataframe thead th {\n",
       "        text-align: right;\n",
       "    }\n",
       "</style>\n",
       "<table border=\"1\" class=\"dataframe\">\n",
       "  <thead>\n",
       "    <tr style=\"text-align: right;\">\n",
       "      <th></th>\n",
       "      <th>TIME</th>\n",
       "      <th>total_consumption_Pvar</th>\n",
       "    </tr>\n",
       "  </thead>\n",
       "  <tbody>\n",
       "    <tr>\n",
       "      <th>1290</th>\n",
       "      <td>2019-01-24 13:00:00</td>\n",
       "      <td>150448.942674</td>\n",
       "    </tr>\n",
       "  </tbody>\n",
       "</table>\n",
       "</div>"
      ],
      "text/plain": [
       "                    TIME  total_consumption_Pvar\n",
       "1290 2019-01-24 13:00:00           150448.942674"
      ]
     },
     "execution_count": 12,
     "metadata": {},
     "output_type": "execute_result"
    }
   ],
   "source": [
    "Variables['total_consumption_Pvar'][Variables['total_consumption_Pvar'].total_consumption_Pvar==Variables['total_consumption_Pvar']['total_consumption_Pvar'].max()]"
   ]
  },
  {
   "cell_type": "code",
   "execution_count": 13,
   "id": "dcd8f2f6",
   "metadata": {},
   "outputs": [
    {
     "data": {
      "text/plain": [
       "[8974.985765378075,\n",
       " 11252.569669328535,\n",
       " 10691.645219955992,\n",
       " 11170.426644899537,\n",
       " 13510.099229131103,\n",
       " 15473.200406998334,\n",
       " 16550.885092623164,\n",
       " 4425.99954355268,\n",
       " 5581.337750877695,\n",
       " 20919.870411678494,\n",
       " 21837.125896171616,\n",
       " 23312.874833511825,\n",
       " 28469.2682218418,\n",
       " 25998.15287218346,\n",
       " 27305.36161875611,\n",
       " 25600.720420410304,\n",
       " 20896.11392020079,\n",
       " 18139.698630793904,\n",
       " 17262.300474917676,\n",
       " 15669.700657177991,\n",
       " 15415.259850726845,\n",
       " 17359.40017950799,\n",
       " 25017.329324809274,\n",
       " 23867.510910719506]"
      ]
     },
     "execution_count": 13,
     "metadata": {},
     "output_type": "execute_result"
    }
   ],
   "source": [
    "d0=pd.Timestamp('2019-01-01 00:00:00')\n",
    "d1h=timedelta(hours=1)\n",
    "df=Variables['flex_consumption_Pvar']\n",
    "L_EV=[]\n",
    "for h in range(24):\n",
    "    L_EV.append(float(df[(df.TIME==d0+h*d1h)&(df.FLEX_CONSUM=='EV')]['flex_consumption_Pvar']))\n",
    "L_EV"
   ]
  },
  {
   "cell_type": "code",
   "execution_count": 44,
   "id": "e0838f3a",
   "metadata": {},
   "outputs": [
    {
     "data": {
      "text/plain": [
       "39.551618023149395"
      ]
     },
     "execution_count": 44,
     "metadata": {},
     "output_type": "execute_result"
    }
   ],
   "source": [
    "def Total_cost(Variables,area):\n",
    "    return 1/1e9*(Variables['powerCosts_Pvar'][Variables['powerCosts_Pvar'].AREAS==area]['powerCosts_Pvar'].sum()\\\n",
    "            +Variables['capacityCosts_Pvar'][Variables['capacityCosts_Pvar'].AREAS==area]['capacityCosts_Pvar'].sum()\\\n",
    "            +Variables['storageCosts_Pvar'][Variables['storageCosts_Pvar'].AREAS==area]['storageCosts_Pvar'].sum()\\\n",
    "            +Variables['flexCosts_Pvar'][Variables['flexCosts_Pvar'].AREAS==area]['flexCosts_Pvar'].sum())\n",
    "Total_cost(Variables,'FR')"
   ]
  },
  {
   "cell_type": "code",
   "execution_count": null,
   "id": "860e2654",
   "metadata": {},
   "outputs": [],
   "source": []
  }
 ],
 "metadata": {
  "kernelspec": {
   "display_name": "energyalternatives",
   "language": "python",
   "name": "energyalternatives"
  },
  "language_info": {
   "codemirror_mode": {
    "name": "ipython",
    "version": 3
   },
   "file_extension": ".py",
   "mimetype": "text/x-python",
   "name": "python",
   "nbconvert_exporter": "python",
   "pygments_lexer": "ipython3",
   "version": "3.10.4"
  }
 },
 "nbformat": 4,
 "nbformat_minor": 5
}
