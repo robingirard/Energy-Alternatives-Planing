{
 "cells": [
  {
   "cell_type": "code",
   "execution_count": 1,
   "id": "7878b15d",
   "metadata": {},
   "outputs": [],
   "source": [
    "import pickle\n",
    "import pandas as pd\n",
    "from datetime import timedelta\n",
    "import numpy as np\n",
    "import plotly.express as px\n",
    "import plotly.graph_objects as go\n",
    "import os\n",
    "if os.path.basename(os.getcwd())==\"Belfort\":\n",
    "    os.chdir('..')\n",
    "    os.chdir('..') ## to work at project root  like in any IDE\n",
    "\n",
    "InputFolder='SujetsDAnalyses/Belfort/'\n",
    "from functions.f_consumptionModels import *"
   ]
  },
  {
   "cell_type": "markdown",
   "id": "d16161eb",
   "metadata": {},
   "source": [
    "# 1. Import data"
   ]
  },
  {
   "cell_type": "code",
   "execution_count": 2,
   "id": "0bfd9c21",
   "metadata": {},
   "outputs": [],
   "source": [
    "Temp_df=pd.read_csv('Data/input/Conso_model/Temp_FR_2017_2022.csv',sep=';',decimal='.',parse_dates=['Date']).set_index([\"Date\"])\n",
    "\n",
    "index2019=(Temp_df.index.to_series().dt.minute==0)&(Temp_df.index.to_series().dt.year==2019)\n",
    "Temp_2019_df=Temp_df[index2019].reset_index().set_index(\"Date\").sort_index()\n",
    "Temp_2019_df= CleanCETIndex(Temp_2019_df)# Traitement heure d'été et heure d'hiver"
   ]
  },
  {
   "cell_type": "code",
   "execution_count": 3,
   "id": "7a23e713",
   "metadata": {},
   "outputs": [],
   "source": [
    "Conso_2019_df=pd.read_csv('Data/input/Conso_model/areaConsumption2019_FR.csv',sep=';',parse_dates=['Date']).set_index([\"Date\"])"
   ]
  },
  {
   "cell_type": "code",
   "execution_count": 94,
   "id": "57950e02",
   "metadata": {},
   "outputs": [],
   "source": [
    "year=2060\n",
    "nuc=\"nuclear_plus\"\n",
    "type_result=\"multinode_\"#\"\" if singlenode\n",
    "bati_hyp=\"SNBC\"\n",
    "reindus=\"reindus\"\n",
    "with open(InputFolder+\"Results_\"+type_result+str(year)+\"_\"+nuc+\"_\"+bati_hyp+\"_\"+reindus+\".pickle\", 'rb') as f:\n",
    "    Variables=pickle.load(f)"
   ]
  },
  {
   "cell_type": "code",
   "execution_count": 5,
   "id": "476754c2",
   "metadata": {},
   "outputs": [
    {
     "name": "stdout",
     "output_type": "stream",
     "text": [
      "{'power_Dvar':        AREAS                TIME    TECHNOLOGIES   power_Dvar\n",
      "0         GB 2019-02-25 07:00:00         OldNuke  1188.000000\n",
      "1         GB 2019-02-25 07:00:00    WindOffShore  3718.938825\n",
      "2         GB 2019-02-25 07:00:00         Biomass  4528.000000\n",
      "3         GB 2019-02-25 07:00:00     WindOnShore  4899.552606\n",
      "4         GB 2019-02-25 07:00:00             CCG     0.000000\n",
      "...      ...                 ...             ...          ...\n",
      "858475    CH 2019-05-26 10:00:00            Coal     0.000000\n",
      "858476    CH 2019-05-26 10:00:00             TAC     0.000000\n",
      "858477    CH 2019-05-26 10:00:00      Geothermal     0.000000\n",
      "858478    CH 2019-05-26 10:00:00  HydroReservoir     0.000000\n",
      "858479    CH 2019-05-26 10:00:00         NewNuke     0.000000\n",
      "\n",
      "[858480 rows x 4 columns], 'exchange_Pvar':        AREAS AREAS                TIME  exchange_Pvar\n",
      "0         GB    GB 2019-02-25 07:00:00            0.0\n",
      "1         GB    GB 2019-05-17 00:00:00            0.0\n",
      "2         GB    GB 2019-02-10 08:00:00            0.0\n",
      "3         GB    GB 2019-08-15 02:00:00            0.0\n",
      "4         GB    GB 2019-07-08 06:00:00            0.0\n",
      "...      ...   ...                 ...            ...\n",
      "429235    CH    CH 2019-08-17 08:00:00            0.0\n",
      "429236    CH    CH 2019-08-21 14:00:00            0.0\n",
      "429237    CH    CH 2019-11-28 19:00:00            0.0\n",
      "429238    CH    CH 2019-10-17 20:00:00            0.0\n",
      "429239    CH    CH 2019-05-26 10:00:00            0.0\n",
      "\n",
      "[429240 rows x 4 columns], 'powerCosts_Pvar':    AREAS    TECHNOLOGIES  powerCosts_Pvar\n",
      "0     GB         OldNuke     7.167907e+07\n",
      "1     GB    WindOffShore     0.000000e+00\n",
      "2     GB         Biomass     1.284462e+09\n",
      "3     GB     WindOnShore     0.000000e+00\n",
      "4     GB             CCG    -0.000000e+00\n",
      "..   ...             ...              ...\n",
      "93    CH            Coal    -0.000000e+00\n",
      "94    CH             TAC     0.000000e+00\n",
      "95    CH      Geothermal     0.000000e+00\n",
      "96    CH  HydroReservoir     0.000000e+00\n",
      "97    CH         NewNuke    -0.000000e+00\n",
      "\n",
      "[98 rows x 3 columns], 'capacity_Dvar':    AREAS    TECHNOLOGIES  capacity_Dvar\n",
      "0     GB         OldNuke         1188.0\n",
      "1     GB    WindOffShore        85800.0\n",
      "2     GB         Biomass         4528.0\n",
      "3     GB     WindOnShore        41937.0\n",
      "4     GB             CCG            0.0\n",
      "..   ...             ...            ...\n",
      "93    CH            Coal            0.0\n",
      "94    CH             TAC            0.0\n",
      "95    CH      Geothermal            0.0\n",
      "96    CH  HydroReservoir         5588.0\n",
      "97    CH         NewNuke            0.0\n",
      "\n",
      "[98 rows x 3 columns], 'capacityCosts_Pvar':    AREAS    TECHNOLOGIES  capacityCosts_Pvar\n",
      "0     GB         OldNuke        2.586096e+08\n",
      "1     GB    WindOffShore        1.100070e+10\n",
      "2     GB         Biomass        1.094950e+09\n",
      "3     GB     WindOnShore        3.147174e+09\n",
      "4     GB             CCG       -0.000000e+00\n",
      "..   ...             ...                 ...\n",
      "93    CH            Coal       -0.000000e+00\n",
      "94    CH             TAC        0.000000e+00\n",
      "95    CH      Geothermal        0.000000e+00\n",
      "96    CH  HydroReservoir        3.943890e+08\n",
      "97    CH         NewNuke       -0.000000e+00\n",
      "\n",
      "[98 rows x 3 columns], 'storageIn_Pvar':        AREAS                TIME      STOCK_TECHNO  storageIn_Pvar\n",
      "0         GB 2019-02-25 07:00:00      HydroStorage        0.000000\n",
      "1         GB 2019-02-25 07:00:00           Battery        0.000000\n",
      "2         GB 2019-02-25 07:00:00  PowertoH2toPower        0.000000\n",
      "3         GB 2019-05-17 00:00:00      HydroStorage        0.000000\n",
      "4         GB 2019-05-17 00:00:00           Battery        0.000000\n",
      "...      ...                 ...               ...             ...\n",
      "183955    CH 2019-10-17 20:00:00           Battery        0.000000\n",
      "183956    CH 2019-10-17 20:00:00  PowertoH2toPower     1001.559882\n",
      "183957    CH 2019-05-26 10:00:00      HydroStorage     7460.502971\n",
      "183958    CH 2019-05-26 10:00:00           Battery        0.000000\n",
      "183959    CH 2019-05-26 10:00:00  PowertoH2toPower     1001.559882\n",
      "\n",
      "[183960 rows x 4 columns], 'storageOut_Pvar':        AREAS                TIME      STOCK_TECHNO  storageOut_Pvar\n",
      "0         GB 2019-02-25 07:00:00      HydroStorage          0.00000\n",
      "1         GB 2019-02-25 07:00:00           Battery        999.28275\n",
      "2         GB 2019-02-25 07:00:00  PowertoH2toPower          0.00000\n",
      "3         GB 2019-05-17 00:00:00      HydroStorage          0.00000\n",
      "4         GB 2019-05-17 00:00:00           Battery          0.00000\n",
      "...      ...                 ...               ...              ...\n",
      "183955    CH 2019-10-17 20:00:00           Battery          0.00000\n",
      "183956    CH 2019-10-17 20:00:00  PowertoH2toPower          0.00000\n",
      "183957    CH 2019-05-26 10:00:00      HydroStorage          0.00000\n",
      "183958    CH 2019-05-26 10:00:00           Battery          0.00000\n",
      "183959    CH 2019-05-26 10:00:00  PowertoH2toPower          0.00000\n",
      "\n",
      "[183960 rows x 4 columns], 'stockLevel_Pvar':        AREAS                TIME      STOCK_TECHNO  stockLevel_Pvar\n",
      "0         GB 2019-02-25 07:00:00      HydroStorage     80079.747335\n",
      "1         GB 2019-02-25 07:00:00           Battery      6290.188671\n",
      "2         GB 2019-02-25 07:00:00  PowertoH2toPower    796796.611662\n",
      "3         GB 2019-05-17 00:00:00      HydroStorage     65650.318541\n",
      "4         GB 2019-05-17 00:00:00           Battery     10498.470069\n",
      "...      ...                 ...               ...              ...\n",
      "183955    CH 2019-10-17 20:00:00           Battery         0.000000\n",
      "183956    CH 2019-10-17 20:00:00  PowertoH2toPower    114351.148442\n",
      "183957    CH 2019-05-26 10:00:00      HydroStorage    177884.607282\n",
      "183958    CH 2019-05-26 10:00:00           Battery         0.000000\n",
      "183959    CH 2019-05-26 10:00:00  PowertoH2toPower     18060.102004\n",
      "\n",
      "[183960 rows x 4 columns], 'stockLevel_ini_Dvar':    AREAS      STOCK_TECHNO  stockLevel_ini_Dvar\n",
      "0     GB      HydroStorage         3.219652e+04\n",
      "1     GB           Battery         0.000000e+00\n",
      "2     GB  PowertoH2toPower         2.432676e+06\n",
      "3     DE      HydroStorage         3.996000e+04\n",
      "4     DE           Battery         0.000000e+00\n",
      "5     DE  PowertoH2toPower         7.311065e+06\n",
      "6     IT      HydroStorage         7.729299e+04\n",
      "7     IT           Battery         0.000000e+00\n",
      "8     IT  PowertoH2toPower         4.841840e+06\n",
      "9     BE      HydroStorage         1.983682e+02\n",
      "10    BE           Battery         0.000000e+00\n",
      "11    BE  PowertoH2toPower         7.824976e+05\n",
      "12    ES      HydroStorage         3.357531e+04\n",
      "13    ES           Battery         0.000000e+00\n",
      "14    ES  PowertoH2toPower         2.272963e+06\n",
      "15    FR      HydroStorage         1.200155e+05\n",
      "16    FR           Battery         0.000000e+00\n",
      "17    FR  PowertoH2toPower         1.230112e+06\n",
      "18    CH      HydroStorage         3.859790e+05\n",
      "19    CH           Battery         0.000000e+00\n",
      "20    CH  PowertoH2toPower         1.121169e+05, 'storageCosts_Pvar':    AREAS      STOCK_TECHNO  storageCosts_Pvar\n",
      "0     GB      HydroStorage       6.608285e+08\n",
      "1     GB           Battery       4.066746e+08\n",
      "2     GB  PowertoH2toPower       2.282146e+09\n",
      "3     DE      HydroStorage       7.144695e+08\n",
      "4     DE           Battery       8.706377e+08\n",
      "5     DE  PowertoH2toPower       1.148849e+10\n",
      "6     IT      HydroStorage       1.846687e+09\n",
      "7     IT           Battery       2.949169e+08\n",
      "8     IT  PowertoH2toPower       2.838144e+09\n",
      "9     BE      HydroStorage       1.262873e+08\n",
      "10    BE           Battery       1.518070e+08\n",
      "11    BE  PowertoH2toPower       1.107190e+09\n",
      "12    ES      HydroStorage       5.792996e+08\n",
      "13    ES           Battery      -0.000000e+00\n",
      "14    ES  PowertoH2toPower       4.433691e+09\n",
      "15    FR      HydroStorage       1.052298e+09\n",
      "16    FR           Battery       1.821735e+08\n",
      "17    FR  PowertoH2toPower       1.850356e+09\n",
      "18    CH      HydroStorage       7.203110e+08\n",
      "19    CH           Battery       1.016020e+08\n",
      "20    CH  PowertoH2toPower       1.032566e+08, 'Pmax_in_Dvar':    AREAS      STOCK_TECHNO  Pmax_in_Dvar\n",
      "0     GB      HydroStorage   6844.422849\n",
      "1     GB           Battery   9973.546566\n",
      "2     GB  PowertoH2toPower  15874.290159\n",
      "3     DE      HydroStorage   7400.000000\n",
      "4     DE           Battery  19730.092733\n",
      "5     DE  PowertoH2toPower  63119.345051\n",
      "6     IT      HydroStorage  19126.752972\n",
      "7     IT           Battery   7232.728975\n",
      "8     IT  PowertoH2toPower  20301.715613\n",
      "9     BE      HydroStorage   1308.000000\n",
      "10    BE           Battery   3723.010525\n",
      "11    BE  PowertoH2toPower   7629.465981\n",
      "12    ES      HydroStorage   6000.000000\n",
      "13    ES           Battery      0.000000\n",
      "14    ES  PowertoH2toPower  42893.833126\n",
      "15    FR      HydroStorage  10899.000000\n",
      "16    FR           Battery   4467.740025\n",
      "17    FR  PowertoH2toPower  17980.657471\n",
      "18    CH      HydroStorage   7460.502971\n",
      "19    CH           Battery   2491.752615\n",
      "20    CH  PowertoH2toPower   1001.559882, 'Pmax_out_Dvar':    AREAS      STOCK_TECHNO  Pmax_out_Dvar\n",
      "0     GB      HydroStorage    6844.422849\n",
      "1     GB           Battery    9973.546566\n",
      "2     GB  PowertoH2toPower    6059.042004\n",
      "3     DE      HydroStorage    7400.000000\n",
      "4     DE           Battery   19730.092733\n",
      "5     DE  PowertoH2toPower   45487.431809\n",
      "6     IT      HydroStorage   19126.752972\n",
      "7     IT           Battery    7232.728975\n",
      "8     IT  PowertoH2toPower    6277.965246\n",
      "9     BE      HydroStorage    1308.000000\n",
      "10    BE           Battery    3723.010525\n",
      "11    BE  PowertoH2toPower    3036.593094\n",
      "12    ES      HydroStorage    6000.000000\n",
      "13    ES           Battery      -0.000000\n",
      "14    ES  PowertoH2toPower       0.000000\n",
      "15    FR      HydroStorage   10899.000000\n",
      "16    FR           Battery    4467.740025\n",
      "17    FR  PowertoH2toPower       0.000000\n",
      "18    CH      HydroStorage    7460.502971\n",
      "19    CH           Battery    2491.752615\n",
      "20    CH  PowertoH2toPower       0.000000, 'Cmax_Pvar':    AREAS      STOCK_TECHNO     Cmax_Pvar\n",
      "0     GB      HydroStorage  8.007975e+04\n",
      "1     GB           Battery  1.049847e+04\n",
      "2     GB  PowertoH2toPower  2.579361e+06\n",
      "3     DE      HydroStorage  3.996000e+04\n",
      "4     DE           Battery  2.411701e+04\n",
      "5     DE  PowertoH2toPower  2.119882e+07\n",
      "6     IT      HydroStorage  2.237830e+05\n",
      "7     IT           Battery  7.613399e+03\n",
      "8     IT  PowertoH2toPower  8.244946e+06\n",
      "9     BE      HydroStorage  4.708800e+03\n",
      "10    BE           Battery  3.918958e+03\n",
      "11    BE  PowertoH2toPower  1.056736e+06\n",
      "12    ES      HydroStorage  1.026000e+05\n",
      "13    ES           Battery  0.000000e+00\n",
      "14    ES  PowertoH2toPower  6.230602e+06\n",
      "15    FR      HydroStorage  1.961820e+05\n",
      "16    FR           Battery  4.702884e+03\n",
      "17    FR  PowertoH2toPower  2.064981e+06\n",
      "18    CH      HydroStorage  4.364394e+05\n",
      "19    CH           Battery  2.622897e+03\n",
      "20    CH  PowertoH2toPower  1.275563e+05, 'flexCosts_Pvar':    AREAS FLEX_CONSUM  flexCosts_Pvar\n",
      "0     GB       Steel    1.505056e+08\n",
      "1     GB          EV    6.945662e+07\n",
      "2     DE       Steel    1.014381e+09\n",
      "3     DE          EV    1.262539e+09\n",
      "4     IT       Steel    5.937761e+08\n",
      "5     IT          EV    9.486765e+08\n",
      "6     BE       Steel    1.819669e+08\n",
      "7     BE          EV    1.559382e+08\n",
      "8     ES       Steel    2.602346e+07\n",
      "9     ES          EV    7.436889e+08\n",
      "10    FR       Steel   -1.968830e+08\n",
      "11    FR          EV    1.059271e+09\n",
      "12    CH       Steel    3.479994e+06\n",
      "13    CH          EV    1.679515e+08, 'total_consumption_Pvar':       AREAS                TIME  total_consumption_Pvar\n",
      "0        GB 2019-02-25 07:00:00            38951.734087\n",
      "1        GB 2019-05-17 00:00:00            32709.865957\n",
      "2        GB 2019-02-10 08:00:00            41446.003684\n",
      "3        GB 2019-08-15 02:00:00            42458.162838\n",
      "4        GB 2019-07-08 06:00:00            27600.959416\n",
      "...     ...                 ...                     ...\n",
      "61315    CH 2019-08-17 08:00:00             6525.651060\n",
      "61316    CH 2019-08-21 14:00:00            13755.677546\n",
      "61317    CH 2019-11-28 19:00:00             9303.073403\n",
      "61318    CH 2019-10-17 20:00:00             7565.127371\n",
      "61319    CH 2019-05-26 10:00:00            11808.919125\n",
      "\n",
      "[61320 rows x 3 columns], 'flex_consumption_Pvar':        AREAS                TIME FLEX_CONSUM  flex_consumption_Pvar\n",
      "0         GB 2019-02-25 07:00:00       Steel           2.967310e+03\n",
      "1         GB 2019-02-25 07:00:00          EV           6.700325e+02\n",
      "2         GB 2019-05-17 00:00:00       Steel           2.967310e+03\n",
      "3         GB 2019-05-17 00:00:00          EV           2.579941e+03\n",
      "4         GB 2019-02-10 08:00:00       Steel           2.967310e+03\n",
      "...      ...                 ...         ...                    ...\n",
      "122635    CH 2019-11-28 19:00:00          EV           9.094947e-13\n",
      "122636    CH 2019-10-17 20:00:00       Steel           4.342897e+02\n",
      "122637    CH 2019-10-17 20:00:00          EV           0.000000e+00\n",
      "122638    CH 2019-05-26 10:00:00       Steel           4.342897e+02\n",
      "122639    CH 2019-05-26 10:00:00          EV           3.645893e+03\n",
      "\n",
      "[122640 rows x 4 columns], 'a_plus_Pvar':        AREAS                TIME FLEX_CONSUM  a_plus_Pvar\n",
      "0         GB 2019-02-25 07:00:00       Steel   701.496065\n",
      "1         GB 2019-02-25 07:00:00          EV     0.000000\n",
      "2         GB 2019-05-17 00:00:00       Steel   701.496065\n",
      "3         GB 2019-05-17 00:00:00          EV     0.000000\n",
      "4         GB 2019-02-10 08:00:00       Steel   701.496065\n",
      "...      ...                 ...         ...          ...\n",
      "122635    CH 2019-11-28 19:00:00          EV     0.000000\n",
      "122636    CH 2019-10-17 20:00:00       Steel    18.356839\n",
      "122637    CH 2019-10-17 20:00:00          EV     0.000000\n",
      "122638    CH 2019-05-26 10:00:00       Steel    18.356839\n",
      "122639    CH 2019-05-26 10:00:00          EV  3202.323377\n",
      "\n",
      "[122640 rows x 4 columns], 'a_minus_Pvar':        AREAS                TIME FLEX_CONSUM  a_minus_Pvar\n",
      "0         GB 2019-02-25 07:00:00       Steel      0.000000\n",
      "1         GB 2019-02-25 07:00:00          EV    670.032492\n",
      "2         GB 2019-05-17 00:00:00       Steel      0.000000\n",
      "3         GB 2019-05-17 00:00:00          EV   9136.453799\n",
      "4         GB 2019-02-10 08:00:00       Steel      0.000000\n",
      "...      ...                 ...         ...           ...\n",
      "122635    CH 2019-11-28 19:00:00          EV   4917.444388\n",
      "122636    CH 2019-10-17 20:00:00       Steel      0.000000\n",
      "122637    CH 2019-10-17 20:00:00          EV   4436.214005\n",
      "122638    CH 2019-05-26 10:00:00       Steel      0.000000\n",
      "122639    CH 2019-05-26 10:00:00          EV     -0.000000\n",
      "\n",
      "[122640 rows x 4 columns], 'flex_Dvar':        AREAS                TIME FLEX_CONSUM  flex_Dvar\n",
      "0         GB 2019-02-25 07:00:00       Steel  -0.309600\n",
      "1         GB 2019-02-25 07:00:00          EV   0.500000\n",
      "2         GB 2019-05-17 00:00:00       Steel  -0.309600\n",
      "3         GB 2019-05-17 00:00:00          EV   0.779801\n",
      "4         GB 2019-02-10 08:00:00       Steel  -0.309600\n",
      "...      ...                 ...         ...        ...\n",
      "122635    CH 2019-11-28 19:00:00          EV   1.000000\n",
      "122636    CH 2019-10-17 20:00:00       Steel  -0.044134\n",
      "122637    CH 2019-10-17 20:00:00          EV   1.000000\n",
      "122638    CH 2019-05-26 10:00:00       Steel  -0.044134\n",
      "122639    CH 2019-05-26 10:00:00          EV  -7.219442\n",
      "\n",
      "[122640 rows x 4 columns], 'increased_max_power_Dvar':    AREAS FLEX_CONSUM  increased_max_power_Dvar\n",
      "0     GB       Steel                701.496065\n",
      "1     GB          EV               1324.326508\n",
      "2     DE       Steel               4352.921283\n",
      "3     DE          EV              24072.779385\n",
      "4     IT       Steel               2705.577640\n",
      "5     IT          EV              18088.375058\n",
      "6     BE       Steel                849.829033\n",
      "7     BE          EV               2973.266713\n",
      "8     ES       Steel                134.965996\n",
      "9     ES          EV              14179.884819\n",
      "10    FR       Steel                  0.000000\n",
      "11    FR          EV              20197.083823\n",
      "12    CH       Steel                 18.356839\n",
      "13    CH          EV               3202.323377}\n"
     ]
    }
   ],
   "source": [
    "print(Variables)"
   ]
  },
  {
   "cell_type": "code",
   "execution_count": 6,
   "id": "b2d1c654",
   "metadata": {},
   "outputs": [],
   "source": [
    "StockTechnos_df=pd.read_csv(\"Data/input/Prod_model/Prod_Europe/Stock_technos_Europe_\"+str(year)+\".csv\",\n",
    "                            delimiter=\";\",decimal=\",\").set_index(['AREAS','STOCK_TECHNO'])"
   ]
  },
  {
   "cell_type": "markdown",
   "id": "e904ec57",
   "metadata": {},
   "source": [
    "# 2. Tools"
   ]
  },
  {
   "cell_type": "markdown",
   "id": "3470f93d",
   "metadata": {},
   "source": [
    "## 2.1. Capacity"
   ]
  },
  {
   "cell_type": "code",
   "execution_count": 7,
   "id": "c289f565",
   "metadata": {},
   "outputs": [],
   "source": [
    "def prod_capa(area):\n",
    "    df=Variables['capacity_Dvar']\n",
    "    return df[df.AREAS==area].set_index(['AREAS','TECHNOLOGIES']).sort_index()[['capacity_Dvar']]\n",
    "\n",
    "def stock_capa(area):\n",
    "    df1=Variables['Pmax_in_Dvar'].set_index(['AREAS','STOCK_TECHNO'])\n",
    "    df2=Variables['Pmax_out_Dvar'].set_index(['AREAS','STOCK_TECHNO'])\n",
    "    df3=Variables['Cmax_Pvar'].set_index(['AREAS','STOCK_TECHNO'])\n",
    "    df1['Pmax_out_Dvar']=df2['Pmax_out_Dvar']\n",
    "    df1['Cmax_Pvar']=df3['Cmax_Pvar']\n",
    "    df1['hour_stock']=df1['Cmax_Pvar']/(df1['Pmax_in_Dvar']*StockTechnos_df['efficiency_in'])\n",
    "    df1=df1.fillna(0)\n",
    "    return df1.loc[(area,slice(None)),['Pmax_in_Dvar','Pmax_out_Dvar','Cmax_Pvar','hour_stock']].sort_index()"
   ]
  },
  {
   "cell_type": "markdown",
   "id": "aa84e6d1",
   "metadata": {},
   "source": [
    "## 2.2. Energy"
   ]
  },
  {
   "cell_type": "code",
   "execution_count": 8,
   "id": "3ab5db9c",
   "metadata": {},
   "outputs": [],
   "source": [
    "def energy(area):\n",
    "    df=Variables['power_Dvar']\n",
    "    df=df[df.AREAS==area]\n",
    "    df=df.groupby(['AREAS','TECHNOLOGIES']).sum()\n",
    "    df_capa=prod_capa(area)\n",
    "    df['Load_factor']=df['power_Dvar']/(8760*df_capa['capacity_Dvar'])\n",
    "    E=df['power_Dvar'].sum()\n",
    "    df['Part']=df['power_Dvar']/E\n",
    "    df=df.fillna(0)\n",
    "    return df"
   ]
  },
  {
   "cell_type": "markdown",
   "id": "d54ce3ad",
   "metadata": {},
   "source": [
    "## 2.3. Plots"
   ]
  },
  {
   "cell_type": "code",
   "execution_count": 9,
   "id": "b5125271",
   "metadata": {},
   "outputs": [],
   "source": [
    "def filter_variable(name,area,month_ini,day_ini,month_end,day_end):\n",
    "    df=Variables[name]\n",
    "    if month_ini==month_end:\n",
    "        df=df[(df.AREAS==area)&(df.TIME.dt.month>=month_ini)&(df.TIME.dt.day>=day_ini)\\\n",
    "         &(df.TIME.dt.month<=month_end)&(df.TIME.dt.day<=day_end)]\n",
    "    else:\n",
    "        df=df[(df.AREAS==area)&(((df.TIME.dt.month==month_ini)&(df.TIME.dt.day>=day_ini))\\\n",
    "             |((df.TIME.dt.month<month_end)&(df.TIME.dt.month>month_ini))\\\n",
    "             |((df.TIME.dt.month==month_end)&(df.TIME.dt.day<=day_end)))]\n",
    "    return df\n",
    "\n",
    "def plot_prod(area,month_ini,day_ini,month_end,day_end,title=\"\",year=2050):\n",
    "    if area=='FR':\n",
    "        df_prod=filter_variable('power_Dvar',area,month_ini,day_ini,month_end,day_end)\n",
    "        df_sto_in=filter_variable('storageIn_Pvar',area,month_ini,day_ini,month_end,day_end)\n",
    "        df_sto_out=filter_variable('storageOut_Pvar',area,month_ini,day_ini,month_end,day_end)\n",
    "        \n",
    "        df_exchange=Variables['exchange_Pvar']\n",
    "        df_exchange.columns=['AREAS_from','AREAS','TIME','exchange_Pvar']\n",
    "        df_exchange=df_exchange[(df_exchange.AREAS==area)&(df_exchange.TIME.dt.month>=month_ini)\\\n",
    "                                &(df_exchange.TIME.dt.day>=day_ini)\\\n",
    "         &(df_exchange.TIME.dt.month<=month_end)&(df_exchange.TIME.dt.day<=day_end)]\n",
    "        \n",
    "        \n",
    "        df_prod=df_prod.pivot(index=['AREAS','TIME'], columns='TECHNOLOGIES', values='power_Dvar')\n",
    "        df_sto_in=df_sto_in.pivot(index=['AREAS','TIME'], columns='STOCK_TECHNO', values='storageIn_Pvar')\n",
    "        df_sto_out=df_sto_out.pivot(index=['AREAS','TIME'], columns='STOCK_TECHNO', values='storageOut_Pvar')\n",
    "        \n",
    "        df_exchange=df_exchange.pivot(index=['AREAS','TIME'], columns='AREAS_from', values='exchange_Pvar')\n",
    "        \n",
    "        df=pd.DataFrame()\n",
    "        df['Nucléaire']=df_prod['OldNuke']+df_prod['NewNuke']\n",
    "        df['Bioénergies et autres ENR']=df_prod['Biomass']+df_prod['Geothermal']\n",
    "        df['Éolien']=df_prod['WindOffShore']+df_prod['WindOnShore']\n",
    "        df['Solaire']=df_prod['Solar']\n",
    "        df['Hydraulique']=df_prod['HydroRiver']+df_prod['NewHydroRiver']+df_prod['HydroReservoir']\n",
    "        df['Gaz']=df_prod['CCG']+df_prod['TAC']\n",
    "        df['Charbon']=df_prod['Coal']\n",
    "        \n",
    "        df['Injections batteries']=df_sto_out['Battery']\n",
    "        df['Turbinage STEP']=df_sto_out['HydroStorage']\n",
    "        df['Hydrogen-to-power']=df_sto_out['PowertoH2toPower']\n",
    "        \n",
    "        df['Imports']=sum(df_exchange[col] for col in df_exchange.columns)\n",
    "        \n",
    "        df['Soutirage batteries']=-df_sto_in['Battery']\n",
    "        df['Pompage STEP']=-df_sto_in['HydroStorage']\n",
    "        df['Power-to-hydrogen']=-df_sto_in['PowertoH2toPower']\n",
    "        \n",
    "        df['Exports']=df['Imports'].apply(lambda x: x if x<0 else 0)\n",
    "        df['Imports']=df['Imports'].apply(lambda x: x if x>=0 else 0)\n",
    "        \n",
    "        d_colors={'Nucléaire':'yellow','Bioénergies et autres ENR':'darkgreen',\n",
    "                 'Éolien':'lightskyblue','Solaire':'orange','Hydraulique':'blue',\n",
    "                 'Gaz':'red','Charbon':'saddlebrown','Injections batteries':'magenta',\n",
    "                 'Turbinage STEP':'navy','Hydrogen-to-power':'purple','Imports':'gray',\n",
    "                 'Soutirage batteries':'magenta','Pompage STEP':'navy',\n",
    "                 'Power-to-hydrogen':'purple','Exports':'gray'}\n",
    "    \n",
    "        \n",
    "        #df=df.reset_index().melt(id_vars=['AREAS','TIME'], \n",
    "                                 #var_name=\"Moyens de production\", value_name=\"Puissance (MW)\")\n",
    "        #df[\"Group\"]=df[\"Moyens de production\"].apply(lambda x: \"-\" if x in ['Soutirage batteries',\n",
    "                                                                           #'Pompage STEP','Power-to-hydrogen',\n",
    "                                                                           #'Exports'] else \"+\")\n",
    "        df.reset_index(inplace=True)\n",
    "        df['TIME']=df['TIME'].apply(lambda x: x.replace(year=year))\n",
    "        \n",
    "        fig=go.Figure()\n",
    "        for col in df.columns:\n",
    "            if col not in ['AREAS','TIME','Soutirage batteries','Pompage STEP','Power-to-hydrogen','Exports']:\n",
    "                fig.add_trace(go.Scatter(x= df['TIME'], y = df[col]/1000,\n",
    "                                     name = col,\n",
    "                                     line=dict(width=0, color=d_colors[col]),\n",
    "                                     stackgroup = '+'))\n",
    "            elif col in ['Soutirage batteries','Pompage STEP','Power-to-hydrogen','Exports']:\n",
    "                fig.add_trace(go.Scatter(x= df['TIME'], y = df[col]/1000,\n",
    "                                     name = col,\n",
    "                                     line=dict(width=0, color=d_colors[col]),\n",
    "                                     stackgroup = '-'))\n",
    "                \n",
    "        fig.update_layout(title =title,\n",
    "                           title_font_size = 20,width = 1000, height = 500)\n",
    "        fig.update_yaxes(title_text = 'Puissance (GW)')\n",
    "        fig.show()\n",
    "        fig.write_image(InputFolder+\"Graphs/Prod_\"+type_result+str(year)+\"_\"+nuc+\"_\"+bati_hyp+\"_\"+reindus\\\n",
    "                         +\"_\"+str(day_ini)+\"_\"+str(month_ini)+\"_\"+str(day_end)+\"_\"+str(month_end)+\".png\")\n",
    "        \n",
    "        #fig = px.area(df, x=\"TIME\", y=\"Puissance (MW)\", \n",
    "            #color=\"Moyens de production\",category_orders={\"Moyens de production\":[\"Exports\",\"Power-to-hydrogen\",\n",
    "            #\"Pompage STEP\",\"Soutirage batteries\",\"Nucléaire\",\"Solaire\",\"Éolien\",\"Hydraulique\",\n",
    "            #\"Bioénergies et autres ENR\",\"Gaz\",\"Charbon\",\"Injections batteries\",\"Turbinage STEP\",\n",
    "            #\"Hydrogen-to-power\",\"Imports\"]},\n",
    "             #color_discrete_sequence=[\"yellow\",\"yellow\",\"orange\"],\n",
    "             #labels={\"TIME\":\"\"},\n",
    "             #title=\"\",line_group='Group')\n",
    "        #fig.show()\n",
    "    else:\n",
    "        print(\"Not implemented\")"
   ]
  },
  {
   "cell_type": "code",
   "execution_count": 98,
   "id": "dd862393",
   "metadata": {},
   "outputs": [
    {
     "data": {
      "application/vnd.plotly.v1+json": {
       "config": {
        "plotlyServerURL": "https://plot.ly"
       },
       "data": [
        {
         "line": {
          "color": "yellow",
          "width": 0
         },
         "name": "Nucléaire",
         "stackgroup": "+",
         "type": "scatter",
         "x": [
          "2050-01-14T00:00:00",
          "2050-01-14T01:00:00",
          "2050-01-14T02:00:00",
          "2050-01-14T03:00:00",
          "2050-01-14T04:00:00",
          "2050-01-14T05:00:00",
          "2050-01-14T06:00:00",
          "2050-01-14T07:00:00",
          "2050-01-14T08:00:00",
          "2050-01-14T09:00:00",
          "2050-01-14T10:00:00",
          "2050-01-14T11:00:00",
          "2050-01-14T12:00:00",
          "2050-01-14T13:00:00",
          "2050-01-14T14:00:00",
          "2050-01-14T15:00:00",
          "2050-01-14T16:00:00",
          "2050-01-14T17:00:00",
          "2050-01-14T18:00:00",
          "2050-01-14T19:00:00",
          "2050-01-14T20:00:00",
          "2050-01-14T21:00:00",
          "2050-01-14T22:00:00",
          "2050-01-14T23:00:00",
          "2050-01-15T00:00:00",
          "2050-01-15T01:00:00",
          "2050-01-15T02:00:00",
          "2050-01-15T03:00:00",
          "2050-01-15T04:00:00",
          "2050-01-15T05:00:00",
          "2050-01-15T06:00:00",
          "2050-01-15T07:00:00",
          "2050-01-15T08:00:00",
          "2050-01-15T09:00:00",
          "2050-01-15T10:00:00",
          "2050-01-15T11:00:00",
          "2050-01-15T12:00:00",
          "2050-01-15T13:00:00",
          "2050-01-15T14:00:00",
          "2050-01-15T15:00:00",
          "2050-01-15T16:00:00",
          "2050-01-15T17:00:00",
          "2050-01-15T18:00:00",
          "2050-01-15T19:00:00",
          "2050-01-15T20:00:00",
          "2050-01-15T21:00:00",
          "2050-01-15T22:00:00",
          "2050-01-15T23:00:00",
          "2050-01-16T00:00:00",
          "2050-01-16T01:00:00",
          "2050-01-16T02:00:00",
          "2050-01-16T03:00:00",
          "2050-01-16T04:00:00",
          "2050-01-16T05:00:00",
          "2050-01-16T06:00:00",
          "2050-01-16T07:00:00",
          "2050-01-16T08:00:00",
          "2050-01-16T09:00:00",
          "2050-01-16T10:00:00",
          "2050-01-16T11:00:00",
          "2050-01-16T12:00:00",
          "2050-01-16T13:00:00",
          "2050-01-16T14:00:00",
          "2050-01-16T15:00:00",
          "2050-01-16T16:00:00",
          "2050-01-16T17:00:00",
          "2050-01-16T18:00:00",
          "2050-01-16T19:00:00",
          "2050-01-16T20:00:00",
          "2050-01-16T21:00:00",
          "2050-01-16T22:00:00",
          "2050-01-16T23:00:00",
          "2050-01-17T00:00:00",
          "2050-01-17T01:00:00",
          "2050-01-17T02:00:00",
          "2050-01-17T03:00:00",
          "2050-01-17T04:00:00",
          "2050-01-17T05:00:00",
          "2050-01-17T06:00:00",
          "2050-01-17T07:00:00",
          "2050-01-17T08:00:00",
          "2050-01-17T09:00:00",
          "2050-01-17T10:00:00",
          "2050-01-17T11:00:00",
          "2050-01-17T12:00:00",
          "2050-01-17T13:00:00",
          "2050-01-17T14:00:00",
          "2050-01-17T15:00:00",
          "2050-01-17T16:00:00",
          "2050-01-17T17:00:00",
          "2050-01-17T18:00:00",
          "2050-01-17T19:00:00",
          "2050-01-17T20:00:00",
          "2050-01-17T21:00:00",
          "2050-01-17T22:00:00",
          "2050-01-17T23:00:00",
          "2050-01-18T00:00:00",
          "2050-01-18T01:00:00",
          "2050-01-18T02:00:00",
          "2050-01-18T03:00:00",
          "2050-01-18T04:00:00",
          "2050-01-18T05:00:00",
          "2050-01-18T06:00:00",
          "2050-01-18T07:00:00",
          "2050-01-18T08:00:00",
          "2050-01-18T09:00:00",
          "2050-01-18T10:00:00",
          "2050-01-18T11:00:00",
          "2050-01-18T12:00:00",
          "2050-01-18T13:00:00",
          "2050-01-18T14:00:00",
          "2050-01-18T15:00:00",
          "2050-01-18T16:00:00",
          "2050-01-18T17:00:00",
          "2050-01-18T18:00:00",
          "2050-01-18T19:00:00",
          "2050-01-18T20:00:00",
          "2050-01-18T21:00:00",
          "2050-01-18T22:00:00",
          "2050-01-18T23:00:00",
          "2050-01-19T00:00:00",
          "2050-01-19T01:00:00",
          "2050-01-19T02:00:00",
          "2050-01-19T03:00:00",
          "2050-01-19T04:00:00",
          "2050-01-19T05:00:00",
          "2050-01-19T06:00:00",
          "2050-01-19T07:00:00",
          "2050-01-19T08:00:00",
          "2050-01-19T09:00:00",
          "2050-01-19T10:00:00",
          "2050-01-19T11:00:00",
          "2050-01-19T12:00:00",
          "2050-01-19T13:00:00",
          "2050-01-19T14:00:00",
          "2050-01-19T15:00:00",
          "2050-01-19T16:00:00",
          "2050-01-19T17:00:00",
          "2050-01-19T18:00:00",
          "2050-01-19T19:00:00",
          "2050-01-19T20:00:00",
          "2050-01-19T21:00:00",
          "2050-01-19T22:00:00",
          "2050-01-19T23:00:00",
          "2050-01-20T00:00:00",
          "2050-01-20T01:00:00",
          "2050-01-20T02:00:00",
          "2050-01-20T03:00:00",
          "2050-01-20T04:00:00",
          "2050-01-20T05:00:00",
          "2050-01-20T06:00:00",
          "2050-01-20T07:00:00",
          "2050-01-20T08:00:00",
          "2050-01-20T09:00:00",
          "2050-01-20T10:00:00",
          "2050-01-20T11:00:00",
          "2050-01-20T12:00:00",
          "2050-01-20T13:00:00",
          "2050-01-20T14:00:00",
          "2050-01-20T15:00:00",
          "2050-01-20T16:00:00",
          "2050-01-20T17:00:00",
          "2050-01-20T18:00:00",
          "2050-01-20T19:00:00",
          "2050-01-20T20:00:00",
          "2050-01-20T21:00:00",
          "2050-01-20T22:00:00",
          "2050-01-20T23:00:00"
         ],
         "y": [
          32.728399999999986,
          34.65359999999998,
          36.57879999999998,
          38.503999999999984,
          40.42919999999999,
          42.35439999999999,
          44.27959999999999,
          46.2048,
          48.13,
          48.13,
          48.13,
          46.2048,
          48.13,
          48.13,
          48.13,
          48.13,
          48.13,
          48.13,
          48.13,
          48.13,
          48.13,
          48.13,
          48.13,
          48.13,
          48.13,
          48.13,
          48.13,
          48.13,
          48.13,
          48.13,
          48.13,
          48.13,
          48.13,
          48.13,
          48.13,
          48.13,
          48.13,
          48.13,
          48.13,
          48.13,
          48.13,
          48.13,
          48.13,
          48.13,
          48.13,
          48.13,
          48.13,
          48.13,
          48.13,
          48.13,
          48.13,
          48.13,
          48.13,
          48.13,
          48.13,
          48.13,
          48.13,
          48.13,
          48.13,
          48.13,
          48.13,
          48.13,
          48.13,
          48.13,
          48.13,
          48.13,
          48.13,
          48.13,
          48.13,
          48.13,
          48.13,
          48.13,
          48.13,
          48.13,
          48.13,
          48.13,
          48.13,
          48.13,
          48.13,
          48.13,
          48.13,
          48.13,
          48.13,
          48.13,
          48.13,
          48.13,
          48.13,
          48.13,
          48.13,
          48.13,
          48.13,
          48.13,
          48.13,
          48.13,
          48.13,
          48.13,
          48.13,
          48.13,
          48.13,
          48.13,
          48.13,
          48.13,
          48.13,
          48.13,
          48.13,
          48.13,
          48.13,
          48.13,
          48.13,
          48.13,
          48.13,
          48.13,
          48.13,
          48.13,
          48.13,
          48.13,
          48.13,
          48.13,
          48.13,
          48.13,
          48.13,
          48.13,
          48.13,
          48.13,
          48.13,
          48.13,
          48.13,
          48.13,
          48.13,
          48.13,
          48.13,
          48.13,
          48.13,
          48.13,
          48.13,
          48.13,
          48.13,
          48.13,
          48.13,
          48.13,
          48.13,
          48.13,
          48.13,
          48.13,
          48.13,
          48.13,
          48.13,
          48.13,
          48.13,
          48.13,
          48.13,
          48.13,
          48.13,
          48.13,
          48.13,
          48.13,
          48.13,
          48.13,
          48.13,
          48.13,
          48.13,
          48.13,
          48.13,
          48.13,
          48.13,
          48.13,
          48.13,
          48.13
         ]
        },
        {
         "line": {
          "color": "darkgreen",
          "width": 0
         },
         "name": "Bioénergies et autres ENR",
         "stackgroup": "+",
         "type": "scatter",
         "x": [
          "2050-01-14T00:00:00",
          "2050-01-14T01:00:00",
          "2050-01-14T02:00:00",
          "2050-01-14T03:00:00",
          "2050-01-14T04:00:00",
          "2050-01-14T05:00:00",
          "2050-01-14T06:00:00",
          "2050-01-14T07:00:00",
          "2050-01-14T08:00:00",
          "2050-01-14T09:00:00",
          "2050-01-14T10:00:00",
          "2050-01-14T11:00:00",
          "2050-01-14T12:00:00",
          "2050-01-14T13:00:00",
          "2050-01-14T14:00:00",
          "2050-01-14T15:00:00",
          "2050-01-14T16:00:00",
          "2050-01-14T17:00:00",
          "2050-01-14T18:00:00",
          "2050-01-14T19:00:00",
          "2050-01-14T20:00:00",
          "2050-01-14T21:00:00",
          "2050-01-14T22:00:00",
          "2050-01-14T23:00:00",
          "2050-01-15T00:00:00",
          "2050-01-15T01:00:00",
          "2050-01-15T02:00:00",
          "2050-01-15T03:00:00",
          "2050-01-15T04:00:00",
          "2050-01-15T05:00:00",
          "2050-01-15T06:00:00",
          "2050-01-15T07:00:00",
          "2050-01-15T08:00:00",
          "2050-01-15T09:00:00",
          "2050-01-15T10:00:00",
          "2050-01-15T11:00:00",
          "2050-01-15T12:00:00",
          "2050-01-15T13:00:00",
          "2050-01-15T14:00:00",
          "2050-01-15T15:00:00",
          "2050-01-15T16:00:00",
          "2050-01-15T17:00:00",
          "2050-01-15T18:00:00",
          "2050-01-15T19:00:00",
          "2050-01-15T20:00:00",
          "2050-01-15T21:00:00",
          "2050-01-15T22:00:00",
          "2050-01-15T23:00:00",
          "2050-01-16T00:00:00",
          "2050-01-16T01:00:00",
          "2050-01-16T02:00:00",
          "2050-01-16T03:00:00",
          "2050-01-16T04:00:00",
          "2050-01-16T05:00:00",
          "2050-01-16T06:00:00",
          "2050-01-16T07:00:00",
          "2050-01-16T08:00:00",
          "2050-01-16T09:00:00",
          "2050-01-16T10:00:00",
          "2050-01-16T11:00:00",
          "2050-01-16T12:00:00",
          "2050-01-16T13:00:00",
          "2050-01-16T14:00:00",
          "2050-01-16T15:00:00",
          "2050-01-16T16:00:00",
          "2050-01-16T17:00:00",
          "2050-01-16T18:00:00",
          "2050-01-16T19:00:00",
          "2050-01-16T20:00:00",
          "2050-01-16T21:00:00",
          "2050-01-16T22:00:00",
          "2050-01-16T23:00:00",
          "2050-01-17T00:00:00",
          "2050-01-17T01:00:00",
          "2050-01-17T02:00:00",
          "2050-01-17T03:00:00",
          "2050-01-17T04:00:00",
          "2050-01-17T05:00:00",
          "2050-01-17T06:00:00",
          "2050-01-17T07:00:00",
          "2050-01-17T08:00:00",
          "2050-01-17T09:00:00",
          "2050-01-17T10:00:00",
          "2050-01-17T11:00:00",
          "2050-01-17T12:00:00",
          "2050-01-17T13:00:00",
          "2050-01-17T14:00:00",
          "2050-01-17T15:00:00",
          "2050-01-17T16:00:00",
          "2050-01-17T17:00:00",
          "2050-01-17T18:00:00",
          "2050-01-17T19:00:00",
          "2050-01-17T20:00:00",
          "2050-01-17T21:00:00",
          "2050-01-17T22:00:00",
          "2050-01-17T23:00:00",
          "2050-01-18T00:00:00",
          "2050-01-18T01:00:00",
          "2050-01-18T02:00:00",
          "2050-01-18T03:00:00",
          "2050-01-18T04:00:00",
          "2050-01-18T05:00:00",
          "2050-01-18T06:00:00",
          "2050-01-18T07:00:00",
          "2050-01-18T08:00:00",
          "2050-01-18T09:00:00",
          "2050-01-18T10:00:00",
          "2050-01-18T11:00:00",
          "2050-01-18T12:00:00",
          "2050-01-18T13:00:00",
          "2050-01-18T14:00:00",
          "2050-01-18T15:00:00",
          "2050-01-18T16:00:00",
          "2050-01-18T17:00:00",
          "2050-01-18T18:00:00",
          "2050-01-18T19:00:00",
          "2050-01-18T20:00:00",
          "2050-01-18T21:00:00",
          "2050-01-18T22:00:00",
          "2050-01-18T23:00:00",
          "2050-01-19T00:00:00",
          "2050-01-19T01:00:00",
          "2050-01-19T02:00:00",
          "2050-01-19T03:00:00",
          "2050-01-19T04:00:00",
          "2050-01-19T05:00:00",
          "2050-01-19T06:00:00",
          "2050-01-19T07:00:00",
          "2050-01-19T08:00:00",
          "2050-01-19T09:00:00",
          "2050-01-19T10:00:00",
          "2050-01-19T11:00:00",
          "2050-01-19T12:00:00",
          "2050-01-19T13:00:00",
          "2050-01-19T14:00:00",
          "2050-01-19T15:00:00",
          "2050-01-19T16:00:00",
          "2050-01-19T17:00:00",
          "2050-01-19T18:00:00",
          "2050-01-19T19:00:00",
          "2050-01-19T20:00:00",
          "2050-01-19T21:00:00",
          "2050-01-19T22:00:00",
          "2050-01-19T23:00:00",
          "2050-01-20T00:00:00",
          "2050-01-20T01:00:00",
          "2050-01-20T02:00:00",
          "2050-01-20T03:00:00",
          "2050-01-20T04:00:00",
          "2050-01-20T05:00:00",
          "2050-01-20T06:00:00",
          "2050-01-20T07:00:00",
          "2050-01-20T08:00:00",
          "2050-01-20T09:00:00",
          "2050-01-20T10:00:00",
          "2050-01-20T11:00:00",
          "2050-01-20T12:00:00",
          "2050-01-20T13:00:00",
          "2050-01-20T14:00:00",
          "2050-01-20T15:00:00",
          "2050-01-20T16:00:00",
          "2050-01-20T17:00:00",
          "2050-01-20T18:00:00",
          "2050-01-20T19:00:00",
          "2050-01-20T20:00:00",
          "2050-01-20T21:00:00",
          "2050-01-20T22:00:00",
          "2050-01-20T23:00:00"
         ],
         "y": [
          0,
          0,
          0.12185999999999998,
          0.24371999999999996,
          0.3655799999999999,
          0.48743999999999993,
          0.6093,
          0.7311599999999999,
          0.85302,
          0.97488,
          1.09674,
          1.2186,
          1.3404599999999998,
          1.4623199999999996,
          1.5841799999999997,
          1.7060399999999996,
          1.8278999999999994,
          1.9497599999999993,
          2.031,
          2.031,
          2.031,
          2.031,
          2.031,
          2.031,
          2.031,
          2.031,
          2.031,
          2.031,
          2.031,
          2.031,
          2.031,
          2.031,
          2.031,
          2.031,
          2.031,
          2.031,
          2.031,
          2.031,
          2.031,
          2.031,
          2.031,
          2.031,
          2.031,
          2.031,
          2.031,
          2.031,
          2.031,
          2.031,
          2.031,
          2.031,
          2.031,
          2.031,
          2.031,
          2.031,
          2.031,
          2.031,
          2.031,
          2.031,
          2.031,
          2.031,
          2.031,
          2.031,
          2.031,
          2.031,
          2.031,
          2.031,
          2.031,
          2.031,
          2.031,
          2.031,
          2.031,
          2.031,
          2.031,
          2.031,
          2.031,
          2.031,
          2.031,
          2.031,
          2.031,
          2.031,
          2.031,
          2.031,
          2.031,
          2.031,
          2.031,
          2.031,
          2.031,
          2.031,
          2.031,
          2.031,
          2.031,
          2.031,
          2.031,
          2.031,
          2.031,
          2.031,
          2.031,
          2.031,
          2.031,
          2.031,
          2.031,
          2.031,
          2.031,
          2.031,
          2.031,
          2.031,
          2.031,
          2.031,
          2.031,
          2.031,
          2.031,
          2.031,
          2.031,
          2.031,
          2.031,
          2.031,
          2.031,
          2.031,
          2.031,
          2.031,
          2.031,
          2.031,
          2.031,
          2.031,
          2.031,
          2.031,
          2.031,
          2.031,
          2.031,
          2.031,
          2.031,
          2.031,
          2.031,
          2.031,
          2.031,
          2.031,
          2.031,
          2.031,
          2.031,
          2.031,
          2.031,
          2.031,
          2.031,
          2.031,
          2.031,
          2.031,
          2.031,
          2.031,
          2.031,
          2.031,
          2.031,
          2.031,
          2.031,
          2.031,
          2.031,
          2.031,
          2.031,
          2.031,
          2.031,
          2.031,
          2.031,
          2.031,
          2.031,
          2.031,
          2.031,
          2.031,
          2.031,
          2.031
         ]
        },
        {
         "line": {
          "color": "lightskyblue",
          "width": 0
         },
         "name": "Éolien",
         "stackgroup": "+",
         "type": "scatter",
         "x": [
          "2050-01-14T00:00:00",
          "2050-01-14T01:00:00",
          "2050-01-14T02:00:00",
          "2050-01-14T03:00:00",
          "2050-01-14T04:00:00",
          "2050-01-14T05:00:00",
          "2050-01-14T06:00:00",
          "2050-01-14T07:00:00",
          "2050-01-14T08:00:00",
          "2050-01-14T09:00:00",
          "2050-01-14T10:00:00",
          "2050-01-14T11:00:00",
          "2050-01-14T12:00:00",
          "2050-01-14T13:00:00",
          "2050-01-14T14:00:00",
          "2050-01-14T15:00:00",
          "2050-01-14T16:00:00",
          "2050-01-14T17:00:00",
          "2050-01-14T18:00:00",
          "2050-01-14T19:00:00",
          "2050-01-14T20:00:00",
          "2050-01-14T21:00:00",
          "2050-01-14T22:00:00",
          "2050-01-14T23:00:00",
          "2050-01-15T00:00:00",
          "2050-01-15T01:00:00",
          "2050-01-15T02:00:00",
          "2050-01-15T03:00:00",
          "2050-01-15T04:00:00",
          "2050-01-15T05:00:00",
          "2050-01-15T06:00:00",
          "2050-01-15T07:00:00",
          "2050-01-15T08:00:00",
          "2050-01-15T09:00:00",
          "2050-01-15T10:00:00",
          "2050-01-15T11:00:00",
          "2050-01-15T12:00:00",
          "2050-01-15T13:00:00",
          "2050-01-15T14:00:00",
          "2050-01-15T15:00:00",
          "2050-01-15T16:00:00",
          "2050-01-15T17:00:00",
          "2050-01-15T18:00:00",
          "2050-01-15T19:00:00",
          "2050-01-15T20:00:00",
          "2050-01-15T21:00:00",
          "2050-01-15T22:00:00",
          "2050-01-15T23:00:00",
          "2050-01-16T00:00:00",
          "2050-01-16T01:00:00",
          "2050-01-16T02:00:00",
          "2050-01-16T03:00:00",
          "2050-01-16T04:00:00",
          "2050-01-16T05:00:00",
          "2050-01-16T06:00:00",
          "2050-01-16T07:00:00",
          "2050-01-16T08:00:00",
          "2050-01-16T09:00:00",
          "2050-01-16T10:00:00",
          "2050-01-16T11:00:00",
          "2050-01-16T12:00:00",
          "2050-01-16T13:00:00",
          "2050-01-16T14:00:00",
          "2050-01-16T15:00:00",
          "2050-01-16T16:00:00",
          "2050-01-16T17:00:00",
          "2050-01-16T18:00:00",
          "2050-01-16T19:00:00",
          "2050-01-16T20:00:00",
          "2050-01-16T21:00:00",
          "2050-01-16T22:00:00",
          "2050-01-16T23:00:00",
          "2050-01-17T00:00:00",
          "2050-01-17T01:00:00",
          "2050-01-17T02:00:00",
          "2050-01-17T03:00:00",
          "2050-01-17T04:00:00",
          "2050-01-17T05:00:00",
          "2050-01-17T06:00:00",
          "2050-01-17T07:00:00",
          "2050-01-17T08:00:00",
          "2050-01-17T09:00:00",
          "2050-01-17T10:00:00",
          "2050-01-17T11:00:00",
          "2050-01-17T12:00:00",
          "2050-01-17T13:00:00",
          "2050-01-17T14:00:00",
          "2050-01-17T15:00:00",
          "2050-01-17T16:00:00",
          "2050-01-17T17:00:00",
          "2050-01-17T18:00:00",
          "2050-01-17T19:00:00",
          "2050-01-17T20:00:00",
          "2050-01-17T21:00:00",
          "2050-01-17T22:00:00",
          "2050-01-17T23:00:00",
          "2050-01-18T00:00:00",
          "2050-01-18T01:00:00",
          "2050-01-18T02:00:00",
          "2050-01-18T03:00:00",
          "2050-01-18T04:00:00",
          "2050-01-18T05:00:00",
          "2050-01-18T06:00:00",
          "2050-01-18T07:00:00",
          "2050-01-18T08:00:00",
          "2050-01-18T09:00:00",
          "2050-01-18T10:00:00",
          "2050-01-18T11:00:00",
          "2050-01-18T12:00:00",
          "2050-01-18T13:00:00",
          "2050-01-18T14:00:00",
          "2050-01-18T15:00:00",
          "2050-01-18T16:00:00",
          "2050-01-18T17:00:00",
          "2050-01-18T18:00:00",
          "2050-01-18T19:00:00",
          "2050-01-18T20:00:00",
          "2050-01-18T21:00:00",
          "2050-01-18T22:00:00",
          "2050-01-18T23:00:00",
          "2050-01-19T00:00:00",
          "2050-01-19T01:00:00",
          "2050-01-19T02:00:00",
          "2050-01-19T03:00:00",
          "2050-01-19T04:00:00",
          "2050-01-19T05:00:00",
          "2050-01-19T06:00:00",
          "2050-01-19T07:00:00",
          "2050-01-19T08:00:00",
          "2050-01-19T09:00:00",
          "2050-01-19T10:00:00",
          "2050-01-19T11:00:00",
          "2050-01-19T12:00:00",
          "2050-01-19T13:00:00",
          "2050-01-19T14:00:00",
          "2050-01-19T15:00:00",
          "2050-01-19T16:00:00",
          "2050-01-19T17:00:00",
          "2050-01-19T18:00:00",
          "2050-01-19T19:00:00",
          "2050-01-19T20:00:00",
          "2050-01-19T21:00:00",
          "2050-01-19T22:00:00",
          "2050-01-19T23:00:00",
          "2050-01-20T00:00:00",
          "2050-01-20T01:00:00",
          "2050-01-20T02:00:00",
          "2050-01-20T03:00:00",
          "2050-01-20T04:00:00",
          "2050-01-20T05:00:00",
          "2050-01-20T06:00:00",
          "2050-01-20T07:00:00",
          "2050-01-20T08:00:00",
          "2050-01-20T09:00:00",
          "2050-01-20T10:00:00",
          "2050-01-20T11:00:00",
          "2050-01-20T12:00:00",
          "2050-01-20T13:00:00",
          "2050-01-20T14:00:00",
          "2050-01-20T15:00:00",
          "2050-01-20T16:00:00",
          "2050-01-20T17:00:00",
          "2050-01-20T18:00:00",
          "2050-01-20T19:00:00",
          "2050-01-20T20:00:00",
          "2050-01-20T21:00:00",
          "2050-01-20T22:00:00",
          "2050-01-20T23:00:00"
         ],
         "y": [
          61.0779,
          60.571600000000004,
          60.2007,
          58.24229999999999,
          55.9514,
          54.14590000000001,
          52.1445,
          49.7262,
          46.7173,
          42.9222,
          38.6096,
          38.4009,
          38.6044,
          36.8879,
          34.144800000000004,
          29.640300000000003,
          27.4308,
          27.201300000000003,
          25.694399999999998,
          23.620600000000003,
          21.453800000000005,
          19.1692,
          17.253600000000002,
          16.000500000000002,
          15.307900000000002,
          15.450899999999999,
          15.4719,
          16.067200000000003,
          16.4351,
          16.8473,
          16.880599999999998,
          17.040599999999998,
          17.2984,
          15.891800000000002,
          13.123400000000004,
          11.509,
          11.631599999999999,
          11.806600000000001,
          11.146799999999999,
          10.628599999999999,
          10.936100000000001,
          11.8218,
          12.3951,
          13.394699999999998,
          14.6007,
          15.331700000000001,
          16.4935,
          17.4665,
          17.661900000000003,
          17.3986,
          17.1318,
          17.125400000000003,
          17.4306,
          17.962400000000002,
          18.456599999999998,
          18.852400000000003,
          18.921800000000005,
          18.297400000000003,
          18.1955,
          20.6338,
          22.9829,
          25.1365,
          26.9193,
          29.1301,
          32.6183,
          36.6352,
          39.852,
          41.2142,
          40.4641,
          38.5147,
          34.928599999999996,
          32.4233,
          33.54279999999999,
          34.3519,
          35.153400000000005,
          36.3641,
          37.450100000000006,
          37.8317,
          38.2332,
          38.08710000000001,
          39.0642,
          38.8773,
          37.6693,
          38.5325,
          41.42679999999999,
          42.587399999999995,
          41.7233,
          38.105199999999996,
          33.9913,
          33.1358,
          32.967699999999994,
          31.585300000000004,
          29.5425,
          26.3566,
          23.016599999999997,
          19.9954,
          17.6215,
          16.024,
          14.6015,
          12.919599999999999,
          12.3535,
          11.725200000000001,
          10.960400000000002,
          10.6233,
          10.650099999999998,
          11.193100000000001,
          11.8034,
          12.238,
          13.7582,
          15.2566,
          16.311700000000005,
          17.007600000000004,
          18.229800000000004,
          20.9851,
          22.692400000000003,
          23.6363,
          24.291300000000003,
          25.200300000000002,
          24.955700000000004,
          23.927,
          23.129900000000003,
          23.146200000000004,
          22.704900000000002,
          22.3633,
          21.7605,
          21.131899999999998,
          20.657799999999995,
          20.097000000000005,
          20.445,
          19.8068,
          18.6188,
          18.1435,
          17.9133,
          16.7533,
          14.7539,
          13.1134,
          13.7998,
          15.7883,
          16.153,
          14.928899999999997,
          13.2401,
          11.622900000000001,
          10.0459,
          8.8388,
          8.127600000000001,
          7.7312,
          7.758800000000001,
          7.914900000000001,
          8.2114,
          8.3876,
          8.2987,
          8.0624,
          7.784700000000001,
          7.269600000000001,
          6.5835,
          6.795400000000001,
          7.6311,
          9.193,
          11.128400000000001,
          12.992799999999999,
          15.106599999999998,
          18.398,
          20.7981,
          21.5717,
          21.7799,
          21.9159,
          22.0112,
          21.644199999999998
         ]
        },
        {
         "line": {
          "color": "orange",
          "width": 0
         },
         "name": "Solaire",
         "stackgroup": "+",
         "type": "scatter",
         "x": [
          "2050-01-14T00:00:00",
          "2050-01-14T01:00:00",
          "2050-01-14T02:00:00",
          "2050-01-14T03:00:00",
          "2050-01-14T04:00:00",
          "2050-01-14T05:00:00",
          "2050-01-14T06:00:00",
          "2050-01-14T07:00:00",
          "2050-01-14T08:00:00",
          "2050-01-14T09:00:00",
          "2050-01-14T10:00:00",
          "2050-01-14T11:00:00",
          "2050-01-14T12:00:00",
          "2050-01-14T13:00:00",
          "2050-01-14T14:00:00",
          "2050-01-14T15:00:00",
          "2050-01-14T16:00:00",
          "2050-01-14T17:00:00",
          "2050-01-14T18:00:00",
          "2050-01-14T19:00:00",
          "2050-01-14T20:00:00",
          "2050-01-14T21:00:00",
          "2050-01-14T22:00:00",
          "2050-01-14T23:00:00",
          "2050-01-15T00:00:00",
          "2050-01-15T01:00:00",
          "2050-01-15T02:00:00",
          "2050-01-15T03:00:00",
          "2050-01-15T04:00:00",
          "2050-01-15T05:00:00",
          "2050-01-15T06:00:00",
          "2050-01-15T07:00:00",
          "2050-01-15T08:00:00",
          "2050-01-15T09:00:00",
          "2050-01-15T10:00:00",
          "2050-01-15T11:00:00",
          "2050-01-15T12:00:00",
          "2050-01-15T13:00:00",
          "2050-01-15T14:00:00",
          "2050-01-15T15:00:00",
          "2050-01-15T16:00:00",
          "2050-01-15T17:00:00",
          "2050-01-15T18:00:00",
          "2050-01-15T19:00:00",
          "2050-01-15T20:00:00",
          "2050-01-15T21:00:00",
          "2050-01-15T22:00:00",
          "2050-01-15T23:00:00",
          "2050-01-16T00:00:00",
          "2050-01-16T01:00:00",
          "2050-01-16T02:00:00",
          "2050-01-16T03:00:00",
          "2050-01-16T04:00:00",
          "2050-01-16T05:00:00",
          "2050-01-16T06:00:00",
          "2050-01-16T07:00:00",
          "2050-01-16T08:00:00",
          "2050-01-16T09:00:00",
          "2050-01-16T10:00:00",
          "2050-01-16T11:00:00",
          "2050-01-16T12:00:00",
          "2050-01-16T13:00:00",
          "2050-01-16T14:00:00",
          "2050-01-16T15:00:00",
          "2050-01-16T16:00:00",
          "2050-01-16T17:00:00",
          "2050-01-16T18:00:00",
          "2050-01-16T19:00:00",
          "2050-01-16T20:00:00",
          "2050-01-16T21:00:00",
          "2050-01-16T22:00:00",
          "2050-01-16T23:00:00",
          "2050-01-17T00:00:00",
          "2050-01-17T01:00:00",
          "2050-01-17T02:00:00",
          "2050-01-17T03:00:00",
          "2050-01-17T04:00:00",
          "2050-01-17T05:00:00",
          "2050-01-17T06:00:00",
          "2050-01-17T07:00:00",
          "2050-01-17T08:00:00",
          "2050-01-17T09:00:00",
          "2050-01-17T10:00:00",
          "2050-01-17T11:00:00",
          "2050-01-17T12:00:00",
          "2050-01-17T13:00:00",
          "2050-01-17T14:00:00",
          "2050-01-17T15:00:00",
          "2050-01-17T16:00:00",
          "2050-01-17T17:00:00",
          "2050-01-17T18:00:00",
          "2050-01-17T19:00:00",
          "2050-01-17T20:00:00",
          "2050-01-17T21:00:00",
          "2050-01-17T22:00:00",
          "2050-01-17T23:00:00",
          "2050-01-18T00:00:00",
          "2050-01-18T01:00:00",
          "2050-01-18T02:00:00",
          "2050-01-18T03:00:00",
          "2050-01-18T04:00:00",
          "2050-01-18T05:00:00",
          "2050-01-18T06:00:00",
          "2050-01-18T07:00:00",
          "2050-01-18T08:00:00",
          "2050-01-18T09:00:00",
          "2050-01-18T10:00:00",
          "2050-01-18T11:00:00",
          "2050-01-18T12:00:00",
          "2050-01-18T13:00:00",
          "2050-01-18T14:00:00",
          "2050-01-18T15:00:00",
          "2050-01-18T16:00:00",
          "2050-01-18T17:00:00",
          "2050-01-18T18:00:00",
          "2050-01-18T19:00:00",
          "2050-01-18T20:00:00",
          "2050-01-18T21:00:00",
          "2050-01-18T22:00:00",
          "2050-01-18T23:00:00",
          "2050-01-19T00:00:00",
          "2050-01-19T01:00:00",
          "2050-01-19T02:00:00",
          "2050-01-19T03:00:00",
          "2050-01-19T04:00:00",
          "2050-01-19T05:00:00",
          "2050-01-19T06:00:00",
          "2050-01-19T07:00:00",
          "2050-01-19T08:00:00",
          "2050-01-19T09:00:00",
          "2050-01-19T10:00:00",
          "2050-01-19T11:00:00",
          "2050-01-19T12:00:00",
          "2050-01-19T13:00:00",
          "2050-01-19T14:00:00",
          "2050-01-19T15:00:00",
          "2050-01-19T16:00:00",
          "2050-01-19T17:00:00",
          "2050-01-19T18:00:00",
          "2050-01-19T19:00:00",
          "2050-01-19T20:00:00",
          "2050-01-19T21:00:00",
          "2050-01-19T22:00:00",
          "2050-01-19T23:00:00",
          "2050-01-20T00:00:00",
          "2050-01-20T01:00:00",
          "2050-01-20T02:00:00",
          "2050-01-20T03:00:00",
          "2050-01-20T04:00:00",
          "2050-01-20T05:00:00",
          "2050-01-20T06:00:00",
          "2050-01-20T07:00:00",
          "2050-01-20T08:00:00",
          "2050-01-20T09:00:00",
          "2050-01-20T10:00:00",
          "2050-01-20T11:00:00",
          "2050-01-20T12:00:00",
          "2050-01-20T13:00:00",
          "2050-01-20T14:00:00",
          "2050-01-20T15:00:00",
          "2050-01-20T16:00:00",
          "2050-01-20T17:00:00",
          "2050-01-20T18:00:00",
          "2050-01-20T19:00:00",
          "2050-01-20T20:00:00",
          "2050-01-20T21:00:00",
          "2050-01-20T22:00:00",
          "2050-01-20T23:00:00"
         ],
         "y": [
          0,
          0,
          0,
          0,
          0,
          0,
          0,
          0,
          0,
          1.3555771718976755,
          11.708408406316263,
          23.47599456954833,
          31.504357855590097,
          33.008249284590946,
          31.65221755490866,
          24.308481827550295,
          13.971176942760064,
          3.2767650352811035,
          0.059576506877418146,
          0,
          0,
          0,
          0,
          0,
          0,
          0,
          0,
          0,
          0,
          0,
          0,
          0,
          0,
          2.978051638931533,
          19.744140164810943,
          39.249360293404784,
          51.74095753467642,
          57.710640879672916,
          55.6698525587143,
          46.49744251605077,
          28.838932441952057,
          8.620264613646768,
          0.2977587759400664,
          0.029775374710326968,
          0,
          0,
          0,
          0,
          0,
          0,
          0,
          0,
          0,
          0,
          0,
          0,
          0,
          3.3191474585319565,
          21.819667690362035,
          38.32515097717454,
          47.656313915585876,
          48.71218431188478,
          43.26424315252245,
          34.73580841045869,
          20.150587067786212,
          5.327758705918824,
          0.17858098596491412,
          0.029762986600168934,
          0,
          0,
          0,
          0,
          0,
          0,
          0,
          0,
          0,
          0,
          0,
          0,
          0,
          0.9819404853123399,
          10.429217302889448,
          24.413765064110375,
          33.56276697537569,
          40.911352586533646,
          41.267682837919104,
          34.52798621037491,
          21.60007249271867,
          7.155272095851246,
          0.2677601699377829,
          0.014875299245005453,
          0,
          0,
          0,
          0,
          0,
          0,
          0,
          0,
          0,
          0,
          0,
          0,
          0,
          3.197416981936914,
          15.406821904936654,
          30.560300456450133,
          42.917518715346255,
          43.94285291072383,
          43.07960830563604,
          35.242286849868925,
          20.356901230103723,
          5.858641599685828,
          0.14869387295405287,
          0,
          0,
          0,
          0,
          0,
          0,
          0,
          0,
          0,
          0,
          0,
          0,
          0,
          0,
          2.5122751327001147,
          16.396400089452364,
          32.33141728152451,
          44.668610834950236,
          50.65823400846437,
          47.7885579727593,
          36.416778307113205,
          21.002456198730478,
          5.915663825434126,
          0.11890574216989978,
          0,
          0,
          0,
          0,
          0,
          0,
          0,
          0,
          0,
          0,
          0,
          0,
          0,
          0,
          1.1887491907997192,
          8.113073183302383,
          19.167918627683896,
          24.605832899746147,
          25.496907700940344,
          25.407318482786696,
          21.365551094189552,
          11.97519923729782,
          4.041188459092729,
          0.10399941132222125,
          0,
          0,
          0,
          0,
          0
         ]
        },
        {
         "line": {
          "color": "blue",
          "width": 0
         },
         "name": "Hydraulique",
         "stackgroup": "+",
         "type": "scatter",
         "x": [
          "2050-01-14T00:00:00",
          "2050-01-14T01:00:00",
          "2050-01-14T02:00:00",
          "2050-01-14T03:00:00",
          "2050-01-14T04:00:00",
          "2050-01-14T05:00:00",
          "2050-01-14T06:00:00",
          "2050-01-14T07:00:00",
          "2050-01-14T08:00:00",
          "2050-01-14T09:00:00",
          "2050-01-14T10:00:00",
          "2050-01-14T11:00:00",
          "2050-01-14T12:00:00",
          "2050-01-14T13:00:00",
          "2050-01-14T14:00:00",
          "2050-01-14T15:00:00",
          "2050-01-14T16:00:00",
          "2050-01-14T17:00:00",
          "2050-01-14T18:00:00",
          "2050-01-14T19:00:00",
          "2050-01-14T20:00:00",
          "2050-01-14T21:00:00",
          "2050-01-14T22:00:00",
          "2050-01-14T23:00:00",
          "2050-01-15T00:00:00",
          "2050-01-15T01:00:00",
          "2050-01-15T02:00:00",
          "2050-01-15T03:00:00",
          "2050-01-15T04:00:00",
          "2050-01-15T05:00:00",
          "2050-01-15T06:00:00",
          "2050-01-15T07:00:00",
          "2050-01-15T08:00:00",
          "2050-01-15T09:00:00",
          "2050-01-15T10:00:00",
          "2050-01-15T11:00:00",
          "2050-01-15T12:00:00",
          "2050-01-15T13:00:00",
          "2050-01-15T14:00:00",
          "2050-01-15T15:00:00",
          "2050-01-15T16:00:00",
          "2050-01-15T17:00:00",
          "2050-01-15T18:00:00",
          "2050-01-15T19:00:00",
          "2050-01-15T20:00:00",
          "2050-01-15T21:00:00",
          "2050-01-15T22:00:00",
          "2050-01-15T23:00:00",
          "2050-01-16T00:00:00",
          "2050-01-16T01:00:00",
          "2050-01-16T02:00:00",
          "2050-01-16T03:00:00",
          "2050-01-16T04:00:00",
          "2050-01-16T05:00:00",
          "2050-01-16T06:00:00",
          "2050-01-16T07:00:00",
          "2050-01-16T08:00:00",
          "2050-01-16T09:00:00",
          "2050-01-16T10:00:00",
          "2050-01-16T11:00:00",
          "2050-01-16T12:00:00",
          "2050-01-16T13:00:00",
          "2050-01-16T14:00:00",
          "2050-01-16T15:00:00",
          "2050-01-16T16:00:00",
          "2050-01-16T17:00:00",
          "2050-01-16T18:00:00",
          "2050-01-16T19:00:00",
          "2050-01-16T20:00:00",
          "2050-01-16T21:00:00",
          "2050-01-16T22:00:00",
          "2050-01-16T23:00:00",
          "2050-01-17T00:00:00",
          "2050-01-17T01:00:00",
          "2050-01-17T02:00:00",
          "2050-01-17T03:00:00",
          "2050-01-17T04:00:00",
          "2050-01-17T05:00:00",
          "2050-01-17T06:00:00",
          "2050-01-17T07:00:00",
          "2050-01-17T08:00:00",
          "2050-01-17T09:00:00",
          "2050-01-17T10:00:00",
          "2050-01-17T11:00:00",
          "2050-01-17T12:00:00",
          "2050-01-17T13:00:00",
          "2050-01-17T14:00:00",
          "2050-01-17T15:00:00",
          "2050-01-17T16:00:00",
          "2050-01-17T17:00:00",
          "2050-01-17T18:00:00",
          "2050-01-17T19:00:00",
          "2050-01-17T20:00:00",
          "2050-01-17T21:00:00",
          "2050-01-17T22:00:00",
          "2050-01-17T23:00:00",
          "2050-01-18T00:00:00",
          "2050-01-18T01:00:00",
          "2050-01-18T02:00:00",
          "2050-01-18T03:00:00",
          "2050-01-18T04:00:00",
          "2050-01-18T05:00:00",
          "2050-01-18T06:00:00",
          "2050-01-18T07:00:00",
          "2050-01-18T08:00:00",
          "2050-01-18T09:00:00",
          "2050-01-18T10:00:00",
          "2050-01-18T11:00:00",
          "2050-01-18T12:00:00",
          "2050-01-18T13:00:00",
          "2050-01-18T14:00:00",
          "2050-01-18T15:00:00",
          "2050-01-18T16:00:00",
          "2050-01-18T17:00:00",
          "2050-01-18T18:00:00",
          "2050-01-18T19:00:00",
          "2050-01-18T20:00:00",
          "2050-01-18T21:00:00",
          "2050-01-18T22:00:00",
          "2050-01-18T23:00:00",
          "2050-01-19T00:00:00",
          "2050-01-19T01:00:00",
          "2050-01-19T02:00:00",
          "2050-01-19T03:00:00",
          "2050-01-19T04:00:00",
          "2050-01-19T05:00:00",
          "2050-01-19T06:00:00",
          "2050-01-19T07:00:00",
          "2050-01-19T08:00:00",
          "2050-01-19T09:00:00",
          "2050-01-19T10:00:00",
          "2050-01-19T11:00:00",
          "2050-01-19T12:00:00",
          "2050-01-19T13:00:00",
          "2050-01-19T14:00:00",
          "2050-01-19T15:00:00",
          "2050-01-19T16:00:00",
          "2050-01-19T17:00:00",
          "2050-01-19T18:00:00",
          "2050-01-19T19:00:00",
          "2050-01-19T20:00:00",
          "2050-01-19T21:00:00",
          "2050-01-19T22:00:00",
          "2050-01-19T23:00:00",
          "2050-01-20T00:00:00",
          "2050-01-20T01:00:00",
          "2050-01-20T02:00:00",
          "2050-01-20T03:00:00",
          "2050-01-20T04:00:00",
          "2050-01-20T05:00:00",
          "2050-01-20T06:00:00",
          "2050-01-20T07:00:00",
          "2050-01-20T08:00:00",
          "2050-01-20T09:00:00",
          "2050-01-20T10:00:00",
          "2050-01-20T11:00:00",
          "2050-01-20T12:00:00",
          "2050-01-20T13:00:00",
          "2050-01-20T14:00:00",
          "2050-01-20T15:00:00",
          "2050-01-20T16:00:00",
          "2050-01-20T17:00:00",
          "2050-01-20T18:00:00",
          "2050-01-20T19:00:00",
          "2050-01-20T20:00:00",
          "2050-01-20T21:00:00",
          "2050-01-20T22:00:00",
          "2050-01-20T23:00:00"
         ],
         "y": [
          5.558779785619423,
          5.558779785619427,
          5.558779785619423,
          5.55877978561943,
          5.55877978561943,
          5.558779785619427,
          5.55877978561943,
          5.558779785619427,
          5.55877978561943,
          5.558779785619425,
          5.558779785619423,
          5.558779785619425,
          5.5587797856194285,
          5.623276767574633,
          5.558779785619436,
          5.5587797856194285,
          12.908218284416188,
          6.1298361329257,
          14.34377978561943,
          5.558779785619425,
          5.785609793268593,
          5.558779785619427,
          5.5587797856194285,
          5.5587797856194285,
          14.579238788068269,
          6.209201859229748,
          6.209201859229743,
          6.209201859229748,
          6.2092018592297515,
          6.20920185922975,
          6.20920185922975,
          14.994201859229753,
          14.994201859229749,
          13.118404642004032,
          6.209201859229748,
          6.209201859229743,
          6.209201859229755,
          6.209201859229741,
          6.209201859229755,
          6.209201859229741,
          6.209201859229743,
          6.2092018592297515,
          14.994201859229749,
          14.994201859229742,
          14.994201859229749,
          14.83997090191149,
          6.209201859229748,
          6.209201859229748,
          6.2287499051413375,
          6.228749905141345,
          6.228749905141345,
          6.228749905141335,
          6.228749905141339,
          6.228749905141339,
          6.228749905141339,
          6.228749905141336,
          6.2287499051413375,
          6.228749905141341,
          6.228749905141344,
          6.228749905141341,
          6.2287499051413375,
          6.228749905141344,
          6.228749905141344,
          6.228749905141336,
          6.228749905141339,
          6.228749905141341,
          14.481427054449053,
          6.228749905141344,
          6.2287499051413375,
          6.228749905141339,
          6.2287499051413375,
          6.2287499051413375,
          6.1021806583191065,
          6.102180658319105,
          6.102180658319105,
          6.1021806583191065,
          6.102180658319108,
          6.102180658319105,
          6.1021806583191065,
          6.102180658319105,
          6.102180658319099,
          6.102180658319099,
          6.102180658319112,
          6.102180658319114,
          6.102180658319108,
          6.102180658319101,
          6.102180658319108,
          6.102180658319101,
          6.102180658319101,
          14.88718065831911,
          14.887180658319107,
          14.887180658319107,
          14.887180658319103,
          14.887180658319107,
          14.887180658319107,
          14.887180658319101,
          14.998204278125588,
          14.99820427812559,
          14.998204278125595,
          14.998204278125595,
          14.99820427812559,
          14.998204278125595,
          14.998204278125591,
          14.9982042781256,
          14.99820427812559,
          14.998204278125595,
          14.998204278125595,
          14.998204278125588,
          14.998204278125602,
          14.998204278125595,
          14.998204278125593,
          14.99820427812559,
          14.998204278125598,
          14.998204278125591,
          14.998204278125595,
          14.998204278125588,
          14.998204278125593,
          14.99820427812559,
          14.998204278125593,
          14.998204278125593,
          14.25833684310377,
          14.258336843103777,
          14.258336843103773,
          14.258336843103779,
          14.25833684310377,
          14.258336843103779,
          14.25833684310378,
          14.258336843103779,
          14.25833684310378,
          14.258336843103775,
          14.258336843103775,
          14.258336843103775,
          14.258336843103768,
          14.25833684310378,
          14.258336843103775,
          14.258336843103775,
          14.258336843103768,
          14.258336843103773,
          14.258336843103775,
          14.258336843103773,
          14.25833684310378,
          14.25833684310378,
          14.258336843103775,
          14.258336843103775,
          13.424383560994116,
          13.424383560994121,
          13.42438356099412,
          13.424383560994121,
          13.424383560994116,
          13.424383560994118,
          13.424383560994118,
          13.424383560994116,
          13.42438356099412,
          13.42438356099412,
          13.424383560994121,
          13.42438356099411,
          13.424383560994112,
          13.424383560994116,
          13.424383560994121,
          13.424383560994121,
          13.424383560994112,
          13.42438356099412,
          13.424383560994112,
          13.424383560994112,
          13.424383560994112,
          13.424383560994116,
          13.424383560994118,
          13.424383560994116
         ]
        },
        {
         "line": {
          "color": "red",
          "width": 0
         },
         "name": "Gaz",
         "stackgroup": "+",
         "type": "scatter",
         "x": [
          "2050-01-14T00:00:00",
          "2050-01-14T01:00:00",
          "2050-01-14T02:00:00",
          "2050-01-14T03:00:00",
          "2050-01-14T04:00:00",
          "2050-01-14T05:00:00",
          "2050-01-14T06:00:00",
          "2050-01-14T07:00:00",
          "2050-01-14T08:00:00",
          "2050-01-14T09:00:00",
          "2050-01-14T10:00:00",
          "2050-01-14T11:00:00",
          "2050-01-14T12:00:00",
          "2050-01-14T13:00:00",
          "2050-01-14T14:00:00",
          "2050-01-14T15:00:00",
          "2050-01-14T16:00:00",
          "2050-01-14T17:00:00",
          "2050-01-14T18:00:00",
          "2050-01-14T19:00:00",
          "2050-01-14T20:00:00",
          "2050-01-14T21:00:00",
          "2050-01-14T22:00:00",
          "2050-01-14T23:00:00",
          "2050-01-15T00:00:00",
          "2050-01-15T01:00:00",
          "2050-01-15T02:00:00",
          "2050-01-15T03:00:00",
          "2050-01-15T04:00:00",
          "2050-01-15T05:00:00",
          "2050-01-15T06:00:00",
          "2050-01-15T07:00:00",
          "2050-01-15T08:00:00",
          "2050-01-15T09:00:00",
          "2050-01-15T10:00:00",
          "2050-01-15T11:00:00",
          "2050-01-15T12:00:00",
          "2050-01-15T13:00:00",
          "2050-01-15T14:00:00",
          "2050-01-15T15:00:00",
          "2050-01-15T16:00:00",
          "2050-01-15T17:00:00",
          "2050-01-15T18:00:00",
          "2050-01-15T19:00:00",
          "2050-01-15T20:00:00",
          "2050-01-15T21:00:00",
          "2050-01-15T22:00:00",
          "2050-01-15T23:00:00",
          "2050-01-16T00:00:00",
          "2050-01-16T01:00:00",
          "2050-01-16T02:00:00",
          "2050-01-16T03:00:00",
          "2050-01-16T04:00:00",
          "2050-01-16T05:00:00",
          "2050-01-16T06:00:00",
          "2050-01-16T07:00:00",
          "2050-01-16T08:00:00",
          "2050-01-16T09:00:00",
          "2050-01-16T10:00:00",
          "2050-01-16T11:00:00",
          "2050-01-16T12:00:00",
          "2050-01-16T13:00:00",
          "2050-01-16T14:00:00",
          "2050-01-16T15:00:00",
          "2050-01-16T16:00:00",
          "2050-01-16T17:00:00",
          "2050-01-16T18:00:00",
          "2050-01-16T19:00:00",
          "2050-01-16T20:00:00",
          "2050-01-16T21:00:00",
          "2050-01-16T22:00:00",
          "2050-01-16T23:00:00",
          "2050-01-17T00:00:00",
          "2050-01-17T01:00:00",
          "2050-01-17T02:00:00",
          "2050-01-17T03:00:00",
          "2050-01-17T04:00:00",
          "2050-01-17T05:00:00",
          "2050-01-17T06:00:00",
          "2050-01-17T07:00:00",
          "2050-01-17T08:00:00",
          "2050-01-17T09:00:00",
          "2050-01-17T10:00:00",
          "2050-01-17T11:00:00",
          "2050-01-17T12:00:00",
          "2050-01-17T13:00:00",
          "2050-01-17T14:00:00",
          "2050-01-17T15:00:00",
          "2050-01-17T16:00:00",
          "2050-01-17T17:00:00",
          "2050-01-17T18:00:00",
          "2050-01-17T19:00:00",
          "2050-01-17T20:00:00",
          "2050-01-17T21:00:00",
          "2050-01-17T22:00:00",
          "2050-01-17T23:00:00",
          "2050-01-18T00:00:00",
          "2050-01-18T01:00:00",
          "2050-01-18T02:00:00",
          "2050-01-18T03:00:00",
          "2050-01-18T04:00:00",
          "2050-01-18T05:00:00",
          "2050-01-18T06:00:00",
          "2050-01-18T07:00:00",
          "2050-01-18T08:00:00",
          "2050-01-18T09:00:00",
          "2050-01-18T10:00:00",
          "2050-01-18T11:00:00",
          "2050-01-18T12:00:00",
          "2050-01-18T13:00:00",
          "2050-01-18T14:00:00",
          "2050-01-18T15:00:00",
          "2050-01-18T16:00:00",
          "2050-01-18T17:00:00",
          "2050-01-18T18:00:00",
          "2050-01-18T19:00:00",
          "2050-01-18T20:00:00",
          "2050-01-18T21:00:00",
          "2050-01-18T22:00:00",
          "2050-01-18T23:00:00",
          "2050-01-19T00:00:00",
          "2050-01-19T01:00:00",
          "2050-01-19T02:00:00",
          "2050-01-19T03:00:00",
          "2050-01-19T04:00:00",
          "2050-01-19T05:00:00",
          "2050-01-19T06:00:00",
          "2050-01-19T07:00:00",
          "2050-01-19T08:00:00",
          "2050-01-19T09:00:00",
          "2050-01-19T10:00:00",
          "2050-01-19T11:00:00",
          "2050-01-19T12:00:00",
          "2050-01-19T13:00:00",
          "2050-01-19T14:00:00",
          "2050-01-19T15:00:00",
          "2050-01-19T16:00:00",
          "2050-01-19T17:00:00",
          "2050-01-19T18:00:00",
          "2050-01-19T19:00:00",
          "2050-01-19T20:00:00",
          "2050-01-19T21:00:00",
          "2050-01-19T22:00:00",
          "2050-01-19T23:00:00",
          "2050-01-20T00:00:00",
          "2050-01-20T01:00:00",
          "2050-01-20T02:00:00",
          "2050-01-20T03:00:00",
          "2050-01-20T04:00:00",
          "2050-01-20T05:00:00",
          "2050-01-20T06:00:00",
          "2050-01-20T07:00:00",
          "2050-01-20T08:00:00",
          "2050-01-20T09:00:00",
          "2050-01-20T10:00:00",
          "2050-01-20T11:00:00",
          "2050-01-20T12:00:00",
          "2050-01-20T13:00:00",
          "2050-01-20T14:00:00",
          "2050-01-20T15:00:00",
          "2050-01-20T16:00:00",
          "2050-01-20T17:00:00",
          "2050-01-20T18:00:00",
          "2050-01-20T19:00:00",
          "2050-01-20T20:00:00",
          "2050-01-20T21:00:00",
          "2050-01-20T22:00:00",
          "2050-01-20T23:00:00"
         ],
         "y": [
          0,
          0,
          0,
          0,
          0,
          0,
          0,
          0,
          0,
          0,
          0,
          0,
          0,
          0,
          0,
          0,
          0,
          0,
          0,
          0,
          0,
          0,
          0,
          0,
          0,
          0,
          0,
          0,
          0,
          0,
          0,
          0,
          0,
          0,
          0,
          0,
          0,
          0,
          0,
          0,
          0,
          0,
          0,
          0,
          0,
          0,
          0,
          0,
          0,
          0,
          0,
          0,
          0,
          0,
          0,
          0,
          0,
          0,
          0,
          0,
          0,
          0,
          0,
          0,
          0,
          0,
          0,
          0,
          0,
          0,
          0,
          0,
          0,
          0,
          0,
          0,
          0,
          0,
          0,
          0,
          0,
          0,
          0,
          0,
          0,
          0,
          0,
          0,
          0,
          0,
          0,
          0,
          0,
          0,
          0,
          0,
          0,
          0,
          0,
          0,
          0,
          0,
          0,
          0,
          0,
          0,
          0,
          0,
          0,
          0,
          0,
          0,
          0,
          0,
          0,
          0,
          0,
          0,
          0,
          0,
          0,
          0,
          0,
          0,
          0,
          0,
          0,
          0,
          0,
          0,
          0,
          0,
          0,
          0,
          0,
          0,
          0,
          0,
          0,
          0,
          0,
          0,
          0,
          0,
          0,
          0,
          0,
          0,
          0,
          0,
          0,
          0,
          0,
          0,
          0,
          0,
          0,
          0,
          0,
          0,
          0,
          0,
          0,
          0,
          0,
          0,
          0,
          0
         ]
        },
        {
         "line": {
          "color": "saddlebrown",
          "width": 0
         },
         "name": "Charbon",
         "stackgroup": "+",
         "type": "scatter",
         "x": [
          "2050-01-14T00:00:00",
          "2050-01-14T01:00:00",
          "2050-01-14T02:00:00",
          "2050-01-14T03:00:00",
          "2050-01-14T04:00:00",
          "2050-01-14T05:00:00",
          "2050-01-14T06:00:00",
          "2050-01-14T07:00:00",
          "2050-01-14T08:00:00",
          "2050-01-14T09:00:00",
          "2050-01-14T10:00:00",
          "2050-01-14T11:00:00",
          "2050-01-14T12:00:00",
          "2050-01-14T13:00:00",
          "2050-01-14T14:00:00",
          "2050-01-14T15:00:00",
          "2050-01-14T16:00:00",
          "2050-01-14T17:00:00",
          "2050-01-14T18:00:00",
          "2050-01-14T19:00:00",
          "2050-01-14T20:00:00",
          "2050-01-14T21:00:00",
          "2050-01-14T22:00:00",
          "2050-01-14T23:00:00",
          "2050-01-15T00:00:00",
          "2050-01-15T01:00:00",
          "2050-01-15T02:00:00",
          "2050-01-15T03:00:00",
          "2050-01-15T04:00:00",
          "2050-01-15T05:00:00",
          "2050-01-15T06:00:00",
          "2050-01-15T07:00:00",
          "2050-01-15T08:00:00",
          "2050-01-15T09:00:00",
          "2050-01-15T10:00:00",
          "2050-01-15T11:00:00",
          "2050-01-15T12:00:00",
          "2050-01-15T13:00:00",
          "2050-01-15T14:00:00",
          "2050-01-15T15:00:00",
          "2050-01-15T16:00:00",
          "2050-01-15T17:00:00",
          "2050-01-15T18:00:00",
          "2050-01-15T19:00:00",
          "2050-01-15T20:00:00",
          "2050-01-15T21:00:00",
          "2050-01-15T22:00:00",
          "2050-01-15T23:00:00",
          "2050-01-16T00:00:00",
          "2050-01-16T01:00:00",
          "2050-01-16T02:00:00",
          "2050-01-16T03:00:00",
          "2050-01-16T04:00:00",
          "2050-01-16T05:00:00",
          "2050-01-16T06:00:00",
          "2050-01-16T07:00:00",
          "2050-01-16T08:00:00",
          "2050-01-16T09:00:00",
          "2050-01-16T10:00:00",
          "2050-01-16T11:00:00",
          "2050-01-16T12:00:00",
          "2050-01-16T13:00:00",
          "2050-01-16T14:00:00",
          "2050-01-16T15:00:00",
          "2050-01-16T16:00:00",
          "2050-01-16T17:00:00",
          "2050-01-16T18:00:00",
          "2050-01-16T19:00:00",
          "2050-01-16T20:00:00",
          "2050-01-16T21:00:00",
          "2050-01-16T22:00:00",
          "2050-01-16T23:00:00",
          "2050-01-17T00:00:00",
          "2050-01-17T01:00:00",
          "2050-01-17T02:00:00",
          "2050-01-17T03:00:00",
          "2050-01-17T04:00:00",
          "2050-01-17T05:00:00",
          "2050-01-17T06:00:00",
          "2050-01-17T07:00:00",
          "2050-01-17T08:00:00",
          "2050-01-17T09:00:00",
          "2050-01-17T10:00:00",
          "2050-01-17T11:00:00",
          "2050-01-17T12:00:00",
          "2050-01-17T13:00:00",
          "2050-01-17T14:00:00",
          "2050-01-17T15:00:00",
          "2050-01-17T16:00:00",
          "2050-01-17T17:00:00",
          "2050-01-17T18:00:00",
          "2050-01-17T19:00:00",
          "2050-01-17T20:00:00",
          "2050-01-17T21:00:00",
          "2050-01-17T22:00:00",
          "2050-01-17T23:00:00",
          "2050-01-18T00:00:00",
          "2050-01-18T01:00:00",
          "2050-01-18T02:00:00",
          "2050-01-18T03:00:00",
          "2050-01-18T04:00:00",
          "2050-01-18T05:00:00",
          "2050-01-18T06:00:00",
          "2050-01-18T07:00:00",
          "2050-01-18T08:00:00",
          "2050-01-18T09:00:00",
          "2050-01-18T10:00:00",
          "2050-01-18T11:00:00",
          "2050-01-18T12:00:00",
          "2050-01-18T13:00:00",
          "2050-01-18T14:00:00",
          "2050-01-18T15:00:00",
          "2050-01-18T16:00:00",
          "2050-01-18T17:00:00",
          "2050-01-18T18:00:00",
          "2050-01-18T19:00:00",
          "2050-01-18T20:00:00",
          "2050-01-18T21:00:00",
          "2050-01-18T22:00:00",
          "2050-01-18T23:00:00",
          "2050-01-19T00:00:00",
          "2050-01-19T01:00:00",
          "2050-01-19T02:00:00",
          "2050-01-19T03:00:00",
          "2050-01-19T04:00:00",
          "2050-01-19T05:00:00",
          "2050-01-19T06:00:00",
          "2050-01-19T07:00:00",
          "2050-01-19T08:00:00",
          "2050-01-19T09:00:00",
          "2050-01-19T10:00:00",
          "2050-01-19T11:00:00",
          "2050-01-19T12:00:00",
          "2050-01-19T13:00:00",
          "2050-01-19T14:00:00",
          "2050-01-19T15:00:00",
          "2050-01-19T16:00:00",
          "2050-01-19T17:00:00",
          "2050-01-19T18:00:00",
          "2050-01-19T19:00:00",
          "2050-01-19T20:00:00",
          "2050-01-19T21:00:00",
          "2050-01-19T22:00:00",
          "2050-01-19T23:00:00",
          "2050-01-20T00:00:00",
          "2050-01-20T01:00:00",
          "2050-01-20T02:00:00",
          "2050-01-20T03:00:00",
          "2050-01-20T04:00:00",
          "2050-01-20T05:00:00",
          "2050-01-20T06:00:00",
          "2050-01-20T07:00:00",
          "2050-01-20T08:00:00",
          "2050-01-20T09:00:00",
          "2050-01-20T10:00:00",
          "2050-01-20T11:00:00",
          "2050-01-20T12:00:00",
          "2050-01-20T13:00:00",
          "2050-01-20T14:00:00",
          "2050-01-20T15:00:00",
          "2050-01-20T16:00:00",
          "2050-01-20T17:00:00",
          "2050-01-20T18:00:00",
          "2050-01-20T19:00:00",
          "2050-01-20T20:00:00",
          "2050-01-20T21:00:00",
          "2050-01-20T22:00:00",
          "2050-01-20T23:00:00"
         ],
         "y": [
          0,
          0,
          0,
          0,
          0,
          0,
          0,
          0,
          0,
          0,
          0,
          0,
          0,
          0,
          0,
          0,
          0,
          0,
          0,
          0,
          0,
          0,
          0,
          0,
          0,
          0,
          0,
          0,
          0,
          0,
          0,
          0,
          0,
          0,
          0,
          0,
          0,
          0,
          0,
          0,
          0,
          0,
          0,
          0,
          0,
          0,
          0,
          0,
          0,
          0,
          0,
          0,
          0,
          0,
          0,
          0,
          0,
          0,
          0,
          0,
          0,
          0,
          0,
          0,
          0,
          0,
          0,
          0,
          0,
          0,
          0,
          0,
          0,
          0,
          0,
          0,
          0,
          0,
          0,
          0,
          0,
          0,
          0,
          0,
          0,
          0,
          0,
          0,
          0,
          0,
          0,
          0,
          0,
          0,
          0,
          0,
          0,
          0,
          0,
          0,
          0,
          0,
          0,
          0,
          0,
          0,
          0,
          0,
          0,
          0,
          0,
          0,
          0,
          0,
          0,
          0,
          0,
          0,
          0,
          0,
          0,
          0,
          0,
          0,
          0,
          0,
          0,
          0,
          0,
          0,
          0,
          0,
          0,
          0,
          0,
          0,
          0,
          0,
          0,
          0,
          0,
          0,
          0,
          0,
          0,
          0,
          0,
          0,
          0,
          0,
          0,
          0,
          0,
          0,
          0,
          0,
          0,
          0,
          0,
          0,
          0,
          0,
          0,
          0,
          0,
          0,
          0,
          0
         ]
        },
        {
         "line": {
          "color": "magenta",
          "width": 0
         },
         "name": "Injections batteries",
         "stackgroup": "+",
         "type": "scatter",
         "x": [
          "2050-01-14T00:00:00",
          "2050-01-14T01:00:00",
          "2050-01-14T02:00:00",
          "2050-01-14T03:00:00",
          "2050-01-14T04:00:00",
          "2050-01-14T05:00:00",
          "2050-01-14T06:00:00",
          "2050-01-14T07:00:00",
          "2050-01-14T08:00:00",
          "2050-01-14T09:00:00",
          "2050-01-14T10:00:00",
          "2050-01-14T11:00:00",
          "2050-01-14T12:00:00",
          "2050-01-14T13:00:00",
          "2050-01-14T14:00:00",
          "2050-01-14T15:00:00",
          "2050-01-14T16:00:00",
          "2050-01-14T17:00:00",
          "2050-01-14T18:00:00",
          "2050-01-14T19:00:00",
          "2050-01-14T20:00:00",
          "2050-01-14T21:00:00",
          "2050-01-14T22:00:00",
          "2050-01-14T23:00:00",
          "2050-01-15T00:00:00",
          "2050-01-15T01:00:00",
          "2050-01-15T02:00:00",
          "2050-01-15T03:00:00",
          "2050-01-15T04:00:00",
          "2050-01-15T05:00:00",
          "2050-01-15T06:00:00",
          "2050-01-15T07:00:00",
          "2050-01-15T08:00:00",
          "2050-01-15T09:00:00",
          "2050-01-15T10:00:00",
          "2050-01-15T11:00:00",
          "2050-01-15T12:00:00",
          "2050-01-15T13:00:00",
          "2050-01-15T14:00:00",
          "2050-01-15T15:00:00",
          "2050-01-15T16:00:00",
          "2050-01-15T17:00:00",
          "2050-01-15T18:00:00",
          "2050-01-15T19:00:00",
          "2050-01-15T20:00:00",
          "2050-01-15T21:00:00",
          "2050-01-15T22:00:00",
          "2050-01-15T23:00:00",
          "2050-01-16T00:00:00",
          "2050-01-16T01:00:00",
          "2050-01-16T02:00:00",
          "2050-01-16T03:00:00",
          "2050-01-16T04:00:00",
          "2050-01-16T05:00:00",
          "2050-01-16T06:00:00",
          "2050-01-16T07:00:00",
          "2050-01-16T08:00:00",
          "2050-01-16T09:00:00",
          "2050-01-16T10:00:00",
          "2050-01-16T11:00:00",
          "2050-01-16T12:00:00",
          "2050-01-16T13:00:00",
          "2050-01-16T14:00:00",
          "2050-01-16T15:00:00",
          "2050-01-16T16:00:00",
          "2050-01-16T17:00:00",
          "2050-01-16T18:00:00",
          "2050-01-16T19:00:00",
          "2050-01-16T20:00:00",
          "2050-01-16T21:00:00",
          "2050-01-16T22:00:00",
          "2050-01-16T23:00:00",
          "2050-01-17T00:00:00",
          "2050-01-17T01:00:00",
          "2050-01-17T02:00:00",
          "2050-01-17T03:00:00",
          "2050-01-17T04:00:00",
          "2050-01-17T05:00:00",
          "2050-01-17T06:00:00",
          "2050-01-17T07:00:00",
          "2050-01-17T08:00:00",
          "2050-01-17T09:00:00",
          "2050-01-17T10:00:00",
          "2050-01-17T11:00:00",
          "2050-01-17T12:00:00",
          "2050-01-17T13:00:00",
          "2050-01-17T14:00:00",
          "2050-01-17T15:00:00",
          "2050-01-17T16:00:00",
          "2050-01-17T17:00:00",
          "2050-01-17T18:00:00",
          "2050-01-17T19:00:00",
          "2050-01-17T20:00:00",
          "2050-01-17T21:00:00",
          "2050-01-17T22:00:00",
          "2050-01-17T23:00:00",
          "2050-01-18T00:00:00",
          "2050-01-18T01:00:00",
          "2050-01-18T02:00:00",
          "2050-01-18T03:00:00",
          "2050-01-18T04:00:00",
          "2050-01-18T05:00:00",
          "2050-01-18T06:00:00",
          "2050-01-18T07:00:00",
          "2050-01-18T08:00:00",
          "2050-01-18T09:00:00",
          "2050-01-18T10:00:00",
          "2050-01-18T11:00:00",
          "2050-01-18T12:00:00",
          "2050-01-18T13:00:00",
          "2050-01-18T14:00:00",
          "2050-01-18T15:00:00",
          "2050-01-18T16:00:00",
          "2050-01-18T17:00:00",
          "2050-01-18T18:00:00",
          "2050-01-18T19:00:00",
          "2050-01-18T20:00:00",
          "2050-01-18T21:00:00",
          "2050-01-18T22:00:00",
          "2050-01-18T23:00:00",
          "2050-01-19T00:00:00",
          "2050-01-19T01:00:00",
          "2050-01-19T02:00:00",
          "2050-01-19T03:00:00",
          "2050-01-19T04:00:00",
          "2050-01-19T05:00:00",
          "2050-01-19T06:00:00",
          "2050-01-19T07:00:00",
          "2050-01-19T08:00:00",
          "2050-01-19T09:00:00",
          "2050-01-19T10:00:00",
          "2050-01-19T11:00:00",
          "2050-01-19T12:00:00",
          "2050-01-19T13:00:00",
          "2050-01-19T14:00:00",
          "2050-01-19T15:00:00",
          "2050-01-19T16:00:00",
          "2050-01-19T17:00:00",
          "2050-01-19T18:00:00",
          "2050-01-19T19:00:00",
          "2050-01-19T20:00:00",
          "2050-01-19T21:00:00",
          "2050-01-19T22:00:00",
          "2050-01-19T23:00:00",
          "2050-01-20T00:00:00",
          "2050-01-20T01:00:00",
          "2050-01-20T02:00:00",
          "2050-01-20T03:00:00",
          "2050-01-20T04:00:00",
          "2050-01-20T05:00:00",
          "2050-01-20T06:00:00",
          "2050-01-20T07:00:00",
          "2050-01-20T08:00:00",
          "2050-01-20T09:00:00",
          "2050-01-20T10:00:00",
          "2050-01-20T11:00:00",
          "2050-01-20T12:00:00",
          "2050-01-20T13:00:00",
          "2050-01-20T14:00:00",
          "2050-01-20T15:00:00",
          "2050-01-20T16:00:00",
          "2050-01-20T17:00:00",
          "2050-01-20T18:00:00",
          "2050-01-20T19:00:00",
          "2050-01-20T20:00:00",
          "2050-01-20T21:00:00",
          "2050-01-20T22:00:00",
          "2050-01-20T23:00:00"
         ],
         "y": [
          0,
          0,
          0,
          0,
          0,
          0,
          0,
          0,
          0,
          0.09931900505007345,
          0,
          0,
          0,
          0,
          0,
          0,
          0,
          0,
          0.11004875905825312,
          0,
          0,
          0,
          0,
          0,
          0,
          0,
          0,
          0,
          0,
          0,
          0,
          0,
          0,
          0,
          0,
          0,
          0,
          0,
          0,
          0,
          0,
          0,
          0.11004875905825312,
          0,
          0,
          0,
          0,
          0,
          0,
          0,
          0,
          0,
          0,
          0,
          0,
          0,
          0,
          0,
          0,
          0,
          0,
          0,
          0,
          0,
          0,
          0,
          0,
          0,
          0,
          0,
          0,
          0,
          0,
          0,
          0,
          0,
          0,
          0,
          0,
          0,
          0,
          0,
          0,
          0,
          0,
          0,
          0,
          0,
          0,
          0,
          0,
          0,
          0,
          0,
          0,
          0,
          0,
          0,
          0,
          0,
          0,
          0,
          0,
          0,
          0.11004875905825312,
          0,
          0,
          0,
          0,
          0,
          0,
          0,
          0,
          0,
          0.11004875905825312,
          0,
          0,
          0,
          0,
          0,
          0,
          0,
          0,
          0,
          0,
          0,
          0,
          0,
          0,
          0,
          0,
          0,
          0,
          0,
          0,
          0,
          0,
          0,
          0.11004875905825312,
          0,
          0,
          0,
          0,
          0,
          0,
          0,
          0,
          0,
          0,
          0,
          0,
          0,
          0,
          0,
          0,
          0,
          0,
          0.09931900505007345,
          0,
          0,
          0,
          0,
          0,
          0,
          0,
          0,
          0,
          0
         ]
        },
        {
         "line": {
          "color": "navy",
          "width": 0
         },
         "name": "Turbinage STEP",
         "stackgroup": "+",
         "type": "scatter",
         "x": [
          "2050-01-14T00:00:00",
          "2050-01-14T01:00:00",
          "2050-01-14T02:00:00",
          "2050-01-14T03:00:00",
          "2050-01-14T04:00:00",
          "2050-01-14T05:00:00",
          "2050-01-14T06:00:00",
          "2050-01-14T07:00:00",
          "2050-01-14T08:00:00",
          "2050-01-14T09:00:00",
          "2050-01-14T10:00:00",
          "2050-01-14T11:00:00",
          "2050-01-14T12:00:00",
          "2050-01-14T13:00:00",
          "2050-01-14T14:00:00",
          "2050-01-14T15:00:00",
          "2050-01-14T16:00:00",
          "2050-01-14T17:00:00",
          "2050-01-14T18:00:00",
          "2050-01-14T19:00:00",
          "2050-01-14T20:00:00",
          "2050-01-14T21:00:00",
          "2050-01-14T22:00:00",
          "2050-01-14T23:00:00",
          "2050-01-15T00:00:00",
          "2050-01-15T01:00:00",
          "2050-01-15T02:00:00",
          "2050-01-15T03:00:00",
          "2050-01-15T04:00:00",
          "2050-01-15T05:00:00",
          "2050-01-15T06:00:00",
          "2050-01-15T07:00:00",
          "2050-01-15T08:00:00",
          "2050-01-15T09:00:00",
          "2050-01-15T10:00:00",
          "2050-01-15T11:00:00",
          "2050-01-15T12:00:00",
          "2050-01-15T13:00:00",
          "2050-01-15T14:00:00",
          "2050-01-15T15:00:00",
          "2050-01-15T16:00:00",
          "2050-01-15T17:00:00",
          "2050-01-15T18:00:00",
          "2050-01-15T19:00:00",
          "2050-01-15T20:00:00",
          "2050-01-15T21:00:00",
          "2050-01-15T22:00:00",
          "2050-01-15T23:00:00",
          "2050-01-16T00:00:00",
          "2050-01-16T01:00:00",
          "2050-01-16T02:00:00",
          "2050-01-16T03:00:00",
          "2050-01-16T04:00:00",
          "2050-01-16T05:00:00",
          "2050-01-16T06:00:00",
          "2050-01-16T07:00:00",
          "2050-01-16T08:00:00",
          "2050-01-16T09:00:00",
          "2050-01-16T10:00:00",
          "2050-01-16T11:00:00",
          "2050-01-16T12:00:00",
          "2050-01-16T13:00:00",
          "2050-01-16T14:00:00",
          "2050-01-16T15:00:00",
          "2050-01-16T16:00:00",
          "2050-01-16T17:00:00",
          "2050-01-16T18:00:00",
          "2050-01-16T19:00:00",
          "2050-01-16T20:00:00",
          "2050-01-16T21:00:00",
          "2050-01-16T22:00:00",
          "2050-01-16T23:00:00",
          "2050-01-17T00:00:00",
          "2050-01-17T01:00:00",
          "2050-01-17T02:00:00",
          "2050-01-17T03:00:00",
          "2050-01-17T04:00:00",
          "2050-01-17T05:00:00",
          "2050-01-17T06:00:00",
          "2050-01-17T07:00:00",
          "2050-01-17T08:00:00",
          "2050-01-17T09:00:00",
          "2050-01-17T10:00:00",
          "2050-01-17T11:00:00",
          "2050-01-17T12:00:00",
          "2050-01-17T13:00:00",
          "2050-01-17T14:00:00",
          "2050-01-17T15:00:00",
          "2050-01-17T16:00:00",
          "2050-01-17T17:00:00",
          "2050-01-17T18:00:00",
          "2050-01-17T19:00:00",
          "2050-01-17T20:00:00",
          "2050-01-17T21:00:00",
          "2050-01-17T22:00:00",
          "2050-01-17T23:00:00",
          "2050-01-18T00:00:00",
          "2050-01-18T01:00:00",
          "2050-01-18T02:00:00",
          "2050-01-18T03:00:00",
          "2050-01-18T04:00:00",
          "2050-01-18T05:00:00",
          "2050-01-18T06:00:00",
          "2050-01-18T07:00:00",
          "2050-01-18T08:00:00",
          "2050-01-18T09:00:00",
          "2050-01-18T10:00:00",
          "2050-01-18T11:00:00",
          "2050-01-18T12:00:00",
          "2050-01-18T13:00:00",
          "2050-01-18T14:00:00",
          "2050-01-18T15:00:00",
          "2050-01-18T16:00:00",
          "2050-01-18T17:00:00",
          "2050-01-18T18:00:00",
          "2050-01-18T19:00:00",
          "2050-01-18T20:00:00",
          "2050-01-18T21:00:00",
          "2050-01-18T22:00:00",
          "2050-01-18T23:00:00",
          "2050-01-19T00:00:00",
          "2050-01-19T01:00:00",
          "2050-01-19T02:00:00",
          "2050-01-19T03:00:00",
          "2050-01-19T04:00:00",
          "2050-01-19T05:00:00",
          "2050-01-19T06:00:00",
          "2050-01-19T07:00:00",
          "2050-01-19T08:00:00",
          "2050-01-19T09:00:00",
          "2050-01-19T10:00:00",
          "2050-01-19T11:00:00",
          "2050-01-19T12:00:00",
          "2050-01-19T13:00:00",
          "2050-01-19T14:00:00",
          "2050-01-19T15:00:00",
          "2050-01-19T16:00:00",
          "2050-01-19T17:00:00",
          "2050-01-19T18:00:00",
          "2050-01-19T19:00:00",
          "2050-01-19T20:00:00",
          "2050-01-19T21:00:00",
          "2050-01-19T22:00:00",
          "2050-01-19T23:00:00",
          "2050-01-20T00:00:00",
          "2050-01-20T01:00:00",
          "2050-01-20T02:00:00",
          "2050-01-20T03:00:00",
          "2050-01-20T04:00:00",
          "2050-01-20T05:00:00",
          "2050-01-20T06:00:00",
          "2050-01-20T07:00:00",
          "2050-01-20T08:00:00",
          "2050-01-20T09:00:00",
          "2050-01-20T10:00:00",
          "2050-01-20T11:00:00",
          "2050-01-20T12:00:00",
          "2050-01-20T13:00:00",
          "2050-01-20T14:00:00",
          "2050-01-20T15:00:00",
          "2050-01-20T16:00:00",
          "2050-01-20T17:00:00",
          "2050-01-20T18:00:00",
          "2050-01-20T19:00:00",
          "2050-01-20T20:00:00",
          "2050-01-20T21:00:00",
          "2050-01-20T22:00:00",
          "2050-01-20T23:00:00"
         ],
         "y": [
          0,
          0,
          0,
          0,
          0,
          0,
          0,
          0,
          0,
          4.089690000000001,
          0,
          0,
          0,
          0,
          0,
          0,
          0,
          0,
          0,
          0,
          0,
          0,
          0,
          0,
          0,
          0,
          0,
          0,
          0,
          0,
          0,
          0,
          0,
          0,
          0,
          0,
          0,
          0,
          0,
          0,
          0,
          0,
          3.945376354535399,
          0,
          0,
          0,
          0,
          0,
          0,
          0,
          0,
          0,
          0,
          0,
          0,
          0,
          0,
          0,
          0,
          0,
          0,
          0,
          0,
          0,
          0,
          0,
          0,
          0,
          0,
          0,
          0,
          0,
          0,
          0,
          0,
          0,
          0,
          0,
          0,
          0,
          0,
          0,
          0,
          0,
          0,
          0,
          0,
          0,
          0,
          0,
          0,
          0,
          0,
          0,
          0,
          0,
          0,
          0,
          0,
          0,
          0,
          0,
          0,
          0,
          5.049,
          0,
          0,
          0,
          0,
          0,
          0,
          0,
          0,
          0,
          5.049,
          0,
          0,
          0,
          0,
          0,
          0,
          0,
          0,
          0,
          0,
          0,
          0,
          0,
          0,
          0,
          0,
          0,
          0,
          0,
          0,
          0,
          1.6970475106603227,
          5.049,
          5.049,
          5.049,
          2.385237907339957,
          0,
          0,
          0,
          0,
          0,
          0,
          0,
          0,
          0,
          0,
          0,
          0,
          0,
          0.8043088100329708,
          0,
          4.439108390795994,
          5.049,
          1.6231808832784997,
          0,
          5.049,
          0,
          5.049,
          0.5598719673441344,
          0,
          0,
          0,
          0
         ]
        },
        {
         "line": {
          "color": "purple",
          "width": 0
         },
         "name": "Hydrogen-to-power",
         "stackgroup": "+",
         "type": "scatter",
         "x": [
          "2050-01-14T00:00:00",
          "2050-01-14T01:00:00",
          "2050-01-14T02:00:00",
          "2050-01-14T03:00:00",
          "2050-01-14T04:00:00",
          "2050-01-14T05:00:00",
          "2050-01-14T06:00:00",
          "2050-01-14T07:00:00",
          "2050-01-14T08:00:00",
          "2050-01-14T09:00:00",
          "2050-01-14T10:00:00",
          "2050-01-14T11:00:00",
          "2050-01-14T12:00:00",
          "2050-01-14T13:00:00",
          "2050-01-14T14:00:00",
          "2050-01-14T15:00:00",
          "2050-01-14T16:00:00",
          "2050-01-14T17:00:00",
          "2050-01-14T18:00:00",
          "2050-01-14T19:00:00",
          "2050-01-14T20:00:00",
          "2050-01-14T21:00:00",
          "2050-01-14T22:00:00",
          "2050-01-14T23:00:00",
          "2050-01-15T00:00:00",
          "2050-01-15T01:00:00",
          "2050-01-15T02:00:00",
          "2050-01-15T03:00:00",
          "2050-01-15T04:00:00",
          "2050-01-15T05:00:00",
          "2050-01-15T06:00:00",
          "2050-01-15T07:00:00",
          "2050-01-15T08:00:00",
          "2050-01-15T09:00:00",
          "2050-01-15T10:00:00",
          "2050-01-15T11:00:00",
          "2050-01-15T12:00:00",
          "2050-01-15T13:00:00",
          "2050-01-15T14:00:00",
          "2050-01-15T15:00:00",
          "2050-01-15T16:00:00",
          "2050-01-15T17:00:00",
          "2050-01-15T18:00:00",
          "2050-01-15T19:00:00",
          "2050-01-15T20:00:00",
          "2050-01-15T21:00:00",
          "2050-01-15T22:00:00",
          "2050-01-15T23:00:00",
          "2050-01-16T00:00:00",
          "2050-01-16T01:00:00",
          "2050-01-16T02:00:00",
          "2050-01-16T03:00:00",
          "2050-01-16T04:00:00",
          "2050-01-16T05:00:00",
          "2050-01-16T06:00:00",
          "2050-01-16T07:00:00",
          "2050-01-16T08:00:00",
          "2050-01-16T09:00:00",
          "2050-01-16T10:00:00",
          "2050-01-16T11:00:00",
          "2050-01-16T12:00:00",
          "2050-01-16T13:00:00",
          "2050-01-16T14:00:00",
          "2050-01-16T15:00:00",
          "2050-01-16T16:00:00",
          "2050-01-16T17:00:00",
          "2050-01-16T18:00:00",
          "2050-01-16T19:00:00",
          "2050-01-16T20:00:00",
          "2050-01-16T21:00:00",
          "2050-01-16T22:00:00",
          "2050-01-16T23:00:00",
          "2050-01-17T00:00:00",
          "2050-01-17T01:00:00",
          "2050-01-17T02:00:00",
          "2050-01-17T03:00:00",
          "2050-01-17T04:00:00",
          "2050-01-17T05:00:00",
          "2050-01-17T06:00:00",
          "2050-01-17T07:00:00",
          "2050-01-17T08:00:00",
          "2050-01-17T09:00:00",
          "2050-01-17T10:00:00",
          "2050-01-17T11:00:00",
          "2050-01-17T12:00:00",
          "2050-01-17T13:00:00",
          "2050-01-17T14:00:00",
          "2050-01-17T15:00:00",
          "2050-01-17T16:00:00",
          "2050-01-17T17:00:00",
          "2050-01-17T18:00:00",
          "2050-01-17T19:00:00",
          "2050-01-17T20:00:00",
          "2050-01-17T21:00:00",
          "2050-01-17T22:00:00",
          "2050-01-17T23:00:00",
          "2050-01-18T00:00:00",
          "2050-01-18T01:00:00",
          "2050-01-18T02:00:00",
          "2050-01-18T03:00:00",
          "2050-01-18T04:00:00",
          "2050-01-18T05:00:00",
          "2050-01-18T06:00:00",
          "2050-01-18T07:00:00",
          "2050-01-18T08:00:00",
          "2050-01-18T09:00:00",
          "2050-01-18T10:00:00",
          "2050-01-18T11:00:00",
          "2050-01-18T12:00:00",
          "2050-01-18T13:00:00",
          "2050-01-18T14:00:00",
          "2050-01-18T15:00:00",
          "2050-01-18T16:00:00",
          "2050-01-18T17:00:00",
          "2050-01-18T18:00:00",
          "2050-01-18T19:00:00",
          "2050-01-18T20:00:00",
          "2050-01-18T21:00:00",
          "2050-01-18T22:00:00",
          "2050-01-18T23:00:00",
          "2050-01-19T00:00:00",
          "2050-01-19T01:00:00",
          "2050-01-19T02:00:00",
          "2050-01-19T03:00:00",
          "2050-01-19T04:00:00",
          "2050-01-19T05:00:00",
          "2050-01-19T06:00:00",
          "2050-01-19T07:00:00",
          "2050-01-19T08:00:00",
          "2050-01-19T09:00:00",
          "2050-01-19T10:00:00",
          "2050-01-19T11:00:00",
          "2050-01-19T12:00:00",
          "2050-01-19T13:00:00",
          "2050-01-19T14:00:00",
          "2050-01-19T15:00:00",
          "2050-01-19T16:00:00",
          "2050-01-19T17:00:00",
          "2050-01-19T18:00:00",
          "2050-01-19T19:00:00",
          "2050-01-19T20:00:00",
          "2050-01-19T21:00:00",
          "2050-01-19T22:00:00",
          "2050-01-19T23:00:00",
          "2050-01-20T00:00:00",
          "2050-01-20T01:00:00",
          "2050-01-20T02:00:00",
          "2050-01-20T03:00:00",
          "2050-01-20T04:00:00",
          "2050-01-20T05:00:00",
          "2050-01-20T06:00:00",
          "2050-01-20T07:00:00",
          "2050-01-20T08:00:00",
          "2050-01-20T09:00:00",
          "2050-01-20T10:00:00",
          "2050-01-20T11:00:00",
          "2050-01-20T12:00:00",
          "2050-01-20T13:00:00",
          "2050-01-20T14:00:00",
          "2050-01-20T15:00:00",
          "2050-01-20T16:00:00",
          "2050-01-20T17:00:00",
          "2050-01-20T18:00:00",
          "2050-01-20T19:00:00",
          "2050-01-20T20:00:00",
          "2050-01-20T21:00:00",
          "2050-01-20T22:00:00",
          "2050-01-20T23:00:00"
         ],
         "y": [
          0,
          0,
          0,
          0,
          0,
          0,
          0,
          0,
          0,
          0,
          0,
          0,
          0,
          0,
          0,
          0,
          0,
          0,
          0,
          0,
          0,
          0,
          0,
          0,
          0,
          0,
          0,
          0,
          0,
          0,
          0,
          0,
          0,
          0,
          0,
          0,
          0,
          0,
          0,
          0,
          0,
          0,
          0,
          0,
          0,
          0,
          0,
          0,
          0,
          0,
          0,
          0,
          0,
          0,
          0,
          0,
          0,
          0,
          0,
          0,
          0,
          0,
          0,
          0,
          0,
          0,
          0,
          0,
          0,
          0,
          0,
          0,
          0,
          0,
          0,
          0,
          0,
          0,
          0,
          0,
          0,
          0,
          0,
          0,
          0,
          0,
          0,
          0,
          0,
          0,
          0,
          0,
          0,
          0,
          0,
          0,
          0,
          0,
          0,
          0,
          0,
          0,
          0,
          0,
          0,
          0,
          0,
          0,
          0,
          0,
          0,
          0,
          0,
          0,
          0,
          0,
          0,
          0,
          0,
          0,
          0,
          0,
          0,
          0,
          0,
          0,
          0,
          0,
          0,
          0,
          0,
          0,
          0,
          0,
          0,
          0,
          0,
          0,
          0,
          0,
          0,
          0,
          0,
          0,
          0,
          0,
          0,
          0,
          0,
          0,
          0,
          0,
          0,
          0,
          0,
          0,
          0,
          0,
          0,
          0,
          0,
          0,
          0,
          0,
          0,
          0,
          0,
          0
         ]
        },
        {
         "line": {
          "color": "gray",
          "width": 0
         },
         "name": "Imports",
         "stackgroup": "+",
         "type": "scatter",
         "x": [
          "2050-01-14T00:00:00",
          "2050-01-14T01:00:00",
          "2050-01-14T02:00:00",
          "2050-01-14T03:00:00",
          "2050-01-14T04:00:00",
          "2050-01-14T05:00:00",
          "2050-01-14T06:00:00",
          "2050-01-14T07:00:00",
          "2050-01-14T08:00:00",
          "2050-01-14T09:00:00",
          "2050-01-14T10:00:00",
          "2050-01-14T11:00:00",
          "2050-01-14T12:00:00",
          "2050-01-14T13:00:00",
          "2050-01-14T14:00:00",
          "2050-01-14T15:00:00",
          "2050-01-14T16:00:00",
          "2050-01-14T17:00:00",
          "2050-01-14T18:00:00",
          "2050-01-14T19:00:00",
          "2050-01-14T20:00:00",
          "2050-01-14T21:00:00",
          "2050-01-14T22:00:00",
          "2050-01-14T23:00:00",
          "2050-01-15T00:00:00",
          "2050-01-15T01:00:00",
          "2050-01-15T02:00:00",
          "2050-01-15T03:00:00",
          "2050-01-15T04:00:00",
          "2050-01-15T05:00:00",
          "2050-01-15T06:00:00",
          "2050-01-15T07:00:00",
          "2050-01-15T08:00:00",
          "2050-01-15T09:00:00",
          "2050-01-15T10:00:00",
          "2050-01-15T11:00:00",
          "2050-01-15T12:00:00",
          "2050-01-15T13:00:00",
          "2050-01-15T14:00:00",
          "2050-01-15T15:00:00",
          "2050-01-15T16:00:00",
          "2050-01-15T17:00:00",
          "2050-01-15T18:00:00",
          "2050-01-15T19:00:00",
          "2050-01-15T20:00:00",
          "2050-01-15T21:00:00",
          "2050-01-15T22:00:00",
          "2050-01-15T23:00:00",
          "2050-01-16T00:00:00",
          "2050-01-16T01:00:00",
          "2050-01-16T02:00:00",
          "2050-01-16T03:00:00",
          "2050-01-16T04:00:00",
          "2050-01-16T05:00:00",
          "2050-01-16T06:00:00",
          "2050-01-16T07:00:00",
          "2050-01-16T08:00:00",
          "2050-01-16T09:00:00",
          "2050-01-16T10:00:00",
          "2050-01-16T11:00:00",
          "2050-01-16T12:00:00",
          "2050-01-16T13:00:00",
          "2050-01-16T14:00:00",
          "2050-01-16T15:00:00",
          "2050-01-16T16:00:00",
          "2050-01-16T17:00:00",
          "2050-01-16T18:00:00",
          "2050-01-16T19:00:00",
          "2050-01-16T20:00:00",
          "2050-01-16T21:00:00",
          "2050-01-16T22:00:00",
          "2050-01-16T23:00:00",
          "2050-01-17T00:00:00",
          "2050-01-17T01:00:00",
          "2050-01-17T02:00:00",
          "2050-01-17T03:00:00",
          "2050-01-17T04:00:00",
          "2050-01-17T05:00:00",
          "2050-01-17T06:00:00",
          "2050-01-17T07:00:00",
          "2050-01-17T08:00:00",
          "2050-01-17T09:00:00",
          "2050-01-17T10:00:00",
          "2050-01-17T11:00:00",
          "2050-01-17T12:00:00",
          "2050-01-17T13:00:00",
          "2050-01-17T14:00:00",
          "2050-01-17T15:00:00",
          "2050-01-17T16:00:00",
          "2050-01-17T17:00:00",
          "2050-01-17T18:00:00",
          "2050-01-17T19:00:00",
          "2050-01-17T20:00:00",
          "2050-01-17T21:00:00",
          "2050-01-17T22:00:00",
          "2050-01-17T23:00:00",
          "2050-01-18T00:00:00",
          "2050-01-18T01:00:00",
          "2050-01-18T02:00:00",
          "2050-01-18T03:00:00",
          "2050-01-18T04:00:00",
          "2050-01-18T05:00:00",
          "2050-01-18T06:00:00",
          "2050-01-18T07:00:00",
          "2050-01-18T08:00:00",
          "2050-01-18T09:00:00",
          "2050-01-18T10:00:00",
          "2050-01-18T11:00:00",
          "2050-01-18T12:00:00",
          "2050-01-18T13:00:00",
          "2050-01-18T14:00:00",
          "2050-01-18T15:00:00",
          "2050-01-18T16:00:00",
          "2050-01-18T17:00:00",
          "2050-01-18T18:00:00",
          "2050-01-18T19:00:00",
          "2050-01-18T20:00:00",
          "2050-01-18T21:00:00",
          "2050-01-18T22:00:00",
          "2050-01-18T23:00:00",
          "2050-01-19T00:00:00",
          "2050-01-19T01:00:00",
          "2050-01-19T02:00:00",
          "2050-01-19T03:00:00",
          "2050-01-19T04:00:00",
          "2050-01-19T05:00:00",
          "2050-01-19T06:00:00",
          "2050-01-19T07:00:00",
          "2050-01-19T08:00:00",
          "2050-01-19T09:00:00",
          "2050-01-19T10:00:00",
          "2050-01-19T11:00:00",
          "2050-01-19T12:00:00",
          "2050-01-19T13:00:00",
          "2050-01-19T14:00:00",
          "2050-01-19T15:00:00",
          "2050-01-19T16:00:00",
          "2050-01-19T17:00:00",
          "2050-01-19T18:00:00",
          "2050-01-19T19:00:00",
          "2050-01-19T20:00:00",
          "2050-01-19T21:00:00",
          "2050-01-19T22:00:00",
          "2050-01-19T23:00:00",
          "2050-01-20T00:00:00",
          "2050-01-20T01:00:00",
          "2050-01-20T02:00:00",
          "2050-01-20T03:00:00",
          "2050-01-20T04:00:00",
          "2050-01-20T05:00:00",
          "2050-01-20T06:00:00",
          "2050-01-20T07:00:00",
          "2050-01-20T08:00:00",
          "2050-01-20T09:00:00",
          "2050-01-20T10:00:00",
          "2050-01-20T11:00:00",
          "2050-01-20T12:00:00",
          "2050-01-20T13:00:00",
          "2050-01-20T14:00:00",
          "2050-01-20T15:00:00",
          "2050-01-20T16:00:00",
          "2050-01-20T17:00:00",
          "2050-01-20T18:00:00",
          "2050-01-20T19:00:00",
          "2050-01-20T20:00:00",
          "2050-01-20T21:00:00",
          "2050-01-20T22:00:00",
          "2050-01-20T23:00:00"
         ],
         "y": [
          0.12467188546791476,
          0,
          0,
          0,
          0,
          0,
          0,
          0,
          0,
          0,
          0,
          0,
          10.316026398063368,
          9.241,
          9.241,
          9.241,
          9.241,
          1.0275509160112561,
          7.383324326022023,
          9.241,
          6.551831653909896,
          5.711532555844889,
          7.273973752366208,
          9.241,
          9.241,
          9.241,
          9.241,
          9.241,
          9.241,
          9.241,
          4.745369692603197,
          0.10738976316876324,
          6.569678541005431,
          5.545862486737036,
          17.027732420730754,
          24.99238593976225,
          22.23664174915306,
          23.347870923776014,
          12.519193603715813,
          10.163919802575036,
          14.714206493779333,
          10.872286856866111,
          6.593575951792063,
          7.154569234808027,
          5.133052780171412,
          0.8216873393656943,
          0,
          1.439630806742136,
          15.164407342845184,
          9.241,
          17.946967654769413,
          19.5175322237597,
          19.62181991988516,
          12.27113343081533,
          18.775912459790955,
          17.283051868484147,
          16.1791706019395,
          20.431566887544346,
          25.99904051629226,
          20.651870963045504,
          18.585761577903455,
          20.89350226365102,
          17.18616299449405,
          12.708847621486603,
          12.893549493194216,
          4.940899146023119,
          0,
          4.291973743039248,
          6.646728563446006,
          4.078223813486595,
          9.241,
          9.513637608124649,
          9.241,
          9.241,
          11.856041534389522,
          9.241,
          9.241,
          9.241,
          9.241,
          8.31038371944334,
          10.404179798116418,
          12.028173222319644,
          19.425321780059072,
          13.639629401444385,
          11.557532666419178,
          14.717841933204017,
          10.20621885563509,
          12.358229852945477,
          14.573994344907328,
          0.5063659281180081,
          0,
          1.6655954243481665,
          4.363,
          4.363,
          4.363,
          0,
          0,
          0,
          1.36474106883921,
          0,
          0,
          1.897087618997337,
          0,
          1.036873522589116,
          2.691967698549536,
          3.610192327112933,
          0,
          0,
          4.091,
          4.091,
          4.091,
          0,
          0,
          0,
          0,
          0,
          0,
          0,
          0,
          0,
          0,
          0,
          0,
          2.3604743057139275,
          0,
          0,
          0,
          0,
          0,
          3.2245839152865137,
          6.671308248521325,
          0.7937830806329202,
          0,
          0,
          0,
          0,
          0,
          0,
          0,
          8.887894132081714,
          0,
          0,
          0,
          0,
          0,
          0,
          0,
          0,
          0,
          0,
          0,
          0,
          0,
          2.908203383039853,
          10.718296157239372,
          4.555128823044877,
          2.491864495160421,
          10.020916668879087,
          5.6516356264212995,
          0,
          0,
          0,
          0,
          0,
          0,
          0,
          0,
          0
         ]
        },
        {
         "line": {
          "color": "magenta",
          "width": 0
         },
         "name": "Soutirage batteries",
         "stackgroup": "-",
         "type": "scatter",
         "x": [
          "2050-01-14T00:00:00",
          "2050-01-14T01:00:00",
          "2050-01-14T02:00:00",
          "2050-01-14T03:00:00",
          "2050-01-14T04:00:00",
          "2050-01-14T05:00:00",
          "2050-01-14T06:00:00",
          "2050-01-14T07:00:00",
          "2050-01-14T08:00:00",
          "2050-01-14T09:00:00",
          "2050-01-14T10:00:00",
          "2050-01-14T11:00:00",
          "2050-01-14T12:00:00",
          "2050-01-14T13:00:00",
          "2050-01-14T14:00:00",
          "2050-01-14T15:00:00",
          "2050-01-14T16:00:00",
          "2050-01-14T17:00:00",
          "2050-01-14T18:00:00",
          "2050-01-14T19:00:00",
          "2050-01-14T20:00:00",
          "2050-01-14T21:00:00",
          "2050-01-14T22:00:00",
          "2050-01-14T23:00:00",
          "2050-01-15T00:00:00",
          "2050-01-15T01:00:00",
          "2050-01-15T02:00:00",
          "2050-01-15T03:00:00",
          "2050-01-15T04:00:00",
          "2050-01-15T05:00:00",
          "2050-01-15T06:00:00",
          "2050-01-15T07:00:00",
          "2050-01-15T08:00:00",
          "2050-01-15T09:00:00",
          "2050-01-15T10:00:00",
          "2050-01-15T11:00:00",
          "2050-01-15T12:00:00",
          "2050-01-15T13:00:00",
          "2050-01-15T14:00:00",
          "2050-01-15T15:00:00",
          "2050-01-15T16:00:00",
          "2050-01-15T17:00:00",
          "2050-01-15T18:00:00",
          "2050-01-15T19:00:00",
          "2050-01-15T20:00:00",
          "2050-01-15T21:00:00",
          "2050-01-15T22:00:00",
          "2050-01-15T23:00:00",
          "2050-01-16T00:00:00",
          "2050-01-16T01:00:00",
          "2050-01-16T02:00:00",
          "2050-01-16T03:00:00",
          "2050-01-16T04:00:00",
          "2050-01-16T05:00:00",
          "2050-01-16T06:00:00",
          "2050-01-16T07:00:00",
          "2050-01-16T08:00:00",
          "2050-01-16T09:00:00",
          "2050-01-16T10:00:00",
          "2050-01-16T11:00:00",
          "2050-01-16T12:00:00",
          "2050-01-16T13:00:00",
          "2050-01-16T14:00:00",
          "2050-01-16T15:00:00",
          "2050-01-16T16:00:00",
          "2050-01-16T17:00:00",
          "2050-01-16T18:00:00",
          "2050-01-16T19:00:00",
          "2050-01-16T20:00:00",
          "2050-01-16T21:00:00",
          "2050-01-16T22:00:00",
          "2050-01-16T23:00:00",
          "2050-01-17T00:00:00",
          "2050-01-17T01:00:00",
          "2050-01-17T02:00:00",
          "2050-01-17T03:00:00",
          "2050-01-17T04:00:00",
          "2050-01-17T05:00:00",
          "2050-01-17T06:00:00",
          "2050-01-17T07:00:00",
          "2050-01-17T08:00:00",
          "2050-01-17T09:00:00",
          "2050-01-17T10:00:00",
          "2050-01-17T11:00:00",
          "2050-01-17T12:00:00",
          "2050-01-17T13:00:00",
          "2050-01-17T14:00:00",
          "2050-01-17T15:00:00",
          "2050-01-17T16:00:00",
          "2050-01-17T17:00:00",
          "2050-01-17T18:00:00",
          "2050-01-17T19:00:00",
          "2050-01-17T20:00:00",
          "2050-01-17T21:00:00",
          "2050-01-17T22:00:00",
          "2050-01-17T23:00:00",
          "2050-01-18T00:00:00",
          "2050-01-18T01:00:00",
          "2050-01-18T02:00:00",
          "2050-01-18T03:00:00",
          "2050-01-18T04:00:00",
          "2050-01-18T05:00:00",
          "2050-01-18T06:00:00",
          "2050-01-18T07:00:00",
          "2050-01-18T08:00:00",
          "2050-01-18T09:00:00",
          "2050-01-18T10:00:00",
          "2050-01-18T11:00:00",
          "2050-01-18T12:00:00",
          "2050-01-18T13:00:00",
          "2050-01-18T14:00:00",
          "2050-01-18T15:00:00",
          "2050-01-18T16:00:00",
          "2050-01-18T17:00:00",
          "2050-01-18T18:00:00",
          "2050-01-18T19:00:00",
          "2050-01-18T20:00:00",
          "2050-01-18T21:00:00",
          "2050-01-18T22:00:00",
          "2050-01-18T23:00:00",
          "2050-01-19T00:00:00",
          "2050-01-19T01:00:00",
          "2050-01-19T02:00:00",
          "2050-01-19T03:00:00",
          "2050-01-19T04:00:00",
          "2050-01-19T05:00:00",
          "2050-01-19T06:00:00",
          "2050-01-19T07:00:00",
          "2050-01-19T08:00:00",
          "2050-01-19T09:00:00",
          "2050-01-19T10:00:00",
          "2050-01-19T11:00:00",
          "2050-01-19T12:00:00",
          "2050-01-19T13:00:00",
          "2050-01-19T14:00:00",
          "2050-01-19T15:00:00",
          "2050-01-19T16:00:00",
          "2050-01-19T17:00:00",
          "2050-01-19T18:00:00",
          "2050-01-19T19:00:00",
          "2050-01-19T20:00:00",
          "2050-01-19T21:00:00",
          "2050-01-19T22:00:00",
          "2050-01-19T23:00:00",
          "2050-01-20T00:00:00",
          "2050-01-20T01:00:00",
          "2050-01-20T02:00:00",
          "2050-01-20T03:00:00",
          "2050-01-20T04:00:00",
          "2050-01-20T05:00:00",
          "2050-01-20T06:00:00",
          "2050-01-20T07:00:00",
          "2050-01-20T08:00:00",
          "2050-01-20T09:00:00",
          "2050-01-20T10:00:00",
          "2050-01-20T11:00:00",
          "2050-01-20T12:00:00",
          "2050-01-20T13:00:00",
          "2050-01-20T14:00:00",
          "2050-01-20T15:00:00",
          "2050-01-20T16:00:00",
          "2050-01-20T17:00:00",
          "2050-01-20T18:00:00",
          "2050-01-20T19:00:00",
          "2050-01-20T20:00:00",
          "2050-01-20T21:00:00",
          "2050-01-20T22:00:00",
          "2050-01-20T23:00:00"
         ],
         "y": [
          0,
          0,
          0,
          0,
          0,
          0,
          0,
          0,
          0,
          0,
          0,
          -0.11004875905825312,
          0,
          0,
          0,
          0,
          0,
          0,
          0,
          0,
          0,
          0,
          0,
          0,
          0,
          0,
          0,
          0,
          0,
          0,
          0,
          0,
          0,
          0,
          0,
          -0.011888924108786343,
          -0.11004875905825312,
          0,
          0,
          0,
          0,
          0,
          0,
          0,
          0,
          0,
          0,
          0,
          0,
          0,
          0,
          0,
          0,
          0,
          0,
          0,
          0,
          0,
          0,
          0,
          0,
          0,
          0,
          0,
          0,
          0,
          0,
          0,
          0,
          0,
          0,
          0,
          0,
          0,
          0,
          0,
          0,
          0,
          0,
          0,
          0,
          0,
          0,
          0,
          -0.11004875905825312,
          0,
          -0.01188892410878634,
          0,
          0,
          0,
          0,
          0,
          0,
          0,
          0,
          0,
          0,
          0,
          0,
          0,
          0,
          0,
          0,
          0,
          0,
          0,
          0,
          0,
          -0.11004875905825312,
          -0.01188892410878634,
          0,
          0,
          0,
          0,
          0,
          0,
          0,
          0,
          0,
          0,
          0,
          0,
          0,
          0,
          0,
          0,
          0,
          -0.11004875905825312,
          0,
          0,
          0,
          -0.01188892410878634,
          0,
          0,
          0,
          0,
          0,
          0,
          0,
          0,
          0,
          0,
          0,
          0,
          0,
          0,
          0,
          0,
          0,
          0,
          0,
          0,
          -0.11004875905825312,
          0,
          0,
          0,
          0,
          0,
          0,
          0,
          0,
          0,
          0,
          0,
          0,
          0,
          0,
          0
         ]
        },
        {
         "line": {
          "color": "navy",
          "width": 0
         },
         "name": "Pompage STEP",
         "stackgroup": "-",
         "type": "scatter",
         "x": [
          "2050-01-14T00:00:00",
          "2050-01-14T01:00:00",
          "2050-01-14T02:00:00",
          "2050-01-14T03:00:00",
          "2050-01-14T04:00:00",
          "2050-01-14T05:00:00",
          "2050-01-14T06:00:00",
          "2050-01-14T07:00:00",
          "2050-01-14T08:00:00",
          "2050-01-14T09:00:00",
          "2050-01-14T10:00:00",
          "2050-01-14T11:00:00",
          "2050-01-14T12:00:00",
          "2050-01-14T13:00:00",
          "2050-01-14T14:00:00",
          "2050-01-14T15:00:00",
          "2050-01-14T16:00:00",
          "2050-01-14T17:00:00",
          "2050-01-14T18:00:00",
          "2050-01-14T19:00:00",
          "2050-01-14T20:00:00",
          "2050-01-14T21:00:00",
          "2050-01-14T22:00:00",
          "2050-01-14T23:00:00",
          "2050-01-15T00:00:00",
          "2050-01-15T01:00:00",
          "2050-01-15T02:00:00",
          "2050-01-15T03:00:00",
          "2050-01-15T04:00:00",
          "2050-01-15T05:00:00",
          "2050-01-15T06:00:00",
          "2050-01-15T07:00:00",
          "2050-01-15T08:00:00",
          "2050-01-15T09:00:00",
          "2050-01-15T10:00:00",
          "2050-01-15T11:00:00",
          "2050-01-15T12:00:00",
          "2050-01-15T13:00:00",
          "2050-01-15T14:00:00",
          "2050-01-15T15:00:00",
          "2050-01-15T16:00:00",
          "2050-01-15T17:00:00",
          "2050-01-15T18:00:00",
          "2050-01-15T19:00:00",
          "2050-01-15T20:00:00",
          "2050-01-15T21:00:00",
          "2050-01-15T22:00:00",
          "2050-01-15T23:00:00",
          "2050-01-16T00:00:00",
          "2050-01-16T01:00:00",
          "2050-01-16T02:00:00",
          "2050-01-16T03:00:00",
          "2050-01-16T04:00:00",
          "2050-01-16T05:00:00",
          "2050-01-16T06:00:00",
          "2050-01-16T07:00:00",
          "2050-01-16T08:00:00",
          "2050-01-16T09:00:00",
          "2050-01-16T10:00:00",
          "2050-01-16T11:00:00",
          "2050-01-16T12:00:00",
          "2050-01-16T13:00:00",
          "2050-01-16T14:00:00",
          "2050-01-16T15:00:00",
          "2050-01-16T16:00:00",
          "2050-01-16T17:00:00",
          "2050-01-16T18:00:00",
          "2050-01-16T19:00:00",
          "2050-01-16T20:00:00",
          "2050-01-16T21:00:00",
          "2050-01-16T22:00:00",
          "2050-01-16T23:00:00",
          "2050-01-17T00:00:00",
          "2050-01-17T01:00:00",
          "2050-01-17T02:00:00",
          "2050-01-17T03:00:00",
          "2050-01-17T04:00:00",
          "2050-01-17T05:00:00",
          "2050-01-17T06:00:00",
          "2050-01-17T07:00:00",
          "2050-01-17T08:00:00",
          "2050-01-17T09:00:00",
          "2050-01-17T10:00:00",
          "2050-01-17T11:00:00",
          "2050-01-17T12:00:00",
          "2050-01-17T13:00:00",
          "2050-01-17T14:00:00",
          "2050-01-17T15:00:00",
          "2050-01-17T16:00:00",
          "2050-01-17T17:00:00",
          "2050-01-17T18:00:00",
          "2050-01-17T19:00:00",
          "2050-01-17T20:00:00",
          "2050-01-17T21:00:00",
          "2050-01-17T22:00:00",
          "2050-01-17T23:00:00",
          "2050-01-18T00:00:00",
          "2050-01-18T01:00:00",
          "2050-01-18T02:00:00",
          "2050-01-18T03:00:00",
          "2050-01-18T04:00:00",
          "2050-01-18T05:00:00",
          "2050-01-18T06:00:00",
          "2050-01-18T07:00:00",
          "2050-01-18T08:00:00",
          "2050-01-18T09:00:00",
          "2050-01-18T10:00:00",
          "2050-01-18T11:00:00",
          "2050-01-18T12:00:00",
          "2050-01-18T13:00:00",
          "2050-01-18T14:00:00",
          "2050-01-18T15:00:00",
          "2050-01-18T16:00:00",
          "2050-01-18T17:00:00",
          "2050-01-18T18:00:00",
          "2050-01-18T19:00:00",
          "2050-01-18T20:00:00",
          "2050-01-18T21:00:00",
          "2050-01-18T22:00:00",
          "2050-01-18T23:00:00",
          "2050-01-19T00:00:00",
          "2050-01-19T01:00:00",
          "2050-01-19T02:00:00",
          "2050-01-19T03:00:00",
          "2050-01-19T04:00:00",
          "2050-01-19T05:00:00",
          "2050-01-19T06:00:00",
          "2050-01-19T07:00:00",
          "2050-01-19T08:00:00",
          "2050-01-19T09:00:00",
          "2050-01-19T10:00:00",
          "2050-01-19T11:00:00",
          "2050-01-19T12:00:00",
          "2050-01-19T13:00:00",
          "2050-01-19T14:00:00",
          "2050-01-19T15:00:00",
          "2050-01-19T16:00:00",
          "2050-01-19T17:00:00",
          "2050-01-19T18:00:00",
          "2050-01-19T19:00:00",
          "2050-01-19T20:00:00",
          "2050-01-19T21:00:00",
          "2050-01-19T22:00:00",
          "2050-01-19T23:00:00",
          "2050-01-20T00:00:00",
          "2050-01-20T01:00:00",
          "2050-01-20T02:00:00",
          "2050-01-20T03:00:00",
          "2050-01-20T04:00:00",
          "2050-01-20T05:00:00",
          "2050-01-20T06:00:00",
          "2050-01-20T07:00:00",
          "2050-01-20T08:00:00",
          "2050-01-20T09:00:00",
          "2050-01-20T10:00:00",
          "2050-01-20T11:00:00",
          "2050-01-20T12:00:00",
          "2050-01-20T13:00:00",
          "2050-01-20T14:00:00",
          "2050-01-20T15:00:00",
          "2050-01-20T16:00:00",
          "2050-01-20T17:00:00",
          "2050-01-20T18:00:00",
          "2050-01-20T19:00:00",
          "2050-01-20T20:00:00",
          "2050-01-20T21:00:00",
          "2050-01-20T22:00:00",
          "2050-01-20T23:00:00"
         ],
         "y": [
          -5.049,
          -5.049,
          -5.049,
          -5.049,
          -5.049,
          -5.049,
          -5.049,
          -2.0037282426476914,
          0,
          0,
          0,
          -5.049,
          0,
          0,
          0,
          0,
          0,
          0,
          0,
          0,
          0,
          0,
          0,
          0,
          0,
          0,
          0,
          0,
          0,
          0,
          0,
          0,
          0,
          0,
          0,
          0,
          0,
          0,
          0,
          0,
          0,
          0,
          0,
          0,
          0,
          0,
          0,
          0,
          0,
          0,
          0,
          0,
          0,
          0,
          0,
          0,
          0,
          0,
          0,
          0,
          0,
          0,
          0,
          0,
          0,
          0,
          0,
          0,
          0,
          0,
          0,
          0,
          0,
          0,
          0,
          0,
          0,
          0,
          0,
          0,
          0,
          0,
          0,
          0,
          0,
          0,
          -0.38591124938799337,
          -4.484923756211264,
          0,
          0,
          0,
          0,
          0,
          0,
          0,
          0,
          0,
          0,
          0,
          0,
          0,
          0,
          0,
          0,
          0,
          0,
          0,
          0,
          0,
          0,
          0,
          0,
          0,
          0,
          0,
          0,
          0,
          0,
          0,
          0,
          0,
          0,
          0,
          0,
          0,
          0,
          0,
          -1.9678489207389396,
          -1.253748229784433,
          0,
          0,
          -5.049,
          -4.196069516143293,
          0,
          0,
          0,
          0,
          0,
          0,
          0,
          0,
          0,
          0,
          0,
          0,
          0,
          0,
          0,
          0,
          0,
          0,
          0,
          0,
          0,
          0,
          0,
          0,
          0,
          0,
          0,
          0,
          0,
          0,
          0,
          0,
          0,
          0,
          0
         ]
        },
        {
         "line": {
          "color": "purple",
          "width": 0
         },
         "name": "Power-to-hydrogen",
         "stackgroup": "-",
         "type": "scatter",
         "x": [
          "2050-01-14T00:00:00",
          "2050-01-14T01:00:00",
          "2050-01-14T02:00:00",
          "2050-01-14T03:00:00",
          "2050-01-14T04:00:00",
          "2050-01-14T05:00:00",
          "2050-01-14T06:00:00",
          "2050-01-14T07:00:00",
          "2050-01-14T08:00:00",
          "2050-01-14T09:00:00",
          "2050-01-14T10:00:00",
          "2050-01-14T11:00:00",
          "2050-01-14T12:00:00",
          "2050-01-14T13:00:00",
          "2050-01-14T14:00:00",
          "2050-01-14T15:00:00",
          "2050-01-14T16:00:00",
          "2050-01-14T17:00:00",
          "2050-01-14T18:00:00",
          "2050-01-14T19:00:00",
          "2050-01-14T20:00:00",
          "2050-01-14T21:00:00",
          "2050-01-14T22:00:00",
          "2050-01-14T23:00:00",
          "2050-01-15T00:00:00",
          "2050-01-15T01:00:00",
          "2050-01-15T02:00:00",
          "2050-01-15T03:00:00",
          "2050-01-15T04:00:00",
          "2050-01-15T05:00:00",
          "2050-01-15T06:00:00",
          "2050-01-15T07:00:00",
          "2050-01-15T08:00:00",
          "2050-01-15T09:00:00",
          "2050-01-15T10:00:00",
          "2050-01-15T11:00:00",
          "2050-01-15T12:00:00",
          "2050-01-15T13:00:00",
          "2050-01-15T14:00:00",
          "2050-01-15T15:00:00",
          "2050-01-15T16:00:00",
          "2050-01-15T17:00:00",
          "2050-01-15T18:00:00",
          "2050-01-15T19:00:00",
          "2050-01-15T20:00:00",
          "2050-01-15T21:00:00",
          "2050-01-15T22:00:00",
          "2050-01-15T23:00:00",
          "2050-01-16T00:00:00",
          "2050-01-16T01:00:00",
          "2050-01-16T02:00:00",
          "2050-01-16T03:00:00",
          "2050-01-16T04:00:00",
          "2050-01-16T05:00:00",
          "2050-01-16T06:00:00",
          "2050-01-16T07:00:00",
          "2050-01-16T08:00:00",
          "2050-01-16T09:00:00",
          "2050-01-16T10:00:00",
          "2050-01-16T11:00:00",
          "2050-01-16T12:00:00",
          "2050-01-16T13:00:00",
          "2050-01-16T14:00:00",
          "2050-01-16T15:00:00",
          "2050-01-16T16:00:00",
          "2050-01-16T17:00:00",
          "2050-01-16T18:00:00",
          "2050-01-16T19:00:00",
          "2050-01-16T20:00:00",
          "2050-01-16T21:00:00",
          "2050-01-16T22:00:00",
          "2050-01-16T23:00:00",
          "2050-01-17T00:00:00",
          "2050-01-17T01:00:00",
          "2050-01-17T02:00:00",
          "2050-01-17T03:00:00",
          "2050-01-17T04:00:00",
          "2050-01-17T05:00:00",
          "2050-01-17T06:00:00",
          "2050-01-17T07:00:00",
          "2050-01-17T08:00:00",
          "2050-01-17T09:00:00",
          "2050-01-17T10:00:00",
          "2050-01-17T11:00:00",
          "2050-01-17T12:00:00",
          "2050-01-17T13:00:00",
          "2050-01-17T14:00:00",
          "2050-01-17T15:00:00",
          "2050-01-17T16:00:00",
          "2050-01-17T17:00:00",
          "2050-01-17T18:00:00",
          "2050-01-17T19:00:00",
          "2050-01-17T20:00:00",
          "2050-01-17T21:00:00",
          "2050-01-17T22:00:00",
          "2050-01-17T23:00:00",
          "2050-01-18T00:00:00",
          "2050-01-18T01:00:00",
          "2050-01-18T02:00:00",
          "2050-01-18T03:00:00",
          "2050-01-18T04:00:00",
          "2050-01-18T05:00:00",
          "2050-01-18T06:00:00",
          "2050-01-18T07:00:00",
          "2050-01-18T08:00:00",
          "2050-01-18T09:00:00",
          "2050-01-18T10:00:00",
          "2050-01-18T11:00:00",
          "2050-01-18T12:00:00",
          "2050-01-18T13:00:00",
          "2050-01-18T14:00:00",
          "2050-01-18T15:00:00",
          "2050-01-18T16:00:00",
          "2050-01-18T17:00:00",
          "2050-01-18T18:00:00",
          "2050-01-18T19:00:00",
          "2050-01-18T20:00:00",
          "2050-01-18T21:00:00",
          "2050-01-18T22:00:00",
          "2050-01-18T23:00:00",
          "2050-01-19T00:00:00",
          "2050-01-19T01:00:00",
          "2050-01-19T02:00:00",
          "2050-01-19T03:00:00",
          "2050-01-19T04:00:00",
          "2050-01-19T05:00:00",
          "2050-01-19T06:00:00",
          "2050-01-19T07:00:00",
          "2050-01-19T08:00:00",
          "2050-01-19T09:00:00",
          "2050-01-19T10:00:00",
          "2050-01-19T11:00:00",
          "2050-01-19T12:00:00",
          "2050-01-19T13:00:00",
          "2050-01-19T14:00:00",
          "2050-01-19T15:00:00",
          "2050-01-19T16:00:00",
          "2050-01-19T17:00:00",
          "2050-01-19T18:00:00",
          "2050-01-19T19:00:00",
          "2050-01-19T20:00:00",
          "2050-01-19T21:00:00",
          "2050-01-19T22:00:00",
          "2050-01-19T23:00:00",
          "2050-01-20T00:00:00",
          "2050-01-20T01:00:00",
          "2050-01-20T02:00:00",
          "2050-01-20T03:00:00",
          "2050-01-20T04:00:00",
          "2050-01-20T05:00:00",
          "2050-01-20T06:00:00",
          "2050-01-20T07:00:00",
          "2050-01-20T08:00:00",
          "2050-01-20T09:00:00",
          "2050-01-20T10:00:00",
          "2050-01-20T11:00:00",
          "2050-01-20T12:00:00",
          "2050-01-20T13:00:00",
          "2050-01-20T14:00:00",
          "2050-01-20T15:00:00",
          "2050-01-20T16:00:00",
          "2050-01-20T17:00:00",
          "2050-01-20T18:00:00",
          "2050-01-20T19:00:00",
          "2050-01-20T20:00:00",
          "2050-01-20T21:00:00",
          "2050-01-20T22:00:00",
          "2050-01-20T23:00:00"
         ],
         "y": [
          -17.727244735739543,
          -17.727244735739543,
          -17.727244735739543,
          -17.727244735739543,
          -17.727244735739543,
          -17.727244735739543,
          -17.727244735739543,
          -17.727244735739543,
          -17.727244735739543,
          -17.727244735739543,
          -17.727244735739543,
          -17.727244735739543,
          -13.561839122325065,
          0,
          -0.27783492712668856,
          -0.8171374270170932,
          0,
          0,
          0,
          0,
          0,
          0,
          0,
          0,
          0,
          0,
          0,
          0,
          0,
          0,
          0,
          0,
          0,
          0,
          0,
          -17.727244735739543,
          -17.727244735739543,
          -13.055693224997333,
          -4.679161121070144,
          -5.6829305217806265,
          0,
          0,
          0,
          0,
          0,
          0,
          0,
          0,
          0,
          0,
          0,
          0,
          0,
          0,
          0,
          -7.844050589323251,
          -0.20107077325993694,
          -7.22740912394552,
          -17.727244735739543,
          -17.727244735739543,
          -17.727244735739543,
          -11.393374644576733,
          -9.634120567551586,
          -12.281890452883065,
          -5.937134200696059,
          0,
          0,
          -14.606722275921477,
          -17.727244735739543,
          -17.727244735739543,
          -17.727244735739543,
          -17.727244735739543,
          -17.727244735739543,
          -17.727244735739543,
          -17.727244735739543,
          -17.727244735739543,
          -17.727244735739543,
          -17.727244735739543,
          -17.727244735739543,
          -17.727244735739543,
          -17.727244735739543,
          -17.727244735739543,
          -17.727244735739543,
          -17.727244735739543,
          -17.727244735739543,
          -17.727244735739543,
          -17.727244735739543,
          -17.727244735739543,
          -12.06640209117981,
          0,
          0,
          0,
          0,
          0,
          0,
          0,
          0,
          0,
          0,
          0,
          0,
          0,
          0,
          0,
          0,
          0,
          0,
          0,
          0,
          0,
          0,
          0,
          0,
          0,
          0,
          0,
          0,
          0,
          0,
          0,
          0,
          0,
          0,
          0,
          0,
          0,
          0,
          0,
          0,
          0,
          0,
          0,
          0,
          0,
          0,
          0,
          0,
          0,
          0,
          0,
          0,
          0,
          0,
          0,
          0,
          0,
          0,
          0,
          0,
          0,
          0,
          0,
          0,
          0,
          0,
          0,
          0,
          0,
          0,
          0,
          0,
          0,
          0,
          0,
          0,
          0,
          0,
          0
         ]
        },
        {
         "line": {
          "color": "gray",
          "width": 0
         },
         "name": "Exports",
         "stackgroup": "-",
         "type": "scatter",
         "x": [
          "2050-01-14T00:00:00",
          "2050-01-14T01:00:00",
          "2050-01-14T02:00:00",
          "2050-01-14T03:00:00",
          "2050-01-14T04:00:00",
          "2050-01-14T05:00:00",
          "2050-01-14T06:00:00",
          "2050-01-14T07:00:00",
          "2050-01-14T08:00:00",
          "2050-01-14T09:00:00",
          "2050-01-14T10:00:00",
          "2050-01-14T11:00:00",
          "2050-01-14T12:00:00",
          "2050-01-14T13:00:00",
          "2050-01-14T14:00:00",
          "2050-01-14T15:00:00",
          "2050-01-14T16:00:00",
          "2050-01-14T17:00:00",
          "2050-01-14T18:00:00",
          "2050-01-14T19:00:00",
          "2050-01-14T20:00:00",
          "2050-01-14T21:00:00",
          "2050-01-14T22:00:00",
          "2050-01-14T23:00:00",
          "2050-01-15T00:00:00",
          "2050-01-15T01:00:00",
          "2050-01-15T02:00:00",
          "2050-01-15T03:00:00",
          "2050-01-15T04:00:00",
          "2050-01-15T05:00:00",
          "2050-01-15T06:00:00",
          "2050-01-15T07:00:00",
          "2050-01-15T08:00:00",
          "2050-01-15T09:00:00",
          "2050-01-15T10:00:00",
          "2050-01-15T11:00:00",
          "2050-01-15T12:00:00",
          "2050-01-15T13:00:00",
          "2050-01-15T14:00:00",
          "2050-01-15T15:00:00",
          "2050-01-15T16:00:00",
          "2050-01-15T17:00:00",
          "2050-01-15T18:00:00",
          "2050-01-15T19:00:00",
          "2050-01-15T20:00:00",
          "2050-01-15T21:00:00",
          "2050-01-15T22:00:00",
          "2050-01-15T23:00:00",
          "2050-01-16T00:00:00",
          "2050-01-16T01:00:00",
          "2050-01-16T02:00:00",
          "2050-01-16T03:00:00",
          "2050-01-16T04:00:00",
          "2050-01-16T05:00:00",
          "2050-01-16T06:00:00",
          "2050-01-16T07:00:00",
          "2050-01-16T08:00:00",
          "2050-01-16T09:00:00",
          "2050-01-16T10:00:00",
          "2050-01-16T11:00:00",
          "2050-01-16T12:00:00",
          "2050-01-16T13:00:00",
          "2050-01-16T14:00:00",
          "2050-01-16T15:00:00",
          "2050-01-16T16:00:00",
          "2050-01-16T17:00:00",
          "2050-01-16T18:00:00",
          "2050-01-16T19:00:00",
          "2050-01-16T20:00:00",
          "2050-01-16T21:00:00",
          "2050-01-16T22:00:00",
          "2050-01-16T23:00:00",
          "2050-01-17T00:00:00",
          "2050-01-17T01:00:00",
          "2050-01-17T02:00:00",
          "2050-01-17T03:00:00",
          "2050-01-17T04:00:00",
          "2050-01-17T05:00:00",
          "2050-01-17T06:00:00",
          "2050-01-17T07:00:00",
          "2050-01-17T08:00:00",
          "2050-01-17T09:00:00",
          "2050-01-17T10:00:00",
          "2050-01-17T11:00:00",
          "2050-01-17T12:00:00",
          "2050-01-17T13:00:00",
          "2050-01-17T14:00:00",
          "2050-01-17T15:00:00",
          "2050-01-17T16:00:00",
          "2050-01-17T17:00:00",
          "2050-01-17T18:00:00",
          "2050-01-17T19:00:00",
          "2050-01-17T20:00:00",
          "2050-01-17T21:00:00",
          "2050-01-17T22:00:00",
          "2050-01-17T23:00:00",
          "2050-01-18T00:00:00",
          "2050-01-18T01:00:00",
          "2050-01-18T02:00:00",
          "2050-01-18T03:00:00",
          "2050-01-18T04:00:00",
          "2050-01-18T05:00:00",
          "2050-01-18T06:00:00",
          "2050-01-18T07:00:00",
          "2050-01-18T08:00:00",
          "2050-01-18T09:00:00",
          "2050-01-18T10:00:00",
          "2050-01-18T11:00:00",
          "2050-01-18T12:00:00",
          "2050-01-18T13:00:00",
          "2050-01-18T14:00:00",
          "2050-01-18T15:00:00",
          "2050-01-18T16:00:00",
          "2050-01-18T17:00:00",
          "2050-01-18T18:00:00",
          "2050-01-18T19:00:00",
          "2050-01-18T20:00:00",
          "2050-01-18T21:00:00",
          "2050-01-18T22:00:00",
          "2050-01-18T23:00:00",
          "2050-01-19T00:00:00",
          "2050-01-19T01:00:00",
          "2050-01-19T02:00:00",
          "2050-01-19T03:00:00",
          "2050-01-19T04:00:00",
          "2050-01-19T05:00:00",
          "2050-01-19T06:00:00",
          "2050-01-19T07:00:00",
          "2050-01-19T08:00:00",
          "2050-01-19T09:00:00",
          "2050-01-19T10:00:00",
          "2050-01-19T11:00:00",
          "2050-01-19T12:00:00",
          "2050-01-19T13:00:00",
          "2050-01-19T14:00:00",
          "2050-01-19T15:00:00",
          "2050-01-19T16:00:00",
          "2050-01-19T17:00:00",
          "2050-01-19T18:00:00",
          "2050-01-19T19:00:00",
          "2050-01-19T20:00:00",
          "2050-01-19T21:00:00",
          "2050-01-19T22:00:00",
          "2050-01-19T23:00:00",
          "2050-01-20T00:00:00",
          "2050-01-20T01:00:00",
          "2050-01-20T02:00:00",
          "2050-01-20T03:00:00",
          "2050-01-20T04:00:00",
          "2050-01-20T05:00:00",
          "2050-01-20T06:00:00",
          "2050-01-20T07:00:00",
          "2050-01-20T08:00:00",
          "2050-01-20T09:00:00",
          "2050-01-20T10:00:00",
          "2050-01-20T11:00:00",
          "2050-01-20T12:00:00",
          "2050-01-20T13:00:00",
          "2050-01-20T14:00:00",
          "2050-01-20T15:00:00",
          "2050-01-20T16:00:00",
          "2050-01-20T17:00:00",
          "2050-01-20T18:00:00",
          "2050-01-20T19:00:00",
          "2050-01-20T20:00:00",
          "2050-01-20T21:00:00",
          "2050-01-20T22:00:00",
          "2050-01-20T23:00:00"
         ],
         "y": [
          0,
          -1.4100300637137688,
          -6.830296700583178,
          -14.48588323235491,
          -1.235484860299588,
          -11.390464386099163,
          -5.494524571331878,
          -6.1368622684956575,
          -0.14070927298301375,
          -2.0257349133115885,
          -3.0523757211192786,
          -5.855318448448772,
          0,
          0,
          0,
          0,
          0,
          0,
          0,
          0,
          0,
          0,
          0,
          0,
          0,
          0,
          0,
          0,
          0,
          0,
          0,
          0,
          0,
          0,
          0,
          0,
          0,
          0,
          0,
          0,
          0,
          0,
          0,
          0,
          0,
          0,
          -0.020127799947282254,
          0,
          0,
          0,
          0,
          0,
          0,
          0,
          0,
          0,
          0,
          0,
          0,
          0,
          0,
          0,
          0,
          0,
          0,
          0,
          -4.678624854363916,
          0,
          0,
          0,
          0,
          0,
          0,
          0,
          0,
          0,
          0,
          0,
          0,
          0,
          0,
          0,
          0,
          0,
          0,
          0,
          0,
          0,
          0,
          0,
          -3.4366881142090313,
          0,
          0,
          0,
          0,
          -9.277660489160464,
          -8.92164458913143,
          -6.8371775692960695,
          0,
          -7.303487001012913,
          -9.387,
          0,
          -5.089971343673093,
          0,
          0,
          0,
          -2.2953585520033974,
          -3.3994254393275414,
          0,
          0,
          0,
          -2.6370551704586216,
          -4.695755319650009,
          -10.374645800489338,
          -1.647547033209069,
          -10.919331360771476,
          -12.486189684198882,
          -14.570371947867217,
          -10.763006201924144,
          -5.009,
          -5.009,
          -3.0966732828689127,
          -1.3251173883313203,
          0,
          -2.9547521529737057,
          -3.6352028923180115,
          -4.163306916285772,
          -3.9684170231090903,
          -1.3208490757513063,
          0,
          0,
          0,
          -3.0421753235186424,
          -6.638445634512887,
          -9.720189177609189,
          -10.043907794748613,
          -3.100068844115338,
          -5.5867532551515415,
          -5.7495859865871655,
          0,
          -6.42547348864744,
          -8.75954947478242,
          -14.949099473029648,
          -10.190037971969128,
          -9.102644675515194,
          -12.472367586737471,
          -11.803339789677587,
          -12.177118464066776,
          -4.180050709040066,
          -15.321796475748874,
          -15.271725079655655,
          -11.354026222454353,
          -8.407363474636094,
          0,
          0,
          0,
          0,
          0,
          0,
          -0.2653746021668394,
          -3.1926633855806585,
          -8.51019574248068,
          -15.446269251207712,
          -14.709122667129574,
          -4.888319804914414,
          -8.270913369895178,
          -20.482131943425095,
          -15.594951100200348
         ]
        }
       ],
       "layout": {
        "height": 500,
        "template": {
         "data": {
          "bar": [
           {
            "error_x": {
             "color": "#2a3f5f"
            },
            "error_y": {
             "color": "#2a3f5f"
            },
            "marker": {
             "line": {
              "color": "#E5ECF6",
              "width": 0.5
             },
             "pattern": {
              "fillmode": "overlay",
              "size": 10,
              "solidity": 0.2
             }
            },
            "type": "bar"
           }
          ],
          "barpolar": [
           {
            "marker": {
             "line": {
              "color": "#E5ECF6",
              "width": 0.5
             },
             "pattern": {
              "fillmode": "overlay",
              "size": 10,
              "solidity": 0.2
             }
            },
            "type": "barpolar"
           }
          ],
          "carpet": [
           {
            "aaxis": {
             "endlinecolor": "#2a3f5f",
             "gridcolor": "white",
             "linecolor": "white",
             "minorgridcolor": "white",
             "startlinecolor": "#2a3f5f"
            },
            "baxis": {
             "endlinecolor": "#2a3f5f",
             "gridcolor": "white",
             "linecolor": "white",
             "minorgridcolor": "white",
             "startlinecolor": "#2a3f5f"
            },
            "type": "carpet"
           }
          ],
          "choropleth": [
           {
            "colorbar": {
             "outlinewidth": 0,
             "ticks": ""
            },
            "type": "choropleth"
           }
          ],
          "contour": [
           {
            "colorbar": {
             "outlinewidth": 0,
             "ticks": ""
            },
            "colorscale": [
             [
              0,
              "#0d0887"
             ],
             [
              0.1111111111111111,
              "#46039f"
             ],
             [
              0.2222222222222222,
              "#7201a8"
             ],
             [
              0.3333333333333333,
              "#9c179e"
             ],
             [
              0.4444444444444444,
              "#bd3786"
             ],
             [
              0.5555555555555556,
              "#d8576b"
             ],
             [
              0.6666666666666666,
              "#ed7953"
             ],
             [
              0.7777777777777778,
              "#fb9f3a"
             ],
             [
              0.8888888888888888,
              "#fdca26"
             ],
             [
              1,
              "#f0f921"
             ]
            ],
            "type": "contour"
           }
          ],
          "contourcarpet": [
           {
            "colorbar": {
             "outlinewidth": 0,
             "ticks": ""
            },
            "type": "contourcarpet"
           }
          ],
          "heatmap": [
           {
            "colorbar": {
             "outlinewidth": 0,
             "ticks": ""
            },
            "colorscale": [
             [
              0,
              "#0d0887"
             ],
             [
              0.1111111111111111,
              "#46039f"
             ],
             [
              0.2222222222222222,
              "#7201a8"
             ],
             [
              0.3333333333333333,
              "#9c179e"
             ],
             [
              0.4444444444444444,
              "#bd3786"
             ],
             [
              0.5555555555555556,
              "#d8576b"
             ],
             [
              0.6666666666666666,
              "#ed7953"
             ],
             [
              0.7777777777777778,
              "#fb9f3a"
             ],
             [
              0.8888888888888888,
              "#fdca26"
             ],
             [
              1,
              "#f0f921"
             ]
            ],
            "type": "heatmap"
           }
          ],
          "heatmapgl": [
           {
            "colorbar": {
             "outlinewidth": 0,
             "ticks": ""
            },
            "colorscale": [
             [
              0,
              "#0d0887"
             ],
             [
              0.1111111111111111,
              "#46039f"
             ],
             [
              0.2222222222222222,
              "#7201a8"
             ],
             [
              0.3333333333333333,
              "#9c179e"
             ],
             [
              0.4444444444444444,
              "#bd3786"
             ],
             [
              0.5555555555555556,
              "#d8576b"
             ],
             [
              0.6666666666666666,
              "#ed7953"
             ],
             [
              0.7777777777777778,
              "#fb9f3a"
             ],
             [
              0.8888888888888888,
              "#fdca26"
             ],
             [
              1,
              "#f0f921"
             ]
            ],
            "type": "heatmapgl"
           }
          ],
          "histogram": [
           {
            "marker": {
             "pattern": {
              "fillmode": "overlay",
              "size": 10,
              "solidity": 0.2
             }
            },
            "type": "histogram"
           }
          ],
          "histogram2d": [
           {
            "colorbar": {
             "outlinewidth": 0,
             "ticks": ""
            },
            "colorscale": [
             [
              0,
              "#0d0887"
             ],
             [
              0.1111111111111111,
              "#46039f"
             ],
             [
              0.2222222222222222,
              "#7201a8"
             ],
             [
              0.3333333333333333,
              "#9c179e"
             ],
             [
              0.4444444444444444,
              "#bd3786"
             ],
             [
              0.5555555555555556,
              "#d8576b"
             ],
             [
              0.6666666666666666,
              "#ed7953"
             ],
             [
              0.7777777777777778,
              "#fb9f3a"
             ],
             [
              0.8888888888888888,
              "#fdca26"
             ],
             [
              1,
              "#f0f921"
             ]
            ],
            "type": "histogram2d"
           }
          ],
          "histogram2dcontour": [
           {
            "colorbar": {
             "outlinewidth": 0,
             "ticks": ""
            },
            "colorscale": [
             [
              0,
              "#0d0887"
             ],
             [
              0.1111111111111111,
              "#46039f"
             ],
             [
              0.2222222222222222,
              "#7201a8"
             ],
             [
              0.3333333333333333,
              "#9c179e"
             ],
             [
              0.4444444444444444,
              "#bd3786"
             ],
             [
              0.5555555555555556,
              "#d8576b"
             ],
             [
              0.6666666666666666,
              "#ed7953"
             ],
             [
              0.7777777777777778,
              "#fb9f3a"
             ],
             [
              0.8888888888888888,
              "#fdca26"
             ],
             [
              1,
              "#f0f921"
             ]
            ],
            "type": "histogram2dcontour"
           }
          ],
          "mesh3d": [
           {
            "colorbar": {
             "outlinewidth": 0,
             "ticks": ""
            },
            "type": "mesh3d"
           }
          ],
          "parcoords": [
           {
            "line": {
             "colorbar": {
              "outlinewidth": 0,
              "ticks": ""
             }
            },
            "type": "parcoords"
           }
          ],
          "pie": [
           {
            "automargin": true,
            "type": "pie"
           }
          ],
          "scatter": [
           {
            "fillpattern": {
             "fillmode": "overlay",
             "size": 10,
             "solidity": 0.2
            },
            "type": "scatter"
           }
          ],
          "scatter3d": [
           {
            "line": {
             "colorbar": {
              "outlinewidth": 0,
              "ticks": ""
             }
            },
            "marker": {
             "colorbar": {
              "outlinewidth": 0,
              "ticks": ""
             }
            },
            "type": "scatter3d"
           }
          ],
          "scattercarpet": [
           {
            "marker": {
             "colorbar": {
              "outlinewidth": 0,
              "ticks": ""
             }
            },
            "type": "scattercarpet"
           }
          ],
          "scattergeo": [
           {
            "marker": {
             "colorbar": {
              "outlinewidth": 0,
              "ticks": ""
             }
            },
            "type": "scattergeo"
           }
          ],
          "scattergl": [
           {
            "marker": {
             "colorbar": {
              "outlinewidth": 0,
              "ticks": ""
             }
            },
            "type": "scattergl"
           }
          ],
          "scattermapbox": [
           {
            "marker": {
             "colorbar": {
              "outlinewidth": 0,
              "ticks": ""
             }
            },
            "type": "scattermapbox"
           }
          ],
          "scatterpolar": [
           {
            "marker": {
             "colorbar": {
              "outlinewidth": 0,
              "ticks": ""
             }
            },
            "type": "scatterpolar"
           }
          ],
          "scatterpolargl": [
           {
            "marker": {
             "colorbar": {
              "outlinewidth": 0,
              "ticks": ""
             }
            },
            "type": "scatterpolargl"
           }
          ],
          "scatterternary": [
           {
            "marker": {
             "colorbar": {
              "outlinewidth": 0,
              "ticks": ""
             }
            },
            "type": "scatterternary"
           }
          ],
          "surface": [
           {
            "colorbar": {
             "outlinewidth": 0,
             "ticks": ""
            },
            "colorscale": [
             [
              0,
              "#0d0887"
             ],
             [
              0.1111111111111111,
              "#46039f"
             ],
             [
              0.2222222222222222,
              "#7201a8"
             ],
             [
              0.3333333333333333,
              "#9c179e"
             ],
             [
              0.4444444444444444,
              "#bd3786"
             ],
             [
              0.5555555555555556,
              "#d8576b"
             ],
             [
              0.6666666666666666,
              "#ed7953"
             ],
             [
              0.7777777777777778,
              "#fb9f3a"
             ],
             [
              0.8888888888888888,
              "#fdca26"
             ],
             [
              1,
              "#f0f921"
             ]
            ],
            "type": "surface"
           }
          ],
          "table": [
           {
            "cells": {
             "fill": {
              "color": "#EBF0F8"
             },
             "line": {
              "color": "white"
             }
            },
            "header": {
             "fill": {
              "color": "#C8D4E3"
             },
             "line": {
              "color": "white"
             }
            },
            "type": "table"
           }
          ]
         },
         "layout": {
          "annotationdefaults": {
           "arrowcolor": "#2a3f5f",
           "arrowhead": 0,
           "arrowwidth": 1
          },
          "autotypenumbers": "strict",
          "coloraxis": {
           "colorbar": {
            "outlinewidth": 0,
            "ticks": ""
           }
          },
          "colorscale": {
           "diverging": [
            [
             0,
             "#8e0152"
            ],
            [
             0.1,
             "#c51b7d"
            ],
            [
             0.2,
             "#de77ae"
            ],
            [
             0.3,
             "#f1b6da"
            ],
            [
             0.4,
             "#fde0ef"
            ],
            [
             0.5,
             "#f7f7f7"
            ],
            [
             0.6,
             "#e6f5d0"
            ],
            [
             0.7,
             "#b8e186"
            ],
            [
             0.8,
             "#7fbc41"
            ],
            [
             0.9,
             "#4d9221"
            ],
            [
             1,
             "#276419"
            ]
           ],
           "sequential": [
            [
             0,
             "#0d0887"
            ],
            [
             0.1111111111111111,
             "#46039f"
            ],
            [
             0.2222222222222222,
             "#7201a8"
            ],
            [
             0.3333333333333333,
             "#9c179e"
            ],
            [
             0.4444444444444444,
             "#bd3786"
            ],
            [
             0.5555555555555556,
             "#d8576b"
            ],
            [
             0.6666666666666666,
             "#ed7953"
            ],
            [
             0.7777777777777778,
             "#fb9f3a"
            ],
            [
             0.8888888888888888,
             "#fdca26"
            ],
            [
             1,
             "#f0f921"
            ]
           ],
           "sequentialminus": [
            [
             0,
             "#0d0887"
            ],
            [
             0.1111111111111111,
             "#46039f"
            ],
            [
             0.2222222222222222,
             "#7201a8"
            ],
            [
             0.3333333333333333,
             "#9c179e"
            ],
            [
             0.4444444444444444,
             "#bd3786"
            ],
            [
             0.5555555555555556,
             "#d8576b"
            ],
            [
             0.6666666666666666,
             "#ed7953"
            ],
            [
             0.7777777777777778,
             "#fb9f3a"
            ],
            [
             0.8888888888888888,
             "#fdca26"
            ],
            [
             1,
             "#f0f921"
            ]
           ]
          },
          "colorway": [
           "#636efa",
           "#EF553B",
           "#00cc96",
           "#ab63fa",
           "#FFA15A",
           "#19d3f3",
           "#FF6692",
           "#B6E880",
           "#FF97FF",
           "#FECB52"
          ],
          "font": {
           "color": "#2a3f5f"
          },
          "geo": {
           "bgcolor": "white",
           "lakecolor": "white",
           "landcolor": "#E5ECF6",
           "showlakes": true,
           "showland": true,
           "subunitcolor": "white"
          },
          "hoverlabel": {
           "align": "left"
          },
          "hovermode": "closest",
          "mapbox": {
           "style": "light"
          },
          "paper_bgcolor": "white",
          "plot_bgcolor": "#E5ECF6",
          "polar": {
           "angularaxis": {
            "gridcolor": "white",
            "linecolor": "white",
            "ticks": ""
           },
           "bgcolor": "#E5ECF6",
           "radialaxis": {
            "gridcolor": "white",
            "linecolor": "white",
            "ticks": ""
           }
          },
          "scene": {
           "xaxis": {
            "backgroundcolor": "#E5ECF6",
            "gridcolor": "white",
            "gridwidth": 2,
            "linecolor": "white",
            "showbackground": true,
            "ticks": "",
            "zerolinecolor": "white"
           },
           "yaxis": {
            "backgroundcolor": "#E5ECF6",
            "gridcolor": "white",
            "gridwidth": 2,
            "linecolor": "white",
            "showbackground": true,
            "ticks": "",
            "zerolinecolor": "white"
           },
           "zaxis": {
            "backgroundcolor": "#E5ECF6",
            "gridcolor": "white",
            "gridwidth": 2,
            "linecolor": "white",
            "showbackground": true,
            "ticks": "",
            "zerolinecolor": "white"
           }
          },
          "shapedefaults": {
           "line": {
            "color": "#2a3f5f"
           }
          },
          "ternary": {
           "aaxis": {
            "gridcolor": "white",
            "linecolor": "white",
            "ticks": ""
           },
           "baxis": {
            "gridcolor": "white",
            "linecolor": "white",
            "ticks": ""
           },
           "bgcolor": "#E5ECF6",
           "caxis": {
            "gridcolor": "white",
            "linecolor": "white",
            "ticks": ""
           }
          },
          "title": {
           "x": 0.05
          },
          "xaxis": {
           "automargin": true,
           "gridcolor": "white",
           "linecolor": "white",
           "ticks": "",
           "title": {
            "standoff": 15
           },
           "zerolinecolor": "white",
           "zerolinewidth": 2
          },
          "yaxis": {
           "automargin": true,
           "gridcolor": "white",
           "linecolor": "white",
           "ticks": "",
           "title": {
            "standoff": 15
           },
           "zerolinecolor": "white",
           "zerolinewidth": 2
          }
         }
        },
        "title": {
         "font": {
          "size": 20
         },
         "text": ""
        },
        "width": 1000,
        "yaxis": {
         "title": {
          "text": "Puissance (GW)"
         }
        }
       }
      },
      "text/html": [
       "<div>                            <div id=\"7499d732-fffb-4c88-8a2b-b7144fce7d7c\" class=\"plotly-graph-div\" style=\"height:500px; width:1000px;\"></div>            <script type=\"text/javascript\">                require([\"plotly\"], function(Plotly) {                    window.PLOTLYENV=window.PLOTLYENV || {};                                    if (document.getElementById(\"7499d732-fffb-4c88-8a2b-b7144fce7d7c\")) {                    Plotly.newPlot(                        \"7499d732-fffb-4c88-8a2b-b7144fce7d7c\",                        [{\"line\":{\"color\":\"yellow\",\"width\":0},\"name\":\"Nucl\\u00e9aire\",\"stackgroup\":\"+\",\"x\":[\"2050-01-14T00:00:00\",\"2050-01-14T01:00:00\",\"2050-01-14T02:00:00\",\"2050-01-14T03:00:00\",\"2050-01-14T04:00:00\",\"2050-01-14T05:00:00\",\"2050-01-14T06:00:00\",\"2050-01-14T07:00:00\",\"2050-01-14T08:00:00\",\"2050-01-14T09:00:00\",\"2050-01-14T10:00:00\",\"2050-01-14T11:00:00\",\"2050-01-14T12:00:00\",\"2050-01-14T13:00:00\",\"2050-01-14T14:00:00\",\"2050-01-14T15:00:00\",\"2050-01-14T16:00:00\",\"2050-01-14T17:00:00\",\"2050-01-14T18:00:00\",\"2050-01-14T19:00:00\",\"2050-01-14T20:00:00\",\"2050-01-14T21:00:00\",\"2050-01-14T22:00:00\",\"2050-01-14T23:00:00\",\"2050-01-15T00:00:00\",\"2050-01-15T01:00:00\",\"2050-01-15T02:00:00\",\"2050-01-15T03:00:00\",\"2050-01-15T04:00:00\",\"2050-01-15T05:00:00\",\"2050-01-15T06:00:00\",\"2050-01-15T07:00:00\",\"2050-01-15T08:00:00\",\"2050-01-15T09:00:00\",\"2050-01-15T10:00:00\",\"2050-01-15T11:00:00\",\"2050-01-15T12:00:00\",\"2050-01-15T13:00:00\",\"2050-01-15T14:00:00\",\"2050-01-15T15:00:00\",\"2050-01-15T16:00:00\",\"2050-01-15T17:00:00\",\"2050-01-15T18:00:00\",\"2050-01-15T19:00:00\",\"2050-01-15T20:00:00\",\"2050-01-15T21:00:00\",\"2050-01-15T22:00:00\",\"2050-01-15T23:00:00\",\"2050-01-16T00:00:00\",\"2050-01-16T01:00:00\",\"2050-01-16T02:00:00\",\"2050-01-16T03:00:00\",\"2050-01-16T04:00:00\",\"2050-01-16T05:00:00\",\"2050-01-16T06:00:00\",\"2050-01-16T07:00:00\",\"2050-01-16T08:00:00\",\"2050-01-16T09:00:00\",\"2050-01-16T10:00:00\",\"2050-01-16T11:00:00\",\"2050-01-16T12:00:00\",\"2050-01-16T13:00:00\",\"2050-01-16T14:00:00\",\"2050-01-16T15:00:00\",\"2050-01-16T16:00:00\",\"2050-01-16T17:00:00\",\"2050-01-16T18:00:00\",\"2050-01-16T19:00:00\",\"2050-01-16T20:00:00\",\"2050-01-16T21:00:00\",\"2050-01-16T22:00:00\",\"2050-01-16T23:00:00\",\"2050-01-17T00:00:00\",\"2050-01-17T01:00:00\",\"2050-01-17T02:00:00\",\"2050-01-17T03:00:00\",\"2050-01-17T04:00:00\",\"2050-01-17T05:00:00\",\"2050-01-17T06:00:00\",\"2050-01-17T07:00:00\",\"2050-01-17T08:00:00\",\"2050-01-17T09:00:00\",\"2050-01-17T10:00:00\",\"2050-01-17T11:00:00\",\"2050-01-17T12:00:00\",\"2050-01-17T13:00:00\",\"2050-01-17T14:00:00\",\"2050-01-17T15:00:00\",\"2050-01-17T16:00:00\",\"2050-01-17T17:00:00\",\"2050-01-17T18:00:00\",\"2050-01-17T19:00:00\",\"2050-01-17T20:00:00\",\"2050-01-17T21:00:00\",\"2050-01-17T22:00:00\",\"2050-01-17T23:00:00\",\"2050-01-18T00:00:00\",\"2050-01-18T01:00:00\",\"2050-01-18T02:00:00\",\"2050-01-18T03:00:00\",\"2050-01-18T04:00:00\",\"2050-01-18T05:00:00\",\"2050-01-18T06:00:00\",\"2050-01-18T07:00:00\",\"2050-01-18T08:00:00\",\"2050-01-18T09:00:00\",\"2050-01-18T10:00:00\",\"2050-01-18T11:00:00\",\"2050-01-18T12:00:00\",\"2050-01-18T13:00:00\",\"2050-01-18T14:00:00\",\"2050-01-18T15:00:00\",\"2050-01-18T16:00:00\",\"2050-01-18T17:00:00\",\"2050-01-18T18:00:00\",\"2050-01-18T19:00:00\",\"2050-01-18T20:00:00\",\"2050-01-18T21:00:00\",\"2050-01-18T22:00:00\",\"2050-01-18T23:00:00\",\"2050-01-19T00:00:00\",\"2050-01-19T01:00:00\",\"2050-01-19T02:00:00\",\"2050-01-19T03:00:00\",\"2050-01-19T04:00:00\",\"2050-01-19T05:00:00\",\"2050-01-19T06:00:00\",\"2050-01-19T07:00:00\",\"2050-01-19T08:00:00\",\"2050-01-19T09:00:00\",\"2050-01-19T10:00:00\",\"2050-01-19T11:00:00\",\"2050-01-19T12:00:00\",\"2050-01-19T13:00:00\",\"2050-01-19T14:00:00\",\"2050-01-19T15:00:00\",\"2050-01-19T16:00:00\",\"2050-01-19T17:00:00\",\"2050-01-19T18:00:00\",\"2050-01-19T19:00:00\",\"2050-01-19T20:00:00\",\"2050-01-19T21:00:00\",\"2050-01-19T22:00:00\",\"2050-01-19T23:00:00\",\"2050-01-20T00:00:00\",\"2050-01-20T01:00:00\",\"2050-01-20T02:00:00\",\"2050-01-20T03:00:00\",\"2050-01-20T04:00:00\",\"2050-01-20T05:00:00\",\"2050-01-20T06:00:00\",\"2050-01-20T07:00:00\",\"2050-01-20T08:00:00\",\"2050-01-20T09:00:00\",\"2050-01-20T10:00:00\",\"2050-01-20T11:00:00\",\"2050-01-20T12:00:00\",\"2050-01-20T13:00:00\",\"2050-01-20T14:00:00\",\"2050-01-20T15:00:00\",\"2050-01-20T16:00:00\",\"2050-01-20T17:00:00\",\"2050-01-20T18:00:00\",\"2050-01-20T19:00:00\",\"2050-01-20T20:00:00\",\"2050-01-20T21:00:00\",\"2050-01-20T22:00:00\",\"2050-01-20T23:00:00\"],\"y\":[32.728399999999986,34.65359999999998,36.57879999999998,38.503999999999984,40.42919999999999,42.35439999999999,44.27959999999999,46.2048,48.13,48.13,48.13,46.2048,48.13,48.13,48.13,48.13,48.13,48.13,48.13,48.13,48.13,48.13,48.13,48.13,48.13,48.13,48.13,48.13,48.13,48.13,48.13,48.13,48.13,48.13,48.13,48.13,48.13,48.13,48.13,48.13,48.13,48.13,48.13,48.13,48.13,48.13,48.13,48.13,48.13,48.13,48.13,48.13,48.13,48.13,48.13,48.13,48.13,48.13,48.13,48.13,48.13,48.13,48.13,48.13,48.13,48.13,48.13,48.13,48.13,48.13,48.13,48.13,48.13,48.13,48.13,48.13,48.13,48.13,48.13,48.13,48.13,48.13,48.13,48.13,48.13,48.13,48.13,48.13,48.13,48.13,48.13,48.13,48.13,48.13,48.13,48.13,48.13,48.13,48.13,48.13,48.13,48.13,48.13,48.13,48.13,48.13,48.13,48.13,48.13,48.13,48.13,48.13,48.13,48.13,48.13,48.13,48.13,48.13,48.13,48.13,48.13,48.13,48.13,48.13,48.13,48.13,48.13,48.13,48.13,48.13,48.13,48.13,48.13,48.13,48.13,48.13,48.13,48.13,48.13,48.13,48.13,48.13,48.13,48.13,48.13,48.13,48.13,48.13,48.13,48.13,48.13,48.13,48.13,48.13,48.13,48.13,48.13,48.13,48.13,48.13,48.13,48.13,48.13,48.13,48.13,48.13,48.13,48.13],\"type\":\"scatter\"},{\"line\":{\"color\":\"darkgreen\",\"width\":0},\"name\":\"Bio\\u00e9nergies et autres ENR\",\"stackgroup\":\"+\",\"x\":[\"2050-01-14T00:00:00\",\"2050-01-14T01:00:00\",\"2050-01-14T02:00:00\",\"2050-01-14T03:00:00\",\"2050-01-14T04:00:00\",\"2050-01-14T05:00:00\",\"2050-01-14T06:00:00\",\"2050-01-14T07:00:00\",\"2050-01-14T08:00:00\",\"2050-01-14T09:00:00\",\"2050-01-14T10:00:00\",\"2050-01-14T11:00:00\",\"2050-01-14T12:00:00\",\"2050-01-14T13:00:00\",\"2050-01-14T14:00:00\",\"2050-01-14T15:00:00\",\"2050-01-14T16:00:00\",\"2050-01-14T17:00:00\",\"2050-01-14T18:00:00\",\"2050-01-14T19:00:00\",\"2050-01-14T20:00:00\",\"2050-01-14T21:00:00\",\"2050-01-14T22:00:00\",\"2050-01-14T23:00:00\",\"2050-01-15T00:00:00\",\"2050-01-15T01:00:00\",\"2050-01-15T02:00:00\",\"2050-01-15T03:00:00\",\"2050-01-15T04:00:00\",\"2050-01-15T05:00:00\",\"2050-01-15T06:00:00\",\"2050-01-15T07:00:00\",\"2050-01-15T08:00:00\",\"2050-01-15T09:00:00\",\"2050-01-15T10:00:00\",\"2050-01-15T11:00:00\",\"2050-01-15T12:00:00\",\"2050-01-15T13:00:00\",\"2050-01-15T14:00:00\",\"2050-01-15T15:00:00\",\"2050-01-15T16:00:00\",\"2050-01-15T17:00:00\",\"2050-01-15T18:00:00\",\"2050-01-15T19:00:00\",\"2050-01-15T20:00:00\",\"2050-01-15T21:00:00\",\"2050-01-15T22:00:00\",\"2050-01-15T23:00:00\",\"2050-01-16T00:00:00\",\"2050-01-16T01:00:00\",\"2050-01-16T02:00:00\",\"2050-01-16T03:00:00\",\"2050-01-16T04:00:00\",\"2050-01-16T05:00:00\",\"2050-01-16T06:00:00\",\"2050-01-16T07:00:00\",\"2050-01-16T08:00:00\",\"2050-01-16T09:00:00\",\"2050-01-16T10:00:00\",\"2050-01-16T11:00:00\",\"2050-01-16T12:00:00\",\"2050-01-16T13:00:00\",\"2050-01-16T14:00:00\",\"2050-01-16T15:00:00\",\"2050-01-16T16:00:00\",\"2050-01-16T17:00:00\",\"2050-01-16T18:00:00\",\"2050-01-16T19:00:00\",\"2050-01-16T20:00:00\",\"2050-01-16T21:00:00\",\"2050-01-16T22:00:00\",\"2050-01-16T23:00:00\",\"2050-01-17T00:00:00\",\"2050-01-17T01:00:00\",\"2050-01-17T02:00:00\",\"2050-01-17T03:00:00\",\"2050-01-17T04:00:00\",\"2050-01-17T05:00:00\",\"2050-01-17T06:00:00\",\"2050-01-17T07:00:00\",\"2050-01-17T08:00:00\",\"2050-01-17T09:00:00\",\"2050-01-17T10:00:00\",\"2050-01-17T11:00:00\",\"2050-01-17T12:00:00\",\"2050-01-17T13:00:00\",\"2050-01-17T14:00:00\",\"2050-01-17T15:00:00\",\"2050-01-17T16:00:00\",\"2050-01-17T17:00:00\",\"2050-01-17T18:00:00\",\"2050-01-17T19:00:00\",\"2050-01-17T20:00:00\",\"2050-01-17T21:00:00\",\"2050-01-17T22:00:00\",\"2050-01-17T23:00:00\",\"2050-01-18T00:00:00\",\"2050-01-18T01:00:00\",\"2050-01-18T02:00:00\",\"2050-01-18T03:00:00\",\"2050-01-18T04:00:00\",\"2050-01-18T05:00:00\",\"2050-01-18T06:00:00\",\"2050-01-18T07:00:00\",\"2050-01-18T08:00:00\",\"2050-01-18T09:00:00\",\"2050-01-18T10:00:00\",\"2050-01-18T11:00:00\",\"2050-01-18T12:00:00\",\"2050-01-18T13:00:00\",\"2050-01-18T14:00:00\",\"2050-01-18T15:00:00\",\"2050-01-18T16:00:00\",\"2050-01-18T17:00:00\",\"2050-01-18T18:00:00\",\"2050-01-18T19:00:00\",\"2050-01-18T20:00:00\",\"2050-01-18T21:00:00\",\"2050-01-18T22:00:00\",\"2050-01-18T23:00:00\",\"2050-01-19T00:00:00\",\"2050-01-19T01:00:00\",\"2050-01-19T02:00:00\",\"2050-01-19T03:00:00\",\"2050-01-19T04:00:00\",\"2050-01-19T05:00:00\",\"2050-01-19T06:00:00\",\"2050-01-19T07:00:00\",\"2050-01-19T08:00:00\",\"2050-01-19T09:00:00\",\"2050-01-19T10:00:00\",\"2050-01-19T11:00:00\",\"2050-01-19T12:00:00\",\"2050-01-19T13:00:00\",\"2050-01-19T14:00:00\",\"2050-01-19T15:00:00\",\"2050-01-19T16:00:00\",\"2050-01-19T17:00:00\",\"2050-01-19T18:00:00\",\"2050-01-19T19:00:00\",\"2050-01-19T20:00:00\",\"2050-01-19T21:00:00\",\"2050-01-19T22:00:00\",\"2050-01-19T23:00:00\",\"2050-01-20T00:00:00\",\"2050-01-20T01:00:00\",\"2050-01-20T02:00:00\",\"2050-01-20T03:00:00\",\"2050-01-20T04:00:00\",\"2050-01-20T05:00:00\",\"2050-01-20T06:00:00\",\"2050-01-20T07:00:00\",\"2050-01-20T08:00:00\",\"2050-01-20T09:00:00\",\"2050-01-20T10:00:00\",\"2050-01-20T11:00:00\",\"2050-01-20T12:00:00\",\"2050-01-20T13:00:00\",\"2050-01-20T14:00:00\",\"2050-01-20T15:00:00\",\"2050-01-20T16:00:00\",\"2050-01-20T17:00:00\",\"2050-01-20T18:00:00\",\"2050-01-20T19:00:00\",\"2050-01-20T20:00:00\",\"2050-01-20T21:00:00\",\"2050-01-20T22:00:00\",\"2050-01-20T23:00:00\"],\"y\":[0.0,0.0,0.12185999999999998,0.24371999999999996,0.3655799999999999,0.48743999999999993,0.6093,0.7311599999999999,0.85302,0.97488,1.09674,1.2186,1.3404599999999998,1.4623199999999996,1.5841799999999997,1.7060399999999996,1.8278999999999994,1.9497599999999993,2.031,2.031,2.031,2.031,2.031,2.031,2.031,2.031,2.031,2.031,2.031,2.031,2.031,2.031,2.031,2.031,2.031,2.031,2.031,2.031,2.031,2.031,2.031,2.031,2.031,2.031,2.031,2.031,2.031,2.031,2.031,2.031,2.031,2.031,2.031,2.031,2.031,2.031,2.031,2.031,2.031,2.031,2.031,2.031,2.031,2.031,2.031,2.031,2.031,2.031,2.031,2.031,2.031,2.031,2.031,2.031,2.031,2.031,2.031,2.031,2.031,2.031,2.031,2.031,2.031,2.031,2.031,2.031,2.031,2.031,2.031,2.031,2.031,2.031,2.031,2.031,2.031,2.031,2.031,2.031,2.031,2.031,2.031,2.031,2.031,2.031,2.031,2.031,2.031,2.031,2.031,2.031,2.031,2.031,2.031,2.031,2.031,2.031,2.031,2.031,2.031,2.031,2.031,2.031,2.031,2.031,2.031,2.031,2.031,2.031,2.031,2.031,2.031,2.031,2.031,2.031,2.031,2.031,2.031,2.031,2.031,2.031,2.031,2.031,2.031,2.031,2.031,2.031,2.031,2.031,2.031,2.031,2.031,2.031,2.031,2.031,2.031,2.031,2.031,2.031,2.031,2.031,2.031,2.031,2.031,2.031,2.031,2.031,2.031,2.031],\"type\":\"scatter\"},{\"line\":{\"color\":\"lightskyblue\",\"width\":0},\"name\":\"\\u00c9olien\",\"stackgroup\":\"+\",\"x\":[\"2050-01-14T00:00:00\",\"2050-01-14T01:00:00\",\"2050-01-14T02:00:00\",\"2050-01-14T03:00:00\",\"2050-01-14T04:00:00\",\"2050-01-14T05:00:00\",\"2050-01-14T06:00:00\",\"2050-01-14T07:00:00\",\"2050-01-14T08:00:00\",\"2050-01-14T09:00:00\",\"2050-01-14T10:00:00\",\"2050-01-14T11:00:00\",\"2050-01-14T12:00:00\",\"2050-01-14T13:00:00\",\"2050-01-14T14:00:00\",\"2050-01-14T15:00:00\",\"2050-01-14T16:00:00\",\"2050-01-14T17:00:00\",\"2050-01-14T18:00:00\",\"2050-01-14T19:00:00\",\"2050-01-14T20:00:00\",\"2050-01-14T21:00:00\",\"2050-01-14T22:00:00\",\"2050-01-14T23:00:00\",\"2050-01-15T00:00:00\",\"2050-01-15T01:00:00\",\"2050-01-15T02:00:00\",\"2050-01-15T03:00:00\",\"2050-01-15T04:00:00\",\"2050-01-15T05:00:00\",\"2050-01-15T06:00:00\",\"2050-01-15T07:00:00\",\"2050-01-15T08:00:00\",\"2050-01-15T09:00:00\",\"2050-01-15T10:00:00\",\"2050-01-15T11:00:00\",\"2050-01-15T12:00:00\",\"2050-01-15T13:00:00\",\"2050-01-15T14:00:00\",\"2050-01-15T15:00:00\",\"2050-01-15T16:00:00\",\"2050-01-15T17:00:00\",\"2050-01-15T18:00:00\",\"2050-01-15T19:00:00\",\"2050-01-15T20:00:00\",\"2050-01-15T21:00:00\",\"2050-01-15T22:00:00\",\"2050-01-15T23:00:00\",\"2050-01-16T00:00:00\",\"2050-01-16T01:00:00\",\"2050-01-16T02:00:00\",\"2050-01-16T03:00:00\",\"2050-01-16T04:00:00\",\"2050-01-16T05:00:00\",\"2050-01-16T06:00:00\",\"2050-01-16T07:00:00\",\"2050-01-16T08:00:00\",\"2050-01-16T09:00:00\",\"2050-01-16T10:00:00\",\"2050-01-16T11:00:00\",\"2050-01-16T12:00:00\",\"2050-01-16T13:00:00\",\"2050-01-16T14:00:00\",\"2050-01-16T15:00:00\",\"2050-01-16T16:00:00\",\"2050-01-16T17:00:00\",\"2050-01-16T18:00:00\",\"2050-01-16T19:00:00\",\"2050-01-16T20:00:00\",\"2050-01-16T21:00:00\",\"2050-01-16T22:00:00\",\"2050-01-16T23:00:00\",\"2050-01-17T00:00:00\",\"2050-01-17T01:00:00\",\"2050-01-17T02:00:00\",\"2050-01-17T03:00:00\",\"2050-01-17T04:00:00\",\"2050-01-17T05:00:00\",\"2050-01-17T06:00:00\",\"2050-01-17T07:00:00\",\"2050-01-17T08:00:00\",\"2050-01-17T09:00:00\",\"2050-01-17T10:00:00\",\"2050-01-17T11:00:00\",\"2050-01-17T12:00:00\",\"2050-01-17T13:00:00\",\"2050-01-17T14:00:00\",\"2050-01-17T15:00:00\",\"2050-01-17T16:00:00\",\"2050-01-17T17:00:00\",\"2050-01-17T18:00:00\",\"2050-01-17T19:00:00\",\"2050-01-17T20:00:00\",\"2050-01-17T21:00:00\",\"2050-01-17T22:00:00\",\"2050-01-17T23:00:00\",\"2050-01-18T00:00:00\",\"2050-01-18T01:00:00\",\"2050-01-18T02:00:00\",\"2050-01-18T03:00:00\",\"2050-01-18T04:00:00\",\"2050-01-18T05:00:00\",\"2050-01-18T06:00:00\",\"2050-01-18T07:00:00\",\"2050-01-18T08:00:00\",\"2050-01-18T09:00:00\",\"2050-01-18T10:00:00\",\"2050-01-18T11:00:00\",\"2050-01-18T12:00:00\",\"2050-01-18T13:00:00\",\"2050-01-18T14:00:00\",\"2050-01-18T15:00:00\",\"2050-01-18T16:00:00\",\"2050-01-18T17:00:00\",\"2050-01-18T18:00:00\",\"2050-01-18T19:00:00\",\"2050-01-18T20:00:00\",\"2050-01-18T21:00:00\",\"2050-01-18T22:00:00\",\"2050-01-18T23:00:00\",\"2050-01-19T00:00:00\",\"2050-01-19T01:00:00\",\"2050-01-19T02:00:00\",\"2050-01-19T03:00:00\",\"2050-01-19T04:00:00\",\"2050-01-19T05:00:00\",\"2050-01-19T06:00:00\",\"2050-01-19T07:00:00\",\"2050-01-19T08:00:00\",\"2050-01-19T09:00:00\",\"2050-01-19T10:00:00\",\"2050-01-19T11:00:00\",\"2050-01-19T12:00:00\",\"2050-01-19T13:00:00\",\"2050-01-19T14:00:00\",\"2050-01-19T15:00:00\",\"2050-01-19T16:00:00\",\"2050-01-19T17:00:00\",\"2050-01-19T18:00:00\",\"2050-01-19T19:00:00\",\"2050-01-19T20:00:00\",\"2050-01-19T21:00:00\",\"2050-01-19T22:00:00\",\"2050-01-19T23:00:00\",\"2050-01-20T00:00:00\",\"2050-01-20T01:00:00\",\"2050-01-20T02:00:00\",\"2050-01-20T03:00:00\",\"2050-01-20T04:00:00\",\"2050-01-20T05:00:00\",\"2050-01-20T06:00:00\",\"2050-01-20T07:00:00\",\"2050-01-20T08:00:00\",\"2050-01-20T09:00:00\",\"2050-01-20T10:00:00\",\"2050-01-20T11:00:00\",\"2050-01-20T12:00:00\",\"2050-01-20T13:00:00\",\"2050-01-20T14:00:00\",\"2050-01-20T15:00:00\",\"2050-01-20T16:00:00\",\"2050-01-20T17:00:00\",\"2050-01-20T18:00:00\",\"2050-01-20T19:00:00\",\"2050-01-20T20:00:00\",\"2050-01-20T21:00:00\",\"2050-01-20T22:00:00\",\"2050-01-20T23:00:00\"],\"y\":[61.0779,60.571600000000004,60.2007,58.24229999999999,55.9514,54.14590000000001,52.1445,49.7262,46.7173,42.9222,38.6096,38.4009,38.6044,36.8879,34.144800000000004,29.640300000000003,27.4308,27.201300000000003,25.694399999999998,23.620600000000003,21.453800000000005,19.1692,17.253600000000002,16.000500000000002,15.307900000000002,15.450899999999999,15.4719,16.067200000000003,16.4351,16.8473,16.880599999999998,17.040599999999998,17.2984,15.891800000000002,13.123400000000004,11.509,11.631599999999999,11.806600000000001,11.146799999999999,10.628599999999999,10.936100000000001,11.8218,12.3951,13.394699999999998,14.6007,15.331700000000001,16.4935,17.4665,17.661900000000003,17.3986,17.1318,17.125400000000003,17.4306,17.962400000000002,18.456599999999998,18.852400000000003,18.921800000000005,18.297400000000003,18.1955,20.6338,22.9829,25.1365,26.9193,29.1301,32.6183,36.6352,39.852,41.2142,40.4641,38.5147,34.928599999999996,32.4233,33.54279999999999,34.3519,35.153400000000005,36.3641,37.450100000000006,37.8317,38.2332,38.08710000000001,39.0642,38.8773,37.6693,38.5325,41.42679999999999,42.587399999999995,41.7233,38.105199999999996,33.9913,33.1358,32.967699999999994,31.585300000000004,29.5425,26.3566,23.016599999999997,19.9954,17.6215,16.024,14.6015,12.919599999999999,12.3535,11.725200000000001,10.960400000000002,10.6233,10.650099999999998,11.193100000000001,11.8034,12.238,13.7582,15.2566,16.311700000000005,17.007600000000004,18.229800000000004,20.9851,22.692400000000003,23.6363,24.291300000000003,25.200300000000002,24.955700000000004,23.927,23.129900000000003,23.146200000000004,22.704900000000002,22.3633,21.7605,21.131899999999998,20.657799999999995,20.097000000000005,20.445,19.8068,18.6188,18.1435,17.9133,16.7533,14.7539,13.1134,13.7998,15.7883,16.153,14.928899999999997,13.2401,11.622900000000001,10.0459,8.8388,8.127600000000001,7.7312,7.758800000000001,7.914900000000001,8.2114,8.3876,8.2987,8.0624,7.784700000000001,7.269600000000001,6.5835,6.795400000000001,7.6311,9.193,11.128400000000001,12.992799999999999,15.106599999999998,18.398,20.7981,21.5717,21.7799,21.9159,22.0112,21.644199999999998],\"type\":\"scatter\"},{\"line\":{\"color\":\"orange\",\"width\":0},\"name\":\"Solaire\",\"stackgroup\":\"+\",\"x\":[\"2050-01-14T00:00:00\",\"2050-01-14T01:00:00\",\"2050-01-14T02:00:00\",\"2050-01-14T03:00:00\",\"2050-01-14T04:00:00\",\"2050-01-14T05:00:00\",\"2050-01-14T06:00:00\",\"2050-01-14T07:00:00\",\"2050-01-14T08:00:00\",\"2050-01-14T09:00:00\",\"2050-01-14T10:00:00\",\"2050-01-14T11:00:00\",\"2050-01-14T12:00:00\",\"2050-01-14T13:00:00\",\"2050-01-14T14:00:00\",\"2050-01-14T15:00:00\",\"2050-01-14T16:00:00\",\"2050-01-14T17:00:00\",\"2050-01-14T18:00:00\",\"2050-01-14T19:00:00\",\"2050-01-14T20:00:00\",\"2050-01-14T21:00:00\",\"2050-01-14T22:00:00\",\"2050-01-14T23:00:00\",\"2050-01-15T00:00:00\",\"2050-01-15T01:00:00\",\"2050-01-15T02:00:00\",\"2050-01-15T03:00:00\",\"2050-01-15T04:00:00\",\"2050-01-15T05:00:00\",\"2050-01-15T06:00:00\",\"2050-01-15T07:00:00\",\"2050-01-15T08:00:00\",\"2050-01-15T09:00:00\",\"2050-01-15T10:00:00\",\"2050-01-15T11:00:00\",\"2050-01-15T12:00:00\",\"2050-01-15T13:00:00\",\"2050-01-15T14:00:00\",\"2050-01-15T15:00:00\",\"2050-01-15T16:00:00\",\"2050-01-15T17:00:00\",\"2050-01-15T18:00:00\",\"2050-01-15T19:00:00\",\"2050-01-15T20:00:00\",\"2050-01-15T21:00:00\",\"2050-01-15T22:00:00\",\"2050-01-15T23:00:00\",\"2050-01-16T00:00:00\",\"2050-01-16T01:00:00\",\"2050-01-16T02:00:00\",\"2050-01-16T03:00:00\",\"2050-01-16T04:00:00\",\"2050-01-16T05:00:00\",\"2050-01-16T06:00:00\",\"2050-01-16T07:00:00\",\"2050-01-16T08:00:00\",\"2050-01-16T09:00:00\",\"2050-01-16T10:00:00\",\"2050-01-16T11:00:00\",\"2050-01-16T12:00:00\",\"2050-01-16T13:00:00\",\"2050-01-16T14:00:00\",\"2050-01-16T15:00:00\",\"2050-01-16T16:00:00\",\"2050-01-16T17:00:00\",\"2050-01-16T18:00:00\",\"2050-01-16T19:00:00\",\"2050-01-16T20:00:00\",\"2050-01-16T21:00:00\",\"2050-01-16T22:00:00\",\"2050-01-16T23:00:00\",\"2050-01-17T00:00:00\",\"2050-01-17T01:00:00\",\"2050-01-17T02:00:00\",\"2050-01-17T03:00:00\",\"2050-01-17T04:00:00\",\"2050-01-17T05:00:00\",\"2050-01-17T06:00:00\",\"2050-01-17T07:00:00\",\"2050-01-17T08:00:00\",\"2050-01-17T09:00:00\",\"2050-01-17T10:00:00\",\"2050-01-17T11:00:00\",\"2050-01-17T12:00:00\",\"2050-01-17T13:00:00\",\"2050-01-17T14:00:00\",\"2050-01-17T15:00:00\",\"2050-01-17T16:00:00\",\"2050-01-17T17:00:00\",\"2050-01-17T18:00:00\",\"2050-01-17T19:00:00\",\"2050-01-17T20:00:00\",\"2050-01-17T21:00:00\",\"2050-01-17T22:00:00\",\"2050-01-17T23:00:00\",\"2050-01-18T00:00:00\",\"2050-01-18T01:00:00\",\"2050-01-18T02:00:00\",\"2050-01-18T03:00:00\",\"2050-01-18T04:00:00\",\"2050-01-18T05:00:00\",\"2050-01-18T06:00:00\",\"2050-01-18T07:00:00\",\"2050-01-18T08:00:00\",\"2050-01-18T09:00:00\",\"2050-01-18T10:00:00\",\"2050-01-18T11:00:00\",\"2050-01-18T12:00:00\",\"2050-01-18T13:00:00\",\"2050-01-18T14:00:00\",\"2050-01-18T15:00:00\",\"2050-01-18T16:00:00\",\"2050-01-18T17:00:00\",\"2050-01-18T18:00:00\",\"2050-01-18T19:00:00\",\"2050-01-18T20:00:00\",\"2050-01-18T21:00:00\",\"2050-01-18T22:00:00\",\"2050-01-18T23:00:00\",\"2050-01-19T00:00:00\",\"2050-01-19T01:00:00\",\"2050-01-19T02:00:00\",\"2050-01-19T03:00:00\",\"2050-01-19T04:00:00\",\"2050-01-19T05:00:00\",\"2050-01-19T06:00:00\",\"2050-01-19T07:00:00\",\"2050-01-19T08:00:00\",\"2050-01-19T09:00:00\",\"2050-01-19T10:00:00\",\"2050-01-19T11:00:00\",\"2050-01-19T12:00:00\",\"2050-01-19T13:00:00\",\"2050-01-19T14:00:00\",\"2050-01-19T15:00:00\",\"2050-01-19T16:00:00\",\"2050-01-19T17:00:00\",\"2050-01-19T18:00:00\",\"2050-01-19T19:00:00\",\"2050-01-19T20:00:00\",\"2050-01-19T21:00:00\",\"2050-01-19T22:00:00\",\"2050-01-19T23:00:00\",\"2050-01-20T00:00:00\",\"2050-01-20T01:00:00\",\"2050-01-20T02:00:00\",\"2050-01-20T03:00:00\",\"2050-01-20T04:00:00\",\"2050-01-20T05:00:00\",\"2050-01-20T06:00:00\",\"2050-01-20T07:00:00\",\"2050-01-20T08:00:00\",\"2050-01-20T09:00:00\",\"2050-01-20T10:00:00\",\"2050-01-20T11:00:00\",\"2050-01-20T12:00:00\",\"2050-01-20T13:00:00\",\"2050-01-20T14:00:00\",\"2050-01-20T15:00:00\",\"2050-01-20T16:00:00\",\"2050-01-20T17:00:00\",\"2050-01-20T18:00:00\",\"2050-01-20T19:00:00\",\"2050-01-20T20:00:00\",\"2050-01-20T21:00:00\",\"2050-01-20T22:00:00\",\"2050-01-20T23:00:00\"],\"y\":[0.0,0.0,0.0,0.0,0.0,0.0,0.0,0.0,0.0,1.3555771718976755,11.708408406316263,23.47599456954833,31.504357855590097,33.008249284590946,31.65221755490866,24.308481827550295,13.971176942760064,3.2767650352811035,0.059576506877418146,0.0,0.0,0.0,0.0,0.0,0.0,0.0,0.0,0.0,0.0,0.0,0.0,0.0,0.0,2.978051638931533,19.744140164810943,39.249360293404784,51.74095753467642,57.710640879672916,55.6698525587143,46.49744251605077,28.838932441952057,8.620264613646768,0.2977587759400664,0.029775374710326968,0.0,0.0,0.0,0.0,0.0,0.0,0.0,0.0,0.0,0.0,0.0,0.0,0.0,3.3191474585319565,21.819667690362035,38.32515097717454,47.656313915585876,48.71218431188478,43.26424315252245,34.73580841045869,20.150587067786212,5.327758705918824,0.17858098596491412,0.029762986600168934,0.0,0.0,0.0,0.0,0.0,0.0,0.0,0.0,0.0,0.0,0.0,0.0,0.0,0.9819404853123399,10.429217302889448,24.413765064110375,33.56276697537569,40.911352586533646,41.267682837919104,34.52798621037491,21.60007249271867,7.155272095851246,0.2677601699377829,0.014875299245005453,0.0,0.0,0.0,0.0,0.0,0.0,0.0,0.0,0.0,0.0,0.0,0.0,0.0,3.197416981936914,15.406821904936654,30.560300456450133,42.917518715346255,43.94285291072383,43.07960830563604,35.242286849868925,20.356901230103723,5.858641599685828,0.14869387295405287,0.0,0.0,0.0,0.0,0.0,0.0,0.0,0.0,0.0,0.0,0.0,0.0,0.0,0.0,2.5122751327001147,16.396400089452364,32.33141728152451,44.668610834950236,50.65823400846437,47.7885579727593,36.416778307113205,21.002456198730478,5.915663825434126,0.11890574216989978,0.0,0.0,0.0,0.0,0.0,0.0,0.0,0.0,0.0,0.0,0.0,0.0,0.0,0.0,1.1887491907997192,8.113073183302383,19.167918627683896,24.605832899746147,25.496907700940344,25.407318482786696,21.365551094189552,11.97519923729782,4.041188459092729,0.10399941132222125,0.0,0.0,0.0,0.0,0.0],\"type\":\"scatter\"},{\"line\":{\"color\":\"blue\",\"width\":0},\"name\":\"Hydraulique\",\"stackgroup\":\"+\",\"x\":[\"2050-01-14T00:00:00\",\"2050-01-14T01:00:00\",\"2050-01-14T02:00:00\",\"2050-01-14T03:00:00\",\"2050-01-14T04:00:00\",\"2050-01-14T05:00:00\",\"2050-01-14T06:00:00\",\"2050-01-14T07:00:00\",\"2050-01-14T08:00:00\",\"2050-01-14T09:00:00\",\"2050-01-14T10:00:00\",\"2050-01-14T11:00:00\",\"2050-01-14T12:00:00\",\"2050-01-14T13:00:00\",\"2050-01-14T14:00:00\",\"2050-01-14T15:00:00\",\"2050-01-14T16:00:00\",\"2050-01-14T17:00:00\",\"2050-01-14T18:00:00\",\"2050-01-14T19:00:00\",\"2050-01-14T20:00:00\",\"2050-01-14T21:00:00\",\"2050-01-14T22:00:00\",\"2050-01-14T23:00:00\",\"2050-01-15T00:00:00\",\"2050-01-15T01:00:00\",\"2050-01-15T02:00:00\",\"2050-01-15T03:00:00\",\"2050-01-15T04:00:00\",\"2050-01-15T05:00:00\",\"2050-01-15T06:00:00\",\"2050-01-15T07:00:00\",\"2050-01-15T08:00:00\",\"2050-01-15T09:00:00\",\"2050-01-15T10:00:00\",\"2050-01-15T11:00:00\",\"2050-01-15T12:00:00\",\"2050-01-15T13:00:00\",\"2050-01-15T14:00:00\",\"2050-01-15T15:00:00\",\"2050-01-15T16:00:00\",\"2050-01-15T17:00:00\",\"2050-01-15T18:00:00\",\"2050-01-15T19:00:00\",\"2050-01-15T20:00:00\",\"2050-01-15T21:00:00\",\"2050-01-15T22:00:00\",\"2050-01-15T23:00:00\",\"2050-01-16T00:00:00\",\"2050-01-16T01:00:00\",\"2050-01-16T02:00:00\",\"2050-01-16T03:00:00\",\"2050-01-16T04:00:00\",\"2050-01-16T05:00:00\",\"2050-01-16T06:00:00\",\"2050-01-16T07:00:00\",\"2050-01-16T08:00:00\",\"2050-01-16T09:00:00\",\"2050-01-16T10:00:00\",\"2050-01-16T11:00:00\",\"2050-01-16T12:00:00\",\"2050-01-16T13:00:00\",\"2050-01-16T14:00:00\",\"2050-01-16T15:00:00\",\"2050-01-16T16:00:00\",\"2050-01-16T17:00:00\",\"2050-01-16T18:00:00\",\"2050-01-16T19:00:00\",\"2050-01-16T20:00:00\",\"2050-01-16T21:00:00\",\"2050-01-16T22:00:00\",\"2050-01-16T23:00:00\",\"2050-01-17T00:00:00\",\"2050-01-17T01:00:00\",\"2050-01-17T02:00:00\",\"2050-01-17T03:00:00\",\"2050-01-17T04:00:00\",\"2050-01-17T05:00:00\",\"2050-01-17T06:00:00\",\"2050-01-17T07:00:00\",\"2050-01-17T08:00:00\",\"2050-01-17T09:00:00\",\"2050-01-17T10:00:00\",\"2050-01-17T11:00:00\",\"2050-01-17T12:00:00\",\"2050-01-17T13:00:00\",\"2050-01-17T14:00:00\",\"2050-01-17T15:00:00\",\"2050-01-17T16:00:00\",\"2050-01-17T17:00:00\",\"2050-01-17T18:00:00\",\"2050-01-17T19:00:00\",\"2050-01-17T20:00:00\",\"2050-01-17T21:00:00\",\"2050-01-17T22:00:00\",\"2050-01-17T23:00:00\",\"2050-01-18T00:00:00\",\"2050-01-18T01:00:00\",\"2050-01-18T02:00:00\",\"2050-01-18T03:00:00\",\"2050-01-18T04:00:00\",\"2050-01-18T05:00:00\",\"2050-01-18T06:00:00\",\"2050-01-18T07:00:00\",\"2050-01-18T08:00:00\",\"2050-01-18T09:00:00\",\"2050-01-18T10:00:00\",\"2050-01-18T11:00:00\",\"2050-01-18T12:00:00\",\"2050-01-18T13:00:00\",\"2050-01-18T14:00:00\",\"2050-01-18T15:00:00\",\"2050-01-18T16:00:00\",\"2050-01-18T17:00:00\",\"2050-01-18T18:00:00\",\"2050-01-18T19:00:00\",\"2050-01-18T20:00:00\",\"2050-01-18T21:00:00\",\"2050-01-18T22:00:00\",\"2050-01-18T23:00:00\",\"2050-01-19T00:00:00\",\"2050-01-19T01:00:00\",\"2050-01-19T02:00:00\",\"2050-01-19T03:00:00\",\"2050-01-19T04:00:00\",\"2050-01-19T05:00:00\",\"2050-01-19T06:00:00\",\"2050-01-19T07:00:00\",\"2050-01-19T08:00:00\",\"2050-01-19T09:00:00\",\"2050-01-19T10:00:00\",\"2050-01-19T11:00:00\",\"2050-01-19T12:00:00\",\"2050-01-19T13:00:00\",\"2050-01-19T14:00:00\",\"2050-01-19T15:00:00\",\"2050-01-19T16:00:00\",\"2050-01-19T17:00:00\",\"2050-01-19T18:00:00\",\"2050-01-19T19:00:00\",\"2050-01-19T20:00:00\",\"2050-01-19T21:00:00\",\"2050-01-19T22:00:00\",\"2050-01-19T23:00:00\",\"2050-01-20T00:00:00\",\"2050-01-20T01:00:00\",\"2050-01-20T02:00:00\",\"2050-01-20T03:00:00\",\"2050-01-20T04:00:00\",\"2050-01-20T05:00:00\",\"2050-01-20T06:00:00\",\"2050-01-20T07:00:00\",\"2050-01-20T08:00:00\",\"2050-01-20T09:00:00\",\"2050-01-20T10:00:00\",\"2050-01-20T11:00:00\",\"2050-01-20T12:00:00\",\"2050-01-20T13:00:00\",\"2050-01-20T14:00:00\",\"2050-01-20T15:00:00\",\"2050-01-20T16:00:00\",\"2050-01-20T17:00:00\",\"2050-01-20T18:00:00\",\"2050-01-20T19:00:00\",\"2050-01-20T20:00:00\",\"2050-01-20T21:00:00\",\"2050-01-20T22:00:00\",\"2050-01-20T23:00:00\"],\"y\":[5.558779785619423,5.558779785619427,5.558779785619423,5.55877978561943,5.55877978561943,5.558779785619427,5.55877978561943,5.558779785619427,5.55877978561943,5.558779785619425,5.558779785619423,5.558779785619425,5.5587797856194285,5.623276767574633,5.558779785619436,5.5587797856194285,12.908218284416188,6.1298361329257,14.34377978561943,5.558779785619425,5.785609793268593,5.558779785619427,5.5587797856194285,5.5587797856194285,14.579238788068269,6.209201859229748,6.209201859229743,6.209201859229748,6.2092018592297515,6.20920185922975,6.20920185922975,14.994201859229753,14.994201859229749,13.118404642004032,6.209201859229748,6.209201859229743,6.209201859229755,6.209201859229741,6.209201859229755,6.209201859229741,6.209201859229743,6.2092018592297515,14.994201859229749,14.994201859229742,14.994201859229749,14.83997090191149,6.209201859229748,6.209201859229748,6.2287499051413375,6.228749905141345,6.228749905141345,6.228749905141335,6.228749905141339,6.228749905141339,6.228749905141339,6.228749905141336,6.2287499051413375,6.228749905141341,6.228749905141344,6.228749905141341,6.2287499051413375,6.228749905141344,6.228749905141344,6.228749905141336,6.228749905141339,6.228749905141341,14.481427054449053,6.228749905141344,6.2287499051413375,6.228749905141339,6.2287499051413375,6.2287499051413375,6.1021806583191065,6.102180658319105,6.102180658319105,6.1021806583191065,6.102180658319108,6.102180658319105,6.1021806583191065,6.102180658319105,6.102180658319099,6.102180658319099,6.102180658319112,6.102180658319114,6.102180658319108,6.102180658319101,6.102180658319108,6.102180658319101,6.102180658319101,14.88718065831911,14.887180658319107,14.887180658319107,14.887180658319103,14.887180658319107,14.887180658319107,14.887180658319101,14.998204278125588,14.99820427812559,14.998204278125595,14.998204278125595,14.99820427812559,14.998204278125595,14.998204278125591,14.9982042781256,14.99820427812559,14.998204278125595,14.998204278125595,14.998204278125588,14.998204278125602,14.998204278125595,14.998204278125593,14.99820427812559,14.998204278125598,14.998204278125591,14.998204278125595,14.998204278125588,14.998204278125593,14.99820427812559,14.998204278125593,14.998204278125593,14.25833684310377,14.258336843103777,14.258336843103773,14.258336843103779,14.25833684310377,14.258336843103779,14.25833684310378,14.258336843103779,14.25833684310378,14.258336843103775,14.258336843103775,14.258336843103775,14.258336843103768,14.25833684310378,14.258336843103775,14.258336843103775,14.258336843103768,14.258336843103773,14.258336843103775,14.258336843103773,14.25833684310378,14.25833684310378,14.258336843103775,14.258336843103775,13.424383560994116,13.424383560994121,13.42438356099412,13.424383560994121,13.424383560994116,13.424383560994118,13.424383560994118,13.424383560994116,13.42438356099412,13.42438356099412,13.424383560994121,13.42438356099411,13.424383560994112,13.424383560994116,13.424383560994121,13.424383560994121,13.424383560994112,13.42438356099412,13.424383560994112,13.424383560994112,13.424383560994112,13.424383560994116,13.424383560994118,13.424383560994116],\"type\":\"scatter\"},{\"line\":{\"color\":\"red\",\"width\":0},\"name\":\"Gaz\",\"stackgroup\":\"+\",\"x\":[\"2050-01-14T00:00:00\",\"2050-01-14T01:00:00\",\"2050-01-14T02:00:00\",\"2050-01-14T03:00:00\",\"2050-01-14T04:00:00\",\"2050-01-14T05:00:00\",\"2050-01-14T06:00:00\",\"2050-01-14T07:00:00\",\"2050-01-14T08:00:00\",\"2050-01-14T09:00:00\",\"2050-01-14T10:00:00\",\"2050-01-14T11:00:00\",\"2050-01-14T12:00:00\",\"2050-01-14T13:00:00\",\"2050-01-14T14:00:00\",\"2050-01-14T15:00:00\",\"2050-01-14T16:00:00\",\"2050-01-14T17:00:00\",\"2050-01-14T18:00:00\",\"2050-01-14T19:00:00\",\"2050-01-14T20:00:00\",\"2050-01-14T21:00:00\",\"2050-01-14T22:00:00\",\"2050-01-14T23:00:00\",\"2050-01-15T00:00:00\",\"2050-01-15T01:00:00\",\"2050-01-15T02:00:00\",\"2050-01-15T03:00:00\",\"2050-01-15T04:00:00\",\"2050-01-15T05:00:00\",\"2050-01-15T06:00:00\",\"2050-01-15T07:00:00\",\"2050-01-15T08:00:00\",\"2050-01-15T09:00:00\",\"2050-01-15T10:00:00\",\"2050-01-15T11:00:00\",\"2050-01-15T12:00:00\",\"2050-01-15T13:00:00\",\"2050-01-15T14:00:00\",\"2050-01-15T15:00:00\",\"2050-01-15T16:00:00\",\"2050-01-15T17:00:00\",\"2050-01-15T18:00:00\",\"2050-01-15T19:00:00\",\"2050-01-15T20:00:00\",\"2050-01-15T21:00:00\",\"2050-01-15T22:00:00\",\"2050-01-15T23:00:00\",\"2050-01-16T00:00:00\",\"2050-01-16T01:00:00\",\"2050-01-16T02:00:00\",\"2050-01-16T03:00:00\",\"2050-01-16T04:00:00\",\"2050-01-16T05:00:00\",\"2050-01-16T06:00:00\",\"2050-01-16T07:00:00\",\"2050-01-16T08:00:00\",\"2050-01-16T09:00:00\",\"2050-01-16T10:00:00\",\"2050-01-16T11:00:00\",\"2050-01-16T12:00:00\",\"2050-01-16T13:00:00\",\"2050-01-16T14:00:00\",\"2050-01-16T15:00:00\",\"2050-01-16T16:00:00\",\"2050-01-16T17:00:00\",\"2050-01-16T18:00:00\",\"2050-01-16T19:00:00\",\"2050-01-16T20:00:00\",\"2050-01-16T21:00:00\",\"2050-01-16T22:00:00\",\"2050-01-16T23:00:00\",\"2050-01-17T00:00:00\",\"2050-01-17T01:00:00\",\"2050-01-17T02:00:00\",\"2050-01-17T03:00:00\",\"2050-01-17T04:00:00\",\"2050-01-17T05:00:00\",\"2050-01-17T06:00:00\",\"2050-01-17T07:00:00\",\"2050-01-17T08:00:00\",\"2050-01-17T09:00:00\",\"2050-01-17T10:00:00\",\"2050-01-17T11:00:00\",\"2050-01-17T12:00:00\",\"2050-01-17T13:00:00\",\"2050-01-17T14:00:00\",\"2050-01-17T15:00:00\",\"2050-01-17T16:00:00\",\"2050-01-17T17:00:00\",\"2050-01-17T18:00:00\",\"2050-01-17T19:00:00\",\"2050-01-17T20:00:00\",\"2050-01-17T21:00:00\",\"2050-01-17T22:00:00\",\"2050-01-17T23:00:00\",\"2050-01-18T00:00:00\",\"2050-01-18T01:00:00\",\"2050-01-18T02:00:00\",\"2050-01-18T03:00:00\",\"2050-01-18T04:00:00\",\"2050-01-18T05:00:00\",\"2050-01-18T06:00:00\",\"2050-01-18T07:00:00\",\"2050-01-18T08:00:00\",\"2050-01-18T09:00:00\",\"2050-01-18T10:00:00\",\"2050-01-18T11:00:00\",\"2050-01-18T12:00:00\",\"2050-01-18T13:00:00\",\"2050-01-18T14:00:00\",\"2050-01-18T15:00:00\",\"2050-01-18T16:00:00\",\"2050-01-18T17:00:00\",\"2050-01-18T18:00:00\",\"2050-01-18T19:00:00\",\"2050-01-18T20:00:00\",\"2050-01-18T21:00:00\",\"2050-01-18T22:00:00\",\"2050-01-18T23:00:00\",\"2050-01-19T00:00:00\",\"2050-01-19T01:00:00\",\"2050-01-19T02:00:00\",\"2050-01-19T03:00:00\",\"2050-01-19T04:00:00\",\"2050-01-19T05:00:00\",\"2050-01-19T06:00:00\",\"2050-01-19T07:00:00\",\"2050-01-19T08:00:00\",\"2050-01-19T09:00:00\",\"2050-01-19T10:00:00\",\"2050-01-19T11:00:00\",\"2050-01-19T12:00:00\",\"2050-01-19T13:00:00\",\"2050-01-19T14:00:00\",\"2050-01-19T15:00:00\",\"2050-01-19T16:00:00\",\"2050-01-19T17:00:00\",\"2050-01-19T18:00:00\",\"2050-01-19T19:00:00\",\"2050-01-19T20:00:00\",\"2050-01-19T21:00:00\",\"2050-01-19T22:00:00\",\"2050-01-19T23:00:00\",\"2050-01-20T00:00:00\",\"2050-01-20T01:00:00\",\"2050-01-20T02:00:00\",\"2050-01-20T03:00:00\",\"2050-01-20T04:00:00\",\"2050-01-20T05:00:00\",\"2050-01-20T06:00:00\",\"2050-01-20T07:00:00\",\"2050-01-20T08:00:00\",\"2050-01-20T09:00:00\",\"2050-01-20T10:00:00\",\"2050-01-20T11:00:00\",\"2050-01-20T12:00:00\",\"2050-01-20T13:00:00\",\"2050-01-20T14:00:00\",\"2050-01-20T15:00:00\",\"2050-01-20T16:00:00\",\"2050-01-20T17:00:00\",\"2050-01-20T18:00:00\",\"2050-01-20T19:00:00\",\"2050-01-20T20:00:00\",\"2050-01-20T21:00:00\",\"2050-01-20T22:00:00\",\"2050-01-20T23:00:00\"],\"y\":[0.0,0.0,0.0,0.0,0.0,0.0,0.0,0.0,0.0,0.0,0.0,0.0,0.0,0.0,0.0,0.0,0.0,0.0,0.0,0.0,0.0,0.0,0.0,0.0,0.0,0.0,0.0,0.0,0.0,0.0,0.0,0.0,0.0,0.0,0.0,0.0,0.0,0.0,0.0,0.0,0.0,0.0,0.0,0.0,0.0,0.0,0.0,0.0,0.0,0.0,0.0,0.0,0.0,0.0,0.0,0.0,0.0,0.0,0.0,0.0,0.0,0.0,0.0,0.0,0.0,0.0,0.0,0.0,0.0,0.0,0.0,0.0,0.0,0.0,0.0,0.0,0.0,0.0,0.0,0.0,0.0,0.0,0.0,0.0,0.0,0.0,0.0,0.0,0.0,0.0,0.0,0.0,0.0,0.0,0.0,0.0,0.0,0.0,0.0,0.0,0.0,0.0,0.0,0.0,0.0,0.0,0.0,0.0,0.0,0.0,0.0,0.0,0.0,0.0,0.0,0.0,0.0,0.0,0.0,0.0,0.0,0.0,0.0,0.0,0.0,0.0,0.0,0.0,0.0,0.0,0.0,0.0,0.0,0.0,0.0,0.0,0.0,0.0,0.0,0.0,0.0,0.0,0.0,0.0,0.0,0.0,0.0,0.0,0.0,0.0,0.0,0.0,0.0,0.0,0.0,0.0,0.0,0.0,0.0,0.0,0.0,0.0,0.0,0.0,0.0,0.0,0.0,0.0],\"type\":\"scatter\"},{\"line\":{\"color\":\"saddlebrown\",\"width\":0},\"name\":\"Charbon\",\"stackgroup\":\"+\",\"x\":[\"2050-01-14T00:00:00\",\"2050-01-14T01:00:00\",\"2050-01-14T02:00:00\",\"2050-01-14T03:00:00\",\"2050-01-14T04:00:00\",\"2050-01-14T05:00:00\",\"2050-01-14T06:00:00\",\"2050-01-14T07:00:00\",\"2050-01-14T08:00:00\",\"2050-01-14T09:00:00\",\"2050-01-14T10:00:00\",\"2050-01-14T11:00:00\",\"2050-01-14T12:00:00\",\"2050-01-14T13:00:00\",\"2050-01-14T14:00:00\",\"2050-01-14T15:00:00\",\"2050-01-14T16:00:00\",\"2050-01-14T17:00:00\",\"2050-01-14T18:00:00\",\"2050-01-14T19:00:00\",\"2050-01-14T20:00:00\",\"2050-01-14T21:00:00\",\"2050-01-14T22:00:00\",\"2050-01-14T23:00:00\",\"2050-01-15T00:00:00\",\"2050-01-15T01:00:00\",\"2050-01-15T02:00:00\",\"2050-01-15T03:00:00\",\"2050-01-15T04:00:00\",\"2050-01-15T05:00:00\",\"2050-01-15T06:00:00\",\"2050-01-15T07:00:00\",\"2050-01-15T08:00:00\",\"2050-01-15T09:00:00\",\"2050-01-15T10:00:00\",\"2050-01-15T11:00:00\",\"2050-01-15T12:00:00\",\"2050-01-15T13:00:00\",\"2050-01-15T14:00:00\",\"2050-01-15T15:00:00\",\"2050-01-15T16:00:00\",\"2050-01-15T17:00:00\",\"2050-01-15T18:00:00\",\"2050-01-15T19:00:00\",\"2050-01-15T20:00:00\",\"2050-01-15T21:00:00\",\"2050-01-15T22:00:00\",\"2050-01-15T23:00:00\",\"2050-01-16T00:00:00\",\"2050-01-16T01:00:00\",\"2050-01-16T02:00:00\",\"2050-01-16T03:00:00\",\"2050-01-16T04:00:00\",\"2050-01-16T05:00:00\",\"2050-01-16T06:00:00\",\"2050-01-16T07:00:00\",\"2050-01-16T08:00:00\",\"2050-01-16T09:00:00\",\"2050-01-16T10:00:00\",\"2050-01-16T11:00:00\",\"2050-01-16T12:00:00\",\"2050-01-16T13:00:00\",\"2050-01-16T14:00:00\",\"2050-01-16T15:00:00\",\"2050-01-16T16:00:00\",\"2050-01-16T17:00:00\",\"2050-01-16T18:00:00\",\"2050-01-16T19:00:00\",\"2050-01-16T20:00:00\",\"2050-01-16T21:00:00\",\"2050-01-16T22:00:00\",\"2050-01-16T23:00:00\",\"2050-01-17T00:00:00\",\"2050-01-17T01:00:00\",\"2050-01-17T02:00:00\",\"2050-01-17T03:00:00\",\"2050-01-17T04:00:00\",\"2050-01-17T05:00:00\",\"2050-01-17T06:00:00\",\"2050-01-17T07:00:00\",\"2050-01-17T08:00:00\",\"2050-01-17T09:00:00\",\"2050-01-17T10:00:00\",\"2050-01-17T11:00:00\",\"2050-01-17T12:00:00\",\"2050-01-17T13:00:00\",\"2050-01-17T14:00:00\",\"2050-01-17T15:00:00\",\"2050-01-17T16:00:00\",\"2050-01-17T17:00:00\",\"2050-01-17T18:00:00\",\"2050-01-17T19:00:00\",\"2050-01-17T20:00:00\",\"2050-01-17T21:00:00\",\"2050-01-17T22:00:00\",\"2050-01-17T23:00:00\",\"2050-01-18T00:00:00\",\"2050-01-18T01:00:00\",\"2050-01-18T02:00:00\",\"2050-01-18T03:00:00\",\"2050-01-18T04:00:00\",\"2050-01-18T05:00:00\",\"2050-01-18T06:00:00\",\"2050-01-18T07:00:00\",\"2050-01-18T08:00:00\",\"2050-01-18T09:00:00\",\"2050-01-18T10:00:00\",\"2050-01-18T11:00:00\",\"2050-01-18T12:00:00\",\"2050-01-18T13:00:00\",\"2050-01-18T14:00:00\",\"2050-01-18T15:00:00\",\"2050-01-18T16:00:00\",\"2050-01-18T17:00:00\",\"2050-01-18T18:00:00\",\"2050-01-18T19:00:00\",\"2050-01-18T20:00:00\",\"2050-01-18T21:00:00\",\"2050-01-18T22:00:00\",\"2050-01-18T23:00:00\",\"2050-01-19T00:00:00\",\"2050-01-19T01:00:00\",\"2050-01-19T02:00:00\",\"2050-01-19T03:00:00\",\"2050-01-19T04:00:00\",\"2050-01-19T05:00:00\",\"2050-01-19T06:00:00\",\"2050-01-19T07:00:00\",\"2050-01-19T08:00:00\",\"2050-01-19T09:00:00\",\"2050-01-19T10:00:00\",\"2050-01-19T11:00:00\",\"2050-01-19T12:00:00\",\"2050-01-19T13:00:00\",\"2050-01-19T14:00:00\",\"2050-01-19T15:00:00\",\"2050-01-19T16:00:00\",\"2050-01-19T17:00:00\",\"2050-01-19T18:00:00\",\"2050-01-19T19:00:00\",\"2050-01-19T20:00:00\",\"2050-01-19T21:00:00\",\"2050-01-19T22:00:00\",\"2050-01-19T23:00:00\",\"2050-01-20T00:00:00\",\"2050-01-20T01:00:00\",\"2050-01-20T02:00:00\",\"2050-01-20T03:00:00\",\"2050-01-20T04:00:00\",\"2050-01-20T05:00:00\",\"2050-01-20T06:00:00\",\"2050-01-20T07:00:00\",\"2050-01-20T08:00:00\",\"2050-01-20T09:00:00\",\"2050-01-20T10:00:00\",\"2050-01-20T11:00:00\",\"2050-01-20T12:00:00\",\"2050-01-20T13:00:00\",\"2050-01-20T14:00:00\",\"2050-01-20T15:00:00\",\"2050-01-20T16:00:00\",\"2050-01-20T17:00:00\",\"2050-01-20T18:00:00\",\"2050-01-20T19:00:00\",\"2050-01-20T20:00:00\",\"2050-01-20T21:00:00\",\"2050-01-20T22:00:00\",\"2050-01-20T23:00:00\"],\"y\":[0.0,0.0,0.0,0.0,0.0,0.0,0.0,0.0,0.0,0.0,0.0,0.0,0.0,0.0,0.0,0.0,0.0,0.0,0.0,0.0,0.0,0.0,0.0,0.0,0.0,0.0,0.0,0.0,0.0,0.0,0.0,0.0,0.0,0.0,0.0,0.0,0.0,0.0,0.0,0.0,0.0,0.0,0.0,0.0,0.0,0.0,0.0,0.0,0.0,0.0,0.0,0.0,0.0,0.0,0.0,0.0,0.0,0.0,0.0,0.0,0.0,0.0,0.0,0.0,0.0,0.0,0.0,0.0,0.0,0.0,0.0,0.0,0.0,0.0,0.0,0.0,0.0,0.0,0.0,0.0,0.0,0.0,0.0,0.0,0.0,0.0,0.0,0.0,0.0,0.0,0.0,0.0,0.0,0.0,0.0,0.0,0.0,0.0,0.0,0.0,0.0,0.0,0.0,0.0,0.0,0.0,0.0,0.0,0.0,0.0,0.0,0.0,0.0,0.0,0.0,0.0,0.0,0.0,0.0,0.0,0.0,0.0,0.0,0.0,0.0,0.0,0.0,0.0,0.0,0.0,0.0,0.0,0.0,0.0,0.0,0.0,0.0,0.0,0.0,0.0,0.0,0.0,0.0,0.0,0.0,0.0,0.0,0.0,0.0,0.0,0.0,0.0,0.0,0.0,0.0,0.0,0.0,0.0,0.0,0.0,0.0,0.0,0.0,0.0,0.0,0.0,0.0,0.0],\"type\":\"scatter\"},{\"line\":{\"color\":\"magenta\",\"width\":0},\"name\":\"Injections batteries\",\"stackgroup\":\"+\",\"x\":[\"2050-01-14T00:00:00\",\"2050-01-14T01:00:00\",\"2050-01-14T02:00:00\",\"2050-01-14T03:00:00\",\"2050-01-14T04:00:00\",\"2050-01-14T05:00:00\",\"2050-01-14T06:00:00\",\"2050-01-14T07:00:00\",\"2050-01-14T08:00:00\",\"2050-01-14T09:00:00\",\"2050-01-14T10:00:00\",\"2050-01-14T11:00:00\",\"2050-01-14T12:00:00\",\"2050-01-14T13:00:00\",\"2050-01-14T14:00:00\",\"2050-01-14T15:00:00\",\"2050-01-14T16:00:00\",\"2050-01-14T17:00:00\",\"2050-01-14T18:00:00\",\"2050-01-14T19:00:00\",\"2050-01-14T20:00:00\",\"2050-01-14T21:00:00\",\"2050-01-14T22:00:00\",\"2050-01-14T23:00:00\",\"2050-01-15T00:00:00\",\"2050-01-15T01:00:00\",\"2050-01-15T02:00:00\",\"2050-01-15T03:00:00\",\"2050-01-15T04:00:00\",\"2050-01-15T05:00:00\",\"2050-01-15T06:00:00\",\"2050-01-15T07:00:00\",\"2050-01-15T08:00:00\",\"2050-01-15T09:00:00\",\"2050-01-15T10:00:00\",\"2050-01-15T11:00:00\",\"2050-01-15T12:00:00\",\"2050-01-15T13:00:00\",\"2050-01-15T14:00:00\",\"2050-01-15T15:00:00\",\"2050-01-15T16:00:00\",\"2050-01-15T17:00:00\",\"2050-01-15T18:00:00\",\"2050-01-15T19:00:00\",\"2050-01-15T20:00:00\",\"2050-01-15T21:00:00\",\"2050-01-15T22:00:00\",\"2050-01-15T23:00:00\",\"2050-01-16T00:00:00\",\"2050-01-16T01:00:00\",\"2050-01-16T02:00:00\",\"2050-01-16T03:00:00\",\"2050-01-16T04:00:00\",\"2050-01-16T05:00:00\",\"2050-01-16T06:00:00\",\"2050-01-16T07:00:00\",\"2050-01-16T08:00:00\",\"2050-01-16T09:00:00\",\"2050-01-16T10:00:00\",\"2050-01-16T11:00:00\",\"2050-01-16T12:00:00\",\"2050-01-16T13:00:00\",\"2050-01-16T14:00:00\",\"2050-01-16T15:00:00\",\"2050-01-16T16:00:00\",\"2050-01-16T17:00:00\",\"2050-01-16T18:00:00\",\"2050-01-16T19:00:00\",\"2050-01-16T20:00:00\",\"2050-01-16T21:00:00\",\"2050-01-16T22:00:00\",\"2050-01-16T23:00:00\",\"2050-01-17T00:00:00\",\"2050-01-17T01:00:00\",\"2050-01-17T02:00:00\",\"2050-01-17T03:00:00\",\"2050-01-17T04:00:00\",\"2050-01-17T05:00:00\",\"2050-01-17T06:00:00\",\"2050-01-17T07:00:00\",\"2050-01-17T08:00:00\",\"2050-01-17T09:00:00\",\"2050-01-17T10:00:00\",\"2050-01-17T11:00:00\",\"2050-01-17T12:00:00\",\"2050-01-17T13:00:00\",\"2050-01-17T14:00:00\",\"2050-01-17T15:00:00\",\"2050-01-17T16:00:00\",\"2050-01-17T17:00:00\",\"2050-01-17T18:00:00\",\"2050-01-17T19:00:00\",\"2050-01-17T20:00:00\",\"2050-01-17T21:00:00\",\"2050-01-17T22:00:00\",\"2050-01-17T23:00:00\",\"2050-01-18T00:00:00\",\"2050-01-18T01:00:00\",\"2050-01-18T02:00:00\",\"2050-01-18T03:00:00\",\"2050-01-18T04:00:00\",\"2050-01-18T05:00:00\",\"2050-01-18T06:00:00\",\"2050-01-18T07:00:00\",\"2050-01-18T08:00:00\",\"2050-01-18T09:00:00\",\"2050-01-18T10:00:00\",\"2050-01-18T11:00:00\",\"2050-01-18T12:00:00\",\"2050-01-18T13:00:00\",\"2050-01-18T14:00:00\",\"2050-01-18T15:00:00\",\"2050-01-18T16:00:00\",\"2050-01-18T17:00:00\",\"2050-01-18T18:00:00\",\"2050-01-18T19:00:00\",\"2050-01-18T20:00:00\",\"2050-01-18T21:00:00\",\"2050-01-18T22:00:00\",\"2050-01-18T23:00:00\",\"2050-01-19T00:00:00\",\"2050-01-19T01:00:00\",\"2050-01-19T02:00:00\",\"2050-01-19T03:00:00\",\"2050-01-19T04:00:00\",\"2050-01-19T05:00:00\",\"2050-01-19T06:00:00\",\"2050-01-19T07:00:00\",\"2050-01-19T08:00:00\",\"2050-01-19T09:00:00\",\"2050-01-19T10:00:00\",\"2050-01-19T11:00:00\",\"2050-01-19T12:00:00\",\"2050-01-19T13:00:00\",\"2050-01-19T14:00:00\",\"2050-01-19T15:00:00\",\"2050-01-19T16:00:00\",\"2050-01-19T17:00:00\",\"2050-01-19T18:00:00\",\"2050-01-19T19:00:00\",\"2050-01-19T20:00:00\",\"2050-01-19T21:00:00\",\"2050-01-19T22:00:00\",\"2050-01-19T23:00:00\",\"2050-01-20T00:00:00\",\"2050-01-20T01:00:00\",\"2050-01-20T02:00:00\",\"2050-01-20T03:00:00\",\"2050-01-20T04:00:00\",\"2050-01-20T05:00:00\",\"2050-01-20T06:00:00\",\"2050-01-20T07:00:00\",\"2050-01-20T08:00:00\",\"2050-01-20T09:00:00\",\"2050-01-20T10:00:00\",\"2050-01-20T11:00:00\",\"2050-01-20T12:00:00\",\"2050-01-20T13:00:00\",\"2050-01-20T14:00:00\",\"2050-01-20T15:00:00\",\"2050-01-20T16:00:00\",\"2050-01-20T17:00:00\",\"2050-01-20T18:00:00\",\"2050-01-20T19:00:00\",\"2050-01-20T20:00:00\",\"2050-01-20T21:00:00\",\"2050-01-20T22:00:00\",\"2050-01-20T23:00:00\"],\"y\":[0.0,0.0,0.0,0.0,0.0,0.0,0.0,0.0,0.0,0.09931900505007345,0.0,0.0,0.0,0.0,0.0,0.0,0.0,0.0,0.11004875905825312,0.0,0.0,0.0,0.0,0.0,0.0,0.0,0.0,0.0,0.0,0.0,0.0,0.0,0.0,0.0,0.0,0.0,0.0,0.0,0.0,0.0,0.0,0.0,0.11004875905825312,0.0,0.0,0.0,0.0,0.0,0.0,0.0,0.0,0.0,0.0,0.0,0.0,0.0,0.0,0.0,0.0,0.0,0.0,0.0,0.0,0.0,0.0,0.0,0.0,0.0,0.0,0.0,0.0,0.0,0.0,0.0,0.0,0.0,0.0,0.0,0.0,0.0,0.0,0.0,0.0,0.0,0.0,0.0,0.0,0.0,0.0,0.0,0.0,0.0,0.0,0.0,0.0,0.0,0.0,0.0,0.0,0.0,0.0,0.0,0.0,0.0,0.11004875905825312,0.0,0.0,0.0,0.0,0.0,0.0,0.0,0.0,0.0,0.11004875905825312,0.0,0.0,0.0,0.0,0.0,0.0,0.0,0.0,0.0,0.0,0.0,0.0,0.0,0.0,0.0,0.0,0.0,0.0,0.0,0.0,0.0,0.0,0.0,0.11004875905825312,0.0,0.0,0.0,0.0,0.0,0.0,0.0,0.0,0.0,0.0,0.0,0.0,0.0,0.0,0.0,0.0,0.0,0.0,0.09931900505007345,0.0,0.0,0.0,0.0,0.0,0.0,0.0,0.0,0.0,0.0],\"type\":\"scatter\"},{\"line\":{\"color\":\"navy\",\"width\":0},\"name\":\"Turbinage STEP\",\"stackgroup\":\"+\",\"x\":[\"2050-01-14T00:00:00\",\"2050-01-14T01:00:00\",\"2050-01-14T02:00:00\",\"2050-01-14T03:00:00\",\"2050-01-14T04:00:00\",\"2050-01-14T05:00:00\",\"2050-01-14T06:00:00\",\"2050-01-14T07:00:00\",\"2050-01-14T08:00:00\",\"2050-01-14T09:00:00\",\"2050-01-14T10:00:00\",\"2050-01-14T11:00:00\",\"2050-01-14T12:00:00\",\"2050-01-14T13:00:00\",\"2050-01-14T14:00:00\",\"2050-01-14T15:00:00\",\"2050-01-14T16:00:00\",\"2050-01-14T17:00:00\",\"2050-01-14T18:00:00\",\"2050-01-14T19:00:00\",\"2050-01-14T20:00:00\",\"2050-01-14T21:00:00\",\"2050-01-14T22:00:00\",\"2050-01-14T23:00:00\",\"2050-01-15T00:00:00\",\"2050-01-15T01:00:00\",\"2050-01-15T02:00:00\",\"2050-01-15T03:00:00\",\"2050-01-15T04:00:00\",\"2050-01-15T05:00:00\",\"2050-01-15T06:00:00\",\"2050-01-15T07:00:00\",\"2050-01-15T08:00:00\",\"2050-01-15T09:00:00\",\"2050-01-15T10:00:00\",\"2050-01-15T11:00:00\",\"2050-01-15T12:00:00\",\"2050-01-15T13:00:00\",\"2050-01-15T14:00:00\",\"2050-01-15T15:00:00\",\"2050-01-15T16:00:00\",\"2050-01-15T17:00:00\",\"2050-01-15T18:00:00\",\"2050-01-15T19:00:00\",\"2050-01-15T20:00:00\",\"2050-01-15T21:00:00\",\"2050-01-15T22:00:00\",\"2050-01-15T23:00:00\",\"2050-01-16T00:00:00\",\"2050-01-16T01:00:00\",\"2050-01-16T02:00:00\",\"2050-01-16T03:00:00\",\"2050-01-16T04:00:00\",\"2050-01-16T05:00:00\",\"2050-01-16T06:00:00\",\"2050-01-16T07:00:00\",\"2050-01-16T08:00:00\",\"2050-01-16T09:00:00\",\"2050-01-16T10:00:00\",\"2050-01-16T11:00:00\",\"2050-01-16T12:00:00\",\"2050-01-16T13:00:00\",\"2050-01-16T14:00:00\",\"2050-01-16T15:00:00\",\"2050-01-16T16:00:00\",\"2050-01-16T17:00:00\",\"2050-01-16T18:00:00\",\"2050-01-16T19:00:00\",\"2050-01-16T20:00:00\",\"2050-01-16T21:00:00\",\"2050-01-16T22:00:00\",\"2050-01-16T23:00:00\",\"2050-01-17T00:00:00\",\"2050-01-17T01:00:00\",\"2050-01-17T02:00:00\",\"2050-01-17T03:00:00\",\"2050-01-17T04:00:00\",\"2050-01-17T05:00:00\",\"2050-01-17T06:00:00\",\"2050-01-17T07:00:00\",\"2050-01-17T08:00:00\",\"2050-01-17T09:00:00\",\"2050-01-17T10:00:00\",\"2050-01-17T11:00:00\",\"2050-01-17T12:00:00\",\"2050-01-17T13:00:00\",\"2050-01-17T14:00:00\",\"2050-01-17T15:00:00\",\"2050-01-17T16:00:00\",\"2050-01-17T17:00:00\",\"2050-01-17T18:00:00\",\"2050-01-17T19:00:00\",\"2050-01-17T20:00:00\",\"2050-01-17T21:00:00\",\"2050-01-17T22:00:00\",\"2050-01-17T23:00:00\",\"2050-01-18T00:00:00\",\"2050-01-18T01:00:00\",\"2050-01-18T02:00:00\",\"2050-01-18T03:00:00\",\"2050-01-18T04:00:00\",\"2050-01-18T05:00:00\",\"2050-01-18T06:00:00\",\"2050-01-18T07:00:00\",\"2050-01-18T08:00:00\",\"2050-01-18T09:00:00\",\"2050-01-18T10:00:00\",\"2050-01-18T11:00:00\",\"2050-01-18T12:00:00\",\"2050-01-18T13:00:00\",\"2050-01-18T14:00:00\",\"2050-01-18T15:00:00\",\"2050-01-18T16:00:00\",\"2050-01-18T17:00:00\",\"2050-01-18T18:00:00\",\"2050-01-18T19:00:00\",\"2050-01-18T20:00:00\",\"2050-01-18T21:00:00\",\"2050-01-18T22:00:00\",\"2050-01-18T23:00:00\",\"2050-01-19T00:00:00\",\"2050-01-19T01:00:00\",\"2050-01-19T02:00:00\",\"2050-01-19T03:00:00\",\"2050-01-19T04:00:00\",\"2050-01-19T05:00:00\",\"2050-01-19T06:00:00\",\"2050-01-19T07:00:00\",\"2050-01-19T08:00:00\",\"2050-01-19T09:00:00\",\"2050-01-19T10:00:00\",\"2050-01-19T11:00:00\",\"2050-01-19T12:00:00\",\"2050-01-19T13:00:00\",\"2050-01-19T14:00:00\",\"2050-01-19T15:00:00\",\"2050-01-19T16:00:00\",\"2050-01-19T17:00:00\",\"2050-01-19T18:00:00\",\"2050-01-19T19:00:00\",\"2050-01-19T20:00:00\",\"2050-01-19T21:00:00\",\"2050-01-19T22:00:00\",\"2050-01-19T23:00:00\",\"2050-01-20T00:00:00\",\"2050-01-20T01:00:00\",\"2050-01-20T02:00:00\",\"2050-01-20T03:00:00\",\"2050-01-20T04:00:00\",\"2050-01-20T05:00:00\",\"2050-01-20T06:00:00\",\"2050-01-20T07:00:00\",\"2050-01-20T08:00:00\",\"2050-01-20T09:00:00\",\"2050-01-20T10:00:00\",\"2050-01-20T11:00:00\",\"2050-01-20T12:00:00\",\"2050-01-20T13:00:00\",\"2050-01-20T14:00:00\",\"2050-01-20T15:00:00\",\"2050-01-20T16:00:00\",\"2050-01-20T17:00:00\",\"2050-01-20T18:00:00\",\"2050-01-20T19:00:00\",\"2050-01-20T20:00:00\",\"2050-01-20T21:00:00\",\"2050-01-20T22:00:00\",\"2050-01-20T23:00:00\"],\"y\":[0.0,0.0,0.0,0.0,0.0,0.0,0.0,0.0,0.0,4.089690000000001,0.0,0.0,0.0,0.0,0.0,0.0,0.0,0.0,0.0,0.0,0.0,0.0,0.0,0.0,0.0,0.0,0.0,0.0,0.0,0.0,0.0,0.0,0.0,0.0,0.0,0.0,0.0,0.0,0.0,0.0,0.0,0.0,3.945376354535399,0.0,0.0,0.0,0.0,0.0,0.0,0.0,0.0,0.0,0.0,0.0,0.0,0.0,0.0,0.0,0.0,0.0,0.0,0.0,0.0,0.0,0.0,0.0,0.0,0.0,0.0,0.0,0.0,0.0,0.0,0.0,0.0,0.0,0.0,0.0,0.0,0.0,0.0,0.0,0.0,0.0,0.0,0.0,0.0,0.0,0.0,0.0,0.0,0.0,0.0,0.0,0.0,0.0,0.0,0.0,0.0,0.0,0.0,0.0,0.0,0.0,5.049,0.0,0.0,0.0,0.0,0.0,0.0,0.0,0.0,0.0,5.049,0.0,0.0,0.0,0.0,0.0,0.0,0.0,0.0,0.0,0.0,0.0,0.0,0.0,0.0,0.0,0.0,0.0,0.0,0.0,0.0,0.0,1.6970475106603227,5.049,5.049,5.049,2.385237907339957,0.0,0.0,0.0,0.0,0.0,0.0,0.0,0.0,0.0,0.0,0.0,0.0,0.0,0.8043088100329708,0.0,4.439108390795994,5.049,1.6231808832784997,0.0,5.049,0.0,5.049,0.5598719673441344,0.0,0.0,0.0,0.0],\"type\":\"scatter\"},{\"line\":{\"color\":\"purple\",\"width\":0},\"name\":\"Hydrogen-to-power\",\"stackgroup\":\"+\",\"x\":[\"2050-01-14T00:00:00\",\"2050-01-14T01:00:00\",\"2050-01-14T02:00:00\",\"2050-01-14T03:00:00\",\"2050-01-14T04:00:00\",\"2050-01-14T05:00:00\",\"2050-01-14T06:00:00\",\"2050-01-14T07:00:00\",\"2050-01-14T08:00:00\",\"2050-01-14T09:00:00\",\"2050-01-14T10:00:00\",\"2050-01-14T11:00:00\",\"2050-01-14T12:00:00\",\"2050-01-14T13:00:00\",\"2050-01-14T14:00:00\",\"2050-01-14T15:00:00\",\"2050-01-14T16:00:00\",\"2050-01-14T17:00:00\",\"2050-01-14T18:00:00\",\"2050-01-14T19:00:00\",\"2050-01-14T20:00:00\",\"2050-01-14T21:00:00\",\"2050-01-14T22:00:00\",\"2050-01-14T23:00:00\",\"2050-01-15T00:00:00\",\"2050-01-15T01:00:00\",\"2050-01-15T02:00:00\",\"2050-01-15T03:00:00\",\"2050-01-15T04:00:00\",\"2050-01-15T05:00:00\",\"2050-01-15T06:00:00\",\"2050-01-15T07:00:00\",\"2050-01-15T08:00:00\",\"2050-01-15T09:00:00\",\"2050-01-15T10:00:00\",\"2050-01-15T11:00:00\",\"2050-01-15T12:00:00\",\"2050-01-15T13:00:00\",\"2050-01-15T14:00:00\",\"2050-01-15T15:00:00\",\"2050-01-15T16:00:00\",\"2050-01-15T17:00:00\",\"2050-01-15T18:00:00\",\"2050-01-15T19:00:00\",\"2050-01-15T20:00:00\",\"2050-01-15T21:00:00\",\"2050-01-15T22:00:00\",\"2050-01-15T23:00:00\",\"2050-01-16T00:00:00\",\"2050-01-16T01:00:00\",\"2050-01-16T02:00:00\",\"2050-01-16T03:00:00\",\"2050-01-16T04:00:00\",\"2050-01-16T05:00:00\",\"2050-01-16T06:00:00\",\"2050-01-16T07:00:00\",\"2050-01-16T08:00:00\",\"2050-01-16T09:00:00\",\"2050-01-16T10:00:00\",\"2050-01-16T11:00:00\",\"2050-01-16T12:00:00\",\"2050-01-16T13:00:00\",\"2050-01-16T14:00:00\",\"2050-01-16T15:00:00\",\"2050-01-16T16:00:00\",\"2050-01-16T17:00:00\",\"2050-01-16T18:00:00\",\"2050-01-16T19:00:00\",\"2050-01-16T20:00:00\",\"2050-01-16T21:00:00\",\"2050-01-16T22:00:00\",\"2050-01-16T23:00:00\",\"2050-01-17T00:00:00\",\"2050-01-17T01:00:00\",\"2050-01-17T02:00:00\",\"2050-01-17T03:00:00\",\"2050-01-17T04:00:00\",\"2050-01-17T05:00:00\",\"2050-01-17T06:00:00\",\"2050-01-17T07:00:00\",\"2050-01-17T08:00:00\",\"2050-01-17T09:00:00\",\"2050-01-17T10:00:00\",\"2050-01-17T11:00:00\",\"2050-01-17T12:00:00\",\"2050-01-17T13:00:00\",\"2050-01-17T14:00:00\",\"2050-01-17T15:00:00\",\"2050-01-17T16:00:00\",\"2050-01-17T17:00:00\",\"2050-01-17T18:00:00\",\"2050-01-17T19:00:00\",\"2050-01-17T20:00:00\",\"2050-01-17T21:00:00\",\"2050-01-17T22:00:00\",\"2050-01-17T23:00:00\",\"2050-01-18T00:00:00\",\"2050-01-18T01:00:00\",\"2050-01-18T02:00:00\",\"2050-01-18T03:00:00\",\"2050-01-18T04:00:00\",\"2050-01-18T05:00:00\",\"2050-01-18T06:00:00\",\"2050-01-18T07:00:00\",\"2050-01-18T08:00:00\",\"2050-01-18T09:00:00\",\"2050-01-18T10:00:00\",\"2050-01-18T11:00:00\",\"2050-01-18T12:00:00\",\"2050-01-18T13:00:00\",\"2050-01-18T14:00:00\",\"2050-01-18T15:00:00\",\"2050-01-18T16:00:00\",\"2050-01-18T17:00:00\",\"2050-01-18T18:00:00\",\"2050-01-18T19:00:00\",\"2050-01-18T20:00:00\",\"2050-01-18T21:00:00\",\"2050-01-18T22:00:00\",\"2050-01-18T23:00:00\",\"2050-01-19T00:00:00\",\"2050-01-19T01:00:00\",\"2050-01-19T02:00:00\",\"2050-01-19T03:00:00\",\"2050-01-19T04:00:00\",\"2050-01-19T05:00:00\",\"2050-01-19T06:00:00\",\"2050-01-19T07:00:00\",\"2050-01-19T08:00:00\",\"2050-01-19T09:00:00\",\"2050-01-19T10:00:00\",\"2050-01-19T11:00:00\",\"2050-01-19T12:00:00\",\"2050-01-19T13:00:00\",\"2050-01-19T14:00:00\",\"2050-01-19T15:00:00\",\"2050-01-19T16:00:00\",\"2050-01-19T17:00:00\",\"2050-01-19T18:00:00\",\"2050-01-19T19:00:00\",\"2050-01-19T20:00:00\",\"2050-01-19T21:00:00\",\"2050-01-19T22:00:00\",\"2050-01-19T23:00:00\",\"2050-01-20T00:00:00\",\"2050-01-20T01:00:00\",\"2050-01-20T02:00:00\",\"2050-01-20T03:00:00\",\"2050-01-20T04:00:00\",\"2050-01-20T05:00:00\",\"2050-01-20T06:00:00\",\"2050-01-20T07:00:00\",\"2050-01-20T08:00:00\",\"2050-01-20T09:00:00\",\"2050-01-20T10:00:00\",\"2050-01-20T11:00:00\",\"2050-01-20T12:00:00\",\"2050-01-20T13:00:00\",\"2050-01-20T14:00:00\",\"2050-01-20T15:00:00\",\"2050-01-20T16:00:00\",\"2050-01-20T17:00:00\",\"2050-01-20T18:00:00\",\"2050-01-20T19:00:00\",\"2050-01-20T20:00:00\",\"2050-01-20T21:00:00\",\"2050-01-20T22:00:00\",\"2050-01-20T23:00:00\"],\"y\":[0.0,0.0,0.0,0.0,0.0,0.0,0.0,0.0,0.0,0.0,0.0,0.0,0.0,0.0,0.0,0.0,0.0,0.0,0.0,0.0,0.0,0.0,0.0,0.0,0.0,0.0,0.0,0.0,0.0,0.0,0.0,0.0,0.0,0.0,0.0,0.0,0.0,0.0,0.0,0.0,0.0,0.0,0.0,0.0,0.0,0.0,0.0,0.0,0.0,0.0,0.0,0.0,0.0,0.0,0.0,0.0,0.0,0.0,0.0,0.0,0.0,0.0,0.0,0.0,0.0,0.0,0.0,0.0,0.0,0.0,0.0,0.0,0.0,0.0,0.0,0.0,0.0,0.0,0.0,0.0,0.0,0.0,0.0,0.0,0.0,0.0,0.0,0.0,0.0,0.0,0.0,0.0,0.0,0.0,0.0,0.0,0.0,0.0,0.0,0.0,0.0,0.0,0.0,0.0,0.0,0.0,0.0,0.0,0.0,0.0,0.0,0.0,0.0,0.0,0.0,0.0,0.0,0.0,0.0,0.0,0.0,0.0,0.0,0.0,0.0,0.0,0.0,0.0,0.0,0.0,0.0,0.0,0.0,0.0,0.0,0.0,0.0,0.0,0.0,0.0,0.0,0.0,0.0,0.0,0.0,0.0,0.0,0.0,0.0,0.0,0.0,0.0,0.0,0.0,0.0,0.0,0.0,0.0,0.0,0.0,0.0,0.0,0.0,0.0,0.0,0.0,0.0,0.0],\"type\":\"scatter\"},{\"line\":{\"color\":\"gray\",\"width\":0},\"name\":\"Imports\",\"stackgroup\":\"+\",\"x\":[\"2050-01-14T00:00:00\",\"2050-01-14T01:00:00\",\"2050-01-14T02:00:00\",\"2050-01-14T03:00:00\",\"2050-01-14T04:00:00\",\"2050-01-14T05:00:00\",\"2050-01-14T06:00:00\",\"2050-01-14T07:00:00\",\"2050-01-14T08:00:00\",\"2050-01-14T09:00:00\",\"2050-01-14T10:00:00\",\"2050-01-14T11:00:00\",\"2050-01-14T12:00:00\",\"2050-01-14T13:00:00\",\"2050-01-14T14:00:00\",\"2050-01-14T15:00:00\",\"2050-01-14T16:00:00\",\"2050-01-14T17:00:00\",\"2050-01-14T18:00:00\",\"2050-01-14T19:00:00\",\"2050-01-14T20:00:00\",\"2050-01-14T21:00:00\",\"2050-01-14T22:00:00\",\"2050-01-14T23:00:00\",\"2050-01-15T00:00:00\",\"2050-01-15T01:00:00\",\"2050-01-15T02:00:00\",\"2050-01-15T03:00:00\",\"2050-01-15T04:00:00\",\"2050-01-15T05:00:00\",\"2050-01-15T06:00:00\",\"2050-01-15T07:00:00\",\"2050-01-15T08:00:00\",\"2050-01-15T09:00:00\",\"2050-01-15T10:00:00\",\"2050-01-15T11:00:00\",\"2050-01-15T12:00:00\",\"2050-01-15T13:00:00\",\"2050-01-15T14:00:00\",\"2050-01-15T15:00:00\",\"2050-01-15T16:00:00\",\"2050-01-15T17:00:00\",\"2050-01-15T18:00:00\",\"2050-01-15T19:00:00\",\"2050-01-15T20:00:00\",\"2050-01-15T21:00:00\",\"2050-01-15T22:00:00\",\"2050-01-15T23:00:00\",\"2050-01-16T00:00:00\",\"2050-01-16T01:00:00\",\"2050-01-16T02:00:00\",\"2050-01-16T03:00:00\",\"2050-01-16T04:00:00\",\"2050-01-16T05:00:00\",\"2050-01-16T06:00:00\",\"2050-01-16T07:00:00\",\"2050-01-16T08:00:00\",\"2050-01-16T09:00:00\",\"2050-01-16T10:00:00\",\"2050-01-16T11:00:00\",\"2050-01-16T12:00:00\",\"2050-01-16T13:00:00\",\"2050-01-16T14:00:00\",\"2050-01-16T15:00:00\",\"2050-01-16T16:00:00\",\"2050-01-16T17:00:00\",\"2050-01-16T18:00:00\",\"2050-01-16T19:00:00\",\"2050-01-16T20:00:00\",\"2050-01-16T21:00:00\",\"2050-01-16T22:00:00\",\"2050-01-16T23:00:00\",\"2050-01-17T00:00:00\",\"2050-01-17T01:00:00\",\"2050-01-17T02:00:00\",\"2050-01-17T03:00:00\",\"2050-01-17T04:00:00\",\"2050-01-17T05:00:00\",\"2050-01-17T06:00:00\",\"2050-01-17T07:00:00\",\"2050-01-17T08:00:00\",\"2050-01-17T09:00:00\",\"2050-01-17T10:00:00\",\"2050-01-17T11:00:00\",\"2050-01-17T12:00:00\",\"2050-01-17T13:00:00\",\"2050-01-17T14:00:00\",\"2050-01-17T15:00:00\",\"2050-01-17T16:00:00\",\"2050-01-17T17:00:00\",\"2050-01-17T18:00:00\",\"2050-01-17T19:00:00\",\"2050-01-17T20:00:00\",\"2050-01-17T21:00:00\",\"2050-01-17T22:00:00\",\"2050-01-17T23:00:00\",\"2050-01-18T00:00:00\",\"2050-01-18T01:00:00\",\"2050-01-18T02:00:00\",\"2050-01-18T03:00:00\",\"2050-01-18T04:00:00\",\"2050-01-18T05:00:00\",\"2050-01-18T06:00:00\",\"2050-01-18T07:00:00\",\"2050-01-18T08:00:00\",\"2050-01-18T09:00:00\",\"2050-01-18T10:00:00\",\"2050-01-18T11:00:00\",\"2050-01-18T12:00:00\",\"2050-01-18T13:00:00\",\"2050-01-18T14:00:00\",\"2050-01-18T15:00:00\",\"2050-01-18T16:00:00\",\"2050-01-18T17:00:00\",\"2050-01-18T18:00:00\",\"2050-01-18T19:00:00\",\"2050-01-18T20:00:00\",\"2050-01-18T21:00:00\",\"2050-01-18T22:00:00\",\"2050-01-18T23:00:00\",\"2050-01-19T00:00:00\",\"2050-01-19T01:00:00\",\"2050-01-19T02:00:00\",\"2050-01-19T03:00:00\",\"2050-01-19T04:00:00\",\"2050-01-19T05:00:00\",\"2050-01-19T06:00:00\",\"2050-01-19T07:00:00\",\"2050-01-19T08:00:00\",\"2050-01-19T09:00:00\",\"2050-01-19T10:00:00\",\"2050-01-19T11:00:00\",\"2050-01-19T12:00:00\",\"2050-01-19T13:00:00\",\"2050-01-19T14:00:00\",\"2050-01-19T15:00:00\",\"2050-01-19T16:00:00\",\"2050-01-19T17:00:00\",\"2050-01-19T18:00:00\",\"2050-01-19T19:00:00\",\"2050-01-19T20:00:00\",\"2050-01-19T21:00:00\",\"2050-01-19T22:00:00\",\"2050-01-19T23:00:00\",\"2050-01-20T00:00:00\",\"2050-01-20T01:00:00\",\"2050-01-20T02:00:00\",\"2050-01-20T03:00:00\",\"2050-01-20T04:00:00\",\"2050-01-20T05:00:00\",\"2050-01-20T06:00:00\",\"2050-01-20T07:00:00\",\"2050-01-20T08:00:00\",\"2050-01-20T09:00:00\",\"2050-01-20T10:00:00\",\"2050-01-20T11:00:00\",\"2050-01-20T12:00:00\",\"2050-01-20T13:00:00\",\"2050-01-20T14:00:00\",\"2050-01-20T15:00:00\",\"2050-01-20T16:00:00\",\"2050-01-20T17:00:00\",\"2050-01-20T18:00:00\",\"2050-01-20T19:00:00\",\"2050-01-20T20:00:00\",\"2050-01-20T21:00:00\",\"2050-01-20T22:00:00\",\"2050-01-20T23:00:00\"],\"y\":[0.12467188546791476,0.0,0.0,0.0,0.0,0.0,0.0,0.0,0.0,0.0,0.0,0.0,10.316026398063368,9.241,9.241,9.241,9.241,1.0275509160112561,7.383324326022023,9.241,6.551831653909896,5.711532555844889,7.273973752366208,9.241,9.241,9.241,9.241,9.241,9.241,9.241,4.745369692603197,0.10738976316876324,6.569678541005431,5.545862486737036,17.027732420730754,24.99238593976225,22.23664174915306,23.347870923776014,12.519193603715813,10.163919802575036,14.714206493779333,10.872286856866111,6.593575951792063,7.154569234808027,5.133052780171412,0.8216873393656943,0.0,1.439630806742136,15.164407342845184,9.241,17.946967654769413,19.5175322237597,19.62181991988516,12.27113343081533,18.775912459790955,17.283051868484147,16.1791706019395,20.431566887544346,25.99904051629226,20.651870963045504,18.585761577903455,20.89350226365102,17.18616299449405,12.708847621486603,12.893549493194216,4.940899146023119,0.0,4.291973743039248,6.646728563446006,4.078223813486595,9.241,9.513637608124649,9.241,9.241,11.856041534389522,9.241,9.241,9.241,9.241,8.31038371944334,10.404179798116418,12.028173222319644,19.425321780059072,13.639629401444385,11.557532666419178,14.717841933204017,10.20621885563509,12.358229852945477,14.573994344907328,0.5063659281180081,0.0,1.6655954243481665,4.363,4.363,4.363,0.0,0.0,0.0,1.36474106883921,0.0,0.0,1.897087618997337,0.0,1.036873522589116,2.691967698549536,3.610192327112933,0.0,0.0,4.091,4.091,4.091,0.0,0.0,0.0,0.0,0.0,0.0,0.0,0.0,0.0,0.0,0.0,0.0,2.3604743057139275,0.0,0.0,0.0,0.0,0.0,3.2245839152865137,6.671308248521325,0.7937830806329202,0.0,0.0,0.0,0.0,0.0,0.0,0.0,8.887894132081714,0.0,0.0,0.0,0.0,0.0,0.0,0.0,0.0,0.0,0.0,0.0,0.0,0.0,2.908203383039853,10.718296157239372,4.555128823044877,2.491864495160421,10.020916668879087,5.6516356264212995,0.0,0.0,0.0,0.0,0.0,0.0,0.0,0.0,0.0],\"type\":\"scatter\"},{\"line\":{\"color\":\"magenta\",\"width\":0},\"name\":\"Soutirage batteries\",\"stackgroup\":\"-\",\"x\":[\"2050-01-14T00:00:00\",\"2050-01-14T01:00:00\",\"2050-01-14T02:00:00\",\"2050-01-14T03:00:00\",\"2050-01-14T04:00:00\",\"2050-01-14T05:00:00\",\"2050-01-14T06:00:00\",\"2050-01-14T07:00:00\",\"2050-01-14T08:00:00\",\"2050-01-14T09:00:00\",\"2050-01-14T10:00:00\",\"2050-01-14T11:00:00\",\"2050-01-14T12:00:00\",\"2050-01-14T13:00:00\",\"2050-01-14T14:00:00\",\"2050-01-14T15:00:00\",\"2050-01-14T16:00:00\",\"2050-01-14T17:00:00\",\"2050-01-14T18:00:00\",\"2050-01-14T19:00:00\",\"2050-01-14T20:00:00\",\"2050-01-14T21:00:00\",\"2050-01-14T22:00:00\",\"2050-01-14T23:00:00\",\"2050-01-15T00:00:00\",\"2050-01-15T01:00:00\",\"2050-01-15T02:00:00\",\"2050-01-15T03:00:00\",\"2050-01-15T04:00:00\",\"2050-01-15T05:00:00\",\"2050-01-15T06:00:00\",\"2050-01-15T07:00:00\",\"2050-01-15T08:00:00\",\"2050-01-15T09:00:00\",\"2050-01-15T10:00:00\",\"2050-01-15T11:00:00\",\"2050-01-15T12:00:00\",\"2050-01-15T13:00:00\",\"2050-01-15T14:00:00\",\"2050-01-15T15:00:00\",\"2050-01-15T16:00:00\",\"2050-01-15T17:00:00\",\"2050-01-15T18:00:00\",\"2050-01-15T19:00:00\",\"2050-01-15T20:00:00\",\"2050-01-15T21:00:00\",\"2050-01-15T22:00:00\",\"2050-01-15T23:00:00\",\"2050-01-16T00:00:00\",\"2050-01-16T01:00:00\",\"2050-01-16T02:00:00\",\"2050-01-16T03:00:00\",\"2050-01-16T04:00:00\",\"2050-01-16T05:00:00\",\"2050-01-16T06:00:00\",\"2050-01-16T07:00:00\",\"2050-01-16T08:00:00\",\"2050-01-16T09:00:00\",\"2050-01-16T10:00:00\",\"2050-01-16T11:00:00\",\"2050-01-16T12:00:00\",\"2050-01-16T13:00:00\",\"2050-01-16T14:00:00\",\"2050-01-16T15:00:00\",\"2050-01-16T16:00:00\",\"2050-01-16T17:00:00\",\"2050-01-16T18:00:00\",\"2050-01-16T19:00:00\",\"2050-01-16T20:00:00\",\"2050-01-16T21:00:00\",\"2050-01-16T22:00:00\",\"2050-01-16T23:00:00\",\"2050-01-17T00:00:00\",\"2050-01-17T01:00:00\",\"2050-01-17T02:00:00\",\"2050-01-17T03:00:00\",\"2050-01-17T04:00:00\",\"2050-01-17T05:00:00\",\"2050-01-17T06:00:00\",\"2050-01-17T07:00:00\",\"2050-01-17T08:00:00\",\"2050-01-17T09:00:00\",\"2050-01-17T10:00:00\",\"2050-01-17T11:00:00\",\"2050-01-17T12:00:00\",\"2050-01-17T13:00:00\",\"2050-01-17T14:00:00\",\"2050-01-17T15:00:00\",\"2050-01-17T16:00:00\",\"2050-01-17T17:00:00\",\"2050-01-17T18:00:00\",\"2050-01-17T19:00:00\",\"2050-01-17T20:00:00\",\"2050-01-17T21:00:00\",\"2050-01-17T22:00:00\",\"2050-01-17T23:00:00\",\"2050-01-18T00:00:00\",\"2050-01-18T01:00:00\",\"2050-01-18T02:00:00\",\"2050-01-18T03:00:00\",\"2050-01-18T04:00:00\",\"2050-01-18T05:00:00\",\"2050-01-18T06:00:00\",\"2050-01-18T07:00:00\",\"2050-01-18T08:00:00\",\"2050-01-18T09:00:00\",\"2050-01-18T10:00:00\",\"2050-01-18T11:00:00\",\"2050-01-18T12:00:00\",\"2050-01-18T13:00:00\",\"2050-01-18T14:00:00\",\"2050-01-18T15:00:00\",\"2050-01-18T16:00:00\",\"2050-01-18T17:00:00\",\"2050-01-18T18:00:00\",\"2050-01-18T19:00:00\",\"2050-01-18T20:00:00\",\"2050-01-18T21:00:00\",\"2050-01-18T22:00:00\",\"2050-01-18T23:00:00\",\"2050-01-19T00:00:00\",\"2050-01-19T01:00:00\",\"2050-01-19T02:00:00\",\"2050-01-19T03:00:00\",\"2050-01-19T04:00:00\",\"2050-01-19T05:00:00\",\"2050-01-19T06:00:00\",\"2050-01-19T07:00:00\",\"2050-01-19T08:00:00\",\"2050-01-19T09:00:00\",\"2050-01-19T10:00:00\",\"2050-01-19T11:00:00\",\"2050-01-19T12:00:00\",\"2050-01-19T13:00:00\",\"2050-01-19T14:00:00\",\"2050-01-19T15:00:00\",\"2050-01-19T16:00:00\",\"2050-01-19T17:00:00\",\"2050-01-19T18:00:00\",\"2050-01-19T19:00:00\",\"2050-01-19T20:00:00\",\"2050-01-19T21:00:00\",\"2050-01-19T22:00:00\",\"2050-01-19T23:00:00\",\"2050-01-20T00:00:00\",\"2050-01-20T01:00:00\",\"2050-01-20T02:00:00\",\"2050-01-20T03:00:00\",\"2050-01-20T04:00:00\",\"2050-01-20T05:00:00\",\"2050-01-20T06:00:00\",\"2050-01-20T07:00:00\",\"2050-01-20T08:00:00\",\"2050-01-20T09:00:00\",\"2050-01-20T10:00:00\",\"2050-01-20T11:00:00\",\"2050-01-20T12:00:00\",\"2050-01-20T13:00:00\",\"2050-01-20T14:00:00\",\"2050-01-20T15:00:00\",\"2050-01-20T16:00:00\",\"2050-01-20T17:00:00\",\"2050-01-20T18:00:00\",\"2050-01-20T19:00:00\",\"2050-01-20T20:00:00\",\"2050-01-20T21:00:00\",\"2050-01-20T22:00:00\",\"2050-01-20T23:00:00\"],\"y\":[-0.0,-0.0,-0.0,-0.0,-0.0,-0.0,-0.0,-0.0,-0.0,-0.0,-0.0,-0.11004875905825312,-0.0,-0.0,-0.0,-0.0,-0.0,-0.0,-0.0,-0.0,-0.0,-0.0,-0.0,-0.0,-0.0,-0.0,-0.0,-0.0,-0.0,-0.0,-0.0,-0.0,-0.0,-0.0,-0.0,-0.011888924108786343,-0.11004875905825312,-0.0,-0.0,-0.0,-0.0,-0.0,-0.0,-0.0,-0.0,-0.0,-0.0,-0.0,-0.0,-0.0,-0.0,-0.0,-0.0,-0.0,-0.0,-0.0,-0.0,-0.0,-0.0,-0.0,-0.0,-0.0,-0.0,-0.0,-0.0,-0.0,-0.0,-0.0,-0.0,-0.0,-0.0,-0.0,-0.0,-0.0,-0.0,-0.0,-0.0,-0.0,-0.0,-0.0,-0.0,-0.0,-0.0,-0.0,-0.11004875905825312,-0.0,-0.01188892410878634,-0.0,-0.0,-0.0,-0.0,-0.0,-0.0,-0.0,-0.0,-0.0,-0.0,-0.0,-0.0,-0.0,-0.0,-0.0,-0.0,-0.0,-0.0,-0.0,-0.0,-0.0,-0.11004875905825312,-0.01188892410878634,-0.0,-0.0,-0.0,-0.0,-0.0,-0.0,-0.0,-0.0,-0.0,-0.0,-0.0,-0.0,-0.0,-0.0,-0.0,-0.0,-0.0,-0.11004875905825312,-0.0,-0.0,-0.0,-0.01188892410878634,-0.0,-0.0,-0.0,-0.0,-0.0,-0.0,-0.0,-0.0,-0.0,-0.0,-0.0,-0.0,-0.0,-0.0,-0.0,-0.0,-0.0,-0.0,-0.0,-0.0,-0.11004875905825312,-0.0,-0.0,-0.0,-0.0,-0.0,-0.0,-0.0,-0.0,-0.0,-0.0,-0.0,-0.0,-0.0,-0.0,-0.0],\"type\":\"scatter\"},{\"line\":{\"color\":\"navy\",\"width\":0},\"name\":\"Pompage STEP\",\"stackgroup\":\"-\",\"x\":[\"2050-01-14T00:00:00\",\"2050-01-14T01:00:00\",\"2050-01-14T02:00:00\",\"2050-01-14T03:00:00\",\"2050-01-14T04:00:00\",\"2050-01-14T05:00:00\",\"2050-01-14T06:00:00\",\"2050-01-14T07:00:00\",\"2050-01-14T08:00:00\",\"2050-01-14T09:00:00\",\"2050-01-14T10:00:00\",\"2050-01-14T11:00:00\",\"2050-01-14T12:00:00\",\"2050-01-14T13:00:00\",\"2050-01-14T14:00:00\",\"2050-01-14T15:00:00\",\"2050-01-14T16:00:00\",\"2050-01-14T17:00:00\",\"2050-01-14T18:00:00\",\"2050-01-14T19:00:00\",\"2050-01-14T20:00:00\",\"2050-01-14T21:00:00\",\"2050-01-14T22:00:00\",\"2050-01-14T23:00:00\",\"2050-01-15T00:00:00\",\"2050-01-15T01:00:00\",\"2050-01-15T02:00:00\",\"2050-01-15T03:00:00\",\"2050-01-15T04:00:00\",\"2050-01-15T05:00:00\",\"2050-01-15T06:00:00\",\"2050-01-15T07:00:00\",\"2050-01-15T08:00:00\",\"2050-01-15T09:00:00\",\"2050-01-15T10:00:00\",\"2050-01-15T11:00:00\",\"2050-01-15T12:00:00\",\"2050-01-15T13:00:00\",\"2050-01-15T14:00:00\",\"2050-01-15T15:00:00\",\"2050-01-15T16:00:00\",\"2050-01-15T17:00:00\",\"2050-01-15T18:00:00\",\"2050-01-15T19:00:00\",\"2050-01-15T20:00:00\",\"2050-01-15T21:00:00\",\"2050-01-15T22:00:00\",\"2050-01-15T23:00:00\",\"2050-01-16T00:00:00\",\"2050-01-16T01:00:00\",\"2050-01-16T02:00:00\",\"2050-01-16T03:00:00\",\"2050-01-16T04:00:00\",\"2050-01-16T05:00:00\",\"2050-01-16T06:00:00\",\"2050-01-16T07:00:00\",\"2050-01-16T08:00:00\",\"2050-01-16T09:00:00\",\"2050-01-16T10:00:00\",\"2050-01-16T11:00:00\",\"2050-01-16T12:00:00\",\"2050-01-16T13:00:00\",\"2050-01-16T14:00:00\",\"2050-01-16T15:00:00\",\"2050-01-16T16:00:00\",\"2050-01-16T17:00:00\",\"2050-01-16T18:00:00\",\"2050-01-16T19:00:00\",\"2050-01-16T20:00:00\",\"2050-01-16T21:00:00\",\"2050-01-16T22:00:00\",\"2050-01-16T23:00:00\",\"2050-01-17T00:00:00\",\"2050-01-17T01:00:00\",\"2050-01-17T02:00:00\",\"2050-01-17T03:00:00\",\"2050-01-17T04:00:00\",\"2050-01-17T05:00:00\",\"2050-01-17T06:00:00\",\"2050-01-17T07:00:00\",\"2050-01-17T08:00:00\",\"2050-01-17T09:00:00\",\"2050-01-17T10:00:00\",\"2050-01-17T11:00:00\",\"2050-01-17T12:00:00\",\"2050-01-17T13:00:00\",\"2050-01-17T14:00:00\",\"2050-01-17T15:00:00\",\"2050-01-17T16:00:00\",\"2050-01-17T17:00:00\",\"2050-01-17T18:00:00\",\"2050-01-17T19:00:00\",\"2050-01-17T20:00:00\",\"2050-01-17T21:00:00\",\"2050-01-17T22:00:00\",\"2050-01-17T23:00:00\",\"2050-01-18T00:00:00\",\"2050-01-18T01:00:00\",\"2050-01-18T02:00:00\",\"2050-01-18T03:00:00\",\"2050-01-18T04:00:00\",\"2050-01-18T05:00:00\",\"2050-01-18T06:00:00\",\"2050-01-18T07:00:00\",\"2050-01-18T08:00:00\",\"2050-01-18T09:00:00\",\"2050-01-18T10:00:00\",\"2050-01-18T11:00:00\",\"2050-01-18T12:00:00\",\"2050-01-18T13:00:00\",\"2050-01-18T14:00:00\",\"2050-01-18T15:00:00\",\"2050-01-18T16:00:00\",\"2050-01-18T17:00:00\",\"2050-01-18T18:00:00\",\"2050-01-18T19:00:00\",\"2050-01-18T20:00:00\",\"2050-01-18T21:00:00\",\"2050-01-18T22:00:00\",\"2050-01-18T23:00:00\",\"2050-01-19T00:00:00\",\"2050-01-19T01:00:00\",\"2050-01-19T02:00:00\",\"2050-01-19T03:00:00\",\"2050-01-19T04:00:00\",\"2050-01-19T05:00:00\",\"2050-01-19T06:00:00\",\"2050-01-19T07:00:00\",\"2050-01-19T08:00:00\",\"2050-01-19T09:00:00\",\"2050-01-19T10:00:00\",\"2050-01-19T11:00:00\",\"2050-01-19T12:00:00\",\"2050-01-19T13:00:00\",\"2050-01-19T14:00:00\",\"2050-01-19T15:00:00\",\"2050-01-19T16:00:00\",\"2050-01-19T17:00:00\",\"2050-01-19T18:00:00\",\"2050-01-19T19:00:00\",\"2050-01-19T20:00:00\",\"2050-01-19T21:00:00\",\"2050-01-19T22:00:00\",\"2050-01-19T23:00:00\",\"2050-01-20T00:00:00\",\"2050-01-20T01:00:00\",\"2050-01-20T02:00:00\",\"2050-01-20T03:00:00\",\"2050-01-20T04:00:00\",\"2050-01-20T05:00:00\",\"2050-01-20T06:00:00\",\"2050-01-20T07:00:00\",\"2050-01-20T08:00:00\",\"2050-01-20T09:00:00\",\"2050-01-20T10:00:00\",\"2050-01-20T11:00:00\",\"2050-01-20T12:00:00\",\"2050-01-20T13:00:00\",\"2050-01-20T14:00:00\",\"2050-01-20T15:00:00\",\"2050-01-20T16:00:00\",\"2050-01-20T17:00:00\",\"2050-01-20T18:00:00\",\"2050-01-20T19:00:00\",\"2050-01-20T20:00:00\",\"2050-01-20T21:00:00\",\"2050-01-20T22:00:00\",\"2050-01-20T23:00:00\"],\"y\":[-5.049,-5.049,-5.049,-5.049,-5.049,-5.049,-5.049,-2.0037282426476914,-0.0,-0.0,-0.0,-5.049,-0.0,-0.0,-0.0,-0.0,-0.0,-0.0,-0.0,-0.0,-0.0,-0.0,-0.0,-0.0,-0.0,-0.0,-0.0,-0.0,-0.0,-0.0,-0.0,-0.0,-0.0,-0.0,-0.0,-0.0,-0.0,-0.0,-0.0,-0.0,-0.0,-0.0,-0.0,-0.0,-0.0,-0.0,-0.0,-0.0,-0.0,-0.0,-0.0,-0.0,-0.0,-0.0,-0.0,-0.0,-0.0,-0.0,-0.0,-0.0,-0.0,-0.0,-0.0,-0.0,-0.0,-0.0,-0.0,-0.0,-0.0,-0.0,-0.0,-0.0,-0.0,-0.0,-0.0,-0.0,-0.0,-0.0,-0.0,-0.0,-0.0,-0.0,-0.0,-0.0,-0.0,-0.0,-0.38591124938799337,-4.484923756211264,-0.0,-0.0,-0.0,-0.0,-0.0,-0.0,-0.0,-0.0,-0.0,-0.0,-0.0,-0.0,-0.0,-0.0,-0.0,-0.0,-0.0,-0.0,-0.0,-0.0,-0.0,-0.0,-0.0,-0.0,-0.0,-0.0,-0.0,-0.0,-0.0,-0.0,-0.0,-0.0,-0.0,-0.0,-0.0,-0.0,-0.0,-0.0,-0.0,-1.9678489207389396,-1.253748229784433,-0.0,-0.0,-5.049,-4.196069516143293,-0.0,-0.0,-0.0,-0.0,-0.0,-0.0,-0.0,-0.0,-0.0,-0.0,-0.0,-0.0,-0.0,-0.0,-0.0,-0.0,-0.0,-0.0,-0.0,-0.0,-0.0,-0.0,-0.0,-0.0,-0.0,-0.0,-0.0,-0.0,-0.0,-0.0,-0.0,-0.0,-0.0,-0.0,-0.0],\"type\":\"scatter\"},{\"line\":{\"color\":\"purple\",\"width\":0},\"name\":\"Power-to-hydrogen\",\"stackgroup\":\"-\",\"x\":[\"2050-01-14T00:00:00\",\"2050-01-14T01:00:00\",\"2050-01-14T02:00:00\",\"2050-01-14T03:00:00\",\"2050-01-14T04:00:00\",\"2050-01-14T05:00:00\",\"2050-01-14T06:00:00\",\"2050-01-14T07:00:00\",\"2050-01-14T08:00:00\",\"2050-01-14T09:00:00\",\"2050-01-14T10:00:00\",\"2050-01-14T11:00:00\",\"2050-01-14T12:00:00\",\"2050-01-14T13:00:00\",\"2050-01-14T14:00:00\",\"2050-01-14T15:00:00\",\"2050-01-14T16:00:00\",\"2050-01-14T17:00:00\",\"2050-01-14T18:00:00\",\"2050-01-14T19:00:00\",\"2050-01-14T20:00:00\",\"2050-01-14T21:00:00\",\"2050-01-14T22:00:00\",\"2050-01-14T23:00:00\",\"2050-01-15T00:00:00\",\"2050-01-15T01:00:00\",\"2050-01-15T02:00:00\",\"2050-01-15T03:00:00\",\"2050-01-15T04:00:00\",\"2050-01-15T05:00:00\",\"2050-01-15T06:00:00\",\"2050-01-15T07:00:00\",\"2050-01-15T08:00:00\",\"2050-01-15T09:00:00\",\"2050-01-15T10:00:00\",\"2050-01-15T11:00:00\",\"2050-01-15T12:00:00\",\"2050-01-15T13:00:00\",\"2050-01-15T14:00:00\",\"2050-01-15T15:00:00\",\"2050-01-15T16:00:00\",\"2050-01-15T17:00:00\",\"2050-01-15T18:00:00\",\"2050-01-15T19:00:00\",\"2050-01-15T20:00:00\",\"2050-01-15T21:00:00\",\"2050-01-15T22:00:00\",\"2050-01-15T23:00:00\",\"2050-01-16T00:00:00\",\"2050-01-16T01:00:00\",\"2050-01-16T02:00:00\",\"2050-01-16T03:00:00\",\"2050-01-16T04:00:00\",\"2050-01-16T05:00:00\",\"2050-01-16T06:00:00\",\"2050-01-16T07:00:00\",\"2050-01-16T08:00:00\",\"2050-01-16T09:00:00\",\"2050-01-16T10:00:00\",\"2050-01-16T11:00:00\",\"2050-01-16T12:00:00\",\"2050-01-16T13:00:00\",\"2050-01-16T14:00:00\",\"2050-01-16T15:00:00\",\"2050-01-16T16:00:00\",\"2050-01-16T17:00:00\",\"2050-01-16T18:00:00\",\"2050-01-16T19:00:00\",\"2050-01-16T20:00:00\",\"2050-01-16T21:00:00\",\"2050-01-16T22:00:00\",\"2050-01-16T23:00:00\",\"2050-01-17T00:00:00\",\"2050-01-17T01:00:00\",\"2050-01-17T02:00:00\",\"2050-01-17T03:00:00\",\"2050-01-17T04:00:00\",\"2050-01-17T05:00:00\",\"2050-01-17T06:00:00\",\"2050-01-17T07:00:00\",\"2050-01-17T08:00:00\",\"2050-01-17T09:00:00\",\"2050-01-17T10:00:00\",\"2050-01-17T11:00:00\",\"2050-01-17T12:00:00\",\"2050-01-17T13:00:00\",\"2050-01-17T14:00:00\",\"2050-01-17T15:00:00\",\"2050-01-17T16:00:00\",\"2050-01-17T17:00:00\",\"2050-01-17T18:00:00\",\"2050-01-17T19:00:00\",\"2050-01-17T20:00:00\",\"2050-01-17T21:00:00\",\"2050-01-17T22:00:00\",\"2050-01-17T23:00:00\",\"2050-01-18T00:00:00\",\"2050-01-18T01:00:00\",\"2050-01-18T02:00:00\",\"2050-01-18T03:00:00\",\"2050-01-18T04:00:00\",\"2050-01-18T05:00:00\",\"2050-01-18T06:00:00\",\"2050-01-18T07:00:00\",\"2050-01-18T08:00:00\",\"2050-01-18T09:00:00\",\"2050-01-18T10:00:00\",\"2050-01-18T11:00:00\",\"2050-01-18T12:00:00\",\"2050-01-18T13:00:00\",\"2050-01-18T14:00:00\",\"2050-01-18T15:00:00\",\"2050-01-18T16:00:00\",\"2050-01-18T17:00:00\",\"2050-01-18T18:00:00\",\"2050-01-18T19:00:00\",\"2050-01-18T20:00:00\",\"2050-01-18T21:00:00\",\"2050-01-18T22:00:00\",\"2050-01-18T23:00:00\",\"2050-01-19T00:00:00\",\"2050-01-19T01:00:00\",\"2050-01-19T02:00:00\",\"2050-01-19T03:00:00\",\"2050-01-19T04:00:00\",\"2050-01-19T05:00:00\",\"2050-01-19T06:00:00\",\"2050-01-19T07:00:00\",\"2050-01-19T08:00:00\",\"2050-01-19T09:00:00\",\"2050-01-19T10:00:00\",\"2050-01-19T11:00:00\",\"2050-01-19T12:00:00\",\"2050-01-19T13:00:00\",\"2050-01-19T14:00:00\",\"2050-01-19T15:00:00\",\"2050-01-19T16:00:00\",\"2050-01-19T17:00:00\",\"2050-01-19T18:00:00\",\"2050-01-19T19:00:00\",\"2050-01-19T20:00:00\",\"2050-01-19T21:00:00\",\"2050-01-19T22:00:00\",\"2050-01-19T23:00:00\",\"2050-01-20T00:00:00\",\"2050-01-20T01:00:00\",\"2050-01-20T02:00:00\",\"2050-01-20T03:00:00\",\"2050-01-20T04:00:00\",\"2050-01-20T05:00:00\",\"2050-01-20T06:00:00\",\"2050-01-20T07:00:00\",\"2050-01-20T08:00:00\",\"2050-01-20T09:00:00\",\"2050-01-20T10:00:00\",\"2050-01-20T11:00:00\",\"2050-01-20T12:00:00\",\"2050-01-20T13:00:00\",\"2050-01-20T14:00:00\",\"2050-01-20T15:00:00\",\"2050-01-20T16:00:00\",\"2050-01-20T17:00:00\",\"2050-01-20T18:00:00\",\"2050-01-20T19:00:00\",\"2050-01-20T20:00:00\",\"2050-01-20T21:00:00\",\"2050-01-20T22:00:00\",\"2050-01-20T23:00:00\"],\"y\":[-17.727244735739543,-17.727244735739543,-17.727244735739543,-17.727244735739543,-17.727244735739543,-17.727244735739543,-17.727244735739543,-17.727244735739543,-17.727244735739543,-17.727244735739543,-17.727244735739543,-17.727244735739543,-13.561839122325065,-0.0,-0.27783492712668856,-0.8171374270170932,-0.0,-0.0,-0.0,-0.0,-0.0,-0.0,-0.0,-0.0,-0.0,-0.0,-0.0,-0.0,-0.0,-0.0,-0.0,-0.0,-0.0,-0.0,-0.0,-17.727244735739543,-17.727244735739543,-13.055693224997333,-4.679161121070144,-5.6829305217806265,-0.0,-0.0,-0.0,-0.0,-0.0,-0.0,-0.0,-0.0,-0.0,-0.0,-0.0,-0.0,-0.0,-0.0,-0.0,-7.844050589323251,-0.20107077325993694,-7.22740912394552,-17.727244735739543,-17.727244735739543,-17.727244735739543,-11.393374644576733,-9.634120567551586,-12.281890452883065,-5.937134200696059,-0.0,-0.0,-14.606722275921477,-17.727244735739543,-17.727244735739543,-17.727244735739543,-17.727244735739543,-17.727244735739543,-17.727244735739543,-17.727244735739543,-17.727244735739543,-17.727244735739543,-17.727244735739543,-17.727244735739543,-17.727244735739543,-17.727244735739543,-17.727244735739543,-17.727244735739543,-17.727244735739543,-17.727244735739543,-17.727244735739543,-17.727244735739543,-17.727244735739543,-12.06640209117981,-0.0,-0.0,-0.0,-0.0,-0.0,-0.0,-0.0,-0.0,-0.0,-0.0,-0.0,-0.0,-0.0,-0.0,-0.0,-0.0,-0.0,-0.0,-0.0,-0.0,-0.0,-0.0,-0.0,-0.0,-0.0,-0.0,-0.0,-0.0,-0.0,-0.0,-0.0,-0.0,-0.0,-0.0,-0.0,-0.0,-0.0,-0.0,-0.0,-0.0,-0.0,-0.0,-0.0,-0.0,-0.0,-0.0,-0.0,-0.0,-0.0,-0.0,-0.0,-0.0,-0.0,-0.0,-0.0,-0.0,-0.0,-0.0,-0.0,-0.0,-0.0,-0.0,-0.0,-0.0,-0.0,-0.0,-0.0,-0.0,-0.0,-0.0,-0.0,-0.0,-0.0,-0.0,-0.0,-0.0,-0.0,-0.0,-0.0],\"type\":\"scatter\"},{\"line\":{\"color\":\"gray\",\"width\":0},\"name\":\"Exports\",\"stackgroup\":\"-\",\"x\":[\"2050-01-14T00:00:00\",\"2050-01-14T01:00:00\",\"2050-01-14T02:00:00\",\"2050-01-14T03:00:00\",\"2050-01-14T04:00:00\",\"2050-01-14T05:00:00\",\"2050-01-14T06:00:00\",\"2050-01-14T07:00:00\",\"2050-01-14T08:00:00\",\"2050-01-14T09:00:00\",\"2050-01-14T10:00:00\",\"2050-01-14T11:00:00\",\"2050-01-14T12:00:00\",\"2050-01-14T13:00:00\",\"2050-01-14T14:00:00\",\"2050-01-14T15:00:00\",\"2050-01-14T16:00:00\",\"2050-01-14T17:00:00\",\"2050-01-14T18:00:00\",\"2050-01-14T19:00:00\",\"2050-01-14T20:00:00\",\"2050-01-14T21:00:00\",\"2050-01-14T22:00:00\",\"2050-01-14T23:00:00\",\"2050-01-15T00:00:00\",\"2050-01-15T01:00:00\",\"2050-01-15T02:00:00\",\"2050-01-15T03:00:00\",\"2050-01-15T04:00:00\",\"2050-01-15T05:00:00\",\"2050-01-15T06:00:00\",\"2050-01-15T07:00:00\",\"2050-01-15T08:00:00\",\"2050-01-15T09:00:00\",\"2050-01-15T10:00:00\",\"2050-01-15T11:00:00\",\"2050-01-15T12:00:00\",\"2050-01-15T13:00:00\",\"2050-01-15T14:00:00\",\"2050-01-15T15:00:00\",\"2050-01-15T16:00:00\",\"2050-01-15T17:00:00\",\"2050-01-15T18:00:00\",\"2050-01-15T19:00:00\",\"2050-01-15T20:00:00\",\"2050-01-15T21:00:00\",\"2050-01-15T22:00:00\",\"2050-01-15T23:00:00\",\"2050-01-16T00:00:00\",\"2050-01-16T01:00:00\",\"2050-01-16T02:00:00\",\"2050-01-16T03:00:00\",\"2050-01-16T04:00:00\",\"2050-01-16T05:00:00\",\"2050-01-16T06:00:00\",\"2050-01-16T07:00:00\",\"2050-01-16T08:00:00\",\"2050-01-16T09:00:00\",\"2050-01-16T10:00:00\",\"2050-01-16T11:00:00\",\"2050-01-16T12:00:00\",\"2050-01-16T13:00:00\",\"2050-01-16T14:00:00\",\"2050-01-16T15:00:00\",\"2050-01-16T16:00:00\",\"2050-01-16T17:00:00\",\"2050-01-16T18:00:00\",\"2050-01-16T19:00:00\",\"2050-01-16T20:00:00\",\"2050-01-16T21:00:00\",\"2050-01-16T22:00:00\",\"2050-01-16T23:00:00\",\"2050-01-17T00:00:00\",\"2050-01-17T01:00:00\",\"2050-01-17T02:00:00\",\"2050-01-17T03:00:00\",\"2050-01-17T04:00:00\",\"2050-01-17T05:00:00\",\"2050-01-17T06:00:00\",\"2050-01-17T07:00:00\",\"2050-01-17T08:00:00\",\"2050-01-17T09:00:00\",\"2050-01-17T10:00:00\",\"2050-01-17T11:00:00\",\"2050-01-17T12:00:00\",\"2050-01-17T13:00:00\",\"2050-01-17T14:00:00\",\"2050-01-17T15:00:00\",\"2050-01-17T16:00:00\",\"2050-01-17T17:00:00\",\"2050-01-17T18:00:00\",\"2050-01-17T19:00:00\",\"2050-01-17T20:00:00\",\"2050-01-17T21:00:00\",\"2050-01-17T22:00:00\",\"2050-01-17T23:00:00\",\"2050-01-18T00:00:00\",\"2050-01-18T01:00:00\",\"2050-01-18T02:00:00\",\"2050-01-18T03:00:00\",\"2050-01-18T04:00:00\",\"2050-01-18T05:00:00\",\"2050-01-18T06:00:00\",\"2050-01-18T07:00:00\",\"2050-01-18T08:00:00\",\"2050-01-18T09:00:00\",\"2050-01-18T10:00:00\",\"2050-01-18T11:00:00\",\"2050-01-18T12:00:00\",\"2050-01-18T13:00:00\",\"2050-01-18T14:00:00\",\"2050-01-18T15:00:00\",\"2050-01-18T16:00:00\",\"2050-01-18T17:00:00\",\"2050-01-18T18:00:00\",\"2050-01-18T19:00:00\",\"2050-01-18T20:00:00\",\"2050-01-18T21:00:00\",\"2050-01-18T22:00:00\",\"2050-01-18T23:00:00\",\"2050-01-19T00:00:00\",\"2050-01-19T01:00:00\",\"2050-01-19T02:00:00\",\"2050-01-19T03:00:00\",\"2050-01-19T04:00:00\",\"2050-01-19T05:00:00\",\"2050-01-19T06:00:00\",\"2050-01-19T07:00:00\",\"2050-01-19T08:00:00\",\"2050-01-19T09:00:00\",\"2050-01-19T10:00:00\",\"2050-01-19T11:00:00\",\"2050-01-19T12:00:00\",\"2050-01-19T13:00:00\",\"2050-01-19T14:00:00\",\"2050-01-19T15:00:00\",\"2050-01-19T16:00:00\",\"2050-01-19T17:00:00\",\"2050-01-19T18:00:00\",\"2050-01-19T19:00:00\",\"2050-01-19T20:00:00\",\"2050-01-19T21:00:00\",\"2050-01-19T22:00:00\",\"2050-01-19T23:00:00\",\"2050-01-20T00:00:00\",\"2050-01-20T01:00:00\",\"2050-01-20T02:00:00\",\"2050-01-20T03:00:00\",\"2050-01-20T04:00:00\",\"2050-01-20T05:00:00\",\"2050-01-20T06:00:00\",\"2050-01-20T07:00:00\",\"2050-01-20T08:00:00\",\"2050-01-20T09:00:00\",\"2050-01-20T10:00:00\",\"2050-01-20T11:00:00\",\"2050-01-20T12:00:00\",\"2050-01-20T13:00:00\",\"2050-01-20T14:00:00\",\"2050-01-20T15:00:00\",\"2050-01-20T16:00:00\",\"2050-01-20T17:00:00\",\"2050-01-20T18:00:00\",\"2050-01-20T19:00:00\",\"2050-01-20T20:00:00\",\"2050-01-20T21:00:00\",\"2050-01-20T22:00:00\",\"2050-01-20T23:00:00\"],\"y\":[0.0,-1.4100300637137688,-6.830296700583178,-14.48588323235491,-1.235484860299588,-11.390464386099163,-5.494524571331878,-6.1368622684956575,-0.14070927298301375,-2.0257349133115885,-3.0523757211192786,-5.855318448448772,0.0,0.0,0.0,0.0,0.0,0.0,0.0,0.0,0.0,0.0,0.0,0.0,0.0,0.0,0.0,0.0,0.0,0.0,0.0,0.0,0.0,0.0,0.0,0.0,0.0,0.0,0.0,0.0,0.0,0.0,0.0,0.0,0.0,0.0,-0.020127799947282254,0.0,0.0,0.0,0.0,0.0,0.0,0.0,0.0,0.0,0.0,0.0,0.0,0.0,0.0,0.0,0.0,0.0,0.0,0.0,-4.678624854363916,0.0,0.0,0.0,0.0,0.0,0.0,0.0,0.0,0.0,0.0,0.0,0.0,0.0,0.0,0.0,0.0,0.0,0.0,0.0,0.0,0.0,0.0,0.0,-3.4366881142090313,0.0,0.0,0.0,0.0,-9.277660489160464,-8.92164458913143,-6.8371775692960695,0.0,-7.303487001012913,-9.387,0.0,-5.089971343673093,0.0,0.0,0.0,-2.2953585520033974,-3.3994254393275414,0.0,0.0,0.0,-2.6370551704586216,-4.695755319650009,-10.374645800489338,-1.647547033209069,-10.919331360771476,-12.486189684198882,-14.570371947867217,-10.763006201924144,-5.009,-5.009,-3.0966732828689127,-1.3251173883313203,0.0,-2.9547521529737057,-3.6352028923180115,-4.163306916285772,-3.9684170231090903,-1.3208490757513063,0.0,0.0,0.0,-3.0421753235186424,-6.638445634512887,-9.720189177609189,-10.043907794748613,-3.100068844115338,-5.5867532551515415,-5.7495859865871655,0.0,-6.42547348864744,-8.75954947478242,-14.949099473029648,-10.190037971969128,-9.102644675515194,-12.472367586737471,-11.803339789677587,-12.177118464066776,-4.180050709040066,-15.321796475748874,-15.271725079655655,-11.354026222454353,-8.407363474636094,0.0,0.0,0.0,0.0,0.0,0.0,-0.2653746021668394,-3.1926633855806585,-8.51019574248068,-15.446269251207712,-14.709122667129574,-4.888319804914414,-8.270913369895178,-20.482131943425095,-15.594951100200348],\"type\":\"scatter\"}],                        {\"template\":{\"data\":{\"histogram2dcontour\":[{\"type\":\"histogram2dcontour\",\"colorbar\":{\"outlinewidth\":0,\"ticks\":\"\"},\"colorscale\":[[0.0,\"#0d0887\"],[0.1111111111111111,\"#46039f\"],[0.2222222222222222,\"#7201a8\"],[0.3333333333333333,\"#9c179e\"],[0.4444444444444444,\"#bd3786\"],[0.5555555555555556,\"#d8576b\"],[0.6666666666666666,\"#ed7953\"],[0.7777777777777778,\"#fb9f3a\"],[0.8888888888888888,\"#fdca26\"],[1.0,\"#f0f921\"]]}],\"choropleth\":[{\"type\":\"choropleth\",\"colorbar\":{\"outlinewidth\":0,\"ticks\":\"\"}}],\"histogram2d\":[{\"type\":\"histogram2d\",\"colorbar\":{\"outlinewidth\":0,\"ticks\":\"\"},\"colorscale\":[[0.0,\"#0d0887\"],[0.1111111111111111,\"#46039f\"],[0.2222222222222222,\"#7201a8\"],[0.3333333333333333,\"#9c179e\"],[0.4444444444444444,\"#bd3786\"],[0.5555555555555556,\"#d8576b\"],[0.6666666666666666,\"#ed7953\"],[0.7777777777777778,\"#fb9f3a\"],[0.8888888888888888,\"#fdca26\"],[1.0,\"#f0f921\"]]}],\"heatmap\":[{\"type\":\"heatmap\",\"colorbar\":{\"outlinewidth\":0,\"ticks\":\"\"},\"colorscale\":[[0.0,\"#0d0887\"],[0.1111111111111111,\"#46039f\"],[0.2222222222222222,\"#7201a8\"],[0.3333333333333333,\"#9c179e\"],[0.4444444444444444,\"#bd3786\"],[0.5555555555555556,\"#d8576b\"],[0.6666666666666666,\"#ed7953\"],[0.7777777777777778,\"#fb9f3a\"],[0.8888888888888888,\"#fdca26\"],[1.0,\"#f0f921\"]]}],\"heatmapgl\":[{\"type\":\"heatmapgl\",\"colorbar\":{\"outlinewidth\":0,\"ticks\":\"\"},\"colorscale\":[[0.0,\"#0d0887\"],[0.1111111111111111,\"#46039f\"],[0.2222222222222222,\"#7201a8\"],[0.3333333333333333,\"#9c179e\"],[0.4444444444444444,\"#bd3786\"],[0.5555555555555556,\"#d8576b\"],[0.6666666666666666,\"#ed7953\"],[0.7777777777777778,\"#fb9f3a\"],[0.8888888888888888,\"#fdca26\"],[1.0,\"#f0f921\"]]}],\"contourcarpet\":[{\"type\":\"contourcarpet\",\"colorbar\":{\"outlinewidth\":0,\"ticks\":\"\"}}],\"contour\":[{\"type\":\"contour\",\"colorbar\":{\"outlinewidth\":0,\"ticks\":\"\"},\"colorscale\":[[0.0,\"#0d0887\"],[0.1111111111111111,\"#46039f\"],[0.2222222222222222,\"#7201a8\"],[0.3333333333333333,\"#9c179e\"],[0.4444444444444444,\"#bd3786\"],[0.5555555555555556,\"#d8576b\"],[0.6666666666666666,\"#ed7953\"],[0.7777777777777778,\"#fb9f3a\"],[0.8888888888888888,\"#fdca26\"],[1.0,\"#f0f921\"]]}],\"surface\":[{\"type\":\"surface\",\"colorbar\":{\"outlinewidth\":0,\"ticks\":\"\"},\"colorscale\":[[0.0,\"#0d0887\"],[0.1111111111111111,\"#46039f\"],[0.2222222222222222,\"#7201a8\"],[0.3333333333333333,\"#9c179e\"],[0.4444444444444444,\"#bd3786\"],[0.5555555555555556,\"#d8576b\"],[0.6666666666666666,\"#ed7953\"],[0.7777777777777778,\"#fb9f3a\"],[0.8888888888888888,\"#fdca26\"],[1.0,\"#f0f921\"]]}],\"mesh3d\":[{\"type\":\"mesh3d\",\"colorbar\":{\"outlinewidth\":0,\"ticks\":\"\"}}],\"scatter\":[{\"fillpattern\":{\"fillmode\":\"overlay\",\"size\":10,\"solidity\":0.2},\"type\":\"scatter\"}],\"parcoords\":[{\"type\":\"parcoords\",\"line\":{\"colorbar\":{\"outlinewidth\":0,\"ticks\":\"\"}}}],\"scatterpolargl\":[{\"type\":\"scatterpolargl\",\"marker\":{\"colorbar\":{\"outlinewidth\":0,\"ticks\":\"\"}}}],\"bar\":[{\"error_x\":{\"color\":\"#2a3f5f\"},\"error_y\":{\"color\":\"#2a3f5f\"},\"marker\":{\"line\":{\"color\":\"#E5ECF6\",\"width\":0.5},\"pattern\":{\"fillmode\":\"overlay\",\"size\":10,\"solidity\":0.2}},\"type\":\"bar\"}],\"scattergeo\":[{\"type\":\"scattergeo\",\"marker\":{\"colorbar\":{\"outlinewidth\":0,\"ticks\":\"\"}}}],\"scatterpolar\":[{\"type\":\"scatterpolar\",\"marker\":{\"colorbar\":{\"outlinewidth\":0,\"ticks\":\"\"}}}],\"histogram\":[{\"marker\":{\"pattern\":{\"fillmode\":\"overlay\",\"size\":10,\"solidity\":0.2}},\"type\":\"histogram\"}],\"scattergl\":[{\"type\":\"scattergl\",\"marker\":{\"colorbar\":{\"outlinewidth\":0,\"ticks\":\"\"}}}],\"scatter3d\":[{\"type\":\"scatter3d\",\"line\":{\"colorbar\":{\"outlinewidth\":0,\"ticks\":\"\"}},\"marker\":{\"colorbar\":{\"outlinewidth\":0,\"ticks\":\"\"}}}],\"scattermapbox\":[{\"type\":\"scattermapbox\",\"marker\":{\"colorbar\":{\"outlinewidth\":0,\"ticks\":\"\"}}}],\"scatterternary\":[{\"type\":\"scatterternary\",\"marker\":{\"colorbar\":{\"outlinewidth\":0,\"ticks\":\"\"}}}],\"scattercarpet\":[{\"type\":\"scattercarpet\",\"marker\":{\"colorbar\":{\"outlinewidth\":0,\"ticks\":\"\"}}}],\"carpet\":[{\"aaxis\":{\"endlinecolor\":\"#2a3f5f\",\"gridcolor\":\"white\",\"linecolor\":\"white\",\"minorgridcolor\":\"white\",\"startlinecolor\":\"#2a3f5f\"},\"baxis\":{\"endlinecolor\":\"#2a3f5f\",\"gridcolor\":\"white\",\"linecolor\":\"white\",\"minorgridcolor\":\"white\",\"startlinecolor\":\"#2a3f5f\"},\"type\":\"carpet\"}],\"table\":[{\"cells\":{\"fill\":{\"color\":\"#EBF0F8\"},\"line\":{\"color\":\"white\"}},\"header\":{\"fill\":{\"color\":\"#C8D4E3\"},\"line\":{\"color\":\"white\"}},\"type\":\"table\"}],\"barpolar\":[{\"marker\":{\"line\":{\"color\":\"#E5ECF6\",\"width\":0.5},\"pattern\":{\"fillmode\":\"overlay\",\"size\":10,\"solidity\":0.2}},\"type\":\"barpolar\"}],\"pie\":[{\"automargin\":true,\"type\":\"pie\"}]},\"layout\":{\"autotypenumbers\":\"strict\",\"colorway\":[\"#636efa\",\"#EF553B\",\"#00cc96\",\"#ab63fa\",\"#FFA15A\",\"#19d3f3\",\"#FF6692\",\"#B6E880\",\"#FF97FF\",\"#FECB52\"],\"font\":{\"color\":\"#2a3f5f\"},\"hovermode\":\"closest\",\"hoverlabel\":{\"align\":\"left\"},\"paper_bgcolor\":\"white\",\"plot_bgcolor\":\"#E5ECF6\",\"polar\":{\"bgcolor\":\"#E5ECF6\",\"angularaxis\":{\"gridcolor\":\"white\",\"linecolor\":\"white\",\"ticks\":\"\"},\"radialaxis\":{\"gridcolor\":\"white\",\"linecolor\":\"white\",\"ticks\":\"\"}},\"ternary\":{\"bgcolor\":\"#E5ECF6\",\"aaxis\":{\"gridcolor\":\"white\",\"linecolor\":\"white\",\"ticks\":\"\"},\"baxis\":{\"gridcolor\":\"white\",\"linecolor\":\"white\",\"ticks\":\"\"},\"caxis\":{\"gridcolor\":\"white\",\"linecolor\":\"white\",\"ticks\":\"\"}},\"coloraxis\":{\"colorbar\":{\"outlinewidth\":0,\"ticks\":\"\"}},\"colorscale\":{\"sequential\":[[0.0,\"#0d0887\"],[0.1111111111111111,\"#46039f\"],[0.2222222222222222,\"#7201a8\"],[0.3333333333333333,\"#9c179e\"],[0.4444444444444444,\"#bd3786\"],[0.5555555555555556,\"#d8576b\"],[0.6666666666666666,\"#ed7953\"],[0.7777777777777778,\"#fb9f3a\"],[0.8888888888888888,\"#fdca26\"],[1.0,\"#f0f921\"]],\"sequentialminus\":[[0.0,\"#0d0887\"],[0.1111111111111111,\"#46039f\"],[0.2222222222222222,\"#7201a8\"],[0.3333333333333333,\"#9c179e\"],[0.4444444444444444,\"#bd3786\"],[0.5555555555555556,\"#d8576b\"],[0.6666666666666666,\"#ed7953\"],[0.7777777777777778,\"#fb9f3a\"],[0.8888888888888888,\"#fdca26\"],[1.0,\"#f0f921\"]],\"diverging\":[[0,\"#8e0152\"],[0.1,\"#c51b7d\"],[0.2,\"#de77ae\"],[0.3,\"#f1b6da\"],[0.4,\"#fde0ef\"],[0.5,\"#f7f7f7\"],[0.6,\"#e6f5d0\"],[0.7,\"#b8e186\"],[0.8,\"#7fbc41\"],[0.9,\"#4d9221\"],[1,\"#276419\"]]},\"xaxis\":{\"gridcolor\":\"white\",\"linecolor\":\"white\",\"ticks\":\"\",\"title\":{\"standoff\":15},\"zerolinecolor\":\"white\",\"automargin\":true,\"zerolinewidth\":2},\"yaxis\":{\"gridcolor\":\"white\",\"linecolor\":\"white\",\"ticks\":\"\",\"title\":{\"standoff\":15},\"zerolinecolor\":\"white\",\"automargin\":true,\"zerolinewidth\":2},\"scene\":{\"xaxis\":{\"backgroundcolor\":\"#E5ECF6\",\"gridcolor\":\"white\",\"linecolor\":\"white\",\"showbackground\":true,\"ticks\":\"\",\"zerolinecolor\":\"white\",\"gridwidth\":2},\"yaxis\":{\"backgroundcolor\":\"#E5ECF6\",\"gridcolor\":\"white\",\"linecolor\":\"white\",\"showbackground\":true,\"ticks\":\"\",\"zerolinecolor\":\"white\",\"gridwidth\":2},\"zaxis\":{\"backgroundcolor\":\"#E5ECF6\",\"gridcolor\":\"white\",\"linecolor\":\"white\",\"showbackground\":true,\"ticks\":\"\",\"zerolinecolor\":\"white\",\"gridwidth\":2}},\"shapedefaults\":{\"line\":{\"color\":\"#2a3f5f\"}},\"annotationdefaults\":{\"arrowcolor\":\"#2a3f5f\",\"arrowhead\":0,\"arrowwidth\":1},\"geo\":{\"bgcolor\":\"white\",\"landcolor\":\"#E5ECF6\",\"subunitcolor\":\"white\",\"showland\":true,\"showlakes\":true,\"lakecolor\":\"white\"},\"title\":{\"x\":0.05},\"mapbox\":{\"style\":\"light\"}}},\"title\":{\"text\":\"\",\"font\":{\"size\":20}},\"width\":1000,\"height\":500,\"yaxis\":{\"title\":{\"text\":\"Puissance (GW)\"}}},                        {\"responsive\": true}                    ).then(function(){\n",
       "                            \n",
       "var gd = document.getElementById('7499d732-fffb-4c88-8a2b-b7144fce7d7c');\n",
       "var x = new MutationObserver(function (mutations, observer) {{\n",
       "        var display = window.getComputedStyle(gd).display;\n",
       "        if (!display || display === 'none') {{\n",
       "            console.log([gd, 'removed!']);\n",
       "            Plotly.purge(gd);\n",
       "            observer.disconnect();\n",
       "        }}\n",
       "}});\n",
       "\n",
       "// Listen for the removal of the full notebook cells\n",
       "var notebookContainer = gd.closest('#notebook-container');\n",
       "if (notebookContainer) {{\n",
       "    x.observe(notebookContainer, {childList: true});\n",
       "}}\n",
       "\n",
       "// Listen for the clearing of the current output cell\n",
       "var outputEl = gd.closest('.output');\n",
       "if (outputEl) {{\n",
       "    x.observe(outputEl, {childList: true});\n",
       "}}\n",
       "\n",
       "                        })                };                });            </script>        </div>"
      ]
     },
     "metadata": {},
     "output_type": "display_data"
    }
   ],
   "source": [
    "# Ça n'a rien à faire ici, mais c'est très joli !\n",
    "plot_prod('FR',1,14,1,20)"
   ]
  },
  {
   "cell_type": "markdown",
   "id": "95e5f947",
   "metadata": {},
   "source": [
    "## 2.4. Thermosensitivity"
   ]
  },
  {
   "cell_type": "code",
   "execution_count": 68,
   "id": "0e0bae92",
   "metadata": {},
   "outputs": [],
   "source": [
    "def moyenne_dict(d):\n",
    "    return 1/max(1,len(d))*sum(d[x] for x in d)\n",
    "    \n",
    "def Thermosensitivity(area):\n",
    "    Data_2019_df=Conso_2019_df.copy()\n",
    "    Data_2019_df['Temperature']=Temp_2019_df['Temperature']\n",
    "    Data_2019_df=Data_2019_df.rename(columns={'Consommation':'Consumption'})\n",
    "    _,Th_w_2019,Th_s_2019=Decomposeconso2(Data_2019_df,T0=15,T1=20,TemperatureName='Temperature',\n",
    "                    ConsumptionName='Consumption',TimeName='Date')\n",
    "    \n",
    "    Data_df=Variables['total_consumption_Pvar']\n",
    "    Data_df=Data_df[Data_df.AREAS==area][['TIME','total_consumption_Pvar']].rename(columns={'TIME':'Date','total_consumption_Pvar':'Consumption'}).set_index('Date')\n",
    "    Data_df['Temperature']=Temp_2019_df['Temperature']+(year-2019)*0.01\n",
    "    _,Th_w,Th_s=Decomposeconso2(Data_df,T0=15,T1=20,TemperatureName='Temperature',\n",
    "                    ConsumptionName='Consumption',TimeName='Date')\n",
    "    \n",
    "    \n",
    "    print('Thermosensitivity winter 2019 ={} GW/°C'.format(moyenne_dict(Th_w_2019)))\n",
    "    print('Thermosensitivity winter '+str(year)+' ={} GW/°C'.format(moyenne_dict(Th_w)))\n",
    "    print('Thermosensitivity summer 2019 ={} GW/°C'.format(moyenne_dict(Th_s_2019)))\n",
    "    print('Thermosensitivity summer '+str(year)+' ={} GW/°C'.format(moyenne_dict(Th_s)))\n",
    "    \n",
    "    x=list(range(0,24))\n",
    "    y_w_2019=[-Th_w_2019[x] for x in Th_w_2019]\n",
    "    y_w=[-Th_w[x] for x in Th_w]\n",
    "    \n",
    "    fig_w=go.Figure()\n",
    "    fig_w.add_trace(go.Scatter(x=x,y=y_w_2019,mode=\"lines\",\n",
    "        line=go.scatter.Line(color=\"gray\"),name=\"2019\"))\n",
    "    fig_w.add_trace(go.Scatter(x=x,y=y_w,mode=\"lines\",\n",
    "        line=go.scatter.Line(color=\"blue\"),name=str(year)))\n",
    "    fig_w.update_layout(title='En hiver',width = 1000, height = 500)\n",
    "    fig_w.update_yaxes(title_text = 'Thermosensibilité (GW/°C)')\n",
    "    fig_w.update_xaxes(title_text = 'Horaire')\n",
    "    fig_w.show()\n",
    "    \n",
    "    y_s_2019=[Th_s_2019[x] for x in Th_s_2019]\n",
    "    y_s=[Th_s[x] for x in Th_s]\n",
    "    \n",
    "    fig_s=go.Figure()\n",
    "    fig_s.add_trace(go.Scatter(x=x,y=y_s_2019,mode=\"lines\",\n",
    "        line=go.scatter.Line(color=\"gray\"),name=\"2019\"))\n",
    "    fig_s.add_trace(go.Scatter(x=x,y=y_s,mode=\"lines\",\n",
    "        line=go.scatter.Line(color=\"blue\"),name=str(year)))\n",
    "    fig_s.update_layout(title='En été',width = 1000, height = 500)\n",
    "    fig_s.update_yaxes(title_text = 'Thermosensibilité (GW/°C)')\n",
    "    fig_s.update_xaxes(title_text = 'Horaire')\n",
    "    fig_s.show()\n",
    "    \n",
    "    fig_w.write_image(InputFolder+\"Graphs/Thermo_winter_\"+type_result+str(year)+\"_\"+nuc+\"_\"+bati_hyp+\"_\"+reindus\\\n",
    "                         +\".png\")\n",
    "    fig_s.write_image(InputFolder+\"Graphs/Thermo_summer_\"+type_result+str(year)+\"_\"+nuc+\"_\"+bati_hyp+\"_\"+reindus\\\n",
    "                         +\".png\")\n",
    "        \n",
    "    \n",
    "    \n"
   ]
  },
  {
   "cell_type": "code",
   "execution_count": 69,
   "id": "24659778",
   "metadata": {},
   "outputs": [
    {
     "name": "stdout",
     "output_type": "stream",
     "text": [
      "Thermosensitivity winter 2019 =-2545.375218637865 GW/°C\n",
      "Thermosensitivity winter 2050 =-2084.2149232749716 GW/°C\n",
      "Thermosensitivity summer 2019 =900.4022823873376 GW/°C\n",
      "Thermosensitivity summer 2050 =1969.3922731950693 GW/°C\n"
     ]
    },
    {
     "data": {
      "application/vnd.plotly.v1+json": {
       "config": {
        "plotlyServerURL": "https://plot.ly"
       },
       "data": [
        {
         "line": {
          "color": "gray"
         },
         "mode": "lines",
         "name": "2019",
         "type": "scatter",
         "x": [
          0,
          1,
          2,
          3,
          4,
          5,
          6,
          7,
          8,
          9,
          10,
          11,
          12,
          13,
          14,
          15,
          16,
          17,
          18,
          19,
          20,
          21,
          22,
          23
         ],
         "y": [
          2381.9058772979797,
          2424.5466386259327,
          2469.388890814654,
          2482.9632570131944,
          2453.023770021789,
          2458.74922624812,
          2543.76006163136,
          2688.458969317609,
          2752.1101850298837,
          2620.346133962741,
          2558.714198694341,
          2574.3563450247552,
          2572.500053541472,
          2593.006564906592,
          2559.0727698661403,
          2501.756367465761,
          2548.83760242875,
          2622.0329162710527,
          2972.4764624469904,
          2977.9021902218165,
          2627.620932539371,
          2485.586218296157,
          2350.5583410637505,
          1869.3312745785418
         ]
        },
        {
         "line": {
          "color": "blue"
         },
         "mode": "lines",
         "name": "2050",
         "type": "scatter",
         "x": [
          0,
          1,
          2,
          3,
          4,
          5,
          6,
          7,
          8,
          9,
          10,
          11,
          12,
          13,
          14,
          15,
          16,
          17,
          18,
          19,
          20,
          21,
          22,
          23
         ],
         "y": [
          2530.4723988921914,
          2753.483192384683,
          2976.748339463047,
          2814.4461146342937,
          2727.205106944786,
          2886.043632088836,
          2522.775195320772,
          2436.896587406642,
          2515.4080713654844,
          1943.2344512755885,
          1543.4522258668703,
          2101.13298444585,
          1654.5305760738377,
          1236.5004910484977,
          1129.8685437317317,
          1302.1107602032364,
          582.7830554102085,
          1142.2257892537602,
          1861.3376180880794,
          2285.2478883309195,
          2314.8548308888167,
          2362.0340945007833,
          2343.7188474212635,
          2054.6473635591437
         ]
        }
       ],
       "layout": {
        "height": 500,
        "template": {
         "data": {
          "bar": [
           {
            "error_x": {
             "color": "#2a3f5f"
            },
            "error_y": {
             "color": "#2a3f5f"
            },
            "marker": {
             "line": {
              "color": "#E5ECF6",
              "width": 0.5
             },
             "pattern": {
              "fillmode": "overlay",
              "size": 10,
              "solidity": 0.2
             }
            },
            "type": "bar"
           }
          ],
          "barpolar": [
           {
            "marker": {
             "line": {
              "color": "#E5ECF6",
              "width": 0.5
             },
             "pattern": {
              "fillmode": "overlay",
              "size": 10,
              "solidity": 0.2
             }
            },
            "type": "barpolar"
           }
          ],
          "carpet": [
           {
            "aaxis": {
             "endlinecolor": "#2a3f5f",
             "gridcolor": "white",
             "linecolor": "white",
             "minorgridcolor": "white",
             "startlinecolor": "#2a3f5f"
            },
            "baxis": {
             "endlinecolor": "#2a3f5f",
             "gridcolor": "white",
             "linecolor": "white",
             "minorgridcolor": "white",
             "startlinecolor": "#2a3f5f"
            },
            "type": "carpet"
           }
          ],
          "choropleth": [
           {
            "colorbar": {
             "outlinewidth": 0,
             "ticks": ""
            },
            "type": "choropleth"
           }
          ],
          "contour": [
           {
            "colorbar": {
             "outlinewidth": 0,
             "ticks": ""
            },
            "colorscale": [
             [
              0,
              "#0d0887"
             ],
             [
              0.1111111111111111,
              "#46039f"
             ],
             [
              0.2222222222222222,
              "#7201a8"
             ],
             [
              0.3333333333333333,
              "#9c179e"
             ],
             [
              0.4444444444444444,
              "#bd3786"
             ],
             [
              0.5555555555555556,
              "#d8576b"
             ],
             [
              0.6666666666666666,
              "#ed7953"
             ],
             [
              0.7777777777777778,
              "#fb9f3a"
             ],
             [
              0.8888888888888888,
              "#fdca26"
             ],
             [
              1,
              "#f0f921"
             ]
            ],
            "type": "contour"
           }
          ],
          "contourcarpet": [
           {
            "colorbar": {
             "outlinewidth": 0,
             "ticks": ""
            },
            "type": "contourcarpet"
           }
          ],
          "heatmap": [
           {
            "colorbar": {
             "outlinewidth": 0,
             "ticks": ""
            },
            "colorscale": [
             [
              0,
              "#0d0887"
             ],
             [
              0.1111111111111111,
              "#46039f"
             ],
             [
              0.2222222222222222,
              "#7201a8"
             ],
             [
              0.3333333333333333,
              "#9c179e"
             ],
             [
              0.4444444444444444,
              "#bd3786"
             ],
             [
              0.5555555555555556,
              "#d8576b"
             ],
             [
              0.6666666666666666,
              "#ed7953"
             ],
             [
              0.7777777777777778,
              "#fb9f3a"
             ],
             [
              0.8888888888888888,
              "#fdca26"
             ],
             [
              1,
              "#f0f921"
             ]
            ],
            "type": "heatmap"
           }
          ],
          "heatmapgl": [
           {
            "colorbar": {
             "outlinewidth": 0,
             "ticks": ""
            },
            "colorscale": [
             [
              0,
              "#0d0887"
             ],
             [
              0.1111111111111111,
              "#46039f"
             ],
             [
              0.2222222222222222,
              "#7201a8"
             ],
             [
              0.3333333333333333,
              "#9c179e"
             ],
             [
              0.4444444444444444,
              "#bd3786"
             ],
             [
              0.5555555555555556,
              "#d8576b"
             ],
             [
              0.6666666666666666,
              "#ed7953"
             ],
             [
              0.7777777777777778,
              "#fb9f3a"
             ],
             [
              0.8888888888888888,
              "#fdca26"
             ],
             [
              1,
              "#f0f921"
             ]
            ],
            "type": "heatmapgl"
           }
          ],
          "histogram": [
           {
            "marker": {
             "pattern": {
              "fillmode": "overlay",
              "size": 10,
              "solidity": 0.2
             }
            },
            "type": "histogram"
           }
          ],
          "histogram2d": [
           {
            "colorbar": {
             "outlinewidth": 0,
             "ticks": ""
            },
            "colorscale": [
             [
              0,
              "#0d0887"
             ],
             [
              0.1111111111111111,
              "#46039f"
             ],
             [
              0.2222222222222222,
              "#7201a8"
             ],
             [
              0.3333333333333333,
              "#9c179e"
             ],
             [
              0.4444444444444444,
              "#bd3786"
             ],
             [
              0.5555555555555556,
              "#d8576b"
             ],
             [
              0.6666666666666666,
              "#ed7953"
             ],
             [
              0.7777777777777778,
              "#fb9f3a"
             ],
             [
              0.8888888888888888,
              "#fdca26"
             ],
             [
              1,
              "#f0f921"
             ]
            ],
            "type": "histogram2d"
           }
          ],
          "histogram2dcontour": [
           {
            "colorbar": {
             "outlinewidth": 0,
             "ticks": ""
            },
            "colorscale": [
             [
              0,
              "#0d0887"
             ],
             [
              0.1111111111111111,
              "#46039f"
             ],
             [
              0.2222222222222222,
              "#7201a8"
             ],
             [
              0.3333333333333333,
              "#9c179e"
             ],
             [
              0.4444444444444444,
              "#bd3786"
             ],
             [
              0.5555555555555556,
              "#d8576b"
             ],
             [
              0.6666666666666666,
              "#ed7953"
             ],
             [
              0.7777777777777778,
              "#fb9f3a"
             ],
             [
              0.8888888888888888,
              "#fdca26"
             ],
             [
              1,
              "#f0f921"
             ]
            ],
            "type": "histogram2dcontour"
           }
          ],
          "mesh3d": [
           {
            "colorbar": {
             "outlinewidth": 0,
             "ticks": ""
            },
            "type": "mesh3d"
           }
          ],
          "parcoords": [
           {
            "line": {
             "colorbar": {
              "outlinewidth": 0,
              "ticks": ""
             }
            },
            "type": "parcoords"
           }
          ],
          "pie": [
           {
            "automargin": true,
            "type": "pie"
           }
          ],
          "scatter": [
           {
            "fillpattern": {
             "fillmode": "overlay",
             "size": 10,
             "solidity": 0.2
            },
            "type": "scatter"
           }
          ],
          "scatter3d": [
           {
            "line": {
             "colorbar": {
              "outlinewidth": 0,
              "ticks": ""
             }
            },
            "marker": {
             "colorbar": {
              "outlinewidth": 0,
              "ticks": ""
             }
            },
            "type": "scatter3d"
           }
          ],
          "scattercarpet": [
           {
            "marker": {
             "colorbar": {
              "outlinewidth": 0,
              "ticks": ""
             }
            },
            "type": "scattercarpet"
           }
          ],
          "scattergeo": [
           {
            "marker": {
             "colorbar": {
              "outlinewidth": 0,
              "ticks": ""
             }
            },
            "type": "scattergeo"
           }
          ],
          "scattergl": [
           {
            "marker": {
             "colorbar": {
              "outlinewidth": 0,
              "ticks": ""
             }
            },
            "type": "scattergl"
           }
          ],
          "scattermapbox": [
           {
            "marker": {
             "colorbar": {
              "outlinewidth": 0,
              "ticks": ""
             }
            },
            "type": "scattermapbox"
           }
          ],
          "scatterpolar": [
           {
            "marker": {
             "colorbar": {
              "outlinewidth": 0,
              "ticks": ""
             }
            },
            "type": "scatterpolar"
           }
          ],
          "scatterpolargl": [
           {
            "marker": {
             "colorbar": {
              "outlinewidth": 0,
              "ticks": ""
             }
            },
            "type": "scatterpolargl"
           }
          ],
          "scatterternary": [
           {
            "marker": {
             "colorbar": {
              "outlinewidth": 0,
              "ticks": ""
             }
            },
            "type": "scatterternary"
           }
          ],
          "surface": [
           {
            "colorbar": {
             "outlinewidth": 0,
             "ticks": ""
            },
            "colorscale": [
             [
              0,
              "#0d0887"
             ],
             [
              0.1111111111111111,
              "#46039f"
             ],
             [
              0.2222222222222222,
              "#7201a8"
             ],
             [
              0.3333333333333333,
              "#9c179e"
             ],
             [
              0.4444444444444444,
              "#bd3786"
             ],
             [
              0.5555555555555556,
              "#d8576b"
             ],
             [
              0.6666666666666666,
              "#ed7953"
             ],
             [
              0.7777777777777778,
              "#fb9f3a"
             ],
             [
              0.8888888888888888,
              "#fdca26"
             ],
             [
              1,
              "#f0f921"
             ]
            ],
            "type": "surface"
           }
          ],
          "table": [
           {
            "cells": {
             "fill": {
              "color": "#EBF0F8"
             },
             "line": {
              "color": "white"
             }
            },
            "header": {
             "fill": {
              "color": "#C8D4E3"
             },
             "line": {
              "color": "white"
             }
            },
            "type": "table"
           }
          ]
         },
         "layout": {
          "annotationdefaults": {
           "arrowcolor": "#2a3f5f",
           "arrowhead": 0,
           "arrowwidth": 1
          },
          "autotypenumbers": "strict",
          "coloraxis": {
           "colorbar": {
            "outlinewidth": 0,
            "ticks": ""
           }
          },
          "colorscale": {
           "diverging": [
            [
             0,
             "#8e0152"
            ],
            [
             0.1,
             "#c51b7d"
            ],
            [
             0.2,
             "#de77ae"
            ],
            [
             0.3,
             "#f1b6da"
            ],
            [
             0.4,
             "#fde0ef"
            ],
            [
             0.5,
             "#f7f7f7"
            ],
            [
             0.6,
             "#e6f5d0"
            ],
            [
             0.7,
             "#b8e186"
            ],
            [
             0.8,
             "#7fbc41"
            ],
            [
             0.9,
             "#4d9221"
            ],
            [
             1,
             "#276419"
            ]
           ],
           "sequential": [
            [
             0,
             "#0d0887"
            ],
            [
             0.1111111111111111,
             "#46039f"
            ],
            [
             0.2222222222222222,
             "#7201a8"
            ],
            [
             0.3333333333333333,
             "#9c179e"
            ],
            [
             0.4444444444444444,
             "#bd3786"
            ],
            [
             0.5555555555555556,
             "#d8576b"
            ],
            [
             0.6666666666666666,
             "#ed7953"
            ],
            [
             0.7777777777777778,
             "#fb9f3a"
            ],
            [
             0.8888888888888888,
             "#fdca26"
            ],
            [
             1,
             "#f0f921"
            ]
           ],
           "sequentialminus": [
            [
             0,
             "#0d0887"
            ],
            [
             0.1111111111111111,
             "#46039f"
            ],
            [
             0.2222222222222222,
             "#7201a8"
            ],
            [
             0.3333333333333333,
             "#9c179e"
            ],
            [
             0.4444444444444444,
             "#bd3786"
            ],
            [
             0.5555555555555556,
             "#d8576b"
            ],
            [
             0.6666666666666666,
             "#ed7953"
            ],
            [
             0.7777777777777778,
             "#fb9f3a"
            ],
            [
             0.8888888888888888,
             "#fdca26"
            ],
            [
             1,
             "#f0f921"
            ]
           ]
          },
          "colorway": [
           "#636efa",
           "#EF553B",
           "#00cc96",
           "#ab63fa",
           "#FFA15A",
           "#19d3f3",
           "#FF6692",
           "#B6E880",
           "#FF97FF",
           "#FECB52"
          ],
          "font": {
           "color": "#2a3f5f"
          },
          "geo": {
           "bgcolor": "white",
           "lakecolor": "white",
           "landcolor": "#E5ECF6",
           "showlakes": true,
           "showland": true,
           "subunitcolor": "white"
          },
          "hoverlabel": {
           "align": "left"
          },
          "hovermode": "closest",
          "mapbox": {
           "style": "light"
          },
          "paper_bgcolor": "white",
          "plot_bgcolor": "#E5ECF6",
          "polar": {
           "angularaxis": {
            "gridcolor": "white",
            "linecolor": "white",
            "ticks": ""
           },
           "bgcolor": "#E5ECF6",
           "radialaxis": {
            "gridcolor": "white",
            "linecolor": "white",
            "ticks": ""
           }
          },
          "scene": {
           "xaxis": {
            "backgroundcolor": "#E5ECF6",
            "gridcolor": "white",
            "gridwidth": 2,
            "linecolor": "white",
            "showbackground": true,
            "ticks": "",
            "zerolinecolor": "white"
           },
           "yaxis": {
            "backgroundcolor": "#E5ECF6",
            "gridcolor": "white",
            "gridwidth": 2,
            "linecolor": "white",
            "showbackground": true,
            "ticks": "",
            "zerolinecolor": "white"
           },
           "zaxis": {
            "backgroundcolor": "#E5ECF6",
            "gridcolor": "white",
            "gridwidth": 2,
            "linecolor": "white",
            "showbackground": true,
            "ticks": "",
            "zerolinecolor": "white"
           }
          },
          "shapedefaults": {
           "line": {
            "color": "#2a3f5f"
           }
          },
          "ternary": {
           "aaxis": {
            "gridcolor": "white",
            "linecolor": "white",
            "ticks": ""
           },
           "baxis": {
            "gridcolor": "white",
            "linecolor": "white",
            "ticks": ""
           },
           "bgcolor": "#E5ECF6",
           "caxis": {
            "gridcolor": "white",
            "linecolor": "white",
            "ticks": ""
           }
          },
          "title": {
           "x": 0.05
          },
          "xaxis": {
           "automargin": true,
           "gridcolor": "white",
           "linecolor": "white",
           "ticks": "",
           "title": {
            "standoff": 15
           },
           "zerolinecolor": "white",
           "zerolinewidth": 2
          },
          "yaxis": {
           "automargin": true,
           "gridcolor": "white",
           "linecolor": "white",
           "ticks": "",
           "title": {
            "standoff": 15
           },
           "zerolinecolor": "white",
           "zerolinewidth": 2
          }
         }
        },
        "title": {
         "text": "En hiver"
        },
        "width": 1000,
        "xaxis": {
         "title": {
          "text": "Horaire"
         }
        },
        "yaxis": {
         "title": {
          "text": "Thermosensibilité (GW/°C)"
         }
        }
       }
      },
      "text/html": [
       "<div>                            <div id=\"2429b46a-5f22-45a6-8d16-23357ed8f92c\" class=\"plotly-graph-div\" style=\"height:500px; width:1000px;\"></div>            <script type=\"text/javascript\">                require([\"plotly\"], function(Plotly) {                    window.PLOTLYENV=window.PLOTLYENV || {};                                    if (document.getElementById(\"2429b46a-5f22-45a6-8d16-23357ed8f92c\")) {                    Plotly.newPlot(                        \"2429b46a-5f22-45a6-8d16-23357ed8f92c\",                        [{\"line\":{\"color\":\"gray\"},\"mode\":\"lines\",\"name\":\"2019\",\"x\":[0,1,2,3,4,5,6,7,8,9,10,11,12,13,14,15,16,17,18,19,20,21,22,23],\"y\":[2381.9058772979797,2424.5466386259327,2469.388890814654,2482.9632570131944,2453.023770021789,2458.74922624812,2543.76006163136,2688.458969317609,2752.1101850298837,2620.346133962741,2558.714198694341,2574.3563450247552,2572.500053541472,2593.006564906592,2559.0727698661403,2501.756367465761,2548.83760242875,2622.0329162710527,2972.4764624469904,2977.9021902218165,2627.620932539371,2485.586218296157,2350.5583410637505,1869.3312745785418],\"type\":\"scatter\"},{\"line\":{\"color\":\"blue\"},\"mode\":\"lines\",\"name\":\"2050\",\"x\":[0,1,2,3,4,5,6,7,8,9,10,11,12,13,14,15,16,17,18,19,20,21,22,23],\"y\":[2530.4723988921914,2753.483192384683,2976.748339463047,2814.4461146342937,2727.205106944786,2886.043632088836,2522.775195320772,2436.896587406642,2515.4080713654844,1943.2344512755885,1543.4522258668703,2101.13298444585,1654.5305760738377,1236.5004910484977,1129.8685437317317,1302.1107602032364,582.7830554102085,1142.2257892537602,1861.3376180880794,2285.2478883309195,2314.8548308888167,2362.0340945007833,2343.7188474212635,2054.6473635591437],\"type\":\"scatter\"}],                        {\"template\":{\"data\":{\"histogram2dcontour\":[{\"type\":\"histogram2dcontour\",\"colorbar\":{\"outlinewidth\":0,\"ticks\":\"\"},\"colorscale\":[[0.0,\"#0d0887\"],[0.1111111111111111,\"#46039f\"],[0.2222222222222222,\"#7201a8\"],[0.3333333333333333,\"#9c179e\"],[0.4444444444444444,\"#bd3786\"],[0.5555555555555556,\"#d8576b\"],[0.6666666666666666,\"#ed7953\"],[0.7777777777777778,\"#fb9f3a\"],[0.8888888888888888,\"#fdca26\"],[1.0,\"#f0f921\"]]}],\"choropleth\":[{\"type\":\"choropleth\",\"colorbar\":{\"outlinewidth\":0,\"ticks\":\"\"}}],\"histogram2d\":[{\"type\":\"histogram2d\",\"colorbar\":{\"outlinewidth\":0,\"ticks\":\"\"},\"colorscale\":[[0.0,\"#0d0887\"],[0.1111111111111111,\"#46039f\"],[0.2222222222222222,\"#7201a8\"],[0.3333333333333333,\"#9c179e\"],[0.4444444444444444,\"#bd3786\"],[0.5555555555555556,\"#d8576b\"],[0.6666666666666666,\"#ed7953\"],[0.7777777777777778,\"#fb9f3a\"],[0.8888888888888888,\"#fdca26\"],[1.0,\"#f0f921\"]]}],\"heatmap\":[{\"type\":\"heatmap\",\"colorbar\":{\"outlinewidth\":0,\"ticks\":\"\"},\"colorscale\":[[0.0,\"#0d0887\"],[0.1111111111111111,\"#46039f\"],[0.2222222222222222,\"#7201a8\"],[0.3333333333333333,\"#9c179e\"],[0.4444444444444444,\"#bd3786\"],[0.5555555555555556,\"#d8576b\"],[0.6666666666666666,\"#ed7953\"],[0.7777777777777778,\"#fb9f3a\"],[0.8888888888888888,\"#fdca26\"],[1.0,\"#f0f921\"]]}],\"heatmapgl\":[{\"type\":\"heatmapgl\",\"colorbar\":{\"outlinewidth\":0,\"ticks\":\"\"},\"colorscale\":[[0.0,\"#0d0887\"],[0.1111111111111111,\"#46039f\"],[0.2222222222222222,\"#7201a8\"],[0.3333333333333333,\"#9c179e\"],[0.4444444444444444,\"#bd3786\"],[0.5555555555555556,\"#d8576b\"],[0.6666666666666666,\"#ed7953\"],[0.7777777777777778,\"#fb9f3a\"],[0.8888888888888888,\"#fdca26\"],[1.0,\"#f0f921\"]]}],\"contourcarpet\":[{\"type\":\"contourcarpet\",\"colorbar\":{\"outlinewidth\":0,\"ticks\":\"\"}}],\"contour\":[{\"type\":\"contour\",\"colorbar\":{\"outlinewidth\":0,\"ticks\":\"\"},\"colorscale\":[[0.0,\"#0d0887\"],[0.1111111111111111,\"#46039f\"],[0.2222222222222222,\"#7201a8\"],[0.3333333333333333,\"#9c179e\"],[0.4444444444444444,\"#bd3786\"],[0.5555555555555556,\"#d8576b\"],[0.6666666666666666,\"#ed7953\"],[0.7777777777777778,\"#fb9f3a\"],[0.8888888888888888,\"#fdca26\"],[1.0,\"#f0f921\"]]}],\"surface\":[{\"type\":\"surface\",\"colorbar\":{\"outlinewidth\":0,\"ticks\":\"\"},\"colorscale\":[[0.0,\"#0d0887\"],[0.1111111111111111,\"#46039f\"],[0.2222222222222222,\"#7201a8\"],[0.3333333333333333,\"#9c179e\"],[0.4444444444444444,\"#bd3786\"],[0.5555555555555556,\"#d8576b\"],[0.6666666666666666,\"#ed7953\"],[0.7777777777777778,\"#fb9f3a\"],[0.8888888888888888,\"#fdca26\"],[1.0,\"#f0f921\"]]}],\"mesh3d\":[{\"type\":\"mesh3d\",\"colorbar\":{\"outlinewidth\":0,\"ticks\":\"\"}}],\"scatter\":[{\"fillpattern\":{\"fillmode\":\"overlay\",\"size\":10,\"solidity\":0.2},\"type\":\"scatter\"}],\"parcoords\":[{\"type\":\"parcoords\",\"line\":{\"colorbar\":{\"outlinewidth\":0,\"ticks\":\"\"}}}],\"scatterpolargl\":[{\"type\":\"scatterpolargl\",\"marker\":{\"colorbar\":{\"outlinewidth\":0,\"ticks\":\"\"}}}],\"bar\":[{\"error_x\":{\"color\":\"#2a3f5f\"},\"error_y\":{\"color\":\"#2a3f5f\"},\"marker\":{\"line\":{\"color\":\"#E5ECF6\",\"width\":0.5},\"pattern\":{\"fillmode\":\"overlay\",\"size\":10,\"solidity\":0.2}},\"type\":\"bar\"}],\"scattergeo\":[{\"type\":\"scattergeo\",\"marker\":{\"colorbar\":{\"outlinewidth\":0,\"ticks\":\"\"}}}],\"scatterpolar\":[{\"type\":\"scatterpolar\",\"marker\":{\"colorbar\":{\"outlinewidth\":0,\"ticks\":\"\"}}}],\"histogram\":[{\"marker\":{\"pattern\":{\"fillmode\":\"overlay\",\"size\":10,\"solidity\":0.2}},\"type\":\"histogram\"}],\"scattergl\":[{\"type\":\"scattergl\",\"marker\":{\"colorbar\":{\"outlinewidth\":0,\"ticks\":\"\"}}}],\"scatter3d\":[{\"type\":\"scatter3d\",\"line\":{\"colorbar\":{\"outlinewidth\":0,\"ticks\":\"\"}},\"marker\":{\"colorbar\":{\"outlinewidth\":0,\"ticks\":\"\"}}}],\"scattermapbox\":[{\"type\":\"scattermapbox\",\"marker\":{\"colorbar\":{\"outlinewidth\":0,\"ticks\":\"\"}}}],\"scatterternary\":[{\"type\":\"scatterternary\",\"marker\":{\"colorbar\":{\"outlinewidth\":0,\"ticks\":\"\"}}}],\"scattercarpet\":[{\"type\":\"scattercarpet\",\"marker\":{\"colorbar\":{\"outlinewidth\":0,\"ticks\":\"\"}}}],\"carpet\":[{\"aaxis\":{\"endlinecolor\":\"#2a3f5f\",\"gridcolor\":\"white\",\"linecolor\":\"white\",\"minorgridcolor\":\"white\",\"startlinecolor\":\"#2a3f5f\"},\"baxis\":{\"endlinecolor\":\"#2a3f5f\",\"gridcolor\":\"white\",\"linecolor\":\"white\",\"minorgridcolor\":\"white\",\"startlinecolor\":\"#2a3f5f\"},\"type\":\"carpet\"}],\"table\":[{\"cells\":{\"fill\":{\"color\":\"#EBF0F8\"},\"line\":{\"color\":\"white\"}},\"header\":{\"fill\":{\"color\":\"#C8D4E3\"},\"line\":{\"color\":\"white\"}},\"type\":\"table\"}],\"barpolar\":[{\"marker\":{\"line\":{\"color\":\"#E5ECF6\",\"width\":0.5},\"pattern\":{\"fillmode\":\"overlay\",\"size\":10,\"solidity\":0.2}},\"type\":\"barpolar\"}],\"pie\":[{\"automargin\":true,\"type\":\"pie\"}]},\"layout\":{\"autotypenumbers\":\"strict\",\"colorway\":[\"#636efa\",\"#EF553B\",\"#00cc96\",\"#ab63fa\",\"#FFA15A\",\"#19d3f3\",\"#FF6692\",\"#B6E880\",\"#FF97FF\",\"#FECB52\"],\"font\":{\"color\":\"#2a3f5f\"},\"hovermode\":\"closest\",\"hoverlabel\":{\"align\":\"left\"},\"paper_bgcolor\":\"white\",\"plot_bgcolor\":\"#E5ECF6\",\"polar\":{\"bgcolor\":\"#E5ECF6\",\"angularaxis\":{\"gridcolor\":\"white\",\"linecolor\":\"white\",\"ticks\":\"\"},\"radialaxis\":{\"gridcolor\":\"white\",\"linecolor\":\"white\",\"ticks\":\"\"}},\"ternary\":{\"bgcolor\":\"#E5ECF6\",\"aaxis\":{\"gridcolor\":\"white\",\"linecolor\":\"white\",\"ticks\":\"\"},\"baxis\":{\"gridcolor\":\"white\",\"linecolor\":\"white\",\"ticks\":\"\"},\"caxis\":{\"gridcolor\":\"white\",\"linecolor\":\"white\",\"ticks\":\"\"}},\"coloraxis\":{\"colorbar\":{\"outlinewidth\":0,\"ticks\":\"\"}},\"colorscale\":{\"sequential\":[[0.0,\"#0d0887\"],[0.1111111111111111,\"#46039f\"],[0.2222222222222222,\"#7201a8\"],[0.3333333333333333,\"#9c179e\"],[0.4444444444444444,\"#bd3786\"],[0.5555555555555556,\"#d8576b\"],[0.6666666666666666,\"#ed7953\"],[0.7777777777777778,\"#fb9f3a\"],[0.8888888888888888,\"#fdca26\"],[1.0,\"#f0f921\"]],\"sequentialminus\":[[0.0,\"#0d0887\"],[0.1111111111111111,\"#46039f\"],[0.2222222222222222,\"#7201a8\"],[0.3333333333333333,\"#9c179e\"],[0.4444444444444444,\"#bd3786\"],[0.5555555555555556,\"#d8576b\"],[0.6666666666666666,\"#ed7953\"],[0.7777777777777778,\"#fb9f3a\"],[0.8888888888888888,\"#fdca26\"],[1.0,\"#f0f921\"]],\"diverging\":[[0,\"#8e0152\"],[0.1,\"#c51b7d\"],[0.2,\"#de77ae\"],[0.3,\"#f1b6da\"],[0.4,\"#fde0ef\"],[0.5,\"#f7f7f7\"],[0.6,\"#e6f5d0\"],[0.7,\"#b8e186\"],[0.8,\"#7fbc41\"],[0.9,\"#4d9221\"],[1,\"#276419\"]]},\"xaxis\":{\"gridcolor\":\"white\",\"linecolor\":\"white\",\"ticks\":\"\",\"title\":{\"standoff\":15},\"zerolinecolor\":\"white\",\"automargin\":true,\"zerolinewidth\":2},\"yaxis\":{\"gridcolor\":\"white\",\"linecolor\":\"white\",\"ticks\":\"\",\"title\":{\"standoff\":15},\"zerolinecolor\":\"white\",\"automargin\":true,\"zerolinewidth\":2},\"scene\":{\"xaxis\":{\"backgroundcolor\":\"#E5ECF6\",\"gridcolor\":\"white\",\"linecolor\":\"white\",\"showbackground\":true,\"ticks\":\"\",\"zerolinecolor\":\"white\",\"gridwidth\":2},\"yaxis\":{\"backgroundcolor\":\"#E5ECF6\",\"gridcolor\":\"white\",\"linecolor\":\"white\",\"showbackground\":true,\"ticks\":\"\",\"zerolinecolor\":\"white\",\"gridwidth\":2},\"zaxis\":{\"backgroundcolor\":\"#E5ECF6\",\"gridcolor\":\"white\",\"linecolor\":\"white\",\"showbackground\":true,\"ticks\":\"\",\"zerolinecolor\":\"white\",\"gridwidth\":2}},\"shapedefaults\":{\"line\":{\"color\":\"#2a3f5f\"}},\"annotationdefaults\":{\"arrowcolor\":\"#2a3f5f\",\"arrowhead\":0,\"arrowwidth\":1},\"geo\":{\"bgcolor\":\"white\",\"landcolor\":\"#E5ECF6\",\"subunitcolor\":\"white\",\"showland\":true,\"showlakes\":true,\"lakecolor\":\"white\"},\"title\":{\"x\":0.05},\"mapbox\":{\"style\":\"light\"}}},\"title\":{\"text\":\"En hiver\"},\"width\":1000,\"height\":500,\"yaxis\":{\"title\":{\"text\":\"Thermosensibilit\\u00e9 (GW/\\u00b0C)\"}},\"xaxis\":{\"title\":{\"text\":\"Horaire\"}}},                        {\"responsive\": true}                    ).then(function(){\n",
       "                            \n",
       "var gd = document.getElementById('2429b46a-5f22-45a6-8d16-23357ed8f92c');\n",
       "var x = new MutationObserver(function (mutations, observer) {{\n",
       "        var display = window.getComputedStyle(gd).display;\n",
       "        if (!display || display === 'none') {{\n",
       "            console.log([gd, 'removed!']);\n",
       "            Plotly.purge(gd);\n",
       "            observer.disconnect();\n",
       "        }}\n",
       "}});\n",
       "\n",
       "// Listen for the removal of the full notebook cells\n",
       "var notebookContainer = gd.closest('#notebook-container');\n",
       "if (notebookContainer) {{\n",
       "    x.observe(notebookContainer, {childList: true});\n",
       "}}\n",
       "\n",
       "// Listen for the clearing of the current output cell\n",
       "var outputEl = gd.closest('.output');\n",
       "if (outputEl) {{\n",
       "    x.observe(outputEl, {childList: true});\n",
       "}}\n",
       "\n",
       "                        })                };                });            </script>        </div>"
      ]
     },
     "metadata": {},
     "output_type": "display_data"
    },
    {
     "data": {
      "application/vnd.plotly.v1+json": {
       "config": {
        "plotlyServerURL": "https://plot.ly"
       },
       "data": [
        {
         "line": {
          "color": "gray"
         },
         "mode": "lines",
         "name": "2019",
         "type": "scatter",
         "x": [
          0,
          1,
          2,
          3,
          4,
          5,
          6,
          7,
          8,
          9,
          10,
          11,
          12,
          13,
          14,
          15,
          16,
          17,
          18,
          19,
          20,
          21,
          22,
          23
         ],
         "y": [
          831.8360599016585,
          704.0659955292981,
          719.5801776142312,
          678.8690214059357,
          597.1055912875349,
          556.2094420678245,
          579.844650605531,
          740.2511054876878,
          941.6859551009035,
          1035.1324856658555,
          982.0738311481781,
          1232.174977190789,
          1079.3871621908163,
          917.3709409829777,
          957.1569548756152,
          940.6718162112325,
          967.570546454397,
          1111.036743261954,
          1130.719964910326,
          999.9494989261026,
          1063.7330288774958,
          884.7355114014931,
          977.5080067776023,
          980.9853094206593
         ]
        },
        {
         "line": {
          "color": "blue"
         },
         "mode": "lines",
         "name": "2050",
         "type": "scatter",
         "x": [
          0,
          1,
          2,
          3,
          4,
          5,
          6,
          7,
          8,
          9,
          10,
          11,
          12,
          13,
          14,
          15,
          16,
          17,
          18,
          19,
          20,
          21,
          22,
          23
         ],
         "y": [
          1834.9701123392047,
          1401.140293495101,
          1656.9489518010807,
          1163.2133949330419,
          1114.9687299115933,
          971.7927368234341,
          1228.200251339724,
          1743.1829700261903,
          2011.7197566850512,
          3177.4740484986237,
          2442.699422233714,
          2754.9818556165505,
          2381.6500891404817,
          1931.9824486238285,
          1877.241004146555,
          1928.5334046435582,
          1942.5755748988913,
          2380.6853128863877,
          2792.6013546916483,
          2200.1215338280376,
          1992.1812834185785,
          1808.1108857794559,
          2132.924327723267,
          2395.514813197666
         ]
        }
       ],
       "layout": {
        "height": 500,
        "template": {
         "data": {
          "bar": [
           {
            "error_x": {
             "color": "#2a3f5f"
            },
            "error_y": {
             "color": "#2a3f5f"
            },
            "marker": {
             "line": {
              "color": "#E5ECF6",
              "width": 0.5
             },
             "pattern": {
              "fillmode": "overlay",
              "size": 10,
              "solidity": 0.2
             }
            },
            "type": "bar"
           }
          ],
          "barpolar": [
           {
            "marker": {
             "line": {
              "color": "#E5ECF6",
              "width": 0.5
             },
             "pattern": {
              "fillmode": "overlay",
              "size": 10,
              "solidity": 0.2
             }
            },
            "type": "barpolar"
           }
          ],
          "carpet": [
           {
            "aaxis": {
             "endlinecolor": "#2a3f5f",
             "gridcolor": "white",
             "linecolor": "white",
             "minorgridcolor": "white",
             "startlinecolor": "#2a3f5f"
            },
            "baxis": {
             "endlinecolor": "#2a3f5f",
             "gridcolor": "white",
             "linecolor": "white",
             "minorgridcolor": "white",
             "startlinecolor": "#2a3f5f"
            },
            "type": "carpet"
           }
          ],
          "choropleth": [
           {
            "colorbar": {
             "outlinewidth": 0,
             "ticks": ""
            },
            "type": "choropleth"
           }
          ],
          "contour": [
           {
            "colorbar": {
             "outlinewidth": 0,
             "ticks": ""
            },
            "colorscale": [
             [
              0,
              "#0d0887"
             ],
             [
              0.1111111111111111,
              "#46039f"
             ],
             [
              0.2222222222222222,
              "#7201a8"
             ],
             [
              0.3333333333333333,
              "#9c179e"
             ],
             [
              0.4444444444444444,
              "#bd3786"
             ],
             [
              0.5555555555555556,
              "#d8576b"
             ],
             [
              0.6666666666666666,
              "#ed7953"
             ],
             [
              0.7777777777777778,
              "#fb9f3a"
             ],
             [
              0.8888888888888888,
              "#fdca26"
             ],
             [
              1,
              "#f0f921"
             ]
            ],
            "type": "contour"
           }
          ],
          "contourcarpet": [
           {
            "colorbar": {
             "outlinewidth": 0,
             "ticks": ""
            },
            "type": "contourcarpet"
           }
          ],
          "heatmap": [
           {
            "colorbar": {
             "outlinewidth": 0,
             "ticks": ""
            },
            "colorscale": [
             [
              0,
              "#0d0887"
             ],
             [
              0.1111111111111111,
              "#46039f"
             ],
             [
              0.2222222222222222,
              "#7201a8"
             ],
             [
              0.3333333333333333,
              "#9c179e"
             ],
             [
              0.4444444444444444,
              "#bd3786"
             ],
             [
              0.5555555555555556,
              "#d8576b"
             ],
             [
              0.6666666666666666,
              "#ed7953"
             ],
             [
              0.7777777777777778,
              "#fb9f3a"
             ],
             [
              0.8888888888888888,
              "#fdca26"
             ],
             [
              1,
              "#f0f921"
             ]
            ],
            "type": "heatmap"
           }
          ],
          "heatmapgl": [
           {
            "colorbar": {
             "outlinewidth": 0,
             "ticks": ""
            },
            "colorscale": [
             [
              0,
              "#0d0887"
             ],
             [
              0.1111111111111111,
              "#46039f"
             ],
             [
              0.2222222222222222,
              "#7201a8"
             ],
             [
              0.3333333333333333,
              "#9c179e"
             ],
             [
              0.4444444444444444,
              "#bd3786"
             ],
             [
              0.5555555555555556,
              "#d8576b"
             ],
             [
              0.6666666666666666,
              "#ed7953"
             ],
             [
              0.7777777777777778,
              "#fb9f3a"
             ],
             [
              0.8888888888888888,
              "#fdca26"
             ],
             [
              1,
              "#f0f921"
             ]
            ],
            "type": "heatmapgl"
           }
          ],
          "histogram": [
           {
            "marker": {
             "pattern": {
              "fillmode": "overlay",
              "size": 10,
              "solidity": 0.2
             }
            },
            "type": "histogram"
           }
          ],
          "histogram2d": [
           {
            "colorbar": {
             "outlinewidth": 0,
             "ticks": ""
            },
            "colorscale": [
             [
              0,
              "#0d0887"
             ],
             [
              0.1111111111111111,
              "#46039f"
             ],
             [
              0.2222222222222222,
              "#7201a8"
             ],
             [
              0.3333333333333333,
              "#9c179e"
             ],
             [
              0.4444444444444444,
              "#bd3786"
             ],
             [
              0.5555555555555556,
              "#d8576b"
             ],
             [
              0.6666666666666666,
              "#ed7953"
             ],
             [
              0.7777777777777778,
              "#fb9f3a"
             ],
             [
              0.8888888888888888,
              "#fdca26"
             ],
             [
              1,
              "#f0f921"
             ]
            ],
            "type": "histogram2d"
           }
          ],
          "histogram2dcontour": [
           {
            "colorbar": {
             "outlinewidth": 0,
             "ticks": ""
            },
            "colorscale": [
             [
              0,
              "#0d0887"
             ],
             [
              0.1111111111111111,
              "#46039f"
             ],
             [
              0.2222222222222222,
              "#7201a8"
             ],
             [
              0.3333333333333333,
              "#9c179e"
             ],
             [
              0.4444444444444444,
              "#bd3786"
             ],
             [
              0.5555555555555556,
              "#d8576b"
             ],
             [
              0.6666666666666666,
              "#ed7953"
             ],
             [
              0.7777777777777778,
              "#fb9f3a"
             ],
             [
              0.8888888888888888,
              "#fdca26"
             ],
             [
              1,
              "#f0f921"
             ]
            ],
            "type": "histogram2dcontour"
           }
          ],
          "mesh3d": [
           {
            "colorbar": {
             "outlinewidth": 0,
             "ticks": ""
            },
            "type": "mesh3d"
           }
          ],
          "parcoords": [
           {
            "line": {
             "colorbar": {
              "outlinewidth": 0,
              "ticks": ""
             }
            },
            "type": "parcoords"
           }
          ],
          "pie": [
           {
            "automargin": true,
            "type": "pie"
           }
          ],
          "scatter": [
           {
            "fillpattern": {
             "fillmode": "overlay",
             "size": 10,
             "solidity": 0.2
            },
            "type": "scatter"
           }
          ],
          "scatter3d": [
           {
            "line": {
             "colorbar": {
              "outlinewidth": 0,
              "ticks": ""
             }
            },
            "marker": {
             "colorbar": {
              "outlinewidth": 0,
              "ticks": ""
             }
            },
            "type": "scatter3d"
           }
          ],
          "scattercarpet": [
           {
            "marker": {
             "colorbar": {
              "outlinewidth": 0,
              "ticks": ""
             }
            },
            "type": "scattercarpet"
           }
          ],
          "scattergeo": [
           {
            "marker": {
             "colorbar": {
              "outlinewidth": 0,
              "ticks": ""
             }
            },
            "type": "scattergeo"
           }
          ],
          "scattergl": [
           {
            "marker": {
             "colorbar": {
              "outlinewidth": 0,
              "ticks": ""
             }
            },
            "type": "scattergl"
           }
          ],
          "scattermapbox": [
           {
            "marker": {
             "colorbar": {
              "outlinewidth": 0,
              "ticks": ""
             }
            },
            "type": "scattermapbox"
           }
          ],
          "scatterpolar": [
           {
            "marker": {
             "colorbar": {
              "outlinewidth": 0,
              "ticks": ""
             }
            },
            "type": "scatterpolar"
           }
          ],
          "scatterpolargl": [
           {
            "marker": {
             "colorbar": {
              "outlinewidth": 0,
              "ticks": ""
             }
            },
            "type": "scatterpolargl"
           }
          ],
          "scatterternary": [
           {
            "marker": {
             "colorbar": {
              "outlinewidth": 0,
              "ticks": ""
             }
            },
            "type": "scatterternary"
           }
          ],
          "surface": [
           {
            "colorbar": {
             "outlinewidth": 0,
             "ticks": ""
            },
            "colorscale": [
             [
              0,
              "#0d0887"
             ],
             [
              0.1111111111111111,
              "#46039f"
             ],
             [
              0.2222222222222222,
              "#7201a8"
             ],
             [
              0.3333333333333333,
              "#9c179e"
             ],
             [
              0.4444444444444444,
              "#bd3786"
             ],
             [
              0.5555555555555556,
              "#d8576b"
             ],
             [
              0.6666666666666666,
              "#ed7953"
             ],
             [
              0.7777777777777778,
              "#fb9f3a"
             ],
             [
              0.8888888888888888,
              "#fdca26"
             ],
             [
              1,
              "#f0f921"
             ]
            ],
            "type": "surface"
           }
          ],
          "table": [
           {
            "cells": {
             "fill": {
              "color": "#EBF0F8"
             },
             "line": {
              "color": "white"
             }
            },
            "header": {
             "fill": {
              "color": "#C8D4E3"
             },
             "line": {
              "color": "white"
             }
            },
            "type": "table"
           }
          ]
         },
         "layout": {
          "annotationdefaults": {
           "arrowcolor": "#2a3f5f",
           "arrowhead": 0,
           "arrowwidth": 1
          },
          "autotypenumbers": "strict",
          "coloraxis": {
           "colorbar": {
            "outlinewidth": 0,
            "ticks": ""
           }
          },
          "colorscale": {
           "diverging": [
            [
             0,
             "#8e0152"
            ],
            [
             0.1,
             "#c51b7d"
            ],
            [
             0.2,
             "#de77ae"
            ],
            [
             0.3,
             "#f1b6da"
            ],
            [
             0.4,
             "#fde0ef"
            ],
            [
             0.5,
             "#f7f7f7"
            ],
            [
             0.6,
             "#e6f5d0"
            ],
            [
             0.7,
             "#b8e186"
            ],
            [
             0.8,
             "#7fbc41"
            ],
            [
             0.9,
             "#4d9221"
            ],
            [
             1,
             "#276419"
            ]
           ],
           "sequential": [
            [
             0,
             "#0d0887"
            ],
            [
             0.1111111111111111,
             "#46039f"
            ],
            [
             0.2222222222222222,
             "#7201a8"
            ],
            [
             0.3333333333333333,
             "#9c179e"
            ],
            [
             0.4444444444444444,
             "#bd3786"
            ],
            [
             0.5555555555555556,
             "#d8576b"
            ],
            [
             0.6666666666666666,
             "#ed7953"
            ],
            [
             0.7777777777777778,
             "#fb9f3a"
            ],
            [
             0.8888888888888888,
             "#fdca26"
            ],
            [
             1,
             "#f0f921"
            ]
           ],
           "sequentialminus": [
            [
             0,
             "#0d0887"
            ],
            [
             0.1111111111111111,
             "#46039f"
            ],
            [
             0.2222222222222222,
             "#7201a8"
            ],
            [
             0.3333333333333333,
             "#9c179e"
            ],
            [
             0.4444444444444444,
             "#bd3786"
            ],
            [
             0.5555555555555556,
             "#d8576b"
            ],
            [
             0.6666666666666666,
             "#ed7953"
            ],
            [
             0.7777777777777778,
             "#fb9f3a"
            ],
            [
             0.8888888888888888,
             "#fdca26"
            ],
            [
             1,
             "#f0f921"
            ]
           ]
          },
          "colorway": [
           "#636efa",
           "#EF553B",
           "#00cc96",
           "#ab63fa",
           "#FFA15A",
           "#19d3f3",
           "#FF6692",
           "#B6E880",
           "#FF97FF",
           "#FECB52"
          ],
          "font": {
           "color": "#2a3f5f"
          },
          "geo": {
           "bgcolor": "white",
           "lakecolor": "white",
           "landcolor": "#E5ECF6",
           "showlakes": true,
           "showland": true,
           "subunitcolor": "white"
          },
          "hoverlabel": {
           "align": "left"
          },
          "hovermode": "closest",
          "mapbox": {
           "style": "light"
          },
          "paper_bgcolor": "white",
          "plot_bgcolor": "#E5ECF6",
          "polar": {
           "angularaxis": {
            "gridcolor": "white",
            "linecolor": "white",
            "ticks": ""
           },
           "bgcolor": "#E5ECF6",
           "radialaxis": {
            "gridcolor": "white",
            "linecolor": "white",
            "ticks": ""
           }
          },
          "scene": {
           "xaxis": {
            "backgroundcolor": "#E5ECF6",
            "gridcolor": "white",
            "gridwidth": 2,
            "linecolor": "white",
            "showbackground": true,
            "ticks": "",
            "zerolinecolor": "white"
           },
           "yaxis": {
            "backgroundcolor": "#E5ECF6",
            "gridcolor": "white",
            "gridwidth": 2,
            "linecolor": "white",
            "showbackground": true,
            "ticks": "",
            "zerolinecolor": "white"
           },
           "zaxis": {
            "backgroundcolor": "#E5ECF6",
            "gridcolor": "white",
            "gridwidth": 2,
            "linecolor": "white",
            "showbackground": true,
            "ticks": "",
            "zerolinecolor": "white"
           }
          },
          "shapedefaults": {
           "line": {
            "color": "#2a3f5f"
           }
          },
          "ternary": {
           "aaxis": {
            "gridcolor": "white",
            "linecolor": "white",
            "ticks": ""
           },
           "baxis": {
            "gridcolor": "white",
            "linecolor": "white",
            "ticks": ""
           },
           "bgcolor": "#E5ECF6",
           "caxis": {
            "gridcolor": "white",
            "linecolor": "white",
            "ticks": ""
           }
          },
          "title": {
           "x": 0.05
          },
          "xaxis": {
           "automargin": true,
           "gridcolor": "white",
           "linecolor": "white",
           "ticks": "",
           "title": {
            "standoff": 15
           },
           "zerolinecolor": "white",
           "zerolinewidth": 2
          },
          "yaxis": {
           "automargin": true,
           "gridcolor": "white",
           "linecolor": "white",
           "ticks": "",
           "title": {
            "standoff": 15
           },
           "zerolinecolor": "white",
           "zerolinewidth": 2
          }
         }
        },
        "title": {
         "text": "En été"
        },
        "width": 1000,
        "xaxis": {
         "title": {
          "text": "Horaire"
         }
        },
        "yaxis": {
         "title": {
          "text": "Thermosensibilité (GW/°C)"
         }
        }
       }
      },
      "text/html": [
       "<div>                            <div id=\"8571b247-e3e7-4469-83e0-5ccac6410af8\" class=\"plotly-graph-div\" style=\"height:500px; width:1000px;\"></div>            <script type=\"text/javascript\">                require([\"plotly\"], function(Plotly) {                    window.PLOTLYENV=window.PLOTLYENV || {};                                    if (document.getElementById(\"8571b247-e3e7-4469-83e0-5ccac6410af8\")) {                    Plotly.newPlot(                        \"8571b247-e3e7-4469-83e0-5ccac6410af8\",                        [{\"line\":{\"color\":\"gray\"},\"mode\":\"lines\",\"name\":\"2019\",\"x\":[0,1,2,3,4,5,6,7,8,9,10,11,12,13,14,15,16,17,18,19,20,21,22,23],\"y\":[831.8360599016585,704.0659955292981,719.5801776142312,678.8690214059357,597.1055912875349,556.2094420678245,579.844650605531,740.2511054876878,941.6859551009035,1035.1324856658555,982.0738311481781,1232.174977190789,1079.3871621908163,917.3709409829777,957.1569548756152,940.6718162112325,967.570546454397,1111.036743261954,1130.719964910326,999.9494989261026,1063.7330288774958,884.7355114014931,977.5080067776023,980.9853094206593],\"type\":\"scatter\"},{\"line\":{\"color\":\"blue\"},\"mode\":\"lines\",\"name\":\"2050\",\"x\":[0,1,2,3,4,5,6,7,8,9,10,11,12,13,14,15,16,17,18,19,20,21,22,23],\"y\":[1834.9701123392047,1401.140293495101,1656.9489518010807,1163.2133949330419,1114.9687299115933,971.7927368234341,1228.200251339724,1743.1829700261903,2011.7197566850512,3177.4740484986237,2442.699422233714,2754.9818556165505,2381.6500891404817,1931.9824486238285,1877.241004146555,1928.5334046435582,1942.5755748988913,2380.6853128863877,2792.6013546916483,2200.1215338280376,1992.1812834185785,1808.1108857794559,2132.924327723267,2395.514813197666],\"type\":\"scatter\"}],                        {\"template\":{\"data\":{\"histogram2dcontour\":[{\"type\":\"histogram2dcontour\",\"colorbar\":{\"outlinewidth\":0,\"ticks\":\"\"},\"colorscale\":[[0.0,\"#0d0887\"],[0.1111111111111111,\"#46039f\"],[0.2222222222222222,\"#7201a8\"],[0.3333333333333333,\"#9c179e\"],[0.4444444444444444,\"#bd3786\"],[0.5555555555555556,\"#d8576b\"],[0.6666666666666666,\"#ed7953\"],[0.7777777777777778,\"#fb9f3a\"],[0.8888888888888888,\"#fdca26\"],[1.0,\"#f0f921\"]]}],\"choropleth\":[{\"type\":\"choropleth\",\"colorbar\":{\"outlinewidth\":0,\"ticks\":\"\"}}],\"histogram2d\":[{\"type\":\"histogram2d\",\"colorbar\":{\"outlinewidth\":0,\"ticks\":\"\"},\"colorscale\":[[0.0,\"#0d0887\"],[0.1111111111111111,\"#46039f\"],[0.2222222222222222,\"#7201a8\"],[0.3333333333333333,\"#9c179e\"],[0.4444444444444444,\"#bd3786\"],[0.5555555555555556,\"#d8576b\"],[0.6666666666666666,\"#ed7953\"],[0.7777777777777778,\"#fb9f3a\"],[0.8888888888888888,\"#fdca26\"],[1.0,\"#f0f921\"]]}],\"heatmap\":[{\"type\":\"heatmap\",\"colorbar\":{\"outlinewidth\":0,\"ticks\":\"\"},\"colorscale\":[[0.0,\"#0d0887\"],[0.1111111111111111,\"#46039f\"],[0.2222222222222222,\"#7201a8\"],[0.3333333333333333,\"#9c179e\"],[0.4444444444444444,\"#bd3786\"],[0.5555555555555556,\"#d8576b\"],[0.6666666666666666,\"#ed7953\"],[0.7777777777777778,\"#fb9f3a\"],[0.8888888888888888,\"#fdca26\"],[1.0,\"#f0f921\"]]}],\"heatmapgl\":[{\"type\":\"heatmapgl\",\"colorbar\":{\"outlinewidth\":0,\"ticks\":\"\"},\"colorscale\":[[0.0,\"#0d0887\"],[0.1111111111111111,\"#46039f\"],[0.2222222222222222,\"#7201a8\"],[0.3333333333333333,\"#9c179e\"],[0.4444444444444444,\"#bd3786\"],[0.5555555555555556,\"#d8576b\"],[0.6666666666666666,\"#ed7953\"],[0.7777777777777778,\"#fb9f3a\"],[0.8888888888888888,\"#fdca26\"],[1.0,\"#f0f921\"]]}],\"contourcarpet\":[{\"type\":\"contourcarpet\",\"colorbar\":{\"outlinewidth\":0,\"ticks\":\"\"}}],\"contour\":[{\"type\":\"contour\",\"colorbar\":{\"outlinewidth\":0,\"ticks\":\"\"},\"colorscale\":[[0.0,\"#0d0887\"],[0.1111111111111111,\"#46039f\"],[0.2222222222222222,\"#7201a8\"],[0.3333333333333333,\"#9c179e\"],[0.4444444444444444,\"#bd3786\"],[0.5555555555555556,\"#d8576b\"],[0.6666666666666666,\"#ed7953\"],[0.7777777777777778,\"#fb9f3a\"],[0.8888888888888888,\"#fdca26\"],[1.0,\"#f0f921\"]]}],\"surface\":[{\"type\":\"surface\",\"colorbar\":{\"outlinewidth\":0,\"ticks\":\"\"},\"colorscale\":[[0.0,\"#0d0887\"],[0.1111111111111111,\"#46039f\"],[0.2222222222222222,\"#7201a8\"],[0.3333333333333333,\"#9c179e\"],[0.4444444444444444,\"#bd3786\"],[0.5555555555555556,\"#d8576b\"],[0.6666666666666666,\"#ed7953\"],[0.7777777777777778,\"#fb9f3a\"],[0.8888888888888888,\"#fdca26\"],[1.0,\"#f0f921\"]]}],\"mesh3d\":[{\"type\":\"mesh3d\",\"colorbar\":{\"outlinewidth\":0,\"ticks\":\"\"}}],\"scatter\":[{\"fillpattern\":{\"fillmode\":\"overlay\",\"size\":10,\"solidity\":0.2},\"type\":\"scatter\"}],\"parcoords\":[{\"type\":\"parcoords\",\"line\":{\"colorbar\":{\"outlinewidth\":0,\"ticks\":\"\"}}}],\"scatterpolargl\":[{\"type\":\"scatterpolargl\",\"marker\":{\"colorbar\":{\"outlinewidth\":0,\"ticks\":\"\"}}}],\"bar\":[{\"error_x\":{\"color\":\"#2a3f5f\"},\"error_y\":{\"color\":\"#2a3f5f\"},\"marker\":{\"line\":{\"color\":\"#E5ECF6\",\"width\":0.5},\"pattern\":{\"fillmode\":\"overlay\",\"size\":10,\"solidity\":0.2}},\"type\":\"bar\"}],\"scattergeo\":[{\"type\":\"scattergeo\",\"marker\":{\"colorbar\":{\"outlinewidth\":0,\"ticks\":\"\"}}}],\"scatterpolar\":[{\"type\":\"scatterpolar\",\"marker\":{\"colorbar\":{\"outlinewidth\":0,\"ticks\":\"\"}}}],\"histogram\":[{\"marker\":{\"pattern\":{\"fillmode\":\"overlay\",\"size\":10,\"solidity\":0.2}},\"type\":\"histogram\"}],\"scattergl\":[{\"type\":\"scattergl\",\"marker\":{\"colorbar\":{\"outlinewidth\":0,\"ticks\":\"\"}}}],\"scatter3d\":[{\"type\":\"scatter3d\",\"line\":{\"colorbar\":{\"outlinewidth\":0,\"ticks\":\"\"}},\"marker\":{\"colorbar\":{\"outlinewidth\":0,\"ticks\":\"\"}}}],\"scattermapbox\":[{\"type\":\"scattermapbox\",\"marker\":{\"colorbar\":{\"outlinewidth\":0,\"ticks\":\"\"}}}],\"scatterternary\":[{\"type\":\"scatterternary\",\"marker\":{\"colorbar\":{\"outlinewidth\":0,\"ticks\":\"\"}}}],\"scattercarpet\":[{\"type\":\"scattercarpet\",\"marker\":{\"colorbar\":{\"outlinewidth\":0,\"ticks\":\"\"}}}],\"carpet\":[{\"aaxis\":{\"endlinecolor\":\"#2a3f5f\",\"gridcolor\":\"white\",\"linecolor\":\"white\",\"minorgridcolor\":\"white\",\"startlinecolor\":\"#2a3f5f\"},\"baxis\":{\"endlinecolor\":\"#2a3f5f\",\"gridcolor\":\"white\",\"linecolor\":\"white\",\"minorgridcolor\":\"white\",\"startlinecolor\":\"#2a3f5f\"},\"type\":\"carpet\"}],\"table\":[{\"cells\":{\"fill\":{\"color\":\"#EBF0F8\"},\"line\":{\"color\":\"white\"}},\"header\":{\"fill\":{\"color\":\"#C8D4E3\"},\"line\":{\"color\":\"white\"}},\"type\":\"table\"}],\"barpolar\":[{\"marker\":{\"line\":{\"color\":\"#E5ECF6\",\"width\":0.5},\"pattern\":{\"fillmode\":\"overlay\",\"size\":10,\"solidity\":0.2}},\"type\":\"barpolar\"}],\"pie\":[{\"automargin\":true,\"type\":\"pie\"}]},\"layout\":{\"autotypenumbers\":\"strict\",\"colorway\":[\"#636efa\",\"#EF553B\",\"#00cc96\",\"#ab63fa\",\"#FFA15A\",\"#19d3f3\",\"#FF6692\",\"#B6E880\",\"#FF97FF\",\"#FECB52\"],\"font\":{\"color\":\"#2a3f5f\"},\"hovermode\":\"closest\",\"hoverlabel\":{\"align\":\"left\"},\"paper_bgcolor\":\"white\",\"plot_bgcolor\":\"#E5ECF6\",\"polar\":{\"bgcolor\":\"#E5ECF6\",\"angularaxis\":{\"gridcolor\":\"white\",\"linecolor\":\"white\",\"ticks\":\"\"},\"radialaxis\":{\"gridcolor\":\"white\",\"linecolor\":\"white\",\"ticks\":\"\"}},\"ternary\":{\"bgcolor\":\"#E5ECF6\",\"aaxis\":{\"gridcolor\":\"white\",\"linecolor\":\"white\",\"ticks\":\"\"},\"baxis\":{\"gridcolor\":\"white\",\"linecolor\":\"white\",\"ticks\":\"\"},\"caxis\":{\"gridcolor\":\"white\",\"linecolor\":\"white\",\"ticks\":\"\"}},\"coloraxis\":{\"colorbar\":{\"outlinewidth\":0,\"ticks\":\"\"}},\"colorscale\":{\"sequential\":[[0.0,\"#0d0887\"],[0.1111111111111111,\"#46039f\"],[0.2222222222222222,\"#7201a8\"],[0.3333333333333333,\"#9c179e\"],[0.4444444444444444,\"#bd3786\"],[0.5555555555555556,\"#d8576b\"],[0.6666666666666666,\"#ed7953\"],[0.7777777777777778,\"#fb9f3a\"],[0.8888888888888888,\"#fdca26\"],[1.0,\"#f0f921\"]],\"sequentialminus\":[[0.0,\"#0d0887\"],[0.1111111111111111,\"#46039f\"],[0.2222222222222222,\"#7201a8\"],[0.3333333333333333,\"#9c179e\"],[0.4444444444444444,\"#bd3786\"],[0.5555555555555556,\"#d8576b\"],[0.6666666666666666,\"#ed7953\"],[0.7777777777777778,\"#fb9f3a\"],[0.8888888888888888,\"#fdca26\"],[1.0,\"#f0f921\"]],\"diverging\":[[0,\"#8e0152\"],[0.1,\"#c51b7d\"],[0.2,\"#de77ae\"],[0.3,\"#f1b6da\"],[0.4,\"#fde0ef\"],[0.5,\"#f7f7f7\"],[0.6,\"#e6f5d0\"],[0.7,\"#b8e186\"],[0.8,\"#7fbc41\"],[0.9,\"#4d9221\"],[1,\"#276419\"]]},\"xaxis\":{\"gridcolor\":\"white\",\"linecolor\":\"white\",\"ticks\":\"\",\"title\":{\"standoff\":15},\"zerolinecolor\":\"white\",\"automargin\":true,\"zerolinewidth\":2},\"yaxis\":{\"gridcolor\":\"white\",\"linecolor\":\"white\",\"ticks\":\"\",\"title\":{\"standoff\":15},\"zerolinecolor\":\"white\",\"automargin\":true,\"zerolinewidth\":2},\"scene\":{\"xaxis\":{\"backgroundcolor\":\"#E5ECF6\",\"gridcolor\":\"white\",\"linecolor\":\"white\",\"showbackground\":true,\"ticks\":\"\",\"zerolinecolor\":\"white\",\"gridwidth\":2},\"yaxis\":{\"backgroundcolor\":\"#E5ECF6\",\"gridcolor\":\"white\",\"linecolor\":\"white\",\"showbackground\":true,\"ticks\":\"\",\"zerolinecolor\":\"white\",\"gridwidth\":2},\"zaxis\":{\"backgroundcolor\":\"#E5ECF6\",\"gridcolor\":\"white\",\"linecolor\":\"white\",\"showbackground\":true,\"ticks\":\"\",\"zerolinecolor\":\"white\",\"gridwidth\":2}},\"shapedefaults\":{\"line\":{\"color\":\"#2a3f5f\"}},\"annotationdefaults\":{\"arrowcolor\":\"#2a3f5f\",\"arrowhead\":0,\"arrowwidth\":1},\"geo\":{\"bgcolor\":\"white\",\"landcolor\":\"#E5ECF6\",\"subunitcolor\":\"white\",\"showland\":true,\"showlakes\":true,\"lakecolor\":\"white\"},\"title\":{\"x\":0.05},\"mapbox\":{\"style\":\"light\"}}},\"title\":{\"text\":\"En \\u00e9t\\u00e9\"},\"width\":1000,\"height\":500,\"yaxis\":{\"title\":{\"text\":\"Thermosensibilit\\u00e9 (GW/\\u00b0C)\"}},\"xaxis\":{\"title\":{\"text\":\"Horaire\"}}},                        {\"responsive\": true}                    ).then(function(){\n",
       "                            \n",
       "var gd = document.getElementById('8571b247-e3e7-4469-83e0-5ccac6410af8');\n",
       "var x = new MutationObserver(function (mutations, observer) {{\n",
       "        var display = window.getComputedStyle(gd).display;\n",
       "        if (!display || display === 'none') {{\n",
       "            console.log([gd, 'removed!']);\n",
       "            Plotly.purge(gd);\n",
       "            observer.disconnect();\n",
       "        }}\n",
       "}});\n",
       "\n",
       "// Listen for the removal of the full notebook cells\n",
       "var notebookContainer = gd.closest('#notebook-container');\n",
       "if (notebookContainer) {{\n",
       "    x.observe(notebookContainer, {childList: true});\n",
       "}}\n",
       "\n",
       "// Listen for the clearing of the current output cell\n",
       "var outputEl = gd.closest('.output');\n",
       "if (outputEl) {{\n",
       "    x.observe(outputEl, {childList: true});\n",
       "}}\n",
       "\n",
       "                        })                };                });            </script>        </div>"
      ]
     },
     "metadata": {},
     "output_type": "display_data"
    }
   ],
   "source": [
    "Thermosensitivity('FR')"
   ]
  },
  {
   "cell_type": "markdown",
   "id": "cf6bd856",
   "metadata": {},
   "source": [
    "## 2.5. Peak Load"
   ]
  },
  {
   "cell_type": "code",
   "execution_count": 77,
   "id": "434f4635",
   "metadata": {},
   "outputs": [],
   "source": [
    "def peak_load(area):\n",
    "    Conso_df=Variables['total_consumption_Pvar']\n",
    "    Conso_df=Conso_df[Conso_df.AREAS==area].set_index('TIME')\n",
    "    H2_df=Variables['storageIn_Pvar']\n",
    "    H2_df=H2_df[(H2_df.AREAS==area)&(H2_df.STOCK_TECHNO=='PowertoH2toPower')].set_index('TIME')\n",
    "    Conso_df['total_consumption_Pvar']+=H2_df['storageIn_Pvar']\n",
    "    return Conso_df[Conso_df['total_consumption_Pvar']==Conso_df['total_consumption_Pvar'].max()]"
   ]
  },
  {
   "cell_type": "code",
   "execution_count": 95,
   "id": "5941398f",
   "metadata": {},
   "outputs": [
    {
     "data": {
      "text/html": [
       "<div>\n",
       "<style scoped>\n",
       "    .dataframe tbody tr th:only-of-type {\n",
       "        vertical-align: middle;\n",
       "    }\n",
       "\n",
       "    .dataframe tbody tr th {\n",
       "        vertical-align: top;\n",
       "    }\n",
       "\n",
       "    .dataframe thead th {\n",
       "        text-align: right;\n",
       "    }\n",
       "</style>\n",
       "<table border=\"1\" class=\"dataframe\">\n",
       "  <thead>\n",
       "    <tr style=\"text-align: right;\">\n",
       "      <th></th>\n",
       "      <th>AREAS</th>\n",
       "      <th>total_consumption_Pvar</th>\n",
       "    </tr>\n",
       "    <tr>\n",
       "      <th>TIME</th>\n",
       "      <th></th>\n",
       "      <th></th>\n",
       "    </tr>\n",
       "  </thead>\n",
       "  <tbody>\n",
       "    <tr>\n",
       "      <th>2019-01-28 13:00:00</th>\n",
       "      <td>FR</td>\n",
       "      <td>157818.231644</td>\n",
       "    </tr>\n",
       "  </tbody>\n",
       "</table>\n",
       "</div>"
      ],
      "text/plain": [
       "                    AREAS  total_consumption_Pvar\n",
       "TIME                                             \n",
       "2019-01-28 13:00:00    FR           157818.231644"
      ]
     },
     "execution_count": 95,
     "metadata": {},
     "output_type": "execute_result"
    }
   ],
   "source": [
    "peak_load('FR')"
   ]
  },
  {
   "cell_type": "markdown",
   "id": "1c24b0c0",
   "metadata": {},
   "source": [
    "# 3. Capacity and production "
   ]
  },
  {
   "cell_type": "code",
   "execution_count": 11,
   "id": "446903cb",
   "metadata": {},
   "outputs": [
    {
     "data": {
      "text/html": [
       "<div>\n",
       "<style scoped>\n",
       "    .dataframe tbody tr th:only-of-type {\n",
       "        vertical-align: middle;\n",
       "    }\n",
       "\n",
       "    .dataframe tbody tr th {\n",
       "        vertical-align: top;\n",
       "    }\n",
       "\n",
       "    .dataframe thead th {\n",
       "        text-align: right;\n",
       "    }\n",
       "</style>\n",
       "<table border=\"1\" class=\"dataframe\">\n",
       "  <thead>\n",
       "    <tr style=\"text-align: right;\">\n",
       "      <th></th>\n",
       "      <th></th>\n",
       "      <th>capacity_Dvar</th>\n",
       "    </tr>\n",
       "    <tr>\n",
       "      <th>AREAS</th>\n",
       "      <th>TECHNOLOGIES</th>\n",
       "      <th></th>\n",
       "    </tr>\n",
       "  </thead>\n",
       "  <tbody>\n",
       "    <tr>\n",
       "      <th rowspan=\"14\" valign=\"top\">FR</th>\n",
       "      <th>Biomass</th>\n",
       "      <td>3000.0000</td>\n",
       "    </tr>\n",
       "    <tr>\n",
       "      <th>CCG</th>\n",
       "      <td>0.0000</td>\n",
       "    </tr>\n",
       "    <tr>\n",
       "      <th>Coal</th>\n",
       "      <td>0.0000</td>\n",
       "    </tr>\n",
       "    <tr>\n",
       "      <th>Geothermal</th>\n",
       "      <td>0.0000</td>\n",
       "    </tr>\n",
       "    <tr>\n",
       "      <th>HydroReservoir</th>\n",
       "      <td>8785.0000</td>\n",
       "    </tr>\n",
       "    <tr>\n",
       "      <th>HydroRiver</th>\n",
       "      <td>11030.0000</td>\n",
       "    </tr>\n",
       "    <tr>\n",
       "      <th>NewHydroRiver</th>\n",
       "      <td>1200.0000</td>\n",
       "    </tr>\n",
       "    <tr>\n",
       "      <th>NewNuke</th>\n",
       "      <td>26730.0000</td>\n",
       "    </tr>\n",
       "    <tr>\n",
       "      <th>OldNuke</th>\n",
       "      <td>13870.0000</td>\n",
       "    </tr>\n",
       "    <tr>\n",
       "      <th>Solar</th>\n",
       "      <td>152960.2812</td>\n",
       "    </tr>\n",
       "    <tr>\n",
       "      <th>TAC</th>\n",
       "      <td>0.0000</td>\n",
       "    </tr>\n",
       "    <tr>\n",
       "      <th>WindOffShore</th>\n",
       "      <td>49000.0000</td>\n",
       "    </tr>\n",
       "    <tr>\n",
       "      <th>WindOnShore</th>\n",
       "      <td>37000.0000</td>\n",
       "    </tr>\n",
       "    <tr>\n",
       "      <th>curtailment</th>\n",
       "      <td>0.0000</td>\n",
       "    </tr>\n",
       "  </tbody>\n",
       "</table>\n",
       "</div>"
      ],
      "text/plain": [
       "                      capacity_Dvar\n",
       "AREAS TECHNOLOGIES                 \n",
       "FR    Biomass             3000.0000\n",
       "      CCG                    0.0000\n",
       "      Coal                   0.0000\n",
       "      Geothermal             0.0000\n",
       "      HydroReservoir      8785.0000\n",
       "      HydroRiver         11030.0000\n",
       "      NewHydroRiver       1200.0000\n",
       "      NewNuke            26730.0000\n",
       "      OldNuke            13870.0000\n",
       "      Solar             152960.2812\n",
       "      TAC                    0.0000\n",
       "      WindOffShore       49000.0000\n",
       "      WindOnShore        37000.0000\n",
       "      curtailment            0.0000"
      ]
     },
     "execution_count": 11,
     "metadata": {},
     "output_type": "execute_result"
    }
   ],
   "source": [
    "# Production means capacity (MW)\n",
    "prod_capa('FR')"
   ]
  },
  {
   "cell_type": "code",
   "execution_count": 12,
   "id": "800ca2a7",
   "metadata": {},
   "outputs": [
    {
     "data": {
      "text/html": [
       "<div>\n",
       "<style scoped>\n",
       "    .dataframe tbody tr th:only-of-type {\n",
       "        vertical-align: middle;\n",
       "    }\n",
       "\n",
       "    .dataframe tbody tr th {\n",
       "        vertical-align: top;\n",
       "    }\n",
       "\n",
       "    .dataframe thead th {\n",
       "        text-align: right;\n",
       "    }\n",
       "</style>\n",
       "<table border=\"1\" class=\"dataframe\">\n",
       "  <thead>\n",
       "    <tr style=\"text-align: right;\">\n",
       "      <th></th>\n",
       "      <th></th>\n",
       "      <th>Pmax_in_Dvar</th>\n",
       "      <th>Pmax_out_Dvar</th>\n",
       "      <th>Cmax_Pvar</th>\n",
       "      <th>hour_stock</th>\n",
       "    </tr>\n",
       "    <tr>\n",
       "      <th>AREAS</th>\n",
       "      <th>STOCK_TECHNO</th>\n",
       "      <th></th>\n",
       "      <th></th>\n",
       "      <th></th>\n",
       "      <th></th>\n",
       "    </tr>\n",
       "  </thead>\n",
       "  <tbody>\n",
       "    <tr>\n",
       "      <th rowspan=\"3\" valign=\"top\">FR</th>\n",
       "      <th>Battery</th>\n",
       "      <td>4467.740025</td>\n",
       "      <td>4467.740025</td>\n",
       "      <td>4.702884e+03</td>\n",
       "      <td>1.108033</td>\n",
       "    </tr>\n",
       "    <tr>\n",
       "      <th>HydroStorage</th>\n",
       "      <td>10899.000000</td>\n",
       "      <td>10899.000000</td>\n",
       "      <td>1.961820e+05</td>\n",
       "      <td>20.000000</td>\n",
       "    </tr>\n",
       "    <tr>\n",
       "      <th>PowertoH2toPower</th>\n",
       "      <td>17980.657471</td>\n",
       "      <td>0.000000</td>\n",
       "      <td>2.064981e+06</td>\n",
       "      <td>164.063651</td>\n",
       "    </tr>\n",
       "  </tbody>\n",
       "</table>\n",
       "</div>"
      ],
      "text/plain": [
       "                        Pmax_in_Dvar  Pmax_out_Dvar     Cmax_Pvar  hour_stock\n",
       "AREAS STOCK_TECHNO                                                           \n",
       "FR    Battery            4467.740025    4467.740025  4.702884e+03    1.108033\n",
       "      HydroStorage      10899.000000   10899.000000  1.961820e+05   20.000000\n",
       "      PowertoH2toPower  17980.657471       0.000000  2.064981e+06  164.063651"
      ]
     },
     "execution_count": 12,
     "metadata": {},
     "output_type": "execute_result"
    }
   ],
   "source": [
    "# Storage capacity\n",
    "stock_capa('FR')"
   ]
  },
  {
   "cell_type": "code",
   "execution_count": 13,
   "id": "81581a97",
   "metadata": {},
   "outputs": [
    {
     "data": {
      "text/html": [
       "<div>\n",
       "<style scoped>\n",
       "    .dataframe tbody tr th:only-of-type {\n",
       "        vertical-align: middle;\n",
       "    }\n",
       "\n",
       "    .dataframe tbody tr th {\n",
       "        vertical-align: top;\n",
       "    }\n",
       "\n",
       "    .dataframe thead th {\n",
       "        text-align: right;\n",
       "    }\n",
       "</style>\n",
       "<table border=\"1\" class=\"dataframe\">\n",
       "  <thead>\n",
       "    <tr style=\"text-align: right;\">\n",
       "      <th></th>\n",
       "      <th></th>\n",
       "      <th>power_Dvar</th>\n",
       "      <th>Load_factor</th>\n",
       "      <th>Part</th>\n",
       "    </tr>\n",
       "    <tr>\n",
       "      <th>AREAS</th>\n",
       "      <th>TECHNOLOGIES</th>\n",
       "      <th></th>\n",
       "      <th></th>\n",
       "      <th></th>\n",
       "    </tr>\n",
       "  </thead>\n",
       "  <tbody>\n",
       "    <tr>\n",
       "      <th rowspan=\"14\" valign=\"top\">FR</th>\n",
       "      <th>Biomass</th>\n",
       "      <td>2.246106e+07</td>\n",
       "      <td>0.854683</td>\n",
       "      <td>0.027869</td>\n",
       "    </tr>\n",
       "    <tr>\n",
       "      <th>CCG</th>\n",
       "      <td>0.000000e+00</td>\n",
       "      <td>0.000000</td>\n",
       "      <td>0.000000</td>\n",
       "    </tr>\n",
       "    <tr>\n",
       "      <th>Coal</th>\n",
       "      <td>0.000000e+00</td>\n",
       "      <td>0.000000</td>\n",
       "      <td>0.000000</td>\n",
       "    </tr>\n",
       "    <tr>\n",
       "      <th>Geothermal</th>\n",
       "      <td>0.000000e+00</td>\n",
       "      <td>0.000000</td>\n",
       "      <td>0.000000</td>\n",
       "    </tr>\n",
       "    <tr>\n",
       "      <th>HydroReservoir</th>\n",
       "      <td>1.437226e+07</td>\n",
       "      <td>0.186758</td>\n",
       "      <td>0.017833</td>\n",
       "    </tr>\n",
       "    <tr>\n",
       "      <th>HydroRiver</th>\n",
       "      <td>4.932150e+07</td>\n",
       "      <td>0.510454</td>\n",
       "      <td>0.061197</td>\n",
       "    </tr>\n",
       "    <tr>\n",
       "      <th>NewHydroRiver</th>\n",
       "      <td>5.025825e+06</td>\n",
       "      <td>0.478104</td>\n",
       "      <td>0.006236</td>\n",
       "    </tr>\n",
       "    <tr>\n",
       "      <th>NewNuke</th>\n",
       "      <td>1.908194e+08</td>\n",
       "      <td>0.814928</td>\n",
       "      <td>0.236764</td>\n",
       "    </tr>\n",
       "    <tr>\n",
       "      <th>OldNuke</th>\n",
       "      <td>8.684522e+07</td>\n",
       "      <td>0.714768</td>\n",
       "      <td>0.107756</td>\n",
       "    </tr>\n",
       "    <tr>\n",
       "      <th>Solar</th>\n",
       "      <td>2.104520e+08</td>\n",
       "      <td>0.157062</td>\n",
       "      <td>0.261124</td>\n",
       "    </tr>\n",
       "    <tr>\n",
       "      <th>TAC</th>\n",
       "      <td>0.000000e+00</td>\n",
       "      <td>0.000000</td>\n",
       "      <td>0.000000</td>\n",
       "    </tr>\n",
       "    <tr>\n",
       "      <th>WindOffShore</th>\n",
       "      <td>1.443606e+08</td>\n",
       "      <td>0.336317</td>\n",
       "      <td>0.179119</td>\n",
       "    </tr>\n",
       "    <tr>\n",
       "      <th>WindOnShore</th>\n",
       "      <td>8.228838e+07</td>\n",
       "      <td>0.253882</td>\n",
       "      <td>0.102102</td>\n",
       "    </tr>\n",
       "    <tr>\n",
       "      <th>curtailment</th>\n",
       "      <td>0.000000e+00</td>\n",
       "      <td>0.000000</td>\n",
       "      <td>0.000000</td>\n",
       "    </tr>\n",
       "  </tbody>\n",
       "</table>\n",
       "</div>"
      ],
      "text/plain": [
       "                        power_Dvar  Load_factor      Part\n",
       "AREAS TECHNOLOGIES                                       \n",
       "FR    Biomass         2.246106e+07     0.854683  0.027869\n",
       "      CCG             0.000000e+00     0.000000  0.000000\n",
       "      Coal            0.000000e+00     0.000000  0.000000\n",
       "      Geothermal      0.000000e+00     0.000000  0.000000\n",
       "      HydroReservoir  1.437226e+07     0.186758  0.017833\n",
       "      HydroRiver      4.932150e+07     0.510454  0.061197\n",
       "      NewHydroRiver   5.025825e+06     0.478104  0.006236\n",
       "      NewNuke         1.908194e+08     0.814928  0.236764\n",
       "      OldNuke         8.684522e+07     0.714768  0.107756\n",
       "      Solar           2.104520e+08     0.157062  0.261124\n",
       "      TAC             0.000000e+00     0.000000  0.000000\n",
       "      WindOffShore    1.443606e+08     0.336317  0.179119\n",
       "      WindOnShore     8.228838e+07     0.253882  0.102102\n",
       "      curtailment     0.000000e+00     0.000000  0.000000"
      ]
     },
     "execution_count": 13,
     "metadata": {},
     "output_type": "execute_result"
    }
   ],
   "source": [
    "energy('FR')"
   ]
  },
  {
   "cell_type": "code",
   "execution_count": 14,
   "id": "6a4c1be7",
   "metadata": {},
   "outputs": [
    {
     "data": {
      "text/plain": [
       "148910.4360652248"
      ]
     },
     "execution_count": 14,
     "metadata": {},
     "output_type": "execute_result"
    }
   ],
   "source": [
    "Variables['total_consumption_Pvar']['total_consumption_Pvar'].max()"
   ]
  },
  {
   "cell_type": "code",
   "execution_count": 15,
   "id": "8cf732ee",
   "metadata": {},
   "outputs": [
    {
     "data": {
      "text/plain": [
       "805.9462186422799"
      ]
     },
     "execution_count": 15,
     "metadata": {},
     "output_type": "execute_result"
    }
   ],
   "source": [
    "Pow_df=Variables['power_Dvar']\n",
    "Pow_df=Pow_df[Pow_df.AREAS=='FR']\n",
    "Pow_df['power_Dvar'].sum()/1E6"
   ]
  },
  {
   "cell_type": "code",
   "execution_count": 16,
   "id": "04bf9914",
   "metadata": {},
   "outputs": [
    {
     "data": {
      "text/plain": [
       "682.7512848930962"
      ]
     },
     "execution_count": 16,
     "metadata": {},
     "output_type": "execute_result"
    }
   ],
   "source": [
    "Conso_df=Variables['total_consumption_Pvar']\n",
    "Conso_df=Conso_df[Conso_df.AREAS=='FR']\n",
    "Conso_df['total_consumption_Pvar'].sum()/1E6"
   ]
  },
  {
   "cell_type": "code",
   "execution_count": 17,
   "id": "8d1df5ed",
   "metadata": {},
   "outputs": [
    {
     "data": {
      "text/plain": [
       "96.23518718954679"
      ]
     },
     "execution_count": 17,
     "metadata": {},
     "output_type": "execute_result"
    }
   ],
   "source": [
    "P2H2_df=Variables['storageIn_Pvar']\n",
    "P2H2_df=P2H2_df[(P2H2_df.STOCK_TECHNO=='PowertoH2toPower')&(P2H2_df.AREAS=='FR')]\n",
    "P2H2_df['storageIn_Pvar'].sum()/1E6"
   ]
  },
  {
   "cell_type": "code",
   "execution_count": 18,
   "id": "06e857d6",
   "metadata": {},
   "outputs": [
    {
     "data": {
      "text/plain": [
       "0.0"
      ]
     },
     "execution_count": 18,
     "metadata": {},
     "output_type": "execute_result"
    }
   ],
   "source": [
    "H2P_df=Variables['storageOut_Pvar']\n",
    "H2P_df=H2P_df[(H2P_df.STOCK_TECHNO=='PowertoH2toPower')&(P2H2_df.AREAS=='FR')]\n",
    "H2P_df['storageOut_Pvar'].sum()/1E6"
   ]
  },
  {
   "cell_type": "markdown",
   "id": "296176c3",
   "metadata": {},
   "source": [
    "# 4. Thermosensitivity"
   ]
  },
  {
   "cell_type": "code",
   "execution_count": 25,
   "id": "338e5e7f",
   "metadata": {},
   "outputs": [
    {
     "name": "stdout",
     "output_type": "stream",
     "text": [
      "{0: -2381.9058772979797, 1: -2424.5466386259327, 2: -2469.388890814654, 3: -2482.9632570131944, 4: -2453.023770021789, 5: -2458.74922624812, 6: -2543.76006163136, 7: -2688.458969317609, 8: -2752.1101850298837, 9: -2620.346133962741, 10: -2558.714198694341, 11: -2574.3563450247552, 12: -2572.500053541472, 13: -2593.006564906592, 14: -2559.0727698661403, 15: -2501.756367465761, 16: -2548.83760242875, 17: -2622.0329162710527, 18: -2972.4764624469904, 19: -2977.9021902218165, 20: -2627.620932539371, 21: -2485.586218296157, 22: -2350.5583410637505, 23: -1869.3312745785418}\n",
      "{0: 831.8360599016585, 1: 704.0659955292981, 2: 719.5801776142312, 3: 678.8690214059357, 4: 597.1055912875349, 5: 556.2094420678245, 6: 579.844650605531, 7: 740.2511054876878, 8: 941.6859551009035, 9: 1035.1324856658555, 10: 982.0738311481781, 11: 1232.174977190789, 12: 1079.3871621908163, 13: 917.3709409829777, 14: 957.1569548756152, 15: 940.6718162112325, 16: 967.570546454397, 17: 1111.036743261954, 18: 1130.719964910326, 19: 999.9494989261026, 20: 1063.7330288774958, 21: 884.7355114014931, 22: 977.5080067776023, 23: 980.9853094206593}\n"
     ]
    }
   ],
   "source": [
    "Data_2019_df=Conso_2019_df.copy()\n",
    "Data_2019_df['Temperature']=Temp_2019_df['Temperature']\n",
    "Data_2019_df=Data_2019_df.rename(columns={'Consommation':'Consumption'})\n",
    "df,Th_w_2019,Th_s_2019=Decomposeconso2(Data_2019_df,T0=15,T1=20,TemperatureName='Temperature',\n",
    "                    ConsumptionName='Consumption',TimeName='Date')\n",
    "print(Th_w_2019)\n",
    "print(Th_s_2019)"
   ]
  },
  {
   "cell_type": "code",
   "execution_count": 27,
   "id": "ffdefe77",
   "metadata": {},
   "outputs": [
    {
     "name": "stdout",
     "output_type": "stream",
     "text": [
      "{0: -2578.665971710148, 1: -2795.3496132914565, 2: -2990.544887377031, 3: -2795.234613920599, 4: -2700.004253051797, 5: -2885.468407004524, 6: -2519.3272041661885, 7: -2467.5831954970417, 8: -2510.214289491267, 9: -1893.7882455848346, 10: -1423.8999509488142, 11: -2033.7317058668746, 12: -1633.3423396949315, 13: -1167.5427029973637, 14: -1082.0996040262362, 15: -1272.2589565380586, 16: -560.6584734282906, 17: -1063.5098314266356, 18: -1665.413920371919, 19: -2057.013760463818, 20: -2202.342498784686, 21: -2274.470515165853, 22: -2296.9609148084196, 23: -2145.1884979025926}\n",
      "{0: 1715.8213760949704, 1: 1311.510640288112, 2: 1661.8281396462405, 3: 1155.7160722988503, 4: 1060.6702831546636, 5: 840.774155437102, 6: 1338.0571660260357, 7: 1632.5651585068385, 8: 1974.089451212548, 9: 2989.5447100366587, 10: 2454.104006786574, 11: 2831.7028765646087, 12: 2451.185114396613, 13: 2052.788624420927, 14: 2050.619543312498, 15: 2008.7285932754623, 16: 2030.1761328390073, 17: 2627.9725490604756, 18: 2898.031444984735, 19: 2571.2712882299757, 20: 2117.4142340089334, 21: 1843.551423416452, 22: 2092.861054309514, 23: 2286.347300366981}\n"
     ]
    }
   ],
   "source": [
    "Data_df=Variables['total_consumption_Pvar']\n",
    "Data_df=Data_df[Data_df.AREAS=='FR'][['TIME','total_consumption_Pvar']].rename(columns={'TIME':'Date','total_consumption_Pvar':'Consumption'}).set_index('Date')\n",
    "Data_df['Temperature']=Temp_2019_df['Temperature']\n",
    "df,Th_w,Th_s=Decomposeconso2(Data_df,T0=15,T1=20,TemperatureName='Temperature',\n",
    "                    ConsumptionName='Consumption',TimeName='Date')\n",
    "print(Th_w)\n",
    "print(Th_s)"
   ]
  },
  {
   "cell_type": "code",
   "execution_count": 73,
   "id": "c9e60f1a",
   "metadata": {},
   "outputs": [
    {
     "data": {
      "text/plain": [
       "TIME                      2019-12-31 23:00:00\n",
       "total_consumption_Pvar          138364.610149\n",
       "dtype: object"
      ]
     },
     "execution_count": 73,
     "metadata": {},
     "output_type": "execute_result"
    }
   ],
   "source": [
    "# Storage means capacity (MW)\n",
    "Variables['total_consumption_Pvar'].max()"
   ]
  },
  {
   "cell_type": "code",
   "execution_count": 74,
   "id": "d314c49f",
   "metadata": {},
   "outputs": [
    {
     "data": {
      "text/plain": [
       "TIME           2019-12-31 23:00:00\n",
       "energy_Pvar          138364.610149\n",
       "dtype: object"
      ]
     },
     "execution_count": 74,
     "metadata": {},
     "output_type": "execute_result"
    }
   ],
   "source": [
    "Variables['energy_Pvar'].max()"
   ]
  },
  {
   "cell_type": "code",
   "execution_count": 7,
   "id": "2abcb6a9",
   "metadata": {},
   "outputs": [
    {
     "name": "stdout",
     "output_type": "stream",
     "text": [
      "                     TIME    TECHNOLOGIES    power_Dvar\n",
      "40989 2019-12-31 23:00:00     WindOnShore   4432.600000\n",
      "40990 2019-12-31 23:00:00             CCG      0.000000\n",
      "40991 2019-12-31 23:00:00         OldNuke  15520.000000\n",
      "40992 2019-12-31 23:00:00             TAC      0.000000\n",
      "40993 2019-12-31 23:00:00    WindOffShore  10598.700000\n",
      "40994 2019-12-31 23:00:00  HydroReservoir   8785.000000\n",
      "40995 2019-12-31 23:00:00         Biomass   3000.000000\n",
      "40996 2019-12-31 23:00:00            Coal      0.000000\n",
      "40997 2019-12-31 23:00:00           Solar      0.000000\n",
      "40998 2019-12-31 23:00:00         NewNuke  21710.000000\n",
      "40999 2019-12-31 23:00:00      HydroRiver   8233.891861\n",
      "41000 2019-12-31 23:00:00   NewHydroRiver    895.799659\n",
      "41001 2019-12-31 23:00:00     curtailment      0.000000\n",
      "73175.99151963575\n",
      "                    TIME      STOCK_TECHNO  storageOut_Pvar\n",
      "9459 2019-12-31 23:00:00           Battery              0.0\n",
      "9460 2019-12-31 23:00:00  PowertoH2toPower              0.0\n",
      "9461 2019-12-31 23:00:00      HydroStorage              0.0\n",
      "                    TIME      STOCK_TECHNO  storageIn_Pvar\n",
      "9459 2019-12-31 23:00:00           Battery             0.0\n",
      "9460 2019-12-31 23:00:00  PowertoH2toPower             0.0\n",
      "9461 2019-12-31 23:00:00      HydroStorage             0.0\n",
      "                    TIME      STOCK_TECHNO  stockLevel_Pvar\n",
      "9459 2019-12-31 23:00:00           Battery     0.000000e+00\n",
      "9460 2019-12-31 23:00:00  PowertoH2toPower     5.920998e+06\n",
      "9461 2019-12-31 23:00:00      HydroStorage     6.553563e+04\n",
      "       STOCK_TECHNO  stockLevel_ini_Dvar\n",
      "0           Battery         0.000000e+00\n",
      "1  PowertoH2toPower         5.920998e+06\n",
      "2      HydroStorage         6.553563e+04\n"
     ]
    }
   ],
   "source": [
    "df=Variables['power_Dvar']\n",
    "print(df[df.TIME==pd.Timestamp('2019-12-31 23:00:00')])\n",
    "print(df[df.TIME==pd.Timestamp('2019-12-31 23:00:00')]['power_Dvar'].sum())\n",
    "df2=Variables['storageOut_Pvar']\n",
    "print(df2[df2.TIME==pd.Timestamp('2019-12-31 23:00:00')])\n",
    "df3=Variables['storageIn_Pvar']\n",
    "print(df3[df3.TIME==pd.Timestamp('2019-12-31 23:00:00')])\n",
    "df4=Variables['stockLevel_Pvar']\n",
    "print(df4[df4.TIME==pd.Timestamp('2019-12-31 23:00:00')])\n",
    "print(Variables['stockLevel_ini_Dvar'])"
   ]
  },
  {
   "cell_type": "code",
   "execution_count": 8,
   "id": "264e23e5",
   "metadata": {},
   "outputs": [
    {
     "name": "stdout",
     "output_type": "stream",
     "text": [
      "4.3655745685100555e-11\n",
      "0\n"
     ]
    }
   ],
   "source": [
    "df=Variables['power_Dvar']\n",
    "df2=Variables['storageOut_Pvar']\n",
    "df3=Variables['storageIn_Pvar']\n",
    "df=df.groupby('TIME')['power_Dvar'].sum()\n",
    "df2=df2.groupby('TIME')['storageOut_Pvar'].sum()\n",
    "df3=df3.groupby('TIME')['storageIn_Pvar'].sum()\n",
    "df_prod=pd.DataFrame()\n",
    "df_prod['Prod']=df+df2-df3\n",
    "#df_prod\n",
    "#df_prod=df_prod.set_index('TIME')\n",
    "\n",
    "df_diff=pd.DataFrame()\n",
    "df_diff['diff']=df_prod['Prod']-Variables['total_consumption_Pvar'].set_index('TIME')['total_consumption_Pvar']\n",
    "print(df_diff['diff'].max())\n",
    "N_err=0\n",
    "for i in df_diff.index:\n",
    "    if np.abs(df_diff.loc[i,'diff'])>1:\n",
    "        N_err+=1\n",
    "        print(df_diff.loc[i,'diff'])\n",
    "print(N_err)"
   ]
  },
  {
   "cell_type": "code",
   "execution_count": 9,
   "id": "4f93fd9a",
   "metadata": {},
   "outputs": [
    {
     "data": {
      "text/plain": [
       "Prod    73175.99152\n",
       "Name: 2019-12-31 23:00:00, dtype: float64"
      ]
     },
     "execution_count": 9,
     "metadata": {},
     "output_type": "execute_result"
    }
   ],
   "source": [
    "df_prod.loc[pd.Timestamp('2019-12-31 23:00:00')]"
   ]
  },
  {
   "cell_type": "code",
   "execution_count": 10,
   "id": "d302d22f",
   "metadata": {},
   "outputs": [
    {
     "data": {
      "text/plain": [
       "total_consumption_Pvar    73175.99152\n",
       "Name: 2019-12-31 23:00:00, dtype: float64"
      ]
     },
     "execution_count": 10,
     "metadata": {},
     "output_type": "execute_result"
    }
   ],
   "source": [
    "Variables['total_consumption_Pvar'].set_index('TIME').loc[pd.Timestamp('2019-12-31 23:00:00')]"
   ]
  },
  {
   "cell_type": "code",
   "execution_count": 21,
   "id": "843e26b2",
   "metadata": {},
   "outputs": [
    {
     "data": {
      "text/plain": [
       "TIME                      2019-12-31 23:00:00\n",
       "total_consumption_Pvar            155289.7205\n",
       "dtype: object"
      ]
     },
     "execution_count": 21,
     "metadata": {},
     "output_type": "execute_result"
    }
   ],
   "source": [
    "Variables['total_consumption_Pvar'].max()"
   ]
  },
  {
   "cell_type": "code",
   "execution_count": 12,
   "id": "c3d1deb0",
   "metadata": {},
   "outputs": [
    {
     "data": {
      "text/html": [
       "<div>\n",
       "<style scoped>\n",
       "    .dataframe tbody tr th:only-of-type {\n",
       "        vertical-align: middle;\n",
       "    }\n",
       "\n",
       "    .dataframe tbody tr th {\n",
       "        vertical-align: top;\n",
       "    }\n",
       "\n",
       "    .dataframe thead th {\n",
       "        text-align: right;\n",
       "    }\n",
       "</style>\n",
       "<table border=\"1\" class=\"dataframe\">\n",
       "  <thead>\n",
       "    <tr style=\"text-align: right;\">\n",
       "      <th></th>\n",
       "      <th>TIME</th>\n",
       "      <th>total_consumption_Pvar</th>\n",
       "    </tr>\n",
       "  </thead>\n",
       "  <tbody>\n",
       "    <tr>\n",
       "      <th>1290</th>\n",
       "      <td>2019-01-24 13:00:00</td>\n",
       "      <td>150448.942674</td>\n",
       "    </tr>\n",
       "  </tbody>\n",
       "</table>\n",
       "</div>"
      ],
      "text/plain": [
       "                    TIME  total_consumption_Pvar\n",
       "1290 2019-01-24 13:00:00           150448.942674"
      ]
     },
     "execution_count": 12,
     "metadata": {},
     "output_type": "execute_result"
    }
   ],
   "source": [
    "Variables['total_consumption_Pvar'][Variables['total_consumption_Pvar'].total_consumption_Pvar==Variables['total_consumption_Pvar']['total_consumption_Pvar'].max()]"
   ]
  },
  {
   "cell_type": "code",
   "execution_count": 13,
   "id": "dcd8f2f6",
   "metadata": {},
   "outputs": [
    {
     "data": {
      "text/plain": [
       "[8974.985765378075,\n",
       " 11252.569669328535,\n",
       " 10691.645219955992,\n",
       " 11170.426644899537,\n",
       " 13510.099229131103,\n",
       " 15473.200406998334,\n",
       " 16550.885092623164,\n",
       " 4425.99954355268,\n",
       " 5581.337750877695,\n",
       " 20919.870411678494,\n",
       " 21837.125896171616,\n",
       " 23312.874833511825,\n",
       " 28469.2682218418,\n",
       " 25998.15287218346,\n",
       " 27305.36161875611,\n",
       " 25600.720420410304,\n",
       " 20896.11392020079,\n",
       " 18139.698630793904,\n",
       " 17262.300474917676,\n",
       " 15669.700657177991,\n",
       " 15415.259850726845,\n",
       " 17359.40017950799,\n",
       " 25017.329324809274,\n",
       " 23867.510910719506]"
      ]
     },
     "execution_count": 13,
     "metadata": {},
     "output_type": "execute_result"
    }
   ],
   "source": [
    "d0=pd.Timestamp('2019-01-01 00:00:00')\n",
    "d1h=timedelta(hours=1)\n",
    "df=Variables['flex_consumption_Pvar']\n",
    "L_EV=[]\n",
    "for h in range(24):\n",
    "    L_EV.append(float(df[(df.TIME==d0+h*d1h)&(df.FLEX_CONSUM=='EV')]['flex_consumption_Pvar']))\n",
    "L_EV"
   ]
  },
  {
   "cell_type": "code",
   "execution_count": 44,
   "id": "e0838f3a",
   "metadata": {},
   "outputs": [
    {
     "data": {
      "text/plain": [
       "39.551618023149395"
      ]
     },
     "execution_count": 44,
     "metadata": {},
     "output_type": "execute_result"
    }
   ],
   "source": [
    "def Total_cost(Variables,area):\n",
    "    return 1/1e9*(Variables['powerCosts_Pvar'][Variables['powerCosts_Pvar'].AREAS==area]['powerCosts_Pvar'].sum()\\\n",
    "            +Variables['capacityCosts_Pvar'][Variables['capacityCosts_Pvar'].AREAS==area]['capacityCosts_Pvar'].sum()\\\n",
    "            +Variables['storageCosts_Pvar'][Variables['storageCosts_Pvar'].AREAS==area]['storageCosts_Pvar'].sum()\\\n",
    "            +Variables['flexCosts_Pvar'][Variables['flexCosts_Pvar'].AREAS==area]['flexCosts_Pvar'].sum())\n",
    "Total_cost(Variables,'FR')"
   ]
  },
  {
   "cell_type": "code",
   "execution_count": null,
   "id": "860e2654",
   "metadata": {},
   "outputs": [],
   "source": []
  }
 ],
 "metadata": {
  "kernelspec": {
   "display_name": "energyalternatives",
   "language": "python",
   "name": "energyalternatives"
  },
  "language_info": {
   "codemirror_mode": {
    "name": "ipython",
    "version": 3
   },
   "file_extension": ".py",
   "mimetype": "text/x-python",
   "name": "python",
   "nbconvert_exporter": "python",
   "pygments_lexer": "ipython3",
   "version": "3.10.4"
  }
 },
 "nbformat": 4,
 "nbformat_minor": 5
}
